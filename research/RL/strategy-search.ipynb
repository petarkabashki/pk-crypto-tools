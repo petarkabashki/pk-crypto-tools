{
 "cells": [
  {
   "cell_type": "markdown",
   "metadata": {
    "deletable": false,
    "editable": false,
    "nbgrader": {
     "cell_type": "markdown",
     "checksum": "9fe4bed7f12954da5406e29bacc33d29",
     "grade": false,
     "grade_id": "cell-8752ebba5eba6908",
     "locked": true,
     "schema_version": 3,
     "solution": false,
     "task": false
    }
   },
   "source": [
    "# Q-Learning and Expected Sarsa Trading Strategy Search"
   ]
  },
  {
   "cell_type": "code",
   "execution_count": 1,
   "metadata": {
    "deletable": false,
    "editable": false,
    "nbgrader": {
     "cell_type": "markdown",
     "checksum": "44ab0e3250336e81de4c25d68b362f43",
     "grade": false,
     "grade_id": "cell-bb34b78cde933a3c",
     "locked": true,
     "schema_version": 3,
     "solution": false,
     "task": false
    }
   },
   "outputs": [],
   "source": [
    "# %load_ext iminizinc\n",
    "%load_ext autoreload\n",
    "%autoreload 2\n",
    "\n",
    "from __future__ import print_function\n",
    "from ipywidgets import interact, interactive, fixed, interact_manual\n",
    "# import ipywidgets as widgets\n",
    "from ipywidgets import *\n",
    "from IPython.display import display\n",
    "import IPython\n",
    "import pandas as pd\n",
    "import matplotlib as mpl\n",
    "import matplotlib.pyplot as plt\n",
    "import matplotlib.dates as mdates\n",
    "import numpy as np\n",
    "\n",
    "from datetime import datetime\n",
    "import pandas_ta as ta\n",
    "from math import *\n",
    "from collections import OrderedDict\n",
    "import json\n",
    "from decimal import *\n",
    "getcontext().prec = 6\n",
    "import seaborn as sns\n",
    "from scipy.signal import find_peaks, peak_widths\n",
    "import pickle\n",
    "\n",
    "\n",
    "\n",
    "%matplotlib inline\n",
    "\n",
    "\n",
    "# mpl.rcParams.update({'font.size': 10, 'lines.linewidth': 0.5, 'figure.dpi': 600})\n",
    "plt.rcParams['lines.linewidth'] = 0.5 \n",
    "plt.rcParams.update({'font.size': 6})\n",
    "plt.rcParams.update({'figure.figsize': [15,5]})\n"
   ]
  },
  {
   "cell_type": "code",
   "execution_count": 2,
   "metadata": {
    "deletable": false,
    "editable": false,
    "nbgrader": {
     "cell_type": "code",
     "checksum": "a2ce19695c4ca93e0cdc6bb23fd07486",
     "grade": false,
     "grade_id": "cell-88a8c00170d9648d",
     "locked": true,
     "schema_version": 3,
     "solution": false,
     "task": false
    }
   },
   "outputs": [],
   "source": [
    "\n",
    "\n",
    "from tqdm import tqdm\n",
    "from scipy.stats import sem\n",
    "\n",
    "\n",
    "# sys.path.append(os.path.abspath('.'))\n",
    "from lib.rl_glue import RLGlue\n",
    "from lib.TradeEnvironment import TradeEnvironment\n",
    "from lib.QLearningAgent import QLearningAgent\n",
    "from lib.ExpectedSarsaAgent import ExpectedSarsaAgent\n",
    "from lib.utils import load_candles, flatten_past_n\n",
    "\n",
    "# from rl_glue import RLGlue\n",
    "# from agent import BaseAgent\n",
    "# import cliffworld_env"
   ]
  },
  {
   "cell_type": "code",
   "execution_count": 3,
   "metadata": {
    "deletable": false,
    "editable": false,
    "nbgrader": {
     "cell_type": "code",
     "checksum": "8f97fc33c742328ff58b1032dc9619ef",
     "grade": false,
     "grade_id": "cell-daf33c237c54cae3",
     "locked": true,
     "schema_version": 3,
     "solution": false,
     "task": false
    }
   },
   "outputs": [
    {
     "data": {
      "text/plain": [
       "lib.TradeEnvironment.TradeEnvironment"
      ]
     },
     "execution_count": 3,
     "metadata": {},
     "output_type": "execute_result"
    }
   ],
   "source": [
    "TradeEnvironment"
   ]
  },
  {
   "cell_type": "code",
   "execution_count": 4,
   "metadata": {},
   "outputs": [
    {
     "ename": "NameError",
     "evalue": "name 'odf' is not defined",
     "output_type": "error",
     "traceback": [
      "\u001b[0;31m---------------------------------------------------------------------------\u001b[0m",
      "\u001b[0;31mNameError\u001b[0m                                 Traceback (most recent call last)",
      "Cell \u001b[0;32mIn[4], line 3\u001b[0m\n\u001b[1;32m      1\u001b[0m wstart \u001b[39m=\u001b[39m \u001b[39m8000\u001b[39m\n\u001b[1;32m      2\u001b[0m wlen \u001b[39m=\u001b[39m \u001b[39m100\u001b[39m\n\u001b[0;32m----> 3\u001b[0m wdf \u001b[39m=\u001b[39m odf[[\u001b[39m'\u001b[39m\u001b[39mcudir\u001b[39m\u001b[39m'\u001b[39m, \u001b[39m'\u001b[39m\u001b[39mcudir_L4\u001b[39m\u001b[39m'\u001b[39m, \u001b[39m'\u001b[39m\u001b[39mcudir_L3\u001b[39m\u001b[39m'\u001b[39m, \u001b[39m'\u001b[39m\u001b[39mcudir_L2\u001b[39m\u001b[39m'\u001b[39m, \u001b[39m'\u001b[39m\u001b[39mcudir_L1\u001b[39m\u001b[39m'\u001b[39m, \u001b[39m'\u001b[39m\u001b[39mcdir\u001b[39m\u001b[39m'\u001b[39m]]\u001b[39m.\u001b[39miloc[wstart:wstart\u001b[39m+\u001b[39mwlen, :]\n\u001b[1;32m      4\u001b[0m wdf\u001b[39m.\u001b[39mcolumns\n",
      "\u001b[0;31mNameError\u001b[0m: name 'odf' is not defined"
     ]
    }
   ],
   "source": [
    "wstart = 8000\n",
    "wlen = 100\n",
    "wdf = odf[['cudir', 'cudir_L4', 'cudir_L3', 'cudir_L2', 'cudir_L1', 'cdir']].iloc[wstart:wstart+wlen, :]\n",
    "wdf.columns"
   ]
  },
  {
   "cell_type": "code",
   "execution_count": 5,
   "metadata": {},
   "outputs": [
    {
     "ename": "NameError",
     "evalue": "name 'odf' is not defined",
     "output_type": "error",
     "traceback": [
      "\u001b[0;31m---------------------------------------------------------------------------\u001b[0m",
      "\u001b[0;31mNameError\u001b[0m                                 Traceback (most recent call last)",
      "Cell \u001b[0;32mIn[5], line 1\u001b[0m\n\u001b[0;32m----> 1\u001b[0m odf\u001b[39m.\u001b[39mcudir\u001b[39m.\u001b[39mclip(\u001b[39m-\u001b[39m\u001b[39m5\u001b[39m,\u001b[39m5\u001b[39m)\n",
      "\u001b[0;31mNameError\u001b[0m: name 'odf' is not defined"
     ]
    }
   ],
   "source": [
    "odf.cudir.clip(-5,5)"
   ]
  },
  {
   "cell_type": "markdown",
   "metadata": {},
   "source": [
    "# Prepare the dataset"
   ]
  },
  {
   "cell_type": "code",
   "execution_count": 6,
   "metadata": {},
   "outputs": [
    {
     "data": {
      "text/html": [
       "<div>\n",
       "<style scoped>\n",
       "    .dataframe tbody tr th:only-of-type {\n",
       "        vertical-align: middle;\n",
       "    }\n",
       "\n",
       "    .dataframe tbody tr th {\n",
       "        vertical-align: top;\n",
       "    }\n",
       "\n",
       "    .dataframe thead th {\n",
       "        text-align: right;\n",
       "    }\n",
       "</style>\n",
       "<table border=\"1\" class=\"dataframe\">\n",
       "  <thead>\n",
       "    <tr style=\"text-align: right;\">\n",
       "      <th></th>\n",
       "      <th>timestamp</th>\n",
       "      <th>open</th>\n",
       "      <th>high</th>\n",
       "      <th>low</th>\n",
       "      <th>close</th>\n",
       "      <th>volume</th>\n",
       "      <th>cdir</th>\n",
       "      <th>grflip</th>\n",
       "      <th>cudir</th>\n",
       "    </tr>\n",
       "    <tr>\n",
       "      <th>dtime</th>\n",
       "      <th></th>\n",
       "      <th></th>\n",
       "      <th></th>\n",
       "      <th></th>\n",
       "      <th></th>\n",
       "      <th></th>\n",
       "      <th></th>\n",
       "      <th></th>\n",
       "      <th></th>\n",
       "    </tr>\n",
       "  </thead>\n",
       "  <tbody>\n",
       "    <tr>\n",
       "      <th>2017-08-17 04:00:00</th>\n",
       "      <td>1502942400000</td>\n",
       "      <td>4261.48</td>\n",
       "      <td>4313.62</td>\n",
       "      <td>4261.32</td>\n",
       "      <td>4308.83</td>\n",
       "      <td>47.181009</td>\n",
       "      <td>1</td>\n",
       "      <td>1</td>\n",
       "      <td>1</td>\n",
       "    </tr>\n",
       "    <tr>\n",
       "      <th>2017-08-17 05:00:00</th>\n",
       "      <td>1502946000000</td>\n",
       "      <td>4308.83</td>\n",
       "      <td>4328.69</td>\n",
       "      <td>4291.37</td>\n",
       "      <td>4315.32</td>\n",
       "      <td>23.234916</td>\n",
       "      <td>1</td>\n",
       "      <td>1</td>\n",
       "      <td>2</td>\n",
       "    </tr>\n",
       "    <tr>\n",
       "      <th>2017-08-17 06:00:00</th>\n",
       "      <td>1502949600000</td>\n",
       "      <td>4330.29</td>\n",
       "      <td>4345.45</td>\n",
       "      <td>4309.37</td>\n",
       "      <td>4324.35</td>\n",
       "      <td>7.229691</td>\n",
       "      <td>-1</td>\n",
       "      <td>2</td>\n",
       "      <td>-1</td>\n",
       "    </tr>\n",
       "    <tr>\n",
       "      <th>2017-08-17 07:00:00</th>\n",
       "      <td>1502953200000</td>\n",
       "      <td>4316.62</td>\n",
       "      <td>4349.99</td>\n",
       "      <td>4287.41</td>\n",
       "      <td>4349.99</td>\n",
       "      <td>4.443249</td>\n",
       "      <td>1</td>\n",
       "      <td>3</td>\n",
       "      <td>1</td>\n",
       "    </tr>\n",
       "    <tr>\n",
       "      <th>2017-08-17 08:00:00</th>\n",
       "      <td>1502956800000</td>\n",
       "      <td>4333.32</td>\n",
       "      <td>4377.85</td>\n",
       "      <td>4333.32</td>\n",
       "      <td>4360.69</td>\n",
       "      <td>0.972807</td>\n",
       "      <td>1</td>\n",
       "      <td>3</td>\n",
       "      <td>2</td>\n",
       "    </tr>\n",
       "    <tr>\n",
       "      <th>...</th>\n",
       "      <td>...</td>\n",
       "      <td>...</td>\n",
       "      <td>...</td>\n",
       "      <td>...</td>\n",
       "      <td>...</td>\n",
       "      <td>...</td>\n",
       "      <td>...</td>\n",
       "      <td>...</td>\n",
       "      <td>...</td>\n",
       "    </tr>\n",
       "    <tr>\n",
       "      <th>2023-07-16 19:00:00</th>\n",
       "      <td>1689534000000</td>\n",
       "      <td>30276.87</td>\n",
       "      <td>30298.71</td>\n",
       "      <td>30200.43</td>\n",
       "      <td>30252.93</td>\n",
       "      <td>632.928300</td>\n",
       "      <td>-1</td>\n",
       "      <td>27916</td>\n",
       "      <td>-2</td>\n",
       "    </tr>\n",
       "    <tr>\n",
       "      <th>2023-07-16 20:00:00</th>\n",
       "      <td>1689537600000</td>\n",
       "      <td>30252.94</td>\n",
       "      <td>30296.84</td>\n",
       "      <td>30236.00</td>\n",
       "      <td>30271.64</td>\n",
       "      <td>390.372500</td>\n",
       "      <td>1</td>\n",
       "      <td>27917</td>\n",
       "      <td>1</td>\n",
       "    </tr>\n",
       "    <tr>\n",
       "      <th>2023-07-16 21:00:00</th>\n",
       "      <td>1689541200000</td>\n",
       "      <td>30271.64</td>\n",
       "      <td>30314.48</td>\n",
       "      <td>30271.64</td>\n",
       "      <td>30292.65</td>\n",
       "      <td>302.906520</td>\n",
       "      <td>1</td>\n",
       "      <td>27917</td>\n",
       "      <td>2</td>\n",
       "    </tr>\n",
       "    <tr>\n",
       "      <th>2023-07-16 22:00:00</th>\n",
       "      <td>1689544800000</td>\n",
       "      <td>30292.66</td>\n",
       "      <td>30361.00</td>\n",
       "      <td>30263.33</td>\n",
       "      <td>30321.03</td>\n",
       "      <td>570.791470</td>\n",
       "      <td>1</td>\n",
       "      <td>27917</td>\n",
       "      <td>3</td>\n",
       "    </tr>\n",
       "    <tr>\n",
       "      <th>2023-07-16 23:00:00</th>\n",
       "      <td>1689548400000</td>\n",
       "      <td>30321.02</td>\n",
       "      <td>30332.00</td>\n",
       "      <td>30122.95</td>\n",
       "      <td>30231.99</td>\n",
       "      <td>1117.862380</td>\n",
       "      <td>-1</td>\n",
       "      <td>27918</td>\n",
       "      <td>-1</td>\n",
       "    </tr>\n",
       "  </tbody>\n",
       "</table>\n",
       "<p>51708 rows × 9 columns</p>\n",
       "</div>"
      ],
      "text/plain": [
       "                         timestamp      open      high       low     close  \\\n",
       "dtime                                                                        \n",
       "2017-08-17 04:00:00  1502942400000   4261.48   4313.62   4261.32   4308.83   \n",
       "2017-08-17 05:00:00  1502946000000   4308.83   4328.69   4291.37   4315.32   \n",
       "2017-08-17 06:00:00  1502949600000   4330.29   4345.45   4309.37   4324.35   \n",
       "2017-08-17 07:00:00  1502953200000   4316.62   4349.99   4287.41   4349.99   \n",
       "2017-08-17 08:00:00  1502956800000   4333.32   4377.85   4333.32   4360.69   \n",
       "...                            ...       ...       ...       ...       ...   \n",
       "2023-07-16 19:00:00  1689534000000  30276.87  30298.71  30200.43  30252.93   \n",
       "2023-07-16 20:00:00  1689537600000  30252.94  30296.84  30236.00  30271.64   \n",
       "2023-07-16 21:00:00  1689541200000  30271.64  30314.48  30271.64  30292.65   \n",
       "2023-07-16 22:00:00  1689544800000  30292.66  30361.00  30263.33  30321.03   \n",
       "2023-07-16 23:00:00  1689548400000  30321.02  30332.00  30122.95  30231.99   \n",
       "\n",
       "                          volume  cdir  grflip  cudir  \n",
       "dtime                                                  \n",
       "2017-08-17 04:00:00    47.181009     1       1      1  \n",
       "2017-08-17 05:00:00    23.234916     1       1      2  \n",
       "2017-08-17 06:00:00     7.229691    -1       2     -1  \n",
       "2017-08-17 07:00:00     4.443249     1       3      1  \n",
       "2017-08-17 08:00:00     0.972807     1       3      2  \n",
       "...                          ...   ...     ...    ...  \n",
       "2023-07-16 19:00:00   632.928300    -1   27916     -2  \n",
       "2023-07-16 20:00:00   390.372500     1   27917      1  \n",
       "2023-07-16 21:00:00   302.906520     1   27917      2  \n",
       "2023-07-16 22:00:00   570.791470     1   27917      3  \n",
       "2023-07-16 23:00:00  1117.862380    -1   27918     -1  \n",
       "\n",
       "[51708 rows x 9 columns]"
      ]
     },
     "execution_count": 6,
     "metadata": {},
     "output_type": "execute_result"
    }
   ],
   "source": [
    "pair = 'BTC_USDT'\n",
    "timeframe = '1h'\n",
    "\n",
    "exchange = 'binance'\n",
    "odf = load_candles(exchange=exchange, pair=pair, timeframe=timeframe)\n",
    "\n",
    "odf['cdir'] = -1 + 2 *(odf.close > odf.open)\n",
    "odf['grflip'] = (odf.cdir != odf.cdir.shift()).fillna(0).cumsum()\n",
    "odf['cudir'] = odf[['cdir', 'grflip']].groupby('grflip')[['cdir']].cumsum().clip(-5,5)\n",
    "# odf['ncudir'] = odf.cudir.add(5).subtract(odf.cudir > 0)\n",
    "odf\n"
   ]
  },
  {
   "cell_type": "markdown",
   "metadata": {},
   "source": [
    "# Feature states and rewards"
   ]
  },
  {
   "cell_type": "code",
   "execution_count": 7,
   "metadata": {},
   "outputs": [],
   "source": [
    "# odf.head(1000).cudir.unique()"
   ]
  },
  {
   "cell_type": "code",
   "execution_count": null,
   "metadata": {},
   "outputs": [],
   "source": []
  },
  {
   "cell_type": "code",
   "execution_count": 8,
   "metadata": {},
   "outputs": [
    {
     "data": {
      "text/plain": [
       "cudir    10\n",
       "dtype: int64"
      ]
     },
     "execution_count": 8,
     "metadata": {},
     "output_type": "execute_result"
    }
   ],
   "source": [
    "# odf = odf.head(1000)\n",
    "num_lags = 4\n",
    "# odf = odf.join(flatten_past_n(odf[['ncudir']], num_lags).astype(int)).dropna()\n",
    "# odf['cudir_L1'] = odf['cudir'].shift().fillna(0).astype(int)\n",
    "features = ['cudir']\n",
    "\n",
    "cat_features = odf[features].astype('category')\n",
    "cat_feature_codes = cat_features.apply(lambda x: x.cat.codes)\n",
    "cat_feature_counts = cat_features.dtypes.apply(lambda x: x.categories.shape[0])\n",
    "cat_feature_counts\n"
   ]
  },
  {
   "cell_type": "code",
   "execution_count": 9,
   "metadata": {},
   "outputs": [],
   "source": [
    "# cat_feature_codes.cudir.unique()"
   ]
  },
  {
   "cell_type": "code",
   "execution_count": 10,
   "metadata": {},
   "outputs": [],
   "source": [
    "from sklearn import preprocessing\n",
    "le = preprocessing.LabelEncoder()\n",
    "\n",
    "state_features_specs = [('cudir', 1), ('cudir', 3), ('cudir', 5), ('cudir',7)]\n",
    "\n",
    "# lagged_feature_codes = pd.concat({\n",
    "#     k:v\n",
    "#     for i, (feature, lag) in enumerate(lagged_features_specs)\n",
    "#     for k in [f'{i}__{feature}_LAG_{lag}']\n",
    "#     for v in [cat_feature_codes[feature].shift(lag)]\n",
    "# }, axis=1).dropna().astype(int)#.values\n",
    "\n",
    "# lagged_feature_codes.agg(lambda x:  print(x.values), axis=1)\n",
    "\n",
    "state_features = pd.concat({\n",
    "    k:v\n",
    "    for i, (feature, lag) in enumerate(state_features_specs)\n",
    "    for k in [f'{feature}_LAG_{lag}']\n",
    "    for v in [cat_features[feature].shift(lag)]\n",
    "}, axis=1).dropna().astype(int)#.values\n",
    "\n",
    "\n",
    "state_features['feat_cat'] = state_features.agg(lambda x:  np.array2string(x.values, separator=',', formatter={'int_kind': lambda x: \"{:>+}\".format(x)}), axis=1)\n",
    "\n",
    "le.fit(state_features['feat_cat'])\n",
    "state_features['state_no'] = le.transform(state_features['feat_cat'].values).astype(int)\n",
    "state_features\n",
    "odf = odf.join(state_features).dropna()\n",
    "# odf"
   ]
  },
  {
   "cell_type": "code",
   "execution_count": 11,
   "metadata": {},
   "outputs": [
    {
     "data": {
      "text/html": [
       "<div>\n",
       "<style scoped>\n",
       "    .dataframe tbody tr th:only-of-type {\n",
       "        vertical-align: middle;\n",
       "    }\n",
       "\n",
       "    .dataframe tbody tr th {\n",
       "        vertical-align: top;\n",
       "    }\n",
       "\n",
       "    .dataframe thead th {\n",
       "        text-align: right;\n",
       "    }\n",
       "</style>\n",
       "<table border=\"1\" class=\"dataframe\">\n",
       "  <thead>\n",
       "    <tr style=\"text-align: right;\">\n",
       "      <th></th>\n",
       "      <th>timestamp</th>\n",
       "      <th>open</th>\n",
       "      <th>high</th>\n",
       "      <th>low</th>\n",
       "      <th>close</th>\n",
       "      <th>volume</th>\n",
       "      <th>cdir</th>\n",
       "      <th>grflip</th>\n",
       "      <th>cudir</th>\n",
       "      <th>cudir_LAG_1</th>\n",
       "      <th>cudir_LAG_3</th>\n",
       "      <th>cudir_LAG_5</th>\n",
       "      <th>cudir_LAG_7</th>\n",
       "      <th>feat_cat</th>\n",
       "      <th>state_no</th>\n",
       "    </tr>\n",
       "    <tr>\n",
       "      <th>dtime</th>\n",
       "      <th></th>\n",
       "      <th></th>\n",
       "      <th></th>\n",
       "      <th></th>\n",
       "      <th></th>\n",
       "      <th></th>\n",
       "      <th></th>\n",
       "      <th></th>\n",
       "      <th></th>\n",
       "      <th></th>\n",
       "      <th></th>\n",
       "      <th></th>\n",
       "      <th></th>\n",
       "      <th></th>\n",
       "      <th></th>\n",
       "    </tr>\n",
       "  </thead>\n",
       "  <tbody>\n",
       "    <tr>\n",
       "      <th>2017-08-17 11:00:00</th>\n",
       "      <td>1502967600000</td>\n",
       "      <td>4460.00</td>\n",
       "      <td>4485.39</td>\n",
       "      <td>4427.30</td>\n",
       "      <td>4427.30</td>\n",
       "      <td>27.018053</td>\n",
       "      <td>-1</td>\n",
       "      <td>4</td>\n",
       "      <td>-1</td>\n",
       "      <td>4.0</td>\n",
       "      <td>2.0</td>\n",
       "      <td>-1.0</td>\n",
       "      <td>1.0</td>\n",
       "      <td>[+4,+2,-1,+1]</td>\n",
       "      <td>280.0</td>\n",
       "    </tr>\n",
       "    <tr>\n",
       "      <th>2017-08-17 12:00:00</th>\n",
       "      <td>1502971200000</td>\n",
       "      <td>4436.06</td>\n",
       "      <td>4449.56</td>\n",
       "      <td>4411.00</td>\n",
       "      <td>4411.00</td>\n",
       "      <td>23.032398</td>\n",
       "      <td>-1</td>\n",
       "      <td>4</td>\n",
       "      <td>-2</td>\n",
       "      <td>-1.0</td>\n",
       "      <td>3.0</td>\n",
       "      <td>1.0</td>\n",
       "      <td>2.0</td>\n",
       "      <td>[-1,+3,+1,+2]</td>\n",
       "      <td>381.0</td>\n",
       "    </tr>\n",
       "    <tr>\n",
       "      <th>2017-08-17 13:00:00</th>\n",
       "      <td>1502974800000</td>\n",
       "      <td>4411.00</td>\n",
       "      <td>4459.00</td>\n",
       "      <td>4411.00</td>\n",
       "      <td>4459.00</td>\n",
       "      <td>31.312436</td>\n",
       "      <td>1</td>\n",
       "      <td>5</td>\n",
       "      <td>1</td>\n",
       "      <td>-2.0</td>\n",
       "      <td>4.0</td>\n",
       "      <td>2.0</td>\n",
       "      <td>-1.0</td>\n",
       "      <td>[-2,+4,+2,-1]</td>\n",
       "      <td>550.0</td>\n",
       "    </tr>\n",
       "    <tr>\n",
       "      <th>2017-08-17 14:00:00</th>\n",
       "      <td>1502978400000</td>\n",
       "      <td>4459.00</td>\n",
       "      <td>4485.39</td>\n",
       "      <td>4435.93</td>\n",
       "      <td>4470.82</td>\n",
       "      <td>51.735897</td>\n",
       "      <td>1</td>\n",
       "      <td>5</td>\n",
       "      <td>2</td>\n",
       "      <td>1.0</td>\n",
       "      <td>-1.0</td>\n",
       "      <td>3.0</td>\n",
       "      <td>1.0</td>\n",
       "      <td>[+1,-1,+3,+1]</td>\n",
       "      <td>95.0</td>\n",
       "    </tr>\n",
       "    <tr>\n",
       "      <th>2017-08-17 15:00:00</th>\n",
       "      <td>1502982000000</td>\n",
       "      <td>4470.82</td>\n",
       "      <td>4470.82</td>\n",
       "      <td>4333.42</td>\n",
       "      <td>4352.34</td>\n",
       "      <td>68.481270</td>\n",
       "      <td>-1</td>\n",
       "      <td>6</td>\n",
       "      <td>-1</td>\n",
       "      <td>2.0</td>\n",
       "      <td>-2.0</td>\n",
       "      <td>4.0</td>\n",
       "      <td>2.0</td>\n",
       "      <td>[+2,-2,+4,+2]</td>\n",
       "      <td>216.0</td>\n",
       "    </tr>\n",
       "    <tr>\n",
       "      <th>...</th>\n",
       "      <td>...</td>\n",
       "      <td>...</td>\n",
       "      <td>...</td>\n",
       "      <td>...</td>\n",
       "      <td>...</td>\n",
       "      <td>...</td>\n",
       "      <td>...</td>\n",
       "      <td>...</td>\n",
       "      <td>...</td>\n",
       "      <td>...</td>\n",
       "      <td>...</td>\n",
       "      <td>...</td>\n",
       "      <td>...</td>\n",
       "      <td>...</td>\n",
       "      <td>...</td>\n",
       "    </tr>\n",
       "    <tr>\n",
       "      <th>2023-07-16 19:00:00</th>\n",
       "      <td>1689534000000</td>\n",
       "      <td>30276.87</td>\n",
       "      <td>30298.71</td>\n",
       "      <td>30200.43</td>\n",
       "      <td>30252.93</td>\n",
       "      <td>632.928300</td>\n",
       "      <td>-1</td>\n",
       "      <td>27916</td>\n",
       "      <td>-2</td>\n",
       "      <td>-1.0</td>\n",
       "      <td>-2.0</td>\n",
       "      <td>2.0</td>\n",
       "      <td>-1.0</td>\n",
       "      <td>[-1,-2,+2,-1]</td>\n",
       "      <td>450.0</td>\n",
       "    </tr>\n",
       "    <tr>\n",
       "      <th>2023-07-16 20:00:00</th>\n",
       "      <td>1689537600000</td>\n",
       "      <td>30252.94</td>\n",
       "      <td>30296.84</td>\n",
       "      <td>30236.00</td>\n",
       "      <td>30271.64</td>\n",
       "      <td>390.372500</td>\n",
       "      <td>1</td>\n",
       "      <td>27917</td>\n",
       "      <td>1</td>\n",
       "      <td>-2.0</td>\n",
       "      <td>1.0</td>\n",
       "      <td>-1.0</td>\n",
       "      <td>1.0</td>\n",
       "      <td>[-2,+1,-1,+1]</td>\n",
       "      <td>500.0</td>\n",
       "    </tr>\n",
       "    <tr>\n",
       "      <th>2023-07-16 21:00:00</th>\n",
       "      <td>1689541200000</td>\n",
       "      <td>30271.64</td>\n",
       "      <td>30314.48</td>\n",
       "      <td>30271.64</td>\n",
       "      <td>30292.65</td>\n",
       "      <td>302.906520</td>\n",
       "      <td>1</td>\n",
       "      <td>27917</td>\n",
       "      <td>2</td>\n",
       "      <td>1.0</td>\n",
       "      <td>-1.0</td>\n",
       "      <td>-2.0</td>\n",
       "      <td>2.0</td>\n",
       "      <td>[+1,-1,-2,+2]</td>\n",
       "      <td>111.0</td>\n",
       "    </tr>\n",
       "    <tr>\n",
       "      <th>2023-07-16 22:00:00</th>\n",
       "      <td>1689544800000</td>\n",
       "      <td>30292.66</td>\n",
       "      <td>30361.00</td>\n",
       "      <td>30263.33</td>\n",
       "      <td>30321.03</td>\n",
       "      <td>570.791470</td>\n",
       "      <td>1</td>\n",
       "      <td>27917</td>\n",
       "      <td>3</td>\n",
       "      <td>2.0</td>\n",
       "      <td>-2.0</td>\n",
       "      <td>1.0</td>\n",
       "      <td>-1.0</td>\n",
       "      <td>[+2,-2,+1,-1]</td>\n",
       "      <td>205.0</td>\n",
       "    </tr>\n",
       "    <tr>\n",
       "      <th>2023-07-16 23:00:00</th>\n",
       "      <td>1689548400000</td>\n",
       "      <td>30321.02</td>\n",
       "      <td>30332.00</td>\n",
       "      <td>30122.95</td>\n",
       "      <td>30231.99</td>\n",
       "      <td>1117.862380</td>\n",
       "      <td>-1</td>\n",
       "      <td>27918</td>\n",
       "      <td>-1</td>\n",
       "      <td>3.0</td>\n",
       "      <td>1.0</td>\n",
       "      <td>-1.0</td>\n",
       "      <td>-2.0</td>\n",
       "      <td>[+3,+1,-1,-2]</td>\n",
       "      <td>266.0</td>\n",
       "    </tr>\n",
       "  </tbody>\n",
       "</table>\n",
       "<p>51701 rows × 15 columns</p>\n",
       "</div>"
      ],
      "text/plain": [
       "                         timestamp      open      high       low     close  \\\n",
       "dtime                                                                        \n",
       "2017-08-17 11:00:00  1502967600000   4460.00   4485.39   4427.30   4427.30   \n",
       "2017-08-17 12:00:00  1502971200000   4436.06   4449.56   4411.00   4411.00   \n",
       "2017-08-17 13:00:00  1502974800000   4411.00   4459.00   4411.00   4459.00   \n",
       "2017-08-17 14:00:00  1502978400000   4459.00   4485.39   4435.93   4470.82   \n",
       "2017-08-17 15:00:00  1502982000000   4470.82   4470.82   4333.42   4352.34   \n",
       "...                            ...       ...       ...       ...       ...   \n",
       "2023-07-16 19:00:00  1689534000000  30276.87  30298.71  30200.43  30252.93   \n",
       "2023-07-16 20:00:00  1689537600000  30252.94  30296.84  30236.00  30271.64   \n",
       "2023-07-16 21:00:00  1689541200000  30271.64  30314.48  30271.64  30292.65   \n",
       "2023-07-16 22:00:00  1689544800000  30292.66  30361.00  30263.33  30321.03   \n",
       "2023-07-16 23:00:00  1689548400000  30321.02  30332.00  30122.95  30231.99   \n",
       "\n",
       "                          volume  cdir  grflip  cudir  cudir_LAG_1  \\\n",
       "dtime                                                                \n",
       "2017-08-17 11:00:00    27.018053    -1       4     -1          4.0   \n",
       "2017-08-17 12:00:00    23.032398    -1       4     -2         -1.0   \n",
       "2017-08-17 13:00:00    31.312436     1       5      1         -2.0   \n",
       "2017-08-17 14:00:00    51.735897     1       5      2          1.0   \n",
       "2017-08-17 15:00:00    68.481270    -1       6     -1          2.0   \n",
       "...                          ...   ...     ...    ...          ...   \n",
       "2023-07-16 19:00:00   632.928300    -1   27916     -2         -1.0   \n",
       "2023-07-16 20:00:00   390.372500     1   27917      1         -2.0   \n",
       "2023-07-16 21:00:00   302.906520     1   27917      2          1.0   \n",
       "2023-07-16 22:00:00   570.791470     1   27917      3          2.0   \n",
       "2023-07-16 23:00:00  1117.862380    -1   27918     -1          3.0   \n",
       "\n",
       "                     cudir_LAG_3  cudir_LAG_5  cudir_LAG_7       feat_cat  \\\n",
       "dtime                                                                       \n",
       "2017-08-17 11:00:00          2.0         -1.0          1.0  [+4,+2,-1,+1]   \n",
       "2017-08-17 12:00:00          3.0          1.0          2.0  [-1,+3,+1,+2]   \n",
       "2017-08-17 13:00:00          4.0          2.0         -1.0  [-2,+4,+2,-1]   \n",
       "2017-08-17 14:00:00         -1.0          3.0          1.0  [+1,-1,+3,+1]   \n",
       "2017-08-17 15:00:00         -2.0          4.0          2.0  [+2,-2,+4,+2]   \n",
       "...                          ...          ...          ...            ...   \n",
       "2023-07-16 19:00:00         -2.0          2.0         -1.0  [-1,-2,+2,-1]   \n",
       "2023-07-16 20:00:00          1.0         -1.0          1.0  [-2,+1,-1,+1]   \n",
       "2023-07-16 21:00:00         -1.0         -2.0          2.0  [+1,-1,-2,+2]   \n",
       "2023-07-16 22:00:00         -2.0          1.0         -1.0  [+2,-2,+1,-1]   \n",
       "2023-07-16 23:00:00          1.0         -1.0         -2.0  [+3,+1,-1,-2]   \n",
       "\n",
       "                     state_no  \n",
       "dtime                          \n",
       "2017-08-17 11:00:00     280.0  \n",
       "2017-08-17 12:00:00     381.0  \n",
       "2017-08-17 13:00:00     550.0  \n",
       "2017-08-17 14:00:00      95.0  \n",
       "2017-08-17 15:00:00     216.0  \n",
       "...                       ...  \n",
       "2023-07-16 19:00:00     450.0  \n",
       "2023-07-16 20:00:00     500.0  \n",
       "2023-07-16 21:00:00     111.0  \n",
       "2023-07-16 22:00:00     205.0  \n",
       "2023-07-16 23:00:00     266.0  \n",
       "\n",
       "[51701 rows x 15 columns]"
      ]
     },
     "execution_count": 11,
     "metadata": {},
     "output_type": "execute_result"
    }
   ],
   "source": [
    "# state_features\n",
    "odf"
   ]
  },
  {
   "cell_type": "code",
   "execution_count": 12,
   "metadata": {},
   "outputs": [
    {
     "data": {
      "text/plain": [
       "((25849, 15), (25851, 15))"
      ]
     },
     "execution_count": 12,
     "metadata": {},
     "output_type": "execute_result"
    }
   ],
   "source": [
    "\n",
    "test_ratio = 0.5\n",
    "\n",
    "n_test = int(odf.shape[0] * (1.-test_ratio))\n",
    "\n",
    "df_train = odf.iloc[:n_test-1, :]\n",
    "df_test = odf.iloc[n_test:,:]\n",
    "\n",
    "df_train.shape, df_test.shape"
   ]
  },
  {
   "cell_type": "code",
   "execution_count": 13,
   "metadata": {},
   "outputs": [
    {
     "data": {
      "image/png": "[encoded data removed]",
      "text/plain": [
       "<Figure size 1500x500 with 2 Axes>"
      ]
     },
     "metadata": {},
     "output_type": "display_data"
    }
   ],
   "source": [
    "wstart = 8000\n",
    "wlen = 100\n",
    "wdf = odf.iloc[wstart:wstart+wlen, :]\n",
    "# fig, ax1 = plt.subplots(1,1, figsize=(15,5), height_ratios=(2,1), sharex=True)\n",
    "ax1 = wdf.close.plot(figsize=(15,5))\n",
    "wdf.cudir.plot(ax=ax1, secondary_y=True)\n",
    "# tax1 = ax1.twinx()\n",
    "# ax2.step(x=wdf.index.values, y=wdf.cudir.values, c='orange', lw=1)\n",
    "# ax2.plot(wdf.cudir.values)\n",
    "ax1.grid()"
   ]
  },
  {
   "cell_type": "code",
   "execution_count": 14,
   "metadata": {},
   "outputs": [
    {
     "data": {
      "text/plain": [
       "array([4, 3, 5, 6, 2, 7, 1, 8, 9, 0])"
      ]
     },
     "execution_count": 14,
     "metadata": {},
     "output_type": "execute_result"
    }
   ],
   "source": [
    "odf.cudir.add(5).subtract(odf.cudir > 0).unique()"
   ]
  },
  {
   "cell_type": "markdown",
   "metadata": {
    "deletable": false,
    "editable": false,
    "nbgrader": {
     "cell_type": "markdown",
     "checksum": "b55b73e6a8e7ee95224a5b1572aa6ba6",
     "grade": false,
     "grade_id": "cell-c582b1d9992dd87e",
     "locked": true,
     "schema_version": 3,
     "solution": false,
     "task": false
    }
   },
   "source": [
    "# Solving the Trading Strategy"
   ]
  },
  {
   "cell_type": "markdown",
   "metadata": {
    "deletable": false,
    "editable": false,
    "nbgrader": {
     "cell_type": "markdown",
     "checksum": "65c49e8f941c330ccff93828af1c793c",
     "grade": false,
     "grade_id": "cell-d1ad89230d22866e",
     "locked": true,
     "schema_version": 3,
     "solution": false,
     "task": false
    }
   },
   "source": [
    "Using the experiment program in the cell below we now compare the agents on the Cliff World environment and plot the sum of rewards during each episode for the two agents.\n",
    "\n",
    "The result of this cell will be graded. If you make any changes to your algorithms, you have to run this cell again before submitting the assignment."
   ]
  },
  {
   "cell_type": "code",
   "execution_count": 15,
   "metadata": {},
   "outputs": [],
   "source": [
    "# wstart = 9000\n",
    "# wlen = 6 * 3 #7 * 2\n",
    "# wnum = odf.shape[0] // wlen\n",
    "# wdf = odf.iloc[wstart:wstart+wlen, :]\n",
    "# obs_states = wdf[['ncudir_L4', 'ncudir_L3', 'ncudir_L2', 'ncudir_L1']].astype(int)\n",
    "# hidden_states = wdf[['cdir']]"
   ]
  },
  {
   "cell_type": "code",
   "execution_count": 16,
   "metadata": {},
   "outputs": [],
   "source": [
    "\n",
    "# num_episodes = 10 # The number of episodes in each run\n",
    "\n",
    "def get_episodes(odf, wlen, size ):\n",
    "# wlen = 6 * 3 #7 * 2\n",
    "    wnum = odf.shape[0] // wlen\n",
    "    nepisodes = 20\n",
    "    episode_starts = np.random.randint(wnum, size=size).tolist()\n",
    "    episodes = [\n",
    "        odf.iloc[start:start + wlen]\n",
    "        for start in episode_starts\n",
    "    ]\n",
    "    return episodes\n",
    "# obs_states"
   ]
  },
  {
   "cell_type": "code",
   "execution_count": null,
   "metadata": {},
   "outputs": [],
   "source": []
  },
  {
   "cell_type": "code",
   "execution_count": 19,
   "metadata": {
    "deletable": false,
    "editable": false,
    "nbgrader": {
     "cell_type": "code",
     "checksum": "1860389f9ea51bb49f21a170dd60311c",
     "grade": false,
     "grade_id": "cell-def1e29f8484e2bb",
     "locked": true,
     "schema_version": 3,
     "solution": false,
     "task": false
    }
   },
   "outputs": [
    {
     "ename": "TypeError",
     "evalue": "super(type, obj): obj must be an instance or subtype of type",
     "output_type": "error",
     "traceback": [
      "\u001b[0;31m---------------------------------------------------------------------------\u001b[0m",
      "\u001b[0;31mTypeError\u001b[0m                                 Traceback (most recent call last)",
      "Cell \u001b[0;32mIn[19], line 8\u001b[0m\n\u001b[1;32m      4\u001b[0m get_ipython()\u001b[39m.\u001b[39mrun_line_magic(\u001b[39m'\u001b[39m\u001b[39mautoreload\u001b[39m\u001b[39m'\u001b[39m, \u001b[39m'\u001b[39m\u001b[39m2\u001b[39m\u001b[39m'\u001b[39m)\n\u001b[1;32m      5\u001b[0m np\u001b[39m.\u001b[39mrandom\u001b[39m.\u001b[39mseed(\u001b[39m0\u001b[39m)\n\u001b[1;32m      7\u001b[0m agents \u001b[39m=\u001b[39m {\n\u001b[0;32m----> 8\u001b[0m     \u001b[39m\"\u001b[39m\u001b[39mQ-learning\u001b[39m\u001b[39m\"\u001b[39m: QLearningAgent(),\n\u001b[1;32m      9\u001b[0m     \u001b[39m\"\u001b[39m\u001b[39mExpected Sarsa\u001b[39m\u001b[39m\"\u001b[39m: ExpectedSarsaAgent()\n\u001b[1;32m     10\u001b[0m }\n\u001b[1;32m     11\u001b[0m num_actions \u001b[39m=\u001b[39m \u001b[39m3\u001b[39m\n\u001b[1;32m     12\u001b[0m num_states \u001b[39m=\u001b[39m le\u001b[39m.\u001b[39mclasses_\u001b[39m.\u001b[39mshape[\u001b[39m0\u001b[39m]\n",
      "File \u001b[0;32m/media/grenada/Data/work/pk-crypto-tools/research/RL/lib/QLearningAgent.py:11\u001b[0m, in \u001b[0;36mQLearningAgent.__init__\u001b[0;34m(self)\u001b[0m\n\u001b[1;32m     10\u001b[0m \u001b[39mdef\u001b[39;00m \u001b[39m__init__\u001b[39m(\u001b[39mself\u001b[39m):\n\u001b[0;32m---> 11\u001b[0m     \u001b[39msuper\u001b[39;49m()\u001b[39m.\u001b[39m\u001b[39m__init__\u001b[39m(\u001b[39mself\u001b[39m)\n",
      "\u001b[0;31mTypeError\u001b[0m: super(type, obj): obj must be an instance or subtype of type"
     ]
    }
   ],
   "source": [
    "# ---------------\n",
    "# Discussion Cell\n",
    "# ---------------\n",
    "%autoreload 2\n",
    "np.random.seed(0)\n",
    "\n",
    "agents = {\n",
    "    \"Q-learning\": QLearningAgent,\n",
    "    \"Expected Sarsa\": ExpectedSarsaAgent\n",
    "}\n",
    "num_actions = 3\n",
    "num_states = le.classes_.shape[0]\n",
    "env = TradeEnvironment\n",
    "all_reward_sums = {} # Contains sum of rewards during episode\n",
    "all_state_visits = {} # Contains state visit counts during the last 10 episodes\n",
    "agent_info = {\"num_actions\": num_actions, \"num_states\": num_states , \"is_training__\": True, \"epsilon\": 0.1, \"step_size\": 0.5, \"discount\": 1.0}\n",
    "env_info = {\n",
    "    # 'obs_states': obs_states,\n",
    "    # 'hidden_states':  hidden_states\n",
    "}\n",
    "num_runs = 10 # The number of runs\n",
    "num_episodes = 50 # The number of episodes in each run\n",
    "\n",
    "\n",
    "for algorithm in [\"Q-learning\", \"Expected Sarsa\"]:\n",
    "    all_reward_sums[algorithm] = []\n",
    "    all_state_visits[algorithm] = []\n",
    "    for run in tqdm(range(num_runs)):\n",
    "        \n",
    "        df_episodes = get_episodes(df_train, 24 * 3 , size=num_episodes)\n",
    "\n",
    "        agent_info[\"seed\"] = run\n",
    "        rl_glue = RLGlue(env, agents[algorithm])\n",
    "        rl_glue.rl_init(agent_info, {**env_info})\n",
    "\n",
    "        reward_sums = []\n",
    "        state_visits = np.zeros(num_states)\n",
    "        for episode in range(num_episodes):\n",
    "            wdf = df_episodes[episode]\n",
    "            obs_states = wdf.state_no.astype(int)\n",
    "            hidden_states = wdf\n",
    "            env_start_info={'obs_states': obs_states, 'hidden_states': hidden_states}\n",
    "\n",
    "\n",
    "            if episode < num_episodes - 10:\n",
    "                # Runs an episode\n",
    "                rl_glue.rl_episode(10000, env_start_info=env_start_info) \n",
    "            else: \n",
    "                # Runs an episode while keeping track of visited states\n",
    "                state, action = rl_glue.rl_start(env_start_info=env_start_info)\n",
    "                # print('state, action:', state, action)\n",
    "                state_visits[state] += 1\n",
    "                is_terminal = False\n",
    "                while not is_terminal:\n",
    "                    reward, state, action, is_terminal = rl_glue.rl_step()\n",
    "                    # print('reward, state, action, is_terminal:', reward, state, action, is_terminal)\n",
    "                    state_visits[state] += 1\n",
    "                \n",
    "            reward_sums.append(rl_glue.rl_return())\n",
    "            \n",
    "        all_reward_sums[algorithm].append(reward_sums)\n",
    "        all_state_visits[algorithm].append(state_visits)\n",
    "\n",
    "# plot results\n",
    "for algorithm in [\"Q-learning\", \"Expected Sarsa\"]:\n",
    "    plt.plot(np.mean(all_reward_sums[algorithm], axis=0), label=algorithm)\n",
    "plt.xlabel(\"Episodes\")\n",
    "plt.ylabel(\"Episode log returns\",rotation=0, labelpad=40)\n",
    "# plt.ylim(-20,20)\n",
    "plt.legend()\n",
    "plt.grid()\n",
    "plt.show()"
   ]
  },
  {
   "cell_type": "markdown",
   "metadata": {
    "deletable": false,
    "editable": false,
    "nbgrader": {
     "cell_type": "markdown",
     "checksum": "f3b4de11b2d4e06f10407aaa78f2cc76",
     "grade": false,
     "grade_id": "cell-960b5d01e8ee581e",
     "locked": true,
     "schema_version": 3,
     "solution": false,
     "task": false
    }
   },
   "source": [
    "To see why these two agents behave differently, let's inspect the states they visit most. Run the cell below to generate plots showing the number of timesteps that the agents spent in each state over the last 10 episodes."
   ]
  },
  {
   "cell_type": "code",
   "execution_count": 30,
   "metadata": {},
   "outputs": [
    {
     "ename": "TypeError",
     "evalue": "SampleBaseAgent.get_q() missing 1 required positional argument: 'self'",
     "output_type": "error",
     "traceback": [
      "\u001b[0;31m---------------------------------------------------------------------------\u001b[0m",
      "\u001b[0;31mTypeError\u001b[0m                                 Traceback (most recent call last)",
      "Cell \u001b[0;32mIn[30], line 2\u001b[0m\n\u001b[1;32m      1\u001b[0m qagent \u001b[39m=\u001b[39m agents[\u001b[39m'\u001b[39m\u001b[39mQ-learning\u001b[39m\u001b[39m'\u001b[39m]\n\u001b[0;32m----> 2\u001b[0m \u001b[39mprint\u001b[39m(qagent\u001b[39m.\u001b[39;49mget_q())\n",
      "\u001b[0;31mTypeError\u001b[0m: SampleBaseAgent.get_q() missing 1 required positional argument: 'self'"
     ]
    }
   ],
   "source": [
    "qagent = agents['Q-learning']\n",
    "print(qagent.get_q())"
   ]
  },
  {
   "cell_type": "code",
   "execution_count": 18,
   "metadata": {
    "deletable": false,
    "editable": false,
    "nbgrader": {
     "cell_type": "code",
     "checksum": "fa1344355fb2cb8cdeddbaa877831d97",
     "grade": false,
     "grade_id": "cell-f3926cb72105b801",
     "locked": true,
     "schema_version": 3,
     "solution": false,
     "task": false
    }
   },
   "outputs": [
    {
     "ename": "ValueError",
     "evalue": "cannot reshape array of size 640 into shape (4,12)",
     "output_type": "error",
     "traceback": [
      "\u001b[0;31m---------------------------------------------------------------------------\u001b[0m",
      "\u001b[0;31mValueError\u001b[0m                                Traceback (most recent call last)",
      "Cell \u001b[0;32mIn[18], line 8\u001b[0m\n\u001b[1;32m      6\u001b[0m plt\u001b[39m.\u001b[39msubplot(position)\n\u001b[1;32m      7\u001b[0m average_state_visits \u001b[39m=\u001b[39m np\u001b[39m.\u001b[39marray(all_state_visits[algorithm])\u001b[39m.\u001b[39mmean(axis\u001b[39m=\u001b[39m\u001b[39m0\u001b[39m)\n\u001b[0;32m----> 8\u001b[0m grid_state_visits \u001b[39m=\u001b[39m average_state_visits\u001b[39m.\u001b[39;49mreshape((\u001b[39m4\u001b[39;49m,\u001b[39m12\u001b[39;49m))\n\u001b[1;32m      9\u001b[0m grid_state_visits[\u001b[39m0\u001b[39m,\u001b[39m1\u001b[39m:\u001b[39m-\u001b[39m\u001b[39m1\u001b[39m] \u001b[39m=\u001b[39m np\u001b[39m.\u001b[39mnan\n\u001b[1;32m     10\u001b[0m plt\u001b[39m.\u001b[39mpcolormesh(grid_state_visits, edgecolors\u001b[39m=\u001b[39m\u001b[39m'\u001b[39m\u001b[39mgray\u001b[39m\u001b[39m'\u001b[39m, linewidth\u001b[39m=\u001b[39m\u001b[39m2\u001b[39m)\n",
      "\u001b[0;31mValueError\u001b[0m: cannot reshape array of size 640 into shape (4,12)"
     ]
    },
    {
     "data": {
      "image/png": "[encoded data removed]",
      "text/plain": [
       "<Figure size 1500x500 with 1 Axes>"
      ]
     },
     "metadata": {},
     "output_type": "display_data"
    }
   ],
   "source": [
    "# ---------------\n",
    "# Discussion Cell\n",
    "# ---------------\n",
    "\n",
    "for algorithm, position in [(\"Q-learning\", 211), (\"Expected Sarsa\", 212)]:\n",
    "    plt.subplot(position)\n",
    "    average_state_visits = np.array(all_state_visits[algorithm]).mean(axis=0)\n",
    "    grid_state_visits = average_state_visits.reshape((4,12))\n",
    "    grid_state_visits[0,1:-1] = np.nan\n",
    "    plt.pcolormesh(grid_state_visits, edgecolors='gray', linewidth=2)\n",
    "    plt.title(algorithm)\n",
    "    plt.axis('off')\n",
    "    cm = plt.get_cmap()\n",
    "    cm.set_bad('gray')\n",
    "\n",
    "    plt.subplots_adjust(bottom=0.0, right=0.7, top=1.0)\n",
    "    cax = plt.axes([0.85, 0.0, 0.075, 1.])\n",
    "    \n",
    "cbar = plt.colorbar(cax=cax)\n",
    "cbar.ax.set_ylabel(\"Visits during\\n the last 10\\n episodes\", rotation=0, labelpad=70)\n",
    "plt.show()"
   ]
  },
  {
   "cell_type": "markdown",
   "metadata": {
    "deletable": false,
    "editable": false,
    "nbgrader": {
     "cell_type": "markdown",
     "checksum": "bccc989c6bc356014577d3a0f008448e",
     "grade": false,
     "grade_id": "cell-a760261e6f96ab9f",
     "locked": true,
     "schema_version": 3,
     "solution": false,
     "task": false
    }
   },
   "source": [
    "The Q-learning agent learns the optimal policy, one that moves along the cliff and reaches the goal in as few steps as possible. However, since the agent does not follow the optimal policy and uses $\\epsilon$-greedy exploration, it occasionally falls off the cliff. The Expected Sarsa agent takes exploration into account and follows a safer path.\n",
    "\n",
    "\n",
    "Previously we used a fixed step-size of 0.5 for the agents. What happens with other step-sizes? Does this difference in performance persist?\n",
    "\n",
    "In the next experiment we will try 10 different step-sizes from 0.1 to 1.0 and compare the sum of rewards per episode averaged over the first 100 episodes (similar to the interim performance curves in Figure 6.3 of the textbook). Shaded regions show standard errors.\n",
    "\n",
    "This cell takes around 10 minutes to run. The result of this cell will be graded. If you make any changes to your algorithms, you have to run this cell again before submitting the assignment."
   ]
  },
  {
   "cell_type": "code",
   "execution_count": 15,
   "metadata": {
    "deletable": false,
    "editable": false,
    "nbgrader": {
     "cell_type": "code",
     "checksum": "f458141112450c336f6c71e15bcf116e",
     "grade": false,
     "grade_id": "cell-232036ab548ecf06",
     "locked": true,
     "schema_version": 3,
     "solution": false,
     "task": false
    }
   },
   "outputs": [
    {
     "name": "stderr",
     "output_type": "stream",
     "text": [
      "100%|██████████| 600/600 [02:14<00:00,  4.45it/s]\n"
     ]
    },
    {
     "data": {
      "image/png": "[encoded data removed]",
      "text/plain": [
       "<Figure size 720x360 with 1 Axes>"
      ]
     },
     "metadata": {
      "needs_background": "light"
     },
     "output_type": "display_data"
    }
   ],
   "source": [
    "# ---------------\n",
    "# Discussion Cell\n",
    "# ---------------\n",
    "from itertools import product\n",
    "\n",
    "agents = {\n",
    "    \"Q-learning\": QLearningAgent,\n",
    "    \"Expected Sarsa\": ExpectedSarsaAgent\n",
    "}\n",
    "env = cliffworld_env.Environment\n",
    "all_reward_sums = {}\n",
    "step_sizes = np.linspace(0.1,1.0,10)\n",
    "agent_info = {\"num_actions\": 4, \"num_states\": 48, \"epsilon\": 0.1, \"discount\": 1.0}\n",
    "env_info = {}\n",
    "num_runs = 30\n",
    "num_episodes = 100\n",
    "all_reward_sums = {}\n",
    "\n",
    "algorithms = [\"Q-learning\", \"Expected Sarsa\"]\n",
    "cross_product = list(product(algorithms, step_sizes, range(num_runs)))\n",
    "for algorithm, step_size, run in tqdm(cross_product):\n",
    "    if (algorithm, step_size) not in all_reward_sums:\n",
    "        all_reward_sums[(algorithm, step_size)] = []\n",
    "\n",
    "    agent_info[\"step_size\"] = step_size\n",
    "    agent_info[\"seed\"] = run\n",
    "    rl_glue = RLGlue(env, agents[algorithm])\n",
    "    rl_glue.rl_init(agent_info, env_info)\n",
    "\n",
    "    last_episode_total_reward = 0\n",
    "    for episode in range(num_episodes):\n",
    "        rl_glue.rl_episode(0)\n",
    "    all_reward_sums[(algorithm, step_size)].append(rl_glue.rl_return()/num_episodes)\n",
    "        \n",
    "\n",
    "for algorithm in [\"Q-learning\", \"Expected Sarsa\"]:\n",
    "    algorithm_means = np.array([np.mean(all_reward_sums[(algorithm, step_size)]) for step_size in step_sizes])\n",
    "    algorithm_stds = np.array([sem(all_reward_sums[(algorithm, step_size)]) for step_size in step_sizes])\n",
    "    plt.plot(step_sizes, algorithm_means, marker='o', linestyle='solid', label=algorithm)\n",
    "    plt.fill_between(step_sizes, algorithm_means + algorithm_stds, algorithm_means - algorithm_stds, alpha=0.2)\n",
    "\n",
    "plt.legend()\n",
    "plt.xlabel(\"Step-size\")\n",
    "plt.ylabel(\"Sum of\\n rewards\\n per episode\",rotation=0, labelpad=50)\n",
    "plt.xticks(step_sizes)\n",
    "plt.show()"
   ]
  },
  {
   "cell_type": "markdown",
   "metadata": {
    "deletable": false,
    "editable": false,
    "nbgrader": {
     "cell_type": "markdown",
     "checksum": "5ebf1c0f3c14b1400ad9ee008bcf1924",
     "grade": false,
     "grade_id": "cell-73c0cfe2a38255ba",
     "locked": true,
     "schema_version": 3,
     "solution": false,
     "task": false
    }
   },
   "source": [
    "Expected Sarsa shows an advantage over Q-learning in this problem across a wide range of step-sizes.\n",
    "\n",
    "Congratulations! Now you have:\n",
    "\n",
    "- implemented Q-Learning with $\\epsilon$-greedy action selection\n",
    "- implemented Expected Sarsa with $\\epsilon$-greedy action selection\n",
    "- investigated the behavior of these two algorithms on Cliff World"
   ]
  }
 ],
 "metadata": {
  "kernelspec": {
   "display_name": "Python 3",
   "language": "python",
   "name": "python3"
  },
  "language_info": {
   "codemirror_mode": {
    "name": "ipython",
    "version": 3
   },
   "file_extension": ".py",
   "mimetype": "text/x-python",
   "name": "python",
   "nbconvert_exporter": "python",
   "pygments_lexer": "ipython3",
   "version": "3.11.3"
  }
 },
 "nbformat": 4,
 "nbformat_minor": 2
}
