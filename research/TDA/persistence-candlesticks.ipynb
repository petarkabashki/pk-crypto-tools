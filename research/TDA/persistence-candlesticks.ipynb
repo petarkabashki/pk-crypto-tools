{
 "cells": [
  {
   "cell_type": "code",
   "execution_count": 1,
   "metadata": {},
   "outputs": [],
   "source": [
    "from __future__ import print_function\n",
    "from ipywidgets import interact, interactive, fixed, interact_manual\n",
    "# import ipywidgets as widgets\n",
    "from ipywidgets import *\n",
    "from IPython.display import display\n",
    "import IPython\n",
    "import pandas as pd\n",
    "import matplotlib\n",
    "import matplotlib.pyplot as plt\n",
    "import matplotlib.dates as mdates\n",
    "import numpy as np\n",
    "\n",
    "from datetime import datetime\n",
    "import pandas_ta as ta\n",
    "from math import *\n",
    "from collections import OrderedDict\n",
    "# import vectorbt as vbt    \n",
    "import json\n",
    "%matplotlib inline\n",
    "from decimal import *\n",
    "getcontext().prec = 6\n",
    "import seaborn as sns\n",
    "\n",
    "matplotlib.rcParams.update({'font.size': 5, 'lines.linewidth': 0.5, 'figure.dpi': 150})\n"
   ]
  },
  {
   "cell_type": "code",
   "execution_count": 57,
   "metadata": {},
   "outputs": [],
   "source": [
    "\n",
    "from ripser import ripser\n",
    "from persim import plot_diagrams\n",
    "from ripser import Rips\n",
    "\n",
    "from teaspoon.SP.tsa_tools import takens"
   ]
  },
  {
   "cell_type": "code",
   "execution_count": 2,
   "metadata": {},
   "outputs": [],
   "source": [
    "def load_candles(pair='BTC_USDT', timeframe='1d'):\n",
    "    odf = pd.read_json(f'../../freq-user-data/data/binance/{pair}-{timeframe}.json').dropna()\n",
    "    odf.columns = ['timestamp', 'open', 'high', 'low', 'close', 'volume']\n",
    "\n",
    "    odf['date'] = pd.to_datetime(odf['timestamp'], unit='ms', utc=False)\n",
    "    # odf['idate'] = odf.date.dt.strftime('%Y%m%d')\n",
    "    odf.set_index(pd.DatetimeIndex(odf[\"date\"]), inplace=True, drop=True)\n",
    "    # odf = odf.sort_index()\n",
    "    odf = odf[['open', 'high', 'low', 'close']]\n",
    "    return odf"
   ]
  },
  {
   "cell_type": "code",
   "execution_count": 9,
   "metadata": {},
   "outputs": [
    {
     "data": {
      "text/html": [
       "<div>\n",
       "<style scoped>\n",
       "    .dataframe tbody tr th:only-of-type {\n",
       "        vertical-align: middle;\n",
       "    }\n",
       "\n",
       "    .dataframe tbody tr th {\n",
       "        vertical-align: top;\n",
       "    }\n",
       "\n",
       "    .dataframe thead th {\n",
       "        text-align: right;\n",
       "    }\n",
       "</style>\n",
       "<table border=\"1\" class=\"dataframe\">\n",
       "  <thead>\n",
       "    <tr style=\"text-align: right;\">\n",
       "      <th></th>\n",
       "      <th>open</th>\n",
       "      <th>high</th>\n",
       "      <th>low</th>\n",
       "      <th>close</th>\n",
       "    </tr>\n",
       "    <tr>\n",
       "      <th>date</th>\n",
       "      <th></th>\n",
       "      <th></th>\n",
       "      <th></th>\n",
       "      <th></th>\n",
       "    </tr>\n",
       "  </thead>\n",
       "  <tbody>\n",
       "    <tr>\n",
       "      <th>2023-06-01 16:00:00</th>\n",
       "      <td>26894.47</td>\n",
       "      <td>27175.00</td>\n",
       "      <td>26656.00</td>\n",
       "      <td>26862.68</td>\n",
       "    </tr>\n",
       "    <tr>\n",
       "      <th>2023-06-01 20:00:00</th>\n",
       "      <td>26862.68</td>\n",
       "      <td>26942.98</td>\n",
       "      <td>26713.34</td>\n",
       "      <td>26817.93</td>\n",
       "    </tr>\n",
       "    <tr>\n",
       "      <th>2023-06-02 00:00:00</th>\n",
       "      <td>26817.93</td>\n",
       "      <td>27017.00</td>\n",
       "      <td>26505.00</td>\n",
       "      <td>27000.00</td>\n",
       "    </tr>\n",
       "    <tr>\n",
       "      <th>2023-06-02 04:00:00</th>\n",
       "      <td>27000.01</td>\n",
       "      <td>27213.00</td>\n",
       "      <td>26949.40</td>\n",
       "      <td>27049.65</td>\n",
       "    </tr>\n",
       "    <tr>\n",
       "      <th>2023-06-02 08:00:00</th>\n",
       "      <td>27049.65</td>\n",
       "      <td>27183.07</td>\n",
       "      <td>27049.38</td>\n",
       "      <td>27130.75</td>\n",
       "    </tr>\n",
       "  </tbody>\n",
       "</table>\n",
       "</div>"
      ],
      "text/plain": [
       "                         open      high       low     close\n",
       "date                                                       \n",
       "2023-06-01 16:00:00  26894.47  27175.00  26656.00  26862.68\n",
       "2023-06-01 20:00:00  26862.68  26942.98  26713.34  26817.93\n",
       "2023-06-02 00:00:00  26817.93  27017.00  26505.00  27000.00\n",
       "2023-06-02 04:00:00  27000.01  27213.00  26949.40  27049.65\n",
       "2023-06-02 08:00:00  27049.65  27183.07  27049.38  27130.75"
      ]
     },
     "execution_count": 9,
     "metadata": {},
     "output_type": "execute_result"
    }
   ],
   "source": [
    "odf = load_candles(pair='BTC_USDT', timeframe='4h')\n",
    "odf.tail()\n"
   ]
  },
  {
   "cell_type": "code",
   "execution_count": 4,
   "metadata": {},
   "outputs": [],
   "source": [
    "\n",
    "def plot_candles(wdf, ax=None, kwargs={}):\n",
    "    if ax is None:\n",
    "        fig, ax = plt.subplots(**kwargs)\n",
    "\n",
    "    up, down = wdf[wdf.close >= wdf.open], wdf[wdf.close < wdf.open]\n",
    "    col1,col2 = 'green','red'\n",
    "    width, width2 = .1, .02\n",
    "    # Plotting up prices of the stock\n",
    "    ax.bar(up.index, up.close-up.open, width, bottom=up.open, color=col1)\n",
    "    ax.bar(up.index, up.high-up.close, width2, bottom=up.close, color=col1)\n",
    "    ax.bar(up.index, up.low-up.open, width2, bottom=up.open, color=col1)\n",
    "    # Plotting down prices of the stock\n",
    "    ax.bar(down.index, down.close-down.open, width, bottom=down.open, color=col2)\n",
    "    ax.bar(down.index, down.high-down.open, width2, bottom=down.open, color=col2)\n",
    "    ax.bar(down.index, down.low-down.close, width2, bottom=down.close, color=col2)    \n",
    "    plt.xticks(rotation=30, ha='right')\n",
    "    return ax"
   ]
  },
  {
   "cell_type": "code",
   "execution_count": 81,
   "metadata": {},
   "outputs": [
    {
     "data": {
      "application/vnd.jupyter.widget-view+json": {
       "model_id": "d1530bd2bee046b19e43aebd29095321",
       "version_major": 2,
       "version_minor": 0
      },
      "text/plain": [
       "VBox(children=(HBox(children=(IntSlider(value=8, description='n2', max=15), IntSlider(value=1, description='w'…"
      ]
     },
     "metadata": {},
     "output_type": "display_data"
    },
    {
     "data": {
      "application/vnd.jupyter.widget-view+json": {
       "model_id": "79cbf50221fe432db44d411aff9dca0b",
       "version_major": 2,
       "version_minor": 0
      },
      "text/plain": [
       "Output()"
      ]
     },
     "metadata": {},
     "output_type": "display_data"
    }
   ],
   "source": [
    "\n",
    "from matplotlib import pyplot as plt\n",
    "\n",
    "strategy = 'persistence'\n",
    "param_folder = f'.'\n",
    "strategy_params_json = f'{param_folder}/{strategy}.json'\n",
    "\n",
    "dlen = len(odf)\n",
    "\n",
    "wsize = 0\n",
    "nwindows = 0\n",
    "\n",
    "sl_n2= IntSlider(description=\"n2\", min=0, max=ceil(log(dlen, 2.0)+1), step=1, value=8)\n",
    "sl_w = IntSlider(description=\"w\", min=0, max=ceil(dlen/pow(2,sl_n2.value-1)-1), step=1, value=1)\n",
    "\n",
    "sl_hold = IntSlider(value=7,min=1,max=50,step=1,description='Hold',continuous_update=False)\n",
    "sl_lag_n = IntSlider(value=5,min=1,max=50,step=1,description='lag_n',continuous_update=False)\n",
    "# tx_max_rat = FloatText(value=0.05,min=0.01,max=0.1,step=0.001,description='max_rat',continuous_update=False)\n",
    "sl_lag = IntSlider(value=6,min=1,max=6 * 7,step=1,description='Lag',continuous_update=False)\n",
    "chk_candles = Checkbox(value=True, description='Candles', disabled=False)\n",
    "dd_dir = Dropdown(options=[('Up', 1), ('Down', -1)], value=1, description='Dir',)\n",
    "# wrng_1 = IntRangeSlider(value=[0, 0],min=0,max=10,step=1,description='Rng 1',disabled=False,continuous_update=False,orientation='horizontal',readout=True,readout_format='d',)\n",
    "# wrng_2 = IntRangeSlider(value=[0, 0],min=0,max=10,step=1,description='Rng 2',disabled=False,continuous_update=False,orientation='horizontal',readout=True,readout_format='d',)\n",
    "per_1 = IntSlider(value=0,min=0,max=10,step=1,description='per 1',disabled=False,continuous_update=False,orientation='horizontal',readout=True,readout_format='d',)\n",
    "per_2 = IntSlider(value=0,min=0,max=10,step=1,description='per 2',disabled=False,continuous_update=False,orientation='horizontal',readout=True,readout_format='d',)\n",
    "per_len = IntSlider(value=6,min=1,max=20,step=1,description='per_len',continuous_update=False)\n",
    "tak_n = IntSlider(value=6,min=1,max=20,step=1,description='tak_n',continuous_update=False)\n",
    "\n",
    "def update_sl_w_range(*args):\n",
    "    global wsize\n",
    "    wsize = 2 ** (sl_n2.value )\n",
    "    nwindows = dlen // wsize * 2\n",
    "    sl_w.max = nwindows\n",
    "    # wrng_1.max = wrng_2.max = wsize - 1\n",
    "    per_len.max = wsize\n",
    "    per_1.max = per_2.max = wsize - 1\n",
    "    # rng_2.max = sl_w.max\n",
    "sl_n2.observe(update_sl_w_range, 'value')\n",
    "\n",
    "strategy_params = {\n",
    "    \"candles\": {\"wdg\": chk_candles},\n",
    "    \"lag\": {\"wdg\": sl_lag},\n",
    "    \"per_1\": {\"wdg\": per_1},\n",
    "    \"per_2\": {\"wdg\": per_2},\n",
    "    \"per_len\": {\"wdg\": per_len},\n",
    "    \"tak_n\": {\"wdg\": tak_n},\n",
    "}\n",
    "all_params = {\n",
    "    'w2log': {'wdg': sl_n2}, 'w': {'wdg': sl_w},\n",
    "    **strategy_params\n",
    "}\n",
    "wdgts = [pv['wdg'] for pk, pv in strategy_params.items()]\n",
    "\n",
    "ui = widgets.VBox([\n",
    "    widgets.HBox([sl_n2, sl_w]),\n",
    "    widgets.VBox([widgets.HBox(wdgts[i:i+4]) for i in range(0, len(wdgts), 4)])\n",
    "])\n",
    "\n",
    "if os.path.exists(strategy_params_json):\n",
    "    with open(strategy_params_json) as f: \n",
    "        js = json.loads(f.read());\n",
    "        for k, v in all_params.items(): \n",
    "            if k in js: v['wdg'].value=js[k];\n",
    "\n",
    "else: print(f'File not found: {strategy_params_json}')\n",
    "\n",
    "wdf = None\n",
    "data_1, data_2 = None, None\n",
    "def printer(\n",
    "        w2log, w, candles, lag, per_1, per_2, per_len, tak_n\n",
    "):\n",
    "    \n",
    "    global wdf\n",
    "    global data_1, data_2\n",
    "    \n",
    "    with open(strategy_params_json, \"w\") as f: f.write(json.dumps({k: v['wdg'].value for k, v in strategy_params.items()}))\n",
    "    \n",
    "    \n",
    "    wsz = floor(pow(2,w2log))\n",
    "    wst = floor(w * wsz / 2)\n",
    "    wed = floor(wst + wsz)\n",
    "    \n",
    "    wdf = odf.iloc[wst:wed,:].copy()    \n",
    "    wlen = len(wdf)\n",
    "\n",
    "    print(f'N={len(wdf)}; Period: {wdf.index[-1] - wdf.index[0]}, Start: {wdf.index[0]}, End: {wdf.index[-1]}\\n')\n",
    "    # print(f'lag_n={lag_n}; min_rat={min_rat}; max_rat={max_rat}\\n')\n",
    "\n",
    "    rng_1 = [per_1, per_1+per_len-1]\n",
    "    rng_2 = [per_2, per_2+per_len-1]\n",
    "    data_1 = wdf.close.values[rng_1[0]:rng_1[1]]\n",
    "    data_2 = wdf.close.values[rng_2[0]:rng_2[1]]\n",
    "\n",
    "    tak_1 = takens(data_1, n = tak_n)\n",
    "    tak_2 = takens(data_2, n = tak_n)\n",
    "\n",
    "    rips = Rips()\n",
    "    diag_1 = rips.fit_transform(tak_1)\n",
    "    diag_2 = rips.fit_transform(tak_2)\n",
    "\n",
    "    fig = plt.figure(layout='constrained', figsize=(15,5))\n",
    "    fig1,fig2 = fig.subfigures(2,1, wspace=0.001, hspace=0, height_ratios=[1,1])\n",
    "\n",
    "# axsLeft = subfigs[0].subplots(1, 2, sharey=True)\n",
    "\n",
    "    (ax1) = fig1.subplots(1, 1);\n",
    "\n",
    "    if not candles:\n",
    "        wdf.close.plot(ax=ax1)\n",
    "    else:\n",
    "        plot_candles(wdf=wdf,ax=ax1)\n",
    "    ax1.axvspan(*wdf.index.values[[*rng_1]],color='blue', alpha=0.1)\n",
    "    ax1.axvspan(*wdf.index.values[[*rng_2]],color='maroon', alpha=0.1)\n",
    "\n",
    "\n",
    "    (rax1,rax2) = fig2.subplots(1, 2, width_ratios=[1,1]);\n",
    "    # ax1.plot()\n",
    "    rips.plot(diag_1, ax=rax1)\n",
    "    rips.plot(diag_2, ax=rax2)\n",
    "\n",
    "out = widgets.interactive_output(printer, {k : v['wdg'] for k,v in all_params.items()});\n",
    "x = display(ui, out);\n",
    "\n",
    "\n",
    "\n",
    "\n"
   ]
  },
  {
   "cell_type": "code",
   "execution_count": 54,
   "metadata": {},
   "outputs": [
    {
     "data": {
      "text/plain": [
       "[4310.01, 4239.37, 4261.9, 4308.0, 4273.59, 4321.65]"
      ]
     },
     "execution_count": 54,
     "metadata": {},
     "output_type": "execute_result"
    }
   ],
   "source": [
    "data_1.tolist()"
   ]
  },
  {
   "cell_type": "code",
   "execution_count": 56,
   "metadata": {},
   "outputs": [
    {
     "name": "stdout",
     "output_type": "stream",
     "text": [
      "Rips(maxdim=1, thresh=inf, coeff=2, do_cocycles=False, n_perm = None, verbose=True)\n"
     ]
    },
    {
     "ename": "IndexError",
     "evalue": "tuple index out of range",
     "output_type": "error",
     "traceback": [
      "\u001b[0;31m---------------------------------------------------------------------------\u001b[0m",
      "\u001b[0;31mIndexError\u001b[0m                                Traceback (most recent call last)",
      "\u001b[1;32m/media/grenada/Data/work/pk-crypto-tools/research/TDA/persistence-candlesticks.ipynb Cell 8\u001b[0m line \u001b[0;36m2\n\u001b[1;32m      <a href='vscode-notebook-cell:/media/grenada/Data/work/pk-crypto-tools/research/TDA/persistence-candlesticks.ipynb#W5sZmlsZQ%3D%3D?line=0'>1</a>\u001b[0m rips \u001b[39m=\u001b[39m Rips()\n\u001b[0;32m----> <a href='vscode-notebook-cell:/media/grenada/Data/work/pk-crypto-tools/research/TDA/persistence-candlesticks.ipynb#W5sZmlsZQ%3D%3D?line=1'>2</a>\u001b[0m rips\u001b[39m.\u001b[39;49mfit_transform(data_1)\n",
      "File \u001b[0;32m~/miniconda3/envs/py310/lib/python3.10/site-packages/sklearn/utils/_set_output.py:140\u001b[0m, in \u001b[0;36m_wrap_method_output.<locals>.wrapped\u001b[0;34m(self, X, *args, **kwargs)\u001b[0m\n\u001b[1;32m    138\u001b[0m \u001b[39m@wraps\u001b[39m(f)\n\u001b[1;32m    139\u001b[0m \u001b[39mdef\u001b[39;00m \u001b[39mwrapped\u001b[39m(\u001b[39mself\u001b[39m, X, \u001b[39m*\u001b[39margs, \u001b[39m*\u001b[39m\u001b[39m*\u001b[39mkwargs):\n\u001b[0;32m--> 140\u001b[0m     data_to_wrap \u001b[39m=\u001b[39m f(\u001b[39mself\u001b[39;49m, X, \u001b[39m*\u001b[39;49margs, \u001b[39m*\u001b[39;49m\u001b[39m*\u001b[39;49mkwargs)\n\u001b[1;32m    141\u001b[0m     \u001b[39mif\u001b[39;00m \u001b[39misinstance\u001b[39m(data_to_wrap, \u001b[39mtuple\u001b[39m):\n\u001b[1;32m    142\u001b[0m         \u001b[39m# only wrap the first output for cross decomposition\u001b[39;00m\n\u001b[1;32m    143\u001b[0m         \u001b[39mreturn\u001b[39;00m (\n\u001b[1;32m    144\u001b[0m             _wrap_data_with_container(method, data_to_wrap[\u001b[39m0\u001b[39m], X, \u001b[39mself\u001b[39m),\n\u001b[1;32m    145\u001b[0m             \u001b[39m*\u001b[39mdata_to_wrap[\u001b[39m1\u001b[39m:],\n\u001b[1;32m    146\u001b[0m         )\n",
      "File \u001b[0;32m~/miniconda3/envs/py310/lib/python3.10/site-packages/ripser/ripser.py:575\u001b[0m, in \u001b[0;36mRips.fit_transform\u001b[0;34m(self, X, distance_matrix, metric)\u001b[0m\n\u001b[1;32m    545\u001b[0m \u001b[39mdef\u001b[39;00m \u001b[39mfit_transform\u001b[39m(\u001b[39mself\u001b[39m, X, distance_matrix\u001b[39m=\u001b[39m\u001b[39mFalse\u001b[39;00m, metric\u001b[39m=\u001b[39m\u001b[39m\"\u001b[39m\u001b[39meuclidean\u001b[39m\u001b[39m\"\u001b[39m):\n\u001b[1;32m    546\u001b[0m \u001b[39m    \u001b[39m\u001b[39m\"\"\"\u001b[39;00m\n\u001b[1;32m    547\u001b[0m \u001b[39m    Compute persistence diagrams for X data array and return the diagrams.\u001b[39;00m\n\u001b[1;32m    548\u001b[0m \n\u001b[0;32m   (...)\u001b[0m\n\u001b[1;32m    573\u001b[0m \u001b[39m        representing the death time of each pair.\u001b[39;00m\n\u001b[1;32m    574\u001b[0m \u001b[39m    \"\"\"\u001b[39;00m\n\u001b[0;32m--> 575\u001b[0m     \u001b[39mself\u001b[39;49m\u001b[39m.\u001b[39;49mtransform(X, distance_matrix, metric)\n\u001b[1;32m    576\u001b[0m     \u001b[39mreturn\u001b[39;00m \u001b[39mself\u001b[39m\u001b[39m.\u001b[39mdgms_\n",
      "File \u001b[0;32m~/miniconda3/envs/py310/lib/python3.10/site-packages/sklearn/utils/_set_output.py:140\u001b[0m, in \u001b[0;36m_wrap_method_output.<locals>.wrapped\u001b[0;34m(self, X, *args, **kwargs)\u001b[0m\n\u001b[1;32m    138\u001b[0m \u001b[39m@wraps\u001b[39m(f)\n\u001b[1;32m    139\u001b[0m \u001b[39mdef\u001b[39;00m \u001b[39mwrapped\u001b[39m(\u001b[39mself\u001b[39m, X, \u001b[39m*\u001b[39margs, \u001b[39m*\u001b[39m\u001b[39m*\u001b[39mkwargs):\n\u001b[0;32m--> 140\u001b[0m     data_to_wrap \u001b[39m=\u001b[39m f(\u001b[39mself\u001b[39;49m, X, \u001b[39m*\u001b[39;49margs, \u001b[39m*\u001b[39;49m\u001b[39m*\u001b[39;49mkwargs)\n\u001b[1;32m    141\u001b[0m     \u001b[39mif\u001b[39;00m \u001b[39misinstance\u001b[39m(data_to_wrap, \u001b[39mtuple\u001b[39m):\n\u001b[1;32m    142\u001b[0m         \u001b[39m# only wrap the first output for cross decomposition\u001b[39;00m\n\u001b[1;32m    143\u001b[0m         \u001b[39mreturn\u001b[39;00m (\n\u001b[1;32m    144\u001b[0m             _wrap_data_with_container(method, data_to_wrap[\u001b[39m0\u001b[39m], X, \u001b[39mself\u001b[39m),\n\u001b[1;32m    145\u001b[0m             \u001b[39m*\u001b[39mdata_to_wrap[\u001b[39m1\u001b[39m:],\n\u001b[1;32m    146\u001b[0m         )\n",
      "File \u001b[0;32m~/miniconda3/envs/py310/lib/python3.10/site-packages/ripser/ripser.py:527\u001b[0m, in \u001b[0;36mRips.transform\u001b[0;34m(self, X, distance_matrix, metric)\u001b[0m\n\u001b[1;32m    526\u001b[0m \u001b[39mdef\u001b[39;00m \u001b[39mtransform\u001b[39m(\u001b[39mself\u001b[39m, X, distance_matrix\u001b[39m=\u001b[39m\u001b[39mFalse\u001b[39;00m, metric\u001b[39m=\u001b[39m\u001b[39m\"\u001b[39m\u001b[39meuclidean\u001b[39m\u001b[39m\"\u001b[39m):\n\u001b[0;32m--> 527\u001b[0m     result \u001b[39m=\u001b[39m ripser(\n\u001b[1;32m    528\u001b[0m         X,\n\u001b[1;32m    529\u001b[0m         maxdim\u001b[39m=\u001b[39;49m\u001b[39mself\u001b[39;49m\u001b[39m.\u001b[39;49mmaxdim,\n\u001b[1;32m    530\u001b[0m         thresh\u001b[39m=\u001b[39;49m\u001b[39mself\u001b[39;49m\u001b[39m.\u001b[39;49mthresh,\n\u001b[1;32m    531\u001b[0m         coeff\u001b[39m=\u001b[39;49m\u001b[39mself\u001b[39;49m\u001b[39m.\u001b[39;49mcoeff,\n\u001b[1;32m    532\u001b[0m         do_cocycles\u001b[39m=\u001b[39;49m\u001b[39mself\u001b[39;49m\u001b[39m.\u001b[39;49mdo_cocycles,\n\u001b[1;32m    533\u001b[0m         distance_matrix\u001b[39m=\u001b[39;49mdistance_matrix,\n\u001b[1;32m    534\u001b[0m         metric\u001b[39m=\u001b[39;49mmetric,\n\u001b[1;32m    535\u001b[0m         n_perm\u001b[39m=\u001b[39;49m\u001b[39mself\u001b[39;49m\u001b[39m.\u001b[39;49mn_perm,\n\u001b[1;32m    536\u001b[0m     )\n\u001b[1;32m    537\u001b[0m     \u001b[39mself\u001b[39m\u001b[39m.\u001b[39mdgms_ \u001b[39m=\u001b[39m result[\u001b[39m\"\u001b[39m\u001b[39mdgms\u001b[39m\u001b[39m\"\u001b[39m]\n\u001b[1;32m    538\u001b[0m     \u001b[39mself\u001b[39m\u001b[39m.\u001b[39mnum_edges_ \u001b[39m=\u001b[39m result[\u001b[39m\"\u001b[39m\u001b[39mnum_edges\u001b[39m\u001b[39m\"\u001b[39m]\n",
      "File \u001b[0;32m~/miniconda3/envs/py310/lib/python3.10/site-packages/ripser/ripser.py:246\u001b[0m, in \u001b[0;36mripser\u001b[0;34m(X, maxdim, thresh, coeff, distance_matrix, do_cocycles, metric, n_perm)\u001b[0m\n\u001b[1;32m    244\u001b[0m         \u001b[39mraise\u001b[39;00m \u001b[39mValueError\u001b[39;00m(\u001b[39m\"\u001b[39m\u001b[39mDistance matrix is not square\u001b[39m\u001b[39m\"\u001b[39m)\n\u001b[1;32m    245\u001b[0m \u001b[39melse\u001b[39;00m:\n\u001b[0;32m--> 246\u001b[0m     \u001b[39mif\u001b[39;00m X\u001b[39m.\u001b[39mshape[\u001b[39m0\u001b[39m] \u001b[39m==\u001b[39m X\u001b[39m.\u001b[39;49mshape[\u001b[39m1\u001b[39;49m]:\n\u001b[1;32m    247\u001b[0m         warnings\u001b[39m.\u001b[39mwarn(\n\u001b[1;32m    248\u001b[0m             \u001b[39m\"\u001b[39m\u001b[39mThe input matrix is square, but the distance_matrix \u001b[39m\u001b[39m\"\u001b[39m\n\u001b[1;32m    249\u001b[0m             \u001b[39m+\u001b[39m \u001b[39m\"\u001b[39m\u001b[39mflag is off.  Did you mean to indicate that \u001b[39m\u001b[39m\"\u001b[39m\n\u001b[1;32m    250\u001b[0m             \u001b[39m+\u001b[39m \u001b[39m\"\u001b[39m\u001b[39mthis was a distance matrix?\u001b[39m\u001b[39m\"\u001b[39m\n\u001b[1;32m    251\u001b[0m         )\n\u001b[1;32m    252\u001b[0m     \u001b[39melif\u001b[39;00m X\u001b[39m.\u001b[39mshape[\u001b[39m0\u001b[39m] \u001b[39m<\u001b[39m X\u001b[39m.\u001b[39mshape[\u001b[39m1\u001b[39m]:\n",
      "\u001b[0;31mIndexError\u001b[0m: tuple index out of range"
     ]
    }
   ],
   "source": [
    "\n",
    "rips = Rips()\n",
    "rips.fit_transform(data_1)"
   ]
  },
  {
   "cell_type": "code",
   "execution_count": null,
   "metadata": {},
   "outputs": [],
   "source": []
  },
  {
   "cell_type": "code",
   "execution_count": null,
   "metadata": {},
   "outputs": [],
   "source": [
    "Bayesian Data Analysis - Third edition - Gelman,Vehtari"
   ]
  }
 ],
 "metadata": {
  "kernelspec": {
   "display_name": "py310",
   "language": "python",
   "name": "python3"
  },
  "language_info": {
   "codemirror_mode": {
    "name": "ipython",
    "version": 3
   },
   "file_extension": ".py",
   "mimetype": "text/x-python",
   "name": "python",
   "nbconvert_exporter": "python",
   "pygments_lexer": "ipython3",
   "version": "3.10.12"
  }
 },
 "nbformat": 4,
 "nbformat_minor": 2
}
