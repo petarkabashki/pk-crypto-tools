{
 "cells": [
  {
   "cell_type": "code",
   "execution_count": 2,
   "metadata": {},
   "outputs": [],
   "source": [
    "import pandas as pd\n",
    "import numpy as np\n",
    "\n",
    "from datetime import datetime, date\n",
    "from math import *\n",
    "import json\n",
    "# %matplotlib inline\n",
    "from decimal import *\n",
    "# getcontext().prec = 6\n",
    "# import re\n",
    "# from decimal import Decimal\n",
    "\n",
    "# from os import listdir\n",
    "# from os.path import isfile, join\n",
    "\n",
    "import pandas_ta as ta"
   ]
  },
  {
   "cell_type": "code",
   "execution_count": null,
   "metadata": {},
   "outputs": [],
   "source": [
    "\n",
    "df = pd.read_csv(\"/media/grenada/Data/Accounting/pk-crypto-tax-calculator/data-csv/binance/ALGO_USDT-4h.csv\"\n",
    ").set_axis(['ts','open','high','low','close','volume'],axis=1\n",
    ").assign(ts=lambda x: pd.to_datetime(x['ts'], unit='ms', utc=False)\n",
    ").set_index('ts')\n",
    "\n",
    "df"
   ]
  },
  {
   "cell_type": "code",
   "execution_count": 42,
   "metadata": {},
   "outputs": [
    {
     "data": {
      "text/plain": [
       "(array([[10,  5,  2],\n",
       "        [ 5,  3,  2],\n",
       "        [ 2,  2,  3]]),\n",
       " array([[3.16227766, 0.        , 0.        ],\n",
       "        [1.58113883, 0.70710678, 0.        ],\n",
       "        [0.63245553, 1.41421356, 0.77459667]]))"
      ]
     },
     "execution_count": 42,
     "metadata": {},
     "output_type": "execute_result"
    }
   ],
   "source": [
    "\n",
    "from scipy.linalg import cholesky\n",
    "x = np.array([[10, 5, 2],[5, 3, 2],[2, 2, 3]])\n",
    "# np.outer(x,x)\n",
    "# x = np.dot(x.T,x)\n",
    "# x\n",
    "L = cholesky(x, lower=True)\n",
    "x,L\n"
   ]
  },
  {
   "cell_type": "code",
   "execution_count": null,
   "metadata": {},
   "outputs": [],
   "source": [
    "# ta.ema([i+1 for i in range(9)])\n",
    "# ta.ema(,length=14)\n",
    "# ta.ema(),length=14)\n",
    "pd.DataFrame({'close':[i+1 for i in range(200)]}).close.ewm(21).mean().head(50)"
   ]
  },
  {
   "cell_type": "code",
   "execution_count": null,
   "metadata": {},
   "outputs": [],
   "source": [
    "\n",
    "pd.DataFrame({'close':[exp(sin(((i/20)**3/10))) for i in range(200)]}).plot()#.ta.ema(50).plot()"
   ]
  },
  {
   "cell_type": "code",
   "execution_count": null,
   "metadata": {},
   "outputs": [],
   "source": [
    "from ta.volatility import average_true_range as atr\n",
    "# from ta.volatility import tre as atr\n",
    " \n",
    "import pandas as pd\n",
    "\n",
    "df = pd.read_csv(\"/media/grenada/Data/Accounting/pk-crypto-tax-calculator/data-csv/binance/ALGO_USDT-4h.csv\"\n",
    ").set_axis(['ts','open','high','low','close','volume'],axis=1\n",
    ").assign(ts=lambda x: pd.to_datetime(x['ts'], unit='ms', utc=False)\n",
    ").set_index('ts')\n",
    "\n",
    "# dir(ta.volatility.AverageTrueRange(df.high,df.low,df.close, window=14))\n",
    "# df.volatility_atr()\n",
    "atr(df.high, df.low, df.close).head(100)"
   ]
  },
  {
   "cell_type": "code",
   "execution_count": 71,
   "metadata": {},
   "outputs": [
    {
     "data": {
      "text/plain": [
       "array([[<Axes: title={'center': '0'}>]], dtype=object)"
      ]
     },
     "execution_count": 71,
     "metadata": {},
     "output_type": "execute_result"
    },
    {
     "data": {
      "image/png": "[encoded data removed]",
      "text/plain": [
       "<Figure size 640x480 with 1 Axes>"
      ]
     },
     "metadata": {},
     "output_type": "display_data"
    }
   ],
   "source": [
    "pd.DataFrame(np.arange(10000)-5000).pow(3).add(2000).hist(bins=20)"
   ]
  },
  {
   "cell_type": "code",
   "execution_count": 4,
   "metadata": {},
   "outputs": [
    {
     "data": {
      "text/plain": [
       "(0.092526690391459, 0.021352313167259787)"
      ]
     },
     "execution_count": 4,
     "metadata": {},
     "output_type": "execute_result"
    }
   ],
   "source": [
    "307 / 281 - 1, 6/281"
   ]
  },
  {
   "cell_type": "code",
   "execution_count": 1,
   "metadata": {},
   "outputs": [
    {
     "ename": "NameError",
     "evalue": "name 'np' is not defined",
     "output_type": "error",
     "traceback": [
      "\u001b[0;31m---------------------------------------------------------------------------\u001b[0m",
      "\u001b[0;31mNameError\u001b[0m                                 Traceback (most recent call last)",
      "Cell \u001b[0;32mIn[1], line 1\u001b[0m\n\u001b[0;32m----> 1\u001b[0m \u001b[43mnp\u001b[49m\u001b[38;5;241m.\u001b[39marange(\u001b[38;5;241m10\u001b[39m)\n",
      "\u001b[0;31mNameError\u001b[0m: name 'np' is not defined"
     ]
    }
   ],
   "source": [
    "np.arange(10)"
   ]
  }
 ],
 "metadata": {
  "kernelspec": {
   "display_name": "py310",
   "language": "python",
   "name": "python3"
  },
  "language_info": {
   "codemirror_mode": {
    "name": "ipython",
    "version": 3
   },
   "file_extension": ".py",
   "mimetype": "text/x-python",
   "name": "python",
   "nbconvert_exporter": "python",
   "pygments_lexer": "ipython3",
   "version": "3.10.13"
  }
 },
 "nbformat": 4,
 "nbformat_minor": 2
}
