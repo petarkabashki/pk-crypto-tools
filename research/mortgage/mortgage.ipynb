{
 "cells": [
  {
   "cell_type": "code",
   "execution_count": 5,
   "metadata": {},
   "outputs": [
    {
     "name": "stdout",
     "output_type": "stream",
     "text": [
      "The iminizinc extension is already loaded. To reload it, use:\n",
      "  %reload_ext iminizinc\n",
      "The autoreload extension is already loaded. To reload it, use:\n",
      "  %reload_ext autoreload\n"
     ]
    }
   ],
   "source": [
    "%load_ext iminizinc\n",
    "%load_ext autoreload\n",
    "%autoreload 2\n",
    "\n",
    "from __future__ import print_function\n",
    "from ipywidgets import interact, interactive, interactive_output, fixed, interact_manual, HBox, VBox, Output\n",
    "from ipywidgets import IntSlider, IntText, FloatSlider, FloatText, IntRangeSlider, FloatRangeSlider\n",
    "# import ipywidgets as widgets\n",
    "\n",
    "from IPython.display import display\n",
    "import IPython\n",
    "import pandas as pd\n",
    "import matplotlib as mpl\n",
    "import matplotlib.pyplot as plt\n",
    "import matplotlib.dates as mdates\n",
    "import numpy as np\n",
    "\n",
    "from datetime import datetime\n",
    "# import talib\n",
    "import pandas_ta as ta\n",
    "# from talib.abstract import *\n",
    "from math import *\n",
    "from collections import OrderedDict\n",
    "# import vectorbt as vbt    \n",
    "import json\n",
    "from decimal import *\n",
    "getcontext().prec = 6\n",
    "\n",
    "\n",
    "import sys, os\n",
    "\n",
    "\n",
    "# import mplfinance as mpf\n",
    "%matplotlib inline\n",
    "\n",
    "# plt.rcParams['lines.linewidth'] = 0.5 \n",
    "\n"
   ]
  },
  {
   "cell_type": "code",
   "execution_count": 2,
   "metadata": {},
   "outputs": [
    {
     "data": {
      "text/plain": [
       "0.06167781186449828"
      ]
     },
     "execution_count": 2,
     "metadata": {},
     "output_type": "execute_result"
    }
   ],
   "source": [
    "apr = 0.06\n",
    "\n",
    "periods_per_year = 12\n",
    "\n",
    "periodic_rate = apr/periods_per_year\n",
    "\n",
    "apy = (1 + periodic_rate) ** periods_per_year - 1\n",
    "apy"
   ]
  },
  {
   "attachments": {},
   "cell_type": "markdown",
   "metadata": {},
   "source": [
    "### APR to APY"
   ]
  },
  {
   "cell_type": "code",
   "execution_count": 40,
   "metadata": {},
   "outputs": [
    {
     "ename": "NameError",
     "evalue": "name 'apr' is not defined",
     "output_type": "error",
     "traceback": [
      "\u001b[0;31m---------------------------------------------------------------------------\u001b[0m",
      "\u001b[0;31mNameError\u001b[0m                                 Traceback (most recent call last)",
      "Cell \u001b[0;32mIn[40], line 3\u001b[0m\n\u001b[1;32m      1\u001b[0m aprs \u001b[39m=\u001b[39m np\u001b[39m.\u001b[39marange(\u001b[39m0\u001b[39m,\u001b[39m0.1\u001b[39m,\u001b[39m0.001\u001b[39m)\n\u001b[1;32m      2\u001b[0m periods_per_year \u001b[39m=\u001b[39m \u001b[39m365\u001b[39m\n\u001b[0;32m----> 3\u001b[0m periodic_rate \u001b[39m=\u001b[39m apr\u001b[39m/\u001b[39mperiods_per_year\n\u001b[1;32m      4\u001b[0m apys \u001b[39m=\u001b[39m np\u001b[39m.\u001b[39mpower( (\u001b[39m1\u001b[39m \u001b[39m+\u001b[39m aprs\u001b[39m/\u001b[39mperiods_per_year) , periods_per_year) \u001b[39m-\u001b[39m \u001b[39m1\u001b[39m\n\u001b[1;32m      5\u001b[0m apys \u001b[39m=\u001b[39m ((\u001b[39m1\u001b[39m \u001b[39m+\u001b[39m aprs\u001b[39m/\u001b[39mperiods_per_year) \u001b[39m*\u001b[39m\u001b[39m*\u001b[39m periods_per_year \u001b[39m-\u001b[39m \u001b[39m1\u001b[39m)\u001b[39m.\u001b[39mround(\u001b[39m4\u001b[39m)\n",
      "\u001b[0;31mNameError\u001b[0m: name 'apr' is not defined"
     ]
    }
   ],
   "source": [
    "\n",
    "aprs = np.arange(0,0.1,0.001)\n",
    "periods_per_year = 365\n",
    "periodic_rate = apr/periods_per_year\n",
    "apys = np.power( (1 + aprs/periods_per_year) , periods_per_year) - 1\n",
    "apys = ((1 + aprs/periods_per_year) ** periods_per_year - 1).round(4)\n",
    "df_apr_apy = pd.DataFrame([aprs,apys]).T.set_axis(['apr', 'apy'], axis=1).set_index('apr')\n",
    "\n",
    "@interact(sapr=(0,0.1,0.001))\n",
    "def print_apr_apy(sapr=0.06):\n",
    "    fig = plt.figure(figsize=(15,5))\n",
    "    ax = fig.gca()\n",
    "    ax.set_xlabel('APR')\n",
    "    ax.set_ylabel('APY')\n",
    "    ax.set_title('APR vs API')\n",
    "\n",
    "    sapy =  (1 + sapr/periods_per_year) ** periods_per_year - 1\n",
    "    ax.axvline(sapr)\n",
    "    ax.axhline(sapy)\n",
    "    print(f'APR = {sapr} -> APY = {sapy}')\n",
    "    # ax.set_xscale('log')\n",
    "    plt.plot(aprs, apys)\n",
    "    ax.grid()\n",
    "    # (1 + periodic_rate)"
   ]
  },
  {
   "attachments": {},
   "cell_type": "markdown",
   "metadata": {},
   "source": [
    "### Amortizing Loan"
   ]
  },
  {
   "cell_type": "code",
   "execution_count": 97,
   "metadata": {},
   "outputs": [
    {
     "data": {
      "application/vnd.jupyter.widget-view+json": {
       "model_id": "fe8cafb8e83947e3939fd5e58b659b15",
       "version_major": 2,
       "version_minor": 0
      },
      "text/plain": [
       "VBox(children=(HBox(children=(IntText(value=100000, description='P', step=10000), IntSlider(value=20, continuo…"
      ]
     },
     "metadata": {},
     "output_type": "display_data"
    },
    {
     "data": {
      "application/vnd.jupyter.widget-view+json": {
       "model_id": "4e547c92d5f54364b7ec2e00c408770f",
       "version_major": 2,
       "version_minor": 0
      },
      "text/plain": [
       "Output()"
      ]
     },
     "metadata": {},
     "output_type": "display_data"
    }
   ],
   "source": [
    "\n",
    "aprs = np.arange(0.001,0.1,0.001)\n",
    "periods_per_year = 12\n",
    "\n",
    "wdg_P = IntText(value=100000,min=0,max=3000000,step=10000,description='P',continuous_update=False)\n",
    "# wdg_P = IntSlider(value=500000,min=0,max=1000000,step=10000,description='P',continuous_update=False)\n",
    "wdg_n_years = IntSlider(value=20,min=1,max=35,step=1,description='nyears',continuous_update=False)\n",
    "wdg_check_apr = FloatText(value=0.055,min=0,max=0.1,step=0.001,description='check',continuous_update=False)\n",
    "\n",
    "ui = VBox([\n",
    "    HBox([wdg_P, wdg_n_years, wdg_check_apr]),\n",
    "    Output()\n",
    "])\n",
    "\n",
    "def print_amortizing_periodic_payments(P, n_years, check_apr):\n",
    "    n_periods = periods_per_year * n_years\n",
    "    r_s = aprs / periods_per_year\n",
    "    r1n_s = (1 + r_s) ** n_periods\n",
    "    \n",
    "    Q_s = r_s * r1n_s / (r1n_s - 1)\n",
    "    A_s = P * Q_s\n",
    "    T_s = A_s * n_periods\n",
    "    # period_A_s = A_s / n_periods\n",
    "\n",
    "    check_r = check_apr / periods_per_year\n",
    "    check_r1n = (1 + check_r) ** n_periods\n",
    "    check_A = round(P * check_r * check_r1n / (check_r1n - 1) , 2)\n",
    "    check_total = round(check_A * n_periods, 2)\n",
    "    check_interest_2_principal = round(check_total / P - 1, 2)\n",
    "    print(f'Periodic payment: {check_A}, Total payment: {check_total}, interest_2_principal: {check_interest_2_principal}')\n",
    "\n",
    "    plt.ioff()\n",
    "    plt.close('all')\n",
    "    fig = plt.figure(figsize=(15,7))\n",
    "    ax1, ax2 = fig.subplots(2,1, sharex=True)\n",
    "    plt.tight_layout(h_pad=3)\n",
    "\n",
    "    ax2.plot(aprs, T_s)\n",
    "    ax2.set_xlabel('APR')\n",
    "    ax2.set_ylabel('Total repayment')\n",
    "    ax2.set_title('APR vs Total repayment')\n",
    "\n",
    "    ax1.plot(aprs, A_s)\n",
    "    ax1.set_xlabel('APR')\n",
    "    ax1.set_ylabel('Monthly repayment')\n",
    "    ax1.set_title('APR vs Monthly repayment')\n",
    "\n",
    "    for ax in [ax1,ax2]:\n",
    "        ax.grid()\n",
    "        ax.axvline(check_apr)\n",
    "\n",
    "    ax1.axhline(check_A)\n",
    "\n",
    "    plt.show()\n",
    "\n",
    "\n",
    "\n",
    "out = interactive_output(print_amortizing_periodic_payments, {\n",
    "        'P': wdg_P, 'n_years': wdg_n_years, 'check_apr': wdg_check_apr\n",
    "    });\n",
    "x = display(ui, out);\n"
   ]
  },
  {
   "attachments": {},
   "cell_type": "markdown",
   "metadata": {},
   "source": [
    "### Repayments over different mortgage periods"
   ]
  },
  {
   "cell_type": "code",
   "execution_count": 89,
   "metadata": {},
   "outputs": [
    {
     "data": {
      "application/vnd.jupyter.widget-view+json": {
       "model_id": "bc271fe14f254aa780e8017bf52a87f9",
       "version_major": 2,
       "version_minor": 0
      },
      "text/plain": [
       "VBox(children=(HBox(children=(IntText(value=100000, description='P', step=10000), FloatText(value=0.055, descr…"
      ]
     },
     "metadata": {},
     "output_type": "display_data"
    },
    {
     "data": {
      "application/vnd.jupyter.widget-view+json": {
       "model_id": "90297b6574584e59be9ed563d8a04492",
       "version_major": 2,
       "version_minor": 0
      },
      "text/plain": [
       "Output()"
      ]
     },
     "metadata": {},
     "output_type": "display_data"
    }
   ],
   "source": [
    "\n",
    "aprs = np.arange(0.001,0.1,0.001).round(3)\n",
    "periods_per_year = 12\n",
    "\n",
    "rng_n_years, step_n_years = (5,30), 5\n",
    "n_years_s = [3, 5, 7, 10, 15, 20, 25, 30]\n",
    "\n",
    "wdg_P = IntText(value=100000,min=0,max=3000000,step=10000,description='P',continuous_update=False)\n",
    "wdg_check_apr = FloatText(value=0.055,min=0,max=0.1,step=0.001,description='check',continuous_update=False)\n",
    "\n",
    "ui = VBox([\n",
    "    HBox([wdg_P, wdg_check_apr]),\n",
    "    Output()\n",
    "])\n",
    "\n",
    "def print_amortizing_periodic_payments(P, check_apr):\n",
    "    df = pd.concat({\n",
    "        f'{n_years}-years': pd.DataFrame([A_s, T_s, T_Int, R_T2P]).T.set_axis(['Monthly', 'Total', 'Total Interest', 'Interest2Principal'],axis=1)\n",
    "        for n_years in n_years_s\n",
    "        for n_periods in [periods_per_year * n_years]\n",
    "        for r_s in [aprs / periods_per_year]\n",
    "        for r1n_s in [(1 + r_s) ** n_periods]\n",
    "        for Q_s in [r_s * r1n_s / (r1n_s - 1)]\n",
    "        for A_s in [P * Q_s]\n",
    "        for T_s in [A_s * n_periods]\n",
    "        for T_Int in [T_s - P]\n",
    "        for R_T2P in [T_s / P -1]\n",
    "    },axis=1).set_index(aprs)\n",
    "    df_monthly = df.loc[:, (slice(None),'Monthly')]\n",
    "    df_total = df.loc[:, (slice(None),'Total')]\n",
    "    print(df.loc[check_apr].unstack().round(2))\n",
    "\n",
    "    plt.ioff()\n",
    "    plt.close('all')\n",
    "    fig = plt.figure(figsize=(15,7))\n",
    "    ax1, ax2 = fig.subplots(2,1, sharex=True)\n",
    "    plt.tight_layout(h_pad=3)\n",
    "\n",
    "    df_monthly.plot(ax=ax1)\n",
    "    ax1.set_xlabel('APR')\n",
    "    ax1.set_ylabel('Monthly repayment')\n",
    "    ax1.set_title('APR vs Monthly repayment')\n",
    "\n",
    "    df_total.plot(ax=ax2)\n",
    "    ax2.set_xlabel('APR')\n",
    "    ax2.set_ylabel('Total repayment')\n",
    "    ax2.set_title('APR vs Total repayment')\n",
    "\n",
    "    for ax in [ax1,ax2]:\n",
    "        ax.grid()\n",
    "        ax.axvline(check_apr)\n",
    "\n",
    "    plt.show()\n",
    "\n",
    "out = interactive_output(print_amortizing_periodic_payments, {\n",
    "        'P': wdg_P, 'check_apr': wdg_check_apr\n",
    "    });\n",
    "x = display(ui, out);\n"
   ]
  },
  {
   "attachments": {},
   "cell_type": "markdown",
   "metadata": {},
   "source": [
    "### Monthy Repayments Interest vs Principal "
   ]
  },
  {
   "cell_type": "code",
   "execution_count": 105,
   "metadata": {},
   "outputs": [
    {
     "data": {
      "application/vnd.jupyter.widget-view+json": {
       "model_id": "50a3a89e8adc428eb6456b194019d766",
       "version_major": 2,
       "version_minor": 0
      },
      "text/plain": [
       "VBox(children=(HBox(children=(IntText(value=300000, description='P', step=10000), FloatText(value=0.055, descr…"
      ]
     },
     "metadata": {},
     "output_type": "display_data"
    },
    {
     "data": {
      "application/vnd.jupyter.widget-view+json": {
       "model_id": "683ac2e160ab47709f0d9a68b0222332",
       "version_major": 2,
       "version_minor": 0
      },
      "text/plain": [
       "Output()"
      ]
     },
     "metadata": {},
     "output_type": "display_data"
    }
   ],
   "source": [
    "\n",
    "aprs = np.arange(0.001,0.1,0.001).round(3)\n",
    "periods_per_year = 12\n",
    "\n",
    "rng_n_years, step_n_years = (5,30), 5\n",
    "n_years_s = list(range(rng_n_years[0], rng_n_years[1] + step_n_years, step_n_years))\n",
    "n_years_s = [3, 5, 7, 10, 15, 20, 25, 30]\n",
    "\n",
    "wdg_P = IntText(value=300000,min=0,max=3000000,step=10000,description='P',continuous_update=False)\n",
    "wdg_n_years = IntSlider(value=20,min=1,max=35,step=1,description='nyears',continuous_update=False)\n",
    "wdg_check_apr = FloatText(value=0.055,min=0,max=0.1,step=0.001,description='check',continuous_update=False)\n",
    "\n",
    "ui = VBox([\n",
    "    HBox([wdg_P, wdg_check_apr, wdg_n_years]),\n",
    "    Output()\n",
    "])\n",
    "\n",
    "def print_monthly_interst_vs_principal(P, n_years, apr):\n",
    "\n",
    "    # df = pd.concat({\n",
    "    #     f'{n_years}-years': pd.DataFrame([A_s, T_s, T_Int, R_T2P]).T.set_axis(['Monthly', 'Total', 'Total Interest', 'Interest2Principal'],axis=1)\n",
    "    #     for n_years in n_years_s\n",
    "    #     for n_periods in [periods_per_year * n_years]\n",
    "    #     for r_s in [aprs / periods_per_year]\n",
    "    #     for r1n_s in [(1 + r_s) ** n_periods]\n",
    "    #     for Q_s in [r_s * r1n_s / (r1n_s - 1)]\n",
    "    #     for A_s in [P * Q_s]\n",
    "    #     for T_s in [A_s * n_periods]\n",
    "    #     for T_Int in [T_s - P]\n",
    "    #     for R_T2P in [T_s / P -1]\n",
    "    # },axis=1).set_index(aprs)\n",
    "    # df_monthly = df.loc[:, (slice(None),'Monthly')]\n",
    "    # df_total = df.loc[:, (slice(None),'Total')]\n",
    "    # print(df.loc[check_apr].unstack().round(2))\n",
    "\n",
    "\n",
    "    n_periods = periods_per_year * n_years\n",
    "    r_s = apr / periods_per_year\n",
    "    tot_1n_s = (1 + r_s) ** n_periods\n",
    "    \n",
    "    Q_s = r_s * tot_1n_s / (tot_1n_s - 1)\n",
    "    A_s = P * Q_s\n",
    "    T_s = A_s * n_periods    \n",
    "\n",
    "    a_periods = np.array(range(n_periods))\n",
    "    a_remaining = n_periods - a_periods\n",
    "\n",
    "    rem_1n_s = (1 + r_s) ** a_remaining\n",
    "\n",
    "    a_outstanding_balance = P * ((1 + r_s) ** a_remaining - tot_1n_s) / (rem_1n_s - 1)\n",
    "    a_interest = a_outstanding_balance * r_s\n",
    "    a_principal = A_s - a_interest\n",
    "    \n",
    "    df = pd.DataFrame([a_outstanding_balance, a_interest, a_principal]).T.set_axis(['outstanding_balance', 'interest', 'principal'], axis=1)\n",
    "    # Outstanding Loan Balance = (Loan Amount x ((1 + Monthly Interest Rate)^Remaining Payments - (1 + Monthly Interest Rate)^Total Number of Months)) / ((1 + Monthly Interest Rate)^Remaining Payments - 1)\n",
    "\n",
    "    plt.ioff()\n",
    "    plt.close('all')\n",
    "    fig = plt.figure(figsize=(15,7))\n",
    "    ax1, ax2 = fig.subplots(2,1, sharex=True)\n",
    "    plt.tight_layout(h_pad=3)\n",
    "    ax1.plot(a_outstanding_balance)\n",
    "    # df['outstanding_balance'].plot(ax=ax1)\n",
    "    # df_monthly.plot(ax=ax1)\n",
    "    # ax1.set_xlabel('APR')\n",
    "    # ax1.set_ylabel('Monthly repayment')\n",
    "    # ax1.set_title('APR vs Monthly repayment')\n",
    "\n",
    "    # df_total.plot(ax=ax2)\n",
    "    # ax2.set_xlabel('APR')\n",
    "    # ax2.set_ylabel('Total repayment')\n",
    "    # ax2.set_title('APR vs Total repayment')\n",
    "\n",
    "    # for ax in [ax1,ax2]:\n",
    "    #     ax.grid()\n",
    "    #     ax.axvline(check_apr)\n",
    "\n",
    "    plt.show()\n",
    "\n",
    "out = interactive_output(print_monthly_interst_vs_principal, {\n",
    "        'P': wdg_P, 'apr': wdg_check_apr, 'n_years': wdg_n_years\n",
    "    });\n",
    "x = display(ui, out);\n"
   ]
  },
  {
   "cell_type": "code",
   "execution_count": 115,
   "metadata": {},
   "outputs": [
    {
     "data": {
      "text/plain": [
       "2149.2931754345186"
      ]
     },
     "execution_count": 115,
     "metadata": {},
     "output_type": "execute_result"
    }
   ],
   "source": [
    "n_years = 20\n",
    "P = 300000\n",
    "apr = 0.06\n",
    "periods_per_year = 12\n",
    "\n",
    "n_periods = periods_per_year * n_years\n",
    "\n",
    "rM = apr/periods_per_year\n",
    "\n",
    "# A is the monthly payment amount. A is derived from the above paremeters\n",
    "A = P * (rM*np.power((1+rM), n_periods))/(np.power((1+rM),n_periods)-1)\n",
    "A\n",
    "# r_s = apr / periods_per_year\n",
    "# tot_1n_s = (1 + r_s) ** n_periods\n",
    "\n",
    "# Q_s = r_s * tot_1n_s / (tot_1n_s - 1)\n",
    "# A_s = P * Q_s\n",
    "# T_s = A_s * n_periods    \n",
    "\n",
    "# a_periods = np.array(range(n_periods))\n",
    "# a_remaining = n_periods - a_periods\n",
    "\n",
    "# rem_1n_s = (1 + r_s) ** a_remaining\n",
    "# # rem_1n_s\n",
    "# a_outstanding_balance = P * ((1 + r_s) ** a_remaining - tot_1n_s) / (rem_1n_s - 1)\n",
    "# a_outstanding_balance\n",
    "# a_interest = a_outstanding_balance * r_s\n",
    "# a_principal = A_s - a_interest\n"
   ]
  },
  {
   "cell_type": "code",
   "execution_count": null,
   "metadata": {},
   "outputs": [],
   "source": []
  }
 ],
 "metadata": {
  "kernelspec": {
   "display_name": "py311",
   "language": "python",
   "name": "python3"
  },
  "language_info": {
   "codemirror_mode": {
    "name": "ipython",
    "version": 3
   },
   "file_extension": ".py",
   "mimetype": "text/x-python",
   "name": "python",
   "nbconvert_exporter": "python",
   "pygments_lexer": "ipython3",
   "version": "3.11.3"
  },
  "orig_nbformat": 4
 },
 "nbformat": 4,
 "nbformat_minor": 2
}
