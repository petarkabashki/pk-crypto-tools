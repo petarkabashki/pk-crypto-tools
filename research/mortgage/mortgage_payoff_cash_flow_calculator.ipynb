{
  "cells": [
    {
      "attachments": {},
      "cell_type": "markdown",
      "metadata": {
        "colab_type": "text",
        "id": "view-in-github"
      },
      "source": [
        "<a href=\"https://colab.research.google.com/github/analyticsariel/projects/blob/master/Mortgage_Payoff_Calculator_(Investor_Cash_Flow_Option).ipynb\" target=\"_parent\"><img src=\"https://colab.research.google.com/assets/colab-badge.svg\" alt=\"Open In Colab\"/></a>"
      ]
    },
    {
      "attachments": {},
      "cell_type": "markdown",
      "metadata": {
        "id": "BYRys7lpU-iF"
      },
      "source": [
        "# Mortgage Payoff Calculator (Investor Cash Flow Option)\n",
        "\n",
        "## Overview\n",
        "| Detail Tag            | Information                                                                                        |\n",
        "|-----------------------|----------------------------------------------------------------------------------------------------|\n",
        "| Originally Created By | Ariel Herrera arielherrera@analyticsariel.com |\n",
        "| External References   | API |\n",
        "| Input Datasets        | Source name |\n",
        "| Output Datasets       | Source name |\n",
        "| Input Data Source     | Pandas DataFrame |\n",
        "| Output Data Source    | Pandas DataFrame |\n",
        "\n",
        "## History\n",
        "| Date         | Developed By  | Reason                                                |\n",
        "|--------------|---------------|-------------------------------------------------------|\n",
        "| 29th May 2022 | Ariel Herrera | Create notebook. |\n",
        "\n",
        "## Getting Started\n",
        "1. Copy this notebook -> File -> Save a Copy in Drive\n",
        "2. Directions\n",
        "\n",
        "## Useful Resources\n",
        "- [Google Colab Cheat Sheet](https://towardsdatascience.com/cheat-sheet-for-google-colab-63853778c093)\n",
        "- [How to Use Python to Model Paying Off Your Mortgage Early](https://datadrivenmoney.com/how-to-use-python-to-model-paying-off-your-mortgage-early/)\n",
        "- [Simple Mortgage Calculator With Python and Excel](https://medium.com/swlh/simple-mortgage-calculator-with-python-and-excel-b98dede36720)\n",
        "- [Mortgage Payoff Calculator](https://www.calculator.net/mortgage-payoff-calculator.html?cloanamount=400000&cloanterm=30&cinterestrate=4&cremainingyear=30&cremainingmonth=0&cadditionalmonth=500&cadditionalyear=0&cadditionalonetime=0&cpayoffoption=original&type=1&x=41&y=17#loanterm)"
      ]
    },
    {
      "attachments": {},
      "cell_type": "markdown",
      "metadata": {
        "id": "hKgiM1tbUnbI"
      },
      "source": [
        "## <font color=\"blue\">Install Packages</font>"
      ]
    },
    {
      "cell_type": "code",
      "execution_count": 2,
      "metadata": {
        "id": "7V2OU_iGUppW"
      },
      "outputs": [],
      "source": [
        "!pip install numpy-financial -q"
      ]
    },
    {
      "attachments": {},
      "cell_type": "markdown",
      "metadata": {
        "id": "-ZgrtjtLUi6a"
      },
      "source": [
        "## <font color=\"blue\">Imports</font>"
      ]
    },
    {
      "cell_type": "code",
      "execution_count": 3,
      "metadata": {
        "id": "7vWKHxJDUjOJ"
      },
      "outputs": [],
      "source": [
        "import pandas as pd\n",
        "import numpy_financial as npf\n",
        "from datetime import date, datetime\n",
        "import plotly.express as px"
      ]
    },
    {
      "attachments": {},
      "cell_type": "markdown",
      "metadata": {
        "id": "PkdXQZp8UqcC"
      },
      "source": [
        "## <font color=\"blue\">Functions</font>"
      ]
    },
    {
      "cell_type": "code",
      "execution_count": 4,
      "metadata": {
        "id": "2dEdd7Pf15Vu"
      },
      "outputs": [],
      "source": [
        "def human_format(num):\n",
        "    magnitude = 0\n",
        "    while abs(num) >= 1000:\n",
        "        magnitude += 1\n",
        "        num /= 1000.0\n",
        "    # add more suffixes if you need them\n",
        "    return '%.0f%s' % (round(num), ['', 'K', 'M', 'G', 'T', 'P'][magnitude])"
      ]
    },
    {
      "cell_type": "code",
      "execution_count": 5,
      "metadata": {
        "id": "5p76TDONUsXe"
      },
      "outputs": [],
      "source": [
        "def get_mortgage_amoritization(\n",
        "    interest,\n",
        "    years,\n",
        "    payments_year,\n",
        "    mortgage,\n",
        "    start_date,\n",
        "    extra_payment=None,\n",
        "    start_rent=None,\n",
        "    start_cash_flow=None,\n",
        "    rent_increase_yoy=None,\n",
        "    extra_payment_prct=None\n",
        "  ):\n",
        "  # get initial values\n",
        "  initial_pmt = -1 * npf.pmt(interest/12, years*payments_year, mortgage)\n",
        "  initial_ipmt = -1 * npf.ipmt(interest/payments_year, 1, years*payments_year, mortgage)\n",
        "  initial_ppmt = -1 * npf.ppmt(interest/payments_year, 1, years*payments_year, mortgage)\n",
        "\n",
        "  # create dataframe\n",
        "  rng = pd.date_range(start_date, periods=years * payments_year, freq='MS')\n",
        "  rng.name = \"Payment Date\"\n",
        "  initial_cols_list = ['Org Total Payment','Total Payment','Interest','Principal',\n",
        "                  'Rent','Cash Flow','Additional Payment','Org Ending Balance','Ending Balance']\n",
        "  df = pd.DataFrame(index=rng, columns=initial_cols_list, dtype='float')\n",
        "  df.reset_index(inplace=True)\n",
        "  df.index += 1\n",
        "  df.index.name = \"Period\"\n",
        "\n",
        "  # test if additional cash flow from rent is passed as an arg\n",
        "  if (start_rent !=None) and (start_cash_flow != None) and (rent_increase_yoy != None) and (extra_payment_prct !=None):\n",
        "    initial_additional_pmt = start_cash_flow * extra_payment_prct\n",
        "  elif extra_payment != None:\n",
        "    initial_additional_pmt = extra_payment\n",
        "  else:\n",
        "    initial_additional_pmt = 0\n",
        "\n",
        "\n",
        "  # create first row\n",
        "  period = 1\n",
        "  initial_row_dict = {\n",
        "    'Org Total Payment': initial_pmt,\n",
        "    'Total Payment': initial_pmt + (initial_additional_pmt),\n",
        "    'Interest': initial_ipmt,\n",
        "    'Principal': initial_ppmt,\n",
        "    'Rent': start_rent,\n",
        "    'Cash Flow': start_cash_flow,\n",
        "    'Additional Payment': initial_additional_pmt,\n",
        "    'Org Ending Balance': mortgage - initial_ppmt,\n",
        "    'Ending Balance': mortgage - initial_ppmt - (initial_additional_pmt)\n",
        "  }\n",
        "  columns = list(initial_row_dict.keys())\n",
        "  period_values = list(initial_row_dict.values())\n",
        "  df.at[period, columns]=period_values\n",
        "  df = df.round(2)\n",
        "\n",
        "  # add additional rows\n",
        "  for period in range(2, len(df) + 1):\n",
        "    # get prior period values\n",
        "    previous_total_payment = df.loc[period - 1, 'Total Payment']\n",
        "    previous_principal = df.loc[period - 1, 'Principal']\n",
        "    previous_rent = df.loc[period - 1, 'Rent']\n",
        "    previous_cf = df.loc[period - 1, 'Cash Flow']\n",
        "    previous_org_ending_balance = df.loc[period - 1, 'Org Ending Balance']\n",
        "    previous_ending_balance = df.loc[period - 1, 'Ending Balance']\n",
        "    \n",
        "    # get additional payment values\n",
        "    if (start_rent !=None) and (start_cash_flow != None) and (rent_increase_yoy != None) and (extra_payment_prct !=None):\n",
        "      if period % 13 == 0:\n",
        "        period_rent = previous_rent * (1 + rent_increase_yoy)\n",
        "      else:\n",
        "        period_rent = previous_rent\n",
        "      period_cash_flow = previous_cf + (period_rent - previous_rent)\n",
        "      period_additional_pmt = period_cash_flow * extra_payment_prct\n",
        "    elif extra_payment != None:\n",
        "      period_additional_pmt = initial_additional_pmt\n",
        "      period_rent = 0\n",
        "      period_cash_flow = 0\n",
        "      extra_payment_prct = 0\n",
        "    else:\n",
        "      period_additional_pmt = 0\n",
        "      period_rent = 0\n",
        "      period_cash_flow = 0\n",
        "      extra_payment_prct = 0\n",
        "\n",
        "    # get end balance\n",
        "    period_interest = previous_org_ending_balance * interest / payments_year\n",
        "    period_principal = initial_pmt - period_interest\n",
        "    org_ending_balance = previous_org_ending_balance - period_principal\n",
        "    ending_balance = previous_ending_balance - period_principal - period_additional_pmt\n",
        "    org_ending_balance = 0 if org_ending_balance <= 0 else org_ending_balance\n",
        "    ending_balance = 0 if ending_balance <= 0 else ending_balance\n",
        "\n",
        "\n",
        "    row_dict = {'Org Total Payment': initial_pmt,\n",
        "                'Total Payment': initial_pmt + (period_cash_flow * extra_payment_prct),\n",
        "                'Interest': period_interest,\n",
        "                'Principal': period_principal,\n",
        "                'Rent': period_rent,\n",
        "                'Cash Flow': period_cash_flow,\n",
        "                'Additional Payment': period_additional_pmt,\n",
        "                'Org Ending Balance': org_ending_balance,\n",
        "                'Ending Balance': ending_balance}\n",
        "    columns = list(row_dict.keys())\n",
        "    period_values = list(row_dict.values())\n",
        "    df.at[period,columns]=period_values\n",
        "\n",
        "  df = df.round(2)\n",
        "  \n",
        "  return df"
      ]
    },
    {
      "cell_type": "code",
      "execution_count": 6,
      "metadata": {
        "id": "ADYhe5Kr16iE"
      },
      "outputs": [],
      "source": [
        "def plot_mortgage_amoritization(df):\n",
        "  # melt dataframe to plot\n",
        "  df_plot = pd.melt(\n",
        "      df, \n",
        "      id_vars=['Payment Date'], \n",
        "      value_vars=['Org Ending Balance', 'Ending Balance']\n",
        "  )\n",
        "\n",
        "  # calculate variables for chart context\n",
        "  early_payment_date = df_plot.loc[(df_plot['variable'] == 'Ending Balance') & (df_plot['value'] == 0)]\\\n",
        "    ['Payment Date'].min().strftime('%Y-%m-%d')\n",
        "  max_payment_date = df_plot['Payment Date'].max().strftime('%Y-%m-%d')\n",
        "  additional_interest = df.loc[df['Payment Date'] > early_payment_date]['Interest'].sum()\n",
        "\n",
        "  # create fig\n",
        "  fig = px.line(df_plot, x='Payment Date', y='value', color='variable')\n",
        "  fig.add_vline(x=early_payment_date, line_dash=\"dot\", line_color=\"black\")\n",
        "  fig.add_vrect(\n",
        "    x0=early_payment_date, \n",
        "    x1=max_payment_date, \n",
        "    fillcolor=\"red\", \n",
        "    opacity=0.25, \n",
        "    annotation_position=\"top left\",\n",
        "    annotation_text=\"+${0} interest savings\".format(human_format(additional_interest))\n",
        "  )\n",
        "  fig.update_layout(\n",
        "    title='Mortgage Amoritization', \n",
        "    xaxis_title='Year', \n",
        "    yaxis_title='Mortgage Balance', \n",
        "    plot_bgcolor='white',\n",
        "    legend=dict(\n",
        "      title_text=\"Balance Type\",\n",
        "      yanchor=\"bottom\",\n",
        "      y=0.02,\n",
        "      xanchor=\"left\",\n",
        "      x=0.01)\n",
        "  )\n",
        "  return fig"
      ]
    },
    {
      "attachments": {},
      "cell_type": "markdown",
      "metadata": {
        "id": "9B1YSUk9UsoZ"
      },
      "source": [
        "## <font color=\"blue\">Locals & Constants</font>"
      ]
    },
    {
      "cell_type": "code",
      "execution_count": 7,
      "metadata": {
        "id": "UoZY-cFH0PXl"
      },
      "outputs": [],
      "source": [
        "interest = 0.04\n",
        "years = 30\n",
        "payments_year = 12\n",
        "mortgage = 400000\n",
        "start_date = (date(2022, 5, 1))\n",
        "\n",
        "# SCENARIO #1\n",
        "# General: Same payment each month until loan is paid off\n",
        "extra_payment = 300\n",
        "\n",
        "# SCENARIO #2\n",
        "# Investor/Landlord: Dynamic payment based on % of rental cash flow\n",
        "start_rent = None\n",
        "start_cash_flow = None\n",
        "rent_increase_yoy = None\n",
        "extra_payment_prct = None"
      ]
    },
    {
      "attachments": {},
      "cell_type": "markdown",
      "metadata": {
        "id": "CGCaqKj1UvIo"
      },
      "source": [
        "## <font color=\"blue\">Data</font>"
      ]
    },
    {
      "attachments": {},
      "cell_type": "markdown",
      "metadata": {
        "id": "xAk6Sl0bUxcx"
      },
      "source": [
        "## <font color=\"blue\">Transformations</font>"
      ]
    },
    {
      "cell_type": "code",
      "execution_count": 8,
      "metadata": {
        "colab": {
          "base_uri": "https://localhost:8080/"
        },
        "id": "6ZAMseG2FrwK",
        "outputId": "691aca15-7937-40c0-f8e1-faa12c2b8664"
      },
      "outputs": [
        {
          "name": "stdout",
          "output_type": "stream",
          "text": [
            "Initial Payment: 1,909.66\n",
            "Initial Interest: 1,333.33\n",
            "Initial Principal Payment: 576.33\n"
          ]
        }
      ],
      "source": [
        "initial_pmt = -1 * npf.pmt(interest/12, years*payments_year, mortgage)\n",
        "initial_ipmt = -1 * npf.ipmt(interest/payments_year, 1, years*payments_year, mortgage)\n",
        "initial_ppmt = -1 * npf.ppmt(interest/payments_year, 1, years*payments_year, mortgage)\n",
        "print('Initial Payment: {:,.2f}'.format(initial_pmt))\n",
        "print('Initial Interest: {:,.2f}'.format(initial_ipmt))\n",
        "print('Initial Principal Payment: {:,.2f}'.format(initial_ppmt))"
      ]
    },
    {
      "cell_type": "code",
      "execution_count": 9,
      "metadata": {
        "id": "eYLl0GVfb04Q"
      },
      "outputs": [],
      "source": [
        "# create a range of dates in a pandas dataframe\n",
        "rng = pd.date_range(start_date, periods=years * payments_year, freq='MS')\n",
        "# label the date column\n",
        "rng.name = \"Payment Date\"\n",
        "# create dataframe \n",
        "df = pd.DataFrame(\n",
        "    index=rng, \n",
        "    columns=['Org Total Payment',\n",
        "            'Total Payment',\n",
        "            'Interest',\n",
        "            'Principal',\n",
        "            'Rent',\n",
        "            'Cash Flow',\n",
        "            'Additional Payment',\n",
        "            'Org Ending Balance',\n",
        "            'Ending Balance'], dtype='float')\n",
        "# set index as payment period\n",
        "df.reset_index(inplace=True)\n",
        "df.index += 1\n",
        "df.index.name = \"Period\""
      ]
    },
    {
      "cell_type": "code",
      "execution_count": 10,
      "metadata": {
        "colab": {
          "base_uri": "https://localhost:8080/",
          "height": 516
        },
        "id": "riUPR1XAFJXr",
        "outputId": "6aa506aa-d0c4-49d8-e4ef-017f6af9915c"
      },
      "outputs": [
        {
          "data": {
            "text/html": [
              "<div>\n",
              "<style scoped>\n",
              "    .dataframe tbody tr th:only-of-type {\n",
              "        vertical-align: middle;\n",
              "    }\n",
              "\n",
              "    .dataframe tbody tr th {\n",
              "        vertical-align: top;\n",
              "    }\n",
              "\n",
              "    .dataframe thead th {\n",
              "        text-align: right;\n",
              "    }\n",
              "</style>\n",
              "<table border=\"1\" class=\"dataframe\">\n",
              "  <thead>\n",
              "    <tr style=\"text-align: right;\">\n",
              "      <th></th>\n",
              "      <th>Payment Date</th>\n",
              "      <th>Org Total Payment</th>\n",
              "      <th>Total Payment</th>\n",
              "      <th>Interest</th>\n",
              "      <th>Principal</th>\n",
              "      <th>Rent</th>\n",
              "      <th>Cash Flow</th>\n",
              "      <th>Additional Payment</th>\n",
              "      <th>Org Ending Balance</th>\n",
              "      <th>Ending Balance</th>\n",
              "    </tr>\n",
              "    <tr>\n",
              "      <th>Period</th>\n",
              "      <th></th>\n",
              "      <th></th>\n",
              "      <th></th>\n",
              "      <th></th>\n",
              "      <th></th>\n",
              "      <th></th>\n",
              "      <th></th>\n",
              "      <th></th>\n",
              "      <th></th>\n",
              "      <th></th>\n",
              "    </tr>\n",
              "  </thead>\n",
              "  <tbody>\n",
              "    <tr>\n",
              "      <th>1</th>\n",
              "      <td>2022-05-01</td>\n",
              "      <td>NaN</td>\n",
              "      <td>NaN</td>\n",
              "      <td>NaN</td>\n",
              "      <td>NaN</td>\n",
              "      <td>NaN</td>\n",
              "      <td>NaN</td>\n",
              "      <td>NaN</td>\n",
              "      <td>NaN</td>\n",
              "      <td>NaN</td>\n",
              "    </tr>\n",
              "    <tr>\n",
              "      <th>2</th>\n",
              "      <td>2022-06-01</td>\n",
              "      <td>NaN</td>\n",
              "      <td>NaN</td>\n",
              "      <td>NaN</td>\n",
              "      <td>NaN</td>\n",
              "      <td>NaN</td>\n",
              "      <td>NaN</td>\n",
              "      <td>NaN</td>\n",
              "      <td>NaN</td>\n",
              "      <td>NaN</td>\n",
              "    </tr>\n",
              "    <tr>\n",
              "      <th>3</th>\n",
              "      <td>2022-07-01</td>\n",
              "      <td>NaN</td>\n",
              "      <td>NaN</td>\n",
              "      <td>NaN</td>\n",
              "      <td>NaN</td>\n",
              "      <td>NaN</td>\n",
              "      <td>NaN</td>\n",
              "      <td>NaN</td>\n",
              "      <td>NaN</td>\n",
              "      <td>NaN</td>\n",
              "    </tr>\n",
              "    <tr>\n",
              "      <th>4</th>\n",
              "      <td>2022-08-01</td>\n",
              "      <td>NaN</td>\n",
              "      <td>NaN</td>\n",
              "      <td>NaN</td>\n",
              "      <td>NaN</td>\n",
              "      <td>NaN</td>\n",
              "      <td>NaN</td>\n",
              "      <td>NaN</td>\n",
              "      <td>NaN</td>\n",
              "      <td>NaN</td>\n",
              "    </tr>\n",
              "    <tr>\n",
              "      <th>5</th>\n",
              "      <td>2022-09-01</td>\n",
              "      <td>NaN</td>\n",
              "      <td>NaN</td>\n",
              "      <td>NaN</td>\n",
              "      <td>NaN</td>\n",
              "      <td>NaN</td>\n",
              "      <td>NaN</td>\n",
              "      <td>NaN</td>\n",
              "      <td>NaN</td>\n",
              "      <td>NaN</td>\n",
              "    </tr>\n",
              "    <tr>\n",
              "      <th>...</th>\n",
              "      <td>...</td>\n",
              "      <td>...</td>\n",
              "      <td>...</td>\n",
              "      <td>...</td>\n",
              "      <td>...</td>\n",
              "      <td>...</td>\n",
              "      <td>...</td>\n",
              "      <td>...</td>\n",
              "      <td>...</td>\n",
              "      <td>...</td>\n",
              "    </tr>\n",
              "    <tr>\n",
              "      <th>356</th>\n",
              "      <td>2051-12-01</td>\n",
              "      <td>NaN</td>\n",
              "      <td>NaN</td>\n",
              "      <td>NaN</td>\n",
              "      <td>NaN</td>\n",
              "      <td>NaN</td>\n",
              "      <td>NaN</td>\n",
              "      <td>NaN</td>\n",
              "      <td>NaN</td>\n",
              "      <td>NaN</td>\n",
              "    </tr>\n",
              "    <tr>\n",
              "      <th>357</th>\n",
              "      <td>2052-01-01</td>\n",
              "      <td>NaN</td>\n",
              "      <td>NaN</td>\n",
              "      <td>NaN</td>\n",
              "      <td>NaN</td>\n",
              "      <td>NaN</td>\n",
              "      <td>NaN</td>\n",
              "      <td>NaN</td>\n",
              "      <td>NaN</td>\n",
              "      <td>NaN</td>\n",
              "    </tr>\n",
              "    <tr>\n",
              "      <th>358</th>\n",
              "      <td>2052-02-01</td>\n",
              "      <td>NaN</td>\n",
              "      <td>NaN</td>\n",
              "      <td>NaN</td>\n",
              "      <td>NaN</td>\n",
              "      <td>NaN</td>\n",
              "      <td>NaN</td>\n",
              "      <td>NaN</td>\n",
              "      <td>NaN</td>\n",
              "      <td>NaN</td>\n",
              "    </tr>\n",
              "    <tr>\n",
              "      <th>359</th>\n",
              "      <td>2052-03-01</td>\n",
              "      <td>NaN</td>\n",
              "      <td>NaN</td>\n",
              "      <td>NaN</td>\n",
              "      <td>NaN</td>\n",
              "      <td>NaN</td>\n",
              "      <td>NaN</td>\n",
              "      <td>NaN</td>\n",
              "      <td>NaN</td>\n",
              "      <td>NaN</td>\n",
              "    </tr>\n",
              "    <tr>\n",
              "      <th>360</th>\n",
              "      <td>2052-04-01</td>\n",
              "      <td>NaN</td>\n",
              "      <td>NaN</td>\n",
              "      <td>NaN</td>\n",
              "      <td>NaN</td>\n",
              "      <td>NaN</td>\n",
              "      <td>NaN</td>\n",
              "      <td>NaN</td>\n",
              "      <td>NaN</td>\n",
              "      <td>NaN</td>\n",
              "    </tr>\n",
              "  </tbody>\n",
              "</table>\n",
              "<p>360 rows × 10 columns</p>\n",
              "</div>"
            ],
            "text/plain": [
              "       Payment Date  Org Total Payment  Total Payment  Interest  Principal  \\\n",
              "Period                                                                       \n",
              "1        2022-05-01                NaN            NaN       NaN        NaN   \n",
              "2        2022-06-01                NaN            NaN       NaN        NaN   \n",
              "3        2022-07-01                NaN            NaN       NaN        NaN   \n",
              "4        2022-08-01                NaN            NaN       NaN        NaN   \n",
              "5        2022-09-01                NaN            NaN       NaN        NaN   \n",
              "...             ...                ...            ...       ...        ...   \n",
              "356      2051-12-01                NaN            NaN       NaN        NaN   \n",
              "357      2052-01-01                NaN            NaN       NaN        NaN   \n",
              "358      2052-02-01                NaN            NaN       NaN        NaN   \n",
              "359      2052-03-01                NaN            NaN       NaN        NaN   \n",
              "360      2052-04-01                NaN            NaN       NaN        NaN   \n",
              "\n",
              "        Rent  Cash Flow  Additional Payment  Org Ending Balance  \\\n",
              "Period                                                            \n",
              "1        NaN        NaN                 NaN                 NaN   \n",
              "2        NaN        NaN                 NaN                 NaN   \n",
              "3        NaN        NaN                 NaN                 NaN   \n",
              "4        NaN        NaN                 NaN                 NaN   \n",
              "5        NaN        NaN                 NaN                 NaN   \n",
              "...      ...        ...                 ...                 ...   \n",
              "356      NaN        NaN                 NaN                 NaN   \n",
              "357      NaN        NaN                 NaN                 NaN   \n",
              "358      NaN        NaN                 NaN                 NaN   \n",
              "359      NaN        NaN                 NaN                 NaN   \n",
              "360      NaN        NaN                 NaN                 NaN   \n",
              "\n",
              "        Ending Balance  \n",
              "Period                  \n",
              "1                  NaN  \n",
              "2                  NaN  \n",
              "3                  NaN  \n",
              "4                  NaN  \n",
              "5                  NaN  \n",
              "...                ...  \n",
              "356                NaN  \n",
              "357                NaN  \n",
              "358                NaN  \n",
              "359                NaN  \n",
              "360                NaN  \n",
              "\n",
              "[360 rows x 10 columns]"
            ]
          },
          "execution_count": 10,
          "metadata": {},
          "output_type": "execute_result"
        }
      ],
      "source": [
        "df"
      ]
    },
    {
      "cell_type": "code",
      "execution_count": 11,
      "metadata": {
        "id": "d822RQB2vdas"
      },
      "outputs": [],
      "source": [
        "# test if additional cash flow from rent is passed as an arg\n",
        "if (start_rent !=None) and (start_cash_flow != None) and (rent_increase_yoy != None) and (extra_payment_prct !=None):\n",
        "  initial_additional_pmt = start_cash_flow * extra_payment_prct\n",
        "elif extra_payment != None:\n",
        "  initial_additional_pmt = extra_payment\n",
        "else:\n",
        "  initial_additional_pmt = 0"
      ]
    },
    {
      "cell_type": "code",
      "execution_count": 14,
      "metadata": {
        "colab": {
          "base_uri": "https://localhost:8080/",
          "height": 516
        },
        "id": "ZoOtBGnOFPdf",
        "outputId": "581cbfd7-2b04-4eba-aded-ff64c86f8fd4"
      },
      "outputs": [
        {
          "ename": "InvalidIndexError",
          "evalue": "You can only assign a scalar value not a <class 'list'>",
          "output_type": "error",
          "traceback": [
            "\u001b[0;31m---------------------------------------------------------------------------\u001b[0m",
            "\u001b[0;31mTypeError\u001b[0m                                 Traceback (most recent call last)",
            "File \u001b[0;32m~/miniconda3/envs/py311/lib/python3.11/site-packages/pandas/core/indexes/base.py:3653\u001b[0m, in \u001b[0;36mIndex.get_loc\u001b[0;34m(self, key)\u001b[0m\n\u001b[1;32m   3652\u001b[0m \u001b[39mtry\u001b[39;00m:\n\u001b[0;32m-> 3653\u001b[0m     \u001b[39mreturn\u001b[39;00m \u001b[39mself\u001b[39;49m\u001b[39m.\u001b[39;49m_engine\u001b[39m.\u001b[39;49mget_loc(casted_key)\n\u001b[1;32m   3654\u001b[0m \u001b[39mexcept\u001b[39;00m \u001b[39mKeyError\u001b[39;00m \u001b[39mas\u001b[39;00m err:\n",
            "File \u001b[0;32m~/miniconda3/envs/py311/lib/python3.11/site-packages/pandas/_libs/index.pyx:147\u001b[0m, in \u001b[0;36mpandas._libs.index.IndexEngine.get_loc\u001b[0;34m()\u001b[0m\n",
            "File \u001b[0;32m~/miniconda3/envs/py311/lib/python3.11/site-packages/pandas/_libs/index.pyx:153\u001b[0m, in \u001b[0;36mpandas._libs.index.IndexEngine.get_loc\u001b[0;34m()\u001b[0m\n",
            "\u001b[0;31mTypeError\u001b[0m: '['Org Total Payment', 'Total Payment', 'Interest', 'Principal', 'Rent', 'Cash Flow', 'Additional Payment', 'Org Ending Balance', 'Ending Balance']' is an invalid key",
            "\nDuring handling of the above exception, another exception occurred:\n",
            "\u001b[0;31mInvalidIndexError\u001b[0m                         Traceback (most recent call last)",
            "File \u001b[0;32m~/miniconda3/envs/py311/lib/python3.11/site-packages/pandas/core/frame.py:4179\u001b[0m, in \u001b[0;36mDataFrame._set_value\u001b[0;34m(self, index, col, value, takeable)\u001b[0m\n\u001b[1;32m   4178\u001b[0m \u001b[39melse\u001b[39;00m:\n\u001b[0;32m-> 4179\u001b[0m     icol \u001b[39m=\u001b[39m \u001b[39mself\u001b[39;49m\u001b[39m.\u001b[39;49mcolumns\u001b[39m.\u001b[39;49mget_loc(col)\n\u001b[1;32m   4180\u001b[0m     iindex \u001b[39m=\u001b[39m \u001b[39mself\u001b[39m\u001b[39m.\u001b[39mindex\u001b[39m.\u001b[39mget_loc(index)\n",
            "File \u001b[0;32m~/miniconda3/envs/py311/lib/python3.11/site-packages/pandas/core/indexes/base.py:3660\u001b[0m, in \u001b[0;36mIndex.get_loc\u001b[0;34m(self, key)\u001b[0m\n\u001b[1;32m   3656\u001b[0m \u001b[39mexcept\u001b[39;00m \u001b[39mTypeError\u001b[39;00m:\n\u001b[1;32m   3657\u001b[0m     \u001b[39m# If we have a listlike key, _check_indexing_error will raise\u001b[39;00m\n\u001b[1;32m   3658\u001b[0m     \u001b[39m#  InvalidIndexError. Otherwise we fall through and re-raise\u001b[39;00m\n\u001b[1;32m   3659\u001b[0m     \u001b[39m#  the TypeError.\u001b[39;00m\n\u001b[0;32m-> 3660\u001b[0m     \u001b[39mself\u001b[39;49m\u001b[39m.\u001b[39;49m_check_indexing_error(key)\n\u001b[1;32m   3661\u001b[0m     \u001b[39mraise\u001b[39;00m\n",
            "File \u001b[0;32m~/miniconda3/envs/py311/lib/python3.11/site-packages/pandas/core/indexes/base.py:5737\u001b[0m, in \u001b[0;36mIndex._check_indexing_error\u001b[0;34m(self, key)\u001b[0m\n\u001b[1;32m   5734\u001b[0m \u001b[39mif\u001b[39;00m \u001b[39mnot\u001b[39;00m is_scalar(key):\n\u001b[1;32m   5735\u001b[0m     \u001b[39m# if key is not a scalar, directly raise an error (the code below\u001b[39;00m\n\u001b[1;32m   5736\u001b[0m     \u001b[39m# would convert to numpy arrays and raise later any way) - GH29926\u001b[39;00m\n\u001b[0;32m-> 5737\u001b[0m     \u001b[39mraise\u001b[39;00m InvalidIndexError(key)\n",
            "\u001b[0;31mInvalidIndexError\u001b[0m: ['Org Total Payment', 'Total Payment', 'Interest', 'Principal', 'Rent', 'Cash Flow', 'Additional Payment', 'Org Ending Balance', 'Ending Balance']",
            "\nThe above exception was the direct cause of the following exception:\n",
            "\u001b[0;31mInvalidIndexError\u001b[0m                         Traceback (most recent call last)",
            "\u001b[0;32m/tmp/ipykernel_518442/1158301352.py\u001b[0m in \u001b[0;36m?\u001b[0;34m()\u001b[0m\n\u001b[1;32m     14\u001b[0m }\n\u001b[1;32m     15\u001b[0m \u001b[0;31m# set values\u001b[0m\u001b[0;34m\u001b[0m\u001b[0;34m\u001b[0m\u001b[0m\n\u001b[1;32m     16\u001b[0m \u001b[0mcolumns\u001b[0m \u001b[0;34m=\u001b[0m \u001b[0mlist\u001b[0m\u001b[0;34m(\u001b[0m\u001b[0minitial_row_dict\u001b[0m\u001b[0;34m.\u001b[0m\u001b[0mkeys\u001b[0m\u001b[0;34m(\u001b[0m\u001b[0;34m)\u001b[0m\u001b[0;34m)\u001b[0m\u001b[0;34m\u001b[0m\u001b[0;34m\u001b[0m\u001b[0m\n\u001b[1;32m     17\u001b[0m \u001b[0mperiod_values\u001b[0m \u001b[0;34m=\u001b[0m \u001b[0mlist\u001b[0m\u001b[0;34m(\u001b[0m\u001b[0minitial_row_dict\u001b[0m\u001b[0;34m.\u001b[0m\u001b[0mvalues\u001b[0m\u001b[0;34m(\u001b[0m\u001b[0;34m)\u001b[0m\u001b[0;34m)\u001b[0m\u001b[0;34m\u001b[0m\u001b[0;34m\u001b[0m\u001b[0m\n\u001b[0;32m---> 18\u001b[0;31m \u001b[0mdf\u001b[0m\u001b[0;34m.\u001b[0m\u001b[0mat\u001b[0m\u001b[0;34m[\u001b[0m\u001b[0mperiod\u001b[0m\u001b[0;34m,\u001b[0m \u001b[0mcolumns\u001b[0m\u001b[0;34m]\u001b[0m\u001b[0;34m=\u001b[0m\u001b[0mperiod_values\u001b[0m\u001b[0;34m\u001b[0m\u001b[0;34m\u001b[0m\u001b[0m\n\u001b[0m\u001b[1;32m     19\u001b[0m \u001b[0;31m# round values\u001b[0m\u001b[0;34m\u001b[0m\u001b[0;34m\u001b[0m\u001b[0m\n\u001b[1;32m     20\u001b[0m \u001b[0mdf\u001b[0m \u001b[0;34m=\u001b[0m \u001b[0mdf\u001b[0m\u001b[0;34m.\u001b[0m\u001b[0mround\u001b[0m\u001b[0;34m(\u001b[0m\u001b[0;36m2\u001b[0m\u001b[0;34m)\u001b[0m\u001b[0;34m\u001b[0m\u001b[0;34m\u001b[0m\u001b[0m\n\u001b[1;32m     21\u001b[0m \u001b[0mdf\u001b[0m\u001b[0;34m\u001b[0m\u001b[0;34m\u001b[0m\u001b[0m\n",
            "\u001b[0;32m~/miniconda3/envs/py311/lib/python3.11/site-packages/pandas/core/indexing.py\u001b[0m in \u001b[0;36m?\u001b[0;34m(self, key, value)\u001b[0m\n\u001b[1;32m   2426\u001b[0m \u001b[0;34m\u001b[0m\u001b[0m\n\u001b[1;32m   2427\u001b[0m             \u001b[0mself\u001b[0m\u001b[0;34m.\u001b[0m\u001b[0mobj\u001b[0m\u001b[0;34m.\u001b[0m\u001b[0mloc\u001b[0m\u001b[0;34m[\u001b[0m\u001b[0mkey\u001b[0m\u001b[0;34m]\u001b[0m \u001b[0;34m=\u001b[0m \u001b[0mvalue\u001b[0m\u001b[0;34m\u001b[0m\u001b[0;34m\u001b[0m\u001b[0m\n\u001b[1;32m   2428\u001b[0m             \u001b[0;32mreturn\u001b[0m\u001b[0;34m\u001b[0m\u001b[0;34m\u001b[0m\u001b[0m\n\u001b[1;32m   2429\u001b[0m \u001b[0;34m\u001b[0m\u001b[0m\n\u001b[0;32m-> 2430\u001b[0;31m         \u001b[0;32mreturn\u001b[0m \u001b[0msuper\u001b[0m\u001b[0;34m(\u001b[0m\u001b[0;34m)\u001b[0m\u001b[0;34m.\u001b[0m\u001b[0m__setitem__\u001b[0m\u001b[0;34m(\u001b[0m\u001b[0mkey\u001b[0m\u001b[0;34m,\u001b[0m \u001b[0mvalue\u001b[0m\u001b[0;34m)\u001b[0m\u001b[0;34m\u001b[0m\u001b[0;34m\u001b[0m\u001b[0m\n\u001b[0m",
            "\u001b[0;32m~/miniconda3/envs/py311/lib/python3.11/site-packages/pandas/core/indexing.py\u001b[0m in \u001b[0;36m?\u001b[0;34m(self, key, value)\u001b[0m\n\u001b[1;32m   2382\u001b[0m         \u001b[0mkey\u001b[0m \u001b[0;34m=\u001b[0m \u001b[0mlist\u001b[0m\u001b[0;34m(\u001b[0m\u001b[0mself\u001b[0m\u001b[0;34m.\u001b[0m\u001b[0m_convert_key\u001b[0m\u001b[0;34m(\u001b[0m\u001b[0mkey\u001b[0m\u001b[0;34m)\u001b[0m\u001b[0;34m)\u001b[0m\u001b[0;34m\u001b[0m\u001b[0;34m\u001b[0m\u001b[0m\n\u001b[1;32m   2383\u001b[0m         \u001b[0;32mif\u001b[0m \u001b[0mlen\u001b[0m\u001b[0;34m(\u001b[0m\u001b[0mkey\u001b[0m\u001b[0;34m)\u001b[0m \u001b[0;34m!=\u001b[0m \u001b[0mself\u001b[0m\u001b[0;34m.\u001b[0m\u001b[0mndim\u001b[0m\u001b[0;34m:\u001b[0m\u001b[0;34m\u001b[0m\u001b[0;34m\u001b[0m\u001b[0m\n\u001b[1;32m   2384\u001b[0m             \u001b[0;32mraise\u001b[0m \u001b[0mValueError\u001b[0m\u001b[0;34m(\u001b[0m\u001b[0;34m\"Not enough indexers for scalar access (setting)!\"\u001b[0m\u001b[0;34m)\u001b[0m\u001b[0;34m\u001b[0m\u001b[0;34m\u001b[0m\u001b[0m\n\u001b[1;32m   2385\u001b[0m \u001b[0;34m\u001b[0m\u001b[0m\n\u001b[0;32m-> 2386\u001b[0;31m         \u001b[0mself\u001b[0m\u001b[0;34m.\u001b[0m\u001b[0mobj\u001b[0m\u001b[0;34m.\u001b[0m\u001b[0m_set_value\u001b[0m\u001b[0;34m(\u001b[0m\u001b[0;34m*\u001b[0m\u001b[0mkey\u001b[0m\u001b[0;34m,\u001b[0m \u001b[0mvalue\u001b[0m\u001b[0;34m=\u001b[0m\u001b[0mvalue\u001b[0m\u001b[0;34m,\u001b[0m \u001b[0mtakeable\u001b[0m\u001b[0;34m=\u001b[0m\u001b[0mself\u001b[0m\u001b[0;34m.\u001b[0m\u001b[0m_takeable\u001b[0m\u001b[0;34m)\u001b[0m\u001b[0;34m\u001b[0m\u001b[0;34m\u001b[0m\u001b[0m\n\u001b[0m",
            "\u001b[0;32m~/miniconda3/envs/py311/lib/python3.11/site-packages/pandas/core/frame.py\u001b[0m in \u001b[0;36m?\u001b[0;34m(self, index, col, value, takeable)\u001b[0m\n\u001b[1;32m   4195\u001b[0m \u001b[0;34m\u001b[0m\u001b[0m\n\u001b[1;32m   4196\u001b[0m         \u001b[0;32mexcept\u001b[0m \u001b[0mInvalidIndexError\u001b[0m \u001b[0;32mas\u001b[0m \u001b[0mii_err\u001b[0m\u001b[0;34m:\u001b[0m\u001b[0;34m\u001b[0m\u001b[0;34m\u001b[0m\u001b[0m\n\u001b[1;32m   4197\u001b[0m             \u001b[0;31m# GH48729: Seems like you are trying to assign a value to a\u001b[0m\u001b[0;34m\u001b[0m\u001b[0;34m\u001b[0m\u001b[0m\n\u001b[1;32m   4198\u001b[0m             \u001b[0;31m# row when only scalar options are permitted\u001b[0m\u001b[0;34m\u001b[0m\u001b[0;34m\u001b[0m\u001b[0m\n\u001b[0;32m-> 4199\u001b[0;31m             raise InvalidIndexError(\n\u001b[0m\u001b[1;32m   4200\u001b[0m                 \u001b[0;34mf\"You can only assign a scalar value not a {type(value)}\"\u001b[0m\u001b[0;34m\u001b[0m\u001b[0;34m\u001b[0m\u001b[0m\n\u001b[1;32m   4201\u001b[0m             ) from ii_err\n",
            "\u001b[0;31mInvalidIndexError\u001b[0m: You can only assign a scalar value not a <class 'list'>"
          ]
        }
      ],
      "source": [
        "# create values for first period (first row)\n",
        "period = 1\n",
        "# for each element in the row set the value\n",
        "initial_row_dict = {\n",
        "  'Org Total Payment': initial_pmt,\n",
        "  'Total Payment': initial_pmt + (initial_additional_pmt),\n",
        "  'Interest': initial_ipmt,\n",
        "  'Principal': initial_ppmt,\n",
        "  'Rent': start_rent,\n",
        "  'Cash Flow': start_cash_flow,\n",
        "  'Additional Payment': initial_additional_pmt,\n",
        "  'Org Ending Balance': mortgage - initial_ppmt,\n",
        "  'Ending Balance': mortgage - initial_ppmt - (initial_additional_pmt)\n",
        "}\n",
        "# set values\n",
        "columns = list(initial_row_dict.keys())\n",
        "period_values = list(initial_row_dict.values())\n",
        "df.at[period, columns]=period_values\n",
        "# round values\n",
        "df = df.round(2)\n",
        "df"
      ]
    },
    {
      "cell_type": "code",
      "execution_count": 15,
      "metadata": {
        "colab": {
          "base_uri": "https://localhost:8080/",
          "height": 516
        },
        "id": "SEf9o7uwdZrN",
        "outputId": "28757f13-6151-482e-e726-cd66465cd0ef"
      },
      "outputs": [
        {
          "ename": "InvalidIndexError",
          "evalue": "You can only assign a scalar value not a <class 'list'>",
          "output_type": "error",
          "traceback": [
            "\u001b[0;31m---------------------------------------------------------------------------\u001b[0m",
            "\u001b[0;31mTypeError\u001b[0m                                 Traceback (most recent call last)",
            "File \u001b[0;32m~/miniconda3/envs/py311/lib/python3.11/site-packages/pandas/core/indexes/base.py:3653\u001b[0m, in \u001b[0;36mIndex.get_loc\u001b[0;34m(self, key)\u001b[0m\n\u001b[1;32m   3652\u001b[0m \u001b[39mtry\u001b[39;00m:\n\u001b[0;32m-> 3653\u001b[0m     \u001b[39mreturn\u001b[39;00m \u001b[39mself\u001b[39;49m\u001b[39m.\u001b[39;49m_engine\u001b[39m.\u001b[39;49mget_loc(casted_key)\n\u001b[1;32m   3654\u001b[0m \u001b[39mexcept\u001b[39;00m \u001b[39mKeyError\u001b[39;00m \u001b[39mas\u001b[39;00m err:\n",
            "File \u001b[0;32m~/miniconda3/envs/py311/lib/python3.11/site-packages/pandas/_libs/index.pyx:147\u001b[0m, in \u001b[0;36mpandas._libs.index.IndexEngine.get_loc\u001b[0;34m()\u001b[0m\n",
            "File \u001b[0;32m~/miniconda3/envs/py311/lib/python3.11/site-packages/pandas/_libs/index.pyx:153\u001b[0m, in \u001b[0;36mpandas._libs.index.IndexEngine.get_loc\u001b[0;34m()\u001b[0m\n",
            "\u001b[0;31mTypeError\u001b[0m: '['Org Total Payment', 'Total Payment', 'Interest', 'Principal', 'Rent', 'Cash Flow', 'Additional Payment', 'Org Ending Balance', 'Ending Balance']' is an invalid key",
            "\nDuring handling of the above exception, another exception occurred:\n",
            "\u001b[0;31mInvalidIndexError\u001b[0m                         Traceback (most recent call last)",
            "File \u001b[0;32m~/miniconda3/envs/py311/lib/python3.11/site-packages/pandas/core/frame.py:4179\u001b[0m, in \u001b[0;36mDataFrame._set_value\u001b[0;34m(self, index, col, value, takeable)\u001b[0m\n\u001b[1;32m   4178\u001b[0m \u001b[39melse\u001b[39;00m:\n\u001b[0;32m-> 4179\u001b[0m     icol \u001b[39m=\u001b[39m \u001b[39mself\u001b[39;49m\u001b[39m.\u001b[39;49mcolumns\u001b[39m.\u001b[39;49mget_loc(col)\n\u001b[1;32m   4180\u001b[0m     iindex \u001b[39m=\u001b[39m \u001b[39mself\u001b[39m\u001b[39m.\u001b[39mindex\u001b[39m.\u001b[39mget_loc(index)\n",
            "File \u001b[0;32m~/miniconda3/envs/py311/lib/python3.11/site-packages/pandas/core/indexes/base.py:3660\u001b[0m, in \u001b[0;36mIndex.get_loc\u001b[0;34m(self, key)\u001b[0m\n\u001b[1;32m   3656\u001b[0m \u001b[39mexcept\u001b[39;00m \u001b[39mTypeError\u001b[39;00m:\n\u001b[1;32m   3657\u001b[0m     \u001b[39m# If we have a listlike key, _check_indexing_error will raise\u001b[39;00m\n\u001b[1;32m   3658\u001b[0m     \u001b[39m#  InvalidIndexError. Otherwise we fall through and re-raise\u001b[39;00m\n\u001b[1;32m   3659\u001b[0m     \u001b[39m#  the TypeError.\u001b[39;00m\n\u001b[0;32m-> 3660\u001b[0m     \u001b[39mself\u001b[39;49m\u001b[39m.\u001b[39;49m_check_indexing_error(key)\n\u001b[1;32m   3661\u001b[0m     \u001b[39mraise\u001b[39;00m\n",
            "File \u001b[0;32m~/miniconda3/envs/py311/lib/python3.11/site-packages/pandas/core/indexes/base.py:5737\u001b[0m, in \u001b[0;36mIndex._check_indexing_error\u001b[0;34m(self, key)\u001b[0m\n\u001b[1;32m   5734\u001b[0m \u001b[39mif\u001b[39;00m \u001b[39mnot\u001b[39;00m is_scalar(key):\n\u001b[1;32m   5735\u001b[0m     \u001b[39m# if key is not a scalar, directly raise an error (the code below\u001b[39;00m\n\u001b[1;32m   5736\u001b[0m     \u001b[39m# would convert to numpy arrays and raise later any way) - GH29926\u001b[39;00m\n\u001b[0;32m-> 5737\u001b[0m     \u001b[39mraise\u001b[39;00m InvalidIndexError(key)\n",
            "\u001b[0;31mInvalidIndexError\u001b[0m: ['Org Total Payment', 'Total Payment', 'Interest', 'Principal', 'Rent', 'Cash Flow', 'Additional Payment', 'Org Ending Balance', 'Ending Balance']",
            "\nThe above exception was the direct cause of the following exception:\n",
            "\u001b[0;31mInvalidIndexError\u001b[0m                         Traceback (most recent call last)",
            "\u001b[0;32m/tmp/ipykernel_518442/2063815263.py\u001b[0m in \u001b[0;36m?\u001b[0;34m()\u001b[0m\n\u001b[1;32m     46\u001b[0m               \u001b[0;34m'Org Ending Balance'\u001b[0m\u001b[0;34m:\u001b[0m \u001b[0morg_ending_balance\u001b[0m\u001b[0;34m,\u001b[0m\u001b[0;34m\u001b[0m\u001b[0;34m\u001b[0m\u001b[0m\n\u001b[1;32m     47\u001b[0m               'Ending Balance': ending_balance}\n\u001b[1;32m     48\u001b[0m   \u001b[0mcolumns\u001b[0m \u001b[0;34m=\u001b[0m \u001b[0mlist\u001b[0m\u001b[0;34m(\u001b[0m\u001b[0mrow_dict\u001b[0m\u001b[0;34m.\u001b[0m\u001b[0mkeys\u001b[0m\u001b[0;34m(\u001b[0m\u001b[0;34m)\u001b[0m\u001b[0;34m)\u001b[0m\u001b[0;34m\u001b[0m\u001b[0;34m\u001b[0m\u001b[0m\n\u001b[1;32m     49\u001b[0m   \u001b[0mperiod_values\u001b[0m \u001b[0;34m=\u001b[0m \u001b[0mlist\u001b[0m\u001b[0;34m(\u001b[0m\u001b[0mrow_dict\u001b[0m\u001b[0;34m.\u001b[0m\u001b[0mvalues\u001b[0m\u001b[0;34m(\u001b[0m\u001b[0;34m)\u001b[0m\u001b[0;34m)\u001b[0m\u001b[0;34m\u001b[0m\u001b[0;34m\u001b[0m\u001b[0m\n\u001b[0;32m---> 50\u001b[0;31m   \u001b[0mdf\u001b[0m\u001b[0;34m.\u001b[0m\u001b[0mat\u001b[0m\u001b[0;34m[\u001b[0m\u001b[0mperiod\u001b[0m\u001b[0;34m,\u001b[0m\u001b[0mcolumns\u001b[0m\u001b[0;34m]\u001b[0m\u001b[0;34m=\u001b[0m\u001b[0mperiod_values\u001b[0m\u001b[0;34m\u001b[0m\u001b[0;34m\u001b[0m\u001b[0m\n\u001b[0m\u001b[1;32m     51\u001b[0m \u001b[0;34m\u001b[0m\u001b[0m\n\u001b[1;32m     52\u001b[0m \u001b[0mdf\u001b[0m \u001b[0;34m=\u001b[0m \u001b[0mdf\u001b[0m\u001b[0;34m.\u001b[0m\u001b[0mround\u001b[0m\u001b[0;34m(\u001b[0m\u001b[0;36m2\u001b[0m\u001b[0;34m)\u001b[0m\u001b[0;34m\u001b[0m\u001b[0;34m\u001b[0m\u001b[0m\n\u001b[1;32m     53\u001b[0m \u001b[0mdf\u001b[0m\u001b[0;34m\u001b[0m\u001b[0;34m\u001b[0m\u001b[0m\n",
            "\u001b[0;32m~/miniconda3/envs/py311/lib/python3.11/site-packages/pandas/core/indexing.py\u001b[0m in \u001b[0;36m?\u001b[0;34m(self, key, value)\u001b[0m\n\u001b[1;32m   2426\u001b[0m \u001b[0;34m\u001b[0m\u001b[0m\n\u001b[1;32m   2427\u001b[0m             \u001b[0mself\u001b[0m\u001b[0;34m.\u001b[0m\u001b[0mobj\u001b[0m\u001b[0;34m.\u001b[0m\u001b[0mloc\u001b[0m\u001b[0;34m[\u001b[0m\u001b[0mkey\u001b[0m\u001b[0;34m]\u001b[0m \u001b[0;34m=\u001b[0m \u001b[0mvalue\u001b[0m\u001b[0;34m\u001b[0m\u001b[0;34m\u001b[0m\u001b[0m\n\u001b[1;32m   2428\u001b[0m             \u001b[0;32mreturn\u001b[0m\u001b[0;34m\u001b[0m\u001b[0;34m\u001b[0m\u001b[0m\n\u001b[1;32m   2429\u001b[0m \u001b[0;34m\u001b[0m\u001b[0m\n\u001b[0;32m-> 2430\u001b[0;31m         \u001b[0;32mreturn\u001b[0m \u001b[0msuper\u001b[0m\u001b[0;34m(\u001b[0m\u001b[0;34m)\u001b[0m\u001b[0;34m.\u001b[0m\u001b[0m__setitem__\u001b[0m\u001b[0;34m(\u001b[0m\u001b[0mkey\u001b[0m\u001b[0;34m,\u001b[0m \u001b[0mvalue\u001b[0m\u001b[0;34m)\u001b[0m\u001b[0;34m\u001b[0m\u001b[0;34m\u001b[0m\u001b[0m\n\u001b[0m",
            "\u001b[0;32m~/miniconda3/envs/py311/lib/python3.11/site-packages/pandas/core/indexing.py\u001b[0m in \u001b[0;36m?\u001b[0;34m(self, key, value)\u001b[0m\n\u001b[1;32m   2382\u001b[0m         \u001b[0mkey\u001b[0m \u001b[0;34m=\u001b[0m \u001b[0mlist\u001b[0m\u001b[0;34m(\u001b[0m\u001b[0mself\u001b[0m\u001b[0;34m.\u001b[0m\u001b[0m_convert_key\u001b[0m\u001b[0;34m(\u001b[0m\u001b[0mkey\u001b[0m\u001b[0;34m)\u001b[0m\u001b[0;34m)\u001b[0m\u001b[0;34m\u001b[0m\u001b[0;34m\u001b[0m\u001b[0m\n\u001b[1;32m   2383\u001b[0m         \u001b[0;32mif\u001b[0m \u001b[0mlen\u001b[0m\u001b[0;34m(\u001b[0m\u001b[0mkey\u001b[0m\u001b[0;34m)\u001b[0m \u001b[0;34m!=\u001b[0m \u001b[0mself\u001b[0m\u001b[0;34m.\u001b[0m\u001b[0mndim\u001b[0m\u001b[0;34m:\u001b[0m\u001b[0;34m\u001b[0m\u001b[0;34m\u001b[0m\u001b[0m\n\u001b[1;32m   2384\u001b[0m             \u001b[0;32mraise\u001b[0m \u001b[0mValueError\u001b[0m\u001b[0;34m(\u001b[0m\u001b[0;34m\"Not enough indexers for scalar access (setting)!\"\u001b[0m\u001b[0;34m)\u001b[0m\u001b[0;34m\u001b[0m\u001b[0;34m\u001b[0m\u001b[0m\n\u001b[1;32m   2385\u001b[0m \u001b[0;34m\u001b[0m\u001b[0m\n\u001b[0;32m-> 2386\u001b[0;31m         \u001b[0mself\u001b[0m\u001b[0;34m.\u001b[0m\u001b[0mobj\u001b[0m\u001b[0;34m.\u001b[0m\u001b[0m_set_value\u001b[0m\u001b[0;34m(\u001b[0m\u001b[0;34m*\u001b[0m\u001b[0mkey\u001b[0m\u001b[0;34m,\u001b[0m \u001b[0mvalue\u001b[0m\u001b[0;34m=\u001b[0m\u001b[0mvalue\u001b[0m\u001b[0;34m,\u001b[0m \u001b[0mtakeable\u001b[0m\u001b[0;34m=\u001b[0m\u001b[0mself\u001b[0m\u001b[0;34m.\u001b[0m\u001b[0m_takeable\u001b[0m\u001b[0;34m)\u001b[0m\u001b[0;34m\u001b[0m\u001b[0;34m\u001b[0m\u001b[0m\n\u001b[0m",
            "\u001b[0;32m~/miniconda3/envs/py311/lib/python3.11/site-packages/pandas/core/frame.py\u001b[0m in \u001b[0;36m?\u001b[0;34m(self, index, col, value, takeable)\u001b[0m\n\u001b[1;32m   4195\u001b[0m \u001b[0;34m\u001b[0m\u001b[0m\n\u001b[1;32m   4196\u001b[0m         \u001b[0;32mexcept\u001b[0m \u001b[0mInvalidIndexError\u001b[0m \u001b[0;32mas\u001b[0m \u001b[0mii_err\u001b[0m\u001b[0;34m:\u001b[0m\u001b[0;34m\u001b[0m\u001b[0;34m\u001b[0m\u001b[0m\n\u001b[1;32m   4197\u001b[0m             \u001b[0;31m# GH48729: Seems like you are trying to assign a value to a\u001b[0m\u001b[0;34m\u001b[0m\u001b[0;34m\u001b[0m\u001b[0m\n\u001b[1;32m   4198\u001b[0m             \u001b[0;31m# row when only scalar options are permitted\u001b[0m\u001b[0;34m\u001b[0m\u001b[0;34m\u001b[0m\u001b[0m\n\u001b[0;32m-> 4199\u001b[0;31m             raise InvalidIndexError(\n\u001b[0m\u001b[1;32m   4200\u001b[0m                 \u001b[0;34mf\"You can only assign a scalar value not a {type(value)}\"\u001b[0m\u001b[0;34m\u001b[0m\u001b[0;34m\u001b[0m\u001b[0m\n\u001b[1;32m   4201\u001b[0m             ) from ii_err\n",
            "\u001b[0;31mInvalidIndexError\u001b[0m: You can only assign a scalar value not a <class 'list'>"
          ]
        }
      ],
      "source": [
        "# add additional rows\n",
        "for period in range(2, len(df) + 1):\n",
        "  # get prior period values\n",
        "  previous_total_payment = df.loc[period - 1, 'Total Payment']\n",
        "  previous_principal = df.loc[period - 1, 'Principal']\n",
        "  previous_rent = df.loc[period - 1, 'Rent']\n",
        "  previous_cf = df.loc[period - 1, 'Cash Flow']\n",
        "  previous_org_ending_balance = df.loc[period - 1, 'Org Ending Balance']\n",
        "  previous_ending_balance = df.loc[period - 1, 'Ending Balance']\n",
        "\n",
        "  # get additional payment values\n",
        "  if (start_rent !=None) and (start_cash_flow != None) and (rent_increase_yoy != None) and (extra_payment_prct !=None):\n",
        "    if period % 13 == 0:\n",
        "      period_rent = previous_rent * (1 + rent_increase_yoy)\n",
        "    else:\n",
        "      period_rent = previous_rent\n",
        "    period_cash_flow = previous_cf + (period_rent - previous_rent)\n",
        "    period_additional_pmt = period_cash_flow * extra_payment_prct\n",
        "  elif extra_payment != None:\n",
        "    period_additional_pmt = initial_additional_pmt\n",
        "    period_rent = 0\n",
        "    period_cash_flow = 0\n",
        "    extra_payment_prct = 0\n",
        "  else:\n",
        "    period_additional_pmt = 0\n",
        "    period_rent = 0\n",
        "    period_cash_flow = 0\n",
        "    extra_payment_prct = 0\n",
        "\n",
        "  # get end balance\n",
        "  period_interest = previous_org_ending_balance * interest / payments_year\n",
        "  period_principal = initial_pmt - period_interest\n",
        "  org_ending_balance = previous_org_ending_balance - period_principal\n",
        "  ending_balance = previous_ending_balance - period_principal - period_additional_pmt\n",
        "  org_ending_balance = 0 if org_ending_balance <= 0 else org_ending_balance\n",
        "  ending_balance = 0 if ending_balance <= 0 else ending_balance\n",
        "\n",
        "\n",
        "  row_dict = {'Org Total Payment': initial_pmt,\n",
        "              'Total Payment': initial_pmt + period_additional_pmt,\n",
        "              'Interest': period_interest,\n",
        "              'Principal': period_principal,\n",
        "              'Rent': period_rent,\n",
        "              'Cash Flow': period_cash_flow,\n",
        "              'Additional Payment': period_additional_pmt,\n",
        "              'Org Ending Balance': org_ending_balance,\n",
        "              'Ending Balance': ending_balance}\n",
        "  columns = list(row_dict.keys())\n",
        "  period_values = list(row_dict.values())\n",
        "  df.at[period,columns]=period_values\n",
        "\n",
        "df = df.round(2)\n",
        "df"
      ]
    },
    {
      "cell_type": "code",
      "execution_count": 16,
      "metadata": {
        "colab": {
          "base_uri": "https://localhost:8080/",
          "height": 424
        },
        "id": "LljXzwwzKVn6",
        "outputId": "2271d1d1-9b2d-42ca-e666-10e459e83305"
      },
      "outputs": [
        {
          "data": {
            "text/html": [
              "<div>\n",
              "<style scoped>\n",
              "    .dataframe tbody tr th:only-of-type {\n",
              "        vertical-align: middle;\n",
              "    }\n",
              "\n",
              "    .dataframe tbody tr th {\n",
              "        vertical-align: top;\n",
              "    }\n",
              "\n",
              "    .dataframe thead th {\n",
              "        text-align: right;\n",
              "    }\n",
              "</style>\n",
              "<table border=\"1\" class=\"dataframe\">\n",
              "  <thead>\n",
              "    <tr style=\"text-align: right;\">\n",
              "      <th></th>\n",
              "      <th>Payment Date</th>\n",
              "      <th>variable</th>\n",
              "      <th>value</th>\n",
              "    </tr>\n",
              "  </thead>\n",
              "  <tbody>\n",
              "    <tr>\n",
              "      <th>0</th>\n",
              "      <td>2022-05-01</td>\n",
              "      <td>Org Ending Balance</td>\n",
              "      <td>NaN</td>\n",
              "    </tr>\n",
              "    <tr>\n",
              "      <th>1</th>\n",
              "      <td>2022-06-01</td>\n",
              "      <td>Org Ending Balance</td>\n",
              "      <td>NaN</td>\n",
              "    </tr>\n",
              "    <tr>\n",
              "      <th>2</th>\n",
              "      <td>2022-07-01</td>\n",
              "      <td>Org Ending Balance</td>\n",
              "      <td>NaN</td>\n",
              "    </tr>\n",
              "    <tr>\n",
              "      <th>3</th>\n",
              "      <td>2022-08-01</td>\n",
              "      <td>Org Ending Balance</td>\n",
              "      <td>NaN</td>\n",
              "    </tr>\n",
              "    <tr>\n",
              "      <th>4</th>\n",
              "      <td>2022-09-01</td>\n",
              "      <td>Org Ending Balance</td>\n",
              "      <td>NaN</td>\n",
              "    </tr>\n",
              "    <tr>\n",
              "      <th>...</th>\n",
              "      <td>...</td>\n",
              "      <td>...</td>\n",
              "      <td>...</td>\n",
              "    </tr>\n",
              "    <tr>\n",
              "      <th>715</th>\n",
              "      <td>2051-12-01</td>\n",
              "      <td>Ending Balance</td>\n",
              "      <td>NaN</td>\n",
              "    </tr>\n",
              "    <tr>\n",
              "      <th>716</th>\n",
              "      <td>2052-01-01</td>\n",
              "      <td>Ending Balance</td>\n",
              "      <td>NaN</td>\n",
              "    </tr>\n",
              "    <tr>\n",
              "      <th>717</th>\n",
              "      <td>2052-02-01</td>\n",
              "      <td>Ending Balance</td>\n",
              "      <td>NaN</td>\n",
              "    </tr>\n",
              "    <tr>\n",
              "      <th>718</th>\n",
              "      <td>2052-03-01</td>\n",
              "      <td>Ending Balance</td>\n",
              "      <td>NaN</td>\n",
              "    </tr>\n",
              "    <tr>\n",
              "      <th>719</th>\n",
              "      <td>2052-04-01</td>\n",
              "      <td>Ending Balance</td>\n",
              "      <td>NaN</td>\n",
              "    </tr>\n",
              "  </tbody>\n",
              "</table>\n",
              "<p>720 rows × 3 columns</p>\n",
              "</div>"
            ],
            "text/plain": [
              "    Payment Date            variable  value\n",
              "0     2022-05-01  Org Ending Balance    NaN\n",
              "1     2022-06-01  Org Ending Balance    NaN\n",
              "2     2022-07-01  Org Ending Balance    NaN\n",
              "3     2022-08-01  Org Ending Balance    NaN\n",
              "4     2022-09-01  Org Ending Balance    NaN\n",
              "..           ...                 ...    ...\n",
              "715   2051-12-01      Ending Balance    NaN\n",
              "716   2052-01-01      Ending Balance    NaN\n",
              "717   2052-02-01      Ending Balance    NaN\n",
              "718   2052-03-01      Ending Balance    NaN\n",
              "719   2052-04-01      Ending Balance    NaN\n",
              "\n",
              "[720 rows x 3 columns]"
            ]
          },
          "execution_count": 16,
          "metadata": {},
          "output_type": "execute_result"
        }
      ],
      "source": [
        "df_plot = pd.melt(df, id_vars=['Payment Date'], value_vars=['Org Ending Balance', 'Ending Balance'])\n",
        "df_plot"
      ]
    },
    {
      "cell_type": "code",
      "execution_count": 17,
      "metadata": {
        "colab": {
          "base_uri": "https://localhost:8080/"
        },
        "id": "PhxqhrCbu6Rw",
        "outputId": "544949b6-f2ee-4a62-98fa-78a4ec0a21e9"
      },
      "outputs": [
        {
          "ename": "ValueError",
          "evalue": "NaTType does not support strftime",
          "output_type": "error",
          "traceback": [
            "\u001b[0;31m---------------------------------------------------------------------------\u001b[0m",
            "\u001b[0;31mValueError\u001b[0m                                Traceback (most recent call last)",
            "Cell \u001b[0;32mIn[17], line 2\u001b[0m\n\u001b[1;32m      1\u001b[0m \u001b[39m# get last payment for early payoff\u001b[39;00m\n\u001b[0;32m----> 2\u001b[0m early_payment_date \u001b[39m=\u001b[39m df_plot\u001b[39m.\u001b[39;49mloc[(df_plot[\u001b[39m'\u001b[39;49m\u001b[39mvariable\u001b[39;49m\u001b[39m'\u001b[39;49m] \u001b[39m==\u001b[39;49m \u001b[39m'\u001b[39;49m\u001b[39mEnding Balance\u001b[39;49m\u001b[39m'\u001b[39;49m) \u001b[39m&\u001b[39;49m (df_plot[\u001b[39m'\u001b[39;49m\u001b[39mvalue\u001b[39;49m\u001b[39m'\u001b[39;49m] \u001b[39m==\u001b[39;49m \u001b[39m0\u001b[39;49m)][\u001b[39m'\u001b[39;49m\u001b[39mPayment Date\u001b[39;49m\u001b[39m'\u001b[39;49m]\u001b[39m.\u001b[39;49mmin()\u001b[39m.\u001b[39;49mstrftime(\u001b[39m'\u001b[39;49m\u001b[39m%\u001b[39;49m\u001b[39mY-\u001b[39;49m\u001b[39m%\u001b[39;49m\u001b[39mm-\u001b[39;49m\u001b[39m%d\u001b[39;49;00m\u001b[39m'\u001b[39;49m)\n\u001b[1;32m      3\u001b[0m \u001b[39m# get max payment date\u001b[39;00m\n\u001b[1;32m      4\u001b[0m max_payment_date \u001b[39m=\u001b[39m df_plot[\u001b[39m'\u001b[39m\u001b[39mPayment Date\u001b[39m\u001b[39m'\u001b[39m]\u001b[39m.\u001b[39mmax()\u001b[39m.\u001b[39mstrftime(\u001b[39m'\u001b[39m\u001b[39m%\u001b[39m\u001b[39mY-\u001b[39m\u001b[39m%\u001b[39m\u001b[39mm-\u001b[39m\u001b[39m%d\u001b[39;00m\u001b[39m'\u001b[39m)\n",
            "File \u001b[0;32m~/miniconda3/envs/py311/lib/python3.11/site-packages/pandas/_libs/tslibs/nattype.pyx:59\u001b[0m, in \u001b[0;36mpandas._libs.tslibs.nattype._make_error_func.f\u001b[0;34m()\u001b[0m\n",
            "\u001b[0;31mValueError\u001b[0m: NaTType does not support strftime"
          ]
        }
      ],
      "source": [
        "# get last payment for early payoff\n",
        "early_payment_date = df_plot.loc[(df_plot['variable'] == 'Ending Balance') & (df_plot['value'] == 0)]['Payment Date'].min().strftime('%Y-%m-%d')\n",
        "# get max payment date\n",
        "max_payment_date = df_plot['Payment Date'].max().strftime('%Y-%m-%d')\n",
        "# get savings in interest\n",
        "additional_interest = df.loc[df['Payment Date'] > early_payment_date]['Interest'].sum()\n",
        "\n",
        "print('Early payment date:', early_payment_date)\n",
        "print('End payment date:', max_payment_date)\n",
        "print('Additonal interest:', additional_interest)"
      ]
    },
    {
      "cell_type": "code",
      "execution_count": 18,
      "metadata": {
        "colab": {
          "base_uri": "https://localhost:8080/",
          "height": 542
        },
        "id": "QfXQjC1RqmQz",
        "outputId": "45be0dff-2dee-4ea0-81b5-c5d2aa792e05"
      },
      "outputs": [
        {
          "ename": "NameError",
          "evalue": "name 'early_payment_date' is not defined",
          "output_type": "error",
          "traceback": [
            "\u001b[0;31m---------------------------------------------------------------------------\u001b[0m",
            "\u001b[0;31mNameError\u001b[0m                                 Traceback (most recent call last)",
            "Cell \u001b[0;32mIn[18], line 3\u001b[0m\n\u001b[1;32m      1\u001b[0m \u001b[39m# create plotly chart\u001b[39;00m\n\u001b[1;32m      2\u001b[0m fig \u001b[39m=\u001b[39m px\u001b[39m.\u001b[39mline(df_plot, x\u001b[39m=\u001b[39m\u001b[39m'\u001b[39m\u001b[39mPayment Date\u001b[39m\u001b[39m'\u001b[39m, y\u001b[39m=\u001b[39m\u001b[39m'\u001b[39m\u001b[39mvalue\u001b[39m\u001b[39m'\u001b[39m, color\u001b[39m=\u001b[39m\u001b[39m'\u001b[39m\u001b[39mvariable\u001b[39m\u001b[39m'\u001b[39m)\n\u001b[0;32m----> 3\u001b[0m fig\u001b[39m.\u001b[39madd_vline(x\u001b[39m=\u001b[39mearly_payment_date, line_dash\u001b[39m=\u001b[39m\u001b[39m\"\u001b[39m\u001b[39mdot\u001b[39m\u001b[39m\"\u001b[39m, line_color\u001b[39m=\u001b[39m\u001b[39m\"\u001b[39m\u001b[39mblack\u001b[39m\u001b[39m\"\u001b[39m)\n\u001b[1;32m      4\u001b[0m fig\u001b[39m.\u001b[39madd_vrect(\n\u001b[1;32m      5\u001b[0m   x0\u001b[39m=\u001b[39mearly_payment_date, \n\u001b[1;32m      6\u001b[0m   x1\u001b[39m=\u001b[39mmax_payment_date, \n\u001b[0;32m   (...)\u001b[0m\n\u001b[1;32m     10\u001b[0m   annotation_text\u001b[39m=\u001b[39m\u001b[39m\"\u001b[39m\u001b[39m+$\u001b[39m\u001b[39m{0}\u001b[39;00m\u001b[39m interest savings\u001b[39m\u001b[39m\"\u001b[39m\u001b[39m.\u001b[39mformat(human_format(additional_interest))\n\u001b[1;32m     11\u001b[0m )\n\u001b[1;32m     12\u001b[0m fig\u001b[39m.\u001b[39mupdate_layout(\n\u001b[1;32m     13\u001b[0m   title\u001b[39m=\u001b[39m\u001b[39m'\u001b[39m\u001b[39mMortgage Amoritization\u001b[39m\u001b[39m'\u001b[39m, \n\u001b[1;32m     14\u001b[0m   xaxis_title\u001b[39m=\u001b[39m\u001b[39m'\u001b[39m\u001b[39mYear\u001b[39m\u001b[39m'\u001b[39m, \n\u001b[0;32m   (...)\u001b[0m\n\u001b[1;32m     22\u001b[0m     x\u001b[39m=\u001b[39m\u001b[39m0.01\u001b[39m)\n\u001b[1;32m     23\u001b[0m )\n",
            "\u001b[0;31mNameError\u001b[0m: name 'early_payment_date' is not defined"
          ]
        }
      ],
      "source": [
        "# create plotly chart\n",
        "fig = px.line(df_plot, x='Payment Date', y='value', color='variable')\n",
        "fig.add_vline(x=early_payment_date, line_dash=\"dot\", line_color=\"black\")\n",
        "fig.add_vrect(\n",
        "  x0=early_payment_date, \n",
        "  x1=max_payment_date, \n",
        "  fillcolor=\"red\", \n",
        "  opacity=0.25, \n",
        "  annotation_position=\"top left\",\n",
        "  annotation_text=\"+${0} interest savings\".format(human_format(additional_interest))\n",
        ")\n",
        "fig.update_layout(\n",
        "  title='Mortgage Amoritization', \n",
        "  xaxis_title='Year', \n",
        "  yaxis_title='Mortgage Balance', \n",
        "  plot_bgcolor='white',\n",
        "  legend=dict(\n",
        "    title_text=\"Balance Type\",\n",
        "    yanchor=\"bottom\",\n",
        "    y=0.02,\n",
        "    xanchor=\"left\",\n",
        "    x=0.01)\n",
        ")\n",
        "fig.show()"
      ]
    },
    {
      "attachments": {},
      "cell_type": "markdown",
      "metadata": {
        "id": "AedRoERCMzj2"
      },
      "source": [
        "## <font color=\"blue\">Call Functions</font>"
      ]
    },
    {
      "cell_type": "code",
      "execution_count": 19,
      "metadata": {
        "colab": {
          "base_uri": "https://localhost:8080/",
          "height": 299
        },
        "id": "gKuH_znpMvc9",
        "outputId": "5977c974-a80c-4b93-c5b0-d729c849190e"
      },
      "outputs": [
        {
          "ename": "InvalidIndexError",
          "evalue": "You can only assign a scalar value not a <class 'list'>",
          "output_type": "error",
          "traceback": [
            "\u001b[0;31m---------------------------------------------------------------------------\u001b[0m",
            "\u001b[0;31mTypeError\u001b[0m                                 Traceback (most recent call last)",
            "File \u001b[0;32m~/miniconda3/envs/py311/lib/python3.11/site-packages/pandas/core/indexes/base.py:3653\u001b[0m, in \u001b[0;36mIndex.get_loc\u001b[0;34m(self, key)\u001b[0m\n\u001b[1;32m   3652\u001b[0m \u001b[39mtry\u001b[39;00m:\n\u001b[0;32m-> 3653\u001b[0m     \u001b[39mreturn\u001b[39;00m \u001b[39mself\u001b[39;49m\u001b[39m.\u001b[39;49m_engine\u001b[39m.\u001b[39;49mget_loc(casted_key)\n\u001b[1;32m   3654\u001b[0m \u001b[39mexcept\u001b[39;00m \u001b[39mKeyError\u001b[39;00m \u001b[39mas\u001b[39;00m err:\n",
            "File \u001b[0;32m~/miniconda3/envs/py311/lib/python3.11/site-packages/pandas/_libs/index.pyx:147\u001b[0m, in \u001b[0;36mpandas._libs.index.IndexEngine.get_loc\u001b[0;34m()\u001b[0m\n",
            "File \u001b[0;32m~/miniconda3/envs/py311/lib/python3.11/site-packages/pandas/_libs/index.pyx:153\u001b[0m, in \u001b[0;36mpandas._libs.index.IndexEngine.get_loc\u001b[0;34m()\u001b[0m\n",
            "\u001b[0;31mTypeError\u001b[0m: '['Org Total Payment', 'Total Payment', 'Interest', 'Principal', 'Rent', 'Cash Flow', 'Additional Payment', 'Org Ending Balance', 'Ending Balance']' is an invalid key",
            "\nDuring handling of the above exception, another exception occurred:\n",
            "\u001b[0;31mInvalidIndexError\u001b[0m                         Traceback (most recent call last)",
            "File \u001b[0;32m~/miniconda3/envs/py311/lib/python3.11/site-packages/pandas/core/frame.py:4179\u001b[0m, in \u001b[0;36mDataFrame._set_value\u001b[0;34m(self, index, col, value, takeable)\u001b[0m\n\u001b[1;32m   4178\u001b[0m \u001b[39melse\u001b[39;00m:\n\u001b[0;32m-> 4179\u001b[0m     icol \u001b[39m=\u001b[39m \u001b[39mself\u001b[39;49m\u001b[39m.\u001b[39;49mcolumns\u001b[39m.\u001b[39;49mget_loc(col)\n\u001b[1;32m   4180\u001b[0m     iindex \u001b[39m=\u001b[39m \u001b[39mself\u001b[39m\u001b[39m.\u001b[39mindex\u001b[39m.\u001b[39mget_loc(index)\n",
            "File \u001b[0;32m~/miniconda3/envs/py311/lib/python3.11/site-packages/pandas/core/indexes/base.py:3660\u001b[0m, in \u001b[0;36mIndex.get_loc\u001b[0;34m(self, key)\u001b[0m\n\u001b[1;32m   3656\u001b[0m \u001b[39mexcept\u001b[39;00m \u001b[39mTypeError\u001b[39;00m:\n\u001b[1;32m   3657\u001b[0m     \u001b[39m# If we have a listlike key, _check_indexing_error will raise\u001b[39;00m\n\u001b[1;32m   3658\u001b[0m     \u001b[39m#  InvalidIndexError. Otherwise we fall through and re-raise\u001b[39;00m\n\u001b[1;32m   3659\u001b[0m     \u001b[39m#  the TypeError.\u001b[39;00m\n\u001b[0;32m-> 3660\u001b[0m     \u001b[39mself\u001b[39;49m\u001b[39m.\u001b[39;49m_check_indexing_error(key)\n\u001b[1;32m   3661\u001b[0m     \u001b[39mraise\u001b[39;00m\n",
            "File \u001b[0;32m~/miniconda3/envs/py311/lib/python3.11/site-packages/pandas/core/indexes/base.py:5737\u001b[0m, in \u001b[0;36mIndex._check_indexing_error\u001b[0;34m(self, key)\u001b[0m\n\u001b[1;32m   5734\u001b[0m \u001b[39mif\u001b[39;00m \u001b[39mnot\u001b[39;00m is_scalar(key):\n\u001b[1;32m   5735\u001b[0m     \u001b[39m# if key is not a scalar, directly raise an error (the code below\u001b[39;00m\n\u001b[1;32m   5736\u001b[0m     \u001b[39m# would convert to numpy arrays and raise later any way) - GH29926\u001b[39;00m\n\u001b[0;32m-> 5737\u001b[0m     \u001b[39mraise\u001b[39;00m InvalidIndexError(key)\n",
            "\u001b[0;31mInvalidIndexError\u001b[0m: ['Org Total Payment', 'Total Payment', 'Interest', 'Principal', 'Rent', 'Cash Flow', 'Additional Payment', 'Org Ending Balance', 'Ending Balance']",
            "\nThe above exception was the direct cause of the following exception:\n",
            "\u001b[0;31mInvalidIndexError\u001b[0m                         Traceback (most recent call last)",
            "\u001b[0;32m/tmp/ipykernel_518442/2458249166.py\u001b[0m in \u001b[0;36m?\u001b[0;34m()\u001b[0m\n\u001b[1;32m     15\u001b[0m \u001b[0mrent_increase_yoy\u001b[0m \u001b[0;34m=\u001b[0m \u001b[0;36m.03\u001b[0m\u001b[0;34m\u001b[0m\u001b[0;34m\u001b[0m\u001b[0m\n\u001b[1;32m     16\u001b[0m \u001b[0mextra_payment_prct\u001b[0m \u001b[0;34m=\u001b[0m \u001b[0;36m0.25\u001b[0m\u001b[0;34m\u001b[0m\u001b[0;34m\u001b[0m\u001b[0m\n\u001b[1;32m     17\u001b[0m \u001b[0;34m\u001b[0m\u001b[0m\n\u001b[1;32m     18\u001b[0m \u001b[0;31m# call function to get amoritization schedule\u001b[0m\u001b[0;34m\u001b[0m\u001b[0;34m\u001b[0m\u001b[0m\n\u001b[0;32m---> 19\u001b[0;31m _df = get_mortgage_amoritization(\n\u001b[0m\u001b[1;32m     20\u001b[0m     \u001b[0minterest\u001b[0m\u001b[0;34m,\u001b[0m \u001b[0myears\u001b[0m\u001b[0;34m,\u001b[0m \u001b[0mpayments_year\u001b[0m\u001b[0;34m,\u001b[0m \u001b[0mmortgage\u001b[0m\u001b[0;34m,\u001b[0m\u001b[0;34m\u001b[0m\u001b[0;34m\u001b[0m\u001b[0m\n\u001b[1;32m     21\u001b[0m     \u001b[0mstart_date\u001b[0m\u001b[0;34m,\u001b[0m \u001b[0mextra_payment\u001b[0m\u001b[0;34m,\u001b[0m \u001b[0mstart_rent\u001b[0m\u001b[0;34m,\u001b[0m \u001b[0mstart_cash_flow\u001b[0m\u001b[0;34m,\u001b[0m\u001b[0;34m\u001b[0m\u001b[0;34m\u001b[0m\u001b[0m\n\u001b[1;32m     22\u001b[0m     \u001b[0mrent_increase_yoy\u001b[0m\u001b[0;34m,\u001b[0m \u001b[0mextra_payment_prct\u001b[0m\u001b[0;34m\u001b[0m\u001b[0;34m\u001b[0m\u001b[0m\n",
            "\u001b[0;32m/tmp/ipykernel_518442/3639750407.py\u001b[0m in \u001b[0;36m?\u001b[0;34m(interest, years, payments_year, mortgage, start_date, extra_payment, start_rent, start_cash_flow, rent_increase_yoy, extra_payment_prct)\u001b[0m\n\u001b[1;32m     48\u001b[0m     \u001b[0;34m'Ending Balance'\u001b[0m\u001b[0;34m:\u001b[0m \u001b[0mmortgage\u001b[0m \u001b[0;34m-\u001b[0m \u001b[0minitial_ppmt\u001b[0m \u001b[0;34m-\u001b[0m \u001b[0;34m(\u001b[0m\u001b[0minitial_additional_pmt\u001b[0m\u001b[0;34m)\u001b[0m\u001b[0;34m\u001b[0m\u001b[0;34m\u001b[0m\u001b[0m\n\u001b[1;32m     49\u001b[0m   }\n\u001b[1;32m     50\u001b[0m   \u001b[0mcolumns\u001b[0m \u001b[0;34m=\u001b[0m \u001b[0mlist\u001b[0m\u001b[0;34m(\u001b[0m\u001b[0minitial_row_dict\u001b[0m\u001b[0;34m.\u001b[0m\u001b[0mkeys\u001b[0m\u001b[0;34m(\u001b[0m\u001b[0;34m)\u001b[0m\u001b[0;34m)\u001b[0m\u001b[0;34m\u001b[0m\u001b[0;34m\u001b[0m\u001b[0m\n\u001b[1;32m     51\u001b[0m   \u001b[0mperiod_values\u001b[0m \u001b[0;34m=\u001b[0m \u001b[0mlist\u001b[0m\u001b[0;34m(\u001b[0m\u001b[0minitial_row_dict\u001b[0m\u001b[0;34m.\u001b[0m\u001b[0mvalues\u001b[0m\u001b[0;34m(\u001b[0m\u001b[0;34m)\u001b[0m\u001b[0;34m)\u001b[0m\u001b[0;34m\u001b[0m\u001b[0;34m\u001b[0m\u001b[0m\n\u001b[0;32m---> 52\u001b[0;31m   \u001b[0mdf\u001b[0m\u001b[0;34m.\u001b[0m\u001b[0mat\u001b[0m\u001b[0;34m[\u001b[0m\u001b[0mperiod\u001b[0m\u001b[0;34m,\u001b[0m \u001b[0mcolumns\u001b[0m\u001b[0;34m]\u001b[0m\u001b[0;34m=\u001b[0m\u001b[0mperiod_values\u001b[0m\u001b[0;34m\u001b[0m\u001b[0;34m\u001b[0m\u001b[0m\n\u001b[0m\u001b[1;32m     53\u001b[0m   \u001b[0mdf\u001b[0m \u001b[0;34m=\u001b[0m \u001b[0mdf\u001b[0m\u001b[0;34m.\u001b[0m\u001b[0mround\u001b[0m\u001b[0;34m(\u001b[0m\u001b[0;36m2\u001b[0m\u001b[0;34m)\u001b[0m\u001b[0;34m\u001b[0m\u001b[0;34m\u001b[0m\u001b[0m\n\u001b[1;32m     54\u001b[0m \u001b[0;34m\u001b[0m\u001b[0m\n\u001b[1;32m     55\u001b[0m   \u001b[0;31m# add additional rows\u001b[0m\u001b[0;34m\u001b[0m\u001b[0;34m\u001b[0m\u001b[0m\n",
            "\u001b[0;32m~/miniconda3/envs/py311/lib/python3.11/site-packages/pandas/core/indexing.py\u001b[0m in \u001b[0;36m?\u001b[0;34m(self, key, value)\u001b[0m\n\u001b[1;32m   2426\u001b[0m \u001b[0;34m\u001b[0m\u001b[0m\n\u001b[1;32m   2427\u001b[0m             \u001b[0mself\u001b[0m\u001b[0;34m.\u001b[0m\u001b[0mobj\u001b[0m\u001b[0;34m.\u001b[0m\u001b[0mloc\u001b[0m\u001b[0;34m[\u001b[0m\u001b[0mkey\u001b[0m\u001b[0;34m]\u001b[0m \u001b[0;34m=\u001b[0m \u001b[0mvalue\u001b[0m\u001b[0;34m\u001b[0m\u001b[0;34m\u001b[0m\u001b[0m\n\u001b[1;32m   2428\u001b[0m             \u001b[0;32mreturn\u001b[0m\u001b[0;34m\u001b[0m\u001b[0;34m\u001b[0m\u001b[0m\n\u001b[1;32m   2429\u001b[0m \u001b[0;34m\u001b[0m\u001b[0m\n\u001b[0;32m-> 2430\u001b[0;31m         \u001b[0;32mreturn\u001b[0m \u001b[0msuper\u001b[0m\u001b[0;34m(\u001b[0m\u001b[0;34m)\u001b[0m\u001b[0;34m.\u001b[0m\u001b[0m__setitem__\u001b[0m\u001b[0;34m(\u001b[0m\u001b[0mkey\u001b[0m\u001b[0;34m,\u001b[0m \u001b[0mvalue\u001b[0m\u001b[0;34m)\u001b[0m\u001b[0;34m\u001b[0m\u001b[0;34m\u001b[0m\u001b[0m\n\u001b[0m",
            "\u001b[0;32m~/miniconda3/envs/py311/lib/python3.11/site-packages/pandas/core/indexing.py\u001b[0m in \u001b[0;36m?\u001b[0;34m(self, key, value)\u001b[0m\n\u001b[1;32m   2382\u001b[0m         \u001b[0mkey\u001b[0m \u001b[0;34m=\u001b[0m \u001b[0mlist\u001b[0m\u001b[0;34m(\u001b[0m\u001b[0mself\u001b[0m\u001b[0;34m.\u001b[0m\u001b[0m_convert_key\u001b[0m\u001b[0;34m(\u001b[0m\u001b[0mkey\u001b[0m\u001b[0;34m)\u001b[0m\u001b[0;34m)\u001b[0m\u001b[0;34m\u001b[0m\u001b[0;34m\u001b[0m\u001b[0m\n\u001b[1;32m   2383\u001b[0m         \u001b[0;32mif\u001b[0m \u001b[0mlen\u001b[0m\u001b[0;34m(\u001b[0m\u001b[0mkey\u001b[0m\u001b[0;34m)\u001b[0m \u001b[0;34m!=\u001b[0m \u001b[0mself\u001b[0m\u001b[0;34m.\u001b[0m\u001b[0mndim\u001b[0m\u001b[0;34m:\u001b[0m\u001b[0;34m\u001b[0m\u001b[0;34m\u001b[0m\u001b[0m\n\u001b[1;32m   2384\u001b[0m             \u001b[0;32mraise\u001b[0m \u001b[0mValueError\u001b[0m\u001b[0;34m(\u001b[0m\u001b[0;34m\"Not enough indexers for scalar access (setting)!\"\u001b[0m\u001b[0;34m)\u001b[0m\u001b[0;34m\u001b[0m\u001b[0;34m\u001b[0m\u001b[0m\n\u001b[1;32m   2385\u001b[0m \u001b[0;34m\u001b[0m\u001b[0m\n\u001b[0;32m-> 2386\u001b[0;31m         \u001b[0mself\u001b[0m\u001b[0;34m.\u001b[0m\u001b[0mobj\u001b[0m\u001b[0;34m.\u001b[0m\u001b[0m_set_value\u001b[0m\u001b[0;34m(\u001b[0m\u001b[0;34m*\u001b[0m\u001b[0mkey\u001b[0m\u001b[0;34m,\u001b[0m \u001b[0mvalue\u001b[0m\u001b[0;34m=\u001b[0m\u001b[0mvalue\u001b[0m\u001b[0;34m,\u001b[0m \u001b[0mtakeable\u001b[0m\u001b[0;34m=\u001b[0m\u001b[0mself\u001b[0m\u001b[0;34m.\u001b[0m\u001b[0m_takeable\u001b[0m\u001b[0;34m)\u001b[0m\u001b[0;34m\u001b[0m\u001b[0;34m\u001b[0m\u001b[0m\n\u001b[0m",
            "\u001b[0;32m~/miniconda3/envs/py311/lib/python3.11/site-packages/pandas/core/frame.py\u001b[0m in \u001b[0;36m?\u001b[0;34m(self, index, col, value, takeable)\u001b[0m\n\u001b[1;32m   4195\u001b[0m \u001b[0;34m\u001b[0m\u001b[0m\n\u001b[1;32m   4196\u001b[0m         \u001b[0;32mexcept\u001b[0m \u001b[0mInvalidIndexError\u001b[0m \u001b[0;32mas\u001b[0m \u001b[0mii_err\u001b[0m\u001b[0;34m:\u001b[0m\u001b[0;34m\u001b[0m\u001b[0;34m\u001b[0m\u001b[0m\n\u001b[1;32m   4197\u001b[0m             \u001b[0;31m# GH48729: Seems like you are trying to assign a value to a\u001b[0m\u001b[0;34m\u001b[0m\u001b[0;34m\u001b[0m\u001b[0m\n\u001b[1;32m   4198\u001b[0m             \u001b[0;31m# row when only scalar options are permitted\u001b[0m\u001b[0;34m\u001b[0m\u001b[0;34m\u001b[0m\u001b[0m\n\u001b[0;32m-> 4199\u001b[0;31m             raise InvalidIndexError(\n\u001b[0m\u001b[1;32m   4200\u001b[0m                 \u001b[0;34mf\"You can only assign a scalar value not a {type(value)}\"\u001b[0m\u001b[0;34m\u001b[0m\u001b[0;34m\u001b[0m\u001b[0m\n\u001b[1;32m   4201\u001b[0m             ) from ii_err\n",
            "\u001b[0;31mInvalidIndexError\u001b[0m: You can only assign a scalar value not a <class 'list'>"
          ]
        }
      ],
      "source": [
        "interest = 0.065\n",
        "years = 40\n",
        "payments_year = 12\n",
        "mortgage = 400000\n",
        "start_date = (date(2022, 5, 1))\n",
        "\n",
        "# SCENARIO #1\n",
        "# General: Same payment each month until loan is paid off\n",
        "extra_payment = None\n",
        "\n",
        "# SCENARIO #2\n",
        "# Investor/Landlord: Dynamic payment based on % of rental cash flow\n",
        "start_rent = 2000\n",
        "start_cash_flow = 500\n",
        "rent_increase_yoy = .03\n",
        "extra_payment_prct = 0.25\n",
        "\n",
        "# call function to get amoritization schedule\n",
        "_df = get_mortgage_amoritization(\n",
        "    interest, years, payments_year, mortgage,\n",
        "    start_date, extra_payment, start_rent, start_cash_flow,\n",
        "    rent_increase_yoy, extra_payment_prct\n",
        ")\n",
        "_df.head()"
      ]
    },
    {
      "cell_type": "code",
      "execution_count": 20,
      "metadata": {
        "colab": {
          "base_uri": "https://localhost:8080/",
          "height": 1000
        },
        "id": "EUrVbIy_W9-f",
        "outputId": "ad938b23-9d63-4577-dd84-193e799873d4"
      },
      "outputs": [
        {
          "ename": "NameError",
          "evalue": "name '_df' is not defined",
          "output_type": "error",
          "traceback": [
            "\u001b[0;31m---------------------------------------------------------------------------\u001b[0m",
            "\u001b[0;31mNameError\u001b[0m                                 Traceback (most recent call last)",
            "Cell \u001b[0;32mIn[20], line 1\u001b[0m\n\u001b[0;32m----> 1\u001b[0m _df[[\u001b[39m'\u001b[39m\u001b[39mRent\u001b[39m\u001b[39m'\u001b[39m, \u001b[39m'\u001b[39m\u001b[39mCash Flow\u001b[39m\u001b[39m'\u001b[39m, \u001b[39m'\u001b[39m\u001b[39mAdditional Payment\u001b[39m\u001b[39m'\u001b[39m]]\u001b[39m.\u001b[39mdrop_duplicates()\n",
            "\u001b[0;31mNameError\u001b[0m: name '_df' is not defined"
          ]
        }
      ],
      "source": [
        "_df[['Rent', 'Cash Flow', 'Additional Payment']].drop_duplicates()"
      ]
    },
    {
      "cell_type": "code",
      "execution_count": 21,
      "metadata": {
        "colab": {
          "base_uri": "https://localhost:8080/",
          "height": 542
        },
        "id": "IX0YX3fWM8bg",
        "outputId": "b1802092-f28a-4afa-8486-ee8a19e97046"
      },
      "outputs": [
        {
          "ename": "NameError",
          "evalue": "name '_df' is not defined",
          "output_type": "error",
          "traceback": [
            "\u001b[0;31m---------------------------------------------------------------------------\u001b[0m",
            "\u001b[0;31mNameError\u001b[0m                                 Traceback (most recent call last)",
            "Cell \u001b[0;32mIn[21], line 2\u001b[0m\n\u001b[1;32m      1\u001b[0m \u001b[39m# call function to plot mortgage amoritization\u001b[39;00m\n\u001b[0;32m----> 2\u001b[0m plot_mortgage_amoritization(_df)\n",
            "\u001b[0;31mNameError\u001b[0m: name '_df' is not defined"
          ]
        }
      ],
      "source": [
        "# call function to plot mortgage amoritization\n",
        "plot_mortgage_amoritization(_df)"
      ]
    },
    {
      "attachments": {},
      "cell_type": "markdown",
      "metadata": {
        "id": "_WrYHVh9Ukid"
      },
      "source": [
        "# End Notebook"
      ]
    }
  ],
  "metadata": {
    "colab": {
      "authorship_tag": "ABX9TyMvCXvGdPPKN9H2GX8xf4IL",
      "include_colab_link": true,
      "name": "Mortgage Payoff Calculator (Investor Cash Flow Option).ipynb",
      "provenance": []
    },
    "kernelspec": {
      "display_name": "Python 3",
      "name": "python3"
    },
    "language_info": {
      "codemirror_mode": {
        "name": "ipython",
        "version": 3
      },
      "file_extension": ".py",
      "mimetype": "text/x-python",
      "name": "python",
      "nbconvert_exporter": "python",
      "pygments_lexer": "ipython3",
      "version": "3.11.3"
    }
  },
  "nbformat": 4,
  "nbformat_minor": 0
}
