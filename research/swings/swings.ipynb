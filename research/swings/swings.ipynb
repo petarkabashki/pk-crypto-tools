{
 "cells": [
  {
   "cell_type": "code",
   "execution_count": 1,
   "metadata": {},
   "outputs": [
    {
     "data": {
      "application/javascript": "\"use strict\";\n\nCodeMirror.defineMode(\"text/minizinc\", function(config) {\n\n  var isOperatorChar = /[+\\-*=<>\\/]/;\n\n  var keywords = {\"array\":true,\n  \"bool\":true,\n  \"case\":true,\n  \"constraint\":true,\n  \"diff\":true,\n  \"div\":true,\n  \"else\":true,\n  \"elseif\":true,\n  \"endif\":true,\n  \"enum\":true,\n  \"false\":true,\n  \"float\":true,\n  \"function\":true,\n  \"if\":true,\n  \"in\":true,\n  \"include\":true,\n  \"int\":true,\n  \"intersect\":true,\n  \"let\":true,\n  \"list\":true,\n  \"maximize\":true,\n  \"minimize\":true,\n  \"mod\":true,\n  \"not\":true,\n  \"of\":true,\n  \"op\":true,\n  \"output\":true,\n  \"par\":true,\n  \"predicate\":true,\n  \"record\":true,\n  \"satisfy\":true,\n  \"set\":true,\n  \"solve\":true,\n  \"string\":true,\n  \"subset\":true,\n  \"superset\":true,\n  \"symdiff\":true,\n  \"test\":true,\n  \"then\":true,\n  \"true\":true,\n  \"tuple\":true,\n  \"type\":true,\n  \"union\":true,\n  \"var\":true,\n  \"where\":true,\n  \"xor\":true};\n\n  var punc = \":;,.(){}[]\";\n\n  function tokenBase(stream, state) {\n    var ch = stream.next();\n    if (ch == '\"') {\n      state.tokenize.push(tokenString);\n      return tokenString(stream, state);\n    }\n    if (/[\\d\\.]/.test(ch)) {\n      if (ch == \".\") {\n        stream.match(/^[0-9]+([eE][\\-+]?[0-9]+)?/);\n      } else if (ch == \"0\") {\n        stream.match(/^[xX][0-9a-fA-F]+/) || stream.match(/^0[0-7]+/);\n      } else {\n        stream.match(/^[0-9]*\\.?[0-9]*([eE][\\-+]?[0-9]+)?/);\n      }\n      return \"number\";\n    }\n    if (ch == \"/\") {\n      if (stream.eat(\"*\")) {\n        state.tokenize.push(tokenComment);\n        return tokenComment(stream, state);\n      }\n    }\n    if (ch == \"%\") {\n      stream.skipToEnd();\n      return \"comment\";\n    }\n    if (isOperatorChar.test(ch)) {\n      stream.eatWhile(isOperatorChar);\n      return \"operator\";\n    }\n    if (punc.indexOf(ch) > -1) {\n      return \"punctuation\";\n    }\n    stream.eatWhile(/[\\w\\$_\\xa1-\\uffff]/);\n    var cur = stream.current();\n    if (keywords.propertyIsEnumerable(cur)) {\n      return \"keyword\";\n    }\n    return \"variable\";\n  }\n\n  function tokenComment(stream, state) {\n    var maybeEnd = false, ch;\n    while (ch = stream.next()) {\n      if (ch == \"/\" && maybeEnd) {\n        state.tokenize.pop();\n        break;\n      }\n      maybeEnd = (ch == \"*\");\n    }\n    return \"comment\";\n  }\n\n  function tokenUntilClosingParen() {\n    var depth = 0;\n    return function(stream, state, prev) {\n      var inner = tokenBase(stream, state, prev);\n      console.log(\"untilClosing\",inner,stream.current());\n      if (inner == \"punctuation\") {\n        if (stream.current() == \"(\") {\n          ++depth;\n        } else if (stream.current() == \")\") {\n          if (depth == 0) {\n            stream.backUp(1)\n            state.tokenize.pop()\n            return state.tokenize[state.tokenize.length - 1](stream, state)\n          } else {\n            --depth;\n          }\n        }\n      }\n      return inner;\n    }\n  }\n\n  function tokenString(stream, state) {\n    var escaped = false, next, end = false;\n    while ((next = stream.next()) != null) {\n      if (next=='(' && escaped) {\n        state.tokenize.push(tokenUntilClosingParen());\n        return \"string\";\n      }\n      if (next == '\"' && !escaped) {end = true; break;}\n      escaped = !escaped && next == \"\\\\\";\n    }\n    if (end || !escaped)\n      state.tokenize.pop();\n    return \"string\";\n  }\n\n  return {\n    startState: function(basecolumn) {\n      return {\n        tokenize: []\n      };\n    },\n\n    token: function(stream, state) {\n      if (stream.eatSpace()) return null;\n      var style = (state.tokenize[state.tokenize.length - 1] || tokenBase)(stream, state);\n      console.log(\"token\",style);\n      return style;\n    },\n\n    blockCommentStart: \"/*\",\n    blockCommentEnd: \"*/\",\n    lineComment: \"%\"\n  };\n});\n\nCodeMirror.defineMIME(\"text/minizinc\", \"text/minizinc\");\n\nJupyter.CodeCell.options_default.highlight_modes['magic_text/minizinc'] = {'reg':[/^%%minizinc/]} ;\n\nJupyter.notebook.get_cells().map(function(cell){\n  if (cell.cell_type == 'code'){ cell.auto_highlight(); }\n}) ;\n",
      "text/plain": [
       "<IPython.core.display.Javascript object>"
      ]
     },
     "metadata": {},
     "output_type": "display_data"
    },
    {
     "name": "stdout",
     "output_type": "stream",
     "text": [
      "MiniZinc to FlatZinc converter, version 2.7.6, build 905165378\n",
      "Copyright (C) 2014-2023 Monash University, NICTA, Data61\n"
     ]
    }
   ],
   "source": [
    "%load_ext iminizinc\n",
    "%load_ext autoreload\n",
    "%autoreload 2\n",
    "\n",
    "from __future__ import print_function\n",
    "from ipywidgets import interact, interactive, fixed, interact_manual\n",
    "# import ipywidgets as widgets\n",
    "from ipywidgets import *\n",
    "from IPython.display import display\n",
    "import IPython\n",
    "import pandas as pd\n",
    "import matplotlib as mpl\n",
    "import matplotlib.pyplot as plt\n",
    "import matplotlib.dates as mdates\n",
    "import numpy as np\n",
    "\n",
    "from datetime import datetime\n",
    "# import talib\n",
    "import pandas_ta as ta\n",
    "# from talib.abstract import *\n",
    "from math import *\n",
    "from collections import OrderedDict\n",
    "# import vectorbt as vbt    \n",
    "import json\n",
    "from decimal import *\n",
    "getcontext().prec = 6\n",
    "import seaborn as sns\n",
    "from scipy.signal import find_peaks, peak_widths\n",
    "\n",
    "\n",
    "import sys, os\n",
    "sys.path.append(os.path.abspath('../..'))\n",
    "from research.pkg.lib import *\n",
    "\n",
    "\n",
    "# import mplfinance as mpf\n",
    "%matplotlib inline\n",
    "\n",
    "mpl.rcParams.update({'font.size': 5, 'lines.linewidth': 0.5, 'figure.dpi': 200, 'lines.markersize': 4})\n",
    "# plt.rcParams['lines.linewidth'] = 0.5 \n",
    "\n"
   ]
  },
  {
   "cell_type": "code",
   "execution_count": 2,
   "metadata": {},
   "outputs": [
    {
     "data": {
      "text/html": [
       "<div>\n",
       "<style scoped>\n",
       "    .dataframe tbody tr th:only-of-type {\n",
       "        vertical-align: middle;\n",
       "    }\n",
       "\n",
       "    .dataframe tbody tr th {\n",
       "        vertical-align: top;\n",
       "    }\n",
       "\n",
       "    .dataframe thead th {\n",
       "        text-align: right;\n",
       "    }\n",
       "</style>\n",
       "<table border=\"1\" class=\"dataframe\">\n",
       "  <thead>\n",
       "    <tr style=\"text-align: right;\">\n",
       "      <th></th>\n",
       "      <th>timestamp</th>\n",
       "      <th>open</th>\n",
       "      <th>high</th>\n",
       "      <th>low</th>\n",
       "      <th>close</th>\n",
       "      <th>volume</th>\n",
       "      <th>date</th>\n",
       "      <th>idate</th>\n",
       "    </tr>\n",
       "    <tr>\n",
       "      <th>date</th>\n",
       "      <th></th>\n",
       "      <th></th>\n",
       "      <th></th>\n",
       "      <th></th>\n",
       "      <th></th>\n",
       "      <th></th>\n",
       "      <th></th>\n",
       "      <th></th>\n",
       "    </tr>\n",
       "  </thead>\n",
       "  <tbody>\n",
       "    <tr>\n",
       "      <th>2020-01-01 00:00:00</th>\n",
       "      <td>1577836800000</td>\n",
       "      <td>7196.2</td>\n",
       "      <td>7243.2</td>\n",
       "      <td>7176.1</td>\n",
       "      <td>7225.4</td>\n",
       "      <td>62.743859</td>\n",
       "      <td>2020-01-01 00:00:00</td>\n",
       "      <td>20200101</td>\n",
       "    </tr>\n",
       "    <tr>\n",
       "      <th>2020-01-01 04:00:00</th>\n",
       "      <td>1577851200000</td>\n",
       "      <td>7225.4</td>\n",
       "      <td>7233.8</td>\n",
       "      <td>7203.1</td>\n",
       "      <td>7209.5</td>\n",
       "      <td>36.248625</td>\n",
       "      <td>2020-01-01 04:00:00</td>\n",
       "      <td>20200101</td>\n",
       "    </tr>\n",
       "    <tr>\n",
       "      <th>2020-01-01 08:00:00</th>\n",
       "      <td>1577865600000</td>\n",
       "      <td>7209.4</td>\n",
       "      <td>7232.0</td>\n",
       "      <td>7183.0</td>\n",
       "      <td>7195.6</td>\n",
       "      <td>52.545595</td>\n",
       "      <td>2020-01-01 08:00:00</td>\n",
       "      <td>20200101</td>\n",
       "    </tr>\n",
       "    <tr>\n",
       "      <th>2020-01-01 12:00:00</th>\n",
       "      <td>1577880000000</td>\n",
       "      <td>7195.7</td>\n",
       "      <td>7251.8</td>\n",
       "      <td>7195.6</td>\n",
       "      <td>7231.4</td>\n",
       "      <td>69.704852</td>\n",
       "      <td>2020-01-01 12:00:00</td>\n",
       "      <td>20200101</td>\n",
       "    </tr>\n",
       "    <tr>\n",
       "      <th>2020-01-01 16:00:00</th>\n",
       "      <td>1577894400000</td>\n",
       "      <td>7231.5</td>\n",
       "      <td>7248.0</td>\n",
       "      <td>7217.1</td>\n",
       "      <td>7229.0</td>\n",
       "      <td>60.889127</td>\n",
       "      <td>2020-01-01 16:00:00</td>\n",
       "      <td>20200101</td>\n",
       "    </tr>\n",
       "  </tbody>\n",
       "</table>\n",
       "</div>"
      ],
      "text/plain": [
       "                         timestamp    open    high     low   close     volume   \n",
       "date                                                                            \n",
       "2020-01-01 00:00:00  1577836800000  7196.2  7243.2  7176.1  7225.4  62.743859  \\\n",
       "2020-01-01 04:00:00  1577851200000  7225.4  7233.8  7203.1  7209.5  36.248625   \n",
       "2020-01-01 08:00:00  1577865600000  7209.4  7232.0  7183.0  7195.6  52.545595   \n",
       "2020-01-01 12:00:00  1577880000000  7195.7  7251.8  7195.6  7231.4  69.704852   \n",
       "2020-01-01 16:00:00  1577894400000  7231.5  7248.0  7217.1  7229.0  60.889127   \n",
       "\n",
       "                                   date     idate  \n",
       "date                                               \n",
       "2020-01-01 00:00:00 2020-01-01 00:00:00  20200101  \n",
       "2020-01-01 04:00:00 2020-01-01 04:00:00  20200101  \n",
       "2020-01-01 08:00:00 2020-01-01 08:00:00  20200101  \n",
       "2020-01-01 12:00:00 2020-01-01 12:00:00  20200101  \n",
       "2020-01-01 16:00:00 2020-01-01 16:00:00  20200101  "
      ]
     },
     "execution_count": 2,
     "metadata": {},
     "output_type": "execute_result"
    }
   ],
   "source": [
    "exchange = 'kucoin'\n",
    "pair = 'BTC_USDT'\n",
    "timeframe = '4h'\n",
    "\n",
    "odf = pd.read_json(f'../../freq-user-data/data/{exchange}/futures/{pair}-{timeframe}-futures.json').dropna()\n",
    "odf.columns = ['timestamp', 'open', 'high', 'low', 'close', 'volume']\n",
    "\n",
    "odf['date'] = pd.to_datetime(odf['timestamp'], unit='ms', utc=False)\n",
    "# df.index = df['time']\n",
    "# df.set_index('time', drop=True, inplace=True)\n",
    "odf['idate'] = odf.date.dt.strftime('%Y%m%d')\n",
    "odf.set_index(pd.DatetimeIndex(odf[\"date\"]), inplace=True, drop=True)\n",
    "# df = df[['time', 'symbol', 'source', 'resolution', 'open', 'high', 'low', 'close', 'volume']]\n",
    "# df.to_csv (r'./data/binance/BTC_USDT-5m.csv', index = None)\n",
    "# df.set_index('time')\n",
    "odf = odf.sort_index()\n",
    "\n",
    "odf.head(5)"
   ]
  },
  {
   "cell_type": "code",
   "execution_count": 38,
   "metadata": {},
   "outputs": [
    {
     "data": {
      "text/html": [
       "<div>\n",
       "<style scoped>\n",
       "    .dataframe tbody tr th:only-of-type {\n",
       "        vertical-align: middle;\n",
       "    }\n",
       "\n",
       "    .dataframe tbody tr th {\n",
       "        vertical-align: top;\n",
       "    }\n",
       "\n",
       "    .dataframe thead th {\n",
       "        text-align: right;\n",
       "    }\n",
       "</style>\n",
       "<table border=\"1\" class=\"dataframe\">\n",
       "  <thead>\n",
       "    <tr style=\"text-align: right;\">\n",
       "      <th></th>\n",
       "      <th>open</th>\n",
       "      <th>high</th>\n",
       "      <th>low</th>\n",
       "      <th>close</th>\n",
       "      <th>volume</th>\n",
       "    </tr>\n",
       "    <tr>\n",
       "      <th>date</th>\n",
       "      <th></th>\n",
       "      <th></th>\n",
       "      <th></th>\n",
       "      <th></th>\n",
       "      <th></th>\n",
       "    </tr>\n",
       "  </thead>\n",
       "  <tbody>\n",
       "    <tr>\n",
       "      <th>2020-01-01</th>\n",
       "      <td>7196.2</td>\n",
       "      <td>7251.8</td>\n",
       "      <td>7176.1</td>\n",
       "      <td>7200.2</td>\n",
       "      <td>370.594061</td>\n",
       "    </tr>\n",
       "    <tr>\n",
       "      <th>2020-01-02</th>\n",
       "      <td>7200.3</td>\n",
       "      <td>7210.6</td>\n",
       "      <td>6933.3</td>\n",
       "      <td>6964.8</td>\n",
       "      <td>834.203799</td>\n",
       "    </tr>\n",
       "    <tr>\n",
       "      <th>2020-01-03</th>\n",
       "      <td>6964.8</td>\n",
       "      <td>7397.7</td>\n",
       "      <td>6867.0</td>\n",
       "      <td>7346.2</td>\n",
       "      <td>1325.683236</td>\n",
       "    </tr>\n",
       "    <tr>\n",
       "      <th>2020-01-04</th>\n",
       "      <td>7344.6</td>\n",
       "      <td>7399.0</td>\n",
       "      <td>7271.5</td>\n",
       "      <td>7355.3</td>\n",
       "      <td>695.820296</td>\n",
       "    </tr>\n",
       "    <tr>\n",
       "      <th>2020-01-05</th>\n",
       "      <td>7355.9</td>\n",
       "      <td>7490.0</td>\n",
       "      <td>7320.7</td>\n",
       "      <td>7359.9</td>\n",
       "      <td>948.491582</td>\n",
       "    </tr>\n",
       "  </tbody>\n",
       "</table>\n",
       "</div>"
      ],
      "text/plain": [
       "              open    high     low   close       volume\n",
       "date                                                   \n",
       "2020-01-01  7196.2  7251.8  7176.1  7200.2   370.594061\n",
       "2020-01-02  7200.3  7210.6  6933.3  6964.8   834.203799\n",
       "2020-01-03  6964.8  7397.7  6867.0  7346.2  1325.683236\n",
       "2020-01-04  7344.6  7399.0  7271.5  7355.3   695.820296\n",
       "2020-01-05  7355.9  7490.0  7320.7  7359.9   948.491582"
      ]
     },
     "execution_count": 38,
     "metadata": {},
     "output_type": "execute_result"
    }
   ],
   "source": [
    "h_columns = ['open', 'high', 'low', 'close', 'volume']\n",
    "hdf = odf[h_columns].resample('1D').agg(\n",
    "    OrderedDict([\n",
    "        ('open', 'first'),\n",
    "        ('high', 'max'),\n",
    "        ('low', 'min'),\n",
    "        ('close', 'last'),\n",
    "        ('volume', 'sum'),\n",
    "    ])\n",
    ")\n",
    "hdf.head(5)"
   ]
  },
  {
   "cell_type": "code",
   "execution_count": 48,
   "metadata": {},
   "outputs": [
    {
     "ename": "IndexError",
     "evalue": "too many indices for array: array is 1-dimensional, but 2 were indexed",
     "output_type": "error",
     "traceback": [
      "\u001b[0;31m---------------------------------------------------------------------------\u001b[0m",
      "\u001b[0;31mIndexError\u001b[0m                                Traceback (most recent call last)",
      "Cell \u001b[0;32mIn[48], line 1\u001b[0m\n\u001b[0;32m----> 1\u001b[0m gwdf\u001b[39m.\u001b[39;49mindex\u001b[39m.\u001b[39;49mdate[\u001b[39m0\u001b[39;49m,\u001b[39m-\u001b[39;49m\u001b[39m1\u001b[39;49m]\n",
      "\u001b[0;31mIndexError\u001b[0m: too many indices for array: array is 1-dimensional, but 2 were indexed"
     ]
    }
   ],
   "source": [
    "gwdf.index.date[0]"
   ]
  },
  {
   "cell_type": "code",
   "execution_count": 49,
   "metadata": {},
   "outputs": [],
   "source": [
    "gwdf = None\n",
    "def get_indicators(wdf, pkdist, pkprom):\n",
    "    global gwdf\n",
    "    gwdf = wdf\n",
    "    whdf = hdf.loc[wdf.index.date[0]:wdf.index.date[-1]]\n",
    "\n",
    "    upeaks, upeak_props = find_peaks(whdf.close, prominence=1, distance=pkdist)\n",
    "    dpeaks, dpeak_props = find_peaks(-whdf.close, prominence=1, distance=pkdist)\n",
    "    # print('upeaks: ', upeaks)\n",
    "    # print('wdf:', wdf)\n",
    "    # results_half = peak_widths(wdf.close, peaks, rel_height=0.5)\n",
    "    # results_full = peak_widths(wdf.close, peaks, rel_height=1)\n",
    "    \n",
    "    upeaks_idxs = whdf.index[upeaks]\n",
    "    dpeaks_idxs = whdf.index[dpeaks]\n",
    "\n",
    "    return upeaks_idxs,dpeaks_idxs, gwdf\n",
    "\n",
    "def get_signals(wdf, pkdist, pkprom):\n",
    "    sigdf = None\n",
    "    # upeaks, upeak_props = find_peaks(wdf.close, distance=pkdist)\n",
    "    # dpeaks, dpeak_props = find_peaks(-wdf.close, distance=pkdist)\n",
    "\n",
    "    # # results_half = peak_widths(wdf.close, peaks, rel_height=0.5)\n",
    "    # # results_full = peak_widths(wdf.close, peaks, rel_height=1)\n",
    "    \n",
    "    # upeaks_idxs = wdf.index[upeaks]\n",
    "    # dpeaks_idxs = wdf.index[dpeaks]\n",
    "\n",
    "    # close_peaks = wdf.loc[peaks_idx].close\n",
    "    return None #upeaks_idxs,dpeaks_idxs"
   ]
  },
  {
   "cell_type": "code",
   "execution_count": 50,
   "metadata": {},
   "outputs": [
    {
     "data": {
      "application/vnd.jupyter.widget-view+json": {
       "model_id": "439aa1581fa148fb9ea3a68d888e6013",
       "version_major": 2,
       "version_minor": 0
      },
      "text/plain": [
       "VBox(children=(VBox(children=(HBox(children=(IntSlider(value=7, description='n2', max=13), IntSlider(value=1, …"
      ]
     },
     "metadata": {},
     "output_type": "display_data"
    },
    {
     "data": {
      "application/vnd.jupyter.widget-view+json": {
       "model_id": "3b0a8570051143cca4190dd507ba11b0",
       "version_major": 2,
       "version_minor": 0
      },
      "text/plain": [
       "Output()"
      ]
     },
     "metadata": {},
     "output_type": "display_data"
    }
   ],
   "source": [
    "\n",
    "### Ranges\n",
    "# nest_asyncio.apply()\n",
    "\n",
    "strategy = 'swings'\n",
    "strategy_params_json = f'./par-{strategy}.json'\n",
    "\n",
    "strategy_params = {\n",
    "    \"pkdist\": {\"wdg\": IntSlider(value=7,min=1,max=100,step=1,description='PKDist',continuous_update=False)},\n",
    "    \"pkprom\": {\"wdg\": FloatRangeSlider(value=(0.05,1),min=0,max=1,step=0.005,description='PKProm',continuous_update=False)},\n",
    "}\n",
    "\n",
    "\n",
    "def draw_func(ax_dict, wdf, indicators, signals):\n",
    "    axa = ax_dict['A']\n",
    "    upeaks_idx, dpeaks_idx = indicators\n",
    "    # print('indicators: ', indicators)\n",
    "    # print(wdf.close[upeaks_idx])\n",
    "    axa.scatter(upeaks_idx, wdf.close[upeaks_idx], s=50, c='r', alpha=0.2)\n",
    "    axa.scatter(dpeaks_idx, wdf.close[dpeaks_idx], s=50, c='g', alpha=0.2)\n",
    "    # axa.plot(dpeaks_idx, wdf.close[upeaks_idx], \"^\")\n",
    "    \n",
    "\n",
    "fu_printer(odf, strategy, strategy_params = strategy_params, draw_func = draw_func, indicator_func=get_indicators, signal_func=get_signals)\n",
    "\n",
    "#     ax1.plot(peaks_idx, close_peaks, \"^\", c='m', markersize=2, alpha=0.5)\n",
    "#     ax1.vlines(x=peaks_idx, ymin=close_peaks - peak_props[\"prominences\"],\n",
    "#            ymax = close_peaks, color = \"C1\", lw=0.2)\n",
    "#     ax1.hlines(results_full[1:][0], xmin=wdf.index[results_full[1:][1].astype(int)], xmax=wdf.index[results_full[1:][2].astype(int)], color=\"C1\", lw=0.3)\n",
    "#     ax1.hlines(results_half[1:][0], xmin=wdf.index[results_half[1:][1].astype(int)], xmax=wdf.index[results_half[1:][2].astype(int)], color=\"C2\", lw=0.3)\n",
    "#     # ax1.hlines(y=(close_peaks - peak_props[\"prominences\"]), xmin=wdf.index[peak_props[\"left_bases\"]],\n",
    "#     #        xmax=wdf.index[peak_props[\"right_bases\"]], color = \"C1\")\n",
    "\n",
    "\n"
   ]
  },
  {
   "cell_type": "code",
   "execution_count": 76,
   "metadata": {},
   "outputs": [
    {
     "data": {
      "text/plain": [
       "array([  1,   9,  24,  35,  49,  61,  81,  91, 101, 112, 127, 142, 159,\n",
       "       172, 189, 202, 218, 229, 245, 240, 266, 279, 302, 316, 320, 338,\n",
       "       347, 358, 366, 383, 381, 406, 418, 428, 439, 450, 463, 480, 501])"
      ]
     },
     "execution_count": 76,
     "metadata": {},
     "output_type": "execute_result"
    }
   ],
   "source": [
    "\n",
    "peaks, peak_props = find_peaks(wdf.close, prominence=1, distance=10)\n",
    "# wdf.iloc[peaks].close\n",
    "\n",
    "results_half = peak_widths(wdf.close, peaks, rel_height=0.5)\n",
    "# np.shape(results_half[1:])\n",
    "results_half[1:][1].astype(int)\n",
    "# fig, (ax1,ax2, ax3) = plt.subplots(3, 1, height_ratios=[3,1,1], sharex=True);\n",
    "\n",
    "# plot_candles(wdf, ax=ax1) if candles else ax1.plot(wdf.close, lw=0.3, c='b')\n",
    "# plt.plot(peaks, wdf.iloc[peaks].close, \"x\")"
   ]
  },
  {
   "cell_type": "code",
   "execution_count": 56,
   "metadata": {},
   "outputs": [
    {
     "data": {
      "text/plain": [
       "(1, 2)"
      ]
     },
     "execution_count": 56,
     "metadata": {},
     "output_type": "execute_result"
    }
   ],
   "source": [
    "tuple([1,2])"
   ]
  },
  {
   "cell_type": "code",
   "execution_count": null,
   "metadata": {},
   "outputs": [],
   "source": []
  }
 ],
 "metadata": {
  "kernelspec": {
   "display_name": "py311",
   "language": "python",
   "name": "python3"
  },
  "language_info": {
   "codemirror_mode": {
    "name": "ipython",
    "version": 3
   },
   "file_extension": ".py",
   "mimetype": "text/x-python",
   "name": "python",
   "nbconvert_exporter": "python",
   "pygments_lexer": "ipython3",
   "version": "3.11.3"
  },
  "orig_nbformat": 4
 },
 "nbformat": 4,
 "nbformat_minor": 2
}
