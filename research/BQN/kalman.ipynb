{
 "cells": [
  {
   "cell_type": "code",
   "execution_count": 1,
   "metadata": {},
   "outputs": [],
   "source": [
    "import pandas as pd\n",
    "import numpy as np\n",
    "\n",
    "from datetime import datetime, date\n",
    "from math import *\n",
    "import json\n",
    "# %matplotlib inline\n",
    "from decimal import *\n",
    "# getcontext().prec = 6\n",
    "# import re\n",
    "# from decimal import Decimal\n",
    "\n",
    "# from os import listdir\n",
    "# from os.path import isfile, join\n",
    "\n",
    "import pandas_ta as ta"
   ]
  },
  {
   "cell_type": "code",
   "execution_count": 2,
   "metadata": {},
   "outputs": [],
   "source": [
    "from __future__ import print_function\n",
    "from ipywidgets import interact, interactive, fixed, interact_manual\n",
    "# import ipywidgets as widgets\n",
    "from ipywidgets import *\n",
    "from IPython.display import display\n",
    "import IPython\n",
    "import pandas as pd\n",
    "import matplotlib\n",
    "# from mplfinance import candlestick_ohlc\n",
    "import matplotlib.pyplot as plt\n",
    "import matplotlib.dates as mdates\n",
    "\n",
    "\n",
    "\n",
    "import numpy as np\n",
    "\n",
    "from os.path import exists\n",
    "\n",
    "from datetime import datetime\n",
    "# import talib\n",
    "import pandas_ta as ta\n",
    "# from talib.abstract import *\n",
    "from math import *\n",
    "from collections import OrderedDict\n",
    "# import vectorbt as vbt    \n",
    "import json\n",
    "%matplotlib inline\n",
    "from decimal import *\n",
    "getcontext().prec = 6\n",
    "import seaborn as sns\n",
    "\n",
    "matplotlib.rcParams.update({'font.size': 5, 'lines.linewidth': 0.5, 'figure.dpi': 300})\n"
   ]
  },
  {
   "cell_type": "code",
   "execution_count": 16,
   "metadata": {},
   "outputs": [],
   "source": [
    "def LoadCandles(pair):\n",
    "    fld = '/media/grenada/Data/Crypto-Data-Feed/freq-user-data/data/binance'    \n",
    "    return pd.read_json(f'{fld}/{pair}.json'\n",
    "    ).set_axis(['ts','open','high','low','close','volume'],axis=1\n",
    "    ).assign(ts=lambda x: pd.to_datetime(x['ts'], unit='ms', utc=False)\n",
    "    ).set_index('ts').apply(np.log)\n",
    "\n",
    "# df"
   ]
  },
  {
   "cell_type": "code",
   "execution_count": 4,
   "metadata": {},
   "outputs": [],
   "source": [
    "from filterpy.kalman import KalmanFilter\n",
    "from filterpy.common import Q_discrete_white_noise\n",
    "\n",
    "def pos_vel_filter(x, P, R, Q=0., dt=1.0):\n",
    "    \"\"\" Returns a KalmanFilter which implements a\n",
    "    constant velocity model for a state [x dx].T\n",
    "    \"\"\"\n",
    "    \n",
    "    kf = KalmanFilter(dim_x=2, dim_z=1)\n",
    "    kf.x = np.array([x[0], x[1]]) # location and velocity\n",
    "    kf.F = np.array([[1., dt],\n",
    "                     [0.,  1.]])  # state transition matrix\n",
    "    kf.H = np.array([[1., 0]])    # Measurement function\n",
    "    kf.R *= R                     # measurement uncertainty\n",
    "    if np.isscalar(P):\n",
    "        kf.P *= P                 # covariance matrix \n",
    "    else:\n",
    "        kf.P[:] = P               # [:] makes deep copy\n",
    "    if np.isscalar(Q):\n",
    "        kf.Q = Q_discrete_white_noise(dim=2, dt=dt, var=Q)\n",
    "    else:\n",
    "        kf.Q[:] = Q\n",
    "    return kf"
   ]
  },
  {
   "cell_type": "code",
   "execution_count": 5,
   "metadata": {},
   "outputs": [],
   "source": [
    "def run(x0=(0.,0.), P=500, R=0, Q=0, dt=1.0, \n",
    "        zs=None,\n",
    "        ):\n",
    "\n",
    "    kf = pos_vel_filter(x0, R=R, P=P, Q=Q, dt=dt)  \n",
    "\n",
    "    # run the kalman filter and store the results\n",
    "    xs, cov = [], []\n",
    "    for z in zs:\n",
    "        kf.predict()\n",
    "        kf.update(z)\n",
    "        xs.append(kf.x)\n",
    "        cov.append(kf.P)\n",
    "\n",
    "    xs, cov = np.array(xs), np.array(cov)\n",
    "    return xs, cov"
   ]
  },
  {
   "cell_type": "code",
   "execution_count": 18,
   "metadata": {},
   "outputs": [
    {
     "data": {
      "text/html": [
       "<div>\n",
       "<style scoped>\n",
       "    .dataframe tbody tr th:only-of-type {\n",
       "        vertical-align: middle;\n",
       "    }\n",
       "\n",
       "    .dataframe tbody tr th {\n",
       "        vertical-align: top;\n",
       "    }\n",
       "\n",
       "    .dataframe thead th {\n",
       "        text-align: right;\n",
       "    }\n",
       "</style>\n",
       "<table border=\"1\" class=\"dataframe\">\n",
       "  <thead>\n",
       "    <tr style=\"text-align: right;\">\n",
       "      <th></th>\n",
       "      <th>open</th>\n",
       "      <th>high</th>\n",
       "      <th>low</th>\n",
       "      <th>close</th>\n",
       "      <th>volume</th>\n",
       "    </tr>\n",
       "    <tr>\n",
       "      <th>ts</th>\n",
       "      <th></th>\n",
       "      <th></th>\n",
       "      <th></th>\n",
       "      <th></th>\n",
       "      <th></th>\n",
       "    </tr>\n",
       "  </thead>\n",
       "  <tbody>\n",
       "    <tr>\n",
       "      <th>2020-09-22</th>\n",
       "      <td>-0.162519</td>\n",
       "      <td>1.945910</td>\n",
       "      <td>-0.162519</td>\n",
       "      <td>1.671342</td>\n",
       "      <td>17.263651</td>\n",
       "    </tr>\n",
       "    <tr>\n",
       "      <th>2020-09-23</th>\n",
       "      <td>1.672957</td>\n",
       "      <td>1.678964</td>\n",
       "      <td>1.223775</td>\n",
       "      <td>1.262713</td>\n",
       "      <td>16.350842</td>\n",
       "    </tr>\n",
       "    <tr>\n",
       "      <th>2020-09-24</th>\n",
       "      <td>1.261440</td>\n",
       "      <td>1.586640</td>\n",
       "      <td>1.224746</td>\n",
       "      <td>1.534951</td>\n",
       "      <td>15.776710</td>\n",
       "    </tr>\n",
       "  </tbody>\n",
       "</table>\n",
       "</div>"
      ],
      "text/plain": [
       "                open      high       low     close     volume\n",
       "ts                                                           \n",
       "2020-09-22 -0.162519  1.945910 -0.162519  1.671342  17.263651\n",
       "2020-09-23  1.672957  1.678964  1.223775  1.262713  16.350842\n",
       "2020-09-24  1.261440  1.586640  1.224746  1.534951  15.776710"
      ]
     },
     "execution_count": 18,
     "metadata": {},
     "output_type": "execute_result"
    }
   ],
   "source": [
    "# zs = [[x] for x in df.close.values]\n",
    "# Ms, Ps = run(zs=zs, R=10, Q=0.01, P=P)\n",
    "df = LoadCandles('AVAX_USDT-1d')\n",
    "df.head(3)"
   ]
  },
  {
   "cell_type": "code",
   "execution_count": 20,
   "metadata": {},
   "outputs": [
    {
     "data": {
      "application/vnd.jupyter.widget-view+json": {
       "model_id": "27f2754dc8eb41f49ccfd63b6c63003c",
       "version_major": 2,
       "version_minor": 0
      },
      "text/plain": [
       "HBox(children=(FloatSlider(value=0.001, description='dt2', max=0.01, step=0.0004), FloatSlider(value=0.0, desc…"
      ]
     },
     "metadata": {},
     "output_type": "display_data"
    },
    {
     "data": {
      "application/vnd.jupyter.widget-view+json": {
       "model_id": "d6643215ae334c458b592f7e82351535",
       "version_major": 2,
       "version_minor": 0
      },
      "text/plain": [
       "Output()"
      ]
     },
     "metadata": {},
     "output_type": "display_data"
    }
   ],
   "source": [
    "wdf = df#.head(900)\n",
    "sl_dt= FloatSlider(description=\"dt2\", min=0, max=0.01, step=0.0004, value=0.001)\n",
    "sl_q = FloatSlider(description=\"q\", min=0, max=0.00001, step=0.000001, value=0)\n",
    "sl_r = FloatSlider(description=\"r\", min=0, max=50, step=5, value=5)\n",
    "\n",
    "def printer(dt,q,r):\n",
    "    print(dt,q,r)\n",
    "    P = np.diag([10,10])\n",
    "    Ms, Ps = run(zs=wdf.close.values, R=r, Q=q, P=P,dt=dt)\n",
    "    [xs,vs] = Ms.T\n",
    "\n",
    "    fig = plt.figure(constrained_layout=True,figsize=(12,5))\n",
    "    (ax,ax1) = fig.subplots(2,1,height_ratios=[3,1],sharex=True)\n",
    "    wdf.close.plot(ax=ax)\n",
    "    ax.plot(wdf.index, xs)\n",
    "    ax1.plot(wdf.index, vs)\n",
    "    ax1.axhline()\n",
    "    ax1.set_ylim([-0.02,0.02])\n",
    "\n",
    "    \n",
    "\n",
    "ui = widgets.HBox([sl_dt, sl_q, sl_r])\n",
    "out = widgets.interactive_output(printer, {'dt': sl_dt, 'q':sl_q, 'r': sl_r})\n",
    "display(ui, out)"
   ]
  },
  {
   "cell_type": "code",
   "execution_count": null,
   "metadata": {},
   "outputs": [],
   "source": []
  },
  {
   "cell_type": "code",
   "execution_count": null,
   "metadata": {},
   "outputs": [],
   "source": []
  }
 ],
 "metadata": {
  "kernelspec": {
   "display_name": "py310",
   "language": "python",
   "name": "python3"
  },
  "language_info": {
   "codemirror_mode": {
    "name": "ipython",
    "version": 3
   },
   "file_extension": ".py",
   "mimetype": "text/x-python",
   "name": "python",
   "nbconvert_exporter": "python",
   "pygments_lexer": "ipython3",
   "version": "3.10.13"
  }
 },
 "nbformat": 4,
 "nbformat_minor": 2
}
