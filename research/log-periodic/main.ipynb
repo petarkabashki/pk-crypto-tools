{
 "cells": [
  {
   "cell_type": "code",
   "execution_count": 3,
   "metadata": {},
   "outputs": [],
   "source": [
    "# https://signals.boulderinvestment.tech/#map\n",
    "# https://pypi.org/project/lppls/\n",
    "\n",
    "from lppls import lppls\n",
    "import numpy as np\n",
    "import pandas as pd\n",
    "from datetime import datetime as dt\n",
    "from matplotlib import pyplot as plt\n"
   ]
  },
  {
   "cell_type": "code",
   "execution_count": 4,
   "metadata": {},
   "outputs": [
    {
     "name": "stderr",
     "output_type": "stream",
     "text": [
      "/home/mu6mula/miniconda3/envs/py310/lib/python3.10/site-packages/lppls/lppls.py:617: RuntimeWarning: invalid value encountered in log\n",
      "  return (w / (2.0 * np.pi)) * np.log((tc - t1) / (tc - t2))\n"
     ]
    }
   ],
   "source": [
    "\n",
    "TEST_ASSET = \"BTCUSD\"\n",
    "\n",
    "\"\"\"\n",
    "Fit Model\n",
    "Fit your data to the LPPL model\n",
    "\"\"\"\n",
    "\n",
    "data = pd.read_csv(f\"./data/{TEST_ASSET}.csv\")\n",
    "time = [pd.Timestamp.toordinal(dt.strptime(t1, '%Y-%m-%d')) for t1 in data['date']]\n",
    "price = np.log(data['close'].values)\n",
    "observations = np.array([time, price])\n",
    "MAX_SEARCHES = 25\n",
    "lppls_model = lppls.LPPLS(observations=observations)\n",
    "tc, m, w, a, b, c, c1, c2, O, D = lppls_model.fit(MAX_SEARCHES)\n",
    "\n",
    "\"\"\"\n",
    "Save Fit\n",
    "Save and show your fitted results\n",
    "\"\"\"\n",
    "\n",
    "time_ord = [pd.Timestamp.fromordinal(d) for d in lppls_model.observations[0, :].astype('int32')]\n",
    "t_obs = lppls_model.observations[0, :]\n",
    "lppls_fit = [lppls_model.lppls(t, tc, m, w, a, b, c1, c2) for t in t_obs]\n",
    "price = lppls_model.observations[1, :]\n",
    "\n",
    "first = t_obs[0]\n",
    "last = t_obs[-1]"
   ]
  },
  {
   "cell_type": "code",
   "execution_count": 10,
   "metadata": {},
   "outputs": [
    {
     "data": {
      "text/plain": [
       "Timestamp('2014-09-17 00:00:00')"
      ]
     },
     "execution_count": 10,
     "metadata": {},
     "output_type": "execute_result"
    }
   ],
   "source": [
    "time_ord[0]"
   ]
  },
  {
   "cell_type": "code",
   "execution_count": null,
   "metadata": {},
   "outputs": [],
   "source": [
    "\n",
    "res = lppls_model.mp_compute_nested_fits(\n",
    "  workers=8,\n",
    "  window_size=120, \n",
    "  smallest_window_size=30, \n",
    "  outer_increment=1, \n",
    "  inner_increment=5, \n",
    "  max_searches=25\n",
    ")\n",
    "\n",
    "\"\"\"\n",
    "  Save Confidence Indicator\n",
    "  Run computations for lppl\n",
    "\"\"\"\n",
    "\n",
    "res_df = lppls_model.compute_indicators(res)\n",
    "\n",
    "ord = res_df['time'].astype('int32')\n",
    "ts = [pd.Timestamp.fromordinal(d) for d in ord]"
   ]
  },
  {
   "cell_type": "code",
   "execution_count": 5,
   "metadata": {},
   "outputs": [
    {
     "name": "stderr",
     "output_type": "stream",
     "text": [
      "  0%|          | 0/3086 [00:00<?, ?it/s]/home/mu6mula/miniconda3/envs/py310/lib/python3.10/site-packages/lppls/lppls.py:617: RuntimeWarning: invalid value encountered in log\n",
      "  return (w / (2.0 * np.pi)) * np.log((tc - t1) / (tc - t2))\n",
      "/home/mu6mula/miniconda3/envs/py310/lib/python3.10/site-packages/lppls/lppls.py:617: RuntimeWarning: invalid value encountered in log\n",
      "  return (w / (2.0 * np.pi)) * np.log((tc - t1) / (tc - t2))\n",
      "/home/mu6mula/miniconda3/envs/py310/lib/python3.10/site-packages/lppls/lppls.py:617: RuntimeWarning: invalid value encountered in log\n",
      "  return (w / (2.0 * np.pi)) * np.log((tc - t1) / (tc - t2))\n",
      "/home/mu6mula/miniconda3/envs/py310/lib/python3.10/site-packages/lppls/lppls.py:617: RuntimeWarning: invalid value encountered in log\n",
      "  return (w / (2.0 * np.pi)) * np.log((tc - t1) / (tc - t2))\n",
      "/home/mu6mula/miniconda3/envs/py310/lib/python3.10/site-packages/lppls/lppls.py:617: RuntimeWarning: invalid value encountered in log\n",
      "  return (w / (2.0 * np.pi)) * np.log((tc - t1) / (tc - t2))\n",
      "/home/mu6mula/miniconda3/envs/py310/lib/python3.10/site-packages/lppls/lppls.py:617: RuntimeWarning: invalid value encountered in log\n",
      "  return (w / (2.0 * np.pi)) * np.log((tc - t1) / (tc - t2))\n",
      "/home/mu6mula/miniconda3/envs/py310/lib/python3.10/site-packages/lppls/lppls.py:617: RuntimeWarning: invalid value encountered in log\n",
      "  return (w / (2.0 * np.pi)) * np.log((tc - t1) / (tc - t2))\n",
      "/home/mu6mula/miniconda3/envs/py310/lib/python3.10/site-packages/lppls/lppls.py:617: RuntimeWarning: invalid value encountered in log\n",
      "  return (w / (2.0 * np.pi)) * np.log((tc - t1) / (tc - t2))\n",
      "  0%|          | 1/3086 [00:01<1:17:54,  1.52s/it]/home/mu6mula/miniconda3/envs/py310/lib/python3.10/site-packages/lppls/lppls.py:617: RuntimeWarning: invalid value encountered in log\n",
      "  return (w / (2.0 * np.pi)) * np.log((tc - t1) / (tc - t2))\n",
      "  6%|▌         | 191/3086 [00:07<01:52, 25.76it/s]/home/mu6mula/miniconda3/envs/py310/lib/python3.10/site-packages/lppls/lppls.py:617: RuntimeWarning: divide by zero encountered in scalar divide\n",
      "  return (w / (2.0 * np.pi)) * np.log((tc - t1) / (tc - t2))\n",
      " 16%|█▌        | 494/3086 [00:16<01:19, 32.54it/s]/home/mu6mula/miniconda3/envs/py310/lib/python3.10/site-packages/lppls/lppls.py:617: RuntimeWarning: divide by zero encountered in scalar divide\n",
      "  return (w / (2.0 * np.pi)) * np.log((tc - t1) / (tc - t2))\n",
      " 41%|████      | 1272/3086 [00:43<01:10, 25.88it/s]/home/mu6mula/miniconda3/envs/py310/lib/python3.10/site-packages/lppls/lppls.py:617: RuntimeWarning: divide by zero encountered in scalar divide\n",
      "  return (w / (2.0 * np.pi)) * np.log((tc - t1) / (tc - t2))\n",
      " 63%|██████▎   | 1953/3086 [01:07<00:42, 26.43it/s]/home/mu6mula/miniconda3/envs/py310/lib/python3.10/site-packages/lppls/lppls.py:617: RuntimeWarning: divide by zero encountered in log\n",
      "  return (w / (2.0 * np.pi)) * np.log((tc - t1) / (tc - t2))\n",
      " 86%|████████▌ | 2651/3086 [01:32<00:20, 21.06it/s]/home/mu6mula/miniconda3/envs/py310/lib/python3.10/site-packages/lppls/lppls.py:617: RuntimeWarning: divide by zero encountered in scalar divide\n",
      "  return (w / (2.0 * np.pi)) * np.log((tc - t1) / (tc - t2))\n",
      " 89%|████████▉ | 2745/3086 [01:35<00:11, 29.28it/s]/home/mu6mula/miniconda3/envs/py310/lib/python3.10/site-packages/lppls/lppls.py:617: RuntimeWarning: divide by zero encountered in log\n",
      "  return (w / (2.0 * np.pi)) * np.log((tc - t1) / (tc - t2))\n",
      "100%|██████████| 3086/3086 [01:47<00:00, 28.67it/s]\n"
     ]
    },
    {
     "data": {
      "text/plain": [
       "<Figure size 1400x800 with 0 Axes>"
      ]
     },
     "metadata": {},
     "output_type": "display_data"
    },
    {
     "data": {
      "text/plain": [
       "<Figure size 1800x1000 with 0 Axes>"
      ]
     },
     "metadata": {},
     "output_type": "display_data"
    }
   ],
   "source": [
    "\n",
    "\n",
    "fig, (ax1) = plt.subplots(nrows=1, ncols=1, sharex=True, figsize=(14, 8))\n",
    "\n",
    "ax1.plot(time_ord, price, label='price', color='black', linewidth=0.75)\n",
    "ax1.plot(time_ord, lppls_fit, label='lppls fit', color='blue', alpha=0.5)\n",
    "ax1.grid(which='major', axis='both', linestyle='--')\n",
    "ax1.set_ylabel('ln(p)')\n",
    "ax1.legend(loc=2)\n",
    "\n",
    "plt.xticks(rotation=45)\n",
    "plt.savefig(f\"./images/fitting/{TEST_ASSET}.png\")\n",
    "plt.clf()\n",
    "\n",
    "\"\"\"\n",
    "  Compute Confidence Indicator\n",
    "  Run computations for lppl and compute the confidence indicator\n",
    "\"\"\"\n",
    "\n",
    "fig, (ax1, ax2) = plt.subplots(nrows=2, ncols=1, sharex=True, figsize=(18, 10))\n",
    "\n",
    "\n",
    "# plot pos bubbles\n",
    "ax1_0 = ax1.twinx()\n",
    "ax1.plot(ts, res_df['price'], color='black', linewidth=0.75)\n",
    "ax1_0.plot(ts, res_df['pos_conf'], label='bubble indicator (pos)', color='red', alpha=0.5)\n",
    "\n",
    "# plot neg bubbles\n",
    "ax2_0 = ax2.twinx()\n",
    "ax2.plot(ts, res_df['price'], color='black', linewidth=0.75)\n",
    "ax2_0.plot(ts, res_df['neg_conf'], label='bubble indicator (neg)', color='green', alpha=0.5)\n",
    "\n",
    "# set grids\n",
    "ax1.grid(which='major', axis='both', linestyle='--')\n",
    "ax2.grid(which='major', axis='both', linestyle='--')\n",
    "\n",
    "# set labels\n",
    "ax1.set_ylabel('ln(p)')\n",
    "ax2.set_ylabel('ln(p)')\n",
    "\n",
    "ax1_0.set_ylabel('bubble indicator (pos)')\n",
    "ax2_0.set_ylabel('bubble indicator (neg)')\n",
    "\n",
    "ax1_0.legend(loc=2)\n",
    "ax2_0.legend(loc=2)\n",
    "\n",
    "plt.xticks(rotation=45)\n",
    "plt.savefig(f\"./images/confidence/{TEST_ASSET}.png\")\n",
    "plt.clf()"
   ]
  }
 ],
 "metadata": {
  "kernelspec": {
   "display_name": "py310",
   "language": "python",
   "name": "python3"
  },
  "language_info": {
   "codemirror_mode": {
    "name": "ipython",
    "version": 3
   },
   "file_extension": ".py",
   "mimetype": "text/x-python",
   "name": "python",
   "nbconvert_exporter": "python",
   "pygments_lexer": "ipython3",
   "version": "3.10.13"
  }
 },
 "nbformat": 4,
 "nbformat_minor": 2
}
