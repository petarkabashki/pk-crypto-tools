{
 "cells": [
  {
   "cell_type": "code",
   "execution_count": 59,
   "metadata": {},
   "outputs": [],
   "source": [
    "import numpy as np\n",
    "import pandas as pd\n",
    "from ipywidgets import *\n",
    "\n",
    "import matplotlib\n",
    "import matplotlib.pyplot as plt\n",
    "import json\n",
    "\n",
    "from IPython.display import display\n",
    "\n",
    "%matplotlib inline\n",
    "matplotlib.rcParams.update({'font.size': 5, 'lines.linewidth': 0.5, 'figure.dpi': 300})"
   ]
  },
  {
   "cell_type": "code",
   "execution_count": 4,
   "metadata": {},
   "outputs": [
    {
     "data": {
      "text/plain": [
       "array([-1.30451464, -1.22221977, -1.26604188, -0.61909908, -0.6782018 ,\n",
       "        0.67076062, -0.94913693,  1.88636289,  0.20189184, -0.79298402,\n",
       "        0.12603476, -1.13280992, -1.42601681, -2.23155459,  0.66686705,\n",
       "       -1.65455507,  2.17103929,  1.42118743, -1.92243199, -0.55455937,\n",
       "        0.95988762,  1.13405132, -0.19015784, -0.21631708, -0.27579305,\n",
       "        0.03318684,  0.06200646,  0.9387014 , -0.26789165, -0.38146209,\n",
       "       -0.21814625, -0.35626459,  0.98624216,  0.5933256 ,  0.35792415,\n",
       "       -1.05306343,  0.28946631,  0.69131681, -0.31493811, -0.28889111,\n",
       "       -0.77979086,  0.38948151,  0.21256563,  0.60662293,  1.3594708 ,\n",
       "        0.03240538,  0.96091832, -0.804814  ,  0.39440059, -0.50500203,\n",
       "       -0.18134088,  1.7816188 ,  0.35713346,  0.02097838, -0.04117154,\n",
       "        0.13151892, -0.3054959 ,  0.06408895, -0.73795848,  0.93191517,\n",
       "       -0.463764  ,  0.76824883,  0.51490447,  1.6948968 ,  0.62068008,\n",
       "        0.2682926 , -1.46911932,  1.11348317,  0.11153815,  1.33812192,\n",
       "       -1.05762064,  0.64101996, -0.07209735, -1.00346542, -0.98717468,\n",
       "       -0.05855867, -0.79246619, -0.95137365,  0.50834304, -1.05826974,\n",
       "       -0.27742787, -0.62791983,  0.70901538, -0.14787712,  0.80929224,\n",
       "        0.77798119,  1.6459646 , -0.70918573, -0.0458024 ,  1.08819957,\n",
       "        0.56938343,  1.07048562,  0.95346362,  1.4121679 ,  1.09033326,\n",
       "        1.48612187,  0.02954025,  1.00995071,  1.7507669 , -0.6977698 ])"
      ]
     },
     "execution_count": 4,
     "metadata": {},
     "output_type": "execute_result"
    }
   ],
   "source": [
    "np.random.normal(size = 100)"
   ]
  },
  {
   "cell_type": "code",
   "execution_count": 5,
   "metadata": {},
   "outputs": [
    {
     "data": {
      "text/plain": [
       "[<matplotlib.lines.Line2D at 0x2c715314c10>]"
      ]
     },
     "execution_count": 5,
     "metadata": {},
     "output_type": "execute_result"
    },
    {
     "data": {
      "image/png": "[encoded data removed]",
      "text/plain": [
       "<Figure size 640x480 with 1 Axes>"
      ]
     },
     "metadata": {},
     "output_type": "display_data"
    }
   ],
   "source": [
    "from scipy.stats import norm\n",
    "import matplotlib.pyplot as plt\n",
    "fig, ax = plt.subplots(1, 1)\n",
    "x = np.linspace(norm.ppf(0.01),\n",
    "                norm.ppf(0.99), 100)\n",
    "ax.plot(x, norm.pdf(x),\n",
    "       'r-', lw=5, alpha=0.6, label='norm pdf')"
   ]
  },
  {
   "cell_type": "code",
   "execution_count": 93,
   "metadata": {},
   "outputs": [
    {
     "data": {
      "application/vnd.jupyter.widget-view+json": {
       "model_id": "75d547d5f1f5440bab014b48be59ce32",
       "version_major": 2,
       "version_minor": 0
      },
      "text/plain": [
       "VBox(children=(HBox(children=(FloatText(value=0.01, description='risk', step=0.01), FloatText(value=0.4, descr…"
      ]
     },
     "metadata": {},
     "output_type": "display_data"
    },
    {
     "data": {
      "application/vnd.jupyter.widget-view+json": {
       "model_id": "76024ce0fa36479d9b00a4e2a538fdcd",
       "version_major": 2,
       "version_minor": 0
      },
      "text/plain": [
       "Output()"
      ]
     },
     "metadata": {},
     "output_type": "display_data"
    }
   ],
   "source": [
    "strategy = 'strategy-params/trading-curve'\n",
    "\n",
    "strategy_params = {\n",
    "    'risk': {'type': 'float', 'min': 0, 'max': 1, 'value': 0.02, 'step': 0.01},\n",
    "    'winrate': {'type': 'float', 'value': 0.50, 'step': 0.02},\n",
    "    'r2r': {'type': 'float', 'value': 2, 'step': 0.1},\n",
    "    'n': {'type': 'int', 'value': 1000, 'step': 100},\n",
    "    'cn': {'type': 'int', 'value': 10, 'step': 2},\n",
    "    'fee': {'type': 'float', 'min': 0, 'max': 1, 'value': 0.002, 'step': 0.001},\n",
    "    'slippage': {'type': 'float', 'min': 0, 'max': 1, 'value': 0.001, 'step': 0.001},\n",
    "}\n",
    "for pk, pv in strategy_params.items():\n",
    "    pv['wdg'] = globals()[(pv['wdg'] if 'wdg' in pv else pv['type'].capitalize() + 'Text')](\n",
    "        description=pk,disabled=False,continuous_update=False,\n",
    "        value=pv['value'], step=pv['step']\n",
    "    )\n",
    "strategy_params = {**strategy_params}\n",
    "wdgts = [pv['wdg'] for pk, pv in strategy_params.items()]\n",
    "\n",
    "ui = widgets.VBox([widgets.HBox(wdgts[i:i+5]) for i in range(0, len(wdgts), 5)])\n",
    "\n",
    "df = None\n",
    "cn = None\n",
    "def printer(risk, winrate, r2r, n, cn, fee, slippage):\n",
    "    \n",
    "    with open(f'{strategy}.json', \"w\") as f: f.write(json.dumps({k: v['wdg'].value for k, v in strategy_params.items()}))\n",
    "    \n",
    "    global df\n",
    "    plt.close(\"all\")\n",
    "    fig = plt.figure(constrained_layout=True,figsize=(15,6))\n",
    "    gs0 = fig.add_gridspec(1, 2, width_ratios=[2,1])\n",
    "\n",
    "    gs00 = gs0[0,0].subgridspec(2, 1, height_ratios=[2,1])\n",
    "    gs01 = gs0[0,1].subgridspec(2, 1, height_ratios=[1,1])\n",
    "\n",
    "    ax001 = fig.add_subplot(gs00[0,0])\n",
    "    ax002 = fig.add_subplot(gs00[1,0], sharex=ax001)\n",
    "    ax003 = fig.add_subplot(gs01[0,0])\n",
    "    ax004 = fig.add_subplot(gs01[1,0])\n",
    "    \n",
    "    xcut = norm.ppf(winrate)\n",
    "    xperc = np.linspace(0,1, 100)\n",
    "    ax003.plot(xperc, norm.ppf(xperc),\n",
    "        'r-', lw=1, alpha=0.6, label='norm ppf')\n",
    "    ax003.axvline(0.5)\n",
    "    ax003.axhline()\n",
    "    ax003.axhline(xcut, c='g', lw=2)\n",
    "    ax003.axvline(winrate, c='g', lw=2)\n",
    "    \n",
    "    xnovar = np.linspace(-3, 3, 100)\n",
    "    ax004.plot(xnovar, norm.cdf(xnovar),\n",
    "        'r-', lw=1, alpha=0.6, label='norm cdf')\n",
    "    ax004.axhline(0.5)\n",
    "    ax004.axvline()\n",
    "    ax004.axvline(xcut, c='g', lw=2)\n",
    "    ax004.axhline(winrate, c='g', lw=2)\n",
    "    \n",
    "    ax001.axhline(1)\n",
    "    df = pd.DataFrame()\n",
    "    for i in range(cn):\n",
    "        rv = np.random.normal(size = n)\n",
    "        ret = np.where(rv > xcut, - risk*(1 + fee + slippage), r2r * risk*(1 - fee - slippage))\n",
    "        df[f'ret_{i}'] = ret \n",
    "        df[f'cret_{i}'] = (ret + 1).cumprod()\n",
    "        \n",
    "        \n",
    "    # df['rv'] = np.random.normal(size = n)\n",
    "    # df['ret'] = np.where(df.rv > xcut, - risk, r2r * risk)\n",
    "    # df.plot(ax=ax001)\n",
    "    ret_cols = [f'ret_{i}' for i in range(cn)]\n",
    "    cret_cols = [f'cret_{i}' for i in range(cn)]\n",
    "    df[cret_cols].plot(ax=ax001)\n",
    "    \n",
    "    ax002.axhline(1)\n",
    "    df[ret_cols].agg(np.sum, axis=1).add(1).cumprod().plot(ax=ax002, lw=1, c='b')\n",
    "    # df['cap'] = df.ret.add(1).cumprod()\n",
    "    # ax001.plot(df.cap)\n",
    "    \n",
    "    # df.avg().plot(ax=ax002)\n",
    "    \n",
    "with open(f'{strategy}.json') as f: \n",
    "    js = json.loads(f.read());\n",
    "    for k, v in strategy_params.items(): \n",
    "        if k in js: v['wdg'].value=js[k];\n",
    "        \n",
    "out = widgets.interactive_output(printer, {k : v['wdg'] for k,v in strategy_params.items()})\n",
    "display(ui, out)  "
   ]
  },
  {
   "cell_type": "code",
   "execution_count": 84,
   "metadata": {},
   "outputs": [
    {
     "data": {
      "text/plain": [
       "0         0.975000\n",
       "1         1.018875\n",
       "2         0.957742\n",
       "3         0.900278\n",
       "4         0.877771\n",
       "          ...     \n",
       "995    9359.263542\n",
       "996    9452.856178\n",
       "997    9216.534773\n",
       "998    9953.857555\n",
       "999    9705.011116\n",
       "Length: 1000, dtype: float64"
      ]
     },
     "execution_count": 84,
     "metadata": {},
     "output_type": "execute_result"
    }
   ],
   "source": [
    "df[[f'ret_{i}' for i in range(strategy_params['cn']['value'])]].agg(np.sum, axis=1).add(1).cumprod()"
   ]
  }
 ],
 "metadata": {
  "kernelspec": {
   "display_name": "py311",
   "language": "python",
   "name": "python3"
  },
  "language_info": {
   "codemirror_mode": {
    "name": "ipython",
    "version": 3
   },
   "file_extension": ".py",
   "mimetype": "text/x-python",
   "name": "python",
   "nbconvert_exporter": "python",
   "pygments_lexer": "ipython3",
   "version": "3.11.0"
  },
  "orig_nbformat": 4
 },
 "nbformat": 4,
 "nbformat_minor": 2
}
