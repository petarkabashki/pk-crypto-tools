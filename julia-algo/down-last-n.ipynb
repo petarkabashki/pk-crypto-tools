{
 "cells": [
  {
   "cell_type": "code",
   "execution_count": 1,
   "id": "22d496b4",
   "metadata": {},
   "outputs": [
    {
     "data": {
      "text/html": [
       "<script>\n",
       "// Immediately-invoked-function-expression to avoid global variables.\n",
       "(function() {\n",
       "    var warning_div = document.getElementById(\"webio-warning-4686462730788379912\");\n",
       "    var hide = function () {\n",
       "        var script = document.getElementById(\"webio-setup-4308869989634352710\");\n",
       "        var parent = script && script.parentElement;\n",
       "        var grandparent = parent && parent.parentElement;\n",
       "        if (grandparent) {\n",
       "            grandparent.style.display = \"none\";\n",
       "        }\n",
       "        warning_div.style.display = \"none\";\n",
       "    };\n",
       "    if (typeof Jupyter !== \"undefined\") {\n",
       "        console.log(\"WebIO detected Jupyter notebook environment.\");\n",
       "        // Jupyter notebook.\n",
       "        var extensions = (\n",
       "            Jupyter\n",
       "            && Jupyter.notebook.config.data\n",
       "            && Jupyter.notebook.config.data.load_extensions\n",
       "        );\n",
       "        if (extensions && extensions[\"webio-jupyter-notebook\"]) {\n",
       "            // Extension already loaded.\n",
       "            console.log(\"Jupyter WebIO nbextension detected; not loading ad-hoc.\");\n",
       "            hide();\n",
       "            return;\n",
       "        }\n",
       "    } else if (window.location.pathname.includes(\"/lab\")) {\n",
       "        // Guessing JupyterLa\n",
       "        console.log(\"Jupyter Lab detected; make sure the @webio/jupyter-lab-provider labextension is installed.\");\n",
       "        hide();\n",
       "        return;\n",
       "    }\n",
       "})();\n",
       "\n",
       "</script>\n",
       "<p\n",
       "    id=\"webio-warning-4686462730788379912\"\n",
       "    class=\"output_text output_stderr\"\n",
       "    style=\"padding: 1em; font-weight: bold;\"\n",
       ">\n",
       "    Unable to load WebIO. Please make sure WebIO works for your Jupyter client.\n",
       "    For troubleshooting, please see <a href=\"https://juliagizmos.github.io/WebIO.jl/latest/providers/ijulia/\">\n",
       "    the WebIO/IJulia documentation</a>.\n",
       "    <!-- TODO: link to installation docs. -->\n",
       "</p>\n"
      ],
      "text/plain": [
       "HTML{String}(\"<script>\\n// Immediately-invoked-function-expression to avoid global variables.\\n(function() {\\n    var warning_div = document.getElementById(\\\"webio-warning-4686462730788379912\\\");\\n    var hide = function () {\\n        var script = document.getElementById(\\\"webio-setup-4308869989634352710\\\");\\n        var parent = script && script.parentElement;\\n        var grandparent = parent && parent.parentElement;\\n        if (grandparent) {\\n            grandparent.style.display = \\\"none\\\";\\n        }\\n        warning_div.style.display = \\\"none\\\";\\n    };\\n    if (typeof Jupyter !== \\\"undefined\\\") {\\n        console.log(\\\"WebIO detected Jupyter notebook environment.\\\");\\n        // Jupyter notebook.\\n        var extensions = (\\n            Jupyter\\n            && Jupyter.notebook.config.data\\n            && Jupyter.notebook.config.data.load_extensions\\n        );\\n        if (extensions && extensions[\\\"webio-jupyter-notebook\\\"]) {\\n            // Extension already loaded.\\n            console.log(\\\"Jupyter WebIO nbextension detected; not loading ad-hoc.\\\");\\n            hide();\\n            return;\\n        }\\n    } else if (window.location.pathname.includes(\\\"/lab\\\")) {\\n        // Guessing JupyterLa\\n        console.log(\\\"Jupyter Lab detected; make sure the @webio/jupyter-lab-provider labextension is installed.\\\");\\n        hide();\\n        return;\\n    }\\n})();\\n\\n</script>\\n<p\\n    id=\\\"webio-warning-4686462730788379912\\\"\\n    class=\\\"output_text output_stderr\\\"\\n    style=\\\"padding: 1em; font-weight: bold;\\\"\\n>\\n    Unable to load WebIO. Please make sure WebIO works for your Jupyter client.\\n    For troubleshooting, please see <a href=\\\"https://juliagizmos.github.io/WebIO.jl/latest/providers/ijulia/\\\">\\n    the WebIO/IJulia documentation</a>.\\n    <!-- TODO: link to installation docs. -->\\n</p>\\n\")"
      ]
     },
     "metadata": {},
     "output_type": "display_data"
    },
    {
     "data": {
      "text/plain": [
       "calc_wavelet (generic function with 1 method)"
      ]
     },
     "execution_count": 1,
     "metadata": {},
     "output_type": "execute_result"
    }
   ],
   "source": [
    "using Pipe\n",
    "using DataFrames\n",
    "# using StatsPlots\n",
    "using CSV\n",
    "# using RollingFunctions\n",
    "using Query\n",
    "# using GLMakie\n",
    "\n",
    "using JSON\n",
    "using DataFrames\n",
    "using Dates\n",
    "using Colors\n",
    "# using ColorSchemes\n",
    "using Indicators\n",
    "\n",
    "import Colors\n",
    "using Plots\n",
    "using Interact\n",
    "using Statistics\n",
    "using StatsBase\n",
    "\n",
    "include(\"utils.jl\")"
   ]
  },
  {
   "cell_type": "code",
   "execution_count": null,
   "id": "1682b8a8",
   "metadata": {},
   "outputs": [],
   "source": []
  },
  {
   "cell_type": "code",
   "execution_count": 2,
   "id": "c2a0ad70",
   "metadata": {},
   "outputs": [
    {
     "data": {
      "text/plain": [
       "wjsonf (generic function with 1 method)"
      ]
     },
     "execution_count": 2,
     "metadata": {},
     "output_type": "execute_result"
    }
   ],
   "source": [
    "function rjsonf(fname)\n",
    "    f = open(fname, \"r\")\n",
    "    json_data = JSON.parse(f)\n",
    "    close(f)\n",
    "    json_data\n",
    "end\n",
    "function wjsonf(fname,obj)\n",
    "    open(fname,\"w\") do io\n",
    "       println(io,JSON.json(obj))\n",
    "    end\n",
    "end"
   ]
  },
  {
   "cell_type": "code",
   "execution_count": 3,
   "id": "9a5efe75",
   "metadata": {},
   "outputs": [
    {
     "data": {
      "text/plain": [
       "0000-01-01T00:00:00"
      ]
     },
     "execution_count": 3,
     "metadata": {},
     "output_type": "execute_result"
    }
   ],
   "source": [
    "DateTime(0)"
   ]
  },
  {
   "cell_type": "code",
   "execution_count": 4,
   "id": "62ed3b71",
   "metadata": {},
   "outputs": [
    {
     "data": {
      "text/plain": [
       "loadOHLC (generic function with 1 method)"
      ]
     },
     "execution_count": 4,
     "metadata": {},
     "output_type": "execute_result"
    }
   ],
   "source": [
    "function loadOHLC(;fname=\"BTC_USDT-1m.json\", start_date = DateTime(2021, 1, 1), end_date = DateTime(2021, 6, 12))\n",
    "    json_data_folder = \"../user_data/data/binance\"\n",
    "    json_filename = \"BTC_USDT-1m.json\"\n",
    "    json_filepath = \"$json_data_folder/$json_filename\"\n",
    "    json_data = rjsonf(json_filepath)\n",
    "\n",
    "    dfa = DataFrame(unix_time = Int64[], open=Float64[], high=Float64[], low=Float64[], close=Float64[], volume=Float64[])\n",
    "    for r in json_data push!(dfa, r) end\n",
    "    dfa.unix_time .= dfa.unix_time ./1000\n",
    "    # dfa.time .= unix2datetime.(dfa.unix_time)\n",
    "    insertcols!(dfa, :time => unix2datetime.(dfa.unix_time))\n",
    "    vdf = dfa[(dfa.time .>= start_date) .& (dfa.time .<= end_date) , :]\n",
    "end"
   ]
  },
  {
   "cell_type": "code",
   "execution_count": 79,
   "id": "de73faa6",
   "metadata": {},
   "outputs": [
    {
     "data": {
      "text/plain": [
       "60481"
      ]
     },
     "execution_count": 79,
     "metadata": {},
     "output_type": "execute_result"
    }
   ],
   "source": []
  },
  {
   "cell_type": "code",
   "execution_count": 6,
   "id": "80d1a061",
   "metadata": {},
   "outputs": [
    {
     "data": {
      "text/plain": [
       "backtest (generic function with 1 method)"
      ]
     },
     "execution_count": 6,
     "metadata": {},
     "output_type": "execute_result"
    }
   ],
   "source": [
    "function backtest(vdf::DataFrame, p::Dict; shouldEnter = (args...) -> false, getEntry = (args...) -> (0,0), shouldExit = (args...) -> (false, 0))\n",
    "#     capital = 10000.\n",
    "#     qfee = 0.001\n",
    "#     risk_percent = 0.01\n",
    "    dfo=DataFrame(ut = 0, tt=DateTime(0), oix =0, order = :init, reason = :init, price = 0., stop = 0., target=0.,\n",
    "                qty = 0., pnl = 0., capital = 10000.)\n",
    "    \n",
    "    capital = p[:capital]\n",
    "    in_pos = false \n",
    "    for i in p[:interval]\n",
    "\n",
    "        ord = last(dfo)\n",
    "        if !in_pos\n",
    "            should_enter, order_type = shouldEnter(p, i, ord)\n",
    "            if should_enter\n",
    "                (enter_price, stop_price, target_price, qty) = getEntry(order_type, p, i)\n",
    "#                 order_type = qty > 0 ? (:long) : short ;\n",
    "                enter_price_with_fee = enter_price*(1+qfee)\n",
    "                push!(dfo, (ut = vdf.unix_time[i], tt=vdf.time[i], oix=i, order = order_type, reason = :enter, price = enter_price_with_fee, qty = qty,\n",
    "                        stop = stop_price, target=target_price, pnl = 0, capital = capital))\n",
    "\n",
    "                in_pos = true\n",
    "            end\n",
    "        else\n",
    "            (do_exit, exit_price) = shouldExit(p, i, ord)\n",
    "            if do_exit\n",
    "                profit_loss = ord.qty * (exit_price - ord.price)\n",
    "                capital = capital + profit_loss\n",
    "\n",
    "                push!(dfo, (ut = vdf.unix_time[i], tt=vdf.time[i], oix=i, order = :long, reason = :exit, price = exit_price, stop = 0, target=0,\n",
    "                         qty = ord.qty, pnl = profit_loss, capital = capital))\n",
    "\n",
    "                in_pos = false\n",
    "            end\n",
    "        end\n",
    "    end\n",
    "    CSV.write(\"trades.csv\", dfo)\n",
    "#     p[:dfo]\n",
    "    dfo\n",
    "end"
   ]
  },
  {
   "cell_type": "code",
   "execution_count": 7,
   "id": "427c763c",
   "metadata": {},
   "outputs": [],
   "source": [
    "\n",
    "# params"
   ]
  },
  {
   "cell_type": "code",
   "execution_count": null,
   "id": "d8267073",
   "metadata": {},
   "outputs": [],
   "source": []
  },
  {
   "cell_type": "code",
   "execution_count": 90,
   "id": "266dd827",
   "metadata": {},
   "outputs": [
    {
     "data": {
      "text/plain": [
       "60481"
      ]
     },
     "execution_count": 90,
     "metadata": {},
     "output_type": "execute_result"
    }
   ],
   "source": [
    "vdf = loadOHLC(fname=\"BTC_USDT-1m.json\", start_date = DateTime(2021, 6, 1), end_date = DateTime(2021, 6, 12))\n",
    "# first(vdf), last(vdf)\n",
    "nrow(vdf)"
   ]
  },
  {
   "cell_type": "code",
   "execution_count": 91,
   "id": "07d570a3",
   "metadata": {},
   "outputs": [
    {
     "data": {
      "application/vnd.webio.node+json": {
       "children": [
        {
         "children": [
          {
           "children": [
            {
             "children": [
              {
               "children": [
                {
                 "children": [
                  {
                   "children": [
                    "stop"
                   ],
                   "instanceArgs": {
                    "namespace": "html",
                    "tag": "label"
                   },
                   "nodeType": "DOM",
                   "props": {
                    "className": "interact ",
                    "style": {
                     "padding": "5px 10px 0px 10px"
                    }
                   },
                   "type": "node"
                  }
                 ],
                 "instanceArgs": {
                  "namespace": "html",
                  "tag": "div"
                 },
                 "nodeType": "DOM",
                 "props": {
                  "className": "interact-flex-row-left"
                 },
                 "type": "node"
                },
                {
                 "children": [
                  {
                   "children": [],
                   "instanceArgs": {
                    "namespace": "html",
                    "tag": "input"
                   },
                   "nodeType": "DOM",
                   "props": {
                    "attributes": {
                     "data-bind": "numericValue: index, valueUpdate: 'input', event: {change: function (){this.changes(this.changes()+1)}}",
                     "orient": "horizontal",
                     "type": "range"
                    },
                    "className": "slider slider is-fullwidth",
                    "default": 14,
                    "max": 201,
                    "min": 1,
                    "step": 1,
                    "style": {}
                   },
                   "type": "node"
                  }
                 ],
                 "instanceArgs": {
                  "namespace": "html",
                  "tag": "div"
                 },
                 "nodeType": "DOM",
                 "props": {
                  "className": "interact-flex-row-center"
                 },
                 "type": "node"
                },
                {
                 "children": [
                  {
                   "children": [],
                   "instanceArgs": {
                    "namespace": "html",
                    "tag": "p"
                   },
                   "nodeType": "DOM",
                   "props": {
                    "attributes": {
                     "data-bind": "text: formatted_val"
                    }
                   },
                   "type": "node"
                  }
                 ],
                 "instanceArgs": {
                  "namespace": "html",
                  "tag": "div"
                 },
                 "nodeType": "DOM",
                 "props": {
                  "className": "interact-flex-row-right"
                 },
                 "type": "node"
                }
               ],
               "instanceArgs": {
                "namespace": "html",
                "tag": "div"
               },
               "nodeType": "DOM",
               "props": {
                "className": "interact-flex-row interact-widget"
               },
               "type": "node"
              }
             ],
             "instanceArgs": {
              "handlers": {
               "changes": [
                "(function (val){return (val!=this.model[\"changes\"]()) ? (this.valueFromJulia[\"changes\"]=true, this.model[\"changes\"](val)) : undefined})"
               ],
               "index": [
                "(function (val){return (val!=this.model[\"index\"]()) ? (this.valueFromJulia[\"index\"]=true, this.model[\"index\"](val)) : undefined})"
               ]
              },
              "id": "12507749880756161116",
              "imports": {
               "data": [
                {
                 "name": "knockout",
                 "type": "js",
                 "url": "/assetserver/0fc6d61518197b1bf9b23217e9be1d2e00f2bb14-knockout.js"
                },
                {
                 "name": "knockout_punches",
                 "type": "js",
                 "url": "/assetserver/24c12264eef2b01f723a21985ba5661f5564d7cf-knockout_punches.js"
                },
                {
                 "name": null,
                 "type": "js",
                 "url": "/assetserver/85de428ae418ad26c1ce7e886d25374b3774afa9-all.js"
                },
                {
                 "name": null,
                 "type": "css",
                 "url": "/assetserver/2cd8ff31326883094fe5a8ff21182264663b62be-style.css"
                },
                {
                 "name": null,
                 "type": "css",
                 "url": "/assetserver/741bde2d4bf25f117d0ec4d43164cd1a050cf9de-bulma_confined.min.css"
                }
               ],
               "type": "async_block"
              },
              "mount_callbacks": [
               "function () {\n    var handler = (function (ko, koPunches) {\n    ko.punches.enableAll();\n    ko.bindingHandlers.numericValue = {\n        init: function(element, valueAccessor, allBindings, data, context) {\n            var stringified = ko.observable(ko.unwrap(valueAccessor()));\n            stringified.subscribe(function(value) {\n                var val = parseFloat(value);\n                if (!isNaN(val)) {\n                    valueAccessor()(val);\n                }\n            });\n            valueAccessor().subscribe(function(value) {\n                var str = JSON.stringify(value);\n                if ((str == \"0\") && ([\"-0\", \"-0.\"].indexOf(stringified()) >= 0))\n                     return;\n                 if ([\"null\", \"\"].indexOf(str) >= 0)\n                     return;\n                stringified(str);\n            });\n            ko.applyBindingsToNode(\n                element,\n                {\n                    value: stringified,\n                    valueUpdate: allBindings.get('valueUpdate'),\n                },\n                context,\n            );\n        }\n    };\n    var json_data = {\"formatted_vals\":[\"0.0\",\"0.05\",\"0.1\",\"0.15\",\"0.2\",\"0.25\",\"0.3\",\"0.35\",\"0.4\",\"0.45\",\"0.5\",\"0.55\",\"0.6\",\"0.65\",\"0.7\",\"0.75\",\"0.8\",\"0.85\",\"0.9\",\"0.95\",\"1.0\",\"1.05\",\"1.1\",\"1.15\",\"1.2\",\"1.25\",\"1.3\",\"1.35\",\"1.4\",\"1.45\",\"1.5\",\"1.55\",\"1.6\",\"1.65\",\"1.7\",\"1.75\",\"1.8\",\"1.85\",\"1.9\",\"1.95\",\"2.0\",\"2.05\",\"2.1\",\"2.15\",\"2.2\",\"2.25\",\"2.3\",\"2.35\",\"2.4\",\"2.45\",\"2.5\",\"2.55\",\"2.6\",\"2.65\",\"2.7\",\"2.75\",\"2.8\",\"2.85\",\"2.9\",\"2.95\",\"3.0\",\"3.05\",\"3.1\",\"3.15\",\"3.2\",\"3.25\",\"3.3\",\"3.35\",\"3.4\",\"3.45\",\"3.5\",\"3.55\",\"3.6\",\"3.65\",\"3.7\",\"3.75\",\"3.8\",\"3.85\",\"3.9\",\"3.95\",\"4.0\",\"4.05\",\"4.1\",\"4.15\",\"4.2\",\"4.25\",\"4.3\",\"4.35\",\"4.4\",\"4.45\",\"4.5\",\"4.55\",\"4.6\",\"4.65\",\"4.7\",\"4.75\",\"4.8\",\"4.85\",\"4.9\",\"4.95\",\"5.0\",\"5.05\",\"5.1\",\"5.15\",\"5.2\",\"5.25\",\"5.3\",\"5.35\",\"5.4\",\"5.45\",\"5.5\",\"5.55\",\"5.6\",\"5.65\",\"5.7\",\"5.75\",\"5.8\",\"5.85\",\"5.9\",\"5.95\",\"6.0\",\"6.05\",\"6.1\",\"6.15\",\"6.2\",\"6.25\",\"6.3\",\"6.35\",\"6.4\",\"6.45\",\"6.5\",\"6.55\",\"6.6\",\"6.65\",\"6.7\",\"6.75\",\"6.8\",\"6.85\",\"6.9\",\"6.95\",\"7.0\",\"7.05\",\"7.1\",\"7.15\",\"7.2\",\"7.25\",\"7.3\",\"7.35\",\"7.4\",\"7.45\",\"7.5\",\"7.55\",\"7.6\",\"7.65\",\"7.7\",\"7.75\",\"7.8\",\"7.85\",\"7.9\",\"7.95\",\"8.0\",\"8.05\",\"8.1\",\"8.15\",\"8.2\",\"8.25\",\"8.3\",\"8.35\",\"8.4\",\"8.45\",\"8.5\",\"8.55\",\"8.6\",\"8.65\",\"8.7\",\"8.75\",\"8.8\",\"8.85\",\"8.9\",\"8.95\",\"9.0\",\"9.05\",\"9.1\",\"9.15\",\"9.2\",\"9.25\",\"9.3\",\"9.35\",\"9.4\",\"9.45\",\"9.5\",\"9.55\",\"9.6\",\"9.65\",\"9.7\",\"9.75\",\"9.8\",\"9.85\",\"9.9\",\"9.95\",\"10.0\"],\"changes\":WebIO.getval({\"name\":\"changes\",\"scope\":\"12507749880756161116\",\"id\":\"15520604083165506776\",\"type\":\"observable\"}),\"index\":WebIO.getval({\"name\":\"index\",\"scope\":\"12507749880756161116\",\"id\":\"11873370316729394130\",\"type\":\"observable\"})};\n    var self = this;\n    function AppViewModel() {\n        for (var key in json_data) {\n            var el = json_data[key];\n            this[key] = Array.isArray(el) ? ko.observableArray(el) : ko.observable(el);\n        }\n        \n        [this[\"formatted_val\"]=ko.computed(    function(){\n        return this.formatted_vals()[parseInt(this.index())-(1)];\n    }\n,this)]\n        [this[\"changes\"].subscribe((function (val){!(this.valueFromJulia[\"changes\"]) ? (WebIO.setval({\"name\":\"changes\",\"scope\":\"12507749880756161116\",\"id\":\"15520604083165506776\",\"type\":\"observable\"},val)) : undefined; return this.valueFromJulia[\"changes\"]=false}),self),this[\"index\"].subscribe((function (val){!(this.valueFromJulia[\"index\"]) ? (WebIO.setval({\"name\":\"index\",\"scope\":\"12507749880756161116\",\"id\":\"11873370316729394130\",\"type\":\"observable\"},val)) : undefined; return this.valueFromJulia[\"index\"]=false}),self)]\n        \n    }\n    self.model = new AppViewModel();\n    self.valueFromJulia = {};\n    for (var key in json_data) {\n        self.valueFromJulia[key] = false;\n    }\n    ko.applyBindings(self.model, self.dom);\n}\n);\n    (WebIO.importBlock({\"data\":[{\"name\":\"knockout\",\"type\":\"js\",\"url\":\"/assetserver/0fc6d61518197b1bf9b23217e9be1d2e00f2bb14-knockout.js\"},{\"name\":\"knockout_punches\",\"type\":\"js\",\"url\":\"/assetserver/24c12264eef2b01f723a21985ba5661f5564d7cf-knockout_punches.js\"}],\"type\":\"async_block\"})).then((imports) => handler.apply(this, imports));\n}\n"
              ],
              "observables": {
               "changes": {
                "id": "15520604083165506776",
                "sync": false,
                "value": 0
               },
               "index": {
                "id": "11873370316729394130",
                "sync": true,
                "value": 41
               }
              },
              "systemjs_options": null
             },
             "nodeType": "Scope",
             "props": {},
             "type": "node"
            }
           ],
           "instanceArgs": {
            "namespace": "html",
            "tag": "div"
           },
           "nodeType": "DOM",
           "props": {
            "className": "field interact-widget"
           },
           "type": "node"
          },
          {
           "children": [
            {
             "children": [
              {
               "children": [
                {
                 "children": [
                  {
                   "children": [
                    "tgt"
                   ],
                   "instanceArgs": {
                    "namespace": "html",
                    "tag": "label"
                   },
                   "nodeType": "DOM",
                   "props": {
                    "className": "interact ",
                    "style": {
                     "padding": "5px 10px 0px 10px"
                    }
                   },
                   "type": "node"
                  }
                 ],
                 "instanceArgs": {
                  "namespace": "html",
                  "tag": "div"
                 },
                 "nodeType": "DOM",
                 "props": {
                  "className": "interact-flex-row-left"
                 },
                 "type": "node"
                },
                {
                 "children": [
                  {
                   "children": [],
                   "instanceArgs": {
                    "namespace": "html",
                    "tag": "input"
                   },
                   "nodeType": "DOM",
                   "props": {
                    "attributes": {
                     "data-bind": "numericValue: index, valueUpdate: 'input', event: {change: function (){this.changes(this.changes()+1)}}",
                     "orient": "horizontal",
                     "type": "range"
                    },
                    "className": "slider slider is-fullwidth",
                    "default": 14,
                    "max": 51,
                    "min": 1,
                    "step": 1,
                    "style": {}
                   },
                   "type": "node"
                  }
                 ],
                 "instanceArgs": {
                  "namespace": "html",
                  "tag": "div"
                 },
                 "nodeType": "DOM",
                 "props": {
                  "className": "interact-flex-row-center"
                 },
                 "type": "node"
                },
                {
                 "children": [
                  {
                   "children": [],
                   "instanceArgs": {
                    "namespace": "html",
                    "tag": "p"
                   },
                   "nodeType": "DOM",
                   "props": {
                    "attributes": {
                     "data-bind": "text: formatted_val"
                    }
                   },
                   "type": "node"
                  }
                 ],
                 "instanceArgs": {
                  "namespace": "html",
                  "tag": "div"
                 },
                 "nodeType": "DOM",
                 "props": {
                  "className": "interact-flex-row-right"
                 },
                 "type": "node"
                }
               ],
               "instanceArgs": {
                "namespace": "html",
                "tag": "div"
               },
               "nodeType": "DOM",
               "props": {
                "className": "interact-flex-row interact-widget"
               },
               "type": "node"
              }
             ],
             "instanceArgs": {
              "handlers": {
               "changes": [
                "(function (val){return (val!=this.model[\"changes\"]()) ? (this.valueFromJulia[\"changes\"]=true, this.model[\"changes\"](val)) : undefined})"
               ],
               "index": [
                "(function (val){return (val!=this.model[\"index\"]()) ? (this.valueFromJulia[\"index\"]=true, this.model[\"index\"](val)) : undefined})"
               ]
              },
              "id": "17475990009657558785",
              "imports": {
               "data": [
                {
                 "name": "knockout",
                 "type": "js",
                 "url": "/assetserver/0fc6d61518197b1bf9b23217e9be1d2e00f2bb14-knockout.js"
                },
                {
                 "name": "knockout_punches",
                 "type": "js",
                 "url": "/assetserver/24c12264eef2b01f723a21985ba5661f5564d7cf-knockout_punches.js"
                },
                {
                 "name": null,
                 "type": "js",
                 "url": "/assetserver/85de428ae418ad26c1ce7e886d25374b3774afa9-all.js"
                },
                {
                 "name": null,
                 "type": "css",
                 "url": "/assetserver/2cd8ff31326883094fe5a8ff21182264663b62be-style.css"
                },
                {
                 "name": null,
                 "type": "css",
                 "url": "/assetserver/741bde2d4bf25f117d0ec4d43164cd1a050cf9de-bulma_confined.min.css"
                }
               ],
               "type": "async_block"
              },
              "mount_callbacks": [
               "function () {\n    var handler = (function (ko, koPunches) {\n    ko.punches.enableAll();\n    ko.bindingHandlers.numericValue = {\n        init: function(element, valueAccessor, allBindings, data, context) {\n            var stringified = ko.observable(ko.unwrap(valueAccessor()));\n            stringified.subscribe(function(value) {\n                var val = parseFloat(value);\n                if (!isNaN(val)) {\n                    valueAccessor()(val);\n                }\n            });\n            valueAccessor().subscribe(function(value) {\n                var str = JSON.stringify(value);\n                if ((str == \"0\") && ([\"-0\", \"-0.\"].indexOf(stringified()) >= 0))\n                     return;\n                 if ([\"null\", \"\"].indexOf(str) >= 0)\n                     return;\n                stringified(str);\n            });\n            ko.applyBindingsToNode(\n                element,\n                {\n                    value: stringified,\n                    valueUpdate: allBindings.get('valueUpdate'),\n                },\n                context,\n            );\n        }\n    };\n    var json_data = {\"formatted_vals\":[\"0.0\",\"0.2\",\"0.4\",\"0.6\",\"0.8\",\"1.0\",\"1.2\",\"1.4\",\"1.6\",\"1.8\",\"2.0\",\"2.2\",\"2.4\",\"2.6\",\"2.8\",\"3.0\",\"3.2\",\"3.4\",\"3.6\",\"3.8\",\"4.0\",\"4.2\",\"4.4\",\"4.6\",\"4.8\",\"5.0\",\"5.2\",\"5.4\",\"5.6\",\"5.8\",\"6.0\",\"6.2\",\"6.4\",\"6.6\",\"6.8\",\"7.0\",\"7.2\",\"7.4\",\"7.6\",\"7.8\",\"8.0\",\"8.2\",\"8.4\",\"8.6\",\"8.8\",\"9.0\",\"9.2\",\"9.4\",\"9.6\",\"9.8\",\"10.0\"],\"changes\":WebIO.getval({\"name\":\"changes\",\"scope\":\"17475990009657558785\",\"id\":\"11642263928924620372\",\"type\":\"observable\"}),\"index\":WebIO.getval({\"name\":\"index\",\"scope\":\"17475990009657558785\",\"id\":\"8524812456698984899\",\"type\":\"observable\"})};\n    var self = this;\n    function AppViewModel() {\n        for (var key in json_data) {\n            var el = json_data[key];\n            this[key] = Array.isArray(el) ? ko.observableArray(el) : ko.observable(el);\n        }\n        \n        [this[\"formatted_val\"]=ko.computed(    function(){\n        return this.formatted_vals()[parseInt(this.index())-(1)];\n    }\n,this)]\n        [this[\"changes\"].subscribe((function (val){!(this.valueFromJulia[\"changes\"]) ? (WebIO.setval({\"name\":\"changes\",\"scope\":\"17475990009657558785\",\"id\":\"11642263928924620372\",\"type\":\"observable\"},val)) : undefined; return this.valueFromJulia[\"changes\"]=false}),self),this[\"index\"].subscribe((function (val){!(this.valueFromJulia[\"index\"]) ? (WebIO.setval({\"name\":\"index\",\"scope\":\"17475990009657558785\",\"id\":\"8524812456698984899\",\"type\":\"observable\"},val)) : undefined; return this.valueFromJulia[\"index\"]=false}),self)]\n        \n    }\n    self.model = new AppViewModel();\n    self.valueFromJulia = {};\n    for (var key in json_data) {\n        self.valueFromJulia[key] = false;\n    }\n    ko.applyBindings(self.model, self.dom);\n}\n);\n    (WebIO.importBlock({\"data\":[{\"name\":\"knockout\",\"type\":\"js\",\"url\":\"/assetserver/0fc6d61518197b1bf9b23217e9be1d2e00f2bb14-knockout.js\"},{\"name\":\"knockout_punches\",\"type\":\"js\",\"url\":\"/assetserver/24c12264eef2b01f723a21985ba5661f5564d7cf-knockout_punches.js\"}],\"type\":\"async_block\"})).then((imports) => handler.apply(this, imports));\n}\n"
              ],
              "observables": {
               "changes": {
                "id": "11642263928924620372",
                "sync": false,
                "value": 0
               },
               "index": {
                "id": "8524812456698984899",
                "sync": true,
                "value": 6
               }
              },
              "systemjs_options": null
             },
             "nodeType": "Scope",
             "props": {},
             "type": "node"
            }
           ],
           "instanceArgs": {
            "namespace": "html",
            "tag": "div"
           },
           "nodeType": "DOM",
           "props": {
            "className": "field interact-widget"
           },
           "type": "node"
          },
          {
           "children": [
            {
             "children": [
              {
               "children": [
                {
                 "children": [
                  {
                   "children": [
                    "cool"
                   ],
                   "instanceArgs": {
                    "namespace": "html",
                    "tag": "label"
                   },
                   "nodeType": "DOM",
                   "props": {
                    "className": "interact ",
                    "style": {
                     "padding": "5px 10px 0px 10px"
                    }
                   },
                   "type": "node"
                  }
                 ],
                 "instanceArgs": {
                  "namespace": "html",
                  "tag": "div"
                 },
                 "nodeType": "DOM",
                 "props": {
                  "className": "interact-flex-row-left"
                 },
                 "type": "node"
                },
                {
                 "children": [
                  {
                   "children": [],
                   "instanceArgs": {
                    "namespace": "html",
                    "tag": "input"
                   },
                   "nodeType": "DOM",
                   "props": {
                    "attributes": {
                     "data-bind": "numericValue: index, valueUpdate: 'input', event: {change: function (){this.changes(this.changes()+1)}}",
                     "orient": "horizontal",
                     "type": "range"
                    },
                    "className": "slider slider is-fullwidth",
                    "default": 30,
                    "max": 121,
                    "min": 1,
                    "step": 1,
                    "style": {}
                   },
                   "type": "node"
                  }
                 ],
                 "instanceArgs": {
                  "namespace": "html",
                  "tag": "div"
                 },
                 "nodeType": "DOM",
                 "props": {
                  "className": "interact-flex-row-center"
                 },
                 "type": "node"
                },
                {
                 "children": [
                  {
                   "children": [],
                   "instanceArgs": {
                    "namespace": "html",
                    "tag": "p"
                   },
                   "nodeType": "DOM",
                   "props": {
                    "attributes": {
                     "data-bind": "text: formatted_val"
                    }
                   },
                   "type": "node"
                  }
                 ],
                 "instanceArgs": {
                  "namespace": "html",
                  "tag": "div"
                 },
                 "nodeType": "DOM",
                 "props": {
                  "className": "interact-flex-row-right"
                 },
                 "type": "node"
                }
               ],
               "instanceArgs": {
                "namespace": "html",
                "tag": "div"
               },
               "nodeType": "DOM",
               "props": {
                "className": "interact-flex-row interact-widget"
               },
               "type": "node"
              }
             ],
             "instanceArgs": {
              "handlers": {
               "changes": [
                "(function (val){return (val!=this.model[\"changes\"]()) ? (this.valueFromJulia[\"changes\"]=true, this.model[\"changes\"](val)) : undefined})"
               ],
               "index": [
                "(function (val){return (val!=this.model[\"index\"]()) ? (this.valueFromJulia[\"index\"]=true, this.model[\"index\"](val)) : undefined})"
               ]
              },
              "id": "1536520112194890557",
              "imports": {
               "data": [
                {
                 "name": "knockout",
                 "type": "js",
                 "url": "/assetserver/0fc6d61518197b1bf9b23217e9be1d2e00f2bb14-knockout.js"
                },
                {
                 "name": "knockout_punches",
                 "type": "js",
                 "url": "/assetserver/24c12264eef2b01f723a21985ba5661f5564d7cf-knockout_punches.js"
                },
                {
                 "name": null,
                 "type": "js",
                 "url": "/assetserver/85de428ae418ad26c1ce7e886d25374b3774afa9-all.js"
                },
                {
                 "name": null,
                 "type": "css",
                 "url": "/assetserver/2cd8ff31326883094fe5a8ff21182264663b62be-style.css"
                },
                {
                 "name": null,
                 "type": "css",
                 "url": "/assetserver/741bde2d4bf25f117d0ec4d43164cd1a050cf9de-bulma_confined.min.css"
                }
               ],
               "type": "async_block"
              },
              "mount_callbacks": [
               "function () {\n    var handler = (function (ko, koPunches) {\n    ko.punches.enableAll();\n    ko.bindingHandlers.numericValue = {\n        init: function(element, valueAccessor, allBindings, data, context) {\n            var stringified = ko.observable(ko.unwrap(valueAccessor()));\n            stringified.subscribe(function(value) {\n                var val = parseFloat(value);\n                if (!isNaN(val)) {\n                    valueAccessor()(val);\n                }\n            });\n            valueAccessor().subscribe(function(value) {\n                var str = JSON.stringify(value);\n                if ((str == \"0\") && ([\"-0\", \"-0.\"].indexOf(stringified()) >= 0))\n                     return;\n                 if ([\"null\", \"\"].indexOf(str) >= 0)\n                     return;\n                stringified(str);\n            });\n            ko.applyBindingsToNode(\n                element,\n                {\n                    value: stringified,\n                    valueUpdate: allBindings.get('valueUpdate'),\n                },\n                context,\n            );\n        }\n    };\n    var json_data = {\"formatted_vals\":[\"0\",\"5\",\"10\",\"15\",\"20\",\"25\",\"30\",\"35\",\"40\",\"45\",\"50\",\"55\",\"60\",\"65\",\"70\",\"75\",\"80\",\"85\",\"90\",\"95\",\"100\",\"105\",\"110\",\"115\",\"120\",\"125\",\"130\",\"135\",\"140\",\"145\",\"150\",\"155\",\"160\",\"165\",\"170\",\"175\",\"180\",\"185\",\"190\",\"195\",\"200\",\"205\",\"210\",\"215\",\"220\",\"225\",\"230\",\"235\",\"240\",\"245\",\"250\",\"255\",\"260\",\"265\",\"270\",\"275\",\"280\",\"285\",\"290\",\"295\",\"300\",\"305\",\"310\",\"315\",\"320\",\"325\",\"330\",\"335\",\"340\",\"345\",\"350\",\"355\",\"360\",\"365\",\"370\",\"375\",\"380\",\"385\",\"390\",\"395\",\"400\",\"405\",\"410\",\"415\",\"420\",\"425\",\"430\",\"435\",\"440\",\"445\",\"450\",\"455\",\"460\",\"465\",\"470\",\"475\",\"480\",\"485\",\"490\",\"495\",\"500\",\"505\",\"510\",\"515\",\"520\",\"525\",\"530\",\"535\",\"540\",\"545\",\"550\",\"555\",\"560\",\"565\",\"570\",\"575\",\"580\",\"585\",\"590\",\"595\",\"600\"],\"changes\":WebIO.getval({\"name\":\"changes\",\"scope\":\"1536520112194890557\",\"id\":\"12228187063536839977\",\"type\":\"observable\"}),\"index\":WebIO.getval({\"name\":\"index\",\"scope\":\"1536520112194890557\",\"id\":\"14821841233384630536\",\"type\":\"observable\"})};\n    var self = this;\n    function AppViewModel() {\n        for (var key in json_data) {\n            var el = json_data[key];\n            this[key] = Array.isArray(el) ? ko.observableArray(el) : ko.observable(el);\n        }\n        \n        [this[\"formatted_val\"]=ko.computed(    function(){\n        return this.formatted_vals()[parseInt(this.index())-(1)];\n    }\n,this)]\n        [this[\"changes\"].subscribe((function (val){!(this.valueFromJulia[\"changes\"]) ? (WebIO.setval({\"name\":\"changes\",\"scope\":\"1536520112194890557\",\"id\":\"12228187063536839977\",\"type\":\"observable\"},val)) : undefined; return this.valueFromJulia[\"changes\"]=false}),self),this[\"index\"].subscribe((function (val){!(this.valueFromJulia[\"index\"]) ? (WebIO.setval({\"name\":\"index\",\"scope\":\"1536520112194890557\",\"id\":\"14821841233384630536\",\"type\":\"observable\"},val)) : undefined; return this.valueFromJulia[\"index\"]=false}),self)]\n        \n    }\n    self.model = new AppViewModel();\n    self.valueFromJulia = {};\n    for (var key in json_data) {\n        self.valueFromJulia[key] = false;\n    }\n    ko.applyBindings(self.model, self.dom);\n}\n);\n    (WebIO.importBlock({\"data\":[{\"name\":\"knockout\",\"type\":\"js\",\"url\":\"/assetserver/0fc6d61518197b1bf9b23217e9be1d2e00f2bb14-knockout.js\"},{\"name\":\"knockout_punches\",\"type\":\"js\",\"url\":\"/assetserver/24c12264eef2b01f723a21985ba5661f5564d7cf-knockout_punches.js\"}],\"type\":\"async_block\"})).then((imports) => handler.apply(this, imports));\n}\n"
              ],
              "observables": {
               "changes": {
                "id": "12228187063536839977",
                "sync": false,
                "value": 0
               },
               "index": {
                "id": "14821841233384630536",
                "sync": true,
                "value": 7
               }
              },
              "systemjs_options": null
             },
             "nodeType": "Scope",
             "props": {},
             "type": "node"
            }
           ],
           "instanceArgs": {
            "namespace": "html",
            "tag": "div"
           },
           "nodeType": "DOM",
           "props": {
            "className": "field interact-widget"
           },
           "type": "node"
          }
         ],
         "instanceArgs": {
          "namespace": "html",
          "tag": "div"
         },
         "nodeType": "DOM",
         "props": {
          "style": {
           "display": "flex",
           "flex-direction": "row"
          }
         },
         "type": "node"
        },
        {
         "children": [
          {
           "children": [
            {
             "children": [
              {
               "children": [
                {
                 "children": [
                  {
                   "children": [
                    "K1N"
                   ],
                   "instanceArgs": {
                    "namespace": "html",
                    "tag": "label"
                   },
                   "nodeType": "DOM",
                   "props": {
                    "className": "interact ",
                    "style": {
                     "padding": "5px 10px 0px 10px"
                    }
                   },
                   "type": "node"
                  }
                 ],
                 "instanceArgs": {
                  "namespace": "html",
                  "tag": "div"
                 },
                 "nodeType": "DOM",
                 "props": {
                  "className": "interact-flex-row-left"
                 },
                 "type": "node"
                },
                {
                 "children": [
                  {
                   "children": [],
                   "instanceArgs": {
                    "namespace": "html",
                    "tag": "input"
                   },
                   "nodeType": "DOM",
                   "props": {
                    "attributes": {
                     "data-bind": "numericValue: index, valueUpdate: 'input', event: {change: function (){this.changes(this.changes()+1)}}",
                     "orient": "horizontal",
                     "type": "range"
                    },
                    "className": "slider slider is-fullwidth",
                    "default": 50,
                    "max": 41,
                    "min": 1,
                    "step": 1,
                    "style": {}
                   },
                   "type": "node"
                  }
                 ],
                 "instanceArgs": {
                  "namespace": "html",
                  "tag": "div"
                 },
                 "nodeType": "DOM",
                 "props": {
                  "className": "interact-flex-row-center"
                 },
                 "type": "node"
                },
                {
                 "children": [
                  {
                   "children": [],
                   "instanceArgs": {
                    "namespace": "html",
                    "tag": "p"
                   },
                   "nodeType": "DOM",
                   "props": {
                    "attributes": {
                     "data-bind": "text: formatted_val"
                    }
                   },
                   "type": "node"
                  }
                 ],
                 "instanceArgs": {
                  "namespace": "html",
                  "tag": "div"
                 },
                 "nodeType": "DOM",
                 "props": {
                  "className": "interact-flex-row-right"
                 },
                 "type": "node"
                }
               ],
               "instanceArgs": {
                "namespace": "html",
                "tag": "div"
               },
               "nodeType": "DOM",
               "props": {
                "className": "interact-flex-row interact-widget"
               },
               "type": "node"
              }
             ],
             "instanceArgs": {
              "handlers": {
               "changes": [
                "(function (val){return (val!=this.model[\"changes\"]()) ? (this.valueFromJulia[\"changes\"]=true, this.model[\"changes\"](val)) : undefined})"
               ],
               "index": [
                "(function (val){return (val!=this.model[\"index\"]()) ? (this.valueFromJulia[\"index\"]=true, this.model[\"index\"](val)) : undefined})"
               ]
              },
              "id": "6917832449004871402",
              "imports": {
               "data": [
                {
                 "name": "knockout",
                 "type": "js",
                 "url": "/assetserver/0fc6d61518197b1bf9b23217e9be1d2e00f2bb14-knockout.js"
                },
                {
                 "name": "knockout_punches",
                 "type": "js",
                 "url": "/assetserver/24c12264eef2b01f723a21985ba5661f5564d7cf-knockout_punches.js"
                },
                {
                 "name": null,
                 "type": "js",
                 "url": "/assetserver/85de428ae418ad26c1ce7e886d25374b3774afa9-all.js"
                },
                {
                 "name": null,
                 "type": "css",
                 "url": "/assetserver/2cd8ff31326883094fe5a8ff21182264663b62be-style.css"
                },
                {
                 "name": null,
                 "type": "css",
                 "url": "/assetserver/741bde2d4bf25f117d0ec4d43164cd1a050cf9de-bulma_confined.min.css"
                }
               ],
               "type": "async_block"
              },
              "mount_callbacks": [
               "function () {\n    var handler = (function (ko, koPunches) {\n    ko.punches.enableAll();\n    ko.bindingHandlers.numericValue = {\n        init: function(element, valueAccessor, allBindings, data, context) {\n            var stringified = ko.observable(ko.unwrap(valueAccessor()));\n            stringified.subscribe(function(value) {\n                var val = parseFloat(value);\n                if (!isNaN(val)) {\n                    valueAccessor()(val);\n                }\n            });\n            valueAccessor().subscribe(function(value) {\n                var str = JSON.stringify(value);\n                if ((str == \"0\") && ([\"-0\", \"-0.\"].indexOf(stringified()) >= 0))\n                     return;\n                 if ([\"null\", \"\"].indexOf(str) >= 0)\n                     return;\n                stringified(str);\n            });\n            ko.applyBindingsToNode(\n                element,\n                {\n                    value: stringified,\n                    valueUpdate: allBindings.get('valueUpdate'),\n                },\n                context,\n            );\n        }\n    };\n    var json_data = {\"formatted_vals\":[\"0\",\"10\",\"20\",\"30\",\"40\",\"50\",\"60\",\"70\",\"80\",\"90\",\"100\",\"110\",\"120\",\"130\",\"140\",\"150\",\"160\",\"170\",\"180\",\"190\",\"200\",\"210\",\"220\",\"230\",\"240\",\"250\",\"260\",\"270\",\"280\",\"290\",\"300\",\"310\",\"320\",\"330\",\"340\",\"350\",\"360\",\"370\",\"380\",\"390\",\"400\"],\"changes\":WebIO.getval({\"name\":\"changes\",\"scope\":\"6917832449004871402\",\"id\":\"16466815664876684519\",\"type\":\"observable\"}),\"index\":WebIO.getval({\"name\":\"index\",\"scope\":\"6917832449004871402\",\"id\":\"7928140464196230835\",\"type\":\"observable\"})};\n    var self = this;\n    function AppViewModel() {\n        for (var key in json_data) {\n            var el = json_data[key];\n            this[key] = Array.isArray(el) ? ko.observableArray(el) : ko.observable(el);\n        }\n        \n        [this[\"formatted_val\"]=ko.computed(    function(){\n        return this.formatted_vals()[parseInt(this.index())-(1)];\n    }\n,this)]\n        [this[\"changes\"].subscribe((function (val){!(this.valueFromJulia[\"changes\"]) ? (WebIO.setval({\"name\":\"changes\",\"scope\":\"6917832449004871402\",\"id\":\"16466815664876684519\",\"type\":\"observable\"},val)) : undefined; return this.valueFromJulia[\"changes\"]=false}),self),this[\"index\"].subscribe((function (val){!(this.valueFromJulia[\"index\"]) ? (WebIO.setval({\"name\":\"index\",\"scope\":\"6917832449004871402\",\"id\":\"7928140464196230835\",\"type\":\"observable\"},val)) : undefined; return this.valueFromJulia[\"index\"]=false}),self)]\n        \n    }\n    self.model = new AppViewModel();\n    self.valueFromJulia = {};\n    for (var key in json_data) {\n        self.valueFromJulia[key] = false;\n    }\n    ko.applyBindings(self.model, self.dom);\n}\n);\n    (WebIO.importBlock({\"data\":[{\"name\":\"knockout\",\"type\":\"js\",\"url\":\"/assetserver/0fc6d61518197b1bf9b23217e9be1d2e00f2bb14-knockout.js\"},{\"name\":\"knockout_punches\",\"type\":\"js\",\"url\":\"/assetserver/24c12264eef2b01f723a21985ba5661f5564d7cf-knockout_punches.js\"}],\"type\":\"async_block\"})).then((imports) => handler.apply(this, imports));\n}\n"
              ],
              "observables": {
               "changes": {
                "id": "16466815664876684519",
                "sync": false,
                "value": 0
               },
               "index": {
                "id": "7928140464196230835",
                "sync": true,
                "value": 2
               }
              },
              "systemjs_options": null
             },
             "nodeType": "Scope",
             "props": {},
             "type": "node"
            }
           ],
           "instanceArgs": {
            "namespace": "html",
            "tag": "div"
           },
           "nodeType": "DOM",
           "props": {
            "className": "field interact-widget"
           },
           "type": "node"
          },
          {
           "children": [
            {
             "children": [
              {
               "children": [
                {
                 "children": [
                  {
                   "children": [
                    "K1F"
                   ],
                   "instanceArgs": {
                    "namespace": "html",
                    "tag": "label"
                   },
                   "nodeType": "DOM",
                   "props": {
                    "className": "interact ",
                    "style": {
                     "padding": "5px 10px 0px 10px"
                    }
                   },
                   "type": "node"
                  }
                 ],
                 "instanceArgs": {
                  "namespace": "html",
                  "tag": "div"
                 },
                 "nodeType": "DOM",
                 "props": {
                  "className": "interact-flex-row-left"
                 },
                 "type": "node"
                },
                {
                 "children": [
                  {
                   "children": [],
                   "instanceArgs": {
                    "namespace": "html",
                    "tag": "input"
                   },
                   "nodeType": "DOM",
                   "props": {
                    "attributes": {
                     "data-bind": "numericValue: index, valueUpdate: 'input', event: {change: function (){this.changes(this.changes()+1)}}",
                     "orient": "horizontal",
                     "type": "range"
                    },
                    "className": "slider slider is-fullwidth",
                    "default": 0.6,
                    "max": 51,
                    "min": 1,
                    "step": 1,
                    "style": {}
                   },
                   "type": "node"
                  }
                 ],
                 "instanceArgs": {
                  "namespace": "html",
                  "tag": "div"
                 },
                 "nodeType": "DOM",
                 "props": {
                  "className": "interact-flex-row-center"
                 },
                 "type": "node"
                },
                {
                 "children": [
                  {
                   "children": [],
                   "instanceArgs": {
                    "namespace": "html",
                    "tag": "p"
                   },
                   "nodeType": "DOM",
                   "props": {
                    "attributes": {
                     "data-bind": "text: formatted_val"
                    }
                   },
                   "type": "node"
                  }
                 ],
                 "instanceArgs": {
                  "namespace": "html",
                  "tag": "div"
                 },
                 "nodeType": "DOM",
                 "props": {
                  "className": "interact-flex-row-right"
                 },
                 "type": "node"
                }
               ],
               "instanceArgs": {
                "namespace": "html",
                "tag": "div"
               },
               "nodeType": "DOM",
               "props": {
                "className": "interact-flex-row interact-widget"
               },
               "type": "node"
              }
             ],
             "instanceArgs": {
              "handlers": {
               "changes": [
                "(function (val){return (val!=this.model[\"changes\"]()) ? (this.valueFromJulia[\"changes\"]=true, this.model[\"changes\"](val)) : undefined})"
               ],
               "index": [
                "(function (val){return (val!=this.model[\"index\"]()) ? (this.valueFromJulia[\"index\"]=true, this.model[\"index\"](val)) : undefined})"
               ]
              },
              "id": "18283628025577398891",
              "imports": {
               "data": [
                {
                 "name": "knockout",
                 "type": "js",
                 "url": "/assetserver/0fc6d61518197b1bf9b23217e9be1d2e00f2bb14-knockout.js"
                },
                {
                 "name": "knockout_punches",
                 "type": "js",
                 "url": "/assetserver/24c12264eef2b01f723a21985ba5661f5564d7cf-knockout_punches.js"
                },
                {
                 "name": null,
                 "type": "js",
                 "url": "/assetserver/85de428ae418ad26c1ce7e886d25374b3774afa9-all.js"
                },
                {
                 "name": null,
                 "type": "css",
                 "url": "/assetserver/2cd8ff31326883094fe5a8ff21182264663b62be-style.css"
                },
                {
                 "name": null,
                 "type": "css",
                 "url": "/assetserver/741bde2d4bf25f117d0ec4d43164cd1a050cf9de-bulma_confined.min.css"
                }
               ],
               "type": "async_block"
              },
              "mount_callbacks": [
               "function () {\n    var handler = (function (ko, koPunches) {\n    ko.punches.enableAll();\n    ko.bindingHandlers.numericValue = {\n        init: function(element, valueAccessor, allBindings, data, context) {\n            var stringified = ko.observable(ko.unwrap(valueAccessor()));\n            stringified.subscribe(function(value) {\n                var val = parseFloat(value);\n                if (!isNaN(val)) {\n                    valueAccessor()(val);\n                }\n            });\n            valueAccessor().subscribe(function(value) {\n                var str = JSON.stringify(value);\n                if ((str == \"0\") && ([\"-0\", \"-0.\"].indexOf(stringified()) >= 0))\n                     return;\n                 if ([\"null\", \"\"].indexOf(str) >= 0)\n                     return;\n                stringified(str);\n            });\n            ko.applyBindingsToNode(\n                element,\n                {\n                    value: stringified,\n                    valueUpdate: allBindings.get('valueUpdate'),\n                },\n                context,\n            );\n        }\n    };\n    var json_data = {\"formatted_vals\":[\"0.0\",\"0.02\",\"0.04\",\"0.06\",\"0.08\",\"0.1\",\"0.12\",\"0.14\",\"0.16\",\"0.18\",\"0.2\",\"0.22\",\"0.24\",\"0.26\",\"0.28\",\"0.3\",\"0.32\",\"0.34\",\"0.36\",\"0.38\",\"0.4\",\"0.42\",\"0.44\",\"0.46\",\"0.48\",\"0.5\",\"0.52\",\"0.54\",\"0.56\",\"0.58\",\"0.6\",\"0.62\",\"0.64\",\"0.66\",\"0.68\",\"0.7\",\"0.72\",\"0.74\",\"0.76\",\"0.78\",\"0.8\",\"0.82\",\"0.84\",\"0.86\",\"0.88\",\"0.9\",\"0.92\",\"0.94\",\"0.96\",\"0.98\",\"1.0\"],\"changes\":WebIO.getval({\"name\":\"changes\",\"scope\":\"18283628025577398891\",\"id\":\"5210215974687676919\",\"type\":\"observable\"}),\"index\":WebIO.getval({\"name\":\"index\",\"scope\":\"18283628025577398891\",\"id\":\"410683308009890644\",\"type\":\"observable\"})};\n    var self = this;\n    function AppViewModel() {\n        for (var key in json_data) {\n            var el = json_data[key];\n            this[key] = Array.isArray(el) ? ko.observableArray(el) : ko.observable(el);\n        }\n        \n        [this[\"formatted_val\"]=ko.computed(    function(){\n        return this.formatted_vals()[parseInt(this.index())-(1)];\n    }\n,this)]\n        [this[\"changes\"].subscribe((function (val){!(this.valueFromJulia[\"changes\"]) ? (WebIO.setval({\"name\":\"changes\",\"scope\":\"18283628025577398891\",\"id\":\"5210215974687676919\",\"type\":\"observable\"},val)) : undefined; return this.valueFromJulia[\"changes\"]=false}),self),this[\"index\"].subscribe((function (val){!(this.valueFromJulia[\"index\"]) ? (WebIO.setval({\"name\":\"index\",\"scope\":\"18283628025577398891\",\"id\":\"410683308009890644\",\"type\":\"observable\"},val)) : undefined; return this.valueFromJulia[\"index\"]=false}),self)]\n        \n    }\n    self.model = new AppViewModel();\n    self.valueFromJulia = {};\n    for (var key in json_data) {\n        self.valueFromJulia[key] = false;\n    }\n    ko.applyBindings(self.model, self.dom);\n}\n);\n    (WebIO.importBlock({\"data\":[{\"name\":\"knockout\",\"type\":\"js\",\"url\":\"/assetserver/0fc6d61518197b1bf9b23217e9be1d2e00f2bb14-knockout.js\"},{\"name\":\"knockout_punches\",\"type\":\"js\",\"url\":\"/assetserver/24c12264eef2b01f723a21985ba5661f5564d7cf-knockout_punches.js\"}],\"type\":\"async_block\"})).then((imports) => handler.apply(this, imports));\n}\n"
              ],
              "observables": {
               "changes": {
                "id": "5210215974687676919",
                "sync": false,
                "value": 0
               },
               "index": {
                "id": "410683308009890644",
                "sync": true,
                "value": 35
               }
              },
              "systemjs_options": null
             },
             "nodeType": "Scope",
             "props": {},
             "type": "node"
            }
           ],
           "instanceArgs": {
            "namespace": "html",
            "tag": "div"
           },
           "nodeType": "DOM",
           "props": {
            "className": "field interact-widget"
           },
           "type": "node"
          },
          {
           "children": [
            {
             "children": [
              {
               "children": [
                {
                 "children": [
                  {
                   "children": [
                    "K1S"
                   ],
                   "instanceArgs": {
                    "namespace": "html",
                    "tag": "label"
                   },
                   "nodeType": "DOM",
                   "props": {
                    "className": "interact ",
                    "style": {
                     "padding": "5px 10px 0px 10px"
                    }
                   },
                   "type": "node"
                  }
                 ],
                 "instanceArgs": {
                  "namespace": "html",
                  "tag": "div"
                 },
                 "nodeType": "DOM",
                 "props": {
                  "className": "interact-flex-row-left"
                 },
                 "type": "node"
                },
                {
                 "children": [
                  {
                   "children": [],
                   "instanceArgs": {
                    "namespace": "html",
                    "tag": "input"
                   },
                   "nodeType": "DOM",
                   "props": {
                    "attributes": {
                     "data-bind": "numericValue: index, valueUpdate: 'input', event: {change: function (){this.changes(this.changes()+1)}}",
                     "orient": "horizontal",
                     "type": "range"
                    },
                    "className": "slider slider is-fullwidth",
                    "default": 0.0645,
                    "max": 51,
                    "min": 1,
                    "step": 1,
                    "style": {}
                   },
                   "type": "node"
                  }
                 ],
                 "instanceArgs": {
                  "namespace": "html",
                  "tag": "div"
                 },
                 "nodeType": "DOM",
                 "props": {
                  "className": "interact-flex-row-center"
                 },
                 "type": "node"
                },
                {
                 "children": [
                  {
                   "children": [],
                   "instanceArgs": {
                    "namespace": "html",
                    "tag": "p"
                   },
                   "nodeType": "DOM",
                   "props": {
                    "attributes": {
                     "data-bind": "text: formatted_val"
                    }
                   },
                   "type": "node"
                  }
                 ],
                 "instanceArgs": {
                  "namespace": "html",
                  "tag": "div"
                 },
                 "nodeType": "DOM",
                 "props": {
                  "className": "interact-flex-row-right"
                 },
                 "type": "node"
                }
               ],
               "instanceArgs": {
                "namespace": "html",
                "tag": "div"
               },
               "nodeType": "DOM",
               "props": {
                "className": "interact-flex-row interact-widget"
               },
               "type": "node"
              }
             ],
             "instanceArgs": {
              "handlers": {
               "changes": [
                "(function (val){return (val!=this.model[\"changes\"]()) ? (this.valueFromJulia[\"changes\"]=true, this.model[\"changes\"](val)) : undefined})"
               ],
               "index": [
                "(function (val){return (val!=this.model[\"index\"]()) ? (this.valueFromJulia[\"index\"]=true, this.model[\"index\"](val)) : undefined})"
               ]
              },
              "id": "11689196639228049528",
              "imports": {
               "data": [
                {
                 "name": "knockout",
                 "type": "js",
                 "url": "/assetserver/0fc6d61518197b1bf9b23217e9be1d2e00f2bb14-knockout.js"
                },
                {
                 "name": "knockout_punches",
                 "type": "js",
                 "url": "/assetserver/24c12264eef2b01f723a21985ba5661f5564d7cf-knockout_punches.js"
                },
                {
                 "name": null,
                 "type": "js",
                 "url": "/assetserver/85de428ae418ad26c1ce7e886d25374b3774afa9-all.js"
                },
                {
                 "name": null,
                 "type": "css",
                 "url": "/assetserver/2cd8ff31326883094fe5a8ff21182264663b62be-style.css"
                },
                {
                 "name": null,
                 "type": "css",
                 "url": "/assetserver/741bde2d4bf25f117d0ec4d43164cd1a050cf9de-bulma_confined.min.css"
                }
               ],
               "type": "async_block"
              },
              "mount_callbacks": [
               "function () {\n    var handler = (function (ko, koPunches) {\n    ko.punches.enableAll();\n    ko.bindingHandlers.numericValue = {\n        init: function(element, valueAccessor, allBindings, data, context) {\n            var stringified = ko.observable(ko.unwrap(valueAccessor()));\n            stringified.subscribe(function(value) {\n                var val = parseFloat(value);\n                if (!isNaN(val)) {\n                    valueAccessor()(val);\n                }\n            });\n            valueAccessor().subscribe(function(value) {\n                var str = JSON.stringify(value);\n                if ((str == \"0\") && ([\"-0\", \"-0.\"].indexOf(stringified()) >= 0))\n                     return;\n                 if ([\"null\", \"\"].indexOf(str) >= 0)\n                     return;\n                stringified(str);\n            });\n            ko.applyBindingsToNode(\n                element,\n                {\n                    value: stringified,\n                    valueUpdate: allBindings.get('valueUpdate'),\n                },\n                context,\n            );\n        }\n    };\n    var json_data = {\"formatted_vals\":[\"0.0\",\"0.02\",\"0.04\",\"0.06\",\"0.08\",\"0.1\",\"0.12\",\"0.14\",\"0.16\",\"0.18\",\"0.2\",\"0.22\",\"0.24\",\"0.26\",\"0.28\",\"0.3\",\"0.32\",\"0.34\",\"0.36\",\"0.38\",\"0.4\",\"0.42\",\"0.44\",\"0.46\",\"0.48\",\"0.5\",\"0.52\",\"0.54\",\"0.56\",\"0.58\",\"0.6\",\"0.62\",\"0.64\",\"0.66\",\"0.68\",\"0.7\",\"0.72\",\"0.74\",\"0.76\",\"0.78\",\"0.8\",\"0.82\",\"0.84\",\"0.86\",\"0.88\",\"0.9\",\"0.92\",\"0.94\",\"0.96\",\"0.98\",\"1.0\"],\"changes\":WebIO.getval({\"name\":\"changes\",\"scope\":\"11689196639228049528\",\"id\":\"12369733734533467090\",\"type\":\"observable\"}),\"index\":WebIO.getval({\"name\":\"index\",\"scope\":\"11689196639228049528\",\"id\":\"12677221810028248707\",\"type\":\"observable\"})};\n    var self = this;\n    function AppViewModel() {\n        for (var key in json_data) {\n            var el = json_data[key];\n            this[key] = Array.isArray(el) ? ko.observableArray(el) : ko.observable(el);\n        }\n        \n        [this[\"formatted_val\"]=ko.computed(    function(){\n        return this.formatted_vals()[parseInt(this.index())-(1)];\n    }\n,this)]\n        [this[\"changes\"].subscribe((function (val){!(this.valueFromJulia[\"changes\"]) ? (WebIO.setval({\"name\":\"changes\",\"scope\":\"11689196639228049528\",\"id\":\"12369733734533467090\",\"type\":\"observable\"},val)) : undefined; return this.valueFromJulia[\"changes\"]=false}),self),this[\"index\"].subscribe((function (val){!(this.valueFromJulia[\"index\"]) ? (WebIO.setval({\"name\":\"index\",\"scope\":\"11689196639228049528\",\"id\":\"12677221810028248707\",\"type\":\"observable\"},val)) : undefined; return this.valueFromJulia[\"index\"]=false}),self)]\n        \n    }\n    self.model = new AppViewModel();\n    self.valueFromJulia = {};\n    for (var key in json_data) {\n        self.valueFromJulia[key] = false;\n    }\n    ko.applyBindings(self.model, self.dom);\n}\n);\n    (WebIO.importBlock({\"data\":[{\"name\":\"knockout\",\"type\":\"js\",\"url\":\"/assetserver/0fc6d61518197b1bf9b23217e9be1d2e00f2bb14-knockout.js\"},{\"name\":\"knockout_punches\",\"type\":\"js\",\"url\":\"/assetserver/24c12264eef2b01f723a21985ba5661f5564d7cf-knockout_punches.js\"}],\"type\":\"async_block\"})).then((imports) => handler.apply(this, imports));\n}\n"
              ],
              "observables": {
               "changes": {
                "id": "12369733734533467090",
                "sync": false,
                "value": 0
               },
               "index": {
                "id": "12677221810028248707",
                "sync": true,
                "value": 5
               }
              },
              "systemjs_options": null
             },
             "nodeType": "Scope",
             "props": {},
             "type": "node"
            }
           ],
           "instanceArgs": {
            "namespace": "html",
            "tag": "div"
           },
           "nodeType": "DOM",
           "props": {
            "className": "field interact-widget"
           },
           "type": "node"
          },
          {
           "children": [
            {
             "children": [
              {
               "children": [
                {
                 "children": [
                  {
                   "children": [
                    "K1CH"
                   ],
                   "instanceArgs": {
                    "namespace": "html",
                    "tag": "label"
                   },
                   "nodeType": "DOM",
                   "props": {
                    "className": "interact ",
                    "style": {
                     "padding": "5px 10px 0px 10px"
                    }
                   },
                   "type": "node"
                  }
                 ],
                 "instanceArgs": {
                  "namespace": "html",
                  "tag": "div"
                 },
                 "nodeType": "DOM",
                 "props": {
                  "className": "interact-flex-row-left"
                 },
                 "type": "node"
                },
                {
                 "children": [
                  {
                   "children": [],
                   "instanceArgs": {
                    "namespace": "html",
                    "tag": "input"
                   },
                   "nodeType": "DOM",
                   "props": {
                    "attributes": {
                     "data-bind": "numericValue: index, valueUpdate: 'input', event: {change: function (){this.changes(this.changes()+1)}}",
                     "orient": "horizontal",
                     "type": "range"
                    },
                    "className": "slider slider is-fullwidth",
                    "default": 0,
                    "max": 101,
                    "min": 1,
                    "step": 1,
                    "style": {}
                   },
                   "type": "node"
                  }
                 ],
                 "instanceArgs": {
                  "namespace": "html",
                  "tag": "div"
                 },
                 "nodeType": "DOM",
                 "props": {
                  "className": "interact-flex-row-center"
                 },
                 "type": "node"
                },
                {
                 "children": [
                  {
                   "children": [],
                   "instanceArgs": {
                    "namespace": "html",
                    "tag": "p"
                   },
                   "nodeType": "DOM",
                   "props": {
                    "attributes": {
                     "data-bind": "text: formatted_val"
                    }
                   },
                   "type": "node"
                  }
                 ],
                 "instanceArgs": {
                  "namespace": "html",
                  "tag": "div"
                 },
                 "nodeType": "DOM",
                 "props": {
                  "className": "interact-flex-row-right"
                 },
                 "type": "node"
                }
               ],
               "instanceArgs": {
                "namespace": "html",
                "tag": "div"
               },
               "nodeType": "DOM",
               "props": {
                "className": "interact-flex-row interact-widget"
               },
               "type": "node"
              }
             ],
             "instanceArgs": {
              "handlers": {
               "changes": [
                "(function (val){return (val!=this.model[\"changes\"]()) ? (this.valueFromJulia[\"changes\"]=true, this.model[\"changes\"](val)) : undefined})"
               ],
               "index": [
                "(function (val){return (val!=this.model[\"index\"]()) ? (this.valueFromJulia[\"index\"]=true, this.model[\"index\"](val)) : undefined})"
               ]
              },
              "id": "12884572856729760348",
              "imports": {
               "data": [
                {
                 "name": "knockout",
                 "type": "js",
                 "url": "/assetserver/0fc6d61518197b1bf9b23217e9be1d2e00f2bb14-knockout.js"
                },
                {
                 "name": "knockout_punches",
                 "type": "js",
                 "url": "/assetserver/24c12264eef2b01f723a21985ba5661f5564d7cf-knockout_punches.js"
                },
                {
                 "name": null,
                 "type": "js",
                 "url": "/assetserver/85de428ae418ad26c1ce7e886d25374b3774afa9-all.js"
                },
                {
                 "name": null,
                 "type": "css",
                 "url": "/assetserver/2cd8ff31326883094fe5a8ff21182264663b62be-style.css"
                },
                {
                 "name": null,
                 "type": "css",
                 "url": "/assetserver/741bde2d4bf25f117d0ec4d43164cd1a050cf9de-bulma_confined.min.css"
                }
               ],
               "type": "async_block"
              },
              "mount_callbacks": [
               "function () {\n    var handler = (function (ko, koPunches) {\n    ko.punches.enableAll();\n    ko.bindingHandlers.numericValue = {\n        init: function(element, valueAccessor, allBindings, data, context) {\n            var stringified = ko.observable(ko.unwrap(valueAccessor()));\n            stringified.subscribe(function(value) {\n                var val = parseFloat(value);\n                if (!isNaN(val)) {\n                    valueAccessor()(val);\n                }\n            });\n            valueAccessor().subscribe(function(value) {\n                var str = JSON.stringify(value);\n                if ((str == \"0\") && ([\"-0\", \"-0.\"].indexOf(stringified()) >= 0))\n                     return;\n                 if ([\"null\", \"\"].indexOf(str) >= 0)\n                     return;\n                stringified(str);\n            });\n            ko.applyBindingsToNode(\n                element,\n                {\n                    value: stringified,\n                    valueUpdate: allBindings.get('valueUpdate'),\n                },\n                context,\n            );\n        }\n    };\n    var json_data = {\"formatted_vals\":[\"0.0\",\"0.05\",\"0.1\",\"0.15\",\"0.2\",\"0.25\",\"0.3\",\"0.35\",\"0.4\",\"0.45\",\"0.5\",\"0.55\",\"0.6\",\"0.65\",\"0.7\",\"0.75\",\"0.8\",\"0.85\",\"0.9\",\"0.95\",\"1.0\",\"1.05\",\"1.1\",\"1.15\",\"1.2\",\"1.25\",\"1.3\",\"1.35\",\"1.4\",\"1.45\",\"1.5\",\"1.55\",\"1.6\",\"1.65\",\"1.7\",\"1.75\",\"1.8\",\"1.85\",\"1.9\",\"1.95\",\"2.0\",\"2.05\",\"2.1\",\"2.15\",\"2.2\",\"2.25\",\"2.3\",\"2.35\",\"2.4\",\"2.45\",\"2.5\",\"2.55\",\"2.6\",\"2.65\",\"2.7\",\"2.75\",\"2.8\",\"2.85\",\"2.9\",\"2.95\",\"3.0\",\"3.05\",\"3.1\",\"3.15\",\"3.2\",\"3.25\",\"3.3\",\"3.35\",\"3.4\",\"3.45\",\"3.5\",\"3.55\",\"3.6\",\"3.65\",\"3.7\",\"3.75\",\"3.8\",\"3.85\",\"3.9\",\"3.95\",\"4.0\",\"4.05\",\"4.1\",\"4.15\",\"4.2\",\"4.25\",\"4.3\",\"4.35\",\"4.4\",\"4.45\",\"4.5\",\"4.55\",\"4.6\",\"4.65\",\"4.7\",\"4.75\",\"4.8\",\"4.85\",\"4.9\",\"4.95\",\"5.0\"],\"changes\":WebIO.getval({\"name\":\"changes\",\"scope\":\"12884572856729760348\",\"id\":\"3980636662701196274\",\"type\":\"observable\"}),\"index\":WebIO.getval({\"name\":\"index\",\"scope\":\"12884572856729760348\",\"id\":\"14662884455030579210\",\"type\":\"observable\"})};\n    var self = this;\n    function AppViewModel() {\n        for (var key in json_data) {\n            var el = json_data[key];\n            this[key] = Array.isArray(el) ? ko.observableArray(el) : ko.observable(el);\n        }\n        \n        [this[\"formatted_val\"]=ko.computed(    function(){\n        return this.formatted_vals()[parseInt(this.index())-(1)];\n    }\n,this)]\n        [this[\"changes\"].subscribe((function (val){!(this.valueFromJulia[\"changes\"]) ? (WebIO.setval({\"name\":\"changes\",\"scope\":\"12884572856729760348\",\"id\":\"3980636662701196274\",\"type\":\"observable\"},val)) : undefined; return this.valueFromJulia[\"changes\"]=false}),self),this[\"index\"].subscribe((function (val){!(this.valueFromJulia[\"index\"]) ? (WebIO.setval({\"name\":\"index\",\"scope\":\"12884572856729760348\",\"id\":\"14662884455030579210\",\"type\":\"observable\"},val)) : undefined; return this.valueFromJulia[\"index\"]=false}),self)]\n        \n    }\n    self.model = new AppViewModel();\n    self.valueFromJulia = {};\n    for (var key in json_data) {\n        self.valueFromJulia[key] = false;\n    }\n    ko.applyBindings(self.model, self.dom);\n}\n);\n    (WebIO.importBlock({\"data\":[{\"name\":\"knockout\",\"type\":\"js\",\"url\":\"/assetserver/0fc6d61518197b1bf9b23217e9be1d2e00f2bb14-knockout.js\"},{\"name\":\"knockout_punches\",\"type\":\"js\",\"url\":\"/assetserver/24c12264eef2b01f723a21985ba5661f5564d7cf-knockout_punches.js\"}],\"type\":\"async_block\"})).then((imports) => handler.apply(this, imports));\n}\n"
              ],
              "observables": {
               "changes": {
                "id": "3980636662701196274",
                "sync": false,
                "value": 0
               },
               "index": {
                "id": "14662884455030579210",
                "sync": true,
                "value": 51
               }
              },
              "systemjs_options": null
             },
             "nodeType": "Scope",
             "props": {},
             "type": "node"
            }
           ],
           "instanceArgs": {
            "namespace": "html",
            "tag": "div"
           },
           "nodeType": "DOM",
           "props": {
            "className": "field interact-widget"
           },
           "type": "node"
          }
         ],
         "instanceArgs": {
          "namespace": "html",
          "tag": "div"
         },
         "nodeType": "DOM",
         "props": {
          "style": {
           "display": "flex",
           "flex-direction": "row"
          }
         },
         "type": "node"
        },
        {
         "children": [
          {
           "children": [],
           "instanceArgs": {
            "id": "18247308678406380243",
            "name": "obs-node"
           },
           "nodeType": "ObservableNode",
           "props": {},
           "type": "node"
          }
         ],
         "instanceArgs": {
          "handlers": {},
          "id": "7100966624512704910",
          "imports": {
           "data": [],
           "type": "async_block"
          },
          "mount_callbacks": [],
          "observables": {
           "obs-node": {
            "id": "18247308678406380243",
            "sync": false,
            "value": {
             "children": [],
             "instanceArgs": {
              "namespace": "html",
              "tag": "div"
             },
             "nodeType": "DOM",
             "props": {},
             "type": "node"
            }
           }
          },
          "systemjs_options": null
         },
         "nodeType": "Scope",
         "props": {},
         "type": "node"
        },
        {
         "children": [
          {
           "children": [
            {
             "children": [],
             "instanceArgs": {
              "id": "17676162584931453014",
              "name": "obs-node"
             },
             "nodeType": "ObservableNode",
             "props": {},
             "type": "node"
            }
           ],
           "instanceArgs": {
            "handlers": {},
            "id": "2162810093683479728",
            "imports": {
             "data": [],
             "type": "async_block"
            },
            "mount_callbacks": [],
            "observables": {
             "obs-node": {
              "id": "17676162584931453014",
              "sync": false,
              "value": {
               "children": [],
               "instanceArgs": {
                "namespace": "html",
                "tag": "div"
               },
               "nodeType": "DOM",
               "props": {},
               "type": "node"
              }
             }
            },
            "systemjs_options": null
           },
           "nodeType": "Scope",
           "props": {},
           "type": "node"
          },
          {
           "children": [
            {
             "children": [
              {
               "children": [
                {
                 "children": [
                  {
                   "children": [
                    "2^n els/wnd"
                   ],
                   "instanceArgs": {
                    "namespace": "html",
                    "tag": "label"
                   },
                   "nodeType": "DOM",
                   "props": {
                    "className": "interact ",
                    "style": {
                     "padding": "5px 10px 0px 10px"
                    }
                   },
                   "type": "node"
                  }
                 ],
                 "instanceArgs": {
                  "namespace": "html",
                  "tag": "div"
                 },
                 "nodeType": "DOM",
                 "props": {
                  "className": "interact-flex-row-left"
                 },
                 "type": "node"
                },
                {
                 "children": [
                  {
                   "children": [],
                   "instanceArgs": {
                    "namespace": "html",
                    "tag": "input"
                   },
                   "nodeType": "DOM",
                   "props": {
                    "attributes": {
                     "data-bind": "numericValue: index, valueUpdate: 'input', event: {change: function (){this.changes(this.changes()+1)}}",
                     "orient": "horizontal",
                     "type": "range"
                    },
                    "className": "slider slider is-fullwidth",
                    "default": 7.5,
                    "max": 15,
                    "min": 1,
                    "step": 1,
                    "style": {}
                   },
                   "type": "node"
                  }
                 ],
                 "instanceArgs": {
                  "namespace": "html",
                  "tag": "div"
                 },
                 "nodeType": "DOM",
                 "props": {
                  "className": "interact-flex-row-center"
                 },
                 "type": "node"
                },
                {
                 "children": [
                  {
                   "children": [],
                   "instanceArgs": {
                    "namespace": "html",
                    "tag": "p"
                   },
                   "nodeType": "DOM",
                   "props": {
                    "attributes": {
                     "data-bind": "text: formatted_val"
                    }
                   },
                   "type": "node"
                  }
                 ],
                 "instanceArgs": {
                  "namespace": "html",
                  "tag": "div"
                 },
                 "nodeType": "DOM",
                 "props": {
                  "className": "interact-flex-row-right"
                 },
                 "type": "node"
                }
               ],
               "instanceArgs": {
                "namespace": "html",
                "tag": "div"
               },
               "nodeType": "DOM",
               "props": {
                "className": "interact-flex-row interact-widget"
               },
               "type": "node"
              }
             ],
             "instanceArgs": {
              "handlers": {
               "changes": [
                "(function (val){return (val!=this.model[\"changes\"]()) ? (this.valueFromJulia[\"changes\"]=true, this.model[\"changes\"](val)) : undefined})"
               ],
               "index": [
                "(function (val){return (val!=this.model[\"index\"]()) ? (this.valueFromJulia[\"index\"]=true, this.model[\"index\"](val)) : undefined})"
               ]
              },
              "id": "10468503492216660598",
              "imports": {
               "data": [
                {
                 "name": "knockout",
                 "type": "js",
                 "url": "/assetserver/0fc6d61518197b1bf9b23217e9be1d2e00f2bb14-knockout.js"
                },
                {
                 "name": "knockout_punches",
                 "type": "js",
                 "url": "/assetserver/24c12264eef2b01f723a21985ba5661f5564d7cf-knockout_punches.js"
                },
                {
                 "name": null,
                 "type": "js",
                 "url": "/assetserver/85de428ae418ad26c1ce7e886d25374b3774afa9-all.js"
                },
                {
                 "name": null,
                 "type": "css",
                 "url": "/assetserver/2cd8ff31326883094fe5a8ff21182264663b62be-style.css"
                },
                {
                 "name": null,
                 "type": "css",
                 "url": "/assetserver/741bde2d4bf25f117d0ec4d43164cd1a050cf9de-bulma_confined.min.css"
                }
               ],
               "type": "async_block"
              },
              "mount_callbacks": [
               "function () {\n    var handler = (function (ko, koPunches) {\n    ko.punches.enableAll();\n    ko.bindingHandlers.numericValue = {\n        init: function(element, valueAccessor, allBindings, data, context) {\n            var stringified = ko.observable(ko.unwrap(valueAccessor()));\n            stringified.subscribe(function(value) {\n                var val = parseFloat(value);\n                if (!isNaN(val)) {\n                    valueAccessor()(val);\n                }\n            });\n            valueAccessor().subscribe(function(value) {\n                var str = JSON.stringify(value);\n                if ((str == \"0\") && ([\"-0\", \"-0.\"].indexOf(stringified()) >= 0))\n                     return;\n                 if ([\"null\", \"\"].indexOf(str) >= 0)\n                     return;\n                stringified(str);\n            });\n            ko.applyBindingsToNode(\n                element,\n                {\n                    value: stringified,\n                    valueUpdate: allBindings.get('valueUpdate'),\n                },\n                context,\n            );\n        }\n    };\n    var json_data = {\"formatted_vals\":[\"1\",\"2\",\"3\",\"4\",\"5\",\"6\",\"7\",\"8\",\"9\",\"10\",\"11\",\"12\",\"13\",\"14\",\"15\"],\"changes\":WebIO.getval({\"name\":\"changes\",\"scope\":\"10468503492216660598\",\"id\":\"7097194882664695418\",\"type\":\"observable\"}),\"index\":WebIO.getval({\"name\":\"index\",\"scope\":\"10468503492216660598\",\"id\":\"17023710758350303429\",\"type\":\"observable\"})};\n    var self = this;\n    function AppViewModel() {\n        for (var key in json_data) {\n            var el = json_data[key];\n            this[key] = Array.isArray(el) ? ko.observableArray(el) : ko.observable(el);\n        }\n        \n        [this[\"formatted_val\"]=ko.computed(    function(){\n        return this.formatted_vals()[parseInt(this.index())-(1)];\n    }\n,this)]\n        [this[\"changes\"].subscribe((function (val){!(this.valueFromJulia[\"changes\"]) ? (WebIO.setval({\"name\":\"changes\",\"scope\":\"10468503492216660598\",\"id\":\"7097194882664695418\",\"type\":\"observable\"},val)) : undefined; return this.valueFromJulia[\"changes\"]=false}),self),this[\"index\"].subscribe((function (val){!(this.valueFromJulia[\"index\"]) ? (WebIO.setval({\"name\":\"index\",\"scope\":\"10468503492216660598\",\"id\":\"17023710758350303429\",\"type\":\"observable\"},val)) : undefined; return this.valueFromJulia[\"index\"]=false}),self)]\n        \n    }\n    self.model = new AppViewModel();\n    self.valueFromJulia = {};\n    for (var key in json_data) {\n        self.valueFromJulia[key] = false;\n    }\n    ko.applyBindings(self.model, self.dom);\n}\n);\n    (WebIO.importBlock({\"data\":[{\"name\":\"knockout\",\"type\":\"js\",\"url\":\"/assetserver/0fc6d61518197b1bf9b23217e9be1d2e00f2bb14-knockout.js\"},{\"name\":\"knockout_punches\",\"type\":\"js\",\"url\":\"/assetserver/24c12264eef2b01f723a21985ba5661f5564d7cf-knockout_punches.js\"}],\"type\":\"async_block\"})).then((imports) => handler.apply(this, imports));\n}\n"
              ],
              "observables": {
               "changes": {
                "id": "7097194882664695418",
                "sync": false,
                "value": 0
               },
               "index": {
                "id": "17023710758350303429",
                "sync": true,
                "value": 8
               }
              },
              "systemjs_options": null
             },
             "nodeType": "Scope",
             "props": {},
             "type": "node"
            }
           ],
           "instanceArgs": {
            "namespace": "html",
            "tag": "div"
           },
           "nodeType": "DOM",
           "props": {
            "className": "field interact-widget"
           },
           "type": "node"
          }
         ],
         "instanceArgs": {
          "namespace": "html",
          "tag": "div"
         },
         "nodeType": "DOM",
         "props": {
          "style": {
           "display": "flex",
           "flex-direction": "column"
          }
         },
         "type": "node"
        }
       ],
       "instanceArgs": {
        "namespace": "html",
        "tag": "div"
       },
       "nodeType": "DOM",
       "props": {},
       "type": "node"
      },
      "text/html": [
       "<div\n",
       "    class=\"webio-mountpoint\"\n",
       "    data-webio-mountpoint=\"9536471671458910057\"\n",
       ">\n",
       "    <script>\n",
       "    if (window.require && require.defined && require.defined(\"nbextensions/webio-jupyter-notebook\")) {\n",
       "        console.log(\"Jupyter WebIO extension detected, not mounting.\");\n",
       "    } else if (window.WebIO) {\n",
       "        WebIO.mount(\n",
       "            document.querySelector('[data-webio-mountpoint=\"9536471671458910057\"]'),\n",
       "            {\"props\":{},\"nodeType\":\"DOM\",\"type\":\"node\",\"instanceArgs\":{\"namespace\":\"html\",\"tag\":\"div\"},\"children\":[{\"props\":{\"style\":{\"display\":\"flex\",\"flex-direction\":\"row\"}},\"nodeType\":\"DOM\",\"type\":\"node\",\"instanceArgs\":{\"namespace\":\"html\",\"tag\":\"div\"},\"children\":[{\"props\":{\"className\":\"field interact-widget\"},\"nodeType\":\"DOM\",\"type\":\"node\",\"instanceArgs\":{\"namespace\":\"html\",\"tag\":\"div\"},\"children\":[{\"props\":{},\"nodeType\":\"Scope\",\"type\":\"node\",\"instanceArgs\":{\"imports\":{\"data\":[{\"name\":\"knockout\",\"type\":\"js\",\"url\":\"\\/assetserver\\/0fc6d61518197b1bf9b23217e9be1d2e00f2bb14-knockout.js\"},{\"name\":\"knockout_punches\",\"type\":\"js\",\"url\":\"\\/assetserver\\/24c12264eef2b01f723a21985ba5661f5564d7cf-knockout_punches.js\"},{\"name\":null,\"type\":\"js\",\"url\":\"\\/assetserver\\/85de428ae418ad26c1ce7e886d25374b3774afa9-all.js\"},{\"name\":null,\"type\":\"css\",\"url\":\"\\/assetserver\\/2cd8ff31326883094fe5a8ff21182264663b62be-style.css\"},{\"name\":null,\"type\":\"css\",\"url\":\"\\/assetserver\\/741bde2d4bf25f117d0ec4d43164cd1a050cf9de-bulma_confined.min.css\"}],\"type\":\"async_block\"},\"id\":\"12507749880756161116\",\"handlers\":{\"changes\":[\"(function (val){return (val!=this.model[\\\"changes\\\"]()) ? (this.valueFromJulia[\\\"changes\\\"]=true, this.model[\\\"changes\\\"](val)) : undefined})\"],\"index\":[\"(function (val){return (val!=this.model[\\\"index\\\"]()) ? (this.valueFromJulia[\\\"index\\\"]=true, this.model[\\\"index\\\"](val)) : undefined})\"]},\"systemjs_options\":null,\"mount_callbacks\":[\"function () {\\n    var handler = (function (ko, koPunches) {\\n    ko.punches.enableAll();\\n    ko.bindingHandlers.numericValue = {\\n        init: function(element, valueAccessor, allBindings, data, context) {\\n            var stringified = ko.observable(ko.unwrap(valueAccessor()));\\n            stringified.subscribe(function(value) {\\n                var val = parseFloat(value);\\n                if (!isNaN(val)) {\\n                    valueAccessor()(val);\\n                }\\n            });\\n            valueAccessor().subscribe(function(value) {\\n                var str = JSON.stringify(value);\\n                if ((str == \\\"0\\\") && ([\\\"-0\\\", \\\"-0.\\\"].indexOf(stringified()) >= 0))\\n                     return;\\n                 if ([\\\"null\\\", \\\"\\\"].indexOf(str) >= 0)\\n                     return;\\n                stringified(str);\\n            });\\n            ko.applyBindingsToNode(\\n                element,\\n                {\\n                    value: stringified,\\n                    valueUpdate: allBindings.get('valueUpdate'),\\n                },\\n                context,\\n            );\\n        }\\n    };\\n    var json_data = {\\\"formatted_vals\\\":[\\\"0.0\\\",\\\"0.05\\\",\\\"0.1\\\",\\\"0.15\\\",\\\"0.2\\\",\\\"0.25\\\",\\\"0.3\\\",\\\"0.35\\\",\\\"0.4\\\",\\\"0.45\\\",\\\"0.5\\\",\\\"0.55\\\",\\\"0.6\\\",\\\"0.65\\\",\\\"0.7\\\",\\\"0.75\\\",\\\"0.8\\\",\\\"0.85\\\",\\\"0.9\\\",\\\"0.95\\\",\\\"1.0\\\",\\\"1.05\\\",\\\"1.1\\\",\\\"1.15\\\",\\\"1.2\\\",\\\"1.25\\\",\\\"1.3\\\",\\\"1.35\\\",\\\"1.4\\\",\\\"1.45\\\",\\\"1.5\\\",\\\"1.55\\\",\\\"1.6\\\",\\\"1.65\\\",\\\"1.7\\\",\\\"1.75\\\",\\\"1.8\\\",\\\"1.85\\\",\\\"1.9\\\",\\\"1.95\\\",\\\"2.0\\\",\\\"2.05\\\",\\\"2.1\\\",\\\"2.15\\\",\\\"2.2\\\",\\\"2.25\\\",\\\"2.3\\\",\\\"2.35\\\",\\\"2.4\\\",\\\"2.45\\\",\\\"2.5\\\",\\\"2.55\\\",\\\"2.6\\\",\\\"2.65\\\",\\\"2.7\\\",\\\"2.75\\\",\\\"2.8\\\",\\\"2.85\\\",\\\"2.9\\\",\\\"2.95\\\",\\\"3.0\\\",\\\"3.05\\\",\\\"3.1\\\",\\\"3.15\\\",\\\"3.2\\\",\\\"3.25\\\",\\\"3.3\\\",\\\"3.35\\\",\\\"3.4\\\",\\\"3.45\\\",\\\"3.5\\\",\\\"3.55\\\",\\\"3.6\\\",\\\"3.65\\\",\\\"3.7\\\",\\\"3.75\\\",\\\"3.8\\\",\\\"3.85\\\",\\\"3.9\\\",\\\"3.95\\\",\\\"4.0\\\",\\\"4.05\\\",\\\"4.1\\\",\\\"4.15\\\",\\\"4.2\\\",\\\"4.25\\\",\\\"4.3\\\",\\\"4.35\\\",\\\"4.4\\\",\\\"4.45\\\",\\\"4.5\\\",\\\"4.55\\\",\\\"4.6\\\",\\\"4.65\\\",\\\"4.7\\\",\\\"4.75\\\",\\\"4.8\\\",\\\"4.85\\\",\\\"4.9\\\",\\\"4.95\\\",\\\"5.0\\\",\\\"5.05\\\",\\\"5.1\\\",\\\"5.15\\\",\\\"5.2\\\",\\\"5.25\\\",\\\"5.3\\\",\\\"5.35\\\",\\\"5.4\\\",\\\"5.45\\\",\\\"5.5\\\",\\\"5.55\\\",\\\"5.6\\\",\\\"5.65\\\",\\\"5.7\\\",\\\"5.75\\\",\\\"5.8\\\",\\\"5.85\\\",\\\"5.9\\\",\\\"5.95\\\",\\\"6.0\\\",\\\"6.05\\\",\\\"6.1\\\",\\\"6.15\\\",\\\"6.2\\\",\\\"6.25\\\",\\\"6.3\\\",\\\"6.35\\\",\\\"6.4\\\",\\\"6.45\\\",\\\"6.5\\\",\\\"6.55\\\",\\\"6.6\\\",\\\"6.65\\\",\\\"6.7\\\",\\\"6.75\\\",\\\"6.8\\\",\\\"6.85\\\",\\\"6.9\\\",\\\"6.95\\\",\\\"7.0\\\",\\\"7.05\\\",\\\"7.1\\\",\\\"7.15\\\",\\\"7.2\\\",\\\"7.25\\\",\\\"7.3\\\",\\\"7.35\\\",\\\"7.4\\\",\\\"7.45\\\",\\\"7.5\\\",\\\"7.55\\\",\\\"7.6\\\",\\\"7.65\\\",\\\"7.7\\\",\\\"7.75\\\",\\\"7.8\\\",\\\"7.85\\\",\\\"7.9\\\",\\\"7.95\\\",\\\"8.0\\\",\\\"8.05\\\",\\\"8.1\\\",\\\"8.15\\\",\\\"8.2\\\",\\\"8.25\\\",\\\"8.3\\\",\\\"8.35\\\",\\\"8.4\\\",\\\"8.45\\\",\\\"8.5\\\",\\\"8.55\\\",\\\"8.6\\\",\\\"8.65\\\",\\\"8.7\\\",\\\"8.75\\\",\\\"8.8\\\",\\\"8.85\\\",\\\"8.9\\\",\\\"8.95\\\",\\\"9.0\\\",\\\"9.05\\\",\\\"9.1\\\",\\\"9.15\\\",\\\"9.2\\\",\\\"9.25\\\",\\\"9.3\\\",\\\"9.35\\\",\\\"9.4\\\",\\\"9.45\\\",\\\"9.5\\\",\\\"9.55\\\",\\\"9.6\\\",\\\"9.65\\\",\\\"9.7\\\",\\\"9.75\\\",\\\"9.8\\\",\\\"9.85\\\",\\\"9.9\\\",\\\"9.95\\\",\\\"10.0\\\"],\\\"changes\\\":WebIO.getval({\\\"name\\\":\\\"changes\\\",\\\"scope\\\":\\\"12507749880756161116\\\",\\\"id\\\":\\\"15520604083165506776\\\",\\\"type\\\":\\\"observable\\\"}),\\\"index\\\":WebIO.getval({\\\"name\\\":\\\"index\\\",\\\"scope\\\":\\\"12507749880756161116\\\",\\\"id\\\":\\\"11873370316729394130\\\",\\\"type\\\":\\\"observable\\\"})};\\n    var self = this;\\n    function AppViewModel() {\\n        for (var key in json_data) {\\n            var el = json_data[key];\\n            this[key] = Array.isArray(el) ? ko.observableArray(el) : ko.observable(el);\\n        }\\n        \\n        [this[\\\"formatted_val\\\"]=ko.computed(    function(){\\n        return this.formatted_vals()[parseInt(this.index())-(1)];\\n    }\\n,this)]\\n        [this[\\\"changes\\\"].subscribe((function (val){!(this.valueFromJulia[\\\"changes\\\"]) ? (WebIO.setval({\\\"name\\\":\\\"changes\\\",\\\"scope\\\":\\\"12507749880756161116\\\",\\\"id\\\":\\\"15520604083165506776\\\",\\\"type\\\":\\\"observable\\\"},val)) : undefined; return this.valueFromJulia[\\\"changes\\\"]=false}),self),this[\\\"index\\\"].subscribe((function (val){!(this.valueFromJulia[\\\"index\\\"]) ? (WebIO.setval({\\\"name\\\":\\\"index\\\",\\\"scope\\\":\\\"12507749880756161116\\\",\\\"id\\\":\\\"11873370316729394130\\\",\\\"type\\\":\\\"observable\\\"},val)) : undefined; return this.valueFromJulia[\\\"index\\\"]=false}),self)]\\n        \\n    }\\n    self.model = new AppViewModel();\\n    self.valueFromJulia = {};\\n    for (var key in json_data) {\\n        self.valueFromJulia[key] = false;\\n    }\\n    ko.applyBindings(self.model, self.dom);\\n}\\n);\\n    (WebIO.importBlock({\\\"data\\\":[{\\\"name\\\":\\\"knockout\\\",\\\"type\\\":\\\"js\\\",\\\"url\\\":\\\"\\/assetserver\\/0fc6d61518197b1bf9b23217e9be1d2e00f2bb14-knockout.js\\\"},{\\\"name\\\":\\\"knockout_punches\\\",\\\"type\\\":\\\"js\\\",\\\"url\\\":\\\"\\/assetserver\\/24c12264eef2b01f723a21985ba5661f5564d7cf-knockout_punches.js\\\"}],\\\"type\\\":\\\"async_block\\\"})).then((imports) => handler.apply(this, imports));\\n}\\n\"],\"observables\":{\"changes\":{\"sync\":false,\"id\":\"15520604083165506776\",\"value\":0},\"index\":{\"sync\":true,\"id\":\"11873370316729394130\",\"value\":41}}},\"children\":[{\"props\":{\"className\":\"interact-flex-row interact-widget\"},\"nodeType\":\"DOM\",\"type\":\"node\",\"instanceArgs\":{\"namespace\":\"html\",\"tag\":\"div\"},\"children\":[{\"props\":{\"className\":\"interact-flex-row-left\"},\"nodeType\":\"DOM\",\"type\":\"node\",\"instanceArgs\":{\"namespace\":\"html\",\"tag\":\"div\"},\"children\":[{\"props\":{\"className\":\"interact \",\"style\":{\"padding\":\"5px 10px 0px 10px\"}},\"nodeType\":\"DOM\",\"type\":\"node\",\"instanceArgs\":{\"namespace\":\"html\",\"tag\":\"label\"},\"children\":[\"stop\"]}]},{\"props\":{\"className\":\"interact-flex-row-center\"},\"nodeType\":\"DOM\",\"type\":\"node\",\"instanceArgs\":{\"namespace\":\"html\",\"tag\":\"div\"},\"children\":[{\"props\":{\"max\":201,\"default\":14,\"attributes\":{\"type\":\"range\",\"data-bind\":\"numericValue: index, valueUpdate: 'input', event: {change: function (){this.changes(this.changes()+1)}}\",\"orient\":\"horizontal\"},\"min\":1,\"step\":1,\"className\":\"slider slider is-fullwidth\",\"style\":{}},\"nodeType\":\"DOM\",\"type\":\"node\",\"instanceArgs\":{\"namespace\":\"html\",\"tag\":\"input\"},\"children\":[]}]},{\"props\":{\"className\":\"interact-flex-row-right\"},\"nodeType\":\"DOM\",\"type\":\"node\",\"instanceArgs\":{\"namespace\":\"html\",\"tag\":\"div\"},\"children\":[{\"props\":{\"attributes\":{\"data-bind\":\"text: formatted_val\"}},\"nodeType\":\"DOM\",\"type\":\"node\",\"instanceArgs\":{\"namespace\":\"html\",\"tag\":\"p\"},\"children\":[]}]}]}]}]},{\"props\":{\"className\":\"field interact-widget\"},\"nodeType\":\"DOM\",\"type\":\"node\",\"instanceArgs\":{\"namespace\":\"html\",\"tag\":\"div\"},\"children\":[{\"props\":{},\"nodeType\":\"Scope\",\"type\":\"node\",\"instanceArgs\":{\"imports\":{\"data\":[{\"name\":\"knockout\",\"type\":\"js\",\"url\":\"\\/assetserver\\/0fc6d61518197b1bf9b23217e9be1d2e00f2bb14-knockout.js\"},{\"name\":\"knockout_punches\",\"type\":\"js\",\"url\":\"\\/assetserver\\/24c12264eef2b01f723a21985ba5661f5564d7cf-knockout_punches.js\"},{\"name\":null,\"type\":\"js\",\"url\":\"\\/assetserver\\/85de428ae418ad26c1ce7e886d25374b3774afa9-all.js\"},{\"name\":null,\"type\":\"css\",\"url\":\"\\/assetserver\\/2cd8ff31326883094fe5a8ff21182264663b62be-style.css\"},{\"name\":null,\"type\":\"css\",\"url\":\"\\/assetserver\\/741bde2d4bf25f117d0ec4d43164cd1a050cf9de-bulma_confined.min.css\"}],\"type\":\"async_block\"},\"id\":\"17475990009657558785\",\"handlers\":{\"changes\":[\"(function (val){return (val!=this.model[\\\"changes\\\"]()) ? (this.valueFromJulia[\\\"changes\\\"]=true, this.model[\\\"changes\\\"](val)) : undefined})\"],\"index\":[\"(function (val){return (val!=this.model[\\\"index\\\"]()) ? (this.valueFromJulia[\\\"index\\\"]=true, this.model[\\\"index\\\"](val)) : undefined})\"]},\"systemjs_options\":null,\"mount_callbacks\":[\"function () {\\n    var handler = (function (ko, koPunches) {\\n    ko.punches.enableAll();\\n    ko.bindingHandlers.numericValue = {\\n        init: function(element, valueAccessor, allBindings, data, context) {\\n            var stringified = ko.observable(ko.unwrap(valueAccessor()));\\n            stringified.subscribe(function(value) {\\n                var val = parseFloat(value);\\n                if (!isNaN(val)) {\\n                    valueAccessor()(val);\\n                }\\n            });\\n            valueAccessor().subscribe(function(value) {\\n                var str = JSON.stringify(value);\\n                if ((str == \\\"0\\\") && ([\\\"-0\\\", \\\"-0.\\\"].indexOf(stringified()) >= 0))\\n                     return;\\n                 if ([\\\"null\\\", \\\"\\\"].indexOf(str) >= 0)\\n                     return;\\n                stringified(str);\\n            });\\n            ko.applyBindingsToNode(\\n                element,\\n                {\\n                    value: stringified,\\n                    valueUpdate: allBindings.get('valueUpdate'),\\n                },\\n                context,\\n            );\\n        }\\n    };\\n    var json_data = {\\\"formatted_vals\\\":[\\\"0.0\\\",\\\"0.2\\\",\\\"0.4\\\",\\\"0.6\\\",\\\"0.8\\\",\\\"1.0\\\",\\\"1.2\\\",\\\"1.4\\\",\\\"1.6\\\",\\\"1.8\\\",\\\"2.0\\\",\\\"2.2\\\",\\\"2.4\\\",\\\"2.6\\\",\\\"2.8\\\",\\\"3.0\\\",\\\"3.2\\\",\\\"3.4\\\",\\\"3.6\\\",\\\"3.8\\\",\\\"4.0\\\",\\\"4.2\\\",\\\"4.4\\\",\\\"4.6\\\",\\\"4.8\\\",\\\"5.0\\\",\\\"5.2\\\",\\\"5.4\\\",\\\"5.6\\\",\\\"5.8\\\",\\\"6.0\\\",\\\"6.2\\\",\\\"6.4\\\",\\\"6.6\\\",\\\"6.8\\\",\\\"7.0\\\",\\\"7.2\\\",\\\"7.4\\\",\\\"7.6\\\",\\\"7.8\\\",\\\"8.0\\\",\\\"8.2\\\",\\\"8.4\\\",\\\"8.6\\\",\\\"8.8\\\",\\\"9.0\\\",\\\"9.2\\\",\\\"9.4\\\",\\\"9.6\\\",\\\"9.8\\\",\\\"10.0\\\"],\\\"changes\\\":WebIO.getval({\\\"name\\\":\\\"changes\\\",\\\"scope\\\":\\\"17475990009657558785\\\",\\\"id\\\":\\\"11642263928924620372\\\",\\\"type\\\":\\\"observable\\\"}),\\\"index\\\":WebIO.getval({\\\"name\\\":\\\"index\\\",\\\"scope\\\":\\\"17475990009657558785\\\",\\\"id\\\":\\\"8524812456698984899\\\",\\\"type\\\":\\\"observable\\\"})};\\n    var self = this;\\n    function AppViewModel() {\\n        for (var key in json_data) {\\n            var el = json_data[key];\\n            this[key] = Array.isArray(el) ? ko.observableArray(el) : ko.observable(el);\\n        }\\n        \\n        [this[\\\"formatted_val\\\"]=ko.computed(    function(){\\n        return this.formatted_vals()[parseInt(this.index())-(1)];\\n    }\\n,this)]\\n        [this[\\\"changes\\\"].subscribe((function (val){!(this.valueFromJulia[\\\"changes\\\"]) ? (WebIO.setval({\\\"name\\\":\\\"changes\\\",\\\"scope\\\":\\\"17475990009657558785\\\",\\\"id\\\":\\\"11642263928924620372\\\",\\\"type\\\":\\\"observable\\\"},val)) : undefined; return this.valueFromJulia[\\\"changes\\\"]=false}),self),this[\\\"index\\\"].subscribe((function (val){!(this.valueFromJulia[\\\"index\\\"]) ? (WebIO.setval({\\\"name\\\":\\\"index\\\",\\\"scope\\\":\\\"17475990009657558785\\\",\\\"id\\\":\\\"8524812456698984899\\\",\\\"type\\\":\\\"observable\\\"},val)) : undefined; return this.valueFromJulia[\\\"index\\\"]=false}),self)]\\n        \\n    }\\n    self.model = new AppViewModel();\\n    self.valueFromJulia = {};\\n    for (var key in json_data) {\\n        self.valueFromJulia[key] = false;\\n    }\\n    ko.applyBindings(self.model, self.dom);\\n}\\n);\\n    (WebIO.importBlock({\\\"data\\\":[{\\\"name\\\":\\\"knockout\\\",\\\"type\\\":\\\"js\\\",\\\"url\\\":\\\"\\/assetserver\\/0fc6d61518197b1bf9b23217e9be1d2e00f2bb14-knockout.js\\\"},{\\\"name\\\":\\\"knockout_punches\\\",\\\"type\\\":\\\"js\\\",\\\"url\\\":\\\"\\/assetserver\\/24c12264eef2b01f723a21985ba5661f5564d7cf-knockout_punches.js\\\"}],\\\"type\\\":\\\"async_block\\\"})).then((imports) => handler.apply(this, imports));\\n}\\n\"],\"observables\":{\"changes\":{\"sync\":false,\"id\":\"11642263928924620372\",\"value\":0},\"index\":{\"sync\":true,\"id\":\"8524812456698984899\",\"value\":6}}},\"children\":[{\"props\":{\"className\":\"interact-flex-row interact-widget\"},\"nodeType\":\"DOM\",\"type\":\"node\",\"instanceArgs\":{\"namespace\":\"html\",\"tag\":\"div\"},\"children\":[{\"props\":{\"className\":\"interact-flex-row-left\"},\"nodeType\":\"DOM\",\"type\":\"node\",\"instanceArgs\":{\"namespace\":\"html\",\"tag\":\"div\"},\"children\":[{\"props\":{\"className\":\"interact \",\"style\":{\"padding\":\"5px 10px 0px 10px\"}},\"nodeType\":\"DOM\",\"type\":\"node\",\"instanceArgs\":{\"namespace\":\"html\",\"tag\":\"label\"},\"children\":[\"tgt\"]}]},{\"props\":{\"className\":\"interact-flex-row-center\"},\"nodeType\":\"DOM\",\"type\":\"node\",\"instanceArgs\":{\"namespace\":\"html\",\"tag\":\"div\"},\"children\":[{\"props\":{\"max\":51,\"default\":14,\"attributes\":{\"type\":\"range\",\"data-bind\":\"numericValue: index, valueUpdate: 'input', event: {change: function (){this.changes(this.changes()+1)}}\",\"orient\":\"horizontal\"},\"min\":1,\"step\":1,\"className\":\"slider slider is-fullwidth\",\"style\":{}},\"nodeType\":\"DOM\",\"type\":\"node\",\"instanceArgs\":{\"namespace\":\"html\",\"tag\":\"input\"},\"children\":[]}]},{\"props\":{\"className\":\"interact-flex-row-right\"},\"nodeType\":\"DOM\",\"type\":\"node\",\"instanceArgs\":{\"namespace\":\"html\",\"tag\":\"div\"},\"children\":[{\"props\":{\"attributes\":{\"data-bind\":\"text: formatted_val\"}},\"nodeType\":\"DOM\",\"type\":\"node\",\"instanceArgs\":{\"namespace\":\"html\",\"tag\":\"p\"},\"children\":[]}]}]}]}]},{\"props\":{\"className\":\"field interact-widget\"},\"nodeType\":\"DOM\",\"type\":\"node\",\"instanceArgs\":{\"namespace\":\"html\",\"tag\":\"div\"},\"children\":[{\"props\":{},\"nodeType\":\"Scope\",\"type\":\"node\",\"instanceArgs\":{\"imports\":{\"data\":[{\"name\":\"knockout\",\"type\":\"js\",\"url\":\"\\/assetserver\\/0fc6d61518197b1bf9b23217e9be1d2e00f2bb14-knockout.js\"},{\"name\":\"knockout_punches\",\"type\":\"js\",\"url\":\"\\/assetserver\\/24c12264eef2b01f723a21985ba5661f5564d7cf-knockout_punches.js\"},{\"name\":null,\"type\":\"js\",\"url\":\"\\/assetserver\\/85de428ae418ad26c1ce7e886d25374b3774afa9-all.js\"},{\"name\":null,\"type\":\"css\",\"url\":\"\\/assetserver\\/2cd8ff31326883094fe5a8ff21182264663b62be-style.css\"},{\"name\":null,\"type\":\"css\",\"url\":\"\\/assetserver\\/741bde2d4bf25f117d0ec4d43164cd1a050cf9de-bulma_confined.min.css\"}],\"type\":\"async_block\"},\"id\":\"1536520112194890557\",\"handlers\":{\"changes\":[\"(function (val){return (val!=this.model[\\\"changes\\\"]()) ? (this.valueFromJulia[\\\"changes\\\"]=true, this.model[\\\"changes\\\"](val)) : undefined})\"],\"index\":[\"(function (val){return (val!=this.model[\\\"index\\\"]()) ? (this.valueFromJulia[\\\"index\\\"]=true, this.model[\\\"index\\\"](val)) : undefined})\"]},\"systemjs_options\":null,\"mount_callbacks\":[\"function () {\\n    var handler = (function (ko, koPunches) {\\n    ko.punches.enableAll();\\n    ko.bindingHandlers.numericValue = {\\n        init: function(element, valueAccessor, allBindings, data, context) {\\n            var stringified = ko.observable(ko.unwrap(valueAccessor()));\\n            stringified.subscribe(function(value) {\\n                var val = parseFloat(value);\\n                if (!isNaN(val)) {\\n                    valueAccessor()(val);\\n                }\\n            });\\n            valueAccessor().subscribe(function(value) {\\n                var str = JSON.stringify(value);\\n                if ((str == \\\"0\\\") && ([\\\"-0\\\", \\\"-0.\\\"].indexOf(stringified()) >= 0))\\n                     return;\\n                 if ([\\\"null\\\", \\\"\\\"].indexOf(str) >= 0)\\n                     return;\\n                stringified(str);\\n            });\\n            ko.applyBindingsToNode(\\n                element,\\n                {\\n                    value: stringified,\\n                    valueUpdate: allBindings.get('valueUpdate'),\\n                },\\n                context,\\n            );\\n        }\\n    };\\n    var json_data = {\\\"formatted_vals\\\":[\\\"0\\\",\\\"5\\\",\\\"10\\\",\\\"15\\\",\\\"20\\\",\\\"25\\\",\\\"30\\\",\\\"35\\\",\\\"40\\\",\\\"45\\\",\\\"50\\\",\\\"55\\\",\\\"60\\\",\\\"65\\\",\\\"70\\\",\\\"75\\\",\\\"80\\\",\\\"85\\\",\\\"90\\\",\\\"95\\\",\\\"100\\\",\\\"105\\\",\\\"110\\\",\\\"115\\\",\\\"120\\\",\\\"125\\\",\\\"130\\\",\\\"135\\\",\\\"140\\\",\\\"145\\\",\\\"150\\\",\\\"155\\\",\\\"160\\\",\\\"165\\\",\\\"170\\\",\\\"175\\\",\\\"180\\\",\\\"185\\\",\\\"190\\\",\\\"195\\\",\\\"200\\\",\\\"205\\\",\\\"210\\\",\\\"215\\\",\\\"220\\\",\\\"225\\\",\\\"230\\\",\\\"235\\\",\\\"240\\\",\\\"245\\\",\\\"250\\\",\\\"255\\\",\\\"260\\\",\\\"265\\\",\\\"270\\\",\\\"275\\\",\\\"280\\\",\\\"285\\\",\\\"290\\\",\\\"295\\\",\\\"300\\\",\\\"305\\\",\\\"310\\\",\\\"315\\\",\\\"320\\\",\\\"325\\\",\\\"330\\\",\\\"335\\\",\\\"340\\\",\\\"345\\\",\\\"350\\\",\\\"355\\\",\\\"360\\\",\\\"365\\\",\\\"370\\\",\\\"375\\\",\\\"380\\\",\\\"385\\\",\\\"390\\\",\\\"395\\\",\\\"400\\\",\\\"405\\\",\\\"410\\\",\\\"415\\\",\\\"420\\\",\\\"425\\\",\\\"430\\\",\\\"435\\\",\\\"440\\\",\\\"445\\\",\\\"450\\\",\\\"455\\\",\\\"460\\\",\\\"465\\\",\\\"470\\\",\\\"475\\\",\\\"480\\\",\\\"485\\\",\\\"490\\\",\\\"495\\\",\\\"500\\\",\\\"505\\\",\\\"510\\\",\\\"515\\\",\\\"520\\\",\\\"525\\\",\\\"530\\\",\\\"535\\\",\\\"540\\\",\\\"545\\\",\\\"550\\\",\\\"555\\\",\\\"560\\\",\\\"565\\\",\\\"570\\\",\\\"575\\\",\\\"580\\\",\\\"585\\\",\\\"590\\\",\\\"595\\\",\\\"600\\\"],\\\"changes\\\":WebIO.getval({\\\"name\\\":\\\"changes\\\",\\\"scope\\\":\\\"1536520112194890557\\\",\\\"id\\\":\\\"12228187063536839977\\\",\\\"type\\\":\\\"observable\\\"}),\\\"index\\\":WebIO.getval({\\\"name\\\":\\\"index\\\",\\\"scope\\\":\\\"1536520112194890557\\\",\\\"id\\\":\\\"14821841233384630536\\\",\\\"type\\\":\\\"observable\\\"})};\\n    var self = this;\\n    function AppViewModel() {\\n        for (var key in json_data) {\\n            var el = json_data[key];\\n            this[key] = Array.isArray(el) ? ko.observableArray(el) : ko.observable(el);\\n        }\\n        \\n        [this[\\\"formatted_val\\\"]=ko.computed(    function(){\\n        return this.formatted_vals()[parseInt(this.index())-(1)];\\n    }\\n,this)]\\n        [this[\\\"changes\\\"].subscribe((function (val){!(this.valueFromJulia[\\\"changes\\\"]) ? (WebIO.setval({\\\"name\\\":\\\"changes\\\",\\\"scope\\\":\\\"1536520112194890557\\\",\\\"id\\\":\\\"12228187063536839977\\\",\\\"type\\\":\\\"observable\\\"},val)) : undefined; return this.valueFromJulia[\\\"changes\\\"]=false}),self),this[\\\"index\\\"].subscribe((function (val){!(this.valueFromJulia[\\\"index\\\"]) ? (WebIO.setval({\\\"name\\\":\\\"index\\\",\\\"scope\\\":\\\"1536520112194890557\\\",\\\"id\\\":\\\"14821841233384630536\\\",\\\"type\\\":\\\"observable\\\"},val)) : undefined; return this.valueFromJulia[\\\"index\\\"]=false}),self)]\\n        \\n    }\\n    self.model = new AppViewModel();\\n    self.valueFromJulia = {};\\n    for (var key in json_data) {\\n        self.valueFromJulia[key] = false;\\n    }\\n    ko.applyBindings(self.model, self.dom);\\n}\\n);\\n    (WebIO.importBlock({\\\"data\\\":[{\\\"name\\\":\\\"knockout\\\",\\\"type\\\":\\\"js\\\",\\\"url\\\":\\\"\\/assetserver\\/0fc6d61518197b1bf9b23217e9be1d2e00f2bb14-knockout.js\\\"},{\\\"name\\\":\\\"knockout_punches\\\",\\\"type\\\":\\\"js\\\",\\\"url\\\":\\\"\\/assetserver\\/24c12264eef2b01f723a21985ba5661f5564d7cf-knockout_punches.js\\\"}],\\\"type\\\":\\\"async_block\\\"})).then((imports) => handler.apply(this, imports));\\n}\\n\"],\"observables\":{\"changes\":{\"sync\":false,\"id\":\"12228187063536839977\",\"value\":0},\"index\":{\"sync\":true,\"id\":\"14821841233384630536\",\"value\":7}}},\"children\":[{\"props\":{\"className\":\"interact-flex-row interact-widget\"},\"nodeType\":\"DOM\",\"type\":\"node\",\"instanceArgs\":{\"namespace\":\"html\",\"tag\":\"div\"},\"children\":[{\"props\":{\"className\":\"interact-flex-row-left\"},\"nodeType\":\"DOM\",\"type\":\"node\",\"instanceArgs\":{\"namespace\":\"html\",\"tag\":\"div\"},\"children\":[{\"props\":{\"className\":\"interact \",\"style\":{\"padding\":\"5px 10px 0px 10px\"}},\"nodeType\":\"DOM\",\"type\":\"node\",\"instanceArgs\":{\"namespace\":\"html\",\"tag\":\"label\"},\"children\":[\"cool\"]}]},{\"props\":{\"className\":\"interact-flex-row-center\"},\"nodeType\":\"DOM\",\"type\":\"node\",\"instanceArgs\":{\"namespace\":\"html\",\"tag\":\"div\"},\"children\":[{\"props\":{\"max\":121,\"default\":30,\"attributes\":{\"type\":\"range\",\"data-bind\":\"numericValue: index, valueUpdate: 'input', event: {change: function (){this.changes(this.changes()+1)}}\",\"orient\":\"horizontal\"},\"min\":1,\"step\":1,\"className\":\"slider slider is-fullwidth\",\"style\":{}},\"nodeType\":\"DOM\",\"type\":\"node\",\"instanceArgs\":{\"namespace\":\"html\",\"tag\":\"input\"},\"children\":[]}]},{\"props\":{\"className\":\"interact-flex-row-right\"},\"nodeType\":\"DOM\",\"type\":\"node\",\"instanceArgs\":{\"namespace\":\"html\",\"tag\":\"div\"},\"children\":[{\"props\":{\"attributes\":{\"data-bind\":\"text: formatted_val\"}},\"nodeType\":\"DOM\",\"type\":\"node\",\"instanceArgs\":{\"namespace\":\"html\",\"tag\":\"p\"},\"children\":[]}]}]}]}]}]},{\"props\":{\"style\":{\"display\":\"flex\",\"flex-direction\":\"row\"}},\"nodeType\":\"DOM\",\"type\":\"node\",\"instanceArgs\":{\"namespace\":\"html\",\"tag\":\"div\"},\"children\":[{\"props\":{\"className\":\"field interact-widget\"},\"nodeType\":\"DOM\",\"type\":\"node\",\"instanceArgs\":{\"namespace\":\"html\",\"tag\":\"div\"},\"children\":[{\"props\":{},\"nodeType\":\"Scope\",\"type\":\"node\",\"instanceArgs\":{\"imports\":{\"data\":[{\"name\":\"knockout\",\"type\":\"js\",\"url\":\"\\/assetserver\\/0fc6d61518197b1bf9b23217e9be1d2e00f2bb14-knockout.js\"},{\"name\":\"knockout_punches\",\"type\":\"js\",\"url\":\"\\/assetserver\\/24c12264eef2b01f723a21985ba5661f5564d7cf-knockout_punches.js\"},{\"name\":null,\"type\":\"js\",\"url\":\"\\/assetserver\\/85de428ae418ad26c1ce7e886d25374b3774afa9-all.js\"},{\"name\":null,\"type\":\"css\",\"url\":\"\\/assetserver\\/2cd8ff31326883094fe5a8ff21182264663b62be-style.css\"},{\"name\":null,\"type\":\"css\",\"url\":\"\\/assetserver\\/741bde2d4bf25f117d0ec4d43164cd1a050cf9de-bulma_confined.min.css\"}],\"type\":\"async_block\"},\"id\":\"6917832449004871402\",\"handlers\":{\"changes\":[\"(function (val){return (val!=this.model[\\\"changes\\\"]()) ? (this.valueFromJulia[\\\"changes\\\"]=true, this.model[\\\"changes\\\"](val)) : undefined})\"],\"index\":[\"(function (val){return (val!=this.model[\\\"index\\\"]()) ? (this.valueFromJulia[\\\"index\\\"]=true, this.model[\\\"index\\\"](val)) : undefined})\"]},\"systemjs_options\":null,\"mount_callbacks\":[\"function () {\\n    var handler = (function (ko, koPunches) {\\n    ko.punches.enableAll();\\n    ko.bindingHandlers.numericValue = {\\n        init: function(element, valueAccessor, allBindings, data, context) {\\n            var stringified = ko.observable(ko.unwrap(valueAccessor()));\\n            stringified.subscribe(function(value) {\\n                var val = parseFloat(value);\\n                if (!isNaN(val)) {\\n                    valueAccessor()(val);\\n                }\\n            });\\n            valueAccessor().subscribe(function(value) {\\n                var str = JSON.stringify(value);\\n                if ((str == \\\"0\\\") && ([\\\"-0\\\", \\\"-0.\\\"].indexOf(stringified()) >= 0))\\n                     return;\\n                 if ([\\\"null\\\", \\\"\\\"].indexOf(str) >= 0)\\n                     return;\\n                stringified(str);\\n            });\\n            ko.applyBindingsToNode(\\n                element,\\n                {\\n                    value: stringified,\\n                    valueUpdate: allBindings.get('valueUpdate'),\\n                },\\n                context,\\n            );\\n        }\\n    };\\n    var json_data = {\\\"formatted_vals\\\":[\\\"0\\\",\\\"10\\\",\\\"20\\\",\\\"30\\\",\\\"40\\\",\\\"50\\\",\\\"60\\\",\\\"70\\\",\\\"80\\\",\\\"90\\\",\\\"100\\\",\\\"110\\\",\\\"120\\\",\\\"130\\\",\\\"140\\\",\\\"150\\\",\\\"160\\\",\\\"170\\\",\\\"180\\\",\\\"190\\\",\\\"200\\\",\\\"210\\\",\\\"220\\\",\\\"230\\\",\\\"240\\\",\\\"250\\\",\\\"260\\\",\\\"270\\\",\\\"280\\\",\\\"290\\\",\\\"300\\\",\\\"310\\\",\\\"320\\\",\\\"330\\\",\\\"340\\\",\\\"350\\\",\\\"360\\\",\\\"370\\\",\\\"380\\\",\\\"390\\\",\\\"400\\\"],\\\"changes\\\":WebIO.getval({\\\"name\\\":\\\"changes\\\",\\\"scope\\\":\\\"6917832449004871402\\\",\\\"id\\\":\\\"16466815664876684519\\\",\\\"type\\\":\\\"observable\\\"}),\\\"index\\\":WebIO.getval({\\\"name\\\":\\\"index\\\",\\\"scope\\\":\\\"6917832449004871402\\\",\\\"id\\\":\\\"7928140464196230835\\\",\\\"type\\\":\\\"observable\\\"})};\\n    var self = this;\\n    function AppViewModel() {\\n        for (var key in json_data) {\\n            var el = json_data[key];\\n            this[key] = Array.isArray(el) ? ko.observableArray(el) : ko.observable(el);\\n        }\\n        \\n        [this[\\\"formatted_val\\\"]=ko.computed(    function(){\\n        return this.formatted_vals()[parseInt(this.index())-(1)];\\n    }\\n,this)]\\n        [this[\\\"changes\\\"].subscribe((function (val){!(this.valueFromJulia[\\\"changes\\\"]) ? (WebIO.setval({\\\"name\\\":\\\"changes\\\",\\\"scope\\\":\\\"6917832449004871402\\\",\\\"id\\\":\\\"16466815664876684519\\\",\\\"type\\\":\\\"observable\\\"},val)) : undefined; return this.valueFromJulia[\\\"changes\\\"]=false}),self),this[\\\"index\\\"].subscribe((function (val){!(this.valueFromJulia[\\\"index\\\"]) ? (WebIO.setval({\\\"name\\\":\\\"index\\\",\\\"scope\\\":\\\"6917832449004871402\\\",\\\"id\\\":\\\"7928140464196230835\\\",\\\"type\\\":\\\"observable\\\"},val)) : undefined; return this.valueFromJulia[\\\"index\\\"]=false}),self)]\\n        \\n    }\\n    self.model = new AppViewModel();\\n    self.valueFromJulia = {};\\n    for (var key in json_data) {\\n        self.valueFromJulia[key] = false;\\n    }\\n    ko.applyBindings(self.model, self.dom);\\n}\\n);\\n    (WebIO.importBlock({\\\"data\\\":[{\\\"name\\\":\\\"knockout\\\",\\\"type\\\":\\\"js\\\",\\\"url\\\":\\\"\\/assetserver\\/0fc6d61518197b1bf9b23217e9be1d2e00f2bb14-knockout.js\\\"},{\\\"name\\\":\\\"knockout_punches\\\",\\\"type\\\":\\\"js\\\",\\\"url\\\":\\\"\\/assetserver\\/24c12264eef2b01f723a21985ba5661f5564d7cf-knockout_punches.js\\\"}],\\\"type\\\":\\\"async_block\\\"})).then((imports) => handler.apply(this, imports));\\n}\\n\"],\"observables\":{\"changes\":{\"sync\":false,\"id\":\"16466815664876684519\",\"value\":0},\"index\":{\"sync\":true,\"id\":\"7928140464196230835\",\"value\":2}}},\"children\":[{\"props\":{\"className\":\"interact-flex-row interact-widget\"},\"nodeType\":\"DOM\",\"type\":\"node\",\"instanceArgs\":{\"namespace\":\"html\",\"tag\":\"div\"},\"children\":[{\"props\":{\"className\":\"interact-flex-row-left\"},\"nodeType\":\"DOM\",\"type\":\"node\",\"instanceArgs\":{\"namespace\":\"html\",\"tag\":\"div\"},\"children\":[{\"props\":{\"className\":\"interact \",\"style\":{\"padding\":\"5px 10px 0px 10px\"}},\"nodeType\":\"DOM\",\"type\":\"node\",\"instanceArgs\":{\"namespace\":\"html\",\"tag\":\"label\"},\"children\":[\"K1N\"]}]},{\"props\":{\"className\":\"interact-flex-row-center\"},\"nodeType\":\"DOM\",\"type\":\"node\",\"instanceArgs\":{\"namespace\":\"html\",\"tag\":\"div\"},\"children\":[{\"props\":{\"max\":41,\"default\":50,\"attributes\":{\"type\":\"range\",\"data-bind\":\"numericValue: index, valueUpdate: 'input', event: {change: function (){this.changes(this.changes()+1)}}\",\"orient\":\"horizontal\"},\"min\":1,\"step\":1,\"className\":\"slider slider is-fullwidth\",\"style\":{}},\"nodeType\":\"DOM\",\"type\":\"node\",\"instanceArgs\":{\"namespace\":\"html\",\"tag\":\"input\"},\"children\":[]}]},{\"props\":{\"className\":\"interact-flex-row-right\"},\"nodeType\":\"DOM\",\"type\":\"node\",\"instanceArgs\":{\"namespace\":\"html\",\"tag\":\"div\"},\"children\":[{\"props\":{\"attributes\":{\"data-bind\":\"text: formatted_val\"}},\"nodeType\":\"DOM\",\"type\":\"node\",\"instanceArgs\":{\"namespace\":\"html\",\"tag\":\"p\"},\"children\":[]}]}]}]}]},{\"props\":{\"className\":\"field interact-widget\"},\"nodeType\":\"DOM\",\"type\":\"node\",\"instanceArgs\":{\"namespace\":\"html\",\"tag\":\"div\"},\"children\":[{\"props\":{},\"nodeType\":\"Scope\",\"type\":\"node\",\"instanceArgs\":{\"imports\":{\"data\":[{\"name\":\"knockout\",\"type\":\"js\",\"url\":\"\\/assetserver\\/0fc6d61518197b1bf9b23217e9be1d2e00f2bb14-knockout.js\"},{\"name\":\"knockout_punches\",\"type\":\"js\",\"url\":\"\\/assetserver\\/24c12264eef2b01f723a21985ba5661f5564d7cf-knockout_punches.js\"},{\"name\":null,\"type\":\"js\",\"url\":\"\\/assetserver\\/85de428ae418ad26c1ce7e886d25374b3774afa9-all.js\"},{\"name\":null,\"type\":\"css\",\"url\":\"\\/assetserver\\/2cd8ff31326883094fe5a8ff21182264663b62be-style.css\"},{\"name\":null,\"type\":\"css\",\"url\":\"\\/assetserver\\/741bde2d4bf25f117d0ec4d43164cd1a050cf9de-bulma_confined.min.css\"}],\"type\":\"async_block\"},\"id\":\"18283628025577398891\",\"handlers\":{\"changes\":[\"(function (val){return (val!=this.model[\\\"changes\\\"]()) ? (this.valueFromJulia[\\\"changes\\\"]=true, this.model[\\\"changes\\\"](val)) : undefined})\"],\"index\":[\"(function (val){return (val!=this.model[\\\"index\\\"]()) ? (this.valueFromJulia[\\\"index\\\"]=true, this.model[\\\"index\\\"](val)) : undefined})\"]},\"systemjs_options\":null,\"mount_callbacks\":[\"function () {\\n    var handler = (function (ko, koPunches) {\\n    ko.punches.enableAll();\\n    ko.bindingHandlers.numericValue = {\\n        init: function(element, valueAccessor, allBindings, data, context) {\\n            var stringified = ko.observable(ko.unwrap(valueAccessor()));\\n            stringified.subscribe(function(value) {\\n                var val = parseFloat(value);\\n                if (!isNaN(val)) {\\n                    valueAccessor()(val);\\n                }\\n            });\\n            valueAccessor().subscribe(function(value) {\\n                var str = JSON.stringify(value);\\n                if ((str == \\\"0\\\") && ([\\\"-0\\\", \\\"-0.\\\"].indexOf(stringified()) >= 0))\\n                     return;\\n                 if ([\\\"null\\\", \\\"\\\"].indexOf(str) >= 0)\\n                     return;\\n                stringified(str);\\n            });\\n            ko.applyBindingsToNode(\\n                element,\\n                {\\n                    value: stringified,\\n                    valueUpdate: allBindings.get('valueUpdate'),\\n                },\\n                context,\\n            );\\n        }\\n    };\\n    var json_data = {\\\"formatted_vals\\\":[\\\"0.0\\\",\\\"0.02\\\",\\\"0.04\\\",\\\"0.06\\\",\\\"0.08\\\",\\\"0.1\\\",\\\"0.12\\\",\\\"0.14\\\",\\\"0.16\\\",\\\"0.18\\\",\\\"0.2\\\",\\\"0.22\\\",\\\"0.24\\\",\\\"0.26\\\",\\\"0.28\\\",\\\"0.3\\\",\\\"0.32\\\",\\\"0.34\\\",\\\"0.36\\\",\\\"0.38\\\",\\\"0.4\\\",\\\"0.42\\\",\\\"0.44\\\",\\\"0.46\\\",\\\"0.48\\\",\\\"0.5\\\",\\\"0.52\\\",\\\"0.54\\\",\\\"0.56\\\",\\\"0.58\\\",\\\"0.6\\\",\\\"0.62\\\",\\\"0.64\\\",\\\"0.66\\\",\\\"0.68\\\",\\\"0.7\\\",\\\"0.72\\\",\\\"0.74\\\",\\\"0.76\\\",\\\"0.78\\\",\\\"0.8\\\",\\\"0.82\\\",\\\"0.84\\\",\\\"0.86\\\",\\\"0.88\\\",\\\"0.9\\\",\\\"0.92\\\",\\\"0.94\\\",\\\"0.96\\\",\\\"0.98\\\",\\\"1.0\\\"],\\\"changes\\\":WebIO.getval({\\\"name\\\":\\\"changes\\\",\\\"scope\\\":\\\"18283628025577398891\\\",\\\"id\\\":\\\"5210215974687676919\\\",\\\"type\\\":\\\"observable\\\"}),\\\"index\\\":WebIO.getval({\\\"name\\\":\\\"index\\\",\\\"scope\\\":\\\"18283628025577398891\\\",\\\"id\\\":\\\"410683308009890644\\\",\\\"type\\\":\\\"observable\\\"})};\\n    var self = this;\\n    function AppViewModel() {\\n        for (var key in json_data) {\\n            var el = json_data[key];\\n            this[key] = Array.isArray(el) ? ko.observableArray(el) : ko.observable(el);\\n        }\\n        \\n        [this[\\\"formatted_val\\\"]=ko.computed(    function(){\\n        return this.formatted_vals()[parseInt(this.index())-(1)];\\n    }\\n,this)]\\n        [this[\\\"changes\\\"].subscribe((function (val){!(this.valueFromJulia[\\\"changes\\\"]) ? (WebIO.setval({\\\"name\\\":\\\"changes\\\",\\\"scope\\\":\\\"18283628025577398891\\\",\\\"id\\\":\\\"5210215974687676919\\\",\\\"type\\\":\\\"observable\\\"},val)) : undefined; return this.valueFromJulia[\\\"changes\\\"]=false}),self),this[\\\"index\\\"].subscribe((function (val){!(this.valueFromJulia[\\\"index\\\"]) ? (WebIO.setval({\\\"name\\\":\\\"index\\\",\\\"scope\\\":\\\"18283628025577398891\\\",\\\"id\\\":\\\"410683308009890644\\\",\\\"type\\\":\\\"observable\\\"},val)) : undefined; return this.valueFromJulia[\\\"index\\\"]=false}),self)]\\n        \\n    }\\n    self.model = new AppViewModel();\\n    self.valueFromJulia = {};\\n    for (var key in json_data) {\\n        self.valueFromJulia[key] = false;\\n    }\\n    ko.applyBindings(self.model, self.dom);\\n}\\n);\\n    (WebIO.importBlock({\\\"data\\\":[{\\\"name\\\":\\\"knockout\\\",\\\"type\\\":\\\"js\\\",\\\"url\\\":\\\"\\/assetserver\\/0fc6d61518197b1bf9b23217e9be1d2e00f2bb14-knockout.js\\\"},{\\\"name\\\":\\\"knockout_punches\\\",\\\"type\\\":\\\"js\\\",\\\"url\\\":\\\"\\/assetserver\\/24c12264eef2b01f723a21985ba5661f5564d7cf-knockout_punches.js\\\"}],\\\"type\\\":\\\"async_block\\\"})).then((imports) => handler.apply(this, imports));\\n}\\n\"],\"observables\":{\"changes\":{\"sync\":false,\"id\":\"5210215974687676919\",\"value\":0},\"index\":{\"sync\":true,\"id\":\"410683308009890644\",\"value\":35}}},\"children\":[{\"props\":{\"className\":\"interact-flex-row interact-widget\"},\"nodeType\":\"DOM\",\"type\":\"node\",\"instanceArgs\":{\"namespace\":\"html\",\"tag\":\"div\"},\"children\":[{\"props\":{\"className\":\"interact-flex-row-left\"},\"nodeType\":\"DOM\",\"type\":\"node\",\"instanceArgs\":{\"namespace\":\"html\",\"tag\":\"div\"},\"children\":[{\"props\":{\"className\":\"interact \",\"style\":{\"padding\":\"5px 10px 0px 10px\"}},\"nodeType\":\"DOM\",\"type\":\"node\",\"instanceArgs\":{\"namespace\":\"html\",\"tag\":\"label\"},\"children\":[\"K1F\"]}]},{\"props\":{\"className\":\"interact-flex-row-center\"},\"nodeType\":\"DOM\",\"type\":\"node\",\"instanceArgs\":{\"namespace\":\"html\",\"tag\":\"div\"},\"children\":[{\"props\":{\"max\":51,\"default\":0.6,\"attributes\":{\"type\":\"range\",\"data-bind\":\"numericValue: index, valueUpdate: 'input', event: {change: function (){this.changes(this.changes()+1)}}\",\"orient\":\"horizontal\"},\"min\":1,\"step\":1,\"className\":\"slider slider is-fullwidth\",\"style\":{}},\"nodeType\":\"DOM\",\"type\":\"node\",\"instanceArgs\":{\"namespace\":\"html\",\"tag\":\"input\"},\"children\":[]}]},{\"props\":{\"className\":\"interact-flex-row-right\"},\"nodeType\":\"DOM\",\"type\":\"node\",\"instanceArgs\":{\"namespace\":\"html\",\"tag\":\"div\"},\"children\":[{\"props\":{\"attributes\":{\"data-bind\":\"text: formatted_val\"}},\"nodeType\":\"DOM\",\"type\":\"node\",\"instanceArgs\":{\"namespace\":\"html\",\"tag\":\"p\"},\"children\":[]}]}]}]}]},{\"props\":{\"className\":\"field interact-widget\"},\"nodeType\":\"DOM\",\"type\":\"node\",\"instanceArgs\":{\"namespace\":\"html\",\"tag\":\"div\"},\"children\":[{\"props\":{},\"nodeType\":\"Scope\",\"type\":\"node\",\"instanceArgs\":{\"imports\":{\"data\":[{\"name\":\"knockout\",\"type\":\"js\",\"url\":\"\\/assetserver\\/0fc6d61518197b1bf9b23217e9be1d2e00f2bb14-knockout.js\"},{\"name\":\"knockout_punches\",\"type\":\"js\",\"url\":\"\\/assetserver\\/24c12264eef2b01f723a21985ba5661f5564d7cf-knockout_punches.js\"},{\"name\":null,\"type\":\"js\",\"url\":\"\\/assetserver\\/85de428ae418ad26c1ce7e886d25374b3774afa9-all.js\"},{\"name\":null,\"type\":\"css\",\"url\":\"\\/assetserver\\/2cd8ff31326883094fe5a8ff21182264663b62be-style.css\"},{\"name\":null,\"type\":\"css\",\"url\":\"\\/assetserver\\/741bde2d4bf25f117d0ec4d43164cd1a050cf9de-bulma_confined.min.css\"}],\"type\":\"async_block\"},\"id\":\"11689196639228049528\",\"handlers\":{\"changes\":[\"(function (val){return (val!=this.model[\\\"changes\\\"]()) ? (this.valueFromJulia[\\\"changes\\\"]=true, this.model[\\\"changes\\\"](val)) : undefined})\"],\"index\":[\"(function (val){return (val!=this.model[\\\"index\\\"]()) ? (this.valueFromJulia[\\\"index\\\"]=true, this.model[\\\"index\\\"](val)) : undefined})\"]},\"systemjs_options\":null,\"mount_callbacks\":[\"function () {\\n    var handler = (function (ko, koPunches) {\\n    ko.punches.enableAll();\\n    ko.bindingHandlers.numericValue = {\\n        init: function(element, valueAccessor, allBindings, data, context) {\\n            var stringified = ko.observable(ko.unwrap(valueAccessor()));\\n            stringified.subscribe(function(value) {\\n                var val = parseFloat(value);\\n                if (!isNaN(val)) {\\n                    valueAccessor()(val);\\n                }\\n            });\\n            valueAccessor().subscribe(function(value) {\\n                var str = JSON.stringify(value);\\n                if ((str == \\\"0\\\") && ([\\\"-0\\\", \\\"-0.\\\"].indexOf(stringified()) >= 0))\\n                     return;\\n                 if ([\\\"null\\\", \\\"\\\"].indexOf(str) >= 0)\\n                     return;\\n                stringified(str);\\n            });\\n            ko.applyBindingsToNode(\\n                element,\\n                {\\n                    value: stringified,\\n                    valueUpdate: allBindings.get('valueUpdate'),\\n                },\\n                context,\\n            );\\n        }\\n    };\\n    var json_data = {\\\"formatted_vals\\\":[\\\"0.0\\\",\\\"0.02\\\",\\\"0.04\\\",\\\"0.06\\\",\\\"0.08\\\",\\\"0.1\\\",\\\"0.12\\\",\\\"0.14\\\",\\\"0.16\\\",\\\"0.18\\\",\\\"0.2\\\",\\\"0.22\\\",\\\"0.24\\\",\\\"0.26\\\",\\\"0.28\\\",\\\"0.3\\\",\\\"0.32\\\",\\\"0.34\\\",\\\"0.36\\\",\\\"0.38\\\",\\\"0.4\\\",\\\"0.42\\\",\\\"0.44\\\",\\\"0.46\\\",\\\"0.48\\\",\\\"0.5\\\",\\\"0.52\\\",\\\"0.54\\\",\\\"0.56\\\",\\\"0.58\\\",\\\"0.6\\\",\\\"0.62\\\",\\\"0.64\\\",\\\"0.66\\\",\\\"0.68\\\",\\\"0.7\\\",\\\"0.72\\\",\\\"0.74\\\",\\\"0.76\\\",\\\"0.78\\\",\\\"0.8\\\",\\\"0.82\\\",\\\"0.84\\\",\\\"0.86\\\",\\\"0.88\\\",\\\"0.9\\\",\\\"0.92\\\",\\\"0.94\\\",\\\"0.96\\\",\\\"0.98\\\",\\\"1.0\\\"],\\\"changes\\\":WebIO.getval({\\\"name\\\":\\\"changes\\\",\\\"scope\\\":\\\"11689196639228049528\\\",\\\"id\\\":\\\"12369733734533467090\\\",\\\"type\\\":\\\"observable\\\"}),\\\"index\\\":WebIO.getval({\\\"name\\\":\\\"index\\\",\\\"scope\\\":\\\"11689196639228049528\\\",\\\"id\\\":\\\"12677221810028248707\\\",\\\"type\\\":\\\"observable\\\"})};\\n    var self = this;\\n    function AppViewModel() {\\n        for (var key in json_data) {\\n            var el = json_data[key];\\n            this[key] = Array.isArray(el) ? ko.observableArray(el) : ko.observable(el);\\n        }\\n        \\n        [this[\\\"formatted_val\\\"]=ko.computed(    function(){\\n        return this.formatted_vals()[parseInt(this.index())-(1)];\\n    }\\n,this)]\\n        [this[\\\"changes\\\"].subscribe((function (val){!(this.valueFromJulia[\\\"changes\\\"]) ? (WebIO.setval({\\\"name\\\":\\\"changes\\\",\\\"scope\\\":\\\"11689196639228049528\\\",\\\"id\\\":\\\"12369733734533467090\\\",\\\"type\\\":\\\"observable\\\"},val)) : undefined; return this.valueFromJulia[\\\"changes\\\"]=false}),self),this[\\\"index\\\"].subscribe((function (val){!(this.valueFromJulia[\\\"index\\\"]) ? (WebIO.setval({\\\"name\\\":\\\"index\\\",\\\"scope\\\":\\\"11689196639228049528\\\",\\\"id\\\":\\\"12677221810028248707\\\",\\\"type\\\":\\\"observable\\\"},val)) : undefined; return this.valueFromJulia[\\\"index\\\"]=false}),self)]\\n        \\n    }\\n    self.model = new AppViewModel();\\n    self.valueFromJulia = {};\\n    for (var key in json_data) {\\n        self.valueFromJulia[key] = false;\\n    }\\n    ko.applyBindings(self.model, self.dom);\\n}\\n);\\n    (WebIO.importBlock({\\\"data\\\":[{\\\"name\\\":\\\"knockout\\\",\\\"type\\\":\\\"js\\\",\\\"url\\\":\\\"\\/assetserver\\/0fc6d61518197b1bf9b23217e9be1d2e00f2bb14-knockout.js\\\"},{\\\"name\\\":\\\"knockout_punches\\\",\\\"type\\\":\\\"js\\\",\\\"url\\\":\\\"\\/assetserver\\/24c12264eef2b01f723a21985ba5661f5564d7cf-knockout_punches.js\\\"}],\\\"type\\\":\\\"async_block\\\"})).then((imports) => handler.apply(this, imports));\\n}\\n\"],\"observables\":{\"changes\":{\"sync\":false,\"id\":\"12369733734533467090\",\"value\":0},\"index\":{\"sync\":true,\"id\":\"12677221810028248707\",\"value\":5}}},\"children\":[{\"props\":{\"className\":\"interact-flex-row interact-widget\"},\"nodeType\":\"DOM\",\"type\":\"node\",\"instanceArgs\":{\"namespace\":\"html\",\"tag\":\"div\"},\"children\":[{\"props\":{\"className\":\"interact-flex-row-left\"},\"nodeType\":\"DOM\",\"type\":\"node\",\"instanceArgs\":{\"namespace\":\"html\",\"tag\":\"div\"},\"children\":[{\"props\":{\"className\":\"interact \",\"style\":{\"padding\":\"5px 10px 0px 10px\"}},\"nodeType\":\"DOM\",\"type\":\"node\",\"instanceArgs\":{\"namespace\":\"html\",\"tag\":\"label\"},\"children\":[\"K1S\"]}]},{\"props\":{\"className\":\"interact-flex-row-center\"},\"nodeType\":\"DOM\",\"type\":\"node\",\"instanceArgs\":{\"namespace\":\"html\",\"tag\":\"div\"},\"children\":[{\"props\":{\"max\":51,\"default\":0.0645,\"attributes\":{\"type\":\"range\",\"data-bind\":\"numericValue: index, valueUpdate: 'input', event: {change: function (){this.changes(this.changes()+1)}}\",\"orient\":\"horizontal\"},\"min\":1,\"step\":1,\"className\":\"slider slider is-fullwidth\",\"style\":{}},\"nodeType\":\"DOM\",\"type\":\"node\",\"instanceArgs\":{\"namespace\":\"html\",\"tag\":\"input\"},\"children\":[]}]},{\"props\":{\"className\":\"interact-flex-row-right\"},\"nodeType\":\"DOM\",\"type\":\"node\",\"instanceArgs\":{\"namespace\":\"html\",\"tag\":\"div\"},\"children\":[{\"props\":{\"attributes\":{\"data-bind\":\"text: formatted_val\"}},\"nodeType\":\"DOM\",\"type\":\"node\",\"instanceArgs\":{\"namespace\":\"html\",\"tag\":\"p\"},\"children\":[]}]}]}]}]},{\"props\":{\"className\":\"field interact-widget\"},\"nodeType\":\"DOM\",\"type\":\"node\",\"instanceArgs\":{\"namespace\":\"html\",\"tag\":\"div\"},\"children\":[{\"props\":{},\"nodeType\":\"Scope\",\"type\":\"node\",\"instanceArgs\":{\"imports\":{\"data\":[{\"name\":\"knockout\",\"type\":\"js\",\"url\":\"\\/assetserver\\/0fc6d61518197b1bf9b23217e9be1d2e00f2bb14-knockout.js\"},{\"name\":\"knockout_punches\",\"type\":\"js\",\"url\":\"\\/assetserver\\/24c12264eef2b01f723a21985ba5661f5564d7cf-knockout_punches.js\"},{\"name\":null,\"type\":\"js\",\"url\":\"\\/assetserver\\/85de428ae418ad26c1ce7e886d25374b3774afa9-all.js\"},{\"name\":null,\"type\":\"css\",\"url\":\"\\/assetserver\\/2cd8ff31326883094fe5a8ff21182264663b62be-style.css\"},{\"name\":null,\"type\":\"css\",\"url\":\"\\/assetserver\\/741bde2d4bf25f117d0ec4d43164cd1a050cf9de-bulma_confined.min.css\"}],\"type\":\"async_block\"},\"id\":\"12884572856729760348\",\"handlers\":{\"changes\":[\"(function (val){return (val!=this.model[\\\"changes\\\"]()) ? (this.valueFromJulia[\\\"changes\\\"]=true, this.model[\\\"changes\\\"](val)) : undefined})\"],\"index\":[\"(function (val){return (val!=this.model[\\\"index\\\"]()) ? (this.valueFromJulia[\\\"index\\\"]=true, this.model[\\\"index\\\"](val)) : undefined})\"]},\"systemjs_options\":null,\"mount_callbacks\":[\"function () {\\n    var handler = (function (ko, koPunches) {\\n    ko.punches.enableAll();\\n    ko.bindingHandlers.numericValue = {\\n        init: function(element, valueAccessor, allBindings, data, context) {\\n            var stringified = ko.observable(ko.unwrap(valueAccessor()));\\n            stringified.subscribe(function(value) {\\n                var val = parseFloat(value);\\n                if (!isNaN(val)) {\\n                    valueAccessor()(val);\\n                }\\n            });\\n            valueAccessor().subscribe(function(value) {\\n                var str = JSON.stringify(value);\\n                if ((str == \\\"0\\\") && ([\\\"-0\\\", \\\"-0.\\\"].indexOf(stringified()) >= 0))\\n                     return;\\n                 if ([\\\"null\\\", \\\"\\\"].indexOf(str) >= 0)\\n                     return;\\n                stringified(str);\\n            });\\n            ko.applyBindingsToNode(\\n                element,\\n                {\\n                    value: stringified,\\n                    valueUpdate: allBindings.get('valueUpdate'),\\n                },\\n                context,\\n            );\\n        }\\n    };\\n    var json_data = {\\\"formatted_vals\\\":[\\\"0.0\\\",\\\"0.05\\\",\\\"0.1\\\",\\\"0.15\\\",\\\"0.2\\\",\\\"0.25\\\",\\\"0.3\\\",\\\"0.35\\\",\\\"0.4\\\",\\\"0.45\\\",\\\"0.5\\\",\\\"0.55\\\",\\\"0.6\\\",\\\"0.65\\\",\\\"0.7\\\",\\\"0.75\\\",\\\"0.8\\\",\\\"0.85\\\",\\\"0.9\\\",\\\"0.95\\\",\\\"1.0\\\",\\\"1.05\\\",\\\"1.1\\\",\\\"1.15\\\",\\\"1.2\\\",\\\"1.25\\\",\\\"1.3\\\",\\\"1.35\\\",\\\"1.4\\\",\\\"1.45\\\",\\\"1.5\\\",\\\"1.55\\\",\\\"1.6\\\",\\\"1.65\\\",\\\"1.7\\\",\\\"1.75\\\",\\\"1.8\\\",\\\"1.85\\\",\\\"1.9\\\",\\\"1.95\\\",\\\"2.0\\\",\\\"2.05\\\",\\\"2.1\\\",\\\"2.15\\\",\\\"2.2\\\",\\\"2.25\\\",\\\"2.3\\\",\\\"2.35\\\",\\\"2.4\\\",\\\"2.45\\\",\\\"2.5\\\",\\\"2.55\\\",\\\"2.6\\\",\\\"2.65\\\",\\\"2.7\\\",\\\"2.75\\\",\\\"2.8\\\",\\\"2.85\\\",\\\"2.9\\\",\\\"2.95\\\",\\\"3.0\\\",\\\"3.05\\\",\\\"3.1\\\",\\\"3.15\\\",\\\"3.2\\\",\\\"3.25\\\",\\\"3.3\\\",\\\"3.35\\\",\\\"3.4\\\",\\\"3.45\\\",\\\"3.5\\\",\\\"3.55\\\",\\\"3.6\\\",\\\"3.65\\\",\\\"3.7\\\",\\\"3.75\\\",\\\"3.8\\\",\\\"3.85\\\",\\\"3.9\\\",\\\"3.95\\\",\\\"4.0\\\",\\\"4.05\\\",\\\"4.1\\\",\\\"4.15\\\",\\\"4.2\\\",\\\"4.25\\\",\\\"4.3\\\",\\\"4.35\\\",\\\"4.4\\\",\\\"4.45\\\",\\\"4.5\\\",\\\"4.55\\\",\\\"4.6\\\",\\\"4.65\\\",\\\"4.7\\\",\\\"4.75\\\",\\\"4.8\\\",\\\"4.85\\\",\\\"4.9\\\",\\\"4.95\\\",\\\"5.0\\\"],\\\"changes\\\":WebIO.getval({\\\"name\\\":\\\"changes\\\",\\\"scope\\\":\\\"12884572856729760348\\\",\\\"id\\\":\\\"3980636662701196274\\\",\\\"type\\\":\\\"observable\\\"}),\\\"index\\\":WebIO.getval({\\\"name\\\":\\\"index\\\",\\\"scope\\\":\\\"12884572856729760348\\\",\\\"id\\\":\\\"14662884455030579210\\\",\\\"type\\\":\\\"observable\\\"})};\\n    var self = this;\\n    function AppViewModel() {\\n        for (var key in json_data) {\\n            var el = json_data[key];\\n            this[key] = Array.isArray(el) ? ko.observableArray(el) : ko.observable(el);\\n        }\\n        \\n        [this[\\\"formatted_val\\\"]=ko.computed(    function(){\\n        return this.formatted_vals()[parseInt(this.index())-(1)];\\n    }\\n,this)]\\n        [this[\\\"changes\\\"].subscribe((function (val){!(this.valueFromJulia[\\\"changes\\\"]) ? (WebIO.setval({\\\"name\\\":\\\"changes\\\",\\\"scope\\\":\\\"12884572856729760348\\\",\\\"id\\\":\\\"3980636662701196274\\\",\\\"type\\\":\\\"observable\\\"},val)) : undefined; return this.valueFromJulia[\\\"changes\\\"]=false}),self),this[\\\"index\\\"].subscribe((function (val){!(this.valueFromJulia[\\\"index\\\"]) ? (WebIO.setval({\\\"name\\\":\\\"index\\\",\\\"scope\\\":\\\"12884572856729760348\\\",\\\"id\\\":\\\"14662884455030579210\\\",\\\"type\\\":\\\"observable\\\"},val)) : undefined; return this.valueFromJulia[\\\"index\\\"]=false}),self)]\\n        \\n    }\\n    self.model = new AppViewModel();\\n    self.valueFromJulia = {};\\n    for (var key in json_data) {\\n        self.valueFromJulia[key] = false;\\n    }\\n    ko.applyBindings(self.model, self.dom);\\n}\\n);\\n    (WebIO.importBlock({\\\"data\\\":[{\\\"name\\\":\\\"knockout\\\",\\\"type\\\":\\\"js\\\",\\\"url\\\":\\\"\\/assetserver\\/0fc6d61518197b1bf9b23217e9be1d2e00f2bb14-knockout.js\\\"},{\\\"name\\\":\\\"knockout_punches\\\",\\\"type\\\":\\\"js\\\",\\\"url\\\":\\\"\\/assetserver\\/24c12264eef2b01f723a21985ba5661f5564d7cf-knockout_punches.js\\\"}],\\\"type\\\":\\\"async_block\\\"})).then((imports) => handler.apply(this, imports));\\n}\\n\"],\"observables\":{\"changes\":{\"sync\":false,\"id\":\"3980636662701196274\",\"value\":0},\"index\":{\"sync\":true,\"id\":\"14662884455030579210\",\"value\":51}}},\"children\":[{\"props\":{\"className\":\"interact-flex-row interact-widget\"},\"nodeType\":\"DOM\",\"type\":\"node\",\"instanceArgs\":{\"namespace\":\"html\",\"tag\":\"div\"},\"children\":[{\"props\":{\"className\":\"interact-flex-row-left\"},\"nodeType\":\"DOM\",\"type\":\"node\",\"instanceArgs\":{\"namespace\":\"html\",\"tag\":\"div\"},\"children\":[{\"props\":{\"className\":\"interact \",\"style\":{\"padding\":\"5px 10px 0px 10px\"}},\"nodeType\":\"DOM\",\"type\":\"node\",\"instanceArgs\":{\"namespace\":\"html\",\"tag\":\"label\"},\"children\":[\"K1CH\"]}]},{\"props\":{\"className\":\"interact-flex-row-center\"},\"nodeType\":\"DOM\",\"type\":\"node\",\"instanceArgs\":{\"namespace\":\"html\",\"tag\":\"div\"},\"children\":[{\"props\":{\"max\":101,\"default\":0,\"attributes\":{\"type\":\"range\",\"data-bind\":\"numericValue: index, valueUpdate: 'input', event: {change: function (){this.changes(this.changes()+1)}}\",\"orient\":\"horizontal\"},\"min\":1,\"step\":1,\"className\":\"slider slider is-fullwidth\",\"style\":{}},\"nodeType\":\"DOM\",\"type\":\"node\",\"instanceArgs\":{\"namespace\":\"html\",\"tag\":\"input\"},\"children\":[]}]},{\"props\":{\"className\":\"interact-flex-row-right\"},\"nodeType\":\"DOM\",\"type\":\"node\",\"instanceArgs\":{\"namespace\":\"html\",\"tag\":\"div\"},\"children\":[{\"props\":{\"attributes\":{\"data-bind\":\"text: formatted_val\"}},\"nodeType\":\"DOM\",\"type\":\"node\",\"instanceArgs\":{\"namespace\":\"html\",\"tag\":\"p\"},\"children\":[]}]}]}]}]}]},{\"props\":{},\"nodeType\":\"Scope\",\"type\":\"node\",\"instanceArgs\":{\"imports\":{\"data\":[],\"type\":\"async_block\"},\"id\":\"3747386994233275923\",\"handlers\":{},\"systemjs_options\":null,\"mount_callbacks\":[],\"observables\":{\"obs-node\":{\"sync\":false,\"id\":\"4661243801774443886\",\"value\":{\"props\":{},\"nodeType\":\"DOM\",\"type\":\"node\",\"instanceArgs\":{\"namespace\":\"html\",\"tag\":\"div\"},\"children\":[]}}}},\"children\":[{\"props\":{},\"nodeType\":\"ObservableNode\",\"type\":\"node\",\"instanceArgs\":{\"id\":\"4661243801774443886\",\"name\":\"obs-node\"},\"children\":[]}]},{\"props\":{\"style\":{\"display\":\"flex\",\"flex-direction\":\"column\"}},\"nodeType\":\"DOM\",\"type\":\"node\",\"instanceArgs\":{\"namespace\":\"html\",\"tag\":\"div\"},\"children\":[{\"props\":{},\"nodeType\":\"Scope\",\"type\":\"node\",\"instanceArgs\":{\"imports\":{\"data\":[],\"type\":\"async_block\"},\"id\":\"2117566268222022310\",\"handlers\":{},\"systemjs_options\":null,\"mount_callbacks\":[],\"observables\":{\"obs-node\":{\"sync\":false,\"id\":\"9197843060758623604\",\"value\":{\"props\":{},\"nodeType\":\"DOM\",\"type\":\"node\",\"instanceArgs\":{\"namespace\":\"html\",\"tag\":\"div\"},\"children\":[]}}}},\"children\":[{\"props\":{},\"nodeType\":\"ObservableNode\",\"type\":\"node\",\"instanceArgs\":{\"id\":\"9197843060758623604\",\"name\":\"obs-node\"},\"children\":[]}]},{\"props\":{\"className\":\"field interact-widget\"},\"nodeType\":\"DOM\",\"type\":\"node\",\"instanceArgs\":{\"namespace\":\"html\",\"tag\":\"div\"},\"children\":[{\"props\":{},\"nodeType\":\"Scope\",\"type\":\"node\",\"instanceArgs\":{\"imports\":{\"data\":[{\"name\":\"knockout\",\"type\":\"js\",\"url\":\"\\/assetserver\\/0fc6d61518197b1bf9b23217e9be1d2e00f2bb14-knockout.js\"},{\"name\":\"knockout_punches\",\"type\":\"js\",\"url\":\"\\/assetserver\\/24c12264eef2b01f723a21985ba5661f5564d7cf-knockout_punches.js\"},{\"name\":null,\"type\":\"js\",\"url\":\"\\/assetserver\\/85de428ae418ad26c1ce7e886d25374b3774afa9-all.js\"},{\"name\":null,\"type\":\"css\",\"url\":\"\\/assetserver\\/2cd8ff31326883094fe5a8ff21182264663b62be-style.css\"},{\"name\":null,\"type\":\"css\",\"url\":\"\\/assetserver\\/741bde2d4bf25f117d0ec4d43164cd1a050cf9de-bulma_confined.min.css\"}],\"type\":\"async_block\"},\"id\":\"10468503492216660598\",\"handlers\":{\"changes\":[\"(function (val){return (val!=this.model[\\\"changes\\\"]()) ? (this.valueFromJulia[\\\"changes\\\"]=true, this.model[\\\"changes\\\"](val)) : undefined})\"],\"index\":[\"(function (val){return (val!=this.model[\\\"index\\\"]()) ? (this.valueFromJulia[\\\"index\\\"]=true, this.model[\\\"index\\\"](val)) : undefined})\"]},\"systemjs_options\":null,\"mount_callbacks\":[\"function () {\\n    var handler = (function (ko, koPunches) {\\n    ko.punches.enableAll();\\n    ko.bindingHandlers.numericValue = {\\n        init: function(element, valueAccessor, allBindings, data, context) {\\n            var stringified = ko.observable(ko.unwrap(valueAccessor()));\\n            stringified.subscribe(function(value) {\\n                var val = parseFloat(value);\\n                if (!isNaN(val)) {\\n                    valueAccessor()(val);\\n                }\\n            });\\n            valueAccessor().subscribe(function(value) {\\n                var str = JSON.stringify(value);\\n                if ((str == \\\"0\\\") && ([\\\"-0\\\", \\\"-0.\\\"].indexOf(stringified()) >= 0))\\n                     return;\\n                 if ([\\\"null\\\", \\\"\\\"].indexOf(str) >= 0)\\n                     return;\\n                stringified(str);\\n            });\\n            ko.applyBindingsToNode(\\n                element,\\n                {\\n                    value: stringified,\\n                    valueUpdate: allBindings.get('valueUpdate'),\\n                },\\n                context,\\n            );\\n        }\\n    };\\n    var json_data = {\\\"formatted_vals\\\":[\\\"1\\\",\\\"2\\\",\\\"3\\\",\\\"4\\\",\\\"5\\\",\\\"6\\\",\\\"7\\\",\\\"8\\\",\\\"9\\\",\\\"10\\\",\\\"11\\\",\\\"12\\\",\\\"13\\\",\\\"14\\\",\\\"15\\\"],\\\"changes\\\":WebIO.getval({\\\"name\\\":\\\"changes\\\",\\\"scope\\\":\\\"10468503492216660598\\\",\\\"id\\\":\\\"7097194882664695418\\\",\\\"type\\\":\\\"observable\\\"}),\\\"index\\\":WebIO.getval({\\\"name\\\":\\\"index\\\",\\\"scope\\\":\\\"10468503492216660598\\\",\\\"id\\\":\\\"17023710758350303429\\\",\\\"type\\\":\\\"observable\\\"})};\\n    var self = this;\\n    function AppViewModel() {\\n        for (var key in json_data) {\\n            var el = json_data[key];\\n            this[key] = Array.isArray(el) ? ko.observableArray(el) : ko.observable(el);\\n        }\\n        \\n        [this[\\\"formatted_val\\\"]=ko.computed(    function(){\\n        return this.formatted_vals()[parseInt(this.index())-(1)];\\n    }\\n,this)]\\n        [this[\\\"changes\\\"].subscribe((function (val){!(this.valueFromJulia[\\\"changes\\\"]) ? (WebIO.setval({\\\"name\\\":\\\"changes\\\",\\\"scope\\\":\\\"10468503492216660598\\\",\\\"id\\\":\\\"7097194882664695418\\\",\\\"type\\\":\\\"observable\\\"},val)) : undefined; return this.valueFromJulia[\\\"changes\\\"]=false}),self),this[\\\"index\\\"].subscribe((function (val){!(this.valueFromJulia[\\\"index\\\"]) ? (WebIO.setval({\\\"name\\\":\\\"index\\\",\\\"scope\\\":\\\"10468503492216660598\\\",\\\"id\\\":\\\"17023710758350303429\\\",\\\"type\\\":\\\"observable\\\"},val)) : undefined; return this.valueFromJulia[\\\"index\\\"]=false}),self)]\\n        \\n    }\\n    self.model = new AppViewModel();\\n    self.valueFromJulia = {};\\n    for (var key in json_data) {\\n        self.valueFromJulia[key] = false;\\n    }\\n    ko.applyBindings(self.model, self.dom);\\n}\\n);\\n    (WebIO.importBlock({\\\"data\\\":[{\\\"name\\\":\\\"knockout\\\",\\\"type\\\":\\\"js\\\",\\\"url\\\":\\\"\\/assetserver\\/0fc6d61518197b1bf9b23217e9be1d2e00f2bb14-knockout.js\\\"},{\\\"name\\\":\\\"knockout_punches\\\",\\\"type\\\":\\\"js\\\",\\\"url\\\":\\\"\\/assetserver\\/24c12264eef2b01f723a21985ba5661f5564d7cf-knockout_punches.js\\\"}],\\\"type\\\":\\\"async_block\\\"})).then((imports) => handler.apply(this, imports));\\n}\\n\"],\"observables\":{\"changes\":{\"sync\":false,\"id\":\"7097194882664695418\",\"value\":0},\"index\":{\"sync\":true,\"id\":\"17023710758350303429\",\"value\":8}}},\"children\":[{\"props\":{\"className\":\"interact-flex-row interact-widget\"},\"nodeType\":\"DOM\",\"type\":\"node\",\"instanceArgs\":{\"namespace\":\"html\",\"tag\":\"div\"},\"children\":[{\"props\":{\"className\":\"interact-flex-row-left\"},\"nodeType\":\"DOM\",\"type\":\"node\",\"instanceArgs\":{\"namespace\":\"html\",\"tag\":\"div\"},\"children\":[{\"props\":{\"className\":\"interact \",\"style\":{\"padding\":\"5px 10px 0px 10px\"}},\"nodeType\":\"DOM\",\"type\":\"node\",\"instanceArgs\":{\"namespace\":\"html\",\"tag\":\"label\"},\"children\":[\"2^n els\\/wnd\"]}]},{\"props\":{\"className\":\"interact-flex-row-center\"},\"nodeType\":\"DOM\",\"type\":\"node\",\"instanceArgs\":{\"namespace\":\"html\",\"tag\":\"div\"},\"children\":[{\"props\":{\"max\":15,\"default\":7.5,\"attributes\":{\"type\":\"range\",\"data-bind\":\"numericValue: index, valueUpdate: 'input', event: {change: function (){this.changes(this.changes()+1)}}\",\"orient\":\"horizontal\"},\"min\":1,\"step\":1,\"className\":\"slider slider is-fullwidth\",\"style\":{}},\"nodeType\":\"DOM\",\"type\":\"node\",\"instanceArgs\":{\"namespace\":\"html\",\"tag\":\"input\"},\"children\":[]}]},{\"props\":{\"className\":\"interact-flex-row-right\"},\"nodeType\":\"DOM\",\"type\":\"node\",\"instanceArgs\":{\"namespace\":\"html\",\"tag\":\"div\"},\"children\":[{\"props\":{\"attributes\":{\"data-bind\":\"text: formatted_val\"}},\"nodeType\":\"DOM\",\"type\":\"node\",\"instanceArgs\":{\"namespace\":\"html\",\"tag\":\"p\"},\"children\":[]}]}]}]}]}]}]},\n",
       "            window,\n",
       "        );\n",
       "    } else {\n",
       "        document\n",
       "            .querySelector('[data-webio-mountpoint=\"9536471671458910057\"]')\n",
       "            .innerHTML = (\n",
       "                '<div style=\"padding: 1em; background-color: #f8d6da; border: 1px solid #f5c6cb\">' +\n",
       "                '<p><strong>WebIO not detected.</strong></p>' +\n",
       "                '<p>Please read ' +\n",
       "                '<a href=\"https://juliagizmos.github.io/WebIO.jl/latest/troubleshooting/not-detected/\" target=\"_blank\">the troubleshooting guide</a> ' +\n",
       "                'for more information on how to resolve this issue.</p>' +\n",
       "                '<p><a href=\"https://juliagizmos.github.io/WebIO.jl/latest/troubleshooting/not-detected/\" target=\"_blank\">https://juliagizmos.github.io/WebIO.jl/latest/troubleshooting/not-detected/</a></p>' +\n",
       "                '</div>'\n",
       "            );\n",
       "    }\n",
       "    </script>\n",
       "</div>\n"
      ],
      "text/plain": [
       "(div\n",
       "  (div { style=Dict(\"display\" => \"flex\", \"flex-direction\" => \"row\") }\n",
       "    Node{WebIO.DOM}(WebIO.DOM(:html, :div), Any[Scope(Node{WebIO.DOM}(WebIO.DOM(:html, :div), Any[Node{WebIO.DOM}(WebIO.DOM(:html, :div), Any[Node{WebIO.DOM}(WebIO.DOM(:html, :label), Any[\"stop\"], Dict{Symbol, Any}(:className => \"interact \", :style => Dict{Any, Any}(:padding => \"5px 10px 0px 10px\")))], Dict{Symbol, Any}(:className => \"interact-flex-row-left\")), Node{WebIO.DOM}(WebIO.DOM(:html, :div), Any[Node{WebIO.DOM}(WebIO.DOM(:html, :input), Any[], Dict{Symbol, Any}(:max => 201, :default => 14, :attributes => Dict{Any, Any}(:type => \"range\", Symbol(\"data-bind\") => \"numericValue: index, valueUpdate: 'input', event: {change: function (){this.changes(this.changes()+1)}}\", \"orient\" => \"horizontal\"), :min => 1, :step => 1, :className => \"slider slider is-fullwidth\", :style => Dict{Any, Any}()))], Dict{Symbol, Any}(:className => \"interact-flex-row-center\")), Node{WebIO.DOM}(WebIO.DOM(:html, :div), Any[Node{WebIO.DOM}(WebIO.DOM(:html, :p), Any[], Dict{Symbol, Any}(:attributes => Dict(\"data-bind\" => \"text: formatted_val\")))], Dict{Symbol, Any}(:className => \"interact-flex-row-right\"))], Dict{Symbol, Any}(:className => \"interact-flex-row interact-widget\")), Dict{String, Tuple{Observables.AbstractObservable, Union{Nothing, Bool}}}(\"changes\" => (Observable{Int64} with 1 listeners. Value:\n",
       "0, nothing), \"index\" => (Observable{Any} with 2 listeners. Value:\n",
       "41, nothing)), Set{String}(), nothing, Asset[Asset(\"js\", \"knockout\", \"/Users/johnsmith/.julia/packages/Knockout/IP1uR/src/../assets/knockout.js\"), Asset(\"js\", \"knockout_punches\", \"/Users/johnsmith/.julia/packages/Knockout/IP1uR/src/../assets/knockout_punches.js\"), Asset(\"js\", nothing, \"/Users/johnsmith/.julia/packages/InteractBase/Zfu5P/src/../assets/all.js\"), Asset(\"css\", nothing, \"/Users/johnsmith/.julia/packages/InteractBase/Zfu5P/src/../assets/style.css\"), Asset(\"css\", nothing, \"/Users/johnsmith/.julia/packages/Interact/SbgIk/src/../assets/bulma_confined.min.css\")], Dict{Any, Any}(\"changes\" => Any[WebIO.JSString(\"(function (val){return (val!=this.model[\\\"changes\\\"]()) ? (this.valueFromJulia[\\\"changes\\\"]=true, this.model[\\\"changes\\\"](val)) : undefined})\")], \"index\" => Any[WebIO.JSString(\"(function (val){return (val!=this.model[\\\"index\\\"]()) ? (this.valueFromJulia[\\\"index\\\"]=true, this.model[\\\"index\\\"](val)) : undefined})\")]), WebIO.ConnectionPool(Channel{Any}(32), Set{AbstractConnection}(), Condition(Base.InvasiveLinkedList{Task}(Task (runnable) @0x0000000118ffd330, Task (runnable) @0x0000000118ffd330), Base.AlwaysLockedST(1))), WebIO.JSString[WebIO.JSString(\"function () {\\n    var handler = (function (ko, koPunches) {\\n    ko.punches.enableAll();\\n    ko.bindingHandlers.numericValue = {\\n        init: function(element, valueAccessor, allBindings, data, context) {\\n            var stringified = ko.observable(ko.unwrap(valueAccessor()));\\n            stringified.subscribe(function(value) {\\n                var val = parseFloat(value);\\n                if (!isNaN(val)) {\\n                    valueAccessor()(val);\\n                }\\n            });\\n            valueAccessor().subscribe(function(value) {\\n                var str = JSON.stringify(value);\\n                if ((str == \\\"0\\\") && ([\\\"-0\\\", \\\"-0.\\\"].indexOf(stringified()) >= 0))\\n                     return;\\n                 if ([\\\"null\\\", \\\"\\\"].indexOf(str) >= 0)\\n                     return;\\n                stringified(str);\\n            });\\n            ko.applyBindingsToNode(\\n                element,\\n                {\\n                    value: stringified,\\n                    valueUpdate: allBindings.get('valueUpdate'),\\n                },\\n                context,\\n            );\\n        }\\n    };\\n    var json_data = {\\\"formatted_vals\\\":[\\\"0.0\\\",\\\"0.05\\\",\\\"0.1\\\",\\\"0.15\\\",\\\"0.2\\\",\\\"0.25\\\",\\\"0.3\\\",\\\"0.35\\\",\\\"0.4\\\",\\\"0.45\\\",\\\"0.5\\\",\\\"0.55\\\",\\\"0.6\\\",\\\"0.65\\\",\\\"0.7\\\",\\\"0.75\\\",\\\"0.8\\\",\\\"0.85\\\",\\\"0.9\\\",\\\"0.95\\\",\\\"1.0\\\",\\\"1.05\\\",\\\"1.1\\\",\\\"1.15\\\",\\\"1.2\\\",\\\"1.25\\\",\\\"1.3\\\",\\\"1.35\\\",\\\"1.4\\\",\\\"1.45\\\",\\\"1.5\\\",\\\"1.55\\\",\\\"1.6\\\",\\\"1.65\\\",\\\"1.7\\\",\\\"1.75\\\",\\\"1.8\\\",\\\"1.85\\\",\\\"1.9\\\",\\\"1.95\\\",\\\"2.0\\\",\\\"2.05\\\",\\\"2.1\\\",\\\"2.15\\\",\\\"2.2\\\",\\\"2.25\\\",\\\"2.3\\\",\\\"2.35\\\",\\\"2.4\\\",\\\"2.45\\\",\\\"2.5\\\",\\\"2.55\\\",\\\"2.6\\\",\\\"2.65\\\",\\\"2.7\\\",\\\"2.75\\\",\\\"2.8\\\",\\\"2.85\\\",\\\"2.9\\\",\\\"2.95\\\",\\\"3.0\\\",\\\"3.05\\\",\\\"3.1\\\",\\\"3.15\\\",\\\"3.2\\\",\\\"3.25\\\",\\\"3.3\\\",\\\"3.35\\\",\\\"3.4\\\",\\\"3.45\\\",\\\"3.5\\\",\\\"3.55\\\",\\\"3.6\\\",\\\"3.65\\\",\\\"3.7\\\",\\\"3.75\\\",\\\"3.8\\\",\\\"3.85\\\",\\\"3.9\\\",\\\"3.95\\\",\\\"4.0\\\",\\\"4.05\\\",\\\"4.1\\\",\\\"4.15\\\",\\\"4.2\\\",\\\"4.25\\\",\\\"4.3\\\",\\\"4.35\\\",\\\"4.4\\\",\\\"4.45\\\",\\\"4.5\\\",\\\"4.55\\\",\\\"4.6\\\",\\\"4.65\\\",\\\"4.7\\\",\\\"4.75\\\",\\\"4.8\\\",\\\"4.85\\\",\\\"4.9\\\",\\\"4.95\\\",\\\"5.0\\\",\\\"5.05\\\",\\\"5.1\\\",\\\"5.15\\\",\\\"5.2\\\",\\\"5.25\\\",\\\"5.3\\\",\\\"5.35\\\",\\\"5.4\\\",\\\"5.45\\\",\\\"5.5\\\",\\\"5.55\\\",\\\"5.6\\\",\\\"5.65\\\",\\\"5.7\\\",\\\"5.75\\\",\\\"5.8\\\",\\\"5.85\\\",\\\"5.9\\\",\\\"5.95\\\",\\\"6.0\\\",\\\"6.05\\\",\\\"6.1\\\",\\\"6.15\\\",\\\"6.2\\\",\\\"6.25\\\",\\\"6.3\\\",\\\"6.35\\\",\\\"6.4\\\",\\\"6.45\\\",\\\"6.5\\\",\\\"6.55\\\",\\\"6.6\\\",\\\"6.65\\\",\\\"6.7\\\",\\\"6.75\\\",\\\"6.8\\\",\\\"6.85\\\",\\\"6.9\\\",\\\"6.95\\\",\\\"7.0\\\",\\\"7.05\\\",\\\"7.1\\\",\\\"7.15\\\",\\\"7.2\\\",\\\"7.25\\\",\\\"7.3\\\",\\\"7.35\\\",\\\"7.4\\\",\\\"7.45\\\",\\\"7.5\\\",\\\"7.55\\\",\\\"7.6\\\",\\\"7.65\\\",\\\"7.7\\\",\\\"7.75\\\",\\\"7.8\\\",\\\"7.85\\\",\\\"7.9\\\",\\\"7.95\\\",\\\"8.0\\\",\\\"8.05\\\",\\\"8.1\\\",\\\"8.15\\\",\\\"8.2\\\",\\\"8.25\\\",\\\"8.3\\\",\\\"8.35\\\",\\\"8.4\\\",\\\"8.45\\\",\\\"8.5\\\",\\\"8.55\\\",\\\"8.6\\\",\\\"8.65\\\",\\\"8.7\\\",\\\"8.75\\\",\\\"8.8\\\",\\\"8.85\\\",\\\"8.9\\\",\\\"8.95\\\",\\\"9.0\\\",\\\"9.05\\\",\\\"9.1\\\",\\\"9.15\\\",\\\"9.2\\\",\\\"9.25\\\",\\\"9.3\\\",\\\"9.35\\\",\\\"9.4\\\",\\\"9.45\\\",\\\"9.5\\\",\\\"9.55\\\",\\\"9.6\\\",\\\"9.65\\\",\\\"9.7\\\",\\\"9.75\\\",\\\"9.8\\\",\\\"9.85\\\",\\\"9.9\\\",\\\"9.95\\\",\\\"10.0\\\"],\\\"changes\\\":WebIO.getval({\\\"name\\\":\\\"changes\\\",\\\"scope\\\":\\\"12507749880756161116\\\",\\\"id\\\":\\\"15520604083165506776\\\",\\\"type\\\":\\\"observable\\\"}),\\\"index\\\":WebIO.getval({\\\"name\\\":\\\"index\\\",\\\"scope\\\":\\\"12507749880756161116\\\",\\\"id\\\":\\\"11873370316729394130\\\",\\\"type\\\":\\\"observable\\\"})};\\n    var self = this;\\n    function AppViewModel() {\\n        for (var key in json_data) {\\n            var el = json_data[key];\\n            this[key] = Array.isArray(el) ? ko.observableArray(el) : ko.observable(el);\\n        }\\n        \\n        [this[\\\"formatted_val\\\"]=ko.computed(    function(){\\n        return this.formatted_vals()[parseInt(this.index())-(1)];\\n    }\\n,this)]\\n        [this[\\\"changes\\\"].subscribe((function (val){!(this.valueFromJulia[\\\"changes\\\"]) ? (WebIO.setval({\\\"name\\\":\\\"changes\\\",\\\"scope\\\":\\\"12507749880756161116\\\",\\\"id\\\":\\\"15520604083165506776\\\",\\\"type\\\":\\\"observable\\\"},val)) : undefined; return this.valueFromJulia[\\\"changes\\\"]=false}),self),this[\\\"index\\\"].subscribe((function (val){!(this.valueFromJulia[\\\"index\\\"]) ? (WebIO.setval({\\\"name\\\":\\\"index\\\",\\\"scope\\\":\\\"12507749880756161116\\\",\\\"id\\\":\\\"11873370316729394130\\\",\\\"type\\\":\\\"observable\\\"},val)) : undefined; return this.valueFromJulia[\\\"index\\\"]=false}),self)]\\n        \\n    }\\n    self.model = new AppViewModel();\\n    self.valueFromJulia = {};\\n    for (var key in json_data) {\\n        self.valueFromJulia[key] = false;\\n    }\\n    ko.applyBindings(self.model, self.dom);\\n}\\n);\\n    (WebIO.importBlock({\\\"data\\\":[{\\\"name\\\":\\\"knockout\\\",\\\"type\\\":\\\"js\\\",\\\"url\\\":\\\"/assetserver/0fc6d61518197b1bf9b23217e9be1d2e00f2bb14-knockout.js\\\"},{\\\"name\\\":\\\"knockout_punches\\\",\\\"type\\\":\\\"js\\\",\\\"url\\\":\\\"/assetserver/24c12264eef2b01f723a21985ba5661f5564d7cf-knockout_punches.js\\\"}],\\\"type\\\":\\\"async_block\\\"})).then((imports) => handler.apply(this, imports));\\n}\\n\")])], Dict{Symbol, Any}(:className => \"field interact-widget\"))\n",
       "    Node{WebIO.DOM}(WebIO.DOM(:html, :div), Any[Scope(Node{WebIO.DOM}(WebIO.DOM(:html, :div), Any[Node{WebIO.DOM}(WebIO.DOM(:html, :div), Any[Node{WebIO.DOM}(WebIO.DOM(:html, :label), Any[\"tgt\"], Dict{Symbol, Any}(:className => \"interact \", :style => Dict{Any, Any}(:padding => \"5px 10px 0px 10px\")))], Dict{Symbol, Any}(:className => \"interact-flex-row-left\")), Node{WebIO.DOM}(WebIO.DOM(:html, :div), Any[Node{WebIO.DOM}(WebIO.DOM(:html, :input), Any[], Dict{Symbol, Any}(:max => 51, :default => 14, :attributes => Dict{Any, Any}(:type => \"range\", Symbol(\"data-bind\") => \"numericValue: index, valueUpdate: 'input', event: {change: function (){this.changes(this.changes()+1)}}\", \"orient\" => \"horizontal\"), :min => 1, :step => 1, :className => \"slider slider is-fullwidth\", :style => Dict{Any, Any}()))], Dict{Symbol, Any}(:className => \"interact-flex-row-center\")), Node{WebIO.DOM}(WebIO.DOM(:html, :div), Any[Node{WebIO.DOM}(WebIO.DOM(:html, :p), Any[], Dict{Symbol, Any}(:attributes => Dict(\"data-bind\" => \"text: formatted_val\")))], Dict{Symbol, Any}(:className => \"interact-flex-row-right\"))], Dict{Symbol, Any}(:className => \"interact-flex-row interact-widget\")), Dict{String, Tuple{Observables.AbstractObservable, Union{Nothing, Bool}}}(\"changes\" => (Observable{Int64} with 1 listeners. Value:\n",
       "0, nothing), \"index\" => (Observable{Any} with 2 listeners. Value:\n",
       "6, nothing)), Set{String}(), nothing, Asset[Asset(\"js\", \"knockout\", \"/Users/johnsmith/.julia/packages/Knockout/IP1uR/src/../assets/knockout.js\"), Asset(\"js\", \"knockout_punches\", \"/Users/johnsmith/.julia/packages/Knockout/IP1uR/src/../assets/knockout_punches.js\"), Asset(\"js\", nothing, \"/Users/johnsmith/.julia/packages/InteractBase/Zfu5P/src/../assets/all.js\"), Asset(\"css\", nothing, \"/Users/johnsmith/.julia/packages/InteractBase/Zfu5P/src/../assets/style.css\"), Asset(\"css\", nothing, \"/Users/johnsmith/.julia/packages/Interact/SbgIk/src/../assets/bulma_confined.min.css\")], Dict{Any, Any}(\"changes\" => Any[WebIO.JSString(\"(function (val){return (val!=this.model[\\\"changes\\\"]()) ? (this.valueFromJulia[\\\"changes\\\"]=true, this.model[\\\"changes\\\"](val)) : undefined})\")], \"index\" => Any[WebIO.JSString(\"(function (val){return (val!=this.model[\\\"index\\\"]()) ? (this.valueFromJulia[\\\"index\\\"]=true, this.model[\\\"index\\\"](val)) : undefined})\")]), WebIO.ConnectionPool(Channel{Any}(32), Set{AbstractConnection}(), Condition(Base.InvasiveLinkedList{Task}(Task (runnable) @0x0000000118ffd990, Task (runnable) @0x0000000118ffd990), Base.AlwaysLockedST(1))), WebIO.JSString[WebIO.JSString(\"function () {\\n    var handler = (function (ko, koPunches) {\\n    ko.punches.enableAll();\\n    ko.bindingHandlers.numericValue = {\\n        init: function(element, valueAccessor, allBindings, data, context) {\\n            var stringified = ko.observable(ko.unwrap(valueAccessor()));\\n            stringified.subscribe(function(value) {\\n                var val = parseFloat(value);\\n                if (!isNaN(val)) {\\n                    valueAccessor()(val);\\n                }\\n            });\\n            valueAccessor().subscribe(function(value) {\\n                var str = JSON.stringify(value);\\n                if ((str == \\\"0\\\") && ([\\\"-0\\\", \\\"-0.\\\"].indexOf(stringified()) >= 0))\\n                     return;\\n                 if ([\\\"null\\\", \\\"\\\"].indexOf(str) >= 0)\\n                     return;\\n                stringified(str);\\n            });\\n            ko.applyBindingsToNode(\\n                element,\\n                {\\n                    value: stringified,\\n                    valueUpdate: allBindings.get('valueUpdate'),\\n                },\\n                context,\\n            );\\n        }\\n    };\\n    var json_data = {\\\"formatted_vals\\\":[\\\"0.0\\\",\\\"0.2\\\",\\\"0.4\\\",\\\"0.6\\\",\\\"0.8\\\",\\\"1.0\\\",\\\"1.2\\\",\\\"1.4\\\",\\\"1.6\\\",\\\"1.8\\\",\\\"2.0\\\",\\\"2.2\\\",\\\"2.4\\\",\\\"2.6\\\",\\\"2.8\\\",\\\"3.0\\\",\\\"3.2\\\",\\\"3.4\\\",\\\"3.6\\\",\\\"3.8\\\",\\\"4.0\\\",\\\"4.2\\\",\\\"4.4\\\",\\\"4.6\\\",\\\"4.8\\\",\\\"5.0\\\",\\\"5.2\\\",\\\"5.4\\\",\\\"5.6\\\",\\\"5.8\\\",\\\"6.0\\\",\\\"6.2\\\",\\\"6.4\\\",\\\"6.6\\\",\\\"6.8\\\",\\\"7.0\\\",\\\"7.2\\\",\\\"7.4\\\",\\\"7.6\\\",\\\"7.8\\\",\\\"8.0\\\",\\\"8.2\\\",\\\"8.4\\\",\\\"8.6\\\",\\\"8.8\\\",\\\"9.0\\\",\\\"9.2\\\",\\\"9.4\\\",\\\"9.6\\\",\\\"9.8\\\",\\\"10.0\\\"],\\\"changes\\\":WebIO.getval({\\\"name\\\":\\\"changes\\\",\\\"scope\\\":\\\"17475990009657558785\\\",\\\"id\\\":\\\"11642263928924620372\\\",\\\"type\\\":\\\"observable\\\"}),\\\"index\\\":WebIO.getval({\\\"name\\\":\\\"index\\\",\\\"scope\\\":\\\"17475990009657558785\\\",\\\"id\\\":\\\"8524812456698984899\\\",\\\"type\\\":\\\"observable\\\"})};\\n    var self = this;\\n    function AppViewModel() {\\n        for (var key in json_data) {\\n            var el = json_data[key];\\n            this[key] = Array.isArray(el) ? ko.observableArray(el) : ko.observable(el);\\n        }\\n        \\n        [this[\\\"formatted_val\\\"]=ko.computed(    function(){\\n        return this.formatted_vals()[parseInt(this.index())-(1)];\\n    }\\n,this)]\\n        [this[\\\"changes\\\"].subscribe((function (val){!(this.valueFromJulia[\\\"changes\\\"]) ? (WebIO.setval({\\\"name\\\":\\\"changes\\\",\\\"scope\\\":\\\"17475990009657558785\\\",\\\"id\\\":\\\"11642263928924620372\\\",\\\"type\\\":\\\"observable\\\"},val)) : undefined; return this.valueFromJulia[\\\"changes\\\"]=false}),self),this[\\\"index\\\"].subscribe((function (val){!(this.valueFromJulia[\\\"index\\\"]) ? (WebIO.setval({\\\"name\\\":\\\"index\\\",\\\"scope\\\":\\\"17475990009657558785\\\",\\\"id\\\":\\\"8524812456698984899\\\",\\\"type\\\":\\\"observable\\\"},val)) : undefined; return this.valueFromJulia[\\\"index\\\"]=false}),self)]\\n        \\n    }\\n    self.model = new AppViewModel();\\n    self.valueFromJulia = {};\\n    for (var key in json_data) {\\n        self.valueFromJulia[key] = false;\\n    }\\n    ko.applyBindings(self.model, self.dom);\\n}\\n);\\n    (WebIO.importBlock({\\\"data\\\":[{\\\"name\\\":\\\"knockout\\\",\\\"type\\\":\\\"js\\\",\\\"url\\\":\\\"/assetserver/0fc6d61518197b1bf9b23217e9be1d2e00f2bb14-knockout.js\\\"},{\\\"name\\\":\\\"knockout_punches\\\",\\\"type\\\":\\\"js\\\",\\\"url\\\":\\\"/assetserver/24c12264eef2b01f723a21985ba5661f5564d7cf-knockout_punches.js\\\"}],\\\"type\\\":\\\"async_block\\\"})).then((imports) => handler.apply(this, imports));\\n}\\n\")])], Dict{Symbol, Any}(:className => \"field interact-widget\"))\n",
       "    Node{WebIO.DOM}(WebIO.DOM(:html, :div), Any[Scope(Node{WebIO.DOM}(WebIO.DOM(:html, :div), Any[Node{WebIO.DOM}(WebIO.DOM(:html, :div), Any[Node{WebIO.DOM}(WebIO.DOM(:html, :label), Any[\"cool\"], Dict{Symbol, Any}(:className => \"interact \", :style => Dict{Any, Any}(:padding => \"5px 10px 0px 10px\")))], Dict{Symbol, Any}(:className => \"interact-flex-row-left\")), Node{WebIO.DOM}(WebIO.DOM(:html, :div), Any[Node{WebIO.DOM}(WebIO.DOM(:html, :input), Any[], Dict{Symbol, Any}(:max => 121, :default => 30, :attributes => Dict{Any, Any}(:type => \"range\", Symbol(\"data-bind\") => \"numericValue: index, valueUpdate: 'input', event: {change: function (){this.changes(this.changes()+1)}}\", \"orient\" => \"horizontal\"), :min => 1, :step => 1, :className => \"slider slider is-fullwidth\", :style => Dict{Any, Any}()))], Dict{Symbol, Any}(:className => \"interact-flex-row-center\")), Node{WebIO.DOM}(WebIO.DOM(:html, :div), Any[Node{WebIO.DOM}(WebIO.DOM(:html, :p), Any[], Dict{Symbol, Any}(:attributes => Dict(\"data-bind\" => \"text: formatted_val\")))], Dict{Symbol, Any}(:className => \"interact-flex-row-right\"))], Dict{Symbol, Any}(:className => \"interact-flex-row interact-widget\")), Dict{String, Tuple{Observables.AbstractObservable, Union{Nothing, Bool}}}(\"changes\" => (Observable{Int64} with 1 listeners. Value:\n",
       "0, nothing), \"index\" => (Observable{Any} with 2 listeners. Value:\n",
       "7, nothing)), Set{String}(), nothing, Asset[Asset(\"js\", \"knockout\", \"/Users/johnsmith/.julia/packages/Knockout/IP1uR/src/../assets/knockout.js\"), Asset(\"js\", \"knockout_punches\", \"/Users/johnsmith/.julia/packages/Knockout/IP1uR/src/../assets/knockout_punches.js\"), Asset(\"js\", nothing, \"/Users/johnsmith/.julia/packages/InteractBase/Zfu5P/src/../assets/all.js\"), Asset(\"css\", nothing, \"/Users/johnsmith/.julia/packages/InteractBase/Zfu5P/src/../assets/style.css\"), Asset(\"css\", nothing, \"/Users/johnsmith/.julia/packages/Interact/SbgIk/src/../assets/bulma_confined.min.css\")], Dict{Any, Any}(\"changes\" => Any[WebIO.JSString(\"(function (val){return (val!=this.model[\\\"changes\\\"]()) ? (this.valueFromJulia[\\\"changes\\\"]=true, this.model[\\\"changes\\\"](val)) : undefined})\")], \"index\" => Any[WebIO.JSString(\"(function (val){return (val!=this.model[\\\"index\\\"]()) ? (this.valueFromJulia[\\\"index\\\"]=true, this.model[\\\"index\\\"](val)) : undefined})\")]), WebIO.ConnectionPool(Channel{Any}(32), Set{AbstractConnection}(), Condition(Base.InvasiveLinkedList{Task}(Task (runnable) @0x00000001181c3b90, Task (runnable) @0x00000001181c3b90), Base.AlwaysLockedST(1))), WebIO.JSString[WebIO.JSString(\"function () {\\n    var handler = (function (ko, koPunches) {\\n    ko.punches.enableAll();\\n    ko.bindingHandlers.numericValue = {\\n        init: function(element, valueAccessor, allBindings, data, context) {\\n            var stringified = ko.observable(ko.unwrap(valueAccessor()));\\n            stringified.subscribe(function(value) {\\n                var val = parseFloat(value);\\n                if (!isNaN(val)) {\\n                    valueAccessor()(val);\\n                }\\n            });\\n            valueAccessor().subscribe(function(value) {\\n                var str = JSON.stringify(value);\\n                if ((str == \\\"0\\\") && ([\\\"-0\\\", \\\"-0.\\\"].indexOf(stringified()) >= 0))\\n                     return;\\n                 if ([\\\"null\\\", \\\"\\\"].indexOf(str) >= 0)\\n                     return;\\n                stringified(str);\\n            });\\n            ko.applyBindingsToNode(\\n                element,\\n                {\\n                    value: stringified,\\n                    valueUpdate: allBindings.get('valueUpdate'),\\n                },\\n                context,\\n            );\\n        }\\n    };\\n    var json_data = {\\\"formatted_vals\\\":[\\\"0\\\",\\\"5\\\",\\\"10\\\",\\\"15\\\",\\\"20\\\",\\\"25\\\",\\\"30\\\",\\\"35\\\",\\\"40\\\",\\\"45\\\",\\\"50\\\",\\\"55\\\",\\\"60\\\",\\\"65\\\",\\\"70\\\",\\\"75\\\",\\\"80\\\",\\\"85\\\",\\\"90\\\",\\\"95\\\",\\\"100\\\",\\\"105\\\",\\\"110\\\",\\\"115\\\",\\\"120\\\",\\\"125\\\",\\\"130\\\",\\\"135\\\",\\\"140\\\",\\\"145\\\",\\\"150\\\",\\\"155\\\",\\\"160\\\",\\\"165\\\",\\\"170\\\",\\\"175\\\",\\\"180\\\",\\\"185\\\",\\\"190\\\",\\\"195\\\",\\\"200\\\",\\\"205\\\",\\\"210\\\",\\\"215\\\",\\\"220\\\",\\\"225\\\",\\\"230\\\",\\\"235\\\",\\\"240\\\",\\\"245\\\",\\\"250\\\",\\\"255\\\",\\\"260\\\",\\\"265\\\",\\\"270\\\",\\\"275\\\",\\\"280\\\",\\\"285\\\",\\\"290\\\",\\\"295\\\",\\\"300\\\",\\\"305\\\",\\\"310\\\",\\\"315\\\",\\\"320\\\",\\\"325\\\",\\\"330\\\",\\\"335\\\",\\\"340\\\",\\\"345\\\",\\\"350\\\",\\\"355\\\",\\\"360\\\",\\\"365\\\",\\\"370\\\",\\\"375\\\",\\\"380\\\",\\\"385\\\",\\\"390\\\",\\\"395\\\",\\\"400\\\",\\\"405\\\",\\\"410\\\",\\\"415\\\",\\\"420\\\",\\\"425\\\",\\\"430\\\",\\\"435\\\",\\\"440\\\",\\\"445\\\",\\\"450\\\",\\\"455\\\",\\\"460\\\",\\\"465\\\",\\\"470\\\",\\\"475\\\",\\\"480\\\",\\\"485\\\",\\\"490\\\",\\\"495\\\",\\\"500\\\",\\\"505\\\",\\\"510\\\",\\\"515\\\",\\\"520\\\",\\\"525\\\",\\\"530\\\",\\\"535\\\",\\\"540\\\",\\\"545\\\",\\\"550\\\",\\\"555\\\",\\\"560\\\",\\\"565\\\",\\\"570\\\",\\\"575\\\",\\\"580\\\",\\\"585\\\",\\\"590\\\",\\\"595\\\",\\\"600\\\"],\\\"changes\\\":WebIO.getval({\\\"name\\\":\\\"changes\\\",\\\"scope\\\":\\\"1536520112194890557\\\",\\\"id\\\":\\\"12228187063536839977\\\",\\\"type\\\":\\\"observable\\\"}),\\\"index\\\":WebIO.getval({\\\"name\\\":\\\"index\\\",\\\"scope\\\":\\\"1536520112194890557\\\",\\\"id\\\":\\\"14821841233384630536\\\",\\\"type\\\":\\\"observable\\\"})};\\n    var self = this;\\n    function AppViewModel() {\\n        for (var key in json_data) {\\n            var el = json_data[key];\\n            this[key] = Array.isArray(el) ? ko.observableArray(el) : ko.observable(el);\\n        }\\n        \\n        [this[\\\"formatted_val\\\"]=ko.computed(    function(){\\n        return this.formatted_vals()[parseInt(this.index())-(1)];\\n    }\\n,this)]\\n        [this[\\\"changes\\\"].subscribe((function (val){!(this.valueFromJulia[\\\"changes\\\"]) ? (WebIO.setval({\\\"name\\\":\\\"changes\\\",\\\"scope\\\":\\\"1536520112194890557\\\",\\\"id\\\":\\\"12228187063536839977\\\",\\\"type\\\":\\\"observable\\\"},val)) : undefined; return this.valueFromJulia[\\\"changes\\\"]=false}),self),this[\\\"index\\\"].subscribe((function (val){!(this.valueFromJulia[\\\"index\\\"]) ? (WebIO.setval({\\\"name\\\":\\\"index\\\",\\\"scope\\\":\\\"1536520112194890557\\\",\\\"id\\\":\\\"14821841233384630536\\\",\\\"type\\\":\\\"observable\\\"},val)) : undefined; return this.valueFromJulia[\\\"index\\\"]=false}),self)]\\n        \\n    }\\n    self.model = new AppViewModel();\\n    self.valueFromJulia = {};\\n    for (var key in json_data) {\\n        self.valueFromJulia[key] = false;\\n    }\\n    ko.applyBindings(self.model, self.dom);\\n}\\n);\\n    (WebIO.importBlock({\\\"data\\\":[{\\\"name\\\":\\\"knockout\\\",\\\"type\\\":\\\"js\\\",\\\"url\\\":\\\"/assetserver/0fc6d61518197b1bf9b23217e9be1d2e00f2bb14-knockout.js\\\"},{\\\"name\\\":\\\"knockout_punches\\\",\\\"type\\\":\\\"js\\\",\\\"url\\\":\\\"/assetserver/24c12264eef2b01f723a21985ba5661f5564d7cf-knockout_punches.js\\\"}],\\\"type\\\":\\\"async_block\\\"})).then((imports) => handler.apply(this, imports));\\n}\\n\")])], Dict{Symbol, Any}(:className => \"field interact-widget\")))\n",
       "  (div { style=Dict(\"display\" => \"flex\", \"flex-direction\" => \"row\") }\n",
       "    Node{WebIO.DOM}(WebIO.DOM(:html, :div), Any[Scope(Node{WebIO.DOM}(WebIO.DOM(:html, :div), Any[Node{WebIO.DOM}(WebIO.DOM(:html, :div), Any[Node{WebIO.DOM}(WebIO.DOM(:html, :label), Any[\"K1N\"], Dict{Symbol, Any}(:className => \"interact \", :style => Dict{Any, Any}(:padding => \"5px 10px 0px 10px\")))], Dict{Symbol, Any}(:className => \"interact-flex-row-left\")), Node{WebIO.DOM}(WebIO.DOM(:html, :div), Any[Node{WebIO.DOM}(WebIO.DOM(:html, :input), Any[], Dict{Symbol, Any}(:max => 41, :default => 50, :attributes => Dict{Any, Any}(:type => \"range\", Symbol(\"data-bind\") => \"numericValue: index, valueUpdate: 'input', event: {change: function (){this.changes(this.changes()+1)}}\", \"orient\" => \"horizontal\"), :min => 1, :step => 1, :className => \"slider slider is-fullwidth\", :style => Dict{Any, Any}()))], Dict{Symbol, Any}(:className => \"interact-flex-row-center\")), Node{WebIO.DOM}(WebIO.DOM(:html, :div), Any[Node{WebIO.DOM}(WebIO.DOM(:html, :p), Any[], Dict{Symbol, Any}(:attributes => Dict(\"data-bind\" => \"text: formatted_val\")))], Dict{Symbol, Any}(:className => \"interact-flex-row-right\"))], Dict{Symbol, Any}(:className => \"interact-flex-row interact-widget\")), Dict{String, Tuple{Observables.AbstractObservable, Union{Nothing, Bool}}}(\"changes\" => (Observable{Int64} with 1 listeners. Value:\n",
       "0, nothing), \"index\" => (Observable{Any} with 2 listeners. Value:\n",
       "2, nothing)), Set{String}(), nothing, Asset[Asset(\"js\", \"knockout\", \"/Users/johnsmith/.julia/packages/Knockout/IP1uR/src/../assets/knockout.js\"), Asset(\"js\", \"knockout_punches\", \"/Users/johnsmith/.julia/packages/Knockout/IP1uR/src/../assets/knockout_punches.js\"), Asset(\"js\", nothing, \"/Users/johnsmith/.julia/packages/InteractBase/Zfu5P/src/../assets/all.js\"), Asset(\"css\", nothing, \"/Users/johnsmith/.julia/packages/InteractBase/Zfu5P/src/../assets/style.css\"), Asset(\"css\", nothing, \"/Users/johnsmith/.julia/packages/Interact/SbgIk/src/../assets/bulma_confined.min.css\")], Dict{Any, Any}(\"changes\" => Any[WebIO.JSString(\"(function (val){return (val!=this.model[\\\"changes\\\"]()) ? (this.valueFromJulia[\\\"changes\\\"]=true, this.model[\\\"changes\\\"](val)) : undefined})\")], \"index\" => Any[WebIO.JSString(\"(function (val){return (val!=this.model[\\\"index\\\"]()) ? (this.valueFromJulia[\\\"index\\\"]=true, this.model[\\\"index\\\"](val)) : undefined})\")]), WebIO.ConnectionPool(Channel{Any}(32), Set{AbstractConnection}(), Condition(Base.InvasiveLinkedList{Task}(Task (runnable) @0x0000000118ffdcc0, Task (runnable) @0x0000000118ffdcc0), Base.AlwaysLockedST(1))), WebIO.JSString[WebIO.JSString(\"function () {\\n    var handler = (function (ko, koPunches) {\\n    ko.punches.enableAll();\\n    ko.bindingHandlers.numericValue = {\\n        init: function(element, valueAccessor, allBindings, data, context) {\\n            var stringified = ko.observable(ko.unwrap(valueAccessor()));\\n            stringified.subscribe(function(value) {\\n                var val = parseFloat(value);\\n                if (!isNaN(val)) {\\n                    valueAccessor()(val);\\n                }\\n            });\\n            valueAccessor().subscribe(function(value) {\\n                var str = JSON.stringify(value);\\n                if ((str == \\\"0\\\") && ([\\\"-0\\\", \\\"-0.\\\"].indexOf(stringified()) >= 0))\\n                     return;\\n                 if ([\\\"null\\\", \\\"\\\"].indexOf(str) >= 0)\\n                     return;\\n                stringified(str);\\n            });\\n            ko.applyBindingsToNode(\\n                element,\\n                {\\n                    value: stringified,\\n                    valueUpdate: allBindings.get('valueUpdate'),\\n                },\\n                context,\\n            );\\n        }\\n    };\\n    var json_data = {\\\"formatted_vals\\\":[\\\"0\\\",\\\"10\\\",\\\"20\\\",\\\"30\\\",\\\"40\\\",\\\"50\\\",\\\"60\\\",\\\"70\\\",\\\"80\\\",\\\"90\\\",\\\"100\\\",\\\"110\\\",\\\"120\\\",\\\"130\\\",\\\"140\\\",\\\"150\\\",\\\"160\\\",\\\"170\\\",\\\"180\\\",\\\"190\\\",\\\"200\\\",\\\"210\\\",\\\"220\\\",\\\"230\\\",\\\"240\\\",\\\"250\\\",\\\"260\\\",\\\"270\\\",\\\"280\\\",\\\"290\\\",\\\"300\\\",\\\"310\\\",\\\"320\\\",\\\"330\\\",\\\"340\\\",\\\"350\\\",\\\"360\\\",\\\"370\\\",\\\"380\\\",\\\"390\\\",\\\"400\\\"],\\\"changes\\\":WebIO.getval({\\\"name\\\":\\\"changes\\\",\\\"scope\\\":\\\"6917832449004871402\\\",\\\"id\\\":\\\"16466815664876684519\\\",\\\"type\\\":\\\"observable\\\"}),\\\"index\\\":WebIO.getval({\\\"name\\\":\\\"index\\\",\\\"scope\\\":\\\"6917832449004871402\\\",\\\"id\\\":\\\"7928140464196230835\\\",\\\"type\\\":\\\"observable\\\"})};\\n    var self = this;\\n    function AppViewModel() {\\n        for (var key in json_data) {\\n            var el = json_data[key];\\n            this[key] = Array.isArray(el) ? ko.observableArray(el) : ko.observable(el);\\n        }\\n        \\n        [this[\\\"formatted_val\\\"]=ko.computed(    function(){\\n        return this.formatted_vals()[parseInt(this.index())-(1)];\\n    }\\n,this)]\\n        [this[\\\"changes\\\"].subscribe((function (val){!(this.valueFromJulia[\\\"changes\\\"]) ? (WebIO.setval({\\\"name\\\":\\\"changes\\\",\\\"scope\\\":\\\"6917832449004871402\\\",\\\"id\\\":\\\"16466815664876684519\\\",\\\"type\\\":\\\"observable\\\"},val)) : undefined; return this.valueFromJulia[\\\"changes\\\"]=false}),self),this[\\\"index\\\"].subscribe((function (val){!(this.valueFromJulia[\\\"index\\\"]) ? (WebIO.setval({\\\"name\\\":\\\"index\\\",\\\"scope\\\":\\\"6917832449004871402\\\",\\\"id\\\":\\\"7928140464196230835\\\",\\\"type\\\":\\\"observable\\\"},val)) : undefined; return this.valueFromJulia[\\\"index\\\"]=false}),self)]\\n        \\n    }\\n    self.model = new AppViewModel();\\n    self.valueFromJulia = {};\\n    for (var key in json_data) {\\n        self.valueFromJulia[key] = false;\\n    }\\n    ko.applyBindings(self.model, self.dom);\\n}\\n);\\n    (WebIO.importBlock({\\\"data\\\":[{\\\"name\\\":\\\"knockout\\\",\\\"type\\\":\\\"js\\\",\\\"url\\\":\\\"/assetserver/0fc6d61518197b1bf9b23217e9be1d2e00f2bb14-knockout.js\\\"},{\\\"name\\\":\\\"knockout_punches\\\",\\\"type\\\":\\\"js\\\",\\\"url\\\":\\\"/assetserver/24c12264eef2b01f723a21985ba5661f5564d7cf-knockout_punches.js\\\"}],\\\"type\\\":\\\"async_block\\\"})).then((imports) => handler.apply(this, imports));\\n}\\n\")])], Dict{Symbol, Any}(:className => \"field interact-widget\"))\n",
       "    Node{WebIO.DOM}(WebIO.DOM(:html, :div), Any[Scope(Node{WebIO.DOM}(WebIO.DOM(:html, :div), Any[Node{WebIO.DOM}(WebIO.DOM(:html, :div), Any[Node{WebIO.DOM}(WebIO.DOM(:html, :label), Any[\"K1F\"], Dict{Symbol, Any}(:className => \"interact \", :style => Dict{Any, Any}(:padding => \"5px 10px 0px 10px\")))], Dict{Symbol, Any}(:className => \"interact-flex-row-left\")), Node{WebIO.DOM}(WebIO.DOM(:html, :div), Any[Node{WebIO.DOM}(WebIO.DOM(:html, :input), Any[], Dict{Symbol, Any}(:max => 51, :default => 0.6, :attributes => Dict{Any, Any}(:type => \"range\", Symbol(\"data-bind\") => \"numericValue: index, valueUpdate: 'input', event: {change: function (){this.changes(this.changes()+1)}}\", \"orient\" => \"horizontal\"), :min => 1, :step => 1, :className => \"slider slider is-fullwidth\", :style => Dict{Any, Any}()))], Dict{Symbol, Any}(:className => \"interact-flex-row-center\")), Node{WebIO.DOM}(WebIO.DOM(:html, :div), Any[Node{WebIO.DOM}(WebIO.DOM(:html, :p), Any[], Dict{Symbol, Any}(:attributes => Dict(\"data-bind\" => \"text: formatted_val\")))], Dict{Symbol, Any}(:className => \"interact-flex-row-right\"))], Dict{Symbol, Any}(:className => \"interact-flex-row interact-widget\")), Dict{String, Tuple{Observables.AbstractObservable, Union{Nothing, Bool}}}(\"changes\" => (Observable{Int64} with 1 listeners. Value:\n",
       "0, nothing), \"index\" => (Observable{Any} with 2 listeners. Value:\n",
       "35, nothing)), Set{String}(), nothing, Asset[Asset(\"js\", \"knockout\", \"/Users/johnsmith/.julia/packages/Knockout/IP1uR/src/../assets/knockout.js\"), Asset(\"js\", \"knockout_punches\", \"/Users/johnsmith/.julia/packages/Knockout/IP1uR/src/../assets/knockout_punches.js\"), Asset(\"js\", nothing, \"/Users/johnsmith/.julia/packages/InteractBase/Zfu5P/src/../assets/all.js\"), Asset(\"css\", nothing, \"/Users/johnsmith/.julia/packages/InteractBase/Zfu5P/src/../assets/style.css\"), Asset(\"css\", nothing, \"/Users/johnsmith/.julia/packages/Interact/SbgIk/src/../assets/bulma_confined.min.css\")], Dict{Any, Any}(\"changes\" => Any[WebIO.JSString(\"(function (val){return (val!=this.model[\\\"changes\\\"]()) ? (this.valueFromJulia[\\\"changes\\\"]=true, this.model[\\\"changes\\\"](val)) : undefined})\")], \"index\" => Any[WebIO.JSString(\"(function (val){return (val!=this.model[\\\"index\\\"]()) ? (this.valueFromJulia[\\\"index\\\"]=true, this.model[\\\"index\\\"](val)) : undefined})\")]), WebIO.ConnectionPool(Channel{Any}(32), Set{AbstractConnection}(), Condition(Base.InvasiveLinkedList{Task}(Task (runnable) @0x0000000118ffe430, Task (runnable) @0x0000000118ffe430), Base.AlwaysLockedST(1))), WebIO.JSString[WebIO.JSString(\"function () {\\n    var handler = (function (ko, koPunches) {\\n    ko.punches.enableAll();\\n    ko.bindingHandlers.numericValue = {\\n        init: function(element, valueAccessor, allBindings, data, context) {\\n            var stringified = ko.observable(ko.unwrap(valueAccessor()));\\n            stringified.subscribe(function(value) {\\n                var val = parseFloat(value);\\n                if (!isNaN(val)) {\\n                    valueAccessor()(val);\\n                }\\n            });\\n            valueAccessor().subscribe(function(value) {\\n                var str = JSON.stringify(value);\\n                if ((str == \\\"0\\\") && ([\\\"-0\\\", \\\"-0.\\\"].indexOf(stringified()) >= 0))\\n                     return;\\n                 if ([\\\"null\\\", \\\"\\\"].indexOf(str) >= 0)\\n                     return;\\n                stringified(str);\\n            });\\n            ko.applyBindingsToNode(\\n                element,\\n                {\\n                    value: stringified,\\n                    valueUpdate: allBindings.get('valueUpdate'),\\n                },\\n                context,\\n            );\\n        }\\n    };\\n    var json_data = {\\\"formatted_vals\\\":[\\\"0.0\\\",\\\"0.02\\\",\\\"0.04\\\",\\\"0.06\\\",\\\"0.08\\\",\\\"0.1\\\",\\\"0.12\\\",\\\"0.14\\\",\\\"0.16\\\",\\\"0.18\\\",\\\"0.2\\\",\\\"0.22\\\",\\\"0.24\\\",\\\"0.26\\\",\\\"0.28\\\",\\\"0.3\\\",\\\"0.32\\\",\\\"0.34\\\",\\\"0.36\\\",\\\"0.38\\\",\\\"0.4\\\",\\\"0.42\\\",\\\"0.44\\\",\\\"0.46\\\",\\\"0.48\\\",\\\"0.5\\\",\\\"0.52\\\",\\\"0.54\\\",\\\"0.56\\\",\\\"0.58\\\",\\\"0.6\\\",\\\"0.62\\\",\\\"0.64\\\",\\\"0.66\\\",\\\"0.68\\\",\\\"0.7\\\",\\\"0.72\\\",\\\"0.74\\\",\\\"0.76\\\",\\\"0.78\\\",\\\"0.8\\\",\\\"0.82\\\",\\\"0.84\\\",\\\"0.86\\\",\\\"0.88\\\",\\\"0.9\\\",\\\"0.92\\\",\\\"0.94\\\",\\\"0.96\\\",\\\"0.98\\\",\\\"1.0\\\"],\\\"changes\\\":WebIO.getval({\\\"name\\\":\\\"changes\\\",\\\"scope\\\":\\\"18283628025577398891\\\",\\\"id\\\":\\\"5210215974687676919\\\",\\\"type\\\":\\\"observable\\\"}),\\\"index\\\":WebIO.getval({\\\"name\\\":\\\"index\\\",\\\"scope\\\":\\\"18283628025577398891\\\",\\\"id\\\":\\\"410683308009890644\\\",\\\"type\\\":\\\"observable\\\"})};\\n    var self = this;\\n    function AppViewModel() {\\n        for (var key in json_data) {\\n            var el = json_data[key];\\n            this[key] = Array.isArray(el) ? ko.observableArray(el) : ko.observable(el);\\n        }\\n        \\n        [this[\\\"formatted_val\\\"]=ko.computed(    function(){\\n        return this.formatted_vals()[parseInt(this.index())-(1)];\\n    }\\n,this)]\\n        [this[\\\"changes\\\"].subscribe((function (val){!(this.valueFromJulia[\\\"changes\\\"]) ? (WebIO.setval({\\\"name\\\":\\\"changes\\\",\\\"scope\\\":\\\"18283628025577398891\\\",\\\"id\\\":\\\"5210215974687676919\\\",\\\"type\\\":\\\"observable\\\"},val)) : undefined; return this.valueFromJulia[\\\"changes\\\"]=false}),self),this[\\\"index\\\"].subscribe((function (val){!(this.valueFromJulia[\\\"index\\\"]) ? (WebIO.setval({\\\"name\\\":\\\"index\\\",\\\"scope\\\":\\\"18283628025577398891\\\",\\\"id\\\":\\\"410683308009890644\\\",\\\"type\\\":\\\"observable\\\"},val)) : undefined; return this.valueFromJulia[\\\"index\\\"]=false}),self)]\\n        \\n    }\\n    self.model = new AppViewModel();\\n    self.valueFromJulia = {};\\n    for (var key in json_data) {\\n        self.valueFromJulia[key] = false;\\n    }\\n    ko.applyBindings(self.model, self.dom);\\n}\\n);\\n    (WebIO.importBlock({\\\"data\\\":[{\\\"name\\\":\\\"knockout\\\",\\\"type\\\":\\\"js\\\",\\\"url\\\":\\\"/assetserver/0fc6d61518197b1bf9b23217e9be1d2e00f2bb14-knockout.js\\\"},{\\\"name\\\":\\\"knockout_punches\\\",\\\"type\\\":\\\"js\\\",\\\"url\\\":\\\"/assetserver/24c12264eef2b01f723a21985ba5661f5564d7cf-knockout_punches.js\\\"}],\\\"type\\\":\\\"async_block\\\"})).then((imports) => handler.apply(this, imports));\\n}\\n\")])], Dict{Symbol, Any}(:className => \"field interact-widget\"))\n",
       "    Node{WebIO.DOM}(WebIO.DOM(:html, :div), Any[Scope(Node{WebIO.DOM}(WebIO.DOM(:html, :div), Any[Node{WebIO.DOM}(WebIO.DOM(:html, :div), Any[Node{WebIO.DOM}(WebIO.DOM(:html, :label), Any[\"K1S\"], Dict{Symbol, Any}(:className => \"interact \", :style => Dict{Any, Any}(:padding => \"5px 10px 0px 10px\")))], Dict{Symbol, Any}(:className => \"interact-flex-row-left\")), Node{WebIO.DOM}(WebIO.DOM(:html, :div), Any[Node{WebIO.DOM}(WebIO.DOM(:html, :input), Any[], Dict{Symbol, Any}(:max => 51, :default => 0.0645, :attributes => Dict{Any, Any}(:type => \"range\", Symbol(\"data-bind\") => \"numericValue: index, valueUpdate: 'input', event: {change: function (){this.changes(this.changes()+1)}}\", \"orient\" => \"horizontal\"), :min => 1, :step => 1, :className => \"slider slider is-fullwidth\", :style => Dict{Any, Any}()))], Dict{Symbol, Any}(:className => \"interact-flex-row-center\")), Node{WebIO.DOM}(WebIO.DOM(:html, :div), Any[Node{WebIO.DOM}(WebIO.DOM(:html, :p), Any[], Dict{Symbol, Any}(:attributes => Dict(\"data-bind\" => \"text: formatted_val\")))], Dict{Symbol, Any}(:className => \"interact-flex-row-right\"))], Dict{Symbol, Any}(:className => \"interact-flex-row interact-widget\")), Dict{String, Tuple{Observables.AbstractObservable, Union{Nothing, Bool}}}(\"changes\" => (Observable{Int64} with 1 listeners. Value:\n",
       "0, nothing), \"index\" => (Observable{Any} with 2 listeners. Value:\n",
       "5, nothing)), Set{String}(), nothing, Asset[Asset(\"js\", \"knockout\", \"/Users/johnsmith/.julia/packages/Knockout/IP1uR/src/../assets/knockout.js\"), Asset(\"js\", \"knockout_punches\", \"/Users/johnsmith/.julia/packages/Knockout/IP1uR/src/../assets/knockout_punches.js\"), Asset(\"js\", nothing, \"/Users/johnsmith/.julia/packages/InteractBase/Zfu5P/src/../assets/all.js\"), Asset(\"css\", nothing, \"/Users/johnsmith/.julia/packages/InteractBase/Zfu5P/src/../assets/style.css\"), Asset(\"css\", nothing, \"/Users/johnsmith/.julia/packages/Interact/SbgIk/src/../assets/bulma_confined.min.css\")], Dict{Any, Any}(\"changes\" => Any[WebIO.JSString(\"(function (val){return (val!=this.model[\\\"changes\\\"]()) ? (this.valueFromJulia[\\\"changes\\\"]=true, this.model[\\\"changes\\\"](val)) : undefined})\")], \"index\" => Any[WebIO.JSString(\"(function (val){return (val!=this.model[\\\"index\\\"]()) ? (this.valueFromJulia[\\\"index\\\"]=true, this.model[\\\"index\\\"](val)) : undefined})\")]), WebIO.ConnectionPool(Channel{Any}(32), Set{AbstractConnection}(), Condition(Base.InvasiveLinkedList{Task}(Task (runnable) @0x0000000118fffca0, Task (runnable) @0x0000000118fffca0), Base.AlwaysLockedST(1))), WebIO.JSString[WebIO.JSString(\"function () {\\n    var handler = (function (ko, koPunches) {\\n    ko.punches.enableAll();\\n    ko.bindingHandlers.numericValue = {\\n        init: function(element, valueAccessor, allBindings, data, context) {\\n            var stringified = ko.observable(ko.unwrap(valueAccessor()));\\n            stringified.subscribe(function(value) {\\n                var val = parseFloat(value);\\n                if (!isNaN(val)) {\\n                    valueAccessor()(val);\\n                }\\n            });\\n            valueAccessor().subscribe(function(value) {\\n                var str = JSON.stringify(value);\\n                if ((str == \\\"0\\\") && ([\\\"-0\\\", \\\"-0.\\\"].indexOf(stringified()) >= 0))\\n                     return;\\n                 if ([\\\"null\\\", \\\"\\\"].indexOf(str) >= 0)\\n                     return;\\n                stringified(str);\\n            });\\n            ko.applyBindingsToNode(\\n                element,\\n                {\\n                    value: stringified,\\n                    valueUpdate: allBindings.get('valueUpdate'),\\n                },\\n                context,\\n            );\\n        }\\n    };\\n    var json_data = {\\\"formatted_vals\\\":[\\\"0.0\\\",\\\"0.02\\\",\\\"0.04\\\",\\\"0.06\\\",\\\"0.08\\\",\\\"0.1\\\",\\\"0.12\\\",\\\"0.14\\\",\\\"0.16\\\",\\\"0.18\\\",\\\"0.2\\\",\\\"0.22\\\",\\\"0.24\\\",\\\"0.26\\\",\\\"0.28\\\",\\\"0.3\\\",\\\"0.32\\\",\\\"0.34\\\",\\\"0.36\\\",\\\"0.38\\\",\\\"0.4\\\",\\\"0.42\\\",\\\"0.44\\\",\\\"0.46\\\",\\\"0.48\\\",\\\"0.5\\\",\\\"0.52\\\",\\\"0.54\\\",\\\"0.56\\\",\\\"0.58\\\",\\\"0.6\\\",\\\"0.62\\\",\\\"0.64\\\",\\\"0.66\\\",\\\"0.68\\\",\\\"0.7\\\",\\\"0.72\\\",\\\"0.74\\\",\\\"0.76\\\",\\\"0.78\\\",\\\"0.8\\\",\\\"0.82\\\",\\\"0.84\\\",\\\"0.86\\\",\\\"0.88\\\",\\\"0.9\\\",\\\"0.92\\\",\\\"0.94\\\",\\\"0.96\\\",\\\"0.98\\\",\\\"1.0\\\"],\\\"changes\\\":WebIO.getval({\\\"name\\\":\\\"changes\\\",\\\"scope\\\":\\\"11689196639228049528\\\",\\\"id\\\":\\\"12369733734533467090\\\",\\\"type\\\":\\\"observable\\\"}),\\\"index\\\":WebIO.getval({\\\"name\\\":\\\"index\\\",\\\"scope\\\":\\\"11689196639228049528\\\",\\\"id\\\":\\\"12677221810028248707\\\",\\\"type\\\":\\\"observable\\\"})};\\n    var self = this;\\n    function AppViewModel() {\\n        for (var key in json_data) {\\n            var el = json_data[key];\\n            this[key] = Array.isArray(el) ? ko.observableArray(el) : ko.observable(el);\\n        }\\n        \\n        [this[\\\"formatted_val\\\"]=ko.computed(    function(){\\n        return this.formatted_vals()[parseInt(this.index())-(1)];\\n    }\\n,this)]\\n        [this[\\\"changes\\\"].subscribe((function (val){!(this.valueFromJulia[\\\"changes\\\"]) ? (WebIO.setval({\\\"name\\\":\\\"changes\\\",\\\"scope\\\":\\\"11689196639228049528\\\",\\\"id\\\":\\\"12369733734533467090\\\",\\\"type\\\":\\\"observable\\\"},val)) : undefined; return this.valueFromJulia[\\\"changes\\\"]=false}),self),this[\\\"index\\\"].subscribe((function (val){!(this.valueFromJulia[\\\"index\\\"]) ? (WebIO.setval({\\\"name\\\":\\\"index\\\",\\\"scope\\\":\\\"11689196639228049528\\\",\\\"id\\\":\\\"12677221810028248707\\\",\\\"type\\\":\\\"observable\\\"},val)) : undefined; return this.valueFromJulia[\\\"index\\\"]=false}),self)]\\n        \\n    }\\n    self.model = new AppViewModel();\\n    self.valueFromJulia = {};\\n    for (var key in json_data) {\\n        self.valueFromJulia[key] = false;\\n    }\\n    ko.applyBindings(self.model, self.dom);\\n}\\n);\\n    (WebIO.importBlock({\\\"data\\\":[{\\\"name\\\":\\\"knockout\\\",\\\"type\\\":\\\"js\\\",\\\"url\\\":\\\"/assetserver/0fc6d61518197b1bf9b23217e9be1d2e00f2bb14-knockout.js\\\"},{\\\"name\\\":\\\"knockout_punches\\\",\\\"type\\\":\\\"js\\\",\\\"url\\\":\\\"/assetserver/24c12264eef2b01f723a21985ba5661f5564d7cf-knockout_punches.js\\\"}],\\\"type\\\":\\\"async_block\\\"})).then((imports) => handler.apply(this, imports));\\n}\\n\")])], Dict{Symbol, Any}(:className => \"field interact-widget\"))\n",
       "    Node{WebIO.DOM}(WebIO.DOM(:html, :div), Any[Scope(Node{WebIO.DOM}(WebIO.DOM(:html, :div), Any[Node{WebIO.DOM}(WebIO.DOM(:html, :div), Any[Node{WebIO.DOM}(WebIO.DOM(:html, :label), Any[\"K1CH\"], Dict{Symbol, Any}(:className => \"interact \", :style => Dict{Any, Any}(:padding => \"5px 10px 0px 10px\")))], Dict{Symbol, Any}(:className => \"interact-flex-row-left\")), Node{WebIO.DOM}(WebIO.DOM(:html, :div), Any[Node{WebIO.DOM}(WebIO.DOM(:html, :input), Any[], Dict{Symbol, Any}(:max => 101, :default => 0, :attributes => Dict{Any, Any}(:type => \"range\", Symbol(\"data-bind\") => \"numericValue: index, valueUpdate: 'input', event: {change: function (){this.changes(this.changes()+1)}}\", \"orient\" => \"horizontal\"), :min => 1, :step => 1, :className => \"slider slider is-fullwidth\", :style => Dict{Any, Any}()))], Dict{Symbol, Any}(:className => \"interact-flex-row-center\")), Node{WebIO.DOM}(WebIO.DOM(:html, :div), Any[Node{WebIO.DOM}(WebIO.DOM(:html, :p), Any[], Dict{Symbol, Any}(:attributes => Dict(\"data-bind\" => \"text: formatted_val\")))], Dict{Symbol, Any}(:className => \"interact-flex-row-right\"))], Dict{Symbol, Any}(:className => \"interact-flex-row interact-widget\")), Dict{String, Tuple{Observables.AbstractObservable, Union{Nothing, Bool}}}(\"changes\" => (Observable{Int64} with 1 listeners. Value:\n",
       "0, nothing), \"index\" => (Observable{Any} with 2 listeners. Value:\n",
       "51, nothing)), Set{String}(), nothing, Asset[Asset(\"js\", \"knockout\", \"/Users/johnsmith/.julia/packages/Knockout/IP1uR/src/../assets/knockout.js\"), Asset(\"js\", \"knockout_punches\", \"/Users/johnsmith/.julia/packages/Knockout/IP1uR/src/../assets/knockout_punches.js\"), Asset(\"js\", nothing, \"/Users/johnsmith/.julia/packages/InteractBase/Zfu5P/src/../assets/all.js\"), Asset(\"css\", nothing, \"/Users/johnsmith/.julia/packages/InteractBase/Zfu5P/src/../assets/style.css\"), Asset(\"css\", nothing, \"/Users/johnsmith/.julia/packages/Interact/SbgIk/src/../assets/bulma_confined.min.css\")], Dict{Any, Any}(\"changes\" => Any[WebIO.JSString(\"(function (val){return (val!=this.model[\\\"changes\\\"]()) ? (this.valueFromJulia[\\\"changes\\\"]=true, this.model[\\\"changes\\\"](val)) : undefined})\")], \"index\" => Any[WebIO.JSString(\"(function (val){return (val!=this.model[\\\"index\\\"]()) ? (this.valueFromJulia[\\\"index\\\"]=true, this.model[\\\"index\\\"](val)) : undefined})\")]), WebIO.ConnectionPool(Channel{Any}(32), Set{AbstractConnection}(), Condition(Base.InvasiveLinkedList{Task}(Task (runnable) @0x0000000118fffec0, Task (runnable) @0x0000000118fffec0), Base.AlwaysLockedST(1))), WebIO.JSString[WebIO.JSString(\"function () {\\n    var handler = (function (ko, koPunches) {\\n    ko.punches.enableAll();\\n    ko.bindingHandlers.numericValue = {\\n        init: function(element, valueAccessor, allBindings, data, context) {\\n            var stringified = ko.observable(ko.unwrap(valueAccessor()));\\n            stringified.subscribe(function(value) {\\n                var val = parseFloat(value);\\n                if (!isNaN(val)) {\\n                    valueAccessor()(val);\\n                }\\n            });\\n            valueAccessor().subscribe(function(value) {\\n                var str = JSON.stringify(value);\\n                if ((str == \\\"0\\\") && ([\\\"-0\\\", \\\"-0.\\\"].indexOf(stringified()) >= 0))\\n                     return;\\n                 if ([\\\"null\\\", \\\"\\\"].indexOf(str) >= 0)\\n                     return;\\n                stringified(str);\\n            });\\n            ko.applyBindingsToNode(\\n                element,\\n                {\\n                    value: stringified,\\n                    valueUpdate: allBindings.get('valueUpdate'),\\n                },\\n                context,\\n            );\\n        }\\n    };\\n    var json_data = {\\\"formatted_vals\\\":[\\\"0.0\\\",\\\"0.05\\\",\\\"0.1\\\",\\\"0.15\\\",\\\"0.2\\\",\\\"0.25\\\",\\\"0.3\\\",\\\"0.35\\\",\\\"0.4\\\",\\\"0.45\\\",\\\"0.5\\\",\\\"0.55\\\",\\\"0.6\\\",\\\"0.65\\\",\\\"0.7\\\",\\\"0.75\\\",\\\"0.8\\\",\\\"0.85\\\",\\\"0.9\\\",\\\"0.95\\\",\\\"1.0\\\",\\\"1.05\\\",\\\"1.1\\\",\\\"1.15\\\",\\\"1.2\\\",\\\"1.25\\\",\\\"1.3\\\",\\\"1.35\\\",\\\"1.4\\\",\\\"1.45\\\",\\\"1.5\\\",\\\"1.55\\\",\\\"1.6\\\",\\\"1.65\\\",\\\"1.7\\\",\\\"1.75\\\",\\\"1.8\\\",\\\"1.85\\\",\\\"1.9\\\",\\\"1.95\\\",\\\"2.0\\\",\\\"2.05\\\",\\\"2.1\\\",\\\"2.15\\\",\\\"2.2\\\",\\\"2.25\\\",\\\"2.3\\\",\\\"2.35\\\",\\\"2.4\\\",\\\"2.45\\\",\\\"2.5\\\",\\\"2.55\\\",\\\"2.6\\\",\\\"2.65\\\",\\\"2.7\\\",\\\"2.75\\\",\\\"2.8\\\",\\\"2.85\\\",\\\"2.9\\\",\\\"2.95\\\",\\\"3.0\\\",\\\"3.05\\\",\\\"3.1\\\",\\\"3.15\\\",\\\"3.2\\\",\\\"3.25\\\",\\\"3.3\\\",\\\"3.35\\\",\\\"3.4\\\",\\\"3.45\\\",\\\"3.5\\\",\\\"3.55\\\",\\\"3.6\\\",\\\"3.65\\\",\\\"3.7\\\",\\\"3.75\\\",\\\"3.8\\\",\\\"3.85\\\",\\\"3.9\\\",\\\"3.95\\\",\\\"4.0\\\",\\\"4.05\\\",\\\"4.1\\\",\\\"4.15\\\",\\\"4.2\\\",\\\"4.25\\\",\\\"4.3\\\",\\\"4.35\\\",\\\"4.4\\\",\\\"4.45\\\",\\\"4.5\\\",\\\"4.55\\\",\\\"4.6\\\",\\\"4.65\\\",\\\"4.7\\\",\\\"4.75\\\",\\\"4.8\\\",\\\"4.85\\\",\\\"4.9\\\",\\\"4.95\\\",\\\"5.0\\\"],\\\"changes\\\":WebIO.getval({\\\"name\\\":\\\"changes\\\",\\\"scope\\\":\\\"12884572856729760348\\\",\\\"id\\\":\\\"3980636662701196274\\\",\\\"type\\\":\\\"observable\\\"}),\\\"index\\\":WebIO.getval({\\\"name\\\":\\\"index\\\",\\\"scope\\\":\\\"12884572856729760348\\\",\\\"id\\\":\\\"14662884455030579210\\\",\\\"type\\\":\\\"observable\\\"})};\\n    var self = this;\\n    function AppViewModel() {\\n        for (var key in json_data) {\\n            var el = json_data[key];\\n            this[key] = Array.isArray(el) ? ko.observableArray(el) : ko.observable(el);\\n        }\\n        \\n        [this[\\\"formatted_val\\\"]=ko.computed(    function(){\\n        return this.formatted_vals()[parseInt(this.index())-(1)];\\n    }\\n,this)]\\n        [this[\\\"changes\\\"].subscribe((function (val){!(this.valueFromJulia[\\\"changes\\\"]) ? (WebIO.setval({\\\"name\\\":\\\"changes\\\",\\\"scope\\\":\\\"12884572856729760348\\\",\\\"id\\\":\\\"3980636662701196274\\\",\\\"type\\\":\\\"observable\\\"},val)) : undefined; return this.valueFromJulia[\\\"changes\\\"]=false}),self),this[\\\"index\\\"].subscribe((function (val){!(this.valueFromJulia[\\\"index\\\"]) ? (WebIO.setval({\\\"name\\\":\\\"index\\\",\\\"scope\\\":\\\"12884572856729760348\\\",\\\"id\\\":\\\"14662884455030579210\\\",\\\"type\\\":\\\"observable\\\"},val)) : undefined; return this.valueFromJulia[\\\"index\\\"]=false}),self)]\\n        \\n    }\\n    self.model = new AppViewModel();\\n    self.valueFromJulia = {};\\n    for (var key in json_data) {\\n        self.valueFromJulia[key] = false;\\n    }\\n    ko.applyBindings(self.model, self.dom);\\n}\\n);\\n    (WebIO.importBlock({\\\"data\\\":[{\\\"name\\\":\\\"knockout\\\",\\\"type\\\":\\\"js\\\",\\\"url\\\":\\\"/assetserver/0fc6d61518197b1bf9b23217e9be1d2e00f2bb14-knockout.js\\\"},{\\\"name\\\":\\\"knockout_punches\\\",\\\"type\\\":\\\"js\\\",\\\"url\\\":\\\"/assetserver/24c12264eef2b01f723a21985ba5661f5564d7cf-knockout_punches.js\\\"}],\\\"type\\\":\\\"async_block\\\"})).then((imports) => handler.apply(this, imports));\\n}\\n\")])], Dict{Symbol, Any}(:className => \"field interact-widget\")))\n",
       "  Observable{Any} with 0 listeners. Value:\n",
       "Node{WebIO.DOM}(WebIO.DOM(:html, :div), Any[], Dict{Symbol, Any}())\n",
       "  Node{WebIO.DOM}(WebIO.DOM(:html, :div), Any[Observable{Any} with 0 listeners. Value:\n",
       "Node{WebIO.DOM}(WebIO.DOM(:html, :div), Any[], Dict{Symbol, Any}()), Node{WebIO.DOM}(WebIO.DOM(:html, :div), Any[Scope(Node{WebIO.DOM}(WebIO.DOM(:html, :div), Any[Node{WebIO.DOM}(WebIO.DOM(:html, :div), Any[Node{WebIO.DOM}(WebIO.DOM(:html, :label), Any[\"2^n els/wnd\"], Dict{Symbol, Any}(:className => \"interact \", :style => Dict{Any, Any}(:padding => \"5px 10px 0px 10px\")))], Dict{Symbol, Any}(:className => \"interact-flex-row-left\")), Node{WebIO.DOM}(WebIO.DOM(:html, :div), Any[Node{WebIO.DOM}(WebIO.DOM(:html, :input), Any[], Dict{Symbol, Any}(:max => 15, :default => 7.5, :attributes => Dict{Any, Any}(:type => \"range\", Symbol(\"data-bind\") => \"numericValue: index, valueUpdate: 'input', event: {change: function (){this.changes(this.changes()+1)}}\", \"orient\" => \"horizontal\"), :min => 1, :step => 1, :className => \"slider slider is-fullwidth\", :style => Dict{Any, Any}()))], Dict{Symbol, Any}(:className => \"interact-flex-row-center\")), Node{WebIO.DOM}(WebIO.DOM(:html, :div), Any[Node{WebIO.DOM}(WebIO.DOM(:html, :p), Any[], Dict{Symbol, Any}(:attributes => Dict(\"data-bind\" => \"text: formatted_val\")))], Dict{Symbol, Any}(:className => \"interact-flex-row-right\"))], Dict{Symbol, Any}(:className => \"interact-flex-row interact-widget\")), Dict{String, Tuple{Observables.AbstractObservable, Union{Nothing, Bool}}}(\"changes\" => (Observable{Int64} with 1 listeners. Value:\n",
       "0, nothing), \"index\" => (Observable{Int64} with 2 listeners. Value:\n",
       "8, nothing)), Set{String}(), nothing, Asset[Asset(\"js\", \"knockout\", \"/Users/johnsmith/.julia/packages/Knockout/IP1uR/src/../assets/knockout.js\"), Asset(\"js\", \"knockout_punches\", \"/Users/johnsmith/.julia/packages/Knockout/IP1uR/src/../assets/knockout_punches.js\"), Asset(\"js\", nothing, \"/Users/johnsmith/.julia/packages/InteractBase/Zfu5P/src/../assets/all.js\"), Asset(\"css\", nothing, \"/Users/johnsmith/.julia/packages/InteractBase/Zfu5P/src/../assets/style.css\"), Asset(\"css\", nothing, \"/Users/johnsmith/.julia/packages/Interact/SbgIk/src/../assets/bulma_confined.min.css\")], Dict{Any, Any}(\"changes\" => Any[WebIO.JSString(\"(function (val){return (val!=this.model[\\\"changes\\\"]()) ? (this.valueFromJulia[\\\"changes\\\"]=true, this.model[\\\"changes\\\"](val)) : undefined})\")], \"index\" => Any[WebIO.JSString(\"(function (val){return (val!=this.model[\\\"index\\\"]()) ? (this.valueFromJulia[\\\"index\\\"]=true, this.model[\\\"index\\\"](val)) : undefined})\")]), WebIO.ConnectionPool(Channel{Any}(32), Set{AbstractConnection}(), Condition(Base.InvasiveLinkedList{Task}(Task (runnable) @0x0000000117fd0120, Task (runnable) @0x0000000117fd0120), Base.AlwaysLockedST(1))), WebIO.JSString[WebIO.JSString(\"function () {\\n    var handler = (function (ko, koPunches) {\\n    ko.punches.enableAll();\\n    ko.bindingHandlers.numericValue = {\\n        init: function(element, valueAccessor, allBindings, data, context) {\\n            var stringified = ko.observable(ko.unwrap(valueAccessor()));\\n            stringified.subscribe(function(value) {\\n                var val = parseFloat(value);\\n                if (!isNaN(val)) {\\n                    valueAccessor()(val);\\n                }\\n            });\\n            valueAccessor().subscribe(function(value) {\\n                var str = JSON.stringify(value);\\n                if ((str == \\\"0\\\") && ([\\\"-0\\\", \\\"-0.\\\"].indexOf(stringified()) >= 0))\\n                     return;\\n                 if ([\\\"null\\\", \\\"\\\"].indexOf(str) >= 0)\\n                     return;\\n                stringified(str);\\n            });\\n            ko.applyBindingsToNode(\\n                element,\\n                {\\n                    value: stringified,\\n                    valueUpdate: allBindings.get('valueUpdate'),\\n                },\\n                context,\\n            );\\n        }\\n    };\\n    var json_data = {\\\"formatted_vals\\\":[\\\"1\\\",\\\"2\\\",\\\"3\\\",\\\"4\\\",\\\"5\\\",\\\"6\\\",\\\"7\\\",\\\"8\\\",\\\"9\\\",\\\"10\\\",\\\"11\\\",\\\"12\\\",\\\"13\\\",\\\"14\\\",\\\"15\\\"],\\\"changes\\\":WebIO.getval({\\\"name\\\":\\\"changes\\\",\\\"scope\\\":\\\"10468503492216660598\\\",\\\"id\\\":\\\"7097194882664695418\\\",\\\"type\\\":\\\"observable\\\"}),\\\"index\\\":WebIO.getval({\\\"name\\\":\\\"index\\\",\\\"scope\\\":\\\"10468503492216660598\\\",\\\"id\\\":\\\"17023710758350303429\\\",\\\"type\\\":\\\"observable\\\"})};\\n    var self = this;\\n    function AppViewModel() {\\n        for (var key in json_data) {\\n            var el = json_data[key];\\n            this[key] = Array.isArray(el) ? ko.observableArray(el) : ko.observable(el);\\n        }\\n        \\n        [this[\\\"formatted_val\\\"]=ko.computed(    function(){\\n        return this.formatted_vals()[parseInt(this.index())-(1)];\\n    }\\n,this)]\\n        [this[\\\"changes\\\"].subscribe((function (val){!(this.valueFromJulia[\\\"changes\\\"]) ? (WebIO.setval({\\\"name\\\":\\\"changes\\\",\\\"scope\\\":\\\"10468503492216660598\\\",\\\"id\\\":\\\"7097194882664695418\\\",\\\"type\\\":\\\"observable\\\"},val)) : undefined; return this.valueFromJulia[\\\"changes\\\"]=false}),self),this[\\\"index\\\"].subscribe((function (val){!(this.valueFromJulia[\\\"index\\\"]) ? (WebIO.setval({\\\"name\\\":\\\"index\\\",\\\"scope\\\":\\\"10468503492216660598\\\",\\\"id\\\":\\\"17023710758350303429\\\",\\\"type\\\":\\\"observable\\\"},val)) : undefined; return this.valueFromJulia[\\\"index\\\"]=false}),self)]\\n        \\n    }\\n    self.model = new AppViewModel();\\n    self.valueFromJulia = {};\\n    for (var key in json_data) {\\n        self.valueFromJulia[key] = false;\\n    }\\n    ko.applyBindings(self.model, self.dom);\\n}\\n);\\n    (WebIO.importBlock({\\\"data\\\":[{\\\"name\\\":\\\"knockout\\\",\\\"type\\\":\\\"js\\\",\\\"url\\\":\\\"/assetserver/0fc6d61518197b1bf9b23217e9be1d2e00f2bb14-knockout.js\\\"},{\\\"name\\\":\\\"knockout_punches\\\",\\\"type\\\":\\\"js\\\",\\\"url\\\":\\\"/assetserver/24c12264eef2b01f723a21985ba5661f5564d7cf-knockout_punches.js\\\"}],\\\"type\\\":\\\"async_block\\\"})).then((imports) => handler.apply(this, imports));\\n}\\n\")])], Dict{Symbol, Any}(:className => \"field interact-widget\"))], Dict{Symbol, Any}(:style => Dict(\"display\" => \"flex\", \"flex-direction\" => \"column\"))))"
      ]
     },
     "execution_count": 91,
     "metadata": {
      "application/vnd.webio.node+json": {
       "kernelId": "c7c1f80c-c722-4f4c-8223-de0266a7edaf"
      }
     },
     "output_type": "execute_result"
    }
   ],
   "source": [
    "arlen = nrow(vdf) \n",
    "wsl = window_slider(arlen, subs=3); \n",
    "rng = Interact.@map &wsl\n",
    "\n",
    "plot_box = Observable{Any}(dom\"div\"())\n",
    "res_box = Observable{Any}(dom\"div\"())\n",
    "\n",
    "# tplagHsl = slider(0:5:600; label=\"tplagHsl\", default=14); tplagHsl[] = 30;\n",
    "# tplagHs = Interact.@map  [fill(hh[1], &tplagHsl)..., [maximum(hh[i-&tplagHsl:i]) for i in &tplagHsl+1:arlen]...]\n",
    "\n",
    "slCoolOff = slider(0:5:600; label=\"cool\", default=30); slCoolOff[]=30;\n",
    "# tracksl = slider(0:5:600; label=\"track\", default=30); tracksl[]=30;\n",
    "\n",
    "slStopLoss = slider(0:0.05:10; label=\"stop\", default=14); slStopLoss[] = 2;\n",
    "slTarget = slider(0:0.2:10; label=\"tgt\", default=14); slTarget[] = 1;\n",
    "\n",
    "slKama1N = slider(0:10:400; label=\"K1N\", default=50); slKama1N[] = 10;\n",
    "slKama1Fast = slider(0:0.02:1; label=\"K1F\", default=0.6); slKama1Fast[] = 0.6667; \n",
    "slKama1Slow = slider(0:0.02:1; label=\"K1S\", default=0.0645); slKama1Slow[] = 0.0645;\n",
    "slKama1Channel= slider(0:0.05:5; label=\"K1CH\", default=0); \n",
    "\n",
    "iKama1 = Interact.@map kama(vdf.close, n=&slKama1N, nfast=&slKama1Fast, nslow=&slKama1Slow)\n",
    "iKama1ChannelL = Interact.@map &iKama1 * (1-&slKama1Channel/100) \n",
    "dfoa = Observable{DataFrame}(DataFrame(ut = 0, tt=DateTime(0), oix =0, order = :long, reason = :init, price = 0, stop = 0, target=0,\n",
    "                qty = 0, pnl = 0, capital = 10000));\n",
    "# dfoa = []\n",
    "\n",
    "function get_results(dfo)\n",
    "    buys = filter(row -> row.reason == :enter, dfo)\n",
    "    losses = filter(row -> row.reason == :exit && row.pnl < 0, dfo)\n",
    "    profits = filter(row -> row.reason == :exit && row.pnl > 0, dfo)\n",
    "    no_losses = nrow(losses)\n",
    "    no_profits = nrow(profits)\n",
    "    tot_losses = Int(trunc(sum((losses).pnl)))\n",
    "    tot_profits = Int(trunc(sum((profits).pnl)))\n",
    "    (buys,losses,profits,no_losses,no_profits,tot_losses,tot_profits)\n",
    "end\n",
    "\n",
    "dff = dateformat\"mm-dd\"\n",
    "dfft = dateformat\"mm-dd HH:MM\"\n",
    "function draw_it_all(rng, iKama1, iKamaChannelL, dfo)\n",
    "    wut = vdf.unix_time[rng]\n",
    "    wtt = vdf.time[rng]\n",
    "    if length(wut) == 0 return dom\"div\"( \"Loading...\" )end\n",
    "    if nrow(dfo) == 0 return dom\"div\"( \"Loading...\" )end\n",
    "    wst = first(rng); wed = last(rng)\n",
    "    \n",
    "    (buys,losses,profits,no_losses,no_profits,tot_losses,tot_profits) = get_results(dfo)\n",
    "    wdfo = filter(row -> (row.ut >= first(wut) && row.ut <= last(wut)), dfo, view=false)\n",
    "    (wbuys,wlosses,wprofits,wno_losses,wno_profits,wtot_losses,wtot_profits) = get_results(wdfo)\n",
    "    \n",
    "    \n",
    "    \n",
    "    f2 = plot(wut, vdf.close[rng])\n",
    "    plot!(wut, vdf.low[rng], lw=0.5)\n",
    "    plot!(wut, iKama1[rng], lw=0.5)\n",
    "    plot!(wut, iKamaChannelL[rng], fillrange=iKama1[rng], lw=0, fillalpha=0.2)\n",
    "    \n",
    "    if nrow(wbuys) > 0  vline!(wbuys.ut,lw=0.5, color=:blue); scatter!(wbuys.ut, wbuys.price, markersize=2, color=:blue) end\n",
    "    if nrow(wprofits) > 0 vline!(wprofits.ut,lw=0.5, color=:green); scatter!(wprofits.ut, wprofits.price, markersize=2, color=:green) end\n",
    "    if nrow(wlosses) > 0 vline!(wlosses.ut,lw=0.5, color=:red); scatter!(wlosses.ut, wlosses.price, markersize=2, color=:red) end\n",
    "\n",
    "    p2 = plot(dfo.capital)\n",
    "#     vline!([wst,wed])\n",
    "    wp2 = plot(wdfo.capital)\n",
    "    \n",
    "    l = @layout [\n",
    "    a{0.7w} [grid(2,1)\n",
    "    #              b{0.2h}  \n",
    "                ]\n",
    "    ]\n",
    "    pm = plot(\n",
    "       f2,wp2, p2,\n",
    "        layout = l, size=(1500,400),legend=false        \n",
    "    )\n",
    "    \n",
    "    dom\"div\"( \n",
    "            dom\"div\"(\n",
    "                (\n",
    "                    \"$(Dates.format(first(vdf.time),dff))/$(Dates.format(last(vdf.time),dff))\",\n",
    "                    \"$no_losses/$no_profits  $tot_losses/$tot_profits    $(tot_profits+tot_losses)\",\n",
    "                )\n",
    "            ),\n",
    "            dom\"div\"(\n",
    "                (\n",
    "                    \"$(Dates.format(first(wtt),dfft))/$(Dates.format(last(wtt),dfft))\",\n",
    "                    \"$wno_losses/$wno_profits  $wtot_losses/$wtot_profits    $(wtot_profits+wtot_losses)\"\n",
    "                )\n",
    "            ),\n",
    "    pm) \n",
    "end\n",
    "\n",
    "ui = dom\"div\"(\n",
    "        hbox(slStopLoss,slTarget,slCoolOff),\n",
    "        hbox(slKama1N,slKama1Fast,slKama1Slow, slKama1Channel),\n",
    "        plot_box,wsl\n",
    "    )\n",
    "\n",
    "dfoi = Interact.@map backtest(vdf, merge(params, Dict(\n",
    "            :qfee => 0.001,\n",
    "            :interval => 600:length(vdf.close),\n",
    "            :capital => 10000,\n",
    "            :iKama1ChannelL => &iKama1ChannelL,\n",
    "            :slStopLoss => &slStopLoss,\n",
    "            :slCoolOff => &slCoolOff,\n",
    "            :slTarget => &slTarget\n",
    "        )), \n",
    "        shouldEnter=shouldEnter, getEntry=getEntry, shouldExit=shouldExit); \n",
    "connect!(dfoi, dfoa)\n",
    "\n",
    "\n",
    "# wsl[:log2_slider][] = 12\n",
    "map!(draw_it_all, plot_box, rng, iKama1, iKama1ChannelL, dfoa)\n",
    "ui\n",
    "\n",
    "\n"
   ]
  },
  {
   "cell_type": "code",
   "execution_count": 92,
   "id": "642c07fd",
   "metadata": {},
   "outputs": [
    {
     "data": {
      "text/plain": [
       "230"
      ]
     },
     "execution_count": 92,
     "metadata": {},
     "output_type": "execute_result"
    }
   ],
   "source": [
    "params = rjsonf(\"params.json\")\n",
    "# eval(Meta.parse(reduce(*, [\"params[\\\"interactive\\\"][\\\"$key\\\"]=$key[];\" for (key, value) in params[\"interactive\"]])));wjsonf(\"params.json\",params)\n",
    "\n",
    "eval(Meta.parse(reduce(*, [\"$key[]=$value;\" for (key, value) in rjsonf(\"params.json\")[\"interactive\"] ])))\n"
   ]
  },
  {
   "cell_type": "code",
   "execution_count": 23,
   "id": "18f39b2a",
   "metadata": {},
   "outputs": [
    {
     "data": {
      "text/plain": [
       "1"
      ]
     },
     "execution_count": 23,
     "metadata": {},
     "output_type": "execute_result"
    }
   ],
   "source": [
    "params = rjsonf(\"params.json\")\n",
    "pari = params[\"interactive\"]\n",
    "# params[\"test\"] = 666\n",
    "# wjsonf(\"params.json\",params)\n",
    "# params\n",
    "\n",
    "iKama1 = kama(vdf.close, n=pari[\"slKama1N\"], nfast=pari[\"slKama1Fast\"], nslow=pari[\"slKama1Slow\"])\n",
    "iKama1ChannelL = iKama1 * (1-pari[\"slKama1Channel\"]/100) \n",
    "\n",
    "qfee = 0.001\n",
    "capital = 10000\n",
    "risk_per_trade = 0.01\n",
    "\n",
    "function getEntrySize(capital, risk_per_trade, enter_price, stop_price)\n",
    "    risk_size = capital * risk_per_trade\n",
    "    risk_price_range = (enter_price - stop_price)\n",
    "    qty = risk_size / risk_price_range\n",
    "end\n",
    "shouldEnter = ((p,i,ord) -> (!(ord.pnl < 0 && i - ord.oix < p[:slCoolOff] ) && vdf.close[i] < p[:iKama1ChannelL][i]) ?\n",
    "    (true,:long) :\n",
    "    (false, :none)\n",
    ");\n",
    "\n",
    "shouldExit = (p, i, ord) -> (\n",
    "            ord.qty > 0 ? (\n",
    "                vdf.high[i] >= ord.target ? (true, ord.target*(1-p[:qfee])) :\n",
    "                vdf.low[i] <= ord.stop ? (true, ord.stop*(1-p[:qfee]) ) : \n",
    "                (false, 0)                \n",
    "            ) : \n",
    "                (false, 0)\n",
    "            );\n",
    "\n",
    "getEntry = (order_type, p, i) -> begin \n",
    "    enter_price, stop_price, target_price = (vdf.close[i], vdf.close[i] * (1 - p[:slStopLoss]/100), vdf.close[i] * (1+ p[:slTarget]/100))\n",
    "    qty = getEntrySize(capital, risk_per_trade, enter_price, stop_price)\n",
    "    return ( enter_price, stop_price, target_price, qty)\n",
    "end\n",
    "p = merge(params, Dict(\n",
    "            :qfee => 0.001,\n",
    "            :interval => 600:length(vdf.close),\n",
    "            :capital => 10000,\n",
    "            :iKama1ChannelL => iKama1ChannelL\n",
    "        ));\n",
    "# dfo = backtest(vdf, p ,\n",
    "#         shouldEnter = shouldEnter,    \n",
    "#         getEntry = getEntry,\n",
    "#         shouldExit = shouldExit\n",
    "#     )\n",
    "1"
   ]
  },
  {
   "cell_type": "code",
   "execution_count": 11,
   "id": "d6ce73e7",
   "metadata": {},
   "outputs": [],
   "source": [
    "params = rjsonf(\"params.json\")\n",
    "for (key, value) in params[\"interactive\"]\n",
    "#     println(\"$key[]=$value\")\n",
    "#     eval()\n",
    "end\n",
    "\n"
   ]
  },
  {
   "cell_type": "code",
   "execution_count": 67,
   "id": "fd2572f5",
   "metadata": {},
   "outputs": [
    {
     "data": {
      "image/svg+xml": [
       "<?xml version=\"1.0\" encoding=\"utf-8\"?>\n",
       "<svg xmlns=\"http://www.w3.org/2000/svg\" xmlns:xlink=\"http://www.w3.org/1999/xlink\" width=\"600\" height=\"400\" viewBox=\"0 0 2400 1600\">\n",
       "<defs>\n",
       "  <clipPath id=\"clip600\">\n",
       "    <rect x=\"0\" y=\"0\" width=\"2400\" height=\"1600\"/>\n",
       "  </clipPath>\n",
       "</defs>\n",
       "<path clip-path=\"url(#clip600)\" d=\"\n",
       "M0 1600 L2400 1600 L2400 0 L0 0  Z\n",
       "  \" fill=\"#ffffff\" fill-rule=\"evenodd\" fill-opacity=\"1\"/>\n",
       "<defs>\n",
       "  <clipPath id=\"clip601\">\n",
       "    <rect x=\"480\" y=\"0\" width=\"1681\" height=\"1600\"/>\n",
       "  </clipPath>\n",
       "</defs>\n",
       "<path clip-path=\"url(#clip600)\" d=\"\n",
       "M231.042 1474.16 L2352.76 1474.16 L2352.76 47.2441 L231.042 47.2441  Z\n",
       "  \" fill=\"#ffffff\" fill-rule=\"evenodd\" fill-opacity=\"1\"/>\n",
       "<defs>\n",
       "  <clipPath id=\"clip602\">\n",
       "    <rect x=\"231\" y=\"47\" width=\"2123\" height=\"1428\"/>\n",
       "  </clipPath>\n",
       "</defs>\n",
       "<polyline clip-path=\"url(#clip602)\" style=\"stroke:#000000; stroke-linecap:butt; stroke-linejoin:round; stroke-width:2; stroke-opacity:0.1; fill:none\" points=\"\n",
       "  290.964,1474.16 290.964,47.2441 \n",
       "  \"/>\n",
       "<polyline clip-path=\"url(#clip602)\" style=\"stroke:#000000; stroke-linecap:butt; stroke-linejoin:round; stroke-width:2; stroke-opacity:0.1; fill:none\" points=\"\n",
       "  922.788,1474.16 922.788,47.2441 \n",
       "  \"/>\n",
       "<polyline clip-path=\"url(#clip602)\" style=\"stroke:#000000; stroke-linecap:butt; stroke-linejoin:round; stroke-width:2; stroke-opacity:0.1; fill:none\" points=\"\n",
       "  1554.61,1474.16 1554.61,47.2441 \n",
       "  \"/>\n",
       "<polyline clip-path=\"url(#clip602)\" style=\"stroke:#000000; stroke-linecap:butt; stroke-linejoin:round; stroke-width:2; stroke-opacity:0.1; fill:none\" points=\"\n",
       "  2186.43,1474.16 2186.43,47.2441 \n",
       "  \"/>\n",
       "<polyline clip-path=\"url(#clip600)\" style=\"stroke:#000000; stroke-linecap:butt; stroke-linejoin:round; stroke-width:4; stroke-opacity:1; fill:none\" points=\"\n",
       "  231.042,1474.16 2352.76,1474.16 \n",
       "  \"/>\n",
       "<polyline clip-path=\"url(#clip600)\" style=\"stroke:#000000; stroke-linecap:butt; stroke-linejoin:round; stroke-width:4; stroke-opacity:1; fill:none\" points=\"\n",
       "  290.964,1474.16 290.964,1457.04 \n",
       "  \"/>\n",
       "<polyline clip-path=\"url(#clip600)\" style=\"stroke:#000000; stroke-linecap:butt; stroke-linejoin:round; stroke-width:4; stroke-opacity:1; fill:none\" points=\"\n",
       "  922.788,1474.16 922.788,1457.04 \n",
       "  \"/>\n",
       "<polyline clip-path=\"url(#clip600)\" style=\"stroke:#000000; stroke-linecap:butt; stroke-linejoin:round; stroke-width:4; stroke-opacity:1; fill:none\" points=\"\n",
       "  1554.61,1474.16 1554.61,1457.04 \n",
       "  \"/>\n",
       "<polyline clip-path=\"url(#clip600)\" style=\"stroke:#000000; stroke-linecap:butt; stroke-linejoin:round; stroke-width:4; stroke-opacity:1; fill:none\" points=\"\n",
       "  2186.43,1474.16 2186.43,1457.04 \n",
       "  \"/>\n",
       "<path clip-path=\"url(#clip600)\" d=\"M290.964 1503.36 Q287.353 1503.36 285.525 1506.92 Q283.719 1510.46 283.719 1517.59 Q283.719 1524.7 285.525 1528.26 Q287.353 1531.8 290.964 1531.8 Q294.599 1531.8 296.404 1528.26 Q298.233 1524.7 298.233 1517.59 Q298.233 1510.46 296.404 1506.92 Q294.599 1503.36 290.964 1503.36 M290.964 1499.65 Q296.775 1499.65 299.83 1504.26 Q302.909 1508.84 302.909 1517.59 Q302.909 1526.32 299.83 1530.92 Q296.775 1535.51 290.964 1535.51 Q285.154 1535.51 282.076 1530.92 Q279.02 1526.32 279.02 1517.59 Q279.02 1508.84 282.076 1504.26 Q285.154 1499.65 290.964 1499.65 Z\" fill=\"#000000\" fill-rule=\"evenodd\" fill-opacity=\"1\" /><path clip-path=\"url(#clip600)\" d=\"M815.605 1521.81 L833.961 1521.81 L833.961 1525.75 L819.887 1525.75 L819.887 1534.22 Q820.905 1533.87 821.924 1533.71 Q822.942 1533.52 823.961 1533.52 Q829.748 1533.52 833.128 1536.7 Q836.507 1539.87 836.507 1545.28 Q836.507 1550.86 833.035 1553.96 Q829.563 1557.04 823.243 1557.04 Q821.067 1557.04 818.799 1556.67 Q816.554 1556.3 814.146 1555.56 L814.146 1550.86 Q816.23 1552 818.452 1552.55 Q820.674 1553.11 823.151 1553.11 Q827.155 1553.11 829.493 1551 Q831.831 1548.9 831.831 1545.28 Q831.831 1541.67 829.493 1539.57 Q827.155 1537.46 823.151 1537.46 Q821.276 1537.46 819.401 1537.88 Q817.549 1538.29 815.605 1539.17 L815.605 1521.81 Z\" fill=\"#000000\" fill-rule=\"evenodd\" fill-opacity=\"1\" /><path clip-path=\"url(#clip600)\" d=\"M845.72 1550.49 L850.604 1550.49 L850.604 1556.37 L845.72 1556.37 L845.72 1550.49 Z\" fill=\"#000000\" fill-rule=\"evenodd\" fill-opacity=\"1\" /><path clip-path=\"url(#clip600)\" d=\"M870.789 1524.89 Q867.178 1524.89 865.35 1528.46 Q863.544 1532 863.544 1539.13 Q863.544 1546.23 865.35 1549.8 Q867.178 1553.34 870.789 1553.34 Q874.424 1553.34 876.229 1549.8 Q878.058 1546.23 878.058 1539.13 Q878.058 1532 876.229 1528.46 Q874.424 1524.89 870.789 1524.89 M870.789 1521.19 Q876.6 1521.19 879.655 1525.79 Q882.734 1530.38 882.734 1539.13 Q882.734 1547.85 879.655 1552.46 Q876.6 1557.04 870.789 1557.04 Q864.979 1557.04 861.901 1552.46 Q858.845 1547.85 858.845 1539.13 Q858.845 1530.38 861.901 1525.79 Q864.979 1521.19 870.789 1521.19 Z\" fill=\"#000000\" fill-rule=\"evenodd\" fill-opacity=\"1\" /><path clip-path=\"url(#clip600)\" d=\"M900.951 1524.89 Q897.34 1524.89 895.512 1528.46 Q893.706 1532 893.706 1539.13 Q893.706 1546.23 895.512 1549.8 Q897.34 1553.34 900.951 1553.34 Q904.586 1553.34 906.391 1549.8 Q908.22 1546.23 908.22 1539.13 Q908.22 1532 906.391 1528.46 Q904.586 1524.89 900.951 1524.89 M900.951 1521.19 Q906.761 1521.19 909.817 1525.79 Q912.896 1530.38 912.896 1539.13 Q912.896 1547.85 909.817 1552.46 Q906.761 1557.04 900.951 1557.04 Q895.141 1557.04 892.062 1552.46 Q889.007 1547.85 889.007 1539.13 Q889.007 1530.38 892.062 1525.79 Q895.141 1521.19 900.951 1521.19 Z\" fill=\"#000000\" fill-rule=\"evenodd\" fill-opacity=\"1\" /><path clip-path=\"url(#clip600)\" d=\"M949.284 1530.91 L938.706 1541.53 L949.284 1552.11 L946.53 1554.91 L935.905 1544.29 L925.28 1554.91 L922.548 1552.11 L933.104 1541.53 L922.548 1530.91 L925.28 1528.11 L935.905 1538.73 L946.53 1528.11 L949.284 1530.91 Z\" fill=\"#000000\" fill-rule=\"evenodd\" fill-opacity=\"1\" /><path clip-path=\"url(#clip600)\" d=\"M961.645 1552.44 L969.284 1552.44 L969.284 1526.07 L960.974 1527.74 L960.974 1523.48 L969.238 1521.81 L973.914 1521.81 L973.914 1552.44 L981.553 1552.44 L981.553 1556.37 L961.645 1556.37 L961.645 1552.44 Z\" fill=\"#000000\" fill-rule=\"evenodd\" fill-opacity=\"1\" /><path clip-path=\"url(#clip600)\" d=\"M1001 1524.89 Q997.386 1524.89 995.557 1528.46 Q993.752 1532 993.752 1539.13 Q993.752 1546.23 995.557 1549.8 Q997.386 1553.34 1001 1553.34 Q1004.63 1553.34 1006.44 1549.8 Q1008.27 1546.23 1008.27 1539.13 Q1008.27 1532 1006.44 1528.46 Q1004.63 1524.89 1001 1524.89 M1001 1521.19 Q1006.81 1521.19 1009.86 1525.79 Q1012.94 1530.38 1012.94 1539.13 Q1012.94 1547.85 1009.86 1552.46 Q1006.81 1557.04 1001 1557.04 Q995.187 1557.04 992.108 1552.46 Q989.053 1547.85 989.053 1539.13 Q989.053 1530.38 992.108 1525.79 Q995.187 1521.19 1001 1521.19 Z\" fill=\"#000000\" fill-rule=\"evenodd\" fill-opacity=\"1\" /><path clip-path=\"url(#clip600)\" d=\"M1025.64 1513.82 Q1028.36 1514.4 1029.89 1516.25 Q1031.43 1518.09 1031.43 1520.8 Q1031.43 1524.96 1028.57 1527.23 Q1025.71 1529.51 1020.45 1529.51 Q1018.68 1529.51 1016.8 1529.15 Q1014.94 1528.81 1012.94 1528.12 L1012.94 1524.45 Q1014.52 1525.37 1016.4 1525.84 Q1018.28 1526.31 1020.33 1526.31 Q1023.91 1526.31 1025.77 1524.9 Q1027.65 1523.49 1027.65 1520.8 Q1027.65 1518.32 1025.9 1516.92 Q1024.17 1515.51 1021.07 1515.51 L1017.79 1515.51 L1017.79 1512.39 L1021.22 1512.39 Q1024.02 1512.39 1025.51 1511.28 Q1026.99 1510.15 1026.99 1508.05 Q1026.99 1505.88 1025.45 1504.74 Q1023.93 1503.57 1021.07 1503.57 Q1019.51 1503.57 1017.72 1503.91 Q1015.93 1504.25 1013.79 1504.96 L1013.79 1501.58 Q1015.95 1500.98 1017.83 1500.67 Q1019.73 1500.37 1021.4 1500.37 Q1025.73 1500.37 1028.25 1502.35 Q1030.77 1504.3 1030.77 1507.65 Q1030.77 1509.98 1029.44 1511.6 Q1028.1 1513.2 1025.64 1513.82 Z\" fill=\"#000000\" fill-rule=\"evenodd\" fill-opacity=\"1\" /><path clip-path=\"url(#clip600)\" d=\"M1446.43 1552.44 L1454.07 1552.44 L1454.07 1526.07 L1445.76 1527.74 L1445.76 1523.48 L1454.02 1521.81 L1458.7 1521.81 L1458.7 1552.44 L1466.34 1552.44 L1466.34 1556.37 L1446.43 1556.37 L1446.43 1552.44 Z\" fill=\"#000000\" fill-rule=\"evenodd\" fill-opacity=\"1\" /><path clip-path=\"url(#clip600)\" d=\"M1475.78 1550.49 L1480.66 1550.49 L1480.66 1556.37 L1475.78 1556.37 L1475.78 1550.49 Z\" fill=\"#000000\" fill-rule=\"evenodd\" fill-opacity=\"1\" /><path clip-path=\"url(#clip600)\" d=\"M1500.85 1524.89 Q1497.24 1524.89 1495.41 1528.46 Q1493.6 1532 1493.6 1539.13 Q1493.6 1546.23 1495.41 1549.8 Q1497.24 1553.34 1500.85 1553.34 Q1504.48 1553.34 1506.29 1549.8 Q1508.12 1546.23 1508.12 1539.13 Q1508.12 1532 1506.29 1528.46 Q1504.48 1524.89 1500.85 1524.89 M1500.85 1521.19 Q1506.66 1521.19 1509.72 1525.79 Q1512.79 1530.38 1512.79 1539.13 Q1512.79 1547.85 1509.72 1552.46 Q1506.66 1557.04 1500.85 1557.04 Q1495.04 1557.04 1491.96 1552.46 Q1488.91 1547.85 1488.91 1539.13 Q1488.91 1530.38 1491.96 1525.79 Q1495.04 1521.19 1500.85 1521.19 Z\" fill=\"#000000\" fill-rule=\"evenodd\" fill-opacity=\"1\" /><path clip-path=\"url(#clip600)\" d=\"M1531.01 1524.89 Q1527.4 1524.89 1525.57 1528.46 Q1523.77 1532 1523.77 1539.13 Q1523.77 1546.23 1525.57 1549.8 Q1527.4 1553.34 1531.01 1553.34 Q1534.65 1553.34 1536.45 1549.8 Q1538.28 1546.23 1538.28 1539.13 Q1538.28 1532 1536.45 1528.46 Q1534.65 1524.89 1531.01 1524.89 M1531.01 1521.19 Q1536.82 1521.19 1539.88 1525.79 Q1542.96 1530.38 1542.96 1539.13 Q1542.96 1547.85 1539.88 1552.46 Q1536.82 1557.04 1531.01 1557.04 Q1525.2 1557.04 1522.12 1552.46 Q1519.07 1547.85 1519.07 1539.13 Q1519.07 1530.38 1522.12 1525.79 Q1525.2 1521.19 1531.01 1521.19 Z\" fill=\"#000000\" fill-rule=\"evenodd\" fill-opacity=\"1\" /><path clip-path=\"url(#clip600)\" d=\"M1579.34 1530.91 L1568.77 1541.53 L1579.34 1552.11 L1576.59 1554.91 L1565.97 1544.29 L1555.34 1554.91 L1552.61 1552.11 L1563.16 1541.53 L1552.61 1530.91 L1555.34 1528.11 L1565.97 1538.73 L1576.59 1528.11 L1579.34 1530.91 Z\" fill=\"#000000\" fill-rule=\"evenodd\" fill-opacity=\"1\" /><path clip-path=\"url(#clip600)\" d=\"M1591.71 1552.44 L1599.34 1552.44 L1599.34 1526.07 L1591.03 1527.74 L1591.03 1523.48 L1599.3 1521.81 L1603.97 1521.81 L1603.97 1552.44 L1611.61 1552.44 L1611.61 1556.37 L1591.71 1556.37 L1591.71 1552.44 Z\" fill=\"#000000\" fill-rule=\"evenodd\" fill-opacity=\"1\" /><path clip-path=\"url(#clip600)\" d=\"M1631.06 1524.89 Q1627.45 1524.89 1625.62 1528.46 Q1623.81 1532 1623.81 1539.13 Q1623.81 1546.23 1625.62 1549.8 Q1627.45 1553.34 1631.06 1553.34 Q1634.69 1553.34 1636.5 1549.8 Q1638.33 1546.23 1638.33 1539.13 Q1638.33 1532 1636.5 1528.46 Q1634.69 1524.89 1631.06 1524.89 M1631.06 1521.19 Q1636.87 1521.19 1639.92 1525.79 Q1643 1530.38 1643 1539.13 Q1643 1547.85 1639.92 1552.46 Q1636.87 1557.04 1631.06 1557.04 Q1625.25 1557.04 1622.17 1552.46 Q1619.11 1547.85 1619.11 1539.13 Q1619.11 1530.38 1622.17 1525.79 Q1625.25 1521.19 1631.06 1521.19 Z\" fill=\"#000000\" fill-rule=\"evenodd\" fill-opacity=\"1\" /><path clip-path=\"url(#clip600)\" d=\"M1655.68 1504.19 L1646.09 1519.18 L1655.68 1519.18 L1655.68 1504.19 M1654.68 1500.88 L1659.46 1500.88 L1659.46 1519.18 L1663.46 1519.18 L1663.46 1522.34 L1659.46 1522.34 L1659.46 1528.96 L1655.68 1528.96 L1655.68 1522.34 L1643 1522.34 L1643 1518.67 L1654.68 1500.88 Z\" fill=\"#000000\" fill-rule=\"evenodd\" fill-opacity=\"1\" /><path clip-path=\"url(#clip600)\" d=\"M2078.25 1552.44 L2085.89 1552.44 L2085.89 1526.07 L2077.58 1527.74 L2077.58 1523.48 L2085.84 1521.81 L2090.52 1521.81 L2090.52 1552.44 L2098.16 1552.44 L2098.16 1556.37 L2078.25 1556.37 L2078.25 1552.44 Z\" fill=\"#000000\" fill-rule=\"evenodd\" fill-opacity=\"1\" /><path clip-path=\"url(#clip600)\" d=\"M2107.6 1550.49 L2112.49 1550.49 L2112.49 1556.37 L2107.6 1556.37 L2107.6 1550.49 Z\" fill=\"#000000\" fill-rule=\"evenodd\" fill-opacity=\"1\" /><path clip-path=\"url(#clip600)\" d=\"M2122.72 1521.81 L2141.08 1521.81 L2141.08 1525.75 L2127 1525.75 L2127 1534.22 Q2128.02 1533.87 2129.04 1533.71 Q2130.06 1533.52 2131.08 1533.52 Q2136.86 1533.52 2140.24 1536.7 Q2143.62 1539.87 2143.62 1545.28 Q2143.62 1550.86 2140.15 1553.96 Q2136.68 1557.04 2130.36 1557.04 Q2128.18 1557.04 2125.91 1556.67 Q2123.67 1556.3 2121.26 1555.56 L2121.26 1550.86 Q2123.34 1552 2125.57 1552.55 Q2127.79 1553.11 2130.27 1553.11 Q2134.27 1553.11 2136.61 1551 Q2138.95 1548.9 2138.95 1545.28 Q2138.95 1541.67 2136.61 1539.57 Q2134.27 1537.46 2130.27 1537.46 Q2128.39 1537.46 2126.52 1537.88 Q2124.66 1538.29 2122.72 1539.17 L2122.72 1521.81 Z\" fill=\"#000000\" fill-rule=\"evenodd\" fill-opacity=\"1\" /><path clip-path=\"url(#clip600)\" d=\"M2162.84 1524.89 Q2159.22 1524.89 2157.4 1528.46 Q2155.59 1532 2155.59 1539.13 Q2155.59 1546.23 2157.4 1549.8 Q2159.22 1553.34 2162.84 1553.34 Q2166.47 1553.34 2168.28 1549.8 Q2170.1 1546.23 2170.1 1539.13 Q2170.1 1532 2168.28 1528.46 Q2166.47 1524.89 2162.84 1524.89 M2162.84 1521.19 Q2168.65 1521.19 2171.7 1525.79 Q2174.78 1530.38 2174.78 1539.13 Q2174.78 1547.85 2171.7 1552.46 Q2168.65 1557.04 2162.84 1557.04 Q2157.03 1557.04 2153.95 1552.46 Q2150.89 1547.85 2150.89 1539.13 Q2150.89 1530.38 2153.95 1525.79 Q2157.03 1521.19 2162.84 1521.19 Z\" fill=\"#000000\" fill-rule=\"evenodd\" fill-opacity=\"1\" /><path clip-path=\"url(#clip600)\" d=\"M2211.17 1530.91 L2200.59 1541.53 L2211.17 1552.11 L2208.41 1554.91 L2197.79 1544.29 L2187.16 1554.91 L2184.43 1552.11 L2194.99 1541.53 L2184.43 1530.91 L2187.16 1528.11 L2197.79 1538.73 L2208.41 1528.11 L2211.17 1530.91 Z\" fill=\"#000000\" fill-rule=\"evenodd\" fill-opacity=\"1\" /><path clip-path=\"url(#clip600)\" d=\"M2223.53 1552.44 L2231.17 1552.44 L2231.17 1526.07 L2222.86 1527.74 L2222.86 1523.48 L2231.12 1521.81 L2235.8 1521.81 L2235.8 1552.44 L2243.44 1552.44 L2243.44 1556.37 L2223.53 1556.37 L2223.53 1552.44 Z\" fill=\"#000000\" fill-rule=\"evenodd\" fill-opacity=\"1\" /><path clip-path=\"url(#clip600)\" d=\"M2262.88 1524.89 Q2259.27 1524.89 2257.44 1528.46 Q2255.64 1532 2255.64 1539.13 Q2255.64 1546.23 2257.44 1549.8 Q2259.27 1553.34 2262.88 1553.34 Q2266.52 1553.34 2268.32 1549.8 Q2270.15 1546.23 2270.15 1539.13 Q2270.15 1532 2268.32 1528.46 Q2266.52 1524.89 2262.88 1524.89 M2262.88 1521.19 Q2268.69 1521.19 2271.75 1525.79 Q2274.83 1530.38 2274.83 1539.13 Q2274.83 1547.85 2271.75 1552.46 Q2268.69 1557.04 2262.88 1557.04 Q2257.07 1557.04 2253.99 1552.46 Q2250.94 1547.85 2250.94 1539.13 Q2250.94 1530.38 2253.99 1525.79 Q2257.07 1521.19 2262.88 1521.19 Z\" fill=\"#000000\" fill-rule=\"evenodd\" fill-opacity=\"1\" /><path clip-path=\"url(#clip600)\" d=\"M2287.5 1504.19 L2277.91 1519.18 L2287.5 1519.18 L2287.5 1504.19 M2286.51 1500.88 L2291.28 1500.88 L2291.28 1519.18 L2295.29 1519.18 L2295.29 1522.34 L2291.28 1522.34 L2291.28 1528.96 L2287.5 1528.96 L2287.5 1522.34 L2274.83 1522.34 L2274.83 1518.67 L2286.51 1500.88 Z\" fill=\"#000000\" fill-rule=\"evenodd\" fill-opacity=\"1\" /><polyline clip-path=\"url(#clip602)\" style=\"stroke:#000000; stroke-linecap:butt; stroke-linejoin:round; stroke-width:2; stroke-opacity:0.1; fill:none\" points=\"\n",
       "  231.042,1287.27 2352.76,1287.27 \n",
       "  \"/>\n",
       "<polyline clip-path=\"url(#clip602)\" style=\"stroke:#000000; stroke-linecap:butt; stroke-linejoin:round; stroke-width:2; stroke-opacity:0.1; fill:none\" points=\"\n",
       "  231.042,965.253 2352.76,965.253 \n",
       "  \"/>\n",
       "<polyline clip-path=\"url(#clip602)\" style=\"stroke:#000000; stroke-linecap:butt; stroke-linejoin:round; stroke-width:2; stroke-opacity:0.1; fill:none\" points=\"\n",
       "  231.042,643.235 2352.76,643.235 \n",
       "  \"/>\n",
       "<polyline clip-path=\"url(#clip602)\" style=\"stroke:#000000; stroke-linecap:butt; stroke-linejoin:round; stroke-width:2; stroke-opacity:0.1; fill:none\" points=\"\n",
       "  231.042,321.217 2352.76,321.217 \n",
       "  \"/>\n",
       "<polyline clip-path=\"url(#clip600)\" style=\"stroke:#000000; stroke-linecap:butt; stroke-linejoin:round; stroke-width:4; stroke-opacity:1; fill:none\" points=\"\n",
       "  231.042,1474.16 231.042,47.2441 \n",
       "  \"/>\n",
       "<polyline clip-path=\"url(#clip600)\" style=\"stroke:#000000; stroke-linecap:butt; stroke-linejoin:round; stroke-width:4; stroke-opacity:1; fill:none\" points=\"\n",
       "  231.042,1287.27 256.503,1287.27 \n",
       "  \"/>\n",
       "<polyline clip-path=\"url(#clip600)\" style=\"stroke:#000000; stroke-linecap:butt; stroke-linejoin:round; stroke-width:4; stroke-opacity:1; fill:none\" points=\"\n",
       "  231.042,965.253 256.503,965.253 \n",
       "  \"/>\n",
       "<polyline clip-path=\"url(#clip600)\" style=\"stroke:#000000; stroke-linecap:butt; stroke-linejoin:round; stroke-width:4; stroke-opacity:1; fill:none\" points=\"\n",
       "  231.042,643.235 256.503,643.235 \n",
       "  \"/>\n",
       "<polyline clip-path=\"url(#clip600)\" style=\"stroke:#000000; stroke-linecap:butt; stroke-linejoin:round; stroke-width:4; stroke-opacity:1; fill:none\" points=\"\n",
       "  231.042,321.217 256.503,321.217 \n",
       "  \"/>\n",
       "<path clip-path=\"url(#clip600)\" d=\"M66.617 1285.92 Q69.9735 1286.63 71.8485 1288.9 Q73.7466 1291.17 73.7466 1294.51 Q73.7466 1299.62 70.2281 1302.42 Q66.7096 1305.22 60.2282 1305.22 Q58.0523 1305.22 55.7375 1304.78 Q53.4458 1304.37 50.9921 1303.51 L50.9921 1299 Q52.9366 1300.13 55.2514 1300.71 Q57.5662 1301.29 60.0893 1301.29 Q64.4874 1301.29 66.7791 1299.55 Q69.0939 1297.82 69.0939 1294.51 Q69.0939 1291.45 66.9411 1289.74 Q64.8115 1288 60.9921 1288 L56.9643 1288 L56.9643 1284.16 L61.1773 1284.16 Q64.6263 1284.16 66.455 1282.79 Q68.2837 1281.4 68.2837 1278.81 Q68.2837 1276.15 66.3856 1274.74 Q64.5106 1273.3 60.9921 1273.3 Q59.0708 1273.3 56.8717 1273.72 Q54.6727 1274.14 52.0338 1275.01 L52.0338 1270.85 Q54.6958 1270.11 57.0106 1269.74 Q59.3486 1269.37 61.4087 1269.37 Q66.7328 1269.37 69.8346 1271.8 Q72.9365 1274.2 72.9365 1278.32 Q72.9365 1281.2 71.2929 1283.19 Q69.6494 1285.15 66.617 1285.92 Z\" fill=\"#000000\" fill-rule=\"evenodd\" fill-opacity=\"1\" /><path clip-path=\"url(#clip600)\" d=\"M86.6401 1300.62 L102.959 1300.62 L102.959 1304.55 L81.0151 1304.55 L81.0151 1300.62 Q83.6771 1297.86 88.2604 1293.23 Q92.8669 1288.58 94.0475 1287.24 Q96.2928 1284.71 97.1724 1282.98 Q98.0752 1281.22 98.0752 1279.53 Q98.0752 1276.77 96.1308 1275.04 Q94.2095 1273.3 91.1077 1273.3 Q88.9086 1273.3 86.4549 1274.07 Q84.0244 1274.83 81.2466 1276.38 L81.2466 1271.66 Q84.0707 1270.52 86.5243 1269.95 Q88.978 1269.37 91.0151 1269.37 Q96.3854 1269.37 99.5798 1272.05 Q102.774 1274.74 102.774 1279.23 Q102.774 1281.36 101.964 1283.28 Q101.177 1285.18 99.0706 1287.77 Q98.4919 1288.44 95.39 1291.66 Q92.2882 1294.85 86.6401 1300.62 Z\" fill=\"#000000\" fill-rule=\"evenodd\" fill-opacity=\"1\" /><path clip-path=\"url(#clip600)\" d=\"M122.774 1273.07 Q119.163 1273.07 117.334 1276.64 Q115.529 1280.18 115.529 1287.31 Q115.529 1294.41 117.334 1297.98 Q119.163 1301.52 122.774 1301.52 Q126.408 1301.52 128.214 1297.98 Q130.043 1294.41 130.043 1287.31 Q130.043 1280.18 128.214 1276.64 Q126.408 1273.07 122.774 1273.07 M122.774 1269.37 Q128.584 1269.37 131.64 1273.97 Q134.719 1278.56 134.719 1287.31 Q134.719 1296.03 131.64 1300.64 Q128.584 1305.22 122.774 1305.22 Q116.964 1305.22 113.885 1300.64 Q110.83 1296.03 110.83 1287.31 Q110.83 1278.56 113.885 1273.97 Q116.964 1269.37 122.774 1269.37 Z\" fill=\"#000000\" fill-rule=\"evenodd\" fill-opacity=\"1\" /><path clip-path=\"url(#clip600)\" d=\"M152.936 1273.07 Q149.325 1273.07 147.496 1276.64 Q145.691 1280.18 145.691 1287.31 Q145.691 1294.41 147.496 1297.98 Q149.325 1301.52 152.936 1301.52 Q156.57 1301.52 158.376 1297.98 Q160.205 1294.41 160.205 1287.31 Q160.205 1280.18 158.376 1276.64 Q156.57 1273.07 152.936 1273.07 M152.936 1269.37 Q158.746 1269.37 161.802 1273.97 Q164.88 1278.56 164.88 1287.31 Q164.88 1296.03 161.802 1300.64 Q158.746 1305.22 152.936 1305.22 Q147.126 1305.22 144.047 1300.64 Q140.992 1296.03 140.992 1287.31 Q140.992 1278.56 144.047 1273.97 Q147.126 1269.37 152.936 1269.37 Z\" fill=\"#000000\" fill-rule=\"evenodd\" fill-opacity=\"1\" /><path clip-path=\"url(#clip600)\" d=\"M183.098 1273.07 Q179.487 1273.07 177.658 1276.64 Q175.853 1280.18 175.853 1287.31 Q175.853 1294.41 177.658 1297.98 Q179.487 1301.52 183.098 1301.52 Q186.732 1301.52 188.538 1297.98 Q190.366 1294.41 190.366 1287.31 Q190.366 1280.18 188.538 1276.64 Q186.732 1273.07 183.098 1273.07 M183.098 1269.37 Q188.908 1269.37 191.964 1273.97 Q195.042 1278.56 195.042 1287.31 Q195.042 1296.03 191.964 1300.64 Q188.908 1305.22 183.098 1305.22 Q177.288 1305.22 174.209 1300.64 Q171.154 1296.03 171.154 1287.31 Q171.154 1278.56 174.209 1273.97 Q177.288 1269.37 183.098 1269.37 Z\" fill=\"#000000\" fill-rule=\"evenodd\" fill-opacity=\"1\" /><path clip-path=\"url(#clip600)\" d=\"M66.617 963.899 Q69.9735 964.617 71.8485 966.885 Q73.7466 969.154 73.7466 972.487 Q73.7466 977.603 70.2281 980.404 Q66.7096 983.205 60.2282 983.205 Q58.0523 983.205 55.7375 982.765 Q53.4458 982.348 50.9921 981.492 L50.9921 976.978 Q52.9366 978.112 55.2514 978.691 Q57.5662 979.27 60.0893 979.27 Q64.4874 979.27 66.7791 977.534 Q69.0939 975.797 69.0939 972.487 Q69.0939 969.432 66.9411 967.719 Q64.8115 965.983 60.9921 965.983 L56.9643 965.983 L56.9643 962.14 L61.1773 962.14 Q64.6263 962.14 66.455 960.774 Q68.2837 959.385 68.2837 956.793 Q68.2837 954.131 66.3856 952.719 Q64.5106 951.284 60.9921 951.284 Q59.0708 951.284 56.8717 951.7 Q54.6727 952.117 52.0338 952.997 L52.0338 948.83 Q54.6958 948.089 57.0106 947.719 Q59.3486 947.348 61.4087 947.348 Q66.7328 947.348 69.8346 949.779 Q72.9365 952.186 72.9365 956.307 Q72.9365 959.177 71.2929 961.168 Q69.6494 963.135 66.617 963.899 Z\" fill=\"#000000\" fill-rule=\"evenodd\" fill-opacity=\"1\" /><path clip-path=\"url(#clip600)\" d=\"M95.4595 952.048 L83.654 970.497 L95.4595 970.497 L95.4595 952.048 M94.2326 947.973 L100.112 947.973 L100.112 970.497 L105.043 970.497 L105.043 974.385 L100.112 974.385 L100.112 982.533 L95.4595 982.533 L95.4595 974.385 L79.8577 974.385 L79.8577 969.872 L94.2326 947.973 Z\" fill=\"#000000\" fill-rule=\"evenodd\" fill-opacity=\"1\" /><path clip-path=\"url(#clip600)\" d=\"M122.774 951.052 Q119.163 951.052 117.334 954.617 Q115.529 958.159 115.529 965.288 Q115.529 972.395 117.334 975.959 Q119.163 979.501 122.774 979.501 Q126.408 979.501 128.214 975.959 Q130.043 972.395 130.043 965.288 Q130.043 958.159 128.214 954.617 Q126.408 951.052 122.774 951.052 M122.774 947.348 Q128.584 947.348 131.64 951.955 Q134.719 956.538 134.719 965.288 Q134.719 974.015 131.64 978.621 Q128.584 983.205 122.774 983.205 Q116.964 983.205 113.885 978.621 Q110.83 974.015 110.83 965.288 Q110.83 956.538 113.885 951.955 Q116.964 947.348 122.774 947.348 Z\" fill=\"#000000\" fill-rule=\"evenodd\" fill-opacity=\"1\" /><path clip-path=\"url(#clip600)\" d=\"M152.936 951.052 Q149.325 951.052 147.496 954.617 Q145.691 958.159 145.691 965.288 Q145.691 972.395 147.496 975.959 Q149.325 979.501 152.936 979.501 Q156.57 979.501 158.376 975.959 Q160.205 972.395 160.205 965.288 Q160.205 958.159 158.376 954.617 Q156.57 951.052 152.936 951.052 M152.936 947.348 Q158.746 947.348 161.802 951.955 Q164.88 956.538 164.88 965.288 Q164.88 974.015 161.802 978.621 Q158.746 983.205 152.936 983.205 Q147.126 983.205 144.047 978.621 Q140.992 974.015 140.992 965.288 Q140.992 956.538 144.047 951.955 Q147.126 947.348 152.936 947.348 Z\" fill=\"#000000\" fill-rule=\"evenodd\" fill-opacity=\"1\" /><path clip-path=\"url(#clip600)\" d=\"M183.098 951.052 Q179.487 951.052 177.658 954.617 Q175.853 958.159 175.853 965.288 Q175.853 972.395 177.658 975.959 Q179.487 979.501 183.098 979.501 Q186.732 979.501 188.538 975.959 Q190.366 972.395 190.366 965.288 Q190.366 958.159 188.538 954.617 Q186.732 951.052 183.098 951.052 M183.098 947.348 Q188.908 947.348 191.964 951.955 Q195.042 956.538 195.042 965.288 Q195.042 974.015 191.964 978.621 Q188.908 983.205 183.098 983.205 Q177.288 983.205 174.209 978.621 Q171.154 974.015 171.154 965.288 Q171.154 956.538 174.209 951.955 Q177.288 947.348 183.098 947.348 Z\" fill=\"#000000\" fill-rule=\"evenodd\" fill-opacity=\"1\" /><path clip-path=\"url(#clip600)\" d=\"M66.617 641.881 Q69.9735 642.599 71.8485 644.867 Q73.7466 647.136 73.7466 650.469 Q73.7466 655.585 70.2281 658.386 Q66.7096 661.187 60.2282 661.187 Q58.0523 661.187 55.7375 660.747 Q53.4458 660.33 50.9921 659.474 L50.9921 654.96 Q52.9366 656.094 55.2514 656.673 Q57.5662 657.252 60.0893 657.252 Q64.4874 657.252 66.7791 655.515 Q69.0939 653.779 69.0939 650.469 Q69.0939 647.414 66.9411 645.701 Q64.8115 643.965 60.9921 643.965 L56.9643 643.965 L56.9643 640.122 L61.1773 640.122 Q64.6263 640.122 66.455 638.756 Q68.2837 637.367 68.2837 634.775 Q68.2837 632.113 66.3856 630.701 Q64.5106 629.266 60.9921 629.266 Q59.0708 629.266 56.8717 629.682 Q54.6727 630.099 52.0338 630.979 L52.0338 626.812 Q54.6958 626.071 57.0106 625.701 Q59.3486 625.33 61.4087 625.33 Q66.7328 625.33 69.8346 627.761 Q72.9365 630.168 72.9365 634.289 Q72.9365 637.159 71.2929 639.15 Q69.6494 641.117 66.617 641.881 Z\" fill=\"#000000\" fill-rule=\"evenodd\" fill-opacity=\"1\" /><path clip-path=\"url(#clip600)\" d=\"M93.191 641.372 Q90.0428 641.372 88.191 643.525 Q86.3623 645.678 86.3623 649.428 Q86.3623 653.154 88.191 655.33 Q90.0428 657.483 93.191 657.483 Q96.3391 657.483 98.1678 655.33 Q100.02 653.154 100.02 649.428 Q100.02 645.678 98.1678 643.525 Q96.3391 641.372 93.191 641.372 M102.473 626.719 L102.473 630.979 Q100.714 630.145 98.9085 629.705 Q97.1261 629.266 95.3669 629.266 Q90.7373 629.266 88.2836 632.391 Q85.8531 635.516 85.5058 641.835 Q86.8716 639.821 88.9317 638.756 Q90.9919 637.668 93.4688 637.668 Q98.6771 637.668 101.686 640.84 Q104.719 643.988 104.719 649.428 Q104.719 654.752 101.571 657.969 Q98.4224 661.187 93.191 661.187 Q87.1956 661.187 84.0244 656.603 Q80.8531 651.997 80.8531 643.27 Q80.8531 635.076 84.7419 630.215 Q88.6308 625.33 95.1817 625.33 Q96.941 625.33 98.7234 625.678 Q100.529 626.025 102.473 626.719 Z\" fill=\"#000000\" fill-rule=\"evenodd\" fill-opacity=\"1\" /><path clip-path=\"url(#clip600)\" d=\"M122.774 629.034 Q119.163 629.034 117.334 632.599 Q115.529 636.141 115.529 643.27 Q115.529 650.377 117.334 653.941 Q119.163 657.483 122.774 657.483 Q126.408 657.483 128.214 653.941 Q130.043 650.377 130.043 643.27 Q130.043 636.141 128.214 632.599 Q126.408 629.034 122.774 629.034 M122.774 625.33 Q128.584 625.33 131.64 629.937 Q134.719 634.52 134.719 643.27 Q134.719 651.997 131.64 656.603 Q128.584 661.187 122.774 661.187 Q116.964 661.187 113.885 656.603 Q110.83 651.997 110.83 643.27 Q110.83 634.52 113.885 629.937 Q116.964 625.33 122.774 625.33 Z\" fill=\"#000000\" fill-rule=\"evenodd\" fill-opacity=\"1\" /><path clip-path=\"url(#clip600)\" d=\"M152.936 629.034 Q149.325 629.034 147.496 632.599 Q145.691 636.141 145.691 643.27 Q145.691 650.377 147.496 653.941 Q149.325 657.483 152.936 657.483 Q156.57 657.483 158.376 653.941 Q160.205 650.377 160.205 643.27 Q160.205 636.141 158.376 632.599 Q156.57 629.034 152.936 629.034 M152.936 625.33 Q158.746 625.33 161.802 629.937 Q164.88 634.52 164.88 643.27 Q164.88 651.997 161.802 656.603 Q158.746 661.187 152.936 661.187 Q147.126 661.187 144.047 656.603 Q140.992 651.997 140.992 643.27 Q140.992 634.52 144.047 629.937 Q147.126 625.33 152.936 625.33 Z\" fill=\"#000000\" fill-rule=\"evenodd\" fill-opacity=\"1\" /><path clip-path=\"url(#clip600)\" d=\"M183.098 629.034 Q179.487 629.034 177.658 632.599 Q175.853 636.141 175.853 643.27 Q175.853 650.377 177.658 653.941 Q179.487 657.483 183.098 657.483 Q186.732 657.483 188.538 653.941 Q190.366 650.377 190.366 643.27 Q190.366 636.141 188.538 632.599 Q186.732 629.034 183.098 629.034 M183.098 625.33 Q188.908 625.33 191.964 629.937 Q195.042 634.52 195.042 643.27 Q195.042 651.997 191.964 656.603 Q188.908 661.187 183.098 661.187 Q177.288 661.187 174.209 656.603 Q171.154 651.997 171.154 643.27 Q171.154 634.52 174.209 629.937 Q177.288 625.33 183.098 625.33 Z\" fill=\"#000000\" fill-rule=\"evenodd\" fill-opacity=\"1\" /><path clip-path=\"url(#clip600)\" d=\"M66.617 319.863 Q69.9735 320.581 71.8485 322.849 Q73.7466 325.118 73.7466 328.451 Q73.7466 333.567 70.2281 336.368 Q66.7096 339.169 60.2282 339.169 Q58.0523 339.169 55.7375 338.729 Q53.4458 338.312 50.9921 337.456 L50.9921 332.942 Q52.9366 334.076 55.2514 334.655 Q57.5662 335.233 60.0893 335.233 Q64.4874 335.233 66.7791 333.497 Q69.0939 331.761 69.0939 328.451 Q69.0939 325.396 66.9411 323.683 Q64.8115 321.946 60.9921 321.946 L56.9643 321.946 L56.9643 318.104 L61.1773 318.104 Q64.6263 318.104 66.455 316.738 Q68.2837 315.349 68.2837 312.757 Q68.2837 310.095 66.3856 308.683 Q64.5106 307.247 60.9921 307.247 Q59.0708 307.247 56.8717 307.664 Q54.6727 308.081 52.0338 308.96 L52.0338 304.794 Q54.6958 304.053 57.0106 303.683 Q59.3486 303.312 61.4087 303.312 Q66.7328 303.312 69.8346 305.743 Q72.9365 308.15 72.9365 312.271 Q72.9365 315.141 71.2929 317.132 Q69.6494 319.099 66.617 319.863 Z\" fill=\"#000000\" fill-rule=\"evenodd\" fill-opacity=\"1\" /><path clip-path=\"url(#clip600)\" d=\"M92.6123 322.085 Q89.279 322.085 87.3577 323.868 Q85.4595 325.65 85.4595 328.775 Q85.4595 331.9 87.3577 333.683 Q89.279 335.465 92.6123 335.465 Q95.9456 335.465 97.8669 333.683 Q99.7882 331.877 99.7882 328.775 Q99.7882 325.65 97.8669 323.868 Q95.9687 322.085 92.6123 322.085 M87.9364 320.095 Q84.9271 319.354 83.2373 317.294 Q81.5707 315.234 81.5707 312.271 Q81.5707 308.127 84.5105 305.72 Q87.4734 303.312 92.6123 303.312 Q97.7743 303.312 100.714 305.72 Q103.654 308.127 103.654 312.271 Q103.654 315.234 101.964 317.294 Q100.297 319.354 97.3113 320.095 Q100.691 320.882 102.566 323.173 Q104.464 325.465 104.464 328.775 Q104.464 333.798 101.385 336.483 Q98.3298 339.169 92.6123 339.169 Q86.8947 339.169 83.816 336.483 Q80.7605 333.798 80.7605 328.775 Q80.7605 325.465 82.6586 323.173 Q84.5568 320.882 87.9364 320.095 M86.2234 312.71 Q86.2234 315.396 87.8901 316.9 Q89.5799 318.405 92.6123 318.405 Q95.6215 318.405 97.3113 316.9 Q99.0243 315.396 99.0243 312.71 Q99.0243 310.025 97.3113 308.521 Q95.6215 307.016 92.6123 307.016 Q89.5799 307.016 87.8901 308.521 Q86.2234 310.025 86.2234 312.71 Z\" fill=\"#000000\" fill-rule=\"evenodd\" fill-opacity=\"1\" /><path clip-path=\"url(#clip600)\" d=\"M122.774 307.016 Q119.163 307.016 117.334 310.581 Q115.529 314.122 115.529 321.252 Q115.529 328.358 117.334 331.923 Q119.163 335.465 122.774 335.465 Q126.408 335.465 128.214 331.923 Q130.043 328.358 130.043 321.252 Q130.043 314.122 128.214 310.581 Q126.408 307.016 122.774 307.016 M122.774 303.312 Q128.584 303.312 131.64 307.919 Q134.719 312.502 134.719 321.252 Q134.719 329.979 131.64 334.585 Q128.584 339.169 122.774 339.169 Q116.964 339.169 113.885 334.585 Q110.83 329.979 110.83 321.252 Q110.83 312.502 113.885 307.919 Q116.964 303.312 122.774 303.312 Z\" fill=\"#000000\" fill-rule=\"evenodd\" fill-opacity=\"1\" /><path clip-path=\"url(#clip600)\" d=\"M152.936 307.016 Q149.325 307.016 147.496 310.581 Q145.691 314.122 145.691 321.252 Q145.691 328.358 147.496 331.923 Q149.325 335.465 152.936 335.465 Q156.57 335.465 158.376 331.923 Q160.205 328.358 160.205 321.252 Q160.205 314.122 158.376 310.581 Q156.57 307.016 152.936 307.016 M152.936 303.312 Q158.746 303.312 161.802 307.919 Q164.88 312.502 164.88 321.252 Q164.88 329.979 161.802 334.585 Q158.746 339.169 152.936 339.169 Q147.126 339.169 144.047 334.585 Q140.992 329.979 140.992 321.252 Q140.992 312.502 144.047 307.919 Q147.126 303.312 152.936 303.312 Z\" fill=\"#000000\" fill-rule=\"evenodd\" fill-opacity=\"1\" /><path clip-path=\"url(#clip600)\" d=\"M183.098 307.016 Q179.487 307.016 177.658 310.581 Q175.853 314.122 175.853 321.252 Q175.853 328.358 177.658 331.923 Q179.487 335.465 183.098 335.465 Q186.732 335.465 188.538 331.923 Q190.366 328.358 190.366 321.252 Q190.366 314.122 188.538 310.581 Q186.732 307.016 183.098 307.016 M183.098 303.312 Q188.908 303.312 191.964 307.919 Q195.042 312.502 195.042 321.252 Q195.042 329.979 191.964 334.585 Q188.908 339.169 183.098 339.169 Q177.288 339.169 174.209 334.585 Q171.154 329.979 171.154 321.252 Q171.154 312.502 174.209 307.919 Q177.288 303.312 183.098 303.312 Z\" fill=\"#000000\" fill-rule=\"evenodd\" fill-opacity=\"1\" /><polyline clip-path=\"url(#clip602)\" style=\"stroke:#009af9; stroke-linecap:butt; stroke-linejoin:round; stroke-width:4; stroke-opacity:1; fill:none\" points=\"\n",
       "  291.091,462.165 291.217,451.377 291.344,409.532 291.47,386.098 291.596,385.621 291.723,381.667 291.849,389.36 291.975,397.875 292.102,386.307 292.228,393.367 \n",
       "  292.354,384.655 292.481,387.006 292.607,391.042 292.734,391.226 292.86,396.711 292.986,386.961 293.113,396.521 293.239,399.978 293.365,399.64 293.492,406.016 \n",
       "  293.618,396.785 293.744,393.953 293.871,389.302 293.997,390.287 294.124,384.009 294.25,377.633 294.376,381.567 294.503,384.903 294.629,377.585 294.755,364.241 \n",
       "  294.882,375.328 295.008,376.931 295.134,378.318 295.261,377.844 295.387,380.707 295.514,388.046 295.64,369.507 295.766,360.853 295.893,365.25 296.019,359.592 \n",
       "  296.145,356.298 296.272,363.77 296.398,359.473 296.524,362.23 296.651,365.657 296.777,369.52 296.904,368.907 297.03,369.359 297.156,369.52 297.283,376.651 \n",
       "  297.409,368.366 297.535,367.348 297.662,366.237 297.788,364.268 297.914,369.518 298.041,366.598 298.167,352.707 298.294,339.233 298.42,353.419 298.546,353.691 \n",
       "  298.673,359.153 298.799,355.892 298.925,364.688 299.052,364.162 299.178,360.95 299.304,364.843 299.431,364.031 299.557,372.52 299.684,374.254 299.81,368.974 \n",
       "  299.936,387.014 300.063,381.272 300.189,382.628 300.315,379.319 300.442,372.012 300.568,367.912 300.694,379.179 300.821,377.342 300.947,381.24 301.074,384.6 \n",
       "  301.2,386.922 301.326,397.214 301.453,395.737 301.579,392.791 301.705,401.294 301.832,409.378 301.958,418.475 302.085,415.1 302.211,408.801 302.337,402.891 \n",
       "  302.464,426.281 302.59,418.311 302.716,427.961 302.843,425.134 302.969,440.01 303.095,429.684 303.222,428.047 303.348,422.384 303.475,425.949 303.601,421.652 \n",
       "  303.727,423.159 303.854,419.644 303.98,418.169 304.106,425.476 304.233,421.994 304.359,438.862 304.485,434.996 304.612,436.823 304.738,431.111 304.865,429.531 \n",
       "  304.991,426.124 305.117,431.27 305.244,433.204 305.37,433.924 305.496,429.752 305.623,434.531 305.749,436.754 305.875,432.698 306.002,444.392 306.128,450.566 \n",
       "  306.255,441.118 306.381,439.897 306.507,437.543 306.634,442.444 306.76,441.937 306.886,453.325 307.013,463.701 307.139,469.808 307.265,487.182 307.392,482.508 \n",
       "  307.518,506.953 307.645,503.798 307.771,508.289 307.897,506.378 308.024,503.916 308.15,500.902 308.276,532.149 308.403,524.76 308.529,531.745 308.655,524.361 \n",
       "  308.782,519.738 308.908,526.778 309.035,519.902 309.161,507.279 309.287,511.297 309.414,503.46 309.54,508.133 309.666,512.087 309.793,509.091 309.919,517.442 \n",
       "  310.045,505.293 310.172,501.446 310.298,507.983 310.425,501.138 310.551,495.461 310.677,492.525 310.804,493.568 310.93,493.495 311.056,493.941 311.183,491.183 \n",
       "  311.309,508.477 311.435,507.761 311.562,513.052 311.688,520.402 311.815,507.748 311.941,519.96 312.067,518.291 312.194,506.967 312.32,514.599 312.446,514.232 \n",
       "  312.573,516.12 312.699,515.264 312.826,511.53 312.952,522.741 313.078,518.943 313.205,513.539 313.331,508.65 313.457,511.646 313.584,508.527 313.71,506.378 \n",
       "  313.836,517.161 313.963,521.686 314.089,521.843 314.216,518.125 314.342,517.215 314.468,512.09 314.595,508.157 314.721,506.738 314.847,492.557 314.974,493.428 \n",
       "  315.1,495.258 315.226,495.089 315.353,492.615 315.479,483.532 315.606,484.521 315.732,473.379 315.858,467.599 315.985,468.597 316.111,468.877 316.237,463.686 \n",
       "  316.364,464.193 316.49,468.983 316.616,474.472 316.743,472.571 316.869,478.341 316.996,491.955 317.122,499.601 317.248,495.128 317.375,500.164 317.501,503.209 \n",
       "  317.627,517.655 317.754,528.043 317.88,534.493 318.006,545.93 318.133,550.576 318.259,538.235 318.386,529.891 318.512,542.025 318.638,539.296 318.765,530.648 \n",
       "  318.891,544.049 319.017,546.917 319.144,539.045 319.27,540.285 319.396,536.641 319.523,547.076 319.649,554.993 319.776,554.975 319.902,543.155 320.028,550.576 \n",
       "  320.155,539.549 320.281,536.649 320.407,527.438 320.534,525.01 320.66,525.931 320.786,516.125 320.913,531.355 321.039,524.617 321.166,528.317 321.292,529.726 \n",
       "  321.418,542.895 321.545,550.41 321.671,532.788 321.797,518.059 321.924,519.014 322.05,541.331 322.176,535.778 322.303,523.875 322.429,527.166 322.556,536.791 \n",
       "  322.682,527.069 322.808,527.067 322.935,535.359 323.061,531.766 323.187,529.362 323.314,531.056 323.44,537.625 323.567,543.21 323.693,537.201 323.819,536.343 \n",
       "  323.946,527.254 324.072,526.344 324.198,530.756 324.325,534.991 324.451,524.174 324.577,521.413 324.704,523.363 324.83,515.967 324.957,517.726 325.083,507.075 \n",
       "  325.209,509.422 325.336,513.309 325.462,513.623 325.588,513.61 325.715,510.015 325.841,495.374 325.967,500.936 326.094,492.98 326.22,491.529 326.347,493.574 \n",
       "  326.473,500.472 326.599,500.23 326.726,503.903 326.852,499.725 326.978,499.722 327.105,507.172 327.231,505.008 327.357,505.544 327.484,503.158 327.61,502.993 \n",
       "  327.737,510.316 327.863,514.798 327.989,507.751 328.116,508.764 328.242,509.044 328.368,508.134 328.495,511.644 328.621,516.737 328.747,519.242 328.874,522.799 \n",
       "  329,518.991 329.127,513.72 329.253,507.891 329.379,503.995 329.506,504.776 329.632,511.203 329.758,506.468 329.885,497.028 330.011,499 330.137,499.02 \n",
       "  330.264,495.133 330.39,492.23 330.517,496.218 330.643,498.78 330.769,502.771 330.896,506.183 331.022,501.227 331.148,490.143 331.275,484.255 331.401,474.316 \n",
       "  331.527,482.244 331.654,489.992 331.78,487.57 331.907,486.709 332.033,486.714 332.159,491.914 332.286,494.395 332.412,495.674 332.538,488.085 332.665,487.746 \n",
       "  332.791,487.981 332.917,478.512 333.044,473.371 333.17,474.068 333.297,467.576 333.423,471.423 333.549,466.124 333.676,462.066 333.802,462.042 333.928,459.69 \n",
       "  334.055,462.26 334.181,465.098 334.308,461.77 334.434,459.199 334.56,464.816 334.687,450.564 334.813,439.496 334.939,432.191 335.066,438.546 335.192,443.034 \n",
       "  335.318,437.144 335.445,431.209 335.571,434.006 335.698,436.846 335.824,440.581 335.95,443.468 336.077,437.406 336.203,436.128 336.329,430.19 336.456,439.309 \n",
       "  336.582,449.976 336.708,436.603 336.835,429.499 336.961,425.875 337.088,427.419 337.214,431.937 337.34,433.516 337.467,436.72 337.593,414.612 337.719,421.043 \n",
       "  337.846,423.849 337.972,425.218 338.098,428.179 338.225,427.361 338.351,422.096 338.478,429.374 338.604,439.701 338.73,436.641 338.857,448.034 338.983,443.583 \n",
       "  339.109,461.571 339.236,460.943 339.362,467.66 339.488,467.383 339.615,476.259 339.741,474.161 339.868,468.668 339.994,467.89 340.12,465.478 340.247,464.214 \n",
       "  340.373,475.912 340.499,507.093 340.626,505.091 340.752,514.428 340.878,518.172 341.005,511.799 341.131,510.393 341.258,508.975 341.384,511.646 341.51,505.305 \n",
       "  341.637,510.973 341.763,508.384 341.889,510.236 342.016,507.07 342.142,508.421 342.268,523.981 342.395,520.369 342.521,507.84 342.648,503.509 342.774,505.851 \n",
       "  342.9,507.199 343.027,504.481 343.153,498.92 343.279,496.534 343.406,497.872 343.532,493.156 343.658,488.322 343.785,488.277 343.911,488.81 344.038,495.861 \n",
       "  344.164,487.156 344.29,479.317 344.417,470.151 344.543,456.618 344.669,458.394 344.796,470.395 344.922,482.73 345.048,479.866 345.175,479.253 345.301,476.222 \n",
       "  345.428,496.823 345.554,512.235 345.68,508.957 345.807,507.651 345.933,497.26 346.059,508.278 346.186,507.65 346.312,507.08 346.439,508.506 346.565,509.598 \n",
       "  346.691,504.083 346.818,499.701 346.944,502.803 347.07,498.017 347.197,500.602 347.323,509.846 347.449,513.356 347.576,513.91 347.702,521.154 347.829,519.419 \n",
       "  347.955,511.718 348.081,512.457 348.208,515.992 348.334,527.356 348.46,538.523 348.587,532.756 348.713,533.527 348.839,529.858 348.966,529.206 349.092,520.804 \n",
       "  349.219,511.19 349.345,509.371 349.471,515.739 349.598,517.342 349.724,521.479 349.85,508.519 349.977,512.042 350.103,515.534 350.229,515.235 350.356,514.779 \n",
       "  350.482,509.976 350.609,511.759 350.735,514.233 350.861,509.197 350.988,512.129 351.114,509.385 351.24,506.128 351.367,514.33 351.493,511.227 351.619,509.344 \n",
       "  351.746,503.117 351.872,503.175 351.999,504.537 352.125,510.786 352.251,537.774 352.378,545.899 352.504,543.41 352.63,545.02 352.757,536.638 352.883,547.92 \n",
       "  353.009,558.57 353.136,609.519 353.262,607.602 353.389,598.832 353.515,600.336 353.641,594.987 353.768,596.441 353.894,626.383 354.02,617.677 354.147,607.85 \n",
       "  354.273,604.089 354.399,599.765 354.526,610.657 354.652,611.317 354.779,610.691 354.905,602.674 355.031,606.171 355.158,610.534 355.284,614.677 355.41,615.845 \n",
       "  355.537,613.626 355.663,639.102 355.789,630.88 355.916,620.172 356.042,628.656 356.169,619.883 356.295,611.755 356.421,620.573 356.548,621.602 356.674,614.21 \n",
       "  356.8,611.576 356.927,617.121 357.053,623.19 357.18,638.47 357.306,635.158 357.432,632.845 357.559,640.746 357.685,639.782 357.811,633.356 357.938,626.875 \n",
       "  358.064,620.358 358.19,624.628 358.317,617.329 358.443,612.924 358.57,610.066 358.696,611.327 358.822,622.098 358.949,615.015 359.075,617.286 359.201,611.393 \n",
       "  359.328,603.064 359.454,602.705 359.58,600.932 359.707,597.214 359.833,604.268 359.96,599.684 360.086,602.362 360.212,595.189 360.339,592.225 360.465,592.15 \n",
       "  360.591,596.007 360.718,595.451 360.844,596.583 360.97,604.514 361.097,608.567 361.223,623.04 361.35,616.311 361.476,618.514 361.602,611.587 361.729,606.525 \n",
       "  361.855,606.187 361.981,619.87 362.108,615.009 362.234,622.063 362.36,624.518 362.487,622.908 362.613,626.726 362.74,631.776 362.866,629.651 362.992,632.219 \n",
       "  363.119,637.893 363.245,644.356 363.371,635.832 363.498,643.614 363.624,641.601 363.75,621.649 363.877,615.254 364.003,608.488 364.13,610.71 364.256,614.87 \n",
       "  364.382,609.961 364.509,607.797 364.635,613.806 364.761,614.969 364.888,606.815 365.014,599.17 365.14,596.329 365.267,594.289 365.393,585.895 365.52,594.548 \n",
       "  365.646,598.905 365.772,606.812 365.899,604.556 366.025,612.837 366.151,615.675 366.278,619.889 366.404,615.543 366.53,607.514 366.657,602.687 366.783,605.96 \n",
       "  366.91,615.912 367.036,615.986 367.162,622.879 367.289,621.945 367.415,619.4 367.541,610.472 367.668,611.04 367.794,596.028 367.921,595.247 368.047,593.002 \n",
       "  368.173,595.216 368.3,599.916 368.426,605.569 368.552,608.28 368.679,601.966 368.805,593.669 368.931,578.874 369.058,584.317 369.184,576.916 369.311,573.683 \n",
       "  369.437,575.541 369.563,575.47 369.69,572.351 369.816,569.498 369.942,571.962 370.069,577.532 370.195,577.326 370.321,568.147 370.448,571.216 370.574,570.313 \n",
       "  370.701,579.846 370.827,579.568 370.953,580.094 371.08,575.766 371.206,576.079 371.332,578.104 371.459,583.744 371.585,582.052 371.711,586.074 371.838,583.329 \n",
       "  371.964,576.581 372.091,577.756 372.217,576.505 372.343,575.505 372.47,562.037 372.596,572.209 372.722,580.02 372.849,591.26 372.975,587.618 373.101,595.48 \n",
       "  373.228,597.873 373.354,599.064 373.481,594.669 373.607,583.342 373.733,580.439 373.86,586.94 373.986,571.643 374.112,574.737 374.239,577.566 374.365,572.456 \n",
       "  374.491,569.843 374.618,577.549 374.744,585.184 374.871,588.684 374.997,590.766 375.123,594.057 375.25,582.991 375.376,578.246 375.502,575.211 375.629,576.605 \n",
       "  375.755,580.118 375.881,581.48 376.008,577.483 376.134,584.757 376.261,578.404 376.387,566.362 376.513,567.37 376.64,569.171 376.766,563.188 376.892,561.481 \n",
       "  377.019,564.333 377.145,548.129 377.271,540.096 377.398,538 377.524,538.285 377.651,542.994 377.777,544.683 377.903,543.701 378.03,546.744 378.156,549.905 \n",
       "  378.282,546.326 378.409,545.804 378.535,548.181 378.662,546.622 378.788,540.784 378.914,544.815 379.041,542.637 379.167,534.578 379.293,528.372 379.42,536.767 \n",
       "  379.546,535.382 379.672,541.318 379.799,544.791 379.925,545.88 380.052,542.606 380.178,549.419 380.304,551.681 380.431,549.382 380.557,548.911 380.683,547.438 \n",
       "  380.81,548.519 380.936,549.237 381.062,551.383 381.189,551.558 381.315,551.301 381.442,550.293 381.568,545.373 381.694,541.594 381.821,545.876 381.947,547.174 \n",
       "  382.073,557.886 382.2,568.068 382.326,568.315 382.452,561.063 382.579,561.449 382.705,559.995 382.832,556.328 382.958,568.023 383.084,580.806 383.211,588.769 \n",
       "  383.337,598.568 383.463,601.547 383.59,604.155 383.716,616.11 383.842,608.308 383.969,611.417 384.095,606.598 384.222,607.417 384.348,598.33 384.474,604.564 \n",
       "  384.601,602.743 384.727,597.726 384.853,589.896 384.98,594.236 385.106,595.541 385.232,589.772 385.359,601.948 385.485,600.413 385.612,608.593 385.738,606.878 \n",
       "  385.864,599.604 385.991,593.17 386.117,590.119 386.243,586.689 386.37,586.378 386.496,586.116 386.622,591.759 386.749,598.96 386.875,590.102 387.002,594.77 \n",
       "  387.128,593.914 387.254,590.073 387.381,587.616 387.507,584.3 387.633,593.68 387.76,604.679 387.886,603.357 388.012,593.762 388.139,595.92 388.265,596.705 \n",
       "  388.392,595.781 388.518,604.423 388.644,606.987 388.771,605.41 388.897,606.113 389.023,602.938 389.15,609.681 389.276,619.084 389.403,620.712 389.529,616.677 \n",
       "  389.655,618.799 389.782,627.864 389.908,635.005 390.034,630.535 390.161,647.918 390.287,637.169 390.413,683.253 390.54,675.486 390.666,665.187 390.793,674.323 \n",
       "  390.919,677.165 391.045,665.778 391.172,675.952 391.298,678.438 391.424,675.704 391.551,669.615 391.677,654.345 391.803,660.301 391.93,655.429 392.056,660.368 \n",
       "  392.183,655.311 392.309,649.921 392.435,644.781 392.562,643.944 392.688,643.971 392.814,647.982 392.941,611.46 393.067,583.176 393.193,554.336 393.32,555.716 \n",
       "  393.446,474.474 393.573,502.869 393.699,508.926 393.825,507.254 393.952,504.359 394.078,506.672 394.204,502.456 394.331,509.657 394.457,511.582 394.583,501.742 \n",
       "  394.71,480.888 394.836,444.357 394.963,432.847 395.089,434.23 395.215,421.462 395.342,446.93 395.468,450.025 395.594,454.111 395.721,459.147 395.847,463.126 \n",
       "  395.973,475.962 396.1,484.635 396.226,487.377 396.353,482.874 396.479,483.32 396.605,472.252 396.732,481.336 396.858,490.406 396.984,480.516 397.111,475.836 \n",
       "  397.237,472.431 397.363,481.927 397.49,474.665 397.616,440.853 397.743,451.404 397.869,450.952 397.995,452.139 398.122,446.653 398.248,444.246 398.374,448.17 \n",
       "  398.501,447.861 398.627,448.097 398.753,452.866 398.88,468.07 399.006,480.154 399.133,509.081 399.259,511.214 399.385,502.66 399.512,492.455 399.638,489.288 \n",
       "  399.764,496.701 399.891,522.794 400.017,517.603 400.144,508.015 400.27,512.073 400.396,518.4 400.523,517.14 400.649,505.743 400.775,506.854 400.902,505.925 \n",
       "  401.028,501.536 401.154,489.38 401.281,507.875 401.407,504.037 401.534,505.17 401.66,495.139 401.786,503.364 401.913,515.587 402.039,513.224 402.165,510.245 \n",
       "  402.292,503.916 402.418,501.143 402.544,505.293 402.671,499.446 402.797,509.596 402.924,509.675 403.05,507.948 403.176,507.584 403.303,511.208 403.429,533.815 \n",
       "  403.555,543.505 403.682,540.431 403.808,551.472 403.934,548.288 404.061,546.013 404.187,549.964 404.314,552.795 404.44,546.158 404.566,543.63 404.693,540.719 \n",
       "  404.819,544.893 404.945,554.191 405.072,551.132 405.198,558.07 405.324,566.994 405.451,577.716 405.577,582.604 405.704,591.387 405.83,593.575 405.956,609.702 \n",
       "  406.083,592.26 406.209,591.576 406.335,597.713 406.462,589.903 406.588,596.939 406.714,584.061 406.841,590.719 406.967,587.294 407.094,608.618 407.22,607.414 \n",
       "  407.346,598.58 407.473,592.036 407.599,601.586 407.725,597.166 407.852,594.417 407.978,587.077 408.104,588.954 408.231,590.307 408.357,591.442 408.484,585.295 \n",
       "  408.61,602.616 408.736,604.593 408.863,596.53 408.989,598.53 409.115,606.975 409.242,617.675 409.368,617.918 409.494,613.244 409.621,606.678 409.747,602.271 \n",
       "  409.874,608.432 410,601.732 410.126,607.559 410.253,591.804 410.379,599.182 410.505,614.965 410.632,614.864 410.758,615.046 410.885,612.174 411.011,610.781 \n",
       "  411.137,616.474 411.264,614.705 411.39,610.918 411.516,613.64 411.643,616.081 411.769,611.034 411.895,608.94 412.022,605.693 412.148,601.734 412.275,605.352 \n",
       "  412.401,623.323 412.527,583.359 412.654,600.676 412.78,618.822 412.906,628.527 413.033,632.883 413.159,620.284 413.285,624.323 413.412,623.47 413.538,620.28 \n",
       "  413.665,613.581 413.791,608.997 413.917,602.286 414.044,605.537 414.17,608.646 414.296,595.892 414.423,596.263 414.549,596.222 414.675,597.19 414.802,590.618 \n",
       "  414.928,597.047 415.055,597.61 415.181,599.596 415.307,603.787 415.434,597.114 415.56,598.533 415.686,607.248 415.813,601.713 415.939,597.755 416.065,592.84 \n",
       "  416.192,601.611 416.318,593.49 416.445,589.693 416.571,598.108 416.697,598.436 416.824,597.625 416.95,601.772 417.076,609.422 417.203,610.982 417.329,603.476 \n",
       "  417.455,611.323 417.582,616.843 417.708,609.57 417.835,604.931 417.961,598.885 418.087,604.667 418.214,604.611 418.34,621.119 418.466,628.508 418.593,640.69 \n",
       "  418.719,656.633 418.845,661.209 418.972,671.488 419.098,660.599 419.225,661.898 419.351,663.946 419.477,655.651 419.604,676.064 419.73,665.658 419.856,663.27 \n",
       "  419.983,654.958 420.109,651.286 420.235,648.5 420.362,649.904 420.488,663.384 420.615,656.532 420.741,656.148 420.867,655.717 420.994,654.519 421.12,665.166 \n",
       "  421.246,671.81 421.373,672.686 421.499,672.428 421.625,686.534 421.752,675.922 421.878,663.305 422.005,658.56 422.131,653.991 422.257,657.031 422.384,653.724 \n",
       "  422.51,663.875 422.636,661.679 422.763,662.164 422.889,660.916 423.016,659.694 423.142,652.266 423.268,646.042 423.395,649.351 423.521,658.889 423.647,660.948 \n",
       "  423.774,654.757 423.9,649.062 424.026,649 424.153,642.537 424.279,635.988 424.406,640.113 424.532,632.416 424.658,628.542 424.785,619.726 424.911,614.463 \n",
       "  425.037,621.942 425.164,619.134 425.29,628.141 425.416,624.302 425.543,624.137 425.669,627.783 425.796,632.507 425.922,631.285 426.048,629.917 426.175,631.464 \n",
       "  426.301,627.281 426.427,623.404 426.554,626.556 426.68,614.228 426.806,615.486 426.933,622.134 427.059,612.555 427.186,615.455 427.312,617.498 427.438,618.316 \n",
       "  427.565,613.607 427.691,609.48 427.817,610.443 427.944,602.244 428.07,612.75 428.196,620.725 428.323,619.918 428.449,623.484 428.576,626.851 428.702,610.338 \n",
       "  428.828,616.55 428.955,614.336 429.081,614.02 429.207,617.464 429.334,614.4 429.46,606.469 429.586,604.13 429.713,602.74 429.839,604.107 429.966,605.707 \n",
       "  430.092,614.297 430.218,612.37 430.345,614.946 430.471,605.469 430.597,598.863 430.724,605.904 430.85,607.02 430.976,609.382 431.103,610.549 431.229,608.536 \n",
       "  431.356,610.232 431.482,614.735 431.608,606.065 431.735,603.468 431.861,586.048 431.987,590.492 432.114,594.934 432.24,594.057 432.366,586.884 432.493,586.063 \n",
       "  432.619,592.648 432.746,584.145 432.872,569.635 432.998,571.697 433.125,574 433.251,582.857 433.377,585.267 433.504,580.092 433.63,578.655 433.757,580.434 \n",
       "  433.883,583.243 434.009,587.027 434.136,587.715 434.262,587.932 434.388,594.29 434.515,596.681 434.641,598.612 434.767,595.607 434.894,601.515 435.02,604.482 \n",
       "  435.147,621.132 435.273,625.747 435.399,624.238 435.526,639.02 435.652,636.021 435.778,644.961 435.905,646.818 436.031,638.428 436.157,636.507 436.284,642.302 \n",
       "  436.41,634.586 436.537,629.677 436.663,638.924 436.789,646.67 436.916,641.548 437.042,649.132 437.168,642.625 437.295,632.85 437.421,634.848 437.547,628.672 \n",
       "  437.674,625.661 437.8,626.072 437.927,627.453 438.053,624.887 438.179,624.211 438.306,625.267 438.432,628.815 438.558,623.238 438.685,629.384 438.811,628.827 \n",
       "  438.937,642.298 439.064,637.671 439.19,642.825 439.317,633.251 439.443,637.708 439.569,642.728 439.696,643.132 439.822,645.279 439.948,642.002 440.075,652.448 \n",
       "  440.201,656.892 440.327,663.184 440.454,670.132 440.58,667.809 440.707,670.789 440.833,658.15 440.959,654.39 441.086,656.115 441.212,660.814 441.338,653.868 \n",
       "  441.465,656.308 441.591,657.314 441.717,665.464 441.844,664.435 441.97,663.972 442.097,672.545 442.223,662.032 442.349,657.13 442.476,653.268 442.602,647.443 \n",
       "  442.728,637.107 442.855,634.092 442.981,621.29 443.107,627.709 443.234,631.648 443.36,630.137 443.487,641.463 443.613,648.42 443.739,662.697 443.866,662.325 \n",
       "  443.992,651.952 444.118,652.01 444.245,639.996 444.371,630.852 444.498,630.266 444.624,624.497 444.75,631.144 444.877,635.14 445.003,627.898 445.129,625.13 \n",
       "  445.256,621.749 445.382,630.205 445.508,630.356 445.635,627.291 445.761,632.749 445.888,636.178 446.014,631.445 446.14,635.037 446.267,627.989 446.393,631.126 \n",
       "  446.519,629.991 446.646,614.592 446.772,614.912 446.898,620.657 447.025,614.912 447.151,619.565 447.278,621.082 447.404,608.762 447.53,612.545 447.657,605.838 \n",
       "  447.783,601.55 447.909,600.114 448.036,596.49 448.162,600.077 448.288,605.933 448.415,605.717 448.541,612.26 448.668,612.81 448.794,607.594 448.92,615.305 \n",
       "  449.047,613.966 449.173,614.13 449.299,617.149 449.426,618.158 449.552,615.862 449.678,611.467 449.805,610.259 449.931,609.586 450.058,592.278 450.184,590.577 \n",
       "  450.31,595.677 450.437,593.112 450.563,598.491 450.689,598.617 450.816,593.305 450.942,590.585 451.068,592.064 451.195,596.068 451.321,594.115 451.448,594.933 \n",
       "  451.574,590.041 451.7,585.039 451.827,586.937 451.953,594.356 452.079,592.55 452.206,597.71 452.332,588.927 452.458,595.205 452.585,595.825 452.711,596.253 \n",
       "  452.838,591.769 452.964,590.083 453.09,592.563 453.217,590.127 453.343,581.477 453.469,586.22 453.596,587.694 453.722,591.276 453.848,590.819 453.975,596.211 \n",
       "  454.101,594.448 454.228,595.111 454.354,595.643 454.48,593.459 454.607,591.843 454.733,589.391 454.859,590.502 454.986,594.123 455.112,607.118 455.239,602.107 \n",
       "  455.365,614.763 455.491,615.864 455.618,626.143 455.744,617.424 455.87,628.817 455.997,620.129 456.123,618.699 456.249,613.872 456.376,599.443 456.502,591.035 \n",
       "  456.629,584.575 456.755,584.486 456.881,581.144 457.008,578.26 457.134,589.545 457.26,576.156 457.387,579.094 457.513,579.308 457.639,580.421 457.766,575.81 \n",
       "  457.892,580.532 458.019,581.442 458.145,575.607 458.271,584.688 458.398,586.367 458.524,585.274 458.65,582.374 458.777,579.658 458.903,577.595 459.029,554.135 \n",
       "  459.156,562.802 459.282,560.961 459.409,566.711 459.535,566.648 459.661,572.01 459.788,566.803 459.914,558.046 460.04,563.678 460.167,562.84 460.293,567.085 \n",
       "  460.419,573.784 460.546,573.002 460.672,570.949 460.799,570.778 460.925,577.557 461.051,587.161 461.178,583.662 461.304,587.204 461.43,590.389 461.557,593.173 \n",
       "  461.683,600.626 461.809,596.163 461.936,590.135 462.062,596.082 462.189,593.846 462.315,585.518 462.441,587.48 462.568,587.455 462.694,586.462 462.82,580.286 \n",
       "  462.947,573.525 463.073,574.557 463.199,573.96 463.326,576.602 463.452,581.324 463.579,593.954 463.705,598.81 463.831,601.233 463.958,599.219 464.084,595.749 \n",
       "  464.21,586.206 464.337,586.159 464.463,577.251 464.589,571.221 464.716,584.49 464.842,589.885 464.969,576.45 465.095,579.149 465.221,579.756 465.348,573.407 \n",
       "  465.474,561.565 465.6,553.737 465.727,550.058 465.853,546.949 465.98,549.628 466.106,556.324 466.232,562.415 466.359,553.803 466.485,556.869 466.611,547.63 \n",
       "  466.738,554.45 466.864,560.354 466.99,555.357 467.117,562.731 467.243,563.063 467.37,559.651 467.496,547.24 467.622,550.356 467.749,548.73 467.875,543.337 \n",
       "  468.001,540.584 468.128,540.821 468.254,535.965 468.38,540.661 468.507,545.627 468.633,544.893 468.76,545.841 468.886,541.051 469.012,531.658 469.139,524.089 \n",
       "  469.265,529.626 469.391,514.911 469.518,517.648 469.644,522.582 469.77,527.579 469.897,530.189 470.023,528.277 470.15,536.229 470.276,533.245 470.402,538.158 \n",
       "  470.529,536.193 470.655,530.932 470.781,535.899 470.908,522.48 471.034,521.129 471.16,526.89 471.287,531.389 471.413,534.321 471.54,535.871 471.666,530.54 \n",
       "  471.792,541.175 471.919,543.807 472.045,542.165 472.171,548.522 472.298,541.181 472.424,544.35 472.55,537.182 472.677,536.87 472.803,533.864 472.93,531.642 \n",
       "  473.056,517.94 473.182,502.597 473.309,538.01 473.435,542.202 473.561,549.903 473.688,546.221 473.814,549.961 473.94,550.187 474.067,544.067 474.193,547.638 \n",
       "  474.32,540.286 474.446,532.785 474.572,516.586 474.699,520.955 474.825,537.356 474.951,549.578 475.078,550.185 475.204,551.014 475.33,559.503 475.457,562.464 \n",
       "  475.583,572.337 475.71,578.83 475.836,569.012 475.962,599.555 476.089,592.271 476.215,600.723 476.341,598.673 476.468,596.786 476.594,591.659 476.721,584.734 \n",
       "  476.847,595.707 476.973,593.991 477.1,594.664 477.226,585.275 477.352,582.759 477.479,578.838 477.605,577.532 477.731,580.102 477.858,585.269 477.984,586.882 \n",
       "  478.111,575.977 478.237,574.383 478.363,571.796 478.49,571.643 478.616,569.579 478.742,566.428 478.869,561.319 478.995,559.507 479.121,556.099 479.248,567.561 \n",
       "  479.374,575.835 479.501,579.767 479.627,576.343 479.753,577.417 479.88,571.541 480.006,570.166 480.132,624.835 480.259,616.009 480.385,612.095 480.511,614.352 \n",
       "  480.638,606.711 480.764,607.419 480.891,602.558 481.017,605.126 481.143,607.509 481.27,619.765 481.396,624.384 481.522,630.464 481.649,633.987 481.775,635.037 \n",
       "  481.901,642.574 482.028,645.25 482.154,641.664 482.281,632.802 482.407,631.916 482.533,623.492 482.66,631.918 482.786,632.153 482.912,628.328 483.039,622.472 \n",
       "  483.165,621.618 483.291,627.135 483.418,627.133 483.544,619.931 483.671,622.04 483.797,632.82 483.923,630.347 484.05,629.065 484.176,622.241 484.302,631.897 \n",
       "  484.429,619.499 484.555,620.873 484.681,623.504 484.808,629.997 484.934,620.953 485.061,620.047 485.187,626.368 485.313,623.728 485.44,619.171 485.566,619.693 \n",
       "  485.692,626.263 485.819,622.116 485.945,619.266 486.071,625.346 486.198,627.323 486.324,619.116 486.451,611.499 486.577,609.829 486.703,611.542 486.83,610.609 \n",
       "  486.956,606.96 487.082,610.311 487.209,613.18 487.335,612.381 487.462,603.606 487.588,604.099 487.714,605.765 487.841,599.549 487.967,599.761 488.093,596.193 \n",
       "  488.22,598.425 488.346,605.674 488.472,601.13 488.599,603.708 488.725,601.388 488.852,598.082 488.978,583.942 489.104,586.246 489.231,588.774 489.357,587.813 \n",
       "  489.483,581.327 489.61,585.267 489.736,586.694 489.862,585.361 489.989,587.238 490.115,589.743 490.242,596.57 490.368,594.931 490.494,589.605 490.621,586.533 \n",
       "  490.747,576.929 490.873,577.249 491,574.175 491.126,577.611 491.252,573.631 491.379,567.635 491.505,565.561 491.632,563.399 491.758,563.309 491.884,567.735 \n",
       "  492.011,564.341 492.137,573.348 492.263,572.699 492.39,576.901 492.516,580.15 492.642,574.95 492.769,568.472 492.895,568.445 493.022,573.805 493.148,568.102 \n",
       "  493.274,559.026 493.401,560.152 493.527,563.642 493.653,565.951 493.78,570.472 493.906,562.349 494.032,577.035 494.159,571.108 494.285,578.378 494.412,579.93 \n",
       "  494.538,572.401 494.664,578.734 494.791,576.112 494.917,573.113 495.043,569.487 495.17,562.89 495.296,566.759 495.422,585.604 495.549,596.868 495.675,600.019 \n",
       "  495.802,592.518 495.928,583.738 496.054,580.357 496.181,590.584 496.307,581.374 496.433,579.857 496.56,562.729 496.686,546.831 496.812,533.727 496.939,546.841 \n",
       "  497.065,552.077 497.192,551.138 497.318,538.732 497.444,545.39 497.571,547.322 497.697,555.78 497.823,553.623 497.95,558.966 498.076,552.188 498.202,554.21 \n",
       "  498.329,551.486 498.455,549.85 498.582,546.859 498.708,555.236 498.834,555.991 498.961,558.941 499.087,558.395 499.213,559.933 499.34,561.106 499.466,559.326 \n",
       "  499.593,565.5 499.719,571.686 499.845,569.844 499.972,569.173 500.098,571.76 500.224,566.26 500.351,561.531 500.477,566.365 500.603,563.906 500.73,566.159 \n",
       "  500.856,562.731 500.983,565.864 501.109,571.751 501.235,573.066 501.362,575.736 501.488,569.298 501.614,568.635 501.741,571.458 501.867,572.928 501.993,580.479 \n",
       "  502.12,574.984 502.246,563.599 502.373,559.375 502.499,559.796 502.625,558.826 502.752,565.518 502.878,557.163 503.004,565.764 503.131,568.134 503.257,567.176 \n",
       "  503.383,544.716 503.51,552.404 503.636,540.467 503.763,538.027 503.889,546.97 504.015,549.599 504.142,547.458 504.268,545.529 504.394,551.09 504.521,553.072 \n",
       "  504.647,561.208 504.773,551.356 504.9,554.521 505.026,556.49 505.153,557.36 505.279,553.075 505.405,549.071 505.532,541.85 505.658,541.985 505.784,548.575 \n",
       "  505.911,538.541 506.037,530.527 506.163,527.839 506.29,533.574 506.416,535.079 506.543,534.995 506.669,533.189 506.795,527.283 506.922,530.162 507.048,527.121 \n",
       "  507.174,530.526 507.301,534.707 507.427,534.599 507.553,537.626 507.68,538.296 507.806,529.125 507.933,531.202 508.059,536.053 508.185,535.044 508.312,533.266 \n",
       "  508.438,533.155 508.564,535.479 508.691,534.504 508.817,540.605 508.943,539.344 509.07,543.333 509.196,541.516 509.323,550.443 509.449,546.823 509.575,544.83 \n",
       "  509.702,540.827 509.828,540.175 509.954,544.753 510.081,537.485 510.207,538.201 510.334,531.88 510.46,529.825 510.586,533.546 510.713,537.588 510.839,536.156 \n",
       "  510.965,523.388 511.092,516.436 511.218,528.687 511.344,530.252 511.471,527.005 511.597,528.12 511.724,529.236 511.85,525.398 511.976,528.521 512.103,545.854 \n",
       "  512.229,547.752 512.355,552.758 512.482,558.78 512.608,555.714 512.734,561.622 512.861,554.68 512.987,551.459 513.114,550.654 513.24,552.887 513.366,552.372 \n",
       "  513.493,547.43 513.619,545.022 513.745,542.729 513.872,544.58 513.998,545.925 514.124,537.53 514.251,538.76 514.377,538.583 514.504,542.795 514.63,548.736 \n",
       "  514.756,554.069 514.883,552.23 515.009,558.566 515.135,560.084 515.262,556.316 515.388,553.811 515.514,553.259 515.641,551.14 515.767,545.374 515.894,544.55 \n",
       "  516.02,547.297 516.146,543.41 516.273,532.284 516.399,531.052 516.525,524.474 516.652,520.302 516.778,518.368 516.904,519.117 517.031,507.902 517.157,499.915 \n",
       "  517.284,507.856 517.41,512.602 517.536,509.141 517.663,511.625 517.789,514.713 517.915,509.145 518.042,506.605 518.168,502.087 518.294,512.435 518.421,513.061 \n",
       "  518.547,502.776 518.674,503.08 518.8,509.939 518.926,508.215 519.053,519.791 519.179,520.881 519.305,519.535 519.432,523.345 519.558,521.582 519.684,531.01 \n",
       "  519.811,526.724 519.937,500.259 520.064,508.97 520.19,504.528 520.316,504.801 520.443,490.939 520.569,495.704 520.695,497.583 520.822,502.346 520.948,499.068 \n",
       "  521.075,509.781 521.201,508.374 521.327,506.381 521.454,510.021 521.58,510.086 521.706,502.28 521.833,505.169 521.959,510.968 522.085,509.632 522.212,510.979 \n",
       "  522.338,519.172 522.465,514.43 522.591,515.439 522.717,507.989 522.844,510.471 522.97,523.184 523.096,520.872 523.223,520.637 523.349,520.112 523.475,524.037 \n",
       "  523.602,524.8 523.728,525.662 523.855,533.743 523.981,528.336 524.107,527.547 524.234,524.399 524.36,529.404 524.486,531.788 524.613,534.913 524.739,531.983 \n",
       "  524.865,530.922 524.992,530.531 525.118,528.8 525.245,523.57 525.371,516.735 525.497,520.72 525.624,521.654 525.75,523.334 525.876,525.187 526.003,524.968 \n",
       "  526.129,515.81 526.255,519.395 526.382,516.401 526.508,514.338 526.635,509.012 526.761,497.947 526.887,500.643 527.014,502.581 527.14,490.905 527.266,487.057 \n",
       "  527.393,466.125 527.519,458.717 527.645,465.124 527.772,464.61 527.898,464.47 528.025,457.661 528.151,453.63 528.277,459.358 528.404,452.924 528.53,454.523 \n",
       "  528.656,455.666 528.783,452.916 528.909,461.11 529.035,460.363 529.162,461.778 529.288,468.119 529.415,469.999 529.541,465.655 529.667,468.684 529.794,467.451 \n",
       "  529.92,456.074 530.046,445.705 530.173,441.974 530.299,435.105 530.425,418.153 530.552,429.712 530.678,433.933 530.805,432.581 530.931,434.123 531.057,434.089 \n",
       "  531.184,438.529 531.31,432.421 531.436,430.702 531.563,428.805 531.689,431.607 531.816,437.292 531.942,423.563 532.068,431.917 532.195,436.447 532.321,434.658 \n",
       "  532.447,430.703 532.574,438.12 532.7,439.953 532.826,440.317 532.953,447.941 533.079,440.502 533.206,450.263 533.332,448.02 533.458,453.287 533.585,446.804 \n",
       "  533.711,434.3 533.837,434.017 533.964,433.392 534.09,437.886 534.216,443.341 534.343,448.452 534.469,452.746 534.596,457.996 534.722,457.978 534.848,452.399 \n",
       "  534.975,447.473 535.101,453.296 535.227,457.423 535.354,460.158 535.48,461.529 535.606,459.954 535.733,451.519 535.859,451.089 535.986,451.224 536.112,447.49 \n",
       "  536.238,454.855 536.365,452.94 536.491,453.536 536.617,460.857 536.744,467.156 536.87,465.473 536.996,466.623 537.123,466.257 537.249,469.093 537.376,466.124 \n",
       "  537.502,458.933 537.628,461.994 537.755,456.235 537.881,458.405 538.007,456.913 538.134,454.214 538.26,459.762 538.386,455.262 538.513,445.072 538.639,447.465 \n",
       "  538.766,451.543 538.892,446.267 539.018,442.393 539.145,435.4 539.271,441.9 539.397,440.779 539.524,440.134 539.65,443.214 539.776,450.408 539.903,445.832 \n",
       "  540.029,443.356 540.156,446.453 540.282,447.485 540.408,445.045 540.535,438.483 540.661,431.112 540.787,413.791 540.914,416.208 541.04,422.347 541.166,422.49 \n",
       "  541.293,421.003 541.419,418.581 541.546,419.124 541.672,418.98 541.798,420.605 541.925,417.811 542.051,409.033 542.177,407.839 542.304,418.526 542.43,428.908 \n",
       "  542.557,428.171 542.683,443.718 542.809,443.835 542.936,443.149 543.062,439.654 543.188,446.956 543.315,453.905 543.441,450.017 543.567,441.919 543.694,439.261 \n",
       "  543.82,434.337 543.947,430.736 544.073,441.971 544.199,451.094 544.326,445.51 544.452,441.475 544.578,433.924 544.705,435.787 544.831,424.521 544.957,426.928 \n",
       "  545.084,415.153 545.21,425.453 545.337,435.632 545.463,436.864 545.589,440.322 545.716,432.125 545.842,434.478 545.968,426.678 546.095,419.922 546.221,418.087 \n",
       "  546.347,428.056 546.474,428.275 546.6,427.018 546.727,422.619 546.853,428.474 546.979,433.008 547.106,426.348 547.232,426.342 547.358,429.718 547.485,438.062 \n",
       "  547.611,443.62 547.737,439.736 547.864,445.429 547.99,442.14 548.117,435.878 548.243,435.373 548.369,436.241 548.496,434.585 548.622,433.508 548.748,438.712 \n",
       "  548.875,446.965 549.001,440.589 549.127,440.3 549.254,451.108 549.38,452.449 549.507,457.193 549.633,449.213 549.759,447.017 549.886,448.954 550.012,447.938 \n",
       "  550.138,450.57 550.265,456.104 550.391,456.281 550.517,456.805 550.644,460.268 550.77,458.531 550.897,451.248 551.023,454.633 551.149,450.025 551.276,450.129 \n",
       "  551.402,446.226 551.528,445.784 551.655,445.542 551.781,446.164 551.907,449.215 552.034,443.381 552.16,439.755 552.287,438.409 552.413,442.728 552.539,440.077 \n",
       "  552.666,436.339 552.792,436.799 552.918,444.8 553.045,449.701 553.171,455.765 553.298,456.051 553.424,461.571 553.55,456.394 553.677,449.427 553.803,446.085 \n",
       "  553.929,449.785 554.056,456.589 554.182,453.921 554.308,456.605 554.435,456.268 554.561,466.032 554.688,468.114 554.814,465.584 554.94,468.977 555.067,462.319 \n",
       "  555.193,458.077 555.319,461.723 555.446,461.342 555.572,466.125 555.698,463.374 555.825,463.639 555.951,467.711 556.078,466.206 556.204,453.056 556.33,457.887 \n",
       "  556.457,447.204 556.583,445.605 556.709,450.171 556.836,456.231 556.962,457.268 557.088,456.442 557.215,475.123 557.341,470.473 557.468,485.332 557.594,487.805 \n",
       "  557.72,494.518 557.847,496.152 557.973,492.294 558.099,486.405 558.226,488.984 558.352,489.757 558.478,498.434 558.605,480.016 558.731,477.852 558.858,470.529 \n",
       "  558.984,473.564 559.11,475.791 559.237,476.325 559.363,462.741 559.489,455.141 559.616,454.096 559.742,452.462 559.868,458.288 559.995,461.073 560.121,463.07 \n",
       "  560.248,463.524 560.374,457.677 560.5,460.385 560.627,460.786 560.753,460.377 560.879,451.778 561.006,451.052 561.132,456.465 561.258,447.432 561.385,441.377 \n",
       "  561.511,448.431 561.638,440.707 561.764,428.433 561.89,433.36 562.017,436.427 562.143,439.561 562.269,441.003 562.396,443.583 562.522,444.389 562.648,447.977 \n",
       "  562.775,445.28 562.901,454.924 563.028,456.256 563.154,453.246 563.28,452.119 563.407,452.116 563.533,446.147 563.659,448.72 563.786,453.935 563.912,449.529 \n",
       "  564.039,443.613 564.165,442.401 564.291,425.1 564.418,436.84 564.544,437.883 564.67,437.03 564.797,431.552 564.923,429.293 565.049,431.906 565.176,430.707 \n",
       "  565.302,435.743 565.429,436.146 565.555,432.914 565.681,427.124 565.808,413.683 565.934,419.963 566.06,424.698 566.187,427.884 566.313,426.318 566.439,426.836 \n",
       "  566.566,429.093 566.692,431.726 566.819,427.854 566.945,425.875 567.071,423.87 567.198,426.29 567.324,426.809 567.45,429.058 567.577,424.104 567.703,421.202 \n",
       "  567.829,428.419 567.956,432.317 568.082,437.614 568.209,434.548 568.335,429.357 568.461,434.621 568.588,432.961 568.714,424.696 568.84,426.68 568.967,428.472 \n",
       "  569.093,426.416 569.219,423.223 569.346,424.77 569.472,431.843 569.599,433.924 569.725,432.734 569.851,434.975 569.978,432.913 570.104,430.522 570.23,428.222 \n",
       "  570.357,430.246 570.483,433.854 570.609,436.158 570.736,434.094 570.862,436.262 570.989,434.93 571.115,441.604 571.241,435.722 571.368,433.315 571.494,437.693 \n",
       "  571.62,448.67 571.747,460.038 571.873,459.746 571.999,460.274 572.126,455.054 572.252,455.364 572.379,456.182 572.505,452.936 572.631,458.468 572.758,464.147 \n",
       "  572.884,467.649 573.01,463.95 573.137,458.716 573.263,456.911 573.389,456.465 573.516,453.245 573.642,446.083 573.769,443.583 573.895,443.586 574.021,441.543 \n",
       "  574.148,431.228 574.274,430.681 574.4,425.876 574.527,427.715 574.653,428.575 574.779,425.059 574.906,409.776 575.032,393.671 575.159,371.164 575.285,374.099 \n",
       "  575.411,376.421 575.538,366.3 575.664,362.189 575.79,360.938 575.917,365.482 576.043,380.77 576.17,381.167 576.296,388.278 576.422,391.015 576.549,383.967 \n",
       "  576.675,384.492 576.801,384.512 576.928,393.67 577.054,384.418 577.18,376.012 577.307,387.357 577.433,396.631 577.56,390.905 577.686,385.772 577.812,385.523 \n",
       "  577.939,389.015 578.065,389.484 578.191,390.456 578.318,392.556 578.444,398.82 578.57,390.16 578.697,394.956 578.823,393.631 578.95,394.705 579.076,395.436 \n",
       "  579.202,401.884 579.329,407.251 579.455,402.69 579.581,406.43 579.708,396.901 579.834,398.544 579.96,402.873 580.087,400.558 580.213,402.274 580.34,400.877 \n",
       "  580.466,407.443 580.592,404.738 580.719,406.201 580.845,404.821 580.971,403.184 581.098,382.932 581.224,381.343 581.35,381.628 581.477,369.76 581.603,368.478 \n",
       "  581.73,370.27 581.856,376.68 581.982,377.554 582.109,381.103 582.235,379.688 582.361,376.749 582.488,355.865 582.614,355.863 582.74,342.72 582.867,343.828 \n",
       "  582.993,331.973 583.12,332.464 583.246,342.087 583.372,338.999 583.499,335.233 583.625,327.658 583.751,326.04 583.878,323.327 584.004,330.838 584.13,332.045 \n",
       "  584.257,332.897 584.383,327.065 584.51,332.047 584.636,332.393 584.762,334.678 584.889,335.698 585.015,335.694 585.141,348.589 585.268,350.32 585.394,355.147 \n",
       "  585.52,348.882 585.647,352.817 585.773,349.36 585.9,342.33 586.026,338.793 586.152,334.858 586.279,340.517 586.405,339.13 586.531,345.377 586.658,344.794 \n",
       "  586.784,336.037 586.911,335.214 587.037,334.824 587.163,327.033 587.29,331.139 587.416,335.151 587.542,328.972 587.669,328.295 587.795,328.538 587.921,331.915 \n",
       "  588.048,327.923 588.174,326.091 588.301,325.199 588.427,303.339 588.553,296.581 588.68,312.573 588.806,317.347 588.932,312.215 589.059,311.913 589.185,309.435 \n",
       "  589.311,307.282 589.438,300.331 589.564,296.483 589.691,287.631 589.817,302.479 589.943,305.69 590.07,309.592 590.196,305.859 590.322,300.066 590.449,306.962 \n",
       "  590.575,327.878 590.701,330.252 590.828,323.571 590.954,315.002 591.081,311.959 591.207,316.445 591.333,320.829 591.46,327.653 591.586,322.227 591.712,328.527 \n",
       "  591.839,325.016 591.965,306.962 592.091,315.366 592.218,314.025 592.344,319.016 592.471,313.679 592.597,309.692 592.723,311.267 592.85,320.475 592.976,324.713 \n",
       "  593.102,317.979 593.229,315.775 593.355,316.197 593.481,321.217 593.608,316.331 593.734,309.383 593.861,306.145 593.987,309.937 594.113,318.243 594.24,314.664 \n",
       "  594.366,308.171 594.492,301.896 594.619,309.372 594.745,322.829 594.871,334.547 594.998,339.551 595.124,341.59 595.251,333.997 595.377,327.06 595.503,312.592 \n",
       "  595.63,293.141 595.756,303.067 595.882,301.402 596.009,313.706 596.135,306.949 596.261,291.418 596.388,289.016 596.514,299.892 596.641,290.796 596.767,296.504 \n",
       "  596.893,306.121 597.02,308.804 597.146,314.331 597.272,320.44 597.399,309.984 597.525,304.207 597.652,314.294 597.778,314.482 597.904,317.807 598.031,314.455 \n",
       "  598.157,329.253 598.283,336.702 598.41,335.219 598.536,335.821 598.662,337.508 598.789,344.486 598.915,334.1 599.042,336.172 599.168,332.446 599.294,338.429 \n",
       "  599.421,333.89 599.547,335.438 599.673,339.312 599.8,335.653 599.926,337.059 600.052,337.321 600.179,344.815 600.305,345.411 600.432,347.776 600.558,353.049 \n",
       "  600.684,353.021 600.811,347.843 600.937,358.472 601.063,349.46 601.19,351.653 601.316,349.262 601.442,350.07 601.569,342.517 601.695,341.62 601.822,338.354 \n",
       "  601.948,333.129 602.074,335.069 602.201,333.182 602.327,339.374 602.453,342.952 602.58,341.271 602.706,348.814 602.832,345.374 602.959,338.516 603.085,344.62 \n",
       "  603.212,348.888 603.338,352.627 603.464,353.419 603.591,348.956 603.717,349.962 603.843,347.059 603.97,349.503 604.096,350.734 604.222,347.061 604.349,339.151 \n",
       "  604.475,345.362 604.602,348.104 604.728,348.283 604.854,349.705 604.981,348.539 605.107,353.166 605.233,353.585 605.36,356.515 605.486,354.995 605.612,355.662 \n",
       "  605.739,361.07 605.865,350.574 605.992,343.087 606.118,345.37 606.244,348.748 606.371,346.238 606.497,338.922 606.623,338.959 606.75,334.866 606.876,337.254 \n",
       "  607.002,338.426 607.129,342.962 607.255,344.581 607.382,345.72 607.508,339.69 607.634,342.978 607.761,344.003 607.887,344.327 608.013,342.132 608.14,337.012 \n",
       "  608.266,331.242 608.393,329.049 608.519,329.05 608.645,321.48 608.772,323.489 608.898,324.317 609.024,326.395 609.151,327.231 609.277,317.401 609.403,318.805 \n",
       "  609.53,326.597 609.656,324.864 609.783,332.163 609.909,331.305 610.035,328.414 610.162,333.415 610.288,333.607 610.414,332.837 610.541,325.263 610.667,321.431 \n",
       "  610.793,326.828 610.92,327.51 611.046,327.658 611.173,334.098 611.299,335.285 611.425,341.83 611.552,345.369 611.678,345.715 611.804,354.208 611.931,350.246 \n",
       "  612.057,341.859 612.183,341.685 612.31,337.941 612.436,335.439 612.563,333.179 612.689,327.181 612.815,318.237 612.942,319.525 613.068,332.77 613.194,327.01 \n",
       "  613.321,321.2 613.447,327.872 613.573,326.767 613.7,327.474 613.826,323.792 613.953,316.563 614.079,325.935 614.205,329.269 614.332,324.412 614.458,321.38 \n",
       "  614.584,321.399 614.711,319.293 614.837,316.001 614.963,315.473 615.09,311.034 615.216,315.778 615.343,317.786 615.469,317.171 615.595,316.624 615.722,324.568 \n",
       "  615.848,325.846 615.974,327.323 616.101,327.965 616.227,328.716 616.353,322.692 616.48,324.808 616.606,323.37 616.733,322.876 616.859,327.616 616.985,318.575 \n",
       "  617.112,323.217 617.238,321.319 617.364,321.826 617.491,321.848 617.617,318.802 617.743,321.589 617.87,324.478 617.996,328.632 618.123,328.373 618.249,330.9 \n",
       "  618.375,324.471 618.502,328.373 618.628,321.749 618.754,320.424 618.881,323.607 619.007,325.14 619.134,329.002 619.26,329.751 619.386,329.628 619.513,325.18 \n",
       "  619.639,323.257 619.765,329.136 619.892,333.174 620.018,332.48 620.144,339.25 620.271,341.416 620.397,340.35 620.524,341.369 620.65,345.749 620.776,346.177 \n",
       "  620.903,351.331 621.029,347.74 621.155,346.277 621.282,341.749 621.408,341.442 621.534,334.798 621.661,337.793 621.787,337.862 621.914,340.458 622.04,339.281 \n",
       "  622.166,339.047 622.293,343.396 622.419,342.825 622.545,345.509 622.672,340.664 622.798,335.777 622.924,330.322 623.051,339.677 623.177,340.736 623.304,342.764 \n",
       "  623.43,339.542 623.556,343.881 623.683,345.575 623.809,343.549 623.935,343.181 624.062,342.718 624.188,342.669 624.314,341.292 624.441,341.292 624.567,339.803 \n",
       "  624.694,350.091 624.82,342.884 624.946,338.927 625.073,335.259 625.199,336.925 625.325,340.337 625.452,340.762 625.578,343.636 625.704,345.501 625.831,353.097 \n",
       "  625.957,372.766 626.084,363.975 626.21,366.918 626.336,361.954 626.463,358.736 626.589,367.915 626.715,377.273 626.842,374.151 626.968,381.865 627.094,382.65 \n",
       "  627.221,372.438 627.347,374.766 627.474,377.377 627.6,377.377 627.726,376.402 627.853,375.068 627.979,370.343 628.105,369.681 628.232,373.407 628.358,377.033 \n",
       "  628.484,374.564 628.611,373.758 628.737,378.384 628.864,385.375 628.99,380.791 629.116,370.122 629.243,367.696 629.369,367.061 629.495,369.522 629.622,367.287 \n",
       "  629.748,372.813 629.875,370.05 630.001,364.64 630.127,367.237 630.254,369.179 630.38,362.589 630.506,363.08 630.633,363.624 630.759,360.338 630.885,365.841 \n",
       "  631.012,365.888 631.138,368.023 631.265,372.869 631.391,373.276 631.517,371.338 631.644,368.52 631.77,364.464 631.896,360.478 632.023,362.096 632.149,365.558 \n",
       "  632.275,357.444 632.402,359.038 632.528,355.472 632.655,353.419 632.781,352.68 632.907,358.81 633.034,355.961 633.16,357.291 633.286,355.031 633.413,356.597 \n",
       "  633.539,358.251 633.665,351.812 633.792,353.872 633.918,354.918 634.045,346.497 634.171,344.203 634.297,346.805 634.424,339.87 634.55,339.244 634.676,342.392 \n",
       "  634.803,341.326 634.929,353.387 635.055,348.59 635.182,351.939 635.308,351.875 635.435,350.896 635.561,353.366 635.687,357.539 635.814,356.523 635.94,356.197 \n",
       "  636.066,357.443 636.193,354.549 636.319,352.822 636.445,352.561 636.572,356.596 636.698,363.473 636.825,362.711 636.951,363.191 637.077,361.201 637.204,361.143 \n",
       "  637.33,357.106 637.456,353.421 637.583,352.302 637.709,353.292 637.835,350.553 637.962,351.057 638.088,350.785 638.215,341.983 638.341,341.609 638.467,341.342 \n",
       "  638.594,341.551 638.72,347.884 638.846,350.497 638.973,353.02 639.099,347.483 639.225,347.341 639.352,350.574 639.478,353.76 639.605,360.711 639.731,356.588 \n",
       "  639.857,355.461 639.984,353.046 640.11,350.384 640.236,347.116 640.363,349.394 640.489,348.587 640.616,343.672 640.742,343.763 640.868,344.651 640.995,349.336 \n",
       "  641.121,350.84 641.247,354.725 641.374,355.346 641.5,359.851 641.626,363.807 641.753,365.144 641.879,362.664 642.006,355.198 642.132,355.561 642.258,357.233 \n",
       "  642.385,354.445 642.511,350.286 642.637,356.639 642.764,366.917 642.89,366.9 643.016,376.872 643.143,385.643 643.269,387.873 643.396,393.121 643.522,392.039 \n",
       "  643.648,381.568 643.775,383.319 643.901,380.594 644.027,380.222 644.154,389.521 644.28,397.128 644.406,392.597 644.533,399.192 644.659,415.929 644.786,411.643 \n",
       "  644.912,419.391 645.038,410.734 645.165,419.847 645.291,416.414 645.417,407.246 645.544,414.92 645.67,409.771 645.796,408.014 645.923,403.419 646.049,407.983 \n",
       "  646.176,411.083 646.302,404.047 646.428,402.727 646.555,405.211 646.681,401.896 646.807,399.313 646.934,402.868 647.06,393.673 647.186,395.914 647.313,397.231 \n",
       "  647.439,404.779 647.566,407.029 647.692,408.5 647.818,402.045 647.945,400.601 648.071,397.764 648.197,392.055 648.324,398.803 648.45,394.955 648.576,393.94 \n",
       "  648.703,396.217 648.829,391.511 648.956,390.149 649.082,387.999 649.208,387.365 649.335,386.595 649.461,384.376 649.587,383.48 649.714,381.095 649.84,379.348 \n",
       "  649.966,379.155 650.093,381.77 650.219,376.798 650.346,375.326 650.472,375.324 650.598,371.871 650.725,366.846 650.851,365.426 650.977,367.723 651.104,372.083 \n",
       "  651.23,367.068 651.356,365.521 651.483,367.478 651.609,371.019 651.736,375.17 651.862,373.785 651.988,377.902 652.115,377.78 652.241,374.659 652.367,372.539 \n",
       "  652.494,374.959 652.62,375.894 652.747,372.74 652.873,374.473 652.999,370.483 653.126,380.036 653.252,382.913 653.378,383.024 653.505,381.887 653.631,370.99 \n",
       "  653.757,372.069 653.884,374.581 654.01,382.274 654.137,382.681 654.263,378.242 654.389,385.569 654.516,388.856 654.642,389.781 654.768,392.387 654.895,390.664 \n",
       "  655.021,403.829 655.147,404.335 655.274,381.816 655.4,368.234 655.527,347.077 655.653,350.511 655.779,357.931 655.906,365.472 656.032,382.021 656.158,394.541 \n",
       "  656.285,390.958 656.411,405.372 656.537,396.299 656.664,399.17 656.79,403.158 656.917,406.927 657.043,421.748 657.169,414.443 657.296,420.33 657.422,411.906 \n",
       "  657.548,413.361 657.675,407.917 657.801,407.549 657.927,400.796 658.054,406.67 658.18,411.453 658.307,403.718 658.433,404.292 658.559,402.102 658.686,402.232 \n",
       "  658.812,409.494 658.938,414.562 659.065,419.661 659.191,417.823 659.317,420.362 659.444,419.23 659.57,417.823 659.697,416.635 659.823,416.879 659.949,421.933 \n",
       "  660.076,420.702 660.202,425.182 660.328,415.743 660.455,420.743 660.581,418.671 660.707,423.27 660.834,424.614 660.96,424.17 661.087,427.723 661.213,425.873 \n",
       "  661.339,423.339 661.466,428.514 661.592,426.231 661.718,421.78 661.845,425.627 661.971,418.042 662.097,412.685 662.224,416.752 662.35,411.155 662.477,406.663 \n",
       "  662.603,412.152 662.729,405.227 662.856,405.182 662.982,398.156 663.108,402.751 663.235,407.145 663.361,404.028 663.488,403.082 663.614,407.721 663.74,404.134 \n",
       "  663.867,401.997 663.993,400.659 664.119,397.848 664.246,394.37 664.372,393.13 664.498,395.278 664.625,390.569 664.751,394.386 664.878,395.542 665.004,397.928 \n",
       "  665.13,399.303 665.257,402.326 665.383,408.312 665.509,399.741 665.636,397.729 665.762,400.01 665.888,404.14 666.015,400.687 666.141,401.012 666.268,404.416 \n",
       "  666.394,415.437 666.52,419.95 666.647,427.205 666.773,421.734 666.899,420.061 667.026,413.567 667.152,410.692 667.278,412.477 667.405,410.431 667.531,410.405 \n",
       "  667.658,413.574 667.784,419.668 667.91,420.581 668.037,416.53 668.163,415.66 668.289,424.77 668.416,427.242 668.542,423.408 668.668,421.206 668.795,423.743 \n",
       "  668.921,428.166 669.048,429.997 669.174,432.618 669.3,433.824 669.427,429.673 669.553,435.062 669.679,436.144 669.806,435.229 669.932,430.13 670.058,434.246 \n",
       "  670.185,442.546 670.311,443.299 670.438,440.931 670.564,438.569 670.69,437.867 670.817,441.564 670.943,439.047 671.069,435.271 671.196,429.721 671.322,435.207 \n",
       "  671.448,442.224 671.575,434.239 671.701,435.009 671.828,434.92 671.954,432.267 672.08,428.277 672.207,428.071 672.333,425.664 672.459,424.926 672.586,424.347 \n",
       "  672.712,429.71 672.838,427.524 672.965,427.786 673.091,426.205 673.218,425.245 673.344,425.852 673.47,425.294 673.597,426.785 673.723,431.264 673.849,434.801 \n",
       "  673.976,442.882 674.102,436.923 674.229,445.194 674.355,429.538 674.481,420.458 674.608,426.482 674.734,417.823 674.86,420.396 674.987,412.991 675.113,418.145 \n",
       "  675.239,422.668 675.366,427.82 675.492,433.093 675.619,429.729 675.745,426.295 675.871,435.745 675.998,432.314 676.124,433.254 676.25,436.703 676.377,431.66 \n",
       "  676.503,428.084 676.629,437.107 676.756,436.138 676.882,431.024 677.009,427.768 677.135,420.262 677.261,419.5 677.388,418.924 677.514,416.784 677.64,417.811 \n",
       "  677.767,423.091 677.893,426.841 678.019,422.292 678.146,425.071 678.272,421.046 678.399,416.124 678.525,413.917 678.651,416.68 678.778,412.696 678.904,410.748 \n",
       "  679.03,416.325 679.157,416.918 679.283,420.394 679.409,418.657 679.536,417.884 679.662,421.14 679.789,422.173 679.915,414.886 680.041,414.612 680.168,409.901 \n",
       "  680.294,410.999 680.42,408.636 680.547,404.551 680.673,400.616 680.799,401.64 680.926,406.159 681.052,406.222 681.179,405.747 681.305,408.149 681.431,410.782 \n",
       "  681.558,408.154 681.684,406.959 681.81,406.438 681.937,404.208 682.063,399.11 682.189,404.942 682.316,407.979 682.442,408.855 682.569,408.159 682.695,404.957 \n",
       "  682.821,409.014 682.948,411.382 683.074,410.804 683.2,406.979 683.327,402.079 683.453,394.378 683.579,388.873 683.706,388.608 683.832,386.392 683.959,383.945 \n",
       "  684.085,388.96 684.211,390.965 684.338,385.284 684.464,383.164 684.59,383.515 684.717,385.181 684.843,386.616 684.97,382.037 685.096,377.105 685.222,380.055 \n",
       "  685.349,382.683 685.475,370.484 685.601,371.727 685.728,369.913 685.854,366.802 685.98,370.934 686.107,374.077 686.233,371.451 686.36,371.653 686.486,365.078 \n",
       "  686.612,366.667 686.739,371.13 686.865,368.019 686.991,365.002 687.118,362.832 687.244,363.402 687.37,367.81 687.497,354.458 687.623,354.805 687.75,352.397 \n",
       "  687.876,350.653 688.002,351.571 688.129,345.918 688.255,345.869 688.381,350.798 688.508,348.903 688.634,350.711 688.76,352.606 688.887,354.417 689.013,353.839 \n",
       "  689.14,349.511 689.266,348.735 689.392,348.053 689.519,349.268 689.645,335.708 689.771,338.275 689.898,341.287 690.024,342.145 690.15,340.783 690.277,336.996 \n",
       "  690.403,340.538 690.53,341.715 690.656,341.657 690.782,341.343 690.909,345.19 691.035,341.174 691.161,339.587 691.288,337.378 691.414,336.529 691.54,328.701 \n",
       "  691.667,331.997 691.793,329.862 691.92,323.637 692.046,316.311 692.172,313.194 692.299,319.284 692.425,325.297 692.551,328.065 692.678,326.51 692.804,326.048 \n",
       "  692.93,314.065 693.057,307.337 693.183,301.09 693.31,300.436 693.436,296.731 693.562,299.227 693.689,299.225 693.815,273.298 693.941,273.874 694.068,263.652 \n",
       "  694.194,256.852 694.32,264.722 694.447,274.568 694.573,268.218 694.7,267.73 694.826,258.916 694.952,256.654 695.079,262.956 695.205,270.311 695.331,272.216 \n",
       "  695.458,279.355 695.584,274.732 695.711,272.644 695.837,269.094 695.963,268.479 696.09,274.525 696.216,271.435 696.342,275.534 696.469,276.954 696.595,280.743 \n",
       "  696.721,283.016 696.848,273.306 696.974,273.119 697.101,274.889 697.227,273.269 697.353,267.957 697.48,241.917 697.606,241.841 697.732,223.049 697.859,224.618 \n",
       "  697.985,210.377 698.111,206.418 698.238,206.44 698.364,206.439 698.491,197.994 698.617,186.432 698.743,192.038 698.87,191.203 698.996,197.15 699.122,208.509 \n",
       "  699.249,210.21 699.375,203.47 699.501,199.329 699.628,204.801 699.754,202.46 699.881,200.145 700.007,185.556 700.133,188.375 700.26,186.282 700.386,193.073 \n",
       "  700.512,180.286 700.639,192.247 700.765,202.174 700.891,204.782 701.018,215.283 701.144,209.991 701.271,205.598 701.397,210.586 701.523,202.035 701.65,200.453 \n",
       "  701.776,197.646 701.902,208.746 702.029,207.864 702.155,211.493 702.281,209.757 702.408,222.421 702.534,219.101 702.661,221.754 702.787,218.977 702.913,214.636 \n",
       "  703.04,209.463 703.166,203.14 703.292,202.716 703.419,201.427 703.545,195.632 703.671,202.063 703.798,204.822 703.924,204.014 704.051,200.659 704.177,198.527 \n",
       "  704.303,197.461 704.43,202.734 704.556,208.517 704.682,204.045 704.809,197.483 704.935,188.176 705.061,192.574 705.188,192.373 705.314,190.478 705.441,189.19 \n",
       "  705.567,183.007 705.693,173.529 705.82,172.257 705.946,180.946 706.072,180.218 706.199,193.088 706.325,193.473 706.452,195.632 706.578,189.402 706.704,188.789 \n",
       "  706.831,186.279 706.957,181.299 707.083,176.309 707.21,177.512 707.336,183.083 707.462,179.037 707.589,170.967 707.715,173.814 707.842,173.899 707.968,168.42 \n",
       "  708.094,176.137 708.221,172.839 708.347,184.203 708.473,189.402 708.6,191.592 708.726,195.163 708.852,200.459 708.979,198.318 709.105,197.868 709.232,191.644 \n",
       "  709.358,198.85 709.484,208.595 709.611,214.604 709.737,210.92 709.863,215.104 709.99,209.002 710.116,202.003 710.242,206.477 710.369,204.731 710.495,206.6 \n",
       "  710.622,221.649 710.748,220.105 710.874,224.934 711.001,225.914 711.127,231.088 711.253,222.97 711.38,224.032 711.506,223.857 711.632,224.839 711.759,224.876 \n",
       "  711.885,217.494 712.012,217.447 712.138,220.168 712.264,212.762 712.391,213.336 712.517,214.855 712.643,211.618 712.77,221.083 712.896,216.652 713.022,213.501 \n",
       "  713.149,211.564 713.275,213.32 713.402,213.34 713.528,215.343 713.654,214.884 713.781,202.507 713.907,206.806 714.033,209.062 714.16,222.603 714.286,216.5 \n",
       "  714.412,214.951 714.539,221.389 714.665,217.389 714.792,216.743 714.918,223.129 715.044,226.541 715.171,221.298 715.297,219.782 715.423,217.217 715.55,219.123 \n",
       "  715.676,225.2 715.802,235.25 715.929,212.568 716.055,212.266 716.182,213.309 716.308,207.204 716.434,193.608 716.561,196.376 716.687,200.588 716.813,196.699 \n",
       "  716.94,194.537 717.066,196.195 717.193,199.309 717.319,199.087 717.445,199.836 717.572,184.656 717.698,193.698 717.824,194.102 717.951,197.092 718.077,191.748 \n",
       "  718.203,188.932 718.33,183.952 718.456,186.726 718.583,186.541 718.709,178.103 718.835,181.769 718.962,183.212 719.088,185.266 719.214,186.912 719.341,185.67 \n",
       "  719.467,183.687 719.593,193.692 719.72,193.215 719.846,195.598 719.973,191.354 720.099,193.887 720.225,193.354 720.352,181.785 720.478,184.971 720.604,190.306 \n",
       "  720.731,193.288 720.857,197.094 720.983,199.032 721.11,190.798 721.236,195.743 721.363,202.423 721.489,198.85 721.615,196.474 721.742,202.779 721.868,201.947 \n",
       "  721.994,205.453 722.121,203.774 722.247,203.164 722.373,203.795 722.5,199.657 722.626,194.695 722.753,190.179 722.879,190.451 723.005,193.872 723.132,189.628 \n",
       "  723.258,184.282 723.384,185.965 723.511,183.654 723.637,185.97 723.763,188.324 723.89,188.316 724.016,188.027 724.143,186.636 724.269,180.999 724.395,171.811 \n",
       "  724.522,165.211 724.648,159.083 724.774,141.784 724.901,143.703 725.027,146.107 725.153,138.958 725.28,140.903 725.406,140.948 725.533,143.784 725.659,149.78 \n",
       "  725.785,153.106 725.912,152.159 726.038,156.985 726.164,150.664 726.291,156.128 726.417,154.285 726.543,152.222 726.67,149.975 726.796,154.267 726.923,158.648 \n",
       "  727.049,158.437 727.175,167.051 727.302,169.614 727.428,168.553 727.554,163.586 727.681,159.13 727.807,160.208 727.933,149.743 728.06,149.198 728.186,142.951 \n",
       "  728.313,144.702 728.439,144.491 728.565,149.583 728.692,146.634 728.818,131.84 728.944,140.475 729.071,137.9 729.197,136.542 729.324,147.975 729.45,146.313 \n",
       "  729.576,147.279 729.703,146.344 729.829,155.695 729.955,156.288 730.082,151.401 730.208,150.073 730.334,151.517 730.461,146.875 730.587,137.891 730.714,140.953 \n",
       "  730.84,144.088 730.966,155.376 731.093,139.126 731.219,138.995 731.345,136.15 731.472,139.276 731.598,134.93 731.724,122.228 731.851,115.929 731.977,112.485 \n",
       "  732.104,105.227 732.23,108.465 732.356,97.8044 732.483,108.247 732.609,113.826 732.735,103.459 732.862,108.578 732.988,101.116 733.114,103.342 733.241,94.1962 \n",
       "  733.367,87.6367 733.494,89.1679 733.62,87.6286 733.746,92.5845 733.873,98.7801 733.999,97.6595 734.125,88.2228 734.252,90.1082 734.378,95.8755 734.504,95.927 \n",
       "  734.631,96.7047 734.757,103.855 734.884,107.43 735.01,103.456 735.136,98.442 735.263,102.11 735.389,102.662 735.515,107.893 735.642,105.275 735.768,106.058 \n",
       "  735.894,107.085 736.021,112.012 736.147,118.795 736.274,109.342 736.4,108.054 736.526,104.237 736.653,100.633 736.779,102.247 736.905,100.633 737.032,100.622 \n",
       "  737.158,112.232 737.284,113.236 737.411,105.41 737.537,102.348 737.664,102.751 737.79,105.713 737.916,111.907 738.043,110.935 738.169,116.736 738.295,118.47 \n",
       "  738.422,114.136 738.548,117.921 738.674,113.834 738.801,118.063 738.927,125.128 739.054,146.067 739.18,153.934 739.306,156.639 739.433,161.825 739.559,166.885 \n",
       "  739.685,158.205 739.812,156.093 739.938,151.778 740.065,150.611 740.191,150.551 740.317,146.655 740.444,148.765 740.57,157.083 740.696,155.151 740.823,166.401 \n",
       "  740.949,161.438 741.075,160.715 741.202,164.539 741.328,170.851 741.455,177.889 741.581,186.469 741.707,185.578 741.834,192.41 741.96,189.514 742.086,177.918 \n",
       "  742.213,182.988 742.339,174.487 742.465,176.044 742.592,171.497 742.718,167.774 742.845,159.679 742.971,165.039 743.097,159.15 743.224,156.075 743.35,154.831 \n",
       "  743.476,161.978 743.603,165.66 743.729,167.808 743.855,171.477 743.982,168.573 744.108,173.237 744.235,164.971 744.361,161.546 744.487,164.019 744.614,171.477 \n",
       "  744.74,169.87 744.866,185.488 744.993,187.94 745.119,190.486 745.245,200.807 745.372,200.461 745.498,192.999 745.625,192.41 745.751,202.196 745.877,195.349 \n",
       "  746.004,189.715 746.13,216.669 746.256,222.223 746.383,214.882 746.509,227.027 746.635,219.685 746.762,215.269 746.888,216.718 747.015,215.676 747.141,210.649 \n",
       "  747.267,208.951 747.394,213.18 747.52,201.776 747.646,207.767 747.773,215.091 747.899,202.388 748.025,206.027 748.152,212.424 748.278,201.642 748.405,201.681 \n",
       "  748.531,197.15 748.657,198.07 748.784,198.852 748.91,205.513 749.036,204.13 749.163,209.179 749.289,214.232 749.415,213.72 749.542,207.316 749.668,206.672 \n",
       "  749.795,182.262 749.921,170.022 750.047,181.785 750.174,177.588 750.3,181.267 750.426,183.956 750.553,182.287 750.679,184.36 750.806,175.966 750.932,172.682 \n",
       "  751.058,176.596 751.185,176.734 751.311,174.733 751.437,176.234 751.564,177.856 751.69,182.79 751.816,184.358 751.943,186.683 752.069,173.894 752.196,156.183 \n",
       "  752.322,164.507 752.448,151.736 752.575,154.562 752.701,153.18 752.827,162.292 752.954,162.284 753.08,166.586 753.206,164.053 753.333,160.005 753.459,160.368 \n",
       "  753.586,136.435 753.712,137.339 753.838,126.763 753.965,127.111 754.091,132.837 754.217,122.772 754.344,128.277 754.47,130.695 754.596,129.216 754.723,132.228 \n",
       "  754.849,128.01 754.976,125.392 755.102,133.173 755.228,138.569 755.355,142.112 755.481,150.575 755.607,164.008 755.734,174.116 755.86,181.569 755.986,193.358 \n",
       "  756.113,197.058 756.239,186.052 756.366,183.703 756.492,181.663 756.618,188.008 756.745,176.586 756.871,177.687 756.997,180.668 757.124,178.246 757.25,186.794 \n",
       "  757.376,177.04 757.503,192.285 757.629,214.191 757.756,208.807 757.882,204.55 758.008,211.092 758.135,215.9 758.261,224.953 758.387,219.651 758.514,224.612 \n",
       "  758.64,231.347 758.766,234.47 758.893,232.662 759.019,243.843 759.146,256.814 759.272,260.093 759.398,250.842 759.525,251.637 759.651,259.211 759.777,268.263 \n",
       "  759.904,253.635 760.03,254.961 760.156,245.886 760.283,240.159 760.409,244.374 760.536,243.857 760.662,243.365 760.788,243.083 760.915,247.401 761.041,250.372 \n",
       "  761.167,237.613 761.294,229.637 761.42,227.595 761.547,229.061 761.673,227.207 761.799,229.465 761.926,221.393 762.052,224.612 762.178,225.219 762.305,227.995 \n",
       "  762.431,224.644 762.557,225.101 762.684,216.336 762.81,212.718 762.937,218.888 763.063,229.437 763.189,238.95 763.316,251.679 763.442,262.067 763.568,252.763 \n",
       "  763.695,257.873 763.821,262.084 763.947,249.779 764.074,242.986 764.2,244.923 764.327,242.986 764.453,241.02 764.579,242.952 764.706,253.569 764.832,256.358 \n",
       "  764.958,244.714 765.085,241.148 765.211,236.142 765.337,239.898 765.464,239.344 765.59,235.957 765.717,238.265 765.843,239.526 765.969,243.72 766.096,236.161 \n",
       "  766.222,241.016 766.348,245.071 766.475,242.341 766.601,242.154 766.727,236.126 766.854,246.372 766.98,250.942 767.107,243.519 767.233,238.331 767.359,232.569 \n",
       "  767.486,223.686 767.612,227.61 767.738,226.584 767.865,221.17 767.991,223.433 768.117,230.091 768.244,235.916 768.37,235.139 768.497,226.217 768.623,222.163 \n",
       "  768.749,220.519 768.876,213.34 769.002,211.324 769.128,210.124 769.255,210.48 769.381,215.256 769.507,219.302 769.634,212.258 769.76,216.476 769.887,213.557 \n",
       "  770.013,215.682 770.139,215.639 770.266,208.48 770.392,200.349 770.518,204.064 770.645,215.298 770.771,220.455 770.897,230.664 771.024,233.973 771.15,234.028 \n",
       "  771.277,234.963 771.403,240.085 771.529,238.005 771.656,230.257 771.782,225.629 771.908,233.801 772.035,240.003 772.161,235.952 772.288,235.577 772.414,237.357 \n",
       "  772.54,225.939 772.667,229.585 772.793,227.339 772.919,222.005 773.046,224.908 773.172,221.411 773.298,219.782 773.425,221.728 773.551,221.451 773.678,221.54 \n",
       "  773.804,222.179 773.93,228.563 774.057,233.828 774.183,228.526 774.309,223.591 774.436,226.795 774.562,234.272 774.688,235.422 774.815,240.938 774.941,237.494 \n",
       "  775.068,242.748 775.194,253.378 775.32,250.212 775.447,244.744 775.573,240.417 775.699,238.388 775.826,235.883 775.952,234.828 776.078,229.862 776.205,234.979 \n",
       "  776.331,227.397 776.458,229.66 776.584,246.21 776.71,250.373 776.837,248.114 776.963,248.699 777.089,238.552 777.216,238.824 777.342,235.883 777.468,238.185 \n",
       "  777.595,234.978 777.721,231.943 777.848,228.656 777.974,218.151 778.1,216.621 778.227,216.355 778.353,204.774 778.479,210.728 778.606,202.27 778.732,200.032 \n",
       "  778.858,206.759 778.985,212.953 779.111,215.645 779.238,207.598 779.364,210.134 779.49,205.516 779.617,197.775 779.743,198.163 779.869,196.451 779.996,195.453 \n",
       "  780.122,200.781 780.248,197.987 780.375,191.037 780.501,183.481 780.628,185.968 780.754,186.226 780.88,177.961 781.007,176.267 781.133,168.264 781.259,173.767 \n",
       "  781.386,176.179 781.512,181.708 781.638,183.637 781.765,182.722 781.891,180.618 782.018,180.988 782.144,187.351 782.27,191.533 782.397,191.32 782.523,189.459 \n",
       "  782.649,191.132 782.776,193.267 782.902,186.242 783.029,184.263 783.155,184.215 783.281,187.87 783.408,188.225 783.534,186.855 783.66,186.396 783.787,180.444 \n",
       "  783.913,183.613 784.039,187.855 784.166,187.068 784.292,186.786 784.419,181.693 784.545,174.33 784.671,171.479 784.798,177.087 784.924,184.364 785.05,188.42 \n",
       "  785.177,185.073 785.303,191.386 785.429,184.806 785.556,181.273 785.682,184.36 785.809,178.908 785.935,178.051 786.061,177.154 786.188,183.553 786.314,187.333 \n",
       "  786.44,179.959 786.567,174.163 786.693,172.493 786.819,174.697 786.946,168.922 787.072,172.342 787.199,167.465 787.325,165.039 787.451,171.463 787.578,167.789 \n",
       "  787.704,175.688 787.83,173.459 787.957,174.741 788.083,177.755 788.209,181.787 788.336,180.932 788.462,182.704 788.589,183.984 788.715,178.597 788.841,179.529 \n",
       "  788.968,181.381 789.094,176.829 789.22,182.914 789.347,178.909 789.473,178.521 789.599,188.122 789.726,192.513 789.852,194.139 789.979,194.83 790.105,190.769 \n",
       "  790.231,191.31 790.358,185.015 790.484,181.687 790.61,183.204 790.737,188.201 790.863,181.751 790.989,182.96 791.116,185.487 791.242,190.982 791.369,193.714 \n",
       "  791.495,187.237 791.621,184.918 791.748,184.807 791.874,182.785 792,181.812 792.127,173.926 792.253,177.515 792.379,175.034 792.506,181.421 792.632,181.177 \n",
       "  792.759,188.042 792.885,189.538 793.011,184.872 793.138,186.153 793.264,187.02 793.39,180.898 793.517,183.299 793.643,186.102 793.77,195.147 793.896,201.832 \n",
       "  794.022,207.171 794.149,211.47 794.275,207.287 794.401,203.616 794.528,208.007 794.654,206.376 794.78,208.727 794.907,210.834 795.033,208.511 795.16,212.317 \n",
       "  795.286,219.49 795.412,221.393 795.539,223.818 795.665,229.885 795.791,228.76 795.918,231.551 796.044,226.699 796.17,226.932 796.297,226.874 796.423,228.853 \n",
       "  796.55,221.535 796.676,228.639 796.802,220.967 796.929,217.689 797.055,223.794 797.181,219.022 797.308,218.93 797.434,217.861 797.56,216.107 797.687,222.203 \n",
       "  797.813,228.637 797.94,227.488 798.066,235.121 798.192,229.284 798.319,233.997 798.445,228.314 798.571,226.222 798.698,234.586 798.824,231.405 798.95,232.178 \n",
       "  799.077,240.598 799.203,238.414 799.33,238.061 799.456,231.189 799.582,226.815 799.709,231.368 799.835,231.052 799.961,237.01 800.088,239.166 800.214,242.167 \n",
       "  800.34,240.653 800.467,229.985 800.593,227.925 800.72,232.81 800.846,228.89 800.972,219.838 801.099,219.237 801.225,213.596 801.351,216.28 801.478,218.977 \n",
       "  801.604,223.884 801.73,226.288 801.857,229.441 801.983,225.436 802.11,230.011 802.236,227.631 802.362,231.611 802.489,229.706 802.615,221.046 802.741,224.198 \n",
       "  802.868,232.484 802.994,230.614 803.12,233.422 803.247,232.897 803.373,238.135 803.5,229.771 803.626,222.422 803.752,218.915 803.879,216.602 804.005,220.155 \n",
       "  804.131,230.391 804.258,235.404 804.384,231.284 804.51,238.259 804.637,240.259 804.763,233.485 804.89,228.676 805.016,230.859 805.142,229.742 805.269,232.184 \n",
       "  805.395,224.612 805.521,225.845 805.648,229.191 805.774,222 805.901,232.03 806.027,235.672 806.153,234.556 806.28,232.323 806.406,233.05 806.532,225.153 \n",
       "  806.659,220.468 806.785,221.992 806.911,230.065 807.038,223.963 807.164,220.696 807.291,218.643 807.417,211.44 807.543,211.552 807.67,208.511 807.796,212.129 \n",
       "  807.922,216.024 808.049,216.336 808.175,224.612 808.301,221.292 808.428,224.602 808.554,229.188 808.681,232.62 808.807,229.661 808.933,228.185 809.06,217.342 \n",
       "  809.186,218.771 809.312,222.079 809.439,221.223 809.565,214.103 809.691,211.325 809.818,216.61 809.944,211.325 810.071,216.661 810.197,208.429 810.323,204.9 \n",
       "  810.45,210.617 810.576,209.165 810.702,215.869 810.829,217.471 810.955,218.231 811.081,221.91 811.208,220.579 811.334,226.311 811.461,226.955 811.587,228.051 \n",
       "  811.713,224.329 811.84,225.629 811.966,225.526 812.092,229.288 812.219,226.282 812.345,222.992 812.471,230.012 812.598,231.534 812.724,230.563 812.851,227.866 \n",
       "  812.977,224.963 813.103,222.308 813.23,220.427 813.356,221.015 813.482,217.687 813.609,213.853 813.735,210.986 813.861,209.343 813.988,209.53 814.114,207.212 \n",
       "  814.241,214.058 814.367,217.716 814.493,212.916 814.62,191.517 814.746,170.593 814.872,174.525 814.999,178.364 815.125,173.144 815.251,170.415 815.378,170.342 \n",
       "  815.504,178.179 815.631,178.864 815.757,178.823 815.883,180.408 816.01,186.089 816.136,181.959 816.262,186.635 816.389,187.274 816.515,189 816.642,185.971 \n",
       "  816.768,180.658 816.894,182.378 817.021,187.214 817.147,188.296 817.273,190.579 817.4,191.162 817.526,192.408 817.652,189.465 817.779,191.61 817.905,189.287 \n",
       "  818.032,188.694 818.158,183.202 818.284,185.066 818.411,190.703 818.537,189.554 818.663,199.813 818.79,196.152 818.916,200.206 819.042,195.421 819.169,190.689 \n",
       "  819.295,193.697 819.422,194.841 819.548,192.275 819.674,192.412 819.801,191.534 819.927,194.998 820.053,195.63 820.18,192.809 820.306,196.476 820.432,193.247 \n",
       "  820.559,196.456 820.685,200.993 820.812,203.558 820.938,202.768 821.064,201.277 821.191,200.654 821.317,195.469 821.443,200.155 821.57,198.01 821.696,201.853 \n",
       "  821.822,197.633 821.949,201.942 822.075,203.125 822.202,205.392 822.328,189.022 822.454,195.728 822.581,195.165 822.707,194.735 822.833,189.974 822.96,179.515 \n",
       "  823.086,183.492 823.212,171.679 823.339,171.117 823.465,175.823 823.592,175.126 823.718,172.996 823.844,166.298 823.971,165.916 824.097,163.342 824.223,161.506 \n",
       "  824.35,166.776 824.476,170.619 824.602,171.559 824.729,181.792 824.855,176.309 824.982,181.201 825.108,174.884 825.234,176.961 825.361,177.602 825.487,170.234 \n",
       "  825.613,168.288 825.74,169.895 825.866,163.177 825.992,166.465 826.119,166.771 826.245,178.032 826.372,175.226 826.498,177.452 826.624,170.281 826.751,168.639 \n",
       "  826.877,165.845 827.003,165.361 827.13,168.801 827.256,168.215 827.383,170.903 827.509,175.92 827.635,175.195 827.762,172.305 827.888,173.308 828.014,166.367 \n",
       "  828.141,169.796 828.267,173.395 828.393,168.204 828.52,172.497 828.646,170.851 828.773,173.719 828.899,175.432 829.025,178.451 829.152,178.639 829.278,177.805 \n",
       "  829.404,188.459 829.531,186.374 829.657,175.683 829.783,172.918 829.91,170.832 830.036,140.71 830.163,147.588 830.289,150.413 830.415,153.253 830.542,155.929 \n",
       "  830.668,162.896 830.794,155.737 830.921,153.771 831.047,150.227 831.173,148.324 831.3,146.101 831.426,146.093 831.553,138.973 831.679,138.556 831.805,137.585 \n",
       "  831.932,144.713 832.058,140.766 832.184,142.497 832.311,145.136 832.437,144.898 832.563,147.432 832.69,143.24 832.816,150.05 832.943,148.133 833.069,145.719 \n",
       "  833.195,143.085 833.322,139.15 833.448,131.523 833.574,130.813 833.701,135.416 833.827,127.681 833.953,124.147 834.08,125.548 834.206,123.125 834.333,124.749 \n",
       "  834.459,123.015 834.585,124.786 834.712,122.923 834.838,125.67 834.964,127.91 835.091,122.97 835.217,128.01 835.343,136.163 835.47,141.362 835.596,134.07 \n",
       "  835.723,133.924 835.849,135.159 835.975,136.395 836.102,136.149 836.228,135.767 836.354,137.665 836.481,141.303 836.607,133.66 836.733,127.184 836.86,120.473 \n",
       "  836.986,126.95 837.113,127.805 837.239,132.716 837.365,143.847 837.492,149.928 837.618,160.704 837.744,169.751 837.871,176.309 837.997,171.595 838.124,175.288 \n",
       "  838.25,184.21 838.376,181.877 838.503,182.405 838.629,176.311 838.755,183.886 838.882,171.155 839.008,178.824 839.134,177.41 839.261,184.519 839.387,179.595 \n",
       "  839.514,187.883 839.64,195.009 839.766,197.335 839.893,189.005 840.019,196.559 840.145,195.952 840.272,201.362 840.398,196.669 840.524,201.72 840.651,194.933 \n",
       "  840.777,202.821 840.904,197.556 841.03,201.813 841.156,201.254 841.283,192.41 841.409,197.582 841.535,198.635 841.662,203.504 841.788,206.13 841.914,203.547 \n",
       "  842.041,203.544 842.167,204.573 842.294,204.982 842.42,204.953 842.546,196.764 842.673,202.872 842.799,217.899 842.925,212.43 843.052,200.461 843.178,201.636 \n",
       "  843.304,204.877 843.431,198.718 843.557,205.202 843.684,207.79 843.81,214.565 843.936,217.349 844.063,216.484 844.189,213.48 844.315,215.17 844.442,211.348 \n",
       "  844.568,226.425 844.694,229.315 844.821,226.369 844.947,225.799 845.074,227.222 845.2,236.39 845.326,230.664 845.453,219.36 845.579,225.56 845.705,232.925 \n",
       "  845.832,254.732 845.958,277.387 846.084,275.864 846.211,281.424 846.337,283.759 846.464,314.399 846.59,351.877 846.716,362.515 846.843,343.398 846.969,352.416 \n",
       "  847.095,352.302 847.222,354.045 847.348,350.183 847.474,352.295 847.601,375.64 847.727,360.37 847.854,354.092 847.98,347.376 848.106,337.318 848.233,344.234 \n",
       "  848.359,328.93 848.485,329.54 848.612,321.14 848.738,339.36 848.865,329.445 848.991,348.122 849.117,348.487 849.244,348.246 849.37,340.622 849.496,329.482 \n",
       "  849.623,341.725 849.749,341.723 849.875,341.023 850.002,349.734 850.128,347.309 850.255,339.171 850.381,344.261 850.507,350.854 850.634,349.215 850.76,358.121 \n",
       "  850.886,364.117 851.013,355.799 851.139,350.064 851.265,348.119 851.392,342.488 851.518,350.199 851.645,355.929 851.771,355.495 851.897,350.552 852.024,337.318 \n",
       "  852.15,353.071 852.276,355.073 852.403,350.993 852.529,353.796 852.655,354.103 852.782,350.516 852.908,347.779 853.035,350.154 853.161,354.292 853.287,363.807 \n",
       "  853.414,356.135 853.54,381.026 853.666,414.427 853.793,407.418 853.919,409.771 854.045,403.918 854.172,396.175 854.298,385.033 854.425,384.962 854.551,382.945 \n",
       "  854.677,375.495 854.804,382.402 854.93,387.712 855.056,393.127 855.183,391.187 855.309,390.19 855.435,392.889 855.562,401.889 855.688,409.492 855.815,389.799 \n",
       "  855.941,383.174 856.067,371.399 856.194,358.499 856.32,363.023 856.446,369.681 856.573,362.941 856.699,364.878 856.825,358.658 856.952,359.813 857.078,362.659 \n",
       "  857.205,363.13 857.331,362.085 857.457,367.071 857.584,365.174 857.71,367.606 857.836,372.729 857.963,381.258 858.089,362.585 858.215,349.394 858.342,356.364 \n",
       "  858.468,351.956 858.595,349.441 858.721,357.446 858.847,358.853 858.974,356.831 859.1,362.888 859.226,362.843 859.353,363.03 859.479,357.871 859.606,357.425 \n",
       "  859.732,351.12 859.858,364.155 859.985,370.893 860.111,370.892 860.237,368.325 860.364,380.377 860.49,372.953 860.616,382.969 860.743,383.016 860.869,376.877 \n",
       "  860.996,371.578 861.122,378.817 861.248,382.401 861.375,383.153 861.501,376.305 861.627,385.21 861.754,382.401 861.88,373.727 862.006,368.438 862.133,369.27 \n",
       "  862.259,362.869 862.386,364.498 862.512,364.191 862.638,357.267 862.765,362.244 862.891,351.888 863.017,339.717 863.144,326.267 863.27,334.019 863.396,334.067 \n",
       "  863.523,331.206 863.649,317.67 863.776,318.963 863.902,316.076 864.028,308.87 864.155,313.164 864.281,314.796 864.407,313.996 864.534,321.06 864.66,314.217 \n",
       "  864.786,315.529 864.913,318.802 865.039,321.171 865.166,325.346 865.292,327.811 865.418,337.247 865.545,332.955 865.671,340.353 865.797,334.861 865.924,340.862 \n",
       "  866.05,343.169 866.176,341.26 866.303,349.159 866.429,339.44 866.556,339.397 866.682,340.695 866.808,341.245 866.935,341.686 867.061,333.747 867.187,331.889 \n",
       "  867.314,341.752 867.44,347.837 867.566,353.405 867.693,349.077 867.819,344.248 867.946,350.159 868.072,339.163 868.198,342.765 868.325,349.357 868.451,342.111 \n",
       "  868.577,344.969 868.704,349.771 868.83,347.996 868.956,342.73 869.083,339.967 869.209,340.86 869.336,346.998 869.462,366.103 869.588,388.11 869.715,375.646 \n",
       "  869.841,371.111 869.967,387.054 870.094,398.102 870.22,390.838 870.346,386.848 870.473,387.392 870.599,382.512 870.726,383.544 870.852,372.842 870.978,374.816 \n",
       "  871.105,368.198 871.231,363.508 871.357,367.416 871.484,365.865 871.61,361.822 871.737,360.666 871.863,365.467 871.989,371.689 872.116,366.923 872.242,359.563 \n",
       "  872.368,370.765 872.495,367.96 872.621,364.442 872.747,376.765 872.874,387.807 873,373.685 873.127,365.115 873.253,368.029 873.379,375.782 873.506,379.174 \n",
       "  873.632,379.685 873.758,383.861 873.885,394.367 874.011,387.363 874.137,389.585 874.264,383.091 874.39,375.962 874.517,379.791 874.643,376.121 874.769,392.583 \n",
       "  874.896,380.778 875.022,378.578 875.148,373.682 875.275,382.538 875.401,376.249 875.527,378.372 875.654,405.766 875.78,408.362 875.907,413.422 876.033,419.441 \n",
       "  876.159,415.797 876.286,444.36 876.412,454.369 876.538,455.434 876.665,486.471 876.791,492.368 876.917,488.47 877.044,480.88 877.17,472.163 877.297,472.48 \n",
       "  877.423,466.125 877.549,460.664 877.676,469.492 877.802,468.262 877.928,466.98 878.055,490.615 878.181,477.177 878.307,471.236 878.434,464.567 878.56,465.291 \n",
       "  878.687,472.77 878.813,462.036 878.939,469.371 879.066,479.349 879.192,495.419 879.318,512.928 879.445,516.615 879.571,514.375 879.697,497.793 879.824,499.937 \n",
       "  879.95,498.818 880.077,536.494 880.203,512.522 880.329,543.616 880.456,536.9 880.582,545.02 880.708,530.529 880.835,521.096 880.961,516.776 881.087,522.128 \n",
       "  881.214,528.264 881.34,530.529 881.467,523.849 881.593,521.527 881.719,516.591 881.846,517.969 881.972,527.874 882.098,516.146 882.225,523.287 882.351,527.864 \n",
       "  882.478,507.935 882.604,494.555 882.73,493.465 882.857,498.548 882.983,497.886 883.109,489.779 883.236,491.885 883.362,483.012 883.488,487.34 883.615,490.285 \n",
       "  883.741,488.879 883.868,492.964 883.994,490.993 884.12,496.026 884.247,502.679 884.373,491.058 884.499,497.261 884.626,506.376 884.752,510.561 884.878,506.545 \n",
       "  885.005,498.327 885.131,504.562 885.258,493.566 885.384,490.438 885.51,490.409 885.637,495.105 885.763,501.108 885.889,495.804 886.016,504.275 886.142,507.097 \n",
       "  886.268,522.857 886.395,510.429 886.521,513.844 886.648,517.821 886.774,518.067 886.9,511.326 887.027,502.378 887.153,493.495 887.279,490.309 887.406,490.061 \n",
       "  887.532,497.918 887.658,506.375 887.785,506.948 887.911,516.937 888.038,521.34 888.164,525.425 888.29,523.881 888.417,533.405 888.543,541.107 888.669,548.734 \n",
       "  888.796,536.361 888.922,526.269 889.048,523.949 889.175,532.472 889.301,536.206 889.428,520.642 889.554,513.457 889.68,516.302 889.807,522.973 889.933,517.239 \n",
       "  890.059,529.531 890.186,541.096 890.312,542.526 890.438,570.907 890.565,570.382 890.691,574.039 890.818,560.259 890.944,542.052 891.07,548.514 891.197,557.902 \n",
       "  891.323,546.332 891.449,541.845 891.576,547.144 891.702,559.699 891.828,559.636 891.955,570.05 892.081,582.186 892.208,576.12 892.334,584.573 892.46,592.857 \n",
       "  892.587,581.63 892.713,570.995 892.839,585.293 892.966,575.652 893.092,570.461 893.219,563.969 893.345,567.877 893.471,549.968 893.598,555.2 893.724,547.599 \n",
       "  893.85,548.884 893.977,556.559 894.103,545.991 894.229,539.338 894.356,534.9 894.482,539.576 894.609,535.037 894.735,540.091 894.861,528.895 894.988,530.838 \n",
       "  895.114,530.168 895.24,538.821 895.367,540.186 895.493,536.971 895.619,537.126 895.746,524.293 895.872,527.451 895.999,520.943 896.125,520.028 896.251,512.135 \n",
       "  896.378,517.648 896.504,524.618 896.63,550.317 896.757,539.174 896.883,536.808 897.009,542.825 897.136,549.923 897.262,549.48 897.389,549.219 897.515,544.973 \n",
       "  897.641,562.588 897.768,564.12 897.894,583.867 898.02,577.814 898.147,563.153 898.273,560.949 898.399,557.361 898.526,543.592 898.652,528.591 898.779,535.947 \n",
       "  898.905,540.882 899.031,538.578 899.158,544.996 899.284,550.385 899.41,544.12 899.537,550.526 899.663,556.944 899.789,562.737 899.916,553.78 900.042,564.191 \n",
       "  900.169,550.114 900.295,550.293 900.421,540.721 900.548,547.374 900.674,551.623 900.8,558.691 900.927,537.019 901.053,532.476 901.179,526.121 901.306,525.939 \n",
       "  901.432,519.843 901.559,526.715 901.685,533.434 901.811,534.641 901.938,535.715 902.064,539.8 902.19,544.26 902.317,542.297 902.443,546.26 902.569,540.035 \n",
       "  902.696,527.563 902.822,523.124 902.949,525.853 903.075,523.345 903.201,516.344 903.328,515.298 903.454,516.088 903.58,524.767 903.707,521.134 903.833,525.232 \n",
       "  903.96,525.148 904.086,525.945 904.212,527.967 904.339,522.831 904.465,521.596 904.591,529.824 904.718,527.86 904.844,521.896 904.97,531.801 905.097,529.729 \n",
       "  905.223,538.583 905.35,551.055 905.476,566.354 905.602,568.041 905.729,563.636 905.855,565.196 905.981,565.566 906.108,566.579 906.234,557.904 906.36,558.538 \n",
       "  906.487,541.286 906.613,545.21 906.74,562.733 906.866,557.216 906.992,561.67 907.119,568.39 907.245,558.292 907.371,552.584 907.498,541.099 907.624,545.98 \n",
       "  907.75,538.105 907.877,535.095 908.003,534.661 908.13,528.908 908.256,536.213 908.382,526.069 908.509,525.631 908.635,535.992 908.761,537.657 908.888,540.832 \n",
       "  909.014,548.775 909.14,553.351 909.267,551.763 909.393,528.942 909.52,508.559 909.646,513.357 909.772,510.762 909.899,513.491 910.025,517.186 910.151,511.916 \n",
       "  910.278,517.09 910.404,518.846 910.53,519.056 910.657,514.729 910.783,506.378 910.91,513.66 911.036,519.373 911.162,525.446 911.289,516.962 911.415,511.499 \n",
       "  911.541,514.427 911.668,517.639 911.794,515.984 911.92,518.022 912.047,510.804 912.173,516.138 912.3,517.605 912.426,515.431 912.552,512.929 912.679,505.574 \n",
       "  912.805,508.693 912.931,511.105 913.058,514.051 913.184,505.761 913.31,506.234 913.437,508.352 913.563,502.175 913.69,497.669 913.816,498.408 913.942,494.447 \n",
       "  914.069,488.862 914.195,487.92 914.321,490.277 914.448,486.018 914.574,485.567 914.701,491.544 914.827,496.659 914.953,498.359 915.08,498.947 915.206,496.386 \n",
       "  915.332,504.578 915.459,505.867 915.585,506.057 915.711,509.743 915.838,505.178 915.964,513.137 916.091,520.852 916.217,519.601 916.343,526.573 916.47,528.919 \n",
       "  916.596,532.154 916.722,523.211 916.849,522.952 916.975,532.297 917.101,535.889 917.228,544.223 917.354,533.931 917.481,524.23 917.607,528.879 917.733,526.262 \n",
       "  917.86,537.048 917.986,533.612 918.112,537.567 918.239,531.342 918.365,528.386 918.491,521.385 918.618,523.675 918.744,533.455 918.871,526.575 918.997,533.447 \n",
       "  919.123,531.827 919.25,529.098 919.376,535.234 919.502,539.708 919.629,535.308 919.755,527.832 919.881,532.46 920.008,533.946 920.134,539.42 920.261,541.751 \n",
       "  920.387,539.639 920.513,551.921 920.64,545.825 920.766,540.795 920.892,532.621 921.019,532.712 921.145,539.955 921.271,513.721 921.398,515.296 921.524,514.773 \n",
       "  921.651,521.137 921.777,512.494 921.903,521.685 922.03,525.089 922.156,527.67 922.282,528.529 922.409,534.662 922.535,533.426 922.661,533.761 922.788,539.005 \n",
       "  922.914,536.858 923.041,527.075 923.167,529.431 923.293,539.304 923.42,539.935 923.546,531.622 923.672,531.12 923.799,534.941 923.925,538.113 924.051,535.81 \n",
       "  924.178,550.858 924.304,553.14 924.431,549.072 924.557,548.152 924.683,552.051 924.81,559.968 924.936,562.913 925.062,556.345 925.189,562.784 925.315,564.636 \n",
       "  925.442,569.593 925.568,567.152 925.694,571.83 925.821,575.486 925.947,579.627 926.073,568.741 926.2,569.854 926.326,574.815 926.452,557.379 926.579,555.518 \n",
       "  926.705,556.429 926.832,555.988 926.958,556.572 927.084,558.358 927.211,559.071 927.337,556.946 927.463,558.934 927.59,558.836 927.716,554.104 927.842,548.939 \n",
       "  927.969,580.03 928.095,576.314 928.222,586.528 928.348,591.46 928.474,605.72 928.601,620.063 928.727,625.417 928.853,663.072 928.98,668.549 929.106,669.027 \n",
       "  929.232,712.324 929.359,686.751 929.485,677.495 929.612,675.991 929.738,665.047 929.864,689.488 929.991,678.714 930.117,668.841 930.243,662.788 930.37,664.173 \n",
       "  930.496,652.918 930.622,656.338 930.749,659.872 930.875,664.244 931.002,676.861 931.128,666.673 931.254,658.562 931.381,668.928 931.507,672.859 931.633,676.355 \n",
       "  931.76,655.422 931.886,659.246 932.012,640.735 932.139,640.865 932.265,629.73 932.392,632.245 932.518,648.119 932.644,637.457 932.771,630.355 932.897,569.646 \n",
       "  933.023,543.276 933.15,544.717 933.276,556.664 933.402,543.271 933.529,531.075 933.655,512.169 933.782,511.897 933.908,492.37 934.034,490.312 934.161,491.143 \n",
       "  934.287,485.447 934.413,472.543 934.54,464.815 934.666,485.213 934.792,486.53 934.919,493.874 935.045,505.054 935.172,499.876 935.298,506.672 935.424,501.715 \n",
       "  935.551,500.068 935.677,500.955 935.803,498.984 935.93,501.362 936.056,516.193 936.183,522.628 936.309,535.915 936.435,533.959 936.562,524.372 936.688,518.716 \n",
       "  936.814,524.931 936.941,525.976 937.067,528.122 937.193,518.502 937.32,511.222 937.446,524.522 937.573,530.74 937.699,522.213 937.825,525.752 937.952,520.353 \n",
       "  938.078,526.121 938.204,530.849 938.331,518.602 938.457,511.776 938.583,503.066 938.71,499.62 938.836,517.115 938.963,514.428 939.089,509.249 939.215,514.253 \n",
       "  939.342,519.75 939.468,519.824 939.594,519.236 939.721,515.623 939.847,508.236 939.973,509.843 940.1,509.434 940.226,509.096 940.353,500.918 940.479,498.028 \n",
       "  940.605,499.722 940.732,506.186 940.858,505.822 940.984,503.349 941.111,511.965 941.237,510.665 941.363,518.732 941.49,533.07 941.616,529.388 941.743,523.723 \n",
       "  941.869,534.258 941.995,539.357 942.122,535.359 942.248,532.976 942.374,528.681 942.501,525.697 942.627,519.212 942.753,524.345 942.88,524.572 943.006,525.81 \n",
       "  943.133,518.101 943.259,528.446 943.385,548.929 943.512,569.643 943.638,562.897 943.764,553.072 943.891,545.24 944.017,552.964 944.143,551.425 944.27,567.558 \n",
       "  944.396,575.447 944.523,578.877 944.649,581.366 944.775,582.384 944.902,596.586 945.028,595.971 945.154,596.187 945.281,589.985 945.407,586.05 945.533,583.105 \n",
       "  945.66,580.461 945.786,581.166 945.913,584.862 946.039,581.926 946.165,577.938 946.292,599.505 946.418,580.07 946.544,574.551 946.671,574.589 946.797,580.323 \n",
       "  946.923,583.543 947.05,569.369 947.176,561.939 947.303,549.673 947.429,551.967 947.555,566.238 947.682,571.71 947.808,564 947.934,571.929 948.061,566.761 \n",
       "  948.187,565.407 948.314,553.808 948.44,548.944 948.566,553.555 948.693,546.63 948.819,564.418 948.945,557.36 949.072,549.499 949.198,544.212 949.324,539.175 \n",
       "  949.451,537.113 949.577,522.397 949.704,524.855 949.83,515.845 949.956,510.979 950.083,514.356 950.209,523.29 950.335,525.7 950.462,530.713 950.588,529.251 \n",
       "  950.714,524.089 950.841,528.103 950.967,513.23 951.094,519.028 951.22,516.946 951.346,522.95 951.473,527.785 951.599,527.166 951.725,535.947 951.852,542.537 \n",
       "  951.978,534.722 952.104,530.792 952.231,529.128 952.357,531.242 952.484,525.235 952.61,519.738 952.736,524.089 952.863,524.894 952.989,524.892 953.115,533.211 \n",
       "  953.242,525.377 953.368,522.277 953.494,517.582 953.621,514.57 953.747,508.749 953.874,515.956 954,517.189 954.126,523.237 954.253,515.492 954.379,512.013 \n",
       "  954.505,511.127 954.632,501.404 954.758,499.865 954.884,502.704 955.011,511.176 955.137,508.49 955.264,516.222 955.39,510.092 955.516,504.409 955.643,492.684 \n",
       "  955.769,499.738 955.895,487.385 956.022,487.585 956.148,491.315 956.274,486.374 956.401,494.325 956.527,498.089 956.654,498.746 956.78,488.755 956.906,495.621 \n",
       "  957.033,486.264 957.159,485.757 957.285,475.591 957.412,480.04 957.538,480.507 957.664,483.115 957.791,485.769 957.917,490.211 958.044,489.845 958.17,490.462 \n",
       "  958.296,510.765 958.423,497.802 958.549,508.418 958.675,505.618 958.802,496.374 958.928,494.212 959.055,497.295 959.181,482.597 959.307,481.082 959.434,474.144 \n",
       "  959.56,479.455 959.686,476.338 959.813,483.271 959.939,484.563 960.065,481.008 960.192,485.878 960.318,489.177 960.445,496.577 960.571,500.097 960.697,502.721 \n",
       "  960.824,508.571 960.95,498.984 961.076,498.337 961.203,496.687 961.329,495.743 961.455,489.805 961.582,490.146 961.708,496.167 961.835,492.471 961.961,491.043 \n",
       "  962.087,498.353 962.214,505.18 962.34,504.761 962.466,507.205 962.593,503.853 962.719,508.384 962.845,517.896 962.972,516.558 963.098,511.978 963.225,509.844 \n",
       "  963.351,510.725 963.477,510.535 963.604,502.868 963.73,504.945 963.856,505.32 963.983,507.685 964.109,510.488 964.235,508.682 964.362,517.156 964.488,519.267 \n",
       "  964.615,514.018 964.741,515.649 964.867,518.294 964.994,505.304 965.12,511.111 965.246,501.834 965.373,497.638 965.499,501.725 965.625,500.417 965.752,499.567 \n",
       "  965.878,505.078 966.005,507.952 966.131,508.943 966.257,508.968 966.384,500.664 966.51,490.861 966.636,483.524 966.763,479.538 966.889,478.699 967.015,486.905 \n",
       "  967.142,490.433 967.268,490.146 967.395,486.091 967.521,481.048 967.647,484.693 967.774,487.474 967.9,489.945 968.026,486.459 968.153,480.982 968.279,479.861 \n",
       "  968.405,479.159 968.532,480.888 968.658,486.02 968.785,475.788 968.911,454.959 969.037,453.712 969.164,452.845 969.29,448.221 969.416,451.876 969.543,455.892 \n",
       "  969.669,450.54 969.796,447.656 969.922,453.491 970.048,447.522 970.175,450.598 970.301,458.428 970.427,461.862 970.554,462.939 970.68,463.905 970.806,459.332 \n",
       "  970.933,457.27 971.059,465.584 971.186,461.666 971.312,462.833 971.438,461.295 971.565,466.113 971.691,468.367 971.817,463.121 971.944,461.585 972.07,459.841 \n",
       "  972.196,466.488 972.323,465.095 972.449,467.425 972.576,467.602 972.702,467.734 972.828,468.658 972.955,465.915 973.081,466.931 973.207,465.308 973.334,468.9 \n",
       "  973.46,460.316 973.586,466.286 973.713,475.14 973.839,476.226 973.966,476.567 974.092,477.963 974.218,479.811 974.345,482.228 974.471,481.04 974.597,482.904 \n",
       "  974.724,477.361 974.85,478.718 974.976,482.548 975.103,480.269 975.229,483.836 975.356,480.278 975.482,474.965 975.608,474.493 975.735,472.553 975.861,474.087 \n",
       "  975.987,473.292 976.114,467.736 976.24,468.438 976.366,465.998 976.493,467.454 976.619,465.185 976.746,464.581 976.872,460.34 976.998,462.255 977.125,462.235 \n",
       "  977.251,458.88 977.377,457.359 977.504,471.901 977.63,482.28 977.756,479.515 977.883,474.488 978.009,470.869 978.136,475.372 978.262,471.524 978.388,466.43 \n",
       "  978.515,461.331 978.641,461.284 978.767,458.668 978.894,463.823 979.02,466.348 979.146,468.954 979.273,461.951 979.399,458.653 979.526,462.905 979.652,461.054 \n",
       "  979.778,464.665 979.905,460.382 980.031,457.97 980.157,463.897 980.284,464.678 980.41,461.021 980.537,462.585 980.663,464.354 980.789,461.947 980.916,466.243 \n",
       "  981.042,455.5 981.168,457.22 981.295,471.341 981.421,476.525 981.547,479.587 981.674,465.031 981.8,464.61 981.927,464.82 982.053,466.159 982.179,466.053 \n",
       "  982.306,465.394 982.432,470.373 982.558,470.502 982.685,470.453 982.811,466.137 982.937,466.431 983.064,474.997 983.19,470.383 983.317,474.182 983.443,476.821 \n",
       "  983.569,481.703 983.696,481.04 983.822,482.281 983.948,481.307 984.075,482.225 984.201,478.655 984.327,472.202 984.454,470.809 984.58,469.875 984.707,469.9 \n",
       "  984.833,467.026 984.959,475.337 985.086,481.978 985.212,478.047 985.338,481.552 985.465,478.499 985.591,479.684 985.717,477.298 985.844,477.232 985.97,484.651 \n",
       "  986.097,479.884 986.223,483.458 986.349,505.075 986.476,501.89 986.602,497.516 986.728,490.19 986.855,486.103 986.981,492.05 987.107,503.051 987.234,511.147 \n",
       "  987.36,521.416 987.487,517.077 987.613,516.151 987.739,514.966 987.866,515.914 987.992,513.113 988.118,514.063 988.245,512.097 988.371,510.545 988.497,514.269 \n",
       "  988.624,503.914 988.75,502.196 988.877,500.816 989.003,498.147 989.129,497.893 989.256,496.804 989.382,494.117 989.508,502.517 989.635,495.856 989.761,504.043 \n",
       "  989.887,495.597 990.014,499.937 990.14,499.514 990.267,497.867 990.393,498.593 990.519,491.104 990.646,496.202 990.772,498.281 990.898,494.028 991.025,490.431 \n",
       "  991.151,490.021 991.278,494.808 991.404,496.717 991.53,492.795 991.657,490.744 991.783,486.268 991.909,484.915 992.036,483.305 992.162,471.407 992.288,471.704 \n",
       "  992.415,468.6 992.541,466.898 992.668,475.371 992.794,472.778 992.92,474.153 993.047,479.781 993.173,476.298 993.299,479.814 993.426,482.233 993.552,481.898 \n",
       "  993.678,475.783 993.805,479.616 993.931,476.828 994.058,476.937 994.184,472.176 994.31,469.275 994.437,467.835 994.563,464.696 994.689,470.65 994.816,476.152 \n",
       "  994.942,472.437 995.068,472.239 995.195,475.07 995.321,484.74 995.448,484.64 995.574,487.306 995.7,484.094 995.827,482.479 995.953,480.603 996.079,476.982 \n",
       "  996.206,473.453 996.332,477.061 996.458,458.394 996.585,457.761 996.711,453.243 996.838,457.325 996.964,453.697 997.09,451.565 997.217,448.316 997.343,452.625 \n",
       "  997.469,459.759 997.596,464.535 997.722,464.572 997.848,464.507 997.975,460.176 998.101,458.075 998.228,458.073 998.354,461.567 998.48,457.247 998.607,455.174 \n",
       "  998.733,446.484 998.859,448.893 998.986,450.121 999.112,448.555 999.238,448.27 999.365,452.324 999.491,456.164 999.618,454.663 999.744,454.86 999.87,459.455 \n",
       "  999.997,459.635 1000.12,457.336 1000.25,456.769 1000.38,461.176 1000.5,463.263 1000.63,464.008 1000.75,462.525 1000.88,465.85 1001.01,464.517 1001.13,462.585 \n",
       "  1001.26,461.403 1001.39,463.05 1001.51,463.717 1001.64,455.296 1001.77,448.408 1001.89,446.052 1002.02,461.719 1002.14,458.077 1002.27,458.471 1002.4,460.107 \n",
       "  1002.52,459.088 1002.65,453.887 1002.78,457.135 1002.9,455.373 1003.03,453.267 1003.16,454.208 1003.28,453.919 1003.41,453.596 1003.53,455.235 1003.66,450.103 \n",
       "  1003.79,445.088 1003.91,448.59 1004.04,452.939 1004.17,451.4 1004.29,455.18 1004.42,453.659 1004.55,457.085 1004.67,453.242 1004.8,452.279 1004.92,467.661 \n",
       "  1005.05,467.143 1005.18,467.798 1005.3,462.351 1005.43,456.987 1005.56,455.04 1005.68,460.199 1005.81,458.859 1005.94,460.273 1006.06,456.106 1006.19,456.639 \n",
       "  1006.31,464.346 1006.44,461.698 1006.57,467.563 1006.69,469.41 1006.82,465.572 1006.95,466.068 1007.07,462.788 1007.2,461.744 1007.33,459.273 1007.45,464.968 \n",
       "  1007.58,460.121 1007.7,462.48 1007.83,458.421 1007.96,458.69 1008.08,460.564 1008.21,461.158 1008.34,457.558 1008.46,454.926 1008.59,450.348 1008.72,451.432 \n",
       "  1008.84,451.136 1008.97,463.583 1009.09,461.748 1009.22,459.943 1009.35,466.127 1009.47,461.384 1009.6,456.455 1009.73,456.911 1009.85,454.739 1009.98,453.127 \n",
       "  1010.11,454.303 1010.23,455.053 1010.36,453.639 1010.48,450.765 1010.61,451.35 1010.74,458.26 1010.86,462.472 1010.99,462.186 1011.12,465.498 1011.24,467.993 \n",
       "  1011.37,454.676 1011.5,453.583 1011.62,455.455 1011.75,454.881 1011.87,454.109 1012,456.209 1012.13,472.574 1012.25,475.129 1012.38,492.08 1012.51,505.645 \n",
       "  1012.63,519.914 1012.76,526.683 1012.89,535.812 1013.01,553.595 1013.14,548.192 1013.26,559.995 1013.39,551.65 1013.52,542.537 1013.64,521.854 1013.77,528.555 \n",
       "  1013.9,532.767 1014.02,535.527 1014.15,528.737 1014.28,522.694 1014.4,524.086 1014.53,522.479 1014.65,514.869 1014.78,507.935 1014.91,515.457 1015.03,514.882 \n",
       "  1015.16,518.27 1015.29,507.41 1015.41,511.672 1015.54,522.878 1015.67,518.014 1015.79,510.157 1015.92,509.295 1016.04,510.636 1016.17,507.96 1016.3,510.522 \n",
       "  1016.42,504.494 1016.55,491.178 1016.68,496.192 1016.8,467.246 1016.93,474.955 1017.06,479.674 1017.18,482.18 1017.31,504.402 1017.43,500.074 1017.56,498.495 \n",
       "  1017.69,492.55 1017.81,494.901 1017.94,491.112 1018.07,490.436 1018.19,496.716 1018.32,494.236 1018.45,510.083 1018.57,505.552 1018.7,507.025 1018.83,509.759 \n",
       "  1018.95,503.752 1019.08,530.455 1019.2,539.916 1019.33,524.401 1019.46,527.066 1019.58,506.928 1019.71,504.692 1019.84,495.98 1019.96,497.529 1020.09,491.356 \n",
       "  1020.22,478.423 1020.34,474.02 1020.47,466.882 1020.59,465.345 1020.72,465.663 1020.85,451.543 1020.97,457.912 1021.1,453.444 1021.23,461.168 1021.35,444.552 \n",
       "  1021.48,455.085 1021.61,453.467 1021.73,451.788 1021.86,458.564 1021.98,451.429 1022.11,447.785 1022.24,448.268 1022.36,445.194 1022.49,445.782 1022.62,434.46 \n",
       "  1022.74,426.952 1022.87,417.786 1023,410.482 1023.12,406.188 1023.25,405.62 1023.37,409.695 1023.5,405.211 1023.63,404.696 1023.75,399.556 1023.88,405.589 \n",
       "  1024.01,396.893 1024.13,390.68 1024.26,383.697 1024.39,387.067 1024.51,384.875 1024.64,389.133 1024.76,399.146 1024.89,403.351 1025.02,396.217 1025.14,390.451 \n",
       "  1025.27,387.233 1025.4,390.889 1025.52,390.451 1025.65,391.319 1025.78,389.999 1025.9,391.559 1026.03,384.966 1026.15,359.703 1026.28,369.092 1026.41,371.99 \n",
       "  1026.53,382.169 1026.66,385.697 1026.79,386.447 1026.91,381.779 1027.04,379.387 1027.17,390.77 1027.29,386.832 1027.42,390.131 1027.54,387.503 1027.67,378.218 \n",
       "  1027.8,377.572 1027.92,379.834 1028.05,378.076 1028.18,378.244 1028.3,379.108 1028.43,387.231 1028.56,390.054 1028.68,387.479 1028.81,388.748 1028.93,389.168 \n",
       "  1029.06,389.133 1029.19,387.014 1029.31,388.284 1029.44,390.49 1029.57,388.65 1029.69,384.941 1029.82,387.448 1029.95,387.574 1030.07,388.121 1030.2,387.104 \n",
       "  1030.32,385.093 1030.45,380.024 1030.58,383.148 1030.7,383.597 1030.83,382.385 1030.96,380.957 1031.08,375.716 1031.21,368.482 1031.34,360.78 1031.46,368.673 \n",
       "  1031.59,372.782 1031.71,368.25 1031.84,367.797 1031.97,365.123 1032.09,363.798 1032.22,363.167 1032.35,359.753 1032.47,360.074 1032.6,359.623 1032.73,352.204 \n",
       "  1032.85,358.199 1032.98,359.961 1033.1,364.883 1033.23,358.678 1033.36,366.083 1033.48,371.038 1033.61,367.008 1033.74,370.526 1033.86,375.463 1033.99,371.372 \n",
       "  1034.12,363.563 1034.24,362.347 1034.37,368.032 1034.49,365.01 1034.62,367.229 1034.75,370.649 1034.87,374.143 1035,378.793 1035.13,378.796 1035.25,391.786 \n",
       "  1035.38,388.176 1035.51,385.695 1035.63,388.891 1035.76,383.842 1035.88,392.359 1036.01,388.039 1036.14,386.589 1036.26,389.438 1036.39,386.003 1036.52,388.394 \n",
       "  1036.64,382.591 1036.77,384.062 1036.9,381.568 1037.02,386.972 1037.15,384.56 1037.27,384.495 1037.4,384.904 1037.53,390.215 1037.65,400.709 1037.78,403.324 \n",
       "  1037.91,399.341 1038.03,411.479 1038.16,420.428 1038.29,422.374 1038.41,414.529 1038.54,407.346 1038.66,406.151 1038.79,408.162 1038.92,408.66 1039.04,408.293 \n",
       "  1039.17,414.986 1039.3,412.997 1039.42,412.943 1039.55,411.656 1039.68,410.727 1039.8,408.85 1039.93,404.81 1040.05,407.911 1040.18,408.173 1040.31,409.6 \n",
       "  1040.43,405.575 1040.56,400.249 1040.69,394.686 1040.81,397.615 1040.94,388.084 1041.07,382.578 1041.19,373.711 1041.32,373.415 1041.44,375.429 1041.57,379.195 \n",
       "  1041.7,371.206 1041.82,365.688 1041.95,362.347 1042.08,367.202 1042.2,376.356 1042.33,374.12 1042.46,384.064 1042.58,391.768 1042.71,388.091 1042.83,389.492 \n",
       "  1042.96,393.011 1043.09,393.386 1043.21,398.531 1043.34,402.339 1043.47,397.326 1043.59,404.132 1043.72,398.279 1043.85,404.324 1043.97,409.635 1044.1,406.05 \n",
       "  1044.22,398.508 1044.35,409.048 1044.48,403.055 1044.6,401.971 1044.73,404.403 1044.86,399.112 1044.98,392.68 1045.11,389.635 1045.24,388.841 1045.36,392.382 \n",
       "  1045.49,390.169 1045.61,387.231 1045.74,389.517 1045.87,399.152 1045.99,399.904 1046.12,392.108 1046.25,394.57 1046.37,397.676 1046.5,398.582 1046.63,396.898 \n",
       "  1046.75,411.313 1046.88,410.072 1047,413.888 1047.13,419.288 1047.26,414.765 1047.38,412.458 1047.51,417.412 1047.64,414.244 1047.76,412.295 1047.89,416.979 \n",
       "  1048.02,410.032 1048.14,409.299 1048.27,411.935 1048.39,414.07 1048.52,407.365 1048.65,412.352 1048.77,410.858 1048.9,420.104 1049.03,418.858 1049.15,416.213 \n",
       "  1049.28,405.81 1049.41,401.086 1049.53,388.26 1049.66,394.539 1049.78,391.955 1049.91,393.003 1050.04,393.784 1050.16,386.526 1050.29,384.278 1050.42,383.647 \n",
       "  1050.54,382.874 1050.67,395.544 1050.8,395.277 1050.92,393.762 1051.05,396.249 1051.17,402.374 1051.3,406.493 1051.43,405.478 1051.55,399.638 1051.68,394.093 \n",
       "  1051.81,401.564 1051.93,398.748 1052.06,400.936 1052.19,403.213 1052.31,401.839 1052.44,409.772 1052.56,412.637 1052.69,410.07 1052.82,401.672 1052.94,406.071 \n",
       "  1053.07,409.323 1053.2,401.831 1053.32,402.657 1053.45,397.148 1053.58,395.563 1053.7,396.438 1053.83,394.122 1053.95,397.065 1054.08,387.188 1054.21,385.466 \n",
       "  1054.33,391.627 1054.46,400.756 1054.59,401.719 1054.71,397.899 1054.84,401.318 1054.97,404.134 1055.09,399.973 1055.22,395.851 1055.34,391.44 1055.47,387.664 \n",
       "  1055.6,379.664 1055.72,379.823 1055.85,378.351 1055.98,374.526 1056.1,370.417 1056.23,375.674 1056.36,378.052 1056.48,379.287 1056.61,378.511 1056.73,373.529 \n",
       "  1056.86,368.335 1056.99,370.303 1057.11,376.213 1057.24,381.995 1057.37,381.127 1057.49,381.245 1057.62,381.493 1057.75,385.851 1057.87,380.467 1058,376.794 \n",
       "  1058.12,380.502 1058.25,382.853 1058.38,385.949 1058.5,385.687 1058.63,384.995 1058.76,385.22 1058.88,392.841 1059.01,390.601 1059.14,386.204 1059.26,389.799 \n",
       "  1059.39,387.638 1059.51,394.022 1059.64,395.765 1059.77,393.673 1059.89,395.346 1060.02,392.232 1060.15,393.184 1060.27,390.451 1060.4,386.22 1060.53,389.063 \n",
       "  1060.65,395.996 1060.78,402.543 1060.9,406.509 1061.03,399.666 1061.16,389.662 1061.28,400.012 1061.41,393.224 1061.54,391.897 1061.66,396.38 1061.79,393.887 \n",
       "  1061.92,397.817 1062.04,396.248 1062.17,394.629 1062.29,395.57 1062.42,399.859 1062.55,396.409 1062.67,394.507 1062.8,397.956 1062.93,394.19 1063.05,385.769 \n",
       "  1063.18,382.142 1063.31,383.278 1063.43,384.94 1063.56,387.559 1063.68,388.761 1063.81,395.655 1063.94,392.977 1064.06,389.941 1064.19,389.896 1064.32,385.946 \n",
       "  1064.44,385.291 1064.57,384.077 1064.7,387.447 1064.82,392.38 1064.95,375.962 1065.07,357.816 1065.2,363.59 1065.33,355.855 1065.45,358.518 1065.58,357.586 \n",
       "  1065.71,363.537 1065.83,360.491 1065.96,364.319 1066.09,364.245 1066.21,360.933 1066.34,355.135 1066.46,364.097 1066.59,362.033 1066.72,365.735 1066.84,370.311 \n",
       "  1066.97,368.884 1067.1,371.771 1067.22,374.296 1067.35,367.815 1067.48,366.372 1067.6,360.357 1067.73,362.666 1067.85,365.665 1067.98,366.852 1068.11,362.717 \n",
       "  1068.23,366.852 1068.36,371.436 1068.49,371.716 1068.61,372.309 1068.74,367.535 1068.87,371.066 1068.99,374.857 1069.12,368.372 1069.24,375.654 1069.37,373.975 \n",
       "  1069.5,374.637 1069.62,379.736 1069.75,375.664 1069.88,372.663 1070,378.474 1070.13,379.763 1070.26,373.941 1070.38,373.988 1070.51,372.111 1070.63,369.639 \n",
       "  1070.76,371.861 1070.89,363.516 1071.01,366.007 1071.14,363.452 1071.27,363.814 1071.39,366.298 1071.52,368.345 1071.65,366.258 1071.77,369.725 1071.9,369.037 \n",
       "  1072.02,366.496 1072.15,366.833 1072.28,361.631 1072.4,363.038 1072.53,358.633 1072.66,356.16 1072.78,342.406 1072.91,350.674 1073.04,343.689 1073.16,345.687 \n",
       "  1073.29,354.615 1073.41,354.644 1073.54,350.17 1073.67,351.537 1073.79,348.586 1073.92,345.369 1074.05,354.64 1074.17,349.838 1074.3,345.427 1074.43,339.627 \n",
       "  1074.55,338.046 1074.68,347.734 1074.8,340.327 1074.93,341.694 1075.06,339.817 1075.18,346.766 1075.31,345.14 1075.44,347.441 1075.56,351.801 1075.69,347.816 \n",
       "  1075.82,347.116 1075.94,351.279 1076.07,350.943 1076.19,355.38 1076.32,356.375 1076.45,357.177 1076.57,357.118 1076.7,357.248 1076.83,357.006 1076.95,356.217 \n",
       "  1077.08,359.636 1077.21,357.612 1077.33,356.271 1077.46,361.083 1077.58,374.861 1077.71,391.089 1077.84,384.107 1077.96,379.58 1078.09,377.514 1078.22,372.74 \n",
       "  1078.34,371.906 1078.47,382.499 1078.6,379.62 1078.72,386.954 1078.85,384.607 1078.97,382.106 1079.1,384.23 1079.23,388.828 1079.35,392.717 1079.48,388.497 \n",
       "  1079.61,384.879 1079.73,400.48 1079.86,402.396 1079.99,404.211 1080.11,402.52 1080.24,401.339 1080.36,396.429 1080.49,394.113 1080.62,394.757 1080.74,395.723 \n",
       "  1080.87,391.066 1081,392.195 1081.12,389.281 1081.25,390.359 1081.38,395.995 1081.5,390.475 1081.63,390.136 1081.75,386.661 1081.88,388.775 1082.01,388.881 \n",
       "  1082.13,386.167 1082.26,382.942 1082.39,379.364 1082.51,378.71 1082.64,372.159 1082.77,370.898 1082.89,363.094 1083.02,365.574 1083.14,363.254 1083.27,368.831 \n",
       "  1083.4,375.189 1083.52,375.883 1083.65,373.405 1083.78,370.394 1083.9,377.408 1084.03,377.558 1084.16,372.571 1084.28,375.3 1084.41,370.486 1084.53,370.65 \n",
       "  1084.66,363.239 1084.79,355.232 1084.91,345.562 1085.04,349.149 1085.17,348.966 1085.29,359.162 1085.42,355.533 1085.55,359.584 1085.67,357.357 1085.8,354.099 \n",
       "  1085.92,350.973 1086.05,353.421 1086.18,358.898 1086.3,357.948 1086.43,356.427 1086.56,361.019 1086.68,357.766 1086.81,357.813 1086.94,357.86 1087.06,356.511 \n",
       "  1087.19,349.367 1087.31,365.036 1087.44,371.378 1087.57,367.153 1087.69,364.575 1087.82,359.397 1087.95,360.756 1088.07,357.974 1088.2,357.209 1088.33,357.667 \n",
       "  1088.45,364.043 1088.58,368.23 1088.7,362.478 1088.83,361.104 1088.96,362.32 1089.08,368.124 1089.21,372.296 1089.34,367.082 1089.46,369.032 1089.59,366.619 \n",
       "  1089.72,371.734 1089.84,370.026 1089.97,377.492 1090.09,375.642 1090.22,374.213 1090.35,372.772 1090.47,368.171 1090.6,371.539 1090.73,375.142 1090.85,377.675 \n",
       "  1090.98,390.033 1091.11,384.154 1091.23,386.909 1091.36,393.403 1091.48,390.367 1091.61,386.785 1091.74,383.771 1091.86,391.633 1091.99,398.08 1092.12,393.662 \n",
       "  1092.24,388.77 1092.37,403.073 1092.5,404.512 1092.62,413.007 1092.75,425.637 1092.87,453.333 1093,466.684 1093.13,457.571 1093.25,450.126 1093.38,457.264 \n",
       "  1093.51,520.556 1093.63,635.625 1093.76,577.661 1093.89,567.561 1094.01,610.673 1094.14,583.279 1094.26,582.221 1094.39,581.728 1094.52,576.618 1094.64,590.779 \n",
       "  1094.77,580.373 1094.9,580.22 1095.02,576.845 1095.15,587.525 1095.28,618.632 1095.4,631.258 1095.53,623.484 1095.65,599.905 1095.78,583.662 1095.91,603.51 \n",
       "  1096.03,595.564 1096.16,602.123 1096.29,592.611 1096.41,584.696 1096.54,581.601 1096.67,580.418 1096.79,568.661 1096.92,560.85 1097.04,559.182 1097.17,560.718 \n",
       "  1097.3,541.062 1097.42,543.535 1097.55,539.13 1097.68,552.41 1097.8,543.284 1097.93,552.943 1098.06,546.063 1098.18,541.801 1098.31,549.374 1098.43,541.835 \n",
       "  1098.56,554.68 1098.69,562.728 1098.81,562.568 1098.94,568.972 1099.07,565.016 1099.19,554.329 1099.32,562.137 1099.45,569.052 1099.57,564.32 1099.7,559.907 \n",
       "  1099.82,565.949 1099.95,564.17 1100.08,573.8 1100.2,580.006 1100.33,584.321 1100.46,573.71 1100.58,569.955 1100.71,575.29 1100.84,597.444 1100.96,593.801 \n",
       "  1101.09,578.635 1101.21,572.155 1101.34,579.772 1101.47,571.986 1101.59,566.11 1101.72,559.403 1101.85,564.17 1101.97,568.774 1102.1,575.071 1102.23,570.036 \n",
       "  1102.35,581.166 1102.48,566.882 1102.6,561.085 1102.73,560.227 1102.86,568.679 1102.98,561.794 1103.11,565.629 1103.24,568.996 1103.36,573.644 1103.49,578.283 \n",
       "  1103.62,577.331 1103.74,570.71 1103.87,570.17 1103.99,573.755 1104.12,586.156 1104.25,586.869 1104.37,601.164 1104.5,593.139 1104.63,588.727 1104.75,592.035 \n",
       "  1104.88,594.926 1105.01,601.442 1105.13,616.495 1105.26,602.983 1105.38,594.041 1105.51,585.739 1105.64,607.013 1105.76,607.992 1105.89,610.853 1106.02,610.332 \n",
       "  1106.14,605.538 1106.27,612.359 1106.4,603.001 1106.52,592.516 1106.65,594.134 1106.77,590.726 1106.9,596.817 1107.03,599.462 1107.15,604.464 1107.28,598.419 \n",
       "  1107.41,608.327 1107.53,619.437 1107.66,629.22 1107.79,631.276 1107.91,625.31 1108.04,634.7 1108.16,661.945 1108.29,666.677 1108.42,680.422 1108.54,674.938 \n",
       "  1108.67,680.298 1108.8,669.605 1108.92,658.898 1109.05,661.751 1109.18,657.159 1109.3,647.28 1109.43,647.742 1109.55,651.891 1109.68,651.02 1109.81,664.26 \n",
       "  1109.93,676.41 1110.06,682.428 1110.19,689.5 1110.31,694.671 1110.44,710.887 1110.57,694.428 1110.69,716.371 1110.82,727.702 1110.94,710.177 1111.07,709.035 \n",
       "  1111.2,701.242 1111.32,693.29 1111.45,690.487 1111.58,658.969 1111.7,673.441 1111.83,648.555 1111.96,657.99 1112.08,655.995 1112.21,672.133 1112.33,668.958 \n",
       "  1112.46,676.914 1112.59,679.58 1112.71,659.336 1112.84,663.122 1112.97,655.876 1113.09,664.397 1113.22,650.595 1113.35,655.854 1113.47,656.599 1113.6,655.029 \n",
       "  1113.72,662.957 1113.85,678.545 1113.98,670.15 1114.1,660.766 1114.23,649.386 1114.36,621.272 1114.48,615.837 1114.61,619.123 1114.74,629.889 1114.86,629.12 \n",
       "  1114.99,627.044 1115.11,637.602 1115.24,636.203 1115.37,626.497 1115.49,636.251 1115.62,648.491 1115.75,646.14 1115.87,654.954 1116,659.261 1116.13,646.464 \n",
       "  1116.25,638.621 1116.38,644.842 1116.5,631.908 1116.63,640.566 1116.76,643.036 1116.88,647.847 1117.01,640.015 1117.14,648.064 1117.26,636.761 1117.39,641.658 \n",
       "  1117.52,655.747 1117.64,663.809 1117.77,659.359 1117.89,669.311 1118.02,669.52 1118.15,670.52 1118.27,672.233 1118.4,668.065 1118.53,664.315 1118.65,660.008 \n",
       "  1118.78,648.764 1118.91,649.772 1119.03,646.055 1119.16,645.478 1119.28,657.551 1119.41,653.397 1119.54,651.192 1119.66,643.823 1119.79,640.472 1119.92,644.812 \n",
       "  1120.04,660.035 1120.17,648.6 1120.3,652.954 1120.42,652.777 1120.55,646.488 1120.67,651.012 1120.8,640.51 1120.93,639.059 1121.05,643.318 1121.18,638.412 \n",
       "  1121.31,658.831 1121.43,659.333 1121.56,663.267 1121.69,656.433 1121.81,647.882 1121.94,663.168 1122.06,657.575 1122.19,659.193 1122.32,660.354 1122.44,664.329 \n",
       "  1122.57,673.589 1122.7,675.436 1122.82,677.748 1122.95,674.318 1123.08,682.359 1123.2,672.62 1123.33,670.902 1123.45,672.557 1123.58,665.239 1123.71,656.343 \n",
       "  1123.83,667.963 1123.96,668.755 1124.09,665.551 1124.21,667.772 1124.34,667.074 1124.47,682.171 1124.59,678.77 1124.72,686.073 1124.84,687.706 1124.97,687.199 \n",
       "  1125.1,693.948 1125.22,690.664 1125.35,689.592 1125.48,680.625 1125.6,687.458 1125.73,704.631 1125.86,720.042 1125.98,708.246 1126.11,707.005 1126.23,715.809 \n",
       "  1126.36,707.947 1126.49,704.018 1126.61,703.35 1126.74,708.766 1126.87,713.74 1126.99,706.172 1127.12,701.902 1127.25,693.385 1127.37,688.139 1127.5,688.654 \n",
       "  1127.63,681.588 1127.75,667.548 1127.88,650.745 1128,648.718 1128.13,658.724 1128.26,645.552 1128.38,655.987 1128.51,654.67 1128.64,656.293 1128.76,661.095 \n",
       "  1128.89,661.452 1129.02,673.972 1129.14,674.682 1129.27,669.293 1129.39,686.355 1129.52,689.39 1129.65,687.843 1129.77,685.03 1129.9,681.151 1130.03,676.339 \n",
       "  1130.15,678.353 1130.28,679.281 1130.41,667.649 1130.53,665.849 1130.66,670.169 1130.78,683.488 1130.91,691.202 1131.04,690.295 1131.16,694.467 1131.29,694.058 \n",
       "  1131.42,691.158 1131.54,685.848 1131.67,701.376 1131.8,695.491 1131.92,692.33 1132.05,690.775 1132.17,699.589 1132.3,704.164 1132.43,693.095 1132.55,700.663 \n",
       "  1132.68,699.283 1132.81,680.256 1132.93,684.343 1133.06,691.538 1133.19,691.538 1133.31,699.893 1133.44,702.01 1133.56,709.747 1133.69,706.322 1133.82,703.709 \n",
       "  1133.94,698.178 1134.07,704.35 1134.2,704.338 1134.32,686.226 1134.45,694.533 1134.58,684.579 1134.7,688.223 1134.83,681.39 1134.95,677.782 1135.08,678.975 \n",
       "  1135.21,675.6 1135.33,672.219 1135.46,677.611 1135.59,670.311 1135.71,662.458 1135.84,664.991 1135.97,662.891 1136.09,656.641 1136.22,659.631 1136.34,653.104 \n",
       "  1136.47,657.174 1136.6,660.381 1136.72,661.157 1136.85,656.371 1136.98,657.09 1137.1,657.546 1137.23,652.994 1137.36,626.938 1137.48,623.15 1137.61,613.388 \n",
       "  1137.73,624.156 1137.86,621.821 1137.99,625.161 1138.11,624.174 1138.24,625.471 1138.37,627.552 1138.49,625.785 1138.62,626.616 1138.75,623.399 1138.87,620.744 \n",
       "  1139,589.653 1139.12,588.499 1139.25,585.485 1139.38,588.792 1139.5,590.938 1139.63,598.829 1139.76,601.008 1139.88,598.501 1140.01,598.956 1140.14,591.484 \n",
       "  1140.26,609.419 1140.39,609.153 1140.51,609.214 1140.64,609.783 1140.77,601.352 1140.89,614.083 1141.02,616.125 1141.15,617.376 1141.27,614.803 1141.4,616.299 \n",
       "  1141.53,615.556 1141.65,621.728 1141.78,624.885 1141.9,629.443 1142.03,620.208 1142.16,631.654 1142.28,632.771 1142.41,634.563 1142.54,623.362 1142.66,626.228 \n",
       "  1142.79,626.722 1142.92,630.215 1143.04,630.324 1143.17,633.459 1143.29,627.616 1143.42,619.918 1143.55,622.869 1143.67,626.436 1143.8,622.304 1143.93,623.298 \n",
       "  1144.05,619.375 1144.18,617.474 1144.31,615.861 1144.43,617.783 1144.56,612.004 1144.68,617.005 1144.81,626.547 1144.94,633.356 1145.06,638.244 1145.19,633.343 \n",
       "  1145.32,625.636 1145.44,628.311 1145.57,626.642 1145.7,628.737 1145.82,633.161 1145.95,636.281 1146.07,636.317 1146.2,637.095 1146.33,632.932 1146.45,632.16 \n",
       "  1146.58,628.444 1146.71,625.301 1146.83,635.491 1146.96,635.972 1147.09,634.53 1147.21,633.586 1147.34,631.342 1147.46,636.761 1147.59,636.071 1147.72,631.021 \n",
       "  1147.84,640.609 1147.97,634.662 1148.1,632.871 1148.22,629.141 1148.35,629.77 1148.48,623.753 1148.6,628.365 1148.73,628.696 1148.85,630.965 1148.98,636.671 \n",
       "  1149.11,637.489 1149.23,644.808 1149.36,647.541 1149.49,657.879 1149.61,654.268 1149.74,658.952 1149.87,652.878 1149.99,647.882 1150.12,643.933 1150.24,646.456 \n",
       "  1150.37,640.337 1150.5,629.888 1150.62,627.176 1150.75,626.436 1150.88,620.441 1151,616.82 1151.13,602.088 1151.26,612.061 1151.38,619.2 1151.51,621.047 \n",
       "  1151.63,628.89 1151.76,629.582 1151.89,634.068 1152.01,630.168 1152.14,620.077 1152.27,620.499 1152.39,618.688 1152.52,620.382 1152.65,612.563 1152.77,618.492 \n",
       "  1152.9,625.091 1153.02,623.518 1153.15,625.513 1153.28,631.778 1153.4,630.902 1153.53,636.665 1153.66,640.384 1153.78,633.615 1153.91,636.592 1154.04,630.448 \n",
       "  1154.16,636.868 1154.29,643.073 1154.41,641.901 1154.54,641.876 1154.67,640.927 1154.79,644.907 1154.92,641.627 1155.05,640.302 1155.17,643.235 1155.3,639.837 \n",
       "  1155.43,631.839 1155.55,631.557 1155.68,634.662 1155.8,648.389 1155.93,659.335 1156.06,648.03 1156.18,641.992 1156.31,639.02 1156.44,633.636 1156.56,618.487 \n",
       "  1156.69,623.573 1156.82,625.289 1156.94,631.319 1157.07,626.009 1157.19,629.059 1157.32,629.062 1157.45,619.899 1157.57,623.098 1157.7,622.945 1157.83,627.579 \n",
       "  1157.95,626.73 1158.08,622.85 1158.21,623.909 1158.33,622.575 1158.46,619.404 1158.58,620.287 1158.71,617.617 1158.84,619.916 1158.96,624.302 1159.09,619.198 \n",
       "  1159.22,621.069 1159.34,624.233 1159.47,624.006 1159.6,623.457 1159.72,623.863 1159.85,626.613 1159.97,629.311 1160.1,633.432 1160.23,629.62 1160.35,632.77 \n",
       "  1160.48,626.957 1160.61,625.97 1160.73,623.716 1160.86,624.806 1160.99,620.322 1161.11,620.193 1161.24,625.967 1161.36,628.78 1161.49,624.223 1161.62,624.042 \n",
       "  1161.74,626.576 1161.87,632.058 1162,627.709 1162.12,621.987 1162.25,620.119 1162.38,624.465 1162.5,627.477 1162.63,627.254 1162.75,631.049 1162.88,636.776 \n",
       "  1163.01,638.523 1163.13,626.581 1163.26,624.697 1163.39,623.509 1163.51,621.955 1163.64,620.333 1163.77,625.925 1163.89,624.219 1164.02,632.519 1164.14,636.803 \n",
       "  1164.27,634.633 1164.4,625.669 1164.52,626.078 1164.65,629.661 1164.78,631.965 1164.9,622.014 1165.03,617.989 1165.16,619.086 1165.28,617.057 1165.41,606.857 \n",
       "  1165.53,597.879 1165.66,600.133 1165.79,610.154 1165.91,606.707 1166.04,609.472 1166.17,608.609 1166.29,612.359 1166.42,616.186 1166.55,611.93 1166.67,613.243 \n",
       "  1166.8,619.887 1166.92,619.548 1167.05,622.269 1167.18,626.996 1167.3,624.468 1167.43,628.556 1167.56,636.566 1167.68,633.103 1167.81,637.037 1167.94,634.217 \n",
       "  1168.06,631.792 1168.19,636.742 1168.31,632.237 1168.44,631.318 1168.57,635.09 1168.69,642.216 1168.82,652.492 1168.95,647.024 1169.07,646.873 1169.2,650.08 \n",
       "  1169.33,648.669 1169.45,647.001 1169.58,645.873 1169.7,646.219 1169.83,664.764 1169.96,682.443 1170.08,677.255 1170.21,673.541 1170.34,677.609 1170.46,678.828 \n",
       "  1170.59,681.11 1170.72,669.163 1170.84,669.852 1170.97,663.569 1171.09,660.062 1171.22,661.687 1171.35,658.003 1171.47,654.112 1171.6,652.27 1171.73,650.555 \n",
       "  1171.85,648.19 1171.98,644.783 1172.11,647.953 1172.23,650.028 1172.36,648.871 1172.48,654.762 1172.61,653.426 1172.74,662.207 1172.86,665.252 1172.99,682.52 \n",
       "  1173.12,678.659 1173.24,670.607 1173.37,666.245 1173.5,662.571 1173.62,662.996 1173.75,663.63 1173.87,670.446 1174,676.788 1174.13,668.805 1174.25,673.336 \n",
       "  1174.38,666.862 1174.51,667.388 1174.63,664.168 1174.76,664.168 1174.89,666.954 1175.01,664.925 1175.14,656.778 1175.26,646.543 1175.39,655.482 1175.52,654.371 \n",
       "  1175.64,656.028 1175.77,656.139 1175.9,663.341 1176.02,662.56 1176.15,656.467 1176.28,666.529 1176.4,663.218 1176.53,690.865 1176.65,709.552 1176.78,696.18 \n",
       "  1176.91,693.185 1177.03,683.501 1177.16,661.446 1177.29,649.165 1177.41,646.254 1177.54,654.087 1177.67,662.598 1177.79,661.331 1177.92,674.679 1178.04,668.61 \n",
       "  1178.17,674.964 1178.3,681.841 1178.42,687.97 1178.55,681.99 1178.68,693.831 1178.8,683.356 1178.93,687.824 1179.06,686.091 1179.18,683.494 1179.31,690.543 \n",
       "  1179.43,683.803 1179.56,679.572 1179.69,681.415 1179.81,678.432 1179.94,687.487 1180.07,686.584 1180.19,680.44 1180.32,687.183 1180.45,685.214 1180.57,704.598 \n",
       "  1180.7,703.06 1180.82,705.676 1180.95,709.248 1181.08,721.996 1181.2,727.321 1181.33,724.107 1181.46,733.623 1181.58,751.992 1181.71,755.439 1181.84,778.148 \n",
       "  1181.96,771.716 1182.09,785.263 1182.21,797.413 1182.34,804.243 1182.47,806.877 1182.59,817.357 1182.72,827.837 1182.85,820.345 1182.97,809.707 1183.1,798.3 \n",
       "  1183.23,786.371 1183.35,784.419 1183.48,805.471 1183.6,806.896 1183.73,814.581 1183.86,815.146 1183.98,809.152 1184.11,810.722 1184.24,806.423 1184.36,803.497 \n",
       "  1184.49,804.954 1184.62,804.61 1184.74,816.32 1184.87,813.686 1184.99,813.092 1185.12,803.003 1185.25,802.428 1185.37,796.194 1185.5,803.457 1185.63,809.93 \n",
       "  1185.75,795.199 1185.88,782.048 1186.01,783.75 1186.13,778.559 1186.26,778.097 1186.38,780.942 1186.51,783.5 1186.64,788.108 1186.76,787.797 1186.89,784.949 \n",
       "  1187.02,785.078 1187.14,794.795 1187.27,787.741 1187.4,788.192 1187.52,789.781 1187.65,784.3 1187.77,779.127 1187.9,778.251 1188.03,753.874 1188.15,756.644 \n",
       "  1188.28,756.335 1188.41,767.212 1188.53,765.11 1188.66,755.963 1188.79,763.667 1188.91,768.059 1189.04,762.558 1189.16,764.675 1189.29,767.483 1189.42,767.315 \n",
       "  1189.54,771.854 1189.67,765.53 1189.8,763.783 1189.92,760.46 1190.05,759.513 1190.18,753.609 1190.3,755.093 1190.43,755.847 1190.55,756.745 1190.68,760.453 \n",
       "  1190.81,769.912 1190.93,804.29 1191.06,815.093 1191.19,813.01 1191.31,819.598 1191.44,804.581 1191.57,793.615 1191.69,787.949 1191.82,796.692 1191.94,794.582 \n",
       "  1192.07,784.601 1192.2,791.087 1192.32,789.35 1192.45,807.717 1192.58,796.598 1192.7,788.145 1192.83,790.282 1192.96,788.928 1193.08,787.553 1193.21,794.323 \n",
       "  1193.33,774.155 1193.46,772.856 1193.59,776.799 1193.71,769.27 1193.84,765.488 1193.97,753.747 1194.09,741.406 1194.22,733.724 1194.35,737.094 1194.47,742.407 \n",
       "  1194.6,744.673 1194.72,744.961 1194.85,744.356 1194.98,743.151 1195.1,747.257 1195.23,749.939 1195.36,749.897 1195.48,753.166 1195.61,743.67 1195.74,740.694 \n",
       "  1195.86,748.799 1195.99,751.615 1196.11,751.35 1196.24,758.146 1196.37,752.422 1196.49,753.697 1196.62,765.203 1196.75,768.17 1196.87,764.796 1197,759.162 \n",
       "  1197.13,767.009 1197.25,761.962 1197.38,761.906 1197.5,762.121 1197.63,759.674 1197.76,748.408 1197.88,755.135 1198.01,759.771 1198.14,752.561 1198.26,749.067 \n",
       "  1198.39,749.062 1198.52,748.254 1198.64,751.107 1198.77,753.742 1198.89,738.099 1199.02,740.66 1199.15,743.296 1199.27,745.85 1199.4,744.671 1199.53,740.493 \n",
       "  1199.65,750.025 1199.78,737.967 1199.91,739.454 1200.03,723.086 1200.16,723.089 1200.28,722.009 1200.41,717.86 1200.54,720.62 1200.66,723.23 1200.79,721.615 \n",
       "  1200.92,715.693 1201.04,708.143 1201.17,722.262 1201.3,727.586 1201.42,730.731 1201.55,734.21 1201.67,730.504 1201.8,731.842 1201.93,736.745 1202.05,737.637 \n",
       "  1202.18,728.865 1202.31,732.558 1202.43,736.02 1202.56,736.13 1202.69,735.68 1202.81,731.711 1202.94,720.888 1203.06,710.827 1203.19,712.865 1203.32,717.538 \n",
       "  1203.44,714.118 1203.57,716.412 1203.7,718.098 1203.82,712.885 1203.95,716.668 1204.08,711.072 1204.2,684.95 1204.33,692.383 1204.45,690.023 1204.58,693.953 \n",
       "  1204.71,699.883 1204.83,702.872 1204.96,708.798 1205.09,702.036 1205.21,700.142 1205.34,704.799 1205.47,706.449 1205.59,705.845 1205.72,708.22 1205.84,697.954 \n",
       "  1205.97,705.399 1206.1,704.23 1206.22,705.985 1206.35,704.288 1206.48,705.705 1206.6,709.98 1206.73,714.748 1206.86,712.899 1206.98,721.66 1207.11,710.666 \n",
       "  1207.23,715.026 1207.36,715.556 1207.49,716.763 1207.61,721.276 1207.74,724.006 1207.87,718.345 1207.99,712.192 1208.12,710.833 1208.25,714.558 1208.37,712.381 \n",
       "  1208.5,699.097 1208.62,689.878 1208.75,700.237 1208.88,699.218 1209,708.591 1209.13,703.147 1209.26,696.79 1209.38,691.54 1209.51,692.564 1209.64,697.08 \n",
       "  1209.76,686.592 1209.89,689.397 1210.01,691.013 1210.14,688.316 1210.27,689.484 1210.39,692.4 1210.52,694.723 1210.65,658.583 1210.77,664.308 1210.9,649.776 \n",
       "  1211.03,649.6 1211.15,653.595 1211.28,645.464 1211.4,627.864 1211.53,635.185 1211.66,643.129 1211.78,646.908 1211.91,647.198 1212.04,646.686 1212.16,644.67 \n",
       "  1212.29,650.515 1212.42,634.504 1212.54,634.283 1212.67,644.018 1212.79,640.423 1212.92,640.659 1213.05,644.846 1213.17,643.527 1213.3,639.218 1213.43,642.633 \n",
       "  1213.55,643.023 1213.68,647.484 1213.81,639.205 1213.93,638.511 1214.06,630.355 1214.18,637.571 1214.31,639.576 1214.44,644.82 1214.56,640.015 1214.69,641.867 \n",
       "  1214.82,637.539 1214.94,642.562 1215.07,641.5 1215.2,639.783 1215.32,636.148 1215.45,642.562 1215.57,641.463 1215.7,637.949 1215.83,636.103 1215.95,608.588 \n",
       "  1216.08,614.618 1216.21,619.295 1216.33,617.39 1216.46,623.71 1216.59,619.664 1216.71,625.417 1216.84,621.1 1216.96,615.07 1217.09,620.129 1217.22,621.667 \n",
       "  1217.34,623.616 1217.47,624.771 1217.6,619.181 1217.72,619.498 1217.85,614.387 1217.98,607.129 1218.1,610.745 1218.23,617.4 1218.35,619.765 1218.48,612.961 \n",
       "  1218.61,614.254 1218.73,619.623 1218.86,624.528 1218.99,625.502 1219.11,633.572 1219.24,634.166 1219.37,634.254 1219.49,629.69 1219.62,629.553 1219.74,633.692 \n",
       "  1219.87,630.281 1220,622.016 1220.12,623.642 1220.25,620.213 1220.38,618.369 1220.5,618.252 1220.63,621.044 1220.76,627.645 1220.88,622.729 1221.01,619.247 \n",
       "  1221.13,624.558 1221.26,626.698 1221.39,628.403 1221.51,624.447 1221.64,628.149 1221.77,621.631 1221.89,616.018 1222.02,609.952 1222.15,613.038 1222.27,614.193 \n",
       "  1222.4,619.174 1222.52,614.595 1222.65,620.063 1222.78,619.693 1222.9,624.043 1223.03,628.748 1223.16,625.977 1223.28,623.546 1223.41,621.184 1223.54,622.261 \n",
       "  1223.66,614.312 1223.79,609.815 1223.91,614.17 1224.04,615.431 1224.17,620.94 1224.29,621.689 1224.42,618.324 1224.55,621.304 1224.67,622.905 1224.8,622.625 \n",
       "  1224.93,621.185 1225.05,616.136 1225.18,619.62 1225.3,627.104 1225.43,628.777 1225.56,624.895 1225.68,626.811 1225.81,642.347 1225.94,658.158 1226.06,671.398 \n",
       "  1226.19,659.15 1226.32,654.298 1226.44,652.036 1226.57,656.454 1226.69,665.645 1226.82,662.392 1226.95,659.794 1227.07,655.82 1227.2,656.313 1227.33,654.227 \n",
       "  1227.45,645.839 1227.58,653.398 1227.71,648.204 1227.83,643.409 1227.96,643.326 1228.08,645.7 1228.21,645.137 1228.34,650.624 1228.46,665.685 1228.59,661.753 \n",
       "  1228.72,650.785 1228.84,647.053 1228.97,644.976 1229.1,640.291 1229.22,649.199 1229.35,640.667 1229.47,638.803 1229.6,642.756 1229.73,642.479 1229.85,643.277 \n",
       "  1229.98,651.225 1230.11,654.062 1230.23,651.287 1230.36,650.104 1230.49,653.311 1230.61,646.57 1230.74,645.47 1230.86,642.97 1230.99,646.581 1231.12,644.899 \n",
       "  1231.24,634.676 1231.37,629.335 1231.5,627.724 1231.62,628.648 1231.75,629.934 1231.88,634.499 1232,636.534 1232.13,637.598 1232.25,639.54 1232.38,643.495 \n",
       "  1232.51,639.146 1232.63,641.82 1232.76,649.029 1232.89,647.528 1233.01,651.4 1233.14,646.092 1233.27,639.447 1233.39,640.947 1233.52,642.556 1233.64,640.13 \n",
       "  1233.77,638.325 1233.9,631.284 1234.02,634.638 1234.15,630.773 1234.28,637.304 1234.4,641.459 1234.53,637.949 1234.66,641.78 1234.78,641.888 1234.91,648.186 \n",
       "  1235.03,635.771 1235.16,634.562 1235.29,637.901 1235.41,633.422 1235.54,630.999 1235.67,627.759 1235.79,624.655 1235.92,619.084 1236.05,625.927 1236.17,625.175 \n",
       "  1236.3,628.616 1236.42,626.376 1236.55,624.611 1236.68,623.918 1236.8,620.216 1236.93,620.437 1237.06,616.408 1237.18,619.082 1237.31,614.489 1237.44,617.848 \n",
       "  1237.56,623.914 1237.69,623.913 1237.82,625.144 1237.94,625.151 1238.07,623.354 1238.19,625.515 1238.32,627.44 1238.45,624.65 1238.57,626.991 1238.7,630.355 \n",
       "  1238.83,618.052 1238.95,624.327 1239.08,625.323 1239.21,630.767 1239.33,633.375 1239.46,632.866 1239.58,636.269 1239.71,640.344 1239.84,639.296 1239.96,640.307 \n",
       "  1240.09,632.892 1240.22,637.912 1240.34,636.455 1240.47,640.305 1240.6,643.235 1240.72,638.415 1240.85,635.328 1240.97,636.211 1241.1,633.192 1241.23,633.525 \n",
       "  1241.35,631.488 1241.48,628.878 1241.61,626.914 1241.73,625.202 1241.86,626.028 1241.99,623.777 1242.11,619.087 1242.24,620.007 1242.36,621.32 1242.49,619.773 \n",
       "  1242.62,627.247 1242.74,623.193 1242.87,619.564 1243,623.053 1243.12,618.108 1243.25,615.55 1243.38,614.68 1243.5,615.415 1243.63,616.672 1243.75,612.412 \n",
       "  1243.88,615.878 1244.01,616.159 1244.13,620.485 1244.26,623.198 1244.39,627.634 1244.51,625.236 1244.64,626.428 1244.77,625.212 1244.89,625.241 1245.02,622.098 \n",
       "  1245.14,627.073 1245.27,626.284 1245.4,623.65 1245.52,620.416 1245.65,614.93 1245.78,615.825 1245.9,618.772 1246.03,617.094 1246.16,611.839 1246.28,605.133 \n",
       "  1246.41,578.252 1246.53,575.922 1246.66,578.904 1246.79,582.91 1246.91,579.18 1247.04,582.02 1247.17,586.877 1247.29,592.526 1247.42,593.152 1247.55,593.134 \n",
       "  1247.67,597.802 1247.8,598.154 1247.92,612.059 1248.05,621.517 1248.18,624.616 1248.3,636.491 1248.43,650.668 1248.56,643.271 1248.68,647.093 1248.81,647.571 \n",
       "  1248.94,643.717 1249.06,640.062 1249.19,641.115 1249.31,660.83 1249.44,665.693 1249.57,661.305 1249.69,662.524 1249.82,653.408 1249.95,687.824 1250.07,672.623 \n",
       "  1250.2,665.237 1250.33,672.821 1250.45,682.121 1250.58,677.382 1250.7,678.934 1250.83,673.022 1250.96,671.687 1251.08,679.363 1251.21,670.222 1251.34,667.838 \n",
       "  1251.46,666.614 1251.59,665.49 1251.72,660.562 1251.84,659.336 1251.97,656.522 1252.09,659.457 1252.22,658.254 1252.35,653.687 1252.47,652.795 1252.6,654.028 \n",
       "  1252.73,663.453 1252.85,659.893 1252.98,660.05 1253.11,663.605 1253.23,676.015 1253.36,668.598 1253.48,673.359 1253.61,671.525 1253.74,668.958 1253.86,666.87 \n",
       "  1253.99,659.338 1254.12,662.713 1254.24,660.029 1254.37,658.369 1254.5,662.362 1254.62,661.342 1254.75,659.338 1254.87,655.309 1255,659.504 1255.13,662.563 \n",
       "  1255.25,659.335 1255.38,657.683 1255.51,654.289 1255.63,657.304 1255.76,653.823 1255.89,649.491 1256.01,648.842 1256.14,647.436 1256.26,650.083 1256.39,651.634 \n",
       "  1256.52,649.148 1256.64,649.766 1256.77,648.83 1256.9,643.947 1257.02,649.537 1257.15,659.821 1257.28,654.728 1257.4,655.681 1257.53,658.839 1257.65,654.54 \n",
       "  1257.78,650.803 1257.91,650.974 1258.03,651.117 1258.16,645.85 1258.29,648.425 1258.41,639.986 1258.54,641.194 1258.67,624.402 1258.79,629.342 1258.92,631.857 \n",
       "  1259.04,629.181 1259.17,628.004 1259.3,618.612 1259.42,622.195 1259.55,626.408 1259.68,628.13 1259.8,626.28 1259.93,625.748 1260.06,623.76 1260.18,618.281 \n",
       "  1260.31,620.923 1260.43,618.281 1260.56,619.047 1260.69,618.582 1260.81,623.65 1260.94,621.1 1261.07,619.079 1261.19,619.327 1261.32,616.555 1261.45,621.89 \n",
       "  1261.57,616.556 1261.7,613.811 1261.82,617.852 1261.95,619.084 1262.08,619.649 1262.2,620.773 1262.33,621.198 1262.46,619.131 1262.58,623.876 1262.71,621.118 \n",
       "  1262.84,621.89 1262.96,618.902 1263.09,613.908 1263.21,613.893 1263.34,618.527 1263.47,602.516 1263.59,604.065 1263.72,605.901 1263.85,611.34 1263.97,607.715 \n",
       "  1264.1,607.67 1264.23,611.037 1264.35,611.517 1264.48,616.801 1264.6,614.502 1264.73,617.239 1264.86,617.099 1264.98,621.119 1265.11,615.21 1265.24,617.202 \n",
       "  1265.36,616.687 1265.49,612.059 1265.62,613.648 1265.74,613.9 1265.87,611.512 1265.99,616.191 1266.12,615.722 1266.25,616.031 1266.37,614.212 1266.5,616.031 \n",
       "  1266.63,615.84 1266.75,612.806 1266.88,616.88 1267.01,616.962 1267.13,625.731 1267.26,638.495 1267.38,641.329 1267.51,645.575 1267.64,639.677 1267.76,635.17 \n",
       "  1267.89,628.563 1268.02,627.236 1268.14,621.639 1268.27,620.842 1268.4,614.112 1268.52,609.528 1268.65,604.371 1268.77,599.08 1268.9,588.193 1269.03,593.561 \n",
       "  1269.15,577.908 1269.28,584.615 1269.41,590.354 1269.53,592.07 1269.66,590.02 1269.79,591.159 1269.91,593.323 1270.04,600.98 1270.16,596.754 1270.29,591.716 \n",
       "  1270.42,596.831 1270.54,596.763 1270.67,598.143 1270.8,599.443 1270.92,601.693 1271.05,598.225 1271.18,601.125 1271.3,599.882 1271.43,605.315 1271.55,609.908 \n",
       "  1271.68,607.556 1271.81,607.411 1271.93,607.213 1272.06,609.95 1272.19,607.707 1272.31,612.893 1272.44,608.849 1272.57,611.613 1272.69,615.347 1272.82,610.678 \n",
       "  1272.94,607.239 1273.07,597.541 1273.2,600.045 1273.32,607.111 1273.45,603.973 1273.58,605.128 1273.7,599.496 1273.83,600.727 1273.96,607.778 1274.08,609.932 \n",
       "  1274.21,603.722 1274.33,605.356 1274.46,609.23 1274.59,607.49 1274.71,604.772 1274.84,617.329 1274.97,619.26 1275.09,615.267 1275.22,620.594 1275.35,619.082 \n",
       "  1275.47,616.308 1275.6,619.342 1275.72,616.271 1275.85,615.589 1275.98,615.06 1276.1,616.146 1276.23,615.275 1276.36,612.497 1276.48,615.635 1276.61,616.464 \n",
       "  1276.74,613.563 1276.86,615.857 1276.99,622.064 1277.11,629.931 1277.24,631.612 1277.37,628.263 1277.49,624.7 1277.62,621.755 1277.75,622.913 1277.87,625.305 \n",
       "  1278,619.813 1278.13,619.598 1278.25,624.568 1278.38,619.086 1278.5,628.505 1278.63,625.978 1278.76,637.389 1278.88,652.643 1279.01,650.924 1279.14,644.305 \n",
       "  1279.26,652.526 1279.39,646.328 1279.52,638.329 1279.64,635.992 1279.77,634.9 1279.89,640.344 1280.02,637.536 1280.15,636.291 1280.27,635.486 1280.4,644.333 \n",
       "  1280.53,638.597 1280.65,641.896 1280.78,639.318 1280.91,641.772 1281.03,647.063 1281.16,642.533 1281.28,643.237 1281.41,649.684 1281.54,651.948 1281.66,660.655 \n",
       "  1281.79,656.406 1281.92,651.502 1282.04,649.727 1282.17,654.2 1282.3,657.263 1282.42,646.543 1282.55,643.235 1282.67,648.056 1282.8,647.707 1282.93,647.99 \n",
       "  1283.05,649.703 1283.18,646.509 1283.31,644.25 1283.43,646.842 1283.56,648.389 1283.69,643.235 1283.81,641.508 1283.94,644.081 1284.06,640.268 1284.19,640.709 \n",
       "  1284.32,628.086 1284.44,633.407 1284.57,638.846 1284.7,647.729 1284.82,645.879 1284.95,656.884 1285.08,659.496 1285.2,653.82 1285.33,650.74 1285.45,652.582 \n",
       "  1285.58,652.729 1285.71,656.036 1285.83,650.057 1285.96,653.709 1286.09,652.988 1286.21,658.039 1286.34,663.411 1286.47,666.751 1286.59,661.693 1286.72,663.846 \n",
       "  1286.84,666.554 1286.97,660.816 1287.1,656.437 1287.22,657.849 1287.35,656.118 1287.48,651.983 1287.6,654.752 1287.73,656.578 1287.86,658.723 1287.98,661.484 \n",
       "  1288.11,656.646 1288.23,663.619 1288.36,661.935 1288.49,658.832 1288.61,658.095 1288.74,656.815 1288.87,651.872 1288.99,649.088 1289.12,652.857 1289.25,652.559 \n",
       "  1289.37,654.174 1289.5,655.871 1289.62,646.456 1289.75,649.354 1289.88,645.306 1290,648.062 1290.13,651.922 1290.26,654.508 1290.38,654.725 1290.51,661.014 \n",
       "  1290.64,658.575 1290.76,655.313 1290.89,654.15 1291.01,653.951 1291.14,655.313 1291.27,660.615 1291.39,654.772 1291.52,656.805 1291.65,662.085 1291.77,664.468 \n",
       "  1291.9,668.723 1292.03,663.959 1292.15,660.067 1292.28,652.679 1292.4,649.217 1292.53,655.165 1292.66,657.019 1292.78,650.328 1292.91,650.136 1293.04,647.538 \n",
       "  1293.16,650.743 1293.29,649.257 1293.42,639.085 1293.54,635.976 1293.67,627.426 1293.79,634.803 1293.92,639.419 1294.05,639.548 1294.17,636.589 1294.3,633.581 \n",
       "  1294.43,641.076 1294.55,640.506 1294.68,644.992 1294.81,643.099 1294.93,641.195 1295.06,633.873 1295.18,638.415 1295.31,640.762 1295.44,631.065 1295.56,628.603 \n",
       "  1295.69,647.79 1295.82,650.338 1295.94,657.564 1296.07,654.294 1296.2,653.633 1296.32,653.173 1296.45,649.433 1296.57,651.814 1296.7,656.445 1296.83,663.226 \n",
       "  1296.95,659.457 1297.08,663.513 1297.21,656.641 1297.33,655.598 1297.46,657.084 1297.59,656.49 1297.71,654.722 1297.84,656.507 1297.96,658.934 1298.09,657.87 \n",
       "  1298.22,657.238 1298.34,657.523 1298.47,663.51 1298.6,668.556 1298.72,674.548 1298.85,666.583 1298.98,663.906 1299.1,668.857 1299.23,667.387 1299.35,664.197 \n",
       "  1299.48,659.249 1299.61,657.728 1299.73,651.912 1299.86,654.59 1299.99,653.105 1300.11,650.471 1300.24,646.847 1300.37,646.386 1300.49,644.883 1300.62,645.003 \n",
       "  1300.74,645.857 1300.87,651.353 1301,650.281 1301.12,657.564 1301.25,658.402 1301.38,666.36 1301.5,683.135 1301.63,678.058 1301.76,680.921 1301.88,684.698 \n",
       "  1302.01,697.624 1302.13,690.403 1302.26,685.636 1302.39,688.044 1302.51,692.448 1302.64,686.064 1302.77,684.634 1302.89,680.301 1303.02,680.351 1303.15,678.432 \n",
       "  1303.27,673.78 1303.4,684.275 1303.52,684.467 1303.65,678.759 1303.78,678.859 1303.9,674.305 1304.03,670.781 1304.16,672.642 1304.28,670.971 1304.41,677.693 \n",
       "  1304.54,686.537 1304.66,678.046 1304.79,681.749 1304.91,678.044 1305.04,680.398 1305.17,685.285 1305.29,705.441 1305.42,697.259 1305.55,695.113 1305.67,706.903 \n",
       "  1305.8,713.841 1305.93,709.457 1306.05,709.164 1306.18,704.646 1306.3,700.899 1306.43,699.06 1306.56,703.35 1306.68,705.514 1306.81,700.038 1306.94,701.355 \n",
       "  1307.06,705.826 1307.19,700.117 1307.32,701.561 1307.44,697.631 1307.57,706.839 1307.69,721.373 1307.82,716.524 1307.95,717.905 1308.07,716.214 1308.2,718.739 \n",
       "  1308.33,715.689 1308.45,708.602 1308.58,711.297 1308.71,707.633 1308.83,707.563 1308.96,714.711 1309.08,708.167 1309.21,708.273 1309.34,708.61 1309.46,707.568 \n",
       "  1309.59,703.968 1309.72,702.918 1309.84,703.664 1309.97,697.98 1310.1,696.615 1310.22,700.03 1310.35,698.143 1310.47,695.423 1310.6,689.897 1310.73,688.361 \n",
       "  1310.85,694.794 1310.98,699.769 1311.11,697.012 1311.23,697.388 1311.36,694.27 1311.49,692.264 1311.61,698.899 1311.74,697.956 1311.86,694.307 1311.99,691.702 \n",
       "  1312.12,689.93 1312.24,686.416 1312.37,681.345 1312.5,679.784 1312.62,678.269 1312.75,675.437 1312.88,666.971 1313,675.268 1313.13,671.285 1313.25,667.387 \n",
       "  1313.38,649.66 1313.51,629.928 1313.63,635.137 1313.76,628.978 1313.89,615.608 1314.01,621.802 1314.14,627.168 1314.27,623.554 1314.39,627.788 1314.52,625.359 \n",
       "  1314.64,634.501 1314.77,628.854 1314.9,603.717 1315.02,590.994 1315.15,593.955 1315.28,598.65 1315.4,603.006 1315.53,604.405 1315.66,604.147 1315.78,611.211 \n",
       "  1315.91,613.194 1316.03,611.871 1316.16,612.779 1316.29,605.606 1316.41,606.364 1316.54,614.689 1316.67,615.463 1316.79,618.923 1316.92,613.12 1317.05,609.815 \n",
       "  1317.17,614.779 1317.3,615.275 1317.42,610.002 1317.55,611.415 1317.68,613.856 1317.8,609.572 1317.93,619.343 1318.06,618.467 1318.18,618.855 1318.31,618.743 \n",
       "  1318.44,619.596 1318.56,619.76 1318.69,624.819 1318.81,617.862 1318.94,617.472 1319.07,615.431 1319.19,618.34 1319.32,621.594 1319.45,621.225 1319.57,624.045 \n",
       "  1319.7,627.577 1319.83,629.274 1319.95,629.488 1320.08,629.537 1320.2,630.356 1320.33,624.317 1320.46,627.135 1320.58,626.804 1320.71,620.192 1320.84,627.291 \n",
       "  1320.96,627.133 1321.09,627.125 1321.22,626.127 1321.34,621.499 1321.47,622.494 1321.59,621.731 1321.72,613.547 1321.85,612.861 1321.97,615.572 1322.1,617.881 \n",
       "  1322.23,607.586 1322.35,620.742 1322.48,613.117 1322.61,599.542 1322.73,600.9 1322.86,594.06 1322.98,602.281 1323.11,608.519 1323.24,606.545 1323.36,610.069 \n",
       "  1323.49,614.418 1323.62,611.602 1323.74,611.971 1323.87,610.069 1324,602.284 1324.12,608.295 1324.25,614.371 1324.37,621.755 1324.5,619.612 1324.63,613.426 \n",
       "  1324.75,618.342 1324.88,616.852 1325.01,616.772 1325.13,617.534 1325.26,618.438 1325.39,623.109 1325.51,622.613 1325.64,617.474 1325.76,620.411 1325.89,613.739 \n",
       "  1326.02,614.263 1326.14,614.945 1326.27,611.98 1326.4,612.048 1326.52,615.677 1326.65,613.764 1326.78,607.008 1326.9,606.63 1327.03,607.691 1327.15,610.011 \n",
       "  1327.28,605.105 1327.41,605.279 1327.53,605.843 1327.66,595.097 1327.79,602.054 1327.91,612.516 1328.04,612.157 1328.17,612.645 1328.29,611.703 1328.42,609.105 \n",
       "  1328.54,609.29 1328.67,614.202 1328.8,611.035 1328.92,608.94 1329.05,609.329 1329.18,604.651 1329.3,604.648 1329.43,600.117 1329.56,604.593 1329.68,607.078 \n",
       "  1329.81,611.029 1329.93,606.677 1330.06,610.319 1330.19,617.472 1330.31,622.48 1330.44,623.431 1330.57,623.996 1330.69,620.327 1330.82,615.45 1330.95,612.644 \n",
       "  1331.07,618.086 1331.2,615.296 1331.32,614.854 1331.45,616.627 1331.58,615.273 1331.7,621.015 1331.83,615.675 1331.96,614.061 1332.08,613.832 1332.21,615.862 \n",
       "  1332.34,613.104 1332.46,625.481 1332.59,625.755 1332.71,631.97 1332.84,638.064 1332.97,638.4 1333.09,635.927 1333.22,634.628 1333.35,629.876 1333.47,636.32 \n",
       "  1333.6,631.382 1333.73,627.336 1333.85,625.447 1333.98,623.842 1334.1,625.774 1334.23,627.135 1334.36,626.814 1334.48,630.823 1334.61,631.202 1334.74,638.357 \n",
       "  1334.86,632.702 1334.99,632.821 1335.12,631.425 1335.24,637.193 1335.37,638.405 1335.49,648.566 1335.62,650.611 1335.75,643.66 1335.87,644.604 1336,645.926 \n",
       "  1336.13,639.341 1336.25,643.163 1336.38,639.566 1336.51,636.649 1336.63,633.963 1336.76,634.269 1336.88,632.883 1337.01,638.922 1337.14,640.492 1337.26,638.201 \n",
       "  1337.39,639.629 1337.52,642.524 1337.64,638.888 1337.77,645.176 1337.9,642.839 1338.02,645.316 1338.15,645.684 1338.27,652.252 1338.4,650.692 1338.53,649.159 \n",
       "  1338.65,644.947 1338.78,645.654 1338.91,643.936 1339.03,647.199 1339.16,645.828 1339.29,651.284 1339.41,651.906 1339.54,647.881 1339.66,645.974 1339.79,648.571 \n",
       "  1339.92,651.313 1340.04,656.079 1340.17,653.117 1340.3,660.911 1340.42,663.482 1340.55,659.235 1340.68,657.641 1340.8,661.396 1340.93,656.003 1341.05,660.017 \n",
       "  1341.18,663.587 1341.31,662.587 1341.43,665.994 1341.56,663.407 1341.69,657.733 1341.81,648.935 1341.94,648.694 1342.07,653.471 1342.19,660.698 1342.32,667.231 \n",
       "  1342.44,661.669 1342.57,660.689 1342.7,662.262 1342.82,664.957 1342.95,661.528 1343.08,665.152 1343.2,662.088 1343.33,661.956 1343.46,662.597 1343.58,663.225 \n",
       "  1343.71,665.488 1343.83,658.565 1343.96,656.689 1344.09,661.904 1344.21,661.669 1344.34,664.484 1344.47,664.181 1344.59,662.384 1344.72,664.489 1344.85,660.946 \n",
       "  1344.97,668.941 1345.1,664.487 1345.22,666.165 1345.35,666.918 1345.48,667.039 1345.6,670.958 1345.73,668.084 1345.86,667.02 1345.98,670.86 1346.11,666.754 \n",
       "  1346.24,669.723 1346.36,671.09 1346.49,673.491 1346.62,670.813 1346.74,673.429 1346.87,677.421 1346.99,684.802 1347.12,673.608 1347.25,664.22 1347.37,662.49 \n",
       "  1347.5,665.777 1347.63,673.866 1347.75,670.158 1347.88,672.669 1348.01,666.387 1348.13,672.217 1348.26,674.816 1348.38,670.765 1348.51,673.333 1348.64,668.717 \n",
       "  1348.76,675.36 1348.89,678.303 1349.02,681.329 1349.14,676.31 1349.27,675.041 1349.4,680.189 1349.52,678.472 1349.65,681.374 1349.77,679.591 1349.9,683.467 \n",
       "  1350.03,683.726 1350.15,683.365 1350.28,678.376 1350.41,680.773 1350.53,683.42 1350.66,685.423 1350.79,687.252 1350.91,683.488 1351.04,678.775 1351.16,681.596 \n",
       "  1351.29,681.068 1351.42,686.392 1351.54,682.681 1351.67,682.045 1351.8,679.952 1351.92,686.212 1352.05,687.242 1352.18,688.683 1352.3,686.383 1352.43,683.947 \n",
       "  1352.55,692.63 1352.68,686.814 1352.81,680.686 1352.93,671.549 1353.06,671.327 1353.19,676.738 1353.31,680.747 1353.44,681.234 1353.57,702.807 1353.69,705.448 \n",
       "  1353.82,699.589 1353.94,699.308 1354.07,697.048 1354.2,687.221 1354.32,694.301 1354.45,697.368 1354.58,697.718 1354.7,700.357 1354.83,695.246 1354.96,694.837 \n",
       "  1355.08,686.394 1355.21,678.496 1355.33,669.073 1355.46,667.91 1355.59,667.427 1355.71,663.7 1355.84,670.441 1355.97,667.387 1356.09,671.161 1356.22,667.731 \n",
       "  1356.35,670.607 1356.47,674.418 1356.6,677.852 1356.72,678.516 1356.85,670.658 1356.98,674.106 1357.1,676.811 1357.23,672.827 1357.36,672.942 1357.48,670.961 \n",
       "  1357.61,675.031 1357.74,676.437 1357.86,675.84 1357.99,672.492 1358.11,674.452 1358.24,673.344 1358.37,671.534 1358.49,672.148 1358.62,670.126 1358.75,666.155 \n",
       "  1358.87,663.571 1359,663.027 1359.13,667.366 1359.25,662.558 1359.38,654.82 1359.5,655.807 1359.63,660.024 1359.76,660.082 1359.88,653.693 1360.01,647.797 \n",
       "  1360.14,654.136 1360.26,654.133 1360.39,655.528 1360.52,659.304 1360.64,662.331 1360.77,661.792 1360.89,663.455 1361.02,664.944 1361.15,661.996 1361.27,662.069 \n",
       "  1361.4,665.241 1361.53,665.777 1361.65,665.426 1361.78,665.585 1361.91,664.811 1362.03,665.336 1362.16,661.481 1362.28,659.438 1362.41,658.183 1362.54,650.239 \n",
       "  1362.66,652.094 1362.79,650.173 1362.92,649.278 1363.04,647.579 1363.17,647.729 1363.3,646.876 1363.42,653.981 1363.55,653.798 1363.67,653.307 1363.8,652.263 \n",
       "  1363.93,652.339 1364.05,654.363 1364.18,654.852 1364.31,652.34 1364.43,650.431 1364.56,651.204 1364.69,651.209 1364.81,651.816 1364.94,652.237 1365.06,654.509 \n",
       "  1365.19,655.649 1365.32,652.616 1365.44,651.735 1365.57,648.956 1365.7,652.928 1365.82,656.546 1365.95,659.335 1366.08,660.085 1366.2,658.707 1366.33,654.68 \n",
       "  1366.45,653.162 1366.58,649.473 1366.71,651.606 1366.83,651.284 1366.96,649.677 1367.09,650.215 1367.21,655.074 1367.34,654.002 1367.47,653.223 1367.59,653.12 \n",
       "  1367.72,659.335 1367.84,657.404 1367.97,658.573 1368.1,655.612 1368.22,655.617 1368.35,657.852 1368.48,656.193 1368.6,660.735 1368.73,660.267 1368.86,663.936 \n",
       "  1368.98,663.445 1369.11,662.07 1369.23,673.138 1369.36,676.833 1369.49,675.437 1369.61,690.091 1369.74,705.599 1369.87,716.461 1369.99,723.74 1370.12,713.883 \n",
       "  1370.25,704.958 1370.37,706.797 1370.5,705.787 1370.62,706.533 1370.75,712.893 1370.88,723.74 1371,718.436 1371.13,714.884 1371.26,706.135 1371.38,714.685 \n",
       "  1371.51,716.995 1371.64,723.04 1371.76,760.052 1371.89,749.422 1372.01,761.189 1372.14,746.648 1372.27,750.57 1372.39,747.506 1372.52,744.327 1372.65,751.541 \n",
       "  1372.77,749.524 1372.9,752.377 1373.03,748.294 1373.15,755.016 1373.28,752.134 1373.4,758.94 1373.53,735.149 1373.66,745.093 1373.78,742.704 1373.91,745.579 \n",
       "  1374.04,734.87 1374.16,727.252 1374.29,732.76 1374.42,729.42 1374.54,730.961 1374.67,722.412 1374.79,719.156 1374.92,715.218 1375.05,712.442 1375.17,714.907 \n",
       "  1375.3,723.853 1375.43,711.556 1375.55,714.311 1375.68,704.139 1375.81,693.314 1375.93,687.328 1376.06,690.986 1376.18,696.977 1376.31,695.459 1376.44,700.617 \n",
       "  1376.56,700.199 1376.69,702.944 1376.82,700.775 1376.94,699.904 1377.07,695.641 1377.2,702.128 1377.32,698.531 1377.45,698.044 1377.57,700.023 1377.7,696.18 \n",
       "  1377.83,701.865 1377.95,713.265 1378.08,705.757 1378.21,708.436 1378.33,700.782 1378.46,700.432 1378.59,697.558 1378.71,698.672 1378.84,695.988 1378.96,696.755 \n",
       "  1379.09,701.746 1379.22,691.549 1379.34,693.578 1379.47,697.89 1379.6,700.361 1379.72,695.797 1379.85,699.587 1379.98,702.026 1380.1,700.669 1380.23,699.714 \n",
       "  1380.35,698.346 1380.48,693.987 1380.61,694.786 1380.73,692.023 1380.86,691.47 1380.99,691.342 1381.11,690.706 1381.24,692.301 1381.37,673.541 1381.49,681.754 \n",
       "  1381.62,676.323 1381.74,679.049 1381.87,675.848 1382,678.521 1382.12,682.301 1382.25,680.884 1382.38,675.276 1382.5,670.607 1382.63,671.022 1382.76,676.031 \n",
       "  1382.88,663.927 1383.01,663.885 1383.13,664.247 1383.26,683.038 1383.39,683.489 1383.51,704.234 1383.64,711.495 1383.77,705.837 1383.89,701.455 1384.02,698.804 \n",
       "  1384.15,667.139 1384.27,639.828 1384.4,647.703 1384.52,643.519 1384.65,643.235 1384.78,617.284 1384.9,616.756 1385.03,622.08 1385.16,628.851 1385.28,622.573 \n",
       "  1385.41,620.532 1385.54,622.33 1385.66,625.689 1385.79,617.038 1385.91,616.654 1386.04,615.3 1386.17,607.082 1386.29,598.85 1386.42,591.336 1386.55,597.8 \n",
       "  1386.67,595.894 1386.8,605.01 1386.93,602.329 1387.05,612.594 1387.18,609.177 1387.3,616.096 1387.43,609.428 1387.56,604.691 1387.68,606.385 1387.81,604.247 \n",
       "  1387.94,602.384 1388.06,582.054 1388.19,583.625 1388.32,587.901 1388.44,593.387 1388.57,599.351 1388.69,596.541 1388.82,589.066 1388.95,592.461 1389.07,594.938 \n",
       "  1389.2,593.516 1389.33,597.395 1389.45,595.699 1389.58,597.24 1389.71,591.096 1389.83,588.492 1389.96,591.394 1390.08,591.874 1390.21,591.788 1390.34,596.057 \n",
       "  1390.46,578.708 1390.59,587.953 1390.72,592.072 1390.84,595.416 1390.97,598.153 1391.1,593.323 1391.22,596.48 1391.35,599.518 1391.47,602.594 1391.6,602.854 \n",
       "  1391.73,601.27 1391.85,603.555 1391.98,607.446 1392.11,613.038 1392.23,607.316 1392.36,612.744 1392.49,613.621 1392.61,610.728 1392.74,607.358 1392.86,608.445 \n",
       "  1392.99,607.85 1393.12,612.254 1393.24,611.122 1393.37,611.058 1393.5,611.037 1393.62,608.949 1393.75,594.933 1393.88,599.404 1394,599.723 1394.13,601.714 \n",
       "  1394.25,597.485 1394.38,596.206 1394.51,598.634 1394.63,595.095 1394.76,590.924 1394.89,587.045 1395.01,585.485 1395.14,585.915 1395.27,590.61 1395.39,588.476 \n",
       "  1395.52,590.04 1395.64,588.584 1395.77,582.863 1395.9,580.988 1396.02,585.554 1396.15,577.444 1396.28,533.575 1396.4,528.977 1396.53,519.579 1396.66,523.461 \n",
       "  1396.78,525.654 1396.91,528.671 1397.03,528.967 1397.16,531.843 1397.29,531.289 1397.41,537.113 1397.54,536.923 1397.67,533.509 1397.79,531.69 1397.92,533.897 \n",
       "  1398.05,528.805 1398.17,534.805 1398.3,540.706 1398.42,538.94 1398.55,543.059 1398.68,543.429 1398.8,547.54 1398.93,548.852 1399.06,547.102 1399.18,545.567 \n",
       "  1399.31,548.24 1399.44,545.171 1399.56,545.807 1399.69,541.8 1399.81,535.44 1399.94,542.26 1400.07,545.471 1400.19,545.752 1400.32,546.303 1400.45,544.274 \n",
       "  1400.57,545.11 1400.7,549.85 1400.83,552.407 1400.95,549.749 1401.08,549.464 1401.2,543.907 1401.33,546.894 1401.46,547.435 1401.58,545.611 1401.71,549.045 \n",
       "  1401.84,547.965 1401.96,544.844 1402.09,552.887 1402.22,552.077 1402.34,549.742 1402.47,543.205 1402.59,538.436 1402.72,536.462 1402.85,531.054 1402.97,536.527 \n",
       "  1403.1,535.261 1403.23,532.055 1403.35,527.504 1403.48,529.516 1403.61,537.758 1403.73,534.055 1403.86,534.678 1403.98,532.74 1404.11,536.073 1404.24,536.968 \n",
       "  1404.36,534.95 1404.49,534.844 1404.62,539.99 1404.74,545.01 1404.87,546.96 1405,541.903 1405.12,539.913 1405.25,541.639 1405.37,541.313 1405.5,539.964 \n",
       "  1405.63,535.361 1405.75,532.878 1405.88,529.724 1406.01,532.231 1406.13,532.184 1406.26,537.77 1406.39,538.644 1406.51,538.51 1406.64,535.359 1406.76,539.394 \n",
       "  1406.89,535.016 1407.02,533.896 1407.14,528.116 1407.27,532.799 1407.4,532.377 1407.52,529.978 1407.65,530.695 1407.78,532.139 1407.9,535.195 1408.03,536.148 \n",
       "  1408.15,533.641 1408.28,531.692 1408.41,536.214 1408.53,533.31 1408.66,536.789 1408.79,557.392 1408.91,561.234 1409.04,560.802 1409.17,554.519 1409.29,554.899 \n",
       "  1409.42,552.364 1409.54,549.852 1409.67,550.94 1409.8,550.929 1409.92,559.611 1410.05,572.309 1410.18,572.029 1410.3,568.936 1410.43,566.112 1410.56,572.235 \n",
       "  1410.68,586.831 1410.81,593.923 1410.93,589.444 1411.06,592.146 1411.19,588.492 1411.31,584.581 1411.44,584.984 1411.57,582.751 1411.69,578.386 1411.82,584.44 \n",
       "  1411.95,576.789 1412.07,575.869 1412.2,577.933 1412.32,578.165 1412.45,574.662 1412.58,571.588 1412.7,573.39 1412.83,582.013 1412.96,576.658 1413.08,579.97 \n",
       "  1413.21,572.684 1413.34,568.601 1413.46,566.487 1413.59,559.216 1413.71,564.341 1413.84,562.889 1413.97,568.075 1414.09,565.468 1414.22,565.84 1414.35,562.729 \n",
       "  1414.47,566.756 1414.6,569.519 1414.73,568.514 1414.85,573.533 1414.98,566.457 1415.1,574.583 1415.23,578.83 1415.36,575.087 1415.48,574.407 1415.61,571.512 \n",
       "  1415.74,575.439 1415.86,577.626 1415.99,583.02 1416.12,597.671 1416.24,592.682 1416.37,596.874 1416.49,600.056 1416.62,597.056 1416.75,594.933 1416.87,595.652 \n",
       "  1417,607.049 1417.13,597.369 1417.25,598.985 1417.38,594.189 1417.51,587.476 1417.63,589.223 1417.76,586.192 1417.88,589.822 1418.01,590.262 1418.14,592.117 \n",
       "  1418.26,591.769 1418.39,595.356 1418.52,595.467 1418.64,598.373 1418.77,593.458 1418.9,593.183 1419.02,596.839 1419.15,598.151 1419.27,597.225 1419.4,593.033 \n",
       "  1419.53,597.134 1419.65,597.615 1419.78,598.095 1419.91,602.875 1420.03,603.769 1420.16,602.17 1420.29,598.96 1420.41,603.321 1420.54,602.133 1420.66,602.982 \n",
       "  1420.79,600.729 1420.92,592.609 1421.04,591.721 1421.17,595.258 1421.3,596.343 1421.42,600.423 1421.55,602.094 1421.68,606.508 1421.8,607.023 1421.93,608.098 \n",
       "  1422.05,606.635 1422.18,604.777 1422.31,601.993 1422.43,603.424 1422.56,600.381 1422.69,596.161 1422.81,596.857 1422.94,600 1423.07,600.225 1423.19,594.933 \n",
       "  1423.32,602.701 1423.44,600.236 1423.57,608.253 1423.7,604.772 1423.82,603.463 1423.95,609.721 1424.08,606.422 1424.2,608 1424.33,605.398 1424.46,601.009 \n",
       "  1424.58,606.168 1424.71,618.442 1424.83,622.472 1424.96,615.06 1425.09,612.264 1425.21,618.564 1425.34,615.869 1425.47,614.085 1425.59,614.806 1425.72,608.412 \n",
       "  1425.85,596.858 1425.97,587.497 1426.1,592.379 1426.22,593.055 1426.35,594.087 1426.48,590.101 1426.6,579.965 1426.73,584.68 1426.86,589.201 1426.98,587.475 \n",
       "  1427.11,584.432 1427.24,581.484 1427.36,581.856 1427.49,586.881 1427.61,583.261 1427.74,589.347 1427.87,589.399 1427.99,591.713 1428.12,596.736 1428.25,596.651 \n",
       "  1428.37,591.273 1428.5,588.262 1428.63,596.87 1428.75,603.415 1428.88,610.554 1429,603.56 1429.13,614.094 1429.26,615.252 1429.38,611.301 1429.51,608.408 \n",
       "  1429.64,612.644 1429.76,607 1429.89,602.122 1430.02,604.964 1430.14,598.926 1430.27,605.962 1430.39,607.838 1430.52,605.751 1430.65,604.128 1430.77,600.724 \n",
       "  1430.9,604.621 1431.03,602.738 1431.15,600.022 1431.28,603.307 1431.41,603.775 1431.53,609.037 1431.66,611.034 1431.78,615.284 1431.91,616.936 1432.04,620.213 \n",
       "  1432.16,624.813 1432.29,627.009 1432.42,619.372 1432.54,612.811 1432.67,614.408 1432.8,619.536 1432.92,618.329 1433.05,627.838 1433.17,618.237 1433.3,614.156 \n",
       "  1433.43,620.359 1433.55,618.005 1433.68,623.567 1433.81,628.163 1433.93,628.596 1434.06,623.145 1434.19,633.644 1434.31,626.552 1434.44,623.942 1434.56,621.396 \n",
       "  1434.69,623.642 1434.82,631.295 1434.94,629.018 1435.07,626.727 1435.2,621.501 1435.32,626.202 1435.45,628.477 1435.58,627.618 1435.7,636.528 1435.83,631.937 \n",
       "  1435.95,649.676 1436.08,650.312 1436.21,646.098 1436.33,648.964 1436.46,642.34 1436.59,644.342 1436.71,642.448 1436.84,640.877 1436.97,645.266 1437.09,648.705 \n",
       "  1437.22,645.093 1437.34,643.309 1437.47,646.686 1437.6,644.768 1437.72,641.931 1437.85,646.992 1437.98,651.696 1438.1,654.92 1438.23,656.016 1438.36,649.23 \n",
       "  1438.48,649.164 1438.61,643.706 1438.73,628.778 1438.86,631.134 1438.99,625.301 1439.11,624.402 1439.24,625.268 1439.37,625.523 1439.49,626.117 1439.62,633.49 \n",
       "  1439.75,622.117 1439.87,622.667 1440,622.549 1440.12,624.457 1440.25,621.597 1440.38,625.32 1440.5,623.204 1440.63,622.121 1440.76,620.763 1440.88,616.757 \n",
       "  1441.01,612.9 1441.14,615.635 1441.26,618.999 1441.39,623.161 1441.51,623.426 1441.64,623.404 1441.77,623.019 1441.89,626.998 1442.02,624.41 1442.15,623.203 \n",
       "  1442.27,627.135 1442.4,633.027 1442.53,632.978 1442.65,631.203 1442.78,624.23 1442.9,628.146 1443.03,626.307 1443.16,621.002 1443.28,617.893 1443.41,620.696 \n",
       "  1443.54,615.489 1443.66,611.644 1443.79,613.903 1443.92,624.761 1444.04,633.349 1444.17,634.552 1444.29,642.847 1444.42,634.679 1444.55,632.598 1444.67,638.272 \n",
       "  1444.8,630.992 1444.93,633.924 1445.05,634.063 1445.18,642.991 1445.31,645.227 1445.43,637.352 1445.56,640.225 1445.68,638.16 1445.81,636.795 1445.94,651.209 \n",
       "  1446.06,646.018 1446.19,653.453 1446.32,656.846 1446.44,652.427 1446.57,655.316 1446.7,651.287 1446.82,647.934 1446.95,647.526 1447.07,646.456 1447.2,649.611 \n",
       "  1447.33,635.319 1447.45,634.976 1447.58,632.021 1447.71,632.118 1447.83,634.607 1447.96,627.779 1448.09,628.265 1448.21,622.71 1448.34,626.746 1448.46,632.976 \n",
       "  1448.59,630.987 1448.72,629.648 1448.84,626.363 1448.97,630.339 1449.1,636.232 1449.22,628.057 1449.35,630.896 1449.48,633.087 1449.6,637.41 1449.73,637.281 \n",
       "  1449.85,630.772 1449.98,625.787 1450.11,623.272 1450.23,626.271 1450.36,623.913 1450.49,627.133 1450.61,624.618 1450.74,629.419 1450.87,624.525 1450.99,626.61 \n",
       "  1451.12,622.646 1451.24,624.491 1451.37,627.656 1451.5,633.084 1451.62,638.355 1451.75,634.256 1451.88,636.504 1452,635.988 1452.13,627.55 1452.26,624.639 \n",
       "  1452.38,621.944 1452.51,619.854 1452.63,613.925 1452.76,609.617 1452.89,607.45 1453.01,611.797 1453.14,615.632 1453.27,621.522 1453.39,620.75 1453.52,614.888 \n",
       "  1453.65,611.272 1453.77,612.51 1453.9,612.948 1454.02,609.646 1454.15,612.801 1454.28,601.204 1454.4,596.195 1454.53,594.822 1454.66,595.995 1454.78,595.128 \n",
       "  1454.91,602.983 1455.04,603.308 1455.16,602.354 1455.29,604.579 1455.41,601.805 1455.54,597.828 1455.67,588.774 1455.79,593.323 1455.92,594.007 1456.05,601.47 \n",
       "  1456.17,601.011 1456.3,602.292 1456.43,604.361 1456.55,604.687 1456.68,603.114 1456.81,603.558 1456.93,599.763 1457.06,599.74 1457.18,599.455 1457.31,599.763 \n",
       "  1457.44,603.16 1457.56,600.676 1457.69,598.005 1457.82,597.417 1457.94,602.239 1458.07,602.482 1458.2,595.733 1458.32,598.454 1458.45,595.326 1458.57,599.814 \n",
       "  1458.7,591.421 1458.83,589.518 1458.95,583.308 1459.08,578.706 1459.21,581.108 1459.33,576.814 1459.46,579.801 1459.59,579.653 1459.71,578.907 1459.84,580.228 \n",
       "  1459.96,576.478 1460.09,570.363 1460.22,574.222 1460.34,575.309 1460.47,578.621 1460.6,572.894 1460.72,569.86 1460.85,564.661 1460.98,557.419 1461.1,564.423 \n",
       "  1461.23,567.882 1461.35,569.197 1461.48,563.368 1461.61,563.501 1461.73,560.118 1461.86,553.966 1461.99,550.108 1462.11,550.655 1462.24,556.775 1462.37,553.078 \n",
       "  1462.49,562.894 1462.62,560.058 1462.74,560.828 1462.87,560.1 1463,560.317 1463.12,561.868 1463.25,557.302 1463.38,558.931 1463.5,556.935 1463.63,558.704 \n",
       "  1463.76,556.118 1463.88,563.125 1464.01,563.782 1464.13,565.256 1464.26,564.351 1464.39,557.962 1464.51,555.645 1464.64,556.226 1464.77,562.024 1464.89,561.229 \n",
       "  1465.02,557.674 1465.15,555.378 1465.27,554.402 1465.4,551.402 1465.52,552.008 1465.65,552.24 1465.78,551.975 1465.9,559.34 1466.03,563.449 1466.16,563.963 \n",
       "  1466.28,564.269 1466.41,571.786 1466.54,566.595 1466.66,562.963 1466.79,560.306 1466.91,557.298 1467.04,556.291 1467.17,558.627 1467.29,565.4 1467.42,564.442 \n",
       "  1467.55,559.825 1467.67,559.746 1467.8,558.094 1467.93,558.957 1468.05,563.666 1468.18,558.163 1468.3,555.334 1468.43,554.962 1468.56,555.212 1468.68,558.933 \n",
       "  1468.81,557.224 1468.94,554.792 1469.06,553.879 1469.19,557.899 1469.32,555.838 1469.44,553.518 1469.57,557.889 1469.69,554.568 1469.82,556.117 1469.95,561.214 \n",
       "  1470.07,563.148 1470.2,568.567 1470.33,568.947 1470.45,575.148 1470.58,579.188 1470.71,573.124 1470.83,570.504 1470.96,577.09 1471.08,574.39 1471.21,580.394 \n",
       "  1471.34,579.991 1471.46,578.368 1471.59,577.299 1471.72,576.715 1471.84,574.438 1471.97,576.636 1472.1,577.062 1472.22,586.505 1472.35,584.997 1472.47,586.881 \n",
       "  1472.6,585.803 1472.73,584.628 1472.85,583.889 1472.98,587.708 1473.11,589.561 1473.23,594.934 1473.36,586.407 1473.49,586.813 1473.61,583.685 1473.74,582.62 \n",
       "  1473.86,577.518 1473.99,586.844 1474.12,590.877 1474.24,576.649 1474.37,580.031 1474.5,590.806 1474.62,590.814 1474.75,602.338 1474.88,598.312 1475,595.379 \n",
       "  1475.13,593.822 1475.25,593.369 1475.38,593.334 1475.51,592.514 1475.63,593.216 1475.76,592.506 1475.89,586.955 1476.01,590.104 1476.14,584.514 1476.27,587.245 \n",
       "  1476.39,583.886 1476.52,583.863 1476.64,585.642 1476.77,580.825 1476.9,583.664 1477.02,584.403 1477.15,585.75 1477.28,584.91 1477.4,590.769 1477.53,588.269 \n",
       "  1477.66,577.078 1477.78,543.35 1477.91,533.749 1478.03,538.148 1478.16,529.619 1478.29,532.199 1478.41,528.27 1478.54,535.371 1478.67,539.763 1478.79,540.925 \n",
       "  1478.92,545.657 1479.05,545.508 1479.17,543.714 1479.3,547.301 1479.42,553.864 1479.55,538.581 1479.68,542.603 1479.8,540.23 1479.93,536.921 1480.06,535.345 \n",
       "  1480.18,540.526 1480.31,547.058 1480.44,543.708 1480.56,547.709 1480.69,547.926 1480.81,550.808 1480.94,546.731 1481.07,543.804 1481.19,544.703 1481.32,544.809 \n",
       "  1481.45,530.953 1481.57,531.072 1481.7,532.526 1481.83,541.732 1481.95,548.401 1482.08,550.235 1482.2,547.071 1482.33,543.125 1482.46,540.605 1482.58,544.878 \n",
       "  1482.71,543.215 1482.84,550.129 1482.96,537.504 1483.09,541.806 1483.22,545.432 1483.34,542.611 1483.47,544.606 1483.59,541.974 1483.72,543.605 1483.85,545.121 \n",
       "  1483.97,549.367 1484.1,549.279 1484.23,548.891 1484.35,556.542 1484.48,560.124 1484.61,559.812 1484.73,561.886 1484.86,566.785 1484.98,561.691 1485.11,558.706 \n",
       "  1485.24,564.653 1485.36,564.967 1485.49,568.775 1485.62,566.54 1485.74,565.518 1485.87,566.709 1486,563.141 1486.12,565.086 1486.25,561.275 1486.37,564.502 \n",
       "  1486.5,560.549 1486.63,555.716 1486.75,572.689 1486.88,567.56 1487.01,568.585 1487.13,570.661 1487.26,572.676 1487.39,570.781 1487.51,569.45 1487.64,570.487 \n",
       "  1487.76,568.809 1487.89,572.393 1488.02,581.186 1488.14,588.08 1488.27,583.152 1488.4,588.301 1488.52,588.491 1488.65,597.322 1488.78,592.128 1488.9,592.439 \n",
       "  1489.03,604.374 1489.15,605.992 1489.28,634.678 1489.41,630.657 1489.53,630.783 1489.66,627.584 1489.79,627.648 1489.91,624.119 1490.04,627.925 1490.17,620.998 \n",
       "  1490.29,634.27 1490.42,626.64 1490.54,620.238 1490.67,627.687 1490.8,623.167 1490.92,627.756 1491.05,627.133 1491.18,627.466 1491.3,632.52 1491.43,638.249 \n",
       "  1491.56,636.818 1491.68,641.625 1491.81,634.741 1491.93,633.865 1492.06,637.656 1492.19,629.55 1492.31,628.287 1492.44,630.168 1492.57,629.719 1492.69,631.638 \n",
       "  1492.82,641.395 1492.95,645.855 1493.07,640.915 1493.2,635.819 1493.32,636.726 1493.45,643.235 1493.58,647.269 1493.7,642.543 1493.83,646.15 1493.96,643.849 \n",
       "  1494.08,653.207 1494.21,646.583 1494.34,640.944 1494.46,641.252 1494.59,645.473 1494.71,649.558 1494.84,650.808 1494.97,656.116 1495.09,651.973 1495.22,650.988 \n",
       "  1495.35,648.166 1495.47,656.255 1495.6,645.461 1495.73,636.312 1495.85,624.138 1495.98,626.569 1496.1,625.811 1496.23,632.197 1496.36,635.872 1496.48,634.386 \n",
       "  1496.61,640.236 1496.74,645.918 1496.86,643.301 1496.99,645.253 1497.12,640.007 1497.24,642.73 1497.37,646.456 1497.49,642.548 1497.62,638.433 1497.75,635.982 \n",
       "  1497.87,640.51 1498,639.981 1498.13,637.466 1498.25,624.602 1498.38,630.938 1498.51,626.49 1498.63,632.408 1498.76,633.897 1498.88,635.464 1499.01,629.988 \n",
       "  1499.14,638.355 1499.26,639.334 1499.39,635.274 1499.52,630.566 1499.64,622.945 1499.77,628.138 1499.9,628.178 1500.02,632.635 1500.15,632.628 1500.27,631.359 \n",
       "  1500.4,641.456 1500.53,634.776 1500.65,639.088 1500.78,635.188 1500.91,631.968 1501.03,637.449 1501.16,634.667 1501.29,632.171 1501.41,630.025 1501.54,626.774 \n",
       "  1501.66,627.618 1501.79,632.382 1501.92,633.765 1502.04,635.185 1502.17,634.757 1502.3,639.299 1502.42,629.432 1502.55,632.934 1502.68,632.796 1502.8,631.128 \n",
       "  1502.93,632.047 1503.05,636.338 1503.18,637.879 1503.31,645.741 1503.43,650.779 1503.56,649.595 1503.69,648.214 1503.81,646.121 1503.94,638.405 1504.07,637.518 \n",
       "  1504.19,631.64 1504.32,644.577 1504.44,650.933 1504.57,649.141 1504.7,644.965 1504.82,642.242 1504.95,649.645 1505.08,643.045 1505.2,635.898 1505.33,631.712 \n",
       "  1505.46,633.604 1505.58,638.631 1505.71,645.982 1505.83,651.294 1505.96,652.028 1506.09,648.001 1506.21,645.989 1506.34,647.824 1506.47,647.096 1506.59,657.293 \n",
       "  1506.72,661.597 1506.85,659.993 1506.97,658.46 1507.1,656.338 1507.22,660.708 1507.35,682.573 1507.48,677.36 1507.6,674.069 1507.73,670.687 1507.86,675.948 \n",
       "  1507.98,678.699 1508.11,674.729 1508.24,670.737 1508.36,667.551 1508.49,667.549 1508.61,660.769 1508.74,662.024 1508.87,675.843 1508.99,670.749 1509.12,674.003 \n",
       "  1509.25,675.69 1509.37,681.573 1509.5,680.67 1509.63,673.152 1509.75,673.161 1509.88,680.131 1510,674.033 1510.13,670.064 1510.26,675.669 1510.38,675.553 \n",
       "  1510.51,677.87 1510.64,680.657 1510.76,676.672 1510.89,673.067 1511.02,673.582 1511.14,677.612 1511.27,676.484 1511.39,678.009 1511.52,676.65 1511.65,676.508 \n",
       "  1511.77,685.23 1511.9,688.904 1512.03,690.013 1512.15,693.253 1512.28,695.544 1512.41,696.508 1512.53,698.136 1512.66,703.329 1512.78,703.957 1512.91,703.727 \n",
       "  1513.04,695.694 1513.16,689.088 1513.29,689.051 1513.42,693.285 1513.54,694.137 1513.67,704.39 1513.8,698.402 1513.92,700.841 1514.05,698.6 1514.17,694.786 \n",
       "  1514.3,694 1514.43,689.614 1514.55,685.046 1514.68,681.923 1514.81,684.678 1514.93,676.033 1515.06,666.775 1515.19,672.024 1515.31,662.173 1515.44,665.777 \n",
       "  1515.56,668.074 1515.69,674.759 1515.82,678.401 1515.94,680.744 1516.07,679.978 1516.2,685.025 1516.32,690.435 1516.45,685.785 1516.58,680.907 1516.7,695.03 \n",
       "  1516.83,697.465 1516.95,697.019 1517.08,693.849 1517.21,696.777 1517.33,696.98 1517.46,694.858 1517.59,702.004 1517.71,697.264 1517.84,693.105 1517.97,697.296 \n",
       "  1518.09,699.049 1518.22,686.172 1518.34,684.8 1518.47,687.494 1518.6,681.238 1518.72,680.807 1518.85,676.513 1518.98,682.811 1519.1,685.816 1519.23,687.494 \n",
       "  1519.36,693.089 1519.48,690.862 1519.61,686.188 1519.73,680.91 1519.86,680.015 1519.99,687.352 1520.11,691.54 1520.24,685.143 1520.37,693.148 1520.49,696.141 \n",
       "  1520.62,699.882 1520.75,705.036 1520.87,708.605 1521,711.843 1521.12,712.63 1521.25,711.909 1521.38,715.912 1521.5,727.652 1521.63,726.711 1521.76,720.269 \n",
       "  1521.88,727.442 1522.01,726.005 1522.14,714.884 1522.26,706.778 1522.39,707.797 1522.51,712.113 1522.64,697.98 1522.77,698.945 1522.89,705.205 1523.02,700.163 \n",
       "  1523.15,696.307 1523.27,695.951 1523.4,697.296 1523.53,700.756 1523.65,700.453 1523.78,702.192 1523.9,697.487 1524.03,694.898 1524.16,695.104 1524.28,699.023 \n",
       "  1524.41,709.167 1524.54,710.017 1524.66,702.81 1524.79,708.687 1524.92,716.208 1525.04,719.177 1525.17,710.292 1525.29,712.514 1525.42,718.589 1525.55,713.954 \n",
       "  1525.67,716.498 1525.8,726.69 1525.93,725.321 1526.05,722.077 1526.18,727.079 1526.31,730.818 1526.43,729.29 1526.56,724.896 1526.68,714.97 1526.81,725.849 \n",
       "  1526.94,739.462 1527.06,725.352 1527.19,715.689 1527.32,723.82 1527.44,724.683 1527.57,720.52 1527.7,710.291 1527.82,717.966 1527.95,712.806 1528.07,711.742 \n",
       "  1528.2,722.846 1528.33,732.066 1528.45,738.107 1528.58,735.772 1528.71,732.373 1528.83,748.194 1528.96,738.548 1529.09,725.717 1529.21,732.148 1529.34,743.802 \n",
       "  1529.46,744.119 1529.59,735.075 1529.72,742.25 1529.84,745.644 1529.97,741.765 1530.1,745.17 1530.22,746.318 1530.35,739.841 1530.48,735.78 1530.6,727.709 \n",
       "  1530.73,734.975 1530.85,739.841 1530.98,723.854 1531.11,705.084 1531.23,709.032 1531.36,714.189 1531.49,718.881 1531.61,715.831 1531.74,709.248 1531.87,710.716 \n",
       "  1531.99,714.881 1532.12,713.616 1532.24,716.565 1532.37,717.251 1532.5,714.079 1532.62,716.741 1532.75,717.7 1532.88,722.795 1533,716.029 1533.13,708.927 \n",
       "  1533.26,700.495 1533.38,701.199 1533.51,706.029 1533.63,698.035 1533.76,697.259 1533.89,705.292 1534.01,704.493 1534.14,698.635 1534.27,697.99 1534.39,702.091 \n",
       "  1534.52,705.15 1534.65,689.191 1534.77,704.522 1534.9,701.488 1535.02,709.495 1535.15,708.248 1535.28,708.349 1535.4,708.65 1535.53,706.795 1535.66,715.242 \n",
       "  1535.78,718.829 1535.91,715.569 1536.04,715.348 1536.16,707.618 1536.29,706.351 1536.41,709.766 1536.54,714.883 1536.67,710.396 1536.79,716.243 1536.92,719.211 \n",
       "  1537.05,719.235 1537.17,725.939 1537.3,728.767 1537.43,730.298 1537.55,728.564 1537.68,723.991 1537.8,724.983 1537.93,726.017 1538.06,724.656 1538.18,726.723 \n",
       "  1538.31,738.234 1538.44,738.872 1538.56,742.771 1538.69,735.791 1538.82,738.519 1538.94,731.753 1539.07,732.75 1539.19,720.227 1539.32,727.796 1539.45,733.932 \n",
       "  1539.57,743.061 1539.7,738.187 1539.83,742.43 1539.95,744.214 1540.08,738.83 1540.21,744.513 1540.33,747.933 1540.46,763.247 1540.58,853.731 1540.71,858.971 \n",
       "  1540.84,951.614 1540.96,905.36 1541.09,899.256 1541.22,908.366 1541.34,895.076 1541.47,882.038 1541.6,867.524 1541.72,864.117 1541.85,890.653 1541.97,894.34 \n",
       "  1542.1,892.743 1542.23,887.969 1542.35,880.326 1542.48,872.282 1542.61,866.843 1542.73,875.414 1542.86,878.792 1542.99,891.886 1543.11,893.081 1543.24,903.972 \n",
       "  1543.36,890.445 1543.49,896.192 1543.62,908.809 1543.74,935.232 1543.87,930.699 1544,1029.66 1544.12,999.888 1544.25,989.424 1544.38,970.097 1544.5,951.61 \n",
       "  1544.63,935.319 1544.75,956.483 1544.88,940.035 1545.01,968.706 1545.13,960.8 1545.26,976.914 1545.39,993.886 1545.51,980.538 1545.64,977.456 1545.77,969.955 \n",
       "  1545.89,944.807 1546.02,953.15 1546.14,949.077 1546.27,928.456 1546.4,933.689 1546.52,938.31 1546.65,943.615 1546.78,948.634 1546.9,941.844 1547.03,942.709 \n",
       "  1547.16,944.053 1547.28,964.627 1547.41,950.998 1547.53,963.804 1547.66,971.446 1547.79,964.712 1547.91,957.201 1548.04,953.633 1548.17,952.105 1548.29,949.386 \n",
       "  1548.42,937.848 1548.55,941.321 1548.67,943.237 1548.8,942.524 1548.92,946.134 1549.05,943.727 1549.18,941.928 1549.3,946.897 1549.43,950.898 1549.56,947.003 \n",
       "  1549.68,948.009 1549.81,951.742 1549.94,967.603 1550.06,965.334 1550.19,957.799 1550.31,950.26 1550.44,949.286 1550.57,953.252 1550.69,953.16 1550.82,941.043 \n",
       "  1550.95,939.659 1551.07,920.412 1551.2,928.922 1551.33,922.676 1551.45,926.175 1551.58,933.792 1551.7,940.706 1551.83,950.911 1551.96,941.386 1552.08,948.038 \n",
       "  1552.21,942.835 1552.34,940.199 1552.46,932.569 1552.59,933.783 1552.72,936.459 1552.84,938.626 1552.97,943.512 1553.09,944.9 1553.22,946.493 1553.35,941.02 \n",
       "  1553.47,939.466 1553.6,949.154 1553.73,957.399 1553.85,949.46 1553.98,949.616 1554.11,958.749 1554.23,963.043 1554.36,967.567 1554.48,975.545 1554.61,962.035 \n",
       "  1554.74,963.959 1554.86,964.762 1554.99,968.694 1555.12,969.353 1555.24,967.849 1555.37,950.806 1555.5,950.283 1555.62,952.598 1555.75,948.151 1555.87,946.955 \n",
       "  1556,945.263 1556.13,949.835 1556.25,952.902 1556.38,952.677 1556.51,954.717 1556.63,947.803 1556.76,940.418 1556.89,938.336 1557.01,943.482 1557.14,941.437 \n",
       "  1557.26,949.154 1557.39,946.884 1557.52,948.264 1557.64,948.689 1557.77,950.949 1557.9,955.976 1558.02,952.051 1558.15,941.493 1558.28,946.166 1558.4,938.259 \n",
       "  1558.53,942.559 1558.65,946.366 1558.78,950.212 1558.91,954.922 1559.03,960.425 1559.16,957.626 1559.29,960.742 1559.41,963.432 1559.54,967.706 1559.67,972.673 \n",
       "  1559.79,969.235 1559.92,969.589 1560.04,970.889 1560.17,978.189 1560.3,995.563 1560.42,1021.92 1560.55,1008.68 1560.68,999.094 1560.8,999.437 1560.93,990.635 \n",
       "  1561.06,987.164 1561.18,976.914 1561.31,979.955 1561.43,977.221 1561.56,985.384 1561.69,990.698 1561.81,1000.36 1561.94,1008.37 1562.07,1013.56 1562.19,1017.6 \n",
       "  1562.32,1024.22 1562.45,994.691 1562.57,1008 1562.7,1014.85 1562.82,1018.73 1562.95,1018.86 1563.08,1006.94 1563.2,1012.15 1563.33,1008.95 1563.46,1017.56 \n",
       "  1563.58,1036.99 1563.71,1071.19 1563.84,1045.37 1563.96,1048.04 1564.09,1056.08 1564.21,1047.38 1564.34,1042.93 1564.47,1027.69 1564.59,1041.73 1564.72,1037.26 \n",
       "  1564.85,997.615 1564.97,995.588 1565.1,1014.04 1565.23,1022.63 1565.35,1008.48 1565.48,997.457 1565.61,1001.25 1565.73,989.402 1565.86,986.305 1565.98,988.894 \n",
       "  1566.11,975.165 1566.24,971.937 1566.36,964.355 1566.49,966.741 1566.62,976.104 1566.74,968.915 1566.87,964.442 1567,969.731 1567.12,966.955 1567.25,975.249 \n",
       "  1567.37,978.717 1567.5,981.026 1567.63,975.539 1567.75,969.599 1567.88,976.173 1568.01,992.792 1568.13,1009.23 1568.26,1015.37 1568.39,1029.66 1568.51,1029.66 \n",
       "  1568.64,1029.54 1568.76,1046.72 1568.89,1050.8 1569.02,1048.05 1569.14,1055.41 1569.27,1067.13 1569.4,1058.04 1569.52,1049.03 1569.65,1058.46 1569.78,1054.62 \n",
       "  1569.9,1043.11 1570.03,1040.16 1570.15,1046.12 1570.28,1052.73 1570.41,1054.52 1570.53,1046.22 1570.66,1042.19 1570.79,1032.84 1570.91,1031.38 1571.04,1026.3 \n",
       "  1571.17,1019.26 1571.29,1024.15 1571.42,1040.21 1571.54,1032.14 1571.67,1030.66 1571.8,1036.22 1571.92,1029.66 1572.05,1029.66 1572.18,1028.01 1572.3,1018.33 \n",
       "  1572.43,1030.84 1572.56,1021.89 1572.68,1010.39 1572.81,1012.97 1572.93,1003.86 1573.06,1004.64 1573.19,999.112 1573.31,991.015 1573.44,996.71 1573.57,1002.92 \n",
       "  1573.69,1003.46 1573.82,1007.46 1573.95,1008.2 1574.07,1015.66 1574.2,1012.37 1574.32,1006.21 1574.45,1005.31 1574.58,1002.01 1574.7,1007.41 1574.83,981.119 \n",
       "  1574.96,993.209 1575.08,998.607 1575.21,1000.31 1575.34,999.122 1575.46,1001.83 1575.59,1002.28 1575.71,1008.47 1575.84,1022.57 1575.97,1016.48 1576.09,1009.99 \n",
       "  1576.22,1019.77 1576.35,1017.2 1576.47,1022.41 1576.6,1023.55 1576.73,1024.56 1576.85,1028.63 1576.98,1033.23 1577.1,1029.66 1577.23,1019.94 1577.36,1015.6 \n",
       "  1577.48,1017.3 1577.61,1020.14 1577.74,1015.02 1577.86,1007.53 1577.99,1019.26 1578.12,1025.95 1578.24,1034.35 1578.37,1030.49 1578.49,1018.12 1578.62,1013.71 \n",
       "  1578.75,1007.08 1578.87,1003.68 1579,1007.63 1579.13,1003.38 1579.25,998.283 1579.38,1009.41 1579.51,1015.42 1579.63,1009.88 1579.76,1001 1579.88,1001.31 \n",
       "  1580.01,1006.7 1580.14,1009.93 1580.26,1013.56 1580.39,1008.09 1580.52,1010.31 1580.64,1012.92 1580.77,1014.95 1580.9,1017.29 1581.02,1003.77 1581.15,1010.33 \n",
       "  1581.27,1011.58 1581.4,1006.6 1581.53,995.058 1581.65,1003.89 1581.78,1001.51 1581.91,1002.85 1582.03,1011.95 1582.16,1020.37 1582.29,1022.51 1582.41,1026.1 \n",
       "  1582.54,1023.71 1582.66,1033.39 1582.79,1028.87 1582.92,1027.43 1583.04,1024.82 1583.17,1020.94 1583.3,1015.82 1583.42,1029.34 1583.55,1029.39 1583.68,1031.65 \n",
       "  1583.8,1048.82 1583.93,1046.78 1584.05,1042.27 1584.18,1045.21 1584.31,1048.63 1584.43,1056.46 1584.56,1055.59 1584.69,1052.84 1584.81,1054.73 1584.94,1059.07 \n",
       "  1585.07,1064.99 1585.19,1118.74 1585.32,1118.59 1585.44,1109.5 1585.57,1111.74 1585.7,1153.35 1585.82,1165.22 1585.95,1164.2 1586.08,1188.63 1586.2,1197.11 \n",
       "  1586.33,1196.59 1586.46,1214.2 1586.58,1202.9 1586.71,1188.83 1586.83,1197.03 1586.96,1178.05 1587.09,1175.75 1587.21,1167.41 1587.34,1167.35 1587.47,1172.97 \n",
       "  1587.59,1161 1587.72,1165.17 1587.85,1160.22 1587.97,1168.91 1588.1,1179.82 1588.22,1171.42 1588.35,1163.59 1588.48,1157.86 1588.6,1169.4 1588.73,1169.63 \n",
       "  1588.86,1174.11 1588.98,1178.25 1589.11,1179.44 1589.24,1184.49 1589.36,1191.69 1589.49,1175.88 1589.61,1161.24 1589.74,1161.63 1589.87,1171.98 1589.99,1186.28 \n",
       "  1590.12,1185.66 1590.25,1198.66 1590.37,1204.75 1590.5,1214.19 1590.63,1211.85 1590.75,1196.7 1590.88,1206.77 1591,1211.11 1591.13,1208.66 1591.26,1194.63 \n",
       "  1591.38,1203.39 1591.51,1190.27 1591.64,1186.93 1591.76,1187.65 1591.89,1188.34 1592.02,1188.48 1592.14,1174.1 1592.27,1165.95 1592.39,1164.87 1592.52,1162.52 \n",
       "  1592.65,1161.15 1592.77,1153.65 1592.9,1161.87 1593.03,1166.63 1593.15,1165.05 1593.28,1164.87 1593.41,1157.4 1593.53,1156.94 1593.66,1154.89 1593.78,1150.12 \n",
       "  1593.91,1151.8 1594.04,1149.64 1594.16,1149.36 1594.29,1148.15 1594.42,1149.09 1594.54,1153.81 1594.67,1159.93 1594.8,1163.31 1594.92,1153.91 1595.05,1155.71 \n",
       "  1595.17,1161.27 1595.3,1152.44 1595.43,1151.4 1595.55,1124.97 1595.68,1135.11 1595.81,1140.35 1595.93,1139.87 1596.06,1127.87 1596.19,1128.93 1596.31,1120.14 \n",
       "  1596.44,1115.51 1596.56,1118.76 1596.69,1122.48 1596.82,1132.08 1596.94,1124.16 1597.07,1136.76 1597.2,1136.79 1597.32,1138.44 1597.45,1142.43 1597.58,1136.52 \n",
       "  1597.7,1141.4 1597.83,1140.52 1597.95,1144.04 1598.08,1142.64 1598.21,1134.31 1598.33,1145.48 1598.46,1146.24 1598.59,1151.61 1598.71,1160.9 1598.84,1164.12 \n",
       "  1598.97,1155.31 1599.09,1144.63 1599.22,1153.19 1599.34,1145.2 1599.47,1146.41 1599.6,1150.33 1599.72,1143.5 1599.85,1148.41 1599.98,1163.29 1600.1,1174.28 \n",
       "  1600.23,1166.15 1600.36,1150.04 1600.48,1155.52 1600.61,1148.8 1600.73,1149.34 1600.86,1138.18 1600.99,1134.31 1601.11,1142.06 1601.24,1149.42 1601.37,1140.16 \n",
       "  1601.49,1142.77 1601.62,1145.51 1601.75,1145.37 1601.87,1153.68 1602,1153.11 1602.12,1137.48 1602.25,1137.5 1602.38,1140.29 1602.5,1146.45 1602.63,1151.96 \n",
       "  1602.76,1153.97 1602.88,1148.16 1603.01,1146.03 1603.14,1142.12 1603.26,1139.13 1603.39,1145.96 1603.51,1141.27 1603.64,1136.02 1603.77,1137.09 1603.89,1143.5 \n",
       "  1604.02,1145.18 1604.15,1149.17 1604.27,1151.3 1604.4,1150.79 1604.53,1156.69 1604.65,1152.34 1604.78,1148.38 1604.9,1148.91 1605.03,1150.58 1605.16,1152.9 \n",
       "  1605.28,1158.12 1605.41,1150.35 1605.54,1142.65 1605.66,1145.58 1605.79,1150.59 1605.92,1161.06 1606.04,1163.8 1606.17,1159.74 1606.29,1162.65 1606.42,1175.33 \n",
       "  1606.55,1177.46 1606.67,1184.23 1606.8,1191.23 1606.93,1206 1607.05,1196.26 1607.18,1189.97 1607.31,1197.73 1607.43,1191.99 1607.56,1191.86 1607.68,1185.79 \n",
       "  1607.81,1169 1607.94,1175.45 1608.06,1170.57 1608.19,1168.26 1608.32,1168.73 1608.44,1160.74 1608.57,1149.77 1608.7,1153.51 1608.82,1145.85 1608.95,1154.78 \n",
       "  1609.07,1162.36 1609.2,1167.93 1609.33,1148.88 1609.45,1153.94 1609.58,1159.23 1609.71,1147.44 1609.83,1150.88 1609.96,1142.25 1610.09,1140.41 1610.21,1143.5 \n",
       "  1610.34,1137.69 1610.46,1145.65 1610.59,1150.9 1610.72,1150.31 1610.84,1150.8 1610.97,1147.34 1611.1,1151.04 1611.22,1146.21 1611.35,1150.52 1611.48,1157.36 \n",
       "  1611.6,1151.46 1611.73,1165.59 1611.85,1160.77 1611.98,1167.87 1612.11,1166.51 1612.23,1153.9 1612.36,1163.76 1612.49,1158.45 1612.61,1163.39 1612.74,1164.04 \n",
       "  1612.87,1170.51 1612.99,1175.83 1613.12,1179.99 1613.24,1180.79 1613.37,1176.98 1613.5,1172.87 1613.62,1176.81 1613.75,1166.35 1613.88,1171.26 1614,1175.4 \n",
       "  1614.13,1177.63 1614.26,1167.72 1614.38,1166.89 1614.51,1174.93 1614.63,1176.77 1614.76,1166.47 1614.89,1162.64 1615.01,1169.62 1615.14,1170.18 1615.27,1159.43 \n",
       "  1615.39,1163.29 1615.52,1165.18 1615.65,1163.72 1615.77,1165.94 1615.9,1169.84 1616.02,1179.63 1616.15,1182.11 1616.28,1185.98 1616.4,1182.86 1616.53,1184.55 \n",
       "  1616.66,1195.5 1616.78,1182.61 1616.91,1177.69 1617.04,1177.78 1617.16,1191.37 1617.29,1184.84 1617.41,1188.25 1617.54,1193.73 1617.67,1191.36 1617.79,1191.23 \n",
       "  1617.92,1194.99 1618.05,1201.47 1618.17,1209.18 1618.3,1209.38 1618.43,1209.99 1618.55,1230.31 1618.68,1248.1 1618.8,1243.18 1618.93,1220.85 1619.06,1193.77 \n",
       "  1619.18,1174.1 1619.31,1180.25 1619.44,1164.85 1619.56,1158.79 1619.69,1142.36 1619.82,1129.96 1619.94,1143.06 1620.07,1148.38 1620.19,1156.52 1620.32,1149.52 \n",
       "  1620.45,1161.39 1620.57,1151.33 1620.7,1144.63 1620.83,1138.29 1620.95,1133.02 1621.08,1098.09 1621.21,1094 1621.33,1108.78 1621.46,1109.53 1621.58,1107.66 \n",
       "  1621.71,1102.11 1621.84,1106.14 1621.96,1110.81 1622.09,1104.3 1622.22,1103.05 1622.34,1120.15 1622.47,1140.75 1622.6,1141.79 1622.72,1135.02 1622.85,1137.72 \n",
       "  1622.97,1129.66 1623.1,1131.74 1623.23,1134.31 1623.35,1136.76 1623.48,1132.67 1623.61,1136.88 1623.73,1136.6 1623.86,1133.17 1623.99,1130.11 1624.11,1128.16 \n",
       "  1624.24,1134.31 1624.36,1135.11 1624.49,1134.23 1624.62,1137.29 1624.74,1135.16 1624.87,1140.67 1625,1138.38 1625.12,1142.69 1625.25,1137.09 1625.38,1131.62 \n",
       "  1625.5,1122.98 1625.63,1116.41 1625.75,1117.91 1625.88,1104.6 1626.01,1093.93 1626.13,1090.03 1626.26,1090.57 1626.39,1096.31 1626.51,1110.16 1626.64,1104.34 \n",
       "  1626.77,1104.04 1626.89,1105.32 1627.02,1104.23 1627.14,1097.35 1627.27,1093.97 1627.4,1101.54 1627.52,1102.62 1627.65,1100.57 1627.78,1097.51 1627.9,1093.05 \n",
       "  1628.03,1088.37 1628.16,1089.95 1628.28,1097.9 1628.41,1089.61 1628.53,1089.23 1628.66,1089.64 1628.79,1091.88 1628.91,1086.93 1629.04,1085.19 1629.17,1076.38 \n",
       "  1629.29,1087.74 1629.42,1090.61 1629.55,1093.34 1629.67,1093.85 1629.8,1095.58 1629.92,1093.95 1630.05,1089.07 1630.18,1090.55 1630.3,1100.43 1630.43,1094.07 \n",
       "  1630.56,1095.96 1630.68,1096.83 1630.81,1095.17 1630.94,1102.94 1631.06,1098.58 1631.19,1094.86 1631.31,1103.49 1631.44,1109.07 1631.57,1105.81 1631.69,1104.24 \n",
       "  1631.82,1110.64 1631.95,1112.29 1632.07,1115.7 1632.2,1117.47 1632.33,1111.77 1632.45,1108.81 1632.58,1117.89 1632.7,1115.32 1632.83,1128.01 1632.96,1140.39 \n",
       "  1633.08,1148.33 1633.21,1152.02 1633.34,1146.86 1633.46,1151.86 1633.59,1152.93 1633.72,1154.45 1633.84,1158.61 1633.97,1160.82 1634.09,1152.42 1634.22,1150.7 \n",
       "  1634.35,1150.28 1634.47,1162.73 1634.6,1160.54 1634.73,1152.37 1634.85,1145.5 1634.98,1141.97 1635.11,1140.92 1635.23,1146.85 1635.36,1145.45 1635.48,1156.44 \n",
       "  1635.61,1150.9 1635.74,1147.52 1635.86,1136.56 1635.99,1143.48 1636.12,1151.24 1636.24,1140.94 1636.37,1146.66 1636.5,1153 1636.62,1163.9 1636.75,1163.23 \n",
       "  1636.87,1162.46 1637,1173.91 1637.13,1165.83 1637.25,1166.41 1637.38,1161.07 1637.51,1159.43 1637.63,1149.95 1637.76,1159.47 1637.89,1156.2 1638.01,1159.52 \n",
       "  1638.14,1150.91 1638.26,1153.25 1638.39,1154.67 1638.52,1153.98 1638.64,1158.3 1638.77,1152.95 1638.9,1154.16 1639.02,1149.27 1639.15,1153.27 1639.28,1155.4 \n",
       "  1639.4,1159.86 1639.53,1155.51 1639.65,1153.63 1639.78,1153.29 1639.91,1157.8 1640.03,1152.83 1640.16,1145.72 1640.29,1149.89 1640.41,1154.79 1640.54,1156.29 \n",
       "  1640.67,1151.42 1640.79,1145.57 1640.92,1149.7 1641.04,1149.13 1641.17,1139.93 1641.3,1138.8 1641.42,1114.09 1641.55,1110.73 1641.68,1104.84 1641.8,1100.3 \n",
       "  1641.93,1106.37 1642.06,1115.5 1642.18,1115.01 1642.31,1119.94 1642.43,1114.28 1642.56,1117.03 1642.69,1120.75 1642.81,1119.55 1642.94,1112.25 1643.07,1102.01 \n",
       "  1643.19,1109.68 1643.32,1114.42 1643.45,1105.81 1643.57,1112.24 1643.7,1116.23 1643.82,1124.09 1643.95,1137.65 1644.08,1143.35 1644.2,1153.05 1644.33,1147.72 \n",
       "  1644.46,1155.72 1644.58,1165.73 1644.71,1176.23 1644.84,1171.35 1644.96,1174.57 1645.09,1163.96 1645.21,1154 1645.34,1161.1 1645.47,1159.72 1645.59,1156.54 \n",
       "  1645.72,1150.58 1645.85,1155.9 1645.97,1148.24 1646.1,1154.3 1646.23,1158 1646.35,1165.9 1646.48,1157.83 1646.6,1146.75 1646.73,1161.73 1646.86,1166.51 \n",
       "  1646.98,1166.51 1647.11,1163.96 1647.24,1167.84 1647.36,1170.95 1647.49,1168.36 1647.62,1157.45 1647.74,1164.77 1647.87,1161.59 1647.99,1157.74 1648.12,1157.65 \n",
       "  1648.25,1175.02 1648.37,1163.34 1648.5,1168.98 1648.63,1161.31 1648.75,1147.83 1648.88,1151.54 1649.01,1157.99 1649.13,1154.05 1649.26,1148.15 1649.38,1153.74 \n",
       "  1649.51,1150.25 1649.64,1153.41 1649.76,1147.92 1649.89,1138.43 1650.02,1141.58 1650.14,1134.96 1650.27,1144.91 1650.4,1146.93 1650.52,1133.57 1650.65,1135.78 \n",
       "  1650.77,1125.78 1650.9,1129.09 1651.03,1126.34 1651.15,1131.55 1651.28,1130.31 1651.41,1128.95 1651.53,1127.61 1651.66,1134.15 1651.79,1147.12 1651.91,1145.25 \n",
       "  1652.04,1155.6 1652.16,1150.42 1652.29,1151.95 1652.42,1157.04 1652.54,1159.28 1652.67,1156.38 1652.8,1148.39 1652.92,1146.35 1653.05,1143.11 1653.18,1140.01 \n",
       "  1653.3,1129.4 1653.43,1136.03 1653.55,1132.06 1653.68,1126.67 1653.81,1130.31 1653.93,1137.54 1654.06,1128.92 1654.19,1131.54 1654.31,1109.15 1654.44,1118.39 \n",
       "  1654.57,1123.94 1654.69,1127.65 1654.82,1123.57 1654.94,1121.75 1655.07,1117.76 1655.2,1115.8 1655.32,1116.03 1655.45,1104.43 1655.58,1107.91 1655.7,1111.77 \n",
       "  1655.83,1107.7 1655.96,1119.59 1656.08,1116.56 1656.21,1120.79 1656.33,1129.62 1656.46,1122.03 1656.59,1126.07 1656.71,1121.05 1656.84,1117.2 1656.97,1120.84 \n",
       "  1657.09,1119.67 1657.22,1123.91 1657.35,1118.5 1657.47,1116.6 1657.6,1121 1657.72,1117.25 1657.85,1113.54 1657.98,1110.37 1658.1,1110.16 1658.23,1108.45 \n",
       "  1658.36,1106.5 1658.48,1114.72 1658.61,1111.62 1658.74,1114.16 1658.86,1121 1658.99,1115.9 1659.11,1115.83 1659.24,1127.15 1659.37,1126.9 1659.49,1122.5 \n",
       "  1659.62,1117.82 1659.75,1121.4 1659.87,1127.06 1660,1119.06 1660.13,1124.99 1660.25,1127.21 1660.38,1131.63 1660.5,1131.3 1660.63,1128.55 1660.76,1130.03 \n",
       "  1660.88,1139.82 1661.01,1151.35 1661.14,1150.03 1661.26,1154.58 1661.39,1148.91 1661.52,1149.43 1661.64,1142.37 1661.77,1144.55 1661.89,1150.51 1662.02,1149.89 \n",
       "  1662.15,1146.4 1662.27,1144.6 1662.4,1141.21 1662.53,1146.39 1662.65,1152.31 1662.78,1145.06 1662.91,1145.82 1663.03,1147.28 1663.16,1144.11 1663.28,1145.25 \n",
       "  1663.41,1135.14 1663.54,1137.55 1663.66,1140.62 1663.79,1139.02 1663.92,1142.86 1664.04,1160.85 1664.17,1159.59 1664.3,1153.32 1664.42,1157.71 1664.55,1164.07 \n",
       "  1664.67,1158.62 1664.8,1165.55 1664.93,1157.95 1665.05,1160.37 1665.18,1159.99 1665.31,1152.58 1665.43,1153.85 1665.56,1158.01 1665.69,1159.18 1665.81,1160.69 \n",
       "  1665.94,1160.08 1666.06,1156.86 1666.19,1158.78 1666.32,1163.5 1666.44,1169.58 1666.57,1164.57 1666.7,1164.42 1666.82,1171.11 1666.95,1191.88 1667.08,1182.75 \n",
       "  1667.2,1173.87 1667.33,1169.89 1667.45,1163.64 1667.58,1160.16 1667.71,1157.92 1667.83,1166.7 1667.96,1173.66 1668.09,1169.85 1668.21,1172.68 1668.34,1177.5 \n",
       "  1668.47,1176.87 1668.59,1173.69 1668.72,1181.31 1668.84,1178.7 1668.97,1176.92 1669.1,1168.51 1669.22,1171.35 1669.35,1185.2 1669.48,1181.72 1669.6,1180.69 \n",
       "  1669.73,1173.83 1669.86,1177.59 1669.98,1186.25 1670.11,1194.46 1670.23,1201.06 1670.36,1204.66 1670.49,1205.5 1670.61,1205.75 1670.74,1201.32 1670.87,1225.48 \n",
       "  1670.99,1214.61 1671.12,1204.97 1671.25,1207.5 1671.37,1210.63 1671.5,1228.78 1671.62,1251.13 1671.75,1244.24 1671.88,1270.8 1672,1296.23 1672.13,1308.05 \n",
       "  1672.26,1296.94 1672.38,1309.01 1672.51,1301.52 1672.64,1290.87 1672.76,1307.77 1672.89,1295.32 1673.01,1304.31 1673.14,1310.8 1673.27,1335.54 1673.39,1351.19 \n",
       "  1673.52,1327.21 1673.65,1315.56 1673.77,1321.7 1673.9,1316.6 1674.03,1320.74 1674.15,1292.87 1674.28,1297.16 1674.4,1287.65 1674.53,1303.38 1674.66,1307.2 \n",
       "  1674.78,1295.06 1674.91,1296.78 1675.04,1302.64 1675.16,1297.43 1675.29,1306.02 1675.42,1299.59 1675.54,1296.16 1675.67,1297.67 1675.8,1303.7 1675.92,1309.99 \n",
       "  1676.05,1305.48 1676.17,1316.26 1676.3,1321.73 1676.43,1317.54 1676.55,1323.02 1676.68,1324.1 1676.81,1322.42 1676.93,1320.31 1677.06,1313.43 1677.19,1313.94 \n",
       "  1677.31,1330.55 1677.44,1336.11 1677.56,1350.07 1677.69,1343.37 1677.82,1340.5 1677.94,1367.37 1678.07,1363.36 1678.2,1326.7 1678.32,1311.86 1678.45,1324.4 \n",
       "  1678.58,1330.05 1678.7,1331.18 1678.83,1323.1 1678.95,1329.81 1679.08,1335.18 1679.21,1344.61 1679.33,1348.45 1679.46,1353.5 1679.59,1336.49 1679.71,1351.75 \n",
       "  1679.84,1363.79 1679.97,1338.77 1680.09,1351.08 1680.22,1358.84 1680.34,1363.36 1680.47,1378.15 1680.6,1368.93 1680.72,1391.93 1680.85,1397.35 1680.98,1396.67 \n",
       "  1681.1,1419.48 1681.23,1431.84 1681.36,1416.25 1681.48,1412.79 1681.61,1433.78 1681.73,1418.62 1681.86,1411.25 1681.99,1404.43 1682.11,1406.39 1682.24,1375.77 \n",
       "  1682.37,1374.49 1682.49,1349.39 1682.62,1355.44 1682.75,1345.23 1682.87,1362.67 1683,1354.26 1683.12,1370.08 1683.25,1387.4 1683.38,1403.65 1683.5,1402.86 \n",
       "  1683.63,1387.91 1683.76,1368.08 1683.88,1379.88 1684.01,1382.41 1684.14,1373.17 1684.26,1356.83 1684.39,1366.38 1684.51,1361.69 1684.64,1354.57 1684.77,1333.27 \n",
       "  1684.89,1335.95 1685.02,1328.26 1685.15,1335.59 1685.27,1324.38 1685.4,1328.43 1685.53,1340.06 1685.65,1345.18 1685.78,1337.29 1685.9,1327.52 1686.03,1334.73 \n",
       "  1686.16,1346.61 1686.28,1315.42 1686.41,1292.1 1686.54,1282.87 1686.66,1264.98 1686.79,1255.71 1686.92,1258.62 1687.04,1251.47 1687.17,1252.65 1687.29,1257.26 \n",
       "  1687.42,1270.18 1687.55,1272.91 1687.67,1268.37 1687.8,1256.36 1687.93,1262.17 1688.05,1275.03 1688.18,1251.87 1688.31,1254.56 1688.43,1254.54 1688.56,1258.69 \n",
       "  1688.68,1236.38 1688.81,1253.37 1688.94,1252.65 1689.06,1259.47 1689.19,1262.2 1689.32,1285.23 1689.44,1292.58 1689.57,1290.99 1689.7,1287.27 1689.82,1272.4 \n",
       "  1689.95,1284.66 1690.07,1284.25 1690.2,1292.87 1690.33,1289.07 1690.45,1281.24 1690.58,1279.49 1690.71,1265.52 1690.83,1271.97 1690.96,1269.03 1691.09,1271.17 \n",
       "  1691.21,1266.79 1691.34,1269.99 1691.46,1278.97 1691.59,1281.9 1691.72,1290.93 1691.84,1298.02 1691.97,1285.22 1692.1,1293.85 1692.22,1288.06 1692.35,1282.25 \n",
       "  1692.48,1278.07 1692.6,1285.3 1692.73,1272.67 1692.85,1276.95 1692.98,1277.54 1693.11,1264.71 1693.23,1261.61 1693.36,1261.99 1693.49,1267.33 1693.61,1259.23 \n",
       "  1693.74,1268.22 1693.87,1267.09 1693.99,1268.21 1694.12,1263.44 1694.24,1271.52 1694.37,1265.46 1694.5,1274.55 1694.62,1282.08 1694.75,1276.69 1694.88,1283.69 \n",
       "  1695,1272.9 1695.13,1263.21 1695.26,1264.79 1695.38,1275.5 1695.51,1266.93 1695.63,1276.5 1695.76,1291.55 1695.89,1285.79 1696.01,1294.13 1696.14,1294.76 \n",
       "  1696.27,1292.31 1696.39,1298.27 1696.52,1294.79 1696.65,1295.73 1696.77,1305.92 1696.9,1300.69 1697.02,1298 1697.15,1296 1697.28,1287.32 1697.4,1292.27 \n",
       "  1697.53,1297.14 1697.66,1287.49 1697.78,1282.36 1697.91,1285.16 1698.04,1293.78 1698.16,1290.03 1698.29,1288.2 1698.41,1288.77 1698.54,1293.12 1698.67,1297.64 \n",
       "  1698.79,1285.93 1698.92,1288.92 1699.05,1285.15 1699.17,1290.49 1699.3,1296.9 1699.43,1285.04 1699.55,1288.91 1699.68,1287.95 1699.8,1289.23 1699.93,1291.08 \n",
       "  1700.06,1271.17 1700.18,1274.27 1700.31,1276 1700.44,1274.45 1700.56,1275.63 1700.69,1272.17 1700.82,1269.02 1700.94,1268.87 1701.07,1263.85 1701.19,1262.1 \n",
       "  1701.32,1271.01 1701.45,1271.73 1701.57,1272.88 1701.7,1268.6 1701.83,1260.92 1701.95,1254.62 1702.08,1255.6 1702.21,1246.38 1702.33,1210.94 1702.46,1207.53 \n",
       "  1702.58,1217.15 1702.71,1216.19 1702.84,1221.23 1702.96,1219.02 1703.09,1220.23 1703.22,1214.79 1703.34,1216.43 1703.47,1216.22 1703.6,1207.82 1703.72,1211.51 \n",
       "  1703.85,1221.12 1703.97,1221.15 1704.1,1222.09 1704.23,1219.99 1704.35,1214.25 1704.48,1219.39 1704.61,1220.93 1704.73,1221.77 1704.86,1217.96 1704.99,1230.52 \n",
       "  1705.11,1231.66 1705.24,1234.43 1705.36,1228.3 1705.49,1231.61 1705.62,1228.23 1705.74,1229.61 1705.87,1227.96 1706,1214.17 1706.12,1224.9 1706.25,1222.87 \n",
       "  1706.38,1224.64 1706.5,1226.57 1706.63,1218.64 1706.75,1219 1706.88,1221.78 1707.01,1207.65 1707.13,1207.57 1707.26,1203.28 1707.39,1212.97 1707.51,1207.74 \n",
       "  1707.64,1209.09 1707.77,1211.55 1707.89,1213.28 1708.02,1198.96 1708.14,1204.08 1708.27,1202.41 1708.4,1190.47 1708.52,1172.17 1708.65,1178.56 1708.78,1168.79 \n",
       "  1708.9,1169.19 1709.03,1183.77 1709.16,1180.69 1709.28,1182.05 1709.41,1178.43 1709.53,1183.27 1709.66,1182.61 1709.79,1174.05 1709.91,1170.65 1710.04,1160.34 \n",
       "  1710.17,1173.43 1710.29,1174.59 1710.42,1176.7 1710.55,1168.48 1710.67,1168.15 1710.8,1168.86 1710.92,1167.1 1711.05,1174.39 1711.18,1168.19 1711.3,1165.26 \n",
       "  1711.43,1169.98 1711.56,1172.56 1711.68,1173.39 1711.81,1177.12 1711.94,1176.87 1712.06,1176.18 1712.19,1169.74 1712.31,1173.42 1712.44,1178.48 1712.57,1180 \n",
       "  1712.69,1174.85 1712.82,1166.9 1712.95,1163.97 1713.07,1163.32 1713.2,1163.37 1713.33,1166.52 1713.45,1151.78 1713.58,1162.49 1713.7,1157.24 1713.83,1149.68 \n",
       "  1713.96,1153.77 1714.08,1147.12 1714.21,1153.78 1714.34,1154.02 1714.46,1149.65 1714.59,1152.95 1714.72,1161.52 1714.84,1161.67 1714.97,1164.84 1715.09,1154.84 \n",
       "  1715.22,1150.05 1715.35,1148.97 1715.47,1147 1715.6,1145.73 1715.73,1147.5 1715.85,1148.23 1715.98,1144.13 1716.11,1149.08 1716.23,1140.85 1716.36,1148.13 \n",
       "  1716.48,1157.73 1716.61,1160.43 1716.74,1165.4 1716.86,1168.48 1716.99,1170.34 1717.12,1168.64 1717.24,1167.53 1717.37,1168.12 1717.5,1166.08 1717.62,1162.17 \n",
       "  1717.75,1153.23 1717.87,1162.25 1718,1167.82 1718.13,1176.39 1718.25,1169.57 1718.38,1175.55 1718.51,1172.52 1718.63,1171.44 1718.76,1167.07 1718.89,1165.57 \n",
       "  1719.01,1168.21 1719.14,1163.46 1719.26,1161.31 1719.39,1159.41 1719.52,1138.44 1719.64,1141.26 1719.77,1131.57 1719.9,1104.3 1720.02,1097.08 1720.15,1093.38 \n",
       "  1720.28,1102.26 1720.4,1096.98 1720.53,1091.66 1720.65,1100.82 1720.78,1107.21 1720.91,1110.16 1721.03,1105.15 1721.16,1112.73 1721.29,1106.87 1721.41,1102.11 \n",
       "  1721.54,1098.89 1721.67,1075.77 1721.79,1070.3 1721.92,1060.45 1722.04,1054.8 1722.17,1017.11 1722.3,996.885 1722.42,1019.59 1722.55,1024.83 1722.68,1023.4 \n",
       "  1722.8,1011.13 1722.93,1015.15 1723.06,1015.21 1723.18,1021.61 1723.31,1021.61 1723.43,1028.64 1723.56,1025.27 1723.69,1037.24 1723.81,1027.12 1723.94,1030.28 \n",
       "  1724.07,1030.64 1724.19,1046.28 1724.32,1032.37 1724.45,1041.46 1724.57,1039.24 1724.7,1036.99 1724.82,1041.39 1724.95,1033.68 1725.08,1023.25 1725.2,1001.48 \n",
       "  1725.33,1013.3 1725.46,1029.97 1725.58,1031.92 1725.71,1027.47 1725.84,1021.95 1725.96,1030.99 1726.09,1038.97 1726.21,1052.46 1726.34,1047.57 1726.47,1038.99 \n",
       "  1726.59,1043.07 1726.72,1049.87 1726.85,1047.46 1726.97,1049.78 1727.1,1047.15 1727.23,1031.99 1727.35,1034.21 1727.48,1039.78 1727.6,1037.71 1727.73,1037.71 \n",
       "  1727.86,1046.37 1727.98,1043.32 1728.11,1035.4 1728.24,1038.19 1728.36,1044.53 1728.49,1045.15 1728.62,1051.47 1728.74,1070.74 1728.87,1081.82 1728.99,1071.32 \n",
       "  1729.12,1061.86 1729.25,1054.26 1729.37,1052.7 1729.5,1049.2 1729.63,1045.75 1729.75,1032.28 1729.88,1022.74 1730.01,1023.65 1730.13,1033.66 1730.26,1034.26 \n",
       "  1730.38,1032.59 1730.51,1026.44 1730.64,1025.49 1730.76,1025.56 1730.89,1031.79 1731.02,1035.41 1731.14,1035.6 1731.27,1048.47 1731.4,1041.77 1731.52,1053.57 \n",
       "  1731.65,1048.81 1731.77,1056.39 1731.9,1047.15 1732.03,1040.63 1732.15,1045.76 1732.28,1039.32 1732.41,1043.39 1732.53,1039.4 1732.66,1044.44 1732.79,1039.87 \n",
       "  1732.91,1042.95 1733.04,1040.89 1733.16,1043.67 1733.29,1049.3 1733.42,1045.76 1733.54,1040.11 1733.67,1041.37 1733.8,1031.59 1733.92,1028.42 1734.05,1029.62 \n",
       "  1734.18,1032.08 1734.3,1036.72 1734.43,1036.96 1734.55,1029.65 1734.68,1029.13 1734.81,1026.4 1734.93,1025.71 1735.06,1024.61 1735.19,1028.28 1735.31,1027.72 \n",
       "  1735.44,1026.54 1735.57,1012.6 1735.69,1015.57 1735.82,1025.93 1735.94,1029.3 1736.07,1034.96 1736.2,1042.76 1736.32,1040.75 1736.45,1042.05 1736.58,1048.58 \n",
       "  1736.7,1046.02 1736.83,1049.64 1736.96,1056.83 1737.08,1051.09 1737.21,1054.08 1737.33,1050.94 1737.46,1045.15 1737.59,1050.19 1737.71,1057.51 1737.84,1062.4 \n",
       "  1737.97,1057.08 1738.09,1060.82 1738.22,1068.31 1738.35,1064.3 1738.47,1059.69 1738.6,1054.87 1738.72,1055.09 1738.85,1048.53 1738.98,1049.33 1739.1,1055.76 \n",
       "  1739.23,1051.82 1739.36,1048.63 1739.48,1044.84 1739.61,1031.38 1739.74,1036.9 1739.86,1032.71 1739.99,1028.02 1740.11,1032.94 1740.24,1035.33 1740.37,1031.33 \n",
       "  1740.49,1028.83 1740.62,1030.56 1740.75,1028.89 1740.87,1029.81 1741,1035.02 1741.13,1044.43 1741.25,1046.21 1741.38,1051.59 1741.5,1044.06 1741.63,1046.92 \n",
       "  1741.76,1047.88 1741.88,1040.93 1742.01,1038.42 1742.14,1031.1 1742.26,1038.87 1742.39,1040.03 1742.52,1056.07 1742.64,1060.51 1742.77,1060.93 1742.89,1056.71 \n",
       "  1743.02,1061.86 1743.15,1066.43 1743.27,1076.92 1743.4,1069.2 1743.53,1072.39 1743.65,1064.81 1743.78,1058.18 1743.91,1055.74 1744.03,1051.22 1744.16,1056.49 \n",
       "  1744.28,1048.1 1744.41,1039.95 1744.54,1039.3 1744.66,1044.73 1744.79,1053.34 1744.92,1044.12 1745.04,1044.25 1745.17,1049.36 1745.3,1048.16 1745.42,1053.3 \n",
       "  1745.55,1059.45 1745.67,1054.01 1745.8,1060.8 1745.93,1063.86 1746.05,1063.86 1746.18,1058.75 1746.31,1060.75 1746.43,1055.42 1746.56,1056.66 1746.69,1064.95 \n",
       "  1746.81,1060.26 1746.94,1042.19 1747.06,1049.92 1747.19,1050.06 1747.32,1061.3 1747.44,1093.71 1747.57,1100.96 1747.7,1103.2 1747.82,1119.29 1747.95,1106.95 \n",
       "  1748.08,1096.34 1748.2,1094.76 1748.33,1098.36 1748.45,1105.57 1748.58,1119.16 1748.71,1103.13 1748.83,1099.91 1748.96,1107.17 1749.09,1116.1 1749.21,1128.34 \n",
       "  1749.34,1126.26 1749.47,1118.16 1749.59,1133.28 1749.72,1139.6 1749.84,1141.84 1749.97,1132.36 1750.1,1122.97 1750.22,1125.64 1750.35,1132.42 1750.48,1139.53 \n",
       "  1750.6,1129.07 1750.73,1114.62 1750.86,1118.53 1750.98,1111.5 1751.11,1111.07 1751.23,1112.12 1751.36,1107.06 1751.49,1103.01 1751.61,1113.31 1751.74,1104.77 \n",
       "  1751.87,1110.83 1751.99,1111.91 1752.12,1112.27 1752.25,1116.05 1752.37,1107.16 1752.5,1116.54 1752.62,1126.96 1752.75,1130.59 1752.88,1128.53 1753,1130.61 \n",
       "  1753.13,1127.05 1753.26,1126.13 1753.38,1125.74 1753.51,1119.74 1753.64,1116.26 1753.76,1121.36 1753.89,1127.18 1754.01,1140.85 1754.14,1147.85 1754.27,1144.6 \n",
       "  1754.39,1133.5 1754.52,1131.89 1754.65,1150.03 1754.77,1146.11 1754.9,1140.24 1755.03,1132.38 1755.15,1143.16 1755.28,1132.98 1755.4,1138.58 1755.53,1130.1 \n",
       "  1755.66,1130.73 1755.78,1136.65 1755.91,1139.3 1756.04,1133.3 1756.16,1138.31 1756.29,1130.07 1756.42,1126.68 1756.54,1130.82 1756.67,1127.69 1756.79,1124.64 \n",
       "  1756.92,1127.74 1757.05,1139.59 1757.17,1137.91 1757.3,1139.39 1757.43,1136.34 1757.55,1130.05 1757.68,1129.14 1757.81,1124.99 1757.93,1125.2 1758.06,1125.96 \n",
       "  1758.18,1135.47 1758.31,1136.2 1758.44,1142.94 1758.56,1140.21 1758.69,1133.83 1758.82,1138.18 1758.94,1139.18 1759.07,1143.47 1759.2,1146.89 1759.32,1144.3 \n",
       "  1759.45,1151.38 1759.57,1157.66 1759.7,1163.1 1759.83,1160.81 1759.95,1166.51 1760.08,1173.09 1760.21,1170.09 1760.33,1175.48 1760.46,1178.25 1760.59,1176.89 \n",
       "  1760.71,1169.42 1760.84,1174.57 1760.96,1176.44 1761.09,1193.39 1761.22,1185.12 1761.34,1188.3 1761.47,1197.01 1761.6,1193.57 1761.72,1203.07 1761.85,1205.04 \n",
       "  1761.98,1188.64 1762.1,1184.08 1762.23,1191.01 1762.35,1194.39 1762.48,1188.4 1762.61,1183.77 1762.73,1186.47 1762.86,1184.38 1762.99,1183.26 1763.11,1185.78 \n",
       "  1763.24,1182.66 1763.37,1192.28 1763.49,1191.93 1763.62,1197.58 1763.74,1195.25 1763.87,1185.28 1764,1201.36 1764.12,1207.53 1764.25,1219.83 1764.38,1214.64 \n",
       "  1764.5,1215.22 1764.63,1207.1 1764.76,1208.98 1764.88,1210.05 1765.01,1207.37 1765.13,1196.56 1765.26,1203.23 1765.39,1204.41 1765.51,1199.59 1765.64,1201.94 \n",
       "  1765.77,1201.17 1765.89,1201.26 1766.02,1204.65 1766.15,1211.3 1766.27,1211.6 1766.4,1201.83 1766.52,1198.3 1766.65,1202.24 1766.78,1196.71 1766.9,1189.55 \n",
       "  1767.03,1176.21 1767.16,1182.88 1767.28,1183.75 1767.41,1184.04 1767.54,1184.98 1767.66,1183.73 1767.79,1147.78 1767.91,1109.03 1768.04,1100.67 1768.17,1120.19 \n",
       "  1768.29,1113.38 1768.42,1116.98 1768.55,1125.64 1768.67,1127.68 1768.8,1129.73 1768.93,1134.3 1769.05,1144.27 1769.18,1150.13 1769.3,1153.07 1769.43,1147.07 \n",
       "  1769.56,1158.96 1769.68,1176.5 1769.81,1175.54 1769.94,1170.06 1770.06,1174.73 1770.19,1179.76 1770.32,1173.75 1770.44,1179.36 1770.57,1168.01 1770.69,1161.95 \n",
       "  1770.82,1155.12 1770.95,1159.51 1771.07,1127.95 1771.2,1141.15 1771.33,1134.21 1771.45,1133.12 1771.58,1127.37 1771.71,1121.05 1771.83,1117.06 1771.96,1119.6 \n",
       "  1772.08,1127.43 1772.21,1127.9 1772.34,1123.4 1772.46,1131.88 1772.59,1132.76 1772.72,1134.31 1772.84,1135.12 1772.97,1140.47 1773.1,1138.29 1773.22,1129.88 \n",
       "  1773.35,1139.34 1773.47,1146.22 1773.6,1140.56 1773.73,1148.69 1773.85,1149.85 1773.98,1153.69 1774.11,1156.58 1774.23,1151.85 1774.36,1154.18 1774.49,1140.91 \n",
       "  1774.61,1145.11 1774.74,1145.63 1774.86,1144.23 1774.99,1134.3 1775.12,1138.8 1775.24,1138.21 1775.37,1143.5 1775.5,1143.69 1775.62,1140.1 1775.75,1131.66 \n",
       "  1775.88,1128.58 1776,1136.03 1776.13,1133.17 1776.25,1129.58 1776.38,1133.36 1776.51,1142.37 1776.63,1153.91 1776.76,1149.85 1776.89,1141.48 1777.01,1148.31 \n",
       "  1777.14,1133.36 1777.27,1132.28 1777.39,1139.15 1777.52,1145.83 1777.64,1142.56 1777.77,1165.02 1777.9,1175.1 1778.02,1173.27 1778.15,1168.22 1778.28,1169.05 \n",
       "  1778.4,1156.07 1778.53,1156.38 1778.66,1155.35 1778.78,1161.52 1778.91,1163.78 1779.03,1170.73 1779.16,1171.32 1779.29,1175.72 1779.41,1180.96 1779.54,1188.11 \n",
       "  1779.67,1184.11 1779.79,1192.23 1779.92,1195.97 1780.05,1199.66 1780.17,1196.89 1780.3,1186.26 1780.42,1186.38 1780.55,1184.51 1780.68,1186.36 1780.8,1182.49 \n",
       "  1780.93,1171.22 1781.06,1167.66 1781.18,1175.2 1781.31,1170.61 1781.44,1168.16 1781.56,1168.12 1781.69,1158.92 1781.81,1158.46 1781.94,1161.52 1782.07,1163.61 \n",
       "  1782.19,1159.16 1782.32,1160.3 1782.45,1167.77 1782.57,1165.5 1782.7,1173.79 1782.83,1164.29 1782.95,1159.42 1783.08,1155.32 1783.2,1152.28 1783.33,1153.54 \n",
       "  1783.46,1157.86 1783.58,1154.62 1783.71,1156.76 1783.84,1156.49 1783.96,1151.06 1784.09,1141.18 1784.22,1134.31 1784.34,1139.05 1784.47,1137.78 1784.6,1131.48 \n",
       "  1784.72,1138.55 1784.85,1139.16 1784.97,1129 1785.1,1113.48 1785.23,1114.46 1785.35,1111.31 1785.48,1106.95 1785.61,1105.33 1785.73,1105.35 1785.86,1091.12 \n",
       "  1785.99,1100.18 1786.11,1102.55 1786.24,1099.43 1786.36,1095.67 1786.49,1095.14 1786.62,1066.13 1786.74,1016.13 1786.87,1029.35 1787,1031.26 1787.12,1009.33 \n",
       "  1787.25,1026.51 1787.38,1046.14 1787.5,1042.54 1787.63,1038.7 1787.75,1038.63 1787.88,1043.52 1788.01,1046.39 1788.13,1034.2 1788.26,1041.77 1788.39,1037.6 \n",
       "  1788.51,1050.33 1788.64,1052.23 1788.77,1053.81 1788.89,1053.81 1789.02,1054.46 1789.14,1056.68 1789.27,1039.62 1789.4,1039.8 1789.52,1034.87 1789.65,1041.53 \n",
       "  1789.78,1043.03 1789.9,1047.51 1790.03,1040.58 1790.16,1039.31 1790.28,1034.98 1790.41,1046.73 1790.53,1050.04 1790.66,1050 1790.79,1050.6 1790.91,1051.15 \n",
       "  1791.04,1058.22 1791.17,1051.59 1791.29,1053.54 1791.42,1052.84 1791.55,1053.13 1791.67,1053.64 1791.8,1048.01 1791.92,1047.6 1792.05,1051.49 1792.18,1045.34 \n",
       "  1792.3,1051.99 1792.43,1055.31 1792.56,1054.02 1792.68,1039.19 1792.81,1045.76 1792.94,1052.47 1793.06,1051.22 1793.19,1053.36 1793.31,1055.54 1793.44,1045.76 \n",
       "  1793.57,1043.35 1793.69,1046.22 1793.82,1037.88 1793.95,1040.58 1794.07,1050.2 1794.2,1043.91 1794.33,1042.76 1794.45,1037.41 1794.58,1036.73 1794.7,1038.79 \n",
       "  1794.83,1038.08 1794.96,1035.54 1795.08,1028.83 1795.21,1018.82 1795.34,1017.68 1795.46,1017 1795.59,1013.12 1795.72,1014.08 1795.84,1015.47 1795.97,980.878 \n",
       "  1796.09,1002.12 1796.22,1009.41 1796.35,1007.85 1796.47,1006.9 1796.6,1012.84 1796.73,1009.53 1796.85,1014.37 1796.98,1012.16 1797.11,1007.6 1797.23,1000.96 \n",
       "  1797.36,995.048 1797.48,997.42 1797.61,990.577 1797.74,971.686 1797.86,951.556 1797.99,944.754 1798.12,942.102 1798.24,945 1798.37,950.713 1798.5,932.258 \n",
       "  1798.62,930.426 1798.75,933.227 1798.87,936.863 1799,921.804 1799.13,918.925 1799.25,927.014 1799.38,931.112 1799.51,924.9 1799.63,928.254 1799.76,932.424 \n",
       "  1799.89,936.307 1800.01,943.635 1800.14,921.99 1800.26,916.814 1800.39,905.498 1800.52,886.544 1800.64,897.461 1800.77,899.971 1800.9,903.265 1801.02,899.407 \n",
       "  1801.15,909.042 1801.28,914.737 1801.4,913.956 1801.53,912.1 1801.65,913.634 1801.78,908.161 1801.91,911.869 1802.03,915.785 1802.16,919.913 1802.29,930.414 \n",
       "  1802.41,927.078 1802.54,931.284 1802.67,940.87 1802.79,947.467 1802.92,945.005 1803.04,935.248 1803.17,944.826 1803.3,948.082 1803.42,944.891 1803.55,940.82 \n",
       "  1803.68,938.204 1803.8,927.318 1803.93,932.586 1804.06,933.655 1804.18,928.221 1804.31,925.89 1804.43,925.959 1804.56,923.9 1804.69,931.912 1804.81,934.575 \n",
       "  1804.94,931.152 1805.07,928.836 1805.19,924.605 1805.32,920.976 1805.45,923.644 1805.57,931.862 1805.7,927.35 1805.82,929.679 1805.95,910.783 1806.08,914.65 \n",
       "  1806.2,922.821 1806.33,918.627 1806.46,917.423 1806.58,928.632 1806.71,943.234 1806.84,944.156 1806.96,942.889 1807.09,938.186 1807.21,937.64 1807.34,938.035 \n",
       "  1807.47,949.154 1807.59,945.037 1807.72,967.524 1807.85,984.232 1807.97,987.49 1808.1,986.177 1808.23,981.501 1808.35,973.711 1808.48,968.472 1808.6,965.416 \n",
       "  1808.73,957.871 1808.86,937.919 1808.98,932.892 1809.11,919.026 1809.24,924.47 1809.36,934.472 1809.49,937.566 1809.62,941.078 1809.74,946.855 1809.87,940.415 \n",
       "  1809.99,931.78 1810.12,951.59 1810.25,945.697 1810.37,939.312 1810.5,943.108 1810.63,949.104 1810.75,949.153 1810.88,958.304 1811.01,962.916 1811.13,964.618 \n",
       "  1811.26,968.348 1811.38,953.376 1811.51,952.105 1811.64,947.42 1811.76,958.762 1811.89,974.739 1812.02,985.053 1812.14,979.374 1812.27,974.914 1812.4,975.442 \n",
       "  1812.52,981.683 1812.65,977.783 1812.77,973.818 1812.9,967.931 1813.03,965.708 1813.15,953.437 1813.28,958.18 1813.41,965.369 1813.53,956.783 1813.66,961.252 \n",
       "  1813.79,959.982 1813.91,965.252 1814.04,977.147 1814.16,980.401 1814.29,986.805 1814.42,973.55 1814.54,966.976 1814.67,973.128 1814.8,972.694 1814.92,956.197 \n",
       "  1815.05,959.043 1815.18,956.33 1815.3,935.151 1815.43,941.088 1815.55,944.324 1815.68,944.963 1815.81,943.351 1815.93,948.861 1816.06,960.898 1816.19,960.702 \n",
       "  1816.31,967.535 1816.44,961.207 1816.57,955.306 1816.69,960.273 1816.82,937.953 1816.94,928.06 1817.07,932.677 1817.2,931.849 1817.32,933.786 1817.45,922.75 \n",
       "  1817.58,920.664 1817.7,913.111 1817.83,907.289 1817.96,916.912 1818.08,910.51 1818.21,913.42 1818.33,915.468 1818.46,928.463 1818.59,929.662 1818.71,929.461 \n",
       "  1818.84,922.312 1818.97,934.06 1819.09,938.326 1819.22,935.594 1819.35,936.919 1819.47,936.763 1819.6,925.294 1819.72,925.935 1819.85,919.525 1819.98,916.965 \n",
       "  1820.1,922.781 1820.23,920.978 1820.36,916.099 1820.48,913.468 1820.61,914.969 1820.74,925.323 1820.86,921.527 1820.99,924.405 1821.11,924.934 1821.24,927.674 \n",
       "  1821.37,924.552 1821.49,938.521 1821.62,948.193 1821.75,953.852 1821.87,952.247 1822,947.024 1822.13,945.733 1822.25,950.761 1822.38,962.623 1822.5,965.337 \n",
       "  1822.63,975.08 1822.76,967.979 1822.88,962.537 1823.01,952.221 1823.14,954.79 1823.26,952.136 1823.39,955.224 1823.52,960.57 1823.64,965.514 1823.77,966.682 \n",
       "  1823.89,959.837 1824.02,953.427 1824.15,954.678 1824.27,953.835 1824.4,949.383 1824.53,955.896 1824.65,946.916 1824.78,934.008 1824.91,943.696 1825.03,947.747 \n",
       "  1825.16,940.128 1825.28,938.639 1825.41,937.88 1825.54,922.723 1825.66,923.493 1825.79,910.069 1825.92,911.639 1826.04,917.973 1826.17,916.911 1826.3,919.875 \n",
       "  1826.42,922.662 1826.55,922.662 1826.67,914.627 1826.8,903.639 1826.93,903.771 1827.05,893.181 1827.18,860.878 1827.31,860.598 1827.43,880.13 1827.56,872.955 \n",
       "  1827.69,873.467 1827.81,869.828 1827.94,879.26 1828.06,879.627 1828.19,872.377 1828.32,876.742 1828.44,873.264 1828.57,877.138 1828.7,874.644 1828.82,873.284 \n",
       "  1828.95,874.394 1829.08,880.724 1829.2,897.184 1829.33,892.661 1829.45,888.054 1829.58,898.554 1829.71,896.775 1829.83,896.519 1829.96,895.458 1830.09,888.428 \n",
       "  1830.21,893.414 1830.34,898.357 1830.47,907.49 1830.59,904.186 1830.72,899.119 1830.84,896.702 1830.97,898.185 1831.1,891.22 1831.22,885.647 1831.35,889.668 \n",
       "  1831.48,877.343 1831.6,871.776 1831.73,864.314 1831.86,873.453 1831.98,880.068 1832.11,875.741 1832.23,863.098 1832.36,867.085 1832.49,863.538 1832.61,857.398 \n",
       "  1832.74,853.386 1832.87,851.708 1832.99,857.117 1833.12,866.404 1833.25,864.877 1833.37,867.466 1833.5,871.01 1833.62,874.84 1833.75,875.699 1833.88,871.566 \n",
       "  1834,876.699 1834.13,882.421 1834.26,884.279 1834.38,874.064 1834.51,867.307 1834.64,873.369 1834.76,877.933 1834.89,866.226 1835.01,862.647 1835.14,859.218 \n",
       "  1835.27,861.285 1835.39,864.299 1835.52,859.44 1835.65,853.077 1835.77,852.504 1835.9,847.801 1836.03,835.231 1836.15,830.536 1836.28,831.218 1836.4,841.756 \n",
       "  1836.53,827.905 1836.66,821.009 1836.78,811.409 1836.91,812.741 1837.04,809.075 1837.16,810.126 1837.29,800.248 1837.42,805.526 1837.54,808.39 1837.67,808.685 \n",
       "  1837.79,778.003 1837.92,782.362 1838.05,768.876 1838.17,766.987 1838.3,776.601 1838.43,783.344 1838.55,778.019 1838.68,783.835 1838.81,775.844 1838.93,777.684 \n",
       "  1839.06,778.029 1839.18,774.186 1839.31,746.534 1839.44,757.441 1839.56,766.56 1839.69,775.184 1839.82,777.533 1839.94,780.277 1840.07,774.572 1840.2,766.728 \n",
       "  1840.32,761.447 1840.45,766.116 1840.57,776.511 1840.7,774.815 1840.83,780.719 1840.95,781.76 1841.08,779.959 1841.21,782.949 1841.33,784.923 1841.46,783.642 \n",
       "  1841.59,774.756 1841.71,774.358 1841.84,782.048 1841.96,787.849 1842.09,784.12 1842.22,792.082 1842.34,793.616 1842.47,798.017 1842.6,809.548 1842.72,808.03 \n",
       "  1842.85,814.679 1842.98,816.85 1843.1,810.471 1843.23,806.632 1843.35,797.324 1843.48,799.883 1843.61,812.021 1843.73,825.842 1843.86,821.922 1843.99,830.901 \n",
       "  1844.11,823.917 1844.24,825.494 1844.37,818.396 1844.49,819.354 1844.62,819.82 1844.74,808.558 1844.87,807.044 1845,814.167 1845.12,814.475 1845.25,821.695 \n",
       "  1845.38,828.66 1845.5,835.306 1845.63,833.403 1845.76,831.289 1845.88,826.913 1846.01,819.247 1846.13,818.945 1846.26,820.347 1846.39,825.849 1846.51,826.486 \n",
       "  1846.64,824.259 1846.77,814.919 1846.89,807.128 1847.02,811.194 1847.15,788.907 1847.27,785.641 1847.4,794.093 1847.52,803.253 1847.65,804.705 1847.78,805.822 \n",
       "  1847.9,808.994 1848.03,816.341 1848.16,802.989 1848.28,816.671 1848.41,818.924 1848.54,817.594 1848.66,806.751 1848.79,814.623 1848.91,817.618 1849.04,818.328 \n",
       "  1849.17,810.358 1849.29,797.469 1849.42,817.468 1849.55,822.825 1849.67,820.344 1849.8,817.932 1849.93,822.366 1850.05,827.657 1850.18,835.92 1850.3,832.7 \n",
       "  1850.43,825.25 1850.56,819.735 1850.68,820.225 1850.81,816.647 1850.94,822.936 1851.06,813.905 1851.19,814.301 1851.32,811.731 1851.44,812.142 1851.57,819.42 \n",
       "  1851.69,826.498 1851.82,820.152 1851.95,817.502 1852.07,817.734 1852.2,817.125 1852.33,819.342 1852.45,813.556 1852.58,820.07 1852.71,819.851 1852.83,790.989 \n",
       "  1852.96,805.499 1853.08,787.055 1853.21,790.752 1853.34,786.353 1853.46,776.264 1853.59,767.138 1853.72,763.221 1853.84,750.19 1853.97,746.26 1854.1,748.838 \n",
       "  1854.22,757.55 1854.35,767.135 1854.47,765.52 1854.6,764.052 1854.73,772.862 1854.85,775.136 1854.98,787.572 1855.11,786.769 1855.23,790.382 1855.36,787.606 \n",
       "  1855.49,783.965 1855.61,789.461 1855.74,788.192 1855.86,799.583 1855.99,811.293 1856.12,816.784 1856.24,815.488 1856.37,817.732 1856.5,819.453 1856.62,808.638 \n",
       "  1856.75,800.569 1856.88,795.4 1857,807.608 1857.13,799.15 1857.25,789.153 1857.38,784.968 1857.51,788.757 1857.63,786.05 1857.76,786.986 1857.89,789.639 \n",
       "  1858.01,794.761 1858.14,791.697 1858.27,776.44 1858.39,787.488 1858.52,782.537 1858.64,774.426 1858.77,768.983 1858.9,771.17 1859.02,770.123 1859.15,773.495 \n",
       "  1859.28,782.004 1859.4,784.83 1859.53,801.079 1859.66,836.448 1859.78,855.582 1859.91,867.585 1860.03,868.648 1860.16,850.654 1860.29,852.668 1860.41,856.973 \n",
       "  1860.54,845.48 1860.67,836.908 1860.79,742.06 1860.92,723.901 1861.05,659.718 1861.17,678.685 1861.3,693.923 1861.42,682.488 1861.55,684.09 1861.68,696.22 \n",
       "  1861.8,702.567 1861.93,714.316 1862.06,701.157 1862.18,681.061 1862.31,692.285 1862.44,663.568 1862.56,608.506 1862.69,589.536 1862.81,618.29 1862.94,604.556 \n",
       "  1863.07,598.391 1863.19,578.832 1863.32,578.832 1863.45,576.537 1863.57,602.051 1863.7,548.549 1863.83,578.832 1863.95,588.384 1864.08,580.07 1864.2,579.864 \n",
       "  1864.33,571.498 1864.46,551.087 1864.58,561.174 1864.71,553.792 1864.84,574.517 1864.96,586.882 1865.09,586.879 1865.22,580.688 1865.34,563.087 1865.47,560.127 \n",
       "  1865.59,567.077 1865.72,567.434 1865.85,578.83 1865.97,581.883 1866.1,586.274 1866.23,571.913 1866.35,585.274 1866.48,592.175 1866.61,573.675 1866.73,566.858 \n",
       "  1866.86,565.797 1866.98,558.385 1867.11,572.361 1867.24,581.479 1867.36,576.077 1867.49,569.928 1867.62,574.402 1867.74,577.222 1867.87,578.542 1868,585.737 \n",
       "  1868.12,582.556 1868.25,590.79 1868.37,584.074 1868.5,583.751 1868.63,586.881 1868.75,592.157 1868.88,589.138 1869.01,595.121 1869.13,605.814 1869.26,623.092 \n",
       "  1869.39,615.799 1869.51,613.365 1869.64,596.092 1869.76,594.02 1869.89,595.458 1870.02,579.447 1870.14,587.827 1870.27,593.558 1870.4,594.677 1870.52,593.381 \n",
       "  1870.65,582.554 1870.78,584.457 1870.9,577.365 1871.03,578.832 1871.15,581.728 1871.28,580.442 1871.41,581.406 1871.53,579.667 1871.66,578.038 1871.79,587.402 \n",
       "  1871.91,594.434 1872.04,587.707 1872.17,594.775 1872.29,591.498 1872.42,593.819 1872.54,598.031 1872.67,598.628 1872.8,581.406 1872.92,590.043 1873.05,594.806 \n",
       "  1873.18,570.617 1873.3,553.072 1873.43,544.101 1873.56,546.892 1873.68,546.619 1873.81,539.497 1873.93,548.857 1874.06,562.731 1874.19,558.549 1874.31,561.77 \n",
       "  1874.44,566.632 1874.57,566.357 1874.69,565.953 1874.82,561.944 1874.95,565.233 1875.07,560.699 1875.2,549.398 1875.32,557.495 1875.45,559.176 1875.58,564.658 \n",
       "  1875.7,568.366 1875.83,565.354 1875.96,566.875 1876.08,565.117 1876.21,567.927 1876.34,557.469 1876.46,553.676 1876.59,554.792 1876.71,549.452 1876.84,554.413 \n",
       "  1876.97,555.035 1877.09,552.924 1877.22,549.85 1877.35,545.018 1877.47,540.94 1877.6,549.409 1877.73,549.238 1877.85,554.299 1877.98,538.39 1878.1,505.653 \n",
       "  1878.23,507.55 1878.36,514.481 1878.48,518.12 1878.61,514.757 1878.74,518.091 1878.86,529.284 1878.99,532.141 1879.12,536.003 1879.24,538.689 1879.37,566.093 \n",
       "  1879.49,586.629 1879.62,581.915 1879.75,590.837 1879.87,598.243 1880,568.854 1880.13,567.972 1880.25,563.045 1880.38,568.109 1880.51,571.487 1880.63,571.004 \n",
       "  1880.76,567.31 1880.88,564.288 1881.01,566.36 1881.14,562.077 1881.26,566.539 1881.39,564.056 1881.52,560.854 1881.64,582.223 1881.77,573.596 1881.9,579.386 \n",
       "  1882.02,579.461 1882.15,580.759 1882.27,572.316 1882.4,564.51 1882.53,560.949 1882.65,562.733 1882.78,564.542 1882.91,551.681 1883.03,556.458 1883.16,556.852 \n",
       "  1883.29,548.781 1883.41,531.03 1883.54,543.484 1883.66,555.571 1883.79,567.568 1883.92,573.865 1884.04,578.832 1884.17,578.993 1884.3,582.933 1884.42,562.351 \n",
       "  1884.55,565.379 1884.68,563.335 1884.8,560.726 1884.93,560.982 1885.05,561.879 1885.18,570.197 1885.31,566.017 1885.43,570.62 1885.56,568.443 1885.69,571.013 \n",
       "  1885.81,577.484 1885.94,586.288 1886.07,590.713 1886.19,578.637 1886.32,583.752 1886.44,586.799 1886.57,584.032 1886.7,594.931 1886.82,594.933 1886.95,595.614 \n",
       "  1887.08,595.509 1887.2,599.748 1887.33,610.755 1887.46,624.388 1887.58,624.399 1887.71,617.334 1887.83,643.235 1887.96,655.813 1888.09,663.001 1888.21,664.532 \n",
       "  1888.34,651.64 1888.47,658.998 1888.59,650.901 1888.72,647.816 1888.85,649.677 1888.97,643.137 1889.1,616.712 1889.22,617.572 1889.35,616.218 1889.48,619.689 \n",
       "  1889.6,627.941 1889.73,638.391 1889.86,628.31 1889.98,630.356 1890.11,633.581 1890.24,627.138 1890.36,630.991 1890.49,648.265 1890.61,650.04 1890.74,661.531 \n",
       "  1890.87,647.114 1890.99,639.342 1891.12,633.918 1891.25,645.459 1891.37,639.658 1891.5,643.165 1891.63,643.111 1891.75,645.948 1891.88,641.949 1892,645.203 \n",
       "  1892.13,657.298 1892.26,674.848 1892.38,685.098 1892.51,681.211 1892.64,691.527 1892.76,677.257 1892.89,665.379 1893.02,667.925 1893.14,659.159 1893.27,661.14 \n",
       "  1893.39,649.122 1893.52,639.405 1893.65,634.526 1893.77,639.448 1893.9,640.167 1894.03,646.488 1894.15,642.691 1894.28,643.235 1894.41,627.135 1894.53,631.07 \n",
       "  1894.66,625.22 1894.79,616.666 1894.91,622.699 1895.04,625.671 1895.16,626.447 1895.29,628.3 1895.42,627.183 1895.54,629.525 1895.67,623.431 1895.8,623.48 \n",
       "  1895.92,630.355 1896.05,623.658 1896.18,625.368 1896.3,624.397 1896.43,611.317 1896.55,631.685 1896.68,639.748 1896.81,645.639 1896.93,639.838 1897.06,628.266 \n",
       "  1897.19,635.539 1897.31,638.832 1897.44,634.667 1897.57,592.646 1897.69,586.968 1897.82,585.981 1897.94,599.29 1898.07,606.979 1898.2,605.542 1898.32,601.301 \n",
       "  1898.45,594.641 1898.58,604.638 1898.7,609.807 1898.83,611.404 1898.96,606.11 1899.08,609.731 1899.21,613.661 1899.33,615.382 1899.46,608.477 1899.59,611.48 \n",
       "  1899.71,605.828 1899.84,605.984 1899.97,607.524 1900.09,607.536 1900.22,600.545 1900.35,601.784 1900.47,605.307 1900.6,606.07 1900.72,604.849 1900.85,605.131 \n",
       "  1900.98,611.034 1901.1,615.527 1901.23,623.383 1901.36,618.678 1901.48,623.145 1901.61,609.272 1901.74,605.566 1901.86,614.03 1901.99,601.66 1902.11,607.055 \n",
       "  1902.24,600.412 1902.37,600.959 1902.49,604.526 1902.62,604.745 1902.75,603.912 1902.87,603.407 1903,596.855 1903.13,601.22 1903.25,596.823 1903.38,584.514 \n",
       "  1903.5,580.538 1903.63,570.979 1903.76,573.016 1903.88,574.845 1904.01,573.082 1904.14,577.222 1904.26,581.86 1904.39,584.245 1904.52,586.67 1904.64,581.801 \n",
       "  1904.77,582.926 1904.89,580.859 1905.02,577.88 1905.15,581.949 1905.27,575.761 1905.4,581.619 1905.53,577.933 1905.65,580.751 1905.78,580.537 1905.91,583.953 \n",
       "  1906.03,580.653 1906.16,582.113 1906.28,576.428 1906.41,577.383 1906.54,580.606 1906.66,576.397 1906.79,574.555 1906.92,577.276 1907.04,570.459 1907.17,566.935 \n",
       "  1907.3,567.099 1907.42,566.3 1907.55,566.505 1907.67,559.382 1907.8,557.195 1907.93,553.07 1908.05,553.524 1908.18,566.645 1908.31,589.318 1908.43,591.986 \n",
       "  1908.56,590.919 1908.69,611.034 1908.81,608.243 1908.94,604.413 1909.06,605.139 1909.19,598.903 1909.32,593.323 1909.44,599.438 1909.57,595.158 1909.7,602.832 \n",
       "  1909.82,596.366 1909.95,586.61 1910.08,572.519 1910.2,572.697 1910.33,581.049 1910.45,579.692 1910.58,582.475 1910.71,580.893 1910.83,569.582 1910.96,574.945 \n",
       "  1911.09,572.969 1911.21,565.196 1911.34,561.725 1911.47,553.663 1911.59,545.091 1911.72,532.131 1911.84,531.416 1911.97,524.089 1912.1,523.577 1912.22,530.529 \n",
       "  1912.35,530.532 1912.48,536.942 1912.6,550.427 1912.73,533.149 1912.86,526.576 1912.98,531.089 1913.11,533.728 1913.23,532.099 1913.36,539.383 1913.49,540.882 \n",
       "  1913.61,547.941 1913.74,536.047 1913.87,539.339 1913.99,540.855 1914.12,540.679 1914.25,539.187 1914.37,536.871 1914.5,540.478 1914.62,547.287 1914.75,556.344 \n",
       "  1914.88,550.914 1915,546.63 1915.13,546.756 1915.26,540.186 1915.38,536.24 1915.51,518.716 1915.64,518.806 1915.76,504.475 1915.89,504.492 1916.01,498.321 \n",
       "  1916.14,503.121 1916.27,503.996 1916.39,509.893 1916.52,506.378 1916.65,496.179 1916.77,457.119 1916.9,455.288 1917.03,450.026 1917.15,455.531 1917.28,455.383 \n",
       "  1917.4,462.108 1917.53,465.85 1917.66,473.094 1917.78,483.044 1917.91,478.237 1918.04,472.728 1918.16,467.074 1918.29,458.27 1918.42,463.984 1918.54,461.071 \n",
       "  1918.67,464.433 1918.79,461.844 1918.92,470.75 1919.05,465.319 1919.17,465.196 1919.3,463.081 1919.43,459.534 1919.55,453.459 1919.68,463.614 1919.81,469.185 \n",
       "  1919.93,468.463 1920.06,473.506 1920.18,463.763 1920.31,453.237 1920.44,461.149 1920.56,468.603 1920.69,466.229 1920.82,459.617 1920.94,460.548 1921.07,466.362 \n",
       "  1921.2,479.364 1921.32,478.546 1921.45,484.511 1921.57,483.091 1921.7,480.309 1921.83,466.903 1921.95,470.563 1922.08,461.295 1922.21,459.617 1922.33,453.803 \n",
       "  1922.46,455.19 1922.59,456.789 1922.71,446.481 1922.84,425.381 1922.96,439.074 1923.09,442.639 1923.22,454.671 1923.34,448.683 1923.47,443.911 1923.6,445.109 \n",
       "  1923.72,446.349 1923.85,449.93 1923.98,445.932 1924.1,446.804 1924.23,435.355 1924.35,446.381 1924.48,437.052 1924.61,424.757 1924.73,429.417 1924.86,414.416 \n",
       "  1924.99,410.478 1925.11,419.193 1925.24,417.559 1925.37,419.937 1925.49,413.445 1925.62,403.335 1925.74,410.98 1925.87,407.272 1926,400.677 1926.12,400.113 \n",
       "  1926.25,399.642 1926.38,410.075 1926.5,420.647 1926.63,411.568 1926.76,420.433 1926.88,430.393 1927.01,424.392 1927.13,417.823 1927.26,412.724 1927.39,412.67 \n",
       "  1927.51,422.442 1927.64,428.746 1927.77,425.872 1927.89,431.492 1928.02,425.067 1928.15,433.371 1928.27,438.923 1928.4,437.422 1928.52,433.041 1928.65,419.747 \n",
       "  1928.78,424.133 1928.9,433.908 1929.03,387.162 1929.16,406.831 1929.28,421.524 1929.41,426.445 1929.54,431.655 1929.66,440.19 1929.79,441.564 1929.91,436.276 \n",
       "  1930.04,451.913 1930.17,460.999 1930.29,464.461 1930.42,468.436 1930.55,466.124 1930.67,473.667 1930.8,465.865 1930.93,466.848 1931.05,471.566 1931.18,481.51 \n",
       "  1931.3,489.58 1931.43,490.753 1931.56,495.312 1931.68,485.601 1931.81,478.974 1931.94,469.755 1932.06,457.301 1932.19,456.547 1932.32,451.751 1932.44,456.539 \n",
       "  1932.57,455.595 1932.69,460.709 1932.82,463.619 1932.95,468.686 1933.07,467.317 1933.2,469.344 1933.33,464.865 1933.45,460.088 1933.58,462.406 1933.71,474.524 \n",
       "  1933.83,473.071 1933.96,476.589 1934.08,474.058 1934.21,482.226 1934.34,477.285 1934.46,482.761 1934.59,479.512 1934.72,474.529 1934.84,466.824 1934.97,475.868 \n",
       "  1935.1,463.602 1935.22,464.543 1935.35,470.962 1935.47,459.136 1935.6,462.912 1935.73,459.688 1935.85,471.423 1935.98,470.141 1936.11,488.549 1936.23,490.547 \n",
       "  1936.36,481.057 1936.49,475.271 1936.61,472.168 1936.74,467.404 1936.86,471.75 1936.99,461.294 1937.12,458.397 1937.24,451.876 1937.37,449.303 1937.5,446.822 \n",
       "  1937.62,443.352 1937.75,446.709 1937.88,447.82 1938,437.332 1938.13,439.751 1938.25,445.288 1938.38,442.443 1938.51,443.191 1938.63,440.823 1938.76,447.503 \n",
       "  1938.89,450.785 1939.01,452.849 1939.14,454.889 1939.27,457.962 1939.39,452.05 1939.52,457.236 1939.64,459.648 1939.77,455.566 1939.9,450.025 1940.02,450.028 \n",
       "  1940.15,455.286 1940.28,460.431 1940.4,459.606 1940.53,454.48 1940.66,458.888 1940.78,463.203 1940.91,463.21 1941.03,466.177 1941.16,466.821 1941.29,467.275 \n",
       "  1941.41,470.631 1941.54,474.176 1941.67,475.733 1941.79,474.464 1941.92,472.566 1942.05,466.127 1942.17,459.685 1942.3,467.054 1942.42,461.35 1942.55,459.679 \n",
       "  1942.68,457.961 1942.8,470.901 1942.93,487.453 1943.06,491.103 1943.18,502.315 1943.31,492.945 1943.44,491.713 1943.56,488.667 1943.69,493.194 1943.81,502.158 \n",
       "  1943.94,500.979 1944.07,514.428 1944.19,515.085 1944.32,514.43 1944.45,514.911 1944.57,510.363 1944.7,505.489 1944.83,492.853 1944.95,495.289 1945.08,498.327 \n",
       "  1945.2,490.766 1945.33,494.6 1945.46,499.937 1945.58,503.133 1945.71,502.061 1945.84,507.648 1945.96,504.267 1946.09,503.979 1946.22,501.744 1946.34,491.533 \n",
       "  1946.47,494.701 1946.59,489.812 1946.72,487.38 1946.85,482.012 1946.97,474.983 1947.1,485.231 1947.23,487.945 1947.35,487.081 1947.48,491.586 1947.61,496.258 \n",
       "  1947.73,489.37 1947.86,491.578 1947.98,499.287 1948.11,501.995 1948.24,501.285 1948.36,495.139 1948.49,498.326 1948.62,495.21 1948.74,481.56 1948.87,485.48 \n",
       "  1949,490.583 1949.12,493.927 1949.25,492.499 1949.37,488.292 1949.5,493.495 1949.63,495.146 1949.75,485.068 1949.88,478.349 1950.01,476.103 1950.13,474.978 \n",
       "  1950.26,474.248 1950.39,469.433 1950.51,469.173 1950.64,474.054 1950.76,475.026 1950.89,474.165 1951.02,469.85 1951.14,474.823 1951.27,469.83 1951.4,463.831 \n",
       "  1951.52,456.468 1951.65,457.27 1951.78,438.078 1951.9,437.482 1952.03,433.924 1952.15,433.309 1952.28,436.825 1952.41,436.017 1952.53,436.685 1952.66,421.639 \n",
       "  1952.79,423.712 1952.91,427.483 1953.04,427.759 1953.17,426.3 1953.29,419.871 1953.42,418.05 1953.54,416.987 1953.67,428.905 1953.8,434.783 1953.92,434.986 \n",
       "  1954.05,439.923 1954.18,436.448 1954.3,440.237 1954.43,434.561 1954.56,433.236 1954.68,440.309 1954.81,440.451 1954.93,444.254 1955.06,442.496 1955.19,445.194 \n",
       "  1955.31,450.482 1955.44,450.814 1955.57,446.803 1955.69,437.269 1955.82,444.758 1955.95,451.635 1956.07,451.412 1956.2,452.266 1956.32,454.958 1956.45,455.868 \n",
       "  1956.58,459.564 1956.7,465.1 1956.83,471.445 1956.96,479.645 1957.08,479.339 1957.21,472.445 1957.34,484.943 1957.46,475.177 1957.59,478.884 1957.71,481.423 \n",
       "  1957.84,476.103 1957.97,473.709 1958.09,479.802 1958.22,482.225 1958.35,488.736 1958.47,485.49 1958.6,485.292 1958.73,483.836 1958.85,484.749 1958.98,488.717 \n",
       "  1959.1,488.124 1959.23,484.751 1959.36,481.801 1959.48,474.284 1959.61,478.264 1959.74,471.893 1959.86,471.402 1959.99,462.115 1960.12,462.765 1960.24,467.89 \n",
       "  1960.37,468.945 1960.49,457.426 1960.62,450.68 1960.75,447.611 1960.87,447.92 1961,453.596 1961.13,461.191 1961.25,463.126 1961.38,471.973 1961.51,466.654 \n",
       "  1961.63,480.779 1961.76,483.82 1961.88,481.474 1962.01,479.6 1962.14,481.04 1962.26,487.467 1962.39,484.627 1962.52,495.22 1962.64,498.179 1962.77,501.446 \n",
       "  1962.9,495.284 1963.02,489.324 1963.15,502.233 1963.27,506.352 1963.4,506.474 1963.53,507.36 1963.65,512.815 1963.78,514.264 1963.91,524.876 1964.03,529.85 \n",
       "  1964.16,524.647 1964.29,520.812 1964.41,518.754 1964.54,521.67 1964.66,529.904 1964.79,518.775 1964.92,511.113 1965.04,513.361 1965.17,520.218 1965.3,517.186 \n",
       "  1965.42,512.744 1965.55,511.182 1965.68,516.731 1965.8,524.589 1965.93,527.893 1966.05,518.188 1966.18,514.427 1966.31,517.753 1966.43,515.17 1966.56,514.911 \n",
       "  1966.69,526.971 1966.81,514.911 1966.94,511.087 1967.07,512.129 1967.19,503.676 1967.32,496.865 1967.44,502.681 1967.57,498.326 1967.7,507.93 1967.82,511.572 \n",
       "  1967.95,500.67 1968.08,500.622 1968.2,498.612 1968.33,499.85 1968.46,504.011 1968.58,494.442 1968.71,500.754 1968.83,503.497 1968.96,510.392 1969.09,520.981 \n",
       "  1969.21,520.245 1969.34,541.917 1969.47,540.188 1969.59,542.11 1969.72,537.385 1969.85,532.719 1969.97,535.997 1970.1,546.646 1970.22,547.235 1970.35,543.13 \n",
       "  1970.48,539.678 1970.6,547.87 1970.73,552.372 1970.86,544.345 1970.98,545.931 1971.11,539.386 1971.24,540.631 1971.36,538.156 1971.49,533.751 1971.61,538.58 \n",
       "  1971.74,533.582 1971.87,528.431 1971.99,526.296 1972.12,529.085 1972.25,534.393 1972.37,530.194 1972.5,527.401 1972.63,527.319 1972.75,529.92 1972.88,528.658 \n",
       "  1973,526.663 1973.13,531.626 1973.26,531.334 1973.38,540.161 1973.51,540.244 1973.64,531.582 1973.76,516.636 1973.89,517.974 1974.02,508.311 1974.14,509.989 \n",
       "  1974.27,521.79 1974.39,518.763 1974.52,534.173 1974.65,539.473 1974.77,534.867 1974.9,523.577 1975.03,527.671 1975.15,537.924 1975.28,539.89 1975.41,545.099 \n",
       "  1975.53,544.683 1975.66,541.645 1975.78,537.882 1975.91,548.132 1976.04,543.804 1976.16,537.291 1976.29,530.231 1976.42,530.218 1976.54,527.088 1976.67,534.158 \n",
       "  1976.8,534.033 1976.92,526.018 1977.05,529.022 1977.17,524.308 1977.3,524.089 1977.43,527.94 1977.55,526.53 1977.68,528.537 1977.81,521.244 1977.93,516.462 \n",
       "  1978.06,514.805 1978.19,490.873 1978.31,497.556 1978.44,489.06 1978.56,489.631 1978.69,498.271 1978.82,500.533 1978.94,503.729 1979.07,514.08 1979.2,515.979 \n",
       "  1979.32,511.826 1979.45,527.531 1979.58,523.902 1979.7,531.613 1979.83,527.927 1979.95,540.31 1980.08,536.44 1980.21,526.351 1980.33,516.051 1980.46,509.154 \n",
       "  1980.59,510.681 1980.71,510.884 1980.84,517.56 1980.97,524.148 1981.09,524.826 1981.22,533.501 1981.34,530.418 1981.47,532.139 1981.6,526.655 1981.72,520.706 \n",
       "  1981.85,534.256 1981.98,537.961 1982.1,536.003 1982.23,538.848 1982.36,534.923 1982.48,525.887 1982.61,515.776 1982.73,511.916 1982.86,519.157 1982.99,515.909 \n",
       "  1983.11,514.18 1983.24,508.216 1983.37,508.12 1983.49,512.353 1983.62,502.451 1983.75,497.867 1983.87,502.889 1984,502.41 1984.12,498.327 1984.25,498.19 \n",
       "  1984.38,506.759 1984.5,508.123 1984.63,505.761 1984.76,506.985 1984.88,508.226 1985.01,513.332 1985.14,517.685 1985.26,514.708 1985.39,512.066 1985.51,503.476 \n",
       "  1985.64,513.238 1985.77,515.468 1985.89,514.976 1986.02,522.477 1986.15,522.886 1986.27,516.752 1986.4,516.38 1986.53,515.14 1986.65,510.516 1986.78,511.802 \n",
       "  1986.9,511.45 1987.03,516.644 1987.16,519.766 1987.28,518.069 1987.41,515.148 1987.54,509.955 1987.66,504.148 1987.79,504.834 1987.92,495.373 1988.04,489.642 \n",
       "  1988.17,499.367 1988.29,500.43 1988.42,500.306 1988.55,507.664 1988.67,505.937 1988.8,501.56 1988.93,502.884 1989.05,501.543 1989.18,492.359 1989.31,488.322 \n",
       "  1989.43,498.329 1989.56,499.562 1989.68,510.366 1989.81,508.587 1989.94,516.217 1990.06,514.406 1990.19,525.143 1990.32,524.005 1990.44,518.26 1990.57,525.51 \n",
       "  1990.7,520.785 1990.82,518.877 1990.95,515.462 1991.07,514.238 1991.2,513.114 1991.33,521.266 1991.45,519.672 1991.58,510.408 1991.71,508.017 1991.83,500.453 \n",
       "  1991.96,495.7 1992.09,501.246 1992.21,506.907 1992.34,504.608 1992.46,495.514 1992.59,496.603 1992.72,501.546 1992.84,498.329 1992.97,505.41 1993.1,509.577 \n",
       "  1993.22,512.118 1993.35,504.418 1993.48,521.97 1993.6,525.118 1993.73,525.787 1993.85,541.37 1993.98,541.801 1994.11,550.117 1994.23,569.171 1994.36,562.731 \n",
       "  1994.49,562.733 1994.61,561.385 1994.74,562.177 1994.87,560.709 1994.99,568.183 1995.12,574.272 1995.24,582.95 1995.37,586.892 1995.5,575.773 1995.62,573.913 \n",
       "  1995.75,579.761 1995.88,569.03 1996,557.48 1996.13,563.153 1996.26,568.848 1996.38,565.37 1996.51,582.809 1996.63,576.713 1996.76,580.078 1996.89,577.405 \n",
       "  1997.01,582.371 1997.14,568.595 1997.27,573.757 1997.39,589.616 1997.52,579.642 1997.65,583.263 1997.77,590.302 1997.9,586.884 1998.02,585.354 1998.15,586.024 \n",
       "  1998.28,582.194 1998.4,591.115 1998.53,602.66 1998.66,596.573 1998.78,594.931 1998.91,587.584 1999.04,572.206 1999.16,578.001 1999.29,580.186 1999.41,581.926 \n",
       "  1999.54,580.273 1999.67,578.882 1999.79,576.882 1999.92,585.271 2000.05,588.677 2000.17,579.223 2000.3,580.931 2000.43,581.07 2000.55,576.412 2000.68,575.987 \n",
       "  2000.8,529.824 2000.93,489.407 2001.06,502.283 2001.18,498.632 2001.31,485.678 2001.44,457.47 2001.56,454.947 2001.69,456.008 2001.82,466.365 2001.94,471.936 \n",
       "  2002.07,484.914 2002.19,477.079 2002.32,482.463 2002.45,472.962 2002.57,456.88 2002.7,454.119 2002.83,441.271 2002.95,441.961 2003.08,434.597 2003.21,435.843 \n",
       "  2003.33,435.218 2003.46,437.823 2003.59,424.287 2003.71,412.186 2003.84,419.433 2003.96,424.944 2004.09,405.755 2004.22,414.282 2004.34,414.263 2004.47,413.324 \n",
       "  2004.6,423.461 2004.72,372.257 2004.85,340.07 2004.98,286.93 2005.1,273.65 2005.23,288.141 2005.35,297.066 2005.48,282.559 2005.61,265.706 2005.73,285.018 \n",
       "  2005.86,299.578 2005.99,295.512 2006.11,296.362 2006.24,294.784 2006.37,298.943 2006.49,285.114 2006.62,300.988 2006.74,288.186 2006.87,290.279 2007,282.942 \n",
       "  2007.12,272.113 2007.25,275.948 2007.38,277.634 2007.5,282.601 2007.63,288.344 2007.76,288.906 2007.88,296.953 2008.01,300.043 2008.13,303.873 2008.26,295.9 \n",
       "  2008.39,313.167 2008.51,300.768 2008.64,305.116 2008.77,287.484 2008.89,288.761 2009.02,301.553 2009.15,298.285 2009.27,299.595 2009.4,299.884 2009.52,291.606 \n",
       "  2009.65,283.593 2009.78,280.965 2009.9,288.985 2010.03,291.667 2010.16,303.345 2010.28,306.57 2010.41,332.118 2010.54,347.257 2010.66,337.437 2010.79,332.454 \n",
       "  2010.91,328.421 2011.04,332.767 2011.17,331.58 2011.29,330.87 2011.42,333.126 2011.55,338.866 2011.67,332.04 2011.8,342.538 2011.93,343.158 2012.05,347.091 \n",
       "  2012.18,332.968 2012.3,333.153 2012.43,337.824 2012.56,345.143 2012.68,342.005 2012.81,332.143 2012.94,329.59 2013.06,325.856 2013.19,316.748 2013.32,308.831 \n",
       "  2013.44,292.909 2013.57,311.095 2013.69,311.288 2013.82,317.234 2013.95,318.702 2014.07,318.76 2014.2,327.221 2014.33,327.701 2014.45,328.263 2014.58,325.872 \n",
       "  2014.71,334.095 2014.83,340.353 2014.96,333.201 2015.08,335.562 2015.21,326.853 2015.34,336.254 2015.46,336.254 2015.59,338.932 2015.72,338.93 2015.84,340.74 \n",
       "  2015.97,348.323 2016.1,361.004 2016.22,359.312 2016.35,353.419 2016.47,351.551 2016.6,357.195 2016.73,362.291 2016.85,360.417 2016.98,361.631 2017.11,358.143 \n",
       "  2017.23,353.669 2017.36,350.345 2017.49,356.232 2017.61,350.725 2017.74,348.116 2017.86,351.588 2017.99,351.598 2018.12,354.527 2018.24,352.46 2018.37,353.257 \n",
       "  2018.5,356.99 2018.62,357.86 2018.75,366.725 2018.88,362.416 2019,351.036 2019.13,335.661 2019.25,335.454 2019.38,332.709 2019.51,341.345 2019.63,350.434 \n",
       "  2019.76,358.663 2019.89,346.333 2020.01,346.333 2020.14,364.152 2020.27,370.087 2020.39,369.673 2020.52,377.583 2020.64,384.56 2020.77,379.981 2020.9,372.729 \n",
       "  2021.02,376.34 2021.15,376.072 2021.28,372.639 2021.4,372.764 2021.53,369.335 2021.66,375.444 2021.78,380.826 2021.91,376.719 2022.03,390.614 2022.16,390.952 \n",
       "  2022.29,397.099 2022.41,392.839 2022.54,387.453 2022.67,391.443 2022.79,391.855 2022.92,405.935 2023.05,404.942 2023.17,411.45 2023.3,413.413 2023.42,412.777 \n",
       "  2023.55,394.856 2023.68,389.067 2023.8,398.811 2023.93,396.31 2024.06,384.236 2024.18,374.714 2024.31,381.393 2024.44,383.27 2024.56,390.595 2024.69,392.504 \n",
       "  2024.81,377.559 2024.94,383.903 2025.07,380.984 2025.19,374.35 2025.32,379.306 2025.45,361.12 2025.57,352.065 2025.7,327.189 2025.83,335.599 2025.95,338.099 \n",
       "  2026.08,342.656 2026.2,348.497 2026.33,339.925 2026.46,345.369 2026.58,351.287 2026.71,358.518 2026.84,359.034 2026.96,363.403 2027.09,355.029 2027.22,357.943 \n",
       "  2027.34,369.684 2027.47,382.401 2027.59,374.54 2027.72,371.518 2027.85,374.176 2027.97,370.346 2028.1,366.276 2028.23,363.469 2028.35,359.079 2028.48,359.856 \n",
       "  2028.61,367.96 2028.73,362.325 2028.86,369.348 2028.98,372.737 2029.11,361.566 2029.24,379.139 2029.36,394.766 2029.49,401.389 2029.62,397.656 2029.74,392.451 \n",
       "  2029.87,399.629 2030,394.045 2030.12,392.248 2030.25,387.376 2030.37,395.283 2030.5,392.419 2030.63,397.127 2030.75,396.592 2030.88,398.703 2031.01,390.187 \n",
       "  2031.13,383.359 2031.26,383.707 2031.39,403.751 2031.51,397.548 2031.64,390.604 2031.76,393.204 2031.89,380.638 2032.02,378.054 2032.14,374.181 2032.27,375.622 \n",
       "  2032.4,370.064 2032.52,365.009 2032.65,359.876 2032.78,356.618 2032.9,366.285 2033.03,356.38 2033.15,347.228 2033.28,337.838 2033.41,344.638 2033.53,347.024 \n",
       "  2033.66,346.145 2033.79,344.168 2033.91,349.539 2034.04,350.257 2034.17,351.196 2034.29,350.705 2034.42,348.111 2034.54,351.617 2034.67,352.464 2034.8,343.791 \n",
       "  2034.92,322.929 2035.05,299.61 2035.18,308.163 2035.3,302.218 2035.43,316.714 2035.56,319.607 2035.68,318.886 2035.81,324.505 2035.93,374.189 2036.06,464.515 \n",
       "  2036.19,434.99 2036.31,433.687 2036.44,411.899 2036.57,424.732 2036.69,407.298 2036.82,389.53 2036.95,392.061 2037.07,417.715 2037.2,421.516 2037.32,410.442 \n",
       "  2037.45,425.471 2037.58,432.322 2037.7,431.175 2037.83,419.385 2037.96,422.236 2038.08,435.324 2038.21,441.971 2038.34,448.685 2038.46,429.839 2038.59,431.183 \n",
       "  2038.71,452.895 2038.84,453.533 2038.97,458.075 2039.09,451.301 2039.22,447.869 2039.35,436.852 2039.47,449.506 2039.6,439.126 2039.73,446.104 2039.85,443.299 \n",
       "  2039.98,430.505 2040.1,430.341 2040.23,439.073 2040.36,439.208 2040.48,443.76 2040.61,455.887 2040.74,453.515 2040.86,453.403 2040.99,487.358 2041.12,494.141 \n",
       "  2041.24,497.608 2041.37,486.749 2041.49,480.616 2041.62,465.799 2041.75,449.335 2041.87,456.991 2042,483.809 2042.13,488.556 2042.25,485.643 2042.38,480.864 \n",
       "  2042.51,496.545 2042.63,478.951 2042.76,480.249 2042.88,474.883 2043.01,484.057 2043.14,469.447 2043.26,467.195 2043.39,476.308 2043.52,465.588 2043.64,457.386 \n",
       "  2043.77,446.898 2043.9,449.495 2044.02,455.541 2044.15,465.367 2044.27,473.123 2044.4,466.716 2044.53,464.66 2044.65,464.514 2044.78,468.979 2044.91,469.078 \n",
       "  2045.03,465.074 2045.16,464.193 2045.29,468.914 2045.41,475.4 2045.54,478.723 2045.66,466.61 2045.79,466.613 2045.92,466.117 2046.04,471.236 2046.17,476.892 \n",
       "  2046.3,478.233 2046.42,487.67 2046.55,495.434 2046.68,497.899 2046.8,500.435 2046.93,500.586 2047.05,486.797 2047.18,485.445 2047.31,492.681 2047.43,500.065 \n",
       "  2047.56,504.465 2047.69,500.259 2047.81,499.596 2047.94,506.885 2048.07,504.504 2048.19,522.479 2048.32,528.116 2048.44,526.088 2048.57,524.894 2048.7,525.601 \n",
       "  2048.82,514.264 2048.95,516.136 2049.08,530.529 2049.2,523.018 2049.33,515.022 2049.46,502.865 2049.58,501.554 2049.71,500.155 2049.83,500.602 2049.96,498.851 \n",
       "  2050.09,492.117 2050.21,481.201 2050.34,478.931 2050.47,485.975 2050.59,502.652 2050.72,511.327 2050.85,522.427 2050.97,527.301 2051.1,528.446 2051.22,520.374 \n",
       "  2051.35,524.602 2051.48,513.018 2051.6,500.891 2051.73,505.392 2051.86,509.925 2051.98,528.112 2052.11,518.946 2052.24,524.251 2052.36,522.904 2052.49,522.506 \n",
       "  2052.61,512.037 2052.74,507.642 2052.87,511.47 2052.99,518.347 2053.12,523.324 2053.25,508.988 2053.37,512.367 2053.5,519.584 2053.63,517.529 2053.75,525.042 \n",
       "  2053.88,532.102 2054,514.105 2054.13,509.05 2054.26,508.87 2054.38,513.992 2054.51,508.134 2054.64,498.934 2054.76,503.04 2054.89,509.403 2055.02,512.013 \n",
       "  2055.14,501.547 2055.27,497.403 2055.39,501.06 2055.52,479.375 2055.65,493.837 2055.77,488.667 2055.9,494.495 2056.03,502.362 2056.15,506.077 2056.28,507.859 \n",
       "  2056.41,512.416 2056.53,506.758 2056.66,506.217 2056.78,510.556 2056.91,511.86 2057.04,516.425 2057.16,514.673 2057.29,507.991 2057.42,514.56 2057.54,514.101 \n",
       "  2057.67,515.979 2057.8,511.694 2057.92,502.182 2058.05,498.67 2058.17,500.506 2058.3,505.761 2058.43,512.731 2058.55,517.056 2058.68,522.992 2058.81,530.471 \n",
       "  2058.93,542.896 2059.06,551.098 2059.19,547.833 2059.31,548.528 2059.44,551.802 2059.56,538.903 2059.69,538.995 2059.82,530.534 2059.94,526.039 2060.07,537.332 \n",
       "  2060.2,545.756 2060.32,534.128 2060.45,532.205 2060.58,532.245 2060.7,534.765 2060.83,534.445 2060.95,537.528 2061.08,541.569 2061.21,542.986 2061.33,586.324 \n",
       "  2061.46,611.996 2061.59,610.995 2061.71,595.34 2061.84,588.639 2061.97,593.315 2062.09,580.099 2062.22,568.724 2062.34,575.909 2062.47,561.05 2062.6,539.488 \n",
       "  2062.72,535.359 2062.85,545.134 2062.98,545.83 2063.1,580.27 2063.23,592.254 2063.36,583.844 2063.48,559.316 2063.61,564.888 2063.73,571.041 2063.86,567.426 \n",
       "  2063.99,562.987 2064.11,564.718 2064.24,563.393 2064.37,562.731 2064.49,562.491 2064.62,576.595 2064.75,568.474 2064.87,558.334 2065,563.637 2065.12,572.037 \n",
       "  2065.25,572.435 2065.38,567.362 2065.5,553.623 2065.63,548.073 2065.76,553.529 2065.88,558.277 2066.01,550.555 2066.14,549.708 2066.26,541.829 2066.39,539.111 \n",
       "  2066.51,534.475 2066.64,538.304 2066.77,534.553 2066.89,531.239 2067.02,539.647 2067.15,524.04 2067.27,531.555 2067.4,539.048 2067.53,533.749 2067.65,547.884 \n",
       "  2067.78,540.077 2067.9,536.837 2068.03,537.567 2068.16,533.773 2068.28,536.607 2068.41,542.455 2068.54,533.793 2068.66,525.127 2068.79,517.745 2068.92,523.97 \n",
       "  2069.04,531.326 2069.17,533.067 2069.29,532.15 2069.42,532.036 2069.55,534.419 2069.67,551.433 2069.8,553.183 2069.93,551.169 2070.05,549.808 2070.18,557.01 \n",
       "  2070.31,546.635 2070.43,539.721 2070.56,540.492 2070.68,542.262 2070.81,534.232 2070.94,546.628 2071.06,547.034 2071.19,543.223 2071.32,539.824 2071.44,537.915 \n",
       "  2071.57,551.877 2071.7,545.022 2071.82,544.576 2071.95,548.889 2072.07,548.395 2072.2,553.661 2072.33,541.086 2072.45,533.073 2072.58,528.726 2072.71,521.823 \n",
       "  2072.83,513.892 2072.96,515.893 2073.09,530.944 2073.21,530.289 2073.34,530.951 2073.46,535.601 2073.59,541.291 2073.72,544.624 2073.84,546.63 2073.97,540.578 \n",
       "  2074.1,545.654 2074.22,560.222 2074.35,559.644 2074.48,554.664 2074.6,547.524 2074.73,555.324 2074.85,558.706 2074.98,562.166 2075.11,558.947 2075.23,561.973 \n",
       "  2075.36,564.784 2075.49,570.78 2075.61,569.461 2075.74,562.272 2075.87,563.795 2075.99,566.561 2076.12,568.337 2076.24,569.284 2076.37,572.313 2076.5,564.206 \n",
       "  2076.62,574.401 2076.75,572.665 2076.88,557.934 2077,553.912 2077.13,554.576 2077.26,548.425 2077.38,550.65 2077.51,546.949 2077.63,544.002 2077.76,540.19 \n",
       "  2077.89,535.858 2078.01,541.787 2078.14,540.328 2078.27,538.718 2078.39,541.399 2078.52,549.882 2078.65,548.181 2078.77,518.07 2078.9,527.958 2079.02,527.608 \n",
       "  2079.15,519.331 2079.28,530.251 2079.4,525.836 2079.53,528.496 2079.66,521.519 2079.78,528.079 2079.91,527.307 2080.04,531.196 2080.16,535.778 2080.29,534.54 \n",
       "  2080.41,542.967 2080.54,537.916 2080.67,561.596 2080.79,572.383 2080.92,586.531 2081.05,577.607 2081.17,584.201 2081.3,581.492 2081.43,593.63 2081.55,594.511 \n",
       "  2081.68,619.475 2081.8,607.353 2081.93,610.375 2082.06,614.252 2082.18,614.165 2082.31,619.242 2082.44,641.036 2082.56,649.821 2082.69,649.739 2082.82,646.789 \n",
       "  2082.94,654.213 2083.07,641.711 2083.19,642.883 2083.32,628.352 2083.45,627.465 2083.57,649.054 2083.7,641.767 2083.83,637.199 2083.95,643.037 2084.08,640.318 \n",
       "  2084.21,661.656 2084.33,649.634 2084.46,656.16 2084.58,672.335 2084.71,666.868 2084.84,656.448 2084.96,656.116 2085.09,641.165 2085.22,646.38 2085.34,653.944 \n",
       "  2085.47,643.309 2085.6,640.015 2085.72,641.141 2085.85,640.123 2085.97,630.355 2086.1,619.728 2086.23,618.495 2086.35,603.345 2086.48,596.543 2086.61,597.23 \n",
       "  2086.73,601.175 2086.86,598.475 2086.99,595.483 2087.11,582.651 2087.24,586.924 2087.36,585.51 2087.49,585.696 2087.62,585.093 2087.74,579.997 2087.87,566.603 \n",
       "  2088,572.599 2088.12,579.265 2088.25,582.31 2088.38,580.988 2088.5,584.775 2088.63,583.366 2088.75,584.792 2088.88,591.207 2089.01,593.079 2089.13,592.257 \n",
       "  2089.26,601.218 2089.39,612.465 2089.51,617.334 2089.64,608.966 2089.77,612.26 2089.89,595.899 2090.02,597.842 2090.14,582.107 2090.27,576.269 2090.4,578.697 \n",
       "  2090.52,586.922 2090.65,573.952 2090.78,568.365 2090.9,573.51 2091.03,566.442 2091.16,542.756 2091.28,549.876 2091.41,536.214 2091.53,540.935 2091.66,542.381 \n",
       "  2091.79,545.385 2091.91,549.993 2092.04,551.373 2092.17,551.124 2092.29,539.059 2092.42,549.673 2092.55,552.655 2092.67,552.816 2092.8,542.004 2092.92,527.301 \n",
       "  2093.05,535.524 2093.18,543.935 2093.3,537.863 2093.43,539.794 2093.56,535.522 2093.68,543.55 2093.81,540.98 2093.94,548.335 2094.06,542.378 2094.19,546.519 \n",
       "  2094.31,545.263 2094.44,546.556 2094.57,541.172 2094.69,534.213 2094.82,541.169 2094.95,545.221 2095.07,544.984 2095.2,544.986 2095.33,548.04 2095.45,531.213 \n",
       "  2095.58,541.74 2095.7,546.306 2095.83,538.2 2095.96,543.651 2096.08,538.976 2096.21,536.816 2096.34,540.03 2096.46,543.2 2096.59,537.359 2096.72,533.562 \n",
       "  2096.84,539.48 2096.97,532.435 2097.09,516.04 2097.22,505.18 2097.35,502.824 2097.47,485.076 2097.6,480.876 2097.73,482.036 2097.85,495.519 2097.98,490.275 \n",
       "  2098.11,504.067 2098.23,512.522 2098.36,512.945 2098.48,508.128 2098.61,501.203 2098.74,511.247 2098.86,516.222 2098.99,522.442 2099.12,519.007 2099.24,515.974 \n",
       "  2099.37,524.482 2099.5,533.445 2099.62,521.674 2099.75,525.522 2099.87,529.737 2100,528.938 2100.13,532.725 2100.25,536.986 2100.38,548.031 2100.51,545.06 \n",
       "  2100.63,539.393 2100.76,542.357 2100.89,530.531 2101.01,530.962 2101.14,535.78 2101.26,527.311 2101.39,520.87 2101.52,518.877 2101.64,519.233 2101.77,523.314 \n",
       "  2101.9,517.65 2102.02,510.785 2102.15,507.798 2102.28,512.726 2102.4,506.655 2102.53,505.792 2102.65,512.973 2102.78,506.779 2102.91,503.038 2103.03,510.115 \n",
       "  2103.16,496.236 2103.29,502.646 2103.41,511.395 2103.54,518.131 2103.67,517.518 2103.79,506.151 2103.92,495.69 2104.04,502.095 2104.17,501.642 2104.3,506.313 \n",
       "  2104.42,514.811 2104.55,514.676 2104.68,505.869 2104.8,507.178 2104.93,507.028 2105.06,518.713 2105.18,520.588 2105.31,520.21 2105.43,514.683 2105.56,514.958 \n",
       "  2105.69,515.56 2105.81,520.918 2105.94,525.591 2106.07,523.111 2106.19,519.271 2106.32,510.698 2106.45,507.323 2106.57,509.83 2106.7,512.831 2106.82,518.476 \n",
       "  2106.95,514.428 2107.08,507.758 2107.2,511.02 2107.33,508.955 2107.46,514.103 2107.58,507.389 2107.71,507.701 2107.84,498.324 2107.96,494.973 2108.09,497.445 \n",
       "  2108.21,489.271 2108.34,494.107 2108.47,499.905 2108.59,499.644 2108.72,501.274 2108.85,505.817 2108.97,507.094 2109.1,509.931 2109.23,514.233 2109.35,510.562 \n",
       "  2109.48,506.924 2109.6,513.159 2109.73,507.521 2109.86,501.725 2109.98,505.035 2110.11,519.74 2110.24,529.685 2110.36,540.851 2110.49,535.883 2110.62,534.438 \n",
       "  2110.74,530.87 2110.87,575.17 2110.99,581.104 2111.12,572.055 2111.25,570.195 2111.37,554.091 2111.5,545.856 2111.63,524.815 2111.75,497.521 2111.88,500.876 \n",
       "  2112.01,470.737 2112.13,454.995 2112.26,454.293 2112.38,477.502 2112.51,474.802 2112.64,458.127 2112.76,461.049 2112.89,468.468 2113.02,481.096 2113.14,483.413 \n",
       "  2113.27,491.887 2113.4,496.733 2113.52,505.043 2113.65,495.105 2113.78,492.581 2113.9,499.614 2114.03,504.766 2114.15,514.428 2114.28,528.737 2114.41,532.521 \n",
       "  2114.53,548.314 2114.66,553.924 2114.79,553.404 2114.91,543.764 2115.04,539.151 2115.17,565.563 2115.29,559.546 2115.42,564.5 2115.54,567.019 2115.67,568.006 \n",
       "  2115.8,562.048 2115.92,553.788 2116.05,546.522 2116.18,551.338 2116.3,549.618 2116.43,549.749 2116.56,545.64 2116.68,538.636 2116.81,545.203 2116.93,555.716 \n",
       "  2117.06,547.802 2117.19,550.749 2117.31,550.794 2117.44,542.93 2117.57,548.651 2117.69,539.879 2117.82,549.547 2117.95,540.893 2118.07,562.729 2118.2,575.406 \n",
       "  2118.32,568.592 2118.45,572.036 2118.58,579.315 2118.7,600.476 2118.83,592.125 2118.96,597.349 2119.08,595.441 2119.21,599.945 2119.34,612.083 2119.46,615.41 \n",
       "  2119.59,620.881 2119.71,629.125 2119.84,615.366 2119.97,621.356 2120.09,609.308 2120.22,598.383 2120.35,598.65 2120.47,618.306 2120.6,613.38 2120.73,619.773 \n",
       "  2120.85,609.506 2120.98,614.082 2121.1,599.919 2121.23,603.255 2121.36,604.157 2121.48,607.274 2121.61,622.729 2121.74,648.281 2121.86,633.196 2121.99,631.619 \n",
       "  2122.12,619.406 2122.24,616.303 2122.37,609.422 2122.49,605.567 2122.62,616.374 2122.75,611.492 2122.87,614.689 2123,602.317 2123.13,600.938 2123.25,604.616 \n",
       "  2123.38,605.765 2123.51,599.887 2123.63,599.109 2123.76,602.751 2123.88,598.171 2124.01,591.893 2124.14,591.497 2124.26,583.271 2124.39,584.224 2124.52,584.789 \n",
       "  2124.64,597.264 2124.77,602.666 2124.9,597.507 2125.02,597.49 2125.15,590.086 2125.27,592.036 2125.4,595.338 2125.53,597.596 2125.65,594.086 2125.78,595.974 \n",
       "  2125.91,603.213 2126.03,614.054 2126.16,611.034 2126.29,614.355 2126.41,625.394 2126.54,623.814 2126.66,617.484 2126.79,623.327 2126.92,619.86 2127.04,611.837 \n",
       "  2127.17,613.333 2127.3,630.646 2127.42,629.136 2127.55,625.935 2127.68,625.718 2127.8,634.811 2127.93,640.237 2128.05,640.245 2128.18,635.909 2128.31,634.187 \n",
       "  2128.43,632.163 2128.56,625.442 2128.69,619.528 2128.81,618.113 2128.94,625.362 2129.07,614.779 2129.19,619.174 2129.32,625.998 2129.44,621.583 2129.57,625.524 \n",
       "  2129.7,616.421 2129.82,611.035 2129.95,612.396 2130.08,600.914 2130.2,605.456 2130.33,604.852 2130.46,613.661 2130.58,614.141 2130.71,614.297 2130.83,615.865 \n",
       "  2130.96,620.354 2131.09,608.256 2131.21,613.883 2131.34,612.096 2131.47,605.73 2131.59,607.332 2131.72,601.446 2131.85,602.085 2131.97,601.178 2132.1,603.476 \n",
       "  2132.22,605.64 2132.35,600.289 2132.48,605.065 2132.6,593.543 2132.73,591.915 2132.86,596 2132.98,593.941 2133.11,587.095 2133.24,588.88 2133.36,586.747 \n",
       "  2133.49,522.334 2133.61,534.232 2133.74,542.928 2133.87,537.651 2133.99,532.419 2134.12,536.9 2134.25,530.532 2134.37,530.529 2134.5,522.48 2134.63,519.704 \n",
       "  2134.75,525.327 2134.88,529.561 2135,524.802 2135.13,527.855 2135.26,532.138 2135.38,516.257 2135.51,512.432 2135.64,508.423 2135.76,521.529 2135.89,518.845 \n",
       "  2136.02,525.549 2136.14,528.917 2136.27,526.623 2136.39,528.571 2136.52,526.043 2136.65,526.868 2136.77,534.392 2136.9,530.909 2137.03,534.648 2137.15,536.969 \n",
       "  2137.28,543.408 2137.41,543.727 2137.53,549.196 2137.66,544.276 2137.78,548.285 2137.91,538.741 2138.04,543.413 2138.16,543.402 2138.29,543.411 2138.42,545.302 \n",
       "  2138.54,537.705 2138.67,540.629 2138.8,538.718 2138.92,540.19 2139.05,533.49 2139.17,522.886 2139.3,528.198 2139.43,535.575 2139.55,540.109 2139.68,536.488 \n",
       "  2139.81,537.617 2139.93,527.946 2140.06,531.648 2140.19,535.351 2140.31,539.802 2140.44,536.599 2140.56,526.277 2140.69,529.42 2140.82,522.347 2140.94,521.77 \n",
       "  2141.07,512.62 2141.2,514.961 2141.32,508.712 2141.45,510.727 2141.58,502.789 2141.7,507.497 2141.83,513.509 2141.95,514.204 2142.08,514.206 2142.21,513.728 \n",
       "  2142.33,512.453 2142.46,513.953 2142.59,511.078 2142.71,510.005 2142.84,513.14 2142.97,517.539 2143.09,521.669 2143.22,518.049 2143.34,512.989 2143.47,513.462 \n",
       "  2143.6,528.587 2143.72,526.799 2143.85,534.459 2143.98,535.107 2144.1,534.554 2144.23,530.07 2144.36,529.621 2144.48,535.71 2144.61,531.745 2144.73,534.147 \n",
       "  2144.86,526.826 2144.99,523.351 2145.11,521.398 2145.24,522.139 2145.37,512.362 2145.49,505.677 2145.62,503.935 2145.75,490.423 2145.87,490.277 2146,477.89 \n",
       "  2146.12,488.232 2146.25,492.896 2146.38,494.317 2146.5,495.738 2146.63,491.302 2146.76,494.162 2146.88,497.123 2147.01,494.072 2147.14,491.731 2147.26,493.334 \n",
       "  2147.39,480.518 2147.51,483.817 2147.64,483.085 2147.77,467.167 2147.89,476.752 2148.02,482.226 2148.15,483.131 2148.27,482.098 2148.4,482.001 2148.53,475.14 \n",
       "  2148.65,473.372 2148.78,458.674 2148.9,459.22 2149.03,450.987 2149.16,448.741 2149.28,435.822 2149.41,440.973 2149.54,437.627 2149.66,431.409 2149.79,436.204 \n",
       "  2149.92,445.391 2150.04,447.638 2150.17,445.123 2150.29,447.498 2150.42,444.869 2150.55,446.972 2150.67,421.043 2150.8,434.154 2150.93,449.577 2151.05,455.054 \n",
       "  2151.18,452.38 2151.31,456.122 2151.43,465.718 2151.56,463.662 2151.68,461.839 2151.81,464.517 2151.94,461.852 2152.06,463.791 2152.19,465.32 2152.32,468.871 \n",
       "  2152.44,460.31 2152.57,466.035 2152.7,478.76 2152.82,482.226 2152.95,487.883 2153.07,491.154 2153.2,486.931 2153.33,484.03 2153.45,475.206 2153.58,474.178 \n",
       "  2153.71,466.621 2153.83,469.141 2153.96,457.111 2154.09,457.745 2154.21,463.875 2154.34,456.465 2154.46,455.584 2154.59,461.683 2154.72,458.073 2154.84,461.3 \n",
       "  2154.97,477.015 2155.1,463.443 2155.22,468.502 2155.35,471.281 2155.48,473.136 2155.6,463.878 2155.73,471.212 2155.85,473.026 2155.98,475.097 2156.11,481.08 \n",
       "  2156.23,482.486 2156.36,497.181 2156.49,516.52 2156.61,521.764 2156.74,514.612 2156.87,519.661 2156.99,511.965 2157.12,508.081 2157.24,510.627 2157.37,518.775 \n",
       "  2157.5,510.685 2157.62,508.154 2157.75,508.595 2157.88,509.97 2158,510.234 2158.13,517.106 2158.26,530.531 2158.38,525.504 2158.51,518.384 2158.63,521.191 \n",
       "  2158.76,527.578 2158.89,531.978 2159.01,537.362 2159.14,531.125 2159.27,531.326 2159.39,522.822 2159.52,523.512 2159.65,528.927 2159.77,524.147 2159.9,530.529 \n",
       "  2160.02,523.061 2160.15,517.953 2160.28,514.66 2160.4,512.614 2160.53,515.956 2160.66,523 2160.78,520.268 2160.91,521.245 2161.04,520.147 2161.16,533.044 \n",
       "  2161.29,532.69 2161.41,524.649 2161.54,524.477 2161.67,529.687 2161.79,529.726 2161.92,517.008 2162.05,523.464 2162.17,528.19 2162.3,532.888 2162.43,532.347 \n",
       "  2162.55,530.349 2162.68,525.699 2162.8,528.425 2162.93,529.803 2163.06,531.271 2163.18,534.746 2163.31,534.471 2163.44,550.589 2163.56,563.584 2163.69,561.229 \n",
       "  2163.82,549.557 2163.94,546.73 2164.07,549.501 2164.19,549.356 2164.32,559.237 2164.45,567.033 2164.57,570.78 2164.7,572.045 2164.83,577.28 2164.95,563.858 \n",
       "  2165.08,559.421 2165.21,562.889 2165.33,566.165 2165.46,563.517 2165.58,560.836 2165.71,551.562 2165.84,547.07 2165.96,545.017 2166.09,528.993 2166.22,532.791 \n",
       "  2166.34,537.565 2166.47,542.957 2166.6,536.971 2166.72,543.117 2166.85,540.476 2166.97,530.162 2167.1,524.902 2167.23,531.479 2167.35,529.402 2167.48,529.721 \n",
       "  2167.61,525.032 2167.73,508.204 2167.86,477.436 2167.99,460.579 2168.11,466.124 2168.24,471.138 2168.36,480.975 2168.49,476.813 2168.62,485.426 2168.74,481.167 \n",
       "  2168.87,481.491 2169,484.131 2169.12,498.326 2169.25,483.511 2169.38,474.176 2169.5,485.389 2169.63,477.13 2169.75,490.742 2169.88,499.132 2170.01,505.948 \n",
       "  2170.13,489.415 2170.26,486.562 2170.39,483.038 2170.51,485.187 2170.64,457.431 2170.77,465.251 2170.89,475.271 2171.02,468.673 2171.14,454.995 2171.27,458.469 \n",
       "  2171.4,465.349 2171.52,458.564 2171.65,471.368 2171.78,457.278 2171.9,450.733 2172.03,445.194 2172.16,449.221 2172.28,436.843 2172.41,435.479 2172.53,438.258 \n",
       "  2172.66,447.667 2172.79,456.061 2172.91,459.556 2173.04,460.592 2173.17,469.4 2173.29,464.765 2173.42,473.405 2173.55,479.636 2173.67,475.854 2173.8,465.035 \n",
       "  2173.92,467.879 2174.05,466.124 2174.18,460.563 2174.3,460.756 2174.43,456.336 2174.56,456.737 2174.68,453.159 2174.81,456.673 2174.94,461.648 2175.06,459.278 \n",
       "  2175.19,465.911 2175.31,469.352 2175.44,480.331 2175.57,474.501 2175.69,474.203 2175.82,472.809 2175.95,469.916 2176.07,469.956 2176.2,478.315 2176.33,485.979 \n",
       "  2176.45,482.231 2176.58,480.043 2176.7,480.003 2176.83,480.012 2176.96,480.615 2177.08,473.406 2177.21,472.563 2177.34,474.746 2177.46,482.226 2177.59,481.52 \n",
       "  2177.72,477.201 2177.84,479.81 2177.97,482.072 2178.09,479.119 2178.22,485.466 2178.35,482.143 2178.47,480.927 2178.6,479.294 2178.73,483.112 2178.85,477.398 \n",
       "  2178.98,469.391 2179.11,474.337 2179.23,481.996 2179.36,479.188 2179.48,478.666 2179.61,471.967 2179.74,460.719 2179.86,467.143 2179.99,462.329 2180.12,461.899 \n",
       "  2180.24,456.743 2180.37,455.496 2180.5,463.982 2180.62,458.708 2180.75,443.586 2180.87,446.956 2181,454.913 2181.13,455.863 2181.25,453.095 2181.38,454.328 \n",
       "  2181.51,464.596 2181.63,459.524 2181.76,445.191 2181.89,448.904 2182.01,450.744 2182.14,441.974 2182.26,438.335 2182.39,431.38 2182.52,425.847 2182.64,425.622 \n",
       "  2182.77,418.6 2182.9,431.715 2183.02,435.985 2183.15,448.756 2183.28,443.906 2183.4,455.5 2183.53,453.064 2183.65,456.062 2183.78,453.01 2183.91,452.082 \n",
       "  2184.03,447.447 2184.16,454.892 2184.29,461.104 2184.41,457.945 2184.54,466.063 2184.67,470.737 2184.79,475.387 2184.92,469.579 2185.04,478.636 2185.17,476.222 \n",
       "  2185.3,477.718 2185.42,476.913 2185.55,481.55 2185.68,481.869 2185.8,479.998 2185.93,478.061 2186.06,483.79 2186.18,476.206 2186.31,473.133 2186.43,473.574 \n",
       "  2186.56,466.895 2186.69,460.812 2186.81,460.812 2186.94,476.853 2187.07,409.222 2187.19,399.561 2187.32,406.249 2187.45,411.886 2187.57,412.991 2187.7,420.958 \n",
       "  2187.82,406.306 2187.95,416.618 2188.08,423.978 2188.2,422.081 2188.33,420.476 2188.46,426.248 2188.58,427.504 2188.71,423.84 2188.84,413.469 2188.96,411.708 \n",
       "  2189.09,416.213 2189.21,413.271 2189.34,415.245 2189.47,416.792 2189.59,410.577 2189.72,404.684 2189.85,413.909 2189.97,419.586 2190.1,418.072 2190.23,417.832 \n",
       "  2190.35,423.196 2190.48,422.275 2190.6,405.745 2190.73,407.591 2190.86,404.124 2190.98,406.971 2191.11,404.108 2191.24,400.915 2191.36,404.71 2191.49,398.486 \n",
       "  2191.62,398.341 2191.74,396.14 2191.87,399.841 2191.99,397.985 2192.12,379.084 2192.25,402.757 2192.37,409.243 2192.5,405.544 2192.63,407.888 2192.75,410.521 \n",
       "  2192.88,411.163 2193.01,401.938 2193.13,400.29 2193.26,404.945 2193.38,398.012 2193.51,404.483 2193.64,411.455 2193.76,410.692 2193.89,408.758 2194.02,405.613 \n",
       "  2194.14,403.369 2194.27,404.879 2194.4,398.706 2194.52,398.895 2194.65,403.511 2194.77,405.003 2194.9,403.321 2195.03,407.146 2195.15,410.507 2195.28,407.376 \n",
       "  2195.41,401.722 2195.53,406.193 2195.66,408.17 2195.79,408.116 2195.91,405.064 2196.04,399.663 2196.16,399.371 2196.29,404.424 2196.42,434.312 2196.54,430.378 \n",
       "  2196.67,423.558 2196.8,428.237 2196.92,425.015 2197.05,431.267 2197.18,438.435 2197.3,446.046 2197.43,441.828 2197.55,436.245 2197.68,436.247 2197.81,433.114 \n",
       "  2197.93,433.549 2198.06,438.991 2198.19,444.484 2198.31,441.235 2198.44,444.399 2198.57,429.204 2198.69,430.22 2198.82,431.434 2198.94,431.703 2199.07,431.513 \n",
       "  2199.2,425.873 2199.32,425.068 2199.45,414.973 2199.58,417.019 2199.7,420.423 2199.83,414.364 2199.96,416.618 2200.08,424.774 2200.21,431.404 2200.33,430.414 \n",
       "  2200.46,430.222 2200.59,427.945 2200.71,429.895 2200.84,430.229 2200.97,431.227 2201.09,430.868 2201.22,430.769 2201.35,430 2201.47,420.94 2201.6,421.233 \n",
       "  2201.72,422.312 2201.85,414.1 2201.98,429.325 2202.1,442.679 2202.23,440.53 2202.36,442.573 2202.48,458.236 2202.61,468.666 2202.74,462.599 2202.86,465.63 \n",
       "  2202.99,461.773 2203.11,462.694 2203.24,451.635 2203.37,452.193 2203.49,455.595 2203.62,451.487 2203.75,445.297 2203.87,449.928 2204,446.866 2204.13,453.314 \n",
       "  2204.25,460.951 2204.38,474.517 2204.5,462.923 2204.63,461.846 2204.76,461.698 2204.88,457.122 2205.01,454.9 2205.14,453.406 2205.26,454.288 2205.39,450.77 \n",
       "  2205.52,445.038 2205.64,446.038 2205.77,456.265 2205.89,449.422 2206.02,436.965 2206.15,442.913 2206.27,437.463 2206.4,435.415 2206.53,437.269 2206.65,445.56 \n",
       "  2206.78,449.793 2206.91,448.094 2207.03,457.653 2207.16,457.658 2207.28,446.643 2207.41,450.342 2207.54,439.61 2207.66,439.572 2207.79,432.072 2207.92,428.156 \n",
       "  2208.04,435.21 2208.17,430.398 2208.3,431.684 2208.42,437.3 2208.55,437.145 2208.67,438.709 2208.8,434.787 2208.93,431.296 2209.05,429.095 2209.18,432.591 \n",
       "  2209.31,426.308 2209.43,417.747 2209.56,413.26 2209.69,416.741 2209.81,420.942 2209.94,422.294 2210.06,418.162 2210.19,415.961 2210.32,414.625 2210.44,419.111 \n",
       "  2210.57,417.343 2210.7,409.772 2210.82,404.565 2210.95,401.722 2211.08,406.551 2211.2,405.258 2211.33,397.442 2211.45,401.802 2211.58,398.856 2211.71,409.994 \n",
       "  2211.83,416.015 2211.96,415.177 2212.09,415.757 2212.21,415.512 2212.34,412.387 2212.47,409.346 2212.59,407.803 2212.72,411.949 2212.84,417.33 2212.97,415.385 \n",
       "  2213.1,424.566 2213.22,419.74 2213.35,413.69 2213.48,408.785 2213.6,408.756 2213.73,403.152 2213.86,406.319 2213.98,405.853 2214.11,405.354 2214.23,402.364 \n",
       "  2214.36,397.795 2214.49,400.112 2214.61,396.372 2214.74,408.161 2214.87,406.702 2214.99,406.702 2215.12,412.302 2215.25,415.076 2215.37,410.899 2215.5,406.544 \n",
       "  2215.62,409.994 2215.75,404.618 2215.88,401.942 2216,399.93 2216.13,398.011 2216.26,398.196 2216.38,411.521 2216.51,418.383 2216.64,414.601 2216.76,410.056 \n",
       "  2216.89,406.951 2217.01,410.233 2217.14,421.779 2217.27,423.432 2217.39,428.399 2217.52,426.796 2217.65,422.149 2217.77,425.438 2217.9,435.271 2218.03,438.113 \n",
       "  2218.15,433.869 2218.28,420.42 2218.4,428.182 2218.53,425.693 2218.66,430.683 2218.78,437.22 2218.91,444.991 2219.04,441.415 2219.16,441.99 2219.29,447.292 \n",
       "  2219.42,440.238 2219.54,441.974 2219.67,438.797 2219.79,432.07 2219.92,436.049 2220.05,440.364 2220.17,445.193 2220.3,447.7 2220.43,448.907 2220.55,451.379 \n",
       "  2220.68,447.273 2220.81,455.161 2220.93,454.154 2221.06,440.876 2221.18,435.204 2221.31,438.925 2221.44,434.555 2221.56,434.028 2221.69,431.09 2221.82,427.755 \n",
       "  2221.94,432.843 2222.07,429.399 2222.2,433.925 2222.32,435.745 2222.45,438.661 2222.58,433.835 2222.7,438.089 2222.83,432.657 2222.95,434.167 2223.08,438.194 \n",
       "  2223.21,435.519 2223.33,438.43 2223.46,436.812 2223.59,440.589 2223.71,441.974 2223.84,435.869 2223.97,436.392 2224.09,436.738 2224.22,439.628 2224.34,440.126 \n",
       "  2224.47,452.758 2224.6,451.963 2224.72,467.298 2224.85,468.349 2224.98,488.982 2225.1,484.577 2225.23,488.602 2225.36,480.07 2225.48,480.177 2225.61,489.496 \n",
       "  2225.73,486.946 2225.86,482.228 2225.99,480.959 2226.11,479.008 2226.24,482.812 2226.37,480.599 2226.49,483.835 2226.62,506.236 2226.75,493.975 2226.87,497.263 \n",
       "  2227,487.659 2227.12,490.776 2227.25,491.55 2227.38,499.867 2227.5,498.846 2227.63,504.748 2227.76,500.541 2227.88,491.36 2228.01,498 2228.14,492.706 \n",
       "  2228.26,490.876 2228.39,486.35 2228.51,482.259 2228.64,480.793 2228.77,486.345 2228.89,491.718 2229.02,497.358 2229.15,494.375 2229.27,496.733 2229.4,490.826 \n",
       "  2229.53,478.955 2229.65,485.096 2229.78,487.213 2229.9,489.394 2230.03,495.687 2230.16,485.287 2230.28,489.554 2230.41,487.305 2230.54,494.972 2230.66,507.184 \n",
       "  2230.79,515.436 2230.92,516.793 2231.04,513.072 2231.17,511.208 2231.29,512.35 2231.42,513.317 2231.55,507.906 2231.67,502.837 2231.8,505.621 2231.93,511.464 \n",
       "  2232.05,513.126 2232.18,506.109 2232.31,495.4 2232.43,494.186 2232.56,496.253 2232.68,488.044 2232.81,488.615 2232.94,489.211 2233.06,494.178 2233.19,499.361 \n",
       "  2233.32,491.972 2233.44,496.147 2233.57,489.863 2233.7,493.265 2233.82,493.912 2233.95,498.966 2234.07,502.514 2234.2,499.936 2234.33,505.011 2234.45,503.88 \n",
       "  2234.58,502.43 2234.71,509.195 2234.83,516.682 2234.96,519.84 2235.09,522.788 2235.21,528.769 2235.34,541.917 2235.46,533.885 2235.59,533.213 2235.72,525.496 \n",
       "  2235.84,542.481 2235.97,548.512 2236.1,545.435 2236.22,544.165 2236.35,543.542 2236.48,539.071 2236.6,540.977 2236.73,537.388 2236.85,540.996 2236.98,547.562 \n",
       "  2237.11,552.906 2237.23,546.345 2237.36,539.436 2237.49,540.921 2237.61,540.801 2237.74,544.666 2237.87,541.347 2237.99,539.122 2238.12,534.559 2238.24,532.727 \n",
       "  2238.37,533.298 2238.5,519.735 2238.62,527.911 2238.75,535.412 2238.88,529.745 2239,542.922 2239.13,545.4 2239.26,536.087 2239.38,533.271 2239.51,538.204 \n",
       "  2239.63,550.187 2239.76,538.945 2239.89,526.124 2240.01,524.612 2240.14,520.439 2240.27,518.991 2240.39,521.662 2240.52,523.348 2240.65,529.608 2240.77,522.574 \n",
       "  2240.9,529.231 2241.02,521.091 2241.15,516.668 2241.28,517.009 2241.4,515.731 2241.53,509.07 2241.66,498.013 2241.78,500.395 2241.91,495.931 2242.04,498.062 \n",
       "  2242.16,497.422 2242.29,502.539 2242.41,502.201 2242.54,499.218 2242.67,498.646 2242.79,507.804 2242.92,511.53 2243.05,515.985 2243.17,514.156 2243.3,516.037 \n",
       "  2243.43,525.544 2243.55,517.97 2243.68,517.154 2243.8,510.123 2243.93,513.845 2244.06,508.728 2244.18,507.104 2244.31,512.411 2244.44,504.6 2244.56,502.491 \n",
       "  2244.69,499.533 2244.82,506.534 2244.94,506.378 2245.07,502.874 2245.19,507.363 2245.32,500.106 2245.45,496.477 2245.57,498.134 2245.7,498.417 2245.83,501.707 \n",
       "  2245.95,510.229 2246.08,509.693 2246.21,506.183 2246.33,493.497 2246.46,494.325 2246.58,500.065 2246.71,500.718 2246.84,496.307 2246.96,497.622 2247.09,496.807 \n",
       "  2247.22,500.754 2247.34,498.495 2247.47,499.015 2247.6,496.007 2247.72,497.907 2247.85,499.234 2247.97,504.885 2248.1,507.759 2248.23,511.95 2248.35,509.856 \n",
       "  2248.48,504.768 2248.61,509.783 2248.73,508.113 2248.86,512.721 2248.99,516.57 2249.11,513.032 2249.24,498.327 2249.36,499.308 2249.49,499.776 2249.62,495.751 \n",
       "  2249.74,499.182 2249.87,502.278 2250,505.12 2250.12,506.666 2250.25,500.997 2250.38,497.723 2250.5,499.541 2250.63,503.567 2250.75,509.791 2250.88,510.921 \n",
       "  2251.01,516.491 2251.13,515.633 2251.26,512.56 2251.39,499.815 2251.51,501.596 2251.64,505.191 2251.77,498.529 2251.89,493.383 2252.02,498.406 2252.14,496.039 \n",
       "  2252.27,501.304 2252.4,504.452 2252.52,509.424 2252.65,510.3 2252.78,512.04 2252.9,514.344 2253.03,507.709 2253.16,499.321 2253.28,498.744 2253.41,496.36 \n",
       "  2253.53,497.395 2253.66,494.527 2253.79,492.146 2253.91,495.563 2254.04,483.956 2254.17,469.953 2254.29,465.836 2254.42,467.069 2254.55,457.858 2254.67,453.771 \n",
       "  2254.8,448.877 2254.92,462.05 2255.05,461.308 2255.18,464.858 2255.3,469.104 2255.43,463.847 2255.56,457.549 2255.68,451.472 2255.81,448.41 2255.94,453.858 \n",
       "  2256.06,460.052 2256.19,452.338 2256.31,457.759 2256.44,454.844 2256.57,461.962 2256.69,452.329 2256.82,455.112 2256.95,454.626 2257.07,449.527 2257.2,448.207 \n",
       "  2257.33,449.794 2257.45,444.607 2257.58,443.661 2257.7,443.491 2257.83,444.985 2257.96,442.061 2258.08,446.42 2258.21,444.784 2258.34,439.445 2258.46,431.426 \n",
       "  2258.59,439.858 2258.72,440.895 2258.84,432.95 2258.97,432.475 2259.09,428.601 2259.22,430.649 2259.35,433.862 2259.47,441.37 2259.6,441.671 2259.73,439.055 \n",
       "  2259.85,443.6 2259.98,434.891 2260.11,429.126 2260.23,427.743 2260.36,433.864 2260.48,439.1 2260.61,442.897 2260.74,441.784 2260.86,450.012 2260.99,445.785 \n",
       "  2261.12,451.78 2261.24,451.21 2261.37,447.529 2261.5,445.495 2261.62,441.974 2261.75,439.213 2261.87,437.419 2262,439.528 2262.13,436.951 2262.25,442.494 \n",
       "  2262.38,446.028 2262.51,447.36 2262.63,436.051 2262.76,439.652 2262.89,438.588 2263.01,433.74 2263.14,439.245 2263.26,436.158 2263.39,430.449 2263.52,429.8 \n",
       "  2263.64,432.76 2263.77,434.597 2263.9,428.076 2264.02,424.427 2264.15,425.496 2264.28,418.771 2264.4,419.549 2264.53,430.166 2264.65,432.153 2264.78,426.683 \n",
       "  2264.91,430.562 2265.03,440.364 2265.16,440.085 2265.29,442.058 2265.41,443.454 2265.54,435.316 2265.67,433.069 2265.79,433.241 2265.92,422.5 2266.04,422.146 \n",
       "  2266.17,427.184 2266.3,418.628 2266.42,424.719 2266.55,423.761 2266.68,436.25 2266.8,435.37 2266.93,427.152 2267.06,422.431 2267.18,431.829 2267.31,435.329 \n",
       "  2267.43,432.734 2267.56,428.427 2267.69,431.689 2267.81,431.819 2267.94,435.173 2268.07,428.007 2268.19,425.873 2268.32,431.576 2268.45,429.736 2268.57,427.309 \n",
       "  2268.7,425.873 2268.82,430.187 2268.95,433.924 2269.08,436.992 2269.2,444.784 2269.33,441.481 2269.46,449.764 2269.58,449.873 2269.71,456.136 2269.84,460.051 \n",
       "  2269.96,451.659 2270.09,447.611 2270.21,443.911 2270.34,443.626 2270.47,448.72 2270.59,445.603 2270.72,441.412 2270.85,439.472 2270.97,438.206 2271.1,431.443 \n",
       "  2271.23,436.745 2271.35,439.889 2271.48,439.314 2271.6,439.887 2271.73,440.33 2271.86,437.752 2271.98,440.778 2272.11,453.576 2272.24,460.574 2272.36,458.988 \n",
       "  2272.49,455.214 2272.62,449.057 2272.74,446.804 2272.87,448.635 2272.99,449.352 2273.12,446.365 2273.25,452.1 2273.37,467.09 2273.5,463.633 2273.63,472.12 \n",
       "  2273.75,478.003 2273.88,478.823 2274.01,493.743 2274.13,496.22 2274.26,491.174 2274.38,506.709 2274.51,511.369 2274.64,502.979 2274.76,512.596 2274.89,505.927 \n",
       "  2275.02,508.299 2275.14,509.831 2275.27,504.769 2275.4,515.781 2275.52,507.727 2275.65,512.829 2275.77,506.42 2275.9,506.378 2276.03,495.241 2276.15,501.895 \n",
       "  2276.28,491.473 2276.41,494.246 2276.53,501.929 2276.66,491.409 2276.79,491.699 2276.91,496.324 2277.04,500.259 2277.16,493.856 2277.29,493.497 2277.42,498.54 \n",
       "  2277.54,498.397 2277.67,503.407 2277.8,492.768 2277.92,496.703 2278.05,491.193 2278.18,483.027 2278.3,476.834 2278.43,475.772 2278.55,479.058 2278.68,479.051 \n",
       "  2278.81,482.73 2278.93,488.953 2279.06,485.477 2279.19,481.112 2279.31,478.684 2279.44,480.708 2279.57,476.258 2279.69,474.105 2279.82,476.76 2279.94,474.463 \n",
       "  2280.07,459.642 2280.2,462.746 2280.32,457.104 2280.45,450.026 2280.58,433.56 2280.7,426.12 2280.83,424.094 2280.96,417.122 2281.08,419.831 2281.21,423.959 \n",
       "  2281.33,419.604 2281.46,417.821 2281.59,413.455 2281.71,414.9 2281.84,421.962 2281.97,418.79 2282.09,426.358 2282.22,429.89 2282.35,428.483 2282.47,431.035 \n",
       "  2282.6,426.479 2282.72,419.064 2282.85,421.016 2282.98,429.187 2283.1,429.773 2283.23,421.912 2283.36,422.345 2283.48,420.24 2283.61,409.255 2283.74,412.992 \n",
       "  2283.86,413.517 2283.99,421.465 2284.11,423.398 2284.24,424.672 2284.37,428.06 2284.49,423.035 2284.62,419.434 2284.75,426.925 2284.87,424.513 2285,425.762 \n",
       "  2285.13,426.495 2285.25,420.331 2285.38,429.092 2285.5,430.892 2285.63,436.534 2285.76,437.674 2285.88,442.697 2286.01,436.107 2286.14,444.117 2286.26,444.125 \n",
       "  2286.39,443.75 2286.52,448.516 2286.64,445.302 2286.77,437.145 2286.89,440.477 2287.02,440.131 2287.15,442.475 2287.27,447.494 2287.4,452.367 2287.53,462.157 \n",
       "  2287.65,468.024 2287.78,479.589 2287.91,479.095 2288.03,470.149 2288.16,465.451 2288.28,457.648 2288.41,465.116 2288.54,471.39 2288.66,470.564 2288.79,470.492 \n",
       "  2288.92,479.711 2289.04,482.977 2289.17,483.84 2289.3,489.675 2289.42,480.146 2289.55,469.996 2289.67,479.006 2289.8,479.547 2289.93,481.408 2290.05,476.852 \n",
       "  2290.18,470.036 2290.31,471.862 2290.43,470.838 2290.56,458.247 2290.69,452.837 2290.81,447.991 2290.94,432.766 2291.06,419.394 2291.19,424.265 2291.32,431.653 \n",
       "  2291.44,437.339 2291.57,442.76 2291.7,438.633 2291.82,443.09 2291.95,453.576 2292.08,445.959 2292.2,446.305 2292.33,440.362 2292.45,429.361 2292.58,428.775 \n",
       "  2292.71,438.867 \n",
       "  \"/>\n",
       "<polyline clip-path=\"url(#clip602)\" style=\"stroke:#e26f46; stroke-linecap:butt; stroke-linejoin:round; stroke-width:4; stroke-opacity:1; fill:none\" points=\"\n",
       "  417.329,2901.09 417.329,-1379.68 \n",
       "  \"/>\n",
       "<polyline clip-path=\"url(#clip602)\" style=\"stroke:#e26f46; stroke-linecap:butt; stroke-linejoin:round; stroke-width:4; stroke-opacity:1; fill:none\" points=\"\n",
       "  1554.61,2901.09 1554.61,-1379.68 \n",
       "  \"/>\n",
       "<path clip-path=\"url(#clip600)\" d=\"\n",
       "M1993.86 276.248 L2282.03 276.248 L2282.03 94.8081 L1993.86 94.8081  Z\n",
       "  \" fill=\"#ffffff\" fill-rule=\"evenodd\" fill-opacity=\"1\"/>\n",
       "<polyline clip-path=\"url(#clip600)\" style=\"stroke:#000000; stroke-linecap:butt; stroke-linejoin:round; stroke-width:4; stroke-opacity:1; fill:none\" points=\"\n",
       "  1993.86,276.248 2282.03,276.248 2282.03,94.8081 1993.86,94.8081 1993.86,276.248 \n",
       "  \"/>\n",
       "<polyline clip-path=\"url(#clip600)\" style=\"stroke:#009af9; stroke-linecap:butt; stroke-linejoin:round; stroke-width:4; stroke-opacity:1; fill:none\" points=\"\n",
       "  2017.43,155.288 2158.88,155.288 \n",
       "  \"/>\n",
       "<path clip-path=\"url(#clip600)\" d=\"M2196.3 174.976 Q2194.49 179.605 2192.78 181.017 Q2191.06 182.429 2188.19 182.429 L2184.79 182.429 L2184.79 178.864 L2187.29 178.864 Q2189.05 178.864 2190.02 178.031 Q2190.99 177.198 2192.17 174.096 L2192.94 172.151 L2182.45 146.642 L2186.97 146.642 L2195.07 166.92 L2203.17 146.642 L2207.68 146.642 L2196.3 174.976 Z\" fill=\"#000000\" fill-rule=\"evenodd\" fill-opacity=\"1\" /><path clip-path=\"url(#clip600)\" d=\"M2214.98 168.633 L2222.61 168.633 L2222.61 142.267 L2214.3 143.934 L2214.3 139.675 L2222.57 138.008 L2227.24 138.008 L2227.24 168.633 L2234.88 168.633 L2234.88 172.568 L2214.98 172.568 L2214.98 168.633 Z\" fill=\"#000000\" fill-rule=\"evenodd\" fill-opacity=\"1\" /><polyline clip-path=\"url(#clip600)\" style=\"stroke:#e26f46; stroke-linecap:butt; stroke-linejoin:round; stroke-width:4; stroke-opacity:1; fill:none\" points=\"\n",
       "  2017.43,215.768 2158.88,215.768 \n",
       "  \"/>\n",
       "<path clip-path=\"url(#clip600)\" d=\"M2196.3 235.456 Q2194.49 240.085 2192.78 241.497 Q2191.06 242.909 2188.19 242.909 L2184.79 242.909 L2184.79 239.344 L2187.29 239.344 Q2189.05 239.344 2190.02 238.511 Q2190.99 237.678 2192.17 234.576 L2192.94 232.631 L2182.45 207.122 L2186.97 207.122 L2195.07 227.4 L2203.17 207.122 L2207.68 207.122 L2196.3 235.456 Z\" fill=\"#000000\" fill-rule=\"evenodd\" fill-opacity=\"1\" /><path clip-path=\"url(#clip600)\" d=\"M2218.19 229.113 L2234.51 229.113 L2234.51 233.048 L2212.57 233.048 L2212.57 229.113 Q2215.23 226.358 2219.81 221.729 Q2224.42 217.076 2225.6 215.733 Q2227.85 213.21 2228.73 211.474 Q2229.63 209.715 2229.63 208.025 Q2229.63 205.27 2227.68 203.534 Q2225.76 201.798 2222.66 201.798 Q2220.46 201.798 2218.01 202.562 Q2215.58 203.326 2212.8 204.877 L2212.8 200.155 Q2215.62 199.021 2218.08 198.442 Q2220.53 197.863 2222.57 197.863 Q2227.94 197.863 2231.13 200.548 Q2234.33 203.233 2234.33 207.724 Q2234.33 209.854 2233.52 211.775 Q2232.73 213.673 2230.62 216.266 Q2230.04 216.937 2226.94 220.155 Q2223.84 223.349 2218.19 229.113 Z\" fill=\"#000000\" fill-rule=\"evenodd\" fill-opacity=\"1\" /></svg>\n"
      ]
     },
     "execution_count": 67,
     "metadata": {},
     "output_type": "execute_result"
    }
   ],
   "source": [
    "\n",
    "# plot(\n",
    "#     [vdf.close, ema(vdf.close, n=500) , ema(vdf.close, n=1500)] ,\n",
    "#     layout = l, legend = false, #seriestype = [:bar :scatter :path],\n",
    "#     title = [\"($i)\" for j in 1:1, i in 1:11] #, titleloc = :right, titlefont = font(8)\n",
    "# )\n",
    "p1 = plot(vdf.close)\n",
    "vline!([100010000])\n",
    "# p2 = plot(ema(vdf.close, n=500))\n",
    "# p3 = plot(ema(vdf.close, n=1500))\n"
   ]
  },
  {
   "cell_type": "code",
   "execution_count": 12,
   "id": "22b18840",
   "metadata": {},
   "outputs": [],
   "source": [
    "# 2^13 /60/24"
   ]
  },
  {
   "cell_type": "code",
   "execution_count": 13,
   "id": "ceeab601",
   "metadata": {},
   "outputs": [],
   "source": [
    "# log2(60*24*7)"
   ]
  },
  {
   "cell_type": "code",
   "execution_count": 14,
   "id": "238325e8",
   "metadata": {},
   "outputs": [],
   "source": [
    "# plot(dfoi[].ut,dfoi[].capital,legend=false)"
   ]
  },
  {
   "cell_type": "code",
   "execution_count": 15,
   "id": "b521e9d0",
   "metadata": {},
   "outputs": [],
   "source": [
    "# dfoi"
   ]
  },
  {
   "cell_type": "code",
   "execution_count": null,
   "id": "45093d5b",
   "metadata": {},
   "outputs": [],
   "source": [
    "\n",
    "\n"
   ]
  }
 ],
 "metadata": {
  "@webio": {
   "lastCommId": "72644c01ded04f9e8f3fe3030edaec94",
   "lastKernelId": "c7c1f80c-c722-4f4c-8223-de0266a7edaf"
  },
  "kernelspec": {
   "display_name": "Julia 1.6.1",
   "language": "julia",
   "name": "julia-1.6"
  },
  "language_info": {
   "file_extension": ".jl",
   "mimetype": "application/julia",
   "name": "julia",
   "version": "1.6.1"
  }
 },
 "nbformat": 4,
 "nbformat_minor": 5
}
