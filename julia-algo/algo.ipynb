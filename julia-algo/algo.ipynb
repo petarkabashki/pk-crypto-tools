{
 "cells": [
  {
   "cell_type": "code",
   "execution_count": 1,
   "id": "c1b441bd-a771-4ab1-8394-6a6ddbb2d2d3",
   "metadata": {},
   "outputs": [],
   "source": [
    "using Pipe\n",
    "using MarketTechnicals\n",
    "using Plots\n",
    "# using TimeSeries\n",
    "using DataFrames\n",
    "using StatsPlots\n",
    "using CSV"
   ]
  },
  {
   "cell_type": "code",
   "execution_count": 2,
   "id": "7949f413-3b0a-4278-9b81-4ae7d638e38d",
   "metadata": {},
   "outputs": [
    {
     "data": {
      "text/plain": [
       "Plots.GRBackend()"
      ]
     },
     "execution_count": 2,
     "metadata": {},
     "output_type": "execute_result"
    }
   ],
   "source": [
    "theme(:dark)\n",
    "gr()"
   ]
  },
  {
   "cell_type": "code",
   "execution_count": 3,
   "id": "5fa105e4-8ea5-43dc-8f73-e8dccf344efb",
   "metadata": {},
   "outputs": [],
   "source": [
    "\n",
    "# ta = readtimearray(\"../data/csv/BTCUSDT-15m.csv\", format=\"yyyy-mm-dd HH:MM\", delim=',', meta=nothing)\n",
    "# taf = @pipe ta |> from(_, DateTime(2021, 3, 1)) |> to(_, DateTime(2021, 4, 1)) \n",
    "# df = DataFrame(taf)"
   ]
  },
  {
   "cell_type": "code",
   "execution_count": 97,
   "id": "a27d093f-387f-411c-af61-092fe125f114",
   "metadata": {},
   "outputs": [
    {
     "data": {
      "text/plain": [
       "3"
      ]
     },
     "execution_count": 97,
     "metadata": {},
     "output_type": "execute_result"
    }
   ],
   "source": [
    "# csv_df = DataFrame(CSV.File(\"../data/csv/BTCUSDT-15m.csv\", dateformat=\"yyyy-mm-dd HH:MM\"))\n",
    "df = csv_df[(csv_df.time .>= DateTime(2021, 1, 1)) .& (csv_df.time .<= DateTime(2021, 4, 1)) , :]\n",
    "3"
   ]
  },
  {
   "cell_type": "code",
   "execution_count": null,
   "id": "6dd101a8-88cf-4972-81f2-bf9a294829d2",
   "metadata": {},
   "outputs": [],
   "source": []
  },
  {
   "cell_type": "code",
   "execution_count": 98,
   "id": "d89dcb84-7ebe-418d-acb1-e28bc4015588",
   "metadata": {},
   "outputs": [
    {
     "data": {
      "text/plain": [
       "2"
      ]
     },
     "execution_count": 98,
     "metadata": {},
     "output_type": "execute_result"
    }
   ],
   "source": [
    "period_ema_slow = 100\n",
    "period_ema_fast = 21\n",
    "period_ema_scalp = 14\n",
    "\n",
    "insertcols!(df, :ema_slow => vec([\n",
    "            fill(df.close[1], (period_ema_slow - 1,1))\n",
    "            ema(df.close, period_ema_slow)\n",
    "        ]), :ema_fast => vec([\n",
    "            fill(df.close[1], (period_ema_fast - 1,1))\n",
    "            ema(df.close, period_ema_fast)\n",
    "        ]), :ema_scalp => vec([\n",
    "            fill(df.close[1], (period_ema_scalp - 1,1))\n",
    "            ema(df.close, period_ema_scalp)\n",
    "        ]), \n",
    ")\n",
    "2"
   ]
  },
  {
   "cell_type": "code",
   "execution_count": 99,
   "id": "2af68ae6-ef0c-4391-aece-7cb6b4ff9d70",
   "metadata": {},
   "outputs": [
    {
     "data": {
      "text/plain": [
       "1"
      ]
     },
     "execution_count": 99,
     "metadata": {},
     "output_type": "execute_result"
    }
   ],
   "source": [
    "insertcols!(df, \n",
    "    :log_ema_fast_slow => log.( df.ema_fast ./ df.ema_slow ) .* 1000, \n",
    "    :log_ema_scalp_slow => log.( df.ema_scalp ./ df.ema_slow ) .* 1000, \n",
    "    :log_ema_scalp_fast => log.( df.ema_scalp ./ df.ema_fast ) .* 1000, \n",
    "    :log_close_ema_scalp => log.( df.close ./ df.ema_scalp ) .* 1000, \n",
    "    :log_close_ema_fast => log.( df.close ./ df.ema_fast ) .* 1000, \n",
    "    :log_close_ema_slow => log.( df.close ./ df.ema_slow ) .* 1000, \n",
    "    \n",
    ")\n",
    "1\n",
    "# log.( df.close ./ df.ema_fast ) .* 1000"
   ]
  },
  {
   "cell_type": "code",
   "execution_count": 100,
   "id": "e7462d75-1621-4960-883a-dac37b430b96",
   "metadata": {},
   "outputs": [
    {
     "data": {
      "text/plain": [
       "8630"
      ]
     },
     "execution_count": 100,
     "metadata": {},
     "output_type": "execute_result"
    }
   ],
   "source": [
    "nrows = nrow(df)"
   ]
  },
  {
   "cell_type": "code",
   "execution_count": 101,
   "id": "01e31f18-af72-4f43-aea5-aed4c33f09b7",
   "metadata": {},
   "outputs": [
    {
     "data": {
      "text/plain": [
       "1"
      ]
     },
     "execution_count": 101,
     "metadata": {},
     "output_type": "execute_result"
    }
   ],
   "source": [
    "insertcols!(df, \n",
    "    :reason => [fill(\"\", (nrows,1))...],\n",
    "    :price => [fill(0., (nrows,1))...],\n",
    "    :buy => [fill(0., (nrows,1))...],\n",
    "    :sell => [fill(0., (nrows,1))...],\n",
    "    :pnl => [fill(0., (nrows,1))...],\n",
    "    :capital => [fill(0., (nrows,1))...]\n",
    ")\n",
    "1"
   ]
  },
  {
   "cell_type": "code",
   "execution_count": 102,
   "id": "dbb599fd-ee09-40e2-a3ab-67a35d03de26",
   "metadata": {},
   "outputs": [],
   "source": [
    "capital, riskPercent = 100., 0.01\n",
    "isLong, priceIn, priceOut, buySize, pnl, stopLoss  = false, 0, 0, 0, 0, 0 \n",
    "feePercent, stopLossReason = 0.001, \"SL\"\n",
    "for r in eachrow(df)\n",
    "    if isLong\n",
    "        priceOut = r.close * (1 - feePercent)\n",
    "        pnl = buySize * (priceOut - priceIn)\n",
    "        if r.close < stopLoss # close SL\n",
    "            capital += pnl\n",
    "            isLong = false\n",
    "#             priceOut = r.close * (1 - feePercent)\n",
    "#             r.capital = capital\n",
    "            r.pnl = pnl\n",
    "            r.reason = \"SL\"\n",
    "            r.sell = buySize\n",
    "            r.price = priceOut\n",
    "#             push!(dtrf, (r.timestamp, stopLossReason, 0, buySize, priceout, profit, capital))\n",
    "        elseif r.close > priceIn * (1 + 0.05)\n",
    "            capital += pnl\n",
    "            isLong = false\n",
    "#             priceOut = r.close * (1 - feePercent)\n",
    "#             r.capital = capital\n",
    "            r.pnl = pnl\n",
    "            r.reason = \"TP\"\n",
    "            r.sell = buySize\n",
    "            r.price = priceOut\n",
    "#             push!(dtrf, (r.timestamp, \"TH\", 0, buySize, priceOut, profit, capital))\n",
    "        elseif r.close > priceIn * (1 + 0.005)\n",
    "        end\n",
    "    else #not in pos\n",
    "        if r.log_close_ema_fast < -10 && r.log_ema_fast_slow > 5\n",
    "            isLong = true\n",
    "            position = capital * riskPercent\n",
    "            priceIn = r.close * (1 + feePercent)\n",
    "            stopLoss = r.close * (1 - 0.03)\n",
    "            buySize = position / (priceIn - stopLoss)\n",
    "#             println(\"priceIn: \", priceIn)\n",
    "#             println(\"stoploss: \", stopLoss)\n",
    "#             println(\"buySize: \", buySize)\n",
    "            r.price = priceIn\n",
    "            r.reason = \"long\"\n",
    "            r.buy = buySize\n",
    "            \n",
    "#             push!(dtrf, (r.time, \"LONG\", buySize, 0, priceIn, 0, capital))\n",
    "            slrsn = \"SL\"\n",
    "        end\n",
    "    end\n",
    "    r.capital = capital\n",
    "    # push!(dtrf, (r.timestamp, pricein, priceout, sizep, capt, islong))\n",
    "end\n"
   ]
  },
  {
   "cell_type": "code",
   "execution_count": 103,
   "id": "aff82110-809e-46b7-8f17-9ce5293f2829",
   "metadata": {},
   "outputs": [],
   "source": [
    "using Query"
   ]
  },
  {
   "cell_type": "code",
   "execution_count": 104,
   "id": "01768394-16e5-49ef-9d8f-4d6fbc3ff6f6",
   "metadata": {},
   "outputs": [
    {
     "data": {
      "text/plain": [
       "1"
      ]
     },
     "execution_count": 104,
     "metadata": {},
     "output_type": "execute_result"
    }
   ],
   "source": [
    "trades = df |> \n",
    "    @filter(_.reason != \"\") |>\n",
    "    @map({_.time,_.close, _.reason, _.buy, _.sell, _.price, _.pnl, _.capital}) |>\n",
    "    DataFrame\n",
    "\n",
    "# trades\n",
    "# CSV.write(\"trades.csv\", trades)\n",
    "1\n",
    "# = @from r in df begin\n",
    "#      @where r.reason != \"\"\n",
    "#      @select r\n",
    "# end\n",
    "# nothing # hide"
   ]
  },
  {
   "cell_type": "code",
   "execution_count": 105,
   "id": "6a61905e-fb4f-4855-b056-0d82242bdf38",
   "metadata": {},
   "outputs": [
    {
     "data": {
      "text/html": [
       "<table class=\"data-frame\"><thead><tr><th></th><th>close</th><th>reason</th><th>buy</th><th>sell</th><th>price</th><th>pnl</th><th>capital</th></tr><tr><th></th><th>Float64</th><th>String</th><th>Float64</th><th>Float64</th><th>Float64</th><th>Float64</th><th>Float64</th></tr></thead><tbody><p>81 rows × 7 columns</p><tr><th>1</th><td>28880.0</td><td>long</td><td>0.00111697</td><td>0.0</td><td>28908.9</td><td>0.0</td><td>100.0</td></tr><tr><th>2</th><td>30695.1</td><td>TP</td><td>0.0</td><td>0.00111697</td><td>30664.4</td><td>1.96082</td><td>101.961</td></tr><tr><th>3</th><td>30667.2</td><td>long</td><td>0.0010725</td><td>0.0</td><td>30697.9</td><td>0.0</td><td>101.961</td></tr><tr><th>4</th><td>32412.0</td><td>TP</td><td>0.0</td><td>0.0010725</td><td>32379.6</td><td>1.80362</td><td>103.764</td></tr><tr><th>5</th><td>33355.1</td><td>long</td><td>0.00100352</td><td>0.0</td><td>33388.4</td><td>0.0</td><td>103.764</td></tr><tr><th>6</th><td>32341.2</td><td>SL</td><td>0.0</td><td>0.00100352</td><td>32308.8</td><td>-1.08343</td><td>102.681</td></tr><tr><th>7</th><td>31718.7</td><td>long</td><td>0.00104427</td><td>0.0</td><td>31750.4</td><td>0.0</td><td>102.681</td></tr><tr><th>8</th><td>30682.1</td><td>SL</td><td>0.0</td><td>0.00104427</td><td>30651.4</td><td>-1.14766</td><td>101.533</td></tr><tr><th>9</th><td>34179.7</td><td>long</td><td>0.00095825</td><td>0.0</td><td>34213.9</td><td>0.0</td><td>101.533</td></tr><tr><th>10</th><td>36015.9</td><td>TP</td><td>0.0</td><td>0.00095825</td><td>35979.9</td><td>1.69226</td><td>103.226</td></tr><tr><th>11</th><td>37853.4</td><td>long</td><td>0.000879673</td><td>0.0</td><td>37891.2</td><td>0.0</td><td>103.226</td></tr><tr><th>12</th><td>36631.0</td><td>SL</td><td>0.0</td><td>0.000879673</td><td>36594.3</td><td>-1.14083</td><td>102.085</td></tr><tr><th>13</th><td>37181.7</td><td>long</td><td>0.000885665</td><td>0.0</td><td>37218.9</td><td>0.0</td><td>102.085</td></tr><tr><th>14</th><td>39358.3</td><td>TP</td><td>0.0</td><td>0.000885665</td><td>39319.0</td><td>1.85995</td><td>103.945</td></tr><tr><th>15</th><td>40231.5</td><td>long</td><td>0.000833441</td><td>0.0</td><td>40271.7</td><td>0.0</td><td>103.945</td></tr><tr><th>16</th><td>38984.9</td><td>SL</td><td>0.0</td><td>0.000833441</td><td>38945.9</td><td>-1.10501</td><td>102.84</td></tr><tr><th>17</th><td>40110.8</td><td>long</td><td>0.000827063</td><td>0.0</td><td>40150.9</td><td>0.0</td><td>102.84</td></tr><tr><th>18</th><td>38165.4</td><td>SL</td><td>0.0</td><td>0.000827063</td><td>38127.2</td><td>-1.67367</td><td>101.166</td></tr><tr><th>19</th><td>35340.4</td><td>long</td><td>0.000923425</td><td>0.0</td><td>35375.8</td><td>0.0</td><td>101.166</td></tr><tr><th>20</th><td>33942.2</td><td>SL</td><td>0.0</td><td>0.000923425</td><td>33908.2</td><td>-1.35513</td><td>99.8109</td></tr><tr><th>21</th><td>39014.1</td><td>long</td><td>0.000825268</td><td>0.0</td><td>39053.1</td><td>0.0</td><td>99.8109</td></tr><tr><th>22</th><td>37808.9</td><td>SL</td><td>0.0</td><td>0.000825268</td><td>37771.1</td><td>-1.058</td><td>98.7529</td></tr><tr><th>23</th><td>36735.8</td><td>long</td><td>0.000867159</td><td>0.0</td><td>36772.5</td><td>0.0</td><td>98.7529</td></tr><tr><th>24</th><td>35547.1</td><td>SL</td><td>0.0</td><td>0.000867159</td><td>35511.6</td><td>-1.09346</td><td>97.6595</td></tr><tr><th>25</th><td>35880.0</td><td>long</td><td>0.000878012</td><td>0.0</td><td>35915.9</td><td>0.0</td><td>97.6595</td></tr><tr><th>26</th><td>34801.8</td><td>SL</td><td>0.0</td><td>0.000878012</td><td>34767.0</td><td>-1.00871</td><td>96.6508</td></tr><tr><th>27</th><td>32835.3</td><td>long</td><td>0.000949517</td><td>0.0</td><td>32868.1</td><td>0.0</td><td>96.6508</td></tr><tr><th>28</th><td>31714.3</td><td>SL</td><td>0.0</td><td>0.000949517</td><td>31682.6</td><td>-1.12564</td><td>95.5251</td></tr><tr><th>29</th><td>33411.5</td><td>long</td><td>0.000922273</td><td>0.0</td><td>33445.0</td><td>0.0</td><td>95.5251</td></tr><tr><th>30</th><td>32274.8</td><td>SL</td><td>0.0</td><td>0.000922273</td><td>32242.5</td><td>-1.10901</td><td>94.4161</td></tr><tr><th>&vellip;</th><td>&vellip;</td><td>&vellip;</td><td>&vellip;</td><td>&vellip;</td><td>&vellip;</td><td>&vellip;</td><td>&vellip;</td></tr></tbody></table>"
      ],
      "text/latex": [
       "\\begin{tabular}{r|ccccccc}\n",
       "\t& close & reason & buy & sell & price & pnl & capital\\\\\n",
       "\t\\hline\n",
       "\t& Float64 & String & Float64 & Float64 & Float64 & Float64 & Float64\\\\\n",
       "\t\\hline\n",
       "\t1 & 28880.0 & long & 0.00111697 & 0.0 & 28908.9 & 0.0 & 100.0 \\\\\n",
       "\t2 & 30695.1 & TP & 0.0 & 0.00111697 & 30664.4 & 1.96082 & 101.961 \\\\\n",
       "\t3 & 30667.2 & long & 0.0010725 & 0.0 & 30697.9 & 0.0 & 101.961 \\\\\n",
       "\t4 & 32412.0 & TP & 0.0 & 0.0010725 & 32379.6 & 1.80362 & 103.764 \\\\\n",
       "\t5 & 33355.1 & long & 0.00100352 & 0.0 & 33388.4 & 0.0 & 103.764 \\\\\n",
       "\t6 & 32341.2 & SL & 0.0 & 0.00100352 & 32308.8 & -1.08343 & 102.681 \\\\\n",
       "\t7 & 31718.7 & long & 0.00104427 & 0.0 & 31750.4 & 0.0 & 102.681 \\\\\n",
       "\t8 & 30682.1 & SL & 0.0 & 0.00104427 & 30651.4 & -1.14766 & 101.533 \\\\\n",
       "\t9 & 34179.7 & long & 0.00095825 & 0.0 & 34213.9 & 0.0 & 101.533 \\\\\n",
       "\t10 & 36015.9 & TP & 0.0 & 0.00095825 & 35979.9 & 1.69226 & 103.226 \\\\\n",
       "\t11 & 37853.4 & long & 0.000879673 & 0.0 & 37891.2 & 0.0 & 103.226 \\\\\n",
       "\t12 & 36631.0 & SL & 0.0 & 0.000879673 & 36594.3 & -1.14083 & 102.085 \\\\\n",
       "\t13 & 37181.7 & long & 0.000885665 & 0.0 & 37218.9 & 0.0 & 102.085 \\\\\n",
       "\t14 & 39358.3 & TP & 0.0 & 0.000885665 & 39319.0 & 1.85995 & 103.945 \\\\\n",
       "\t15 & 40231.5 & long & 0.000833441 & 0.0 & 40271.7 & 0.0 & 103.945 \\\\\n",
       "\t16 & 38984.9 & SL & 0.0 & 0.000833441 & 38945.9 & -1.10501 & 102.84 \\\\\n",
       "\t17 & 40110.8 & long & 0.000827063 & 0.0 & 40150.9 & 0.0 & 102.84 \\\\\n",
       "\t18 & 38165.4 & SL & 0.0 & 0.000827063 & 38127.2 & -1.67367 & 101.166 \\\\\n",
       "\t19 & 35340.4 & long & 0.000923425 & 0.0 & 35375.8 & 0.0 & 101.166 \\\\\n",
       "\t20 & 33942.2 & SL & 0.0 & 0.000923425 & 33908.2 & -1.35513 & 99.8109 \\\\\n",
       "\t21 & 39014.1 & long & 0.000825268 & 0.0 & 39053.1 & 0.0 & 99.8109 \\\\\n",
       "\t22 & 37808.9 & SL & 0.0 & 0.000825268 & 37771.1 & -1.058 & 98.7529 \\\\\n",
       "\t23 & 36735.8 & long & 0.000867159 & 0.0 & 36772.5 & 0.0 & 98.7529 \\\\\n",
       "\t24 & 35547.1 & SL & 0.0 & 0.000867159 & 35511.6 & -1.09346 & 97.6595 \\\\\n",
       "\t25 & 35880.0 & long & 0.000878012 & 0.0 & 35915.9 & 0.0 & 97.6595 \\\\\n",
       "\t26 & 34801.8 & SL & 0.0 & 0.000878012 & 34767.0 & -1.00871 & 96.6508 \\\\\n",
       "\t27 & 32835.3 & long & 0.000949517 & 0.0 & 32868.1 & 0.0 & 96.6508 \\\\\n",
       "\t28 & 31714.3 & SL & 0.0 & 0.000949517 & 31682.6 & -1.12564 & 95.5251 \\\\\n",
       "\t29 & 33411.5 & long & 0.000922273 & 0.0 & 33445.0 & 0.0 & 95.5251 \\\\\n",
       "\t30 & 32274.8 & SL & 0.0 & 0.000922273 & 32242.5 & -1.10901 & 94.4161 \\\\\n",
       "\t$\\dots$ & $\\dots$ & $\\dots$ & $\\dots$ & $\\dots$ & $\\dots$ & $\\dots$ & $\\dots$ \\\\\n",
       "\\end{tabular}\n"
      ],
      "text/plain": [
       "81×7 DataFrame. Omitted printing of 1 columns\n",
       "│ Row │ close   │ reason │ buy         │ sell        │ price   │ pnl      │\n",
       "│     │ \u001b[90mFloat64\u001b[39m │ \u001b[90mString\u001b[39m │ \u001b[90mFloat64\u001b[39m     │ \u001b[90mFloat64\u001b[39m     │ \u001b[90mFloat64\u001b[39m │ \u001b[90mFloat64\u001b[39m  │\n",
       "├─────┼─────────┼────────┼─────────────┼─────────────┼─────────┼──────────┤\n",
       "│ 1   │ 28880.0 │ long   │ 0.00111697  │ 0.0         │ 28908.9 │ 0.0      │\n",
       "│ 2   │ 30695.1 │ TP     │ 0.0         │ 0.00111697  │ 30664.4 │ 1.96082  │\n",
       "│ 3   │ 30667.2 │ long   │ 0.0010725   │ 0.0         │ 30697.9 │ 0.0      │\n",
       "│ 4   │ 32412.0 │ TP     │ 0.0         │ 0.0010725   │ 32379.6 │ 1.80362  │\n",
       "│ 5   │ 33355.1 │ long   │ 0.00100352  │ 0.0         │ 33388.4 │ 0.0      │\n",
       "│ 6   │ 32341.2 │ SL     │ 0.0         │ 0.00100352  │ 32308.8 │ -1.08343 │\n",
       "│ 7   │ 31718.7 │ long   │ 0.00104427  │ 0.0         │ 31750.4 │ 0.0      │\n",
       "│ 8   │ 30682.1 │ SL     │ 0.0         │ 0.00104427  │ 30651.4 │ -1.14766 │\n",
       "│ 9   │ 34179.7 │ long   │ 0.00095825  │ 0.0         │ 34213.9 │ 0.0      │\n",
       "│ 10  │ 36015.9 │ TP     │ 0.0         │ 0.00095825  │ 35979.9 │ 1.69226  │\n",
       "⋮\n",
       "│ 71  │ 55656.4 │ long   │ 0.000593629 │ 0.0         │ 55712.1 │ 0.0      │\n",
       "│ 72  │ 59144.3 │ TP     │ 0.0         │ 0.000593629 │ 59085.2 │ 2.00237  │\n",
       "│ 73  │ 60032.3 │ long   │ 0.000561117 │ 0.0         │ 60092.4 │ 0.0      │\n",
       "│ 74  │ 58021.1 │ SL     │ 0.0         │ 0.000561117 │ 57963.0 │ -1.1948  │\n",
       "│ 75  │ 57975.9 │ long   │ 0.000574372 │ 0.0         │ 58033.9 │ 0.0      │\n",
       "│ 76  │ 55978.8 │ SL     │ 0.0         │ 0.000574372 │ 55922.8 │ -1.21256 │\n",
       "│ 77  │ 55552.6 │ long   │ 0.000592386 │ 0.0         │ 55608.2 │ 0.0      │\n",
       "│ 78  │ 53735.9 │ SL     │ 0.0         │ 0.000592386 │ 53682.1 │ -1.14097 │\n",
       "│ 79  │ 54100.0 │ long   │ 0.000601489 │ 0.0         │ 54154.1 │ 0.0      │\n",
       "│ 80  │ 57126.2 │ TP     │ 0.0         │ 0.000601489 │ 57069.0 │ 1.75329  │\n",
       "│ 81  │ 58173.8 │ long   │ 0.00056909  │ 0.0         │ 58232.0 │ 0.0      │"
      ]
     },
     "execution_count": 105,
     "metadata": {},
     "output_type": "execute_result"
    }
   ],
   "source": [
    "CSV.write(\"trades.csv\", trades)\n",
    "trades[:,2:8]"
   ]
  },
  {
   "cell_type": "code",
   "execution_count": null,
   "id": "70595f30-08c4-4b29-8279-ed4a1bd15dad",
   "metadata": {},
   "outputs": [],
   "source": []
  }
 ],
 "metadata": {
  "kernelspec": {
   "display_name": "Julia 1.6.1",
   "language": "julia",
   "name": "julia-1.6"
  },
  "language_info": {
   "file_extension": ".jl",
   "mimetype": "application/julia",
   "name": "julia",
   "version": "1.6.1"
  }
 },
 "nbformat": 4,
 "nbformat_minor": 5
}
