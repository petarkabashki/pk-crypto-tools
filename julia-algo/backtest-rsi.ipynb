{
 "cells": [
  {
   "cell_type": "code",
   "execution_count": 1,
   "id": "df274168",
   "metadata": {},
   "outputs": [
    {
     "data": {
      "text/html": [
       "<script>\n",
       "// Immediately-invoked-function-expression to avoid global variables.\n",
       "(function() {\n",
       "    var warning_div = document.getElementById(\"webio-warning-10866643820967124776\");\n",
       "    var hide = function () {\n",
       "        var script = document.getElementById(\"webio-setup-11019370979032038234\");\n",
       "        var parent = script && script.parentElement;\n",
       "        var grandparent = parent && parent.parentElement;\n",
       "        if (grandparent) {\n",
       "            grandparent.style.display = \"none\";\n",
       "        }\n",
       "        warning_div.style.display = \"none\";\n",
       "    };\n",
       "    if (typeof Jupyter !== \"undefined\") {\n",
       "        console.log(\"WebIO detected Jupyter notebook environment.\");\n",
       "        // Jupyter notebook.\n",
       "        var extensions = (\n",
       "            Jupyter\n",
       "            && Jupyter.notebook.config.data\n",
       "            && Jupyter.notebook.config.data.load_extensions\n",
       "        );\n",
       "        if (extensions && extensions[\"webio-jupyter-notebook\"]) {\n",
       "            // Extension already loaded.\n",
       "            console.log(\"Jupyter WebIO nbextension detected; not loading ad-hoc.\");\n",
       "            hide();\n",
       "            return;\n",
       "        }\n",
       "    } else if (window.location.pathname.includes(\"/lab\")) {\n",
       "        // Guessing JupyterLa\n",
       "        console.log(\"Jupyter Lab detected; make sure the @webio/jupyter-lab-provider labextension is installed.\");\n",
       "        hide();\n",
       "        return;\n",
       "    }\n",
       "})();\n",
       "\n",
       "</script>\n",
       "<p\n",
       "    id=\"webio-warning-10866643820967124776\"\n",
       "    class=\"output_text output_stderr\"\n",
       "    style=\"padding: 1em; font-weight: bold;\"\n",
       ">\n",
       "    Unable to load WebIO. Please make sure WebIO works for your Jupyter client.\n",
       "    For troubleshooting, please see <a href=\"https://juliagizmos.github.io/WebIO.jl/latest/providers/ijulia/\">\n",
       "    the WebIO/IJulia documentation</a>.\n",
       "    <!-- TODO: link to installation docs. -->\n",
       "</p>\n"
      ],
      "text/plain": [
       "HTML{String}(\"<script>\\n// Immediately-invoked-function-expression to avoid global variables.\\n(function() {\\n    var warning_div = document.getElementById(\\\"webio-warning-10866643820967124776\\\");\\n    var hide = function () {\\n        var script = document.getElementById(\\\"webio-setup-11019370979032038234\\\");\\n        var parent = script && script.parentElement;\\n        var grandparent = parent && parent.parentElement;\\n        if (grandparent) {\\n            grandparent.style.display = \\\"none\\\";\\n        }\\n        warning_div.style.display = \\\"none\\\";\\n    };\\n    if (typeof Jupyter !== \\\"undefined\\\") {\\n        console.log(\\\"WebIO detected Jupyter notebook environment.\\\");\\n        // Jupyter notebook.\\n        var extensions = (\\n            Jupyter\\n            && Jupyter.notebook.config.data\\n            && Jupyter.notebook.config.data.load_extensions\\n        );\\n        if (extensions && extensions[\\\"webio-jupyter-notebook\\\"]) {\\n            // Extension already loaded.\\n            console.log(\\\"Jupyter WebIO nbextension detected; not loading ad-hoc.\\\");\\n            hide();\\n            return;\\n        }\\n    } else if (window.location.pathname.includes(\\\"/lab\\\")) {\\n        // Guessing JupyterLa\\n        console.log(\\\"Jupyter Lab detected; make sure the @webio/jupyter-lab-provider labextension is installed.\\\");\\n        hide();\\n        return;\\n    }\\n})();\\n\\n</script>\\n<p\\n    id=\\\"webio-warning-10866643820967124776\\\"\\n    class=\\\"output_text output_stderr\\\"\\n    style=\\\"padding: 1em; font-weight: bold;\\\"\\n>\\n    Unable to load WebIO. Please make sure WebIO works for your Jupyter client.\\n    For troubleshooting, please see <a href=\\\"https://juliagizmos.github.io/WebIO.jl/latest/providers/ijulia/\\\">\\n    the WebIO/IJulia documentation</a>.\\n    <!-- TODO: link to installation docs. -->\\n</p>\\n\")"
      ]
     },
     "metadata": {},
     "output_type": "display_data"
    },
    {
     "data": {
      "text/plain": [
       "calc_wavelet (generic function with 1 method)"
      ]
     },
     "execution_count": 1,
     "metadata": {},
     "output_type": "execute_result"
    }
   ],
   "source": [
    "using Pipe\n",
    "using DataFrames\n",
    "# using StatsPlots\n",
    "using CSV\n",
    "# using RollingFunctions\n",
    "using Query\n",
    "# using GLMakie\n",
    "\n",
    "using JSON\n",
    "using DataFrames\n",
    "using Dates\n",
    "using Colors\n",
    "# using ColorSchemes\n",
    "using Indicators\n",
    "\n",
    "import Colors\n",
    "using Plots\n",
    "using Interact\n",
    "# using JuliaDB\n",
    "# using Wavelets,WaveletsExt\n",
    "# using LinearAlgebra\n",
    "# import Pkg; Pkg.add(\"ShiftedArrays\")\n",
    "# using ShiftedArrays\n",
    "include(\"utils.jl\")"
   ]
  },
  {
   "cell_type": "code",
   "execution_count": null,
   "id": "28649042",
   "metadata": {},
   "outputs": [],
   "source": [
    "\n"
   ]
  },
  {
   "cell_type": "code",
   "execution_count": 2,
   "id": "e27136ce",
   "metadata": {},
   "outputs": [],
   "source": [
    "json_data_folder = \"../user_data/data/binance\"\n",
    "json_filename = \"BTC_USDT-1m.json\"\n",
    "json_filepath = \"$json_data_folder/$json_filename\"\n",
    "f = open(json_filepath, \"r\")\n",
    "json_data = JSON.parse(f)\n",
    "close(f)"
   ]
  },
  {
   "cell_type": "code",
   "execution_count": 3,
   "id": "278ff7dc",
   "metadata": {},
   "outputs": [
    {
     "data": {
      "text/plain": [
       "129177"
      ]
     },
     "execution_count": 3,
     "metadata": {},
     "output_type": "execute_result"
    }
   ],
   "source": [
    "dfa = DataFrame(unix_time = Int64[], open=Float64[], high=Float64[], low=Float64[], close=Float64[], volume=Float64[])\n",
    "for r in json_data push!(dfa, r) end\n",
    "dfa.unix_time .= dfa.unix_time ./1000\n",
    "# dfa.time .= unix2datetime.(dfa.unix_time)\n",
    "\n",
    "insertcols!(dfa, :time => unix2datetime.(dfa.unix_time))\n",
    "nrow(dfa)"
   ]
  },
  {
   "cell_type": "code",
   "execution_count": 4,
   "id": "c9b59b02",
   "metadata": {},
   "outputs": [
    {
     "data": {
      "text/plain": [
       "80207"
      ]
     },
     "execution_count": 4,
     "metadata": {},
     "output_type": "execute_result"
    }
   ],
   "source": [
    "start_date = DateTime(2021, 4, 1)\n",
    "end_date = DateTime(2021, 5, 27)\n",
    "vdf = dfa[(dfa.time .>= start_date) .& (dfa.time .<= end_date) , :]\n",
    "ut, tt, hh, ll, cc = vdf.unix_time, vdf.time, vdf.high, vdf.low, vdf.close\n",
    "# h14max = [fill(vdf[1,:high],8-1)...,rollmax(vdf.high, 8)...]\n",
    "#  length(h14max), length(vdf.close)\n",
    "# hlc = [hh ll cc]\n",
    "length(tt)"
   ]
  },
  {
   "cell_type": "code",
   "execution_count": 5,
   "id": "bbc09b4c",
   "metadata": {},
   "outputs": [
    {
     "data": {
      "text/plain": [
       "1"
      ]
     },
     "execution_count": 5,
     "metadata": {},
     "output_type": "execute_result"
    }
   ],
   "source": [
    "ar = cc\n",
    "rsi14 = rsi(ar,n=14)\n",
    "rsi26 = rsi(ar,n=26)\n",
    "# ema = Indicators.ema\n",
    "# ema26 = ema(ar,n=26)\n",
    "ema50 = ema(ar,n=330)\n",
    "ema100 = ema(ar,n=100)\n",
    "ema200 = ema(ar,n=200)\n",
    "# ema400 = ema(ar,n=400)\n",
    "# sma = Indicators.sma\n",
    "# sma26 = sma(ar,n=26)\n",
    "# sma50 = sma(ar,n=50)\n",
    "# sma100 = sma(ar,n=100)\n",
    "# sma200 = sma(ar,n=200)\n",
    "# sma400 = sma(ar,n=400)\n",
    "# sma800 = sma(ar,n=800)\n",
    "# ppsar = psar(ar)\n",
    "ppsar = psar([hh ll])\n",
    "1\n",
    "# ar_emas = Dict([i => ema(ar, n=2^i) for i in 4:9])"
   ]
  },
  {
   "cell_type": "code",
   "execution_count": null,
   "id": "55f7c141",
   "metadata": {},
   "outputs": [],
   "source": []
  },
  {
   "cell_type": "code",
   "execution_count": 12,
   "id": "11232e00",
   "metadata": {},
   "outputs": [],
   "source": [
    "ar = cc\n",
    "\n",
    "capital = 10000.\n",
    "risk_percent = 0.01\n",
    "qfee = 0.001\n",
    "\n",
    "dfo = DataFrame(ut = Int64[], \n",
    "        order = Symbol[],\n",
    "        reason = Symbol[],\n",
    "        price = Float64[],\n",
    "        stop = Float64[],\n",
    "        qty = Float64[],\n",
    "        pnl = Float64[],\n",
    "        capital = Float64[]\n",
    "    )\n",
    "\n",
    "push!(dfo, (ut = ut[1], order = :long, reason = :toolong, price = 0, stop = 0, qty = 0, pnl = 0, capital = capital))\n",
    "\n",
    "in_long_pos = false\n",
    "qlbuysig = 0.98\n",
    "qlsellsig = 1.01\n",
    "qlstopsig = 0.99\n",
    "\n",
    "ar = cc\n",
    "# arsma100 = Float64[]\n",
    "# arema100 = Float64[]\n",
    "\n",
    "for i in 1:length(ar)\n",
    "    \n",
    "    ord = last(dfo)\n",
    "    \n",
    "    if !in_long_pos\n",
    "        if rsi26[i] <= 28 # && ema50[i] > (ema100[i] .* 0.997) && ema100[i] >= (ema200[i] .* 1.001)\n",
    "            risk_size = capital * risk_percent\n",
    "            stop_price = ar[i] * 0.99 * (1-qfee)\n",
    "            \n",
    "            buy_price = ar[i]*(1+qfee)\n",
    "            buyq = risk_size / (buy_price - stop_price)\n",
    "            \n",
    "            push!(dfo, (ut = ut[i], order = :long, reason = :enter, price = buy_price, qty = buyq,\n",
    "                    stop = stop_price, pnl = 0, capital = capital))\n",
    "            \n",
    "            in_long_pos = true\n",
    "        end\n",
    "    else\n",
    "        if ar[i] >= ord.price * qlsellsig  # target         \n",
    "            sell_price = ar[i]*(1-qfee)\n",
    "            profit_loss = ord.qty * (sell_price - ord.price)\n",
    "            capital = capital + profit_loss\n",
    "            push!(dfo, (ut = ut[i], order = :long, reason = :target, price = sell_price,\n",
    "                    stop = 0, qty = ord.qty, pnl = profit_loss, capital = capital))\n",
    "            \n",
    "            in_long_pos = false\n",
    "#             println(\"TARGET:\\t$profit_loss, \")\n",
    "            \n",
    "        elseif ar[i] <= ord.stop # SL\n",
    "            sell_price = ar[i]*(1-qfee)\n",
    "            profit_loss = ord.qty * (sell_price - ord.price)\n",
    "            capital = capital + profit_loss\n",
    "            \n",
    "            push!(dfo, (ut = ut[i], order = :long, reason = :stoploss, price = sell_price, stop = 0, \n",
    "                    qty = ord.qty, pnl = profit_loss, capital = capital))\n",
    "            in_long_pos = false\n",
    "#             println(\"STOPLOSS:\\t$profit_loss,\")\n",
    "        end\n",
    "        \n",
    "    end\n",
    "#     println(capital)\n",
    "    \n",
    "end"
   ]
  },
  {
   "cell_type": "code",
   "execution_count": null,
   "id": "5daeb800",
   "metadata": {},
   "outputs": [],
   "source": [
    "last(dfo)"
   ]
  },
  {
   "cell_type": "code",
   "execution_count": null,
   "id": "d2b0ecb3",
   "metadata": {},
   "outputs": [],
   "source": [
    "dfo"
   ]
  },
  {
   "cell_type": "code",
   "execution_count": null,
   "id": "f8309305",
   "metadata": {},
   "outputs": [],
   "source": []
  },
  {
   "cell_type": "code",
   "execution_count": null,
   "id": "c69b6f6f",
   "metadata": {},
   "outputs": [],
   "source": []
  },
  {
   "cell_type": "code",
   "execution_count": null,
   "id": "056290c9",
   "metadata": {},
   "outputs": [],
   "source": []
  },
  {
   "cell_type": "code",
   "execution_count": null,
   "id": "36dc17bd",
   "metadata": {},
   "outputs": [],
   "source": []
  },
  {
   "cell_type": "code",
   "execution_count": null,
   "id": "c93cb504",
   "metadata": {},
   "outputs": [],
   "source": []
  },
  {
   "cell_type": "code",
   "execution_count": null,
   "id": "3299ab36",
   "metadata": {},
   "outputs": [],
   "source": [
    "ar = cc\n",
    "ar_len = length(ar)\n",
    "plot_box = Observable{Any}(dom\"div\"())\n",
    "\n",
    "\n",
    "window_size = 60 * 8 *3\n",
    "\n",
    "num_windows = Int64(trunc(ar_len/window_size*4))\n",
    "\n",
    "window_no_slider = slider(1:num_windows; label=\"start\", default=7)\n",
    "\n",
    "window_start = Interact.@map max(1, Int(&window_no_slider * window_size / 4))\n",
    "window_end = Interact.@map min(ar_len, &window_start+window_size-1)\n",
    "\n",
    "rng = Interact.@map &window_start: &window_end\n",
    "\n",
    "put = Interact.@map ut[&rng]\n",
    "par = Interact.@map ar[&rng]\n",
    "prsi14 = Interact.@map rsi14[&rng]\n",
    "prsi26 = Interact.@map rsi26[&rng]\n",
    "pema50 = Interact.@map ema50[&rng]\n",
    "pema100 = Interact.@map ema100[&rng]\n",
    "pema200 = Interact.@map ema200[&rng]\n",
    "pppsar = Interact.@map ppsar[&rng]\n",
    "\n",
    "wdfo = Interact.@map dfo[(dfo.ut .>= first(&put)) .& (dfo.ut .<= last(&put)), :]\n",
    "\n",
    "# buys = Interact.@map filter(row -> row.reason .== :long, &wdfo) \n",
    "# targets = Interact.@map filter(row -> row.reason .== :target, &wdfo) \n",
    "# stoplosses = Interact.@map filter(row -> row.reason .== :stoploss, &wdfo) \n",
    "\n",
    "function draw_it_all(ut, ar, ema50,ema100,ema200, rsi14,rsi26, ppsar, dfo)\n",
    "    \n",
    "#     wtdo = dfo[(dfo.ut .>= ut[window_start]) .& (dfo.ut .<= ut[window_end]), :]\n",
    "    \n",
    "    buys = dfo[dfo.reason .== :enter,:]\n",
    "    targets = dfo[(dfo.reason .== :target),:]\n",
    "    stoplosses = dfo[(dfo.reason .== :stoploss),:]\n",
    "    \n",
    "    f1 = plot(ut, ar) \n",
    "    plot!(ut,ema50)\n",
    "    plot!(ut,ema100)\n",
    "    plot!(ut,ema200)\n",
    "    scatter!(ut,ppsar)\n",
    "    \n",
    "    nrow(buys) > 0 && vline!(buys.ut, color=:blue)\n",
    "    nrow(targets) > 0 && vline!(targets.ut, color=:green)\n",
    "    nrow(stoplosses) > 0 && vline!(stoplosses.ut, color=:red)\n",
    "    nrow(buys) > 0 && scatter!(buys.ut, buys.price * qlsellsig, color=:green)\n",
    "    nrow(buys) > 0 && scatter!(buys.ut, buys.price * qlstopsig, color=:red)\n",
    "\n",
    "#     vline!(ut[Int(length(ut)/2)])\n",
    "    f2 = plot(ut,rsi26, linewidth=1, color=:blue)\n",
    "#     plot!(ut,rsi26)\n",
    "    hline!([30,70])\n",
    "    plt = plot(f1, f2, layout=@layout[a{0.6h}; b{0.25h};], legend=nothing, size=(1200,400))\n",
    "    dom\"div\"(vbox(plt,dfo))\n",
    "end\n",
    "\n",
    "map!(draw_it_all, plot_box, put, par, pema50,pema100,pema200, prsi14, prsi26,pppsar, wdfo)\n",
    "ui = dom\"div\"(window_no_slider,plot_box)\n"
   ]
  },
  {
   "cell_type": "code",
   "execution_count": null,
   "id": "23857b8e",
   "metadata": {},
   "outputs": [],
   "source": [
    "nrow(dfo)"
   ]
  },
  {
   "cell_type": "code",
   "execution_count": null,
   "id": "52038616",
   "metadata": {},
   "outputs": [],
   "source": [
    "last(dfo)"
   ]
  },
  {
   "cell_type": "code",
   "execution_count": null,
   "id": "a40785d3",
   "metadata": {},
   "outputs": [],
   "source": [
    "maema_1_ar"
   ]
  },
  {
   "cell_type": "code",
   "execution_count": null,
   "id": "b3dc91ff",
   "metadata": {},
   "outputs": [],
   "source": [
    "wnd[:window_size] "
   ]
  },
  {
   "cell_type": "code",
   "execution_count": null,
   "id": "26a76e4d",
   "metadata": {},
   "outputs": [],
   "source": [
    "wave_slider[]"
   ]
  },
  {
   "cell_type": "code",
   "execution_count": null,
   "id": "050cc3a0",
   "metadata": {},
   "outputs": [],
   "source": [
    "i = 1000\n",
    "i - max(1,i - 512)"
   ]
  },
  {
   "cell_type": "code",
   "execution_count": null,
   "id": "e1c7dd83",
   "metadata": {},
   "outputs": [],
   "source": [
    "wt = wavelet(WT.Coiflet{4}(), WT.Filter, WT.Periodic)"
   ]
  },
  {
   "cell_type": "code",
   "execution_count": null,
   "id": "6ab8eb5c",
   "metadata": {},
   "outputs": [],
   "source": [
    "2^8"
   ]
  },
  {
   "cell_type": "code",
   "execution_count": null,
   "id": "2426928f",
   "metadata": {},
   "outputs": [],
   "source": [
    "length(ar)"
   ]
  },
  {
   "cell_type": "code",
   "execution_count": null,
   "id": "07a42dfe",
   "metadata": {},
   "outputs": [],
   "source": []
  },
  {
   "cell_type": "code",
   "execution_count": null,
   "id": "5581d3ae",
   "metadata": {},
   "outputs": [],
   "source": []
  }
 ],
 "metadata": {
  "@webio": {
   "lastCommId": "f056167134774573bdad1c714bb7e475",
   "lastKernelId": "ce06e6c7-ceeb-4aab-83d9-9f73c639453a"
  },
  "kernelspec": {
   "display_name": "Julia 1.6.1",
   "language": "julia",
   "name": "julia-1.6"
  },
  "language_info": {
   "file_extension": ".jl",
   "mimetype": "application/julia",
   "name": "julia",
   "version": "1.6.1"
  }
 },
 "nbformat": 4,
 "nbformat_minor": 5
}
