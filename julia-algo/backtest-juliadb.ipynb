{
 "cells": [
  {
   "cell_type": "code",
   "execution_count": null,
   "id": "df274168",
   "metadata": {},
   "outputs": [],
   "source": [
    "using Pipe\n",
    "using DataFrames\n",
    "# using StatsPlots\n",
    "using CSV\n",
    "# using RollingFunctions\n",
    "using Query\n",
    "# using GLMakie\n",
    "\n",
    "using JSON\n",
    "using DataFrames\n",
    "using Dates\n",
    "using Colors\n",
    "# using ColorSchemes\n",
    "using Indicators\n",
    "\n",
    "import Colors\n",
    "using Plots\n",
    "using Interact\n",
    "using JuliaDB"
   ]
  },
  {
   "cell_type": "code",
   "execution_count": null,
   "id": "19916276",
   "metadata": {},
   "outputs": [],
   "source": [
    "x = 1:10\n",
    "y = vcat(fill('a', 4), fill('b', 6))\n",
    "z = randn(10);"
   ]
  },
  {
   "cell_type": "code",
   "execution_count": null,
   "id": "e4419f07",
   "metadata": {},
   "outputs": [],
   "source": [
    "t = table((x=x, y=y, z=z); pkey = [:x, :y])"
   ]
  },
  {
   "cell_type": "code",
   "execution_count": null,
   "id": "e27136ce",
   "metadata": {},
   "outputs": [],
   "source": [
    "json_data_folder = \"../user_data/data/binance\"\n",
    "json_filename = \"BTC_USDT-1m.json\"\n",
    "json_filepath = \"$json_data_folder/$json_filename\"\n",
    "f = open(json_filepath, \"r\")\n",
    "json_data = JSON.parse(f)\n",
    "close(f)"
   ]
  },
  {
   "cell_type": "code",
   "execution_count": null,
   "id": "278ff7dc",
   "metadata": {},
   "outputs": [],
   "source": [
    "dfa = DataFrame(unix_time = Int64[], open=Float64[], high=Float64[], low=Float64[], close=Float64[], volume=Float64[])\n",
    "for r in json_data push!(dfa, r) end\n",
    "dfa.unix_time .= dfa.unix_time ./1000\n",
    "# dfa.time .= unix2datetime.(dfa.unix_time)\n",
    "\n",
    "insertcols!(dfa, :time => unix2datetime.(dfa.unix_time))\n",
    "nrow(dfa)"
   ]
  },
  {
   "cell_type": "code",
   "execution_count": null,
   "id": "c9b59b02",
   "metadata": {},
   "outputs": [],
   "source": [
    "start_date = DateTime(2021, 5, 20)\n",
    "end_date = DateTime(2021, 5, 27)\n",
    "vdf = dfa[(dfa.time .>= start_date) .& (dfa.time .<= end_date) , :]\n",
    "ut, tt, hh, ll, cc = vdf.unix_time, vdf.time, vdf.high, vdf.low, vdf.close\n",
    "# h14max = [fill(vdf[1,:high],8-1)...,rollmax(vdf.high, 8)...]\n",
    "#  length(h14max), length(vdf.close)\n",
    "# hlc = [hh ll cc]\n",
    "length(tt)"
   ]
  },
  {
   "cell_type": "code",
   "execution_count": null,
   "id": "73aa7ee4",
   "metadata": {},
   "outputs": [],
   "source": [
    "# xdf = DataFrame(ut = Int[], a = String[])\n",
    "# push!(xdf, (ut = 1, a = \"A\"))\n",
    "# push!(xdf, (ut = 2, a = \"B\"))\n",
    "# r = xdf[xdf.a .== \"A\",:]\n",
    "# r\n",
    "# push!(xdf, (ut = 1, a = \"A\"))\n",
    "# xdf"
   ]
  },
  {
   "cell_type": "code",
   "execution_count": null,
   "id": "2eb3e0f0",
   "metadata": {},
   "outputs": [],
   "source": [
    "# xdfq = dfq[(dfq.src .== :close) .& (dfq.lvl .!= \"HH\"), :]\n",
    "# xdfq.ut\n",
    "# dfq[(dfq.src .== :ema100) .& (dfq.lvl .== \"\"), :]\n",
    "len = nrow(dfq)\n",
    "    sdfq = dfq[max(1,len-400):len,:]\n",
    "    xdfq = sdfq[(sdfq.src .== :close) .& (sdfq.lvl .== \"\"), [\"ut\", \"val\"]]"
   ]
  },
  {
   "cell_type": "code",
   "execution_count": null,
   "id": "5ec2f0a4",
   "metadata": {},
   "outputs": [],
   "source": [
    "roll_sma(n,arma,i) = i == 1 ? ar[i] :\n",
    "        i < n+1 ? \n",
    "            arma[i-1] + (ar[i] - last(arma)) / i :\n",
    "            arma[i-1] + (ar[i] - ar[i-n])/n\n",
    "\n",
    "roll_sma(n,arma,i) = i == 1 ? ar[i] :\n",
    "        i < n+1 ? \n",
    "            arma[i-1] + (ar[i] - last(arma)) / i :\n",
    "            ar[i] * (2/(n+1)) + arma[i-1] * (1 - (2/(n+1)))\n",
    "#             arma[i-1] + (ar[i] - ar[i-n])/n\n",
    "\n",
    "\n"
   ]
  },
  {
   "cell_type": "code",
   "execution_count": null,
   "id": "4067a5d8",
   "metadata": {},
   "outputs": [],
   "source": [
    "# ri(a,i) = a[length(a) - i + 1]\n",
    "# rip(a,i) = ri(a,i)[2]\n",
    "# rit(a,i) = ri(a,i)[1]\n",
    "\n",
    "pushdfq(ut, src, lvl, val, nrec) = begin\n",
    "#     println(\"$ut, $src, $lvl, $val, $nrec\")\n",
    "    push!(dfq, (ut=ut,src=src,lvl=lvl,val=val))\n",
    "    if nrec == 0 return end    \n",
    "    len = nrow(dfq)\n",
    "    sdfq = dfq[max(1,len-1000):len,:]\n",
    "    xdfq = sdfq[(sdfq.src .== src) .& (sdfq.lvl .== lvl), [\"ut\", \"val\"]]\n",
    "    len = length(xdfq.ut)\n",
    "    if len < 3 return end\n",
    "#     println(arsrc[len, \"val\"])\n",
    "    if xdfq.val[len] > xdfq.val[len-1] && xdfq.val[len-2] > xdfq.val[len-1] #low\n",
    "#         push!(dfq, (ut=ut,src=src,lvl=lvl,val=val))\n",
    "        pushdfq(xdfq.ut[len-1], src, \"L$lvl\", xdfq.val[len-1], nrec - 1)\n",
    "    elseif xdfq.val[len] < xdfq.val[len-1] && xdfq.val[len-2] < xdfq.val[len-1] #high\n",
    "#         push!(dfq, (ut=ut,src=src,xlvl=lvl,val=val))\n",
    "        pushdfq(xdfq.ut[len-1], src, \"H$lvl\", xdfq.val[len-1], nrec - 1)\n",
    "    end\n",
    "\n",
    "end"
   ]
  },
  {
   "cell_type": "code",
   "execution_count": null,
   "id": "bbc09b4c",
   "metadata": {},
   "outputs": [],
   "source": [
    "ar = cc\n",
    "# ema = Indicators.ema\n",
    "# ema26 = ema(ar,n=26)\n",
    "# ema50 = ema(ar,n=330)\n",
    "ema100 = ema(ar,n=100)\n",
    "# ema200 = ema(ar,n=200)\n",
    "# sma = Indicators.sma\n",
    "# sma26 = sma(ar,n=26)\n",
    "# sma50 = sma(ar,n=50)\n",
    "sma100 = sma(ar,n=100)\n",
    "# sma200 = sma(ar,n=200)\n",
    "# sma400 = sma(ar,n=400)\n",
    "# sma800 = sma(ar,n=800)\n",
    "1"
   ]
  },
  {
   "cell_type": "code",
   "execution_count": null,
   "id": "de7abe75",
   "metadata": {},
   "outputs": [],
   "source": [
    "# push!(dfq, (ut=1,src=:close,lvl=\"lvl\",val=4))"
   ]
  },
  {
   "cell_type": "code",
   "execution_count": null,
   "id": "841743f7",
   "metadata": {},
   "outputs": [],
   "source": [
    "dfq = DataFrame(ut = Int64[], \n",
    "        src = Symbol[],\n",
    "        lvl = String[],\n",
    "        val = Float64[]\n",
    "    )\n",
    "arsma100 = []\n",
    "arema100 = []\n",
    "\n",
    "for i in 1:length(ar)\n",
    "    pushdfq(ut[i], :close, \"\", ar[i], 3)\n",
    "    push!(arsma100, roll_sma(100,arsma100,i))\n",
    "    push!(arema100, roll_sma(100,arema100,i))\n",
    "    pushdfq(ut[i], :sma100, \"\", last(arsma100), 3)\n",
    "    pushdfq(ut[i], :ema100, \"\", last(arema100), 3)\n",
    "end"
   ]
  },
  {
   "cell_type": "code",
   "execution_count": null,
   "id": "58f6c034",
   "metadata": {},
   "outputs": [],
   "source": [
    "\n",
    "# arsma100 = Float64[]\n",
    "# zema100 = dfq[(dfq.src .== :ema100),:]\n",
    "# qema100 = zema100[zema100.lvl .== \"\", :]\n",
    "# dfq"
   ]
  },
  {
   "cell_type": "code",
   "execution_count": null,
   "id": "dd741b56",
   "metadata": {},
   "outputs": [],
   "source": [
    "ar = cc\n",
    "\n",
    "capital = 10000.\n",
    "risk_percent = 0.01\n",
    "qfee = 0.001\n",
    "# dfo = DataFrame(ut = Int64[], \n",
    "#         order = Symbol[],\n",
    "#         reason = Symbol[],\n",
    "#         price = Float64[],\n",
    "#         stop = Float64[],\n",
    "#         qty = Float64[],\n",
    "#         pnl = Float64[],\n",
    "#         capital = Float64[]\n",
    "#     )\n",
    "\n",
    "# push!(dfo, (ut = ut[1], order = :long, reason = :toolong, price = 0, stop = 0, qty = 0, pnl = 0, capital = capital))\n",
    "\n",
    "in_long_pos = false\n",
    "qlbuysig = 0.98\n",
    "qlsellsig = 1.015\n",
    "qlstopsig = 0.99\n",
    "\n",
    "ar = cc\n",
    "# arsma100 = Float64[]\n",
    "# arema100 = Float64[]\n",
    "\n",
    "for i in 1:length(ar)\n",
    "#     pushdfq(ut[i], :close, \"\", ar[i], 3)\n",
    "#     push!(arsma100, roll_sma(100,arsma100,i))\n",
    "#     push!(arema100, roll_sma(100,arema100,i))\n",
    "#     pushdfq(ut[i], :sma100, \"\", last(arsma100), 3)\n",
    "#     pushdfq(ut[i], :ema100, \"\", last(arema100), 3)\n",
    "    \n",
    "#     if i < 120 || length(qh) < 1 || length(ql) < 1  continue end\n",
    "    \n",
    "#     ord = last(dfo)\n",
    "    \n",
    "#     if ord.reason !== :enter # not in position\n",
    "#         if ar[i] <= qlbuysig * sma100[i]\n",
    "#             risk_size = capital * risk_percent\n",
    "#             stop_price = ar[i] * 0.99 * (1-qfee)\n",
    "            \n",
    "#             buy_price = ar[i]*(1+qfee)\n",
    "#             buyq = risk_size / (buy_price - stop_price)\n",
    "            \n",
    "#             push!(dfo, (ut = ut[i], order = :long, reason = :enter, price = buy_price, qty = buyq,\n",
    "#                     stop = stop_price, pnl = 0, capital = capital))\n",
    "            \n",
    "#             in_long_pos = true\n",
    "#         end\n",
    "#     else\n",
    "#         if ar[i] >= ord.price * qlsellsig  # target         \n",
    "#             sell_price = ar[i]*(1-qfee)\n",
    "#             profit_loss = ord.qty * (sell_price - ord.price)\n",
    "#             capital = capital + profit_loss\n",
    "#             push!(dfo, (ut = ut[i], order = :long, reason = :target, price = sell_price,\n",
    "#                     stop = 0, qty = ord.qty, pnl = profit_loss, capital = capital))\n",
    "            \n",
    "#             in_long_pos = false\n",
    "# #             println(\"TARGET:\\t$profit_loss, \")\n",
    "            \n",
    "#         elseif ar[i] <= ord.stop # SL\n",
    "#             sell_price = ar[i]*(1-qfee)\n",
    "#             profit_loss = ord.qty * (sell_price - ord.price)\n",
    "#             capital = capital + profit_loss\n",
    "            \n",
    "#             push!(dfo, (ut = ut[i], order = :long, reason = :stoploss, price = sell_price, stop = 0, \n",
    "#                     qty = ord.qty, pnl = profit_loss, capital = capital))\n",
    "#             in_long_pos = false\n",
    "# #             println(\"STOPLOSS:\\t$profit_loss,\")\n",
    "#         end\n",
    "        \n",
    "#     end\n",
    "#     println(capital)\n",
    "    \n",
    "end"
   ]
  },
  {
   "cell_type": "code",
   "execution_count": null,
   "id": "d3137379",
   "metadata": {},
   "outputs": [],
   "source": [
    "# last(dfo).cap"
   ]
  },
  {
   "cell_type": "code",
   "execution_count": null,
   "id": "d89edaf7",
   "metadata": {},
   "outputs": [],
   "source": [
    "\n",
    "xsteps(a) = vcat([[a[i-1][1],  a[i][1], a[i][1], NaN] for i in 2:length(a)]...)\n",
    "ysteps(a) = vcat([[a[i-1][2],  a[i-1][2],  a[i][2], NaN] for i in 2:length(a)]...)\n",
    "steps!(a;args...) = plot!(xsteps(a), ysteps(a);args...)\n",
    "\n",
    "xqfind(ar,xut) = findall(x -> x[1] >= xut[1] && x[1] <= xut[length(xut)], ar)\n",
    "xofind(ar,xut) = findall(x -> x.t >= xut[1] && x.t <= xut[length(xut)], ar)\n",
    "ar = cc\n",
    "\n",
    "ticks_per_step = 500\n",
    "num_steps = Int(trunc(length(ar) / ticks_per_step * 4 ))\n",
    "\n",
    "mp = @manipulate for \n",
    "            no_step in slider(1:num_steps; label=\"start\", default=1)\n",
    "#             utstep in slider(100:3000; label=\"zoom\", default=800)\n",
    "    \n",
    "    sut = Int(trunc(no_step * ticks_per_step / 4))\n",
    "    eut = min(sut + ticks_per_step, length(ar))\n",
    "\n",
    "    xut = ut[sut:eut]\n",
    "    xtt = tt[sut:eut]\n",
    "    xar = ar[sut:eut]\n",
    "    \n",
    "    xema100= ema100[sut:eut]\n",
    "    \n",
    "    \n",
    "#     xarema100= arema100[sut:eut]\n",
    "#     xarsma100= arsma100[sut:eut]\n",
    "\n",
    "    xdfq = dfq[(dfq.ut .>= first(xut)) .& (dfq.ut .<= last(xut)), :]\n",
    "    xqema100 = xdfq[(xdfq.src .== :ema100) .& (xdfq.lvl .== \"\"), :]\n",
    "    xqema100LL = xdfq[(xdfq.src .== :ema100) .& (xdfq.lvl .== \"LL\"), :]\n",
    "    xqema100HH = xdfq[(xdfq.src .== :ema100) .& (xdfq.lvl .== \"HH\"), :]\n",
    "    xHH = xdfq[(xdfq.src .== :close) .& (xdfq.lvl .== \"HH\"), :]\n",
    "    xLL = xdfq[(xdfq.src .== :close) .& (xdfq.lvl .== \"LL\"), :]\n",
    "    xHHH = xdfq[(xdfq.src .== :close) .& (xdfq.lvl .== \"HHH\"), :]\n",
    "    xLLL = xdfq[(xdfq.src .== :close) .& (xdfq.lvl .== \"LLL\"), :]\n",
    "    xHLL = xdfq[(xdfq.src .== :close) .& (xdfq.lvl .== \"HLL\"), :]\n",
    "    \n",
    "    \n",
    "#     c_LL = xdfq[(xdfq.src .== :close) .& (xdfq.lvl .== \"LL\") , [\"ut\", \"val\"]]\n",
    "\n",
    "#     ftt = Dates.format.(xtt,\"dd:HH:MM\");\n",
    "    \n",
    "#     length(xtt) > 0 && latex(xtt[1])\n",
    "    \n",
    "    xticklabels = [ Dates.format(unix2datetime(x),\"dd-HH:MM\") for x in xut ]    \n",
    "    f = plot(xut, xar, size=(1400,600), color=:blue, lw=0.5, legend = :outertopright, labels=\"close\" )\n",
    "    xtick_range = 1:30:length(xut)\n",
    "    plot!(xticks=(xut[xtick_range],xticklabels[xtick_range]), xrot=45)\n",
    "\n",
    "#     plot!(xut, xema100)\n",
    "    plot!(xqema100.ut, xqema100.val)\n",
    "    \n",
    "#     scatter!(xLL.ut, xLL.val, markersize=4)\n",
    "#     scatter!(xHH.ut, xHH.val, markersize=4)\n",
    "#     scatter!(xHHH.ut, xHHH.val, markersize=4, label=\"xHHH\")\n",
    "    scatter!(xHLL.ut, xHLL.val, markersize=4, label=\"xHLL\")\n",
    "    scatter!(xLLL.ut, xLLL.val, markersize=4, label=\"xLLL\")\n",
    "#     scatter!(xqema100LL.ut, xqema100LL.val, label=\"xqema100LL\", markersize=4)\n",
    "#     scatter!(xqema100HH.ut, xqema100HH.val, label=\"xqema100HH\", markersize=4)\n",
    "    \n",
    "#     xarema100\n",
    "#     plot!(xut, xarsma100, label=\"arsma100\", color=:green)\n",
    "#     plot!(xut, xsma100, label=\"sma100\", color=:red)\n",
    "    \n",
    "#     plot!(xut, xema100 .* 1.01, label=\"ema100\", color=:red)\n",
    "    plot!(xqema100.ut, xqema100.val, fillrange=xqema100.val * qlbuysig, fillalpha=0.1, label=\"xqema100 * $qlbuysig\")\n",
    "#     c_LL.ut\n",
    "#     xqema100\n",
    "#     nrow(c_LL) > 0 && scatter!(c_LL.ut, c_LL.val)\n",
    "#     plot!(xut, xsma100, fillrange=xsma100*qlbuysig, fillalpha=0.1, label=\"xsma100 * $qlbuysig\")\n",
    "    \n",
    "    \n",
    "#     xql,xqh = ql[xqfind(ql,xut)],qh[xqfind(qh,xut)]\n",
    "#     xqll,xqhl = qll[xqfind(qll,xut)],qhl[xqfind(qhl,xut)]\n",
    "#     xqlh,xqhh = qlh[xqfind(qlh,xut)],qhh[xqfind(qhh,xut)]\n",
    "    \n",
    "#     xdfo = dfo[(dfo.ut .>= first(xut)) .& (dfo.ut .<= last(xut)), :]\n",
    "#     xenters = xdfo[xdfo.or .== enter, :ut]\n",
    "#     xstops = xdfo[xdfo.or .== enter, :ut]\n",
    "#     xtargets = xdfo[xdfo.or .== target, :ut]\n",
    "#     length(xenters) > 0 && vline!(xenters, linewidth=0.5, color=:blue)\n",
    "#     length(xstops) > 0 && vline!(xstops, linewidth=0.5, color=:red)\n",
    "#     length(xtargets) > 0 && vline!(xtargets, linewidth=0.5, color=:green)\n",
    "   \n",
    "#     scatter!(xqll, markersize=2, color=:red, label=\"xqll\")\n",
    "#     steps!(xqll, label=\"xqll\")\n",
    "#     scatter!(xqhl, markersize=2, color=:olive, label=\"xqhl\")\n",
    "#     steps!(xqhl, label=\"xqhl\")\n",
    "#      scatter!(xqhh, markersize=2, color=:red, label=\"xqhh\")\n",
    "#     steps!(xqhh, label=\"xqhh\")\n",
    "#     scatter!(xqhl, markersize=2, color=:olive, label=\"xqhl\")\n",
    "#     steps!(xqhl, label=\"xqhl\")   \n",
    "    \n",
    "    # plot!(xsteps(qll), ysteps(qll), fillrange=ysteps(qll)*1.01, fillalpha=0.1)\n",
    "    # steps!(qhl)\n",
    "\n",
    "\n",
    "\n",
    "#     f\n",
    "end\n",
    "#     using Blink\n",
    "#     w = Window()\n",
    "#     body!(w, mp);\n",
    "mp"
   ]
  },
  {
   "cell_type": "code",
   "execution_count": null,
   "id": "8f111a2c",
   "metadata": {},
   "outputs": [],
   "source": []
  },
  {
   "cell_type": "code",
   "execution_count": null,
   "id": "0a58a275",
   "metadata": {},
   "outputs": [],
   "source": []
  },
  {
   "cell_type": "code",
   "execution_count": null,
   "id": "2ec03f75",
   "metadata": {},
   "outputs": [],
   "source": [
    "JSON.json([2,3])"
   ]
  },
  {
   "cell_type": "code",
   "execution_count": null,
   "id": "b6d3a6b0",
   "metadata": {},
   "outputs": [],
   "source": [
    "# import Pkg; Pkg.add(\"HTTP\")\n",
    "# using HTTP\n",
    "HTTP.request(\"POST\", \"http://httpbin.org/post\", [], \"post body data\")"
   ]
  },
  {
   "cell_type": "code",
   "execution_count": null,
   "id": "9e5f29eb",
   "metadata": {},
   "outputs": [],
   "source": [
    "rootxchurl = \"https://api.kucoin.com\"\n",
    "conf = (readtimeout = 10,\n",
    "        pipeline_limit = 4,\n",
    "        retry = false,\n",
    "        redirect = false)\n",
    "\"$rootxchurl/api/v1/market/orderbook/level1?symbol=BTC-USDT\""
   ]
  },
  {
   "cell_type": "code",
   "execution_count": null,
   "id": "eb9e226b",
   "metadata": {},
   "outputs": [],
   "source": [
    "r = HTTP.get(\"$rootxchurl/api/v1/symbols\";conf...)\n",
    "1"
   ]
  },
  {
   "cell_type": "code",
   "execution_count": null,
   "id": "b15c093a",
   "metadata": {},
   "outputs": [],
   "source": [
    "status, jsres = r.status, (String(r.body))\n",
    "# r.json"
   ]
  },
  {
   "cell_type": "code",
   "execution_count": null,
   "id": "447cc860",
   "metadata": {},
   "outputs": [],
   "source": [
    "jsres"
   ]
  },
  {
   "cell_type": "code",
   "execution_count": null,
   "id": "2ee642b7",
   "metadata": {},
   "outputs": [],
   "source": [
    "res = JSON.parse(jsres)"
   ]
  },
  {
   "cell_type": "code",
   "execution_count": null,
   "id": "ea8d2933",
   "metadata": {},
   "outputs": [],
   "source": [
    "jsres"
   ]
  },
  {
   "cell_type": "code",
   "execution_count": null,
   "id": "cb103515",
   "metadata": {},
   "outputs": [],
   "source": [
    "maximum(cc)"
   ]
  },
  {
   "cell_type": "code",
   "execution_count": null,
   "id": "728c09c5",
   "metadata": {},
   "outputs": [],
   "source": [
    "length(cc)"
   ]
  },
  {
   "cell_type": "code",
   "execution_count": null,
   "id": "f8309305",
   "metadata": {},
   "outputs": [],
   "source": []
  },
  {
   "cell_type": "code",
   "execution_count": null,
   "id": "dedd8604",
   "metadata": {},
   "outputs": [],
   "source": []
  },
  {
   "cell_type": "code",
   "execution_count": null,
   "id": "5d4fb9b6",
   "metadata": {},
   "outputs": [],
   "source": []
  },
  {
   "cell_type": "code",
   "execution_count": null,
   "id": "e7d0e8a9",
   "metadata": {},
   "outputs": [],
   "source": []
  },
  {
   "cell_type": "code",
   "execution_count": null,
   "id": "9e50373c",
   "metadata": {},
   "outputs": [],
   "source": []
  }
 ],
 "metadata": {
  "@webio": {
   "lastCommId": null,
   "lastKernelId": null
  },
  "kernelspec": {
   "display_name": "Julia 1.6.1",
   "language": "julia",
   "name": "julia-1.6"
  },
  "language_info": {
   "file_extension": ".jl",
   "mimetype": "application/julia",
   "name": "julia",
   "version": "1.6.1"
  }
 },
 "nbformat": 4,
 "nbformat_minor": 5
}
