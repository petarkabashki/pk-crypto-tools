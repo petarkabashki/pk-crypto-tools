{
 "cells": [
  {
   "cell_type": "code",
   "execution_count": 3,
   "id": "91b964d1",
   "metadata": {},
   "outputs": [
    {
     "name": "stderr",
     "output_type": "stream",
     "text": [
      "┌ Info: Installing Jupyter WebIO extension...\n",
      "│   cmd = `\u001b[4m/Users/johnsmith/.venv/py-julia/bin/jupyter\u001b[24m \u001b[4mnbextension\u001b[24m \u001b[4minstall\u001b[24m \u001b[4m--user\u001b[24m \u001b[4m/Users/johnsmith/.julia/packages/WebIO/Fy9h1/deps/bundles/webio-jupyter-notebook.js\u001b[24m`\n",
      "└ @ WebIO /Users/johnsmith/.julia/packages/WebIO/Fy9h1/deps/jupyter.jl:237\n",
      "Up to date: /Users/johnsmith/Library/Jupyter/nbextensions/webio-jupyter-notebook.js\n",
      "\n",
      "    To initialize this nbextension in the browser every time the notebook (or other app) loads:\n",
      "    \n",
      "          jupyter nbextension enable <the entry point> --user\n",
      "    \n",
      "┌ Info: Enabling Jupyter WebIO extension...\n",
      "│   cmd = `\u001b[4m/Users/johnsmith/.venv/py-julia/bin/jupyter\u001b[24m \u001b[4mnbextension\u001b[24m \u001b[4menable\u001b[24m \u001b[4m--user\u001b[24m \u001b[4mwebio-jupyter-notebook\u001b[24m`\n",
      "└ @ WebIO /Users/johnsmith/.julia/packages/WebIO/Fy9h1/deps/jupyter.jl:241\n",
      "Enabling notebook extension webio-jupyter-notebook...\n",
      "      - Validating: \u001b[32mOK\u001b[0m\n"
     ]
    }
   ],
   "source": [
    "# using WebIO\n",
    "# WebIO.install_jupyter_nbextension()\n",
    "# WebIO.install_jupyter_labextension()"
   ]
  },
  {
   "cell_type": "code",
   "execution_count": 8,
   "id": "06286a53",
   "metadata": {},
   "outputs": [
    {
     "ename": "LoadError",
     "evalue": "IJulia is already running",
     "output_type": "error",
     "traceback": [
      "IJulia is already running",
      "",
      "Stacktrace:",
      " [1] error(s::String)",
      "   @ Base ./error.jl:33",
      " [2] notebook(; dir::String, detached::Bool)",
      "   @ IJulia ~/.julia/packages/IJulia/e8kqU/src/jupyter.jl:95",
      " [3] top-level scope",
      "   @ In[8]:2",
      " [4] eval",
      "   @ ./boot.jl:360 [inlined]",
      " [5] include_string(mapexpr::typeof(REPL.softscope), mod::Module, code::String, filename::String)",
      "   @ Base ./loading.jl:1094"
     ]
    }
   ],
   "source": [
    "# using IJulia\n",
    "notebook(dir=\".\")"
   ]
  },
  {
   "cell_type": "code",
   "execution_count": 1,
   "id": "58f85c5b",
   "metadata": {},
   "outputs": [
    {
     "data": {
      "text/html": [
       "<script>\n",
       "// Immediately-invoked-function-expression to avoid global variables.\n",
       "(function() {\n",
       "    var warning_div = document.getElementById(\"webio-warning-8176170534883823133\");\n",
       "    var hide = function () {\n",
       "        var script = document.getElementById(\"webio-setup-6034991457953961756\");\n",
       "        var parent = script && script.parentElement;\n",
       "        var grandparent = parent && parent.parentElement;\n",
       "        if (grandparent) {\n",
       "            grandparent.style.display = \"none\";\n",
       "        }\n",
       "        warning_div.style.display = \"none\";\n",
       "    };\n",
       "    if (typeof Jupyter !== \"undefined\") {\n",
       "        console.log(\"WebIO detected Jupyter notebook environment.\");\n",
       "        // Jupyter notebook.\n",
       "        var extensions = (\n",
       "            Jupyter\n",
       "            && Jupyter.notebook.config.data\n",
       "            && Jupyter.notebook.config.data.load_extensions\n",
       "        );\n",
       "        if (extensions && extensions[\"webio-jupyter-notebook\"]) {\n",
       "            // Extension already loaded.\n",
       "            console.log(\"Jupyter WebIO nbextension detected; not loading ad-hoc.\");\n",
       "            hide();\n",
       "            return;\n",
       "        }\n",
       "    } else if (window.location.pathname.includes(\"/lab\")) {\n",
       "        // Guessing JupyterLa\n",
       "        console.log(\"Jupyter Lab detected; make sure the @webio/jupyter-lab-provider labextension is installed.\");\n",
       "        hide();\n",
       "        return;\n",
       "    }\n",
       "})();\n",
       "\n",
       "</script>\n",
       "<p\n",
       "    id=\"webio-warning-8176170534883823133\"\n",
       "    class=\"output_text output_stderr\"\n",
       "    style=\"padding: 1em; font-weight: bold;\"\n",
       ">\n",
       "    Unable to load WebIO. Please make sure WebIO works for your Jupyter client.\n",
       "    For troubleshooting, please see <a href=\"https://juliagizmos.github.io/WebIO.jl/latest/providers/ijulia/\">\n",
       "    the WebIO/IJulia documentation</a>.\n",
       "    <!-- TODO: link to installation docs. -->\n",
       "</p>\n"
      ],
      "text/plain": [
       "HTML{String}(\"<script>\\n// Immediately-invoked-function-expression to avoid global variables.\\n(function() {\\n    var warning_div = document.getElementById(\\\"webio-warning-8176170534883823133\\\");\\n    var hide = function () {\\n        var script = document.getElementById(\\\"webio-setup-6034991457953961756\\\");\\n        var parent = script && script.parentElement;\\n        var grandparent = parent && parent.parentElement;\\n        if (grandparent) {\\n            grandparent.style.display = \\\"none\\\";\\n        }\\n        warning_div.style.display = \\\"none\\\";\\n    };\\n    if (typeof Jupyter !== \\\"undefined\\\") {\\n        console.log(\\\"WebIO detected Jupyter notebook environment.\\\");\\n        // Jupyter notebook.\\n        var extensions = (\\n            Jupyter\\n            && Jupyter.notebook.config.data\\n            && Jupyter.notebook.config.data.load_extensions\\n        );\\n        if (extensions && extensions[\\\"webio-jupyter-notebook\\\"]) {\\n            // Extension already loaded.\\n            console.log(\\\"Jupyter WebIO nbextension detected; not loading ad-hoc.\\\");\\n            hide();\\n            return;\\n        }\\n    } else if (window.location.pathname.includes(\\\"/lab\\\")) {\\n        // Guessing JupyterLa\\n        console.log(\\\"Jupyter Lab detected; make sure the @webio/jupyter-lab-provider labextension is installed.\\\");\\n        hide();\\n        return;\\n    }\\n})();\\n\\n</script>\\n<p\\n    id=\\\"webio-warning-8176170534883823133\\\"\\n    class=\\\"output_text output_stderr\\\"\\n    style=\\\"padding: 1em; font-weight: bold;\\\"\\n>\\n    Unable to load WebIO. Please make sure WebIO works for your Jupyter client.\\n    For troubleshooting, please see <a href=\\\"https://juliagizmos.github.io/WebIO.jl/latest/providers/ijulia/\\\">\\n    the WebIO/IJulia documentation</a>.\\n    <!-- TODO: link to installation docs. -->\\n</p>\\n\")"
      ]
     },
     "metadata": {},
     "output_type": "display_data"
    }
   ],
   "source": [
    "\n",
    "using WebIO\n",
    "using Interact\n",
    "using Colors, Plots"
   ]
  },
  {
   "cell_type": "code",
   "execution_count": 6,
   "id": "f9f74603",
   "metadata": {},
   "outputs": [
    {
     "data": {
      "application/vnd.webio.node+json": {
       "children": [
        "Hello, JuliaCon!"
       ],
       "instanceArgs": {
        "namespace": "html",
        "tag": "marquee"
       },
       "nodeType": "DOM",
       "props": {},
       "type": "node"
      },
      "text/html": [
       "<div\n",
       "    class=\"webio-mountpoint\"\n",
       "    data-webio-mountpoint=\"7891865767757514954\"\n",
       ">\n",
       "    <script>\n",
       "    if (window.require && require.defined && require.defined(\"nbextensions/webio-jupyter-notebook\")) {\n",
       "        console.log(\"Jupyter WebIO extension detected, not mounting.\");\n",
       "    } else if (window.WebIO) {\n",
       "        WebIO.mount(\n",
       "            document.querySelector('[data-webio-mountpoint=\"7891865767757514954\"]'),\n",
       "            {\"props\":{},\"nodeType\":\"DOM\",\"type\":\"node\",\"instanceArgs\":{\"namespace\":\"html\",\"tag\":\"marquee\"},\"children\":[\"Hello, JuliaCon!\"]},\n",
       "            window,\n",
       "        );\n",
       "    } else {\n",
       "        document\n",
       "            .querySelector('[data-webio-mountpoint=\"7891865767757514954\"]')\n",
       "            .innerHTML = (\n",
       "                '<div style=\"padding: 1em; background-color: #f8d6da; border: 1px solid #f5c6cb\">' +\n",
       "                '<p><strong>WebIO not detected.</strong></p>' +\n",
       "                '<p>Please read ' +\n",
       "                '<a href=\"https://juliagizmos.github.io/WebIO.jl/latest/troubleshooting/not-detected/\" target=\"_blank\">the troubleshooting guide</a> ' +\n",
       "                'for more information on how to resolve this issue.</p>' +\n",
       "                '<p><a href=\"https://juliagizmos.github.io/WebIO.jl/latest/troubleshooting/not-detected/\" target=\"_blank\">https://juliagizmos.github.io/WebIO.jl/latest/troubleshooting/not-detected/</a></p>' +\n",
       "                '</div>'\n",
       "            );\n",
       "    }\n",
       "    </script>\n",
       "</div>\n"
      ],
      "text/plain": [
       "(marquee\n",
       "  \"Hello, JuliaCon!\")"
      ]
     },
     "execution_count": 6,
     "metadata": {
      "application/vnd.webio.node+json": {
       "kernelId": null
      }
     },
     "output_type": "execute_result"
    }
   ],
   "source": [
    "node(:marquee, \"Hello, JuliaCon!\")"
   ]
  },
  {
   "cell_type": "code",
   "execution_count": 6,
   "id": "bbf38883",
   "metadata": {},
   "outputs": [
    {
     "data": {
      "application/vnd.webio.node+json": {
       "children": [
        {
         "children": [
          {
           "children": [
            "Press me!"
           ],
           "instanceArgs": {
            "namespace": "html",
            "tag": "button"
           },
           "nodeType": "DOM",
           "props": {
            "attributes": {
             "data-bind": "click: function (){this.clicks(this.clicks()+1)}, css: {'is-loading' : loading}"
            },
            "className": "is-medium button is-primary",
            "style": {}
           },
           "type": "node"
          }
         ],
         "instanceArgs": {
          "handlers": {
           "clicks": [
            "(function (val){return (val!=this.model[\"clicks\"]()) ? (this.valueFromJulia[\"clicks\"]=true, this.model[\"clicks\"](val)) : undefined})"
           ],
           "loading": [
            "(function (val){return (val!=this.model[\"loading\"]()) ? (this.valueFromJulia[\"loading\"]=true, this.model[\"loading\"](val)) : undefined})"
           ]
          },
          "id": "18285952568138862130",
          "imports": {
           "data": [
            {
             "name": "knockout",
             "type": "js",
             "url": "/assetserver/0fc6d61518197b1bf9b23217e9be1d2e00f2bb14-knockout.js"
            },
            {
             "name": "knockout_punches",
             "type": "js",
             "url": "/assetserver/24c12264eef2b01f723a21985ba5661f5564d7cf-knockout_punches.js"
            },
            {
             "name": null,
             "type": "js",
             "url": "/assetserver/85de428ae418ad26c1ce7e886d25374b3774afa9-all.js"
            },
            {
             "name": null,
             "type": "css",
             "url": "/assetserver/2cd8ff31326883094fe5a8ff21182264663b62be-style.css"
            },
            {
             "name": null,
             "type": "css",
             "url": "/assetserver/741bde2d4bf25f117d0ec4d43164cd1a050cf9de-bulma_confined.min.css"
            }
           ],
           "type": "async_block"
          },
          "mount_callbacks": [
           "function () {\n    var handler = (function (ko, koPunches) {\n    ko.punches.enableAll();\n    ko.bindingHandlers.numericValue = {\n        init: function(element, valueAccessor, allBindings, data, context) {\n            var stringified = ko.observable(ko.unwrap(valueAccessor()));\n            stringified.subscribe(function(value) {\n                var val = parseFloat(value);\n                if (!isNaN(val)) {\n                    valueAccessor()(val);\n                }\n            });\n            valueAccessor().subscribe(function(value) {\n                var str = JSON.stringify(value);\n                if ((str == \"0\") && ([\"-0\", \"-0.\"].indexOf(stringified()) >= 0))\n                     return;\n                 if ([\"null\", \"\"].indexOf(str) >= 0)\n                     return;\n                stringified(str);\n            });\n            ko.applyBindingsToNode(\n                element,\n                {\n                    value: stringified,\n                    valueUpdate: allBindings.get('valueUpdate'),\n                },\n                context,\n            );\n        }\n    };\n    var json_data = {\"loading\":WebIO.getval({\"name\":\"loading\",\"scope\":\"18285952568138862130\",\"id\":\"7383697093949717876\",\"type\":\"observable\"}),\"clicks\":WebIO.getval({\"name\":\"clicks\",\"scope\":\"18285952568138862130\",\"id\":\"10074374635188872899\",\"type\":\"observable\"})};\n    var self = this;\n    function AppViewModel() {\n        for (var key in json_data) {\n            var el = json_data[key];\n            this[key] = Array.isArray(el) ? ko.observableArray(el) : ko.observable(el);\n        }\n        \n        \n        [this[\"loading\"].subscribe((function (val){!(this.valueFromJulia[\"loading\"]) ? (WebIO.setval({\"name\":\"loading\",\"scope\":\"18285952568138862130\",\"id\":\"7383697093949717876\",\"type\":\"observable\"},val)) : undefined; return this.valueFromJulia[\"loading\"]=false}),self),this[\"clicks\"].subscribe((function (val){!(this.valueFromJulia[\"clicks\"]) ? (WebIO.setval({\"name\":\"clicks\",\"scope\":\"18285952568138862130\",\"id\":\"10074374635188872899\",\"type\":\"observable\"},val)) : undefined; return this.valueFromJulia[\"clicks\"]=false}),self)]\n        \n    }\n    self.model = new AppViewModel();\n    self.valueFromJulia = {};\n    for (var key in json_data) {\n        self.valueFromJulia[key] = false;\n    }\n    ko.applyBindings(self.model, self.dom);\n}\n);\n    (WebIO.importBlock({\"data\":[{\"name\":\"knockout\",\"type\":\"js\",\"url\":\"/assetserver/0fc6d61518197b1bf9b23217e9be1d2e00f2bb14-knockout.js\"},{\"name\":\"knockout_punches\",\"type\":\"js\",\"url\":\"/assetserver/24c12264eef2b01f723a21985ba5661f5564d7cf-knockout_punches.js\"}],\"type\":\"async_block\"})).then((imports) => handler.apply(this, imports));\n}\n"
          ],
          "observables": {
           "clicks": {
            "id": "10074374635188872899",
            "sync": false,
            "value": 0
           },
           "loading": {
            "id": "7383697093949717876",
            "sync": false,
            "value": false
           }
          },
          "systemjs_options": null
         },
         "nodeType": "Scope",
         "props": {},
         "type": "node"
        }
       ],
       "instanceArgs": {
        "namespace": "html",
        "tag": "div"
       },
       "nodeType": "DOM",
       "props": {
        "className": "field interact-widget"
       },
       "type": "node"
      },
      "text/html": [
       "<div\n",
       "    class=\"webio-mountpoint\"\n",
       "    data-webio-mountpoint=\"16246208319567087506\"\n",
       ">\n",
       "    <script>\n",
       "    if (window.require && require.defined && require.defined(\"nbextensions/webio-jupyter-notebook\")) {\n",
       "        console.log(\"Jupyter WebIO extension detected, not mounting.\");\n",
       "    } else if (window.WebIO) {\n",
       "        WebIO.mount(\n",
       "            document.querySelector('[data-webio-mountpoint=\"16246208319567087506\"]'),\n",
       "            {\"props\":{\"className\":\"field interact-widget\"},\"nodeType\":\"DOM\",\"type\":\"node\",\"instanceArgs\":{\"namespace\":\"html\",\"tag\":\"div\"},\"children\":[{\"props\":{},\"nodeType\":\"Scope\",\"type\":\"node\",\"instanceArgs\":{\"imports\":{\"data\":[{\"name\":\"knockout\",\"type\":\"js\",\"url\":\"\\/assetserver\\/0fc6d61518197b1bf9b23217e9be1d2e00f2bb14-knockout.js\"},{\"name\":\"knockout_punches\",\"type\":\"js\",\"url\":\"\\/assetserver\\/24c12264eef2b01f723a21985ba5661f5564d7cf-knockout_punches.js\"},{\"name\":null,\"type\":\"js\",\"url\":\"\\/assetserver\\/85de428ae418ad26c1ce7e886d25374b3774afa9-all.js\"},{\"name\":null,\"type\":\"css\",\"url\":\"\\/assetserver\\/2cd8ff31326883094fe5a8ff21182264663b62be-style.css\"},{\"name\":null,\"type\":\"css\",\"url\":\"\\/assetserver\\/741bde2d4bf25f117d0ec4d43164cd1a050cf9de-bulma_confined.min.css\"}],\"type\":\"async_block\"},\"id\":\"18285952568138862130\",\"handlers\":{\"loading\":[\"(function (val){return (val!=this.model[\\\"loading\\\"]()) ? (this.valueFromJulia[\\\"loading\\\"]=true, this.model[\\\"loading\\\"](val)) : undefined})\"],\"clicks\":[\"(function (val){return (val!=this.model[\\\"clicks\\\"]()) ? (this.valueFromJulia[\\\"clicks\\\"]=true, this.model[\\\"clicks\\\"](val)) : undefined})\"]},\"systemjs_options\":null,\"mount_callbacks\":[\"function () {\\n    var handler = (function (ko, koPunches) {\\n    ko.punches.enableAll();\\n    ko.bindingHandlers.numericValue = {\\n        init: function(element, valueAccessor, allBindings, data, context) {\\n            var stringified = ko.observable(ko.unwrap(valueAccessor()));\\n            stringified.subscribe(function(value) {\\n                var val = parseFloat(value);\\n                if (!isNaN(val)) {\\n                    valueAccessor()(val);\\n                }\\n            });\\n            valueAccessor().subscribe(function(value) {\\n                var str = JSON.stringify(value);\\n                if ((str == \\\"0\\\") && ([\\\"-0\\\", \\\"-0.\\\"].indexOf(stringified()) >= 0))\\n                     return;\\n                 if ([\\\"null\\\", \\\"\\\"].indexOf(str) >= 0)\\n                     return;\\n                stringified(str);\\n            });\\n            ko.applyBindingsToNode(\\n                element,\\n                {\\n                    value: stringified,\\n                    valueUpdate: allBindings.get('valueUpdate'),\\n                },\\n                context,\\n            );\\n        }\\n    };\\n    var json_data = {\\\"loading\\\":WebIO.getval({\\\"name\\\":\\\"loading\\\",\\\"scope\\\":\\\"18285952568138862130\\\",\\\"id\\\":\\\"7383697093949717876\\\",\\\"type\\\":\\\"observable\\\"}),\\\"clicks\\\":WebIO.getval({\\\"name\\\":\\\"clicks\\\",\\\"scope\\\":\\\"18285952568138862130\\\",\\\"id\\\":\\\"10074374635188872899\\\",\\\"type\\\":\\\"observable\\\"})};\\n    var self = this;\\n    function AppViewModel() {\\n        for (var key in json_data) {\\n            var el = json_data[key];\\n            this[key] = Array.isArray(el) ? ko.observableArray(el) : ko.observable(el);\\n        }\\n        \\n        \\n        [this[\\\"loading\\\"].subscribe((function (val){!(this.valueFromJulia[\\\"loading\\\"]) ? (WebIO.setval({\\\"name\\\":\\\"loading\\\",\\\"scope\\\":\\\"18285952568138862130\\\",\\\"id\\\":\\\"7383697093949717876\\\",\\\"type\\\":\\\"observable\\\"},val)) : undefined; return this.valueFromJulia[\\\"loading\\\"]=false}),self),this[\\\"clicks\\\"].subscribe((function (val){!(this.valueFromJulia[\\\"clicks\\\"]) ? (WebIO.setval({\\\"name\\\":\\\"clicks\\\",\\\"scope\\\":\\\"18285952568138862130\\\",\\\"id\\\":\\\"10074374635188872899\\\",\\\"type\\\":\\\"observable\\\"},val)) : undefined; return this.valueFromJulia[\\\"clicks\\\"]=false}),self)]\\n        \\n    }\\n    self.model = new AppViewModel();\\n    self.valueFromJulia = {};\\n    for (var key in json_data) {\\n        self.valueFromJulia[key] = false;\\n    }\\n    ko.applyBindings(self.model, self.dom);\\n}\\n);\\n    (WebIO.importBlock({\\\"data\\\":[{\\\"name\\\":\\\"knockout\\\",\\\"type\\\":\\\"js\\\",\\\"url\\\":\\\"\\/assetserver\\/0fc6d61518197b1bf9b23217e9be1d2e00f2bb14-knockout.js\\\"},{\\\"name\\\":\\\"knockout_punches\\\",\\\"type\\\":\\\"js\\\",\\\"url\\\":\\\"\\/assetserver\\/24c12264eef2b01f723a21985ba5661f5564d7cf-knockout_punches.js\\\"}],\\\"type\\\":\\\"async_block\\\"})).then((imports) => handler.apply(this, imports));\\n}\\n\"],\"observables\":{\"loading\":{\"sync\":false,\"id\":\"7383697093949717876\",\"value\":false},\"clicks\":{\"sync\":false,\"id\":\"10074374635188872899\",\"value\":0}}},\"children\":[{\"props\":{\"attributes\":{\"data-bind\":\"click: function (){this.clicks(this.clicks()+1)}, css: {'is-loading' : loading}\"},\"className\":\"is-medium button is-primary\",\"style\":{}},\"nodeType\":\"DOM\",\"type\":\"node\",\"instanceArgs\":{\"namespace\":\"html\",\"tag\":\"button\"},\"children\":[\"Press me!\"]}]}]},\n",
       "            window,\n",
       "        );\n",
       "    } else {\n",
       "        document\n",
       "            .querySelector('[data-webio-mountpoint=\"16246208319567087506\"]')\n",
       "            .innerHTML = (\n",
       "                '<div style=\"padding: 1em; background-color: #f8d6da; border: 1px solid #f5c6cb\">' +\n",
       "                '<p><strong>WebIO not detected.</strong></p>' +\n",
       "                '<p>Please read ' +\n",
       "                '<a href=\"https://juliagizmos.github.io/WebIO.jl/latest/troubleshooting/not-detected/\" target=\"_blank\">the troubleshooting guide</a> ' +\n",
       "                'for more information on how to resolve this issue.</p>' +\n",
       "                '<p><a href=\"https://juliagizmos.github.io/WebIO.jl/latest/troubleshooting/not-detected/\" target=\"_blank\">https://juliagizmos.github.io/WebIO.jl/latest/troubleshooting/not-detected/</a></p>' +\n",
       "                '</div>'\n",
       "            );\n",
       "    }\n",
       "    </script>\n",
       "</div>\n"
      ],
      "text/plain": [
       "(div { className=\"field interact-widget\" }\n",
       "    (button { attributes=Dict{Any, Any}(\"data-bind\" => \"click: function (){this.clicks(this.clicks()+1)}, css: {'is-loading' : loading}\") className=\"is-medium button is-primary\" style=Dict{String, Any}() }\n",
       "    \"Press me!\"))"
      ]
     },
     "metadata": {
      "application/vnd.webio.node+json": {
       "kernelId": null
      }
     },
     "output_type": "display_data"
    }
   ],
   "source": [
    "ui = button()\n",
    "display(ui)"
   ]
  },
  {
   "cell_type": "code",
   "execution_count": 7,
   "id": "a7f2df67",
   "metadata": {},
   "outputs": [
    {
     "data": {
      "text/plain": [
       "(::Observables.ObserverFunction) (generic function with 0 methods)"
      ]
     },
     "execution_count": 7,
     "metadata": {},
     "output_type": "execute_result"
    }
   ],
   "source": [
    "on(n -> println(\"Hello!\"), ui)\n",
    "\n"
   ]
  },
  {
   "cell_type": "code",
   "execution_count": 12,
   "id": "a3e582de",
   "metadata": {},
   "outputs": [
    {
     "name": "stdout",
     "output_type": "stream",
     "text": [
      "Hello!\n",
      "Hello!\n",
      "Hello!\n"
     ]
    }
   ],
   "source": [
    "using Blink\n",
    "w = Window()\n",
    "body!(w, ui);"
   ]
  },
  {
   "cell_type": "code",
   "execution_count": 16,
   "id": "1b63edcc",
   "metadata": {},
   "outputs": [
    {
     "data": {
      "application/vnd.webio.node+json": {
       "children": [
        {
         "children": [
          {
           "children": [
            {
             "children": [
              {
               "children": [],
               "instanceArgs": {
                "namespace": "html",
                "tag": "input"
               },
               "nodeType": "DOM",
               "props": {
                "attributes": {
                 "data-bind": "event: {change: onFileUpload}",
                 "style": "display: none;",
                 "type": "file"
                },
                "className": "file "
               },
               "type": "node"
              },
              {
               "children": [
                {
                 "children": [
                  {
                   "children": [],
                   "instanceArgs": {
                    "namespace": "html",
                    "tag": "i"
                   },
                   "nodeType": "DOM",
                   "props": {
                    "className": "fas fa-upload"
                   },
                   "type": "node"
                  }
                 ],
                 "instanceArgs": {
                  "namespace": "html",
                  "tag": "span"
                 },
                 "nodeType": "DOM",
                 "props": {
                  "className": "file-icon"
                 },
                 "type": "node"
                },
                {
                 "children": [
                  "Choose a file..."
                 ],
                 "instanceArgs": {
                  "namespace": "html",
                  "tag": "span"
                 },
                 "nodeType": "DOM",
                 "props": {
                  "className": ""
                 },
                 "type": "node"
                }
               ],
               "instanceArgs": {
                "namespace": "html",
                "tag": "span"
               },
               "nodeType": "DOM",
               "props": {
                "className": "file-cta"
               },
               "type": "node"
              }
             ],
             "instanceArgs": {
              "namespace": "html",
              "tag": "label"
             },
             "nodeType": "DOM",
             "props": {
              "className": ""
             },
             "type": "node"
            },
            {
             "children": [],
             "instanceArgs": {
              "namespace": "html",
              "tag": "span"
             },
             "nodeType": "DOM",
             "props": {
              "attributes": {
               "data-bind": " text: filename() == '' ? 'No file chosen' : filename()"
              },
              "className": "file-name"
             },
             "type": "node"
            }
           ],
           "instanceArgs": {
            "namespace": "html",
            "tag": "div"
           },
           "nodeType": "DOM",
           "props": {
            "attributes": {
             "style": "display:flex; align-items:center;"
            }
           },
           "type": "node"
          }
         ],
         "instanceArgs": {
          "handlers": {
           "filename": [
            "(function (val){return (val!=this.model[\"filename\"]()) ? (this.valueFromJulia[\"filename\"]=true, this.model[\"filename\"](val)) : undefined})"
           ],
           "path": [
            "(function (val){return (val!=this.model[\"path\"]()) ? (this.valueFromJulia[\"path\"]=true, this.model[\"path\"](val)) : undefined})"
           ]
          },
          "id": "597303882834076929",
          "imports": {
           "data": [
            {
             "name": "knockout",
             "type": "js",
             "url": "/assetserver/0fc6d61518197b1bf9b23217e9be1d2e00f2bb14-knockout.js"
            },
            {
             "name": "knockout_punches",
             "type": "js",
             "url": "/assetserver/24c12264eef2b01f723a21985ba5661f5564d7cf-knockout_punches.js"
            },
            {
             "name": null,
             "type": "js",
             "url": "/assetserver/85de428ae418ad26c1ce7e886d25374b3774afa9-all.js"
            },
            {
             "name": null,
             "type": "css",
             "url": "/assetserver/2cd8ff31326883094fe5a8ff21182264663b62be-style.css"
            },
            {
             "name": null,
             "type": "css",
             "url": "/assetserver/741bde2d4bf25f117d0ec4d43164cd1a050cf9de-bulma_confined.min.css"
            }
           ],
           "type": "async_block"
          },
          "mount_callbacks": [
           "function () {\n    var handler = (function (ko, koPunches) {\n    ko.punches.enableAll();\n    ko.bindingHandlers.numericValue = {\n        init: function(element, valueAccessor, allBindings, data, context) {\n            var stringified = ko.observable(ko.unwrap(valueAccessor()));\n            stringified.subscribe(function(value) {\n                var val = parseFloat(value);\n                if (!isNaN(val)) {\n                    valueAccessor()(val);\n                }\n            });\n            valueAccessor().subscribe(function(value) {\n                var str = JSON.stringify(value);\n                if ((str == \"0\") && ([\"-0\", \"-0.\"].indexOf(stringified()) >= 0))\n                     return;\n                 if ([\"null\", \"\"].indexOf(str) >= 0)\n                     return;\n                stringified(str);\n            });\n            ko.applyBindingsToNode(\n                element,\n                {\n                    value: stringified,\n                    valueUpdate: allBindings.get('valueUpdate'),\n                },\n                context,\n            );\n        }\n    };\n    var json_data = {\"filename\":WebIO.getval({\"name\":\"filename\",\"scope\":\"597303882834076929\",\"id\":\"5320553770379857729\",\"type\":\"observable\"}),\"path\":WebIO.getval({\"name\":\"path\",\"scope\":\"597303882834076929\",\"id\":\"204520767329461156\",\"type\":\"observable\"})};\n    var self = this;\n    function AppViewModel() {\n        for (var key in json_data) {\n            var el = json_data[key];\n            this[key] = Array.isArray(el) ? ko.observableArray(el) : ko.observable(el);\n        }\n        [this[\"onFileUpload\"]=function(data, e) {\n    var files = e.target.files;\n    this.filename(files[0].name);\n    return this.path(files[0].path);\n}\n]\n        \n        [this[\"filename\"].subscribe((function (val){!(this.valueFromJulia[\"filename\"]) ? (WebIO.setval({\"name\":\"filename\",\"scope\":\"597303882834076929\",\"id\":\"5320553770379857729\",\"type\":\"observable\"},val)) : undefined; return this.valueFromJulia[\"filename\"]=false}),self),this[\"path\"].subscribe((function (val){!(this.valueFromJulia[\"path\"]) ? (WebIO.setval({\"name\":\"path\",\"scope\":\"597303882834076929\",\"id\":\"204520767329461156\",\"type\":\"observable\"},val)) : undefined; return this.valueFromJulia[\"path\"]=false}),self)]\n        \n    }\n    self.model = new AppViewModel();\n    self.valueFromJulia = {};\n    for (var key in json_data) {\n        self.valueFromJulia[key] = false;\n    }\n    ko.applyBindings(self.model, self.dom);\n}\n);\n    (WebIO.importBlock({\"data\":[{\"name\":\"knockout\",\"type\":\"js\",\"url\":\"/assetserver/0fc6d61518197b1bf9b23217e9be1d2e00f2bb14-knockout.js\"},{\"name\":\"knockout_punches\",\"type\":\"js\",\"url\":\"/assetserver/24c12264eef2b01f723a21985ba5661f5564d7cf-knockout_punches.js\"}],\"type\":\"async_block\"})).then((imports) => handler.apply(this, imports));\n}\n"
          ],
          "observables": {
           "filename": {
            "id": "5320553770379857729",
            "sync": false,
            "value": ""
           },
           "path": {
            "id": "204520767329461156",
            "sync": false,
            "value": ""
           }
          },
          "systemjs_options": null
         },
         "nodeType": "Scope",
         "props": {},
         "type": "node"
        }
       ],
       "instanceArgs": {
        "namespace": "html",
        "tag": "div"
       },
       "nodeType": "DOM",
       "props": {
        "className": "field interact-widget"
       },
       "type": "node"
      },
      "text/html": [
       "<div\n",
       "    class=\"webio-mountpoint\"\n",
       "    data-webio-mountpoint=\"1813824052212219838\"\n",
       ">\n",
       "    <script>\n",
       "    if (window.require && require.defined && require.defined(\"nbextensions/webio-jupyter-notebook\")) {\n",
       "        console.log(\"Jupyter WebIO extension detected, not mounting.\");\n",
       "    } else if (window.WebIO) {\n",
       "        WebIO.mount(\n",
       "            document.querySelector('[data-webio-mountpoint=\"1813824052212219838\"]'),\n",
       "            {\"props\":{\"className\":\"field interact-widget\"},\"nodeType\":\"DOM\",\"type\":\"node\",\"instanceArgs\":{\"namespace\":\"html\",\"tag\":\"div\"},\"children\":[{\"props\":{},\"nodeType\":\"Scope\",\"type\":\"node\",\"instanceArgs\":{\"imports\":{\"data\":[{\"name\":\"knockout\",\"type\":\"js\",\"url\":\"\\/assetserver\\/0fc6d61518197b1bf9b23217e9be1d2e00f2bb14-knockout.js\"},{\"name\":\"knockout_punches\",\"type\":\"js\",\"url\":\"\\/assetserver\\/24c12264eef2b01f723a21985ba5661f5564d7cf-knockout_punches.js\"},{\"name\":null,\"type\":\"js\",\"url\":\"\\/assetserver\\/85de428ae418ad26c1ce7e886d25374b3774afa9-all.js\"},{\"name\":null,\"type\":\"css\",\"url\":\"\\/assetserver\\/2cd8ff31326883094fe5a8ff21182264663b62be-style.css\"},{\"name\":null,\"type\":\"css\",\"url\":\"\\/assetserver\\/741bde2d4bf25f117d0ec4d43164cd1a050cf9de-bulma_confined.min.css\"}],\"type\":\"async_block\"},\"id\":\"597303882834076929\",\"handlers\":{\"filename\":[\"(function (val){return (val!=this.model[\\\"filename\\\"]()) ? (this.valueFromJulia[\\\"filename\\\"]=true, this.model[\\\"filename\\\"](val)) : undefined})\"],\"path\":[\"(function (val){return (val!=this.model[\\\"path\\\"]()) ? (this.valueFromJulia[\\\"path\\\"]=true, this.model[\\\"path\\\"](val)) : undefined})\"]},\"systemjs_options\":null,\"mount_callbacks\":[\"function () {\\n    var handler = (function (ko, koPunches) {\\n    ko.punches.enableAll();\\n    ko.bindingHandlers.numericValue = {\\n        init: function(element, valueAccessor, allBindings, data, context) {\\n            var stringified = ko.observable(ko.unwrap(valueAccessor()));\\n            stringified.subscribe(function(value) {\\n                var val = parseFloat(value);\\n                if (!isNaN(val)) {\\n                    valueAccessor()(val);\\n                }\\n            });\\n            valueAccessor().subscribe(function(value) {\\n                var str = JSON.stringify(value);\\n                if ((str == \\\"0\\\") && ([\\\"-0\\\", \\\"-0.\\\"].indexOf(stringified()) >= 0))\\n                     return;\\n                 if ([\\\"null\\\", \\\"\\\"].indexOf(str) >= 0)\\n                     return;\\n                stringified(str);\\n            });\\n            ko.applyBindingsToNode(\\n                element,\\n                {\\n                    value: stringified,\\n                    valueUpdate: allBindings.get('valueUpdate'),\\n                },\\n                context,\\n            );\\n        }\\n    };\\n    var json_data = {\\\"filename\\\":WebIO.getval({\\\"name\\\":\\\"filename\\\",\\\"scope\\\":\\\"597303882834076929\\\",\\\"id\\\":\\\"5320553770379857729\\\",\\\"type\\\":\\\"observable\\\"}),\\\"path\\\":WebIO.getval({\\\"name\\\":\\\"path\\\",\\\"scope\\\":\\\"597303882834076929\\\",\\\"id\\\":\\\"204520767329461156\\\",\\\"type\\\":\\\"observable\\\"})};\\n    var self = this;\\n    function AppViewModel() {\\n        for (var key in json_data) {\\n            var el = json_data[key];\\n            this[key] = Array.isArray(el) ? ko.observableArray(el) : ko.observable(el);\\n        }\\n        [this[\\\"onFileUpload\\\"]=function(data, e) {\\n    var files = e.target.files;\\n    this.filename(files[0].name);\\n    return this.path(files[0].path);\\n}\\n]\\n        \\n        [this[\\\"filename\\\"].subscribe((function (val){!(this.valueFromJulia[\\\"filename\\\"]) ? (WebIO.setval({\\\"name\\\":\\\"filename\\\",\\\"scope\\\":\\\"597303882834076929\\\",\\\"id\\\":\\\"5320553770379857729\\\",\\\"type\\\":\\\"observable\\\"},val)) : undefined; return this.valueFromJulia[\\\"filename\\\"]=false}),self),this[\\\"path\\\"].subscribe((function (val){!(this.valueFromJulia[\\\"path\\\"]) ? (WebIO.setval({\\\"name\\\":\\\"path\\\",\\\"scope\\\":\\\"597303882834076929\\\",\\\"id\\\":\\\"204520767329461156\\\",\\\"type\\\":\\\"observable\\\"},val)) : undefined; return this.valueFromJulia[\\\"path\\\"]=false}),self)]\\n        \\n    }\\n    self.model = new AppViewModel();\\n    self.valueFromJulia = {};\\n    for (var key in json_data) {\\n        self.valueFromJulia[key] = false;\\n    }\\n    ko.applyBindings(self.model, self.dom);\\n}\\n);\\n    (WebIO.importBlock({\\\"data\\\":[{\\\"name\\\":\\\"knockout\\\",\\\"type\\\":\\\"js\\\",\\\"url\\\":\\\"\\/assetserver\\/0fc6d61518197b1bf9b23217e9be1d2e00f2bb14-knockout.js\\\"},{\\\"name\\\":\\\"knockout_punches\\\",\\\"type\\\":\\\"js\\\",\\\"url\\\":\\\"\\/assetserver\\/24c12264eef2b01f723a21985ba5661f5564d7cf-knockout_punches.js\\\"}],\\\"type\\\":\\\"async_block\\\"})).then((imports) => handler.apply(this, imports));\\n}\\n\"],\"observables\":{\"filename\":{\"sync\":false,\"id\":\"5320553770379857729\",\"value\":\"\"},\"path\":{\"sync\":false,\"id\":\"204520767329461156\",\"value\":\"\"}}},\"children\":[{\"props\":{\"attributes\":{\"style\":\"display:flex; align-items:center;\"}},\"nodeType\":\"DOM\",\"type\":\"node\",\"instanceArgs\":{\"namespace\":\"html\",\"tag\":\"div\"},\"children\":[{\"props\":{\"className\":\"\"},\"nodeType\":\"DOM\",\"type\":\"node\",\"instanceArgs\":{\"namespace\":\"html\",\"tag\":\"label\"},\"children\":[{\"props\":{\"attributes\":{\"type\":\"file\",\"data-bind\":\"event: {change: onFileUpload}\",\"style\":\"display: none;\"},\"className\":\"file \"},\"nodeType\":\"DOM\",\"type\":\"node\",\"instanceArgs\":{\"namespace\":\"html\",\"tag\":\"input\"},\"children\":[]},{\"props\":{\"className\":\"file-cta\"},\"nodeType\":\"DOM\",\"type\":\"node\",\"instanceArgs\":{\"namespace\":\"html\",\"tag\":\"span\"},\"children\":[{\"props\":{\"className\":\"file-icon\"},\"nodeType\":\"DOM\",\"type\":\"node\",\"instanceArgs\":{\"namespace\":\"html\",\"tag\":\"span\"},\"children\":[{\"props\":{\"className\":\"fas fa-upload\"},\"nodeType\":\"DOM\",\"type\":\"node\",\"instanceArgs\":{\"namespace\":\"html\",\"tag\":\"i\"},\"children\":[]}]},{\"props\":{\"className\":\"\"},\"nodeType\":\"DOM\",\"type\":\"node\",\"instanceArgs\":{\"namespace\":\"html\",\"tag\":\"span\"},\"children\":[\"Choose a file...\"]}]}]},{\"props\":{\"attributes\":{\"data-bind\":\" text: filename() == '' ? 'No file chosen' : filename()\"},\"className\":\"file-name\"},\"nodeType\":\"DOM\",\"type\":\"node\",\"instanceArgs\":{\"namespace\":\"html\",\"tag\":\"span\"},\"children\":[]}]}]}]},\n",
       "            window,\n",
       "        );\n",
       "    } else {\n",
       "        document\n",
       "            .querySelector('[data-webio-mountpoint=\"1813824052212219838\"]')\n",
       "            .innerHTML = (\n",
       "                '<div style=\"padding: 1em; background-color: #f8d6da; border: 1px solid #f5c6cb\">' +\n",
       "                '<p><strong>WebIO not detected.</strong></p>' +\n",
       "                '<p>Please read ' +\n",
       "                '<a href=\"https://juliagizmos.github.io/WebIO.jl/latest/troubleshooting/not-detected/\" target=\"_blank\">the troubleshooting guide</a> ' +\n",
       "                'for more information on how to resolve this issue.</p>' +\n",
       "                '<p><a href=\"https://juliagizmos.github.io/WebIO.jl/latest/troubleshooting/not-detected/\" target=\"_blank\">https://juliagizmos.github.io/WebIO.jl/latest/troubleshooting/not-detected/</a></p>' +\n",
       "                '</div>'\n",
       "            );\n",
       "    }\n",
       "    </script>\n",
       "</div>\n"
      ],
      "text/plain": [
       "(div { className=\"field interact-widget\" }\n",
       "    (div { attributes=Dict{SubString{String}, SubString{String}}(\"style\" => \"display:flex; align-items:center;\") }\n",
       "    (label { className=\"\" }\n",
       "      (input { attributes=Dict{Union{String, Symbol}, Any}(:type => \"file\", Symbol(\"data-bind\") => \"event: {change: onFileUpload}\", :style => \"display: none;\") className=\"file \" })\n",
       "      (span { className=\"file-cta\" }\n",
       "        (span { className=\"file-icon\" }\n",
       "          (i { className=\"fas fa-upload\" }))\n",
       "        (span { className=\"\" }\n",
       "          \"Choose a file...\")))\n",
       "    (span { attributes=Dict(\"data-bind\" => \" text: filename() == '' ? 'No file chosen' : filename()\") className=\"file-name\" })))"
      ]
     },
     "metadata": {
      "application/vnd.webio.node+json": {
       "kernelId": null
      }
     },
     "output_type": "display_data"
    }
   ],
   "source": [
    "filepicker() |> display"
   ]
  },
  {
   "cell_type": "code",
   "execution_count": 11,
   "id": "d05a505c",
   "metadata": {},
   "outputs": [
    {
     "data": {
      "application/vnd.webio.node+json": {
       "children": [
        {
         "children": [
          "Hello!"
         ],
         "instanceArgs": {
          "namespace": "html",
          "tag": "li"
         },
         "nodeType": "DOM",
         "props": {},
         "type": "node"
        },
        {
         "children": [
          "World!"
         ],
         "instanceArgs": {
          "namespace": "html",
          "tag": "li"
         },
         "nodeType": "DOM",
         "props": {},
         "type": "node"
        }
       ],
       "instanceArgs": {
        "namespace": "html",
        "tag": "ol"
       },
       "nodeType": "DOM",
       "props": {
        "style": {
         "fontFamily": "cursive"
        }
       },
       "type": "node"
      },
      "text/html": [
       "<div\n",
       "    class=\"webio-mountpoint\"\n",
       "    data-webio-mountpoint=\"5587253549326001371\"\n",
       ">\n",
       "    <script>\n",
       "    if (window.require && require.defined && require.defined(\"nbextensions/webio-jupyter-notebook\")) {\n",
       "        console.log(\"Jupyter WebIO extension detected, not mounting.\");\n",
       "    } else if (window.WebIO) {\n",
       "        WebIO.mount(\n",
       "            document.querySelector('[data-webio-mountpoint=\"5587253549326001371\"]'),\n",
       "            {\"props\":{\"style\":{\"fontFamily\":\"cursive\"}},\"nodeType\":\"DOM\",\"type\":\"node\",\"instanceArgs\":{\"namespace\":\"html\",\"tag\":\"ol\"},\"children\":[{\"props\":{},\"nodeType\":\"DOM\",\"type\":\"node\",\"instanceArgs\":{\"namespace\":\"html\",\"tag\":\"li\"},\"children\":[\"Hello!\"]},{\"props\":{},\"nodeType\":\"DOM\",\"type\":\"node\",\"instanceArgs\":{\"namespace\":\"html\",\"tag\":\"li\"},\"children\":[\"World!\"]}]},\n",
       "            window,\n",
       "        );\n",
       "    } else {\n",
       "        document\n",
       "            .querySelector('[data-webio-mountpoint=\"5587253549326001371\"]')\n",
       "            .innerHTML = (\n",
       "                '<div style=\"padding: 1em; background-color: #f8d6da; border: 1px solid #f5c6cb\">' +\n",
       "                '<p><strong>WebIO not detected.</strong></p>' +\n",
       "                '<p>Please read ' +\n",
       "                '<a href=\"https://juliagizmos.github.io/WebIO.jl/latest/troubleshooting/not-detected/\" target=\"_blank\">the troubleshooting guide</a> ' +\n",
       "                'for more information on how to resolve this issue.</p>' +\n",
       "                '<p><a href=\"https://juliagizmos.github.io/WebIO.jl/latest/troubleshooting/not-detected/\" target=\"_blank\">https://juliagizmos.github.io/WebIO.jl/latest/troubleshooting/not-detected/</a></p>' +\n",
       "                '</div>'\n",
       "            );\n",
       "    }\n",
       "    </script>\n",
       "</div>\n"
      ],
      "text/plain": [
       "(ol { style=Dict(\"fontFamily\" => \"cursive\") }\n",
       "  (li\n",
       "    \"Hello!\")\n",
       "  (li\n",
       "    \"World!\"))"
      ]
     },
     "execution_count": 11,
     "metadata": {
      "application/vnd.webio.node+json": {
       "kernelId": null
      }
     },
     "output_type": "execute_result"
    }
   ],
   "source": [
    "node(\n",
    "    :ol,\n",
    "    node(:li,\"Hello!\"),\n",
    "    node(:li, \"World!\"),\n",
    "    style=Dict(\"fontFamily\"=>\"cursive\"),\n",
    ")"
   ]
  },
  {
   "cell_type": "code",
   "execution_count": 9,
   "id": "6bfe1637",
   "metadata": {},
   "outputs": [
    {
     "data": {
      "text/plain": [
       "WebIO.JSString(\"function () {\\n    alert(\\\"hi\\\") // you can interpolate Julia variables!\\n}\\n\")"
      ]
     },
     "execution_count": 9,
     "metadata": {},
     "output_type": "execute_result"
    }
   ],
   "source": [
    "\n",
    "message = \"hi\"\n",
    "\n",
    "callback = js\"\"\"\n",
    "function () {\n",
    "    alert($message) // you can interpolate Julia variables!\n",
    "}\n",
    "\"\"\""
   ]
  },
  {
   "cell_type": "code",
   "execution_count": 10,
   "id": "d717312f",
   "metadata": {},
   "outputs": [
    {
     "data": {
      "application/vnd.webio.node+json": {
       "children": [
        "Click me"
       ],
       "instanceArgs": {
        "namespace": "html",
        "tag": "button"
       },
       "nodeType": "DOM",
       "props": {
        "events": {
         "click": "function () {\n    alert(\"hi\") // you can interpolate Julia variables!\n}\n"
        }
       },
       "type": "node"
      },
      "text/html": [
       "<div\n",
       "    class=\"webio-mountpoint\"\n",
       "    data-webio-mountpoint=\"6112700102828226602\"\n",
       ">\n",
       "    <script>\n",
       "    if (window.require && require.defined && require.defined(\"nbextensions/webio-jupyter-notebook\")) {\n",
       "        console.log(\"Jupyter WebIO extension detected, not mounting.\");\n",
       "    } else if (window.WebIO) {\n",
       "        WebIO.mount(\n",
       "            document.querySelector('[data-webio-mountpoint=\"6112700102828226602\"]'),\n",
       "            {\"props\":{\"events\":{\"click\":\"function () {\\n    alert(\\\"hi\\\") \\/\\/ you can interpolate Julia variables!\\n}\\n\"}},\"nodeType\":\"DOM\",\"type\":\"node\",\"instanceArgs\":{\"namespace\":\"html\",\"tag\":\"button\"},\"children\":[\"Click me\"]},\n",
       "            window,\n",
       "        );\n",
       "    } else {\n",
       "        document\n",
       "            .querySelector('[data-webio-mountpoint=\"6112700102828226602\"]')\n",
       "            .innerHTML = (\n",
       "                '<div style=\"padding: 1em; background-color: #f8d6da; border: 1px solid #f5c6cb\">' +\n",
       "                '<p><strong>WebIO not detected.</strong></p>' +\n",
       "                '<p>Please read ' +\n",
       "                '<a href=\"https://juliagizmos.github.io/WebIO.jl/latest/troubleshooting/not-detected/\" target=\"_blank\">the troubleshooting guide</a> ' +\n",
       "                'for more information on how to resolve this issue.</p>' +\n",
       "                '<p><a href=\"https://juliagizmos.github.io/WebIO.jl/latest/troubleshooting/not-detected/\" target=\"_blank\">https://juliagizmos.github.io/WebIO.jl/latest/troubleshooting/not-detected/</a></p>' +\n",
       "                '</div>'\n",
       "            );\n",
       "    }\n",
       "    </script>\n",
       "</div>\n"
      ],
      "text/plain": [
       "(button { events=Dict{String, WebIO.JSString}(\"click\" => WebIO.JSString(\"function () {\\n    alert(\\\"hi\\\") // you can interpolate Julia variables!\\n}\\n\")) }\n",
       "  \"Click me\")"
      ]
     },
     "execution_count": 10,
     "metadata": {
      "application/vnd.webio.node+json": {
       "kernelId": null
      }
     },
     "output_type": "execute_result"
    }
   ],
   "source": [
    "node(:button,\n",
    "    \"Click me\",\n",
    "    events=Dict(\"click\" => callback)\n",
    ")"
   ]
  },
  {
   "cell_type": "code",
   "execution_count": 19,
   "id": "3884dbc2",
   "metadata": {},
   "outputs": [
    {
     "data": {
      "application/vnd.webio.node+json": {
       "children": [
        {
         "children": [
          {
           "children": [
            {
             "children": [
              {
               "children": [
                {
                 "children": [
                  "f"
                 ],
                 "instanceArgs": {
                  "namespace": "html",
                  "tag": "label"
                 },
                 "nodeType": "DOM",
                 "props": {
                  "className": "interact ",
                  "style": {
                   "padding": "5px 10px 0px 10px"
                  }
                 },
                 "type": "node"
                }
               ],
               "instanceArgs": {
                "namespace": "html",
                "tag": "div"
               },
               "nodeType": "DOM",
               "props": {
                "className": "interact-flex-row-left"
               },
               "type": "node"
              },
              {
               "children": [
                {
                 "children": [
                  {
                   "children": [
                    {
                     "children": [],
                     "instanceArgs": {
                      "namespace": "html",
                      "tag": "label"
                     },
                     "nodeType": "DOM",
                     "props": {
                      "attributes": {
                       "data-bind": "text : key"
                      }
                     },
                     "type": "node"
                    }
                   ],
                   "instanceArgs": {
                    "namespace": "html",
                    "tag": "span"
                   },
                   "nodeType": "DOM",
                   "props": {
                    "attributes": {
                     "data-bind": "click: function (){$root.update(val)}, css: {'is-primary is-selected' : $root.index() == val, 'interact-widget is-medium button ' : true}"
                    }
                   },
                   "type": "node"
                  }
                 ],
                 "instanceArgs": {
                  "namespace": "html",
                  "tag": "div"
                 },
                 "nodeType": "DOM",
                 "props": {
                  "attributes": {
                   "data-bind": "foreach : options_js"
                  },
                  "className": "buttons has-addons is-centered"
                 },
                 "type": "node"
                }
               ],
               "instanceArgs": {
                "namespace": "html",
                "tag": "div"
               },
               "nodeType": "DOM",
               "props": {
                "className": "interact-flex-row-center"
               },
               "type": "node"
              },
              {
               "children": [
                {
                 "children": [],
                 "instanceArgs": {
                  "namespace": "html",
                  "tag": "div"
                 },
                 "nodeType": "DOM",
                 "props": {},
                 "type": "node"
                }
               ],
               "instanceArgs": {
                "namespace": "html",
                "tag": "div"
               },
               "nodeType": "DOM",
               "props": {
                "className": "interact-flex-row-right"
               },
               "type": "node"
              }
             ],
             "instanceArgs": {
              "namespace": "html",
              "tag": "div"
             },
             "nodeType": "DOM",
             "props": {
              "className": "interact-flex-row interact-widget"
             },
             "type": "node"
            }
           ],
           "instanceArgs": {
            "handlers": {
             "index": [
              "(function (val){return (val!=this.model[\"index\"]()) ? (this.valueFromJulia[\"index\"]=true, this.model[\"index\"](val)) : undefined})"
             ],
             "options_js": [
              "(function (val){return (val!=this.model[\"options_js\"]()) ? (this.valueFromJulia[\"options_js\"]=true, this.model[\"options_js\"](val)) : undefined})"
             ]
            },
            "id": "4617982789013449163",
            "imports": {
             "data": [
              {
               "name": "knockout",
               "type": "js",
               "url": "/assetserver/0fc6d61518197b1bf9b23217e9be1d2e00f2bb14-knockout.js"
              },
              {
               "name": "knockout_punches",
               "type": "js",
               "url": "/assetserver/24c12264eef2b01f723a21985ba5661f5564d7cf-knockout_punches.js"
              },
              {
               "name": null,
               "type": "js",
               "url": "/assetserver/85de428ae418ad26c1ce7e886d25374b3774afa9-all.js"
              },
              {
               "name": null,
               "type": "css",
               "url": "/assetserver/2cd8ff31326883094fe5a8ff21182264663b62be-style.css"
              },
              {
               "name": null,
               "type": "css",
               "url": "/assetserver/741bde2d4bf25f117d0ec4d43164cd1a050cf9de-bulma_confined.min.css"
              }
             ],
             "type": "async_block"
            },
            "mount_callbacks": [
             "function () {\n    var handler = (function (ko, koPunches) {\n    ko.punches.enableAll();\n    ko.bindingHandlers.numericValue = {\n        init: function(element, valueAccessor, allBindings, data, context) {\n            var stringified = ko.observable(ko.unwrap(valueAccessor()));\n            stringified.subscribe(function(value) {\n                var val = parseFloat(value);\n                if (!isNaN(val)) {\n                    valueAccessor()(val);\n                }\n            });\n            valueAccessor().subscribe(function(value) {\n                var str = JSON.stringify(value);\n                if ((str == \"0\") && ([\"-0\", \"-0.\"].indexOf(stringified()) >= 0))\n                     return;\n                 if ([\"null\", \"\"].indexOf(str) >= 0)\n                     return;\n                stringified(str);\n            });\n            ko.applyBindingsToNode(\n                element,\n                {\n                    value: stringified,\n                    valueUpdate: allBindings.get('valueUpdate'),\n                },\n                context,\n            );\n        }\n    };\n    var json_data = {\"options_js\":WebIO.getval({\"name\":\"options_js\",\"scope\":\"4617982789013449163\",\"id\":\"5378834366952140744\",\"type\":\"observable\"}),\"index\":WebIO.getval({\"name\":\"index\",\"scope\":\"4617982789013449163\",\"id\":\"11588019856829042043\",\"type\":\"observable\"})};\n    var self = this;\n    function AppViewModel() {\n        for (var key in json_data) {\n            var el = json_data[key];\n            this[key] = Array.isArray(el) ? ko.observableArray(el) : ko.observable(el);\n        }\n        [this[\"update\"]=function (val) {this.index(val)}]\n        \n        [this[\"options_js\"].subscribe((function (val){!(this.valueFromJulia[\"options_js\"]) ? (WebIO.setval({\"name\":\"options_js\",\"scope\":\"4617982789013449163\",\"id\":\"5378834366952140744\",\"type\":\"observable\"},val)) : undefined; return this.valueFromJulia[\"options_js\"]=false}),self),this[\"index\"].subscribe((function (val){!(this.valueFromJulia[\"index\"]) ? (WebIO.setval({\"name\":\"index\",\"scope\":\"4617982789013449163\",\"id\":\"11588019856829042043\",\"type\":\"observable\"},val)) : undefined; return this.valueFromJulia[\"index\"]=false}),self)]\n        \n    }\n    self.model = new AppViewModel();\n    self.valueFromJulia = {};\n    for (var key in json_data) {\n        self.valueFromJulia[key] = false;\n    }\n    ko.applyBindings(self.model, self.dom);\n}\n);\n    (WebIO.importBlock({\"data\":[{\"name\":\"knockout\",\"type\":\"js\",\"url\":\"/assetserver/0fc6d61518197b1bf9b23217e9be1d2e00f2bb14-knockout.js\"},{\"name\":\"knockout_punches\",\"type\":\"js\",\"url\":\"/assetserver/24c12264eef2b01f723a21985ba5661f5564d7cf-knockout_punches.js\"}],\"type\":\"async_block\"})).then((imports) => handler.apply(this, imports));\n}\n"
            ],
            "observables": {
             "index": {
              "id": "11588019856829042043",
              "sync": true,
              "value": 1
             },
             "options_js": {
              "id": "5378834366952140744",
              "sync": false,
              "value": [
               {
                "id": "idYTxRy5PJ",
                "key": "sin",
                "val": 1
               },
               {
                "id": "idPvMBiOKy",
                "key": "cos",
                "val": 2
               },
               {
                "id": "idjhwh9BFX",
                "key": "tan",
                "val": 3
               }
              ]
             }
            },
            "systemjs_options": null
           },
           "nodeType": "Scope",
           "props": {},
           "type": "node"
          }
         ],
         "instanceArgs": {
          "namespace": "html",
          "tag": "div"
         },
         "nodeType": "DOM",
         "props": {
          "className": "interact-widget"
         },
         "type": "node"
        },
        {
         "children": [
          {
           "children": [
            {
             "children": [
              {
               "children": [
                {
                 "children": [
                  "ϕ"
                 ],
                 "instanceArgs": {
                  "namespace": "html",
                  "tag": "label"
                 },
                 "nodeType": "DOM",
                 "props": {
                  "className": "interact ",
                  "style": {
                   "padding": "5px 10px 0px 10px"
                  }
                 },
                 "type": "node"
                }
               ],
               "instanceArgs": {
                "namespace": "html",
                "tag": "div"
               },
               "nodeType": "DOM",
               "props": {
                "className": "interact-flex-row-left"
               },
               "type": "node"
              },
              {
               "children": [
                {
                 "children": [],
                 "instanceArgs": {
                  "namespace": "html",
                  "tag": "input"
                 },
                 "nodeType": "DOM",
                 "props": {
                  "attributes": {
                   "data-bind": "numericValue: index, valueUpdate: 'input', event: {change: function (){this.changes(this.changes()+1)}}",
                   "orient": "horizontal",
                   "type": "range"
                  },
                  "className": "slider slider is-fullwidth",
                  "max": 126,
                  "min": 1,
                  "step": 1,
                  "style": {}
                 },
                 "type": "node"
                }
               ],
               "instanceArgs": {
                "namespace": "html",
                "tag": "div"
               },
               "nodeType": "DOM",
               "props": {
                "className": "interact-flex-row-center"
               },
               "type": "node"
              },
              {
               "children": [
                {
                 "children": [],
                 "instanceArgs": {
                  "namespace": "html",
                  "tag": "p"
                 },
                 "nodeType": "DOM",
                 "props": {
                  "attributes": {
                   "data-bind": "text: formatted_val"
                  }
                 },
                 "type": "node"
                }
               ],
               "instanceArgs": {
                "namespace": "html",
                "tag": "div"
               },
               "nodeType": "DOM",
               "props": {
                "className": "interact-flex-row-right"
               },
               "type": "node"
              }
             ],
             "instanceArgs": {
              "namespace": "html",
              "tag": "div"
             },
             "nodeType": "DOM",
             "props": {
              "className": "interact-flex-row interact-widget"
             },
             "type": "node"
            }
           ],
           "instanceArgs": {
            "handlers": {
             "changes": [
              "(function (val){return (val!=this.model[\"changes\"]()) ? (this.valueFromJulia[\"changes\"]=true, this.model[\"changes\"](val)) : undefined})"
             ],
             "index": [
              "(function (val){return (val!=this.model[\"index\"]()) ? (this.valueFromJulia[\"index\"]=true, this.model[\"index\"](val)) : undefined})"
             ]
            },
            "id": "10214790817141939637",
            "imports": {
             "data": [
              {
               "name": "knockout",
               "type": "js",
               "url": "/assetserver/0fc6d61518197b1bf9b23217e9be1d2e00f2bb14-knockout.js"
              },
              {
               "name": "knockout_punches",
               "type": "js",
               "url": "/assetserver/24c12264eef2b01f723a21985ba5661f5564d7cf-knockout_punches.js"
              },
              {
               "name": null,
               "type": "js",
               "url": "/assetserver/85de428ae418ad26c1ce7e886d25374b3774afa9-all.js"
              },
              {
               "name": null,
               "type": "css",
               "url": "/assetserver/2cd8ff31326883094fe5a8ff21182264663b62be-style.css"
              },
              {
               "name": null,
               "type": "css",
               "url": "/assetserver/741bde2d4bf25f117d0ec4d43164cd1a050cf9de-bulma_confined.min.css"
              }
             ],
             "type": "async_block"
            },
            "mount_callbacks": [
             "function () {\n    var handler = (function (ko, koPunches) {\n    ko.punches.enableAll();\n    ko.bindingHandlers.numericValue = {\n        init: function(element, valueAccessor, allBindings, data, context) {\n            var stringified = ko.observable(ko.unwrap(valueAccessor()));\n            stringified.subscribe(function(value) {\n                var val = parseFloat(value);\n                if (!isNaN(val)) {\n                    valueAccessor()(val);\n                }\n            });\n            valueAccessor().subscribe(function(value) {\n                var str = JSON.stringify(value);\n                if ((str == \"0\") && ([\"-0\", \"-0.\"].indexOf(stringified()) >= 0))\n                     return;\n                 if ([\"null\", \"\"].indexOf(str) >= 0)\n                     return;\n                stringified(str);\n            });\n            ko.applyBindingsToNode(\n                element,\n                {\n                    value: stringified,\n                    valueUpdate: allBindings.get('valueUpdate'),\n                },\n                context,\n            );\n        }\n    };\n    var json_data = {\"formatted_vals\":[\"0.0\",\"0.05\",\"0.1\",\"0.15\",\"0.2\",\"0.25\",\"0.3\",\"0.35\",\"0.4\",\"0.45\",\"0.5\",\"0.55\",\"0.6\",\"0.65\",\"0.7\",\"0.75\",\"0.8\",\"0.85\",\"0.9\",\"0.95\",\"1.0\",\"1.05\",\"1.1\",\"1.15\",\"1.2\",\"1.25\",\"1.3\",\"1.35\",\"1.4\",\"1.45\",\"1.5\",\"1.55\",\"1.6\",\"1.65\",\"1.7\",\"1.75\",\"1.8\",\"1.85\",\"1.9\",\"1.95\",\"2.0\",\"2.05\",\"2.1\",\"2.15\",\"2.2\",\"2.25\",\"2.3\",\"2.35\",\"2.4\",\"2.45\",\"2.5\",\"2.55\",\"2.6\",\"2.65\",\"2.7\",\"2.75\",\"2.8\",\"2.85\",\"2.9\",\"2.95\",\"3.0\",\"3.05\",\"3.1\",\"3.15\",\"3.2\",\"3.25\",\"3.3\",\"3.35\",\"3.4\",\"3.45\",\"3.5\",\"3.55\",\"3.6\",\"3.65\",\"3.7\",\"3.75\",\"3.8\",\"3.85\",\"3.9\",\"3.95\",\"4.0\",\"4.05\",\"4.1\",\"4.15\",\"4.2\",\"4.25\",\"4.3\",\"4.35\",\"4.4\",\"4.45\",\"4.5\",\"4.55\",\"4.6\",\"4.65\",\"4.7\",\"4.75\",\"4.8\",\"4.85\",\"4.9\",\"4.95\",\"5.0\",\"5.05\",\"5.1\",\"5.15\",\"5.2\",\"5.25\",\"5.3\",\"5.35\",\"5.4\",\"5.45\",\"5.5\",\"5.55\",\"5.6\",\"5.65\",\"5.7\",\"5.75\",\"5.8\",\"5.85\",\"5.9\",\"5.95\",\"6.0\",\"6.05\",\"6.1\",\"6.15\",\"6.2\",\"6.25\"],\"changes\":WebIO.getval({\"name\":\"changes\",\"scope\":\"10214790817141939637\",\"id\":\"17404161891934997617\",\"type\":\"observable\"}),\"index\":WebIO.getval({\"name\":\"index\",\"scope\":\"10214790817141939637\",\"id\":\"7800714332584043806\",\"type\":\"observable\"})};\n    var self = this;\n    function AppViewModel() {\n        for (var key in json_data) {\n            var el = json_data[key];\n            this[key] = Array.isArray(el) ? ko.observableArray(el) : ko.observable(el);\n        }\n        \n        [this[\"formatted_val\"]=ko.computed(    function(){\n        return this.formatted_vals()[parseInt(this.index())-(1)];\n    }\n,this)]\n        [this[\"changes\"].subscribe((function (val){!(this.valueFromJulia[\"changes\"]) ? (WebIO.setval({\"name\":\"changes\",\"scope\":\"10214790817141939637\",\"id\":\"17404161891934997617\",\"type\":\"observable\"},val)) : undefined; return this.valueFromJulia[\"changes\"]=false}),self),this[\"index\"].subscribe((function (val){!(this.valueFromJulia[\"index\"]) ? (WebIO.setval({\"name\":\"index\",\"scope\":\"10214790817141939637\",\"id\":\"7800714332584043806\",\"type\":\"observable\"},val)) : undefined; return this.valueFromJulia[\"index\"]=false}),self)]\n        \n    }\n    self.model = new AppViewModel();\n    self.valueFromJulia = {};\n    for (var key in json_data) {\n        self.valueFromJulia[key] = false;\n    }\n    ko.applyBindings(self.model, self.dom);\n}\n);\n    (WebIO.importBlock({\"data\":[{\"name\":\"knockout\",\"type\":\"js\",\"url\":\"/assetserver/0fc6d61518197b1bf9b23217e9be1d2e00f2bb14-knockout.js\"},{\"name\":\"knockout_punches\",\"type\":\"js\",\"url\":\"/assetserver/24c12264eef2b01f723a21985ba5661f5564d7cf-knockout_punches.js\"}],\"type\":\"async_block\"})).then((imports) => handler.apply(this, imports));\n}\n"
            ],
            "observables": {
             "changes": {
              "id": "17404161891934997617",
              "sync": false,
              "value": 0
             },
             "index": {
              "id": "7800714332584043806",
              "sync": true,
              "value": 63
             }
            },
            "systemjs_options": null
           },
           "nodeType": "Scope",
           "props": {},
           "type": "node"
          }
         ],
         "instanceArgs": {
          "namespace": "html",
          "tag": "div"
         },
         "nodeType": "DOM",
         "props": {
          "className": "field interact-widget"
         },
         "type": "node"
        },
        {
         "children": [
          {
           "children": [],
           "instanceArgs": {
            "id": "8600340192383647665",
            "name": "obs-node"
           },
           "nodeType": "ObservableNode",
           "props": {},
           "type": "node"
          }
         ],
         "instanceArgs": {
          "handlers": {},
          "id": "14838374089008488236",
          "imports": {
           "data": [],
           "type": "async_block"
          },
          "mount_callbacks": [],
          "observables": {
           "obs-node": {
            "id": "8600340192383647665",
            "sync": false,
            "value": {
             "children": [
              {
               "children": [],
               "instanceArgs": {
                "namespace": "html",
                "tag": "div"
               },
               "nodeType": "DOM",
               "props": {
                "setInnerHtml": "<?xml version=\"1.0\" encoding=\"utf-8\"?>\n<svg xmlns=\"http://www.w3.org/2000/svg\" xmlns:xlink=\"http://www.w3.org/1999/xlink\" width=\"600\" height=\"400\" viewBox=\"0 0 2400 1600\">\n<defs>\n  <clipPath id=\"clip900\">\n    <rect x=\"0\" y=\"0\" width=\"2400\" height=\"1600\"/>\n  </clipPath>\n</defs>\n<path clip-path=\"url(#clip900)\" d=\"\nM0 1600 L2400 1600 L2400 0 L0 0  Z\n  \" fill=\"#ffffff\" fill-rule=\"evenodd\" fill-opacity=\"1\"/>\n<defs>\n  <clipPath id=\"clip901\">\n    <rect x=\"480\" y=\"0\" width=\"1681\" height=\"1600\"/>\n  </clipPath>\n</defs>\n<path clip-path=\"url(#clip900)\" d=\"\nM193.936 1486.45 L2352.76 1486.45 L2352.76 47.2441 L193.936 47.2441  Z\n  \" fill=\"#ffffff\" fill-rule=\"evenodd\" fill-opacity=\"1\"/>\n<defs>\n  <clipPath id=\"clip902\">\n    <rect x=\"193\" y=\"47\" width=\"2160\" height=\"1440\"/>\n  </clipPath>\n</defs>\n<polyline clip-path=\"url(#clip902)\" style=\"stroke:#000000; stroke-width:2; stroke-opacity:0.1; fill:none\" points=\"\n  255.035,1486.45 255.035,47.2441 \n  \"/>\n<polyline clip-path=\"url(#clip902)\" style=\"stroke:#000000; stroke-width:2; stroke-opacity:0.1; fill:none\" points=\"\n  579.596,1486.45 579.596,47.2441 \n  \"/>\n<polyline clip-path=\"url(#clip902)\" style=\"stroke:#000000; stroke-width:2; stroke-opacity:0.1; fill:none\" points=\"\n  904.157,1486.45 904.157,47.2441 \n  \"/>\n<polyline clip-path=\"url(#clip902)\" style=\"stroke:#000000; stroke-width:2; stroke-opacity:0.1; fill:none\" points=\"\n  1228.72,1486.45 1228.72,47.2441 \n  \"/>\n<polyline clip-path=\"url(#clip902)\" style=\"stroke:#000000; stroke-width:2; stroke-opacity:0.1; fill:none\" points=\"\n  1553.28,1486.45 1553.28,47.2441 \n  \"/>\n<polyline clip-path=\"url(#clip902)\" style=\"stroke:#000000; stroke-width:2; stroke-opacity:0.1; fill:none\" points=\"\n  1877.84,1486.45 1877.84,47.2441 \n  \"/>\n<polyline clip-path=\"url(#clip902)\" style=\"stroke:#000000; stroke-width:2; stroke-opacity:0.1; fill:none\" points=\"\n  2202.4,1486.45 2202.4,47.2441 \n  \"/>\n<polyline clip-path=\"url(#clip900)\" style=\"stroke:#000000; stroke-width:4; stroke-opacity:1; fill:none\" points=\"\n  193.936,1486.45 2352.76,1486.45 \n  \"/>\n<polyline clip-path=\"url(#clip900)\" style=\"stroke:#000000; stroke-width:4; stroke-opacity:1; fill:none\" points=\"\n  255.035,1486.45 255.035,1469.18 \n  \"/>\n<polyline clip-path=\"url(#clip900)\" style=\"stroke:#000000; stroke-width:4; stroke-opacity:1; fill:none\" points=\"\n  579.596,1486.45 579.596,1469.18 \n  \"/>\n<polyline clip-path=\"url(#clip900)\" style=\"stroke:#000000; stroke-width:4; stroke-opacity:1; fill:none\" points=\"\n  904.157,1486.45 904.157,1469.18 \n  \"/>\n<polyline clip-path=\"url(#clip900)\" style=\"stroke:#000000; stroke-width:4; stroke-opacity:1; fill:none\" points=\"\n  1228.72,1486.45 1228.72,1469.18 \n  \"/>\n<polyline clip-path=\"url(#clip900)\" style=\"stroke:#000000; stroke-width:4; stroke-opacity:1; fill:none\" points=\"\n  1553.28,1486.45 1553.28,1469.18 \n  \"/>\n<polyline clip-path=\"url(#clip900)\" style=\"stroke:#000000; stroke-width:4; stroke-opacity:1; fill:none\" points=\"\n  1877.84,1486.45 1877.84,1469.18 \n  \"/>\n<polyline clip-path=\"url(#clip900)\" style=\"stroke:#000000; stroke-width:4; stroke-opacity:1; fill:none\" points=\"\n  2202.4,1486.45 2202.4,1469.18 \n  \"/>\n<path clip-path=\"url(#clip900)\" d=\"M 0 0 M255.035 1515.64 Q251.424 1515.64 249.595 1519.2 Q247.789 1522.75 247.789 1529.87 Q247.789 1536.98 249.595 1540.55 Q251.424 1544.09 255.035 1544.09 Q258.669 1544.09 260.474 1540.55 Q262.303 1536.98 262.303 1529.87 Q262.303 1522.75 260.474 1519.2 Q258.669 1515.64 255.035 1515.64 M255.035 1511.93 Q260.845 1511.93 263.9 1516.54 Q266.979 1521.12 266.979 1529.87 Q266.979 1538.6 263.9 1543.21 Q260.845 1547.79 255.035 1547.79 Q249.225 1547.79 246.146 1543.21 Q243.09 1538.6 243.09 1529.87 Q243.09 1521.12 246.146 1516.54 Q249.225 1511.93 255.035 1511.93 Z\" fill=\"#000000\" fill-rule=\"evenodd\" fill-opacity=\"1\" /><path clip-path=\"url(#clip900)\" d=\"M 0 0 M574.249 1543.18 L590.568 1543.18 L590.568 1547.12 L568.624 1547.12 L568.624 1543.18 Q571.286 1540.43 575.869 1535.8 Q580.476 1531.15 581.656 1529.81 Q583.902 1527.28 584.781 1525.55 Q585.684 1523.79 585.684 1522.1 Q585.684 1519.34 583.74 1517.61 Q581.818 1515.87 578.716 1515.87 Q576.517 1515.87 574.064 1516.63 Q571.633 1517.4 568.855 1518.95 L568.855 1514.23 Q571.679 1513.09 574.133 1512.51 Q576.587 1511.93 578.624 1511.93 Q583.994 1511.93 587.189 1514.62 Q590.383 1517.31 590.383 1521.8 Q590.383 1523.93 589.573 1525.85 Q588.786 1527.74 586.679 1530.34 Q586.101 1531.01 582.999 1534.23 Q579.897 1537.42 574.249 1543.18 Z\" fill=\"#000000\" fill-rule=\"evenodd\" fill-opacity=\"1\" /><path clip-path=\"url(#clip900)\" d=\"M 0 0 M907.167 1516.63 L895.361 1535.08 L907.167 1535.08 L907.167 1516.63 M905.94 1512.56 L911.819 1512.56 L911.819 1535.08 L916.75 1535.08 L916.75 1538.97 L911.819 1538.97 L911.819 1547.12 L907.167 1547.12 L907.167 1538.97 L891.565 1538.97 L891.565 1534.46 L905.94 1512.56 Z\" fill=\"#000000\" fill-rule=\"evenodd\" fill-opacity=\"1\" /><path clip-path=\"url(#clip900)\" d=\"M 0 0 M1229.12 1527.98 Q1225.98 1527.98 1224.12 1530.13 Q1222.3 1532.28 1222.3 1536.03 Q1222.3 1539.76 1224.12 1541.93 Q1225.98 1544.09 1229.12 1544.09 Q1232.27 1544.09 1234.1 1541.93 Q1235.95 1539.76 1235.95 1536.03 Q1235.95 1532.28 1234.1 1530.13 Q1232.27 1527.98 1229.12 1527.98 M1238.41 1513.32 L1238.41 1517.58 Q1236.65 1516.75 1234.84 1516.31 Q1233.06 1515.87 1231.3 1515.87 Q1226.67 1515.87 1224.22 1519 Q1221.79 1522.12 1221.44 1528.44 Q1222.8 1526.43 1224.86 1525.36 Q1226.92 1524.27 1229.4 1524.27 Q1234.61 1524.27 1237.62 1527.44 Q1240.65 1530.59 1240.65 1536.03 Q1240.65 1541.36 1237.5 1544.57 Q1234.36 1547.79 1229.12 1547.79 Q1223.13 1547.79 1219.96 1543.21 Q1216.79 1538.6 1216.79 1529.87 Q1216.79 1521.68 1220.67 1516.82 Q1224.56 1511.93 1231.11 1511.93 Q1232.87 1511.93 1234.66 1512.28 Q1236.46 1512.63 1238.41 1513.32 Z\" fill=\"#000000\" fill-rule=\"evenodd\" fill-opacity=\"1\" /><path clip-path=\"url(#clip900)\" d=\"M 0 0 M1553.28 1530.71 Q1549.95 1530.71 1548.03 1532.49 Q1546.13 1534.27 1546.13 1537.4 Q1546.13 1540.52 1548.03 1542.31 Q1549.95 1544.09 1553.28 1544.09 Q1556.61 1544.09 1558.53 1542.31 Q1560.46 1540.5 1560.46 1537.4 Q1560.46 1534.27 1558.53 1532.49 Q1556.64 1530.71 1553.28 1530.71 M1548.6 1528.72 Q1545.59 1527.98 1543.91 1525.92 Q1542.24 1523.86 1542.24 1520.89 Q1542.24 1516.75 1545.18 1514.34 Q1548.14 1511.93 1553.28 1511.93 Q1558.44 1511.93 1561.38 1514.34 Q1564.32 1516.75 1564.32 1520.89 Q1564.32 1523.86 1562.63 1525.92 Q1560.97 1527.98 1557.98 1528.72 Q1561.36 1529.5 1563.23 1531.8 Q1565.13 1534.09 1565.13 1537.4 Q1565.13 1542.42 1562.05 1545.11 Q1559 1547.79 1553.28 1547.79 Q1547.56 1547.79 1544.48 1545.11 Q1541.43 1542.42 1541.43 1537.4 Q1541.43 1534.09 1543.33 1531.8 Q1545.22 1529.5 1548.6 1528.72 M1546.89 1521.33 Q1546.89 1524.02 1548.56 1525.52 Q1550.25 1527.03 1553.28 1527.03 Q1556.29 1527.03 1557.98 1525.52 Q1559.69 1524.02 1559.69 1521.33 Q1559.69 1518.65 1557.98 1517.14 Q1556.29 1515.64 1553.28 1515.64 Q1550.25 1515.64 1548.56 1517.14 Q1546.89 1518.65 1546.89 1521.33 Z\" fill=\"#000000\" fill-rule=\"evenodd\" fill-opacity=\"1\" /><path clip-path=\"url(#clip900)\" d=\"M 0 0 M1852.53 1543.18 L1860.17 1543.18 L1860.17 1516.82 L1851.86 1518.49 L1851.86 1514.23 L1860.12 1512.56 L1864.8 1512.56 L1864.8 1543.18 L1872.44 1543.18 L1872.44 1547.12 L1852.53 1547.12 L1852.53 1543.18 Z\" fill=\"#000000\" fill-rule=\"evenodd\" fill-opacity=\"1\" /><path clip-path=\"url(#clip900)\" d=\"M 0 0 M1891.88 1515.64 Q1888.27 1515.64 1886.44 1519.2 Q1884.64 1522.75 1884.64 1529.87 Q1884.64 1536.98 1886.44 1540.55 Q1888.27 1544.09 1891.88 1544.09 Q1895.52 1544.09 1897.32 1540.55 Q1899.15 1536.98 1899.15 1529.87 Q1899.15 1522.75 1897.32 1519.2 Q1895.52 1515.64 1891.88 1515.64 M1891.88 1511.93 Q1897.69 1511.93 1900.75 1516.54 Q1903.83 1521.12 1903.83 1529.87 Q1903.83 1538.6 1900.75 1543.21 Q1897.69 1547.79 1891.88 1547.79 Q1886.07 1547.79 1882.99 1543.21 Q1879.94 1538.6 1879.94 1529.87 Q1879.94 1521.12 1882.99 1516.54 Q1886.07 1511.93 1891.88 1511.93 Z\" fill=\"#000000\" fill-rule=\"evenodd\" fill-opacity=\"1\" /><path clip-path=\"url(#clip900)\" d=\"M 0 0 M2177.89 1543.18 L2185.53 1543.18 L2185.53 1516.82 L2177.22 1518.49 L2177.22 1514.23 L2185.48 1512.56 L2190.16 1512.56 L2190.16 1543.18 L2197.8 1543.18 L2197.8 1547.12 L2177.89 1547.12 L2177.89 1543.18 Z\" fill=\"#000000\" fill-rule=\"evenodd\" fill-opacity=\"1\" /><path clip-path=\"url(#clip900)\" d=\"M 0 0 M2211.27 1543.18 L2227.59 1543.18 L2227.59 1547.12 L2205.64 1547.12 L2205.64 1543.18 Q2208.31 1540.43 2212.89 1535.8 Q2217.5 1531.15 2218.68 1529.81 Q2220.92 1527.28 2221.8 1525.55 Q2222.7 1523.79 2222.7 1522.1 Q2222.7 1519.34 2220.76 1517.61 Q2218.84 1515.87 2215.74 1515.87 Q2213.54 1515.87 2211.08 1516.63 Q2208.65 1517.4 2205.88 1518.95 L2205.88 1514.23 Q2208.7 1513.09 2211.15 1512.51 Q2213.61 1511.93 2215.64 1511.93 Q2221.01 1511.93 2224.21 1514.62 Q2227.4 1517.31 2227.4 1521.8 Q2227.4 1523.93 2226.59 1525.85 Q2225.81 1527.74 2223.7 1530.34 Q2223.12 1531.01 2220.02 1534.23 Q2216.92 1537.42 2211.27 1543.18 Z\" fill=\"#000000\" fill-rule=\"evenodd\" fill-opacity=\"1\" /><polyline clip-path=\"url(#clip902)\" style=\"stroke:#000000; stroke-width:2; stroke-opacity:0.1; fill:none\" points=\"\n  193.936,1445.72 2352.76,1445.72 \n  \"/>\n<polyline clip-path=\"url(#clip902)\" style=\"stroke:#000000; stroke-width:2; stroke-opacity:0.1; fill:none\" points=\"\n  193.936,1106.25 2352.76,1106.25 \n  \"/>\n<polyline clip-path=\"url(#clip902)\" style=\"stroke:#000000; stroke-width:2; stroke-opacity:0.1; fill:none\" points=\"\n  193.936,766.773 2352.76,766.773 \n  \"/>\n<polyline clip-path=\"url(#clip902)\" style=\"stroke:#000000; stroke-width:2; stroke-opacity:0.1; fill:none\" points=\"\n  193.936,427.301 2352.76,427.301 \n  \"/>\n<polyline clip-path=\"url(#clip902)\" style=\"stroke:#000000; stroke-width:2; stroke-opacity:0.1; fill:none\" points=\"\n  193.936,87.8295 2352.76,87.8295 \n  \"/>\n<polyline clip-path=\"url(#clip900)\" style=\"stroke:#000000; stroke-width:4; stroke-opacity:1; fill:none\" points=\"\n  193.936,1486.45 193.936,47.2441 \n  \"/>\n<polyline clip-path=\"url(#clip900)\" style=\"stroke:#000000; stroke-width:4; stroke-opacity:1; fill:none\" points=\"\n  193.936,1445.72 219.842,1445.72 \n  \"/>\n<polyline clip-path=\"url(#clip900)\" style=\"stroke:#000000; stroke-width:4; stroke-opacity:1; fill:none\" points=\"\n  193.936,1106.25 219.842,1106.25 \n  \"/>\n<polyline clip-path=\"url(#clip900)\" style=\"stroke:#000000; stroke-width:4; stroke-opacity:1; fill:none\" points=\"\n  193.936,766.773 219.842,766.773 \n  \"/>\n<polyline clip-path=\"url(#clip900)\" style=\"stroke:#000000; stroke-width:4; stroke-opacity:1; fill:none\" points=\"\n  193.936,427.301 219.842,427.301 \n  \"/>\n<polyline clip-path=\"url(#clip900)\" style=\"stroke:#000000; stroke-width:4; stroke-opacity:1; fill:none\" points=\"\n  193.936,87.8295 219.842,87.8295 \n  \"/>\n<path clip-path=\"url(#clip900)\" d=\"M 0 0 M50.9921 1446.17 L80.6679 1446.17 L80.6679 1450.1 L50.9921 1450.1 L50.9921 1446.17 Z\" fill=\"#000000\" fill-rule=\"evenodd\" fill-opacity=\"1\" /><path clip-path=\"url(#clip900)\" d=\"M 0 0 M91.5706 1459.06 L99.2095 1459.06 L99.2095 1432.7 L90.8993 1434.36 L90.8993 1430.1 L99.1632 1428.44 L103.839 1428.44 L103.839 1459.06 L111.478 1459.06 L111.478 1463 L91.5706 1463 L91.5706 1459.06 Z\" fill=\"#000000\" fill-rule=\"evenodd\" fill-opacity=\"1\" /><path clip-path=\"url(#clip900)\" d=\"M 0 0 M120.922 1457.12 L125.807 1457.12 L125.807 1463 L120.922 1463 L120.922 1457.12 Z\" fill=\"#000000\" fill-rule=\"evenodd\" fill-opacity=\"1\" /><path clip-path=\"url(#clip900)\" d=\"M 0 0 M145.992 1431.52 Q142.381 1431.52 140.552 1435.08 Q138.746 1438.62 138.746 1445.75 Q138.746 1452.86 140.552 1456.42 Q142.381 1459.96 145.992 1459.96 Q149.626 1459.96 151.431 1456.42 Q153.26 1452.86 153.26 1445.75 Q153.26 1438.62 151.431 1435.08 Q149.626 1431.52 145.992 1431.52 M145.992 1427.81 Q151.802 1427.81 154.857 1432.42 Q157.936 1437 157.936 1445.75 Q157.936 1454.48 154.857 1459.08 Q151.802 1463.67 145.992 1463.67 Q140.181 1463.67 137.103 1459.08 Q134.047 1454.48 134.047 1445.75 Q134.047 1437 137.103 1432.42 Q140.181 1427.81 145.992 1427.81 Z\" fill=\"#000000\" fill-rule=\"evenodd\" fill-opacity=\"1\" /><path clip-path=\"url(#clip900)\" d=\"M 0 0 M51.9875 1106.7 L81.6633 1106.7 L81.6633 1110.63 L51.9875 1110.63 L51.9875 1106.7 Z\" fill=\"#000000\" fill-rule=\"evenodd\" fill-opacity=\"1\" /><path clip-path=\"url(#clip900)\" d=\"M 0 0 M101.756 1092.04 Q98.1447 1092.04 96.316 1095.61 Q94.5104 1099.15 94.5104 1106.28 Q94.5104 1113.39 96.316 1116.95 Q98.1447 1120.49 101.756 1120.49 Q105.39 1120.49 107.196 1116.95 Q109.024 1113.39 109.024 1106.28 Q109.024 1099.15 107.196 1095.61 Q105.39 1092.04 101.756 1092.04 M101.756 1088.34 Q107.566 1088.34 110.621 1092.95 Q113.7 1097.53 113.7 1106.28 Q113.7 1115.01 110.621 1119.61 Q107.566 1124.2 101.756 1124.2 Q95.9456 1124.2 92.8669 1119.61 Q89.8114 1115.01 89.8114 1106.28 Q89.8114 1097.53 92.8669 1092.95 Q95.9456 1088.34 101.756 1088.34 Z\" fill=\"#000000\" fill-rule=\"evenodd\" fill-opacity=\"1\" /><path clip-path=\"url(#clip900)\" d=\"M 0 0 M121.918 1117.65 L126.802 1117.65 L126.802 1123.53 L121.918 1123.53 L121.918 1117.65 Z\" fill=\"#000000\" fill-rule=\"evenodd\" fill-opacity=\"1\" /><path clip-path=\"url(#clip900)\" d=\"M 0 0 M137.033 1088.97 L155.39 1088.97 L155.39 1092.9 L141.316 1092.9 L141.316 1101.37 Q142.334 1101.03 143.353 1100.86 Q144.371 1100.68 145.39 1100.68 Q151.177 1100.68 154.556 1103.85 Q157.936 1107.02 157.936 1112.44 Q157.936 1118.02 154.464 1121.12 Q150.992 1124.2 144.672 1124.2 Q142.496 1124.2 140.228 1123.83 Q137.982 1123.46 135.575 1122.71 L135.575 1118.02 Q137.658 1119.15 139.881 1119.71 Q142.103 1120.26 144.58 1120.26 Q148.584 1120.26 150.922 1118.15 Q153.26 1116.05 153.26 1112.44 Q153.26 1108.83 150.922 1106.72 Q148.584 1104.61 144.58 1104.61 Q142.705 1104.61 140.83 1105.03 Q138.978 1105.45 137.033 1106.33 L137.033 1088.97 Z\" fill=\"#000000\" fill-rule=\"evenodd\" fill-opacity=\"1\" /><path clip-path=\"url(#clip900)\" d=\"M 0 0 M100.76 752.572 Q97.1493 752.572 95.3206 756.137 Q93.515 759.678 93.515 766.808 Q93.515 773.914 95.3206 777.479 Q97.1493 781.021 100.76 781.021 Q104.395 781.021 106.2 777.479 Q108.029 773.914 108.029 766.808 Q108.029 759.678 106.2 756.137 Q104.395 752.572 100.76 752.572 M100.76 748.868 Q106.571 748.868 109.626 753.475 Q112.705 758.058 112.705 766.808 Q112.705 775.535 109.626 780.141 Q106.571 784.725 100.76 784.725 Q94.9502 784.725 91.8715 780.141 Q88.816 775.535 88.816 766.808 Q88.816 758.058 91.8715 753.475 Q94.9502 748.868 100.76 748.868 Z\" fill=\"#000000\" fill-rule=\"evenodd\" fill-opacity=\"1\" /><path clip-path=\"url(#clip900)\" d=\"M 0 0 M120.922 778.174 L125.807 778.174 L125.807 784.053 L120.922 784.053 L120.922 778.174 Z\" fill=\"#000000\" fill-rule=\"evenodd\" fill-opacity=\"1\" /><path clip-path=\"url(#clip900)\" d=\"M 0 0 M145.992 752.572 Q142.381 752.572 140.552 756.137 Q138.746 759.678 138.746 766.808 Q138.746 773.914 140.552 777.479 Q142.381 781.021 145.992 781.021 Q149.626 781.021 151.431 777.479 Q153.26 773.914 153.26 766.808 Q153.26 759.678 151.431 756.137 Q149.626 752.572 145.992 752.572 M145.992 748.868 Q151.802 748.868 154.857 753.475 Q157.936 758.058 157.936 766.808 Q157.936 775.535 154.857 780.141 Q151.802 784.725 145.992 784.725 Q140.181 784.725 137.103 780.141 Q134.047 775.535 134.047 766.808 Q134.047 758.058 137.103 753.475 Q140.181 748.868 145.992 748.868 Z\" fill=\"#000000\" fill-rule=\"evenodd\" fill-opacity=\"1\" /><path clip-path=\"url(#clip900)\" d=\"M 0 0 M101.756 413.1 Q98.1447 413.1 96.316 416.665 Q94.5104 420.206 94.5104 427.336 Q94.5104 434.443 96.316 438.007 Q98.1447 441.549 101.756 441.549 Q105.39 441.549 107.196 438.007 Q109.024 434.443 109.024 427.336 Q109.024 420.206 107.196 416.665 Q105.39 413.1 101.756 413.1 M101.756 409.396 Q107.566 409.396 110.621 414.003 Q113.7 418.586 113.7 427.336 Q113.7 436.063 110.621 440.669 Q107.566 445.253 101.756 445.253 Q95.9456 445.253 92.8669 440.669 Q89.8114 436.063 89.8114 427.336 Q89.8114 418.586 92.8669 414.003 Q95.9456 409.396 101.756 409.396 Z\" fill=\"#000000\" fill-rule=\"evenodd\" fill-opacity=\"1\" /><path clip-path=\"url(#clip900)\" d=\"M 0 0 M121.918 438.702 L126.802 438.702 L126.802 444.581 L121.918 444.581 L121.918 438.702 Z\" fill=\"#000000\" fill-rule=\"evenodd\" fill-opacity=\"1\" /><path clip-path=\"url(#clip900)\" d=\"M 0 0 M137.033 410.021 L155.39 410.021 L155.39 413.957 L141.316 413.957 L141.316 422.429 Q142.334 422.081 143.353 421.919 Q144.371 421.734 145.39 421.734 Q151.177 421.734 154.556 424.906 Q157.936 428.077 157.936 433.493 Q157.936 439.072 154.464 442.174 Q150.992 445.253 144.672 445.253 Q142.496 445.253 140.228 444.882 Q137.982 444.512 135.575 443.771 L135.575 439.072 Q137.658 440.206 139.881 440.762 Q142.103 441.317 144.58 441.317 Q148.584 441.317 150.922 439.211 Q153.26 437.105 153.26 433.493 Q153.26 429.882 150.922 427.776 Q148.584 425.669 144.58 425.669 Q142.705 425.669 140.83 426.086 Q138.978 426.503 137.033 427.382 L137.033 410.021 Z\" fill=\"#000000\" fill-rule=\"evenodd\" fill-opacity=\"1\" /><path clip-path=\"url(#clip900)\" d=\"M 0 0 M91.5706 101.174 L99.2095 101.174 L99.2095 74.8087 L90.8993 76.4754 L90.8993 72.2161 L99.1632 70.5495 L103.839 70.5495 L103.839 101.174 L111.478 101.174 L111.478 105.109 L91.5706 105.109 L91.5706 101.174 Z\" fill=\"#000000\" fill-rule=\"evenodd\" fill-opacity=\"1\" /><path clip-path=\"url(#clip900)\" d=\"M 0 0 M120.922 99.2299 L125.807 99.2299 L125.807 105.109 L120.922 105.109 L120.922 99.2299 Z\" fill=\"#000000\" fill-rule=\"evenodd\" fill-opacity=\"1\" /><path clip-path=\"url(#clip900)\" d=\"M 0 0 M145.992 73.6282 Q142.381 73.6282 140.552 77.1929 Q138.746 80.7346 138.746 87.8642 Q138.746 94.9706 140.552 98.5354 Q142.381 102.077 145.992 102.077 Q149.626 102.077 151.431 98.5354 Q153.26 94.9706 153.26 87.8642 Q153.26 80.7346 151.431 77.1929 Q149.626 73.6282 145.992 73.6282 M145.992 69.9245 Q151.802 69.9245 154.857 74.5309 Q157.936 79.1142 157.936 87.8642 Q157.936 96.591 154.857 101.197 Q151.802 105.781 145.992 105.781 Q140.181 105.781 137.103 101.197 Q134.047 96.591 134.047 87.8642 Q134.047 79.1142 137.103 74.5309 Q140.181 69.9245 145.992 69.9245 Z\" fill=\"#000000\" fill-rule=\"evenodd\" fill-opacity=\"1\" /><polyline clip-path=\"url(#clip902)\" style=\"stroke:#009af9; stroke-width:4; stroke-opacity:1; fill:none\" points=\"\n  255.035,766.773 263.149,661.958 271.263,559.656 279.377,462.319 287.491,372.283 295.605,291.705 303.719,222.518 311.833,166.381 319.947,124.639 328.061,98.2936 \n  336.175,87.9763 344.289,93.9344 352.403,116.025 360.517,153.719 368.631,206.112 376.745,271.947 384.859,349.648 392.973,437.349 401.087,532.949 409.201,634.156 \n  417.315,738.542 425.429,843.605 433.543,946.826 441.657,1045.73 449.771,1137.95 457.886,1221.26 466,1293.68 474.114,1353.46 482.228,1399.18 490.342,1429.74 \n  498.456,1444.4 506.57,1442.81 514.684,1425.01 522.798,1391.43 530.912,1342.87 539.026,1280.5 547.14,1205.81 555.254,1120.6 563.368,1026.9 571.482,926.963 \n  579.596,823.186 587.71,718.057 595.824,614.096 603.938,513.795 612.052,419.56 620.166,333.651 628.28,258.126 636.394,194.797 644.508,145.182 652.622,110.471 \n  660.736,91.4966 668.85,88.7129 676.964,102.187 685.078,131.596 693.193,176.234 701.307,235.032 709.421,306.579 717.535,389.161 725.649,480.796 733.763,579.288 \n  741.877,682.276 749.991,787.289 758.105,891.811 766.219,993.334 774.333,1089.43 782.447,1177.78 790.561,1256.28 798.675,1323.04 806.789,1376.47 814.903,1415.28 \n  823.017,1438.54 831.131,1445.69 839.245,1436.56 847.359,1411.37 855.473,1370.73 863.587,1315.61 871.701,1247.33 879.815,1167.52 887.929,1078.11 896.043,981.229 \n  904.157,879.209 912.271,774.493 920.385,669.592 928.5,567.021 936.614,469.239 944.728,378.592 952.842,297.251 960.956,227.169 969.07,170.024 977.184,127.188 \n  985.298,99.687 993.412,88.1807 1001.53,92.945 1009.64,113.866 1017.75,150.441 1025.87,201.794 1033.98,266.694 1042.1,343.584 1050.21,430.62 1058.32,525.717 \n  1066.44,626.593 1074.55,730.831 1082.67,835.93 1090.78,939.371 1098.89,1038.67 1107.01,1131.46 1115.12,1215.5 1123.24,1288.78 1131.35,1349.54 1139.46,1396.33 \n  1147.58,1428.03 1155.69,1443.87 1163.81,1443.48 1171.92,1426.86 1180.03,1394.41 1188.15,1346.92 1196.26,1285.52 1204.38,1211.67 1212.49,1127.16 1220.6,1034.01 \n  1228.72,934.454 1236.83,830.876 1244.95,725.76 1253.06,621.628 1261.17,520.976 1269.29,426.217 1277.4,339.624 1285.52,263.272 1293.63,198.993 1301.75,148.328 \n  1309.86,112.491 1317.97,92.3415 1326.09,88.363 1334.2,100.651 1342.32,128.91 1350.43,172.463 1358.54,230.266 1366.66,300.933 1374.77,382.769 1382.89,473.813 \n  1391,571.881 1399.11,674.621 1407.23,779.572 1415.34,884.215 1423.46,986.042 1431.57,1082.61 1439.68,1171.61 1447.8,1250.9 1455.91,1318.58 1464.03,1373.03 \n  1472.14,1412.95 1480.25,1437.37 1488.37,1445.72 1496.48,1437.78 1504.6,1413.76 1512.71,1374.22 1520.82,1320.12 1528.94,1252.75 1537.05,1173.73 1545.17,1084.95 \n  1553.28,988.54 1561.39,886.815 1569.51,782.212 1577.62,677.239 1585.74,574.412 1593.85,476.198 1601.96,384.95 1610.08,302.858 1618.19,231.889 1626.31,173.745 \n  1634.42,129.82 1642.53,101.167 1650.65,88.4728 1658.76,92.0427 1666.88,111.79 1674.99,147.243 1683.1,197.549 1691.22,261.504 1699.33,337.574 1707.45,423.935 \n  1715.56,518.516 1723.67,619.049 1731.79,723.124 1739.9,828.246 1748.02,931.894 1756.13,1031.58 1764.25,1124.92 1772.36,1209.67 1780.47,1283.81 1788.59,1345.54 \n  1796.7,1393.4 1804.82,1426.24 1812.93,1443.26 1821.04,1444.06 1829.16,1428.62 1837.27,1397.32 1845.39,1350.89 1853.5,1290.46 1861.61,1217.48 1869.73,1133.68 \n  1877.84,1041.09 1885.96,941.924 1894.07,838.557 1902.18,733.468 1910.3,629.179 1918.41,528.188 1926.53,432.917 1934.64,345.652 1942.75,268.484 1950.87,203.263 \n  1958.98,151.553 1967.1,114.595 1975.21,93.2736 1983.32,88.1009 1991.44,99.2006 1999.55,126.307 2007.67,168.769 2015.78,225.57 2023.89,295.347 2032.01,376.428 \n  2040.12,466.868 2048.24,564.498 2056.35,666.979 2064.46,771.852 2072.58,876.604 2080.69,978.722 2088.81,1075.76 2096.92,1165.39 2105.03,1245.46 2113.15,1314.05 \n  2121.26,1369.52 2129.38,1410.54 2137.49,1436.12 2145.6,1445.66 2153.72,1438.91 2161.83,1416.05 2169.95,1377.63 2178.06,1324.55 2186.17,1258.11 2194.29,1179.88 \n  2202.4,1091.75 2210.52,995.822 2218.63,894.406 2226.74,789.929 2234.86,684.897 2242.97,581.828 2251.09,483.193 2259.2,391.358 2267.32,308.525 2275.43,236.678 \n  2283.54,177.542 2291.66,132.533 \n  \"/>\n<path clip-path=\"url(#clip900)\" d=\"\nM1988.5 216.178 L2280.8 216.178 L2280.8 95.2176 L1988.5 95.2176  Z\n  \" fill=\"#ffffff\" fill-rule=\"evenodd\" fill-opacity=\"1\"/>\n<polyline clip-path=\"url(#clip900)\" style=\"stroke:#000000; stroke-width:4; stroke-opacity:1; fill:none\" points=\"\n  1988.5,216.178 2280.8,216.178 2280.8,95.2176 1988.5,95.2176 1988.5,216.178 \n  \"/>\n<polyline clip-path=\"url(#clip900)\" style=\"stroke:#009af9; stroke-width:4; stroke-opacity:1; fill:none\" points=\"\n  2012.48,155.698 2156.4,155.698 \n  \"/>\n<path clip-path=\"url(#clip900)\" d=\"M 0 0 M2194.23 175.385 Q2192.43 180.015 2190.72 181.427 Q2189 182.839 2186.13 182.839 L2182.73 182.839 L2182.73 179.274 L2185.23 179.274 Q2186.99 179.274 2187.96 178.44 Q2188.93 177.607 2190.11 174.505 L2190.88 172.561 L2180.39 147.052 L2184.91 147.052 L2193.01 167.329 L2201.11 147.052 L2205.62 147.052 L2194.23 175.385 Z\" fill=\"#000000\" fill-rule=\"evenodd\" fill-opacity=\"1\" /><path clip-path=\"url(#clip900)\" d=\"M 0 0 M2212.91 169.042 L2220.55 169.042 L2220.55 142.677 L2212.24 144.343 L2212.24 140.084 L2220.51 138.418 L2225.18 138.418 L2225.18 169.042 L2232.82 169.042 L2232.82 172.978 L2212.91 172.978 L2212.91 169.042 Z\" fill=\"#000000\" fill-rule=\"evenodd\" fill-opacity=\"1\" /></svg>\n"
               },
               "type": "node"
              }
             ],
             "instanceArgs": {
              "namespace": "html",
              "tag": "div"
             },
             "nodeType": "DOM",
             "props": {
              "className": "interact-flex-row interact-widget"
             },
             "type": "node"
            }
           }
          },
          "systemjs_options": null
         },
         "nodeType": "Scope",
         "props": {},
         "type": "node"
        }
       ],
       "instanceArgs": {
        "namespace": "html",
        "tag": "div"
       },
       "nodeType": "DOM",
       "props": {},
       "type": "node"
      },
      "text/html": [
       "<div\n",
       "    class=\"webio-mountpoint\"\n",
       "    data-webio-mountpoint=\"9146929177894975996\"\n",
       ">\n",
       "    <script>\n",
       "    if (window.require && require.defined && require.defined(\"nbextensions/webio-jupyter-notebook\")) {\n",
       "        console.log(\"Jupyter WebIO extension detected, not mounting.\");\n",
       "    } else if (window.WebIO) {\n",
       "        WebIO.mount(\n",
       "            document.querySelector('[data-webio-mountpoint=\"9146929177894975996\"]'),\n",
       "            {\"props\":{},\"nodeType\":\"DOM\",\"type\":\"node\",\"instanceArgs\":{\"namespace\":\"html\",\"tag\":\"div\"},\"children\":[{\"props\":{\"className\":\"interact-widget\"},\"nodeType\":\"DOM\",\"type\":\"node\",\"instanceArgs\":{\"namespace\":\"html\",\"tag\":\"div\"},\"children\":[{\"props\":{},\"nodeType\":\"Scope\",\"type\":\"node\",\"instanceArgs\":{\"imports\":{\"data\":[{\"name\":\"knockout\",\"type\":\"js\",\"url\":\"\\/assetserver\\/0fc6d61518197b1bf9b23217e9be1d2e00f2bb14-knockout.js\"},{\"name\":\"knockout_punches\",\"type\":\"js\",\"url\":\"\\/assetserver\\/24c12264eef2b01f723a21985ba5661f5564d7cf-knockout_punches.js\"},{\"name\":null,\"type\":\"js\",\"url\":\"\\/assetserver\\/85de428ae418ad26c1ce7e886d25374b3774afa9-all.js\"},{\"name\":null,\"type\":\"css\",\"url\":\"\\/assetserver\\/2cd8ff31326883094fe5a8ff21182264663b62be-style.css\"},{\"name\":null,\"type\":\"css\",\"url\":\"\\/assetserver\\/741bde2d4bf25f117d0ec4d43164cd1a050cf9de-bulma_confined.min.css\"}],\"type\":\"async_block\"},\"id\":\"4617982789013449163\",\"handlers\":{\"options_js\":[\"(function (val){return (val!=this.model[\\\"options_js\\\"]()) ? (this.valueFromJulia[\\\"options_js\\\"]=true, this.model[\\\"options_js\\\"](val)) : undefined})\"],\"index\":[\"(function (val){return (val!=this.model[\\\"index\\\"]()) ? (this.valueFromJulia[\\\"index\\\"]=true, this.model[\\\"index\\\"](val)) : undefined})\"]},\"systemjs_options\":null,\"mount_callbacks\":[\"function () {\\n    var handler = (function (ko, koPunches) {\\n    ko.punches.enableAll();\\n    ko.bindingHandlers.numericValue = {\\n        init: function(element, valueAccessor, allBindings, data, context) {\\n            var stringified = ko.observable(ko.unwrap(valueAccessor()));\\n            stringified.subscribe(function(value) {\\n                var val = parseFloat(value);\\n                if (!isNaN(val)) {\\n                    valueAccessor()(val);\\n                }\\n            });\\n            valueAccessor().subscribe(function(value) {\\n                var str = JSON.stringify(value);\\n                if ((str == \\\"0\\\") && ([\\\"-0\\\", \\\"-0.\\\"].indexOf(stringified()) >= 0))\\n                     return;\\n                 if ([\\\"null\\\", \\\"\\\"].indexOf(str) >= 0)\\n                     return;\\n                stringified(str);\\n            });\\n            ko.applyBindingsToNode(\\n                element,\\n                {\\n                    value: stringified,\\n                    valueUpdate: allBindings.get('valueUpdate'),\\n                },\\n                context,\\n            );\\n        }\\n    };\\n    var json_data = {\\\"options_js\\\":WebIO.getval({\\\"name\\\":\\\"options_js\\\",\\\"scope\\\":\\\"4617982789013449163\\\",\\\"id\\\":\\\"5378834366952140744\\\",\\\"type\\\":\\\"observable\\\"}),\\\"index\\\":WebIO.getval({\\\"name\\\":\\\"index\\\",\\\"scope\\\":\\\"4617982789013449163\\\",\\\"id\\\":\\\"11588019856829042043\\\",\\\"type\\\":\\\"observable\\\"})};\\n    var self = this;\\n    function AppViewModel() {\\n        for (var key in json_data) {\\n            var el = json_data[key];\\n            this[key] = Array.isArray(el) ? ko.observableArray(el) : ko.observable(el);\\n        }\\n        [this[\\\"update\\\"]=function (val) {this.index(val)}]\\n        \\n        [this[\\\"options_js\\\"].subscribe((function (val){!(this.valueFromJulia[\\\"options_js\\\"]) ? (WebIO.setval({\\\"name\\\":\\\"options_js\\\",\\\"scope\\\":\\\"4617982789013449163\\\",\\\"id\\\":\\\"5378834366952140744\\\",\\\"type\\\":\\\"observable\\\"},val)) : undefined; return this.valueFromJulia[\\\"options_js\\\"]=false}),self),this[\\\"index\\\"].subscribe((function (val){!(this.valueFromJulia[\\\"index\\\"]) ? (WebIO.setval({\\\"name\\\":\\\"index\\\",\\\"scope\\\":\\\"4617982789013449163\\\",\\\"id\\\":\\\"11588019856829042043\\\",\\\"type\\\":\\\"observable\\\"},val)) : undefined; return this.valueFromJulia[\\\"index\\\"]=false}),self)]\\n        \\n    }\\n    self.model = new AppViewModel();\\n    self.valueFromJulia = {};\\n    for (var key in json_data) {\\n        self.valueFromJulia[key] = false;\\n    }\\n    ko.applyBindings(self.model, self.dom);\\n}\\n);\\n    (WebIO.importBlock({\\\"data\\\":[{\\\"name\\\":\\\"knockout\\\",\\\"type\\\":\\\"js\\\",\\\"url\\\":\\\"\\/assetserver\\/0fc6d61518197b1bf9b23217e9be1d2e00f2bb14-knockout.js\\\"},{\\\"name\\\":\\\"knockout_punches\\\",\\\"type\\\":\\\"js\\\",\\\"url\\\":\\\"\\/assetserver\\/24c12264eef2b01f723a21985ba5661f5564d7cf-knockout_punches.js\\\"}],\\\"type\\\":\\\"async_block\\\"})).then((imports) => handler.apply(this, imports));\\n}\\n\"],\"observables\":{\"options_js\":{\"sync\":false,\"id\":\"5378834366952140744\",\"value\":[{\"key\":\"sin\",\"val\":1,\"id\":\"idYTxRy5PJ\"},{\"key\":\"cos\",\"val\":2,\"id\":\"idPvMBiOKy\"},{\"key\":\"tan\",\"val\":3,\"id\":\"idjhwh9BFX\"}]},\"index\":{\"sync\":true,\"id\":\"11588019856829042043\",\"value\":1}}},\"children\":[{\"props\":{\"className\":\"interact-flex-row interact-widget\"},\"nodeType\":\"DOM\",\"type\":\"node\",\"instanceArgs\":{\"namespace\":\"html\",\"tag\":\"div\"},\"children\":[{\"props\":{\"className\":\"interact-flex-row-left\"},\"nodeType\":\"DOM\",\"type\":\"node\",\"instanceArgs\":{\"namespace\":\"html\",\"tag\":\"div\"},\"children\":[{\"props\":{\"className\":\"interact \",\"style\":{\"padding\":\"5px 10px 0px 10px\"}},\"nodeType\":\"DOM\",\"type\":\"node\",\"instanceArgs\":{\"namespace\":\"html\",\"tag\":\"label\"},\"children\":[\"f\"]}]},{\"props\":{\"className\":\"interact-flex-row-center\"},\"nodeType\":\"DOM\",\"type\":\"node\",\"instanceArgs\":{\"namespace\":\"html\",\"tag\":\"div\"},\"children\":[{\"props\":{\"attributes\":{\"data-bind\":\"foreach : options_js\"},\"className\":\"buttons has-addons is-centered\"},\"nodeType\":\"DOM\",\"type\":\"node\",\"instanceArgs\":{\"namespace\":\"html\",\"tag\":\"div\"},\"children\":[{\"props\":{\"attributes\":{\"data-bind\":\"click: function (){$root.update(val)}, css: {'is-primary is-selected' : $root.index() == val, 'interact-widget is-medium button ' : true}\"}},\"nodeType\":\"DOM\",\"type\":\"node\",\"instanceArgs\":{\"namespace\":\"html\",\"tag\":\"span\"},\"children\":[{\"props\":{\"attributes\":{\"data-bind\":\"text : key\"}},\"nodeType\":\"DOM\",\"type\":\"node\",\"instanceArgs\":{\"namespace\":\"html\",\"tag\":\"label\"},\"children\":[]}]}]}]},{\"props\":{\"className\":\"interact-flex-row-right\"},\"nodeType\":\"DOM\",\"type\":\"node\",\"instanceArgs\":{\"namespace\":\"html\",\"tag\":\"div\"},\"children\":[{\"props\":{},\"nodeType\":\"DOM\",\"type\":\"node\",\"instanceArgs\":{\"namespace\":\"html\",\"tag\":\"div\"},\"children\":[]}]}]}]}]},{\"props\":{\"className\":\"field interact-widget\"},\"nodeType\":\"DOM\",\"type\":\"node\",\"instanceArgs\":{\"namespace\":\"html\",\"tag\":\"div\"},\"children\":[{\"props\":{},\"nodeType\":\"Scope\",\"type\":\"node\",\"instanceArgs\":{\"imports\":{\"data\":[{\"name\":\"knockout\",\"type\":\"js\",\"url\":\"\\/assetserver\\/0fc6d61518197b1bf9b23217e9be1d2e00f2bb14-knockout.js\"},{\"name\":\"knockout_punches\",\"type\":\"js\",\"url\":\"\\/assetserver\\/24c12264eef2b01f723a21985ba5661f5564d7cf-knockout_punches.js\"},{\"name\":null,\"type\":\"js\",\"url\":\"\\/assetserver\\/85de428ae418ad26c1ce7e886d25374b3774afa9-all.js\"},{\"name\":null,\"type\":\"css\",\"url\":\"\\/assetserver\\/2cd8ff31326883094fe5a8ff21182264663b62be-style.css\"},{\"name\":null,\"type\":\"css\",\"url\":\"\\/assetserver\\/741bde2d4bf25f117d0ec4d43164cd1a050cf9de-bulma_confined.min.css\"}],\"type\":\"async_block\"},\"id\":\"10214790817141939637\",\"handlers\":{\"changes\":[\"(function (val){return (val!=this.model[\\\"changes\\\"]()) ? (this.valueFromJulia[\\\"changes\\\"]=true, this.model[\\\"changes\\\"](val)) : undefined})\"],\"index\":[\"(function (val){return (val!=this.model[\\\"index\\\"]()) ? (this.valueFromJulia[\\\"index\\\"]=true, this.model[\\\"index\\\"](val)) : undefined})\"]},\"systemjs_options\":null,\"mount_callbacks\":[\"function () {\\n    var handler = (function (ko, koPunches) {\\n    ko.punches.enableAll();\\n    ko.bindingHandlers.numericValue = {\\n        init: function(element, valueAccessor, allBindings, data, context) {\\n            var stringified = ko.observable(ko.unwrap(valueAccessor()));\\n            stringified.subscribe(function(value) {\\n                var val = parseFloat(value);\\n                if (!isNaN(val)) {\\n                    valueAccessor()(val);\\n                }\\n            });\\n            valueAccessor().subscribe(function(value) {\\n                var str = JSON.stringify(value);\\n                if ((str == \\\"0\\\") && ([\\\"-0\\\", \\\"-0.\\\"].indexOf(stringified()) >= 0))\\n                     return;\\n                 if ([\\\"null\\\", \\\"\\\"].indexOf(str) >= 0)\\n                     return;\\n                stringified(str);\\n            });\\n            ko.applyBindingsToNode(\\n                element,\\n                {\\n                    value: stringified,\\n                    valueUpdate: allBindings.get('valueUpdate'),\\n                },\\n                context,\\n            );\\n        }\\n    };\\n    var json_data = {\\\"formatted_vals\\\":[\\\"0.0\\\",\\\"0.05\\\",\\\"0.1\\\",\\\"0.15\\\",\\\"0.2\\\",\\\"0.25\\\",\\\"0.3\\\",\\\"0.35\\\",\\\"0.4\\\",\\\"0.45\\\",\\\"0.5\\\",\\\"0.55\\\",\\\"0.6\\\",\\\"0.65\\\",\\\"0.7\\\",\\\"0.75\\\",\\\"0.8\\\",\\\"0.85\\\",\\\"0.9\\\",\\\"0.95\\\",\\\"1.0\\\",\\\"1.05\\\",\\\"1.1\\\",\\\"1.15\\\",\\\"1.2\\\",\\\"1.25\\\",\\\"1.3\\\",\\\"1.35\\\",\\\"1.4\\\",\\\"1.45\\\",\\\"1.5\\\",\\\"1.55\\\",\\\"1.6\\\",\\\"1.65\\\",\\\"1.7\\\",\\\"1.75\\\",\\\"1.8\\\",\\\"1.85\\\",\\\"1.9\\\",\\\"1.95\\\",\\\"2.0\\\",\\\"2.05\\\",\\\"2.1\\\",\\\"2.15\\\",\\\"2.2\\\",\\\"2.25\\\",\\\"2.3\\\",\\\"2.35\\\",\\\"2.4\\\",\\\"2.45\\\",\\\"2.5\\\",\\\"2.55\\\",\\\"2.6\\\",\\\"2.65\\\",\\\"2.7\\\",\\\"2.75\\\",\\\"2.8\\\",\\\"2.85\\\",\\\"2.9\\\",\\\"2.95\\\",\\\"3.0\\\",\\\"3.05\\\",\\\"3.1\\\",\\\"3.15\\\",\\\"3.2\\\",\\\"3.25\\\",\\\"3.3\\\",\\\"3.35\\\",\\\"3.4\\\",\\\"3.45\\\",\\\"3.5\\\",\\\"3.55\\\",\\\"3.6\\\",\\\"3.65\\\",\\\"3.7\\\",\\\"3.75\\\",\\\"3.8\\\",\\\"3.85\\\",\\\"3.9\\\",\\\"3.95\\\",\\\"4.0\\\",\\\"4.05\\\",\\\"4.1\\\",\\\"4.15\\\",\\\"4.2\\\",\\\"4.25\\\",\\\"4.3\\\",\\\"4.35\\\",\\\"4.4\\\",\\\"4.45\\\",\\\"4.5\\\",\\\"4.55\\\",\\\"4.6\\\",\\\"4.65\\\",\\\"4.7\\\",\\\"4.75\\\",\\\"4.8\\\",\\\"4.85\\\",\\\"4.9\\\",\\\"4.95\\\",\\\"5.0\\\",\\\"5.05\\\",\\\"5.1\\\",\\\"5.15\\\",\\\"5.2\\\",\\\"5.25\\\",\\\"5.3\\\",\\\"5.35\\\",\\\"5.4\\\",\\\"5.45\\\",\\\"5.5\\\",\\\"5.55\\\",\\\"5.6\\\",\\\"5.65\\\",\\\"5.7\\\",\\\"5.75\\\",\\\"5.8\\\",\\\"5.85\\\",\\\"5.9\\\",\\\"5.95\\\",\\\"6.0\\\",\\\"6.05\\\",\\\"6.1\\\",\\\"6.15\\\",\\\"6.2\\\",\\\"6.25\\\"],\\\"changes\\\":WebIO.getval({\\\"name\\\":\\\"changes\\\",\\\"scope\\\":\\\"10214790817141939637\\\",\\\"id\\\":\\\"17404161891934997617\\\",\\\"type\\\":\\\"observable\\\"}),\\\"index\\\":WebIO.getval({\\\"name\\\":\\\"index\\\",\\\"scope\\\":\\\"10214790817141939637\\\",\\\"id\\\":\\\"7800714332584043806\\\",\\\"type\\\":\\\"observable\\\"})};\\n    var self = this;\\n    function AppViewModel() {\\n        for (var key in json_data) {\\n            var el = json_data[key];\\n            this[key] = Array.isArray(el) ? ko.observableArray(el) : ko.observable(el);\\n        }\\n        \\n        [this[\\\"formatted_val\\\"]=ko.computed(    function(){\\n        return this.formatted_vals()[parseInt(this.index())-(1)];\\n    }\\n,this)]\\n        [this[\\\"changes\\\"].subscribe((function (val){!(this.valueFromJulia[\\\"changes\\\"]) ? (WebIO.setval({\\\"name\\\":\\\"changes\\\",\\\"scope\\\":\\\"10214790817141939637\\\",\\\"id\\\":\\\"17404161891934997617\\\",\\\"type\\\":\\\"observable\\\"},val)) : undefined; return this.valueFromJulia[\\\"changes\\\"]=false}),self),this[\\\"index\\\"].subscribe((function (val){!(this.valueFromJulia[\\\"index\\\"]) ? (WebIO.setval({\\\"name\\\":\\\"index\\\",\\\"scope\\\":\\\"10214790817141939637\\\",\\\"id\\\":\\\"7800714332584043806\\\",\\\"type\\\":\\\"observable\\\"},val)) : undefined; return this.valueFromJulia[\\\"index\\\"]=false}),self)]\\n        \\n    }\\n    self.model = new AppViewModel();\\n    self.valueFromJulia = {};\\n    for (var key in json_data) {\\n        self.valueFromJulia[key] = false;\\n    }\\n    ko.applyBindings(self.model, self.dom);\\n}\\n);\\n    (WebIO.importBlock({\\\"data\\\":[{\\\"name\\\":\\\"knockout\\\",\\\"type\\\":\\\"js\\\",\\\"url\\\":\\\"\\/assetserver\\/0fc6d61518197b1bf9b23217e9be1d2e00f2bb14-knockout.js\\\"},{\\\"name\\\":\\\"knockout_punches\\\",\\\"type\\\":\\\"js\\\",\\\"url\\\":\\\"\\/assetserver\\/24c12264eef2b01f723a21985ba5661f5564d7cf-knockout_punches.js\\\"}],\\\"type\\\":\\\"async_block\\\"})).then((imports) => handler.apply(this, imports));\\n}\\n\"],\"observables\":{\"changes\":{\"sync\":false,\"id\":\"17404161891934997617\",\"value\":0},\"index\":{\"sync\":true,\"id\":\"7800714332584043806\",\"value\":63}}},\"children\":[{\"props\":{\"className\":\"interact-flex-row interact-widget\"},\"nodeType\":\"DOM\",\"type\":\"node\",\"instanceArgs\":{\"namespace\":\"html\",\"tag\":\"div\"},\"children\":[{\"props\":{\"className\":\"interact-flex-row-left\"},\"nodeType\":\"DOM\",\"type\":\"node\",\"instanceArgs\":{\"namespace\":\"html\",\"tag\":\"div\"},\"children\":[{\"props\":{\"className\":\"interact \",\"style\":{\"padding\":\"5px 10px 0px 10px\"}},\"nodeType\":\"DOM\",\"type\":\"node\",\"instanceArgs\":{\"namespace\":\"html\",\"tag\":\"label\"},\"children\":[\"ϕ\"]}]},{\"props\":{\"className\":\"interact-flex-row-center\"},\"nodeType\":\"DOM\",\"type\":\"node\",\"instanceArgs\":{\"namespace\":\"html\",\"tag\":\"div\"},\"children\":[{\"props\":{\"max\":126,\"min\":1,\"attributes\":{\"type\":\"range\",\"data-bind\":\"numericValue: index, valueUpdate: 'input', event: {change: function (){this.changes(this.changes()+1)}}\",\"orient\":\"horizontal\"},\"step\":1,\"className\":\"slider slider is-fullwidth\",\"style\":{}},\"nodeType\":\"DOM\",\"type\":\"node\",\"instanceArgs\":{\"namespace\":\"html\",\"tag\":\"input\"},\"children\":[]}]},{\"props\":{\"className\":\"interact-flex-row-right\"},\"nodeType\":\"DOM\",\"type\":\"node\",\"instanceArgs\":{\"namespace\":\"html\",\"tag\":\"div\"},\"children\":[{\"props\":{\"attributes\":{\"data-bind\":\"text: formatted_val\"}},\"nodeType\":\"DOM\",\"type\":\"node\",\"instanceArgs\":{\"namespace\":\"html\",\"tag\":\"p\"},\"children\":[]}]}]}]}]},{\"props\":{},\"nodeType\":\"Scope\",\"type\":\"node\",\"instanceArgs\":{\"imports\":{\"data\":[],\"type\":\"async_block\"},\"id\":\"12286397691261339298\",\"handlers\":{},\"systemjs_options\":null,\"mount_callbacks\":[],\"observables\":{\"obs-node\":{\"sync\":false,\"id\":\"4683683975664628230\",\"value\":{\"props\":{\"className\":\"interact-flex-row interact-widget\"},\"nodeType\":\"DOM\",\"type\":\"node\",\"instanceArgs\":{\"namespace\":\"html\",\"tag\":\"div\"},\"children\":[{\"props\":{\"setInnerHtml\":\"<?xml version=\\\"1.0\\\" encoding=\\\"utf-8\\\"?>\\n<svg xmlns=\\\"http:\\/\\/www.w3.org\\/2000\\/svg\\\" xmlns:xlink=\\\"http:\\/\\/www.w3.org\\/1999\\/xlink\\\" width=\\\"600\\\" height=\\\"400\\\" viewBox=\\\"0 0 2400 1600\\\">\\n<defs>\\n  <clipPath id=\\\"clip860\\\">\\n    <rect x=\\\"0\\\" y=\\\"0\\\" width=\\\"2400\\\" height=\\\"1600\\\"\\/>\\n  <\\/clipPath>\\n<\\/defs>\\n<path clip-path=\\\"url(#clip860)\\\" d=\\\"\\nM0 1600 L2400 1600 L2400 0 L0 0  Z\\n  \\\" fill=\\\"#ffffff\\\" fill-rule=\\\"evenodd\\\" fill-opacity=\\\"1\\\"\\/>\\n<defs>\\n  <clipPath id=\\\"clip861\\\">\\n    <rect x=\\\"480\\\" y=\\\"0\\\" width=\\\"1681\\\" height=\\\"1600\\\"\\/>\\n  <\\/clipPath>\\n<\\/defs>\\n<path clip-path=\\\"url(#clip860)\\\" d=\\\"\\nM193.936 1486.45 L2352.76 1486.45 L2352.76 47.2441 L193.936 47.2441  Z\\n  \\\" fill=\\\"#ffffff\\\" fill-rule=\\\"evenodd\\\" fill-opacity=\\\"1\\\"\\/>\\n<defs>\\n  <clipPath id=\\\"clip862\\\">\\n    <rect x=\\\"193\\\" y=\\\"47\\\" width=\\\"2160\\\" height=\\\"1440\\\"\\/>\\n  <\\/clipPath>\\n<\\/defs>\\n<polyline clip-path=\\\"url(#clip862)\\\" style=\\\"stroke:#000000; stroke-width:2; stroke-opacity:0.1; fill:none\\\" points=\\\"\\n  255.035,1486.45 255.035,47.2441 \\n  \\\"\\/>\\n<polyline clip-path=\\\"url(#clip862)\\\" style=\\\"stroke:#000000; stroke-width:2; stroke-opacity:0.1; fill:none\\\" points=\\\"\\n  579.596,1486.45 579.596,47.2441 \\n  \\\"\\/>\\n<polyline clip-path=\\\"url(#clip862)\\\" style=\\\"stroke:#000000; stroke-width:2; stroke-opacity:0.1; fill:none\\\" points=\\\"\\n  904.157,1486.45 904.157,47.2441 \\n  \\\"\\/>\\n<polyline clip-path=\\\"url(#clip862)\\\" style=\\\"stroke:#000000; stroke-width:2; stroke-opacity:0.1; fill:none\\\" points=\\\"\\n  1228.72,1486.45 1228.72,47.2441 \\n  \\\"\\/>\\n<polyline clip-path=\\\"url(#clip862)\\\" style=\\\"stroke:#000000; stroke-width:2; stroke-opacity:0.1; fill:none\\\" points=\\\"\\n  1553.28,1486.45 1553.28,47.2441 \\n  \\\"\\/>\\n<polyline clip-path=\\\"url(#clip862)\\\" style=\\\"stroke:#000000; stroke-width:2; stroke-opacity:0.1; fill:none\\\" points=\\\"\\n  1877.84,1486.45 1877.84,47.2441 \\n  \\\"\\/>\\n<polyline clip-path=\\\"url(#clip862)\\\" style=\\\"stroke:#000000; stroke-width:2; stroke-opacity:0.1; fill:none\\\" points=\\\"\\n  2202.4,1486.45 2202.4,47.2441 \\n  \\\"\\/>\\n<polyline clip-path=\\\"url(#clip860)\\\" style=\\\"stroke:#000000; stroke-width:4; stroke-opacity:1; fill:none\\\" points=\\\"\\n  193.936,1486.45 2352.76,1486.45 \\n  \\\"\\/>\\n<polyline clip-path=\\\"url(#clip860)\\\" style=\\\"stroke:#000000; stroke-width:4; stroke-opacity:1; fill:none\\\" points=\\\"\\n  255.035,1486.45 255.035,1469.18 \\n  \\\"\\/>\\n<polyline clip-path=\\\"url(#clip860)\\\" style=\\\"stroke:#000000; stroke-width:4; stroke-opacity:1; fill:none\\\" points=\\\"\\n  579.596,1486.45 579.596,1469.18 \\n  \\\"\\/>\\n<polyline clip-path=\\\"url(#clip860)\\\" style=\\\"stroke:#000000; stroke-width:4; stroke-opacity:1; fill:none\\\" points=\\\"\\n  904.157,1486.45 904.157,1469.18 \\n  \\\"\\/>\\n<polyline clip-path=\\\"url(#clip860)\\\" style=\\\"stroke:#000000; stroke-width:4; stroke-opacity:1; fill:none\\\" points=\\\"\\n  1228.72,1486.45 1228.72,1469.18 \\n  \\\"\\/>\\n<polyline clip-path=\\\"url(#clip860)\\\" style=\\\"stroke:#000000; stroke-width:4; stroke-opacity:1; fill:none\\\" points=\\\"\\n  1553.28,1486.45 1553.28,1469.18 \\n  \\\"\\/>\\n<polyline clip-path=\\\"url(#clip860)\\\" style=\\\"stroke:#000000; stroke-width:4; stroke-opacity:1; fill:none\\\" points=\\\"\\n  1877.84,1486.45 1877.84,1469.18 \\n  \\\"\\/>\\n<polyline clip-path=\\\"url(#clip860)\\\" style=\\\"stroke:#000000; stroke-width:4; stroke-opacity:1; fill:none\\\" points=\\\"\\n  2202.4,1486.45 2202.4,1469.18 \\n  \\\"\\/>\\n<path clip-path=\\\"url(#clip860)\\\" d=\\\"M 0 0 M255.035 1515.64 Q251.424 1515.64 249.595 1519.2 Q247.789 1522.75 247.789 1529.87 Q247.789 1536.98 249.595 1540.55 Q251.424 1544.09 255.035 1544.09 Q258.669 1544.09 260.474 1540.55 Q262.303 1536.98 262.303 1529.87 Q262.303 1522.75 260.474 1519.2 Q258.669 1515.64 255.035 1515.64 M255.035 1511.93 Q260.845 1511.93 263.9 1516.54 Q266.979 1521.12 266.979 1529.87 Q266.979 1538.6 263.9 1543.21 Q260.845 1547.79 255.035 1547.79 Q249.225 1547.79 246.146 1543.21 Q243.09 1538.6 243.09 1529.87 Q243.09 1521.12 246.146 1516.54 Q249.225 1511.93 255.035 1511.93 Z\\\" fill=\\\"#000000\\\" fill-rule=\\\"evenodd\\\" fill-opacity=\\\"1\\\" \\/><path clip-path=\\\"url(#clip860)\\\" d=\\\"M 0 0 M574.249 1543.18 L590.568 1543.18 L590.568 1547.12 L568.624 1547.12 L568.624 1543.18 Q571.286 1540.43 575.869 1535.8 Q580.476 1531.15 581.656 1529.81 Q583.902 1527.28 584.781 1525.55 Q585.684 1523.79 585.684 1522.1 Q585.684 1519.34 583.74 1517.61 Q581.818 1515.87 578.716 1515.87 Q576.517 1515.87 574.064 1516.63 Q571.633 1517.4 568.855 1518.95 L568.855 1514.23 Q571.679 1513.09 574.133 1512.51 Q576.587 1511.93 578.624 1511.93 Q583.994 1511.93 587.189 1514.62 Q590.383 1517.31 590.383 1521.8 Q590.383 1523.93 589.573 1525.85 Q588.786 1527.74 586.679 1530.34 Q586.101 1531.01 582.999 1534.23 Q579.897 1537.42 574.249 1543.18 Z\\\" fill=\\\"#000000\\\" fill-rule=\\\"evenodd\\\" fill-opacity=\\\"1\\\" \\/><path clip-path=\\\"url(#clip860)\\\" d=\\\"M 0 0 M907.167 1516.63 L895.361 1535.08 L907.167 1535.08 L907.167 1516.63 M905.94 1512.56 L911.819 1512.56 L911.819 1535.08 L916.75 1535.08 L916.75 1538.97 L911.819 1538.97 L911.819 1547.12 L907.167 1547.12 L907.167 1538.97 L891.565 1538.97 L891.565 1534.46 L905.94 1512.56 Z\\\" fill=\\\"#000000\\\" fill-rule=\\\"evenodd\\\" fill-opacity=\\\"1\\\" \\/><path clip-path=\\\"url(#clip860)\\\" d=\\\"M 0 0 M1229.12 1527.98 Q1225.98 1527.98 1224.12 1530.13 Q1222.3 1532.28 1222.3 1536.03 Q1222.3 1539.76 1224.12 1541.93 Q1225.98 1544.09 1229.12 1544.09 Q1232.27 1544.09 1234.1 1541.93 Q1235.95 1539.76 1235.95 1536.03 Q1235.95 1532.28 1234.1 1530.13 Q1232.27 1527.98 1229.12 1527.98 M1238.41 1513.32 L1238.41 1517.58 Q1236.65 1516.75 1234.84 1516.31 Q1233.06 1515.87 1231.3 1515.87 Q1226.67 1515.87 1224.22 1519 Q1221.79 1522.12 1221.44 1528.44 Q1222.8 1526.43 1224.86 1525.36 Q1226.92 1524.27 1229.4 1524.27 Q1234.61 1524.27 1237.62 1527.44 Q1240.65 1530.59 1240.65 1536.03 Q1240.65 1541.36 1237.5 1544.57 Q1234.36 1547.79 1229.12 1547.79 Q1223.13 1547.79 1219.96 1543.21 Q1216.79 1538.6 1216.79 1529.87 Q1216.79 1521.68 1220.67 1516.82 Q1224.56 1511.93 1231.11 1511.93 Q1232.87 1511.93 1234.66 1512.28 Q1236.46 1512.63 1238.41 1513.32 Z\\\" fill=\\\"#000000\\\" fill-rule=\\\"evenodd\\\" fill-opacity=\\\"1\\\" \\/><path clip-path=\\\"url(#clip860)\\\" d=\\\"M 0 0 M1553.28 1530.71 Q1549.95 1530.71 1548.03 1532.49 Q1546.13 1534.27 1546.13 1537.4 Q1546.13 1540.52 1548.03 1542.31 Q1549.95 1544.09 1553.28 1544.09 Q1556.61 1544.09 1558.53 1542.31 Q1560.46 1540.5 1560.46 1537.4 Q1560.46 1534.27 1558.53 1532.49 Q1556.64 1530.71 1553.28 1530.71 M1548.6 1528.72 Q1545.59 1527.98 1543.91 1525.92 Q1542.24 1523.86 1542.24 1520.89 Q1542.24 1516.75 1545.18 1514.34 Q1548.14 1511.93 1553.28 1511.93 Q1558.44 1511.93 1561.38 1514.34 Q1564.32 1516.75 1564.32 1520.89 Q1564.32 1523.86 1562.63 1525.92 Q1560.97 1527.98 1557.98 1528.72 Q1561.36 1529.5 1563.23 1531.8 Q1565.13 1534.09 1565.13 1537.4 Q1565.13 1542.42 1562.05 1545.11 Q1559 1547.79 1553.28 1547.79 Q1547.56 1547.79 1544.48 1545.11 Q1541.43 1542.42 1541.43 1537.4 Q1541.43 1534.09 1543.33 1531.8 Q1545.22 1529.5 1548.6 1528.72 M1546.89 1521.33 Q1546.89 1524.02 1548.56 1525.52 Q1550.25 1527.03 1553.28 1527.03 Q1556.29 1527.03 1557.98 1525.52 Q1559.69 1524.02 1559.69 1521.33 Q1559.69 1518.65 1557.98 1517.14 Q1556.29 1515.64 1553.28 1515.64 Q1550.25 1515.64 1548.56 1517.14 Q1546.89 1518.65 1546.89 1521.33 Z\\\" fill=\\\"#000000\\\" fill-rule=\\\"evenodd\\\" fill-opacity=\\\"1\\\" \\/><path clip-path=\\\"url(#clip860)\\\" d=\\\"M 0 0 M1852.53 1543.18 L1860.17 1543.18 L1860.17 1516.82 L1851.86 1518.49 L1851.86 1514.23 L1860.12 1512.56 L1864.8 1512.56 L1864.8 1543.18 L1872.44 1543.18 L1872.44 1547.12 L1852.53 1547.12 L1852.53 1543.18 Z\\\" fill=\\\"#000000\\\" fill-rule=\\\"evenodd\\\" fill-opacity=\\\"1\\\" \\/><path clip-path=\\\"url(#clip860)\\\" d=\\\"M 0 0 M1891.88 1515.64 Q1888.27 1515.64 1886.44 1519.2 Q1884.64 1522.75 1884.64 1529.87 Q1884.64 1536.98 1886.44 1540.55 Q1888.27 1544.09 1891.88 1544.09 Q1895.52 1544.09 1897.32 1540.55 Q1899.15 1536.98 1899.15 1529.87 Q1899.15 1522.75 1897.32 1519.2 Q1895.52 1515.64 1891.88 1515.64 M1891.88 1511.93 Q1897.69 1511.93 1900.75 1516.54 Q1903.83 1521.12 1903.83 1529.87 Q1903.83 1538.6 1900.75 1543.21 Q1897.69 1547.79 1891.88 1547.79 Q1886.07 1547.79 1882.99 1543.21 Q1879.94 1538.6 1879.94 1529.87 Q1879.94 1521.12 1882.99 1516.54 Q1886.07 1511.93 1891.88 1511.93 Z\\\" fill=\\\"#000000\\\" fill-rule=\\\"evenodd\\\" fill-opacity=\\\"1\\\" \\/><path clip-path=\\\"url(#clip860)\\\" d=\\\"M 0 0 M2177.89 1543.18 L2185.53 1543.18 L2185.53 1516.82 L2177.22 1518.49 L2177.22 1514.23 L2185.48 1512.56 L2190.16 1512.56 L2190.16 1543.18 L2197.8 1543.18 L2197.8 1547.12 L2177.89 1547.12 L2177.89 1543.18 Z\\\" fill=\\\"#000000\\\" fill-rule=\\\"evenodd\\\" fill-opacity=\\\"1\\\" \\/><path clip-path=\\\"url(#clip860)\\\" d=\\\"M 0 0 M2211.27 1543.18 L2227.59 1543.18 L2227.59 1547.12 L2205.64 1547.12 L2205.64 1543.18 Q2208.31 1540.43 2212.89 1535.8 Q2217.5 1531.15 2218.68 1529.81 Q2220.92 1527.28 2221.8 1525.55 Q2222.7 1523.79 2222.7 1522.1 Q2222.7 1519.34 2220.76 1517.61 Q2218.84 1515.87 2215.74 1515.87 Q2213.54 1515.87 2211.08 1516.63 Q2208.65 1517.4 2205.88 1518.95 L2205.88 1514.23 Q2208.7 1513.09 2211.15 1512.51 Q2213.61 1511.93 2215.64 1511.93 Q2221.01 1511.93 2224.21 1514.62 Q2227.4 1517.31 2227.4 1521.8 Q2227.4 1523.93 2226.59 1525.85 Q2225.81 1527.74 2223.7 1530.34 Q2223.12 1531.01 2220.02 1534.23 Q2216.92 1537.42 2211.27 1543.18 Z\\\" fill=\\\"#000000\\\" fill-rule=\\\"evenodd\\\" fill-opacity=\\\"1\\\" \\/><polyline clip-path=\\\"url(#clip862)\\\" style=\\\"stroke:#000000; stroke-width:2; stroke-opacity:0.1; fill:none\\\" points=\\\"\\n  193.936,1445.72 2352.76,1445.72 \\n  \\\"\\/>\\n<polyline clip-path=\\\"url(#clip862)\\\" style=\\\"stroke:#000000; stroke-width:2; stroke-opacity:0.1; fill:none\\\" points=\\\"\\n  193.936,1106.25 2352.76,1106.25 \\n  \\\"\\/>\\n<polyline clip-path=\\\"url(#clip862)\\\" style=\\\"stroke:#000000; stroke-width:2; stroke-opacity:0.1; fill:none\\\" points=\\\"\\n  193.936,766.773 2352.76,766.773 \\n  \\\"\\/>\\n<polyline clip-path=\\\"url(#clip862)\\\" style=\\\"stroke:#000000; stroke-width:2; stroke-opacity:0.1; fill:none\\\" points=\\\"\\n  193.936,427.301 2352.76,427.301 \\n  \\\"\\/>\\n<polyline clip-path=\\\"url(#clip862)\\\" style=\\\"stroke:#000000; stroke-width:2; stroke-opacity:0.1; fill:none\\\" points=\\\"\\n  193.936,87.8295 2352.76,87.8295 \\n  \\\"\\/>\\n<polyline clip-path=\\\"url(#clip860)\\\" style=\\\"stroke:#000000; stroke-width:4; stroke-opacity:1; fill:none\\\" points=\\\"\\n  193.936,1486.45 193.936,47.2441 \\n  \\\"\\/>\\n<polyline clip-path=\\\"url(#clip860)\\\" style=\\\"stroke:#000000; stroke-width:4; stroke-opacity:1; fill:none\\\" points=\\\"\\n  193.936,1445.72 219.842,1445.72 \\n  \\\"\\/>\\n<polyline clip-path=\\\"url(#clip860)\\\" style=\\\"stroke:#000000; stroke-width:4; stroke-opacity:1; fill:none\\\" points=\\\"\\n  193.936,1106.25 219.842,1106.25 \\n  \\\"\\/>\\n<polyline clip-path=\\\"url(#clip860)\\\" style=\\\"stroke:#000000; stroke-width:4; stroke-opacity:1; fill:none\\\" points=\\\"\\n  193.936,766.773 219.842,766.773 \\n  \\\"\\/>\\n<polyline clip-path=\\\"url(#clip860)\\\" style=\\\"stroke:#000000; stroke-width:4; stroke-opacity:1; fill:none\\\" points=\\\"\\n  193.936,427.301 219.842,427.301 \\n  \\\"\\/>\\n<polyline clip-path=\\\"url(#clip860)\\\" style=\\\"stroke:#000000; stroke-width:4; stroke-opacity:1; fill:none\\\" points=\\\"\\n  193.936,87.8295 219.842,87.8295 \\n  \\\"\\/>\\n<path clip-path=\\\"url(#clip860)\\\" d=\\\"M 0 0 M50.9921 1446.17 L80.6679 1446.17 L80.6679 1450.1 L50.9921 1450.1 L50.9921 1446.17 Z\\\" fill=\\\"#000000\\\" fill-rule=\\\"evenodd\\\" fill-opacity=\\\"1\\\" \\/><path clip-path=\\\"url(#clip860)\\\" d=\\\"M 0 0 M91.5706 1459.06 L99.2095 1459.06 L99.2095 1432.7 L90.8993 1434.36 L90.8993 1430.1 L99.1632 1428.44 L103.839 1428.44 L103.839 1459.06 L111.478 1459.06 L111.478 1463 L91.5706 1463 L91.5706 1459.06 Z\\\" fill=\\\"#000000\\\" fill-rule=\\\"evenodd\\\" fill-opacity=\\\"1\\\" \\/><path clip-path=\\\"url(#clip860)\\\" d=\\\"M 0 0 M120.922 1457.12 L125.807 1457.12 L125.807 1463 L120.922 1463 L120.922 1457.12 Z\\\" fill=\\\"#000000\\\" fill-rule=\\\"evenodd\\\" fill-opacity=\\\"1\\\" \\/><path clip-path=\\\"url(#clip860)\\\" d=\\\"M 0 0 M145.992 1431.52 Q142.381 1431.52 140.552 1435.08 Q138.746 1438.62 138.746 1445.75 Q138.746 1452.86 140.552 1456.42 Q142.381 1459.96 145.992 1459.96 Q149.626 1459.96 151.431 1456.42 Q153.26 1452.86 153.26 1445.75 Q153.26 1438.62 151.431 1435.08 Q149.626 1431.52 145.992 1431.52 M145.992 1427.81 Q151.802 1427.81 154.857 1432.42 Q157.936 1437 157.936 1445.75 Q157.936 1454.48 154.857 1459.08 Q151.802 1463.67 145.992 1463.67 Q140.181 1463.67 137.103 1459.08 Q134.047 1454.48 134.047 1445.75 Q134.047 1437 137.103 1432.42 Q140.181 1427.81 145.992 1427.81 Z\\\" fill=\\\"#000000\\\" fill-rule=\\\"evenodd\\\" fill-opacity=\\\"1\\\" \\/><path clip-path=\\\"url(#clip860)\\\" d=\\\"M 0 0 M51.9875 1106.7 L81.6633 1106.7 L81.6633 1110.63 L51.9875 1110.63 L51.9875 1106.7 Z\\\" fill=\\\"#000000\\\" fill-rule=\\\"evenodd\\\" fill-opacity=\\\"1\\\" \\/><path clip-path=\\\"url(#clip860)\\\" d=\\\"M 0 0 M101.756 1092.04 Q98.1447 1092.04 96.316 1095.61 Q94.5104 1099.15 94.5104 1106.28 Q94.5104 1113.39 96.316 1116.95 Q98.1447 1120.49 101.756 1120.49 Q105.39 1120.49 107.196 1116.95 Q109.024 1113.39 109.024 1106.28 Q109.024 1099.15 107.196 1095.61 Q105.39 1092.04 101.756 1092.04 M101.756 1088.34 Q107.566 1088.34 110.621 1092.95 Q113.7 1097.53 113.7 1106.28 Q113.7 1115.01 110.621 1119.61 Q107.566 1124.2 101.756 1124.2 Q95.9456 1124.2 92.8669 1119.61 Q89.8114 1115.01 89.8114 1106.28 Q89.8114 1097.53 92.8669 1092.95 Q95.9456 1088.34 101.756 1088.34 Z\\\" fill=\\\"#000000\\\" fill-rule=\\\"evenodd\\\" fill-opacity=\\\"1\\\" \\/><path clip-path=\\\"url(#clip860)\\\" d=\\\"M 0 0 M121.918 1117.65 L126.802 1117.65 L126.802 1123.53 L121.918 1123.53 L121.918 1117.65 Z\\\" fill=\\\"#000000\\\" fill-rule=\\\"evenodd\\\" fill-opacity=\\\"1\\\" \\/><path clip-path=\\\"url(#clip860)\\\" d=\\\"M 0 0 M137.033 1088.97 L155.39 1088.97 L155.39 1092.9 L141.316 1092.9 L141.316 1101.37 Q142.334 1101.03 143.353 1100.86 Q144.371 1100.68 145.39 1100.68 Q151.177 1100.68 154.556 1103.85 Q157.936 1107.02 157.936 1112.44 Q157.936 1118.02 154.464 1121.12 Q150.992 1124.2 144.672 1124.2 Q142.496 1124.2 140.228 1123.83 Q137.982 1123.46 135.575 1122.71 L135.575 1118.02 Q137.658 1119.15 139.881 1119.71 Q142.103 1120.26 144.58 1120.26 Q148.584 1120.26 150.922 1118.15 Q153.26 1116.05 153.26 1112.44 Q153.26 1108.83 150.922 1106.72 Q148.584 1104.61 144.58 1104.61 Q142.705 1104.61 140.83 1105.03 Q138.978 1105.45 137.033 1106.33 L137.033 1088.97 Z\\\" fill=\\\"#000000\\\" fill-rule=\\\"evenodd\\\" fill-opacity=\\\"1\\\" \\/><path clip-path=\\\"url(#clip860)\\\" d=\\\"M 0 0 M100.76 752.572 Q97.1493 752.572 95.3206 756.137 Q93.515 759.678 93.515 766.808 Q93.515 773.914 95.3206 777.479 Q97.1493 781.021 100.76 781.021 Q104.395 781.021 106.2 777.479 Q108.029 773.914 108.029 766.808 Q108.029 759.678 106.2 756.137 Q104.395 752.572 100.76 752.572 M100.76 748.868 Q106.571 748.868 109.626 753.475 Q112.705 758.058 112.705 766.808 Q112.705 775.535 109.626 780.141 Q106.571 784.725 100.76 784.725 Q94.9502 784.725 91.8715 780.141 Q88.816 775.535 88.816 766.808 Q88.816 758.058 91.8715 753.475 Q94.9502 748.868 100.76 748.868 Z\\\" fill=\\\"#000000\\\" fill-rule=\\\"evenodd\\\" fill-opacity=\\\"1\\\" \\/><path clip-path=\\\"url(#clip860)\\\" d=\\\"M 0 0 M120.922 778.174 L125.807 778.174 L125.807 784.053 L120.922 784.053 L120.922 778.174 Z\\\" fill=\\\"#000000\\\" fill-rule=\\\"evenodd\\\" fill-opacity=\\\"1\\\" \\/><path clip-path=\\\"url(#clip860)\\\" d=\\\"M 0 0 M145.992 752.572 Q142.381 752.572 140.552 756.137 Q138.746 759.678 138.746 766.808 Q138.746 773.914 140.552 777.479 Q142.381 781.021 145.992 781.021 Q149.626 781.021 151.431 777.479 Q153.26 773.914 153.26 766.808 Q153.26 759.678 151.431 756.137 Q149.626 752.572 145.992 752.572 M145.992 748.868 Q151.802 748.868 154.857 753.475 Q157.936 758.058 157.936 766.808 Q157.936 775.535 154.857 780.141 Q151.802 784.725 145.992 784.725 Q140.181 784.725 137.103 780.141 Q134.047 775.535 134.047 766.808 Q134.047 758.058 137.103 753.475 Q140.181 748.868 145.992 748.868 Z\\\" fill=\\\"#000000\\\" fill-rule=\\\"evenodd\\\" fill-opacity=\\\"1\\\" \\/><path clip-path=\\\"url(#clip860)\\\" d=\\\"M 0 0 M101.756 413.1 Q98.1447 413.1 96.316 416.665 Q94.5104 420.206 94.5104 427.336 Q94.5104 434.443 96.316 438.007 Q98.1447 441.549 101.756 441.549 Q105.39 441.549 107.196 438.007 Q109.024 434.443 109.024 427.336 Q109.024 420.206 107.196 416.665 Q105.39 413.1 101.756 413.1 M101.756 409.396 Q107.566 409.396 110.621 414.003 Q113.7 418.586 113.7 427.336 Q113.7 436.063 110.621 440.669 Q107.566 445.253 101.756 445.253 Q95.9456 445.253 92.8669 440.669 Q89.8114 436.063 89.8114 427.336 Q89.8114 418.586 92.8669 414.003 Q95.9456 409.396 101.756 409.396 Z\\\" fill=\\\"#000000\\\" fill-rule=\\\"evenodd\\\" fill-opacity=\\\"1\\\" \\/><path clip-path=\\\"url(#clip860)\\\" d=\\\"M 0 0 M121.918 438.702 L126.802 438.702 L126.802 444.581 L121.918 444.581 L121.918 438.702 Z\\\" fill=\\\"#000000\\\" fill-rule=\\\"evenodd\\\" fill-opacity=\\\"1\\\" \\/><path clip-path=\\\"url(#clip860)\\\" d=\\\"M 0 0 M137.033 410.021 L155.39 410.021 L155.39 413.957 L141.316 413.957 L141.316 422.429 Q142.334 422.081 143.353 421.919 Q144.371 421.734 145.39 421.734 Q151.177 421.734 154.556 424.906 Q157.936 428.077 157.936 433.493 Q157.936 439.072 154.464 442.174 Q150.992 445.253 144.672 445.253 Q142.496 445.253 140.228 444.882 Q137.982 444.512 135.575 443.771 L135.575 439.072 Q137.658 440.206 139.881 440.762 Q142.103 441.317 144.58 441.317 Q148.584 441.317 150.922 439.211 Q153.26 437.105 153.26 433.493 Q153.26 429.882 150.922 427.776 Q148.584 425.669 144.58 425.669 Q142.705 425.669 140.83 426.086 Q138.978 426.503 137.033 427.382 L137.033 410.021 Z\\\" fill=\\\"#000000\\\" fill-rule=\\\"evenodd\\\" fill-opacity=\\\"1\\\" \\/><path clip-path=\\\"url(#clip860)\\\" d=\\\"M 0 0 M91.5706 101.174 L99.2095 101.174 L99.2095 74.8087 L90.8993 76.4754 L90.8993 72.2161 L99.1632 70.5495 L103.839 70.5495 L103.839 101.174 L111.478 101.174 L111.478 105.109 L91.5706 105.109 L91.5706 101.174 Z\\\" fill=\\\"#000000\\\" fill-rule=\\\"evenodd\\\" fill-opacity=\\\"1\\\" \\/><path clip-path=\\\"url(#clip860)\\\" d=\\\"M 0 0 M120.922 99.2299 L125.807 99.2299 L125.807 105.109 L120.922 105.109 L120.922 99.2299 Z\\\" fill=\\\"#000000\\\" fill-rule=\\\"evenodd\\\" fill-opacity=\\\"1\\\" \\/><path clip-path=\\\"url(#clip860)\\\" d=\\\"M 0 0 M145.992 73.6282 Q142.381 73.6282 140.552 77.1929 Q138.746 80.7346 138.746 87.8642 Q138.746 94.9706 140.552 98.5354 Q142.381 102.077 145.992 102.077 Q149.626 102.077 151.431 98.5354 Q153.26 94.9706 153.26 87.8642 Q153.26 80.7346 151.431 77.1929 Q149.626 73.6282 145.992 73.6282 M145.992 69.9245 Q151.802 69.9245 154.857 74.5309 Q157.936 79.1142 157.936 87.8642 Q157.936 96.591 154.857 101.197 Q151.802 105.781 145.992 105.781 Q140.181 105.781 137.103 101.197 Q134.047 96.591 134.047 87.8642 Q134.047 79.1142 137.103 74.5309 Q140.181 69.9245 145.992 69.9245 Z\\\" fill=\\\"#000000\\\" fill-rule=\\\"evenodd\\\" fill-opacity=\\\"1\\\" \\/><polyline clip-path=\\\"url(#clip862)\\\" style=\\\"stroke:#009af9; stroke-width:4; stroke-opacity:1; fill:none\\\" points=\\\"\\n  255.035,766.773 263.149,661.958 271.263,559.656 279.377,462.319 287.491,372.283 295.605,291.705 303.719,222.518 311.833,166.381 319.947,124.639 328.061,98.2936 \\n  336.175,87.9763 344.289,93.9344 352.403,116.025 360.517,153.719 368.631,206.112 376.745,271.947 384.859,349.648 392.973,437.349 401.087,532.949 409.201,634.156 \\n  417.315,738.542 425.429,843.605 433.543,946.826 441.657,1045.73 449.771,1137.95 457.886,1221.26 466,1293.68 474.114,1353.46 482.228,1399.18 490.342,1429.74 \\n  498.456,1444.4 506.57,1442.81 514.684,1425.01 522.798,1391.43 530.912,1342.87 539.026,1280.5 547.14,1205.81 555.254,1120.6 563.368,1026.9 571.482,926.963 \\n  579.596,823.186 587.71,718.057 595.824,614.096 603.938,513.795 612.052,419.56 620.166,333.651 628.28,258.126 636.394,194.797 644.508,145.182 652.622,110.471 \\n  660.736,91.4966 668.85,88.7129 676.964,102.187 685.078,131.596 693.193,176.234 701.307,235.032 709.421,306.579 717.535,389.161 725.649,480.796 733.763,579.288 \\n  741.877,682.276 749.991,787.289 758.105,891.811 766.219,993.334 774.333,1089.43 782.447,1177.78 790.561,1256.28 798.675,1323.04 806.789,1376.47 814.903,1415.28 \\n  823.017,1438.54 831.131,1445.69 839.245,1436.56 847.359,1411.37 855.473,1370.73 863.587,1315.61 871.701,1247.33 879.815,1167.52 887.929,1078.11 896.043,981.229 \\n  904.157,879.209 912.271,774.493 920.385,669.592 928.5,567.021 936.614,469.239 944.728,378.592 952.842,297.251 960.956,227.169 969.07,170.024 977.184,127.188 \\n  985.298,99.687 993.412,88.1807 1001.53,92.945 1009.64,113.866 1017.75,150.441 1025.87,201.794 1033.98,266.694 1042.1,343.584 1050.21,430.62 1058.32,525.717 \\n  1066.44,626.593 1074.55,730.831 1082.67,835.93 1090.78,939.371 1098.89,1038.67 1107.01,1131.46 1115.12,1215.5 1123.24,1288.78 1131.35,1349.54 1139.46,1396.33 \\n  1147.58,1428.03 1155.69,1443.87 1163.81,1443.48 1171.92,1426.86 1180.03,1394.41 1188.15,1346.92 1196.26,1285.52 1204.38,1211.67 1212.49,1127.16 1220.6,1034.01 \\n  1228.72,934.454 1236.83,830.876 1244.95,725.76 1253.06,621.628 1261.17,520.976 1269.29,426.217 1277.4,339.624 1285.52,263.272 1293.63,198.993 1301.75,148.328 \\n  1309.86,112.491 1317.97,92.3415 1326.09,88.363 1334.2,100.651 1342.32,128.91 1350.43,172.463 1358.54,230.266 1366.66,300.933 1374.77,382.769 1382.89,473.813 \\n  1391,571.881 1399.11,674.621 1407.23,779.572 1415.34,884.215 1423.46,986.042 1431.57,1082.61 1439.68,1171.61 1447.8,1250.9 1455.91,1318.58 1464.03,1373.03 \\n  1472.14,1412.95 1480.25,1437.37 1488.37,1445.72 1496.48,1437.78 1504.6,1413.76 1512.71,1374.22 1520.82,1320.12 1528.94,1252.75 1537.05,1173.73 1545.17,1084.95 \\n  1553.28,988.54 1561.39,886.815 1569.51,782.212 1577.62,677.239 1585.74,574.412 1593.85,476.198 1601.96,384.95 1610.08,302.858 1618.19,231.889 1626.31,173.745 \\n  1634.42,129.82 1642.53,101.167 1650.65,88.4728 1658.76,92.0427 1666.88,111.79 1674.99,147.243 1683.1,197.549 1691.22,261.504 1699.33,337.574 1707.45,423.935 \\n  1715.56,518.516 1723.67,619.049 1731.79,723.124 1739.9,828.246 1748.02,931.894 1756.13,1031.58 1764.25,1124.92 1772.36,1209.67 1780.47,1283.81 1788.59,1345.54 \\n  1796.7,1393.4 1804.82,1426.24 1812.93,1443.26 1821.04,1444.06 1829.16,1428.62 1837.27,1397.32 1845.39,1350.89 1853.5,1290.46 1861.61,1217.48 1869.73,1133.68 \\n  1877.84,1041.09 1885.96,941.924 1894.07,838.557 1902.18,733.468 1910.3,629.179 1918.41,528.188 1926.53,432.917 1934.64,345.652 1942.75,268.484 1950.87,203.263 \\n  1958.98,151.553 1967.1,114.595 1975.21,93.2736 1983.32,88.1009 1991.44,99.2006 1999.55,126.307 2007.67,168.769 2015.78,225.57 2023.89,295.347 2032.01,376.428 \\n  2040.12,466.868 2048.24,564.498 2056.35,666.979 2064.46,771.852 2072.58,876.604 2080.69,978.722 2088.81,1075.76 2096.92,1165.39 2105.03,1245.46 2113.15,1314.05 \\n  2121.26,1369.52 2129.38,1410.54 2137.49,1436.12 2145.6,1445.66 2153.72,1438.91 2161.83,1416.05 2169.95,1377.63 2178.06,1324.55 2186.17,1258.11 2194.29,1179.88 \\n  2202.4,1091.75 2210.52,995.822 2218.63,894.406 2226.74,789.929 2234.86,684.897 2242.97,581.828 2251.09,483.193 2259.2,391.358 2267.32,308.525 2275.43,236.678 \\n  2283.54,177.542 2291.66,132.533 \\n  \\\"\\/>\\n<path clip-path=\\\"url(#clip860)\\\" d=\\\"\\nM1988.5 216.178 L2280.8 216.178 L2280.8 95.2176 L1988.5 95.2176  Z\\n  \\\" fill=\\\"#ffffff\\\" fill-rule=\\\"evenodd\\\" fill-opacity=\\\"1\\\"\\/>\\n<polyline clip-path=\\\"url(#clip860)\\\" style=\\\"stroke:#000000; stroke-width:4; stroke-opacity:1; fill:none\\\" points=\\\"\\n  1988.5,216.178 2280.8,216.178 2280.8,95.2176 1988.5,95.2176 1988.5,216.178 \\n  \\\"\\/>\\n<polyline clip-path=\\\"url(#clip860)\\\" style=\\\"stroke:#009af9; stroke-width:4; stroke-opacity:1; fill:none\\\" points=\\\"\\n  2012.48,155.698 2156.4,155.698 \\n  \\\"\\/>\\n<path clip-path=\\\"url(#clip860)\\\" d=\\\"M 0 0 M2194.23 175.385 Q2192.43 180.015 2190.72 181.427 Q2189 182.839 2186.13 182.839 L2182.73 182.839 L2182.73 179.274 L2185.23 179.274 Q2186.99 179.274 2187.96 178.44 Q2188.93 177.607 2190.11 174.505 L2190.88 172.561 L2180.39 147.052 L2184.91 147.052 L2193.01 167.329 L2201.11 147.052 L2205.62 147.052 L2194.23 175.385 Z\\\" fill=\\\"#000000\\\" fill-rule=\\\"evenodd\\\" fill-opacity=\\\"1\\\" \\/><path clip-path=\\\"url(#clip860)\\\" d=\\\"M 0 0 M2212.91 169.042 L2220.55 169.042 L2220.55 142.677 L2212.24 144.343 L2212.24 140.084 L2220.51 138.418 L2225.18 138.418 L2225.18 169.042 L2232.82 169.042 L2232.82 172.978 L2212.91 172.978 L2212.91 169.042 Z\\\" fill=\\\"#000000\\\" fill-rule=\\\"evenodd\\\" fill-opacity=\\\"1\\\" \\/><\\/svg>\\n\"},\"nodeType\":\"DOM\",\"type\":\"node\",\"instanceArgs\":{\"namespace\":\"html\",\"tag\":\"div\"},\"children\":[]}]}}}},\"children\":[{\"props\":{},\"nodeType\":\"ObservableNode\",\"type\":\"node\",\"instanceArgs\":{\"id\":\"4683683975664628230\",\"name\":\"obs-node\"},\"children\":[]}]}]},\n",
       "            window,\n",
       "        );\n",
       "    } else {\n",
       "        document\n",
       "            .querySelector('[data-webio-mountpoint=\"9146929177894975996\"]')\n",
       "            .innerHTML = (\n",
       "                '<div style=\"padding: 1em; background-color: #f8d6da; border: 1px solid #f5c6cb\">' +\n",
       "                '<p><strong>WebIO not detected.</strong></p>' +\n",
       "                '<p>Please read ' +\n",
       "                '<a href=\"https://juliagizmos.github.io/WebIO.jl/latest/troubleshooting/not-detected/\" target=\"_blank\">the troubleshooting guide</a> ' +\n",
       "                'for more information on how to resolve this issue.</p>' +\n",
       "                '<p><a href=\"https://juliagizmos.github.io/WebIO.jl/latest/troubleshooting/not-detected/\" target=\"_blank\">https://juliagizmos.github.io/WebIO.jl/latest/troubleshooting/not-detected/</a></p>' +\n",
       "                '</div>'\n",
       "            );\n",
       "    }\n",
       "    </script>\n",
       "</div>\n"
      ],
      "text/plain": [
       "Node{WebIO.DOM}(WebIO.DOM(:html, :div), Any[Node{WebIO.DOM}(WebIO.DOM(:html, :div), Any[Scope(Node{WebIO.DOM}(WebIO.DOM(:html, :div), Any[Node{WebIO.DOM}(WebIO.DOM(:html, :div), Any[Node{WebIO.DOM}(WebIO.DOM(:html, :label), Any[\"f\"], Dict{Symbol, Any}(:className => \"interact \", :style => Dict{Any, Any}(:padding => \"5px 10px 0px 10px\")))], Dict{Symbol, Any}(:className => \"interact-flex-row-left\")), Node{WebIO.DOM}(WebIO.DOM(:html, :div), Any[Node{WebIO.DOM}(WebIO.DOM(:html, :div), Any[Node{WebIO.DOM}(WebIO.DOM(:html, :span), Any[Node{WebIO.DOM}(WebIO.DOM(:html, :label), Any[], Dict{Symbol, Any}(:attributes => Dict(\"data-bind\" => \"text : key\")))], Dict{Symbol, Any}(:attributes => Dict(\"data-bind\" => \"click: function (){\\$root.update(val)}, css: {'is-primary is-selected' : \\$root.index() == val, 'interact-widget is-medium button ' : true}\")))], Dict{Symbol, Any}(:attributes => (\"data-bind\" => \"foreach : options_js\"), :className => \"buttons has-addons is-centered\"))], Dict{Symbol, Any}(:className => \"interact-flex-row-center\")), Node{WebIO.DOM}(WebIO.DOM(:html, :div), Any[Node{WebIO.DOM}(WebIO.DOM(:html, :div), Any[], Dict{Symbol, Any}())], Dict{Symbol, Any}(:className => \"interact-flex-row-right\"))], Dict{Symbol, Any}(:className => \"interact-flex-row interact-widget\")), Dict{String, Tuple{Observables.AbstractObservable, Union{Nothing, Bool}}}(\"options_js\" => (Observable{Any} with 1 listeners. Value:\n",
       "OrderedDict[OrderedDict{String, Any}(\"key\" => \"sin\", \"val\" => 1, \"id\" => \"idYTxRy5PJ\"), OrderedDict{String, Any}(\"key\" => \"cos\", \"val\" => 2, \"id\" => \"idPvMBiOKy\"), OrderedDict{String, Any}(\"key\" => \"tan\", \"val\" => 3, \"id\" => \"idjhwh9BFX\")], nothing), \"index\" => (Observable{Any} with 2 listeners. Value:\n",
       "1, nothing)), Set{String}(), nothing, Asset[Asset(\"js\", \"knockout\", \"/Users/johnsmith/.julia/packages/Knockout/IP1uR/src/../assets/knockout.js\"), Asset(\"js\", \"knockout_punches\", \"/Users/johnsmith/.julia/packages/Knockout/IP1uR/src/../assets/knockout_punches.js\"), Asset(\"js\", nothing, \"/Users/johnsmith/.julia/packages/InteractBase/Zfu5P/src/../assets/all.js\"), Asset(\"css\", nothing, \"/Users/johnsmith/.julia/packages/InteractBase/Zfu5P/src/../assets/style.css\"), Asset(\"css\", nothing, \"/Users/johnsmith/.julia/packages/Interact/SbgIk/src/../assets/bulma_confined.min.css\")], Dict{Any, Any}(\"options_js\" => Any[WebIO.JSString(\"(function (val){return (val!=this.model[\\\"options_js\\\"]()) ? (this.valueFromJulia[\\\"options_js\\\"]=true, this.model[\\\"options_js\\\"](val)) : undefined})\")], \"index\" => Any[WebIO.JSString(\"(function (val){return (val!=this.model[\\\"index\\\"]()) ? (this.valueFromJulia[\\\"index\\\"]=true, this.model[\\\"index\\\"](val)) : undefined})\")]), WebIO.ConnectionPool(Channel{Any}(32), Set{AbstractConnection}(), Condition(Base.InvasiveLinkedList{Task}(Task (runnable) @0x0000000142491660, Task (runnable) @0x0000000142491660), Base.AlwaysLockedST(1))), WebIO.JSString[WebIO.JSString(\"function () {\\n    var handler = (function (ko, koPunches) {\\n    ko.punches.enableAll();\\n    ko.bindingHandlers.numericValue = {\\n        init: function(element, valueAccessor, allBindings, data, context) {\\n            var stringified = ko.observable(ko.unwrap(valueAccessor()));\\n            stringified.subscribe(function(value) {\\n                var val = parseFloat(value);\\n                if (!isNaN(val)) {\\n                    valueAccessor()(val);\\n                }\\n            });\\n            valueAccessor().subscribe(function(value) {\\n                var str = JSON.stringify(value);\\n                if ((str == \\\"0\\\") && ([\\\"-0\\\", \\\"-0.\\\"].indexOf(stringified()) >= 0))\\n                     return;\\n                 if ([\\\"null\\\", \\\"\\\"].indexOf(str) >= 0)\\n                     return;\\n                stringified(str);\\n            });\\n            ko.applyBindingsToNode(\\n                element,\\n                {\\n                    value: stringified,\\n                    valueUpdate: allBindings.get('valueUpdate'),\\n                },\\n                context,\\n            );\\n        }\\n    };\\n    var json_data = {\\\"options_js\\\":WebIO.getval({\\\"name\\\":\\\"options_js\\\",\\\"scope\\\":\\\"4617982789013449163\\\",\\\"id\\\":\\\"5378834366952140744\\\",\\\"type\\\":\\\"observable\\\"}),\\\"index\\\":WebIO.getval({\\\"name\\\":\\\"index\\\",\\\"scope\\\":\\\"4617982789013449163\\\",\\\"id\\\":\\\"11588019856829042043\\\",\\\"type\\\":\\\"observable\\\"})};\\n    var self = this;\\n    function AppViewModel() {\\n        for (var key in json_data) {\\n            var el = json_data[key];\\n            this[key] = Array.isArray(el) ? ko.observableArray(el) : ko.observable(el);\\n        }\\n        [this[\\\"update\\\"]=function (val) {this.index(val)}]\\n        \\n        [this[\\\"options_js\\\"].subscribe((function (val){!(this.valueFromJulia[\\\"options_js\\\"]) ? (WebIO.setval({\\\"name\\\":\\\"options_js\\\",\\\"scope\\\":\\\"4617982789013449163\\\",\\\"id\\\":\\\"5378834366952140744\\\",\\\"type\\\":\\\"observable\\\"},val)) : undefined; return this.valueFromJulia[\\\"options_js\\\"]=false}),self),this[\\\"index\\\"].subscribe((function (val){!(this.valueFromJulia[\\\"index\\\"]) ? (WebIO.setval({\\\"name\\\":\\\"index\\\",\\\"scope\\\":\\\"4617982789013449163\\\",\\\"id\\\":\\\"11588019856829042043\\\",\\\"type\\\":\\\"observable\\\"},val)) : undefined; return this.valueFromJulia[\\\"index\\\"]=false}),self)]\\n        \\n    }\\n    self.model = new AppViewModel();\\n    self.valueFromJulia = {};\\n    for (var key in json_data) {\\n        self.valueFromJulia[key] = false;\\n    }\\n    ko.applyBindings(self.model, self.dom);\\n}\\n);\\n    (WebIO.importBlock({\\\"data\\\":[{\\\"name\\\":\\\"knockout\\\",\\\"type\\\":\\\"js\\\",\\\"url\\\":\\\"/assetserver/0fc6d61518197b1bf9b23217e9be1d2e00f2bb14-knockout.js\\\"},{\\\"name\\\":\\\"knockout_punches\\\",\\\"type\\\":\\\"js\\\",\\\"url\\\":\\\"/assetserver/24c12264eef2b01f723a21985ba5661f5564d7cf-knockout_punches.js\\\"}],\\\"type\\\":\\\"async_block\\\"})).then((imports) => handler.apply(this, imports));\\n}\\n\")])], Dict{Symbol, Any}(:className => \"interact-widget\")), Node{WebIO.DOM}(WebIO.DOM(:html, :div), Any[Scope(Node{WebIO.DOM}(WebIO.DOM(:html, :div), Any[Node{WebIO.DOM}(WebIO.DOM(:html, :div), Any[Node{WebIO.DOM}(WebIO.DOM(:html, :label), Any[\"ϕ\"], Dict{Symbol, Any}(:className => \"interact \", :style => Dict{Any, Any}(:padding => \"5px 10px 0px 10px\")))], Dict{Symbol, Any}(:className => \"interact-flex-row-left\")), Node{WebIO.DOM}(WebIO.DOM(:html, :div), Any[Node{WebIO.DOM}(WebIO.DOM(:html, :input), Any[], Dict{Symbol, Any}(:max => 126, :min => 1, :attributes => Dict{Any, Any}(:type => \"range\", Symbol(\"data-bind\") => \"numericValue: index, valueUpdate: 'input', event: {change: function (){this.changes(this.changes()+1)}}\", \"orient\" => \"horizontal\"), :step => 1, :className => \"slider slider is-fullwidth\", :style => Dict{Any, Any}()))], Dict{Symbol, Any}(:className => \"interact-flex-row-center\")), Node{WebIO.DOM}(WebIO.DOM(:html, :div), Any[Node{WebIO.DOM}(WebIO.DOM(:html, :p), Any[], Dict{Symbol, Any}(:attributes => Dict(\"data-bind\" => \"text: formatted_val\")))], Dict{Symbol, Any}(:className => \"interact-flex-row-right\"))], Dict{Symbol, Any}(:className => \"interact-flex-row interact-widget\")), Dict{String, Tuple{Observables.AbstractObservable, Union{Nothing, Bool}}}(\"changes\" => (Observable{Int64} with 1 listeners. Value:\n",
       "0, nothing), \"index\" => (Observable{Any} with 2 listeners. Value:\n",
       "63, nothing)), Set{String}(), nothing, Asset[Asset(\"js\", \"knockout\", \"/Users/johnsmith/.julia/packages/Knockout/IP1uR/src/../assets/knockout.js\"), Asset(\"js\", \"knockout_punches\", \"/Users/johnsmith/.julia/packages/Knockout/IP1uR/src/../assets/knockout_punches.js\"), Asset(\"js\", nothing, \"/Users/johnsmith/.julia/packages/InteractBase/Zfu5P/src/../assets/all.js\"), Asset(\"css\", nothing, \"/Users/johnsmith/.julia/packages/InteractBase/Zfu5P/src/../assets/style.css\"), Asset(\"css\", nothing, \"/Users/johnsmith/.julia/packages/Interact/SbgIk/src/../assets/bulma_confined.min.css\")], Dict{Any, Any}(\"changes\" => Any[WebIO.JSString(\"(function (val){return (val!=this.model[\\\"changes\\\"]()) ? (this.valueFromJulia[\\\"changes\\\"]=true, this.model[\\\"changes\\\"](val)) : undefined})\")], \"index\" => Any[WebIO.JSString(\"(function (val){return (val!=this.model[\\\"index\\\"]()) ? (this.valueFromJulia[\\\"index\\\"]=true, this.model[\\\"index\\\"](val)) : undefined})\")]), WebIO.ConnectionPool(Channel{Any}(32), Set{AbstractConnection}(), Condition(Base.InvasiveLinkedList{Task}(Task (runnable) @0x0000000142872a90, Task (runnable) @0x0000000142872a90), Base.AlwaysLockedST(1))), WebIO.JSString[WebIO.JSString(\"function () {\\n    var handler = (function (ko, koPunches) {\\n    ko.punches.enableAll();\\n    ko.bindingHandlers.numericValue = {\\n        init: function(element, valueAccessor, allBindings, data, context) {\\n            var stringified = ko.observable(ko.unwrap(valueAccessor()));\\n            stringified.subscribe(function(value) {\\n                var val = parseFloat(value);\\n                if (!isNaN(val)) {\\n                    valueAccessor()(val);\\n                }\\n            });\\n            valueAccessor().subscribe(function(value) {\\n                var str = JSON.stringify(value);\\n                if ((str == \\\"0\\\") && ([\\\"-0\\\", \\\"-0.\\\"].indexOf(stringified()) >= 0))\\n                     return;\\n                 if ([\\\"null\\\", \\\"\\\"].indexOf(str) >= 0)\\n                     return;\\n                stringified(str);\\n            });\\n            ko.applyBindingsToNode(\\n                element,\\n                {\\n                    value: stringified,\\n                    valueUpdate: allBindings.get('valueUpdate'),\\n                },\\n                context,\\n            );\\n        }\\n    };\\n    var json_data = {\\\"formatted_vals\\\":[\\\"0.0\\\",\\\"0.05\\\",\\\"0.1\\\",\\\"0.15\\\",\\\"0.2\\\",\\\"0.25\\\",\\\"0.3\\\",\\\"0.35\\\",\\\"0.4\\\",\\\"0.45\\\",\\\"0.5\\\",\\\"0.55\\\",\\\"0.6\\\",\\\"0.65\\\",\\\"0.7\\\",\\\"0.75\\\",\\\"0.8\\\",\\\"0.85\\\",\\\"0.9\\\",\\\"0.95\\\",\\\"1.0\\\",\\\"1.05\\\",\\\"1.1\\\",\\\"1.15\\\",\\\"1.2\\\",\\\"1.25\\\",\\\"1.3\\\",\\\"1.35\\\",\\\"1.4\\\",\\\"1.45\\\",\\\"1.5\\\",\\\"1.55\\\",\\\"1.6\\\",\\\"1.65\\\",\\\"1.7\\\",\\\"1.75\\\",\\\"1.8\\\",\\\"1.85\\\",\\\"1.9\\\",\\\"1.95\\\",\\\"2.0\\\",\\\"2.05\\\",\\\"2.1\\\",\\\"2.15\\\",\\\"2.2\\\",\\\"2.25\\\",\\\"2.3\\\",\\\"2.35\\\",\\\"2.4\\\",\\\"2.45\\\",\\\"2.5\\\",\\\"2.55\\\",\\\"2.6\\\",\\\"2.65\\\",\\\"2.7\\\",\\\"2.75\\\",\\\"2.8\\\",\\\"2.85\\\",\\\"2.9\\\",\\\"2.95\\\",\\\"3.0\\\",\\\"3.05\\\",\\\"3.1\\\",\\\"3.15\\\",\\\"3.2\\\",\\\"3.25\\\",\\\"3.3\\\",\\\"3.35\\\",\\\"3.4\\\",\\\"3.45\\\",\\\"3.5\\\",\\\"3.55\\\",\\\"3.6\\\",\\\"3.65\\\",\\\"3.7\\\",\\\"3.75\\\",\\\"3.8\\\",\\\"3.85\\\",\\\"3.9\\\",\\\"3.95\\\",\\\"4.0\\\",\\\"4.05\\\",\\\"4.1\\\",\\\"4.15\\\",\\\"4.2\\\",\\\"4.25\\\",\\\"4.3\\\",\\\"4.35\\\",\\\"4.4\\\",\\\"4.45\\\",\\\"4.5\\\",\\\"4.55\\\",\\\"4.6\\\",\\\"4.65\\\",\\\"4.7\\\",\\\"4.75\\\",\\\"4.8\\\",\\\"4.85\\\",\\\"4.9\\\",\\\"4.95\\\",\\\"5.0\\\",\\\"5.05\\\",\\\"5.1\\\",\\\"5.15\\\",\\\"5.2\\\",\\\"5.25\\\",\\\"5.3\\\",\\\"5.35\\\",\\\"5.4\\\",\\\"5.45\\\",\\\"5.5\\\",\\\"5.55\\\",\\\"5.6\\\",\\\"5.65\\\",\\\"5.7\\\",\\\"5.75\\\",\\\"5.8\\\",\\\"5.85\\\",\\\"5.9\\\",\\\"5.95\\\",\\\"6.0\\\",\\\"6.05\\\",\\\"6.1\\\",\\\"6.15\\\",\\\"6.2\\\",\\\"6.25\\\"],\\\"changes\\\":WebIO.getval({\\\"name\\\":\\\"changes\\\",\\\"scope\\\":\\\"10214790817141939637\\\",\\\"id\\\":\\\"17404161891934997617\\\",\\\"type\\\":\\\"observable\\\"}),\\\"index\\\":WebIO.getval({\\\"name\\\":\\\"index\\\",\\\"scope\\\":\\\"10214790817141939637\\\",\\\"id\\\":\\\"7800714332584043806\\\",\\\"type\\\":\\\"observable\\\"})};\\n    var self = this;\\n    function AppViewModel() {\\n        for (var key in json_data) {\\n            var el = json_data[key];\\n            this[key] = Array.isArray(el) ? ko.observableArray(el) : ko.observable(el);\\n        }\\n        \\n        [this[\\\"formatted_val\\\"]=ko.computed(    function(){\\n        return this.formatted_vals()[parseInt(this.index())-(1)];\\n    }\\n,this)]\\n        [this[\\\"changes\\\"].subscribe((function (val){!(this.valueFromJulia[\\\"changes\\\"]) ? (WebIO.setval({\\\"name\\\":\\\"changes\\\",\\\"scope\\\":\\\"10214790817141939637\\\",\\\"id\\\":\\\"17404161891934997617\\\",\\\"type\\\":\\\"observable\\\"},val)) : undefined; return this.valueFromJulia[\\\"changes\\\"]=false}),self),this[\\\"index\\\"].subscribe((function (val){!(this.valueFromJulia[\\\"index\\\"]) ? (WebIO.setval({\\\"name\\\":\\\"index\\\",\\\"scope\\\":\\\"10214790817141939637\\\",\\\"id\\\":\\\"7800714332584043806\\\",\\\"type\\\":\\\"observable\\\"},val)) : undefined; return this.valueFromJulia[\\\"index\\\"]=false}),self)]\\n        \\n    }\\n    self.model = new AppViewModel();\\n    self.valueFromJulia = {};\\n    for (var key in json_data) {\\n        self.valueFromJulia[key] = false;\\n    }\\n    ko.applyBindings(self.model, self.dom);\\n}\\n);\\n    (WebIO.importBlock({\\\"data\\\":[{\\\"name\\\":\\\"knockout\\\",\\\"type\\\":\\\"js\\\",\\\"url\\\":\\\"/assetserver/0fc6d61518197b1bf9b23217e9be1d2e00f2bb14-knockout.js\\\"},{\\\"name\\\":\\\"knockout_punches\\\",\\\"type\\\":\\\"js\\\",\\\"url\\\":\\\"/assetserver/24c12264eef2b01f723a21985ba5661f5564d7cf-knockout_punches.js\\\"}],\\\"type\\\":\\\"async_block\\\"})).then((imports) => handler.apply(this, imports));\\n}\\n\")])], Dict{Symbol, Any}(:className => \"field interact-widget\")), Observable{Any} with 0 listeners. Value:\n",
       "Node{WebIO.DOM}(WebIO.DOM(:html, :div), Any[Plot{Plots.GRBackend() n=1}], Dict{Symbol, Any}(:className => \"interact-flex-row interact-widget\"))], Dict{Symbol, Any}())"
      ]
     },
     "execution_count": 19,
     "metadata": {
      "application/vnd.webio.node+json": {
       "kernelId": "1ba9d061-5817-4c1d-97d1-fd42acd369e6"
      }
     },
     "output_type": "execute_result"
    }
   ],
   "source": [
    "using Plots\n",
    "plotsos = 0\n",
    "m = @manipulate for f in [sin, cos, tan], ϕ in 0:0.05:2π\n",
    "    x = 0:0.05:4π\n",
    "    plotsos = Plots.plot(x, f.(x .* ϕ))\n",
    "end"
   ]
  },
  {
   "cell_type": "code",
   "execution_count": 24,
   "id": "e95dbd7c",
   "metadata": {},
   "outputs": [],
   "source": [
    "px=widget(0:0.01:.3, label=\"px\")\n",
    "py=widget(0:0.01:.3, label=\"py\")\n",
    "plane = widget(Dict(\"x=0\" => 1, \"y=0\" => 2), label=\"Section plane\");"
   ]
  },
  {
   "cell_type": "code",
   "execution_count": 30,
   "id": "f3f39c0b",
   "metadata": {},
   "outputs": [
    {
     "ename": "LoadError",
     "evalue": "MethodError: objects of type Int64 are not callable",
     "output_type": "error",
     "traceback": [
      "MethodError: objects of type Int64 are not callable",
      "",
      "Stacktrace:",
      " [1] map(::Int64, ::Widget{:slider, Float64}, ::Widget{:slider, Float64}, ::Widget{:togglebuttons, Any})",
      "   @ Observables ~/.julia/packages/Observables/Yf3xU/src/Observables.jl:365",
      " [2] top-level scope",
      "   @ In[30]:1",
      " [3] eval",
      "   @ ./boot.jl:360 [inlined]",
      " [4] include_string(mapexpr::typeof(REPL.softscope), mod::Module, code::String, filename::String)",
      "   @ Base ./loading.jl:1094"
     ]
    }
   ],
   "source": [
    "interactive_plot = map(plotsos, px, py, plane)"
   ]
  },
  {
   "cell_type": "code",
   "execution_count": 31,
   "id": "dc558f4a",
   "metadata": {},
   "outputs": [],
   "source": [
    "s = slider(1:100);"
   ]
  },
  {
   "cell_type": "code",
   "execution_count": 32,
   "id": "0846a3cc",
   "metadata": {},
   "outputs": [
    {
     "data": {
      "text/plain": [
       "50"
      ]
     },
     "execution_count": 32,
     "metadata": {},
     "output_type": "execute_result"
    }
   ],
   "source": [
    "s[]"
   ]
  },
  {
   "cell_type": "code",
   "execution_count": 33,
   "id": "180d10a1",
   "metadata": {},
   "outputs": [
    {
     "data": {
      "text/plain": [
       "1-element Vector{Observables.ObserverFunction}:\n",
       " (::Observables.ObserverFunction) (generic function with 0 methods)"
      ]
     },
     "execution_count": 33,
     "metadata": {},
     "output_type": "execute_result"
    }
   ],
   "source": [
    "Interact.@on print(string(\"The value is \", &s))"
   ]
  },
  {
   "cell_type": "code",
   "execution_count": 34,
   "id": "eade8b9c",
   "metadata": {},
   "outputs": [
    {
     "data": {
      "application/vnd.webio.node+json": {
       "children": [
        {
         "children": [
          {
           "children": [
            {
             "children": [
              {
               "children": [
                ""
               ],
               "instanceArgs": {
                "namespace": "html",
                "tag": "label"
               },
               "nodeType": "DOM",
               "props": {
                "className": "interact ",
                "style": {
                 "padding": "5px 10px 0px 10px"
                }
               },
               "type": "node"
              }
             ],
             "instanceArgs": {
              "namespace": "html",
              "tag": "div"
             },
             "nodeType": "DOM",
             "props": {
              "className": "interact-flex-row-left"
             },
             "type": "node"
            },
            {
             "children": [
              {
               "children": [],
               "instanceArgs": {
                "namespace": "html",
                "tag": "input"
               },
               "nodeType": "DOM",
               "props": {
                "attributes": {
                 "data-bind": "numericValue: index, valueUpdate: 'input', event: {change: function (){this.changes(this.changes()+1)}}",
                 "orient": "horizontal",
                 "type": "range"
                },
                "className": "slider slider is-fullwidth",
                "max": 100,
                "min": 1,
                "step": 1,
                "style": {}
               },
               "type": "node"
              }
             ],
             "instanceArgs": {
              "namespace": "html",
              "tag": "div"
             },
             "nodeType": "DOM",
             "props": {
              "className": "interact-flex-row-center"
             },
             "type": "node"
            },
            {
             "children": [
              {
               "children": [],
               "instanceArgs": {
                "namespace": "html",
                "tag": "p"
               },
               "nodeType": "DOM",
               "props": {
                "attributes": {
                 "data-bind": "text: formatted_val"
                }
               },
               "type": "node"
              }
             ],
             "instanceArgs": {
              "namespace": "html",
              "tag": "div"
             },
             "nodeType": "DOM",
             "props": {
              "className": "interact-flex-row-right"
             },
             "type": "node"
            }
           ],
           "instanceArgs": {
            "namespace": "html",
            "tag": "div"
           },
           "nodeType": "DOM",
           "props": {
            "className": "interact-flex-row interact-widget"
           },
           "type": "node"
          }
         ],
         "instanceArgs": {
          "handlers": {
           "changes": [
            "(function (val){return (val!=this.model[\"changes\"]()) ? (this.valueFromJulia[\"changes\"]=true, this.model[\"changes\"](val)) : undefined})"
           ],
           "index": [
            "(function (val){return (val!=this.model[\"index\"]()) ? (this.valueFromJulia[\"index\"]=true, this.model[\"index\"](val)) : undefined})"
           ]
          },
          "id": "16220461391873066447",
          "imports": {
           "data": [
            {
             "name": "knockout",
             "type": "js",
             "url": "/assetserver/0fc6d61518197b1bf9b23217e9be1d2e00f2bb14-knockout.js"
            },
            {
             "name": "knockout_punches",
             "type": "js",
             "url": "/assetserver/24c12264eef2b01f723a21985ba5661f5564d7cf-knockout_punches.js"
            },
            {
             "name": null,
             "type": "js",
             "url": "/assetserver/85de428ae418ad26c1ce7e886d25374b3774afa9-all.js"
            },
            {
             "name": null,
             "type": "css",
             "url": "/assetserver/2cd8ff31326883094fe5a8ff21182264663b62be-style.css"
            },
            {
             "name": null,
             "type": "css",
             "url": "/assetserver/741bde2d4bf25f117d0ec4d43164cd1a050cf9de-bulma_confined.min.css"
            }
           ],
           "type": "async_block"
          },
          "mount_callbacks": [
           "function () {\n    var handler = (function (ko, koPunches) {\n    ko.punches.enableAll();\n    ko.bindingHandlers.numericValue = {\n        init: function(element, valueAccessor, allBindings, data, context) {\n            var stringified = ko.observable(ko.unwrap(valueAccessor()));\n            stringified.subscribe(function(value) {\n                var val = parseFloat(value);\n                if (!isNaN(val)) {\n                    valueAccessor()(val);\n                }\n            });\n            valueAccessor().subscribe(function(value) {\n                var str = JSON.stringify(value);\n                if ((str == \"0\") && ([\"-0\", \"-0.\"].indexOf(stringified()) >= 0))\n                     return;\n                 if ([\"null\", \"\"].indexOf(str) >= 0)\n                     return;\n                stringified(str);\n            });\n            ko.applyBindingsToNode(\n                element,\n                {\n                    value: stringified,\n                    valueUpdate: allBindings.get('valueUpdate'),\n                },\n                context,\n            );\n        }\n    };\n    var json_data = {\"formatted_vals\":[\"1\",\"2\",\"3\",\"4\",\"5\",\"6\",\"7\",\"8\",\"9\",\"10\",\"11\",\"12\",\"13\",\"14\",\"15\",\"16\",\"17\",\"18\",\"19\",\"20\",\"21\",\"22\",\"23\",\"24\",\"25\",\"26\",\"27\",\"28\",\"29\",\"30\",\"31\",\"32\",\"33\",\"34\",\"35\",\"36\",\"37\",\"38\",\"39\",\"40\",\"41\",\"42\",\"43\",\"44\",\"45\",\"46\",\"47\",\"48\",\"49\",\"50\",\"51\",\"52\",\"53\",\"54\",\"55\",\"56\",\"57\",\"58\",\"59\",\"60\",\"61\",\"62\",\"63\",\"64\",\"65\",\"66\",\"67\",\"68\",\"69\",\"70\",\"71\",\"72\",\"73\",\"74\",\"75\",\"76\",\"77\",\"78\",\"79\",\"80\",\"81\",\"82\",\"83\",\"84\",\"85\",\"86\",\"87\",\"88\",\"89\",\"90\",\"91\",\"92\",\"93\",\"94\",\"95\",\"96\",\"97\",\"98\",\"99\",\"100\"],\"changes\":WebIO.getval({\"name\":\"changes\",\"scope\":\"16220461391873066447\",\"id\":\"13831927884738283018\",\"type\":\"observable\"}),\"index\":WebIO.getval({\"name\":\"index\",\"scope\":\"16220461391873066447\",\"id\":\"17958082407918427224\",\"type\":\"observable\"})};\n    var self = this;\n    function AppViewModel() {\n        for (var key in json_data) {\n            var el = json_data[key];\n            this[key] = Array.isArray(el) ? ko.observableArray(el) : ko.observable(el);\n        }\n        \n        [this[\"formatted_val\"]=ko.computed(    function(){\n        return this.formatted_vals()[parseInt(this.index())-(1)];\n    }\n,this)]\n        [this[\"changes\"].subscribe((function (val){!(this.valueFromJulia[\"changes\"]) ? (WebIO.setval({\"name\":\"changes\",\"scope\":\"16220461391873066447\",\"id\":\"13831927884738283018\",\"type\":\"observable\"},val)) : undefined; return this.valueFromJulia[\"changes\"]=false}),self),this[\"index\"].subscribe((function (val){!(this.valueFromJulia[\"index\"]) ? (WebIO.setval({\"name\":\"index\",\"scope\":\"16220461391873066447\",\"id\":\"17958082407918427224\",\"type\":\"observable\"},val)) : undefined; return this.valueFromJulia[\"index\"]=false}),self)]\n        \n    }\n    self.model = new AppViewModel();\n    self.valueFromJulia = {};\n    for (var key in json_data) {\n        self.valueFromJulia[key] = false;\n    }\n    ko.applyBindings(self.model, self.dom);\n}\n);\n    (WebIO.importBlock({\"data\":[{\"name\":\"knockout\",\"type\":\"js\",\"url\":\"/assetserver/0fc6d61518197b1bf9b23217e9be1d2e00f2bb14-knockout.js\"},{\"name\":\"knockout_punches\",\"type\":\"js\",\"url\":\"/assetserver/24c12264eef2b01f723a21985ba5661f5564d7cf-knockout_punches.js\"}],\"type\":\"async_block\"})).then((imports) => handler.apply(this, imports));\n}\n"
          ],
          "observables": {
           "changes": {
            "id": "13831927884738283018",
            "sync": false,
            "value": 0
           },
           "index": {
            "id": "17958082407918427224",
            "sync": true,
            "value": 50
           }
          },
          "systemjs_options": null
         },
         "nodeType": "Scope",
         "props": {},
         "type": "node"
        }
       ],
       "instanceArgs": {
        "namespace": "html",
        "tag": "div"
       },
       "nodeType": "DOM",
       "props": {
        "className": "field interact-widget"
       },
       "type": "node"
      },
      "text/html": [
       "<div\n",
       "    class=\"webio-mountpoint\"\n",
       "    data-webio-mountpoint=\"14327040801152238061\"\n",
       ">\n",
       "    <script>\n",
       "    if (window.require && require.defined && require.defined(\"nbextensions/webio-jupyter-notebook\")) {\n",
       "        console.log(\"Jupyter WebIO extension detected, not mounting.\");\n",
       "    } else if (window.WebIO) {\n",
       "        WebIO.mount(\n",
       "            document.querySelector('[data-webio-mountpoint=\"14327040801152238061\"]'),\n",
       "            {\"props\":{\"className\":\"field interact-widget\"},\"nodeType\":\"DOM\",\"type\":\"node\",\"instanceArgs\":{\"namespace\":\"html\",\"tag\":\"div\"},\"children\":[{\"props\":{},\"nodeType\":\"Scope\",\"type\":\"node\",\"instanceArgs\":{\"imports\":{\"data\":[{\"name\":\"knockout\",\"type\":\"js\",\"url\":\"\\/assetserver\\/0fc6d61518197b1bf9b23217e9be1d2e00f2bb14-knockout.js\"},{\"name\":\"knockout_punches\",\"type\":\"js\",\"url\":\"\\/assetserver\\/24c12264eef2b01f723a21985ba5661f5564d7cf-knockout_punches.js\"},{\"name\":null,\"type\":\"js\",\"url\":\"\\/assetserver\\/85de428ae418ad26c1ce7e886d25374b3774afa9-all.js\"},{\"name\":null,\"type\":\"css\",\"url\":\"\\/assetserver\\/2cd8ff31326883094fe5a8ff21182264663b62be-style.css\"},{\"name\":null,\"type\":\"css\",\"url\":\"\\/assetserver\\/741bde2d4bf25f117d0ec4d43164cd1a050cf9de-bulma_confined.min.css\"}],\"type\":\"async_block\"},\"id\":\"16220461391873066447\",\"handlers\":{\"changes\":[\"(function (val){return (val!=this.model[\\\"changes\\\"]()) ? (this.valueFromJulia[\\\"changes\\\"]=true, this.model[\\\"changes\\\"](val)) : undefined})\"],\"index\":[\"(function (val){return (val!=this.model[\\\"index\\\"]()) ? (this.valueFromJulia[\\\"index\\\"]=true, this.model[\\\"index\\\"](val)) : undefined})\"]},\"systemjs_options\":null,\"mount_callbacks\":[\"function () {\\n    var handler = (function (ko, koPunches) {\\n    ko.punches.enableAll();\\n    ko.bindingHandlers.numericValue = {\\n        init: function(element, valueAccessor, allBindings, data, context) {\\n            var stringified = ko.observable(ko.unwrap(valueAccessor()));\\n            stringified.subscribe(function(value) {\\n                var val = parseFloat(value);\\n                if (!isNaN(val)) {\\n                    valueAccessor()(val);\\n                }\\n            });\\n            valueAccessor().subscribe(function(value) {\\n                var str = JSON.stringify(value);\\n                if ((str == \\\"0\\\") && ([\\\"-0\\\", \\\"-0.\\\"].indexOf(stringified()) >= 0))\\n                     return;\\n                 if ([\\\"null\\\", \\\"\\\"].indexOf(str) >= 0)\\n                     return;\\n                stringified(str);\\n            });\\n            ko.applyBindingsToNode(\\n                element,\\n                {\\n                    value: stringified,\\n                    valueUpdate: allBindings.get('valueUpdate'),\\n                },\\n                context,\\n            );\\n        }\\n    };\\n    var json_data = {\\\"formatted_vals\\\":[\\\"1\\\",\\\"2\\\",\\\"3\\\",\\\"4\\\",\\\"5\\\",\\\"6\\\",\\\"7\\\",\\\"8\\\",\\\"9\\\",\\\"10\\\",\\\"11\\\",\\\"12\\\",\\\"13\\\",\\\"14\\\",\\\"15\\\",\\\"16\\\",\\\"17\\\",\\\"18\\\",\\\"19\\\",\\\"20\\\",\\\"21\\\",\\\"22\\\",\\\"23\\\",\\\"24\\\",\\\"25\\\",\\\"26\\\",\\\"27\\\",\\\"28\\\",\\\"29\\\",\\\"30\\\",\\\"31\\\",\\\"32\\\",\\\"33\\\",\\\"34\\\",\\\"35\\\",\\\"36\\\",\\\"37\\\",\\\"38\\\",\\\"39\\\",\\\"40\\\",\\\"41\\\",\\\"42\\\",\\\"43\\\",\\\"44\\\",\\\"45\\\",\\\"46\\\",\\\"47\\\",\\\"48\\\",\\\"49\\\",\\\"50\\\",\\\"51\\\",\\\"52\\\",\\\"53\\\",\\\"54\\\",\\\"55\\\",\\\"56\\\",\\\"57\\\",\\\"58\\\",\\\"59\\\",\\\"60\\\",\\\"61\\\",\\\"62\\\",\\\"63\\\",\\\"64\\\",\\\"65\\\",\\\"66\\\",\\\"67\\\",\\\"68\\\",\\\"69\\\",\\\"70\\\",\\\"71\\\",\\\"72\\\",\\\"73\\\",\\\"74\\\",\\\"75\\\",\\\"76\\\",\\\"77\\\",\\\"78\\\",\\\"79\\\",\\\"80\\\",\\\"81\\\",\\\"82\\\",\\\"83\\\",\\\"84\\\",\\\"85\\\",\\\"86\\\",\\\"87\\\",\\\"88\\\",\\\"89\\\",\\\"90\\\",\\\"91\\\",\\\"92\\\",\\\"93\\\",\\\"94\\\",\\\"95\\\",\\\"96\\\",\\\"97\\\",\\\"98\\\",\\\"99\\\",\\\"100\\\"],\\\"changes\\\":WebIO.getval({\\\"name\\\":\\\"changes\\\",\\\"scope\\\":\\\"16220461391873066447\\\",\\\"id\\\":\\\"13831927884738283018\\\",\\\"type\\\":\\\"observable\\\"}),\\\"index\\\":WebIO.getval({\\\"name\\\":\\\"index\\\",\\\"scope\\\":\\\"16220461391873066447\\\",\\\"id\\\":\\\"17958082407918427224\\\",\\\"type\\\":\\\"observable\\\"})};\\n    var self = this;\\n    function AppViewModel() {\\n        for (var key in json_data) {\\n            var el = json_data[key];\\n            this[key] = Array.isArray(el) ? ko.observableArray(el) : ko.observable(el);\\n        }\\n        \\n        [this[\\\"formatted_val\\\"]=ko.computed(    function(){\\n        return this.formatted_vals()[parseInt(this.index())-(1)];\\n    }\\n,this)]\\n        [this[\\\"changes\\\"].subscribe((function (val){!(this.valueFromJulia[\\\"changes\\\"]) ? (WebIO.setval({\\\"name\\\":\\\"changes\\\",\\\"scope\\\":\\\"16220461391873066447\\\",\\\"id\\\":\\\"13831927884738283018\\\",\\\"type\\\":\\\"observable\\\"},val)) : undefined; return this.valueFromJulia[\\\"changes\\\"]=false}),self),this[\\\"index\\\"].subscribe((function (val){!(this.valueFromJulia[\\\"index\\\"]) ? (WebIO.setval({\\\"name\\\":\\\"index\\\",\\\"scope\\\":\\\"16220461391873066447\\\",\\\"id\\\":\\\"17958082407918427224\\\",\\\"type\\\":\\\"observable\\\"},val)) : undefined; return this.valueFromJulia[\\\"index\\\"]=false}),self)]\\n        \\n    }\\n    self.model = new AppViewModel();\\n    self.valueFromJulia = {};\\n    for (var key in json_data) {\\n        self.valueFromJulia[key] = false;\\n    }\\n    ko.applyBindings(self.model, self.dom);\\n}\\n);\\n    (WebIO.importBlock({\\\"data\\\":[{\\\"name\\\":\\\"knockout\\\",\\\"type\\\":\\\"js\\\",\\\"url\\\":\\\"\\/assetserver\\/0fc6d61518197b1bf9b23217e9be1d2e00f2bb14-knockout.js\\\"},{\\\"name\\\":\\\"knockout_punches\\\",\\\"type\\\":\\\"js\\\",\\\"url\\\":\\\"\\/assetserver\\/24c12264eef2b01f723a21985ba5661f5564d7cf-knockout_punches.js\\\"}],\\\"type\\\":\\\"async_block\\\"})).then((imports) => handler.apply(this, imports));\\n}\\n\"],\"observables\":{\"changes\":{\"sync\":false,\"id\":\"13831927884738283018\",\"value\":0},\"index\":{\"sync\":true,\"id\":\"17958082407918427224\",\"value\":50}}},\"children\":[{\"props\":{\"className\":\"interact-flex-row interact-widget\"},\"nodeType\":\"DOM\",\"type\":\"node\",\"instanceArgs\":{\"namespace\":\"html\",\"tag\":\"div\"},\"children\":[{\"props\":{\"className\":\"interact-flex-row-left\"},\"nodeType\":\"DOM\",\"type\":\"node\",\"instanceArgs\":{\"namespace\":\"html\",\"tag\":\"div\"},\"children\":[{\"props\":{\"className\":\"interact \",\"style\":{\"padding\":\"5px 10px 0px 10px\"}},\"nodeType\":\"DOM\",\"type\":\"node\",\"instanceArgs\":{\"namespace\":\"html\",\"tag\":\"label\"},\"children\":[\"\"]}]},{\"props\":{\"className\":\"interact-flex-row-center\"},\"nodeType\":\"DOM\",\"type\":\"node\",\"instanceArgs\":{\"namespace\":\"html\",\"tag\":\"div\"},\"children\":[{\"props\":{\"max\":100,\"min\":1,\"attributes\":{\"type\":\"range\",\"data-bind\":\"numericValue: index, valueUpdate: 'input', event: {change: function (){this.changes(this.changes()+1)}}\",\"orient\":\"horizontal\"},\"step\":1,\"className\":\"slider slider is-fullwidth\",\"style\":{}},\"nodeType\":\"DOM\",\"type\":\"node\",\"instanceArgs\":{\"namespace\":\"html\",\"tag\":\"input\"},\"children\":[]}]},{\"props\":{\"className\":\"interact-flex-row-right\"},\"nodeType\":\"DOM\",\"type\":\"node\",\"instanceArgs\":{\"namespace\":\"html\",\"tag\":\"div\"},\"children\":[{\"props\":{\"attributes\":{\"data-bind\":\"text: formatted_val\"}},\"nodeType\":\"DOM\",\"type\":\"node\",\"instanceArgs\":{\"namespace\":\"html\",\"tag\":\"p\"},\"children\":[]}]}]}]}]},\n",
       "            window,\n",
       "        );\n",
       "    } else {\n",
       "        document\n",
       "            .querySelector('[data-webio-mountpoint=\"14327040801152238061\"]')\n",
       "            .innerHTML = (\n",
       "                '<div style=\"padding: 1em; background-color: #f8d6da; border: 1px solid #f5c6cb\">' +\n",
       "                '<p><strong>WebIO not detected.</strong></p>' +\n",
       "                '<p>Please read ' +\n",
       "                '<a href=\"https://juliagizmos.github.io/WebIO.jl/latest/troubleshooting/not-detected/\" target=\"_blank\">the troubleshooting guide</a> ' +\n",
       "                'for more information on how to resolve this issue.</p>' +\n",
       "                '<p><a href=\"https://juliagizmos.github.io/WebIO.jl/latest/troubleshooting/not-detected/\" target=\"_blank\">https://juliagizmos.github.io/WebIO.jl/latest/troubleshooting/not-detected/</a></p>' +\n",
       "                '</div>'\n",
       "            );\n",
       "    }\n",
       "    </script>\n",
       "</div>\n"
      ],
      "text/plain": [
       "(div { className=\"field interact-widget\" }\n",
       "    (div { className=\"interact-flex-row interact-widget\" }\n",
       "    (div { className=\"interact-flex-row-left\" }\n",
       "      (label { className=\"interact \" style=Dict{Any, Any}(:padding => \"5px 10px 0px 10px\") }\n",
       "        nothing))\n",
       "    (div { className=\"interact-flex-row-center\" }\n",
       "      (input { max=100 min=1 attributes=Dict{Any, Any}(:type => \"range\", Symbol(\"data-bind\") => \"numericValue: index, valueUpdate: 'input', event: {change: function (){this.changes(this.changes()+1)}}\", \"orient\" => \"horizontal\") step=1 className=\"slider slider is-fullwidth\" style=Dict{Any, Any}() }))\n",
       "    (div { className=\"interact-flex-row-right\" }\n",
       "      (p { attributes=Dict(\"data-bind\" => \"text: formatted_val\") }))))"
      ]
     },
     "metadata": {
      "application/vnd.webio.node+json": {
       "kernelId": null
      }
     },
     "output_type": "display_data"
    }
   ],
   "source": [
    "display(s)"
   ]
  },
  {
   "cell_type": "code",
   "execution_count": 35,
   "id": "7394db3b",
   "metadata": {},
   "outputs": [
    {
     "name": "stderr",
     "output_type": "stream",
     "text": [
      "  % Total    % Received % Xferd  Average Speed   Time    Time     Time  Current\n",
      "                                 Dload  Upload   Total   Spent    Left  Speed\n",
      "100   634    0   634    0     0   1713      0 --:--:-- --:--:-- --:--:--     0--:-- --:--:-- --:--:--  1713\n",
      "100 52.1M  100 52.1M    0     0  5911k      0  0:00:09  0:00:09 --:--:-- 8171k\n",
      "replace version? [y]es, [n]o, [A]ll, [N]one, [r]ename:  NULL\n",
      "(EOF or read error, treating as \"[N]one\" ...)\n"
     ]
    },
    {
     "ename": "LoadError",
     "evalue": "failed process: Process(`\u001b[4munzip\u001b[24m \u001b[4m-q\u001b[24m \u001b[4melectron-v4.0.4-darwin-x64.zip\u001b[24m`, ProcessExited(1)) [1]\n",
     "output_type": "error",
     "traceback": [
      "failed process: Process(`\u001b[4munzip\u001b[24m \u001b[4m-q\u001b[24m \u001b[4melectron-v4.0.4-darwin-x64.zip\u001b[24m`, ProcessExited(1)) [1]\n",
      "",
      "Stacktrace:",
      " [1] pipeline_error",
      "   @ ./process.jl:525 [inlined]",
      " [2] run(::Cmd; wait::Bool)",
      "   @ Base ./process.jl:440",
      " [3] run",
      "   @ ./process.jl:438 [inlined]",
      " [4] (::Blink.AtomShell.var\"#3#4\")()",
      "   @ Blink.AtomShell ~/.julia/packages/Blink/mwJC9/src/AtomShell/install.jl:33",
      " [5] cd(f::Blink.AtomShell.var\"#3#4\", dir::String)",
      "   @ Base.Filesystem ./file.jl:106",
      " [6] install()",
      "   @ Blink.AtomShell ~/.julia/packages/Blink/mwJC9/src/AtomShell/install.jl:27",
      " [7] top-level scope",
      "   @ In[35]:1",
      " [8] eval",
      "   @ ./boot.jl:360 [inlined]",
      " [9] include_string(mapexpr::typeof(REPL.softscope), mod::Module, code::String, filename::String)",
      "   @ Base ./loading.jl:1094"
     ]
    }
   ],
   "source": [
    "Blink.AtomShell.install()"
   ]
  },
  {
   "cell_type": "code",
   "execution_count": null,
   "id": "cdd04fe4",
   "metadata": {},
   "outputs": [],
   "source": []
  },
  {
   "cell_type": "code",
   "execution_count": 1,
   "id": "1acfef94-8a60-419c-8d40-c8d39f3cc577",
   "metadata": {},
   "outputs": [],
   "source": [
    "using Pkg\n",
    "Pkg.add(\"Plotly\")"
   ]
  },
  {
   "cell_type": "code",
   "execution_count": 4,
   "id": "58447033-829d-4e0c-b6a4-c205f0e33a52",
   "metadata": {},
   "outputs": [
    {
     "ename": "LoadError",
     "evalue": "UndefVarError: clone not defined",
     "output_type": "error",
     "traceback": [
      "UndefVarError: clone not defined",
      "",
      "Stacktrace:",
      " [1] getproperty(x::Module, f::Symbol)",
      "   @ Base ./Base.jl:26",
      " [2] top-level scope",
      "   @ In[4]:1",
      " [3] eval",
      "   @ ./boot.jl:360 [inlined]",
      " [4] include_string(mapexpr::typeof(REPL.softscope), mod::Module, code::String, filename::String)",
      "   @ Base ./loading.jl:1094"
     ]
    }
   ],
   "source": [
    "Pkg.clone(\"https://github.com/plotly/Plotly.jl\")\n"
   ]
  },
  {
   "cell_type": "code",
   "execution_count": 5,
   "id": "fec56705-6654-4e47-90e7-b183fa1281d7",
   "metadata": {},
   "outputs": [
    {
     "ename": "LoadError",
     "evalue": "LoadError: UndefVarError: @dom_str not defined\nin expression starting at In[5]:3",
     "output_type": "error",
     "traceback": [
      "LoadError: UndefVarError: @dom_str not defined\nin expression starting at In[5]:3",
      "",
      "Stacktrace:",
      " [1] top-level scope",
      "   @ :0",
      " [2] eval",
      "   @ ./boot.jl:360 [inlined]",
      " [3] include_string(mapexpr::typeof(REPL.softscope), mod::Module, code::String, filename::String)",
      "   @ Base ./loading.jl:1094"
     ]
    }
   ],
   "source": [
    "using Blink\n",
    "w = Window()\n",
    "body!(w, dom\"p\"(\"Hello, Blink!\"))"
   ]
  },
  {
   "cell_type": "code",
   "execution_count": 6,
   "id": "bf4c696e-25d3-4a6f-b069-f697978125c6",
   "metadata": {},
   "outputs": [
    {
     "name": "stderr",
     "output_type": "stream",
     "text": [
      "┌ Warning: `Pkg.dir(pkgname, paths...)` is deprecated; instead, do `import WebIO; joinpath(dirname(pathof(WebIO)), \"..\", paths...)`.\n",
      "└ @ Pkg /Users/julia/buildbot/worker/package_macos64/build/usr/share/julia/stdlib/v1.6/Pkg/src/Pkg.jl:578\n"
     ]
    },
    {
     "ename": "LoadError",
     "evalue": "IOError: cd(\"/Users/johnsmith/.julia/packages/WebIO/Fy9h1/assets\"): no such file or directory (ENOENT)",
     "output_type": "error",
     "traceback": [
      "IOError: cd(\"/Users/johnsmith/.julia/packages/WebIO/Fy9h1/assets\"): no such file or directory (ENOENT)",
      "",
      "Stacktrace:",
      " [1] uv_error",
      "   @ ./libuv.jl:97 [inlined]",
      " [2] cd(dir::String)",
      "   @ Base.Filesystem ./file.jl:85",
      " [3] top-level scope",
      "   @ In[6]:1",
      " [4] eval",
      "   @ ./boot.jl:360 [inlined]",
      " [5] include_string(mapexpr::typeof(REPL.softscope), mod::Module, code::String, filename::String)",
      "   @ Base ./loading.jl:1094"
     ]
    }
   ],
   "source": [
    "cd(Pkg.dir(\"WebIO\", \"assets\"))"
   ]
  },
  {
   "cell_type": "code",
   "execution_count": 9,
   "id": "0df74c54-2077-49b3-b138-55c876c5f077",
   "metadata": {},
   "outputs": [
    {
     "data": {
      "text/plain": [
       "\"/Users/johnsmith/.julia/packages/WebIO/Fy9h1/src/assets\""
      ]
     },
     "execution_count": 9,
     "metadata": {},
     "output_type": "execute_result"
    }
   ],
   "source": [
    "# import WebIO; \n",
    "joinpath(dirname(pathof(WebIO)), \"assets\")"
   ]
  },
  {
   "cell_type": "code",
   "execution_count": 11,
   "id": "e7f19374-ae4e-4145-86ca-446c27c22949",
   "metadata": {},
   "outputs": [],
   "source": [
    "cd(\"/Users/johnsmith/.julia/packages/WebIO/Fy9h1/src\")"
   ]
  },
  {
   "cell_type": "code",
   "execution_count": 12,
   "id": "5828fee9-9183-4525-bec3-996543ab7751",
   "metadata": {},
   "outputs": [
    {
     "data": {
      "text/plain": [
       "\"/Users/johnsmith/.julia/packages/WebIO/Fy9h1/src\""
      ]
     },
     "execution_count": 12,
     "metadata": {},
     "output_type": "execute_result"
    }
   ],
   "source": [
    "pwd()"
   ]
  },
  {
   "cell_type": "code",
   "execution_count": 13,
   "id": "500a2219-1462-45b2-a014-ddea080c8cf4",
   "metadata": {},
   "outputs": [
    {
     "name": "stdout",
     "output_type": "stream",
     "text": [
      "/Users/johnsmith/.julia/packages/WebIO/Fy9h1/src\n"
     ]
    }
   ],
   "source": [
    ";pwd"
   ]
  },
  {
   "cell_type": "code",
   "execution_count": 14,
   "id": "1a66bd71-b93c-4791-b87f-acfff3705060",
   "metadata": {},
   "outputs": [
    {
     "name": "stdout",
     "output_type": "stream",
     "text": [
      "An error occured.\n",
      "ValueError: \"webio\" is not a valid npm package\n",
      "See the log file for details:  /var/folders/n1/14xjpmpd08db_4nmz7_xpk940000gn/T/jupyterlab-debug-59nr2c34.log\n"
     ]
    }
   ],
   "source": [
    ";jupyter labextension install webio"
   ]
  },
  {
   "cell_type": "code",
   "execution_count": 15,
   "id": "5e6706df-af97-4b79-b916-85002cea54db",
   "metadata": {},
   "outputs": [
    {
     "ename": "LoadError",
     "evalue": "UndefVarError: ui not defined",
     "output_type": "error",
     "traceback": [
      "UndefVarError: ui not defined",
      "",
      "Stacktrace:",
      " [1] top-level scope",
      "   @ In[15]:1",
      " [2] eval",
      "   @ ./boot.jl:360 [inlined]",
      " [3] include_string(mapexpr::typeof(REPL.softscope), mod::Module, code::String, filename::String)",
      "   @ Base ./loading.jl:1094"
     ]
    }
   ],
   "source": [
    "ui[]"
   ]
  },
  {
   "cell_type": "code",
   "execution_count": 16,
   "id": "2fb76e40-e611-474e-8596-c858ca8e9dc8",
   "metadata": {},
   "outputs": [
    {
     "data": {
      "application/vnd.webio.node+json": {
       "children": [
        {
         "children": [
          {
           "children": [
            "Press me!"
           ],
           "instanceArgs": {
            "namespace": "html",
            "tag": "button"
           },
           "nodeType": "DOM",
           "props": {
            "attributes": {
             "data-bind": "click: function (){this.clicks(this.clicks()+1)}, css: {'is-loading' : loading}"
            },
            "className": "is-medium button is-primary",
            "style": {}
           },
           "type": "node"
          }
         ],
         "instanceArgs": {
          "handlers": {
           "clicks": [
            "(function (val){return (val!=this.model[\"clicks\"]()) ? (this.valueFromJulia[\"clicks\"]=true, this.model[\"clicks\"](val)) : undefined})"
           ],
           "loading": [
            "(function (val){return (val!=this.model[\"loading\"]()) ? (this.valueFromJulia[\"loading\"]=true, this.model[\"loading\"](val)) : undefined})"
           ]
          },
          "id": "959013677150299749",
          "imports": {
           "data": [
            {
             "name": "knockout",
             "type": "js",
             "url": "/assetserver/0fc6d61518197b1bf9b23217e9be1d2e00f2bb14-knockout.js"
            },
            {
             "name": "knockout_punches",
             "type": "js",
             "url": "/assetserver/24c12264eef2b01f723a21985ba5661f5564d7cf-knockout_punches.js"
            },
            {
             "name": null,
             "type": "js",
             "url": "/assetserver/85de428ae418ad26c1ce7e886d25374b3774afa9-all.js"
            },
            {
             "name": null,
             "type": "css",
             "url": "/assetserver/2cd8ff31326883094fe5a8ff21182264663b62be-style.css"
            },
            {
             "name": null,
             "type": "css",
             "url": "/assetserver/741bde2d4bf25f117d0ec4d43164cd1a050cf9de-bulma_confined.min.css"
            }
           ],
           "type": "async_block"
          },
          "mount_callbacks": [
           "function () {\n    var handler = (function (ko, koPunches) {\n    ko.punches.enableAll();\n    ko.bindingHandlers.numericValue = {\n        init: function(element, valueAccessor, allBindings, data, context) {\n            var stringified = ko.observable(ko.unwrap(valueAccessor()));\n            stringified.subscribe(function(value) {\n                var val = parseFloat(value);\n                if (!isNaN(val)) {\n                    valueAccessor()(val);\n                }\n            });\n            valueAccessor().subscribe(function(value) {\n                var str = JSON.stringify(value);\n                if ((str == \"0\") && ([\"-0\", \"-0.\"].indexOf(stringified()) >= 0))\n                     return;\n                 if ([\"null\", \"\"].indexOf(str) >= 0)\n                     return;\n                stringified(str);\n            });\n            ko.applyBindingsToNode(\n                element,\n                {\n                    value: stringified,\n                    valueUpdate: allBindings.get('valueUpdate'),\n                },\n                context,\n            );\n        }\n    };\n    var json_data = {\"loading\":WebIO.getval({\"name\":\"loading\",\"scope\":\"959013677150299749\",\"id\":\"8145165179192471985\",\"type\":\"observable\"}),\"clicks\":WebIO.getval({\"name\":\"clicks\",\"scope\":\"959013677150299749\",\"id\":\"7096412876739058610\",\"type\":\"observable\"})};\n    var self = this;\n    function AppViewModel() {\n        for (var key in json_data) {\n            var el = json_data[key];\n            this[key] = Array.isArray(el) ? ko.observableArray(el) : ko.observable(el);\n        }\n        \n        \n        [this[\"loading\"].subscribe((function (val){!(this.valueFromJulia[\"loading\"]) ? (WebIO.setval({\"name\":\"loading\",\"scope\":\"959013677150299749\",\"id\":\"8145165179192471985\",\"type\":\"observable\"},val)) : undefined; return this.valueFromJulia[\"loading\"]=false}),self),this[\"clicks\"].subscribe((function (val){!(this.valueFromJulia[\"clicks\"]) ? (WebIO.setval({\"name\":\"clicks\",\"scope\":\"959013677150299749\",\"id\":\"7096412876739058610\",\"type\":\"observable\"},val)) : undefined; return this.valueFromJulia[\"clicks\"]=false}),self)]\n        \n    }\n    self.model = new AppViewModel();\n    self.valueFromJulia = {};\n    for (var key in json_data) {\n        self.valueFromJulia[key] = false;\n    }\n    ko.applyBindings(self.model, self.dom);\n}\n);\n    (WebIO.importBlock({\"data\":[{\"name\":\"knockout\",\"type\":\"js\",\"url\":\"/assetserver/0fc6d61518197b1bf9b23217e9be1d2e00f2bb14-knockout.js\"},{\"name\":\"knockout_punches\",\"type\":\"js\",\"url\":\"/assetserver/24c12264eef2b01f723a21985ba5661f5564d7cf-knockout_punches.js\"}],\"type\":\"async_block\"})).then((imports) => handler.apply(this, imports));\n}\n"
          ],
          "observables": {
           "clicks": {
            "id": "7096412876739058610",
            "sync": false,
            "value": 0
           },
           "loading": {
            "id": "8145165179192471985",
            "sync": false,
            "value": false
           }
          },
          "systemjs_options": null
         },
         "nodeType": "Scope",
         "props": {},
         "type": "node"
        }
       ],
       "instanceArgs": {
        "namespace": "html",
        "tag": "div"
       },
       "nodeType": "DOM",
       "props": {
        "className": "field interact-widget"
       },
       "type": "node"
      },
      "text/html": [
       "<div\n",
       "    class=\"webio-mountpoint\"\n",
       "    data-webio-mountpoint=\"11306093911522978993\"\n",
       ">\n",
       "    <script>\n",
       "    if (window.require && require.defined && require.defined(\"nbextensions/webio-jupyter-notebook\")) {\n",
       "        console.log(\"Jupyter WebIO extension detected, not mounting.\");\n",
       "    } else if (window.WebIO) {\n",
       "        WebIO.mount(\n",
       "            document.querySelector('[data-webio-mountpoint=\"11306093911522978993\"]'),\n",
       "            {\"props\":{\"className\":\"field interact-widget\"},\"nodeType\":\"DOM\",\"type\":\"node\",\"instanceArgs\":{\"namespace\":\"html\",\"tag\":\"div\"},\"children\":[{\"props\":{},\"nodeType\":\"Scope\",\"type\":\"node\",\"instanceArgs\":{\"imports\":{\"data\":[{\"name\":\"knockout\",\"type\":\"js\",\"url\":\"\\/assetserver\\/0fc6d61518197b1bf9b23217e9be1d2e00f2bb14-knockout.js\"},{\"name\":\"knockout_punches\",\"type\":\"js\",\"url\":\"\\/assetserver\\/24c12264eef2b01f723a21985ba5661f5564d7cf-knockout_punches.js\"},{\"name\":null,\"type\":\"js\",\"url\":\"\\/assetserver\\/85de428ae418ad26c1ce7e886d25374b3774afa9-all.js\"},{\"name\":null,\"type\":\"css\",\"url\":\"\\/assetserver\\/2cd8ff31326883094fe5a8ff21182264663b62be-style.css\"},{\"name\":null,\"type\":\"css\",\"url\":\"\\/assetserver\\/741bde2d4bf25f117d0ec4d43164cd1a050cf9de-bulma_confined.min.css\"}],\"type\":\"async_block\"},\"id\":\"959013677150299749\",\"handlers\":{\"loading\":[\"(function (val){return (val!=this.model[\\\"loading\\\"]()) ? (this.valueFromJulia[\\\"loading\\\"]=true, this.model[\\\"loading\\\"](val)) : undefined})\"],\"clicks\":[\"(function (val){return (val!=this.model[\\\"clicks\\\"]()) ? (this.valueFromJulia[\\\"clicks\\\"]=true, this.model[\\\"clicks\\\"](val)) : undefined})\"]},\"systemjs_options\":null,\"mount_callbacks\":[\"function () {\\n    var handler = (function (ko, koPunches) {\\n    ko.punches.enableAll();\\n    ko.bindingHandlers.numericValue = {\\n        init: function(element, valueAccessor, allBindings, data, context) {\\n            var stringified = ko.observable(ko.unwrap(valueAccessor()));\\n            stringified.subscribe(function(value) {\\n                var val = parseFloat(value);\\n                if (!isNaN(val)) {\\n                    valueAccessor()(val);\\n                }\\n            });\\n            valueAccessor().subscribe(function(value) {\\n                var str = JSON.stringify(value);\\n                if ((str == \\\"0\\\") && ([\\\"-0\\\", \\\"-0.\\\"].indexOf(stringified()) >= 0))\\n                     return;\\n                 if ([\\\"null\\\", \\\"\\\"].indexOf(str) >= 0)\\n                     return;\\n                stringified(str);\\n            });\\n            ko.applyBindingsToNode(\\n                element,\\n                {\\n                    value: stringified,\\n                    valueUpdate: allBindings.get('valueUpdate'),\\n                },\\n                context,\\n            );\\n        }\\n    };\\n    var json_data = {\\\"loading\\\":WebIO.getval({\\\"name\\\":\\\"loading\\\",\\\"scope\\\":\\\"959013677150299749\\\",\\\"id\\\":\\\"8145165179192471985\\\",\\\"type\\\":\\\"observable\\\"}),\\\"clicks\\\":WebIO.getval({\\\"name\\\":\\\"clicks\\\",\\\"scope\\\":\\\"959013677150299749\\\",\\\"id\\\":\\\"7096412876739058610\\\",\\\"type\\\":\\\"observable\\\"})};\\n    var self = this;\\n    function AppViewModel() {\\n        for (var key in json_data) {\\n            var el = json_data[key];\\n            this[key] = Array.isArray(el) ? ko.observableArray(el) : ko.observable(el);\\n        }\\n        \\n        \\n        [this[\\\"loading\\\"].subscribe((function (val){!(this.valueFromJulia[\\\"loading\\\"]) ? (WebIO.setval({\\\"name\\\":\\\"loading\\\",\\\"scope\\\":\\\"959013677150299749\\\",\\\"id\\\":\\\"8145165179192471985\\\",\\\"type\\\":\\\"observable\\\"},val)) : undefined; return this.valueFromJulia[\\\"loading\\\"]=false}),self),this[\\\"clicks\\\"].subscribe((function (val){!(this.valueFromJulia[\\\"clicks\\\"]) ? (WebIO.setval({\\\"name\\\":\\\"clicks\\\",\\\"scope\\\":\\\"959013677150299749\\\",\\\"id\\\":\\\"7096412876739058610\\\",\\\"type\\\":\\\"observable\\\"},val)) : undefined; return this.valueFromJulia[\\\"clicks\\\"]=false}),self)]\\n        \\n    }\\n    self.model = new AppViewModel();\\n    self.valueFromJulia = {};\\n    for (var key in json_data) {\\n        self.valueFromJulia[key] = false;\\n    }\\n    ko.applyBindings(self.model, self.dom);\\n}\\n);\\n    (WebIO.importBlock({\\\"data\\\":[{\\\"name\\\":\\\"knockout\\\",\\\"type\\\":\\\"js\\\",\\\"url\\\":\\\"\\/assetserver\\/0fc6d61518197b1bf9b23217e9be1d2e00f2bb14-knockout.js\\\"},{\\\"name\\\":\\\"knockout_punches\\\",\\\"type\\\":\\\"js\\\",\\\"url\\\":\\\"\\/assetserver\\/24c12264eef2b01f723a21985ba5661f5564d7cf-knockout_punches.js\\\"}],\\\"type\\\":\\\"async_block\\\"})).then((imports) => handler.apply(this, imports));\\n}\\n\"],\"observables\":{\"loading\":{\"sync\":false,\"id\":\"8145165179192471985\",\"value\":false},\"clicks\":{\"sync\":false,\"id\":\"7096412876739058610\",\"value\":0}}},\"children\":[{\"props\":{\"attributes\":{\"data-bind\":\"click: function (){this.clicks(this.clicks()+1)}, css: {'is-loading' : loading}\"},\"className\":\"is-medium button is-primary\",\"style\":{}},\"nodeType\":\"DOM\",\"type\":\"node\",\"instanceArgs\":{\"namespace\":\"html\",\"tag\":\"button\"},\"children\":[\"Press me!\"]}]}]},\n",
       "            window,\n",
       "        );\n",
       "    } else {\n",
       "        document\n",
       "            .querySelector('[data-webio-mountpoint=\"11306093911522978993\"]')\n",
       "            .innerHTML = (\n",
       "                '<div style=\"padding: 1em; background-color: #f8d6da; border: 1px solid #f5c6cb\">' +\n",
       "                '<p><strong>WebIO not detected.</strong></p>' +\n",
       "                '<p>Please read ' +\n",
       "                '<a href=\"https://juliagizmos.github.io/WebIO.jl/latest/troubleshooting/not-detected/\" target=\"_blank\">the troubleshooting guide</a> ' +\n",
       "                'for more information on how to resolve this issue.</p>' +\n",
       "                '<p><a href=\"https://juliagizmos.github.io/WebIO.jl/latest/troubleshooting/not-detected/\" target=\"_blank\">https://juliagizmos.github.io/WebIO.jl/latest/troubleshooting/not-detected/</a></p>' +\n",
       "                '</div>'\n",
       "            );\n",
       "    }\n",
       "    </script>\n",
       "</div>\n"
      ],
      "text/plain": [
       "(div { className=\"field interact-widget\" }\n",
       "    (button { attributes=Dict{Any, Any}(\"data-bind\" => \"click: function (){this.clicks(this.clicks()+1)}, css: {'is-loading' : loading}\") className=\"is-medium button is-primary\" style=Dict{String, Any}() }\n",
       "    \"Press me!\"))"
      ]
     },
     "metadata": {
      "application/vnd.webio.node+json": {
       "kernelId": null
      }
     },
     "output_type": "display_data"
    }
   ],
   "source": [
    "using Interact\n",
    "ui = button()\n",
    "display(ui)"
   ]
  },
  {
   "cell_type": "code",
   "execution_count": 14,
   "id": "3673071f-31be-491c-b6eb-0f532ee40f1b",
   "metadata": {},
   "outputs": [
    {
     "data": {
      "text/plain": [
       "3"
      ]
     },
     "execution_count": 14,
     "metadata": {},
     "output_type": "execute_result"
    }
   ],
   "source": [
    "ui[]"
   ]
  },
  {
   "cell_type": "code",
   "execution_count": 16,
   "id": "aa892830",
   "metadata": {},
   "outputs": [],
   "source": [
    "using Pkg\n",
    "Pkg.add(\"Mux\")\n",
    "using Mux"
   ]
  },
  {
   "cell_type": "code",
   "execution_count": 22,
   "id": "587775fd",
   "metadata": {},
   "outputs": [
    {
     "data": {
      "text/plain": [
       "Task (runnable) @0x000000013bc59990"
      ]
     },
     "execution_count": 22,
     "metadata": {},
     "output_type": "execute_result"
    },
    {
     "name": "stderr",
     "output_type": "stream",
     "text": [
      "Error handling websocket connection:\n",
      "TaskFailedException\n",
      "Stacktrace:\n",
      "  [1] \u001b[0m\u001b[1mwait\u001b[22m\n",
      "\u001b[90m    @ \u001b[39m\u001b[90m./\u001b[39m\u001b[90;4mtask.jl:322\u001b[0m\u001b[90m [inlined]\u001b[39m\n",
      "  [2] \u001b[0m\u001b[1mcreate_socket\u001b[22m\u001b[0m\u001b[1m(\u001b[22m\u001b[90mreq\u001b[39m::\u001b[0mDict\u001b[90m{Any, Any}\u001b[39m\u001b[0m\u001b[1m)\u001b[22m\n",
      "\u001b[90m    @ \u001b[39m\u001b[35mWebIO\u001b[39m \u001b[90m~/.julia/packages/WebIO/Fy9h1/src/providers/\u001b[39m\u001b[90;4mmux.jl:47\u001b[0m\n",
      "  [3] \u001b[0m\u001b[1m(::Mux.var\"#5#6\"{Mux.var\"#29#30\"{Vector{SubString{String}}}, typeof(WebIO.create_socket)})\u001b[22m\u001b[0m\u001b[1m(\u001b[22m\u001b[90mf\u001b[39m::\u001b[0mFunction, \u001b[90mx\u001b[39m::\u001b[0mDict\u001b[90m{Any, Any}\u001b[39m\u001b[0m\u001b[1m)\u001b[22m\n",
      "\u001b[90m    @ \u001b[39m\u001b[36mMux\u001b[39m \u001b[90m~/.julia/packages/Mux/Ej61O/src/\u001b[39m\u001b[90;4mMux.jl:17\u001b[0m\n",
      "  [4] \u001b[0m\u001b[1m(::Mux.var\"#1#2\"{Mux.var\"#5#6\"{Mux.var\"#29#30\"{Vector{SubString{String}}}, typeof(WebIO.create_socket)}, Mux.var\"#1#2\"{typeof(Mux.wclose), Mux.var\"#1#2\"{Mux.var\"#19#20\"{Mux.var\"#23#24\"{Symbol, Int64}}, Mux.var\"#21#22\"{String}}}})\u001b[22m\u001b[0m\u001b[1m(\u001b[22m\u001b[90mx\u001b[39m::\u001b[0mDict\u001b[90m{Any, Any}\u001b[39m\u001b[0m\u001b[1m)\u001b[22m\n",
      "\u001b[90m    @ \u001b[39m\u001b[36mMux\u001b[39m \u001b[90m~/.julia/packages/Mux/Ej61O/src/\u001b[39m\u001b[90;4mMux.jl:10\u001b[0m\n",
      "  [5] \u001b[0m\u001b[1msplitquery\u001b[22m\u001b[0m\u001b[1m(\u001b[22m\u001b[90mapp\u001b[39m::\u001b[0mMux.var\"#1#2\"\u001b[90m{Mux.var\"#5#6\"{Mux.var\"#29#30\"{Vector{SubString{String}}}, typeof(WebIO.create_socket)}, Mux.var\"#1#2\"{typeof(Mux.wclose), Mux.var\"#1#2\"{Mux.var\"#19#20\"{Mux.var\"#23#24\"{Symbol, Int64}}, Mux.var\"#21#22\"{String}}}}\u001b[39m, \u001b[90mreq\u001b[39m::\u001b[0mDict\u001b[90m{Any, Any}\u001b[39m\u001b[0m\u001b[1m)\u001b[22m\n",
      "\u001b[90m    @ \u001b[39m\u001b[36mMux\u001b[39m \u001b[90m~/.julia/packages/Mux/Ej61O/src/\u001b[39m\u001b[90;4mbasics.jl:31\u001b[0m\n",
      "  [6] \u001b[0m\u001b[1m#1\u001b[22m\n",
      "\u001b[90m    @ \u001b[39m\u001b[90m~/.julia/packages/Mux/Ej61O/src/\u001b[39m\u001b[90;4mMux.jl:10\u001b[0m\u001b[90m [inlined]\u001b[39m\n",
      "  [7] \u001b[0m\u001b[1mwcatch\u001b[22m\u001b[0m\u001b[1m(\u001b[22m\u001b[90mapp\u001b[39m::\u001b[0mMux.var\"#1#2\"\u001b[90m{typeof(Mux.splitquery), Mux.var\"#1#2\"{Mux.var\"#5#6\"{Mux.var\"#29#30\"{Vector{SubString{String}}}, typeof(WebIO.create_socket)}, Mux.var\"#1#2\"{typeof(Mux.wclose), Mux.var\"#1#2\"{Mux.var\"#19#20\"{Mux.var\"#23#24\"{Symbol, Int64}}, Mux.var\"#21#22\"{String}}}}}\u001b[39m, \u001b[90mreq\u001b[39m::\u001b[0mDict\u001b[90m{Any, Any}\u001b[39m\u001b[0m\u001b[1m)\u001b[22m\n",
      "\u001b[90m    @ \u001b[39m\u001b[36mMux\u001b[39m \u001b[90m~/.julia/packages/Mux/Ej61O/src/\u001b[39m\u001b[90;4mwebsockets_integration.jl:12\u001b[0m\n",
      "  [8] \u001b[0m\u001b[1m#1\u001b[22m\n",
      "\u001b[90m    @ \u001b[39m\u001b[90m~/.julia/packages/Mux/Ej61O/src/\u001b[39m\u001b[90;4mMux.jl:10\u001b[0m\u001b[90m [inlined]\u001b[39m\n",
      "  [9] \u001b[0m\u001b[1mtodict\u001b[22m\n",
      "\u001b[90m    @ \u001b[39m\u001b[90m~/.julia/packages/Mux/Ej61O/src/\u001b[39m\u001b[90;4mbasics.jl:25\u001b[0m\u001b[90m [inlined]\u001b[39m\n",
      " [10] \u001b[0m\u001b[1m#3\u001b[22m\u001b[90m (repeats 2 times)\u001b[39m\n",
      "\u001b[90m    @ \u001b[39m\u001b[90m~/.julia/packages/Mux/Ej61O/src/\u001b[39m\u001b[90;4mMux.jl:14\u001b[0m\u001b[90m [inlined]\u001b[39m\n",
      " [11] \u001b[0m\u001b[1m(::Mux.var\"#1#2\"{Mux.var\"#3#4\"{Mux.var\"#3#4\"{typeof(Mux.todict), typeof(Mux.wcatch)}, typeof(Mux.splitquery)}, Mux.var\"#1#2\"{Mux.var\"#5#6\"{Mux.var\"#29#30\"{Vector{SubString{String}}}, typeof(WebIO.create_socket)}, Mux.var\"#1#2\"{typeof(Mux.wclose), Mux.var\"#1#2\"{Mux.var\"#19#20\"{Mux.var\"#23#24\"{Symbol, Int64}}, Mux.var\"#21#22\"{String}}}}})\u001b[22m\u001b[0m\u001b[1m(\u001b[22m\u001b[90mx\u001b[39m::\u001b[0mTuple\u001b[90m{HTTP.Messages.Request, WebSockets.WebSocket{Sockets.TCPSocket}}\u001b[39m\u001b[0m\u001b[1m)\u001b[22m\n",
      "\u001b[90m    @ \u001b[39m\u001b[36mMux\u001b[39m \u001b[90m~/.julia/packages/Mux/Ej61O/src/\u001b[39m\u001b[90;4mMux.jl:10\u001b[0m\n",
      " [12] \u001b[0m\u001b[1m(::Mux.var\"#9#10\"{Mux.App})\u001b[22m\u001b[0m\u001b[1m(\u001b[22m\u001b[90mreq\u001b[39m::\u001b[0mHTTP.Messages.Request, \u001b[90mclient\u001b[39m::\u001b[0mWebSockets.WebSocket\u001b[90m{Sockets.TCPSocket}\u001b[39m\u001b[0m\u001b[1m)\u001b[22m\n",
      "\u001b[90m    @ \u001b[39m\u001b[36mMux\u001b[39m \u001b[90m~/.julia/packages/Mux/Ej61O/src/\u001b[39m\u001b[90;4mserver.jl:49\u001b[0m\n",
      " [13] \u001b[0m\u001b[1mupgrade\u001b[22m\u001b[0m\u001b[1m(\u001b[22m\u001b[90mf\u001b[39m::\u001b[0mMux.var\"#9#10\"\u001b[90m{Mux.App}\u001b[39m, \u001b[90mstream\u001b[39m::\u001b[0mHTTP.Streams.Stream\u001b[90m{HTTP.Messages.Request, HTTP.ConnectionPool.Transaction{Sockets.TCPSocket}}\u001b[39m\u001b[0m\u001b[1m)\u001b[22m\n",
      "\u001b[90m    @ \u001b[39m\u001b[32mWebSockets\u001b[39m \u001b[90m~/.julia/packages/WebSockets/QcswW/src/\u001b[39m\u001b[90;4mHTTP.jl:201\u001b[0m\n",
      " [14] \u001b[0m\u001b[1m(::WebSockets.var\"#_servercoroutine#11\"{WebSockets.ServerWS})\u001b[22m\u001b[0m\u001b[1m(\u001b[22m\u001b[90mstream\u001b[39m::\u001b[0mHTTP.Streams.Stream\u001b[90m{HTTP.Messages.Request, HTTP.ConnectionPool.Transaction{Sockets.TCPSocket}}\u001b[39m\u001b[0m\u001b[1m)\u001b[22m\n",
      "\u001b[90m    @ \u001b[39m\u001b[32mWebSockets\u001b[39m \u001b[90m~/.julia/packages/WebSockets/QcswW/src/\u001b[39m\u001b[90;4mHTTP.jl:370\u001b[0m\n",
      " [15] \u001b[0m\u001b[1mmacro expansion\u001b[22m\n",
      "\u001b[90m    @ \u001b[39m\u001b[90m~/.julia/packages/HTTP/IAI92/src/\u001b[39m\u001b[90;4mServers.jl:367\u001b[0m\u001b[90m [inlined]\u001b[39m\n",
      " [16] \u001b[0m\u001b[1m(::HTTP.Servers.var\"#13#14\"{WebSockets.var\"#_servercoroutine#11\"{WebSockets.ServerWS}, HTTP.ConnectionPool.Transaction{Sockets.TCPSocket}, HTTP.Streams.Stream{HTTP.Messages.Request, HTTP.ConnectionPool.Transaction{Sockets.TCPSocket}}})\u001b[22m\u001b[0m\u001b[1m(\u001b[22m\u001b[0m\u001b[1m)\u001b[22m\n",
      "\u001b[90m    @ \u001b[39m\u001b[33mHTTP.Servers\u001b[39m \u001b[90m./\u001b[39m\u001b[90;4mtask.jl:411\u001b[0m\n",
      "\n",
      "\u001b[91m    nested task error: \u001b[39mWebSockets.WebSocketClosedError(\"ws|server respond to OPCODE_CLOSE 1001: Going Away\")\n",
      "    Stacktrace:\n",
      "     [1] \u001b[0m\u001b[1mhandle_control_frame\u001b[22m\u001b[0m\u001b[1m(\u001b[22m\u001b[90mws\u001b[39m::\u001b[0mWebSockets.WebSocket\u001b[90m{Sockets.TCPSocket}\u001b[39m, \u001b[90mwsf\u001b[39m::\u001b[0mWebSockets.WebSocketFragment\u001b[0m\u001b[1m)\u001b[22m\n",
      "    \u001b[90m   @ \u001b[39m\u001b[35mWebSockets\u001b[39m \u001b[90m~/.julia/packages/WebSockets/QcswW/src/\u001b[39m\u001b[90;4mWebSockets.jl:376\u001b[0m\n",
      "     [2] \u001b[0m\u001b[1mread\u001b[22m\u001b[0m\u001b[1m(\u001b[22m\u001b[90mws\u001b[39m::\u001b[0mWebSockets.WebSocket\u001b[90m{Sockets.TCPSocket}\u001b[39m\u001b[0m\u001b[1m)\u001b[22m\n",
      "    \u001b[90m   @ \u001b[39m\u001b[35mWebSockets\u001b[39m \u001b[90m~/.julia/packages/WebSockets/QcswW/src/\u001b[39m\u001b[90;4mWebSockets.jl:459\u001b[0m\n",
      "     [3] \u001b[0m\u001b[1mmacro expansion\u001b[22m\n",
      "    \u001b[90m   @ \u001b[39m\u001b[90m~/.julia/packages/WebIO/Fy9h1/src/providers/\u001b[39m\u001b[90;4mmux.jl:41\u001b[0m\u001b[90m [inlined]\u001b[39m\n",
      "     [4] \u001b[0m\u001b[1m(::WebIO.var\"#110#111\"{WebIO.WebSockConnection, WebSockets.WebSocket{Sockets.TCPSocket}})\u001b[22m\u001b[0m\u001b[1m(\u001b[22m\u001b[0m\u001b[1m)\u001b[22m\n",
      "    \u001b[90m   @ \u001b[39m\u001b[36mWebIO\u001b[39m \u001b[90m./\u001b[39m\u001b[90;4mtask.jl:411\u001b[0mError handling websocket connection:\n",
      "TaskFailedException\n",
      "Stacktrace:\n",
      "  [1] \u001b[0m\u001b[1mwait\u001b[22m\n",
      "\u001b[90m    @ \u001b[39m\u001b[90m./\u001b[39m\u001b[90;4mtask.jl:322\u001b[0m\u001b[90m [inlined]\u001b[39m\n",
      "  [2] \u001b[0m\u001b[1mcreate_socket\u001b[22m\u001b[0m\u001b[1m(\u001b[22m\u001b[90mreq\u001b[39m::\u001b[0mDict\u001b[90m{Any, Any}\u001b[39m\u001b[0m\u001b[1m)\u001b[22m\n",
      "\u001b[90m    @ \u001b[39m\u001b[35mWebIO\u001b[39m \u001b[90m~/.julia/packages/WebIO/Fy9h1/src/providers/\u001b[39m\u001b[90;4mmux.jl:47\u001b[0m\n",
      "  [3] \u001b[0m\u001b[1m(::Mux.var\"#5#6\"{Mux.var\"#29#30\"{Vector{SubString{String}}}, typeof(WebIO.create_socket)})\u001b[22m\u001b[0m\u001b[1m(\u001b[22m\u001b[90mf\u001b[39m::\u001b[0mFunction, \u001b[90mx\u001b[39m::\u001b[0mDict\u001b[90m{Any, Any}\u001b[39m\u001b[0m\u001b[1m)\u001b[22m\n",
      "\u001b[90m    @ \u001b[39m\u001b[36mMux\u001b[39m \u001b[90m~/.julia/packages/Mux/Ej61O/src/\u001b[39m\u001b[90;4mMux.jl:17\u001b[0m\n",
      "  [4] \u001b[0m\u001b[1m(::Mux.var\"#1#2\"{Mux.var\"#5#6\"{Mux.var\"#29#30\"{Vector{SubString{String}}}, typeof(WebIO.create_socket)}, Mux.var\"#1#2\"{typeof(Mux.wclose), Mux.var\"#1#2\"{Mux.var\"#19#20\"{Mux.var\"#23#24\"{Symbol, Int64}}, Mux.var\"#21#22\"{String}}}})\u001b[22m\u001b[0m\u001b[1m(\u001b[22m\u001b[90mx\u001b[39m::\u001b[0mDict\u001b[90m{Any, Any}\u001b[39m\u001b[0m\u001b[1m)\u001b[22m\n",
      "\u001b[90m    @ \u001b[39m\u001b[36mMux\u001b[39m \u001b[90m~/.julia/packages/Mux/Ej61O/src/\u001b[39m\u001b[90;4mMux.jl:10\u001b[0m\n",
      "  [5] \u001b[0m\u001b[1msplitquery\u001b[22m\u001b[0m\u001b[1m(\u001b[22m\u001b[90mapp\u001b[39m::\u001b[0mMux.var\"#1#2\"\u001b[90m{Mux.var\"#5#6\"{Mux.var\"#29#30\"{Vector{SubString{String}}}, typeof(WebIO.create_socket)}, Mux.var\"#1#2\"{typeof(Mux.wclose), Mux.var\"#1#2\"{Mux.var\"#19#20\"{Mux.var\"#23#24\"{Symbol, Int64}}, Mux.var\"#21#22\"{String}}}}\u001b[39m, \u001b[90mreq\u001b[39m::\u001b[0mDict\u001b[90m{Any, Any}\u001b[39m\u001b[0m\u001b[1m)\u001b[22m\n",
      "\u001b[90m    @ \u001b[39m\u001b[36mMux\u001b[39m \u001b[90m~/.julia/packages/Mux/Ej61O/src/\u001b[39m\u001b[90;4mbasics.jl:31\u001b[0m\n",
      "  [6] \u001b[0m\u001b[1m#1\u001b[22m\n",
      "\u001b[90m    @ \u001b[39m\u001b[90m~/.julia/packages/Mux/Ej61O/src/\u001b[39m\u001b[90;4mMux.jl:10\u001b[0m\u001b[90m [inlined]\u001b[39m\n",
      "  [7] \u001b[0m\u001b[1mwcatch\u001b[22m\u001b[0m\u001b[1m(\u001b[22m\u001b[90mapp\u001b[39m::\u001b[0mMux.var\"#1#2\"\u001b[90m{typeof(Mux.splitquery), Mux.var\"#1#2\"{Mux.var\"#5#6\"{Mux.var\"#29#30\"{Vector{SubString{String}}}, typeof(WebIO.create_socket)}, Mux.var\"#1#2\"{typeof(Mux.wclose), Mux.var\"#1#2\"{Mux.var\"#19#20\"{Mux.var\"#23#24\"{Symbol, Int64}}, Mux.var\"#21#22\"{String}}}}}\u001b[39m, \u001b[90mreq\u001b[39m::\u001b[0mDict\u001b[90m{Any, Any}\u001b[39m\u001b[0m\u001b[1m)\u001b[22m\n",
      "\u001b[90m    @ \u001b[39m\u001b[36mMux\u001b[39m \u001b[90m~/.julia/packages/Mux/Ej61O/src/\u001b[39m\u001b[90;4mwebsockets_integration.jl:12\u001b[0m\n",
      "  [8] \u001b[0m\u001b[1m#1\u001b[22m\n",
      "\u001b[90m    @ \u001b[39m\u001b[90m~/.julia/packages/Mux/Ej61O/src/\u001b[39m\u001b[90;4mMux.jl:10\u001b[0m\u001b[90m [inlined]\u001b[39m\n",
      "  [9] \u001b[0m\u001b[1mtodict\u001b[22m\n",
      "\u001b[90m    @ \u001b[39m\u001b[90m~/.julia/packages/Mux/Ej61O/src/\u001b[39m\u001b[90;4mbasics.jl:25\u001b[0m\u001b[90m [inlined]\u001b[39m\n",
      " [10] \u001b[0m\u001b[1m#3\u001b[22m\u001b[90m (repeats 2 times)\u001b[39m\n",
      "\u001b[90m    @ \u001b[39m\u001b[90m~/.julia/packages/Mux/Ej61O/src/\u001b[39m\u001b[90;4mMux.jl:14\u001b[0m\u001b[90m [inlined]\u001b[39m\n",
      " [11] \u001b[0m\u001b[1m(::Mux.var\"#1#2\"{Mux.var\"#3#4\"{Mux.var\"#3#4\"{typeof(Mux.todict), typeof(Mux.wcatch)}, typeof(Mux.splitquery)}, Mux.var\"#1#2\"{Mux.var\"#5#6\"{Mux.var\"#29#30\"{Vector{SubString{String}}}, typeof(WebIO.create_socket)}, Mux.var\"#1#2\"{typeof(Mux.wclose), Mux.var\"#1#2\"{Mux.var\"#19#20\"{Mux.var\"#23#24\"{Symbol, Int64}}, Mux.var\"#21#22\"{String}}}}})\u001b[22m\u001b[0m\u001b[1m(\u001b[22m\u001b[90mx\u001b[39m::\u001b[0mTuple\u001b[90m{HTTP.Messages.Request, WebSockets.WebSocket{Sockets.TCPSocket}}\u001b[39m\u001b[0m\u001b[1m)\u001b[22m\n",
      "\u001b[90m    @ \u001b[39m\u001b[36mMux\u001b[39m \u001b[90m~/.julia/packages/Mux/Ej61O/src/\u001b[39m\u001b[90;4mMux.jl:10\u001b[0m\n",
      " [12] \u001b[0m\u001b[1m(::Mux.var\"#9#10\"{Mux.App})\u001b[22m\u001b[0m\u001b[1m(\u001b[22m\u001b[90mreq\u001b[39m::\u001b[0mHTTP.Messages.Request, \u001b[90mclient\u001b[39m::\u001b[0mWebSockets.WebSocket\u001b[90m{Sockets.TCPSocket}\u001b[39m\u001b[0m\u001b[1m)\u001b[22m\n",
      "\u001b[90m    @ \u001b[39m\u001b[36mMux\u001b[39m \u001b[90m~/.julia/packages/Mux/Ej61O/src/\u001b[39m\u001b[90;4mserver.jl:49\u001b[0m\n",
      " [13] \u001b[0m\u001b[1mupgrade\u001b[22m\u001b[0m\u001b[1m(\u001b[22m\u001b[90mf\u001b[39m::\u001b[0mMux.var\"#9#10\"\u001b[90m{Mux.App}\u001b[39m, \u001b[90mstream\u001b[39m::\u001b[0mHTTP.Streams.Stream\u001b[90m{HTTP.Messages.Request, HTTP.ConnectionPool.Transaction{Sockets.TCPSocket}}\u001b[39m\u001b[0m\u001b[1m)\u001b[22m\n",
      "\u001b[90m    @ \u001b[39m\u001b[32mWebSockets\u001b[39m \u001b[90m~/.julia/packages/WebSockets/QcswW/src/\u001b[39m\u001b[90;4mHTTP.jl:201\u001b[0m\n",
      " [14] \u001b[0m\u001b[1m(::WebSockets.var\"#_servercoroutine#11\"{WebSockets.ServerWS})\u001b[22m\u001b[0m\u001b[1m(\u001b[22m\u001b[90mstream\u001b[39m::\u001b[0mHTTP.Streams.Stream\u001b[90m{HTTP.Messages.Request, HTTP.ConnectionPool.Transaction{Sockets.TCPSocket}}\u001b[39m\u001b[0m\u001b[1m)\u001b[22m\n",
      "\u001b[90m    @ \u001b[39m\u001b[32mWebSockets\u001b[39m \u001b[90m~/.julia/packages/WebSockets/QcswW/src/\u001b[39m\u001b[90;4mHTTP.jl:370\u001b[0m\n",
      " [15] \u001b[0m\u001b[1mmacro expansion\u001b[22m\n",
      "\u001b[90m    @ \u001b[39m\u001b[90m~/.julia/packages/HTTP/IAI92/src/\u001b[39m\u001b[90;4mServers.jl:367\u001b[0m\u001b[90m [inlined]\u001b[39m\n",
      " [16] \u001b[0m\u001b[1m(::HTTP.Servers.var\"#13#14\"{WebSockets.var\"#_servercoroutine#11\"{WebSockets.ServerWS}, HTTP.ConnectionPool.Transaction{Sockets.TCPSocket}, HTTP.Streams.Stream{HTTP.Messages.Request, HTTP.ConnectionPool.Transaction{Sockets.TCPSocket}}})\u001b[22m\u001b[0m\u001b[1m(\u001b[22m\u001b[0m\u001b[1m)\u001b[22m\n",
      "\u001b[90m    @ \u001b[39m\u001b[33mHTTP.Servers\u001b[39m \u001b[90m./\u001b[39m\u001b[90;4mtask.jl:411\u001b[0m\n",
      "\n",
      "\u001b[91m    nested task error: \u001b[39mWebSockets.WebSocketClosedError(\"ws|server respond to OPCODE_CLOSE 1001: Going Away\")\n",
      "    Stacktrace:\n",
      "     [1] \u001b[0m\u001b[1mhandle_control_frame\u001b[22m\u001b[0m\u001b[1m(\u001b[22m\u001b[90mws\u001b[39m::\u001b[0mWebSockets.WebSocket\u001b[90m{Sockets.TCPSocket}\u001b[39m, \u001b[90mwsf\u001b[39m::\u001b[0mWebSockets.WebSocketFragment\u001b[0m\u001b[1m)\u001b[22m\n",
      "    \u001b[90m   @ \u001b[39m\u001b[35mWebSockets\u001b[39m \u001b[90m~/.julia/packages/WebSockets/QcswW/src/\u001b[39m\u001b[90;4mWebSockets.jl:376\u001b[0m\n",
      "     [2] \u001b[0m\u001b[1mread\u001b[22m\u001b[0m\u001b[1m(\u001b[22m\u001b[90mws\u001b[39m::\u001b[0mWebSockets.WebSocket\u001b[90m{Sockets.TCPSocket}\u001b[39m\u001b[0m\u001b[1m)\u001b[22m\n",
      "    \u001b[90m   @ \u001b[39m\u001b[35mWebSockets\u001b[39m \u001b[90m~/.julia/packages/WebSockets/QcswW/src/\u001b[39m\u001b[90;4mWebSockets.jl:459\u001b[0m\n",
      "     [3] \u001b[0m\u001b[1mmacro expansion\u001b[22m\n",
      "    \u001b[90m   @ \u001b[39m\u001b[90m~/.julia/packages/WebIO/Fy9h1/src/providers/\u001b[39m\u001b[90;4mmux.jl:41\u001b[0m\u001b[90m [inlined]\u001b[39m\n",
      "     [4] \u001b[0m\u001b[1m(::WebIO.var\"#110#111\"{WebIO.WebSockConnection, WebSockets.WebSocket{Sockets.TCPSocket}})\u001b[22m\u001b[0m\u001b[1m(\u001b[22m\u001b[0m\u001b[1m)\u001b[22m\n"
     ]
    },
    {
     "name": "stderr",
     "output_type": "stream",
     "text": [
      "    \u001b[90m   @ \u001b[39m\u001b[36mWebIO\u001b[39m \u001b[90m./\u001b[39m\u001b[90;4mtask.jl:411\u001b[0mError handling websocket connection:\n",
      "TaskFailedException\n",
      "Stacktrace:\n",
      "  [1] \u001b[0m\u001b[1mwait\u001b[22m\n",
      "\u001b[90m    @ \u001b[39m\u001b[90m./\u001b[39m\u001b[90;4mtask.jl:322\u001b[0m\u001b[90m [inlined]\u001b[39m\n",
      "  [2] \u001b[0m\u001b[1mcreate_socket\u001b[22m\u001b[0m\u001b[1m(\u001b[22m\u001b[90mreq\u001b[39m::\u001b[0mDict\u001b[90m{Any, Any}\u001b[39m\u001b[0m\u001b[1m)\u001b[22m\n",
      "\u001b[90m    @ \u001b[39m\u001b[35mWebIO\u001b[39m \u001b[90m~/.julia/packages/WebIO/Fy9h1/src/providers/\u001b[39m\u001b[90;4mmux.jl:47\u001b[0m\n",
      "  [3] \u001b[0m\u001b[1m(::Mux.var\"#5#6\"{Mux.var\"#29#30\"{Vector{SubString{String}}}, typeof(WebIO.create_socket)})\u001b[22m\u001b[0m\u001b[1m(\u001b[22m\u001b[90mf\u001b[39m::\u001b[0mFunction, \u001b[90mx\u001b[39m::\u001b[0mDict\u001b[90m{Any, Any}\u001b[39m\u001b[0m\u001b[1m)\u001b[22m\n",
      "\u001b[90m    @ \u001b[39m\u001b[36mMux\u001b[39m \u001b[90m~/.julia/packages/Mux/Ej61O/src/\u001b[39m\u001b[90;4mMux.jl:17\u001b[0m\n",
      "  [4] \u001b[0m\u001b[1m(::Mux.var\"#1#2\"{Mux.var\"#5#6\"{Mux.var\"#29#30\"{Vector{SubString{String}}}, typeof(WebIO.create_socket)}, Mux.var\"#1#2\"{typeof(Mux.wclose), Mux.var\"#1#2\"{Mux.var\"#19#20\"{Mux.var\"#23#24\"{Symbol, Int64}}, Mux.var\"#21#22\"{String}}}})\u001b[22m\u001b[0m\u001b[1m(\u001b[22m\u001b[90mx\u001b[39m::\u001b[0mDict\u001b[90m{Any, Any}\u001b[39m\u001b[0m\u001b[1m)\u001b[22m\n",
      "\u001b[90m    @ \u001b[39m\u001b[36mMux\u001b[39m \u001b[90m~/.julia/packages/Mux/Ej61O/src/\u001b[39m\u001b[90;4mMux.jl:10\u001b[0m\n",
      "  [5] \u001b[0m\u001b[1msplitquery\u001b[22m\u001b[0m\u001b[1m(\u001b[22m\u001b[90mapp\u001b[39m::\u001b[0mMux.var\"#1#2\"\u001b[90m{Mux.var\"#5#6\"{Mux.var\"#29#30\"{Vector{SubString{String}}}, typeof(WebIO.create_socket)}, Mux.var\"#1#2\"{typeof(Mux.wclose), Mux.var\"#1#2\"{Mux.var\"#19#20\"{Mux.var\"#23#24\"{Symbol, Int64}}, Mux.var\"#21#22\"{String}}}}\u001b[39m, \u001b[90mreq\u001b[39m::\u001b[0mDict\u001b[90m{Any, Any}\u001b[39m\u001b[0m\u001b[1m)\u001b[22m\n",
      "\u001b[90m    @ \u001b[39m\u001b[36mMux\u001b[39m \u001b[90m~/.julia/packages/Mux/Ej61O/src/\u001b[39m\u001b[90;4mbasics.jl:31\u001b[0m\n",
      "  [6] \u001b[0m\u001b[1m#1\u001b[22m\n",
      "\u001b[90m    @ \u001b[39m\u001b[90m~/.julia/packages/Mux/Ej61O/src/\u001b[39m\u001b[90;4mMux.jl:10\u001b[0m\u001b[90m [inlined]\u001b[39m\n",
      "  [7] \u001b[0m\u001b[1mwcatch\u001b[22m\u001b[0m\u001b[1m(\u001b[22m\u001b[90mapp\u001b[39m::\u001b[0mMux.var\"#1#2\"\u001b[90m{typeof(Mux.splitquery), Mux.var\"#1#2\"{Mux.var\"#5#6\"{Mux.var\"#29#30\"{Vector{SubString{String}}}, typeof(WebIO.create_socket)}, Mux.var\"#1#2\"{typeof(Mux.wclose), Mux.var\"#1#2\"{Mux.var\"#19#20\"{Mux.var\"#23#24\"{Symbol, Int64}}, Mux.var\"#21#22\"{String}}}}}\u001b[39m, \u001b[90mreq\u001b[39m::\u001b[0mDict\u001b[90m{Any, Any}\u001b[39m\u001b[0m\u001b[1m)\u001b[22m\n",
      "\u001b[90m    @ \u001b[39m\u001b[36mMux\u001b[39m \u001b[90m~/.julia/packages/Mux/Ej61O/src/\u001b[39m\u001b[90;4mwebsockets_integration.jl:12\u001b[0m\n",
      "  [8] \u001b[0m\u001b[1m#1\u001b[22m\n",
      "\u001b[90m    @ \u001b[39m\u001b[90m~/.julia/packages/Mux/Ej61O/src/\u001b[39m\u001b[90;4mMux.jl:10\u001b[0m\u001b[90m [inlined]\u001b[39m\n",
      "  [9] \u001b[0m\u001b[1mtodict\u001b[22m\n",
      "\u001b[90m    @ \u001b[39m\u001b[90m~/.julia/packages/Mux/Ej61O/src/\u001b[39m\u001b[90;4mbasics.jl:25\u001b[0m\u001b[90m [inlined]\u001b[39m\n",
      " [10] \u001b[0m\u001b[1m#3\u001b[22m\u001b[90m (repeats 2 times)\u001b[39m\n",
      "\u001b[90m    @ \u001b[39m\u001b[90m~/.julia/packages/Mux/Ej61O/src/\u001b[39m\u001b[90;4mMux.jl:14\u001b[0m\u001b[90m [inlined]\u001b[39m\n",
      " [11] \u001b[0m\u001b[1m(::Mux.var\"#1#2\"{Mux.var\"#3#4\"{Mux.var\"#3#4\"{typeof(Mux.todict), typeof(Mux.wcatch)}, typeof(Mux.splitquery)}, Mux.var\"#1#2\"{Mux.var\"#5#6\"{Mux.var\"#29#30\"{Vector{SubString{String}}}, typeof(WebIO.create_socket)}, Mux.var\"#1#2\"{typeof(Mux.wclose), Mux.var\"#1#2\"{Mux.var\"#19#20\"{Mux.var\"#23#24\"{Symbol, Int64}}, Mux.var\"#21#22\"{String}}}}})\u001b[22m\u001b[0m\u001b[1m(\u001b[22m\u001b[90mx\u001b[39m::\u001b[0mTuple\u001b[90m{HTTP.Messages.Request, WebSockets.WebSocket{Sockets.TCPSocket}}\u001b[39m\u001b[0m\u001b[1m)\u001b[22m\n",
      "\u001b[90m    @ \u001b[39m\u001b[36mMux\u001b[39m \u001b[90m~/.julia/packages/Mux/Ej61O/src/\u001b[39m\u001b[90;4mMux.jl:10\u001b[0m\n",
      " [12] \u001b[0m\u001b[1m(::Mux.var\"#9#10\"{Mux.App})\u001b[22m\u001b[0m\u001b[1m(\u001b[22m\u001b[90mreq\u001b[39m::\u001b[0mHTTP.Messages.Request, \u001b[90mclient\u001b[39m::\u001b[0mWebSockets.WebSocket\u001b[90m{Sockets.TCPSocket}\u001b[39m\u001b[0m\u001b[1m)\u001b[22m\n",
      "\u001b[90m    @ \u001b[39m\u001b[36mMux\u001b[39m \u001b[90m~/.julia/packages/Mux/Ej61O/src/\u001b[39m\u001b[90;4mserver.jl:49\u001b[0m\n",
      " [13] \u001b[0m\u001b[1mupgrade\u001b[22m\u001b[0m\u001b[1m(\u001b[22m\u001b[90mf\u001b[39m::\u001b[0mMux.var\"#9#10\"\u001b[90m{Mux.App}\u001b[39m, \u001b[90mstream\u001b[39m::\u001b[0mHTTP.Streams.Stream\u001b[90m{HTTP.Messages.Request, HTTP.ConnectionPool.Transaction{Sockets.TCPSocket}}\u001b[39m\u001b[0m\u001b[1m)\u001b[22m\n",
      "\u001b[90m    @ \u001b[39m\u001b[32mWebSockets\u001b[39m \u001b[90m~/.julia/packages/WebSockets/QcswW/src/\u001b[39m\u001b[90;4mHTTP.jl:201\u001b[0m\n",
      " [14] \u001b[0m\u001b[1m(::WebSockets.var\"#_servercoroutine#11\"{WebSockets.ServerWS})\u001b[22m\u001b[0m\u001b[1m(\u001b[22m\u001b[90mstream\u001b[39m::\u001b[0mHTTP.Streams.Stream\u001b[90m{HTTP.Messages.Request, HTTP.ConnectionPool.Transaction{Sockets.TCPSocket}}\u001b[39m\u001b[0m\u001b[1m)\u001b[22m\n",
      "\u001b[90m    @ \u001b[39m\u001b[32mWebSockets\u001b[39m \u001b[90m~/.julia/packages/WebSockets/QcswW/src/\u001b[39m\u001b[90;4mHTTP.jl:370\u001b[0m\n",
      " [15] \u001b[0m\u001b[1mmacro expansion\u001b[22m\n",
      "\u001b[90m    @ \u001b[39m\u001b[90m~/.julia/packages/HTTP/IAI92/src/\u001b[39m\u001b[90;4mServers.jl:367\u001b[0m\u001b[90m [inlined]\u001b[39m\n",
      " [16] \u001b[0m\u001b[1m(::HTTP.Servers.var\"#13#14\"{WebSockets.var\"#_servercoroutine#11\"{WebSockets.ServerWS}, HTTP.ConnectionPool.Transaction{Sockets.TCPSocket}, HTTP.Streams.Stream{HTTP.Messages.Request, HTTP.ConnectionPool.Transaction{Sockets.TCPSocket}}})\u001b[22m\u001b[0m\u001b[1m(\u001b[22m\u001b[0m\u001b[1m)\u001b[22m\n",
      "\u001b[90m    @ \u001b[39m\u001b[33mHTTP.Servers\u001b[39m \u001b[90m./\u001b[39m\u001b[90;4mtask.jl:411\u001b[0m\n",
      "\n",
      "\u001b[91m    nested task error: \u001b[39mWebSockets.WebSocketClosedError(\"ws|server respond to OPCODE_CLOSE 1001: Going Away\")\n",
      "    Stacktrace:\n",
      "     [1] \u001b[0m\u001b[1mhandle_control_frame\u001b[22m\u001b[0m\u001b[1m(\u001b[22m\u001b[90mws\u001b[39m::\u001b[0mWebSockets.WebSocket\u001b[90m{Sockets.TCPSocket}\u001b[39m, \u001b[90mwsf\u001b[39m::\u001b[0mWebSockets.WebSocketFragment\u001b[0m\u001b[1m)\u001b[22m\n",
      "    \u001b[90m   @ \u001b[39m\u001b[35mWebSockets\u001b[39m \u001b[90m~/.julia/packages/WebSockets/QcswW/src/\u001b[39m\u001b[90;4mWebSockets.jl:376\u001b[0m\n",
      "     [2] \u001b[0m\u001b[1mread\u001b[22m\u001b[0m\u001b[1m(\u001b[22m\u001b[90mws\u001b[39m::\u001b[0mWebSockets.WebSocket\u001b[90m{Sockets.TCPSocket}\u001b[39m\u001b[0m\u001b[1m)\u001b[22m\n",
      "    \u001b[90m   @ \u001b[39m\u001b[35mWebSockets\u001b[39m \u001b[90m~/.julia/packages/WebSockets/QcswW/src/\u001b[39m\u001b[90;4mWebSockets.jl:459\u001b[0m\n",
      "     [3] \u001b[0m\u001b[1mmacro expansion\u001b[22m\n",
      "    \u001b[90m   @ \u001b[39m\u001b[90m~/.julia/packages/WebIO/Fy9h1/src/providers/\u001b[39m\u001b[90;4mmux.jl:41\u001b[0m\u001b[90m [inlined]\u001b[39m\n",
      "     [4] \u001b[0m\u001b[1m(::WebIO.var\"#110#111\"{WebIO.WebSockConnection, WebSockets.WebSocket{Sockets.TCPSocket}})\u001b[22m\u001b[0m\u001b[1m(\u001b[22m\u001b[0m\u001b[1m)\u001b[22m\n",
      "    \u001b[90m   @ \u001b[39m\u001b[36mWebIO\u001b[39m \u001b[90m./\u001b[39m\u001b[90;4mtask.jl:411\u001b[0mError handling websocket connection:\n",
      "TaskFailedException\n",
      "Stacktrace:\n",
      "  [1] \u001b[0m\u001b[1mwait\u001b[22m\n",
      "\u001b[90m    @ \u001b[39m\u001b[90m./\u001b[39m\u001b[90;4mtask.jl:322\u001b[0m\u001b[90m [inlined]\u001b[39m\n",
      "  [2] \u001b[0m\u001b[1mcreate_socket\u001b[22m\u001b[0m\u001b[1m(\u001b[22m\u001b[90mreq\u001b[39m::\u001b[0mDict\u001b[90m{Any, Any}\u001b[39m\u001b[0m\u001b[1m)\u001b[22m\n",
      "\u001b[90m    @ \u001b[39m\u001b[35mWebIO\u001b[39m \u001b[90m~/.julia/packages/WebIO/Fy9h1/src/providers/\u001b[39m\u001b[90;4mmux.jl:47\u001b[0m\n",
      "  [3] \u001b[0m\u001b[1m(::Mux.var\"#5#6\"{Mux.var\"#29#30\"{Vector{SubString{String}}}, typeof(WebIO.create_socket)})\u001b[22m\u001b[0m\u001b[1m(\u001b[22m\u001b[90mf\u001b[39m::\u001b[0mFunction, \u001b[90mx\u001b[39m::\u001b[0mDict\u001b[90m{Any, Any}\u001b[39m\u001b[0m\u001b[1m)\u001b[22m\n",
      "\u001b[90m    @ \u001b[39m\u001b[36mMux\u001b[39m \u001b[90m~/.julia/packages/Mux/Ej61O/src/\u001b[39m\u001b[90;4mMux.jl:17\u001b[0m\n",
      "  [4] \u001b[0m\u001b[1m(::Mux.var\"#1#2\"{Mux.var\"#5#6\"{Mux.var\"#29#30\"{Vector{SubString{String}}}, typeof(WebIO.create_socket)}, Mux.var\"#1#2\"{typeof(Mux.wclose), Mux.var\"#1#2\"{Mux.var\"#19#20\"{Mux.var\"#23#24\"{Symbol, Int64}}, Mux.var\"#21#22\"{String}}}})\u001b[22m\u001b[0m\u001b[1m(\u001b[22m\u001b[90mx\u001b[39m::\u001b[0mDict\u001b[90m{Any, Any}\u001b[39m\u001b[0m\u001b[1m)\u001b[22m\n",
      "\u001b[90m    @ \u001b[39m\u001b[36mMux\u001b[39m \u001b[90m~/.julia/packages/Mux/Ej61O/src/\u001b[39m\u001b[90;4mMux.jl:10\u001b[0m\n",
      "  [5] \u001b[0m\u001b[1msplitquery\u001b[22m\u001b[0m\u001b[1m(\u001b[22m\u001b[90mapp\u001b[39m::\u001b[0mMux.var\"#1#2\"\u001b[90m{Mux.var\"#5#6\"{Mux.var\"#29#30\"{Vector{SubString{String}}}, typeof(WebIO.create_socket)}, Mux.var\"#1#2\"{typeof(Mux.wclose), Mux.var\"#1#2\"{Mux.var\"#19#20\"{Mux.var\"#23#24\"{Symbol, Int64}}, Mux.var\"#21#22\"{String}}}}\u001b[39m, \u001b[90mreq\u001b[39m::\u001b[0mDict\u001b[90m{Any, Any}\u001b[39m\u001b[0m\u001b[1m)\u001b[22m\n",
      "\u001b[90m    @ \u001b[39m\u001b[36mMux\u001b[39m \u001b[90m~/.julia/packages/Mux/Ej61O/src/\u001b[39m\u001b[90;4mbasics.jl:31\u001b[0m\n",
      "  [6] \u001b[0m\u001b[1m#1\u001b[22m\n",
      "\u001b[90m    @ \u001b[39m\u001b[90m~/.julia/packages/Mux/Ej61O/src/\u001b[39m\u001b[90;4mMux.jl:10\u001b[0m\u001b[90m [inlined]\u001b[39m\n",
      "  [7] \u001b[0m\u001b[1mwcatch\u001b[22m\u001b[0m\u001b[1m(\u001b[22m\u001b[90mapp\u001b[39m::\u001b[0mMux.var\"#1#2\"\u001b[90m{typeof(Mux.splitquery), Mux.var\"#1#2\"{Mux.var\"#5#6\"{Mux.var\"#29#30\"{Vector{SubString{String}}}, typeof(WebIO.create_socket)}, Mux.var\"#1#2\"{typeof(Mux.wclose), Mux.var\"#1#2\"{Mux.var\"#19#20\"{Mux.var\"#23#24\"{Symbol, Int64}}, Mux.var\"#21#22\"{String}}}}}\u001b[39m, \u001b[90mreq\u001b[39m::\u001b[0mDict\u001b[90m{Any, Any}\u001b[39m\u001b[0m\u001b[1m)\u001b[22m\n",
      "\u001b[90m    @ \u001b[39m\u001b[36mMux\u001b[39m \u001b[90m~/.julia/packages/Mux/Ej61O/src/\u001b[39m\u001b[90;4mwebsockets_integration.jl:12\u001b[0m\n",
      "  [8] \u001b[0m\u001b[1m#1\u001b[22m\n",
      "\u001b[90m    @ \u001b[39m\u001b[90m~/.julia/packages/Mux/Ej61O/src/\u001b[39m\u001b[90;4mMux.jl:10\u001b[0m\u001b[90m [inlined]\u001b[39m\n",
      "  [9] \u001b[0m\u001b[1mtodict\u001b[22m\n",
      "\u001b[90m    @ \u001b[39m\u001b[90m~/.julia/packages/Mux/Ej61O/src/\u001b[39m\u001b[90;4mbasics.jl:25\u001b[0m\u001b[90m [inlined]\u001b[39m\n",
      " [10] \u001b[0m\u001b[1m#3\u001b[22m\u001b[90m (repeats 2 times)\u001b[39m\n",
      "\u001b[90m    @ \u001b[39m\u001b[90m~/.julia/packages/Mux/Ej61O/src/\u001b[39m\u001b[90;4mMux.jl:14\u001b[0m\u001b[90m [inlined]\u001b[39m\n",
      " [11] \u001b[0m\u001b[1m(::Mux.var\"#1#2\"{Mux.var\"#3#4\"{Mux.var\"#3#4\"{typeof(Mux.todict), typeof(Mux.wcatch)}, typeof(Mux.splitquery)}, Mux.var\"#1#2\"{Mux.var\"#5#6\"{Mux.var\"#29#30\"{Vector{SubString{String}}}, typeof(WebIO.create_socket)}, Mux.var\"#1#2\"{typeof(Mux.wclose), Mux.var\"#1#2\"{Mux.var\"#19#20\"{Mux.var\"#23#24\"{Symbol, Int64}}, Mux.var\"#21#22\"{String}}}}})\u001b[22m\u001b[0m\u001b[1m(\u001b[22m\u001b[90mx\u001b[39m::\u001b[0mTuple\u001b[90m{HTTP.Messages.Request, WebSockets.WebSocket{Sockets.TCPSocket}}\u001b[39m\u001b[0m\u001b[1m)\u001b[22m\n",
      "\u001b[90m    @ \u001b[39m\u001b[36mMux\u001b[39m \u001b[90m~/.julia/packages/Mux/Ej61O/src/\u001b[39m\u001b[90;4mMux.jl:10\u001b[0m\n",
      " [12] \u001b[0m\u001b[1m(::Mux.var\"#9#10\"{Mux.App})\u001b[22m\u001b[0m\u001b[1m(\u001b[22m\u001b[90mreq\u001b[39m::\u001b[0mHTTP.Messages.Request, \u001b[90mclient\u001b[39m::\u001b[0mWebSockets.WebSocket\u001b[90m{Sockets.TCPSocket}\u001b[39m\u001b[0m\u001b[1m)\u001b[22m\n",
      "\u001b[90m    @ \u001b[39m\u001b[36mMux\u001b[39m \u001b[90m~/.julia/packages/Mux/Ej61O/src/\u001b[39m\u001b[90;4mserver.jl:49\u001b[0m\n",
      " [13] \u001b[0m\u001b[1mupgrade\u001b[22m\u001b[0m\u001b[1m(\u001b[22m\u001b[90mf\u001b[39m::\u001b[0mMux.var\"#9#10\"\u001b[90m{Mux.App}\u001b[39m, \u001b[90mstream\u001b[39m::\u001b[0mHTTP.Streams.Stream\u001b[90m{HTTP.Messages.Request, HTTP.ConnectionPool.Transaction{Sockets.TCPSocket}}\u001b[39m\u001b[0m\u001b[1m)\u001b[22m\n",
      "\u001b[90m    @ \u001b[39m\u001b[32mWebSockets\u001b[39m \u001b[90m~/.julia/packages/WebSockets/QcswW/src/\u001b[39m\u001b[90;4mHTTP.jl:201\u001b[0m\n",
      " [14] \u001b[0m\u001b[1m(::WebSockets.var\"#_servercoroutine#11\"{WebSockets.ServerWS})\u001b[22m\u001b[0m\u001b[1m(\u001b[22m\u001b[90mstream\u001b[39m::\u001b[0mHTTP.Streams.Stream\u001b[90m{HTTP.Messages.Request, HTTP.ConnectionPool.Transaction{Sockets.TCPSocket}}\u001b[39m\u001b[0m\u001b[1m)\u001b[22m\n",
      "\u001b[90m    @ \u001b[39m\u001b[32mWebSockets\u001b[39m \u001b[90m~/.julia/packages/WebSockets/QcswW/src/\u001b[39m\u001b[90;4mHTTP.jl:370\u001b[0m\n",
      " [15] \u001b[0m\u001b[1mmacro expansion\u001b[22m\n"
     ]
    },
    {
     "name": "stderr",
     "output_type": "stream",
     "text": [
      "\u001b[90m    @ \u001b[39m\u001b[90m~/.julia/packages/HTTP/IAI92/src/\u001b[39m\u001b[90;4mServers.jl:367\u001b[0m\u001b[90m [inlined]\u001b[39m\n",
      " [16] \u001b[0m\u001b[1m(::HTTP.Servers.var\"#13#14\"{WebSockets.var\"#_servercoroutine#11\"{WebSockets.ServerWS}, HTTP.ConnectionPool.Transaction{Sockets.TCPSocket}, HTTP.Streams.Stream{HTTP.Messages.Request, HTTP.ConnectionPool.Transaction{Sockets.TCPSocket}}})\u001b[22m\u001b[0m\u001b[1m(\u001b[22m\u001b[0m\u001b[1m)\u001b[22m\n",
      "\u001b[90m    @ \u001b[39m\u001b[33mHTTP.Servers\u001b[39m \u001b[90m./\u001b[39m\u001b[90;4mtask.jl:411\u001b[0m\n",
      "\n",
      "\u001b[91m    nested task error: \u001b[39mWebSockets.WebSocketClosedError(\"ws|server respond to OPCODE_CLOSE 1001: Going Away\")\n",
      "    Stacktrace:\n",
      "     [1] \u001b[0m\u001b[1mhandle_control_frame\u001b[22m\u001b[0m\u001b[1m(\u001b[22m\u001b[90mws\u001b[39m::\u001b[0mWebSockets.WebSocket\u001b[90m{Sockets.TCPSocket}\u001b[39m, \u001b[90mwsf\u001b[39m::\u001b[0mWebSockets.WebSocketFragment\u001b[0m\u001b[1m)\u001b[22m\n",
      "    \u001b[90m   @ \u001b[39m\u001b[35mWebSockets\u001b[39m \u001b[90m~/.julia/packages/WebSockets/QcswW/src/\u001b[39m\u001b[90;4mWebSockets.jl:376\u001b[0m\n",
      "     [2] \u001b[0m\u001b[1mread\u001b[22m\u001b[0m\u001b[1m(\u001b[22m\u001b[90mws\u001b[39m::\u001b[0mWebSockets.WebSocket\u001b[90m{Sockets.TCPSocket}\u001b[39m\u001b[0m\u001b[1m)\u001b[22m\n",
      "    \u001b[90m   @ \u001b[39m\u001b[35mWebSockets\u001b[39m \u001b[90m~/.julia/packages/WebSockets/QcswW/src/\u001b[39m\u001b[90;4mWebSockets.jl:459\u001b[0m\n",
      "     [3] \u001b[0m\u001b[1mmacro expansion\u001b[22m\n",
      "    \u001b[90m   @ \u001b[39m\u001b[90m~/.julia/packages/WebIO/Fy9h1/src/providers/\u001b[39m\u001b[90;4mmux.jl:41\u001b[0m\u001b[90m [inlined]\u001b[39m\n",
      "     [4] \u001b[0m\u001b[1m(::WebIO.var\"#110#111\"{WebIO.WebSockConnection, WebSockets.WebSocket{Sockets.TCPSocket}})\u001b[22m\u001b[0m\u001b[1m(\u001b[22m\u001b[0m\u001b[1m)\u001b[22m\n",
      "    \u001b[90m   @ \u001b[39m\u001b[36mWebIO\u001b[39m \u001b[90m./\u001b[39m\u001b[90;4mtask.jl:411\u001b[0mError handling websocket connection:\n",
      "TaskFailedException\n",
      "Stacktrace:\n",
      "  [1] \u001b[0m\u001b[1mwait\u001b[22m\n",
      "\u001b[90m    @ \u001b[39m\u001b[90m./\u001b[39m\u001b[90;4mtask.jl:322\u001b[0m\u001b[90m [inlined]\u001b[39m\n",
      "  [2] \u001b[0m\u001b[1mcreate_socket\u001b[22m\u001b[0m\u001b[1m(\u001b[22m\u001b[90mreq\u001b[39m::\u001b[0mDict\u001b[90m{Any, Any}\u001b[39m\u001b[0m\u001b[1m)\u001b[22m\n",
      "\u001b[90m    @ \u001b[39m\u001b[35mWebIO\u001b[39m \u001b[90m~/.julia/packages/WebIO/Fy9h1/src/providers/\u001b[39m\u001b[90;4mmux.jl:47\u001b[0m\n",
      "  [3] \u001b[0m\u001b[1m(::Mux.var\"#5#6\"{Mux.var\"#29#30\"{Vector{SubString{String}}}, typeof(WebIO.create_socket)})\u001b[22m\u001b[0m\u001b[1m(\u001b[22m\u001b[90mf\u001b[39m::\u001b[0mFunction, \u001b[90mx\u001b[39m::\u001b[0mDict\u001b[90m{Any, Any}\u001b[39m\u001b[0m\u001b[1m)\u001b[22m\n",
      "\u001b[90m    @ \u001b[39m\u001b[36mMux\u001b[39m \u001b[90m~/.julia/packages/Mux/Ej61O/src/\u001b[39m\u001b[90;4mMux.jl:17\u001b[0m\n",
      "  [4] \u001b[0m\u001b[1m(::Mux.var\"#1#2\"{Mux.var\"#5#6\"{Mux.var\"#29#30\"{Vector{SubString{String}}}, typeof(WebIO.create_socket)}, Mux.var\"#1#2\"{typeof(Mux.wclose), Mux.var\"#1#2\"{Mux.var\"#19#20\"{Mux.var\"#23#24\"{Symbol, Int64}}, Mux.var\"#21#22\"{String}}}})\u001b[22m\u001b[0m\u001b[1m(\u001b[22m\u001b[90mx\u001b[39m::\u001b[0mDict\u001b[90m{Any, Any}\u001b[39m\u001b[0m\u001b[1m)\u001b[22m\n",
      "\u001b[90m    @ \u001b[39m\u001b[36mMux\u001b[39m \u001b[90m~/.julia/packages/Mux/Ej61O/src/\u001b[39m\u001b[90;4mMux.jl:10\u001b[0m\n",
      "  [5] \u001b[0m\u001b[1msplitquery\u001b[22m\u001b[0m\u001b[1m(\u001b[22m\u001b[90mapp\u001b[39m::\u001b[0mMux.var\"#1#2\"\u001b[90m{Mux.var\"#5#6\"{Mux.var\"#29#30\"{Vector{SubString{String}}}, typeof(WebIO.create_socket)}, Mux.var\"#1#2\"{typeof(Mux.wclose), Mux.var\"#1#2\"{Mux.var\"#19#20\"{Mux.var\"#23#24\"{Symbol, Int64}}, Mux.var\"#21#22\"{String}}}}\u001b[39m, \u001b[90mreq\u001b[39m::\u001b[0mDict\u001b[90m{Any, Any}\u001b[39m\u001b[0m\u001b[1m)\u001b[22m\n",
      "\u001b[90m    @ \u001b[39m\u001b[36mMux\u001b[39m \u001b[90m~/.julia/packages/Mux/Ej61O/src/\u001b[39m\u001b[90;4mbasics.jl:31\u001b[0m\n",
      "  [6] \u001b[0m\u001b[1m#1\u001b[22m\n",
      "\u001b[90m    @ \u001b[39m\u001b[90m~/.julia/packages/Mux/Ej61O/src/\u001b[39m\u001b[90;4mMux.jl:10\u001b[0m\u001b[90m [inlined]\u001b[39m\n",
      "  [7] \u001b[0m\u001b[1mwcatch\u001b[22m\u001b[0m\u001b[1m(\u001b[22m\u001b[90mapp\u001b[39m::\u001b[0mMux.var\"#1#2\"\u001b[90m{typeof(Mux.splitquery), Mux.var\"#1#2\"{Mux.var\"#5#6\"{Mux.var\"#29#30\"{Vector{SubString{String}}}, typeof(WebIO.create_socket)}, Mux.var\"#1#2\"{typeof(Mux.wclose), Mux.var\"#1#2\"{Mux.var\"#19#20\"{Mux.var\"#23#24\"{Symbol, Int64}}, Mux.var\"#21#22\"{String}}}}}\u001b[39m, \u001b[90mreq\u001b[39m::\u001b[0mDict\u001b[90m{Any, Any}\u001b[39m\u001b[0m\u001b[1m)\u001b[22m\n",
      "\u001b[90m    @ \u001b[39m\u001b[36mMux\u001b[39m \u001b[90m~/.julia/packages/Mux/Ej61O/src/\u001b[39m\u001b[90;4mwebsockets_integration.jl:12\u001b[0m\n",
      "  [8] \u001b[0m\u001b[1m#1\u001b[22m\n",
      "\u001b[90m    @ \u001b[39m\u001b[90m~/.julia/packages/Mux/Ej61O/src/\u001b[39m\u001b[90;4mMux.jl:10\u001b[0m\u001b[90m [inlined]\u001b[39m\n",
      "  [9] \u001b[0m\u001b[1mtodict\u001b[22m\n",
      "\u001b[90m    @ \u001b[39m\u001b[90m~/.julia/packages/Mux/Ej61O/src/\u001b[39m\u001b[90;4mbasics.jl:25\u001b[0m\u001b[90m [inlined]\u001b[39m\n",
      " [10] \u001b[0m\u001b[1m#3\u001b[22m\u001b[90m (repeats 2 times)\u001b[39m\n",
      "\u001b[90m    @ \u001b[39m\u001b[90m~/.julia/packages/Mux/Ej61O/src/\u001b[39m\u001b[90;4mMux.jl:14\u001b[0m\u001b[90m [inlined]\u001b[39m\n",
      " [11] \u001b[0m\u001b[1m(::Mux.var\"#1#2\"{Mux.var\"#3#4\"{Mux.var\"#3#4\"{typeof(Mux.todict), typeof(Mux.wcatch)}, typeof(Mux.splitquery)}, Mux.var\"#1#2\"{Mux.var\"#5#6\"{Mux.var\"#29#30\"{Vector{SubString{String}}}, typeof(WebIO.create_socket)}, Mux.var\"#1#2\"{typeof(Mux.wclose), Mux.var\"#1#2\"{Mux.var\"#19#20\"{Mux.var\"#23#24\"{Symbol, Int64}}, Mux.var\"#21#22\"{String}}}}})\u001b[22m\u001b[0m\u001b[1m(\u001b[22m\u001b[90mx\u001b[39m::\u001b[0mTuple\u001b[90m{HTTP.Messages.Request, WebSockets.WebSocket{Sockets.TCPSocket}}\u001b[39m\u001b[0m\u001b[1m)\u001b[22m\n",
      "\u001b[90m    @ \u001b[39m\u001b[36mMux\u001b[39m \u001b[90m~/.julia/packages/Mux/Ej61O/src/\u001b[39m\u001b[90;4mMux.jl:10\u001b[0m\n",
      " [12] \u001b[0m\u001b[1m(::Mux.var\"#9#10\"{Mux.App})\u001b[22m\u001b[0m\u001b[1m(\u001b[22m\u001b[90mreq\u001b[39m::\u001b[0mHTTP.Messages.Request, \u001b[90mclient\u001b[39m::\u001b[0mWebSockets.WebSocket\u001b[90m{Sockets.TCPSocket}\u001b[39m\u001b[0m\u001b[1m)\u001b[22m\n",
      "\u001b[90m    @ \u001b[39m\u001b[36mMux\u001b[39m \u001b[90m~/.julia/packages/Mux/Ej61O/src/\u001b[39m\u001b[90;4mserver.jl:49\u001b[0m\n",
      " [13] \u001b[0m\u001b[1mupgrade\u001b[22m\u001b[0m\u001b[1m(\u001b[22m\u001b[90mf\u001b[39m::\u001b[0mMux.var\"#9#10\"\u001b[90m{Mux.App}\u001b[39m, \u001b[90mstream\u001b[39m::\u001b[0mHTTP.Streams.Stream\u001b[90m{HTTP.Messages.Request, HTTP.ConnectionPool.Transaction{Sockets.TCPSocket}}\u001b[39m\u001b[0m\u001b[1m)\u001b[22m\n",
      "\u001b[90m    @ \u001b[39m\u001b[32mWebSockets\u001b[39m \u001b[90m~/.julia/packages/WebSockets/QcswW/src/\u001b[39m\u001b[90;4mHTTP.jl:201\u001b[0m\n",
      " [14] \u001b[0m\u001b[1m(::WebSockets.var\"#_servercoroutine#11\"{WebSockets.ServerWS})\u001b[22m\u001b[0m\u001b[1m(\u001b[22m\u001b[90mstream\u001b[39m::\u001b[0mHTTP.Streams.Stream\u001b[90m{HTTP.Messages.Request, HTTP.ConnectionPool.Transaction{Sockets.TCPSocket}}\u001b[39m\u001b[0m\u001b[1m)\u001b[22m\n",
      "\u001b[90m    @ \u001b[39m\u001b[32mWebSockets\u001b[39m \u001b[90m~/.julia/packages/WebSockets/QcswW/src/\u001b[39m\u001b[90;4mHTTP.jl:370\u001b[0m\n",
      " [15] \u001b[0m\u001b[1mmacro expansion\u001b[22m\n",
      "\u001b[90m    @ \u001b[39m\u001b[90m~/.julia/packages/HTTP/IAI92/src/\u001b[39m\u001b[90;4mServers.jl:367\u001b[0m\u001b[90m [inlined]\u001b[39m\n",
      " [16] \u001b[0m\u001b[1m(::HTTP.Servers.var\"#13#14\"{WebSockets.var\"#_servercoroutine#11\"{WebSockets.ServerWS}, HTTP.ConnectionPool.Transaction{Sockets.TCPSocket}, HTTP.Streams.Stream{HTTP.Messages.Request, HTTP.ConnectionPool.Transaction{Sockets.TCPSocket}}})\u001b[22m\u001b[0m\u001b[1m(\u001b[22m\u001b[0m\u001b[1m)\u001b[22m\n",
      "\u001b[90m    @ \u001b[39m\u001b[33mHTTP.Servers\u001b[39m \u001b[90m./\u001b[39m\u001b[90;4mtask.jl:411\u001b[0m\n",
      "\n",
      "\u001b[91m    nested task error: \u001b[39mWebSockets.WebSocketClosedError(\"ws|server respond to OPCODE_CLOSE 1001: Going Away\")\n",
      "    Stacktrace:\n",
      "     [1] \u001b[0m\u001b[1mhandle_control_frame\u001b[22m\u001b[0m\u001b[1m(\u001b[22m\u001b[90mws\u001b[39m::\u001b[0mWebSockets.WebSocket\u001b[90m{Sockets.TCPSocket}\u001b[39m, \u001b[90mwsf\u001b[39m::\u001b[0mWebSockets.WebSocketFragment\u001b[0m\u001b[1m)\u001b[22m\n",
      "    \u001b[90m   @ \u001b[39m\u001b[35mWebSockets\u001b[39m \u001b[90m~/.julia/packages/WebSockets/QcswW/src/\u001b[39m\u001b[90;4mWebSockets.jl:376\u001b[0m\n",
      "     [2] \u001b[0m\u001b[1mread\u001b[22m\u001b[0m\u001b[1m(\u001b[22m\u001b[90mws\u001b[39m::\u001b[0mWebSockets.WebSocket\u001b[90m{Sockets.TCPSocket}\u001b[39m\u001b[0m\u001b[1m)\u001b[22m\n",
      "    \u001b[90m   @ \u001b[39m\u001b[35mWebSockets\u001b[39m \u001b[90m~/.julia/packages/WebSockets/QcswW/src/\u001b[39m\u001b[90;4mWebSockets.jl:459\u001b[0m\n",
      "     [3] \u001b[0m\u001b[1mmacro expansion\u001b[22m\n",
      "    \u001b[90m   @ \u001b[39m\u001b[90m~/.julia/packages/WebIO/Fy9h1/src/providers/\u001b[39m\u001b[90;4mmux.jl:41\u001b[0m\u001b[90m [inlined]\u001b[39m\n",
      "     [4] \u001b[0m\u001b[1m(::WebIO.var\"#110#111\"{WebIO.WebSockConnection, WebSockets.WebSocket{Sockets.TCPSocket}})\u001b[22m\u001b[0m\u001b[1m(\u001b[22m\u001b[0m\u001b[1m)\u001b[22m\n",
      "    \u001b[90m   @ \u001b[39m\u001b[36mWebIO\u001b[39m \u001b[90m./\u001b[39m\u001b[90;4mtask.jl:411\u001b[0m"
     ]
    },
    {
     "name": "stdout",
     "output_type": "stream",
     "text": [
      "Hello!\n",
      "Hello!\n",
      "Hello!\n",
      "Hello!\n",
      "Hello!\n",
      "Hello!\n"
     ]
    }
   ],
   "source": [
    "WebIO.webio_serve(page(\"/\", req -> ui), 8766)"
   ]
  },
  {
   "cell_type": "code",
   "execution_count": 26,
   "id": "4aef9c78",
   "metadata": {},
   "outputs": [
    {
     "ename": "LoadError",
     "evalue": "MethodError: no method matching schedule(::UInt64, ::InterruptException; error=true)\n\u001b[0mClosest candidates are:\n\u001b[0m  schedule(\u001b[91m::Task\u001b[39m, ::Any; error) at task.jl:636",
     "output_type": "error",
     "traceback": [
      "MethodError: no method matching schedule(::UInt64, ::InterruptException; error=true)\n\u001b[0mClosest candidates are:\n\u001b[0m  schedule(\u001b[91m::Task\u001b[39m, ::Any; error) at task.jl:636",
      "",
      "Stacktrace:",
      " [1] top-level scope",
      "   @ In[26]:1",
      " [2] eval",
      "   @ ./boot.jl:360 [inlined]",
      " [3] include_string(mapexpr::typeof(REPL.softscope), mod::Module, code::String, filename::String)",
      "   @ Base ./loading.jl:1094"
     ]
    }
   ],
   "source": [
    "schedule(t, InterruptException(), error=true)"
   ]
  },
  {
   "cell_type": "code",
   "execution_count": 24,
   "id": "8d6ae10e",
   "metadata": {},
   "outputs": [
    {
     "data": {
      "text/plain": [
       "0x6a09a3011bf9dabc"
      ]
     },
     "execution_count": 24,
     "metadata": {},
     "output_type": "execute_result"
    }
   ],
   "source": [
    "t = objectid(0x000000013bc59990)"
   ]
  },
  {
   "cell_type": "code",
   "execution_count": 2,
   "id": "14d6d67a",
   "metadata": {},
   "outputs": [
    {
     "data": {
      "text/plain": [
       "mycolorpicker (generic function with 1 method)"
      ]
     },
     "execution_count": 2,
     "metadata": {},
     "output_type": "execute_result"
    }
   ],
   "source": [
    "import Colors\n",
    "using Plots\n",
    "\n",
    "function mycolorpicker()\n",
    "    r = slider(0:255, label = \"red\")\n",
    "    g = slider(0:255, label = \"green\")\n",
    "    b = slider(0:255, label = \"blue\")\n",
    "    output = Interact.@map Colors.RGB(&r/255, &g/255, &b/255)\n",
    "    plt = Interact.@map plot(sin, color = &output)\n",
    "    wdg = Widget([\"r\" => r, \"g\" => g, \"b\" => b], output = output)\n",
    "    @layout! wdg hbox(plt, vbox(:r, :g, :b)) ## custom layout: by default things are stacked vertically\n",
    "end"
   ]
  },
  {
   "cell_type": "code",
   "execution_count": 3,
   "id": "1d313fa7",
   "metadata": {},
   "outputs": [
    {
     "data": {
      "application/vnd.webio.node+json": {
       "children": [
        {
         "children": [
          {
           "children": [],
           "instanceArgs": {
            "namespace": "html",
            "tag": "div"
           },
           "nodeType": "DOM",
           "props": {
            "className": "webio-observable",
            "setInnerHtml": "<?xml version=\"1.0\" encoding=\"utf-8\"?>\n<svg xmlns=\"http://www.w3.org/2000/svg\" xmlns:xlink=\"http://www.w3.org/1999/xlink\" width=\"600\" height=\"400\" viewBox=\"0 0 2400 1600\">\n<defs>\n  <clipPath id=\"clip380\">\n    <rect x=\"0\" y=\"0\" width=\"2400\" height=\"1600\"/>\n  </clipPath>\n</defs>\n<path clip-path=\"url(#clip380)\" d=\"\nM0 1600 L2400 1600 L2400 0 L0 0  Z\n  \" fill=\"#ffffff\" fill-rule=\"evenodd\" fill-opacity=\"1\"/>\n<defs>\n  <clipPath id=\"clip381\">\n    <rect x=\"480\" y=\"0\" width=\"1681\" height=\"1600\"/>\n  </clipPath>\n</defs>\n<path clip-path=\"url(#clip380)\" d=\"\nM193.936 1486.45 L2352.76 1486.45 L2352.76 47.2441 L193.936 47.2441  Z\n  \" fill=\"#ffffff\" fill-rule=\"evenodd\" fill-opacity=\"1\"/>\n<defs>\n  <clipPath id=\"clip382\">\n    <rect x=\"193\" y=\"47\" width=\"2160\" height=\"1440\"/>\n  </clipPath>\n</defs>\n<polyline clip-path=\"url(#clip382)\" style=\"stroke:#000000; stroke-width:2; stroke-opacity:0.1; fill:none\" points=\"\n  458.697,1486.45 458.697,47.2441 \n  \"/>\n<polyline clip-path=\"url(#clip382)\" style=\"stroke:#000000; stroke-width:2; stroke-opacity:0.1; fill:none\" points=\"\n  866.021,1486.45 866.021,47.2441 \n  \"/>\n<polyline clip-path=\"url(#clip382)\" style=\"stroke:#000000; stroke-width:2; stroke-opacity:0.1; fill:none\" points=\"\n  1273.35,1486.45 1273.35,47.2441 \n  \"/>\n<polyline clip-path=\"url(#clip382)\" style=\"stroke:#000000; stroke-width:2; stroke-opacity:0.1; fill:none\" points=\"\n  1680.67,1486.45 1680.67,47.2441 \n  \"/>\n<polyline clip-path=\"url(#clip382)\" style=\"stroke:#000000; stroke-width:2; stroke-opacity:0.1; fill:none\" points=\"\n  2087.99,1486.45 2087.99,47.2441 \n  \"/>\n<polyline clip-path=\"url(#clip380)\" style=\"stroke:#000000; stroke-width:4; stroke-opacity:1; fill:none\" points=\"\n  193.936,1486.45 2352.76,1486.45 \n  \"/>\n<polyline clip-path=\"url(#clip380)\" style=\"stroke:#000000; stroke-width:4; stroke-opacity:1; fill:none\" points=\"\n  458.697,1486.45 458.697,1469.18 \n  \"/>\n<polyline clip-path=\"url(#clip380)\" style=\"stroke:#000000; stroke-width:4; stroke-opacity:1; fill:none\" points=\"\n  866.021,1486.45 866.021,1469.18 \n  \"/>\n<polyline clip-path=\"url(#clip380)\" style=\"stroke:#000000; stroke-width:4; stroke-opacity:1; fill:none\" points=\"\n  1273.35,1486.45 1273.35,1469.18 \n  \"/>\n<polyline clip-path=\"url(#clip380)\" style=\"stroke:#000000; stroke-width:4; stroke-opacity:1; fill:none\" points=\"\n  1680.67,1486.45 1680.67,1469.18 \n  \"/>\n<polyline clip-path=\"url(#clip380)\" style=\"stroke:#000000; stroke-width:4; stroke-opacity:1; fill:none\" points=\"\n  2087.99,1486.45 2087.99,1469.18 \n  \"/>\n<path clip-path=\"url(#clip380)\" d=\"M 0 0 M427.598 1530.29 L457.273 1530.29 L457.273 1534.23 L427.598 1534.23 L427.598 1530.29 Z\" fill=\"#000000\" fill-rule=\"evenodd\" fill-opacity=\"1\" /><path clip-path=\"url(#clip380)\" d=\"M 0 0 M480.213 1516.63 L468.408 1535.08 L480.213 1535.08 L480.213 1516.63 M478.986 1512.56 L484.866 1512.56 L484.866 1535.08 L489.796 1535.08 L489.796 1538.97 L484.866 1538.97 L484.866 1547.12 L480.213 1547.12 L480.213 1538.97 L464.611 1538.97 L464.611 1534.46 L478.986 1512.56 Z\" fill=\"#000000\" fill-rule=\"evenodd\" fill-opacity=\"1\" /><path clip-path=\"url(#clip380)\" d=\"M 0 0 M835.964 1530.29 L865.639 1530.29 L865.639 1534.23 L835.964 1534.23 L835.964 1530.29 Z\" fill=\"#000000\" fill-rule=\"evenodd\" fill-opacity=\"1\" /><path clip-path=\"url(#clip380)\" d=\"M 0 0 M879.76 1543.18 L896.079 1543.18 L896.079 1547.12 L874.135 1547.12 L874.135 1543.18 Q876.797 1540.43 881.38 1535.8 Q885.987 1531.15 887.167 1529.81 Q889.413 1527.28 890.292 1525.55 Q891.195 1523.79 891.195 1522.1 Q891.195 1519.34 889.25 1517.61 Q887.329 1515.87 884.227 1515.87 Q882.028 1515.87 879.575 1516.63 Q877.144 1517.4 874.366 1518.95 L874.366 1514.23 Q877.19 1513.09 879.644 1512.51 Q882.098 1511.93 884.135 1511.93 Q889.505 1511.93 892.7 1514.62 Q895.894 1517.31 895.894 1521.8 Q895.894 1523.93 895.084 1525.85 Q894.297 1527.74 892.19 1530.34 Q891.612 1531.01 888.51 1534.23 Q885.408 1537.42 879.76 1543.18 Z\" fill=\"#000000\" fill-rule=\"evenodd\" fill-opacity=\"1\" /><path clip-path=\"url(#clip380)\" d=\"M 0 0 M1273.35 1515.64 Q1269.73 1515.64 1267.91 1519.2 Q1266.1 1522.75 1266.1 1529.87 Q1266.1 1536.98 1267.91 1540.55 Q1269.73 1544.09 1273.35 1544.09 Q1276.98 1544.09 1278.79 1540.55 Q1280.61 1536.98 1280.61 1529.87 Q1280.61 1522.75 1278.79 1519.2 Q1276.98 1515.64 1273.35 1515.64 M1273.35 1511.93 Q1279.16 1511.93 1282.21 1516.54 Q1285.29 1521.12 1285.29 1529.87 Q1285.29 1538.6 1282.21 1543.21 Q1279.16 1547.79 1273.35 1547.79 Q1267.54 1547.79 1264.46 1543.21 Q1261.4 1538.6 1261.4 1529.87 Q1261.4 1521.12 1264.46 1516.54 Q1267.54 1511.93 1273.35 1511.93 Z\" fill=\"#000000\" fill-rule=\"evenodd\" fill-opacity=\"1\" /><path clip-path=\"url(#clip380)\" d=\"M 0 0 M1675.32 1543.18 L1691.64 1543.18 L1691.64 1547.12 L1669.7 1547.12 L1669.7 1543.18 Q1672.36 1540.43 1676.94 1535.8 Q1681.55 1531.15 1682.73 1529.81 Q1684.98 1527.28 1685.86 1525.55 Q1686.76 1523.79 1686.76 1522.1 Q1686.76 1519.34 1684.81 1517.61 Q1682.89 1515.87 1679.79 1515.87 Q1677.59 1515.87 1675.14 1516.63 Q1672.71 1517.4 1669.93 1518.95 L1669.93 1514.23 Q1672.75 1513.09 1675.21 1512.51 Q1677.66 1511.93 1679.7 1511.93 Q1685.07 1511.93 1688.26 1514.62 Q1691.46 1517.31 1691.46 1521.8 Q1691.46 1523.93 1690.65 1525.85 Q1689.86 1527.74 1687.75 1530.34 Q1687.18 1531.01 1684.07 1534.23 Q1680.97 1537.42 1675.32 1543.18 Z\" fill=\"#000000\" fill-rule=\"evenodd\" fill-opacity=\"1\" /><path clip-path=\"url(#clip380)\" d=\"M 0 0 M2091 1516.63 L2079.2 1535.08 L2091 1535.08 L2091 1516.63 M2089.78 1512.56 L2095.66 1512.56 L2095.66 1535.08 L2100.59 1535.08 L2100.59 1538.97 L2095.66 1538.97 L2095.66 1547.12 L2091 1547.12 L2091 1538.97 L2075.4 1538.97 L2075.4 1534.46 L2089.78 1512.56 Z\" fill=\"#000000\" fill-rule=\"evenodd\" fill-opacity=\"1\" /><polyline clip-path=\"url(#clip382)\" style=\"stroke:#000000; stroke-width:2; stroke-opacity:0.1; fill:none\" points=\"\n  193.936,1445.9 2352.76,1445.9 \n  \"/>\n<polyline clip-path=\"url(#clip382)\" style=\"stroke:#000000; stroke-width:2; stroke-opacity:0.1; fill:none\" points=\"\n  193.936,1106.31 2352.76,1106.31 \n  \"/>\n<polyline clip-path=\"url(#clip382)\" style=\"stroke:#000000; stroke-width:2; stroke-opacity:0.1; fill:none\" points=\"\n  193.936,766.721 2352.76,766.721 \n  \"/>\n<polyline clip-path=\"url(#clip382)\" style=\"stroke:#000000; stroke-width:2; stroke-opacity:0.1; fill:none\" points=\"\n  193.936,427.131 2352.76,427.131 \n  \"/>\n<polyline clip-path=\"url(#clip382)\" style=\"stroke:#000000; stroke-width:2; stroke-opacity:0.1; fill:none\" points=\"\n  193.936,87.5412 2352.76,87.5412 \n  \"/>\n<polyline clip-path=\"url(#clip380)\" style=\"stroke:#000000; stroke-width:4; stroke-opacity:1; fill:none\" points=\"\n  193.936,1486.45 193.936,47.2441 \n  \"/>\n<polyline clip-path=\"url(#clip380)\" style=\"stroke:#000000; stroke-width:4; stroke-opacity:1; fill:none\" points=\"\n  193.936,1445.9 219.842,1445.9 \n  \"/>\n<polyline clip-path=\"url(#clip380)\" style=\"stroke:#000000; stroke-width:4; stroke-opacity:1; fill:none\" points=\"\n  193.936,1106.31 219.842,1106.31 \n  \"/>\n<polyline clip-path=\"url(#clip380)\" style=\"stroke:#000000; stroke-width:4; stroke-opacity:1; fill:none\" points=\"\n  193.936,766.721 219.842,766.721 \n  \"/>\n<polyline clip-path=\"url(#clip380)\" style=\"stroke:#000000; stroke-width:4; stroke-opacity:1; fill:none\" points=\"\n  193.936,427.131 219.842,427.131 \n  \"/>\n<polyline clip-path=\"url(#clip380)\" style=\"stroke:#000000; stroke-width:4; stroke-opacity:1; fill:none\" points=\"\n  193.936,87.5412 219.842,87.5412 \n  \"/>\n<path clip-path=\"url(#clip380)\" d=\"M 0 0 M50.9921 1446.35 L80.6679 1446.35 L80.6679 1450.29 L50.9921 1450.29 L50.9921 1446.35 Z\" fill=\"#000000\" fill-rule=\"evenodd\" fill-opacity=\"1\" /><path clip-path=\"url(#clip380)\" d=\"M 0 0 M91.5706 1459.25 L99.2095 1459.25 L99.2095 1432.88 L90.8993 1434.55 L90.8993 1430.29 L99.1632 1428.62 L103.839 1428.62 L103.839 1459.25 L111.478 1459.25 L111.478 1463.18 L91.5706 1463.18 L91.5706 1459.25 Z\" fill=\"#000000\" fill-rule=\"evenodd\" fill-opacity=\"1\" /><path clip-path=\"url(#clip380)\" d=\"M 0 0 M120.922 1457.3 L125.807 1457.3 L125.807 1463.18 L120.922 1463.18 L120.922 1457.3 Z\" fill=\"#000000\" fill-rule=\"evenodd\" fill-opacity=\"1\" /><path clip-path=\"url(#clip380)\" d=\"M 0 0 M145.992 1431.7 Q142.381 1431.7 140.552 1435.27 Q138.746 1438.81 138.746 1445.94 Q138.746 1453.04 140.552 1456.61 Q142.381 1460.15 145.992 1460.15 Q149.626 1460.15 151.431 1456.61 Q153.26 1453.04 153.26 1445.94 Q153.26 1438.81 151.431 1435.27 Q149.626 1431.7 145.992 1431.7 M145.992 1428 Q151.802 1428 154.857 1432.6 Q157.936 1437.19 157.936 1445.94 Q157.936 1454.66 154.857 1459.27 Q151.802 1463.85 145.992 1463.85 Q140.181 1463.85 137.103 1459.27 Q134.047 1454.66 134.047 1445.94 Q134.047 1437.19 137.103 1432.6 Q140.181 1428 145.992 1428 Z\" fill=\"#000000\" fill-rule=\"evenodd\" fill-opacity=\"1\" /><path clip-path=\"url(#clip380)\" d=\"M 0 0 M51.9875 1106.76 L81.6633 1106.76 L81.6633 1110.7 L51.9875 1110.7 L51.9875 1106.76 Z\" fill=\"#000000\" fill-rule=\"evenodd\" fill-opacity=\"1\" /><path clip-path=\"url(#clip380)\" d=\"M 0 0 M101.756 1092.11 Q98.1447 1092.11 96.316 1095.68 Q94.5104 1099.22 94.5104 1106.35 Q94.5104 1113.45 96.316 1117.02 Q98.1447 1120.56 101.756 1120.56 Q105.39 1120.56 107.196 1117.02 Q109.024 1113.45 109.024 1106.35 Q109.024 1099.22 107.196 1095.68 Q105.39 1092.11 101.756 1092.11 M101.756 1088.41 Q107.566 1088.41 110.621 1093.01 Q113.7 1097.6 113.7 1106.35 Q113.7 1115.07 110.621 1119.68 Q107.566 1124.26 101.756 1124.26 Q95.9456 1124.26 92.8669 1119.68 Q89.8114 1115.07 89.8114 1106.35 Q89.8114 1097.6 92.8669 1093.01 Q95.9456 1088.41 101.756 1088.41 Z\" fill=\"#000000\" fill-rule=\"evenodd\" fill-opacity=\"1\" /><path clip-path=\"url(#clip380)\" d=\"M 0 0 M121.918 1117.71 L126.802 1117.71 L126.802 1123.59 L121.918 1123.59 L121.918 1117.71 Z\" fill=\"#000000\" fill-rule=\"evenodd\" fill-opacity=\"1\" /><path clip-path=\"url(#clip380)\" d=\"M 0 0 M137.033 1089.03 L155.39 1089.03 L155.39 1092.97 L141.316 1092.97 L141.316 1101.44 Q142.334 1101.09 143.353 1100.93 Q144.371 1100.74 145.39 1100.74 Q151.177 1100.74 154.556 1103.92 Q157.936 1107.09 157.936 1112.5 Q157.936 1118.08 154.464 1121.18 Q150.992 1124.26 144.672 1124.26 Q142.496 1124.26 140.228 1123.89 Q137.982 1123.52 135.575 1122.78 L135.575 1118.08 Q137.658 1119.22 139.881 1119.77 Q142.103 1120.33 144.58 1120.33 Q148.584 1120.33 150.922 1118.22 Q153.26 1116.11 153.26 1112.5 Q153.26 1108.89 150.922 1106.79 Q148.584 1104.68 144.58 1104.68 Q142.705 1104.68 140.83 1105.1 Q138.978 1105.51 137.033 1106.39 L137.033 1089.03 Z\" fill=\"#000000\" fill-rule=\"evenodd\" fill-opacity=\"1\" /><path clip-path=\"url(#clip380)\" d=\"M 0 0 M100.76 752.52 Q97.1493 752.52 95.3206 756.085 Q93.515 759.627 93.515 766.756 Q93.515 773.863 95.3206 777.427 Q97.1493 780.969 100.76 780.969 Q104.395 780.969 106.2 777.427 Q108.029 773.863 108.029 766.756 Q108.029 759.627 106.2 756.085 Q104.395 752.52 100.76 752.52 M100.76 748.816 Q106.571 748.816 109.626 753.423 Q112.705 758.006 112.705 766.756 Q112.705 775.483 109.626 780.089 Q106.571 784.673 100.76 784.673 Q94.9502 784.673 91.8715 780.089 Q88.816 775.483 88.816 766.756 Q88.816 758.006 91.8715 753.423 Q94.9502 748.816 100.76 748.816 Z\" fill=\"#000000\" fill-rule=\"evenodd\" fill-opacity=\"1\" /><path clip-path=\"url(#clip380)\" d=\"M 0 0 M120.922 778.122 L125.807 778.122 L125.807 784.001 L120.922 784.001 L120.922 778.122 Z\" fill=\"#000000\" fill-rule=\"evenodd\" fill-opacity=\"1\" /><path clip-path=\"url(#clip380)\" d=\"M 0 0 M145.992 752.52 Q142.381 752.52 140.552 756.085 Q138.746 759.627 138.746 766.756 Q138.746 773.863 140.552 777.427 Q142.381 780.969 145.992 780.969 Q149.626 780.969 151.431 777.427 Q153.26 773.863 153.26 766.756 Q153.26 759.627 151.431 756.085 Q149.626 752.52 145.992 752.52 M145.992 748.816 Q151.802 748.816 154.857 753.423 Q157.936 758.006 157.936 766.756 Q157.936 775.483 154.857 780.089 Q151.802 784.673 145.992 784.673 Q140.181 784.673 137.103 780.089 Q134.047 775.483 134.047 766.756 Q134.047 758.006 137.103 753.423 Q140.181 748.816 145.992 748.816 Z\" fill=\"#000000\" fill-rule=\"evenodd\" fill-opacity=\"1\" /><path clip-path=\"url(#clip380)\" d=\"M 0 0 M101.756 412.93 Q98.1447 412.93 96.316 416.495 Q94.5104 420.036 94.5104 427.166 Q94.5104 434.273 96.316 437.837 Q98.1447 441.379 101.756 441.379 Q105.39 441.379 107.196 437.837 Q109.024 434.273 109.024 427.166 Q109.024 420.036 107.196 416.495 Q105.39 412.93 101.756 412.93 M101.756 409.226 Q107.566 409.226 110.621 413.833 Q113.7 418.416 113.7 427.166 Q113.7 435.893 110.621 440.499 Q107.566 445.083 101.756 445.083 Q95.9456 445.083 92.8669 440.499 Q89.8114 435.893 89.8114 427.166 Q89.8114 418.416 92.8669 413.833 Q95.9456 409.226 101.756 409.226 Z\" fill=\"#000000\" fill-rule=\"evenodd\" fill-opacity=\"1\" /><path clip-path=\"url(#clip380)\" d=\"M 0 0 M121.918 438.532 L126.802 438.532 L126.802 444.411 L121.918 444.411 L121.918 438.532 Z\" fill=\"#000000\" fill-rule=\"evenodd\" fill-opacity=\"1\" /><path clip-path=\"url(#clip380)\" d=\"M 0 0 M137.033 409.851 L155.39 409.851 L155.39 413.787 L141.316 413.787 L141.316 422.259 Q142.334 421.911 143.353 421.749 Q144.371 421.564 145.39 421.564 Q151.177 421.564 154.556 424.736 Q157.936 427.907 157.936 433.323 Q157.936 438.902 154.464 442.004 Q150.992 445.083 144.672 445.083 Q142.496 445.083 140.228 444.712 Q137.982 444.342 135.575 443.601 L135.575 438.902 Q137.658 440.036 139.881 440.592 Q142.103 441.147 144.58 441.147 Q148.584 441.147 150.922 439.041 Q153.26 436.935 153.26 433.323 Q153.26 429.712 150.922 427.606 Q148.584 425.499 144.58 425.499 Q142.705 425.499 140.83 425.916 Q138.978 426.333 137.033 427.212 L137.033 409.851 Z\" fill=\"#000000\" fill-rule=\"evenodd\" fill-opacity=\"1\" /><path clip-path=\"url(#clip380)\" d=\"M 0 0 M91.5706 100.886 L99.2095 100.886 L99.2095 74.5205 L90.8993 76.1871 L90.8993 71.9279 L99.1632 70.2612 L103.839 70.2612 L103.839 100.886 L111.478 100.886 L111.478 104.821 L91.5706 104.821 L91.5706 100.886 Z\" fill=\"#000000\" fill-rule=\"evenodd\" fill-opacity=\"1\" /><path clip-path=\"url(#clip380)\" d=\"M 0 0 M120.922 98.9416 L125.807 98.9416 L125.807 104.821 L120.922 104.821 L120.922 98.9416 Z\" fill=\"#000000\" fill-rule=\"evenodd\" fill-opacity=\"1\" /><path clip-path=\"url(#clip380)\" d=\"M 0 0 M145.992 73.3399 Q142.381 73.3399 140.552 76.9047 Q138.746 80.4463 138.746 87.5759 Q138.746 94.6824 140.552 98.2472 Q142.381 101.789 145.992 101.789 Q149.626 101.789 151.431 98.2472 Q153.26 94.6824 153.26 87.5759 Q153.26 80.4463 151.431 76.9047 Q149.626 73.3399 145.992 73.3399 M145.992 69.6362 Q151.802 69.6362 154.857 74.2427 Q157.936 78.826 157.936 87.5759 Q157.936 96.3027 154.857 100.909 Q151.802 105.493 145.992 105.493 Q140.181 105.493 137.103 100.909 Q134.047 96.3027 134.047 87.5759 Q134.047 78.826 137.103 74.2427 Q140.181 69.6362 145.992 69.6362 Z\" fill=\"#000000\" fill-rule=\"evenodd\" fill-opacity=\"1\" /><polyline clip-path=\"url(#clip382)\" style=\"stroke:#7f7f7f; stroke-width:4; stroke-opacity:1; fill:none\" points=\"\n  255.035,115.439 260.007,110.93 264.979,106.812 269.952,103.087 274.924,99.7575 297.912,89.5578 320.9,87.9763 343.888,95.0332 366.877,110.639 389.865,134.594 \n  412.853,166.595 435.841,206.233 458.829,253.004 486.459,317.813 514.089,390.87 541.719,470.835 569.348,556.237 616.07,708.592 662.791,863.993 713.544,1026.77 \n  764.296,1173.47 787.691,1233.14 811.085,1286.65 834.48,1333.31 857.875,1372.5 882.956,1405.64 908.038,1429.1 933.119,1442.53 958.201,1445.72 987.26,1436.56 \n  1016.32,1413.78 1045.38,1377.86 1074.44,1329.51 1100.26,1276.91 1126.09,1216.12 1151.91,1148.11 1177.74,1073.98 1223.03,932.82 1268.32,783.48 1317.7,619.973 \n  1367.08,465.052 1391.92,393.268 1416.75,327.032 1441.59,267.326 1466.43,215.038 1493.89,166.794 1521.35,129.439 1548.81,103.653 1576.27,89.903 1602.4,88.2248 \n  1628.52,97.6981 1654.65,118.167 1680.78,149.296 1707.95,192.414 1735.11,245.737 1762.28,308.315 1789.45,379.038 1835.18,512.959 1880.92,659.625 1936.76,845.218 \n  1992.6,1024.95 2018.85,1103.53 2045.09,1176.53 2071.34,1242.74 2097.58,1301.05 2118.61,1341.41 2139.63,1375.65 2160.65,1403.41 2181.68,1424.38 2202.7,1438.36 \n  2223.73,1445.19 2244.75,1444.79 2265.77,1437.17 2272.24,1433.38 2278.72,1428.92 2285.19,1423.8 2291.66,1418 \n  \"/>\n<path clip-path=\"url(#clip380)\" d=\"\nM1988.5 216.178 L2280.8 216.178 L2280.8 95.2176 L1988.5 95.2176  Z\n  \" fill=\"#ffffff\" fill-rule=\"evenodd\" fill-opacity=\"1\"/>\n<polyline clip-path=\"url(#clip380)\" style=\"stroke:#000000; stroke-width:4; stroke-opacity:1; fill:none\" points=\"\n  1988.5,216.178 2280.8,216.178 2280.8,95.2176 1988.5,95.2176 1988.5,216.178 \n  \"/>\n<polyline clip-path=\"url(#clip380)\" style=\"stroke:#7f7f7f; stroke-width:4; stroke-opacity:1; fill:none\" points=\"\n  2012.48,155.698 2156.4,155.698 \n  \"/>\n<path clip-path=\"url(#clip380)\" d=\"M 0 0 M2194.23 175.385 Q2192.43 180.015 2190.72 181.427 Q2189 182.839 2186.13 182.839 L2182.73 182.839 L2182.73 179.274 L2185.23 179.274 Q2186.99 179.274 2187.96 178.44 Q2188.93 177.607 2190.11 174.505 L2190.88 172.561 L2180.39 147.052 L2184.91 147.052 L2193.01 167.329 L2201.11 147.052 L2205.62 147.052 L2194.23 175.385 Z\" fill=\"#000000\" fill-rule=\"evenodd\" fill-opacity=\"1\" /><path clip-path=\"url(#clip380)\" d=\"M 0 0 M2212.91 169.042 L2220.55 169.042 L2220.55 142.677 L2212.24 144.343 L2212.24 140.084 L2220.51 138.418 L2225.18 138.418 L2225.18 169.042 L2232.82 169.042 L2232.82 172.978 L2212.91 172.978 L2212.91 169.042 Z\" fill=\"#000000\" fill-rule=\"evenodd\" fill-opacity=\"1\" /></svg>\n"
           },
           "type": "node"
          }
         ],
         "instanceArgs": {
          "handlers": {
           "obs-output": [
            "function (value, scope) {\n    scope.setInnerHTML(value);\n}\n"
           ]
          },
          "id": "9352639429892477478",
          "imports": {
           "data": [],
           "type": "async_block"
          },
          "mount_callbacks": [],
          "observables": {
           "obs-output": {
            "id": "7789887223168298182",
            "sync": false,
            "value": "<?xml version=\"1.0\" encoding=\"utf-8\"?>\n<svg xmlns=\"http://www.w3.org/2000/svg\" xmlns:xlink=\"http://www.w3.org/1999/xlink\" width=\"600\" height=\"400\" viewBox=\"0 0 2400 1600\">\n<defs>\n  <clipPath id=\"clip380\">\n    <rect x=\"0\" y=\"0\" width=\"2400\" height=\"1600\"/>\n  </clipPath>\n</defs>\n<path clip-path=\"url(#clip380)\" d=\"\nM0 1600 L2400 1600 L2400 0 L0 0  Z\n  \" fill=\"#ffffff\" fill-rule=\"evenodd\" fill-opacity=\"1\"/>\n<defs>\n  <clipPath id=\"clip381\">\n    <rect x=\"480\" y=\"0\" width=\"1681\" height=\"1600\"/>\n  </clipPath>\n</defs>\n<path clip-path=\"url(#clip380)\" d=\"\nM193.936 1486.45 L2352.76 1486.45 L2352.76 47.2441 L193.936 47.2441  Z\n  \" fill=\"#ffffff\" fill-rule=\"evenodd\" fill-opacity=\"1\"/>\n<defs>\n  <clipPath id=\"clip382\">\n    <rect x=\"193\" y=\"47\" width=\"2160\" height=\"1440\"/>\n  </clipPath>\n</defs>\n<polyline clip-path=\"url(#clip382)\" style=\"stroke:#000000; stroke-width:2; stroke-opacity:0.1; fill:none\" points=\"\n  458.697,1486.45 458.697,47.2441 \n  \"/>\n<polyline clip-path=\"url(#clip382)\" style=\"stroke:#000000; stroke-width:2; stroke-opacity:0.1; fill:none\" points=\"\n  866.021,1486.45 866.021,47.2441 \n  \"/>\n<polyline clip-path=\"url(#clip382)\" style=\"stroke:#000000; stroke-width:2; stroke-opacity:0.1; fill:none\" points=\"\n  1273.35,1486.45 1273.35,47.2441 \n  \"/>\n<polyline clip-path=\"url(#clip382)\" style=\"stroke:#000000; stroke-width:2; stroke-opacity:0.1; fill:none\" points=\"\n  1680.67,1486.45 1680.67,47.2441 \n  \"/>\n<polyline clip-path=\"url(#clip382)\" style=\"stroke:#000000; stroke-width:2; stroke-opacity:0.1; fill:none\" points=\"\n  2087.99,1486.45 2087.99,47.2441 \n  \"/>\n<polyline clip-path=\"url(#clip380)\" style=\"stroke:#000000; stroke-width:4; stroke-opacity:1; fill:none\" points=\"\n  193.936,1486.45 2352.76,1486.45 \n  \"/>\n<polyline clip-path=\"url(#clip380)\" style=\"stroke:#000000; stroke-width:4; stroke-opacity:1; fill:none\" points=\"\n  458.697,1486.45 458.697,1469.18 \n  \"/>\n<polyline clip-path=\"url(#clip380)\" style=\"stroke:#000000; stroke-width:4; stroke-opacity:1; fill:none\" points=\"\n  866.021,1486.45 866.021,1469.18 \n  \"/>\n<polyline clip-path=\"url(#clip380)\" style=\"stroke:#000000; stroke-width:4; stroke-opacity:1; fill:none\" points=\"\n  1273.35,1486.45 1273.35,1469.18 \n  \"/>\n<polyline clip-path=\"url(#clip380)\" style=\"stroke:#000000; stroke-width:4; stroke-opacity:1; fill:none\" points=\"\n  1680.67,1486.45 1680.67,1469.18 \n  \"/>\n<polyline clip-path=\"url(#clip380)\" style=\"stroke:#000000; stroke-width:4; stroke-opacity:1; fill:none\" points=\"\n  2087.99,1486.45 2087.99,1469.18 \n  \"/>\n<path clip-path=\"url(#clip380)\" d=\"M 0 0 M427.598 1530.29 L457.273 1530.29 L457.273 1534.23 L427.598 1534.23 L427.598 1530.29 Z\" fill=\"#000000\" fill-rule=\"evenodd\" fill-opacity=\"1\" /><path clip-path=\"url(#clip380)\" d=\"M 0 0 M480.213 1516.63 L468.408 1535.08 L480.213 1535.08 L480.213 1516.63 M478.986 1512.56 L484.866 1512.56 L484.866 1535.08 L489.796 1535.08 L489.796 1538.97 L484.866 1538.97 L484.866 1547.12 L480.213 1547.12 L480.213 1538.97 L464.611 1538.97 L464.611 1534.46 L478.986 1512.56 Z\" fill=\"#000000\" fill-rule=\"evenodd\" fill-opacity=\"1\" /><path clip-path=\"url(#clip380)\" d=\"M 0 0 M835.964 1530.29 L865.639 1530.29 L865.639 1534.23 L835.964 1534.23 L835.964 1530.29 Z\" fill=\"#000000\" fill-rule=\"evenodd\" fill-opacity=\"1\" /><path clip-path=\"url(#clip380)\" d=\"M 0 0 M879.76 1543.18 L896.079 1543.18 L896.079 1547.12 L874.135 1547.12 L874.135 1543.18 Q876.797 1540.43 881.38 1535.8 Q885.987 1531.15 887.167 1529.81 Q889.413 1527.28 890.292 1525.55 Q891.195 1523.79 891.195 1522.1 Q891.195 1519.34 889.25 1517.61 Q887.329 1515.87 884.227 1515.87 Q882.028 1515.87 879.575 1516.63 Q877.144 1517.4 874.366 1518.95 L874.366 1514.23 Q877.19 1513.09 879.644 1512.51 Q882.098 1511.93 884.135 1511.93 Q889.505 1511.93 892.7 1514.62 Q895.894 1517.31 895.894 1521.8 Q895.894 1523.93 895.084 1525.85 Q894.297 1527.74 892.19 1530.34 Q891.612 1531.01 888.51 1534.23 Q885.408 1537.42 879.76 1543.18 Z\" fill=\"#000000\" fill-rule=\"evenodd\" fill-opacity=\"1\" /><path clip-path=\"url(#clip380)\" d=\"M 0 0 M1273.35 1515.64 Q1269.73 1515.64 1267.91 1519.2 Q1266.1 1522.75 1266.1 1529.87 Q1266.1 1536.98 1267.91 1540.55 Q1269.73 1544.09 1273.35 1544.09 Q1276.98 1544.09 1278.79 1540.55 Q1280.61 1536.98 1280.61 1529.87 Q1280.61 1522.75 1278.79 1519.2 Q1276.98 1515.64 1273.35 1515.64 M1273.35 1511.93 Q1279.16 1511.93 1282.21 1516.54 Q1285.29 1521.12 1285.29 1529.87 Q1285.29 1538.6 1282.21 1543.21 Q1279.16 1547.79 1273.35 1547.79 Q1267.54 1547.79 1264.46 1543.21 Q1261.4 1538.6 1261.4 1529.87 Q1261.4 1521.12 1264.46 1516.54 Q1267.54 1511.93 1273.35 1511.93 Z\" fill=\"#000000\" fill-rule=\"evenodd\" fill-opacity=\"1\" /><path clip-path=\"url(#clip380)\" d=\"M 0 0 M1675.32 1543.18 L1691.64 1543.18 L1691.64 1547.12 L1669.7 1547.12 L1669.7 1543.18 Q1672.36 1540.43 1676.94 1535.8 Q1681.55 1531.15 1682.73 1529.81 Q1684.98 1527.28 1685.86 1525.55 Q1686.76 1523.79 1686.76 1522.1 Q1686.76 1519.34 1684.81 1517.61 Q1682.89 1515.87 1679.79 1515.87 Q1677.59 1515.87 1675.14 1516.63 Q1672.71 1517.4 1669.93 1518.95 L1669.93 1514.23 Q1672.75 1513.09 1675.21 1512.51 Q1677.66 1511.93 1679.7 1511.93 Q1685.07 1511.93 1688.26 1514.62 Q1691.46 1517.31 1691.46 1521.8 Q1691.46 1523.93 1690.65 1525.85 Q1689.86 1527.74 1687.75 1530.34 Q1687.18 1531.01 1684.07 1534.23 Q1680.97 1537.42 1675.32 1543.18 Z\" fill=\"#000000\" fill-rule=\"evenodd\" fill-opacity=\"1\" /><path clip-path=\"url(#clip380)\" d=\"M 0 0 M2091 1516.63 L2079.2 1535.08 L2091 1535.08 L2091 1516.63 M2089.78 1512.56 L2095.66 1512.56 L2095.66 1535.08 L2100.59 1535.08 L2100.59 1538.97 L2095.66 1538.97 L2095.66 1547.12 L2091 1547.12 L2091 1538.97 L2075.4 1538.97 L2075.4 1534.46 L2089.78 1512.56 Z\" fill=\"#000000\" fill-rule=\"evenodd\" fill-opacity=\"1\" /><polyline clip-path=\"url(#clip382)\" style=\"stroke:#000000; stroke-width:2; stroke-opacity:0.1; fill:none\" points=\"\n  193.936,1445.9 2352.76,1445.9 \n  \"/>\n<polyline clip-path=\"url(#clip382)\" style=\"stroke:#000000; stroke-width:2; stroke-opacity:0.1; fill:none\" points=\"\n  193.936,1106.31 2352.76,1106.31 \n  \"/>\n<polyline clip-path=\"url(#clip382)\" style=\"stroke:#000000; stroke-width:2; stroke-opacity:0.1; fill:none\" points=\"\n  193.936,766.721 2352.76,766.721 \n  \"/>\n<polyline clip-path=\"url(#clip382)\" style=\"stroke:#000000; stroke-width:2; stroke-opacity:0.1; fill:none\" points=\"\n  193.936,427.131 2352.76,427.131 \n  \"/>\n<polyline clip-path=\"url(#clip382)\" style=\"stroke:#000000; stroke-width:2; stroke-opacity:0.1; fill:none\" points=\"\n  193.936,87.5412 2352.76,87.5412 \n  \"/>\n<polyline clip-path=\"url(#clip380)\" style=\"stroke:#000000; stroke-width:4; stroke-opacity:1; fill:none\" points=\"\n  193.936,1486.45 193.936,47.2441 \n  \"/>\n<polyline clip-path=\"url(#clip380)\" style=\"stroke:#000000; stroke-width:4; stroke-opacity:1; fill:none\" points=\"\n  193.936,1445.9 219.842,1445.9 \n  \"/>\n<polyline clip-path=\"url(#clip380)\" style=\"stroke:#000000; stroke-width:4; stroke-opacity:1; fill:none\" points=\"\n  193.936,1106.31 219.842,1106.31 \n  \"/>\n<polyline clip-path=\"url(#clip380)\" style=\"stroke:#000000; stroke-width:4; stroke-opacity:1; fill:none\" points=\"\n  193.936,766.721 219.842,766.721 \n  \"/>\n<polyline clip-path=\"url(#clip380)\" style=\"stroke:#000000; stroke-width:4; stroke-opacity:1; fill:none\" points=\"\n  193.936,427.131 219.842,427.131 \n  \"/>\n<polyline clip-path=\"url(#clip380)\" style=\"stroke:#000000; stroke-width:4; stroke-opacity:1; fill:none\" points=\"\n  193.936,87.5412 219.842,87.5412 \n  \"/>\n<path clip-path=\"url(#clip380)\" d=\"M 0 0 M50.9921 1446.35 L80.6679 1446.35 L80.6679 1450.29 L50.9921 1450.29 L50.9921 1446.35 Z\" fill=\"#000000\" fill-rule=\"evenodd\" fill-opacity=\"1\" /><path clip-path=\"url(#clip380)\" d=\"M 0 0 M91.5706 1459.25 L99.2095 1459.25 L99.2095 1432.88 L90.8993 1434.55 L90.8993 1430.29 L99.1632 1428.62 L103.839 1428.62 L103.839 1459.25 L111.478 1459.25 L111.478 1463.18 L91.5706 1463.18 L91.5706 1459.25 Z\" fill=\"#000000\" fill-rule=\"evenodd\" fill-opacity=\"1\" /><path clip-path=\"url(#clip380)\" d=\"M 0 0 M120.922 1457.3 L125.807 1457.3 L125.807 1463.18 L120.922 1463.18 L120.922 1457.3 Z\" fill=\"#000000\" fill-rule=\"evenodd\" fill-opacity=\"1\" /><path clip-path=\"url(#clip380)\" d=\"M 0 0 M145.992 1431.7 Q142.381 1431.7 140.552 1435.27 Q138.746 1438.81 138.746 1445.94 Q138.746 1453.04 140.552 1456.61 Q142.381 1460.15 145.992 1460.15 Q149.626 1460.15 151.431 1456.61 Q153.26 1453.04 153.26 1445.94 Q153.26 1438.81 151.431 1435.27 Q149.626 1431.7 145.992 1431.7 M145.992 1428 Q151.802 1428 154.857 1432.6 Q157.936 1437.19 157.936 1445.94 Q157.936 1454.66 154.857 1459.27 Q151.802 1463.85 145.992 1463.85 Q140.181 1463.85 137.103 1459.27 Q134.047 1454.66 134.047 1445.94 Q134.047 1437.19 137.103 1432.6 Q140.181 1428 145.992 1428 Z\" fill=\"#000000\" fill-rule=\"evenodd\" fill-opacity=\"1\" /><path clip-path=\"url(#clip380)\" d=\"M 0 0 M51.9875 1106.76 L81.6633 1106.76 L81.6633 1110.7 L51.9875 1110.7 L51.9875 1106.76 Z\" fill=\"#000000\" fill-rule=\"evenodd\" fill-opacity=\"1\" /><path clip-path=\"url(#clip380)\" d=\"M 0 0 M101.756 1092.11 Q98.1447 1092.11 96.316 1095.68 Q94.5104 1099.22 94.5104 1106.35 Q94.5104 1113.45 96.316 1117.02 Q98.1447 1120.56 101.756 1120.56 Q105.39 1120.56 107.196 1117.02 Q109.024 1113.45 109.024 1106.35 Q109.024 1099.22 107.196 1095.68 Q105.39 1092.11 101.756 1092.11 M101.756 1088.41 Q107.566 1088.41 110.621 1093.01 Q113.7 1097.6 113.7 1106.35 Q113.7 1115.07 110.621 1119.68 Q107.566 1124.26 101.756 1124.26 Q95.9456 1124.26 92.8669 1119.68 Q89.8114 1115.07 89.8114 1106.35 Q89.8114 1097.6 92.8669 1093.01 Q95.9456 1088.41 101.756 1088.41 Z\" fill=\"#000000\" fill-rule=\"evenodd\" fill-opacity=\"1\" /><path clip-path=\"url(#clip380)\" d=\"M 0 0 M121.918 1117.71 L126.802 1117.71 L126.802 1123.59 L121.918 1123.59 L121.918 1117.71 Z\" fill=\"#000000\" fill-rule=\"evenodd\" fill-opacity=\"1\" /><path clip-path=\"url(#clip380)\" d=\"M 0 0 M137.033 1089.03 L155.39 1089.03 L155.39 1092.97 L141.316 1092.97 L141.316 1101.44 Q142.334 1101.09 143.353 1100.93 Q144.371 1100.74 145.39 1100.74 Q151.177 1100.74 154.556 1103.92 Q157.936 1107.09 157.936 1112.5 Q157.936 1118.08 154.464 1121.18 Q150.992 1124.26 144.672 1124.26 Q142.496 1124.26 140.228 1123.89 Q137.982 1123.52 135.575 1122.78 L135.575 1118.08 Q137.658 1119.22 139.881 1119.77 Q142.103 1120.33 144.58 1120.33 Q148.584 1120.33 150.922 1118.22 Q153.26 1116.11 153.26 1112.5 Q153.26 1108.89 150.922 1106.79 Q148.584 1104.68 144.58 1104.68 Q142.705 1104.68 140.83 1105.1 Q138.978 1105.51 137.033 1106.39 L137.033 1089.03 Z\" fill=\"#000000\" fill-rule=\"evenodd\" fill-opacity=\"1\" /><path clip-path=\"url(#clip380)\" d=\"M 0 0 M100.76 752.52 Q97.1493 752.52 95.3206 756.085 Q93.515 759.627 93.515 766.756 Q93.515 773.863 95.3206 777.427 Q97.1493 780.969 100.76 780.969 Q104.395 780.969 106.2 777.427 Q108.029 773.863 108.029 766.756 Q108.029 759.627 106.2 756.085 Q104.395 752.52 100.76 752.52 M100.76 748.816 Q106.571 748.816 109.626 753.423 Q112.705 758.006 112.705 766.756 Q112.705 775.483 109.626 780.089 Q106.571 784.673 100.76 784.673 Q94.9502 784.673 91.8715 780.089 Q88.816 775.483 88.816 766.756 Q88.816 758.006 91.8715 753.423 Q94.9502 748.816 100.76 748.816 Z\" fill=\"#000000\" fill-rule=\"evenodd\" fill-opacity=\"1\" /><path clip-path=\"url(#clip380)\" d=\"M 0 0 M120.922 778.122 L125.807 778.122 L125.807 784.001 L120.922 784.001 L120.922 778.122 Z\" fill=\"#000000\" fill-rule=\"evenodd\" fill-opacity=\"1\" /><path clip-path=\"url(#clip380)\" d=\"M 0 0 M145.992 752.52 Q142.381 752.52 140.552 756.085 Q138.746 759.627 138.746 766.756 Q138.746 773.863 140.552 777.427 Q142.381 780.969 145.992 780.969 Q149.626 780.969 151.431 777.427 Q153.26 773.863 153.26 766.756 Q153.26 759.627 151.431 756.085 Q149.626 752.52 145.992 752.52 M145.992 748.816 Q151.802 748.816 154.857 753.423 Q157.936 758.006 157.936 766.756 Q157.936 775.483 154.857 780.089 Q151.802 784.673 145.992 784.673 Q140.181 784.673 137.103 780.089 Q134.047 775.483 134.047 766.756 Q134.047 758.006 137.103 753.423 Q140.181 748.816 145.992 748.816 Z\" fill=\"#000000\" fill-rule=\"evenodd\" fill-opacity=\"1\" /><path clip-path=\"url(#clip380)\" d=\"M 0 0 M101.756 412.93 Q98.1447 412.93 96.316 416.495 Q94.5104 420.036 94.5104 427.166 Q94.5104 434.273 96.316 437.837 Q98.1447 441.379 101.756 441.379 Q105.39 441.379 107.196 437.837 Q109.024 434.273 109.024 427.166 Q109.024 420.036 107.196 416.495 Q105.39 412.93 101.756 412.93 M101.756 409.226 Q107.566 409.226 110.621 413.833 Q113.7 418.416 113.7 427.166 Q113.7 435.893 110.621 440.499 Q107.566 445.083 101.756 445.083 Q95.9456 445.083 92.8669 440.499 Q89.8114 435.893 89.8114 427.166 Q89.8114 418.416 92.8669 413.833 Q95.9456 409.226 101.756 409.226 Z\" fill=\"#000000\" fill-rule=\"evenodd\" fill-opacity=\"1\" /><path clip-path=\"url(#clip380)\" d=\"M 0 0 M121.918 438.532 L126.802 438.532 L126.802 444.411 L121.918 444.411 L121.918 438.532 Z\" fill=\"#000000\" fill-rule=\"evenodd\" fill-opacity=\"1\" /><path clip-path=\"url(#clip380)\" d=\"M 0 0 M137.033 409.851 L155.39 409.851 L155.39 413.787 L141.316 413.787 L141.316 422.259 Q142.334 421.911 143.353 421.749 Q144.371 421.564 145.39 421.564 Q151.177 421.564 154.556 424.736 Q157.936 427.907 157.936 433.323 Q157.936 438.902 154.464 442.004 Q150.992 445.083 144.672 445.083 Q142.496 445.083 140.228 444.712 Q137.982 444.342 135.575 443.601 L135.575 438.902 Q137.658 440.036 139.881 440.592 Q142.103 441.147 144.58 441.147 Q148.584 441.147 150.922 439.041 Q153.26 436.935 153.26 433.323 Q153.26 429.712 150.922 427.606 Q148.584 425.499 144.58 425.499 Q142.705 425.499 140.83 425.916 Q138.978 426.333 137.033 427.212 L137.033 409.851 Z\" fill=\"#000000\" fill-rule=\"evenodd\" fill-opacity=\"1\" /><path clip-path=\"url(#clip380)\" d=\"M 0 0 M91.5706 100.886 L99.2095 100.886 L99.2095 74.5205 L90.8993 76.1871 L90.8993 71.9279 L99.1632 70.2612 L103.839 70.2612 L103.839 100.886 L111.478 100.886 L111.478 104.821 L91.5706 104.821 L91.5706 100.886 Z\" fill=\"#000000\" fill-rule=\"evenodd\" fill-opacity=\"1\" /><path clip-path=\"url(#clip380)\" d=\"M 0 0 M120.922 98.9416 L125.807 98.9416 L125.807 104.821 L120.922 104.821 L120.922 98.9416 Z\" fill=\"#000000\" fill-rule=\"evenodd\" fill-opacity=\"1\" /><path clip-path=\"url(#clip380)\" d=\"M 0 0 M145.992 73.3399 Q142.381 73.3399 140.552 76.9047 Q138.746 80.4463 138.746 87.5759 Q138.746 94.6824 140.552 98.2472 Q142.381 101.789 145.992 101.789 Q149.626 101.789 151.431 98.2472 Q153.26 94.6824 153.26 87.5759 Q153.26 80.4463 151.431 76.9047 Q149.626 73.3399 145.992 73.3399 M145.992 69.6362 Q151.802 69.6362 154.857 74.2427 Q157.936 78.826 157.936 87.5759 Q157.936 96.3027 154.857 100.909 Q151.802 105.493 145.992 105.493 Q140.181 105.493 137.103 100.909 Q134.047 96.3027 134.047 87.5759 Q134.047 78.826 137.103 74.2427 Q140.181 69.6362 145.992 69.6362 Z\" fill=\"#000000\" fill-rule=\"evenodd\" fill-opacity=\"1\" /><polyline clip-path=\"url(#clip382)\" style=\"stroke:#7f7f7f; stroke-width:4; stroke-opacity:1; fill:none\" points=\"\n  255.035,115.439 260.007,110.93 264.979,106.812 269.952,103.087 274.924,99.7575 297.912,89.5578 320.9,87.9763 343.888,95.0332 366.877,110.639 389.865,134.594 \n  412.853,166.595 435.841,206.233 458.829,253.004 486.459,317.813 514.089,390.87 541.719,470.835 569.348,556.237 616.07,708.592 662.791,863.993 713.544,1026.77 \n  764.296,1173.47 787.691,1233.14 811.085,1286.65 834.48,1333.31 857.875,1372.5 882.956,1405.64 908.038,1429.1 933.119,1442.53 958.201,1445.72 987.26,1436.56 \n  1016.32,1413.78 1045.38,1377.86 1074.44,1329.51 1100.26,1276.91 1126.09,1216.12 1151.91,1148.11 1177.74,1073.98 1223.03,932.82 1268.32,783.48 1317.7,619.973 \n  1367.08,465.052 1391.92,393.268 1416.75,327.032 1441.59,267.326 1466.43,215.038 1493.89,166.794 1521.35,129.439 1548.81,103.653 1576.27,89.903 1602.4,88.2248 \n  1628.52,97.6981 1654.65,118.167 1680.78,149.296 1707.95,192.414 1735.11,245.737 1762.28,308.315 1789.45,379.038 1835.18,512.959 1880.92,659.625 1936.76,845.218 \n  1992.6,1024.95 2018.85,1103.53 2045.09,1176.53 2071.34,1242.74 2097.58,1301.05 2118.61,1341.41 2139.63,1375.65 2160.65,1403.41 2181.68,1424.38 2202.7,1438.36 \n  2223.73,1445.19 2244.75,1444.79 2265.77,1437.17 2272.24,1433.38 2278.72,1428.92 2285.19,1423.8 2291.66,1418 \n  \"/>\n<path clip-path=\"url(#clip380)\" d=\"\nM1988.5 216.178 L2280.8 216.178 L2280.8 95.2176 L1988.5 95.2176  Z\n  \" fill=\"#ffffff\" fill-rule=\"evenodd\" fill-opacity=\"1\"/>\n<polyline clip-path=\"url(#clip380)\" style=\"stroke:#000000; stroke-width:4; stroke-opacity:1; fill:none\" points=\"\n  1988.5,216.178 2280.8,216.178 2280.8,95.2176 1988.5,95.2176 1988.5,216.178 \n  \"/>\n<polyline clip-path=\"url(#clip380)\" style=\"stroke:#7f7f7f; stroke-width:4; stroke-opacity:1; fill:none\" points=\"\n  2012.48,155.698 2156.4,155.698 \n  \"/>\n<path clip-path=\"url(#clip380)\" d=\"M 0 0 M2194.23 175.385 Q2192.43 180.015 2190.72 181.427 Q2189 182.839 2186.13 182.839 L2182.73 182.839 L2182.73 179.274 L2185.23 179.274 Q2186.99 179.274 2187.96 178.44 Q2188.93 177.607 2190.11 174.505 L2190.88 172.561 L2180.39 147.052 L2184.91 147.052 L2193.01 167.329 L2201.11 147.052 L2205.62 147.052 L2194.23 175.385 Z\" fill=\"#000000\" fill-rule=\"evenodd\" fill-opacity=\"1\" /><path clip-path=\"url(#clip380)\" d=\"M 0 0 M2212.91 169.042 L2220.55 169.042 L2220.55 142.677 L2212.24 144.343 L2212.24 140.084 L2220.51 138.418 L2225.18 138.418 L2225.18 169.042 L2232.82 169.042 L2232.82 172.978 L2212.91 172.978 L2212.91 169.042 Z\" fill=\"#000000\" fill-rule=\"evenodd\" fill-opacity=\"1\" /></svg>\n"
           }
          },
          "systemjs_options": null
         },
         "nodeType": "Scope",
         "props": {},
         "type": "node"
        },
        {
         "children": [
          {
           "children": [
            {
             "children": [
              {
               "children": [
                {
                 "children": [
                  {
                   "children": [
                    "red"
                   ],
                   "instanceArgs": {
                    "namespace": "html",
                    "tag": "label"
                   },
                   "nodeType": "DOM",
                   "props": {
                    "className": "interact ",
                    "style": {
                     "padding": "5px 10px 0px 10px"
                    }
                   },
                   "type": "node"
                  }
                 ],
                 "instanceArgs": {
                  "namespace": "html",
                  "tag": "div"
                 },
                 "nodeType": "DOM",
                 "props": {
                  "className": "interact-flex-row-left"
                 },
                 "type": "node"
                },
                {
                 "children": [
                  {
                   "children": [],
                   "instanceArgs": {
                    "namespace": "html",
                    "tag": "input"
                   },
                   "nodeType": "DOM",
                   "props": {
                    "attributes": {
                     "data-bind": "numericValue: index, valueUpdate: 'input', event: {change: function (){this.changes(this.changes()+1)}}",
                     "orient": "horizontal",
                     "type": "range"
                    },
                    "className": "slider slider is-fullwidth",
                    "max": 255,
                    "min": 0,
                    "step": 1,
                    "style": {}
                   },
                   "type": "node"
                  }
                 ],
                 "instanceArgs": {
                  "namespace": "html",
                  "tag": "div"
                 },
                 "nodeType": "DOM",
                 "props": {
                  "className": "interact-flex-row-center"
                 },
                 "type": "node"
                },
                {
                 "children": [
                  {
                   "children": [],
                   "instanceArgs": {
                    "namespace": "html",
                    "tag": "p"
                   },
                   "nodeType": "DOM",
                   "props": {
                    "attributes": {
                     "data-bind": "text: formatted_val"
                    }
                   },
                   "type": "node"
                  }
                 ],
                 "instanceArgs": {
                  "namespace": "html",
                  "tag": "div"
                 },
                 "nodeType": "DOM",
                 "props": {
                  "className": "interact-flex-row-right"
                 },
                 "type": "node"
                }
               ],
               "instanceArgs": {
                "namespace": "html",
                "tag": "div"
               },
               "nodeType": "DOM",
               "props": {
                "className": "interact-flex-row interact-widget"
               },
               "type": "node"
              }
             ],
             "instanceArgs": {
              "handlers": {
               "changes": [
                "(function (val){return (val!=this.model[\"changes\"]()) ? (this.valueFromJulia[\"changes\"]=true, this.model[\"changes\"](val)) : undefined})"
               ],
               "index": [
                "(function (val){return (val!=this.model[\"index\"]()) ? (this.valueFromJulia[\"index\"]=true, this.model[\"index\"](val)) : undefined})"
               ]
              },
              "id": "2890281564170590331",
              "imports": {
               "data": [
                {
                 "name": "knockout",
                 "type": "js",
                 "url": "/assetserver/0fc6d61518197b1bf9b23217e9be1d2e00f2bb14-knockout.js"
                },
                {
                 "name": "knockout_punches",
                 "type": "js",
                 "url": "/assetserver/24c12264eef2b01f723a21985ba5661f5564d7cf-knockout_punches.js"
                },
                {
                 "name": null,
                 "type": "js",
                 "url": "/assetserver/85de428ae418ad26c1ce7e886d25374b3774afa9-all.js"
                },
                {
                 "name": null,
                 "type": "css",
                 "url": "/assetserver/2cd8ff31326883094fe5a8ff21182264663b62be-style.css"
                },
                {
                 "name": null,
                 "type": "css",
                 "url": "/assetserver/741bde2d4bf25f117d0ec4d43164cd1a050cf9de-bulma_confined.min.css"
                }
               ],
               "type": "async_block"
              },
              "mount_callbacks": [
               "function () {\n    var handler = (function (ko, koPunches) {\n    ko.punches.enableAll();\n    ko.bindingHandlers.numericValue = {\n        init: function(element, valueAccessor, allBindings, data, context) {\n            var stringified = ko.observable(ko.unwrap(valueAccessor()));\n            stringified.subscribe(function(value) {\n                var val = parseFloat(value);\n                if (!isNaN(val)) {\n                    valueAccessor()(val);\n                }\n            });\n            valueAccessor().subscribe(function(value) {\n                var str = JSON.stringify(value);\n                if ((str == \"0\") && ([\"-0\", \"-0.\"].indexOf(stringified()) >= 0))\n                     return;\n                 if ([\"null\", \"\"].indexOf(str) >= 0)\n                     return;\n                stringified(str);\n            });\n            ko.applyBindingsToNode(\n                element,\n                {\n                    value: stringified,\n                    valueUpdate: allBindings.get('valueUpdate'),\n                },\n                context,\n            );\n        }\n    };\n    var json_data = {\"formatted_vals\":[\"0\",\"1\",\"2\",\"3\",\"4\",\"5\",\"6\",\"7\",\"8\",\"9\",\"10\",\"11\",\"12\",\"13\",\"14\",\"15\",\"16\",\"17\",\"18\",\"19\",\"20\",\"21\",\"22\",\"23\",\"24\",\"25\",\"26\",\"27\",\"28\",\"29\",\"30\",\"31\",\"32\",\"33\",\"34\",\"35\",\"36\",\"37\",\"38\",\"39\",\"40\",\"41\",\"42\",\"43\",\"44\",\"45\",\"46\",\"47\",\"48\",\"49\",\"50\",\"51\",\"52\",\"53\",\"54\",\"55\",\"56\",\"57\",\"58\",\"59\",\"60\",\"61\",\"62\",\"63\",\"64\",\"65\",\"66\",\"67\",\"68\",\"69\",\"70\",\"71\",\"72\",\"73\",\"74\",\"75\",\"76\",\"77\",\"78\",\"79\",\"80\",\"81\",\"82\",\"83\",\"84\",\"85\",\"86\",\"87\",\"88\",\"89\",\"90\",\"91\",\"92\",\"93\",\"94\",\"95\",\"96\",\"97\",\"98\",\"99\",\"100\",\"101\",\"102\",\"103\",\"104\",\"105\",\"106\",\"107\",\"108\",\"109\",\"110\",\"111\",\"112\",\"113\",\"114\",\"115\",\"116\",\"117\",\"118\",\"119\",\"120\",\"121\",\"122\",\"123\",\"124\",\"125\",\"126\",\"127\",\"128\",\"129\",\"130\",\"131\",\"132\",\"133\",\"134\",\"135\",\"136\",\"137\",\"138\",\"139\",\"140\",\"141\",\"142\",\"143\",\"144\",\"145\",\"146\",\"147\",\"148\",\"149\",\"150\",\"151\",\"152\",\"153\",\"154\",\"155\",\"156\",\"157\",\"158\",\"159\",\"160\",\"161\",\"162\",\"163\",\"164\",\"165\",\"166\",\"167\",\"168\",\"169\",\"170\",\"171\",\"172\",\"173\",\"174\",\"175\",\"176\",\"177\",\"178\",\"179\",\"180\",\"181\",\"182\",\"183\",\"184\",\"185\",\"186\",\"187\",\"188\",\"189\",\"190\",\"191\",\"192\",\"193\",\"194\",\"195\",\"196\",\"197\",\"198\",\"199\",\"200\",\"201\",\"202\",\"203\",\"204\",\"205\",\"206\",\"207\",\"208\",\"209\",\"210\",\"211\",\"212\",\"213\",\"214\",\"215\",\"216\",\"217\",\"218\",\"219\",\"220\",\"221\",\"222\",\"223\",\"224\",\"225\",\"226\",\"227\",\"228\",\"229\",\"230\",\"231\",\"232\",\"233\",\"234\",\"235\",\"236\",\"237\",\"238\",\"239\",\"240\",\"241\",\"242\",\"243\",\"244\",\"245\",\"246\",\"247\",\"248\",\"249\",\"250\",\"251\",\"252\",\"253\",\"254\",\"255\"],\"changes\":WebIO.getval({\"name\":\"changes\",\"scope\":\"2890281564170590331\",\"id\":\"18395362751811450309\",\"type\":\"observable\"}),\"index\":WebIO.getval({\"name\":\"index\",\"scope\":\"2890281564170590331\",\"id\":\"3652522807163242357\",\"type\":\"observable\"})};\n    var self = this;\n    function AppViewModel() {\n        for (var key in json_data) {\n            var el = json_data[key];\n            this[key] = Array.isArray(el) ? ko.observableArray(el) : ko.observable(el);\n        }\n        \n        [this[\"formatted_val\"]=ko.computed(    function(){\n        return this.formatted_vals()[parseInt(this.index())-(0)];\n    }\n,this)]\n        [this[\"changes\"].subscribe((function (val){!(this.valueFromJulia[\"changes\"]) ? (WebIO.setval({\"name\":\"changes\",\"scope\":\"2890281564170590331\",\"id\":\"18395362751811450309\",\"type\":\"observable\"},val)) : undefined; return this.valueFromJulia[\"changes\"]=false}),self),this[\"index\"].subscribe((function (val){!(this.valueFromJulia[\"index\"]) ? (WebIO.setval({\"name\":\"index\",\"scope\":\"2890281564170590331\",\"id\":\"3652522807163242357\",\"type\":\"observable\"},val)) : undefined; return this.valueFromJulia[\"index\"]=false}),self)]\n        \n    }\n    self.model = new AppViewModel();\n    self.valueFromJulia = {};\n    for (var key in json_data) {\n        self.valueFromJulia[key] = false;\n    }\n    ko.applyBindings(self.model, self.dom);\n}\n);\n    (WebIO.importBlock({\"data\":[{\"name\":\"knockout\",\"type\":\"js\",\"url\":\"/assetserver/0fc6d61518197b1bf9b23217e9be1d2e00f2bb14-knockout.js\"},{\"name\":\"knockout_punches\",\"type\":\"js\",\"url\":\"/assetserver/24c12264eef2b01f723a21985ba5661f5564d7cf-knockout_punches.js\"}],\"type\":\"async_block\"})).then((imports) => handler.apply(this, imports));\n}\n"
              ],
              "observables": {
               "changes": {
                "id": "18395362751811450309",
                "sync": false,
                "value": 0
               },
               "index": {
                "id": "3652522807163242357",
                "sync": true,
                "value": 127
               }
              },
              "systemjs_options": null
             },
             "nodeType": "Scope",
             "props": {},
             "type": "node"
            }
           ],
           "instanceArgs": {
            "namespace": "html",
            "tag": "div"
           },
           "nodeType": "DOM",
           "props": {
            "className": "field interact-widget"
           },
           "type": "node"
          },
          {
           "children": [
            {
             "children": [
              {
               "children": [
                {
                 "children": [
                  {
                   "children": [
                    "green"
                   ],
                   "instanceArgs": {
                    "namespace": "html",
                    "tag": "label"
                   },
                   "nodeType": "DOM",
                   "props": {
                    "className": "interact ",
                    "style": {
                     "padding": "5px 10px 0px 10px"
                    }
                   },
                   "type": "node"
                  }
                 ],
                 "instanceArgs": {
                  "namespace": "html",
                  "tag": "div"
                 },
                 "nodeType": "DOM",
                 "props": {
                  "className": "interact-flex-row-left"
                 },
                 "type": "node"
                },
                {
                 "children": [
                  {
                   "children": [],
                   "instanceArgs": {
                    "namespace": "html",
                    "tag": "input"
                   },
                   "nodeType": "DOM",
                   "props": {
                    "attributes": {
                     "data-bind": "numericValue: index, valueUpdate: 'input', event: {change: function (){this.changes(this.changes()+1)}}",
                     "orient": "horizontal",
                     "type": "range"
                    },
                    "className": "slider slider is-fullwidth",
                    "max": 255,
                    "min": 0,
                    "step": 1,
                    "style": {}
                   },
                   "type": "node"
                  }
                 ],
                 "instanceArgs": {
                  "namespace": "html",
                  "tag": "div"
                 },
                 "nodeType": "DOM",
                 "props": {
                  "className": "interact-flex-row-center"
                 },
                 "type": "node"
                },
                {
                 "children": [
                  {
                   "children": [],
                   "instanceArgs": {
                    "namespace": "html",
                    "tag": "p"
                   },
                   "nodeType": "DOM",
                   "props": {
                    "attributes": {
                     "data-bind": "text: formatted_val"
                    }
                   },
                   "type": "node"
                  }
                 ],
                 "instanceArgs": {
                  "namespace": "html",
                  "tag": "div"
                 },
                 "nodeType": "DOM",
                 "props": {
                  "className": "interact-flex-row-right"
                 },
                 "type": "node"
                }
               ],
               "instanceArgs": {
                "namespace": "html",
                "tag": "div"
               },
               "nodeType": "DOM",
               "props": {
                "className": "interact-flex-row interact-widget"
               },
               "type": "node"
              }
             ],
             "instanceArgs": {
              "handlers": {
               "changes": [
                "(function (val){return (val!=this.model[\"changes\"]()) ? (this.valueFromJulia[\"changes\"]=true, this.model[\"changes\"](val)) : undefined})"
               ],
               "index": [
                "(function (val){return (val!=this.model[\"index\"]()) ? (this.valueFromJulia[\"index\"]=true, this.model[\"index\"](val)) : undefined})"
               ]
              },
              "id": "13869785640863303403",
              "imports": {
               "data": [
                {
                 "name": "knockout",
                 "type": "js",
                 "url": "/assetserver/0fc6d61518197b1bf9b23217e9be1d2e00f2bb14-knockout.js"
                },
                {
                 "name": "knockout_punches",
                 "type": "js",
                 "url": "/assetserver/24c12264eef2b01f723a21985ba5661f5564d7cf-knockout_punches.js"
                },
                {
                 "name": null,
                 "type": "js",
                 "url": "/assetserver/85de428ae418ad26c1ce7e886d25374b3774afa9-all.js"
                },
                {
                 "name": null,
                 "type": "css",
                 "url": "/assetserver/2cd8ff31326883094fe5a8ff21182264663b62be-style.css"
                },
                {
                 "name": null,
                 "type": "css",
                 "url": "/assetserver/741bde2d4bf25f117d0ec4d43164cd1a050cf9de-bulma_confined.min.css"
                }
               ],
               "type": "async_block"
              },
              "mount_callbacks": [
               "function () {\n    var handler = (function (ko, koPunches) {\n    ko.punches.enableAll();\n    ko.bindingHandlers.numericValue = {\n        init: function(element, valueAccessor, allBindings, data, context) {\n            var stringified = ko.observable(ko.unwrap(valueAccessor()));\n            stringified.subscribe(function(value) {\n                var val = parseFloat(value);\n                if (!isNaN(val)) {\n                    valueAccessor()(val);\n                }\n            });\n            valueAccessor().subscribe(function(value) {\n                var str = JSON.stringify(value);\n                if ((str == \"0\") && ([\"-0\", \"-0.\"].indexOf(stringified()) >= 0))\n                     return;\n                 if ([\"null\", \"\"].indexOf(str) >= 0)\n                     return;\n                stringified(str);\n            });\n            ko.applyBindingsToNode(\n                element,\n                {\n                    value: stringified,\n                    valueUpdate: allBindings.get('valueUpdate'),\n                },\n                context,\n            );\n        }\n    };\n    var json_data = {\"formatted_vals\":[\"0\",\"1\",\"2\",\"3\",\"4\",\"5\",\"6\",\"7\",\"8\",\"9\",\"10\",\"11\",\"12\",\"13\",\"14\",\"15\",\"16\",\"17\",\"18\",\"19\",\"20\",\"21\",\"22\",\"23\",\"24\",\"25\",\"26\",\"27\",\"28\",\"29\",\"30\",\"31\",\"32\",\"33\",\"34\",\"35\",\"36\",\"37\",\"38\",\"39\",\"40\",\"41\",\"42\",\"43\",\"44\",\"45\",\"46\",\"47\",\"48\",\"49\",\"50\",\"51\",\"52\",\"53\",\"54\",\"55\",\"56\",\"57\",\"58\",\"59\",\"60\",\"61\",\"62\",\"63\",\"64\",\"65\",\"66\",\"67\",\"68\",\"69\",\"70\",\"71\",\"72\",\"73\",\"74\",\"75\",\"76\",\"77\",\"78\",\"79\",\"80\",\"81\",\"82\",\"83\",\"84\",\"85\",\"86\",\"87\",\"88\",\"89\",\"90\",\"91\",\"92\",\"93\",\"94\",\"95\",\"96\",\"97\",\"98\",\"99\",\"100\",\"101\",\"102\",\"103\",\"104\",\"105\",\"106\",\"107\",\"108\",\"109\",\"110\",\"111\",\"112\",\"113\",\"114\",\"115\",\"116\",\"117\",\"118\",\"119\",\"120\",\"121\",\"122\",\"123\",\"124\",\"125\",\"126\",\"127\",\"128\",\"129\",\"130\",\"131\",\"132\",\"133\",\"134\",\"135\",\"136\",\"137\",\"138\",\"139\",\"140\",\"141\",\"142\",\"143\",\"144\",\"145\",\"146\",\"147\",\"148\",\"149\",\"150\",\"151\",\"152\",\"153\",\"154\",\"155\",\"156\",\"157\",\"158\",\"159\",\"160\",\"161\",\"162\",\"163\",\"164\",\"165\",\"166\",\"167\",\"168\",\"169\",\"170\",\"171\",\"172\",\"173\",\"174\",\"175\",\"176\",\"177\",\"178\",\"179\",\"180\",\"181\",\"182\",\"183\",\"184\",\"185\",\"186\",\"187\",\"188\",\"189\",\"190\",\"191\",\"192\",\"193\",\"194\",\"195\",\"196\",\"197\",\"198\",\"199\",\"200\",\"201\",\"202\",\"203\",\"204\",\"205\",\"206\",\"207\",\"208\",\"209\",\"210\",\"211\",\"212\",\"213\",\"214\",\"215\",\"216\",\"217\",\"218\",\"219\",\"220\",\"221\",\"222\",\"223\",\"224\",\"225\",\"226\",\"227\",\"228\",\"229\",\"230\",\"231\",\"232\",\"233\",\"234\",\"235\",\"236\",\"237\",\"238\",\"239\",\"240\",\"241\",\"242\",\"243\",\"244\",\"245\",\"246\",\"247\",\"248\",\"249\",\"250\",\"251\",\"252\",\"253\",\"254\",\"255\"],\"changes\":WebIO.getval({\"name\":\"changes\",\"scope\":\"13869785640863303403\",\"id\":\"12087930275749983784\",\"type\":\"observable\"}),\"index\":WebIO.getval({\"name\":\"index\",\"scope\":\"13869785640863303403\",\"id\":\"5214871276161627368\",\"type\":\"observable\"})};\n    var self = this;\n    function AppViewModel() {\n        for (var key in json_data) {\n            var el = json_data[key];\n            this[key] = Array.isArray(el) ? ko.observableArray(el) : ko.observable(el);\n        }\n        \n        [this[\"formatted_val\"]=ko.computed(    function(){\n        return this.formatted_vals()[parseInt(this.index())-(0)];\n    }\n,this)]\n        [this[\"changes\"].subscribe((function (val){!(this.valueFromJulia[\"changes\"]) ? (WebIO.setval({\"name\":\"changes\",\"scope\":\"13869785640863303403\",\"id\":\"12087930275749983784\",\"type\":\"observable\"},val)) : undefined; return this.valueFromJulia[\"changes\"]=false}),self),this[\"index\"].subscribe((function (val){!(this.valueFromJulia[\"index\"]) ? (WebIO.setval({\"name\":\"index\",\"scope\":\"13869785640863303403\",\"id\":\"5214871276161627368\",\"type\":\"observable\"},val)) : undefined; return this.valueFromJulia[\"index\"]=false}),self)]\n        \n    }\n    self.model = new AppViewModel();\n    self.valueFromJulia = {};\n    for (var key in json_data) {\n        self.valueFromJulia[key] = false;\n    }\n    ko.applyBindings(self.model, self.dom);\n}\n);\n    (WebIO.importBlock({\"data\":[{\"name\":\"knockout\",\"type\":\"js\",\"url\":\"/assetserver/0fc6d61518197b1bf9b23217e9be1d2e00f2bb14-knockout.js\"},{\"name\":\"knockout_punches\",\"type\":\"js\",\"url\":\"/assetserver/24c12264eef2b01f723a21985ba5661f5564d7cf-knockout_punches.js\"}],\"type\":\"async_block\"})).then((imports) => handler.apply(this, imports));\n}\n"
              ],
              "observables": {
               "changes": {
                "id": "12087930275749983784",
                "sync": false,
                "value": 0
               },
               "index": {
                "id": "5214871276161627368",
                "sync": true,
                "value": 127
               }
              },
              "systemjs_options": null
             },
             "nodeType": "Scope",
             "props": {},
             "type": "node"
            }
           ],
           "instanceArgs": {
            "namespace": "html",
            "tag": "div"
           },
           "nodeType": "DOM",
           "props": {
            "className": "field interact-widget"
           },
           "type": "node"
          },
          {
           "children": [
            {
             "children": [
              {
               "children": [
                {
                 "children": [
                  {
                   "children": [
                    "blue"
                   ],
                   "instanceArgs": {
                    "namespace": "html",
                    "tag": "label"
                   },
                   "nodeType": "DOM",
                   "props": {
                    "className": "interact ",
                    "style": {
                     "padding": "5px 10px 0px 10px"
                    }
                   },
                   "type": "node"
                  }
                 ],
                 "instanceArgs": {
                  "namespace": "html",
                  "tag": "div"
                 },
                 "nodeType": "DOM",
                 "props": {
                  "className": "interact-flex-row-left"
                 },
                 "type": "node"
                },
                {
                 "children": [
                  {
                   "children": [],
                   "instanceArgs": {
                    "namespace": "html",
                    "tag": "input"
                   },
                   "nodeType": "DOM",
                   "props": {
                    "attributes": {
                     "data-bind": "numericValue: index, valueUpdate: 'input', event: {change: function (){this.changes(this.changes()+1)}}",
                     "orient": "horizontal",
                     "type": "range"
                    },
                    "className": "slider slider is-fullwidth",
                    "max": 255,
                    "min": 0,
                    "step": 1,
                    "style": {}
                   },
                   "type": "node"
                  }
                 ],
                 "instanceArgs": {
                  "namespace": "html",
                  "tag": "div"
                 },
                 "nodeType": "DOM",
                 "props": {
                  "className": "interact-flex-row-center"
                 },
                 "type": "node"
                },
                {
                 "children": [
                  {
                   "children": [],
                   "instanceArgs": {
                    "namespace": "html",
                    "tag": "p"
                   },
                   "nodeType": "DOM",
                   "props": {
                    "attributes": {
                     "data-bind": "text: formatted_val"
                    }
                   },
                   "type": "node"
                  }
                 ],
                 "instanceArgs": {
                  "namespace": "html",
                  "tag": "div"
                 },
                 "nodeType": "DOM",
                 "props": {
                  "className": "interact-flex-row-right"
                 },
                 "type": "node"
                }
               ],
               "instanceArgs": {
                "namespace": "html",
                "tag": "div"
               },
               "nodeType": "DOM",
               "props": {
                "className": "interact-flex-row interact-widget"
               },
               "type": "node"
              }
             ],
             "instanceArgs": {
              "handlers": {
               "changes": [
                "(function (val){return (val!=this.model[\"changes\"]()) ? (this.valueFromJulia[\"changes\"]=true, this.model[\"changes\"](val)) : undefined})"
               ],
               "index": [
                "(function (val){return (val!=this.model[\"index\"]()) ? (this.valueFromJulia[\"index\"]=true, this.model[\"index\"](val)) : undefined})"
               ]
              },
              "id": "9986228044100904826",
              "imports": {
               "data": [
                {
                 "name": "knockout",
                 "type": "js",
                 "url": "/assetserver/0fc6d61518197b1bf9b23217e9be1d2e00f2bb14-knockout.js"
                },
                {
                 "name": "knockout_punches",
                 "type": "js",
                 "url": "/assetserver/24c12264eef2b01f723a21985ba5661f5564d7cf-knockout_punches.js"
                },
                {
                 "name": null,
                 "type": "js",
                 "url": "/assetserver/85de428ae418ad26c1ce7e886d25374b3774afa9-all.js"
                },
                {
                 "name": null,
                 "type": "css",
                 "url": "/assetserver/2cd8ff31326883094fe5a8ff21182264663b62be-style.css"
                },
                {
                 "name": null,
                 "type": "css",
                 "url": "/assetserver/741bde2d4bf25f117d0ec4d43164cd1a050cf9de-bulma_confined.min.css"
                }
               ],
               "type": "async_block"
              },
              "mount_callbacks": [
               "function () {\n    var handler = (function (ko, koPunches) {\n    ko.punches.enableAll();\n    ko.bindingHandlers.numericValue = {\n        init: function(element, valueAccessor, allBindings, data, context) {\n            var stringified = ko.observable(ko.unwrap(valueAccessor()));\n            stringified.subscribe(function(value) {\n                var val = parseFloat(value);\n                if (!isNaN(val)) {\n                    valueAccessor()(val);\n                }\n            });\n            valueAccessor().subscribe(function(value) {\n                var str = JSON.stringify(value);\n                if ((str == \"0\") && ([\"-0\", \"-0.\"].indexOf(stringified()) >= 0))\n                     return;\n                 if ([\"null\", \"\"].indexOf(str) >= 0)\n                     return;\n                stringified(str);\n            });\n            ko.applyBindingsToNode(\n                element,\n                {\n                    value: stringified,\n                    valueUpdate: allBindings.get('valueUpdate'),\n                },\n                context,\n            );\n        }\n    };\n    var json_data = {\"formatted_vals\":[\"0\",\"1\",\"2\",\"3\",\"4\",\"5\",\"6\",\"7\",\"8\",\"9\",\"10\",\"11\",\"12\",\"13\",\"14\",\"15\",\"16\",\"17\",\"18\",\"19\",\"20\",\"21\",\"22\",\"23\",\"24\",\"25\",\"26\",\"27\",\"28\",\"29\",\"30\",\"31\",\"32\",\"33\",\"34\",\"35\",\"36\",\"37\",\"38\",\"39\",\"40\",\"41\",\"42\",\"43\",\"44\",\"45\",\"46\",\"47\",\"48\",\"49\",\"50\",\"51\",\"52\",\"53\",\"54\",\"55\",\"56\",\"57\",\"58\",\"59\",\"60\",\"61\",\"62\",\"63\",\"64\",\"65\",\"66\",\"67\",\"68\",\"69\",\"70\",\"71\",\"72\",\"73\",\"74\",\"75\",\"76\",\"77\",\"78\",\"79\",\"80\",\"81\",\"82\",\"83\",\"84\",\"85\",\"86\",\"87\",\"88\",\"89\",\"90\",\"91\",\"92\",\"93\",\"94\",\"95\",\"96\",\"97\",\"98\",\"99\",\"100\",\"101\",\"102\",\"103\",\"104\",\"105\",\"106\",\"107\",\"108\",\"109\",\"110\",\"111\",\"112\",\"113\",\"114\",\"115\",\"116\",\"117\",\"118\",\"119\",\"120\",\"121\",\"122\",\"123\",\"124\",\"125\",\"126\",\"127\",\"128\",\"129\",\"130\",\"131\",\"132\",\"133\",\"134\",\"135\",\"136\",\"137\",\"138\",\"139\",\"140\",\"141\",\"142\",\"143\",\"144\",\"145\",\"146\",\"147\",\"148\",\"149\",\"150\",\"151\",\"152\",\"153\",\"154\",\"155\",\"156\",\"157\",\"158\",\"159\",\"160\",\"161\",\"162\",\"163\",\"164\",\"165\",\"166\",\"167\",\"168\",\"169\",\"170\",\"171\",\"172\",\"173\",\"174\",\"175\",\"176\",\"177\",\"178\",\"179\",\"180\",\"181\",\"182\",\"183\",\"184\",\"185\",\"186\",\"187\",\"188\",\"189\",\"190\",\"191\",\"192\",\"193\",\"194\",\"195\",\"196\",\"197\",\"198\",\"199\",\"200\",\"201\",\"202\",\"203\",\"204\",\"205\",\"206\",\"207\",\"208\",\"209\",\"210\",\"211\",\"212\",\"213\",\"214\",\"215\",\"216\",\"217\",\"218\",\"219\",\"220\",\"221\",\"222\",\"223\",\"224\",\"225\",\"226\",\"227\",\"228\",\"229\",\"230\",\"231\",\"232\",\"233\",\"234\",\"235\",\"236\",\"237\",\"238\",\"239\",\"240\",\"241\",\"242\",\"243\",\"244\",\"245\",\"246\",\"247\",\"248\",\"249\",\"250\",\"251\",\"252\",\"253\",\"254\",\"255\"],\"changes\":WebIO.getval({\"name\":\"changes\",\"scope\":\"9986228044100904826\",\"id\":\"1246094669140991221\",\"type\":\"observable\"}),\"index\":WebIO.getval({\"name\":\"index\",\"scope\":\"9986228044100904826\",\"id\":\"16115194723078729974\",\"type\":\"observable\"})};\n    var self = this;\n    function AppViewModel() {\n        for (var key in json_data) {\n            var el = json_data[key];\n            this[key] = Array.isArray(el) ? ko.observableArray(el) : ko.observable(el);\n        }\n        \n        [this[\"formatted_val\"]=ko.computed(    function(){\n        return this.formatted_vals()[parseInt(this.index())-(0)];\n    }\n,this)]\n        [this[\"changes\"].subscribe((function (val){!(this.valueFromJulia[\"changes\"]) ? (WebIO.setval({\"name\":\"changes\",\"scope\":\"9986228044100904826\",\"id\":\"1246094669140991221\",\"type\":\"observable\"},val)) : undefined; return this.valueFromJulia[\"changes\"]=false}),self),this[\"index\"].subscribe((function (val){!(this.valueFromJulia[\"index\"]) ? (WebIO.setval({\"name\":\"index\",\"scope\":\"9986228044100904826\",\"id\":\"16115194723078729974\",\"type\":\"observable\"},val)) : undefined; return this.valueFromJulia[\"index\"]=false}),self)]\n        \n    }\n    self.model = new AppViewModel();\n    self.valueFromJulia = {};\n    for (var key in json_data) {\n        self.valueFromJulia[key] = false;\n    }\n    ko.applyBindings(self.model, self.dom);\n}\n);\n    (WebIO.importBlock({\"data\":[{\"name\":\"knockout\",\"type\":\"js\",\"url\":\"/assetserver/0fc6d61518197b1bf9b23217e9be1d2e00f2bb14-knockout.js\"},{\"name\":\"knockout_punches\",\"type\":\"js\",\"url\":\"/assetserver/24c12264eef2b01f723a21985ba5661f5564d7cf-knockout_punches.js\"}],\"type\":\"async_block\"})).then((imports) => handler.apply(this, imports));\n}\n"
              ],
              "observables": {
               "changes": {
                "id": "1246094669140991221",
                "sync": false,
                "value": 0
               },
               "index": {
                "id": "16115194723078729974",
                "sync": true,
                "value": 127
               }
              },
              "systemjs_options": null
             },
             "nodeType": "Scope",
             "props": {},
             "type": "node"
            }
           ],
           "instanceArgs": {
            "namespace": "html",
            "tag": "div"
           },
           "nodeType": "DOM",
           "props": {
            "className": "field interact-widget"
           },
           "type": "node"
          }
         ],
         "instanceArgs": {
          "namespace": "html",
          "tag": "div"
         },
         "nodeType": "DOM",
         "props": {
          "style": {
           "display": "flex",
           "flex-direction": "column"
          }
         },
         "type": "node"
        }
       ],
       "instanceArgs": {
        "namespace": "html",
        "tag": "div"
       },
       "nodeType": "DOM",
       "props": {
        "style": {
         "display": "flex",
         "flex-direction": "row"
        }
       },
       "type": "node"
      },
      "text/html": [
       "<div\n",
       "    class=\"webio-mountpoint\"\n",
       "    data-webio-mountpoint=\"16216016442141615365\"\n",
       ">\n",
       "    <script>\n",
       "    if (window.require && require.defined && require.defined(\"nbextensions/webio-jupyter-notebook\")) {\n",
       "        console.log(\"Jupyter WebIO extension detected, not mounting.\");\n",
       "    } else if (window.WebIO) {\n",
       "        WebIO.mount(\n",
       "            document.querySelector('[data-webio-mountpoint=\"16216016442141615365\"]'),\n",
       "            {\"props\":{\"style\":{\"display\":\"flex\",\"flex-direction\":\"row\"}},\"nodeType\":\"DOM\",\"type\":\"node\",\"instanceArgs\":{\"namespace\":\"html\",\"tag\":\"div\"},\"children\":[{\"props\":{},\"nodeType\":\"Scope\",\"type\":\"node\",\"instanceArgs\":{\"imports\":{\"data\":[],\"type\":\"async_block\"},\"id\":\"13363113868335578509\",\"handlers\":{\"obs-output\":[\"function (value, scope) {\\n    scope.setInnerHTML(value);\\n}\\n\"]},\"systemjs_options\":null,\"mount_callbacks\":[],\"observables\":{\"obs-output\":{\"sync\":false,\"id\":\"7949310458057415837\",\"value\":\"<?xml version=\\\"1.0\\\" encoding=\\\"utf-8\\\"?>\\n<svg xmlns=\\\"http:\\/\\/www.w3.org\\/2000\\/svg\\\" xmlns:xlink=\\\"http:\\/\\/www.w3.org\\/1999\\/xlink\\\" width=\\\"600\\\" height=\\\"400\\\" viewBox=\\\"0 0 2400 1600\\\">\\n<defs>\\n  <clipPath id=\\\"clip340\\\">\\n    <rect x=\\\"0\\\" y=\\\"0\\\" width=\\\"2400\\\" height=\\\"1600\\\"\\/>\\n  <\\/clipPath>\\n<\\/defs>\\n<path clip-path=\\\"url(#clip340)\\\" d=\\\"\\nM0 1600 L2400 1600 L2400 0 L0 0  Z\\n  \\\" fill=\\\"#ffffff\\\" fill-rule=\\\"evenodd\\\" fill-opacity=\\\"1\\\"\\/>\\n<defs>\\n  <clipPath id=\\\"clip341\\\">\\n    <rect x=\\\"480\\\" y=\\\"0\\\" width=\\\"1681\\\" height=\\\"1600\\\"\\/>\\n  <\\/clipPath>\\n<\\/defs>\\n<path clip-path=\\\"url(#clip340)\\\" d=\\\"\\nM193.936 1486.45 L2352.76 1486.45 L2352.76 47.2441 L193.936 47.2441  Z\\n  \\\" fill=\\\"#ffffff\\\" fill-rule=\\\"evenodd\\\" fill-opacity=\\\"1\\\"\\/>\\n<defs>\\n  <clipPath id=\\\"clip342\\\">\\n    <rect x=\\\"193\\\" y=\\\"47\\\" width=\\\"2160\\\" height=\\\"1440\\\"\\/>\\n  <\\/clipPath>\\n<\\/defs>\\n<polyline clip-path=\\\"url(#clip342)\\\" style=\\\"stroke:#000000; stroke-width:2; stroke-opacity:0.1; fill:none\\\" points=\\\"\\n  458.697,1486.45 458.697,47.2441 \\n  \\\"\\/>\\n<polyline clip-path=\\\"url(#clip342)\\\" style=\\\"stroke:#000000; stroke-width:2; stroke-opacity:0.1; fill:none\\\" points=\\\"\\n  866.021,1486.45 866.021,47.2441 \\n  \\\"\\/>\\n<polyline clip-path=\\\"url(#clip342)\\\" style=\\\"stroke:#000000; stroke-width:2; stroke-opacity:0.1; fill:none\\\" points=\\\"\\n  1273.35,1486.45 1273.35,47.2441 \\n  \\\"\\/>\\n<polyline clip-path=\\\"url(#clip342)\\\" style=\\\"stroke:#000000; stroke-width:2; stroke-opacity:0.1; fill:none\\\" points=\\\"\\n  1680.67,1486.45 1680.67,47.2441 \\n  \\\"\\/>\\n<polyline clip-path=\\\"url(#clip342)\\\" style=\\\"stroke:#000000; stroke-width:2; stroke-opacity:0.1; fill:none\\\" points=\\\"\\n  2087.99,1486.45 2087.99,47.2441 \\n  \\\"\\/>\\n<polyline clip-path=\\\"url(#clip340)\\\" style=\\\"stroke:#000000; stroke-width:4; stroke-opacity:1; fill:none\\\" points=\\\"\\n  193.936,1486.45 2352.76,1486.45 \\n  \\\"\\/>\\n<polyline clip-path=\\\"url(#clip340)\\\" style=\\\"stroke:#000000; stroke-width:4; stroke-opacity:1; fill:none\\\" points=\\\"\\n  458.697,1486.45 458.697,1469.18 \\n  \\\"\\/>\\n<polyline clip-path=\\\"url(#clip340)\\\" style=\\\"stroke:#000000; stroke-width:4; stroke-opacity:1; fill:none\\\" points=\\\"\\n  866.021,1486.45 866.021,1469.18 \\n  \\\"\\/>\\n<polyline clip-path=\\\"url(#clip340)\\\" style=\\\"stroke:#000000; stroke-width:4; stroke-opacity:1; fill:none\\\" points=\\\"\\n  1273.35,1486.45 1273.35,1469.18 \\n  \\\"\\/>\\n<polyline clip-path=\\\"url(#clip340)\\\" style=\\\"stroke:#000000; stroke-width:4; stroke-opacity:1; fill:none\\\" points=\\\"\\n  1680.67,1486.45 1680.67,1469.18 \\n  \\\"\\/>\\n<polyline clip-path=\\\"url(#clip340)\\\" style=\\\"stroke:#000000; stroke-width:4; stroke-opacity:1; fill:none\\\" points=\\\"\\n  2087.99,1486.45 2087.99,1469.18 \\n  \\\"\\/>\\n<path clip-path=\\\"url(#clip340)\\\" d=\\\"M 0 0 M427.598 1530.29 L457.273 1530.29 L457.273 1534.23 L427.598 1534.23 L427.598 1530.29 Z\\\" fill=\\\"#000000\\\" fill-rule=\\\"evenodd\\\" fill-opacity=\\\"1\\\" \\/><path clip-path=\\\"url(#clip340)\\\" d=\\\"M 0 0 M480.213 1516.63 L468.408 1535.08 L480.213 1535.08 L480.213 1516.63 M478.986 1512.56 L484.866 1512.56 L484.866 1535.08 L489.796 1535.08 L489.796 1538.97 L484.866 1538.97 L484.866 1547.12 L480.213 1547.12 L480.213 1538.97 L464.611 1538.97 L464.611 1534.46 L478.986 1512.56 Z\\\" fill=\\\"#000000\\\" fill-rule=\\\"evenodd\\\" fill-opacity=\\\"1\\\" \\/><path clip-path=\\\"url(#clip340)\\\" d=\\\"M 0 0 M835.964 1530.29 L865.639 1530.29 L865.639 1534.23 L835.964 1534.23 L835.964 1530.29 Z\\\" fill=\\\"#000000\\\" fill-rule=\\\"evenodd\\\" fill-opacity=\\\"1\\\" \\/><path clip-path=\\\"url(#clip340)\\\" d=\\\"M 0 0 M879.76 1543.18 L896.079 1543.18 L896.079 1547.12 L874.135 1547.12 L874.135 1543.18 Q876.797 1540.43 881.38 1535.8 Q885.987 1531.15 887.167 1529.81 Q889.413 1527.28 890.292 1525.55 Q891.195 1523.79 891.195 1522.1 Q891.195 1519.34 889.25 1517.61 Q887.329 1515.87 884.227 1515.87 Q882.028 1515.87 879.575 1516.63 Q877.144 1517.4 874.366 1518.95 L874.366 1514.23 Q877.19 1513.09 879.644 1512.51 Q882.098 1511.93 884.135 1511.93 Q889.505 1511.93 892.7 1514.62 Q895.894 1517.31 895.894 1521.8 Q895.894 1523.93 895.084 1525.85 Q894.297 1527.74 892.19 1530.34 Q891.612 1531.01 888.51 1534.23 Q885.408 1537.42 879.76 1543.18 Z\\\" fill=\\\"#000000\\\" fill-rule=\\\"evenodd\\\" fill-opacity=\\\"1\\\" \\/><path clip-path=\\\"url(#clip340)\\\" d=\\\"M 0 0 M1273.35 1515.64 Q1269.73 1515.64 1267.91 1519.2 Q1266.1 1522.75 1266.1 1529.87 Q1266.1 1536.98 1267.91 1540.55 Q1269.73 1544.09 1273.35 1544.09 Q1276.98 1544.09 1278.79 1540.55 Q1280.61 1536.98 1280.61 1529.87 Q1280.61 1522.75 1278.79 1519.2 Q1276.98 1515.64 1273.35 1515.64 M1273.35 1511.93 Q1279.16 1511.93 1282.21 1516.54 Q1285.29 1521.12 1285.29 1529.87 Q1285.29 1538.6 1282.21 1543.21 Q1279.16 1547.79 1273.35 1547.79 Q1267.54 1547.79 1264.46 1543.21 Q1261.4 1538.6 1261.4 1529.87 Q1261.4 1521.12 1264.46 1516.54 Q1267.54 1511.93 1273.35 1511.93 Z\\\" fill=\\\"#000000\\\" fill-rule=\\\"evenodd\\\" fill-opacity=\\\"1\\\" \\/><path clip-path=\\\"url(#clip340)\\\" d=\\\"M 0 0 M1675.32 1543.18 L1691.64 1543.18 L1691.64 1547.12 L1669.7 1547.12 L1669.7 1543.18 Q1672.36 1540.43 1676.94 1535.8 Q1681.55 1531.15 1682.73 1529.81 Q1684.98 1527.28 1685.86 1525.55 Q1686.76 1523.79 1686.76 1522.1 Q1686.76 1519.34 1684.81 1517.61 Q1682.89 1515.87 1679.79 1515.87 Q1677.59 1515.87 1675.14 1516.63 Q1672.71 1517.4 1669.93 1518.95 L1669.93 1514.23 Q1672.75 1513.09 1675.21 1512.51 Q1677.66 1511.93 1679.7 1511.93 Q1685.07 1511.93 1688.26 1514.62 Q1691.46 1517.31 1691.46 1521.8 Q1691.46 1523.93 1690.65 1525.85 Q1689.86 1527.74 1687.75 1530.34 Q1687.18 1531.01 1684.07 1534.23 Q1680.97 1537.42 1675.32 1543.18 Z\\\" fill=\\\"#000000\\\" fill-rule=\\\"evenodd\\\" fill-opacity=\\\"1\\\" \\/><path clip-path=\\\"url(#clip340)\\\" d=\\\"M 0 0 M2091 1516.63 L2079.2 1535.08 L2091 1535.08 L2091 1516.63 M2089.78 1512.56 L2095.66 1512.56 L2095.66 1535.08 L2100.59 1535.08 L2100.59 1538.97 L2095.66 1538.97 L2095.66 1547.12 L2091 1547.12 L2091 1538.97 L2075.4 1538.97 L2075.4 1534.46 L2089.78 1512.56 Z\\\" fill=\\\"#000000\\\" fill-rule=\\\"evenodd\\\" fill-opacity=\\\"1\\\" \\/><polyline clip-path=\\\"url(#clip342)\\\" style=\\\"stroke:#000000; stroke-width:2; stroke-opacity:0.1; fill:none\\\" points=\\\"\\n  193.936,1445.9 2352.76,1445.9 \\n  \\\"\\/>\\n<polyline clip-path=\\\"url(#clip342)\\\" style=\\\"stroke:#000000; stroke-width:2; stroke-opacity:0.1; fill:none\\\" points=\\\"\\n  193.936,1106.31 2352.76,1106.31 \\n  \\\"\\/>\\n<polyline clip-path=\\\"url(#clip342)\\\" style=\\\"stroke:#000000; stroke-width:2; stroke-opacity:0.1; fill:none\\\" points=\\\"\\n  193.936,766.721 2352.76,766.721 \\n  \\\"\\/>\\n<polyline clip-path=\\\"url(#clip342)\\\" style=\\\"stroke:#000000; stroke-width:2; stroke-opacity:0.1; fill:none\\\" points=\\\"\\n  193.936,427.131 2352.76,427.131 \\n  \\\"\\/>\\n<polyline clip-path=\\\"url(#clip342)\\\" style=\\\"stroke:#000000; stroke-width:2; stroke-opacity:0.1; fill:none\\\" points=\\\"\\n  193.936,87.5412 2352.76,87.5412 \\n  \\\"\\/>\\n<polyline clip-path=\\\"url(#clip340)\\\" style=\\\"stroke:#000000; stroke-width:4; stroke-opacity:1; fill:none\\\" points=\\\"\\n  193.936,1486.45 193.936,47.2441 \\n  \\\"\\/>\\n<polyline clip-path=\\\"url(#clip340)\\\" style=\\\"stroke:#000000; stroke-width:4; stroke-opacity:1; fill:none\\\" points=\\\"\\n  193.936,1445.9 219.842,1445.9 \\n  \\\"\\/>\\n<polyline clip-path=\\\"url(#clip340)\\\" style=\\\"stroke:#000000; stroke-width:4; stroke-opacity:1; fill:none\\\" points=\\\"\\n  193.936,1106.31 219.842,1106.31 \\n  \\\"\\/>\\n<polyline clip-path=\\\"url(#clip340)\\\" style=\\\"stroke:#000000; stroke-width:4; stroke-opacity:1; fill:none\\\" points=\\\"\\n  193.936,766.721 219.842,766.721 \\n  \\\"\\/>\\n<polyline clip-path=\\\"url(#clip340)\\\" style=\\\"stroke:#000000; stroke-width:4; stroke-opacity:1; fill:none\\\" points=\\\"\\n  193.936,427.131 219.842,427.131 \\n  \\\"\\/>\\n<polyline clip-path=\\\"url(#clip340)\\\" style=\\\"stroke:#000000; stroke-width:4; stroke-opacity:1; fill:none\\\" points=\\\"\\n  193.936,87.5412 219.842,87.5412 \\n  \\\"\\/>\\n<path clip-path=\\\"url(#clip340)\\\" d=\\\"M 0 0 M50.9921 1446.35 L80.6679 1446.35 L80.6679 1450.29 L50.9921 1450.29 L50.9921 1446.35 Z\\\" fill=\\\"#000000\\\" fill-rule=\\\"evenodd\\\" fill-opacity=\\\"1\\\" \\/><path clip-path=\\\"url(#clip340)\\\" d=\\\"M 0 0 M91.5706 1459.25 L99.2095 1459.25 L99.2095 1432.88 L90.8993 1434.55 L90.8993 1430.29 L99.1632 1428.62 L103.839 1428.62 L103.839 1459.25 L111.478 1459.25 L111.478 1463.18 L91.5706 1463.18 L91.5706 1459.25 Z\\\" fill=\\\"#000000\\\" fill-rule=\\\"evenodd\\\" fill-opacity=\\\"1\\\" \\/><path clip-path=\\\"url(#clip340)\\\" d=\\\"M 0 0 M120.922 1457.3 L125.807 1457.3 L125.807 1463.18 L120.922 1463.18 L120.922 1457.3 Z\\\" fill=\\\"#000000\\\" fill-rule=\\\"evenodd\\\" fill-opacity=\\\"1\\\" \\/><path clip-path=\\\"url(#clip340)\\\" d=\\\"M 0 0 M145.992 1431.7 Q142.381 1431.7 140.552 1435.27 Q138.746 1438.81 138.746 1445.94 Q138.746 1453.04 140.552 1456.61 Q142.381 1460.15 145.992 1460.15 Q149.626 1460.15 151.431 1456.61 Q153.26 1453.04 153.26 1445.94 Q153.26 1438.81 151.431 1435.27 Q149.626 1431.7 145.992 1431.7 M145.992 1428 Q151.802 1428 154.857 1432.6 Q157.936 1437.19 157.936 1445.94 Q157.936 1454.66 154.857 1459.27 Q151.802 1463.85 145.992 1463.85 Q140.181 1463.85 137.103 1459.27 Q134.047 1454.66 134.047 1445.94 Q134.047 1437.19 137.103 1432.6 Q140.181 1428 145.992 1428 Z\\\" fill=\\\"#000000\\\" fill-rule=\\\"evenodd\\\" fill-opacity=\\\"1\\\" \\/><path clip-path=\\\"url(#clip340)\\\" d=\\\"M 0 0 M51.9875 1106.76 L81.6633 1106.76 L81.6633 1110.7 L51.9875 1110.7 L51.9875 1106.76 Z\\\" fill=\\\"#000000\\\" fill-rule=\\\"evenodd\\\" fill-opacity=\\\"1\\\" \\/><path clip-path=\\\"url(#clip340)\\\" d=\\\"M 0 0 M101.756 1092.11 Q98.1447 1092.11 96.316 1095.68 Q94.5104 1099.22 94.5104 1106.35 Q94.5104 1113.45 96.316 1117.02 Q98.1447 1120.56 101.756 1120.56 Q105.39 1120.56 107.196 1117.02 Q109.024 1113.45 109.024 1106.35 Q109.024 1099.22 107.196 1095.68 Q105.39 1092.11 101.756 1092.11 M101.756 1088.41 Q107.566 1088.41 110.621 1093.01 Q113.7 1097.6 113.7 1106.35 Q113.7 1115.07 110.621 1119.68 Q107.566 1124.26 101.756 1124.26 Q95.9456 1124.26 92.8669 1119.68 Q89.8114 1115.07 89.8114 1106.35 Q89.8114 1097.6 92.8669 1093.01 Q95.9456 1088.41 101.756 1088.41 Z\\\" fill=\\\"#000000\\\" fill-rule=\\\"evenodd\\\" fill-opacity=\\\"1\\\" \\/><path clip-path=\\\"url(#clip340)\\\" d=\\\"M 0 0 M121.918 1117.71 L126.802 1117.71 L126.802 1123.59 L121.918 1123.59 L121.918 1117.71 Z\\\" fill=\\\"#000000\\\" fill-rule=\\\"evenodd\\\" fill-opacity=\\\"1\\\" \\/><path clip-path=\\\"url(#clip340)\\\" d=\\\"M 0 0 M137.033 1089.03 L155.39 1089.03 L155.39 1092.97 L141.316 1092.97 L141.316 1101.44 Q142.334 1101.09 143.353 1100.93 Q144.371 1100.74 145.39 1100.74 Q151.177 1100.74 154.556 1103.92 Q157.936 1107.09 157.936 1112.5 Q157.936 1118.08 154.464 1121.18 Q150.992 1124.26 144.672 1124.26 Q142.496 1124.26 140.228 1123.89 Q137.982 1123.52 135.575 1122.78 L135.575 1118.08 Q137.658 1119.22 139.881 1119.77 Q142.103 1120.33 144.58 1120.33 Q148.584 1120.33 150.922 1118.22 Q153.26 1116.11 153.26 1112.5 Q153.26 1108.89 150.922 1106.79 Q148.584 1104.68 144.58 1104.68 Q142.705 1104.68 140.83 1105.1 Q138.978 1105.51 137.033 1106.39 L137.033 1089.03 Z\\\" fill=\\\"#000000\\\" fill-rule=\\\"evenodd\\\" fill-opacity=\\\"1\\\" \\/><path clip-path=\\\"url(#clip340)\\\" d=\\\"M 0 0 M100.76 752.52 Q97.1493 752.52 95.3206 756.085 Q93.515 759.627 93.515 766.756 Q93.515 773.863 95.3206 777.427 Q97.1493 780.969 100.76 780.969 Q104.395 780.969 106.2 777.427 Q108.029 773.863 108.029 766.756 Q108.029 759.627 106.2 756.085 Q104.395 752.52 100.76 752.52 M100.76 748.816 Q106.571 748.816 109.626 753.423 Q112.705 758.006 112.705 766.756 Q112.705 775.483 109.626 780.089 Q106.571 784.673 100.76 784.673 Q94.9502 784.673 91.8715 780.089 Q88.816 775.483 88.816 766.756 Q88.816 758.006 91.8715 753.423 Q94.9502 748.816 100.76 748.816 Z\\\" fill=\\\"#000000\\\" fill-rule=\\\"evenodd\\\" fill-opacity=\\\"1\\\" \\/><path clip-path=\\\"url(#clip340)\\\" d=\\\"M 0 0 M120.922 778.122 L125.807 778.122 L125.807 784.001 L120.922 784.001 L120.922 778.122 Z\\\" fill=\\\"#000000\\\" fill-rule=\\\"evenodd\\\" fill-opacity=\\\"1\\\" \\/><path clip-path=\\\"url(#clip340)\\\" d=\\\"M 0 0 M145.992 752.52 Q142.381 752.52 140.552 756.085 Q138.746 759.627 138.746 766.756 Q138.746 773.863 140.552 777.427 Q142.381 780.969 145.992 780.969 Q149.626 780.969 151.431 777.427 Q153.26 773.863 153.26 766.756 Q153.26 759.627 151.431 756.085 Q149.626 752.52 145.992 752.52 M145.992 748.816 Q151.802 748.816 154.857 753.423 Q157.936 758.006 157.936 766.756 Q157.936 775.483 154.857 780.089 Q151.802 784.673 145.992 784.673 Q140.181 784.673 137.103 780.089 Q134.047 775.483 134.047 766.756 Q134.047 758.006 137.103 753.423 Q140.181 748.816 145.992 748.816 Z\\\" fill=\\\"#000000\\\" fill-rule=\\\"evenodd\\\" fill-opacity=\\\"1\\\" \\/><path clip-path=\\\"url(#clip340)\\\" d=\\\"M 0 0 M101.756 412.93 Q98.1447 412.93 96.316 416.495 Q94.5104 420.036 94.5104 427.166 Q94.5104 434.273 96.316 437.837 Q98.1447 441.379 101.756 441.379 Q105.39 441.379 107.196 437.837 Q109.024 434.273 109.024 427.166 Q109.024 420.036 107.196 416.495 Q105.39 412.93 101.756 412.93 M101.756 409.226 Q107.566 409.226 110.621 413.833 Q113.7 418.416 113.7 427.166 Q113.7 435.893 110.621 440.499 Q107.566 445.083 101.756 445.083 Q95.9456 445.083 92.8669 440.499 Q89.8114 435.893 89.8114 427.166 Q89.8114 418.416 92.8669 413.833 Q95.9456 409.226 101.756 409.226 Z\\\" fill=\\\"#000000\\\" fill-rule=\\\"evenodd\\\" fill-opacity=\\\"1\\\" \\/><path clip-path=\\\"url(#clip340)\\\" d=\\\"M 0 0 M121.918 438.532 L126.802 438.532 L126.802 444.411 L121.918 444.411 L121.918 438.532 Z\\\" fill=\\\"#000000\\\" fill-rule=\\\"evenodd\\\" fill-opacity=\\\"1\\\" \\/><path clip-path=\\\"url(#clip340)\\\" d=\\\"M 0 0 M137.033 409.851 L155.39 409.851 L155.39 413.787 L141.316 413.787 L141.316 422.259 Q142.334 421.911 143.353 421.749 Q144.371 421.564 145.39 421.564 Q151.177 421.564 154.556 424.736 Q157.936 427.907 157.936 433.323 Q157.936 438.902 154.464 442.004 Q150.992 445.083 144.672 445.083 Q142.496 445.083 140.228 444.712 Q137.982 444.342 135.575 443.601 L135.575 438.902 Q137.658 440.036 139.881 440.592 Q142.103 441.147 144.58 441.147 Q148.584 441.147 150.922 439.041 Q153.26 436.935 153.26 433.323 Q153.26 429.712 150.922 427.606 Q148.584 425.499 144.58 425.499 Q142.705 425.499 140.83 425.916 Q138.978 426.333 137.033 427.212 L137.033 409.851 Z\\\" fill=\\\"#000000\\\" fill-rule=\\\"evenodd\\\" fill-opacity=\\\"1\\\" \\/><path clip-path=\\\"url(#clip340)\\\" d=\\\"M 0 0 M91.5706 100.886 L99.2095 100.886 L99.2095 74.5205 L90.8993 76.1871 L90.8993 71.9279 L99.1632 70.2612 L103.839 70.2612 L103.839 100.886 L111.478 100.886 L111.478 104.821 L91.5706 104.821 L91.5706 100.886 Z\\\" fill=\\\"#000000\\\" fill-rule=\\\"evenodd\\\" fill-opacity=\\\"1\\\" \\/><path clip-path=\\\"url(#clip340)\\\" d=\\\"M 0 0 M120.922 98.9416 L125.807 98.9416 L125.807 104.821 L120.922 104.821 L120.922 98.9416 Z\\\" fill=\\\"#000000\\\" fill-rule=\\\"evenodd\\\" fill-opacity=\\\"1\\\" \\/><path clip-path=\\\"url(#clip340)\\\" d=\\\"M 0 0 M145.992 73.3399 Q142.381 73.3399 140.552 76.9047 Q138.746 80.4463 138.746 87.5759 Q138.746 94.6824 140.552 98.2472 Q142.381 101.789 145.992 101.789 Q149.626 101.789 151.431 98.2472 Q153.26 94.6824 153.26 87.5759 Q153.26 80.4463 151.431 76.9047 Q149.626 73.3399 145.992 73.3399 M145.992 69.6362 Q151.802 69.6362 154.857 74.2427 Q157.936 78.826 157.936 87.5759 Q157.936 96.3027 154.857 100.909 Q151.802 105.493 145.992 105.493 Q140.181 105.493 137.103 100.909 Q134.047 96.3027 134.047 87.5759 Q134.047 78.826 137.103 74.2427 Q140.181 69.6362 145.992 69.6362 Z\\\" fill=\\\"#000000\\\" fill-rule=\\\"evenodd\\\" fill-opacity=\\\"1\\\" \\/><polyline clip-path=\\\"url(#clip342)\\\" style=\\\"stroke:#7f7f7f; stroke-width:4; stroke-opacity:1; fill:none\\\" points=\\\"\\n  255.035,115.439 260.007,110.93 264.979,106.812 269.952,103.087 274.924,99.7575 297.912,89.5578 320.9,87.9763 343.888,95.0332 366.877,110.639 389.865,134.594 \\n  412.853,166.595 435.841,206.233 458.829,253.004 486.459,317.813 514.089,390.87 541.719,470.835 569.348,556.237 616.07,708.592 662.791,863.993 713.544,1026.77 \\n  764.296,1173.47 787.691,1233.14 811.085,1286.65 834.48,1333.31 857.875,1372.5 882.956,1405.64 908.038,1429.1 933.119,1442.53 958.201,1445.72 987.26,1436.56 \\n  1016.32,1413.78 1045.38,1377.86 1074.44,1329.51 1100.26,1276.91 1126.09,1216.12 1151.91,1148.11 1177.74,1073.98 1223.03,932.82 1268.32,783.48 1317.7,619.973 \\n  1367.08,465.052 1391.92,393.268 1416.75,327.032 1441.59,267.326 1466.43,215.038 1493.89,166.794 1521.35,129.439 1548.81,103.653 1576.27,89.903 1602.4,88.2248 \\n  1628.52,97.6981 1654.65,118.167 1680.78,149.296 1707.95,192.414 1735.11,245.737 1762.28,308.315 1789.45,379.038 1835.18,512.959 1880.92,659.625 1936.76,845.218 \\n  1992.6,1024.95 2018.85,1103.53 2045.09,1176.53 2071.34,1242.74 2097.58,1301.05 2118.61,1341.41 2139.63,1375.65 2160.65,1403.41 2181.68,1424.38 2202.7,1438.36 \\n  2223.73,1445.19 2244.75,1444.79 2265.77,1437.17 2272.24,1433.38 2278.72,1428.92 2285.19,1423.8 2291.66,1418 \\n  \\\"\\/>\\n<path clip-path=\\\"url(#clip340)\\\" d=\\\"\\nM1988.5 216.178 L2280.8 216.178 L2280.8 95.2176 L1988.5 95.2176  Z\\n  \\\" fill=\\\"#ffffff\\\" fill-rule=\\\"evenodd\\\" fill-opacity=\\\"1\\\"\\/>\\n<polyline clip-path=\\\"url(#clip340)\\\" style=\\\"stroke:#000000; stroke-width:4; stroke-opacity:1; fill:none\\\" points=\\\"\\n  1988.5,216.178 2280.8,216.178 2280.8,95.2176 1988.5,95.2176 1988.5,216.178 \\n  \\\"\\/>\\n<polyline clip-path=\\\"url(#clip340)\\\" style=\\\"stroke:#7f7f7f; stroke-width:4; stroke-opacity:1; fill:none\\\" points=\\\"\\n  2012.48,155.698 2156.4,155.698 \\n  \\\"\\/>\\n<path clip-path=\\\"url(#clip340)\\\" d=\\\"M 0 0 M2194.23 175.385 Q2192.43 180.015 2190.72 181.427 Q2189 182.839 2186.13 182.839 L2182.73 182.839 L2182.73 179.274 L2185.23 179.274 Q2186.99 179.274 2187.96 178.44 Q2188.93 177.607 2190.11 174.505 L2190.88 172.561 L2180.39 147.052 L2184.91 147.052 L2193.01 167.329 L2201.11 147.052 L2205.62 147.052 L2194.23 175.385 Z\\\" fill=\\\"#000000\\\" fill-rule=\\\"evenodd\\\" fill-opacity=\\\"1\\\" \\/><path clip-path=\\\"url(#clip340)\\\" d=\\\"M 0 0 M2212.91 169.042 L2220.55 169.042 L2220.55 142.677 L2212.24 144.343 L2212.24 140.084 L2220.51 138.418 L2225.18 138.418 L2225.18 169.042 L2232.82 169.042 L2232.82 172.978 L2212.91 172.978 L2212.91 169.042 Z\\\" fill=\\\"#000000\\\" fill-rule=\\\"evenodd\\\" fill-opacity=\\\"1\\\" \\/><\\/svg>\\n\"}}},\"children\":[{\"props\":{\"className\":\"webio-observable\",\"setInnerHtml\":\"<?xml version=\\\"1.0\\\" encoding=\\\"utf-8\\\"?>\\n<svg xmlns=\\\"http:\\/\\/www.w3.org\\/2000\\/svg\\\" xmlns:xlink=\\\"http:\\/\\/www.w3.org\\/1999\\/xlink\\\" width=\\\"600\\\" height=\\\"400\\\" viewBox=\\\"0 0 2400 1600\\\">\\n<defs>\\n  <clipPath id=\\\"clip340\\\">\\n    <rect x=\\\"0\\\" y=\\\"0\\\" width=\\\"2400\\\" height=\\\"1600\\\"\\/>\\n  <\\/clipPath>\\n<\\/defs>\\n<path clip-path=\\\"url(#clip340)\\\" d=\\\"\\nM0 1600 L2400 1600 L2400 0 L0 0  Z\\n  \\\" fill=\\\"#ffffff\\\" fill-rule=\\\"evenodd\\\" fill-opacity=\\\"1\\\"\\/>\\n<defs>\\n  <clipPath id=\\\"clip341\\\">\\n    <rect x=\\\"480\\\" y=\\\"0\\\" width=\\\"1681\\\" height=\\\"1600\\\"\\/>\\n  <\\/clipPath>\\n<\\/defs>\\n<path clip-path=\\\"url(#clip340)\\\" d=\\\"\\nM193.936 1486.45 L2352.76 1486.45 L2352.76 47.2441 L193.936 47.2441  Z\\n  \\\" fill=\\\"#ffffff\\\" fill-rule=\\\"evenodd\\\" fill-opacity=\\\"1\\\"\\/>\\n<defs>\\n  <clipPath id=\\\"clip342\\\">\\n    <rect x=\\\"193\\\" y=\\\"47\\\" width=\\\"2160\\\" height=\\\"1440\\\"\\/>\\n  <\\/clipPath>\\n<\\/defs>\\n<polyline clip-path=\\\"url(#clip342)\\\" style=\\\"stroke:#000000; stroke-width:2; stroke-opacity:0.1; fill:none\\\" points=\\\"\\n  458.697,1486.45 458.697,47.2441 \\n  \\\"\\/>\\n<polyline clip-path=\\\"url(#clip342)\\\" style=\\\"stroke:#000000; stroke-width:2; stroke-opacity:0.1; fill:none\\\" points=\\\"\\n  866.021,1486.45 866.021,47.2441 \\n  \\\"\\/>\\n<polyline clip-path=\\\"url(#clip342)\\\" style=\\\"stroke:#000000; stroke-width:2; stroke-opacity:0.1; fill:none\\\" points=\\\"\\n  1273.35,1486.45 1273.35,47.2441 \\n  \\\"\\/>\\n<polyline clip-path=\\\"url(#clip342)\\\" style=\\\"stroke:#000000; stroke-width:2; stroke-opacity:0.1; fill:none\\\" points=\\\"\\n  1680.67,1486.45 1680.67,47.2441 \\n  \\\"\\/>\\n<polyline clip-path=\\\"url(#clip342)\\\" style=\\\"stroke:#000000; stroke-width:2; stroke-opacity:0.1; fill:none\\\" points=\\\"\\n  2087.99,1486.45 2087.99,47.2441 \\n  \\\"\\/>\\n<polyline clip-path=\\\"url(#clip340)\\\" style=\\\"stroke:#000000; stroke-width:4; stroke-opacity:1; fill:none\\\" points=\\\"\\n  193.936,1486.45 2352.76,1486.45 \\n  \\\"\\/>\\n<polyline clip-path=\\\"url(#clip340)\\\" style=\\\"stroke:#000000; stroke-width:4; stroke-opacity:1; fill:none\\\" points=\\\"\\n  458.697,1486.45 458.697,1469.18 \\n  \\\"\\/>\\n<polyline clip-path=\\\"url(#clip340)\\\" style=\\\"stroke:#000000; stroke-width:4; stroke-opacity:1; fill:none\\\" points=\\\"\\n  866.021,1486.45 866.021,1469.18 \\n  \\\"\\/>\\n<polyline clip-path=\\\"url(#clip340)\\\" style=\\\"stroke:#000000; stroke-width:4; stroke-opacity:1; fill:none\\\" points=\\\"\\n  1273.35,1486.45 1273.35,1469.18 \\n  \\\"\\/>\\n<polyline clip-path=\\\"url(#clip340)\\\" style=\\\"stroke:#000000; stroke-width:4; stroke-opacity:1; fill:none\\\" points=\\\"\\n  1680.67,1486.45 1680.67,1469.18 \\n  \\\"\\/>\\n<polyline clip-path=\\\"url(#clip340)\\\" style=\\\"stroke:#000000; stroke-width:4; stroke-opacity:1; fill:none\\\" points=\\\"\\n  2087.99,1486.45 2087.99,1469.18 \\n  \\\"\\/>\\n<path clip-path=\\\"url(#clip340)\\\" d=\\\"M 0 0 M427.598 1530.29 L457.273 1530.29 L457.273 1534.23 L427.598 1534.23 L427.598 1530.29 Z\\\" fill=\\\"#000000\\\" fill-rule=\\\"evenodd\\\" fill-opacity=\\\"1\\\" \\/><path clip-path=\\\"url(#clip340)\\\" d=\\\"M 0 0 M480.213 1516.63 L468.408 1535.08 L480.213 1535.08 L480.213 1516.63 M478.986 1512.56 L484.866 1512.56 L484.866 1535.08 L489.796 1535.08 L489.796 1538.97 L484.866 1538.97 L484.866 1547.12 L480.213 1547.12 L480.213 1538.97 L464.611 1538.97 L464.611 1534.46 L478.986 1512.56 Z\\\" fill=\\\"#000000\\\" fill-rule=\\\"evenodd\\\" fill-opacity=\\\"1\\\" \\/><path clip-path=\\\"url(#clip340)\\\" d=\\\"M 0 0 M835.964 1530.29 L865.639 1530.29 L865.639 1534.23 L835.964 1534.23 L835.964 1530.29 Z\\\" fill=\\\"#000000\\\" fill-rule=\\\"evenodd\\\" fill-opacity=\\\"1\\\" \\/><path clip-path=\\\"url(#clip340)\\\" d=\\\"M 0 0 M879.76 1543.18 L896.079 1543.18 L896.079 1547.12 L874.135 1547.12 L874.135 1543.18 Q876.797 1540.43 881.38 1535.8 Q885.987 1531.15 887.167 1529.81 Q889.413 1527.28 890.292 1525.55 Q891.195 1523.79 891.195 1522.1 Q891.195 1519.34 889.25 1517.61 Q887.329 1515.87 884.227 1515.87 Q882.028 1515.87 879.575 1516.63 Q877.144 1517.4 874.366 1518.95 L874.366 1514.23 Q877.19 1513.09 879.644 1512.51 Q882.098 1511.93 884.135 1511.93 Q889.505 1511.93 892.7 1514.62 Q895.894 1517.31 895.894 1521.8 Q895.894 1523.93 895.084 1525.85 Q894.297 1527.74 892.19 1530.34 Q891.612 1531.01 888.51 1534.23 Q885.408 1537.42 879.76 1543.18 Z\\\" fill=\\\"#000000\\\" fill-rule=\\\"evenodd\\\" fill-opacity=\\\"1\\\" \\/><path clip-path=\\\"url(#clip340)\\\" d=\\\"M 0 0 M1273.35 1515.64 Q1269.73 1515.64 1267.91 1519.2 Q1266.1 1522.75 1266.1 1529.87 Q1266.1 1536.98 1267.91 1540.55 Q1269.73 1544.09 1273.35 1544.09 Q1276.98 1544.09 1278.79 1540.55 Q1280.61 1536.98 1280.61 1529.87 Q1280.61 1522.75 1278.79 1519.2 Q1276.98 1515.64 1273.35 1515.64 M1273.35 1511.93 Q1279.16 1511.93 1282.21 1516.54 Q1285.29 1521.12 1285.29 1529.87 Q1285.29 1538.6 1282.21 1543.21 Q1279.16 1547.79 1273.35 1547.79 Q1267.54 1547.79 1264.46 1543.21 Q1261.4 1538.6 1261.4 1529.87 Q1261.4 1521.12 1264.46 1516.54 Q1267.54 1511.93 1273.35 1511.93 Z\\\" fill=\\\"#000000\\\" fill-rule=\\\"evenodd\\\" fill-opacity=\\\"1\\\" \\/><path clip-path=\\\"url(#clip340)\\\" d=\\\"M 0 0 M1675.32 1543.18 L1691.64 1543.18 L1691.64 1547.12 L1669.7 1547.12 L1669.7 1543.18 Q1672.36 1540.43 1676.94 1535.8 Q1681.55 1531.15 1682.73 1529.81 Q1684.98 1527.28 1685.86 1525.55 Q1686.76 1523.79 1686.76 1522.1 Q1686.76 1519.34 1684.81 1517.61 Q1682.89 1515.87 1679.79 1515.87 Q1677.59 1515.87 1675.14 1516.63 Q1672.71 1517.4 1669.93 1518.95 L1669.93 1514.23 Q1672.75 1513.09 1675.21 1512.51 Q1677.66 1511.93 1679.7 1511.93 Q1685.07 1511.93 1688.26 1514.62 Q1691.46 1517.31 1691.46 1521.8 Q1691.46 1523.93 1690.65 1525.85 Q1689.86 1527.74 1687.75 1530.34 Q1687.18 1531.01 1684.07 1534.23 Q1680.97 1537.42 1675.32 1543.18 Z\\\" fill=\\\"#000000\\\" fill-rule=\\\"evenodd\\\" fill-opacity=\\\"1\\\" \\/><path clip-path=\\\"url(#clip340)\\\" d=\\\"M 0 0 M2091 1516.63 L2079.2 1535.08 L2091 1535.08 L2091 1516.63 M2089.78 1512.56 L2095.66 1512.56 L2095.66 1535.08 L2100.59 1535.08 L2100.59 1538.97 L2095.66 1538.97 L2095.66 1547.12 L2091 1547.12 L2091 1538.97 L2075.4 1538.97 L2075.4 1534.46 L2089.78 1512.56 Z\\\" fill=\\\"#000000\\\" fill-rule=\\\"evenodd\\\" fill-opacity=\\\"1\\\" \\/><polyline clip-path=\\\"url(#clip342)\\\" style=\\\"stroke:#000000; stroke-width:2; stroke-opacity:0.1; fill:none\\\" points=\\\"\\n  193.936,1445.9 2352.76,1445.9 \\n  \\\"\\/>\\n<polyline clip-path=\\\"url(#clip342)\\\" style=\\\"stroke:#000000; stroke-width:2; stroke-opacity:0.1; fill:none\\\" points=\\\"\\n  193.936,1106.31 2352.76,1106.31 \\n  \\\"\\/>\\n<polyline clip-path=\\\"url(#clip342)\\\" style=\\\"stroke:#000000; stroke-width:2; stroke-opacity:0.1; fill:none\\\" points=\\\"\\n  193.936,766.721 2352.76,766.721 \\n  \\\"\\/>\\n<polyline clip-path=\\\"url(#clip342)\\\" style=\\\"stroke:#000000; stroke-width:2; stroke-opacity:0.1; fill:none\\\" points=\\\"\\n  193.936,427.131 2352.76,427.131 \\n  \\\"\\/>\\n<polyline clip-path=\\\"url(#clip342)\\\" style=\\\"stroke:#000000; stroke-width:2; stroke-opacity:0.1; fill:none\\\" points=\\\"\\n  193.936,87.5412 2352.76,87.5412 \\n  \\\"\\/>\\n<polyline clip-path=\\\"url(#clip340)\\\" style=\\\"stroke:#000000; stroke-width:4; stroke-opacity:1; fill:none\\\" points=\\\"\\n  193.936,1486.45 193.936,47.2441 \\n  \\\"\\/>\\n<polyline clip-path=\\\"url(#clip340)\\\" style=\\\"stroke:#000000; stroke-width:4; stroke-opacity:1; fill:none\\\" points=\\\"\\n  193.936,1445.9 219.842,1445.9 \\n  \\\"\\/>\\n<polyline clip-path=\\\"url(#clip340)\\\" style=\\\"stroke:#000000; stroke-width:4; stroke-opacity:1; fill:none\\\" points=\\\"\\n  193.936,1106.31 219.842,1106.31 \\n  \\\"\\/>\\n<polyline clip-path=\\\"url(#clip340)\\\" style=\\\"stroke:#000000; stroke-width:4; stroke-opacity:1; fill:none\\\" points=\\\"\\n  193.936,766.721 219.842,766.721 \\n  \\\"\\/>\\n<polyline clip-path=\\\"url(#clip340)\\\" style=\\\"stroke:#000000; stroke-width:4; stroke-opacity:1; fill:none\\\" points=\\\"\\n  193.936,427.131 219.842,427.131 \\n  \\\"\\/>\\n<polyline clip-path=\\\"url(#clip340)\\\" style=\\\"stroke:#000000; stroke-width:4; stroke-opacity:1; fill:none\\\" points=\\\"\\n  193.936,87.5412 219.842,87.5412 \\n  \\\"\\/>\\n<path clip-path=\\\"url(#clip340)\\\" d=\\\"M 0 0 M50.9921 1446.35 L80.6679 1446.35 L80.6679 1450.29 L50.9921 1450.29 L50.9921 1446.35 Z\\\" fill=\\\"#000000\\\" fill-rule=\\\"evenodd\\\" fill-opacity=\\\"1\\\" \\/><path clip-path=\\\"url(#clip340)\\\" d=\\\"M 0 0 M91.5706 1459.25 L99.2095 1459.25 L99.2095 1432.88 L90.8993 1434.55 L90.8993 1430.29 L99.1632 1428.62 L103.839 1428.62 L103.839 1459.25 L111.478 1459.25 L111.478 1463.18 L91.5706 1463.18 L91.5706 1459.25 Z\\\" fill=\\\"#000000\\\" fill-rule=\\\"evenodd\\\" fill-opacity=\\\"1\\\" \\/><path clip-path=\\\"url(#clip340)\\\" d=\\\"M 0 0 M120.922 1457.3 L125.807 1457.3 L125.807 1463.18 L120.922 1463.18 L120.922 1457.3 Z\\\" fill=\\\"#000000\\\" fill-rule=\\\"evenodd\\\" fill-opacity=\\\"1\\\" \\/><path clip-path=\\\"url(#clip340)\\\" d=\\\"M 0 0 M145.992 1431.7 Q142.381 1431.7 140.552 1435.27 Q138.746 1438.81 138.746 1445.94 Q138.746 1453.04 140.552 1456.61 Q142.381 1460.15 145.992 1460.15 Q149.626 1460.15 151.431 1456.61 Q153.26 1453.04 153.26 1445.94 Q153.26 1438.81 151.431 1435.27 Q149.626 1431.7 145.992 1431.7 M145.992 1428 Q151.802 1428 154.857 1432.6 Q157.936 1437.19 157.936 1445.94 Q157.936 1454.66 154.857 1459.27 Q151.802 1463.85 145.992 1463.85 Q140.181 1463.85 137.103 1459.27 Q134.047 1454.66 134.047 1445.94 Q134.047 1437.19 137.103 1432.6 Q140.181 1428 145.992 1428 Z\\\" fill=\\\"#000000\\\" fill-rule=\\\"evenodd\\\" fill-opacity=\\\"1\\\" \\/><path clip-path=\\\"url(#clip340)\\\" d=\\\"M 0 0 M51.9875 1106.76 L81.6633 1106.76 L81.6633 1110.7 L51.9875 1110.7 L51.9875 1106.76 Z\\\" fill=\\\"#000000\\\" fill-rule=\\\"evenodd\\\" fill-opacity=\\\"1\\\" \\/><path clip-path=\\\"url(#clip340)\\\" d=\\\"M 0 0 M101.756 1092.11 Q98.1447 1092.11 96.316 1095.68 Q94.5104 1099.22 94.5104 1106.35 Q94.5104 1113.45 96.316 1117.02 Q98.1447 1120.56 101.756 1120.56 Q105.39 1120.56 107.196 1117.02 Q109.024 1113.45 109.024 1106.35 Q109.024 1099.22 107.196 1095.68 Q105.39 1092.11 101.756 1092.11 M101.756 1088.41 Q107.566 1088.41 110.621 1093.01 Q113.7 1097.6 113.7 1106.35 Q113.7 1115.07 110.621 1119.68 Q107.566 1124.26 101.756 1124.26 Q95.9456 1124.26 92.8669 1119.68 Q89.8114 1115.07 89.8114 1106.35 Q89.8114 1097.6 92.8669 1093.01 Q95.9456 1088.41 101.756 1088.41 Z\\\" fill=\\\"#000000\\\" fill-rule=\\\"evenodd\\\" fill-opacity=\\\"1\\\" \\/><path clip-path=\\\"url(#clip340)\\\" d=\\\"M 0 0 M121.918 1117.71 L126.802 1117.71 L126.802 1123.59 L121.918 1123.59 L121.918 1117.71 Z\\\" fill=\\\"#000000\\\" fill-rule=\\\"evenodd\\\" fill-opacity=\\\"1\\\" \\/><path clip-path=\\\"url(#clip340)\\\" d=\\\"M 0 0 M137.033 1089.03 L155.39 1089.03 L155.39 1092.97 L141.316 1092.97 L141.316 1101.44 Q142.334 1101.09 143.353 1100.93 Q144.371 1100.74 145.39 1100.74 Q151.177 1100.74 154.556 1103.92 Q157.936 1107.09 157.936 1112.5 Q157.936 1118.08 154.464 1121.18 Q150.992 1124.26 144.672 1124.26 Q142.496 1124.26 140.228 1123.89 Q137.982 1123.52 135.575 1122.78 L135.575 1118.08 Q137.658 1119.22 139.881 1119.77 Q142.103 1120.33 144.58 1120.33 Q148.584 1120.33 150.922 1118.22 Q153.26 1116.11 153.26 1112.5 Q153.26 1108.89 150.922 1106.79 Q148.584 1104.68 144.58 1104.68 Q142.705 1104.68 140.83 1105.1 Q138.978 1105.51 137.033 1106.39 L137.033 1089.03 Z\\\" fill=\\\"#000000\\\" fill-rule=\\\"evenodd\\\" fill-opacity=\\\"1\\\" \\/><path clip-path=\\\"url(#clip340)\\\" d=\\\"M 0 0 M100.76 752.52 Q97.1493 752.52 95.3206 756.085 Q93.515 759.627 93.515 766.756 Q93.515 773.863 95.3206 777.427 Q97.1493 780.969 100.76 780.969 Q104.395 780.969 106.2 777.427 Q108.029 773.863 108.029 766.756 Q108.029 759.627 106.2 756.085 Q104.395 752.52 100.76 752.52 M100.76 748.816 Q106.571 748.816 109.626 753.423 Q112.705 758.006 112.705 766.756 Q112.705 775.483 109.626 780.089 Q106.571 784.673 100.76 784.673 Q94.9502 784.673 91.8715 780.089 Q88.816 775.483 88.816 766.756 Q88.816 758.006 91.8715 753.423 Q94.9502 748.816 100.76 748.816 Z\\\" fill=\\\"#000000\\\" fill-rule=\\\"evenodd\\\" fill-opacity=\\\"1\\\" \\/><path clip-path=\\\"url(#clip340)\\\" d=\\\"M 0 0 M120.922 778.122 L125.807 778.122 L125.807 784.001 L120.922 784.001 L120.922 778.122 Z\\\" fill=\\\"#000000\\\" fill-rule=\\\"evenodd\\\" fill-opacity=\\\"1\\\" \\/><path clip-path=\\\"url(#clip340)\\\" d=\\\"M 0 0 M145.992 752.52 Q142.381 752.52 140.552 756.085 Q138.746 759.627 138.746 766.756 Q138.746 773.863 140.552 777.427 Q142.381 780.969 145.992 780.969 Q149.626 780.969 151.431 777.427 Q153.26 773.863 153.26 766.756 Q153.26 759.627 151.431 756.085 Q149.626 752.52 145.992 752.52 M145.992 748.816 Q151.802 748.816 154.857 753.423 Q157.936 758.006 157.936 766.756 Q157.936 775.483 154.857 780.089 Q151.802 784.673 145.992 784.673 Q140.181 784.673 137.103 780.089 Q134.047 775.483 134.047 766.756 Q134.047 758.006 137.103 753.423 Q140.181 748.816 145.992 748.816 Z\\\" fill=\\\"#000000\\\" fill-rule=\\\"evenodd\\\" fill-opacity=\\\"1\\\" \\/><path clip-path=\\\"url(#clip340)\\\" d=\\\"M 0 0 M101.756 412.93 Q98.1447 412.93 96.316 416.495 Q94.5104 420.036 94.5104 427.166 Q94.5104 434.273 96.316 437.837 Q98.1447 441.379 101.756 441.379 Q105.39 441.379 107.196 437.837 Q109.024 434.273 109.024 427.166 Q109.024 420.036 107.196 416.495 Q105.39 412.93 101.756 412.93 M101.756 409.226 Q107.566 409.226 110.621 413.833 Q113.7 418.416 113.7 427.166 Q113.7 435.893 110.621 440.499 Q107.566 445.083 101.756 445.083 Q95.9456 445.083 92.8669 440.499 Q89.8114 435.893 89.8114 427.166 Q89.8114 418.416 92.8669 413.833 Q95.9456 409.226 101.756 409.226 Z\\\" fill=\\\"#000000\\\" fill-rule=\\\"evenodd\\\" fill-opacity=\\\"1\\\" \\/><path clip-path=\\\"url(#clip340)\\\" d=\\\"M 0 0 M121.918 438.532 L126.802 438.532 L126.802 444.411 L121.918 444.411 L121.918 438.532 Z\\\" fill=\\\"#000000\\\" fill-rule=\\\"evenodd\\\" fill-opacity=\\\"1\\\" \\/><path clip-path=\\\"url(#clip340)\\\" d=\\\"M 0 0 M137.033 409.851 L155.39 409.851 L155.39 413.787 L141.316 413.787 L141.316 422.259 Q142.334 421.911 143.353 421.749 Q144.371 421.564 145.39 421.564 Q151.177 421.564 154.556 424.736 Q157.936 427.907 157.936 433.323 Q157.936 438.902 154.464 442.004 Q150.992 445.083 144.672 445.083 Q142.496 445.083 140.228 444.712 Q137.982 444.342 135.575 443.601 L135.575 438.902 Q137.658 440.036 139.881 440.592 Q142.103 441.147 144.58 441.147 Q148.584 441.147 150.922 439.041 Q153.26 436.935 153.26 433.323 Q153.26 429.712 150.922 427.606 Q148.584 425.499 144.58 425.499 Q142.705 425.499 140.83 425.916 Q138.978 426.333 137.033 427.212 L137.033 409.851 Z\\\" fill=\\\"#000000\\\" fill-rule=\\\"evenodd\\\" fill-opacity=\\\"1\\\" \\/><path clip-path=\\\"url(#clip340)\\\" d=\\\"M 0 0 M91.5706 100.886 L99.2095 100.886 L99.2095 74.5205 L90.8993 76.1871 L90.8993 71.9279 L99.1632 70.2612 L103.839 70.2612 L103.839 100.886 L111.478 100.886 L111.478 104.821 L91.5706 104.821 L91.5706 100.886 Z\\\" fill=\\\"#000000\\\" fill-rule=\\\"evenodd\\\" fill-opacity=\\\"1\\\" \\/><path clip-path=\\\"url(#clip340)\\\" d=\\\"M 0 0 M120.922 98.9416 L125.807 98.9416 L125.807 104.821 L120.922 104.821 L120.922 98.9416 Z\\\" fill=\\\"#000000\\\" fill-rule=\\\"evenodd\\\" fill-opacity=\\\"1\\\" \\/><path clip-path=\\\"url(#clip340)\\\" d=\\\"M 0 0 M145.992 73.3399 Q142.381 73.3399 140.552 76.9047 Q138.746 80.4463 138.746 87.5759 Q138.746 94.6824 140.552 98.2472 Q142.381 101.789 145.992 101.789 Q149.626 101.789 151.431 98.2472 Q153.26 94.6824 153.26 87.5759 Q153.26 80.4463 151.431 76.9047 Q149.626 73.3399 145.992 73.3399 M145.992 69.6362 Q151.802 69.6362 154.857 74.2427 Q157.936 78.826 157.936 87.5759 Q157.936 96.3027 154.857 100.909 Q151.802 105.493 145.992 105.493 Q140.181 105.493 137.103 100.909 Q134.047 96.3027 134.047 87.5759 Q134.047 78.826 137.103 74.2427 Q140.181 69.6362 145.992 69.6362 Z\\\" fill=\\\"#000000\\\" fill-rule=\\\"evenodd\\\" fill-opacity=\\\"1\\\" \\/><polyline clip-path=\\\"url(#clip342)\\\" style=\\\"stroke:#7f7f7f; stroke-width:4; stroke-opacity:1; fill:none\\\" points=\\\"\\n  255.035,115.439 260.007,110.93 264.979,106.812 269.952,103.087 274.924,99.7575 297.912,89.5578 320.9,87.9763 343.888,95.0332 366.877,110.639 389.865,134.594 \\n  412.853,166.595 435.841,206.233 458.829,253.004 486.459,317.813 514.089,390.87 541.719,470.835 569.348,556.237 616.07,708.592 662.791,863.993 713.544,1026.77 \\n  764.296,1173.47 787.691,1233.14 811.085,1286.65 834.48,1333.31 857.875,1372.5 882.956,1405.64 908.038,1429.1 933.119,1442.53 958.201,1445.72 987.26,1436.56 \\n  1016.32,1413.78 1045.38,1377.86 1074.44,1329.51 1100.26,1276.91 1126.09,1216.12 1151.91,1148.11 1177.74,1073.98 1223.03,932.82 1268.32,783.48 1317.7,619.973 \\n  1367.08,465.052 1391.92,393.268 1416.75,327.032 1441.59,267.326 1466.43,215.038 1493.89,166.794 1521.35,129.439 1548.81,103.653 1576.27,89.903 1602.4,88.2248 \\n  1628.52,97.6981 1654.65,118.167 1680.78,149.296 1707.95,192.414 1735.11,245.737 1762.28,308.315 1789.45,379.038 1835.18,512.959 1880.92,659.625 1936.76,845.218 \\n  1992.6,1024.95 2018.85,1103.53 2045.09,1176.53 2071.34,1242.74 2097.58,1301.05 2118.61,1341.41 2139.63,1375.65 2160.65,1403.41 2181.68,1424.38 2202.7,1438.36 \\n  2223.73,1445.19 2244.75,1444.79 2265.77,1437.17 2272.24,1433.38 2278.72,1428.92 2285.19,1423.8 2291.66,1418 \\n  \\\"\\/>\\n<path clip-path=\\\"url(#clip340)\\\" d=\\\"\\nM1988.5 216.178 L2280.8 216.178 L2280.8 95.2176 L1988.5 95.2176  Z\\n  \\\" fill=\\\"#ffffff\\\" fill-rule=\\\"evenodd\\\" fill-opacity=\\\"1\\\"\\/>\\n<polyline clip-path=\\\"url(#clip340)\\\" style=\\\"stroke:#000000; stroke-width:4; stroke-opacity:1; fill:none\\\" points=\\\"\\n  1988.5,216.178 2280.8,216.178 2280.8,95.2176 1988.5,95.2176 1988.5,216.178 \\n  \\\"\\/>\\n<polyline clip-path=\\\"url(#clip340)\\\" style=\\\"stroke:#7f7f7f; stroke-width:4; stroke-opacity:1; fill:none\\\" points=\\\"\\n  2012.48,155.698 2156.4,155.698 \\n  \\\"\\/>\\n<path clip-path=\\\"url(#clip340)\\\" d=\\\"M 0 0 M2194.23 175.385 Q2192.43 180.015 2190.72 181.427 Q2189 182.839 2186.13 182.839 L2182.73 182.839 L2182.73 179.274 L2185.23 179.274 Q2186.99 179.274 2187.96 178.44 Q2188.93 177.607 2190.11 174.505 L2190.88 172.561 L2180.39 147.052 L2184.91 147.052 L2193.01 167.329 L2201.11 147.052 L2205.62 147.052 L2194.23 175.385 Z\\\" fill=\\\"#000000\\\" fill-rule=\\\"evenodd\\\" fill-opacity=\\\"1\\\" \\/><path clip-path=\\\"url(#clip340)\\\" d=\\\"M 0 0 M2212.91 169.042 L2220.55 169.042 L2220.55 142.677 L2212.24 144.343 L2212.24 140.084 L2220.51 138.418 L2225.18 138.418 L2225.18 169.042 L2232.82 169.042 L2232.82 172.978 L2212.91 172.978 L2212.91 169.042 Z\\\" fill=\\\"#000000\\\" fill-rule=\\\"evenodd\\\" fill-opacity=\\\"1\\\" \\/><\\/svg>\\n\"},\"nodeType\":\"DOM\",\"type\":\"node\",\"instanceArgs\":{\"namespace\":\"html\",\"tag\":\"div\"},\"children\":[]}]},{\"props\":{\"style\":{\"display\":\"flex\",\"flex-direction\":\"column\"}},\"nodeType\":\"DOM\",\"type\":\"node\",\"instanceArgs\":{\"namespace\":\"html\",\"tag\":\"div\"},\"children\":[{\"props\":{\"className\":\"field interact-widget\"},\"nodeType\":\"DOM\",\"type\":\"node\",\"instanceArgs\":{\"namespace\":\"html\",\"tag\":\"div\"},\"children\":[{\"props\":{},\"nodeType\":\"Scope\",\"type\":\"node\",\"instanceArgs\":{\"imports\":{\"data\":[{\"name\":\"knockout\",\"type\":\"js\",\"url\":\"\\/assetserver\\/0fc6d61518197b1bf9b23217e9be1d2e00f2bb14-knockout.js\"},{\"name\":\"knockout_punches\",\"type\":\"js\",\"url\":\"\\/assetserver\\/24c12264eef2b01f723a21985ba5661f5564d7cf-knockout_punches.js\"},{\"name\":null,\"type\":\"js\",\"url\":\"\\/assetserver\\/85de428ae418ad26c1ce7e886d25374b3774afa9-all.js\"},{\"name\":null,\"type\":\"css\",\"url\":\"\\/assetserver\\/2cd8ff31326883094fe5a8ff21182264663b62be-style.css\"},{\"name\":null,\"type\":\"css\",\"url\":\"\\/assetserver\\/741bde2d4bf25f117d0ec4d43164cd1a050cf9de-bulma_confined.min.css\"}],\"type\":\"async_block\"},\"id\":\"2890281564170590331\",\"handlers\":{\"changes\":[\"(function (val){return (val!=this.model[\\\"changes\\\"]()) ? (this.valueFromJulia[\\\"changes\\\"]=true, this.model[\\\"changes\\\"](val)) : undefined})\"],\"index\":[\"(function (val){return (val!=this.model[\\\"index\\\"]()) ? (this.valueFromJulia[\\\"index\\\"]=true, this.model[\\\"index\\\"](val)) : undefined})\"]},\"systemjs_options\":null,\"mount_callbacks\":[\"function () {\\n    var handler = (function (ko, koPunches) {\\n    ko.punches.enableAll();\\n    ko.bindingHandlers.numericValue = {\\n        init: function(element, valueAccessor, allBindings, data, context) {\\n            var stringified = ko.observable(ko.unwrap(valueAccessor()));\\n            stringified.subscribe(function(value) {\\n                var val = parseFloat(value);\\n                if (!isNaN(val)) {\\n                    valueAccessor()(val);\\n                }\\n            });\\n            valueAccessor().subscribe(function(value) {\\n                var str = JSON.stringify(value);\\n                if ((str == \\\"0\\\") && ([\\\"-0\\\", \\\"-0.\\\"].indexOf(stringified()) >= 0))\\n                     return;\\n                 if ([\\\"null\\\", \\\"\\\"].indexOf(str) >= 0)\\n                     return;\\n                stringified(str);\\n            });\\n            ko.applyBindingsToNode(\\n                element,\\n                {\\n                    value: stringified,\\n                    valueUpdate: allBindings.get('valueUpdate'),\\n                },\\n                context,\\n            );\\n        }\\n    };\\n    var json_data = {\\\"formatted_vals\\\":[\\\"0\\\",\\\"1\\\",\\\"2\\\",\\\"3\\\",\\\"4\\\",\\\"5\\\",\\\"6\\\",\\\"7\\\",\\\"8\\\",\\\"9\\\",\\\"10\\\",\\\"11\\\",\\\"12\\\",\\\"13\\\",\\\"14\\\",\\\"15\\\",\\\"16\\\",\\\"17\\\",\\\"18\\\",\\\"19\\\",\\\"20\\\",\\\"21\\\",\\\"22\\\",\\\"23\\\",\\\"24\\\",\\\"25\\\",\\\"26\\\",\\\"27\\\",\\\"28\\\",\\\"29\\\",\\\"30\\\",\\\"31\\\",\\\"32\\\",\\\"33\\\",\\\"34\\\",\\\"35\\\",\\\"36\\\",\\\"37\\\",\\\"38\\\",\\\"39\\\",\\\"40\\\",\\\"41\\\",\\\"42\\\",\\\"43\\\",\\\"44\\\",\\\"45\\\",\\\"46\\\",\\\"47\\\",\\\"48\\\",\\\"49\\\",\\\"50\\\",\\\"51\\\",\\\"52\\\",\\\"53\\\",\\\"54\\\",\\\"55\\\",\\\"56\\\",\\\"57\\\",\\\"58\\\",\\\"59\\\",\\\"60\\\",\\\"61\\\",\\\"62\\\",\\\"63\\\",\\\"64\\\",\\\"65\\\",\\\"66\\\",\\\"67\\\",\\\"68\\\",\\\"69\\\",\\\"70\\\",\\\"71\\\",\\\"72\\\",\\\"73\\\",\\\"74\\\",\\\"75\\\",\\\"76\\\",\\\"77\\\",\\\"78\\\",\\\"79\\\",\\\"80\\\",\\\"81\\\",\\\"82\\\",\\\"83\\\",\\\"84\\\",\\\"85\\\",\\\"86\\\",\\\"87\\\",\\\"88\\\",\\\"89\\\",\\\"90\\\",\\\"91\\\",\\\"92\\\",\\\"93\\\",\\\"94\\\",\\\"95\\\",\\\"96\\\",\\\"97\\\",\\\"98\\\",\\\"99\\\",\\\"100\\\",\\\"101\\\",\\\"102\\\",\\\"103\\\",\\\"104\\\",\\\"105\\\",\\\"106\\\",\\\"107\\\",\\\"108\\\",\\\"109\\\",\\\"110\\\",\\\"111\\\",\\\"112\\\",\\\"113\\\",\\\"114\\\",\\\"115\\\",\\\"116\\\",\\\"117\\\",\\\"118\\\",\\\"119\\\",\\\"120\\\",\\\"121\\\",\\\"122\\\",\\\"123\\\",\\\"124\\\",\\\"125\\\",\\\"126\\\",\\\"127\\\",\\\"128\\\",\\\"129\\\",\\\"130\\\",\\\"131\\\",\\\"132\\\",\\\"133\\\",\\\"134\\\",\\\"135\\\",\\\"136\\\",\\\"137\\\",\\\"138\\\",\\\"139\\\",\\\"140\\\",\\\"141\\\",\\\"142\\\",\\\"143\\\",\\\"144\\\",\\\"145\\\",\\\"146\\\",\\\"147\\\",\\\"148\\\",\\\"149\\\",\\\"150\\\",\\\"151\\\",\\\"152\\\",\\\"153\\\",\\\"154\\\",\\\"155\\\",\\\"156\\\",\\\"157\\\",\\\"158\\\",\\\"159\\\",\\\"160\\\",\\\"161\\\",\\\"162\\\",\\\"163\\\",\\\"164\\\",\\\"165\\\",\\\"166\\\",\\\"167\\\",\\\"168\\\",\\\"169\\\",\\\"170\\\",\\\"171\\\",\\\"172\\\",\\\"173\\\",\\\"174\\\",\\\"175\\\",\\\"176\\\",\\\"177\\\",\\\"178\\\",\\\"179\\\",\\\"180\\\",\\\"181\\\",\\\"182\\\",\\\"183\\\",\\\"184\\\",\\\"185\\\",\\\"186\\\",\\\"187\\\",\\\"188\\\",\\\"189\\\",\\\"190\\\",\\\"191\\\",\\\"192\\\",\\\"193\\\",\\\"194\\\",\\\"195\\\",\\\"196\\\",\\\"197\\\",\\\"198\\\",\\\"199\\\",\\\"200\\\",\\\"201\\\",\\\"202\\\",\\\"203\\\",\\\"204\\\",\\\"205\\\",\\\"206\\\",\\\"207\\\",\\\"208\\\",\\\"209\\\",\\\"210\\\",\\\"211\\\",\\\"212\\\",\\\"213\\\",\\\"214\\\",\\\"215\\\",\\\"216\\\",\\\"217\\\",\\\"218\\\",\\\"219\\\",\\\"220\\\",\\\"221\\\",\\\"222\\\",\\\"223\\\",\\\"224\\\",\\\"225\\\",\\\"226\\\",\\\"227\\\",\\\"228\\\",\\\"229\\\",\\\"230\\\",\\\"231\\\",\\\"232\\\",\\\"233\\\",\\\"234\\\",\\\"235\\\",\\\"236\\\",\\\"237\\\",\\\"238\\\",\\\"239\\\",\\\"240\\\",\\\"241\\\",\\\"242\\\",\\\"243\\\",\\\"244\\\",\\\"245\\\",\\\"246\\\",\\\"247\\\",\\\"248\\\",\\\"249\\\",\\\"250\\\",\\\"251\\\",\\\"252\\\",\\\"253\\\",\\\"254\\\",\\\"255\\\"],\\\"changes\\\":WebIO.getval({\\\"name\\\":\\\"changes\\\",\\\"scope\\\":\\\"2890281564170590331\\\",\\\"id\\\":\\\"18395362751811450309\\\",\\\"type\\\":\\\"observable\\\"}),\\\"index\\\":WebIO.getval({\\\"name\\\":\\\"index\\\",\\\"scope\\\":\\\"2890281564170590331\\\",\\\"id\\\":\\\"3652522807163242357\\\",\\\"type\\\":\\\"observable\\\"})};\\n    var self = this;\\n    function AppViewModel() {\\n        for (var key in json_data) {\\n            var el = json_data[key];\\n            this[key] = Array.isArray(el) ? ko.observableArray(el) : ko.observable(el);\\n        }\\n        \\n        [this[\\\"formatted_val\\\"]=ko.computed(    function(){\\n        return this.formatted_vals()[parseInt(this.index())-(0)];\\n    }\\n,this)]\\n        [this[\\\"changes\\\"].subscribe((function (val){!(this.valueFromJulia[\\\"changes\\\"]) ? (WebIO.setval({\\\"name\\\":\\\"changes\\\",\\\"scope\\\":\\\"2890281564170590331\\\",\\\"id\\\":\\\"18395362751811450309\\\",\\\"type\\\":\\\"observable\\\"},val)) : undefined; return this.valueFromJulia[\\\"changes\\\"]=false}),self),this[\\\"index\\\"].subscribe((function (val){!(this.valueFromJulia[\\\"index\\\"]) ? (WebIO.setval({\\\"name\\\":\\\"index\\\",\\\"scope\\\":\\\"2890281564170590331\\\",\\\"id\\\":\\\"3652522807163242357\\\",\\\"type\\\":\\\"observable\\\"},val)) : undefined; return this.valueFromJulia[\\\"index\\\"]=false}),self)]\\n        \\n    }\\n    self.model = new AppViewModel();\\n    self.valueFromJulia = {};\\n    for (var key in json_data) {\\n        self.valueFromJulia[key] = false;\\n    }\\n    ko.applyBindings(self.model, self.dom);\\n}\\n);\\n    (WebIO.importBlock({\\\"data\\\":[{\\\"name\\\":\\\"knockout\\\",\\\"type\\\":\\\"js\\\",\\\"url\\\":\\\"\\/assetserver\\/0fc6d61518197b1bf9b23217e9be1d2e00f2bb14-knockout.js\\\"},{\\\"name\\\":\\\"knockout_punches\\\",\\\"type\\\":\\\"js\\\",\\\"url\\\":\\\"\\/assetserver\\/24c12264eef2b01f723a21985ba5661f5564d7cf-knockout_punches.js\\\"}],\\\"type\\\":\\\"async_block\\\"})).then((imports) => handler.apply(this, imports));\\n}\\n\"],\"observables\":{\"changes\":{\"sync\":false,\"id\":\"18395362751811450309\",\"value\":0},\"index\":{\"sync\":true,\"id\":\"3652522807163242357\",\"value\":127}}},\"children\":[{\"props\":{\"className\":\"interact-flex-row interact-widget\"},\"nodeType\":\"DOM\",\"type\":\"node\",\"instanceArgs\":{\"namespace\":\"html\",\"tag\":\"div\"},\"children\":[{\"props\":{\"className\":\"interact-flex-row-left\"},\"nodeType\":\"DOM\",\"type\":\"node\",\"instanceArgs\":{\"namespace\":\"html\",\"tag\":\"div\"},\"children\":[{\"props\":{\"className\":\"interact \",\"style\":{\"padding\":\"5px 10px 0px 10px\"}},\"nodeType\":\"DOM\",\"type\":\"node\",\"instanceArgs\":{\"namespace\":\"html\",\"tag\":\"label\"},\"children\":[\"red\"]}]},{\"props\":{\"className\":\"interact-flex-row-center\"},\"nodeType\":\"DOM\",\"type\":\"node\",\"instanceArgs\":{\"namespace\":\"html\",\"tag\":\"div\"},\"children\":[{\"props\":{\"max\":255,\"min\":0,\"attributes\":{\"type\":\"range\",\"data-bind\":\"numericValue: index, valueUpdate: 'input', event: {change: function (){this.changes(this.changes()+1)}}\",\"orient\":\"horizontal\"},\"step\":1,\"className\":\"slider slider is-fullwidth\",\"style\":{}},\"nodeType\":\"DOM\",\"type\":\"node\",\"instanceArgs\":{\"namespace\":\"html\",\"tag\":\"input\"},\"children\":[]}]},{\"props\":{\"className\":\"interact-flex-row-right\"},\"nodeType\":\"DOM\",\"type\":\"node\",\"instanceArgs\":{\"namespace\":\"html\",\"tag\":\"div\"},\"children\":[{\"props\":{\"attributes\":{\"data-bind\":\"text: formatted_val\"}},\"nodeType\":\"DOM\",\"type\":\"node\",\"instanceArgs\":{\"namespace\":\"html\",\"tag\":\"p\"},\"children\":[]}]}]}]}]},{\"props\":{\"className\":\"field interact-widget\"},\"nodeType\":\"DOM\",\"type\":\"node\",\"instanceArgs\":{\"namespace\":\"html\",\"tag\":\"div\"},\"children\":[{\"props\":{},\"nodeType\":\"Scope\",\"type\":\"node\",\"instanceArgs\":{\"imports\":{\"data\":[{\"name\":\"knockout\",\"type\":\"js\",\"url\":\"\\/assetserver\\/0fc6d61518197b1bf9b23217e9be1d2e00f2bb14-knockout.js\"},{\"name\":\"knockout_punches\",\"type\":\"js\",\"url\":\"\\/assetserver\\/24c12264eef2b01f723a21985ba5661f5564d7cf-knockout_punches.js\"},{\"name\":null,\"type\":\"js\",\"url\":\"\\/assetserver\\/85de428ae418ad26c1ce7e886d25374b3774afa9-all.js\"},{\"name\":null,\"type\":\"css\",\"url\":\"\\/assetserver\\/2cd8ff31326883094fe5a8ff21182264663b62be-style.css\"},{\"name\":null,\"type\":\"css\",\"url\":\"\\/assetserver\\/741bde2d4bf25f117d0ec4d43164cd1a050cf9de-bulma_confined.min.css\"}],\"type\":\"async_block\"},\"id\":\"13869785640863303403\",\"handlers\":{\"changes\":[\"(function (val){return (val!=this.model[\\\"changes\\\"]()) ? (this.valueFromJulia[\\\"changes\\\"]=true, this.model[\\\"changes\\\"](val)) : undefined})\"],\"index\":[\"(function (val){return (val!=this.model[\\\"index\\\"]()) ? (this.valueFromJulia[\\\"index\\\"]=true, this.model[\\\"index\\\"](val)) : undefined})\"]},\"systemjs_options\":null,\"mount_callbacks\":[\"function () {\\n    var handler = (function (ko, koPunches) {\\n    ko.punches.enableAll();\\n    ko.bindingHandlers.numericValue = {\\n        init: function(element, valueAccessor, allBindings, data, context) {\\n            var stringified = ko.observable(ko.unwrap(valueAccessor()));\\n            stringified.subscribe(function(value) {\\n                var val = parseFloat(value);\\n                if (!isNaN(val)) {\\n                    valueAccessor()(val);\\n                }\\n            });\\n            valueAccessor().subscribe(function(value) {\\n                var str = JSON.stringify(value);\\n                if ((str == \\\"0\\\") && ([\\\"-0\\\", \\\"-0.\\\"].indexOf(stringified()) >= 0))\\n                     return;\\n                 if ([\\\"null\\\", \\\"\\\"].indexOf(str) >= 0)\\n                     return;\\n                stringified(str);\\n            });\\n            ko.applyBindingsToNode(\\n                element,\\n                {\\n                    value: stringified,\\n                    valueUpdate: allBindings.get('valueUpdate'),\\n                },\\n                context,\\n            );\\n        }\\n    };\\n    var json_data = {\\\"formatted_vals\\\":[\\\"0\\\",\\\"1\\\",\\\"2\\\",\\\"3\\\",\\\"4\\\",\\\"5\\\",\\\"6\\\",\\\"7\\\",\\\"8\\\",\\\"9\\\",\\\"10\\\",\\\"11\\\",\\\"12\\\",\\\"13\\\",\\\"14\\\",\\\"15\\\",\\\"16\\\",\\\"17\\\",\\\"18\\\",\\\"19\\\",\\\"20\\\",\\\"21\\\",\\\"22\\\",\\\"23\\\",\\\"24\\\",\\\"25\\\",\\\"26\\\",\\\"27\\\",\\\"28\\\",\\\"29\\\",\\\"30\\\",\\\"31\\\",\\\"32\\\",\\\"33\\\",\\\"34\\\",\\\"35\\\",\\\"36\\\",\\\"37\\\",\\\"38\\\",\\\"39\\\",\\\"40\\\",\\\"41\\\",\\\"42\\\",\\\"43\\\",\\\"44\\\",\\\"45\\\",\\\"46\\\",\\\"47\\\",\\\"48\\\",\\\"49\\\",\\\"50\\\",\\\"51\\\",\\\"52\\\",\\\"53\\\",\\\"54\\\",\\\"55\\\",\\\"56\\\",\\\"57\\\",\\\"58\\\",\\\"59\\\",\\\"60\\\",\\\"61\\\",\\\"62\\\",\\\"63\\\",\\\"64\\\",\\\"65\\\",\\\"66\\\",\\\"67\\\",\\\"68\\\",\\\"69\\\",\\\"70\\\",\\\"71\\\",\\\"72\\\",\\\"73\\\",\\\"74\\\",\\\"75\\\",\\\"76\\\",\\\"77\\\",\\\"78\\\",\\\"79\\\",\\\"80\\\",\\\"81\\\",\\\"82\\\",\\\"83\\\",\\\"84\\\",\\\"85\\\",\\\"86\\\",\\\"87\\\",\\\"88\\\",\\\"89\\\",\\\"90\\\",\\\"91\\\",\\\"92\\\",\\\"93\\\",\\\"94\\\",\\\"95\\\",\\\"96\\\",\\\"97\\\",\\\"98\\\",\\\"99\\\",\\\"100\\\",\\\"101\\\",\\\"102\\\",\\\"103\\\",\\\"104\\\",\\\"105\\\",\\\"106\\\",\\\"107\\\",\\\"108\\\",\\\"109\\\",\\\"110\\\",\\\"111\\\",\\\"112\\\",\\\"113\\\",\\\"114\\\",\\\"115\\\",\\\"116\\\",\\\"117\\\",\\\"118\\\",\\\"119\\\",\\\"120\\\",\\\"121\\\",\\\"122\\\",\\\"123\\\",\\\"124\\\",\\\"125\\\",\\\"126\\\",\\\"127\\\",\\\"128\\\",\\\"129\\\",\\\"130\\\",\\\"131\\\",\\\"132\\\",\\\"133\\\",\\\"134\\\",\\\"135\\\",\\\"136\\\",\\\"137\\\",\\\"138\\\",\\\"139\\\",\\\"140\\\",\\\"141\\\",\\\"142\\\",\\\"143\\\",\\\"144\\\",\\\"145\\\",\\\"146\\\",\\\"147\\\",\\\"148\\\",\\\"149\\\",\\\"150\\\",\\\"151\\\",\\\"152\\\",\\\"153\\\",\\\"154\\\",\\\"155\\\",\\\"156\\\",\\\"157\\\",\\\"158\\\",\\\"159\\\",\\\"160\\\",\\\"161\\\",\\\"162\\\",\\\"163\\\",\\\"164\\\",\\\"165\\\",\\\"166\\\",\\\"167\\\",\\\"168\\\",\\\"169\\\",\\\"170\\\",\\\"171\\\",\\\"172\\\",\\\"173\\\",\\\"174\\\",\\\"175\\\",\\\"176\\\",\\\"177\\\",\\\"178\\\",\\\"179\\\",\\\"180\\\",\\\"181\\\",\\\"182\\\",\\\"183\\\",\\\"184\\\",\\\"185\\\",\\\"186\\\",\\\"187\\\",\\\"188\\\",\\\"189\\\",\\\"190\\\",\\\"191\\\",\\\"192\\\",\\\"193\\\",\\\"194\\\",\\\"195\\\",\\\"196\\\",\\\"197\\\",\\\"198\\\",\\\"199\\\",\\\"200\\\",\\\"201\\\",\\\"202\\\",\\\"203\\\",\\\"204\\\",\\\"205\\\",\\\"206\\\",\\\"207\\\",\\\"208\\\",\\\"209\\\",\\\"210\\\",\\\"211\\\",\\\"212\\\",\\\"213\\\",\\\"214\\\",\\\"215\\\",\\\"216\\\",\\\"217\\\",\\\"218\\\",\\\"219\\\",\\\"220\\\",\\\"221\\\",\\\"222\\\",\\\"223\\\",\\\"224\\\",\\\"225\\\",\\\"226\\\",\\\"227\\\",\\\"228\\\",\\\"229\\\",\\\"230\\\",\\\"231\\\",\\\"232\\\",\\\"233\\\",\\\"234\\\",\\\"235\\\",\\\"236\\\",\\\"237\\\",\\\"238\\\",\\\"239\\\",\\\"240\\\",\\\"241\\\",\\\"242\\\",\\\"243\\\",\\\"244\\\",\\\"245\\\",\\\"246\\\",\\\"247\\\",\\\"248\\\",\\\"249\\\",\\\"250\\\",\\\"251\\\",\\\"252\\\",\\\"253\\\",\\\"254\\\",\\\"255\\\"],\\\"changes\\\":WebIO.getval({\\\"name\\\":\\\"changes\\\",\\\"scope\\\":\\\"13869785640863303403\\\",\\\"id\\\":\\\"12087930275749983784\\\",\\\"type\\\":\\\"observable\\\"}),\\\"index\\\":WebIO.getval({\\\"name\\\":\\\"index\\\",\\\"scope\\\":\\\"13869785640863303403\\\",\\\"id\\\":\\\"5214871276161627368\\\",\\\"type\\\":\\\"observable\\\"})};\\n    var self = this;\\n    function AppViewModel() {\\n        for (var key in json_data) {\\n            var el = json_data[key];\\n            this[key] = Array.isArray(el) ? ko.observableArray(el) : ko.observable(el);\\n        }\\n        \\n        [this[\\\"formatted_val\\\"]=ko.computed(    function(){\\n        return this.formatted_vals()[parseInt(this.index())-(0)];\\n    }\\n,this)]\\n        [this[\\\"changes\\\"].subscribe((function (val){!(this.valueFromJulia[\\\"changes\\\"]) ? (WebIO.setval({\\\"name\\\":\\\"changes\\\",\\\"scope\\\":\\\"13869785640863303403\\\",\\\"id\\\":\\\"12087930275749983784\\\",\\\"type\\\":\\\"observable\\\"},val)) : undefined; return this.valueFromJulia[\\\"changes\\\"]=false}),self),this[\\\"index\\\"].subscribe((function (val){!(this.valueFromJulia[\\\"index\\\"]) ? (WebIO.setval({\\\"name\\\":\\\"index\\\",\\\"scope\\\":\\\"13869785640863303403\\\",\\\"id\\\":\\\"5214871276161627368\\\",\\\"type\\\":\\\"observable\\\"},val)) : undefined; return this.valueFromJulia[\\\"index\\\"]=false}),self)]\\n        \\n    }\\n    self.model = new AppViewModel();\\n    self.valueFromJulia = {};\\n    for (var key in json_data) {\\n        self.valueFromJulia[key] = false;\\n    }\\n    ko.applyBindings(self.model, self.dom);\\n}\\n);\\n    (WebIO.importBlock({\\\"data\\\":[{\\\"name\\\":\\\"knockout\\\",\\\"type\\\":\\\"js\\\",\\\"url\\\":\\\"\\/assetserver\\/0fc6d61518197b1bf9b23217e9be1d2e00f2bb14-knockout.js\\\"},{\\\"name\\\":\\\"knockout_punches\\\",\\\"type\\\":\\\"js\\\",\\\"url\\\":\\\"\\/assetserver\\/24c12264eef2b01f723a21985ba5661f5564d7cf-knockout_punches.js\\\"}],\\\"type\\\":\\\"async_block\\\"})).then((imports) => handler.apply(this, imports));\\n}\\n\"],\"observables\":{\"changes\":{\"sync\":false,\"id\":\"12087930275749983784\",\"value\":0},\"index\":{\"sync\":true,\"id\":\"5214871276161627368\",\"value\":127}}},\"children\":[{\"props\":{\"className\":\"interact-flex-row interact-widget\"},\"nodeType\":\"DOM\",\"type\":\"node\",\"instanceArgs\":{\"namespace\":\"html\",\"tag\":\"div\"},\"children\":[{\"props\":{\"className\":\"interact-flex-row-left\"},\"nodeType\":\"DOM\",\"type\":\"node\",\"instanceArgs\":{\"namespace\":\"html\",\"tag\":\"div\"},\"children\":[{\"props\":{\"className\":\"interact \",\"style\":{\"padding\":\"5px 10px 0px 10px\"}},\"nodeType\":\"DOM\",\"type\":\"node\",\"instanceArgs\":{\"namespace\":\"html\",\"tag\":\"label\"},\"children\":[\"green\"]}]},{\"props\":{\"className\":\"interact-flex-row-center\"},\"nodeType\":\"DOM\",\"type\":\"node\",\"instanceArgs\":{\"namespace\":\"html\",\"tag\":\"div\"},\"children\":[{\"props\":{\"max\":255,\"min\":0,\"attributes\":{\"type\":\"range\",\"data-bind\":\"numericValue: index, valueUpdate: 'input', event: {change: function (){this.changes(this.changes()+1)}}\",\"orient\":\"horizontal\"},\"step\":1,\"className\":\"slider slider is-fullwidth\",\"style\":{}},\"nodeType\":\"DOM\",\"type\":\"node\",\"instanceArgs\":{\"namespace\":\"html\",\"tag\":\"input\"},\"children\":[]}]},{\"props\":{\"className\":\"interact-flex-row-right\"},\"nodeType\":\"DOM\",\"type\":\"node\",\"instanceArgs\":{\"namespace\":\"html\",\"tag\":\"div\"},\"children\":[{\"props\":{\"attributes\":{\"data-bind\":\"text: formatted_val\"}},\"nodeType\":\"DOM\",\"type\":\"node\",\"instanceArgs\":{\"namespace\":\"html\",\"tag\":\"p\"},\"children\":[]}]}]}]}]},{\"props\":{\"className\":\"field interact-widget\"},\"nodeType\":\"DOM\",\"type\":\"node\",\"instanceArgs\":{\"namespace\":\"html\",\"tag\":\"div\"},\"children\":[{\"props\":{},\"nodeType\":\"Scope\",\"type\":\"node\",\"instanceArgs\":{\"imports\":{\"data\":[{\"name\":\"knockout\",\"type\":\"js\",\"url\":\"\\/assetserver\\/0fc6d61518197b1bf9b23217e9be1d2e00f2bb14-knockout.js\"},{\"name\":\"knockout_punches\",\"type\":\"js\",\"url\":\"\\/assetserver\\/24c12264eef2b01f723a21985ba5661f5564d7cf-knockout_punches.js\"},{\"name\":null,\"type\":\"js\",\"url\":\"\\/assetserver\\/85de428ae418ad26c1ce7e886d25374b3774afa9-all.js\"},{\"name\":null,\"type\":\"css\",\"url\":\"\\/assetserver\\/2cd8ff31326883094fe5a8ff21182264663b62be-style.css\"},{\"name\":null,\"type\":\"css\",\"url\":\"\\/assetserver\\/741bde2d4bf25f117d0ec4d43164cd1a050cf9de-bulma_confined.min.css\"}],\"type\":\"async_block\"},\"id\":\"9986228044100904826\",\"handlers\":{\"changes\":[\"(function (val){return (val!=this.model[\\\"changes\\\"]()) ? (this.valueFromJulia[\\\"changes\\\"]=true, this.model[\\\"changes\\\"](val)) : undefined})\"],\"index\":[\"(function (val){return (val!=this.model[\\\"index\\\"]()) ? (this.valueFromJulia[\\\"index\\\"]=true, this.model[\\\"index\\\"](val)) : undefined})\"]},\"systemjs_options\":null,\"mount_callbacks\":[\"function () {\\n    var handler = (function (ko, koPunches) {\\n    ko.punches.enableAll();\\n    ko.bindingHandlers.numericValue = {\\n        init: function(element, valueAccessor, allBindings, data, context) {\\n            var stringified = ko.observable(ko.unwrap(valueAccessor()));\\n            stringified.subscribe(function(value) {\\n                var val = parseFloat(value);\\n                if (!isNaN(val)) {\\n                    valueAccessor()(val);\\n                }\\n            });\\n            valueAccessor().subscribe(function(value) {\\n                var str = JSON.stringify(value);\\n                if ((str == \\\"0\\\") && ([\\\"-0\\\", \\\"-0.\\\"].indexOf(stringified()) >= 0))\\n                     return;\\n                 if ([\\\"null\\\", \\\"\\\"].indexOf(str) >= 0)\\n                     return;\\n                stringified(str);\\n            });\\n            ko.applyBindingsToNode(\\n                element,\\n                {\\n                    value: stringified,\\n                    valueUpdate: allBindings.get('valueUpdate'),\\n                },\\n                context,\\n            );\\n        }\\n    };\\n    var json_data = {\\\"formatted_vals\\\":[\\\"0\\\",\\\"1\\\",\\\"2\\\",\\\"3\\\",\\\"4\\\",\\\"5\\\",\\\"6\\\",\\\"7\\\",\\\"8\\\",\\\"9\\\",\\\"10\\\",\\\"11\\\",\\\"12\\\",\\\"13\\\",\\\"14\\\",\\\"15\\\",\\\"16\\\",\\\"17\\\",\\\"18\\\",\\\"19\\\",\\\"20\\\",\\\"21\\\",\\\"22\\\",\\\"23\\\",\\\"24\\\",\\\"25\\\",\\\"26\\\",\\\"27\\\",\\\"28\\\",\\\"29\\\",\\\"30\\\",\\\"31\\\",\\\"32\\\",\\\"33\\\",\\\"34\\\",\\\"35\\\",\\\"36\\\",\\\"37\\\",\\\"38\\\",\\\"39\\\",\\\"40\\\",\\\"41\\\",\\\"42\\\",\\\"43\\\",\\\"44\\\",\\\"45\\\",\\\"46\\\",\\\"47\\\",\\\"48\\\",\\\"49\\\",\\\"50\\\",\\\"51\\\",\\\"52\\\",\\\"53\\\",\\\"54\\\",\\\"55\\\",\\\"56\\\",\\\"57\\\",\\\"58\\\",\\\"59\\\",\\\"60\\\",\\\"61\\\",\\\"62\\\",\\\"63\\\",\\\"64\\\",\\\"65\\\",\\\"66\\\",\\\"67\\\",\\\"68\\\",\\\"69\\\",\\\"70\\\",\\\"71\\\",\\\"72\\\",\\\"73\\\",\\\"74\\\",\\\"75\\\",\\\"76\\\",\\\"77\\\",\\\"78\\\",\\\"79\\\",\\\"80\\\",\\\"81\\\",\\\"82\\\",\\\"83\\\",\\\"84\\\",\\\"85\\\",\\\"86\\\",\\\"87\\\",\\\"88\\\",\\\"89\\\",\\\"90\\\",\\\"91\\\",\\\"92\\\",\\\"93\\\",\\\"94\\\",\\\"95\\\",\\\"96\\\",\\\"97\\\",\\\"98\\\",\\\"99\\\",\\\"100\\\",\\\"101\\\",\\\"102\\\",\\\"103\\\",\\\"104\\\",\\\"105\\\",\\\"106\\\",\\\"107\\\",\\\"108\\\",\\\"109\\\",\\\"110\\\",\\\"111\\\",\\\"112\\\",\\\"113\\\",\\\"114\\\",\\\"115\\\",\\\"116\\\",\\\"117\\\",\\\"118\\\",\\\"119\\\",\\\"120\\\",\\\"121\\\",\\\"122\\\",\\\"123\\\",\\\"124\\\",\\\"125\\\",\\\"126\\\",\\\"127\\\",\\\"128\\\",\\\"129\\\",\\\"130\\\",\\\"131\\\",\\\"132\\\",\\\"133\\\",\\\"134\\\",\\\"135\\\",\\\"136\\\",\\\"137\\\",\\\"138\\\",\\\"139\\\",\\\"140\\\",\\\"141\\\",\\\"142\\\",\\\"143\\\",\\\"144\\\",\\\"145\\\",\\\"146\\\",\\\"147\\\",\\\"148\\\",\\\"149\\\",\\\"150\\\",\\\"151\\\",\\\"152\\\",\\\"153\\\",\\\"154\\\",\\\"155\\\",\\\"156\\\",\\\"157\\\",\\\"158\\\",\\\"159\\\",\\\"160\\\",\\\"161\\\",\\\"162\\\",\\\"163\\\",\\\"164\\\",\\\"165\\\",\\\"166\\\",\\\"167\\\",\\\"168\\\",\\\"169\\\",\\\"170\\\",\\\"171\\\",\\\"172\\\",\\\"173\\\",\\\"174\\\",\\\"175\\\",\\\"176\\\",\\\"177\\\",\\\"178\\\",\\\"179\\\",\\\"180\\\",\\\"181\\\",\\\"182\\\",\\\"183\\\",\\\"184\\\",\\\"185\\\",\\\"186\\\",\\\"187\\\",\\\"188\\\",\\\"189\\\",\\\"190\\\",\\\"191\\\",\\\"192\\\",\\\"193\\\",\\\"194\\\",\\\"195\\\",\\\"196\\\",\\\"197\\\",\\\"198\\\",\\\"199\\\",\\\"200\\\",\\\"201\\\",\\\"202\\\",\\\"203\\\",\\\"204\\\",\\\"205\\\",\\\"206\\\",\\\"207\\\",\\\"208\\\",\\\"209\\\",\\\"210\\\",\\\"211\\\",\\\"212\\\",\\\"213\\\",\\\"214\\\",\\\"215\\\",\\\"216\\\",\\\"217\\\",\\\"218\\\",\\\"219\\\",\\\"220\\\",\\\"221\\\",\\\"222\\\",\\\"223\\\",\\\"224\\\",\\\"225\\\",\\\"226\\\",\\\"227\\\",\\\"228\\\",\\\"229\\\",\\\"230\\\",\\\"231\\\",\\\"232\\\",\\\"233\\\",\\\"234\\\",\\\"235\\\",\\\"236\\\",\\\"237\\\",\\\"238\\\",\\\"239\\\",\\\"240\\\",\\\"241\\\",\\\"242\\\",\\\"243\\\",\\\"244\\\",\\\"245\\\",\\\"246\\\",\\\"247\\\",\\\"248\\\",\\\"249\\\",\\\"250\\\",\\\"251\\\",\\\"252\\\",\\\"253\\\",\\\"254\\\",\\\"255\\\"],\\\"changes\\\":WebIO.getval({\\\"name\\\":\\\"changes\\\",\\\"scope\\\":\\\"9986228044100904826\\\",\\\"id\\\":\\\"1246094669140991221\\\",\\\"type\\\":\\\"observable\\\"}),\\\"index\\\":WebIO.getval({\\\"name\\\":\\\"index\\\",\\\"scope\\\":\\\"9986228044100904826\\\",\\\"id\\\":\\\"16115194723078729974\\\",\\\"type\\\":\\\"observable\\\"})};\\n    var self = this;\\n    function AppViewModel() {\\n        for (var key in json_data) {\\n            var el = json_data[key];\\n            this[key] = Array.isArray(el) ? ko.observableArray(el) : ko.observable(el);\\n        }\\n        \\n        [this[\\\"formatted_val\\\"]=ko.computed(    function(){\\n        return this.formatted_vals()[parseInt(this.index())-(0)];\\n    }\\n,this)]\\n        [this[\\\"changes\\\"].subscribe((function (val){!(this.valueFromJulia[\\\"changes\\\"]) ? (WebIO.setval({\\\"name\\\":\\\"changes\\\",\\\"scope\\\":\\\"9986228044100904826\\\",\\\"id\\\":\\\"1246094669140991221\\\",\\\"type\\\":\\\"observable\\\"},val)) : undefined; return this.valueFromJulia[\\\"changes\\\"]=false}),self),this[\\\"index\\\"].subscribe((function (val){!(this.valueFromJulia[\\\"index\\\"]) ? (WebIO.setval({\\\"name\\\":\\\"index\\\",\\\"scope\\\":\\\"9986228044100904826\\\",\\\"id\\\":\\\"16115194723078729974\\\",\\\"type\\\":\\\"observable\\\"},val)) : undefined; return this.valueFromJulia[\\\"index\\\"]=false}),self)]\\n        \\n    }\\n    self.model = new AppViewModel();\\n    self.valueFromJulia = {};\\n    for (var key in json_data) {\\n        self.valueFromJulia[key] = false;\\n    }\\n    ko.applyBindings(self.model, self.dom);\\n}\\n);\\n    (WebIO.importBlock({\\\"data\\\":[{\\\"name\\\":\\\"knockout\\\",\\\"type\\\":\\\"js\\\",\\\"url\\\":\\\"\\/assetserver\\/0fc6d61518197b1bf9b23217e9be1d2e00f2bb14-knockout.js\\\"},{\\\"name\\\":\\\"knockout_punches\\\",\\\"type\\\":\\\"js\\\",\\\"url\\\":\\\"\\/assetserver\\/24c12264eef2b01f723a21985ba5661f5564d7cf-knockout_punches.js\\\"}],\\\"type\\\":\\\"async_block\\\"})).then((imports) => handler.apply(this, imports));\\n}\\n\"],\"observables\":{\"changes\":{\"sync\":false,\"id\":\"1246094669140991221\",\"value\":0},\"index\":{\"sync\":true,\"id\":\"16115194723078729974\",\"value\":127}}},\"children\":[{\"props\":{\"className\":\"interact-flex-row interact-widget\"},\"nodeType\":\"DOM\",\"type\":\"node\",\"instanceArgs\":{\"namespace\":\"html\",\"tag\":\"div\"},\"children\":[{\"props\":{\"className\":\"interact-flex-row-left\"},\"nodeType\":\"DOM\",\"type\":\"node\",\"instanceArgs\":{\"namespace\":\"html\",\"tag\":\"div\"},\"children\":[{\"props\":{\"className\":\"interact \",\"style\":{\"padding\":\"5px 10px 0px 10px\"}},\"nodeType\":\"DOM\",\"type\":\"node\",\"instanceArgs\":{\"namespace\":\"html\",\"tag\":\"label\"},\"children\":[\"blue\"]}]},{\"props\":{\"className\":\"interact-flex-row-center\"},\"nodeType\":\"DOM\",\"type\":\"node\",\"instanceArgs\":{\"namespace\":\"html\",\"tag\":\"div\"},\"children\":[{\"props\":{\"max\":255,\"min\":0,\"attributes\":{\"type\":\"range\",\"data-bind\":\"numericValue: index, valueUpdate: 'input', event: {change: function (){this.changes(this.changes()+1)}}\",\"orient\":\"horizontal\"},\"step\":1,\"className\":\"slider slider is-fullwidth\",\"style\":{}},\"nodeType\":\"DOM\",\"type\":\"node\",\"instanceArgs\":{\"namespace\":\"html\",\"tag\":\"input\"},\"children\":[]}]},{\"props\":{\"className\":\"interact-flex-row-right\"},\"nodeType\":\"DOM\",\"type\":\"node\",\"instanceArgs\":{\"namespace\":\"html\",\"tag\":\"div\"},\"children\":[{\"props\":{\"attributes\":{\"data-bind\":\"text: formatted_val\"}},\"nodeType\":\"DOM\",\"type\":\"node\",\"instanceArgs\":{\"namespace\":\"html\",\"tag\":\"p\"},\"children\":[]}]}]}]}]}]}]},\n",
       "            window,\n",
       "        );\n",
       "    } else {\n",
       "        document\n",
       "            .querySelector('[data-webio-mountpoint=\"16216016442141615365\"]')\n",
       "            .innerHTML = (\n",
       "                '<div style=\"padding: 1em; background-color: #f8d6da; border: 1px solid #f5c6cb\">' +\n",
       "                '<p><strong>WebIO not detected.</strong></p>' +\n",
       "                '<p>Please read ' +\n",
       "                '<a href=\"https://juliagizmos.github.io/WebIO.jl/latest/troubleshooting/not-detected/\" target=\"_blank\">the troubleshooting guide</a> ' +\n",
       "                'for more information on how to resolve this issue.</p>' +\n",
       "                '<p><a href=\"https://juliagizmos.github.io/WebIO.jl/latest/troubleshooting/not-detected/\" target=\"_blank\">https://juliagizmos.github.io/WebIO.jl/latest/troubleshooting/not-detected/</a></p>' +\n",
       "                '</div>'\n",
       "            );\n",
       "    }\n",
       "    </script>\n",
       "</div>\n"
      ],
      "text/plain": [
       "Node{WebIO.DOM}(WebIO.DOM(:html, :div), Any[Observable{Any} with 0 listeners. Value:\n",
       "Plot{Plots.GRBackend() n=1}, Node{WebIO.DOM}(WebIO.DOM(:html, :div), Any[Node{WebIO.DOM}(WebIO.DOM(:html, :div), Any[Scope(Node{WebIO.DOM}(WebIO.DOM(:html, :div), Any[Node{WebIO.DOM}(WebIO.DOM(:html, :div), Any[Node{WebIO.DOM}(WebIO.DOM(:html, :label), Any[\"red\"], Dict{Symbol, Any}(:className => \"interact \", :style => Dict{Any, Any}(:padding => \"5px 10px 0px 10px\")))], Dict{Symbol, Any}(:className => \"interact-flex-row-left\")), Node{WebIO.DOM}(WebIO.DOM(:html, :div), Any[Node{WebIO.DOM}(WebIO.DOM(:html, :input), Any[], Dict{Symbol, Any}(:max => 255, :min => 0, :attributes => Dict{Any, Any}(:type => \"range\", Symbol(\"data-bind\") => \"numericValue: index, valueUpdate: 'input', event: {change: function (){this.changes(this.changes()+1)}}\", \"orient\" => \"horizontal\"), :step => 1, :className => \"slider slider is-fullwidth\", :style => Dict{Any, Any}()))], Dict{Symbol, Any}(:className => \"interact-flex-row-center\")), Node{WebIO.DOM}(WebIO.DOM(:html, :div), Any[Node{WebIO.DOM}(WebIO.DOM(:html, :p), Any[], Dict{Symbol, Any}(:attributes => Dict(\"data-bind\" => \"text: formatted_val\")))], Dict{Symbol, Any}(:className => \"interact-flex-row-right\"))], Dict{Symbol, Any}(:className => \"interact-flex-row interact-widget\")), Dict{String, Tuple{Observables.AbstractObservable, Union{Nothing, Bool}}}(\"changes\" => (Observable{Int64} with 1 listeners. Value:\n",
       "0, nothing), \"index\" => (Observable{Int64} with 2 listeners. Value:\n",
       "127, nothing)), Set{String}(), nothing, Asset[Asset(\"js\", \"knockout\", \"/Users/johnsmith/.julia/packages/Knockout/IP1uR/src/../assets/knockout.js\"), Asset(\"js\", \"knockout_punches\", \"/Users/johnsmith/.julia/packages/Knockout/IP1uR/src/../assets/knockout_punches.js\"), Asset(\"js\", nothing, \"/Users/johnsmith/.julia/packages/InteractBase/Zfu5P/src/../assets/all.js\"), Asset(\"css\", nothing, \"/Users/johnsmith/.julia/packages/InteractBase/Zfu5P/src/../assets/style.css\"), Asset(\"css\", nothing, \"/Users/johnsmith/.julia/packages/Interact/SbgIk/src/../assets/bulma_confined.min.css\")], Dict{Any, Any}(\"changes\" => Any[WebIO.JSString(\"(function (val){return (val!=this.model[\\\"changes\\\"]()) ? (this.valueFromJulia[\\\"changes\\\"]=true, this.model[\\\"changes\\\"](val)) : undefined})\")], \"index\" => Any[WebIO.JSString(\"(function (val){return (val!=this.model[\\\"index\\\"]()) ? (this.valueFromJulia[\\\"index\\\"]=true, this.model[\\\"index\\\"](val)) : undefined})\")]), WebIO.ConnectionPool(Channel{Any}(32), Set{AbstractConnection}(), Condition(Base.InvasiveLinkedList{Task}(Task (runnable) @0x00000001417f9880, Task (runnable) @0x00000001417f9880), Base.AlwaysLockedST(1))), WebIO.JSString[WebIO.JSString(\"function () {\\n    var handler = (function (ko, koPunches) {\\n    ko.punches.enableAll();\\n    ko.bindingHandlers.numericValue = {\\n        init: function(element, valueAccessor, allBindings, data, context) {\\n            var stringified = ko.observable(ko.unwrap(valueAccessor()));\\n            stringified.subscribe(function(value) {\\n                var val = parseFloat(value);\\n                if (!isNaN(val)) {\\n                    valueAccessor()(val);\\n                }\\n            });\\n            valueAccessor().subscribe(function(value) {\\n                var str = JSON.stringify(value);\\n                if ((str == \\\"0\\\") && ([\\\"-0\\\", \\\"-0.\\\"].indexOf(stringified()) >= 0))\\n                     return;\\n                 if ([\\\"null\\\", \\\"\\\"].indexOf(str) >= 0)\\n                     return;\\n                stringified(str);\\n            });\\n            ko.applyBindingsToNode(\\n                element,\\n                {\\n                    value: stringified,\\n                    valueUpdate: allBindings.get('valueUpdate'),\\n                },\\n                context,\\n            );\\n        }\\n    };\\n    var json_data = {\\\"formatted_vals\\\":[\\\"0\\\",\\\"1\\\",\\\"2\\\",\\\"3\\\",\\\"4\\\",\\\"5\\\",\\\"6\\\",\\\"7\\\",\\\"8\\\",\\\"9\\\",\\\"10\\\",\\\"11\\\",\\\"12\\\",\\\"13\\\",\\\"14\\\",\\\"15\\\",\\\"16\\\",\\\"17\\\",\\\"18\\\",\\\"19\\\",\\\"20\\\",\\\"21\\\",\\\"22\\\",\\\"23\\\",\\\"24\\\",\\\"25\\\",\\\"26\\\",\\\"27\\\",\\\"28\\\",\\\"29\\\",\\\"30\\\",\\\"31\\\",\\\"32\\\",\\\"33\\\",\\\"34\\\",\\\"35\\\",\\\"36\\\",\\\"37\\\",\\\"38\\\",\\\"39\\\",\\\"40\\\",\\\"41\\\",\\\"42\\\",\\\"43\\\",\\\"44\\\",\\\"45\\\",\\\"46\\\",\\\"47\\\",\\\"48\\\",\\\"49\\\",\\\"50\\\",\\\"51\\\",\\\"52\\\",\\\"53\\\",\\\"54\\\",\\\"55\\\",\\\"56\\\",\\\"57\\\",\\\"58\\\",\\\"59\\\",\\\"60\\\",\\\"61\\\",\\\"62\\\",\\\"63\\\",\\\"64\\\",\\\"65\\\",\\\"66\\\",\\\"67\\\",\\\"68\\\",\\\"69\\\",\\\"70\\\",\\\"71\\\",\\\"72\\\",\\\"73\\\",\\\"74\\\",\\\"75\\\",\\\"76\\\",\\\"77\\\",\\\"78\\\",\\\"79\\\",\\\"80\\\",\\\"81\\\",\\\"82\\\",\\\"83\\\",\\\"84\\\",\\\"85\\\",\\\"86\\\",\\\"87\\\",\\\"88\\\",\\\"89\\\",\\\"90\\\",\\\"91\\\",\\\"92\\\",\\\"93\\\",\\\"94\\\",\\\"95\\\",\\\"96\\\",\\\"97\\\",\\\"98\\\",\\\"99\\\",\\\"100\\\",\\\"101\\\",\\\"102\\\",\\\"103\\\",\\\"104\\\",\\\"105\\\",\\\"106\\\",\\\"107\\\",\\\"108\\\",\\\"109\\\",\\\"110\\\",\\\"111\\\",\\\"112\\\",\\\"113\\\",\\\"114\\\",\\\"115\\\",\\\"116\\\",\\\"117\\\",\\\"118\\\",\\\"119\\\",\\\"120\\\",\\\"121\\\",\\\"122\\\",\\\"123\\\",\\\"124\\\",\\\"125\\\",\\\"126\\\",\\\"127\\\",\\\"128\\\",\\\"129\\\",\\\"130\\\",\\\"131\\\",\\\"132\\\",\\\"133\\\",\\\"134\\\",\\\"135\\\",\\\"136\\\",\\\"137\\\",\\\"138\\\",\\\"139\\\",\\\"140\\\",\\\"141\\\",\\\"142\\\",\\\"143\\\",\\\"144\\\",\\\"145\\\",\\\"146\\\",\\\"147\\\",\\\"148\\\",\\\"149\\\",\\\"150\\\",\\\"151\\\",\\\"152\\\",\\\"153\\\",\\\"154\\\",\\\"155\\\",\\\"156\\\",\\\"157\\\",\\\"158\\\",\\\"159\\\",\\\"160\\\",\\\"161\\\",\\\"162\\\",\\\"163\\\",\\\"164\\\",\\\"165\\\",\\\"166\\\",\\\"167\\\",\\\"168\\\",\\\"169\\\",\\\"170\\\",\\\"171\\\",\\\"172\\\",\\\"173\\\",\\\"174\\\",\\\"175\\\",\\\"176\\\",\\\"177\\\",\\\"178\\\",\\\"179\\\",\\\"180\\\",\\\"181\\\",\\\"182\\\",\\\"183\\\",\\\"184\\\",\\\"185\\\",\\\"186\\\",\\\"187\\\",\\\"188\\\",\\\"189\\\",\\\"190\\\",\\\"191\\\",\\\"192\\\",\\\"193\\\",\\\"194\\\",\\\"195\\\",\\\"196\\\",\\\"197\\\",\\\"198\\\",\\\"199\\\",\\\"200\\\",\\\"201\\\",\\\"202\\\",\\\"203\\\",\\\"204\\\",\\\"205\\\",\\\"206\\\",\\\"207\\\",\\\"208\\\",\\\"209\\\",\\\"210\\\",\\\"211\\\",\\\"212\\\",\\\"213\\\",\\\"214\\\",\\\"215\\\",\\\"216\\\",\\\"217\\\",\\\"218\\\",\\\"219\\\",\\\"220\\\",\\\"221\\\",\\\"222\\\",\\\"223\\\",\\\"224\\\",\\\"225\\\",\\\"226\\\",\\\"227\\\",\\\"228\\\",\\\"229\\\",\\\"230\\\",\\\"231\\\",\\\"232\\\",\\\"233\\\",\\\"234\\\",\\\"235\\\",\\\"236\\\",\\\"237\\\",\\\"238\\\",\\\"239\\\",\\\"240\\\",\\\"241\\\",\\\"242\\\",\\\"243\\\",\\\"244\\\",\\\"245\\\",\\\"246\\\",\\\"247\\\",\\\"248\\\",\\\"249\\\",\\\"250\\\",\\\"251\\\",\\\"252\\\",\\\"253\\\",\\\"254\\\",\\\"255\\\"],\\\"changes\\\":WebIO.getval({\\\"name\\\":\\\"changes\\\",\\\"scope\\\":\\\"2890281564170590331\\\",\\\"id\\\":\\\"18395362751811450309\\\",\\\"type\\\":\\\"observable\\\"}),\\\"index\\\":WebIO.getval({\\\"name\\\":\\\"index\\\",\\\"scope\\\":\\\"2890281564170590331\\\",\\\"id\\\":\\\"3652522807163242357\\\",\\\"type\\\":\\\"observable\\\"})};\\n    var self = this;\\n    function AppViewModel() {\\n        for (var key in json_data) {\\n            var el = json_data[key];\\n            this[key] = Array.isArray(el) ? ko.observableArray(el) : ko.observable(el);\\n        }\\n        \\n        [this[\\\"formatted_val\\\"]=ko.computed(    function(){\\n        return this.formatted_vals()[parseInt(this.index())-(0)];\\n    }\\n,this)]\\n        [this[\\\"changes\\\"].subscribe((function (val){!(this.valueFromJulia[\\\"changes\\\"]) ? (WebIO.setval({\\\"name\\\":\\\"changes\\\",\\\"scope\\\":\\\"2890281564170590331\\\",\\\"id\\\":\\\"18395362751811450309\\\",\\\"type\\\":\\\"observable\\\"},val)) : undefined; return this.valueFromJulia[\\\"changes\\\"]=false}),self),this[\\\"index\\\"].subscribe((function (val){!(this.valueFromJulia[\\\"index\\\"]) ? (WebIO.setval({\\\"name\\\":\\\"index\\\",\\\"scope\\\":\\\"2890281564170590331\\\",\\\"id\\\":\\\"3652522807163242357\\\",\\\"type\\\":\\\"observable\\\"},val)) : undefined; return this.valueFromJulia[\\\"index\\\"]=false}),self)]\\n        \\n    }\\n    self.model = new AppViewModel();\\n    self.valueFromJulia = {};\\n    for (var key in json_data) {\\n        self.valueFromJulia[key] = false;\\n    }\\n    ko.applyBindings(self.model, self.dom);\\n}\\n);\\n    (WebIO.importBlock({\\\"data\\\":[{\\\"name\\\":\\\"knockout\\\",\\\"type\\\":\\\"js\\\",\\\"url\\\":\\\"/assetserver/0fc6d61518197b1bf9b23217e9be1d2e00f2bb14-knockout.js\\\"},{\\\"name\\\":\\\"knockout_punches\\\",\\\"type\\\":\\\"js\\\",\\\"url\\\":\\\"/assetserver/24c12264eef2b01f723a21985ba5661f5564d7cf-knockout_punches.js\\\"}],\\\"type\\\":\\\"async_block\\\"})).then((imports) => handler.apply(this, imports));\\n}\\n\")])], Dict{Symbol, Any}(:className => \"field interact-widget\")), Node{WebIO.DOM}(WebIO.DOM(:html, :div), Any[Scope(Node{WebIO.DOM}(WebIO.DOM(:html, :div), Any[Node{WebIO.DOM}(WebIO.DOM(:html, :div), Any[Node{WebIO.DOM}(WebIO.DOM(:html, :label), Any[\"green\"], Dict{Symbol, Any}(:className => \"interact \", :style => Dict{Any, Any}(:padding => \"5px 10px 0px 10px\")))], Dict{Symbol, Any}(:className => \"interact-flex-row-left\")), Node{WebIO.DOM}(WebIO.DOM(:html, :div), Any[Node{WebIO.DOM}(WebIO.DOM(:html, :input), Any[], Dict{Symbol, Any}(:max => 255, :min => 0, :attributes => Dict{Any, Any}(:type => \"range\", Symbol(\"data-bind\") => \"numericValue: index, valueUpdate: 'input', event: {change: function (){this.changes(this.changes()+1)}}\", \"orient\" => \"horizontal\"), :step => 1, :className => \"slider slider is-fullwidth\", :style => Dict{Any, Any}()))], Dict{Symbol, Any}(:className => \"interact-flex-row-center\")), Node{WebIO.DOM}(WebIO.DOM(:html, :div), Any[Node{WebIO.DOM}(WebIO.DOM(:html, :p), Any[], Dict{Symbol, Any}(:attributes => Dict(\"data-bind\" => \"text: formatted_val\")))], Dict{Symbol, Any}(:className => \"interact-flex-row-right\"))], Dict{Symbol, Any}(:className => \"interact-flex-row interact-widget\")), Dict{String, Tuple{Observables.AbstractObservable, Union{Nothing, Bool}}}(\"changes\" => (Observable{Int64} with 1 listeners. Value:\n",
       "0, nothing), \"index\" => (Observable{Int64} with 2 listeners. Value:\n",
       "127, nothing)), Set{String}(), nothing, Asset[Asset(\"js\", \"knockout\", \"/Users/johnsmith/.julia/packages/Knockout/IP1uR/src/../assets/knockout.js\"), Asset(\"js\", \"knockout_punches\", \"/Users/johnsmith/.julia/packages/Knockout/IP1uR/src/../assets/knockout_punches.js\"), Asset(\"js\", nothing, \"/Users/johnsmith/.julia/packages/InteractBase/Zfu5P/src/../assets/all.js\"), Asset(\"css\", nothing, \"/Users/johnsmith/.julia/packages/InteractBase/Zfu5P/src/../assets/style.css\"), Asset(\"css\", nothing, \"/Users/johnsmith/.julia/packages/Interact/SbgIk/src/../assets/bulma_confined.min.css\")], Dict{Any, Any}(\"changes\" => Any[WebIO.JSString(\"(function (val){return (val!=this.model[\\\"changes\\\"]()) ? (this.valueFromJulia[\\\"changes\\\"]=true, this.model[\\\"changes\\\"](val)) : undefined})\")], \"index\" => Any[WebIO.JSString(\"(function (val){return (val!=this.model[\\\"index\\\"]()) ? (this.valueFromJulia[\\\"index\\\"]=true, this.model[\\\"index\\\"](val)) : undefined})\")]), WebIO.ConnectionPool(Channel{Any}(32), Set{AbstractConnection}(), Condition(Base.InvasiveLinkedList{Task}(Task (runnable) @0x000000013df38230, Task (runnable) @0x000000013df38230), Base.AlwaysLockedST(1))), WebIO.JSString[WebIO.JSString(\"function () {\\n    var handler = (function (ko, koPunches) {\\n    ko.punches.enableAll();\\n    ko.bindingHandlers.numericValue = {\\n        init: function(element, valueAccessor, allBindings, data, context) {\\n            var stringified = ko.observable(ko.unwrap(valueAccessor()));\\n            stringified.subscribe(function(value) {\\n                var val = parseFloat(value);\\n                if (!isNaN(val)) {\\n                    valueAccessor()(val);\\n                }\\n            });\\n            valueAccessor().subscribe(function(value) {\\n                var str = JSON.stringify(value);\\n                if ((str == \\\"0\\\") && ([\\\"-0\\\", \\\"-0.\\\"].indexOf(stringified()) >= 0))\\n                     return;\\n                 if ([\\\"null\\\", \\\"\\\"].indexOf(str) >= 0)\\n                     return;\\n                stringified(str);\\n            });\\n            ko.applyBindingsToNode(\\n                element,\\n                {\\n                    value: stringified,\\n                    valueUpdate: allBindings.get('valueUpdate'),\\n                },\\n                context,\\n            );\\n        }\\n    };\\n    var json_data = {\\\"formatted_vals\\\":[\\\"0\\\",\\\"1\\\",\\\"2\\\",\\\"3\\\",\\\"4\\\",\\\"5\\\",\\\"6\\\",\\\"7\\\",\\\"8\\\",\\\"9\\\",\\\"10\\\",\\\"11\\\",\\\"12\\\",\\\"13\\\",\\\"14\\\",\\\"15\\\",\\\"16\\\",\\\"17\\\",\\\"18\\\",\\\"19\\\",\\\"20\\\",\\\"21\\\",\\\"22\\\",\\\"23\\\",\\\"24\\\",\\\"25\\\",\\\"26\\\",\\\"27\\\",\\\"28\\\",\\\"29\\\",\\\"30\\\",\\\"31\\\",\\\"32\\\",\\\"33\\\",\\\"34\\\",\\\"35\\\",\\\"36\\\",\\\"37\\\",\\\"38\\\",\\\"39\\\",\\\"40\\\",\\\"41\\\",\\\"42\\\",\\\"43\\\",\\\"44\\\",\\\"45\\\",\\\"46\\\",\\\"47\\\",\\\"48\\\",\\\"49\\\",\\\"50\\\",\\\"51\\\",\\\"52\\\",\\\"53\\\",\\\"54\\\",\\\"55\\\",\\\"56\\\",\\\"57\\\",\\\"58\\\",\\\"59\\\",\\\"60\\\",\\\"61\\\",\\\"62\\\",\\\"63\\\",\\\"64\\\",\\\"65\\\",\\\"66\\\",\\\"67\\\",\\\"68\\\",\\\"69\\\",\\\"70\\\",\\\"71\\\",\\\"72\\\",\\\"73\\\",\\\"74\\\",\\\"75\\\",\\\"76\\\",\\\"77\\\",\\\"78\\\",\\\"79\\\",\\\"80\\\",\\\"81\\\",\\\"82\\\",\\\"83\\\",\\\"84\\\",\\\"85\\\",\\\"86\\\",\\\"87\\\",\\\"88\\\",\\\"89\\\",\\\"90\\\",\\\"91\\\",\\\"92\\\",\\\"93\\\",\\\"94\\\",\\\"95\\\",\\\"96\\\",\\\"97\\\",\\\"98\\\",\\\"99\\\",\\\"100\\\",\\\"101\\\",\\\"102\\\",\\\"103\\\",\\\"104\\\",\\\"105\\\",\\\"106\\\",\\\"107\\\",\\\"108\\\",\\\"109\\\",\\\"110\\\",\\\"111\\\",\\\"112\\\",\\\"113\\\",\\\"114\\\",\\\"115\\\",\\\"116\\\",\\\"117\\\",\\\"118\\\",\\\"119\\\",\\\"120\\\",\\\"121\\\",\\\"122\\\",\\\"123\\\",\\\"124\\\",\\\"125\\\",\\\"126\\\",\\\"127\\\",\\\"128\\\",\\\"129\\\",\\\"130\\\",\\\"131\\\",\\\"132\\\",\\\"133\\\",\\\"134\\\",\\\"135\\\",\\\"136\\\",\\\"137\\\",\\\"138\\\",\\\"139\\\",\\\"140\\\",\\\"141\\\",\\\"142\\\",\\\"143\\\",\\\"144\\\",\\\"145\\\",\\\"146\\\",\\\"147\\\",\\\"148\\\",\\\"149\\\",\\\"150\\\",\\\"151\\\",\\\"152\\\",\\\"153\\\",\\\"154\\\",\\\"155\\\",\\\"156\\\",\\\"157\\\",\\\"158\\\",\\\"159\\\",\\\"160\\\",\\\"161\\\",\\\"162\\\",\\\"163\\\",\\\"164\\\",\\\"165\\\",\\\"166\\\",\\\"167\\\",\\\"168\\\",\\\"169\\\",\\\"170\\\",\\\"171\\\",\\\"172\\\",\\\"173\\\",\\\"174\\\",\\\"175\\\",\\\"176\\\",\\\"177\\\",\\\"178\\\",\\\"179\\\",\\\"180\\\",\\\"181\\\",\\\"182\\\",\\\"183\\\",\\\"184\\\",\\\"185\\\",\\\"186\\\",\\\"187\\\",\\\"188\\\",\\\"189\\\",\\\"190\\\",\\\"191\\\",\\\"192\\\",\\\"193\\\",\\\"194\\\",\\\"195\\\",\\\"196\\\",\\\"197\\\",\\\"198\\\",\\\"199\\\",\\\"200\\\",\\\"201\\\",\\\"202\\\",\\\"203\\\",\\\"204\\\",\\\"205\\\",\\\"206\\\",\\\"207\\\",\\\"208\\\",\\\"209\\\",\\\"210\\\",\\\"211\\\",\\\"212\\\",\\\"213\\\",\\\"214\\\",\\\"215\\\",\\\"216\\\",\\\"217\\\",\\\"218\\\",\\\"219\\\",\\\"220\\\",\\\"221\\\",\\\"222\\\",\\\"223\\\",\\\"224\\\",\\\"225\\\",\\\"226\\\",\\\"227\\\",\\\"228\\\",\\\"229\\\",\\\"230\\\",\\\"231\\\",\\\"232\\\",\\\"233\\\",\\\"234\\\",\\\"235\\\",\\\"236\\\",\\\"237\\\",\\\"238\\\",\\\"239\\\",\\\"240\\\",\\\"241\\\",\\\"242\\\",\\\"243\\\",\\\"244\\\",\\\"245\\\",\\\"246\\\",\\\"247\\\",\\\"248\\\",\\\"249\\\",\\\"250\\\",\\\"251\\\",\\\"252\\\",\\\"253\\\",\\\"254\\\",\\\"255\\\"],\\\"changes\\\":WebIO.getval({\\\"name\\\":\\\"changes\\\",\\\"scope\\\":\\\"13869785640863303403\\\",\\\"id\\\":\\\"12087930275749983784\\\",\\\"type\\\":\\\"observable\\\"}),\\\"index\\\":WebIO.getval({\\\"name\\\":\\\"index\\\",\\\"scope\\\":\\\"13869785640863303403\\\",\\\"id\\\":\\\"5214871276161627368\\\",\\\"type\\\":\\\"observable\\\"})};\\n    var self = this;\\n    function AppViewModel() {\\n        for (var key in json_data) {\\n            var el = json_data[key];\\n            this[key] = Array.isArray(el) ? ko.observableArray(el) : ko.observable(el);\\n        }\\n        \\n        [this[\\\"formatted_val\\\"]=ko.computed(    function(){\\n        return this.formatted_vals()[parseInt(this.index())-(0)];\\n    }\\n,this)]\\n        [this[\\\"changes\\\"].subscribe((function (val){!(this.valueFromJulia[\\\"changes\\\"]) ? (WebIO.setval({\\\"name\\\":\\\"changes\\\",\\\"scope\\\":\\\"13869785640863303403\\\",\\\"id\\\":\\\"12087930275749983784\\\",\\\"type\\\":\\\"observable\\\"},val)) : undefined; return this.valueFromJulia[\\\"changes\\\"]=false}),self),this[\\\"index\\\"].subscribe((function (val){!(this.valueFromJulia[\\\"index\\\"]) ? (WebIO.setval({\\\"name\\\":\\\"index\\\",\\\"scope\\\":\\\"13869785640863303403\\\",\\\"id\\\":\\\"5214871276161627368\\\",\\\"type\\\":\\\"observable\\\"},val)) : undefined; return this.valueFromJulia[\\\"index\\\"]=false}),self)]\\n        \\n    }\\n    self.model = new AppViewModel();\\n    self.valueFromJulia = {};\\n    for (var key in json_data) {\\n        self.valueFromJulia[key] = false;\\n    }\\n    ko.applyBindings(self.model, self.dom);\\n}\\n);\\n    (WebIO.importBlock({\\\"data\\\":[{\\\"name\\\":\\\"knockout\\\",\\\"type\\\":\\\"js\\\",\\\"url\\\":\\\"/assetserver/0fc6d61518197b1bf9b23217e9be1d2e00f2bb14-knockout.js\\\"},{\\\"name\\\":\\\"knockout_punches\\\",\\\"type\\\":\\\"js\\\",\\\"url\\\":\\\"/assetserver/24c12264eef2b01f723a21985ba5661f5564d7cf-knockout_punches.js\\\"}],\\\"type\\\":\\\"async_block\\\"})).then((imports) => handler.apply(this, imports));\\n}\\n\")])], Dict{Symbol, Any}(:className => \"field interact-widget\")), Node{WebIO.DOM}(WebIO.DOM(:html, :div), Any[Scope(Node{WebIO.DOM}(WebIO.DOM(:html, :div), Any[Node{WebIO.DOM}(WebIO.DOM(:html, :div), Any[Node{WebIO.DOM}(WebIO.DOM(:html, :label), Any[\"blue\"], Dict{Symbol, Any}(:className => \"interact \", :style => Dict{Any, Any}(:padding => \"5px 10px 0px 10px\")))], Dict{Symbol, Any}(:className => \"interact-flex-row-left\")), Node{WebIO.DOM}(WebIO.DOM(:html, :div), Any[Node{WebIO.DOM}(WebIO.DOM(:html, :input), Any[], Dict{Symbol, Any}(:max => 255, :min => 0, :attributes => Dict{Any, Any}(:type => \"range\", Symbol(\"data-bind\") => \"numericValue: index, valueUpdate: 'input', event: {change: function (){this.changes(this.changes()+1)}}\", \"orient\" => \"horizontal\"), :step => 1, :className => \"slider slider is-fullwidth\", :style => Dict{Any, Any}()))], Dict{Symbol, Any}(:className => \"interact-flex-row-center\")), Node{WebIO.DOM}(WebIO.DOM(:html, :div), Any[Node{WebIO.DOM}(WebIO.DOM(:html, :p), Any[], Dict{Symbol, Any}(:attributes => Dict(\"data-bind\" => \"text: formatted_val\")))], Dict{Symbol, Any}(:className => \"interact-flex-row-right\"))], Dict{Symbol, Any}(:className => \"interact-flex-row interact-widget\")), Dict{String, Tuple{Observables.AbstractObservable, Union{Nothing, Bool}}}(\"changes\" => (Observable{Int64} with 1 listeners. Value:\n",
       "0, nothing), \"index\" => (Observable{Int64} with 2 listeners. Value:\n",
       "127, nothing)), Set{String}(), nothing, Asset[Asset(\"js\", \"knockout\", \"/Users/johnsmith/.julia/packages/Knockout/IP1uR/src/../assets/knockout.js\"), Asset(\"js\", \"knockout_punches\", \"/Users/johnsmith/.julia/packages/Knockout/IP1uR/src/../assets/knockout_punches.js\"), Asset(\"js\", nothing, \"/Users/johnsmith/.julia/packages/InteractBase/Zfu5P/src/../assets/all.js\"), Asset(\"css\", nothing, \"/Users/johnsmith/.julia/packages/InteractBase/Zfu5P/src/../assets/style.css\"), Asset(\"css\", nothing, \"/Users/johnsmith/.julia/packages/Interact/SbgIk/src/../assets/bulma_confined.min.css\")], Dict{Any, Any}(\"changes\" => Any[WebIO.JSString(\"(function (val){return (val!=this.model[\\\"changes\\\"]()) ? (this.valueFromJulia[\\\"changes\\\"]=true, this.model[\\\"changes\\\"](val)) : undefined})\")], \"index\" => Any[WebIO.JSString(\"(function (val){return (val!=this.model[\\\"index\\\"]()) ? (this.valueFromJulia[\\\"index\\\"]=true, this.model[\\\"index\\\"](val)) : undefined})\")]), WebIO.ConnectionPool(Channel{Any}(32), Set{AbstractConnection}(), Condition(Base.InvasiveLinkedList{Task}(Task (runnable) @0x000000013df38450, Task (runnable) @0x000000013df38450), Base.AlwaysLockedST(1))), WebIO.JSString[WebIO.JSString(\"function () {\\n    var handler = (function (ko, koPunches) {\\n    ko.punches.enableAll();\\n    ko.bindingHandlers.numericValue = {\\n        init: function(element, valueAccessor, allBindings, data, context) {\\n            var stringified = ko.observable(ko.unwrap(valueAccessor()));\\n            stringified.subscribe(function(value) {\\n                var val = parseFloat(value);\\n                if (!isNaN(val)) {\\n                    valueAccessor()(val);\\n                }\\n            });\\n            valueAccessor().subscribe(function(value) {\\n                var str = JSON.stringify(value);\\n                if ((str == \\\"0\\\") && ([\\\"-0\\\", \\\"-0.\\\"].indexOf(stringified()) >= 0))\\n                     return;\\n                 if ([\\\"null\\\", \\\"\\\"].indexOf(str) >= 0)\\n                     return;\\n                stringified(str);\\n            });\\n            ko.applyBindingsToNode(\\n                element,\\n                {\\n                    value: stringified,\\n                    valueUpdate: allBindings.get('valueUpdate'),\\n                },\\n                context,\\n            );\\n        }\\n    };\\n    var json_data = {\\\"formatted_vals\\\":[\\\"0\\\",\\\"1\\\",\\\"2\\\",\\\"3\\\",\\\"4\\\",\\\"5\\\",\\\"6\\\",\\\"7\\\",\\\"8\\\",\\\"9\\\",\\\"10\\\",\\\"11\\\",\\\"12\\\",\\\"13\\\",\\\"14\\\",\\\"15\\\",\\\"16\\\",\\\"17\\\",\\\"18\\\",\\\"19\\\",\\\"20\\\",\\\"21\\\",\\\"22\\\",\\\"23\\\",\\\"24\\\",\\\"25\\\",\\\"26\\\",\\\"27\\\",\\\"28\\\",\\\"29\\\",\\\"30\\\",\\\"31\\\",\\\"32\\\",\\\"33\\\",\\\"34\\\",\\\"35\\\",\\\"36\\\",\\\"37\\\",\\\"38\\\",\\\"39\\\",\\\"40\\\",\\\"41\\\",\\\"42\\\",\\\"43\\\",\\\"44\\\",\\\"45\\\",\\\"46\\\",\\\"47\\\",\\\"48\\\",\\\"49\\\",\\\"50\\\",\\\"51\\\",\\\"52\\\",\\\"53\\\",\\\"54\\\",\\\"55\\\",\\\"56\\\",\\\"57\\\",\\\"58\\\",\\\"59\\\",\\\"60\\\",\\\"61\\\",\\\"62\\\",\\\"63\\\",\\\"64\\\",\\\"65\\\",\\\"66\\\",\\\"67\\\",\\\"68\\\",\\\"69\\\",\\\"70\\\",\\\"71\\\",\\\"72\\\",\\\"73\\\",\\\"74\\\",\\\"75\\\",\\\"76\\\",\\\"77\\\",\\\"78\\\",\\\"79\\\",\\\"80\\\",\\\"81\\\",\\\"82\\\",\\\"83\\\",\\\"84\\\",\\\"85\\\",\\\"86\\\",\\\"87\\\",\\\"88\\\",\\\"89\\\",\\\"90\\\",\\\"91\\\",\\\"92\\\",\\\"93\\\",\\\"94\\\",\\\"95\\\",\\\"96\\\",\\\"97\\\",\\\"98\\\",\\\"99\\\",\\\"100\\\",\\\"101\\\",\\\"102\\\",\\\"103\\\",\\\"104\\\",\\\"105\\\",\\\"106\\\",\\\"107\\\",\\\"108\\\",\\\"109\\\",\\\"110\\\",\\\"111\\\",\\\"112\\\",\\\"113\\\",\\\"114\\\",\\\"115\\\",\\\"116\\\",\\\"117\\\",\\\"118\\\",\\\"119\\\",\\\"120\\\",\\\"121\\\",\\\"122\\\",\\\"123\\\",\\\"124\\\",\\\"125\\\",\\\"126\\\",\\\"127\\\",\\\"128\\\",\\\"129\\\",\\\"130\\\",\\\"131\\\",\\\"132\\\",\\\"133\\\",\\\"134\\\",\\\"135\\\",\\\"136\\\",\\\"137\\\",\\\"138\\\",\\\"139\\\",\\\"140\\\",\\\"141\\\",\\\"142\\\",\\\"143\\\",\\\"144\\\",\\\"145\\\",\\\"146\\\",\\\"147\\\",\\\"148\\\",\\\"149\\\",\\\"150\\\",\\\"151\\\",\\\"152\\\",\\\"153\\\",\\\"154\\\",\\\"155\\\",\\\"156\\\",\\\"157\\\",\\\"158\\\",\\\"159\\\",\\\"160\\\",\\\"161\\\",\\\"162\\\",\\\"163\\\",\\\"164\\\",\\\"165\\\",\\\"166\\\",\\\"167\\\",\\\"168\\\",\\\"169\\\",\\\"170\\\",\\\"171\\\",\\\"172\\\",\\\"173\\\",\\\"174\\\",\\\"175\\\",\\\"176\\\",\\\"177\\\",\\\"178\\\",\\\"179\\\",\\\"180\\\",\\\"181\\\",\\\"182\\\",\\\"183\\\",\\\"184\\\",\\\"185\\\",\\\"186\\\",\\\"187\\\",\\\"188\\\",\\\"189\\\",\\\"190\\\",\\\"191\\\",\\\"192\\\",\\\"193\\\",\\\"194\\\",\\\"195\\\",\\\"196\\\",\\\"197\\\",\\\"198\\\",\\\"199\\\",\\\"200\\\",\\\"201\\\",\\\"202\\\",\\\"203\\\",\\\"204\\\",\\\"205\\\",\\\"206\\\",\\\"207\\\",\\\"208\\\",\\\"209\\\",\\\"210\\\",\\\"211\\\",\\\"212\\\",\\\"213\\\",\\\"214\\\",\\\"215\\\",\\\"216\\\",\\\"217\\\",\\\"218\\\",\\\"219\\\",\\\"220\\\",\\\"221\\\",\\\"222\\\",\\\"223\\\",\\\"224\\\",\\\"225\\\",\\\"226\\\",\\\"227\\\",\\\"228\\\",\\\"229\\\",\\\"230\\\",\\\"231\\\",\\\"232\\\",\\\"233\\\",\\\"234\\\",\\\"235\\\",\\\"236\\\",\\\"237\\\",\\\"238\\\",\\\"239\\\",\\\"240\\\",\\\"241\\\",\\\"242\\\",\\\"243\\\",\\\"244\\\",\\\"245\\\",\\\"246\\\",\\\"247\\\",\\\"248\\\",\\\"249\\\",\\\"250\\\",\\\"251\\\",\\\"252\\\",\\\"253\\\",\\\"254\\\",\\\"255\\\"],\\\"changes\\\":WebIO.getval({\\\"name\\\":\\\"changes\\\",\\\"scope\\\":\\\"9986228044100904826\\\",\\\"id\\\":\\\"1246094669140991221\\\",\\\"type\\\":\\\"observable\\\"}),\\\"index\\\":WebIO.getval({\\\"name\\\":\\\"index\\\",\\\"scope\\\":\\\"9986228044100904826\\\",\\\"id\\\":\\\"16115194723078729974\\\",\\\"type\\\":\\\"observable\\\"})};\\n    var self = this;\\n    function AppViewModel() {\\n        for (var key in json_data) {\\n            var el = json_data[key];\\n            this[key] = Array.isArray(el) ? ko.observableArray(el) : ko.observable(el);\\n        }\\n        \\n        [this[\\\"formatted_val\\\"]=ko.computed(    function(){\\n        return this.formatted_vals()[parseInt(this.index())-(0)];\\n    }\\n,this)]\\n        [this[\\\"changes\\\"].subscribe((function (val){!(this.valueFromJulia[\\\"changes\\\"]) ? (WebIO.setval({\\\"name\\\":\\\"changes\\\",\\\"scope\\\":\\\"9986228044100904826\\\",\\\"id\\\":\\\"1246094669140991221\\\",\\\"type\\\":\\\"observable\\\"},val)) : undefined; return this.valueFromJulia[\\\"changes\\\"]=false}),self),this[\\\"index\\\"].subscribe((function (val){!(this.valueFromJulia[\\\"index\\\"]) ? (WebIO.setval({\\\"name\\\":\\\"index\\\",\\\"scope\\\":\\\"9986228044100904826\\\",\\\"id\\\":\\\"16115194723078729974\\\",\\\"type\\\":\\\"observable\\\"},val)) : undefined; return this.valueFromJulia[\\\"index\\\"]=false}),self)]\\n        \\n    }\\n    self.model = new AppViewModel();\\n    self.valueFromJulia = {};\\n    for (var key in json_data) {\\n        self.valueFromJulia[key] = false;\\n    }\\n    ko.applyBindings(self.model, self.dom);\\n}\\n);\\n    (WebIO.importBlock({\\\"data\\\":[{\\\"name\\\":\\\"knockout\\\",\\\"type\\\":\\\"js\\\",\\\"url\\\":\\\"/assetserver/0fc6d61518197b1bf9b23217e9be1d2e00f2bb14-knockout.js\\\"},{\\\"name\\\":\\\"knockout_punches\\\",\\\"type\\\":\\\"js\\\",\\\"url\\\":\\\"/assetserver/24c12264eef2b01f723a21985ba5661f5564d7cf-knockout_punches.js\\\"}],\\\"type\\\":\\\"async_block\\\"})).then((imports) => handler.apply(this, imports));\\n}\\n\")])], Dict{Symbol, Any}(:className => \"field interact-widget\"))], Dict{Symbol, Any}(:style => Dict(\"display\" => \"flex\", \"flex-direction\" => \"column\")))], Dict{Symbol, Any}(:style => Dict(\"display\" => \"flex\", \"flex-direction\" => \"row\")))"
      ]
     },
     "execution_count": 3,
     "metadata": {
      "application/vnd.webio.node+json": {
       "kernelId": "1ba9d061-5817-4c1d-97d1-fd42acd369e6"
      }
     },
     "output_type": "execute_result"
    }
   ],
   "source": [
    "mycolorpicker()"
   ]
  },
  {
   "cell_type": "code",
   "execution_count": 4,
   "id": "ec7240c6",
   "metadata": {},
   "outputs": [
    {
     "data": {
      "application/vnd.webio.node+json": {
       "children": [
        {
         "children": [
          {
           "children": [
            {
             "children": [
              {
               "children": [
                "blue"
               ],
               "instanceArgs": {
                "namespace": "html",
                "tag": "label"
               },
               "nodeType": "DOM",
               "props": {
                "className": "interact ",
                "style": {
                 "padding": "5px 10px 0px 10px"
                }
               },
               "type": "node"
              }
             ],
             "instanceArgs": {
              "namespace": "html",
              "tag": "div"
             },
             "nodeType": "DOM",
             "props": {
              "className": "interact-flex-row-left"
             },
             "type": "node"
            },
            {
             "children": [
              {
               "children": [],
               "instanceArgs": {
                "namespace": "html",
                "tag": "input"
               },
               "nodeType": "DOM",
               "props": {
                "attributes": {
                 "data-bind": "numericValue: index, valueUpdate: 'input', event: {change: function (){this.changes(this.changes()+1)}}",
                 "orient": "horizontal",
                 "type": "range"
                },
                "className": "slider slider is-fullwidth",
                "max": 255,
                "min": 0,
                "step": 1,
                "style": {}
               },
               "type": "node"
              }
             ],
             "instanceArgs": {
              "namespace": "html",
              "tag": "div"
             },
             "nodeType": "DOM",
             "props": {
              "className": "interact-flex-row-center"
             },
             "type": "node"
            },
            {
             "children": [
              {
               "children": [],
               "instanceArgs": {
                "namespace": "html",
                "tag": "p"
               },
               "nodeType": "DOM",
               "props": {
                "attributes": {
                 "data-bind": "text: formatted_val"
                }
               },
               "type": "node"
              }
             ],
             "instanceArgs": {
              "namespace": "html",
              "tag": "div"
             },
             "nodeType": "DOM",
             "props": {
              "className": "interact-flex-row-right"
             },
             "type": "node"
            }
           ],
           "instanceArgs": {
            "namespace": "html",
            "tag": "div"
           },
           "nodeType": "DOM",
           "props": {
            "className": "interact-flex-row interact-widget"
           },
           "type": "node"
          }
         ],
         "instanceArgs": {
          "handlers": {
           "changes": [
            "(function (val){return (val!=this.model[\"changes\"]()) ? (this.valueFromJulia[\"changes\"]=true, this.model[\"changes\"](val)) : undefined})"
           ],
           "index": [
            "(function (val){return (val!=this.model[\"index\"]()) ? (this.valueFromJulia[\"index\"]=true, this.model[\"index\"](val)) : undefined})"
           ]
          },
          "id": "2718825716685729146",
          "imports": {
           "data": [
            {
             "name": "knockout",
             "type": "js",
             "url": "/assetserver/0fc6d61518197b1bf9b23217e9be1d2e00f2bb14-knockout.js"
            },
            {
             "name": "knockout_punches",
             "type": "js",
             "url": "/assetserver/24c12264eef2b01f723a21985ba5661f5564d7cf-knockout_punches.js"
            },
            {
             "name": null,
             "type": "js",
             "url": "/assetserver/85de428ae418ad26c1ce7e886d25374b3774afa9-all.js"
            },
            {
             "name": null,
             "type": "css",
             "url": "/assetserver/2cd8ff31326883094fe5a8ff21182264663b62be-style.css"
            },
            {
             "name": null,
             "type": "css",
             "url": "/assetserver/741bde2d4bf25f117d0ec4d43164cd1a050cf9de-bulma_confined.min.css"
            }
           ],
           "type": "async_block"
          },
          "mount_callbacks": [
           "function () {\n    var handler = (function (ko, koPunches) {\n    ko.punches.enableAll();\n    ko.bindingHandlers.numericValue = {\n        init: function(element, valueAccessor, allBindings, data, context) {\n            var stringified = ko.observable(ko.unwrap(valueAccessor()));\n            stringified.subscribe(function(value) {\n                var val = parseFloat(value);\n                if (!isNaN(val)) {\n                    valueAccessor()(val);\n                }\n            });\n            valueAccessor().subscribe(function(value) {\n                var str = JSON.stringify(value);\n                if ((str == \"0\") && ([\"-0\", \"-0.\"].indexOf(stringified()) >= 0))\n                     return;\n                 if ([\"null\", \"\"].indexOf(str) >= 0)\n                     return;\n                stringified(str);\n            });\n            ko.applyBindingsToNode(\n                element,\n                {\n                    value: stringified,\n                    valueUpdate: allBindings.get('valueUpdate'),\n                },\n                context,\n            );\n        }\n    };\n    var json_data = {\"formatted_vals\":[\"0\",\"1\",\"2\",\"3\",\"4\",\"5\",\"6\",\"7\",\"8\",\"9\",\"10\",\"11\",\"12\",\"13\",\"14\",\"15\",\"16\",\"17\",\"18\",\"19\",\"20\",\"21\",\"22\",\"23\",\"24\",\"25\",\"26\",\"27\",\"28\",\"29\",\"30\",\"31\",\"32\",\"33\",\"34\",\"35\",\"36\",\"37\",\"38\",\"39\",\"40\",\"41\",\"42\",\"43\",\"44\",\"45\",\"46\",\"47\",\"48\",\"49\",\"50\",\"51\",\"52\",\"53\",\"54\",\"55\",\"56\",\"57\",\"58\",\"59\",\"60\",\"61\",\"62\",\"63\",\"64\",\"65\",\"66\",\"67\",\"68\",\"69\",\"70\",\"71\",\"72\",\"73\",\"74\",\"75\",\"76\",\"77\",\"78\",\"79\",\"80\",\"81\",\"82\",\"83\",\"84\",\"85\",\"86\",\"87\",\"88\",\"89\",\"90\",\"91\",\"92\",\"93\",\"94\",\"95\",\"96\",\"97\",\"98\",\"99\",\"100\",\"101\",\"102\",\"103\",\"104\",\"105\",\"106\",\"107\",\"108\",\"109\",\"110\",\"111\",\"112\",\"113\",\"114\",\"115\",\"116\",\"117\",\"118\",\"119\",\"120\",\"121\",\"122\",\"123\",\"124\",\"125\",\"126\",\"127\",\"128\",\"129\",\"130\",\"131\",\"132\",\"133\",\"134\",\"135\",\"136\",\"137\",\"138\",\"139\",\"140\",\"141\",\"142\",\"143\",\"144\",\"145\",\"146\",\"147\",\"148\",\"149\",\"150\",\"151\",\"152\",\"153\",\"154\",\"155\",\"156\",\"157\",\"158\",\"159\",\"160\",\"161\",\"162\",\"163\",\"164\",\"165\",\"166\",\"167\",\"168\",\"169\",\"170\",\"171\",\"172\",\"173\",\"174\",\"175\",\"176\",\"177\",\"178\",\"179\",\"180\",\"181\",\"182\",\"183\",\"184\",\"185\",\"186\",\"187\",\"188\",\"189\",\"190\",\"191\",\"192\",\"193\",\"194\",\"195\",\"196\",\"197\",\"198\",\"199\",\"200\",\"201\",\"202\",\"203\",\"204\",\"205\",\"206\",\"207\",\"208\",\"209\",\"210\",\"211\",\"212\",\"213\",\"214\",\"215\",\"216\",\"217\",\"218\",\"219\",\"220\",\"221\",\"222\",\"223\",\"224\",\"225\",\"226\",\"227\",\"228\",\"229\",\"230\",\"231\",\"232\",\"233\",\"234\",\"235\",\"236\",\"237\",\"238\",\"239\",\"240\",\"241\",\"242\",\"243\",\"244\",\"245\",\"246\",\"247\",\"248\",\"249\",\"250\",\"251\",\"252\",\"253\",\"254\",\"255\"],\"changes\":WebIO.getval({\"name\":\"changes\",\"scope\":\"2718825716685729146\",\"id\":\"5097286513597266338\",\"type\":\"observable\"}),\"index\":WebIO.getval({\"name\":\"index\",\"scope\":\"2718825716685729146\",\"id\":\"7859347714851756252\",\"type\":\"observable\"})};\n    var self = this;\n    function AppViewModel() {\n        for (var key in json_data) {\n            var el = json_data[key];\n            this[key] = Array.isArray(el) ? ko.observableArray(el) : ko.observable(el);\n        }\n        \n        [this[\"formatted_val\"]=ko.computed(    function(){\n        return this.formatted_vals()[parseInt(this.index())-(0)];\n    }\n,this)]\n        [this[\"changes\"].subscribe((function (val){!(this.valueFromJulia[\"changes\"]) ? (WebIO.setval({\"name\":\"changes\",\"scope\":\"2718825716685729146\",\"id\":\"5097286513597266338\",\"type\":\"observable\"},val)) : undefined; return this.valueFromJulia[\"changes\"]=false}),self),this[\"index\"].subscribe((function (val){!(this.valueFromJulia[\"index\"]) ? (WebIO.setval({\"name\":\"index\",\"scope\":\"2718825716685729146\",\"id\":\"7859347714851756252\",\"type\":\"observable\"},val)) : undefined; return this.valueFromJulia[\"index\"]=false}),self)]\n        \n    }\n    self.model = new AppViewModel();\n    self.valueFromJulia = {};\n    for (var key in json_data) {\n        self.valueFromJulia[key] = false;\n    }\n    ko.applyBindings(self.model, self.dom);\n}\n);\n    (WebIO.importBlock({\"data\":[{\"name\":\"knockout\",\"type\":\"js\",\"url\":\"/assetserver/0fc6d61518197b1bf9b23217e9be1d2e00f2bb14-knockout.js\"},{\"name\":\"knockout_punches\",\"type\":\"js\",\"url\":\"/assetserver/24c12264eef2b01f723a21985ba5661f5564d7cf-knockout_punches.js\"}],\"type\":\"async_block\"})).then((imports) => handler.apply(this, imports));\n}\n"
          ],
          "observables": {
           "changes": {
            "id": "5097286513597266338",
            "sync": false,
            "value": 0
           },
           "index": {
            "id": "7859347714851756252",
            "sync": false,
            "value": 127
           }
          },
          "systemjs_options": null
         },
         "nodeType": "Scope",
         "props": {},
         "type": "node"
        }
       ],
       "instanceArgs": {
        "namespace": "html",
        "tag": "div"
       },
       "nodeType": "DOM",
       "props": {
        "className": "field interact-widget"
       },
       "type": "node"
      },
      "text/html": [
       "<div\n",
       "    class=\"webio-mountpoint\"\n",
       "    data-webio-mountpoint=\"11562475008755018215\"\n",
       ">\n",
       "    <script>\n",
       "    if (window.require && require.defined && require.defined(\"nbextensions/webio-jupyter-notebook\")) {\n",
       "        console.log(\"Jupyter WebIO extension detected, not mounting.\");\n",
       "    } else if (window.WebIO) {\n",
       "        WebIO.mount(\n",
       "            document.querySelector('[data-webio-mountpoint=\"11562475008755018215\"]'),\n",
       "            {\"props\":{\"className\":\"field interact-widget\"},\"nodeType\":\"DOM\",\"type\":\"node\",\"instanceArgs\":{\"namespace\":\"html\",\"tag\":\"div\"},\"children\":[{\"props\":{},\"nodeType\":\"Scope\",\"type\":\"node\",\"instanceArgs\":{\"imports\":{\"data\":[{\"name\":\"knockout\",\"type\":\"js\",\"url\":\"\\/assetserver\\/0fc6d61518197b1bf9b23217e9be1d2e00f2bb14-knockout.js\"},{\"name\":\"knockout_punches\",\"type\":\"js\",\"url\":\"\\/assetserver\\/24c12264eef2b01f723a21985ba5661f5564d7cf-knockout_punches.js\"},{\"name\":null,\"type\":\"js\",\"url\":\"\\/assetserver\\/85de428ae418ad26c1ce7e886d25374b3774afa9-all.js\"},{\"name\":null,\"type\":\"css\",\"url\":\"\\/assetserver\\/2cd8ff31326883094fe5a8ff21182264663b62be-style.css\"},{\"name\":null,\"type\":\"css\",\"url\":\"\\/assetserver\\/741bde2d4bf25f117d0ec4d43164cd1a050cf9de-bulma_confined.min.css\"}],\"type\":\"async_block\"},\"id\":\"2718825716685729146\",\"handlers\":{\"changes\":[\"(function (val){return (val!=this.model[\\\"changes\\\"]()) ? (this.valueFromJulia[\\\"changes\\\"]=true, this.model[\\\"changes\\\"](val)) : undefined})\"],\"index\":[\"(function (val){return (val!=this.model[\\\"index\\\"]()) ? (this.valueFromJulia[\\\"index\\\"]=true, this.model[\\\"index\\\"](val)) : undefined})\"]},\"systemjs_options\":null,\"mount_callbacks\":[\"function () {\\n    var handler = (function (ko, koPunches) {\\n    ko.punches.enableAll();\\n    ko.bindingHandlers.numericValue = {\\n        init: function(element, valueAccessor, allBindings, data, context) {\\n            var stringified = ko.observable(ko.unwrap(valueAccessor()));\\n            stringified.subscribe(function(value) {\\n                var val = parseFloat(value);\\n                if (!isNaN(val)) {\\n                    valueAccessor()(val);\\n                }\\n            });\\n            valueAccessor().subscribe(function(value) {\\n                var str = JSON.stringify(value);\\n                if ((str == \\\"0\\\") && ([\\\"-0\\\", \\\"-0.\\\"].indexOf(stringified()) >= 0))\\n                     return;\\n                 if ([\\\"null\\\", \\\"\\\"].indexOf(str) >= 0)\\n                     return;\\n                stringified(str);\\n            });\\n            ko.applyBindingsToNode(\\n                element,\\n                {\\n                    value: stringified,\\n                    valueUpdate: allBindings.get('valueUpdate'),\\n                },\\n                context,\\n            );\\n        }\\n    };\\n    var json_data = {\\\"formatted_vals\\\":[\\\"0\\\",\\\"1\\\",\\\"2\\\",\\\"3\\\",\\\"4\\\",\\\"5\\\",\\\"6\\\",\\\"7\\\",\\\"8\\\",\\\"9\\\",\\\"10\\\",\\\"11\\\",\\\"12\\\",\\\"13\\\",\\\"14\\\",\\\"15\\\",\\\"16\\\",\\\"17\\\",\\\"18\\\",\\\"19\\\",\\\"20\\\",\\\"21\\\",\\\"22\\\",\\\"23\\\",\\\"24\\\",\\\"25\\\",\\\"26\\\",\\\"27\\\",\\\"28\\\",\\\"29\\\",\\\"30\\\",\\\"31\\\",\\\"32\\\",\\\"33\\\",\\\"34\\\",\\\"35\\\",\\\"36\\\",\\\"37\\\",\\\"38\\\",\\\"39\\\",\\\"40\\\",\\\"41\\\",\\\"42\\\",\\\"43\\\",\\\"44\\\",\\\"45\\\",\\\"46\\\",\\\"47\\\",\\\"48\\\",\\\"49\\\",\\\"50\\\",\\\"51\\\",\\\"52\\\",\\\"53\\\",\\\"54\\\",\\\"55\\\",\\\"56\\\",\\\"57\\\",\\\"58\\\",\\\"59\\\",\\\"60\\\",\\\"61\\\",\\\"62\\\",\\\"63\\\",\\\"64\\\",\\\"65\\\",\\\"66\\\",\\\"67\\\",\\\"68\\\",\\\"69\\\",\\\"70\\\",\\\"71\\\",\\\"72\\\",\\\"73\\\",\\\"74\\\",\\\"75\\\",\\\"76\\\",\\\"77\\\",\\\"78\\\",\\\"79\\\",\\\"80\\\",\\\"81\\\",\\\"82\\\",\\\"83\\\",\\\"84\\\",\\\"85\\\",\\\"86\\\",\\\"87\\\",\\\"88\\\",\\\"89\\\",\\\"90\\\",\\\"91\\\",\\\"92\\\",\\\"93\\\",\\\"94\\\",\\\"95\\\",\\\"96\\\",\\\"97\\\",\\\"98\\\",\\\"99\\\",\\\"100\\\",\\\"101\\\",\\\"102\\\",\\\"103\\\",\\\"104\\\",\\\"105\\\",\\\"106\\\",\\\"107\\\",\\\"108\\\",\\\"109\\\",\\\"110\\\",\\\"111\\\",\\\"112\\\",\\\"113\\\",\\\"114\\\",\\\"115\\\",\\\"116\\\",\\\"117\\\",\\\"118\\\",\\\"119\\\",\\\"120\\\",\\\"121\\\",\\\"122\\\",\\\"123\\\",\\\"124\\\",\\\"125\\\",\\\"126\\\",\\\"127\\\",\\\"128\\\",\\\"129\\\",\\\"130\\\",\\\"131\\\",\\\"132\\\",\\\"133\\\",\\\"134\\\",\\\"135\\\",\\\"136\\\",\\\"137\\\",\\\"138\\\",\\\"139\\\",\\\"140\\\",\\\"141\\\",\\\"142\\\",\\\"143\\\",\\\"144\\\",\\\"145\\\",\\\"146\\\",\\\"147\\\",\\\"148\\\",\\\"149\\\",\\\"150\\\",\\\"151\\\",\\\"152\\\",\\\"153\\\",\\\"154\\\",\\\"155\\\",\\\"156\\\",\\\"157\\\",\\\"158\\\",\\\"159\\\",\\\"160\\\",\\\"161\\\",\\\"162\\\",\\\"163\\\",\\\"164\\\",\\\"165\\\",\\\"166\\\",\\\"167\\\",\\\"168\\\",\\\"169\\\",\\\"170\\\",\\\"171\\\",\\\"172\\\",\\\"173\\\",\\\"174\\\",\\\"175\\\",\\\"176\\\",\\\"177\\\",\\\"178\\\",\\\"179\\\",\\\"180\\\",\\\"181\\\",\\\"182\\\",\\\"183\\\",\\\"184\\\",\\\"185\\\",\\\"186\\\",\\\"187\\\",\\\"188\\\",\\\"189\\\",\\\"190\\\",\\\"191\\\",\\\"192\\\",\\\"193\\\",\\\"194\\\",\\\"195\\\",\\\"196\\\",\\\"197\\\",\\\"198\\\",\\\"199\\\",\\\"200\\\",\\\"201\\\",\\\"202\\\",\\\"203\\\",\\\"204\\\",\\\"205\\\",\\\"206\\\",\\\"207\\\",\\\"208\\\",\\\"209\\\",\\\"210\\\",\\\"211\\\",\\\"212\\\",\\\"213\\\",\\\"214\\\",\\\"215\\\",\\\"216\\\",\\\"217\\\",\\\"218\\\",\\\"219\\\",\\\"220\\\",\\\"221\\\",\\\"222\\\",\\\"223\\\",\\\"224\\\",\\\"225\\\",\\\"226\\\",\\\"227\\\",\\\"228\\\",\\\"229\\\",\\\"230\\\",\\\"231\\\",\\\"232\\\",\\\"233\\\",\\\"234\\\",\\\"235\\\",\\\"236\\\",\\\"237\\\",\\\"238\\\",\\\"239\\\",\\\"240\\\",\\\"241\\\",\\\"242\\\",\\\"243\\\",\\\"244\\\",\\\"245\\\",\\\"246\\\",\\\"247\\\",\\\"248\\\",\\\"249\\\",\\\"250\\\",\\\"251\\\",\\\"252\\\",\\\"253\\\",\\\"254\\\",\\\"255\\\"],\\\"changes\\\":WebIO.getval({\\\"name\\\":\\\"changes\\\",\\\"scope\\\":\\\"2718825716685729146\\\",\\\"id\\\":\\\"5097286513597266338\\\",\\\"type\\\":\\\"observable\\\"}),\\\"index\\\":WebIO.getval({\\\"name\\\":\\\"index\\\",\\\"scope\\\":\\\"2718825716685729146\\\",\\\"id\\\":\\\"7859347714851756252\\\",\\\"type\\\":\\\"observable\\\"})};\\n    var self = this;\\n    function AppViewModel() {\\n        for (var key in json_data) {\\n            var el = json_data[key];\\n            this[key] = Array.isArray(el) ? ko.observableArray(el) : ko.observable(el);\\n        }\\n        \\n        [this[\\\"formatted_val\\\"]=ko.computed(    function(){\\n        return this.formatted_vals()[parseInt(this.index())-(0)];\\n    }\\n,this)]\\n        [this[\\\"changes\\\"].subscribe((function (val){!(this.valueFromJulia[\\\"changes\\\"]) ? (WebIO.setval({\\\"name\\\":\\\"changes\\\",\\\"scope\\\":\\\"2718825716685729146\\\",\\\"id\\\":\\\"5097286513597266338\\\",\\\"type\\\":\\\"observable\\\"},val)) : undefined; return this.valueFromJulia[\\\"changes\\\"]=false}),self),this[\\\"index\\\"].subscribe((function (val){!(this.valueFromJulia[\\\"index\\\"]) ? (WebIO.setval({\\\"name\\\":\\\"index\\\",\\\"scope\\\":\\\"2718825716685729146\\\",\\\"id\\\":\\\"7859347714851756252\\\",\\\"type\\\":\\\"observable\\\"},val)) : undefined; return this.valueFromJulia[\\\"index\\\"]=false}),self)]\\n        \\n    }\\n    self.model = new AppViewModel();\\n    self.valueFromJulia = {};\\n    for (var key in json_data) {\\n        self.valueFromJulia[key] = false;\\n    }\\n    ko.applyBindings(self.model, self.dom);\\n}\\n);\\n    (WebIO.importBlock({\\\"data\\\":[{\\\"name\\\":\\\"knockout\\\",\\\"type\\\":\\\"js\\\",\\\"url\\\":\\\"\\/assetserver\\/0fc6d61518197b1bf9b23217e9be1d2e00f2bb14-knockout.js\\\"},{\\\"name\\\":\\\"knockout_punches\\\",\\\"type\\\":\\\"js\\\",\\\"url\\\":\\\"\\/assetserver\\/24c12264eef2b01f723a21985ba5661f5564d7cf-knockout_punches.js\\\"}],\\\"type\\\":\\\"async_block\\\"})).then((imports) => handler.apply(this, imports));\\n}\\n\"],\"observables\":{\"changes\":{\"sync\":false,\"id\":\"5097286513597266338\",\"value\":0},\"index\":{\"sync\":false,\"id\":\"7859347714851756252\",\"value\":127}}},\"children\":[{\"props\":{\"className\":\"interact-flex-row interact-widget\"},\"nodeType\":\"DOM\",\"type\":\"node\",\"instanceArgs\":{\"namespace\":\"html\",\"tag\":\"div\"},\"children\":[{\"props\":{\"className\":\"interact-flex-row-left\"},\"nodeType\":\"DOM\",\"type\":\"node\",\"instanceArgs\":{\"namespace\":\"html\",\"tag\":\"div\"},\"children\":[{\"props\":{\"className\":\"interact \",\"style\":{\"padding\":\"5px 10px 0px 10px\"}},\"nodeType\":\"DOM\",\"type\":\"node\",\"instanceArgs\":{\"namespace\":\"html\",\"tag\":\"label\"},\"children\":[\"blue\"]}]},{\"props\":{\"className\":\"interact-flex-row-center\"},\"nodeType\":\"DOM\",\"type\":\"node\",\"instanceArgs\":{\"namespace\":\"html\",\"tag\":\"div\"},\"children\":[{\"props\":{\"max\":255,\"min\":0,\"attributes\":{\"type\":\"range\",\"data-bind\":\"numericValue: index, valueUpdate: 'input', event: {change: function (){this.changes(this.changes()+1)}}\",\"orient\":\"horizontal\"},\"step\":1,\"className\":\"slider slider is-fullwidth\",\"style\":{}},\"nodeType\":\"DOM\",\"type\":\"node\",\"instanceArgs\":{\"namespace\":\"html\",\"tag\":\"input\"},\"children\":[]}]},{\"props\":{\"className\":\"interact-flex-row-right\"},\"nodeType\":\"DOM\",\"type\":\"node\",\"instanceArgs\":{\"namespace\":\"html\",\"tag\":\"div\"},\"children\":[{\"props\":{\"attributes\":{\"data-bind\":\"text: formatted_val\"}},\"nodeType\":\"DOM\",\"type\":\"node\",\"instanceArgs\":{\"namespace\":\"html\",\"tag\":\"p\"},\"children\":[]}]}]}]}]},\n",
       "            window,\n",
       "        );\n",
       "    } else {\n",
       "        document\n",
       "            .querySelector('[data-webio-mountpoint=\"11562475008755018215\"]')\n",
       "            .innerHTML = (\n",
       "                '<div style=\"padding: 1em; background-color: #f8d6da; border: 1px solid #f5c6cb\">' +\n",
       "                '<p><strong>WebIO not detected.</strong></p>' +\n",
       "                '<p>Please read ' +\n",
       "                '<a href=\"https://juliagizmos.github.io/WebIO.jl/latest/troubleshooting/not-detected/\" target=\"_blank\">the troubleshooting guide</a> ' +\n",
       "                'for more information on how to resolve this issue.</p>' +\n",
       "                '<p><a href=\"https://juliagizmos.github.io/WebIO.jl/latest/troubleshooting/not-detected/\" target=\"_blank\">https://juliagizmos.github.io/WebIO.jl/latest/troubleshooting/not-detected/</a></p>' +\n",
       "                '</div>'\n",
       "            );\n",
       "    }\n",
       "    </script>\n",
       "</div>\n"
      ],
      "text/plain": [
       "Node{WebIO.DOM}(WebIO.DOM(:html, :div), Any[Scope(Node{WebIO.DOM}(WebIO.DOM(:html, :div), Any[Node{WebIO.DOM}(WebIO.DOM(:html, :div), Any[Node{WebIO.DOM}(WebIO.DOM(:html, :label), Any[\"blue\"], Dict{Symbol, Any}(:className => \"interact \", :style => Dict{Any, Any}(:padding => \"5px 10px 0px 10px\")))], Dict{Symbol, Any}(:className => \"interact-flex-row-left\")), Node{WebIO.DOM}(WebIO.DOM(:html, :div), Any[Node{WebIO.DOM}(WebIO.DOM(:html, :input), Any[], Dict{Symbol, Any}(:max => 255, :min => 0, :attributes => Dict{Any, Any}(:type => \"range\", Symbol(\"data-bind\") => \"numericValue: index, valueUpdate: 'input', event: {change: function (){this.changes(this.changes()+1)}}\", \"orient\" => \"horizontal\"), :step => 1, :className => \"slider slider is-fullwidth\", :style => Dict{Any, Any}()))], Dict{Symbol, Any}(:className => \"interact-flex-row-center\")), Node{WebIO.DOM}(WebIO.DOM(:html, :div), Any[Node{WebIO.DOM}(WebIO.DOM(:html, :p), Any[], Dict{Symbol, Any}(:attributes => Dict(\"data-bind\" => \"text: formatted_val\")))], Dict{Symbol, Any}(:className => \"interact-flex-row-right\"))], Dict{Symbol, Any}(:className => \"interact-flex-row interact-widget\")), Dict{String, Tuple{Observables.AbstractObservable, Union{Nothing, Bool}}}(\"changes\" => (Observable{Int64} with 1 listeners. Value:\n",
       "0, nothing), \"index\" => (Observable{Int64} with 1 listeners. Value:\n",
       "127, nothing)), Set{String}(), nothing, Asset[Asset(\"js\", \"knockout\", \"/Users/johnsmith/.julia/packages/Knockout/IP1uR/src/../assets/knockout.js\"), Asset(\"js\", \"knockout_punches\", \"/Users/johnsmith/.julia/packages/Knockout/IP1uR/src/../assets/knockout_punches.js\"), Asset(\"js\", nothing, \"/Users/johnsmith/.julia/packages/InteractBase/Zfu5P/src/../assets/all.js\"), Asset(\"css\", nothing, \"/Users/johnsmith/.julia/packages/InteractBase/Zfu5P/src/../assets/style.css\"), Asset(\"css\", nothing, \"/Users/johnsmith/.julia/packages/Interact/SbgIk/src/../assets/bulma_confined.min.css\")], Dict{Any, Any}(\"changes\" => Any[WebIO.JSString(\"(function (val){return (val!=this.model[\\\"changes\\\"]()) ? (this.valueFromJulia[\\\"changes\\\"]=true, this.model[\\\"changes\\\"](val)) : undefined})\")], \"index\" => Any[WebIO.JSString(\"(function (val){return (val!=this.model[\\\"index\\\"]()) ? (this.valueFromJulia[\\\"index\\\"]=true, this.model[\\\"index\\\"](val)) : undefined})\")]), WebIO.ConnectionPool(Channel{Any}(32), Set{AbstractConnection}(), Condition(Base.InvasiveLinkedList{Task}(Task (runnable) @0x000000010cf89110, Task (runnable) @0x000000010cf89110), Base.AlwaysLockedST(1))), WebIO.JSString[WebIO.JSString(\"function () {\\n    var handler = (function (ko, koPunches) {\\n    ko.punches.enableAll();\\n    ko.bindingHandlers.numericValue = {\\n        init: function(element, valueAccessor, allBindings, data, context) {\\n            var stringified = ko.observable(ko.unwrap(valueAccessor()));\\n            stringified.subscribe(function(value) {\\n                var val = parseFloat(value);\\n                if (!isNaN(val)) {\\n                    valueAccessor()(val);\\n                }\\n            });\\n            valueAccessor().subscribe(function(value) {\\n                var str = JSON.stringify(value);\\n                if ((str == \\\"0\\\") && ([\\\"-0\\\", \\\"-0.\\\"].indexOf(stringified()) >= 0))\\n                     return;\\n                 if ([\\\"null\\\", \\\"\\\"].indexOf(str) >= 0)\\n                     return;\\n                stringified(str);\\n            });\\n            ko.applyBindingsToNode(\\n                element,\\n                {\\n                    value: stringified,\\n                    valueUpdate: allBindings.get('valueUpdate'),\\n                },\\n                context,\\n            );\\n        }\\n    };\\n    var json_data = {\\\"formatted_vals\\\":[\\\"0\\\",\\\"1\\\",\\\"2\\\",\\\"3\\\",\\\"4\\\",\\\"5\\\",\\\"6\\\",\\\"7\\\",\\\"8\\\",\\\"9\\\",\\\"10\\\",\\\"11\\\",\\\"12\\\",\\\"13\\\",\\\"14\\\",\\\"15\\\",\\\"16\\\",\\\"17\\\",\\\"18\\\",\\\"19\\\",\\\"20\\\",\\\"21\\\",\\\"22\\\",\\\"23\\\",\\\"24\\\",\\\"25\\\",\\\"26\\\",\\\"27\\\",\\\"28\\\",\\\"29\\\",\\\"30\\\",\\\"31\\\",\\\"32\\\",\\\"33\\\",\\\"34\\\",\\\"35\\\",\\\"36\\\",\\\"37\\\",\\\"38\\\",\\\"39\\\",\\\"40\\\",\\\"41\\\",\\\"42\\\",\\\"43\\\",\\\"44\\\",\\\"45\\\",\\\"46\\\",\\\"47\\\",\\\"48\\\",\\\"49\\\",\\\"50\\\",\\\"51\\\",\\\"52\\\",\\\"53\\\",\\\"54\\\",\\\"55\\\",\\\"56\\\",\\\"57\\\",\\\"58\\\",\\\"59\\\",\\\"60\\\",\\\"61\\\",\\\"62\\\",\\\"63\\\",\\\"64\\\",\\\"65\\\",\\\"66\\\",\\\"67\\\",\\\"68\\\",\\\"69\\\",\\\"70\\\",\\\"71\\\",\\\"72\\\",\\\"73\\\",\\\"74\\\",\\\"75\\\",\\\"76\\\",\\\"77\\\",\\\"78\\\",\\\"79\\\",\\\"80\\\",\\\"81\\\",\\\"82\\\",\\\"83\\\",\\\"84\\\",\\\"85\\\",\\\"86\\\",\\\"87\\\",\\\"88\\\",\\\"89\\\",\\\"90\\\",\\\"91\\\",\\\"92\\\",\\\"93\\\",\\\"94\\\",\\\"95\\\",\\\"96\\\",\\\"97\\\",\\\"98\\\",\\\"99\\\",\\\"100\\\",\\\"101\\\",\\\"102\\\",\\\"103\\\",\\\"104\\\",\\\"105\\\",\\\"106\\\",\\\"107\\\",\\\"108\\\",\\\"109\\\",\\\"110\\\",\\\"111\\\",\\\"112\\\",\\\"113\\\",\\\"114\\\",\\\"115\\\",\\\"116\\\",\\\"117\\\",\\\"118\\\",\\\"119\\\",\\\"120\\\",\\\"121\\\",\\\"122\\\",\\\"123\\\",\\\"124\\\",\\\"125\\\",\\\"126\\\",\\\"127\\\",\\\"128\\\",\\\"129\\\",\\\"130\\\",\\\"131\\\",\\\"132\\\",\\\"133\\\",\\\"134\\\",\\\"135\\\",\\\"136\\\",\\\"137\\\",\\\"138\\\",\\\"139\\\",\\\"140\\\",\\\"141\\\",\\\"142\\\",\\\"143\\\",\\\"144\\\",\\\"145\\\",\\\"146\\\",\\\"147\\\",\\\"148\\\",\\\"149\\\",\\\"150\\\",\\\"151\\\",\\\"152\\\",\\\"153\\\",\\\"154\\\",\\\"155\\\",\\\"156\\\",\\\"157\\\",\\\"158\\\",\\\"159\\\",\\\"160\\\",\\\"161\\\",\\\"162\\\",\\\"163\\\",\\\"164\\\",\\\"165\\\",\\\"166\\\",\\\"167\\\",\\\"168\\\",\\\"169\\\",\\\"170\\\",\\\"171\\\",\\\"172\\\",\\\"173\\\",\\\"174\\\",\\\"175\\\",\\\"176\\\",\\\"177\\\",\\\"178\\\",\\\"179\\\",\\\"180\\\",\\\"181\\\",\\\"182\\\",\\\"183\\\",\\\"184\\\",\\\"185\\\",\\\"186\\\",\\\"187\\\",\\\"188\\\",\\\"189\\\",\\\"190\\\",\\\"191\\\",\\\"192\\\",\\\"193\\\",\\\"194\\\",\\\"195\\\",\\\"196\\\",\\\"197\\\",\\\"198\\\",\\\"199\\\",\\\"200\\\",\\\"201\\\",\\\"202\\\",\\\"203\\\",\\\"204\\\",\\\"205\\\",\\\"206\\\",\\\"207\\\",\\\"208\\\",\\\"209\\\",\\\"210\\\",\\\"211\\\",\\\"212\\\",\\\"213\\\",\\\"214\\\",\\\"215\\\",\\\"216\\\",\\\"217\\\",\\\"218\\\",\\\"219\\\",\\\"220\\\",\\\"221\\\",\\\"222\\\",\\\"223\\\",\\\"224\\\",\\\"225\\\",\\\"226\\\",\\\"227\\\",\\\"228\\\",\\\"229\\\",\\\"230\\\",\\\"231\\\",\\\"232\\\",\\\"233\\\",\\\"234\\\",\\\"235\\\",\\\"236\\\",\\\"237\\\",\\\"238\\\",\\\"239\\\",\\\"240\\\",\\\"241\\\",\\\"242\\\",\\\"243\\\",\\\"244\\\",\\\"245\\\",\\\"246\\\",\\\"247\\\",\\\"248\\\",\\\"249\\\",\\\"250\\\",\\\"251\\\",\\\"252\\\",\\\"253\\\",\\\"254\\\",\\\"255\\\"],\\\"changes\\\":WebIO.getval({\\\"name\\\":\\\"changes\\\",\\\"scope\\\":\\\"2718825716685729146\\\",\\\"id\\\":\\\"5097286513597266338\\\",\\\"type\\\":\\\"observable\\\"}),\\\"index\\\":WebIO.getval({\\\"name\\\":\\\"index\\\",\\\"scope\\\":\\\"2718825716685729146\\\",\\\"id\\\":\\\"7859347714851756252\\\",\\\"type\\\":\\\"observable\\\"})};\\n    var self = this;\\n    function AppViewModel() {\\n        for (var key in json_data) {\\n            var el = json_data[key];\\n            this[key] = Array.isArray(el) ? ko.observableArray(el) : ko.observable(el);\\n        }\\n        \\n        [this[\\\"formatted_val\\\"]=ko.computed(    function(){\\n        return this.formatted_vals()[parseInt(this.index())-(0)];\\n    }\\n,this)]\\n        [this[\\\"changes\\\"].subscribe((function (val){!(this.valueFromJulia[\\\"changes\\\"]) ? (WebIO.setval({\\\"name\\\":\\\"changes\\\",\\\"scope\\\":\\\"2718825716685729146\\\",\\\"id\\\":\\\"5097286513597266338\\\",\\\"type\\\":\\\"observable\\\"},val)) : undefined; return this.valueFromJulia[\\\"changes\\\"]=false}),self),this[\\\"index\\\"].subscribe((function (val){!(this.valueFromJulia[\\\"index\\\"]) ? (WebIO.setval({\\\"name\\\":\\\"index\\\",\\\"scope\\\":\\\"2718825716685729146\\\",\\\"id\\\":\\\"7859347714851756252\\\",\\\"type\\\":\\\"observable\\\"},val)) : undefined; return this.valueFromJulia[\\\"index\\\"]=false}),self)]\\n        \\n    }\\n    self.model = new AppViewModel();\\n    self.valueFromJulia = {};\\n    for (var key in json_data) {\\n        self.valueFromJulia[key] = false;\\n    }\\n    ko.applyBindings(self.model, self.dom);\\n}\\n);\\n    (WebIO.importBlock({\\\"data\\\":[{\\\"name\\\":\\\"knockout\\\",\\\"type\\\":\\\"js\\\",\\\"url\\\":\\\"/assetserver/0fc6d61518197b1bf9b23217e9be1d2e00f2bb14-knockout.js\\\"},{\\\"name\\\":\\\"knockout_punches\\\",\\\"type\\\":\\\"js\\\",\\\"url\\\":\\\"/assetserver/24c12264eef2b01f723a21985ba5661f5564d7cf-knockout_punches.js\\\"}],\\\"type\\\":\\\"async_block\\\"})).then((imports) => handler.apply(this, imports));\\n}\\n\")])], Dict{Symbol, Any}(:className => \"field interact-widget\"))"
      ]
     },
     "execution_count": 4,
     "metadata": {
      "application/vnd.webio.node+json": {
       "kernelId": "1ba9d061-5817-4c1d-97d1-fd42acd369e6"
      }
     },
     "output_type": "execute_result"
    }
   ],
   "source": [
    "\n",
    "    r = slider(0:255, label = \"red\")\n",
    "    g = slider(0:255, label = \"green\")\n",
    "    b = slider(0:255, label = \"blue\")"
   ]
  },
  {
   "cell_type": "code",
   "execution_count": 8,
   "id": "de564420",
   "metadata": {},
   "outputs": [
    {
     "data": {
      "text/plain": [
       "#11 (generic function with 1 method)"
      ]
     },
     "execution_count": 8,
     "metadata": {},
     "output_type": "execute_result"
    }
   ],
   "source": [
    " d = @layout! vbox(:r, :g, :b)"
   ]
  },
  {
   "cell_type": "code",
   "execution_count": 10,
   "id": "c846736e",
   "metadata": {},
   "outputs": [
    {
     "ename": "LoadError",
     "evalue": "MethodError: no method matching (::var\"#11#13\")()\n\u001b[0mClosest candidates are:\n\u001b[0m  (::var\"#11#13\")(\u001b[91m::Any\u001b[39m) at /Users/johnsmith/.julia/packages/Widgets/0HInz/src/layout.jl:78",
     "output_type": "error",
     "traceback": [
      "MethodError: no method matching (::var\"#11#13\")()\n\u001b[0mClosest candidates are:\n\u001b[0m  (::var\"#11#13\")(\u001b[91m::Any\u001b[39m) at /Users/johnsmith/.julia/packages/Widgets/0HInz/src/layout.jl:78",
      "",
      "Stacktrace:",
      " [1] top-level scope",
      "   @ In[10]:1",
      " [2] eval",
      "   @ ./boot.jl:360 [inlined]",
      " [3] include_string(mapexpr::typeof(REPL.softscope), mod::Module, code::String, filename::String)",
      "   @ Base ./loading.jl:1094"
     ]
    }
   ],
   "source": [
    "d()"
   ]
  },
  {
   "cell_type": "code",
   "execution_count": 12,
   "id": "44bc9baa",
   "metadata": {},
   "outputs": [
    {
     "data": {
      "application/vnd.webio.node+json": {
       "children": [
        {
         "children": [
          {
           "children": [
            {
             "children": [
              {
               "children": [
                {
                 "children": [
                  "freq1"
                 ],
                 "instanceArgs": {
                  "namespace": "html",
                  "tag": "label"
                 },
                 "nodeType": "DOM",
                 "props": {
                  "className": "interact ",
                  "style": {
                   "padding": "5px 10px 0px 10px"
                  }
                 },
                 "type": "node"
                }
               ],
               "instanceArgs": {
                "namespace": "html",
                "tag": "div"
               },
               "nodeType": "DOM",
               "props": {
                "className": "interact-flex-row-left"
               },
               "type": "node"
              },
              {
               "children": [
                {
                 "children": [
                  {
                   "children": [
                    {
                     "children": [],
                     "instanceArgs": {
                      "namespace": "html",
                      "tag": "label"
                     },
                     "nodeType": "DOM",
                     "props": {
                      "attributes": {
                       "data-bind": "text : key"
                      }
                     },
                     "type": "node"
                    }
                   ],
                   "instanceArgs": {
                    "namespace": "html",
                    "tag": "span"
                   },
                   "nodeType": "DOM",
                   "props": {
                    "attributes": {
                     "data-bind": "click: function (){$root.update(val)}, css: {'is-primary is-selected' : $root.index() == val, 'interact-widget is-medium button ' : true}"
                    }
                   },
                   "type": "node"
                  }
                 ],
                 "instanceArgs": {
                  "namespace": "html",
                  "tag": "div"
                 },
                 "nodeType": "DOM",
                 "props": {
                  "attributes": {
                   "data-bind": "foreach : options_js"
                  },
                  "className": "buttons has-addons is-centered"
                 },
                 "type": "node"
                }
               ],
               "instanceArgs": {
                "namespace": "html",
                "tag": "div"
               },
               "nodeType": "DOM",
               "props": {
                "className": "interact-flex-row-center"
               },
               "type": "node"
              },
              {
               "children": [
                {
                 "children": [],
                 "instanceArgs": {
                  "namespace": "html",
                  "tag": "div"
                 },
                 "nodeType": "DOM",
                 "props": {},
                 "type": "node"
                }
               ],
               "instanceArgs": {
                "namespace": "html",
                "tag": "div"
               },
               "nodeType": "DOM",
               "props": {
                "className": "interact-flex-row-right"
               },
               "type": "node"
              }
             ],
             "instanceArgs": {
              "namespace": "html",
              "tag": "div"
             },
             "nodeType": "DOM",
             "props": {
              "className": "interact-flex-row interact-widget"
             },
             "type": "node"
            }
           ],
           "instanceArgs": {
            "handlers": {
             "index": [
              "(function (val){return (val!=this.model[\"index\"]()) ? (this.valueFromJulia[\"index\"]=true, this.model[\"index\"](val)) : undefined})"
             ],
             "options_js": [
              "(function (val){return (val!=this.model[\"options_js\"]()) ? (this.valueFromJulia[\"options_js\"]=true, this.model[\"options_js\"](val)) : undefined})"
             ]
            },
            "id": "8562977002637541790",
            "imports": {
             "data": [
              {
               "name": "knockout",
               "type": "js",
               "url": "/assetserver/0fc6d61518197b1bf9b23217e9be1d2e00f2bb14-knockout.js"
              },
              {
               "name": "knockout_punches",
               "type": "js",
               "url": "/assetserver/24c12264eef2b01f723a21985ba5661f5564d7cf-knockout_punches.js"
              },
              {
               "name": null,
               "type": "js",
               "url": "/assetserver/85de428ae418ad26c1ce7e886d25374b3774afa9-all.js"
              },
              {
               "name": null,
               "type": "css",
               "url": "/assetserver/2cd8ff31326883094fe5a8ff21182264663b62be-style.css"
              },
              {
               "name": null,
               "type": "css",
               "url": "/assetserver/741bde2d4bf25f117d0ec4d43164cd1a050cf9de-bulma_confined.min.css"
              }
             ],
             "type": "async_block"
            },
            "mount_callbacks": [
             "function () {\n    var handler = (function (ko, koPunches) {\n    ko.punches.enableAll();\n    ko.bindingHandlers.numericValue = {\n        init: function(element, valueAccessor, allBindings, data, context) {\n            var stringified = ko.observable(ko.unwrap(valueAccessor()));\n            stringified.subscribe(function(value) {\n                var val = parseFloat(value);\n                if (!isNaN(val)) {\n                    valueAccessor()(val);\n                }\n            });\n            valueAccessor().subscribe(function(value) {\n                var str = JSON.stringify(value);\n                if ((str == \"0\") && ([\"-0\", \"-0.\"].indexOf(stringified()) >= 0))\n                     return;\n                 if ([\"null\", \"\"].indexOf(str) >= 0)\n                     return;\n                stringified(str);\n            });\n            ko.applyBindingsToNode(\n                element,\n                {\n                    value: stringified,\n                    valueUpdate: allBindings.get('valueUpdate'),\n                },\n                context,\n            );\n        }\n    };\n    var json_data = {\"options_js\":WebIO.getval({\"name\":\"options_js\",\"scope\":\"8562977002637541790\",\"id\":\"2215283445534381744\",\"type\":\"observable\"}),\"index\":WebIO.getval({\"name\":\"index\",\"scope\":\"8562977002637541790\",\"id\":\"9479403632538268262\",\"type\":\"observable\"})};\n    var self = this;\n    function AppViewModel() {\n        for (var key in json_data) {\n            var el = json_data[key];\n            this[key] = Array.isArray(el) ? ko.observableArray(el) : ko.observable(el);\n        }\n        [this[\"update\"]=function (val) {this.index(val)}]\n        \n        [this[\"options_js\"].subscribe((function (val){!(this.valueFromJulia[\"options_js\"]) ? (WebIO.setval({\"name\":\"options_js\",\"scope\":\"8562977002637541790\",\"id\":\"2215283445534381744\",\"type\":\"observable\"},val)) : undefined; return this.valueFromJulia[\"options_js\"]=false}),self),this[\"index\"].subscribe((function (val){!(this.valueFromJulia[\"index\"]) ? (WebIO.setval({\"name\":\"index\",\"scope\":\"8562977002637541790\",\"id\":\"9479403632538268262\",\"type\":\"observable\"},val)) : undefined; return this.valueFromJulia[\"index\"]=false}),self)]\n        \n    }\n    self.model = new AppViewModel();\n    self.valueFromJulia = {};\n    for (var key in json_data) {\n        self.valueFromJulia[key] = false;\n    }\n    ko.applyBindings(self.model, self.dom);\n}\n);\n    (WebIO.importBlock({\"data\":[{\"name\":\"knockout\",\"type\":\"js\",\"url\":\"/assetserver/0fc6d61518197b1bf9b23217e9be1d2e00f2bb14-knockout.js\"},{\"name\":\"knockout_punches\",\"type\":\"js\",\"url\":\"/assetserver/24c12264eef2b01f723a21985ba5661f5564d7cf-knockout_punches.js\"}],\"type\":\"async_block\"})).then((imports) => handler.apply(this, imports));\n}\n"
            ],
            "observables": {
             "index": {
              "id": "9479403632538268262",
              "sync": true,
              "value": 1
             },
             "options_js": {
              "id": "2215283445534381744",
              "sync": false,
              "value": [
               {
                "id": "idVFkCQm3G",
                "key": "pi/4",
                "val": 1
               },
               {
                "id": "idtopuiEEH",
                "key": "π/2",
                "val": 2
               },
               {
                "id": "idVZCe0naT",
                "key": "3π/4",
                "val": 3
               },
               {
                "id": "idlxaTrVod",
                "key": "π",
                "val": 4
               }
              ]
             }
            },
            "systemjs_options": null
           },
           "nodeType": "Scope",
           "props": {},
           "type": "node"
          }
         ],
         "instanceArgs": {
          "namespace": "html",
          "tag": "div"
         },
         "nodeType": "DOM",
         "props": {
          "className": "interact-widget"
         },
         "type": "node"
        },
        {
         "children": [
          {
           "children": [
            {
             "children": [
              {
               "children": [
                {
                 "children": [
                  "freq2"
                 ],
                 "instanceArgs": {
                  "namespace": "html",
                  "tag": "label"
                 },
                 "nodeType": "DOM",
                 "props": {
                  "className": "interact ",
                  "style": {
                   "padding": "5px 10px 0px 10px"
                  }
                 },
                 "type": "node"
                }
               ],
               "instanceArgs": {
                "namespace": "html",
                "tag": "div"
               },
               "nodeType": "DOM",
               "props": {
                "className": "interact-flex-row-left"
               },
               "type": "node"
              },
              {
               "children": [
                {
                 "children": [],
                 "instanceArgs": {
                  "namespace": "html",
                  "tag": "input"
                 },
                 "nodeType": "DOM",
                 "props": {
                  "attributes": {
                   "data-bind": "numericValue: index, valueUpdate: 'input', event: {change: function (){this.changes(this.changes()+1)}}",
                   "orient": "horizontal",
                   "type": "range"
                  },
                  "className": "slider slider is-fullwidth",
                  "max": 126,
                  "min": 1,
                  "step": 1,
                  "style": {}
                 },
                 "type": "node"
                }
               ],
               "instanceArgs": {
                "namespace": "html",
                "tag": "div"
               },
               "nodeType": "DOM",
               "props": {
                "className": "interact-flex-row-center"
               },
               "type": "node"
              },
              {
               "children": [
                {
                 "children": [],
                 "instanceArgs": {
                  "namespace": "html",
                  "tag": "p"
                 },
                 "nodeType": "DOM",
                 "props": {
                  "attributes": {
                   "data-bind": "text: formatted_val"
                  }
                 },
                 "type": "node"
                }
               ],
               "instanceArgs": {
                "namespace": "html",
                "tag": "div"
               },
               "nodeType": "DOM",
               "props": {
                "className": "interact-flex-row-right"
               },
               "type": "node"
              }
             ],
             "instanceArgs": {
              "namespace": "html",
              "tag": "div"
             },
             "nodeType": "DOM",
             "props": {
              "className": "interact-flex-row interact-widget"
             },
             "type": "node"
            }
           ],
           "instanceArgs": {
            "handlers": {
             "changes": [
              "(function (val){return (val!=this.model[\"changes\"]()) ? (this.valueFromJulia[\"changes\"]=true, this.model[\"changes\"](val)) : undefined})"
             ],
             "index": [
              "(function (val){return (val!=this.model[\"index\"]()) ? (this.valueFromJulia[\"index\"]=true, this.model[\"index\"](val)) : undefined})"
             ]
            },
            "id": "3018211039351821703",
            "imports": {
             "data": [
              {
               "name": "knockout",
               "type": "js",
               "url": "/assetserver/0fc6d61518197b1bf9b23217e9be1d2e00f2bb14-knockout.js"
              },
              {
               "name": "knockout_punches",
               "type": "js",
               "url": "/assetserver/24c12264eef2b01f723a21985ba5661f5564d7cf-knockout_punches.js"
              },
              {
               "name": null,
               "type": "js",
               "url": "/assetserver/85de428ae418ad26c1ce7e886d25374b3774afa9-all.js"
              },
              {
               "name": null,
               "type": "css",
               "url": "/assetserver/2cd8ff31326883094fe5a8ff21182264663b62be-style.css"
              },
              {
               "name": null,
               "type": "css",
               "url": "/assetserver/741bde2d4bf25f117d0ec4d43164cd1a050cf9de-bulma_confined.min.css"
              }
             ],
             "type": "async_block"
            },
            "mount_callbacks": [
             "function () {\n    var handler = (function (ko, koPunches) {\n    ko.punches.enableAll();\n    ko.bindingHandlers.numericValue = {\n        init: function(element, valueAccessor, allBindings, data, context) {\n            var stringified = ko.observable(ko.unwrap(valueAccessor()));\n            stringified.subscribe(function(value) {\n                var val = parseFloat(value);\n                if (!isNaN(val)) {\n                    valueAccessor()(val);\n                }\n            });\n            valueAccessor().subscribe(function(value) {\n                var str = JSON.stringify(value);\n                if ((str == \"0\") && ([\"-0\", \"-0.\"].indexOf(stringified()) >= 0))\n                     return;\n                 if ([\"null\", \"\"].indexOf(str) >= 0)\n                     return;\n                stringified(str);\n            });\n            ko.applyBindingsToNode(\n                element,\n                {\n                    value: stringified,\n                    valueUpdate: allBindings.get('valueUpdate'),\n                },\n                context,\n            );\n        }\n    };\n    var json_data = {\"formatted_vals\":[\"0.01\",\"0.11\",\"0.21\",\"0.31\",\"0.41\",\"0.51\",\"0.61\",\"0.71\",\"0.81\",\"0.91\",\"1.01\",\"1.11\",\"1.21\",\"1.31\",\"1.41\",\"1.51\",\"1.61\",\"1.71\",\"1.81\",\"1.91\",\"2.01\",\"2.11\",\"2.21\",\"2.31\",\"2.41\",\"2.51\",\"2.61\",\"2.71\",\"2.81\",\"2.91\",\"3.01\",\"3.11\",\"3.21\",\"3.31\",\"3.41\",\"3.51\",\"3.61\",\"3.71\",\"3.81\",\"3.91\",\"4.01\",\"4.11\",\"4.21\",\"4.31\",\"4.41\",\"4.51\",\"4.61\",\"4.71\",\"4.81\",\"4.91\",\"5.01\",\"5.11\",\"5.21\",\"5.31\",\"5.41\",\"5.51\",\"5.61\",\"5.71\",\"5.81\",\"5.91\",\"6.01\",\"6.11\",\"6.21\",\"6.31\",\"6.41\",\"6.51\",\"6.61\",\"6.71\",\"6.81\",\"6.91\",\"7.01\",\"7.11\",\"7.21\",\"7.31\",\"7.41\",\"7.51\",\"7.61\",\"7.71\",\"7.81\",\"7.91\",\"8.01\",\"8.11\",\"8.21\",\"8.31\",\"8.41\",\"8.51\",\"8.61\",\"8.71\",\"8.81\",\"8.91\",\"9.01\",\"9.11\",\"9.21\",\"9.31\",\"9.41\",\"9.51\",\"9.61\",\"9.71\",\"9.81\",\"9.91\",\"10.01\",\"10.11\",\"10.21\",\"10.31\",\"10.41\",\"10.51\",\"10.61\",\"10.71\",\"10.81\",\"10.91\",\"11.01\",\"11.11\",\"11.21\",\"11.31\",\"11.41\",\"11.51\",\"11.61\",\"11.71\",\"11.81\",\"11.91\",\"12.01\",\"12.11\",\"12.21\",\"12.31\",\"12.41\",\"12.51\"],\"changes\":WebIO.getval({\"name\":\"changes\",\"scope\":\"3018211039351821703\",\"id\":\"6088657101389601908\",\"type\":\"observable\"}),\"index\":WebIO.getval({\"name\":\"index\",\"scope\":\"3018211039351821703\",\"id\":\"17121446395788861381\",\"type\":\"observable\"})};\n    var self = this;\n    function AppViewModel() {\n        for (var key in json_data) {\n            var el = json_data[key];\n            this[key] = Array.isArray(el) ? ko.observableArray(el) : ko.observable(el);\n        }\n        \n        [this[\"formatted_val\"]=ko.computed(    function(){\n        return this.formatted_vals()[parseInt(this.index())-(1)];\n    }\n,this)]\n        [this[\"changes\"].subscribe((function (val){!(this.valueFromJulia[\"changes\"]) ? (WebIO.setval({\"name\":\"changes\",\"scope\":\"3018211039351821703\",\"id\":\"6088657101389601908\",\"type\":\"observable\"},val)) : undefined; return this.valueFromJulia[\"changes\"]=false}),self),this[\"index\"].subscribe((function (val){!(this.valueFromJulia[\"index\"]) ? (WebIO.setval({\"name\":\"index\",\"scope\":\"3018211039351821703\",\"id\":\"17121446395788861381\",\"type\":\"observable\"},val)) : undefined; return this.valueFromJulia[\"index\"]=false}),self)]\n        \n    }\n    self.model = new AppViewModel();\n    self.valueFromJulia = {};\n    for (var key in json_data) {\n        self.valueFromJulia[key] = false;\n    }\n    ko.applyBindings(self.model, self.dom);\n}\n);\n    (WebIO.importBlock({\"data\":[{\"name\":\"knockout\",\"type\":\"js\",\"url\":\"/assetserver/0fc6d61518197b1bf9b23217e9be1d2e00f2bb14-knockout.js\"},{\"name\":\"knockout_punches\",\"type\":\"js\",\"url\":\"/assetserver/24c12264eef2b01f723a21985ba5661f5564d7cf-knockout_punches.js\"}],\"type\":\"async_block\"})).then((imports) => handler.apply(this, imports));\n}\n"
            ],
            "observables": {
             "changes": {
              "id": "6088657101389601908",
              "sync": false,
              "value": 0
             },
             "index": {
              "id": "17121446395788861381",
              "sync": true,
              "value": 63
             }
            },
            "systemjs_options": null
           },
           "nodeType": "Scope",
           "props": {},
           "type": "node"
          }
         ],
         "instanceArgs": {
          "namespace": "html",
          "tag": "div"
         },
         "nodeType": "DOM",
         "props": {
          "className": "field interact-widget"
         },
         "type": "node"
        },
        {
         "children": [
          {
           "children": [],
           "instanceArgs": {
            "id": "11382295680110592070",
            "name": "obs-node"
           },
           "nodeType": "ObservableNode",
           "props": {},
           "type": "node"
          }
         ],
         "instanceArgs": {
          "handlers": {},
          "id": "12321048775915218901",
          "imports": {
           "data": [],
           "type": "async_block"
          },
          "mount_callbacks": [],
          "observables": {
           "obs-node": {
            "id": "11382295680110592070",
            "sync": false,
            "value": {
             "children": [
              {
               "children": [],
               "instanceArgs": {
                "namespace": "html",
                "tag": "div"
               },
               "nodeType": "DOM",
               "props": {
                "setInnerHtml": "<?xml version=\"1.0\" encoding=\"utf-8\"?>\n<svg xmlns=\"http://www.w3.org/2000/svg\" xmlns:xlink=\"http://www.w3.org/1999/xlink\" width=\"600\" height=\"400\" viewBox=\"0 0 2400 1600\">\n<defs>\n  <clipPath id=\"clip460\">\n    <rect x=\"0\" y=\"0\" width=\"2400\" height=\"1600\"/>\n  </clipPath>\n</defs>\n<path clip-path=\"url(#clip460)\" d=\"\nM0 1600 L2400 1600 L2400 0 L0 0  Z\n  \" fill=\"#ffffff\" fill-rule=\"evenodd\" fill-opacity=\"1\"/>\n<defs>\n  <clipPath id=\"clip461\">\n    <rect x=\"480\" y=\"0\" width=\"1681\" height=\"1600\"/>\n  </clipPath>\n</defs>\n<path clip-path=\"url(#clip460)\" d=\"\nM193.936 1486.45 L2352.76 1486.45 L2352.76 47.2441 L193.936 47.2441  Z\n  \" fill=\"#ffffff\" fill-rule=\"evenodd\" fill-opacity=\"1\"/>\n<defs>\n  <clipPath id=\"clip462\">\n    <rect x=\"193\" y=\"47\" width=\"2160\" height=\"1440\"/>\n  </clipPath>\n</defs>\n<polyline clip-path=\"url(#clip462)\" style=\"stroke:#000000; stroke-width:2; stroke-opacity:0.1; fill:none\" points=\"\n  255.035,1486.45 255.035,47.2441 \n  \"/>\n<polyline clip-path=\"url(#clip462)\" style=\"stroke:#000000; stroke-width:2; stroke-opacity:0.1; fill:none\" points=\"\n  933.909,1486.45 933.909,47.2441 \n  \"/>\n<polyline clip-path=\"url(#clip462)\" style=\"stroke:#000000; stroke-width:2; stroke-opacity:0.1; fill:none\" points=\"\n  1612.78,1486.45 1612.78,47.2441 \n  \"/>\n<polyline clip-path=\"url(#clip462)\" style=\"stroke:#000000; stroke-width:2; stroke-opacity:0.1; fill:none\" points=\"\n  2291.66,1486.45 2291.66,47.2441 \n  \"/>\n<polyline clip-path=\"url(#clip460)\" style=\"stroke:#000000; stroke-width:4; stroke-opacity:1; fill:none\" points=\"\n  193.936,1486.45 2352.76,1486.45 \n  \"/>\n<polyline clip-path=\"url(#clip460)\" style=\"stroke:#000000; stroke-width:4; stroke-opacity:1; fill:none\" points=\"\n  255.035,1486.45 255.035,1469.18 \n  \"/>\n<polyline clip-path=\"url(#clip460)\" style=\"stroke:#000000; stroke-width:4; stroke-opacity:1; fill:none\" points=\"\n  933.909,1486.45 933.909,1469.18 \n  \"/>\n<polyline clip-path=\"url(#clip460)\" style=\"stroke:#000000; stroke-width:4; stroke-opacity:1; fill:none\" points=\"\n  1612.78,1486.45 1612.78,1469.18 \n  \"/>\n<polyline clip-path=\"url(#clip460)\" style=\"stroke:#000000; stroke-width:4; stroke-opacity:1; fill:none\" points=\"\n  2291.66,1486.45 2291.66,1469.18 \n  \"/>\n<path clip-path=\"url(#clip460)\" d=\"M 0 0 M255.035 1515.64 Q251.424 1515.64 249.595 1519.2 Q247.789 1522.75 247.789 1529.87 Q247.789 1536.98 249.595 1540.55 Q251.424 1544.09 255.035 1544.09 Q258.669 1544.09 260.474 1540.55 Q262.303 1536.98 262.303 1529.87 Q262.303 1522.75 260.474 1519.2 Q258.669 1515.64 255.035 1515.64 M255.035 1511.93 Q260.845 1511.93 263.9 1516.54 Q266.979 1521.12 266.979 1529.87 Q266.979 1538.6 263.9 1543.21 Q260.845 1547.79 255.035 1547.79 Q249.225 1547.79 246.146 1543.21 Q243.09 1538.6 243.09 1529.87 Q243.09 1521.12 246.146 1516.54 Q249.225 1511.93 255.035 1511.93 Z\" fill=\"#000000\" fill-rule=\"evenodd\" fill-opacity=\"1\" /><path clip-path=\"url(#clip460)\" d=\"M 0 0 M908.596 1543.18 L916.235 1543.18 L916.235 1516.82 L907.925 1518.49 L907.925 1514.23 L916.189 1512.56 L920.865 1512.56 L920.865 1543.18 L928.504 1543.18 L928.504 1547.12 L908.596 1547.12 L908.596 1543.18 Z\" fill=\"#000000\" fill-rule=\"evenodd\" fill-opacity=\"1\" /><path clip-path=\"url(#clip460)\" d=\"M 0 0 M947.948 1515.64 Q944.337 1515.64 942.508 1519.2 Q940.703 1522.75 940.703 1529.87 Q940.703 1536.98 942.508 1540.55 Q944.337 1544.09 947.948 1544.09 Q951.582 1544.09 953.388 1540.55 Q955.217 1536.98 955.217 1529.87 Q955.217 1522.75 953.388 1519.2 Q951.582 1515.64 947.948 1515.64 M947.948 1511.93 Q953.758 1511.93 956.814 1516.54 Q959.893 1521.12 959.893 1529.87 Q959.893 1538.6 956.814 1543.21 Q953.758 1547.79 947.948 1547.79 Q942.138 1547.79 939.059 1543.21 Q936.004 1538.6 936.004 1529.87 Q936.004 1521.12 939.059 1516.54 Q942.138 1511.93 947.948 1511.93 Z\" fill=\"#000000\" fill-rule=\"evenodd\" fill-opacity=\"1\" /><path clip-path=\"url(#clip460)\" d=\"M 0 0 M1591.56 1543.18 L1607.88 1543.18 L1607.88 1547.12 L1585.93 1547.12 L1585.93 1543.18 Q1588.59 1540.43 1593.18 1535.8 Q1597.78 1531.15 1598.96 1529.81 Q1601.21 1527.28 1602.09 1525.55 Q1602.99 1523.79 1602.99 1522.1 Q1602.99 1519.34 1601.05 1517.61 Q1599.13 1515.87 1596.02 1515.87 Q1593.82 1515.87 1591.37 1516.63 Q1588.94 1517.4 1586.16 1518.95 L1586.16 1514.23 Q1588.99 1513.09 1591.44 1512.51 Q1593.89 1511.93 1595.93 1511.93 Q1601.3 1511.93 1604.5 1514.62 Q1607.69 1517.31 1607.69 1521.8 Q1607.69 1523.93 1606.88 1525.85 Q1606.09 1527.74 1603.99 1530.34 Q1603.41 1531.01 1600.31 1534.23 Q1597.2 1537.42 1591.56 1543.18 Z\" fill=\"#000000\" fill-rule=\"evenodd\" fill-opacity=\"1\" /><path clip-path=\"url(#clip460)\" d=\"M 0 0 M1627.69 1515.64 Q1624.08 1515.64 1622.25 1519.2 Q1620.45 1522.75 1620.45 1529.87 Q1620.45 1536.98 1622.25 1540.55 Q1624.08 1544.09 1627.69 1544.09 Q1631.32 1544.09 1633.13 1540.55 Q1634.96 1536.98 1634.96 1529.87 Q1634.96 1522.75 1633.13 1519.2 Q1631.32 1515.64 1627.69 1515.64 M1627.69 1511.93 Q1633.5 1511.93 1636.56 1516.54 Q1639.63 1521.12 1639.63 1529.87 Q1639.63 1538.6 1636.56 1543.21 Q1633.5 1547.79 1627.69 1547.79 Q1621.88 1547.79 1618.8 1543.21 Q1615.75 1538.6 1615.75 1529.87 Q1615.75 1521.12 1618.8 1516.54 Q1621.88 1511.93 1627.69 1511.93 Z\" fill=\"#000000\" fill-rule=\"evenodd\" fill-opacity=\"1\" /><path clip-path=\"url(#clip460)\" d=\"M 0 0 M2280.5 1528.49 Q2283.86 1529.2 2285.73 1531.47 Q2287.63 1533.74 2287.63 1537.07 Q2287.63 1542.19 2284.11 1544.99 Q2280.59 1547.79 2274.11 1547.79 Q2271.94 1547.79 2269.62 1547.35 Q2267.33 1546.93 2264.87 1546.08 L2264.87 1541.56 Q2266.82 1542.7 2269.13 1543.28 Q2271.45 1543.86 2273.97 1543.86 Q2278.37 1543.86 2280.66 1542.12 Q2282.98 1540.38 2282.98 1537.07 Q2282.98 1534.02 2280.82 1532.31 Q2278.69 1530.57 2274.87 1530.57 L2270.85 1530.57 L2270.85 1526.73 L2275.06 1526.73 Q2278.51 1526.73 2280.34 1525.36 Q2282.17 1523.97 2282.17 1521.38 Q2282.17 1518.72 2280.27 1517.31 Q2278.39 1515.87 2274.87 1515.87 Q2272.95 1515.87 2270.75 1516.29 Q2268.56 1516.7 2265.92 1517.58 L2265.92 1513.42 Q2268.58 1512.68 2270.89 1512.31 Q2273.23 1511.93 2275.29 1511.93 Q2280.62 1511.93 2283.72 1514.37 Q2286.82 1516.77 2286.82 1520.89 Q2286.82 1523.76 2285.18 1525.75 Q2283.53 1527.72 2280.5 1528.49 Z\" fill=\"#000000\" fill-rule=\"evenodd\" fill-opacity=\"1\" /><path clip-path=\"url(#clip460)\" d=\"M 0 0 M2306.5 1515.64 Q2302.88 1515.64 2301.06 1519.2 Q2299.25 1522.75 2299.25 1529.87 Q2299.25 1536.98 2301.06 1540.55 Q2302.88 1544.09 2306.5 1544.09 Q2310.13 1544.09 2311.93 1540.55 Q2313.76 1536.98 2313.76 1529.87 Q2313.76 1522.75 2311.93 1519.2 Q2310.13 1515.64 2306.5 1515.64 M2306.5 1511.93 Q2312.31 1511.93 2315.36 1516.54 Q2318.44 1521.12 2318.44 1529.87 Q2318.44 1538.6 2315.36 1543.21 Q2312.31 1547.79 2306.5 1547.79 Q2300.68 1547.79 2297.61 1543.21 Q2294.55 1538.6 2294.55 1529.87 Q2294.55 1521.12 2297.61 1516.54 Q2300.68 1511.93 2306.5 1511.93 Z\" fill=\"#000000\" fill-rule=\"evenodd\" fill-opacity=\"1\" /><polyline clip-path=\"url(#clip462)\" style=\"stroke:#000000; stroke-width:2; stroke-opacity:0.1; fill:none\" points=\"\n  193.936,1464.07 2352.76,1464.07 \n  \"/>\n<polyline clip-path=\"url(#clip462)\" style=\"stroke:#000000; stroke-width:2; stroke-opacity:0.1; fill:none\" points=\"\n  193.936,1119.91 2352.76,1119.91 \n  \"/>\n<polyline clip-path=\"url(#clip462)\" style=\"stroke:#000000; stroke-width:2; stroke-opacity:0.1; fill:none\" points=\"\n  193.936,775.758 2352.76,775.758 \n  \"/>\n<polyline clip-path=\"url(#clip462)\" style=\"stroke:#000000; stroke-width:2; stroke-opacity:0.1; fill:none\" points=\"\n  193.936,431.601 2352.76,431.601 \n  \"/>\n<polyline clip-path=\"url(#clip462)\" style=\"stroke:#000000; stroke-width:2; stroke-opacity:0.1; fill:none\" points=\"\n  193.936,87.4453 2352.76,87.4453 \n  \"/>\n<polyline clip-path=\"url(#clip460)\" style=\"stroke:#000000; stroke-width:4; stroke-opacity:1; fill:none\" points=\"\n  193.936,1486.45 193.936,47.2441 \n  \"/>\n<polyline clip-path=\"url(#clip460)\" style=\"stroke:#000000; stroke-width:4; stroke-opacity:1; fill:none\" points=\"\n  193.936,1464.07 219.842,1464.07 \n  \"/>\n<polyline clip-path=\"url(#clip460)\" style=\"stroke:#000000; stroke-width:4; stroke-opacity:1; fill:none\" points=\"\n  193.936,1119.91 219.842,1119.91 \n  \"/>\n<polyline clip-path=\"url(#clip460)\" style=\"stroke:#000000; stroke-width:4; stroke-opacity:1; fill:none\" points=\"\n  193.936,775.758 219.842,775.758 \n  \"/>\n<polyline clip-path=\"url(#clip460)\" style=\"stroke:#000000; stroke-width:4; stroke-opacity:1; fill:none\" points=\"\n  193.936,431.601 219.842,431.601 \n  \"/>\n<polyline clip-path=\"url(#clip460)\" style=\"stroke:#000000; stroke-width:4; stroke-opacity:1; fill:none\" points=\"\n  193.936,87.4453 219.842,87.4453 \n  \"/>\n<path clip-path=\"url(#clip460)\" d=\"M 0 0 M50.9921 1464.52 L80.6679 1464.52 L80.6679 1468.46 L50.9921 1468.46 L50.9921 1464.52 Z\" fill=\"#000000\" fill-rule=\"evenodd\" fill-opacity=\"1\" /><path clip-path=\"url(#clip460)\" d=\"M 0 0 M91.5706 1477.41 L99.2095 1477.41 L99.2095 1451.05 L90.8993 1452.72 L90.8993 1448.46 L99.1632 1446.79 L103.839 1446.79 L103.839 1477.41 L111.478 1477.41 L111.478 1481.35 L91.5706 1481.35 L91.5706 1477.41 Z\" fill=\"#000000\" fill-rule=\"evenodd\" fill-opacity=\"1\" /><path clip-path=\"url(#clip460)\" d=\"M 0 0 M120.922 1475.47 L125.807 1475.47 L125.807 1481.35 L120.922 1481.35 L120.922 1475.47 Z\" fill=\"#000000\" fill-rule=\"evenodd\" fill-opacity=\"1\" /><path clip-path=\"url(#clip460)\" d=\"M 0 0 M145.992 1449.87 Q142.381 1449.87 140.552 1453.43 Q138.746 1456.98 138.746 1464.1 Q138.746 1471.21 140.552 1474.78 Q142.381 1478.32 145.992 1478.32 Q149.626 1478.32 151.431 1474.78 Q153.26 1471.21 153.26 1464.1 Q153.26 1456.98 151.431 1453.43 Q149.626 1449.87 145.992 1449.87 M145.992 1446.16 Q151.802 1446.16 154.857 1450.77 Q157.936 1455.35 157.936 1464.1 Q157.936 1472.83 154.857 1477.44 Q151.802 1482.02 145.992 1482.02 Q140.181 1482.02 137.103 1477.44 Q134.047 1472.83 134.047 1464.1 Q134.047 1455.35 137.103 1450.77 Q140.181 1446.16 145.992 1446.16 Z\" fill=\"#000000\" fill-rule=\"evenodd\" fill-opacity=\"1\" /><path clip-path=\"url(#clip460)\" d=\"M 0 0 M51.9875 1120.37 L81.6633 1120.37 L81.6633 1124.3 L51.9875 1124.3 L51.9875 1120.37 Z\" fill=\"#000000\" fill-rule=\"evenodd\" fill-opacity=\"1\" /><path clip-path=\"url(#clip460)\" d=\"M 0 0 M101.756 1105.71 Q98.1447 1105.71 96.316 1109.28 Q94.5104 1112.82 94.5104 1119.95 Q94.5104 1127.05 96.316 1130.62 Q98.1447 1134.16 101.756 1134.16 Q105.39 1134.16 107.196 1130.62 Q109.024 1127.05 109.024 1119.95 Q109.024 1112.82 107.196 1109.28 Q105.39 1105.71 101.756 1105.71 M101.756 1102.01 Q107.566 1102.01 110.621 1106.62 Q113.7 1111.2 113.7 1119.95 Q113.7 1128.68 110.621 1133.28 Q107.566 1137.87 101.756 1137.87 Q95.9456 1137.87 92.8669 1133.28 Q89.8114 1128.68 89.8114 1119.95 Q89.8114 1111.2 92.8669 1106.62 Q95.9456 1102.01 101.756 1102.01 Z\" fill=\"#000000\" fill-rule=\"evenodd\" fill-opacity=\"1\" /><path clip-path=\"url(#clip460)\" d=\"M 0 0 M121.918 1131.31 L126.802 1131.31 L126.802 1137.19 L121.918 1137.19 L121.918 1131.31 Z\" fill=\"#000000\" fill-rule=\"evenodd\" fill-opacity=\"1\" /><path clip-path=\"url(#clip460)\" d=\"M 0 0 M137.033 1102.63 L155.39 1102.63 L155.39 1106.57 L141.316 1106.57 L141.316 1115.04 Q142.334 1114.69 143.353 1114.53 Q144.371 1114.35 145.39 1114.35 Q151.177 1114.35 154.556 1117.52 Q157.936 1120.69 157.936 1126.11 Q157.936 1131.68 154.464 1134.79 Q150.992 1137.87 144.672 1137.87 Q142.496 1137.87 140.228 1137.49 Q137.982 1137.12 135.575 1136.38 L135.575 1131.68 Q137.658 1132.82 139.881 1133.37 Q142.103 1133.93 144.58 1133.93 Q148.584 1133.93 150.922 1131.82 Q153.26 1129.72 153.26 1126.11 Q153.26 1122.49 150.922 1120.39 Q148.584 1118.28 144.58 1118.28 Q142.705 1118.28 140.83 1118.7 Q138.978 1119.12 137.033 1119.99 L137.033 1102.63 Z\" fill=\"#000000\" fill-rule=\"evenodd\" fill-opacity=\"1\" /><path clip-path=\"url(#clip460)\" d=\"M 0 0 M100.76 761.556 Q97.1493 761.556 95.3206 765.121 Q93.515 768.663 93.515 775.792 Q93.515 782.899 95.3206 786.464 Q97.1493 790.005 100.76 790.005 Q104.395 790.005 106.2 786.464 Q108.029 782.899 108.029 775.792 Q108.029 768.663 106.2 765.121 Q104.395 761.556 100.76 761.556 M100.76 757.853 Q106.571 757.853 109.626 762.459 Q112.705 767.042 112.705 775.792 Q112.705 784.519 109.626 789.126 Q106.571 793.709 100.76 793.709 Q94.9502 793.709 91.8715 789.126 Q88.816 784.519 88.816 775.792 Q88.816 767.042 91.8715 762.459 Q94.9502 757.853 100.76 757.853 Z\" fill=\"#000000\" fill-rule=\"evenodd\" fill-opacity=\"1\" /><path clip-path=\"url(#clip460)\" d=\"M 0 0 M120.922 787.158 L125.807 787.158 L125.807 793.038 L120.922 793.038 L120.922 787.158 Z\" fill=\"#000000\" fill-rule=\"evenodd\" fill-opacity=\"1\" /><path clip-path=\"url(#clip460)\" d=\"M 0 0 M145.992 761.556 Q142.381 761.556 140.552 765.121 Q138.746 768.663 138.746 775.792 Q138.746 782.899 140.552 786.464 Q142.381 790.005 145.992 790.005 Q149.626 790.005 151.431 786.464 Q153.26 782.899 153.26 775.792 Q153.26 768.663 151.431 765.121 Q149.626 761.556 145.992 761.556 M145.992 757.853 Q151.802 757.853 154.857 762.459 Q157.936 767.042 157.936 775.792 Q157.936 784.519 154.857 789.126 Q151.802 793.709 145.992 793.709 Q140.181 793.709 137.103 789.126 Q134.047 784.519 134.047 775.792 Q134.047 767.042 137.103 762.459 Q140.181 757.853 145.992 757.853 Z\" fill=\"#000000\" fill-rule=\"evenodd\" fill-opacity=\"1\" /><path clip-path=\"url(#clip460)\" d=\"M 0 0 M101.756 417.4 Q98.1447 417.4 96.316 420.965 Q94.5104 424.507 94.5104 431.636 Q94.5104 438.743 96.316 442.307 Q98.1447 445.849 101.756 445.849 Q105.39 445.849 107.196 442.307 Q109.024 438.743 109.024 431.636 Q109.024 424.507 107.196 420.965 Q105.39 417.4 101.756 417.4 M101.756 413.696 Q107.566 413.696 110.621 418.303 Q113.7 422.886 113.7 431.636 Q113.7 440.363 110.621 444.969 Q107.566 449.553 101.756 449.553 Q95.9456 449.553 92.8669 444.969 Q89.8114 440.363 89.8114 431.636 Q89.8114 422.886 92.8669 418.303 Q95.9456 413.696 101.756 413.696 Z\" fill=\"#000000\" fill-rule=\"evenodd\" fill-opacity=\"1\" /><path clip-path=\"url(#clip460)\" d=\"M 0 0 M121.918 443.002 L126.802 443.002 L126.802 448.881 L121.918 448.881 L121.918 443.002 Z\" fill=\"#000000\" fill-rule=\"evenodd\" fill-opacity=\"1\" /><path clip-path=\"url(#clip460)\" d=\"M 0 0 M137.033 414.321 L155.39 414.321 L155.39 418.257 L141.316 418.257 L141.316 426.729 Q142.334 426.382 143.353 426.22 Q144.371 426.034 145.39 426.034 Q151.177 426.034 154.556 429.206 Q157.936 432.377 157.936 437.794 Q157.936 443.372 154.464 446.474 Q150.992 449.553 144.672 449.553 Q142.496 449.553 140.228 449.182 Q137.982 448.812 135.575 448.071 L135.575 443.372 Q137.658 444.506 139.881 445.062 Q142.103 445.618 144.58 445.618 Q148.584 445.618 150.922 443.511 Q153.26 441.405 153.26 437.794 Q153.26 434.182 150.922 432.076 Q148.584 429.97 144.58 429.97 Q142.705 429.97 140.83 430.386 Q138.978 430.803 137.033 431.682 L137.033 414.321 Z\" fill=\"#000000\" fill-rule=\"evenodd\" fill-opacity=\"1\" /><path clip-path=\"url(#clip460)\" d=\"M 0 0 M91.5706 100.79 L99.2095 100.79 L99.2095 74.4246 L90.8993 76.0912 L90.8993 71.832 L99.1632 70.1653 L103.839 70.1653 L103.839 100.79 L111.478 100.79 L111.478 104.725 L91.5706 104.725 L91.5706 100.79 Z\" fill=\"#000000\" fill-rule=\"evenodd\" fill-opacity=\"1\" /><path clip-path=\"url(#clip460)\" d=\"M 0 0 M120.922 98.8457 L125.807 98.8457 L125.807 104.725 L120.922 104.725 L120.922 98.8457 Z\" fill=\"#000000\" fill-rule=\"evenodd\" fill-opacity=\"1\" /><path clip-path=\"url(#clip460)\" d=\"M 0 0 M145.992 73.244 Q142.381 73.244 140.552 76.8088 Q138.746 80.3505 138.746 87.4801 Q138.746 94.5865 140.552 98.1513 Q142.381 101.693 145.992 101.693 Q149.626 101.693 151.431 98.1513 Q153.26 94.5865 153.26 87.4801 Q153.26 80.3505 151.431 76.8088 Q149.626 73.244 145.992 73.244 M145.992 69.5403 Q151.802 69.5403 154.857 74.1468 Q157.936 78.7301 157.936 87.4801 Q157.936 96.2069 154.857 100.813 Q151.802 105.397 145.992 105.397 Q140.181 105.397 137.103 100.813 Q134.047 96.2069 134.047 87.4801 Q134.047 78.7301 137.103 74.1468 Q140.181 69.5403 145.992 69.5403 Z\" fill=\"#000000\" fill-rule=\"evenodd\" fill-opacity=\"1\" /><polyline clip-path=\"url(#clip462)\" style=\"stroke:#009af9; stroke-width:4; stroke-opacity:1; fill:none\" points=\"\n  255.035,775.758 261.823,744.335 268.612,673.85 275.401,621.885 282.19,645.752 288.978,766.121 295.767,948.158 302.556,1111.66 309.345,1167.19 316.133,1061.74 \n  322.922,811.346 329.711,503.161 336.5,263.29 343.288,202.895 350.077,366.417 356.866,706.088 363.655,1096.03 370.443,1381.71 377.232,1444.31 384.021,1252.14 \n  390.81,876.147 397.598,462.163 404.387,171.235 411.176,113.568 417.964,304.355 424.753,660.056 431.542,1035.89 438.331,1287.45 445.119,1329.29 451.908,1165.7 \n  458.697,881.761 465.486,601.084 472.274,430.495 479.063,417.064 485.852,535.48 492.641,709.022 499.429,851.651 506.218,909.726 513.007,883.363 519.796,818.518 \n  526.584,775.758 533.373,793.168 540.162,863.296 546.951,936.441 553.739,948.813 560.528,860.946 567.317,685.902 574.106,491.231 580.894,371.457 587.683,402.79 \n  594.472,601.606 601.261,907.819 608.049,1203.55 614.838,1361.05 621.627,1299.47 628.415,1024.87 635.204,633.87 641.993,277.604 648.782,100.052 655.57,177.118 \n  662.359,483.131 669.148,899.88 675.937,1264.81 682.725,1437.84 689.514,1358.18 696.303,1066.99 703.092,686.962 709.88,368.771 716.669,228.25 723.458,301.657 \n  730.247,537.182 737.035,824.255 743.824,1045.47 750.613,1126.72 757.402,1063.47 764.19,913.187 770.979,760.433 777.768,673.092 784.557,671.61 791.345,725.298 \n  798.134,775.758 804.923,773.84 811.712,710.036 818.5,621.935 825.289,574.378 832.078,622.265 838.866,775.422 845.655,984.7 852.444,1158.52 859.233,1203.97 \n  866.021,1073.66 872.81,795.468 879.599,469.037 886.388,227.844 893.176,182.227 899.965,368.398 906.754,727.19 913.543,1123.73 920.331,1401.12 927.12,1445.72 \n  933.909,1235.72 940.698,851.668 947.486,443.789 954.275,170.113 961.064,131.869 967.853,333.783 974.641,685.658 981.43,1043.41 988.219,1270.65 995.008,1293.68 \n  1001.8,1126.61 1008.59,857.563 1015.37,604.544 1022.16,462.381 1028.95,465.097 1035.74,579.328 1042.53,729.209 1049.32,838.385 1056.11,867.586 1062.89,829.624 \n  1069.68,775.758 1076.47,762.019 1083.26,814.069 1090.05,909.631 1096.84,988.328 1103.63,984.494 1110.42,866.256 1117.2,660.177 1123.99,447.094 1130.78,328.735 \n  1137.57,379.461 1144.36,605.952 1151.15,935.307 1157.94,1239.68 1164.73,1388.6 1171.51,1306.7 1178.3,1010.65 1185.09,607.58 1191.88,253.953 1198.67,91.4858 \n  1205.46,187.592 1212.25,506.273 1219.04,922.397 1225.82,1273.43 1232.61,1426.32 1239.4,1330.87 1246.19,1037.09 1252.98,670.219 1259.77,375.591 1266.56,258.081 \n  1273.35,342.489 1280.13,570.61 1286.92,833.904 1293.71,1024.88 1300.5,1082.94 1307.29,1014.47 1314.08,880.218 1320.87,758.497 1327.66,704.062 1334.44,723.069 \n  1341.23,775.758 1348.02,803.983 1354.81,768.115 1361.6,673.225 1368.39,570.084 1375.18,529.539 1381.97,602.797 1388.75,788.142 1395.54,1022.35 1402.33,1203.55 \n  1409.12,1236.73 1415.91,1081.21 1422.7,776.955 1429.49,435.308 1436.28,195.747 1443.06,166.403 1449.85,374.53 1456.64,749.834 1463.43,1149.61 1470.22,1416.12 \n  1477.01,1442.08 1483.8,1215.89 1490.59,826.925 1497.37,428.403 1504.16,173.868 1510.95,154.736 1517.74,365.436 1524.53,710.206 1531.32,1047.15 1538.11,1249.14 \n  1544.9,1254.58 1551.68,1086.79 1558.47,835.625 1565.26,612.086 1572.05,498.197 1578.84,515.066 1585.63,622.273 1592.42,746.183 1599.21,821.22 1605.99,822.786 \n  1612.78,775.758 1619.57,735.446 1626.36,752.08 1633.15,838.226 1639.94,957.034 1646.73,1038.51 1653.52,1016.46 1660.3,867.623 1667.09,632.212 1673.88,403.587 \n  1680.67,289.327 1687.46,360.649 1694.25,613.915 1701.04,963.771 1707.83,1273.58 1714.61,1411.67 1721.4,1309.18 1728.19,993.577 1734.98,581.672 1741.77,233.79 \n  1748.56,87.9763 1755.35,202.432 1762.14,531.137 1768.92,943.239 1775.71,1277.76 1782.5,1409.85 1789.29,1300.16 1796.08,1006.82 1802.87,656.23 1809.66,386.948 \n  1816.45,292.122 1823.23,385.301 1830.02,602.969 1836.81,840.051 1843.6,1000.08 1850.39,1036.24 1857.18,965.207 1863.97,849.652 1870.76,760.397 1877.54,738.391 \n  1884.33,775.758 1891.12,824.725 1897.91,828.74 1904.7,758.669 1911.49,634.303 1918.28,518.83 1925.07,487.787 1931.85,587.458 1938.64,804.039 1945.43,1060.64 \n  1952.22,1246.25 1959.01,1265.2 1965.8,1084.47 1972.59,756.179 1979.38,402.474 1986.16,167.39 1992.95,155.522 1999.74,384.576 2006.53,773.565 2013.32,1173.21 \n  2020.11,1426.48 2026.9,1433.5 2033.69,1193.02 2040.47,802.401 2047.26,416.361 2054.05,182.556 2060.84,181.896 2067.63,398.841 2074.42,733.249 2081.21,1046.91 \n  2087.99,1223.05 2094.78,1212.41 2101.57,1046.76 2108.36,816.312 2115.15,623.755 2121.94,537.643 2128.73,566.463 2135.52,663.832 2142.3,759.71 2149.09,800.283 \n  2155.88,775.758 2162.67,722.301 2169.46,697.978 2176.25,746.013 2183.04,865.355 2189.83,1005 2196.61,1086.49 2203.4,1044.47 2210.19,865.147 2216.98,602.412 \n  2223.77,361.227 2230.56,253.622 2237.35,346.434 2244.14,625.237 2250.92,992.737 2257.71,1304.81 2264.5,1430.03 2271.29,1307.02 2278.08,974.042 2284.87,556.629 \n  2291.66,217.466 \n  \"/>\n<path clip-path=\"url(#clip460)\" d=\"\nM1988.5 216.178 L2280.8 216.178 L2280.8 95.2176 L1988.5 95.2176  Z\n  \" fill=\"#ffffff\" fill-rule=\"evenodd\" fill-opacity=\"1\"/>\n<polyline clip-path=\"url(#clip460)\" style=\"stroke:#000000; stroke-width:4; stroke-opacity:1; fill:none\" points=\"\n  1988.5,216.178 2280.8,216.178 2280.8,95.2176 1988.5,95.2176 1988.5,216.178 \n  \"/>\n<polyline clip-path=\"url(#clip460)\" style=\"stroke:#009af9; stroke-width:4; stroke-opacity:1; fill:none\" points=\"\n  2012.48,155.698 2156.4,155.698 \n  \"/>\n<path clip-path=\"url(#clip460)\" d=\"M 0 0 M2194.23 175.385 Q2192.43 180.015 2190.72 181.427 Q2189 182.839 2186.13 182.839 L2182.73 182.839 L2182.73 179.274 L2185.23 179.274 Q2186.99 179.274 2187.96 178.44 Q2188.93 177.607 2190.11 174.505 L2190.88 172.561 L2180.39 147.052 L2184.91 147.052 L2193.01 167.329 L2201.11 147.052 L2205.62 147.052 L2194.23 175.385 Z\" fill=\"#000000\" fill-rule=\"evenodd\" fill-opacity=\"1\" /><path clip-path=\"url(#clip460)\" d=\"M 0 0 M2212.91 169.042 L2220.55 169.042 L2220.55 142.677 L2212.24 144.343 L2212.24 140.084 L2220.51 138.418 L2225.18 138.418 L2225.18 169.042 L2232.82 169.042 L2232.82 172.978 L2212.91 172.978 L2212.91 169.042 Z\" fill=\"#000000\" fill-rule=\"evenodd\" fill-opacity=\"1\" /></svg>\n"
               },
               "type": "node"
              }
             ],
             "instanceArgs": {
              "namespace": "html",
              "tag": "div"
             },
             "nodeType": "DOM",
             "props": {
              "className": "interact-flex-row interact-widget"
             },
             "type": "node"
            }
           }
          },
          "systemjs_options": null
         },
         "nodeType": "Scope",
         "props": {},
         "type": "node"
        }
       ],
       "instanceArgs": {
        "namespace": "html",
        "tag": "div"
       },
       "nodeType": "DOM",
       "props": {},
       "type": "node"
      },
      "text/html": [
       "<div\n",
       "    class=\"webio-mountpoint\"\n",
       "    data-webio-mountpoint=\"16895113400282857865\"\n",
       ">\n",
       "    <script>\n",
       "    if (window.require && require.defined && require.defined(\"nbextensions/webio-jupyter-notebook\")) {\n",
       "        console.log(\"Jupyter WebIO extension detected, not mounting.\");\n",
       "    } else if (window.WebIO) {\n",
       "        WebIO.mount(\n",
       "            document.querySelector('[data-webio-mountpoint=\"16895113400282857865\"]'),\n",
       "            {\"props\":{},\"nodeType\":\"DOM\",\"type\":\"node\",\"instanceArgs\":{\"namespace\":\"html\",\"tag\":\"div\"},\"children\":[{\"props\":{\"className\":\"interact-widget\"},\"nodeType\":\"DOM\",\"type\":\"node\",\"instanceArgs\":{\"namespace\":\"html\",\"tag\":\"div\"},\"children\":[{\"props\":{},\"nodeType\":\"Scope\",\"type\":\"node\",\"instanceArgs\":{\"imports\":{\"data\":[{\"name\":\"knockout\",\"type\":\"js\",\"url\":\"\\/assetserver\\/0fc6d61518197b1bf9b23217e9be1d2e00f2bb14-knockout.js\"},{\"name\":\"knockout_punches\",\"type\":\"js\",\"url\":\"\\/assetserver\\/24c12264eef2b01f723a21985ba5661f5564d7cf-knockout_punches.js\"},{\"name\":null,\"type\":\"js\",\"url\":\"\\/assetserver\\/85de428ae418ad26c1ce7e886d25374b3774afa9-all.js\"},{\"name\":null,\"type\":\"css\",\"url\":\"\\/assetserver\\/2cd8ff31326883094fe5a8ff21182264663b62be-style.css\"},{\"name\":null,\"type\":\"css\",\"url\":\"\\/assetserver\\/741bde2d4bf25f117d0ec4d43164cd1a050cf9de-bulma_confined.min.css\"}],\"type\":\"async_block\"},\"id\":\"8562977002637541790\",\"handlers\":{\"options_js\":[\"(function (val){return (val!=this.model[\\\"options_js\\\"]()) ? (this.valueFromJulia[\\\"options_js\\\"]=true, this.model[\\\"options_js\\\"](val)) : undefined})\"],\"index\":[\"(function (val){return (val!=this.model[\\\"index\\\"]()) ? (this.valueFromJulia[\\\"index\\\"]=true, this.model[\\\"index\\\"](val)) : undefined})\"]},\"systemjs_options\":null,\"mount_callbacks\":[\"function () {\\n    var handler = (function (ko, koPunches) {\\n    ko.punches.enableAll();\\n    ko.bindingHandlers.numericValue = {\\n        init: function(element, valueAccessor, allBindings, data, context) {\\n            var stringified = ko.observable(ko.unwrap(valueAccessor()));\\n            stringified.subscribe(function(value) {\\n                var val = parseFloat(value);\\n                if (!isNaN(val)) {\\n                    valueAccessor()(val);\\n                }\\n            });\\n            valueAccessor().subscribe(function(value) {\\n                var str = JSON.stringify(value);\\n                if ((str == \\\"0\\\") && ([\\\"-0\\\", \\\"-0.\\\"].indexOf(stringified()) >= 0))\\n                     return;\\n                 if ([\\\"null\\\", \\\"\\\"].indexOf(str) >= 0)\\n                     return;\\n                stringified(str);\\n            });\\n            ko.applyBindingsToNode(\\n                element,\\n                {\\n                    value: stringified,\\n                    valueUpdate: allBindings.get('valueUpdate'),\\n                },\\n                context,\\n            );\\n        }\\n    };\\n    var json_data = {\\\"options_js\\\":WebIO.getval({\\\"name\\\":\\\"options_js\\\",\\\"scope\\\":\\\"8562977002637541790\\\",\\\"id\\\":\\\"2215283445534381744\\\",\\\"type\\\":\\\"observable\\\"}),\\\"index\\\":WebIO.getval({\\\"name\\\":\\\"index\\\",\\\"scope\\\":\\\"8562977002637541790\\\",\\\"id\\\":\\\"9479403632538268262\\\",\\\"type\\\":\\\"observable\\\"})};\\n    var self = this;\\n    function AppViewModel() {\\n        for (var key in json_data) {\\n            var el = json_data[key];\\n            this[key] = Array.isArray(el) ? ko.observableArray(el) : ko.observable(el);\\n        }\\n        [this[\\\"update\\\"]=function (val) {this.index(val)}]\\n        \\n        [this[\\\"options_js\\\"].subscribe((function (val){!(this.valueFromJulia[\\\"options_js\\\"]) ? (WebIO.setval({\\\"name\\\":\\\"options_js\\\",\\\"scope\\\":\\\"8562977002637541790\\\",\\\"id\\\":\\\"2215283445534381744\\\",\\\"type\\\":\\\"observable\\\"},val)) : undefined; return this.valueFromJulia[\\\"options_js\\\"]=false}),self),this[\\\"index\\\"].subscribe((function (val){!(this.valueFromJulia[\\\"index\\\"]) ? (WebIO.setval({\\\"name\\\":\\\"index\\\",\\\"scope\\\":\\\"8562977002637541790\\\",\\\"id\\\":\\\"9479403632538268262\\\",\\\"type\\\":\\\"observable\\\"},val)) : undefined; return this.valueFromJulia[\\\"index\\\"]=false}),self)]\\n        \\n    }\\n    self.model = new AppViewModel();\\n    self.valueFromJulia = {};\\n    for (var key in json_data) {\\n        self.valueFromJulia[key] = false;\\n    }\\n    ko.applyBindings(self.model, self.dom);\\n}\\n);\\n    (WebIO.importBlock({\\\"data\\\":[{\\\"name\\\":\\\"knockout\\\",\\\"type\\\":\\\"js\\\",\\\"url\\\":\\\"\\/assetserver\\/0fc6d61518197b1bf9b23217e9be1d2e00f2bb14-knockout.js\\\"},{\\\"name\\\":\\\"knockout_punches\\\",\\\"type\\\":\\\"js\\\",\\\"url\\\":\\\"\\/assetserver\\/24c12264eef2b01f723a21985ba5661f5564d7cf-knockout_punches.js\\\"}],\\\"type\\\":\\\"async_block\\\"})).then((imports) => handler.apply(this, imports));\\n}\\n\"],\"observables\":{\"options_js\":{\"sync\":false,\"id\":\"2215283445534381744\",\"value\":[{\"key\":\"pi\\/4\",\"val\":1,\"id\":\"idVFkCQm3G\"},{\"key\":\"π\\/2\",\"val\":2,\"id\":\"idtopuiEEH\"},{\"key\":\"3π\\/4\",\"val\":3,\"id\":\"idVZCe0naT\"},{\"key\":\"π\",\"val\":4,\"id\":\"idlxaTrVod\"}]},\"index\":{\"sync\":true,\"id\":\"9479403632538268262\",\"value\":1}}},\"children\":[{\"props\":{\"className\":\"interact-flex-row interact-widget\"},\"nodeType\":\"DOM\",\"type\":\"node\",\"instanceArgs\":{\"namespace\":\"html\",\"tag\":\"div\"},\"children\":[{\"props\":{\"className\":\"interact-flex-row-left\"},\"nodeType\":\"DOM\",\"type\":\"node\",\"instanceArgs\":{\"namespace\":\"html\",\"tag\":\"div\"},\"children\":[{\"props\":{\"className\":\"interact \",\"style\":{\"padding\":\"5px 10px 0px 10px\"}},\"nodeType\":\"DOM\",\"type\":\"node\",\"instanceArgs\":{\"namespace\":\"html\",\"tag\":\"label\"},\"children\":[\"freq1\"]}]},{\"props\":{\"className\":\"interact-flex-row-center\"},\"nodeType\":\"DOM\",\"type\":\"node\",\"instanceArgs\":{\"namespace\":\"html\",\"tag\":\"div\"},\"children\":[{\"props\":{\"attributes\":{\"data-bind\":\"foreach : options_js\"},\"className\":\"buttons has-addons is-centered\"},\"nodeType\":\"DOM\",\"type\":\"node\",\"instanceArgs\":{\"namespace\":\"html\",\"tag\":\"div\"},\"children\":[{\"props\":{\"attributes\":{\"data-bind\":\"click: function (){$root.update(val)}, css: {'is-primary is-selected' : $root.index() == val, 'interact-widget is-medium button ' : true}\"}},\"nodeType\":\"DOM\",\"type\":\"node\",\"instanceArgs\":{\"namespace\":\"html\",\"tag\":\"span\"},\"children\":[{\"props\":{\"attributes\":{\"data-bind\":\"text : key\"}},\"nodeType\":\"DOM\",\"type\":\"node\",\"instanceArgs\":{\"namespace\":\"html\",\"tag\":\"label\"},\"children\":[]}]}]}]},{\"props\":{\"className\":\"interact-flex-row-right\"},\"nodeType\":\"DOM\",\"type\":\"node\",\"instanceArgs\":{\"namespace\":\"html\",\"tag\":\"div\"},\"children\":[{\"props\":{},\"nodeType\":\"DOM\",\"type\":\"node\",\"instanceArgs\":{\"namespace\":\"html\",\"tag\":\"div\"},\"children\":[]}]}]}]}]},{\"props\":{\"className\":\"field interact-widget\"},\"nodeType\":\"DOM\",\"type\":\"node\",\"instanceArgs\":{\"namespace\":\"html\",\"tag\":\"div\"},\"children\":[{\"props\":{},\"nodeType\":\"Scope\",\"type\":\"node\",\"instanceArgs\":{\"imports\":{\"data\":[{\"name\":\"knockout\",\"type\":\"js\",\"url\":\"\\/assetserver\\/0fc6d61518197b1bf9b23217e9be1d2e00f2bb14-knockout.js\"},{\"name\":\"knockout_punches\",\"type\":\"js\",\"url\":\"\\/assetserver\\/24c12264eef2b01f723a21985ba5661f5564d7cf-knockout_punches.js\"},{\"name\":null,\"type\":\"js\",\"url\":\"\\/assetserver\\/85de428ae418ad26c1ce7e886d25374b3774afa9-all.js\"},{\"name\":null,\"type\":\"css\",\"url\":\"\\/assetserver\\/2cd8ff31326883094fe5a8ff21182264663b62be-style.css\"},{\"name\":null,\"type\":\"css\",\"url\":\"\\/assetserver\\/741bde2d4bf25f117d0ec4d43164cd1a050cf9de-bulma_confined.min.css\"}],\"type\":\"async_block\"},\"id\":\"3018211039351821703\",\"handlers\":{\"changes\":[\"(function (val){return (val!=this.model[\\\"changes\\\"]()) ? (this.valueFromJulia[\\\"changes\\\"]=true, this.model[\\\"changes\\\"](val)) : undefined})\"],\"index\":[\"(function (val){return (val!=this.model[\\\"index\\\"]()) ? (this.valueFromJulia[\\\"index\\\"]=true, this.model[\\\"index\\\"](val)) : undefined})\"]},\"systemjs_options\":null,\"mount_callbacks\":[\"function () {\\n    var handler = (function (ko, koPunches) {\\n    ko.punches.enableAll();\\n    ko.bindingHandlers.numericValue = {\\n        init: function(element, valueAccessor, allBindings, data, context) {\\n            var stringified = ko.observable(ko.unwrap(valueAccessor()));\\n            stringified.subscribe(function(value) {\\n                var val = parseFloat(value);\\n                if (!isNaN(val)) {\\n                    valueAccessor()(val);\\n                }\\n            });\\n            valueAccessor().subscribe(function(value) {\\n                var str = JSON.stringify(value);\\n                if ((str == \\\"0\\\") && ([\\\"-0\\\", \\\"-0.\\\"].indexOf(stringified()) >= 0))\\n                     return;\\n                 if ([\\\"null\\\", \\\"\\\"].indexOf(str) >= 0)\\n                     return;\\n                stringified(str);\\n            });\\n            ko.applyBindingsToNode(\\n                element,\\n                {\\n                    value: stringified,\\n                    valueUpdate: allBindings.get('valueUpdate'),\\n                },\\n                context,\\n            );\\n        }\\n    };\\n    var json_data = {\\\"formatted_vals\\\":[\\\"0.01\\\",\\\"0.11\\\",\\\"0.21\\\",\\\"0.31\\\",\\\"0.41\\\",\\\"0.51\\\",\\\"0.61\\\",\\\"0.71\\\",\\\"0.81\\\",\\\"0.91\\\",\\\"1.01\\\",\\\"1.11\\\",\\\"1.21\\\",\\\"1.31\\\",\\\"1.41\\\",\\\"1.51\\\",\\\"1.61\\\",\\\"1.71\\\",\\\"1.81\\\",\\\"1.91\\\",\\\"2.01\\\",\\\"2.11\\\",\\\"2.21\\\",\\\"2.31\\\",\\\"2.41\\\",\\\"2.51\\\",\\\"2.61\\\",\\\"2.71\\\",\\\"2.81\\\",\\\"2.91\\\",\\\"3.01\\\",\\\"3.11\\\",\\\"3.21\\\",\\\"3.31\\\",\\\"3.41\\\",\\\"3.51\\\",\\\"3.61\\\",\\\"3.71\\\",\\\"3.81\\\",\\\"3.91\\\",\\\"4.01\\\",\\\"4.11\\\",\\\"4.21\\\",\\\"4.31\\\",\\\"4.41\\\",\\\"4.51\\\",\\\"4.61\\\",\\\"4.71\\\",\\\"4.81\\\",\\\"4.91\\\",\\\"5.01\\\",\\\"5.11\\\",\\\"5.21\\\",\\\"5.31\\\",\\\"5.41\\\",\\\"5.51\\\",\\\"5.61\\\",\\\"5.71\\\",\\\"5.81\\\",\\\"5.91\\\",\\\"6.01\\\",\\\"6.11\\\",\\\"6.21\\\",\\\"6.31\\\",\\\"6.41\\\",\\\"6.51\\\",\\\"6.61\\\",\\\"6.71\\\",\\\"6.81\\\",\\\"6.91\\\",\\\"7.01\\\",\\\"7.11\\\",\\\"7.21\\\",\\\"7.31\\\",\\\"7.41\\\",\\\"7.51\\\",\\\"7.61\\\",\\\"7.71\\\",\\\"7.81\\\",\\\"7.91\\\",\\\"8.01\\\",\\\"8.11\\\",\\\"8.21\\\",\\\"8.31\\\",\\\"8.41\\\",\\\"8.51\\\",\\\"8.61\\\",\\\"8.71\\\",\\\"8.81\\\",\\\"8.91\\\",\\\"9.01\\\",\\\"9.11\\\",\\\"9.21\\\",\\\"9.31\\\",\\\"9.41\\\",\\\"9.51\\\",\\\"9.61\\\",\\\"9.71\\\",\\\"9.81\\\",\\\"9.91\\\",\\\"10.01\\\",\\\"10.11\\\",\\\"10.21\\\",\\\"10.31\\\",\\\"10.41\\\",\\\"10.51\\\",\\\"10.61\\\",\\\"10.71\\\",\\\"10.81\\\",\\\"10.91\\\",\\\"11.01\\\",\\\"11.11\\\",\\\"11.21\\\",\\\"11.31\\\",\\\"11.41\\\",\\\"11.51\\\",\\\"11.61\\\",\\\"11.71\\\",\\\"11.81\\\",\\\"11.91\\\",\\\"12.01\\\",\\\"12.11\\\",\\\"12.21\\\",\\\"12.31\\\",\\\"12.41\\\",\\\"12.51\\\"],\\\"changes\\\":WebIO.getval({\\\"name\\\":\\\"changes\\\",\\\"scope\\\":\\\"3018211039351821703\\\",\\\"id\\\":\\\"6088657101389601908\\\",\\\"type\\\":\\\"observable\\\"}),\\\"index\\\":WebIO.getval({\\\"name\\\":\\\"index\\\",\\\"scope\\\":\\\"3018211039351821703\\\",\\\"id\\\":\\\"17121446395788861381\\\",\\\"type\\\":\\\"observable\\\"})};\\n    var self = this;\\n    function AppViewModel() {\\n        for (var key in json_data) {\\n            var el = json_data[key];\\n            this[key] = Array.isArray(el) ? ko.observableArray(el) : ko.observable(el);\\n        }\\n        \\n        [this[\\\"formatted_val\\\"]=ko.computed(    function(){\\n        return this.formatted_vals()[parseInt(this.index())-(1)];\\n    }\\n,this)]\\n        [this[\\\"changes\\\"].subscribe((function (val){!(this.valueFromJulia[\\\"changes\\\"]) ? (WebIO.setval({\\\"name\\\":\\\"changes\\\",\\\"scope\\\":\\\"3018211039351821703\\\",\\\"id\\\":\\\"6088657101389601908\\\",\\\"type\\\":\\\"observable\\\"},val)) : undefined; return this.valueFromJulia[\\\"changes\\\"]=false}),self),this[\\\"index\\\"].subscribe((function (val){!(this.valueFromJulia[\\\"index\\\"]) ? (WebIO.setval({\\\"name\\\":\\\"index\\\",\\\"scope\\\":\\\"3018211039351821703\\\",\\\"id\\\":\\\"17121446395788861381\\\",\\\"type\\\":\\\"observable\\\"},val)) : undefined; return this.valueFromJulia[\\\"index\\\"]=false}),self)]\\n        \\n    }\\n    self.model = new AppViewModel();\\n    self.valueFromJulia = {};\\n    for (var key in json_data) {\\n        self.valueFromJulia[key] = false;\\n    }\\n    ko.applyBindings(self.model, self.dom);\\n}\\n);\\n    (WebIO.importBlock({\\\"data\\\":[{\\\"name\\\":\\\"knockout\\\",\\\"type\\\":\\\"js\\\",\\\"url\\\":\\\"\\/assetserver\\/0fc6d61518197b1bf9b23217e9be1d2e00f2bb14-knockout.js\\\"},{\\\"name\\\":\\\"knockout_punches\\\",\\\"type\\\":\\\"js\\\",\\\"url\\\":\\\"\\/assetserver\\/24c12264eef2b01f723a21985ba5661f5564d7cf-knockout_punches.js\\\"}],\\\"type\\\":\\\"async_block\\\"})).then((imports) => handler.apply(this, imports));\\n}\\n\"],\"observables\":{\"changes\":{\"sync\":false,\"id\":\"6088657101389601908\",\"value\":0},\"index\":{\"sync\":true,\"id\":\"17121446395788861381\",\"value\":63}}},\"children\":[{\"props\":{\"className\":\"interact-flex-row interact-widget\"},\"nodeType\":\"DOM\",\"type\":\"node\",\"instanceArgs\":{\"namespace\":\"html\",\"tag\":\"div\"},\"children\":[{\"props\":{\"className\":\"interact-flex-row-left\"},\"nodeType\":\"DOM\",\"type\":\"node\",\"instanceArgs\":{\"namespace\":\"html\",\"tag\":\"div\"},\"children\":[{\"props\":{\"className\":\"interact \",\"style\":{\"padding\":\"5px 10px 0px 10px\"}},\"nodeType\":\"DOM\",\"type\":\"node\",\"instanceArgs\":{\"namespace\":\"html\",\"tag\":\"label\"},\"children\":[\"freq2\"]}]},{\"props\":{\"className\":\"interact-flex-row-center\"},\"nodeType\":\"DOM\",\"type\":\"node\",\"instanceArgs\":{\"namespace\":\"html\",\"tag\":\"div\"},\"children\":[{\"props\":{\"max\":126,\"min\":1,\"attributes\":{\"type\":\"range\",\"data-bind\":\"numericValue: index, valueUpdate: 'input', event: {change: function (){this.changes(this.changes()+1)}}\",\"orient\":\"horizontal\"},\"step\":1,\"className\":\"slider slider is-fullwidth\",\"style\":{}},\"nodeType\":\"DOM\",\"type\":\"node\",\"instanceArgs\":{\"namespace\":\"html\",\"tag\":\"input\"},\"children\":[]}]},{\"props\":{\"className\":\"interact-flex-row-right\"},\"nodeType\":\"DOM\",\"type\":\"node\",\"instanceArgs\":{\"namespace\":\"html\",\"tag\":\"div\"},\"children\":[{\"props\":{\"attributes\":{\"data-bind\":\"text: formatted_val\"}},\"nodeType\":\"DOM\",\"type\":\"node\",\"instanceArgs\":{\"namespace\":\"html\",\"tag\":\"p\"},\"children\":[]}]}]}]}]},{\"props\":{},\"nodeType\":\"Scope\",\"type\":\"node\",\"instanceArgs\":{\"imports\":{\"data\":[],\"type\":\"async_block\"},\"id\":\"8260700013326020150\",\"handlers\":{},\"systemjs_options\":null,\"mount_callbacks\":[],\"observables\":{\"obs-node\":{\"sync\":false,\"id\":\"12603119789676642214\",\"value\":{\"props\":{\"className\":\"interact-flex-row interact-widget\"},\"nodeType\":\"DOM\",\"type\":\"node\",\"instanceArgs\":{\"namespace\":\"html\",\"tag\":\"div\"},\"children\":[{\"props\":{\"setInnerHtml\":\"<?xml version=\\\"1.0\\\" encoding=\\\"utf-8\\\"?>\\n<svg xmlns=\\\"http:\\/\\/www.w3.org\\/2000\\/svg\\\" xmlns:xlink=\\\"http:\\/\\/www.w3.org\\/1999\\/xlink\\\" width=\\\"600\\\" height=\\\"400\\\" viewBox=\\\"0 0 2400 1600\\\">\\n<defs>\\n  <clipPath id=\\\"clip420\\\">\\n    <rect x=\\\"0\\\" y=\\\"0\\\" width=\\\"2400\\\" height=\\\"1600\\\"\\/>\\n  <\\/clipPath>\\n<\\/defs>\\n<path clip-path=\\\"url(#clip420)\\\" d=\\\"\\nM0 1600 L2400 1600 L2400 0 L0 0  Z\\n  \\\" fill=\\\"#ffffff\\\" fill-rule=\\\"evenodd\\\" fill-opacity=\\\"1\\\"\\/>\\n<defs>\\n  <clipPath id=\\\"clip421\\\">\\n    <rect x=\\\"480\\\" y=\\\"0\\\" width=\\\"1681\\\" height=\\\"1600\\\"\\/>\\n  <\\/clipPath>\\n<\\/defs>\\n<path clip-path=\\\"url(#clip420)\\\" d=\\\"\\nM193.936 1486.45 L2352.76 1486.45 L2352.76 47.2441 L193.936 47.2441  Z\\n  \\\" fill=\\\"#ffffff\\\" fill-rule=\\\"evenodd\\\" fill-opacity=\\\"1\\\"\\/>\\n<defs>\\n  <clipPath id=\\\"clip422\\\">\\n    <rect x=\\\"193\\\" y=\\\"47\\\" width=\\\"2160\\\" height=\\\"1440\\\"\\/>\\n  <\\/clipPath>\\n<\\/defs>\\n<polyline clip-path=\\\"url(#clip422)\\\" style=\\\"stroke:#000000; stroke-width:2; stroke-opacity:0.1; fill:none\\\" points=\\\"\\n  255.035,1486.45 255.035,47.2441 \\n  \\\"\\/>\\n<polyline clip-path=\\\"url(#clip422)\\\" style=\\\"stroke:#000000; stroke-width:2; stroke-opacity:0.1; fill:none\\\" points=\\\"\\n  933.909,1486.45 933.909,47.2441 \\n  \\\"\\/>\\n<polyline clip-path=\\\"url(#clip422)\\\" style=\\\"stroke:#000000; stroke-width:2; stroke-opacity:0.1; fill:none\\\" points=\\\"\\n  1612.78,1486.45 1612.78,47.2441 \\n  \\\"\\/>\\n<polyline clip-path=\\\"url(#clip422)\\\" style=\\\"stroke:#000000; stroke-width:2; stroke-opacity:0.1; fill:none\\\" points=\\\"\\n  2291.66,1486.45 2291.66,47.2441 \\n  \\\"\\/>\\n<polyline clip-path=\\\"url(#clip420)\\\" style=\\\"stroke:#000000; stroke-width:4; stroke-opacity:1; fill:none\\\" points=\\\"\\n  193.936,1486.45 2352.76,1486.45 \\n  \\\"\\/>\\n<polyline clip-path=\\\"url(#clip420)\\\" style=\\\"stroke:#000000; stroke-width:4; stroke-opacity:1; fill:none\\\" points=\\\"\\n  255.035,1486.45 255.035,1469.18 \\n  \\\"\\/>\\n<polyline clip-path=\\\"url(#clip420)\\\" style=\\\"stroke:#000000; stroke-width:4; stroke-opacity:1; fill:none\\\" points=\\\"\\n  933.909,1486.45 933.909,1469.18 \\n  \\\"\\/>\\n<polyline clip-path=\\\"url(#clip420)\\\" style=\\\"stroke:#000000; stroke-width:4; stroke-opacity:1; fill:none\\\" points=\\\"\\n  1612.78,1486.45 1612.78,1469.18 \\n  \\\"\\/>\\n<polyline clip-path=\\\"url(#clip420)\\\" style=\\\"stroke:#000000; stroke-width:4; stroke-opacity:1; fill:none\\\" points=\\\"\\n  2291.66,1486.45 2291.66,1469.18 \\n  \\\"\\/>\\n<path clip-path=\\\"url(#clip420)\\\" d=\\\"M 0 0 M255.035 1515.64 Q251.424 1515.64 249.595 1519.2 Q247.789 1522.75 247.789 1529.87 Q247.789 1536.98 249.595 1540.55 Q251.424 1544.09 255.035 1544.09 Q258.669 1544.09 260.474 1540.55 Q262.303 1536.98 262.303 1529.87 Q262.303 1522.75 260.474 1519.2 Q258.669 1515.64 255.035 1515.64 M255.035 1511.93 Q260.845 1511.93 263.9 1516.54 Q266.979 1521.12 266.979 1529.87 Q266.979 1538.6 263.9 1543.21 Q260.845 1547.79 255.035 1547.79 Q249.225 1547.79 246.146 1543.21 Q243.09 1538.6 243.09 1529.87 Q243.09 1521.12 246.146 1516.54 Q249.225 1511.93 255.035 1511.93 Z\\\" fill=\\\"#000000\\\" fill-rule=\\\"evenodd\\\" fill-opacity=\\\"1\\\" \\/><path clip-path=\\\"url(#clip420)\\\" d=\\\"M 0 0 M908.596 1543.18 L916.235 1543.18 L916.235 1516.82 L907.925 1518.49 L907.925 1514.23 L916.189 1512.56 L920.865 1512.56 L920.865 1543.18 L928.504 1543.18 L928.504 1547.12 L908.596 1547.12 L908.596 1543.18 Z\\\" fill=\\\"#000000\\\" fill-rule=\\\"evenodd\\\" fill-opacity=\\\"1\\\" \\/><path clip-path=\\\"url(#clip420)\\\" d=\\\"M 0 0 M947.948 1515.64 Q944.337 1515.64 942.508 1519.2 Q940.703 1522.75 940.703 1529.87 Q940.703 1536.98 942.508 1540.55 Q944.337 1544.09 947.948 1544.09 Q951.582 1544.09 953.388 1540.55 Q955.217 1536.98 955.217 1529.87 Q955.217 1522.75 953.388 1519.2 Q951.582 1515.64 947.948 1515.64 M947.948 1511.93 Q953.758 1511.93 956.814 1516.54 Q959.893 1521.12 959.893 1529.87 Q959.893 1538.6 956.814 1543.21 Q953.758 1547.79 947.948 1547.79 Q942.138 1547.79 939.059 1543.21 Q936.004 1538.6 936.004 1529.87 Q936.004 1521.12 939.059 1516.54 Q942.138 1511.93 947.948 1511.93 Z\\\" fill=\\\"#000000\\\" fill-rule=\\\"evenodd\\\" fill-opacity=\\\"1\\\" \\/><path clip-path=\\\"url(#clip420)\\\" d=\\\"M 0 0 M1591.56 1543.18 L1607.88 1543.18 L1607.88 1547.12 L1585.93 1547.12 L1585.93 1543.18 Q1588.59 1540.43 1593.18 1535.8 Q1597.78 1531.15 1598.96 1529.81 Q1601.21 1527.28 1602.09 1525.55 Q1602.99 1523.79 1602.99 1522.1 Q1602.99 1519.34 1601.05 1517.61 Q1599.13 1515.87 1596.02 1515.87 Q1593.82 1515.87 1591.37 1516.63 Q1588.94 1517.4 1586.16 1518.95 L1586.16 1514.23 Q1588.99 1513.09 1591.44 1512.51 Q1593.89 1511.93 1595.93 1511.93 Q1601.3 1511.93 1604.5 1514.62 Q1607.69 1517.31 1607.69 1521.8 Q1607.69 1523.93 1606.88 1525.85 Q1606.09 1527.74 1603.99 1530.34 Q1603.41 1531.01 1600.31 1534.23 Q1597.2 1537.42 1591.56 1543.18 Z\\\" fill=\\\"#000000\\\" fill-rule=\\\"evenodd\\\" fill-opacity=\\\"1\\\" \\/><path clip-path=\\\"url(#clip420)\\\" d=\\\"M 0 0 M1627.69 1515.64 Q1624.08 1515.64 1622.25 1519.2 Q1620.45 1522.75 1620.45 1529.87 Q1620.45 1536.98 1622.25 1540.55 Q1624.08 1544.09 1627.69 1544.09 Q1631.32 1544.09 1633.13 1540.55 Q1634.96 1536.98 1634.96 1529.87 Q1634.96 1522.75 1633.13 1519.2 Q1631.32 1515.64 1627.69 1515.64 M1627.69 1511.93 Q1633.5 1511.93 1636.56 1516.54 Q1639.63 1521.12 1639.63 1529.87 Q1639.63 1538.6 1636.56 1543.21 Q1633.5 1547.79 1627.69 1547.79 Q1621.88 1547.79 1618.8 1543.21 Q1615.75 1538.6 1615.75 1529.87 Q1615.75 1521.12 1618.8 1516.54 Q1621.88 1511.93 1627.69 1511.93 Z\\\" fill=\\\"#000000\\\" fill-rule=\\\"evenodd\\\" fill-opacity=\\\"1\\\" \\/><path clip-path=\\\"url(#clip420)\\\" d=\\\"M 0 0 M2280.5 1528.49 Q2283.86 1529.2 2285.73 1531.47 Q2287.63 1533.74 2287.63 1537.07 Q2287.63 1542.19 2284.11 1544.99 Q2280.59 1547.79 2274.11 1547.79 Q2271.94 1547.79 2269.62 1547.35 Q2267.33 1546.93 2264.87 1546.08 L2264.87 1541.56 Q2266.82 1542.7 2269.13 1543.28 Q2271.45 1543.86 2273.97 1543.86 Q2278.37 1543.86 2280.66 1542.12 Q2282.98 1540.38 2282.98 1537.07 Q2282.98 1534.02 2280.82 1532.31 Q2278.69 1530.57 2274.87 1530.57 L2270.85 1530.57 L2270.85 1526.73 L2275.06 1526.73 Q2278.51 1526.73 2280.34 1525.36 Q2282.17 1523.97 2282.17 1521.38 Q2282.17 1518.72 2280.27 1517.31 Q2278.39 1515.87 2274.87 1515.87 Q2272.95 1515.87 2270.75 1516.29 Q2268.56 1516.7 2265.92 1517.58 L2265.92 1513.42 Q2268.58 1512.68 2270.89 1512.31 Q2273.23 1511.93 2275.29 1511.93 Q2280.62 1511.93 2283.72 1514.37 Q2286.82 1516.77 2286.82 1520.89 Q2286.82 1523.76 2285.18 1525.75 Q2283.53 1527.72 2280.5 1528.49 Z\\\" fill=\\\"#000000\\\" fill-rule=\\\"evenodd\\\" fill-opacity=\\\"1\\\" \\/><path clip-path=\\\"url(#clip420)\\\" d=\\\"M 0 0 M2306.5 1515.64 Q2302.88 1515.64 2301.06 1519.2 Q2299.25 1522.75 2299.25 1529.87 Q2299.25 1536.98 2301.06 1540.55 Q2302.88 1544.09 2306.5 1544.09 Q2310.13 1544.09 2311.93 1540.55 Q2313.76 1536.98 2313.76 1529.87 Q2313.76 1522.75 2311.93 1519.2 Q2310.13 1515.64 2306.5 1515.64 M2306.5 1511.93 Q2312.31 1511.93 2315.36 1516.54 Q2318.44 1521.12 2318.44 1529.87 Q2318.44 1538.6 2315.36 1543.21 Q2312.31 1547.79 2306.5 1547.79 Q2300.68 1547.79 2297.61 1543.21 Q2294.55 1538.6 2294.55 1529.87 Q2294.55 1521.12 2297.61 1516.54 Q2300.68 1511.93 2306.5 1511.93 Z\\\" fill=\\\"#000000\\\" fill-rule=\\\"evenodd\\\" fill-opacity=\\\"1\\\" \\/><polyline clip-path=\\\"url(#clip422)\\\" style=\\\"stroke:#000000; stroke-width:2; stroke-opacity:0.1; fill:none\\\" points=\\\"\\n  193.936,1464.07 2352.76,1464.07 \\n  \\\"\\/>\\n<polyline clip-path=\\\"url(#clip422)\\\" style=\\\"stroke:#000000; stroke-width:2; stroke-opacity:0.1; fill:none\\\" points=\\\"\\n  193.936,1119.91 2352.76,1119.91 \\n  \\\"\\/>\\n<polyline clip-path=\\\"url(#clip422)\\\" style=\\\"stroke:#000000; stroke-width:2; stroke-opacity:0.1; fill:none\\\" points=\\\"\\n  193.936,775.758 2352.76,775.758 \\n  \\\"\\/>\\n<polyline clip-path=\\\"url(#clip422)\\\" style=\\\"stroke:#000000; stroke-width:2; stroke-opacity:0.1; fill:none\\\" points=\\\"\\n  193.936,431.601 2352.76,431.601 \\n  \\\"\\/>\\n<polyline clip-path=\\\"url(#clip422)\\\" style=\\\"stroke:#000000; stroke-width:2; stroke-opacity:0.1; fill:none\\\" points=\\\"\\n  193.936,87.4453 2352.76,87.4453 \\n  \\\"\\/>\\n<polyline clip-path=\\\"url(#clip420)\\\" style=\\\"stroke:#000000; stroke-width:4; stroke-opacity:1; fill:none\\\" points=\\\"\\n  193.936,1486.45 193.936,47.2441 \\n  \\\"\\/>\\n<polyline clip-path=\\\"url(#clip420)\\\" style=\\\"stroke:#000000; stroke-width:4; stroke-opacity:1; fill:none\\\" points=\\\"\\n  193.936,1464.07 219.842,1464.07 \\n  \\\"\\/>\\n<polyline clip-path=\\\"url(#clip420)\\\" style=\\\"stroke:#000000; stroke-width:4; stroke-opacity:1; fill:none\\\" points=\\\"\\n  193.936,1119.91 219.842,1119.91 \\n  \\\"\\/>\\n<polyline clip-path=\\\"url(#clip420)\\\" style=\\\"stroke:#000000; stroke-width:4; stroke-opacity:1; fill:none\\\" points=\\\"\\n  193.936,775.758 219.842,775.758 \\n  \\\"\\/>\\n<polyline clip-path=\\\"url(#clip420)\\\" style=\\\"stroke:#000000; stroke-width:4; stroke-opacity:1; fill:none\\\" points=\\\"\\n  193.936,431.601 219.842,431.601 \\n  \\\"\\/>\\n<polyline clip-path=\\\"url(#clip420)\\\" style=\\\"stroke:#000000; stroke-width:4; stroke-opacity:1; fill:none\\\" points=\\\"\\n  193.936,87.4453 219.842,87.4453 \\n  \\\"\\/>\\n<path clip-path=\\\"url(#clip420)\\\" d=\\\"M 0 0 M50.9921 1464.52 L80.6679 1464.52 L80.6679 1468.46 L50.9921 1468.46 L50.9921 1464.52 Z\\\" fill=\\\"#000000\\\" fill-rule=\\\"evenodd\\\" fill-opacity=\\\"1\\\" \\/><path clip-path=\\\"url(#clip420)\\\" d=\\\"M 0 0 M91.5706 1477.41 L99.2095 1477.41 L99.2095 1451.05 L90.8993 1452.72 L90.8993 1448.46 L99.1632 1446.79 L103.839 1446.79 L103.839 1477.41 L111.478 1477.41 L111.478 1481.35 L91.5706 1481.35 L91.5706 1477.41 Z\\\" fill=\\\"#000000\\\" fill-rule=\\\"evenodd\\\" fill-opacity=\\\"1\\\" \\/><path clip-path=\\\"url(#clip420)\\\" d=\\\"M 0 0 M120.922 1475.47 L125.807 1475.47 L125.807 1481.35 L120.922 1481.35 L120.922 1475.47 Z\\\" fill=\\\"#000000\\\" fill-rule=\\\"evenodd\\\" fill-opacity=\\\"1\\\" \\/><path clip-path=\\\"url(#clip420)\\\" d=\\\"M 0 0 M145.992 1449.87 Q142.381 1449.87 140.552 1453.43 Q138.746 1456.98 138.746 1464.1 Q138.746 1471.21 140.552 1474.78 Q142.381 1478.32 145.992 1478.32 Q149.626 1478.32 151.431 1474.78 Q153.26 1471.21 153.26 1464.1 Q153.26 1456.98 151.431 1453.43 Q149.626 1449.87 145.992 1449.87 M145.992 1446.16 Q151.802 1446.16 154.857 1450.77 Q157.936 1455.35 157.936 1464.1 Q157.936 1472.83 154.857 1477.44 Q151.802 1482.02 145.992 1482.02 Q140.181 1482.02 137.103 1477.44 Q134.047 1472.83 134.047 1464.1 Q134.047 1455.35 137.103 1450.77 Q140.181 1446.16 145.992 1446.16 Z\\\" fill=\\\"#000000\\\" fill-rule=\\\"evenodd\\\" fill-opacity=\\\"1\\\" \\/><path clip-path=\\\"url(#clip420)\\\" d=\\\"M 0 0 M51.9875 1120.37 L81.6633 1120.37 L81.6633 1124.3 L51.9875 1124.3 L51.9875 1120.37 Z\\\" fill=\\\"#000000\\\" fill-rule=\\\"evenodd\\\" fill-opacity=\\\"1\\\" \\/><path clip-path=\\\"url(#clip420)\\\" d=\\\"M 0 0 M101.756 1105.71 Q98.1447 1105.71 96.316 1109.28 Q94.5104 1112.82 94.5104 1119.95 Q94.5104 1127.05 96.316 1130.62 Q98.1447 1134.16 101.756 1134.16 Q105.39 1134.16 107.196 1130.62 Q109.024 1127.05 109.024 1119.95 Q109.024 1112.82 107.196 1109.28 Q105.39 1105.71 101.756 1105.71 M101.756 1102.01 Q107.566 1102.01 110.621 1106.62 Q113.7 1111.2 113.7 1119.95 Q113.7 1128.68 110.621 1133.28 Q107.566 1137.87 101.756 1137.87 Q95.9456 1137.87 92.8669 1133.28 Q89.8114 1128.68 89.8114 1119.95 Q89.8114 1111.2 92.8669 1106.62 Q95.9456 1102.01 101.756 1102.01 Z\\\" fill=\\\"#000000\\\" fill-rule=\\\"evenodd\\\" fill-opacity=\\\"1\\\" \\/><path clip-path=\\\"url(#clip420)\\\" d=\\\"M 0 0 M121.918 1131.31 L126.802 1131.31 L126.802 1137.19 L121.918 1137.19 L121.918 1131.31 Z\\\" fill=\\\"#000000\\\" fill-rule=\\\"evenodd\\\" fill-opacity=\\\"1\\\" \\/><path clip-path=\\\"url(#clip420)\\\" d=\\\"M 0 0 M137.033 1102.63 L155.39 1102.63 L155.39 1106.57 L141.316 1106.57 L141.316 1115.04 Q142.334 1114.69 143.353 1114.53 Q144.371 1114.35 145.39 1114.35 Q151.177 1114.35 154.556 1117.52 Q157.936 1120.69 157.936 1126.11 Q157.936 1131.68 154.464 1134.79 Q150.992 1137.87 144.672 1137.87 Q142.496 1137.87 140.228 1137.49 Q137.982 1137.12 135.575 1136.38 L135.575 1131.68 Q137.658 1132.82 139.881 1133.37 Q142.103 1133.93 144.58 1133.93 Q148.584 1133.93 150.922 1131.82 Q153.26 1129.72 153.26 1126.11 Q153.26 1122.49 150.922 1120.39 Q148.584 1118.28 144.58 1118.28 Q142.705 1118.28 140.83 1118.7 Q138.978 1119.12 137.033 1119.99 L137.033 1102.63 Z\\\" fill=\\\"#000000\\\" fill-rule=\\\"evenodd\\\" fill-opacity=\\\"1\\\" \\/><path clip-path=\\\"url(#clip420)\\\" d=\\\"M 0 0 M100.76 761.556 Q97.1493 761.556 95.3206 765.121 Q93.515 768.663 93.515 775.792 Q93.515 782.899 95.3206 786.464 Q97.1493 790.005 100.76 790.005 Q104.395 790.005 106.2 786.464 Q108.029 782.899 108.029 775.792 Q108.029 768.663 106.2 765.121 Q104.395 761.556 100.76 761.556 M100.76 757.853 Q106.571 757.853 109.626 762.459 Q112.705 767.042 112.705 775.792 Q112.705 784.519 109.626 789.126 Q106.571 793.709 100.76 793.709 Q94.9502 793.709 91.8715 789.126 Q88.816 784.519 88.816 775.792 Q88.816 767.042 91.8715 762.459 Q94.9502 757.853 100.76 757.853 Z\\\" fill=\\\"#000000\\\" fill-rule=\\\"evenodd\\\" fill-opacity=\\\"1\\\" \\/><path clip-path=\\\"url(#clip420)\\\" d=\\\"M 0 0 M120.922 787.158 L125.807 787.158 L125.807 793.038 L120.922 793.038 L120.922 787.158 Z\\\" fill=\\\"#000000\\\" fill-rule=\\\"evenodd\\\" fill-opacity=\\\"1\\\" \\/><path clip-path=\\\"url(#clip420)\\\" d=\\\"M 0 0 M145.992 761.556 Q142.381 761.556 140.552 765.121 Q138.746 768.663 138.746 775.792 Q138.746 782.899 140.552 786.464 Q142.381 790.005 145.992 790.005 Q149.626 790.005 151.431 786.464 Q153.26 782.899 153.26 775.792 Q153.26 768.663 151.431 765.121 Q149.626 761.556 145.992 761.556 M145.992 757.853 Q151.802 757.853 154.857 762.459 Q157.936 767.042 157.936 775.792 Q157.936 784.519 154.857 789.126 Q151.802 793.709 145.992 793.709 Q140.181 793.709 137.103 789.126 Q134.047 784.519 134.047 775.792 Q134.047 767.042 137.103 762.459 Q140.181 757.853 145.992 757.853 Z\\\" fill=\\\"#000000\\\" fill-rule=\\\"evenodd\\\" fill-opacity=\\\"1\\\" \\/><path clip-path=\\\"url(#clip420)\\\" d=\\\"M 0 0 M101.756 417.4 Q98.1447 417.4 96.316 420.965 Q94.5104 424.507 94.5104 431.636 Q94.5104 438.743 96.316 442.307 Q98.1447 445.849 101.756 445.849 Q105.39 445.849 107.196 442.307 Q109.024 438.743 109.024 431.636 Q109.024 424.507 107.196 420.965 Q105.39 417.4 101.756 417.4 M101.756 413.696 Q107.566 413.696 110.621 418.303 Q113.7 422.886 113.7 431.636 Q113.7 440.363 110.621 444.969 Q107.566 449.553 101.756 449.553 Q95.9456 449.553 92.8669 444.969 Q89.8114 440.363 89.8114 431.636 Q89.8114 422.886 92.8669 418.303 Q95.9456 413.696 101.756 413.696 Z\\\" fill=\\\"#000000\\\" fill-rule=\\\"evenodd\\\" fill-opacity=\\\"1\\\" \\/><path clip-path=\\\"url(#clip420)\\\" d=\\\"M 0 0 M121.918 443.002 L126.802 443.002 L126.802 448.881 L121.918 448.881 L121.918 443.002 Z\\\" fill=\\\"#000000\\\" fill-rule=\\\"evenodd\\\" fill-opacity=\\\"1\\\" \\/><path clip-path=\\\"url(#clip420)\\\" d=\\\"M 0 0 M137.033 414.321 L155.39 414.321 L155.39 418.257 L141.316 418.257 L141.316 426.729 Q142.334 426.382 143.353 426.22 Q144.371 426.034 145.39 426.034 Q151.177 426.034 154.556 429.206 Q157.936 432.377 157.936 437.794 Q157.936 443.372 154.464 446.474 Q150.992 449.553 144.672 449.553 Q142.496 449.553 140.228 449.182 Q137.982 448.812 135.575 448.071 L135.575 443.372 Q137.658 444.506 139.881 445.062 Q142.103 445.618 144.58 445.618 Q148.584 445.618 150.922 443.511 Q153.26 441.405 153.26 437.794 Q153.26 434.182 150.922 432.076 Q148.584 429.97 144.58 429.97 Q142.705 429.97 140.83 430.386 Q138.978 430.803 137.033 431.682 L137.033 414.321 Z\\\" fill=\\\"#000000\\\" fill-rule=\\\"evenodd\\\" fill-opacity=\\\"1\\\" \\/><path clip-path=\\\"url(#clip420)\\\" d=\\\"M 0 0 M91.5706 100.79 L99.2095 100.79 L99.2095 74.4246 L90.8993 76.0912 L90.8993 71.832 L99.1632 70.1653 L103.839 70.1653 L103.839 100.79 L111.478 100.79 L111.478 104.725 L91.5706 104.725 L91.5706 100.79 Z\\\" fill=\\\"#000000\\\" fill-rule=\\\"evenodd\\\" fill-opacity=\\\"1\\\" \\/><path clip-path=\\\"url(#clip420)\\\" d=\\\"M 0 0 M120.922 98.8457 L125.807 98.8457 L125.807 104.725 L120.922 104.725 L120.922 98.8457 Z\\\" fill=\\\"#000000\\\" fill-rule=\\\"evenodd\\\" fill-opacity=\\\"1\\\" \\/><path clip-path=\\\"url(#clip420)\\\" d=\\\"M 0 0 M145.992 73.244 Q142.381 73.244 140.552 76.8088 Q138.746 80.3505 138.746 87.4801 Q138.746 94.5865 140.552 98.1513 Q142.381 101.693 145.992 101.693 Q149.626 101.693 151.431 98.1513 Q153.26 94.5865 153.26 87.4801 Q153.26 80.3505 151.431 76.8088 Q149.626 73.244 145.992 73.244 M145.992 69.5403 Q151.802 69.5403 154.857 74.1468 Q157.936 78.7301 157.936 87.4801 Q157.936 96.2069 154.857 100.813 Q151.802 105.397 145.992 105.397 Q140.181 105.397 137.103 100.813 Q134.047 96.2069 134.047 87.4801 Q134.047 78.7301 137.103 74.1468 Q140.181 69.5403 145.992 69.5403 Z\\\" fill=\\\"#000000\\\" fill-rule=\\\"evenodd\\\" fill-opacity=\\\"1\\\" \\/><polyline clip-path=\\\"url(#clip422)\\\" style=\\\"stroke:#009af9; stroke-width:4; stroke-opacity:1; fill:none\\\" points=\\\"\\n  255.035,775.758 261.823,744.335 268.612,673.85 275.401,621.885 282.19,645.752 288.978,766.121 295.767,948.158 302.556,1111.66 309.345,1167.19 316.133,1061.74 \\n  322.922,811.346 329.711,503.161 336.5,263.29 343.288,202.895 350.077,366.417 356.866,706.088 363.655,1096.03 370.443,1381.71 377.232,1444.31 384.021,1252.14 \\n  390.81,876.147 397.598,462.163 404.387,171.235 411.176,113.568 417.964,304.355 424.753,660.056 431.542,1035.89 438.331,1287.45 445.119,1329.29 451.908,1165.7 \\n  458.697,881.761 465.486,601.084 472.274,430.495 479.063,417.064 485.852,535.48 492.641,709.022 499.429,851.651 506.218,909.726 513.007,883.363 519.796,818.518 \\n  526.584,775.758 533.373,793.168 540.162,863.296 546.951,936.441 553.739,948.813 560.528,860.946 567.317,685.902 574.106,491.231 580.894,371.457 587.683,402.79 \\n  594.472,601.606 601.261,907.819 608.049,1203.55 614.838,1361.05 621.627,1299.47 628.415,1024.87 635.204,633.87 641.993,277.604 648.782,100.052 655.57,177.118 \\n  662.359,483.131 669.148,899.88 675.937,1264.81 682.725,1437.84 689.514,1358.18 696.303,1066.99 703.092,686.962 709.88,368.771 716.669,228.25 723.458,301.657 \\n  730.247,537.182 737.035,824.255 743.824,1045.47 750.613,1126.72 757.402,1063.47 764.19,913.187 770.979,760.433 777.768,673.092 784.557,671.61 791.345,725.298 \\n  798.134,775.758 804.923,773.84 811.712,710.036 818.5,621.935 825.289,574.378 832.078,622.265 838.866,775.422 845.655,984.7 852.444,1158.52 859.233,1203.97 \\n  866.021,1073.66 872.81,795.468 879.599,469.037 886.388,227.844 893.176,182.227 899.965,368.398 906.754,727.19 913.543,1123.73 920.331,1401.12 927.12,1445.72 \\n  933.909,1235.72 940.698,851.668 947.486,443.789 954.275,170.113 961.064,131.869 967.853,333.783 974.641,685.658 981.43,1043.41 988.219,1270.65 995.008,1293.68 \\n  1001.8,1126.61 1008.59,857.563 1015.37,604.544 1022.16,462.381 1028.95,465.097 1035.74,579.328 1042.53,729.209 1049.32,838.385 1056.11,867.586 1062.89,829.624 \\n  1069.68,775.758 1076.47,762.019 1083.26,814.069 1090.05,909.631 1096.84,988.328 1103.63,984.494 1110.42,866.256 1117.2,660.177 1123.99,447.094 1130.78,328.735 \\n  1137.57,379.461 1144.36,605.952 1151.15,935.307 1157.94,1239.68 1164.73,1388.6 1171.51,1306.7 1178.3,1010.65 1185.09,607.58 1191.88,253.953 1198.67,91.4858 \\n  1205.46,187.592 1212.25,506.273 1219.04,922.397 1225.82,1273.43 1232.61,1426.32 1239.4,1330.87 1246.19,1037.09 1252.98,670.219 1259.77,375.591 1266.56,258.081 \\n  1273.35,342.489 1280.13,570.61 1286.92,833.904 1293.71,1024.88 1300.5,1082.94 1307.29,1014.47 1314.08,880.218 1320.87,758.497 1327.66,704.062 1334.44,723.069 \\n  1341.23,775.758 1348.02,803.983 1354.81,768.115 1361.6,673.225 1368.39,570.084 1375.18,529.539 1381.97,602.797 1388.75,788.142 1395.54,1022.35 1402.33,1203.55 \\n  1409.12,1236.73 1415.91,1081.21 1422.7,776.955 1429.49,435.308 1436.28,195.747 1443.06,166.403 1449.85,374.53 1456.64,749.834 1463.43,1149.61 1470.22,1416.12 \\n  1477.01,1442.08 1483.8,1215.89 1490.59,826.925 1497.37,428.403 1504.16,173.868 1510.95,154.736 1517.74,365.436 1524.53,710.206 1531.32,1047.15 1538.11,1249.14 \\n  1544.9,1254.58 1551.68,1086.79 1558.47,835.625 1565.26,612.086 1572.05,498.197 1578.84,515.066 1585.63,622.273 1592.42,746.183 1599.21,821.22 1605.99,822.786 \\n  1612.78,775.758 1619.57,735.446 1626.36,752.08 1633.15,838.226 1639.94,957.034 1646.73,1038.51 1653.52,1016.46 1660.3,867.623 1667.09,632.212 1673.88,403.587 \\n  1680.67,289.327 1687.46,360.649 1694.25,613.915 1701.04,963.771 1707.83,1273.58 1714.61,1411.67 1721.4,1309.18 1728.19,993.577 1734.98,581.672 1741.77,233.79 \\n  1748.56,87.9763 1755.35,202.432 1762.14,531.137 1768.92,943.239 1775.71,1277.76 1782.5,1409.85 1789.29,1300.16 1796.08,1006.82 1802.87,656.23 1809.66,386.948 \\n  1816.45,292.122 1823.23,385.301 1830.02,602.969 1836.81,840.051 1843.6,1000.08 1850.39,1036.24 1857.18,965.207 1863.97,849.652 1870.76,760.397 1877.54,738.391 \\n  1884.33,775.758 1891.12,824.725 1897.91,828.74 1904.7,758.669 1911.49,634.303 1918.28,518.83 1925.07,487.787 1931.85,587.458 1938.64,804.039 1945.43,1060.64 \\n  1952.22,1246.25 1959.01,1265.2 1965.8,1084.47 1972.59,756.179 1979.38,402.474 1986.16,167.39 1992.95,155.522 1999.74,384.576 2006.53,773.565 2013.32,1173.21 \\n  2020.11,1426.48 2026.9,1433.5 2033.69,1193.02 2040.47,802.401 2047.26,416.361 2054.05,182.556 2060.84,181.896 2067.63,398.841 2074.42,733.249 2081.21,1046.91 \\n  2087.99,1223.05 2094.78,1212.41 2101.57,1046.76 2108.36,816.312 2115.15,623.755 2121.94,537.643 2128.73,566.463 2135.52,663.832 2142.3,759.71 2149.09,800.283 \\n  2155.88,775.758 2162.67,722.301 2169.46,697.978 2176.25,746.013 2183.04,865.355 2189.83,1005 2196.61,1086.49 2203.4,1044.47 2210.19,865.147 2216.98,602.412 \\n  2223.77,361.227 2230.56,253.622 2237.35,346.434 2244.14,625.237 2250.92,992.737 2257.71,1304.81 2264.5,1430.03 2271.29,1307.02 2278.08,974.042 2284.87,556.629 \\n  2291.66,217.466 \\n  \\\"\\/>\\n<path clip-path=\\\"url(#clip420)\\\" d=\\\"\\nM1988.5 216.178 L2280.8 216.178 L2280.8 95.2176 L1988.5 95.2176  Z\\n  \\\" fill=\\\"#ffffff\\\" fill-rule=\\\"evenodd\\\" fill-opacity=\\\"1\\\"\\/>\\n<polyline clip-path=\\\"url(#clip420)\\\" style=\\\"stroke:#000000; stroke-width:4; stroke-opacity:1; fill:none\\\" points=\\\"\\n  1988.5,216.178 2280.8,216.178 2280.8,95.2176 1988.5,95.2176 1988.5,216.178 \\n  \\\"\\/>\\n<polyline clip-path=\\\"url(#clip420)\\\" style=\\\"stroke:#009af9; stroke-width:4; stroke-opacity:1; fill:none\\\" points=\\\"\\n  2012.48,155.698 2156.4,155.698 \\n  \\\"\\/>\\n<path clip-path=\\\"url(#clip420)\\\" d=\\\"M 0 0 M2194.23 175.385 Q2192.43 180.015 2190.72 181.427 Q2189 182.839 2186.13 182.839 L2182.73 182.839 L2182.73 179.274 L2185.23 179.274 Q2186.99 179.274 2187.96 178.44 Q2188.93 177.607 2190.11 174.505 L2190.88 172.561 L2180.39 147.052 L2184.91 147.052 L2193.01 167.329 L2201.11 147.052 L2205.62 147.052 L2194.23 175.385 Z\\\" fill=\\\"#000000\\\" fill-rule=\\\"evenodd\\\" fill-opacity=\\\"1\\\" \\/><path clip-path=\\\"url(#clip420)\\\" d=\\\"M 0 0 M2212.91 169.042 L2220.55 169.042 L2220.55 142.677 L2212.24 144.343 L2212.24 140.084 L2220.51 138.418 L2225.18 138.418 L2225.18 169.042 L2232.82 169.042 L2232.82 172.978 L2212.91 172.978 L2212.91 169.042 Z\\\" fill=\\\"#000000\\\" fill-rule=\\\"evenodd\\\" fill-opacity=\\\"1\\\" \\/><\\/svg>\\n\"},\"nodeType\":\"DOM\",\"type\":\"node\",\"instanceArgs\":{\"namespace\":\"html\",\"tag\":\"div\"},\"children\":[]}]}}}},\"children\":[{\"props\":{},\"nodeType\":\"ObservableNode\",\"type\":\"node\",\"instanceArgs\":{\"id\":\"12603119789676642214\",\"name\":\"obs-node\"},\"children\":[]}]}]},\n",
       "            window,\n",
       "        );\n",
       "    } else {\n",
       "        document\n",
       "            .querySelector('[data-webio-mountpoint=\"16895113400282857865\"]')\n",
       "            .innerHTML = (\n",
       "                '<div style=\"padding: 1em; background-color: #f8d6da; border: 1px solid #f5c6cb\">' +\n",
       "                '<p><strong>WebIO not detected.</strong></p>' +\n",
       "                '<p>Please read ' +\n",
       "                '<a href=\"https://juliagizmos.github.io/WebIO.jl/latest/troubleshooting/not-detected/\" target=\"_blank\">the troubleshooting guide</a> ' +\n",
       "                'for more information on how to resolve this issue.</p>' +\n",
       "                '<p><a href=\"https://juliagizmos.github.io/WebIO.jl/latest/troubleshooting/not-detected/\" target=\"_blank\">https://juliagizmos.github.io/WebIO.jl/latest/troubleshooting/not-detected/</a></p>' +\n",
       "                '</div>'\n",
       "            );\n",
       "    }\n",
       "    </script>\n",
       "</div>\n"
      ],
      "text/plain": [
       "Node{WebIO.DOM}(WebIO.DOM(:html, :div), Any[Node{WebIO.DOM}(WebIO.DOM(:html, :div), Any[Scope(Node{WebIO.DOM}(WebIO.DOM(:html, :div), Any[Node{WebIO.DOM}(WebIO.DOM(:html, :div), Any[Node{WebIO.DOM}(WebIO.DOM(:html, :label), Any[\"freq1\"], Dict{Symbol, Any}(:className => \"interact \", :style => Dict{Any, Any}(:padding => \"5px 10px 0px 10px\")))], Dict{Symbol, Any}(:className => \"interact-flex-row-left\")), Node{WebIO.DOM}(WebIO.DOM(:html, :div), Any[Node{WebIO.DOM}(WebIO.DOM(:html, :div), Any[Node{WebIO.DOM}(WebIO.DOM(:html, :span), Any[Node{WebIO.DOM}(WebIO.DOM(:html, :label), Any[], Dict{Symbol, Any}(:attributes => Dict(\"data-bind\" => \"text : key\")))], Dict{Symbol, Any}(:attributes => Dict(\"data-bind\" => \"click: function (){\\$root.update(val)}, css: {'is-primary is-selected' : \\$root.index() == val, 'interact-widget is-medium button ' : true}\")))], Dict{Symbol, Any}(:attributes => (\"data-bind\" => \"foreach : options_js\"), :className => \"buttons has-addons is-centered\"))], Dict{Symbol, Any}(:className => \"interact-flex-row-center\")), Node{WebIO.DOM}(WebIO.DOM(:html, :div), Any[Node{WebIO.DOM}(WebIO.DOM(:html, :div), Any[], Dict{Symbol, Any}())], Dict{Symbol, Any}(:className => \"interact-flex-row-right\"))], Dict{Symbol, Any}(:className => \"interact-flex-row interact-widget\")), Dict{String, Tuple{Observables.AbstractObservable, Union{Nothing, Bool}}}(\"options_js\" => (Observable{Any} with 1 listeners. Value:\n",
       "OrderedDict[OrderedDict{String, Any}(\"key\" => \"pi/4\", \"val\" => 1, \"id\" => \"idVFkCQm3G\"), OrderedDict{String, Any}(\"key\" => \"π/2\", \"val\" => 2, \"id\" => \"idtopuiEEH\"), OrderedDict{String, Any}(\"key\" => \"3π/4\", \"val\" => 3, \"id\" => \"idVZCe0naT\"), OrderedDict{String, Any}(\"key\" => \"π\", \"val\" => 4, \"id\" => \"idlxaTrVod\")], nothing), \"index\" => (Observable{Any} with 2 listeners. Value:\n",
       "1, nothing)), Set{String}(), nothing, Asset[Asset(\"js\", \"knockout\", \"/Users/johnsmith/.julia/packages/Knockout/IP1uR/src/../assets/knockout.js\"), Asset(\"js\", \"knockout_punches\", \"/Users/johnsmith/.julia/packages/Knockout/IP1uR/src/../assets/knockout_punches.js\"), Asset(\"js\", nothing, \"/Users/johnsmith/.julia/packages/InteractBase/Zfu5P/src/../assets/all.js\"), Asset(\"css\", nothing, \"/Users/johnsmith/.julia/packages/InteractBase/Zfu5P/src/../assets/style.css\"), Asset(\"css\", nothing, \"/Users/johnsmith/.julia/packages/Interact/SbgIk/src/../assets/bulma_confined.min.css\")], Dict{Any, Any}(\"options_js\" => Any[WebIO.JSString(\"(function (val){return (val!=this.model[\\\"options_js\\\"]()) ? (this.valueFromJulia[\\\"options_js\\\"]=true, this.model[\\\"options_js\\\"](val)) : undefined})\")], \"index\" => Any[WebIO.JSString(\"(function (val){return (val!=this.model[\\\"index\\\"]()) ? (this.valueFromJulia[\\\"index\\\"]=true, this.model[\\\"index\\\"](val)) : undefined})\")]), WebIO.ConnectionPool(Channel{Any}(32), Set{AbstractConnection}(), Condition(Base.InvasiveLinkedList{Task}(Task (runnable) @0x000000013e11b200, Task (runnable) @0x000000013e11b200), Base.AlwaysLockedST(1))), WebIO.JSString[WebIO.JSString(\"function () {\\n    var handler = (function (ko, koPunches) {\\n    ko.punches.enableAll();\\n    ko.bindingHandlers.numericValue = {\\n        init: function(element, valueAccessor, allBindings, data, context) {\\n            var stringified = ko.observable(ko.unwrap(valueAccessor()));\\n            stringified.subscribe(function(value) {\\n                var val = parseFloat(value);\\n                if (!isNaN(val)) {\\n                    valueAccessor()(val);\\n                }\\n            });\\n            valueAccessor().subscribe(function(value) {\\n                var str = JSON.stringify(value);\\n                if ((str == \\\"0\\\") && ([\\\"-0\\\", \\\"-0.\\\"].indexOf(stringified()) >= 0))\\n                     return;\\n                 if ([\\\"null\\\", \\\"\\\"].indexOf(str) >= 0)\\n                     return;\\n                stringified(str);\\n            });\\n            ko.applyBindingsToNode(\\n                element,\\n                {\\n                    value: stringified,\\n                    valueUpdate: allBindings.get('valueUpdate'),\\n                },\\n                context,\\n            );\\n        }\\n    };\\n    var json_data = {\\\"options_js\\\":WebIO.getval({\\\"name\\\":\\\"options_js\\\",\\\"scope\\\":\\\"8562977002637541790\\\",\\\"id\\\":\\\"2215283445534381744\\\",\\\"type\\\":\\\"observable\\\"}),\\\"index\\\":WebIO.getval({\\\"name\\\":\\\"index\\\",\\\"scope\\\":\\\"8562977002637541790\\\",\\\"id\\\":\\\"9479403632538268262\\\",\\\"type\\\":\\\"observable\\\"})};\\n    var self = this;\\n    function AppViewModel() {\\n        for (var key in json_data) {\\n            var el = json_data[key];\\n            this[key] = Array.isArray(el) ? ko.observableArray(el) : ko.observable(el);\\n        }\\n        [this[\\\"update\\\"]=function (val) {this.index(val)}]\\n        \\n        [this[\\\"options_js\\\"].subscribe((function (val){!(this.valueFromJulia[\\\"options_js\\\"]) ? (WebIO.setval({\\\"name\\\":\\\"options_js\\\",\\\"scope\\\":\\\"8562977002637541790\\\",\\\"id\\\":\\\"2215283445534381744\\\",\\\"type\\\":\\\"observable\\\"},val)) : undefined; return this.valueFromJulia[\\\"options_js\\\"]=false}),self),this[\\\"index\\\"].subscribe((function (val){!(this.valueFromJulia[\\\"index\\\"]) ? (WebIO.setval({\\\"name\\\":\\\"index\\\",\\\"scope\\\":\\\"8562977002637541790\\\",\\\"id\\\":\\\"9479403632538268262\\\",\\\"type\\\":\\\"observable\\\"},val)) : undefined; return this.valueFromJulia[\\\"index\\\"]=false}),self)]\\n        \\n    }\\n    self.model = new AppViewModel();\\n    self.valueFromJulia = {};\\n    for (var key in json_data) {\\n        self.valueFromJulia[key] = false;\\n    }\\n    ko.applyBindings(self.model, self.dom);\\n}\\n);\\n    (WebIO.importBlock({\\\"data\\\":[{\\\"name\\\":\\\"knockout\\\",\\\"type\\\":\\\"js\\\",\\\"url\\\":\\\"/assetserver/0fc6d61518197b1bf9b23217e9be1d2e00f2bb14-knockout.js\\\"},{\\\"name\\\":\\\"knockout_punches\\\",\\\"type\\\":\\\"js\\\",\\\"url\\\":\\\"/assetserver/24c12264eef2b01f723a21985ba5661f5564d7cf-knockout_punches.js\\\"}],\\\"type\\\":\\\"async_block\\\"})).then((imports) => handler.apply(this, imports));\\n}\\n\")])], Dict{Symbol, Any}(:className => \"interact-widget\")), Node{WebIO.DOM}(WebIO.DOM(:html, :div), Any[Scope(Node{WebIO.DOM}(WebIO.DOM(:html, :div), Any[Node{WebIO.DOM}(WebIO.DOM(:html, :div), Any[Node{WebIO.DOM}(WebIO.DOM(:html, :label), Any[\"freq2\"], Dict{Symbol, Any}(:className => \"interact \", :style => Dict{Any, Any}(:padding => \"5px 10px 0px 10px\")))], Dict{Symbol, Any}(:className => \"interact-flex-row-left\")), Node{WebIO.DOM}(WebIO.DOM(:html, :div), Any[Node{WebIO.DOM}(WebIO.DOM(:html, :input), Any[], Dict{Symbol, Any}(:max => 126, :min => 1, :attributes => Dict{Any, Any}(:type => \"range\", Symbol(\"data-bind\") => \"numericValue: index, valueUpdate: 'input', event: {change: function (){this.changes(this.changes()+1)}}\", \"orient\" => \"horizontal\"), :step => 1, :className => \"slider slider is-fullwidth\", :style => Dict{Any, Any}()))], Dict{Symbol, Any}(:className => \"interact-flex-row-center\")), Node{WebIO.DOM}(WebIO.DOM(:html, :div), Any[Node{WebIO.DOM}(WebIO.DOM(:html, :p), Any[], Dict{Symbol, Any}(:attributes => Dict(\"data-bind\" => \"text: formatted_val\")))], Dict{Symbol, Any}(:className => \"interact-flex-row-right\"))], Dict{Symbol, Any}(:className => \"interact-flex-row interact-widget\")), Dict{String, Tuple{Observables.AbstractObservable, Union{Nothing, Bool}}}(\"changes\" => (Observable{Int64} with 1 listeners. Value:\n",
       "0, nothing), \"index\" => (Observable{Any} with 2 listeners. Value:\n",
       "63, nothing)), Set{String}(), nothing, Asset[Asset(\"js\", \"knockout\", \"/Users/johnsmith/.julia/packages/Knockout/IP1uR/src/../assets/knockout.js\"), Asset(\"js\", \"knockout_punches\", \"/Users/johnsmith/.julia/packages/Knockout/IP1uR/src/../assets/knockout_punches.js\"), Asset(\"js\", nothing, \"/Users/johnsmith/.julia/packages/InteractBase/Zfu5P/src/../assets/all.js\"), Asset(\"css\", nothing, \"/Users/johnsmith/.julia/packages/InteractBase/Zfu5P/src/../assets/style.css\"), Asset(\"css\", nothing, \"/Users/johnsmith/.julia/packages/Interact/SbgIk/src/../assets/bulma_confined.min.css\")], Dict{Any, Any}(\"changes\" => Any[WebIO.JSString(\"(function (val){return (val!=this.model[\\\"changes\\\"]()) ? (this.valueFromJulia[\\\"changes\\\"]=true, this.model[\\\"changes\\\"](val)) : undefined})\")], \"index\" => Any[WebIO.JSString(\"(function (val){return (val!=this.model[\\\"index\\\"]()) ? (this.valueFromJulia[\\\"index\\\"]=true, this.model[\\\"index\\\"](val)) : undefined})\")]), WebIO.ConnectionPool(Channel{Any}(32), Set{AbstractConnection}(), Condition(Base.InvasiveLinkedList{Task}(Task (runnable) @0x00000001417f9aa0, Task (runnable) @0x00000001417f9aa0), Base.AlwaysLockedST(1))), WebIO.JSString[WebIO.JSString(\"function () {\\n    var handler = (function (ko, koPunches) {\\n    ko.punches.enableAll();\\n    ko.bindingHandlers.numericValue = {\\n        init: function(element, valueAccessor, allBindings, data, context) {\\n            var stringified = ko.observable(ko.unwrap(valueAccessor()));\\n            stringified.subscribe(function(value) {\\n                var val = parseFloat(value);\\n                if (!isNaN(val)) {\\n                    valueAccessor()(val);\\n                }\\n            });\\n            valueAccessor().subscribe(function(value) {\\n                var str = JSON.stringify(value);\\n                if ((str == \\\"0\\\") && ([\\\"-0\\\", \\\"-0.\\\"].indexOf(stringified()) >= 0))\\n                     return;\\n                 if ([\\\"null\\\", \\\"\\\"].indexOf(str) >= 0)\\n                     return;\\n                stringified(str);\\n            });\\n            ko.applyBindingsToNode(\\n                element,\\n                {\\n                    value: stringified,\\n                    valueUpdate: allBindings.get('valueUpdate'),\\n                },\\n                context,\\n            );\\n        }\\n    };\\n    var json_data = {\\\"formatted_vals\\\":[\\\"0.01\\\",\\\"0.11\\\",\\\"0.21\\\",\\\"0.31\\\",\\\"0.41\\\",\\\"0.51\\\",\\\"0.61\\\",\\\"0.71\\\",\\\"0.81\\\",\\\"0.91\\\",\\\"1.01\\\",\\\"1.11\\\",\\\"1.21\\\",\\\"1.31\\\",\\\"1.41\\\",\\\"1.51\\\",\\\"1.61\\\",\\\"1.71\\\",\\\"1.81\\\",\\\"1.91\\\",\\\"2.01\\\",\\\"2.11\\\",\\\"2.21\\\",\\\"2.31\\\",\\\"2.41\\\",\\\"2.51\\\",\\\"2.61\\\",\\\"2.71\\\",\\\"2.81\\\",\\\"2.91\\\",\\\"3.01\\\",\\\"3.11\\\",\\\"3.21\\\",\\\"3.31\\\",\\\"3.41\\\",\\\"3.51\\\",\\\"3.61\\\",\\\"3.71\\\",\\\"3.81\\\",\\\"3.91\\\",\\\"4.01\\\",\\\"4.11\\\",\\\"4.21\\\",\\\"4.31\\\",\\\"4.41\\\",\\\"4.51\\\",\\\"4.61\\\",\\\"4.71\\\",\\\"4.81\\\",\\\"4.91\\\",\\\"5.01\\\",\\\"5.11\\\",\\\"5.21\\\",\\\"5.31\\\",\\\"5.41\\\",\\\"5.51\\\",\\\"5.61\\\",\\\"5.71\\\",\\\"5.81\\\",\\\"5.91\\\",\\\"6.01\\\",\\\"6.11\\\",\\\"6.21\\\",\\\"6.31\\\",\\\"6.41\\\",\\\"6.51\\\",\\\"6.61\\\",\\\"6.71\\\",\\\"6.81\\\",\\\"6.91\\\",\\\"7.01\\\",\\\"7.11\\\",\\\"7.21\\\",\\\"7.31\\\",\\\"7.41\\\",\\\"7.51\\\",\\\"7.61\\\",\\\"7.71\\\",\\\"7.81\\\",\\\"7.91\\\",\\\"8.01\\\",\\\"8.11\\\",\\\"8.21\\\",\\\"8.31\\\",\\\"8.41\\\",\\\"8.51\\\",\\\"8.61\\\",\\\"8.71\\\",\\\"8.81\\\",\\\"8.91\\\",\\\"9.01\\\",\\\"9.11\\\",\\\"9.21\\\",\\\"9.31\\\",\\\"9.41\\\",\\\"9.51\\\",\\\"9.61\\\",\\\"9.71\\\",\\\"9.81\\\",\\\"9.91\\\",\\\"10.01\\\",\\\"10.11\\\",\\\"10.21\\\",\\\"10.31\\\",\\\"10.41\\\",\\\"10.51\\\",\\\"10.61\\\",\\\"10.71\\\",\\\"10.81\\\",\\\"10.91\\\",\\\"11.01\\\",\\\"11.11\\\",\\\"11.21\\\",\\\"11.31\\\",\\\"11.41\\\",\\\"11.51\\\",\\\"11.61\\\",\\\"11.71\\\",\\\"11.81\\\",\\\"11.91\\\",\\\"12.01\\\",\\\"12.11\\\",\\\"12.21\\\",\\\"12.31\\\",\\\"12.41\\\",\\\"12.51\\\"],\\\"changes\\\":WebIO.getval({\\\"name\\\":\\\"changes\\\",\\\"scope\\\":\\\"3018211039351821703\\\",\\\"id\\\":\\\"6088657101389601908\\\",\\\"type\\\":\\\"observable\\\"}),\\\"index\\\":WebIO.getval({\\\"name\\\":\\\"index\\\",\\\"scope\\\":\\\"3018211039351821703\\\",\\\"id\\\":\\\"17121446395788861381\\\",\\\"type\\\":\\\"observable\\\"})};\\n    var self = this;\\n    function AppViewModel() {\\n        for (var key in json_data) {\\n            var el = json_data[key];\\n            this[key] = Array.isArray(el) ? ko.observableArray(el) : ko.observable(el);\\n        }\\n        \\n        [this[\\\"formatted_val\\\"]=ko.computed(    function(){\\n        return this.formatted_vals()[parseInt(this.index())-(1)];\\n    }\\n,this)]\\n        [this[\\\"changes\\\"].subscribe((function (val){!(this.valueFromJulia[\\\"changes\\\"]) ? (WebIO.setval({\\\"name\\\":\\\"changes\\\",\\\"scope\\\":\\\"3018211039351821703\\\",\\\"id\\\":\\\"6088657101389601908\\\",\\\"type\\\":\\\"observable\\\"},val)) : undefined; return this.valueFromJulia[\\\"changes\\\"]=false}),self),this[\\\"index\\\"].subscribe((function (val){!(this.valueFromJulia[\\\"index\\\"]) ? (WebIO.setval({\\\"name\\\":\\\"index\\\",\\\"scope\\\":\\\"3018211039351821703\\\",\\\"id\\\":\\\"17121446395788861381\\\",\\\"type\\\":\\\"observable\\\"},val)) : undefined; return this.valueFromJulia[\\\"index\\\"]=false}),self)]\\n        \\n    }\\n    self.model = new AppViewModel();\\n    self.valueFromJulia = {};\\n    for (var key in json_data) {\\n        self.valueFromJulia[key] = false;\\n    }\\n    ko.applyBindings(self.model, self.dom);\\n}\\n);\\n    (WebIO.importBlock({\\\"data\\\":[{\\\"name\\\":\\\"knockout\\\",\\\"type\\\":\\\"js\\\",\\\"url\\\":\\\"/assetserver/0fc6d61518197b1bf9b23217e9be1d2e00f2bb14-knockout.js\\\"},{\\\"name\\\":\\\"knockout_punches\\\",\\\"type\\\":\\\"js\\\",\\\"url\\\":\\\"/assetserver/24c12264eef2b01f723a21985ba5661f5564d7cf-knockout_punches.js\\\"}],\\\"type\\\":\\\"async_block\\\"})).then((imports) => handler.apply(this, imports));\\n}\\n\")])], Dict{Symbol, Any}(:className => \"field interact-widget\")), Observable{Any} with 0 listeners. Value:\n",
       "Node{WebIO.DOM}(WebIO.DOM(:html, :div), Any[Plot{Plots.GRBackend() n=1}], Dict{Symbol, Any}(:className => \"interact-flex-row interact-widget\"))], Dict{Symbol, Any}())"
      ]
     },
     "execution_count": 12,
     "metadata": {
      "application/vnd.webio.node+json": {
       "kernelId": "1ba9d061-5817-4c1d-97d1-fd42acd369e6"
      }
     },
     "output_type": "execute_result"
    }
   ],
   "source": [
    "using Plots\n",
    "\n",
    "x = y = 0:0.1:30\n",
    "\n",
    "freqs = OrderedDict(zip([\"pi/4\", \"π/2\", \"3π/4\", \"π\"], [π/4, π/2, 3π/4, π]))\n",
    "\n",
    "mp = @manipulate for freq1 in freqs, freq2 in slider(0.01:0.1:4π; label=\"freq2\")\n",
    "    y = @. sin(freq1*x) * sin(freq2*x)\n",
    "    plot(x, y)\n",
    "end"
   ]
  },
  {
   "cell_type": "code",
   "execution_count": 13,
   "id": "3ae8a895",
   "metadata": {},
   "outputs": [
    {
     "data": {
      "application/vnd.webio.node+json": {
       "children": [
        {
         "children": [
          {
           "children": [
            {
             "children": [
              {
               "children": [
                {
                 "children": [],
                 "instanceArgs": {
                  "namespace": "html",
                  "tag": "input"
                 },
                 "nodeType": "DOM",
                 "props": {
                  "attributes": {
                   "data-bind": "event: {change: onFileUpload}",
                   "style": "display: none;",
                   "type": "file"
                  },
                  "className": "file "
                 },
                 "type": "node"
                },
                {
                 "children": [
                  {
                   "children": [
                    {
                     "children": [],
                     "instanceArgs": {
                      "namespace": "html",
                      "tag": "i"
                     },
                     "nodeType": "DOM",
                     "props": {
                      "className": "fas fa-upload"
                     },
                     "type": "node"
                    }
                   ],
                   "instanceArgs": {
                    "namespace": "html",
                    "tag": "span"
                   },
                   "nodeType": "DOM",
                   "props": {
                    "className": "file-icon"
                   },
                   "type": "node"
                  },
                  {
                   "children": [
                    "Choose a file..."
                   ],
                   "instanceArgs": {
                    "namespace": "html",
                    "tag": "span"
                   },
                   "nodeType": "DOM",
                   "props": {
                    "className": ""
                   },
                   "type": "node"
                  }
                 ],
                 "instanceArgs": {
                  "namespace": "html",
                  "tag": "span"
                 },
                 "nodeType": "DOM",
                 "props": {
                  "className": "file-cta"
                 },
                 "type": "node"
                }
               ],
               "instanceArgs": {
                "namespace": "html",
                "tag": "label"
               },
               "nodeType": "DOM",
               "props": {
                "className": ""
               },
               "type": "node"
              },
              {
               "children": [],
               "instanceArgs": {
                "namespace": "html",
                "tag": "span"
               },
               "nodeType": "DOM",
               "props": {
                "attributes": {
                 "data-bind": " text: filename() == '' ? 'No file chosen' : filename()"
                },
                "className": "file-name"
               },
               "type": "node"
              }
             ],
             "instanceArgs": {
              "namespace": "html",
              "tag": "div"
             },
             "nodeType": "DOM",
             "props": {
              "attributes": {
               "style": "display:flex; align-items:center;"
              }
             },
             "type": "node"
            }
           ],
           "instanceArgs": {
            "handlers": {
             "filename": [
              "(function (val){return (val!=this.model[\"filename\"]()) ? (this.valueFromJulia[\"filename\"]=true, this.model[\"filename\"](val)) : undefined})"
             ],
             "path": [
              "(function (val){return (val!=this.model[\"path\"]()) ? (this.valueFromJulia[\"path\"]=true, this.model[\"path\"](val)) : undefined})"
             ]
            },
            "id": "18084090180384130587",
            "imports": {
             "data": [
              {
               "name": "knockout",
               "type": "js",
               "url": "/assetserver/0fc6d61518197b1bf9b23217e9be1d2e00f2bb14-knockout.js"
              },
              {
               "name": "knockout_punches",
               "type": "js",
               "url": "/assetserver/24c12264eef2b01f723a21985ba5661f5564d7cf-knockout_punches.js"
              },
              {
               "name": null,
               "type": "js",
               "url": "/assetserver/85de428ae418ad26c1ce7e886d25374b3774afa9-all.js"
              },
              {
               "name": null,
               "type": "css",
               "url": "/assetserver/2cd8ff31326883094fe5a8ff21182264663b62be-style.css"
              },
              {
               "name": null,
               "type": "css",
               "url": "/assetserver/741bde2d4bf25f117d0ec4d43164cd1a050cf9de-bulma_confined.min.css"
              }
             ],
             "type": "async_block"
            },
            "mount_callbacks": [
             "function () {\n    var handler = (function (ko, koPunches) {\n    ko.punches.enableAll();\n    ko.bindingHandlers.numericValue = {\n        init: function(element, valueAccessor, allBindings, data, context) {\n            var stringified = ko.observable(ko.unwrap(valueAccessor()));\n            stringified.subscribe(function(value) {\n                var val = parseFloat(value);\n                if (!isNaN(val)) {\n                    valueAccessor()(val);\n                }\n            });\n            valueAccessor().subscribe(function(value) {\n                var str = JSON.stringify(value);\n                if ((str == \"0\") && ([\"-0\", \"-0.\"].indexOf(stringified()) >= 0))\n                     return;\n                 if ([\"null\", \"\"].indexOf(str) >= 0)\n                     return;\n                stringified(str);\n            });\n            ko.applyBindingsToNode(\n                element,\n                {\n                    value: stringified,\n                    valueUpdate: allBindings.get('valueUpdate'),\n                },\n                context,\n            );\n        }\n    };\n    var json_data = {\"filename\":WebIO.getval({\"name\":\"filename\",\"scope\":\"18084090180384130587\",\"id\":\"9068516128648295634\",\"type\":\"observable\"}),\"path\":WebIO.getval({\"name\":\"path\",\"scope\":\"18084090180384130587\",\"id\":\"681312061504947629\",\"type\":\"observable\"})};\n    var self = this;\n    function AppViewModel() {\n        for (var key in json_data) {\n            var el = json_data[key];\n            this[key] = Array.isArray(el) ? ko.observableArray(el) : ko.observable(el);\n        }\n        [this[\"onFileUpload\"]=function(data, e) {\n    var files = e.target.files;\n    this.filename(files[0].name);\n    return this.path(files[0].path);\n}\n]\n        \n        [this[\"filename\"].subscribe((function (val){!(this.valueFromJulia[\"filename\"]) ? (WebIO.setval({\"name\":\"filename\",\"scope\":\"18084090180384130587\",\"id\":\"9068516128648295634\",\"type\":\"observable\"},val)) : undefined; return this.valueFromJulia[\"filename\"]=false}),self),this[\"path\"].subscribe((function (val){!(this.valueFromJulia[\"path\"]) ? (WebIO.setval({\"name\":\"path\",\"scope\":\"18084090180384130587\",\"id\":\"681312061504947629\",\"type\":\"observable\"},val)) : undefined; return this.valueFromJulia[\"path\"]=false}),self)]\n        \n    }\n    self.model = new AppViewModel();\n    self.valueFromJulia = {};\n    for (var key in json_data) {\n        self.valueFromJulia[key] = false;\n    }\n    ko.applyBindings(self.model, self.dom);\n}\n);\n    (WebIO.importBlock({\"data\":[{\"name\":\"knockout\",\"type\":\"js\",\"url\":\"/assetserver/0fc6d61518197b1bf9b23217e9be1d2e00f2bb14-knockout.js\"},{\"name\":\"knockout_punches\",\"type\":\"js\",\"url\":\"/assetserver/24c12264eef2b01f723a21985ba5661f5564d7cf-knockout_punches.js\"}],\"type\":\"async_block\"})).then((imports) => handler.apply(this, imports));\n}\n"
            ],
            "observables": {
             "filename": {
              "id": "9068516128648295634",
              "sync": false,
              "value": ""
             },
             "path": {
              "id": "681312061504947629",
              "sync": false,
              "value": ""
             }
            },
            "systemjs_options": null
           },
           "nodeType": "Scope",
           "props": {},
           "type": "node"
          }
         ],
         "instanceArgs": {
          "namespace": "html",
          "tag": "div"
         },
         "nodeType": "DOM",
         "props": {
          "className": "field interact-widget"
         },
         "type": "node"
        },
        {
         "children": [
          {
           "children": [
            {
             "children": [
              {
               "children": [
                {
                 "children": [
                  "Hello!"
                 ],
                 "instanceArgs": {
                  "namespace": "html",
                  "tag": "button"
                 },
                 "nodeType": "DOM",
                 "props": {
                  "attributes": {
                   "data-bind": "click: function (){this.clicks(this.clicks()+1)}, css: {'is-loading' : loading}"
                  },
                  "className": "is-medium button is-primary",
                  "style": {}
                 },
                 "type": "node"
                }
               ],
               "instanceArgs": {
                "handlers": {
                 "clicks": [
                  "(function (val){return (val!=this.model[\"clicks\"]()) ? (this.valueFromJulia[\"clicks\"]=true, this.model[\"clicks\"](val)) : undefined})"
                 ],
                 "loading": [
                  "(function (val){return (val!=this.model[\"loading\"]()) ? (this.valueFromJulia[\"loading\"]=true, this.model[\"loading\"](val)) : undefined})"
                 ]
                },
                "id": "2408951161208400700",
                "imports": {
                 "data": [
                  {
                   "name": "knockout",
                   "type": "js",
                   "url": "/assetserver/0fc6d61518197b1bf9b23217e9be1d2e00f2bb14-knockout.js"
                  },
                  {
                   "name": "knockout_punches",
                   "type": "js",
                   "url": "/assetserver/24c12264eef2b01f723a21985ba5661f5564d7cf-knockout_punches.js"
                  },
                  {
                   "name": null,
                   "type": "js",
                   "url": "/assetserver/85de428ae418ad26c1ce7e886d25374b3774afa9-all.js"
                  },
                  {
                   "name": null,
                   "type": "css",
                   "url": "/assetserver/2cd8ff31326883094fe5a8ff21182264663b62be-style.css"
                  },
                  {
                   "name": null,
                   "type": "css",
                   "url": "/assetserver/741bde2d4bf25f117d0ec4d43164cd1a050cf9de-bulma_confined.min.css"
                  }
                 ],
                 "type": "async_block"
                },
                "mount_callbacks": [
                 "function () {\n    var handler = (function (ko, koPunches) {\n    ko.punches.enableAll();\n    ko.bindingHandlers.numericValue = {\n        init: function(element, valueAccessor, allBindings, data, context) {\n            var stringified = ko.observable(ko.unwrap(valueAccessor()));\n            stringified.subscribe(function(value) {\n                var val = parseFloat(value);\n                if (!isNaN(val)) {\n                    valueAccessor()(val);\n                }\n            });\n            valueAccessor().subscribe(function(value) {\n                var str = JSON.stringify(value);\n                if ((str == \"0\") && ([\"-0\", \"-0.\"].indexOf(stringified()) >= 0))\n                     return;\n                 if ([\"null\", \"\"].indexOf(str) >= 0)\n                     return;\n                stringified(str);\n            });\n            ko.applyBindingsToNode(\n                element,\n                {\n                    value: stringified,\n                    valueUpdate: allBindings.get('valueUpdate'),\n                },\n                context,\n            );\n        }\n    };\n    var json_data = {\"loading\":WebIO.getval({\"name\":\"loading\",\"scope\":\"2408951161208400700\",\"id\":\"6305628947009019689\",\"type\":\"observable\"}),\"clicks\":WebIO.getval({\"name\":\"clicks\",\"scope\":\"2408951161208400700\",\"id\":\"14951073555794244577\",\"type\":\"observable\"})};\n    var self = this;\n    function AppViewModel() {\n        for (var key in json_data) {\n            var el = json_data[key];\n            this[key] = Array.isArray(el) ? ko.observableArray(el) : ko.observable(el);\n        }\n        \n        \n        [this[\"loading\"].subscribe((function (val){!(this.valueFromJulia[\"loading\"]) ? (WebIO.setval({\"name\":\"loading\",\"scope\":\"2408951161208400700\",\"id\":\"6305628947009019689\",\"type\":\"observable\"},val)) : undefined; return this.valueFromJulia[\"loading\"]=false}),self),this[\"clicks\"].subscribe((function (val){!(this.valueFromJulia[\"clicks\"]) ? (WebIO.setval({\"name\":\"clicks\",\"scope\":\"2408951161208400700\",\"id\":\"14951073555794244577\",\"type\":\"observable\"},val)) : undefined; return this.valueFromJulia[\"clicks\"]=false}),self)]\n        \n    }\n    self.model = new AppViewModel();\n    self.valueFromJulia = {};\n    for (var key in json_data) {\n        self.valueFromJulia[key] = false;\n    }\n    ko.applyBindings(self.model, self.dom);\n}\n);\n    (WebIO.importBlock({\"data\":[{\"name\":\"knockout\",\"type\":\"js\",\"url\":\"/assetserver/0fc6d61518197b1bf9b23217e9be1d2e00f2bb14-knockout.js\"},{\"name\":\"knockout_punches\",\"type\":\"js\",\"url\":\"/assetserver/24c12264eef2b01f723a21985ba5661f5564d7cf-knockout_punches.js\"}],\"type\":\"async_block\"})).then((imports) => handler.apply(this, imports));\n}\n"
                ],
                "observables": {
                 "clicks": {
                  "id": "14951073555794244577",
                  "sync": false,
                  "value": 0
                 },
                 "loading": {
                  "id": "6305628947009019689",
                  "sync": false,
                  "value": false
                 }
                },
                "systemjs_options": null
               },
               "nodeType": "Scope",
               "props": {},
               "type": "node"
              }
             ],
             "instanceArgs": {
              "namespace": "html",
              "tag": "div"
             },
             "nodeType": "DOM",
             "props": {
              "className": "field interact-widget"
             },
             "type": "node"
            }
           ],
           "instanceArgs": {
            "namespace": "html",
            "tag": "div"
           },
           "nodeType": "DOM",
           "props": {
            "style": {
             "padding": "1.0em"
            }
           },
           "type": "node"
          },
          {
           "children": [
            {
             "children": [
              {
               "children": [
                {
                 "children": [
                  "Good bye!"
                 ],
                 "instanceArgs": {
                  "namespace": "html",
                  "tag": "button"
                 },
                 "nodeType": "DOM",
                 "props": {
                  "attributes": {
                   "data-bind": "click: function (){this.clicks(this.clicks()+1)}, css: {'is-loading' : loading}"
                  },
                  "className": "is-medium button is-primary",
                  "style": {}
                 },
                 "type": "node"
                }
               ],
               "instanceArgs": {
                "handlers": {
                 "clicks": [
                  "(function (val){return (val!=this.model[\"clicks\"]()) ? (this.valueFromJulia[\"clicks\"]=true, this.model[\"clicks\"](val)) : undefined})"
                 ],
                 "loading": [
                  "(function (val){return (val!=this.model[\"loading\"]()) ? (this.valueFromJulia[\"loading\"]=true, this.model[\"loading\"](val)) : undefined})"
                 ]
                },
                "id": "9096800762558674541",
                "imports": {
                 "data": [
                  {
                   "name": "knockout",
                   "type": "js",
                   "url": "/assetserver/0fc6d61518197b1bf9b23217e9be1d2e00f2bb14-knockout.js"
                  },
                  {
                   "name": "knockout_punches",
                   "type": "js",
                   "url": "/assetserver/24c12264eef2b01f723a21985ba5661f5564d7cf-knockout_punches.js"
                  },
                  {
                   "name": null,
                   "type": "js",
                   "url": "/assetserver/85de428ae418ad26c1ce7e886d25374b3774afa9-all.js"
                  },
                  {
                   "name": null,
                   "type": "css",
                   "url": "/assetserver/2cd8ff31326883094fe5a8ff21182264663b62be-style.css"
                  },
                  {
                   "name": null,
                   "type": "css",
                   "url": "/assetserver/741bde2d4bf25f117d0ec4d43164cd1a050cf9de-bulma_confined.min.css"
                  }
                 ],
                 "type": "async_block"
                },
                "mount_callbacks": [
                 "function () {\n    var handler = (function (ko, koPunches) {\n    ko.punches.enableAll();\n    ko.bindingHandlers.numericValue = {\n        init: function(element, valueAccessor, allBindings, data, context) {\n            var stringified = ko.observable(ko.unwrap(valueAccessor()));\n            stringified.subscribe(function(value) {\n                var val = parseFloat(value);\n                if (!isNaN(val)) {\n                    valueAccessor()(val);\n                }\n            });\n            valueAccessor().subscribe(function(value) {\n                var str = JSON.stringify(value);\n                if ((str == \"0\") && ([\"-0\", \"-0.\"].indexOf(stringified()) >= 0))\n                     return;\n                 if ([\"null\", \"\"].indexOf(str) >= 0)\n                     return;\n                stringified(str);\n            });\n            ko.applyBindingsToNode(\n                element,\n                {\n                    value: stringified,\n                    valueUpdate: allBindings.get('valueUpdate'),\n                },\n                context,\n            );\n        }\n    };\n    var json_data = {\"loading\":WebIO.getval({\"name\":\"loading\",\"scope\":\"9096800762558674541\",\"id\":\"8368565976221880051\",\"type\":\"observable\"}),\"clicks\":WebIO.getval({\"name\":\"clicks\",\"scope\":\"9096800762558674541\",\"id\":\"17272362462938748303\",\"type\":\"observable\"})};\n    var self = this;\n    function AppViewModel() {\n        for (var key in json_data) {\n            var el = json_data[key];\n            this[key] = Array.isArray(el) ? ko.observableArray(el) : ko.observable(el);\n        }\n        \n        \n        [this[\"loading\"].subscribe((function (val){!(this.valueFromJulia[\"loading\"]) ? (WebIO.setval({\"name\":\"loading\",\"scope\":\"9096800762558674541\",\"id\":\"8368565976221880051\",\"type\":\"observable\"},val)) : undefined; return this.valueFromJulia[\"loading\"]=false}),self),this[\"clicks\"].subscribe((function (val){!(this.valueFromJulia[\"clicks\"]) ? (WebIO.setval({\"name\":\"clicks\",\"scope\":\"9096800762558674541\",\"id\":\"17272362462938748303\",\"type\":\"observable\"},val)) : undefined; return this.valueFromJulia[\"clicks\"]=false}),self)]\n        \n    }\n    self.model = new AppViewModel();\n    self.valueFromJulia = {};\n    for (var key in json_data) {\n        self.valueFromJulia[key] = false;\n    }\n    ko.applyBindings(self.model, self.dom);\n}\n);\n    (WebIO.importBlock({\"data\":[{\"name\":\"knockout\",\"type\":\"js\",\"url\":\"/assetserver/0fc6d61518197b1bf9b23217e9be1d2e00f2bb14-knockout.js\"},{\"name\":\"knockout_punches\",\"type\":\"js\",\"url\":\"/assetserver/24c12264eef2b01f723a21985ba5661f5564d7cf-knockout_punches.js\"}],\"type\":\"async_block\"})).then((imports) => handler.apply(this, imports));\n}\n"
                ],
                "observables": {
                 "clicks": {
                  "id": "17272362462938748303",
                  "sync": false,
                  "value": 0
                 },
                 "loading": {
                  "id": "8368565976221880051",
                  "sync": false,
                  "value": false
                 }
                },
                "systemjs_options": null
               },
               "nodeType": "Scope",
               "props": {},
               "type": "node"
              }
             ],
             "instanceArgs": {
              "namespace": "html",
              "tag": "div"
             },
             "nodeType": "DOM",
             "props": {
              "className": "field interact-widget"
             },
             "type": "node"
            }
           ],
           "instanceArgs": {
            "namespace": "html",
            "tag": "div"
           },
           "nodeType": "DOM",
           "props": {
            "style": {
             "padding": "1.0em"
            }
           },
           "type": "node"
          }
         ],
         "instanceArgs": {
          "namespace": "html",
          "tag": "div"
         },
         "nodeType": "DOM",
         "props": {
          "style": {
           "display": "flex",
           "flex-direction": "row"
          }
         },
         "type": "node"
        }
       ],
       "instanceArgs": {
        "namespace": "html",
        "tag": "div"
       },
       "nodeType": "DOM",
       "props": {
        "style": {
         "display": "flex",
         "flex-direction": "column"
        }
       },
       "type": "node"
      },
      "text/html": [
       "<div\n",
       "    class=\"webio-mountpoint\"\n",
       "    data-webio-mountpoint=\"7060903461768752525\"\n",
       ">\n",
       "    <script>\n",
       "    if (window.require && require.defined && require.defined(\"nbextensions/webio-jupyter-notebook\")) {\n",
       "        console.log(\"Jupyter WebIO extension detected, not mounting.\");\n",
       "    } else if (window.WebIO) {\n",
       "        WebIO.mount(\n",
       "            document.querySelector('[data-webio-mountpoint=\"7060903461768752525\"]'),\n",
       "            {\"props\":{\"style\":{\"display\":\"flex\",\"flex-direction\":\"column\"}},\"nodeType\":\"DOM\",\"type\":\"node\",\"instanceArgs\":{\"namespace\":\"html\",\"tag\":\"div\"},\"children\":[{\"props\":{\"className\":\"field interact-widget\"},\"nodeType\":\"DOM\",\"type\":\"node\",\"instanceArgs\":{\"namespace\":\"html\",\"tag\":\"div\"},\"children\":[{\"props\":{},\"nodeType\":\"Scope\",\"type\":\"node\",\"instanceArgs\":{\"imports\":{\"data\":[{\"name\":\"knockout\",\"type\":\"js\",\"url\":\"\\/assetserver\\/0fc6d61518197b1bf9b23217e9be1d2e00f2bb14-knockout.js\"},{\"name\":\"knockout_punches\",\"type\":\"js\",\"url\":\"\\/assetserver\\/24c12264eef2b01f723a21985ba5661f5564d7cf-knockout_punches.js\"},{\"name\":null,\"type\":\"js\",\"url\":\"\\/assetserver\\/85de428ae418ad26c1ce7e886d25374b3774afa9-all.js\"},{\"name\":null,\"type\":\"css\",\"url\":\"\\/assetserver\\/2cd8ff31326883094fe5a8ff21182264663b62be-style.css\"},{\"name\":null,\"type\":\"css\",\"url\":\"\\/assetserver\\/741bde2d4bf25f117d0ec4d43164cd1a050cf9de-bulma_confined.min.css\"}],\"type\":\"async_block\"},\"id\":\"18084090180384130587\",\"handlers\":{\"filename\":[\"(function (val){return (val!=this.model[\\\"filename\\\"]()) ? (this.valueFromJulia[\\\"filename\\\"]=true, this.model[\\\"filename\\\"](val)) : undefined})\"],\"path\":[\"(function (val){return (val!=this.model[\\\"path\\\"]()) ? (this.valueFromJulia[\\\"path\\\"]=true, this.model[\\\"path\\\"](val)) : undefined})\"]},\"systemjs_options\":null,\"mount_callbacks\":[\"function () {\\n    var handler = (function (ko, koPunches) {\\n    ko.punches.enableAll();\\n    ko.bindingHandlers.numericValue = {\\n        init: function(element, valueAccessor, allBindings, data, context) {\\n            var stringified = ko.observable(ko.unwrap(valueAccessor()));\\n            stringified.subscribe(function(value) {\\n                var val = parseFloat(value);\\n                if (!isNaN(val)) {\\n                    valueAccessor()(val);\\n                }\\n            });\\n            valueAccessor().subscribe(function(value) {\\n                var str = JSON.stringify(value);\\n                if ((str == \\\"0\\\") && ([\\\"-0\\\", \\\"-0.\\\"].indexOf(stringified()) >= 0))\\n                     return;\\n                 if ([\\\"null\\\", \\\"\\\"].indexOf(str) >= 0)\\n                     return;\\n                stringified(str);\\n            });\\n            ko.applyBindingsToNode(\\n                element,\\n                {\\n                    value: stringified,\\n                    valueUpdate: allBindings.get('valueUpdate'),\\n                },\\n                context,\\n            );\\n        }\\n    };\\n    var json_data = {\\\"filename\\\":WebIO.getval({\\\"name\\\":\\\"filename\\\",\\\"scope\\\":\\\"18084090180384130587\\\",\\\"id\\\":\\\"9068516128648295634\\\",\\\"type\\\":\\\"observable\\\"}),\\\"path\\\":WebIO.getval({\\\"name\\\":\\\"path\\\",\\\"scope\\\":\\\"18084090180384130587\\\",\\\"id\\\":\\\"681312061504947629\\\",\\\"type\\\":\\\"observable\\\"})};\\n    var self = this;\\n    function AppViewModel() {\\n        for (var key in json_data) {\\n            var el = json_data[key];\\n            this[key] = Array.isArray(el) ? ko.observableArray(el) : ko.observable(el);\\n        }\\n        [this[\\\"onFileUpload\\\"]=function(data, e) {\\n    var files = e.target.files;\\n    this.filename(files[0].name);\\n    return this.path(files[0].path);\\n}\\n]\\n        \\n        [this[\\\"filename\\\"].subscribe((function (val){!(this.valueFromJulia[\\\"filename\\\"]) ? (WebIO.setval({\\\"name\\\":\\\"filename\\\",\\\"scope\\\":\\\"18084090180384130587\\\",\\\"id\\\":\\\"9068516128648295634\\\",\\\"type\\\":\\\"observable\\\"},val)) : undefined; return this.valueFromJulia[\\\"filename\\\"]=false}),self),this[\\\"path\\\"].subscribe((function (val){!(this.valueFromJulia[\\\"path\\\"]) ? (WebIO.setval({\\\"name\\\":\\\"path\\\",\\\"scope\\\":\\\"18084090180384130587\\\",\\\"id\\\":\\\"681312061504947629\\\",\\\"type\\\":\\\"observable\\\"},val)) : undefined; return this.valueFromJulia[\\\"path\\\"]=false}),self)]\\n        \\n    }\\n    self.model = new AppViewModel();\\n    self.valueFromJulia = {};\\n    for (var key in json_data) {\\n        self.valueFromJulia[key] = false;\\n    }\\n    ko.applyBindings(self.model, self.dom);\\n}\\n);\\n    (WebIO.importBlock({\\\"data\\\":[{\\\"name\\\":\\\"knockout\\\",\\\"type\\\":\\\"js\\\",\\\"url\\\":\\\"\\/assetserver\\/0fc6d61518197b1bf9b23217e9be1d2e00f2bb14-knockout.js\\\"},{\\\"name\\\":\\\"knockout_punches\\\",\\\"type\\\":\\\"js\\\",\\\"url\\\":\\\"\\/assetserver\\/24c12264eef2b01f723a21985ba5661f5564d7cf-knockout_punches.js\\\"}],\\\"type\\\":\\\"async_block\\\"})).then((imports) => handler.apply(this, imports));\\n}\\n\"],\"observables\":{\"filename\":{\"sync\":false,\"id\":\"9068516128648295634\",\"value\":\"\"},\"path\":{\"sync\":false,\"id\":\"681312061504947629\",\"value\":\"\"}}},\"children\":[{\"props\":{\"attributes\":{\"style\":\"display:flex; align-items:center;\"}},\"nodeType\":\"DOM\",\"type\":\"node\",\"instanceArgs\":{\"namespace\":\"html\",\"tag\":\"div\"},\"children\":[{\"props\":{\"className\":\"\"},\"nodeType\":\"DOM\",\"type\":\"node\",\"instanceArgs\":{\"namespace\":\"html\",\"tag\":\"label\"},\"children\":[{\"props\":{\"attributes\":{\"type\":\"file\",\"data-bind\":\"event: {change: onFileUpload}\",\"style\":\"display: none;\"},\"className\":\"file \"},\"nodeType\":\"DOM\",\"type\":\"node\",\"instanceArgs\":{\"namespace\":\"html\",\"tag\":\"input\"},\"children\":[]},{\"props\":{\"className\":\"file-cta\"},\"nodeType\":\"DOM\",\"type\":\"node\",\"instanceArgs\":{\"namespace\":\"html\",\"tag\":\"span\"},\"children\":[{\"props\":{\"className\":\"file-icon\"},\"nodeType\":\"DOM\",\"type\":\"node\",\"instanceArgs\":{\"namespace\":\"html\",\"tag\":\"span\"},\"children\":[{\"props\":{\"className\":\"fas fa-upload\"},\"nodeType\":\"DOM\",\"type\":\"node\",\"instanceArgs\":{\"namespace\":\"html\",\"tag\":\"i\"},\"children\":[]}]},{\"props\":{\"className\":\"\"},\"nodeType\":\"DOM\",\"type\":\"node\",\"instanceArgs\":{\"namespace\":\"html\",\"tag\":\"span\"},\"children\":[\"Choose a file...\"]}]}]},{\"props\":{\"attributes\":{\"data-bind\":\" text: filename() == '' ? 'No file chosen' : filename()\"},\"className\":\"file-name\"},\"nodeType\":\"DOM\",\"type\":\"node\",\"instanceArgs\":{\"namespace\":\"html\",\"tag\":\"span\"},\"children\":[]}]}]}]},{\"props\":{\"style\":{\"display\":\"flex\",\"flex-direction\":\"row\"}},\"nodeType\":\"DOM\",\"type\":\"node\",\"instanceArgs\":{\"namespace\":\"html\",\"tag\":\"div\"},\"children\":[{\"props\":{\"style\":{\"padding\":\"1.0em\"}},\"nodeType\":\"DOM\",\"type\":\"node\",\"instanceArgs\":{\"namespace\":\"html\",\"tag\":\"div\"},\"children\":[{\"props\":{\"className\":\"field interact-widget\"},\"nodeType\":\"DOM\",\"type\":\"node\",\"instanceArgs\":{\"namespace\":\"html\",\"tag\":\"div\"},\"children\":[{\"props\":{},\"nodeType\":\"Scope\",\"type\":\"node\",\"instanceArgs\":{\"imports\":{\"data\":[{\"name\":\"knockout\",\"type\":\"js\",\"url\":\"\\/assetserver\\/0fc6d61518197b1bf9b23217e9be1d2e00f2bb14-knockout.js\"},{\"name\":\"knockout_punches\",\"type\":\"js\",\"url\":\"\\/assetserver\\/24c12264eef2b01f723a21985ba5661f5564d7cf-knockout_punches.js\"},{\"name\":null,\"type\":\"js\",\"url\":\"\\/assetserver\\/85de428ae418ad26c1ce7e886d25374b3774afa9-all.js\"},{\"name\":null,\"type\":\"css\",\"url\":\"\\/assetserver\\/2cd8ff31326883094fe5a8ff21182264663b62be-style.css\"},{\"name\":null,\"type\":\"css\",\"url\":\"\\/assetserver\\/741bde2d4bf25f117d0ec4d43164cd1a050cf9de-bulma_confined.min.css\"}],\"type\":\"async_block\"},\"id\":\"2408951161208400700\",\"handlers\":{\"loading\":[\"(function (val){return (val!=this.model[\\\"loading\\\"]()) ? (this.valueFromJulia[\\\"loading\\\"]=true, this.model[\\\"loading\\\"](val)) : undefined})\"],\"clicks\":[\"(function (val){return (val!=this.model[\\\"clicks\\\"]()) ? (this.valueFromJulia[\\\"clicks\\\"]=true, this.model[\\\"clicks\\\"](val)) : undefined})\"]},\"systemjs_options\":null,\"mount_callbacks\":[\"function () {\\n    var handler = (function (ko, koPunches) {\\n    ko.punches.enableAll();\\n    ko.bindingHandlers.numericValue = {\\n        init: function(element, valueAccessor, allBindings, data, context) {\\n            var stringified = ko.observable(ko.unwrap(valueAccessor()));\\n            stringified.subscribe(function(value) {\\n                var val = parseFloat(value);\\n                if (!isNaN(val)) {\\n                    valueAccessor()(val);\\n                }\\n            });\\n            valueAccessor().subscribe(function(value) {\\n                var str = JSON.stringify(value);\\n                if ((str == \\\"0\\\") && ([\\\"-0\\\", \\\"-0.\\\"].indexOf(stringified()) >= 0))\\n                     return;\\n                 if ([\\\"null\\\", \\\"\\\"].indexOf(str) >= 0)\\n                     return;\\n                stringified(str);\\n            });\\n            ko.applyBindingsToNode(\\n                element,\\n                {\\n                    value: stringified,\\n                    valueUpdate: allBindings.get('valueUpdate'),\\n                },\\n                context,\\n            );\\n        }\\n    };\\n    var json_data = {\\\"loading\\\":WebIO.getval({\\\"name\\\":\\\"loading\\\",\\\"scope\\\":\\\"2408951161208400700\\\",\\\"id\\\":\\\"6305628947009019689\\\",\\\"type\\\":\\\"observable\\\"}),\\\"clicks\\\":WebIO.getval({\\\"name\\\":\\\"clicks\\\",\\\"scope\\\":\\\"2408951161208400700\\\",\\\"id\\\":\\\"14951073555794244577\\\",\\\"type\\\":\\\"observable\\\"})};\\n    var self = this;\\n    function AppViewModel() {\\n        for (var key in json_data) {\\n            var el = json_data[key];\\n            this[key] = Array.isArray(el) ? ko.observableArray(el) : ko.observable(el);\\n        }\\n        \\n        \\n        [this[\\\"loading\\\"].subscribe((function (val){!(this.valueFromJulia[\\\"loading\\\"]) ? (WebIO.setval({\\\"name\\\":\\\"loading\\\",\\\"scope\\\":\\\"2408951161208400700\\\",\\\"id\\\":\\\"6305628947009019689\\\",\\\"type\\\":\\\"observable\\\"},val)) : undefined; return this.valueFromJulia[\\\"loading\\\"]=false}),self),this[\\\"clicks\\\"].subscribe((function (val){!(this.valueFromJulia[\\\"clicks\\\"]) ? (WebIO.setval({\\\"name\\\":\\\"clicks\\\",\\\"scope\\\":\\\"2408951161208400700\\\",\\\"id\\\":\\\"14951073555794244577\\\",\\\"type\\\":\\\"observable\\\"},val)) : undefined; return this.valueFromJulia[\\\"clicks\\\"]=false}),self)]\\n        \\n    }\\n    self.model = new AppViewModel();\\n    self.valueFromJulia = {};\\n    for (var key in json_data) {\\n        self.valueFromJulia[key] = false;\\n    }\\n    ko.applyBindings(self.model, self.dom);\\n}\\n);\\n    (WebIO.importBlock({\\\"data\\\":[{\\\"name\\\":\\\"knockout\\\",\\\"type\\\":\\\"js\\\",\\\"url\\\":\\\"\\/assetserver\\/0fc6d61518197b1bf9b23217e9be1d2e00f2bb14-knockout.js\\\"},{\\\"name\\\":\\\"knockout_punches\\\",\\\"type\\\":\\\"js\\\",\\\"url\\\":\\\"\\/assetserver\\/24c12264eef2b01f723a21985ba5661f5564d7cf-knockout_punches.js\\\"}],\\\"type\\\":\\\"async_block\\\"})).then((imports) => handler.apply(this, imports));\\n}\\n\"],\"observables\":{\"loading\":{\"sync\":false,\"id\":\"6305628947009019689\",\"value\":false},\"clicks\":{\"sync\":false,\"id\":\"14951073555794244577\",\"value\":0}}},\"children\":[{\"props\":{\"attributes\":{\"data-bind\":\"click: function (){this.clicks(this.clicks()+1)}, css: {'is-loading' : loading}\"},\"className\":\"is-medium button is-primary\",\"style\":{}},\"nodeType\":\"DOM\",\"type\":\"node\",\"instanceArgs\":{\"namespace\":\"html\",\"tag\":\"button\"},\"children\":[\"Hello!\"]}]}]}]},{\"props\":{\"style\":{\"padding\":\"1.0em\"}},\"nodeType\":\"DOM\",\"type\":\"node\",\"instanceArgs\":{\"namespace\":\"html\",\"tag\":\"div\"},\"children\":[{\"props\":{\"className\":\"field interact-widget\"},\"nodeType\":\"DOM\",\"type\":\"node\",\"instanceArgs\":{\"namespace\":\"html\",\"tag\":\"div\"},\"children\":[{\"props\":{},\"nodeType\":\"Scope\",\"type\":\"node\",\"instanceArgs\":{\"imports\":{\"data\":[{\"name\":\"knockout\",\"type\":\"js\",\"url\":\"\\/assetserver\\/0fc6d61518197b1bf9b23217e9be1d2e00f2bb14-knockout.js\"},{\"name\":\"knockout_punches\",\"type\":\"js\",\"url\":\"\\/assetserver\\/24c12264eef2b01f723a21985ba5661f5564d7cf-knockout_punches.js\"},{\"name\":null,\"type\":\"js\",\"url\":\"\\/assetserver\\/85de428ae418ad26c1ce7e886d25374b3774afa9-all.js\"},{\"name\":null,\"type\":\"css\",\"url\":\"\\/assetserver\\/2cd8ff31326883094fe5a8ff21182264663b62be-style.css\"},{\"name\":null,\"type\":\"css\",\"url\":\"\\/assetserver\\/741bde2d4bf25f117d0ec4d43164cd1a050cf9de-bulma_confined.min.css\"}],\"type\":\"async_block\"},\"id\":\"9096800762558674541\",\"handlers\":{\"loading\":[\"(function (val){return (val!=this.model[\\\"loading\\\"]()) ? (this.valueFromJulia[\\\"loading\\\"]=true, this.model[\\\"loading\\\"](val)) : undefined})\"],\"clicks\":[\"(function (val){return (val!=this.model[\\\"clicks\\\"]()) ? (this.valueFromJulia[\\\"clicks\\\"]=true, this.model[\\\"clicks\\\"](val)) : undefined})\"]},\"systemjs_options\":null,\"mount_callbacks\":[\"function () {\\n    var handler = (function (ko, koPunches) {\\n    ko.punches.enableAll();\\n    ko.bindingHandlers.numericValue = {\\n        init: function(element, valueAccessor, allBindings, data, context) {\\n            var stringified = ko.observable(ko.unwrap(valueAccessor()));\\n            stringified.subscribe(function(value) {\\n                var val = parseFloat(value);\\n                if (!isNaN(val)) {\\n                    valueAccessor()(val);\\n                }\\n            });\\n            valueAccessor().subscribe(function(value) {\\n                var str = JSON.stringify(value);\\n                if ((str == \\\"0\\\") && ([\\\"-0\\\", \\\"-0.\\\"].indexOf(stringified()) >= 0))\\n                     return;\\n                 if ([\\\"null\\\", \\\"\\\"].indexOf(str) >= 0)\\n                     return;\\n                stringified(str);\\n            });\\n            ko.applyBindingsToNode(\\n                element,\\n                {\\n                    value: stringified,\\n                    valueUpdate: allBindings.get('valueUpdate'),\\n                },\\n                context,\\n            );\\n        }\\n    };\\n    var json_data = {\\\"loading\\\":WebIO.getval({\\\"name\\\":\\\"loading\\\",\\\"scope\\\":\\\"9096800762558674541\\\",\\\"id\\\":\\\"8368565976221880051\\\",\\\"type\\\":\\\"observable\\\"}),\\\"clicks\\\":WebIO.getval({\\\"name\\\":\\\"clicks\\\",\\\"scope\\\":\\\"9096800762558674541\\\",\\\"id\\\":\\\"17272362462938748303\\\",\\\"type\\\":\\\"observable\\\"})};\\n    var self = this;\\n    function AppViewModel() {\\n        for (var key in json_data) {\\n            var el = json_data[key];\\n            this[key] = Array.isArray(el) ? ko.observableArray(el) : ko.observable(el);\\n        }\\n        \\n        \\n        [this[\\\"loading\\\"].subscribe((function (val){!(this.valueFromJulia[\\\"loading\\\"]) ? (WebIO.setval({\\\"name\\\":\\\"loading\\\",\\\"scope\\\":\\\"9096800762558674541\\\",\\\"id\\\":\\\"8368565976221880051\\\",\\\"type\\\":\\\"observable\\\"},val)) : undefined; return this.valueFromJulia[\\\"loading\\\"]=false}),self),this[\\\"clicks\\\"].subscribe((function (val){!(this.valueFromJulia[\\\"clicks\\\"]) ? (WebIO.setval({\\\"name\\\":\\\"clicks\\\",\\\"scope\\\":\\\"9096800762558674541\\\",\\\"id\\\":\\\"17272362462938748303\\\",\\\"type\\\":\\\"observable\\\"},val)) : undefined; return this.valueFromJulia[\\\"clicks\\\"]=false}),self)]\\n        \\n    }\\n    self.model = new AppViewModel();\\n    self.valueFromJulia = {};\\n    for (var key in json_data) {\\n        self.valueFromJulia[key] = false;\\n    }\\n    ko.applyBindings(self.model, self.dom);\\n}\\n);\\n    (WebIO.importBlock({\\\"data\\\":[{\\\"name\\\":\\\"knockout\\\",\\\"type\\\":\\\"js\\\",\\\"url\\\":\\\"\\/assetserver\\/0fc6d61518197b1bf9b23217e9be1d2e00f2bb14-knockout.js\\\"},{\\\"name\\\":\\\"knockout_punches\\\",\\\"type\\\":\\\"js\\\",\\\"url\\\":\\\"\\/assetserver\\/24c12264eef2b01f723a21985ba5661f5564d7cf-knockout_punches.js\\\"}],\\\"type\\\":\\\"async_block\\\"})).then((imports) => handler.apply(this, imports));\\n}\\n\"],\"observables\":{\"loading\":{\"sync\":false,\"id\":\"8368565976221880051\",\"value\":false},\"clicks\":{\"sync\":false,\"id\":\"17272362462938748303\",\"value\":0}}},\"children\":[{\"props\":{\"attributes\":{\"data-bind\":\"click: function (){this.clicks(this.clicks()+1)}, css: {'is-loading' : loading}\"},\"className\":\"is-medium button is-primary\",\"style\":{}},\"nodeType\":\"DOM\",\"type\":\"node\",\"instanceArgs\":{\"namespace\":\"html\",\"tag\":\"button\"},\"children\":[\"Good bye!\"]}]}]}]}]}]},\n",
       "            window,\n",
       "        );\n",
       "    } else {\n",
       "        document\n",
       "            .querySelector('[data-webio-mountpoint=\"7060903461768752525\"]')\n",
       "            .innerHTML = (\n",
       "                '<div style=\"padding: 1em; background-color: #f8d6da; border: 1px solid #f5c6cb\">' +\n",
       "                '<p><strong>WebIO not detected.</strong></p>' +\n",
       "                '<p>Please read ' +\n",
       "                '<a href=\"https://juliagizmos.github.io/WebIO.jl/latest/troubleshooting/not-detected/\" target=\"_blank\">the troubleshooting guide</a> ' +\n",
       "                'for more information on how to resolve this issue.</p>' +\n",
       "                '<p><a href=\"https://juliagizmos.github.io/WebIO.jl/latest/troubleshooting/not-detected/\" target=\"_blank\">https://juliagizmos.github.io/WebIO.jl/latest/troubleshooting/not-detected/</a></p>' +\n",
       "                '</div>'\n",
       "            );\n",
       "    }\n",
       "    </script>\n",
       "</div>\n"
      ],
      "text/plain": [
       "(div { style=Dict(\"display\" => \"flex\", \"flex-direction\" => \"column\") }\n",
       "  Node{WebIO.DOM}(WebIO.DOM(:html, :div), Any[Scope(Node{WebIO.DOM}(WebIO.DOM(:html, :div), Any[Node{WebIO.DOM}(WebIO.DOM(:html, :label), Any[Node{WebIO.DOM}(WebIO.DOM(:html, :input), Any[], Dict{Symbol, Any}(:attributes => Dict{Union{String, Symbol}, Any}(:type => \"file\", Symbol(\"data-bind\") => \"event: {change: onFileUpload}\", :style => \"display: none;\"), :className => \"file \")), Node{WebIO.DOM}(WebIO.DOM(:html, :span), Any[Node{WebIO.DOM}(WebIO.DOM(:html, :span), Any[Node{WebIO.DOM}(WebIO.DOM(:html, :i), Any[], Dict{Symbol, Any}(:className => \"fas fa-upload\"))], Dict{Symbol, Any}(:className => \"file-icon\")), Node{WebIO.DOM}(WebIO.DOM(:html, :span), Any[\"Choose a file...\"], Dict{Symbol, Any}(:className => \"\"))], Dict{Symbol, Any}(:className => \"file-cta\"))], Dict{Symbol, Any}(:className => \"\")), Node{WebIO.DOM}(WebIO.DOM(:html, :span), Any[], Dict{Symbol, Any}(:attributes => Dict(\"data-bind\" => \" text: filename() == '' ? 'No file chosen' : filename()\"), :className => \"file-name\"))], Dict{Symbol, Any}(:attributes => Dict{SubString{String}, SubString{String}}(\"style\" => \"display:flex; align-items:center;\"))), Dict{String, Tuple{Observables.AbstractObservable, Union{Nothing, Bool}}}(\"filename\" => (Observable{Any} with 1 listeners. Value:\n",
       "\"\", nothing), \"path\" => (Observable{Any} with 1 listeners. Value:\n",
       "\"\", nothing)), Set{String}(), nothing, Asset[Asset(\"js\", \"knockout\", \"/Users/johnsmith/.julia/packages/Knockout/IP1uR/src/../assets/knockout.js\"), Asset(\"js\", \"knockout_punches\", \"/Users/johnsmith/.julia/packages/Knockout/IP1uR/src/../assets/knockout_punches.js\"), Asset(\"js\", nothing, \"/Users/johnsmith/.julia/packages/InteractBase/Zfu5P/src/../assets/all.js\"), Asset(\"css\", nothing, \"/Users/johnsmith/.julia/packages/InteractBase/Zfu5P/src/../assets/style.css\"), Asset(\"css\", nothing, \"/Users/johnsmith/.julia/packages/Interact/SbgIk/src/../assets/bulma_confined.min.css\")], Dict{Any, Any}(\"filename\" => Any[WebIO.JSString(\"(function (val){return (val!=this.model[\\\"filename\\\"]()) ? (this.valueFromJulia[\\\"filename\\\"]=true, this.model[\\\"filename\\\"](val)) : undefined})\")], \"path\" => Any[WebIO.JSString(\"(function (val){return (val!=this.model[\\\"path\\\"]()) ? (this.valueFromJulia[\\\"path\\\"]=true, this.model[\\\"path\\\"](val)) : undefined})\")]), WebIO.ConnectionPool(Channel{Any}(32), Set{AbstractConnection}(), Condition(Base.InvasiveLinkedList{Task}(nothing, nothing), Base.AlwaysLockedST(1))), WebIO.JSString[WebIO.JSString(\"function () {\\n    var handler = (function (ko, koPunches) {\\n    ko.punches.enableAll();\\n    ko.bindingHandlers.numericValue = {\\n        init: function(element, valueAccessor, allBindings, data, context) {\\n            var stringified = ko.observable(ko.unwrap(valueAccessor()));\\n            stringified.subscribe(function(value) {\\n                var val = parseFloat(value);\\n                if (!isNaN(val)) {\\n                    valueAccessor()(val);\\n                }\\n            });\\n            valueAccessor().subscribe(function(value) {\\n                var str = JSON.stringify(value);\\n                if ((str == \\\"0\\\") && ([\\\"-0\\\", \\\"-0.\\\"].indexOf(stringified()) >= 0))\\n                     return;\\n                 if ([\\\"null\\\", \\\"\\\"].indexOf(str) >= 0)\\n                     return;\\n                stringified(str);\\n            });\\n            ko.applyBindingsToNode(\\n                element,\\n                {\\n                    value: stringified,\\n                    valueUpdate: allBindings.get('valueUpdate'),\\n                },\\n                context,\\n            );\\n        }\\n    };\\n    var json_data = {\\\"filename\\\":WebIO.getval({\\\"name\\\":\\\"filename\\\",\\\"scope\\\":\\\"18084090180384130587\\\",\\\"id\\\":\\\"9068516128648295634\\\",\\\"type\\\":\\\"observable\\\"}),\\\"path\\\":WebIO.getval({\\\"name\\\":\\\"path\\\",\\\"scope\\\":\\\"18084090180384130587\\\",\\\"id\\\":\\\"681312061504947629\\\",\\\"type\\\":\\\"observable\\\"})};\\n    var self = this;\\n    function AppViewModel() {\\n        for (var key in json_data) {\\n            var el = json_data[key];\\n            this[key] = Array.isArray(el) ? ko.observableArray(el) : ko.observable(el);\\n        }\\n        [this[\\\"onFileUpload\\\"]=function(data, e) {\\n    var files = e.target.files;\\n    this.filename(files[0].name);\\n    return this.path(files[0].path);\\n}\\n]\\n        \\n        [this[\\\"filename\\\"].subscribe((function (val){!(this.valueFromJulia[\\\"filename\\\"]) ? (WebIO.setval({\\\"name\\\":\\\"filename\\\",\\\"scope\\\":\\\"18084090180384130587\\\",\\\"id\\\":\\\"9068516128648295634\\\",\\\"type\\\":\\\"observable\\\"},val)) : undefined; return this.valueFromJulia[\\\"filename\\\"]=false}),self),this[\\\"path\\\"].subscribe((function (val){!(this.valueFromJulia[\\\"path\\\"]) ? (WebIO.setval({\\\"name\\\":\\\"path\\\",\\\"scope\\\":\\\"18084090180384130587\\\",\\\"id\\\":\\\"681312061504947629\\\",\\\"type\\\":\\\"observable\\\"},val)) : undefined; return this.valueFromJulia[\\\"path\\\"]=false}),self)]\\n        \\n    }\\n    self.model = new AppViewModel();\\n    self.valueFromJulia = {};\\n    for (var key in json_data) {\\n        self.valueFromJulia[key] = false;\\n    }\\n    ko.applyBindings(self.model, self.dom);\\n}\\n);\\n    (WebIO.importBlock({\\\"data\\\":[{\\\"name\\\":\\\"knockout\\\",\\\"type\\\":\\\"js\\\",\\\"url\\\":\\\"/assetserver/0fc6d61518197b1bf9b23217e9be1d2e00f2bb14-knockout.js\\\"},{\\\"name\\\":\\\"knockout_punches\\\",\\\"type\\\":\\\"js\\\",\\\"url\\\":\\\"/assetserver/24c12264eef2b01f723a21985ba5661f5564d7cf-knockout_punches.js\\\"}],\\\"type\\\":\\\"async_block\\\"})).then((imports) => handler.apply(this, imports));\\n}\\n\")])], Dict{Symbol, Any}(:className => \"field interact-widget\"))\n",
       "  (div { style=Dict(\"display\" => \"flex\", \"flex-direction\" => \"row\") }\n",
       "    (div { style=Dict{String, Measures.Length{:em, Float64}}(\"padding\" => 1.0em) }\n",
       "      Node{WebIO.DOM}(WebIO.DOM(:html, :div), Any[Scope(Node{WebIO.DOM}(WebIO.DOM(:html, :button), Any[\"Hello!\"], Dict{Symbol, Any}(:attributes => Dict{Any, Any}(\"data-bind\" => \"click: function (){this.clicks(this.clicks()+1)}, css: {'is-loading' : loading}\"), :className => \"is-medium button is-primary\", :style => Dict{String, Any}())), Dict{String, Tuple{Observables.AbstractObservable, Union{Nothing, Bool}}}(\"loading\" => (Observable{Bool} with 1 listeners. Value:\n",
       "false, nothing), \"clicks\" => (Observable{Int64} with 1 listeners. Value:\n",
       "0, nothing)), Set{String}(), nothing, Asset[Asset(\"js\", \"knockout\", \"/Users/johnsmith/.julia/packages/Knockout/IP1uR/src/../assets/knockout.js\"), Asset(\"js\", \"knockout_punches\", \"/Users/johnsmith/.julia/packages/Knockout/IP1uR/src/../assets/knockout_punches.js\"), Asset(\"js\", nothing, \"/Users/johnsmith/.julia/packages/InteractBase/Zfu5P/src/../assets/all.js\"), Asset(\"css\", nothing, \"/Users/johnsmith/.julia/packages/InteractBase/Zfu5P/src/../assets/style.css\"), Asset(\"css\", nothing, \"/Users/johnsmith/.julia/packages/Interact/SbgIk/src/../assets/bulma_confined.min.css\")], Dict{Any, Any}(\"loading\" => Any[WebIO.JSString(\"(function (val){return (val!=this.model[\\\"loading\\\"]()) ? (this.valueFromJulia[\\\"loading\\\"]=true, this.model[\\\"loading\\\"](val)) : undefined})\")], \"clicks\" => Any[WebIO.JSString(\"(function (val){return (val!=this.model[\\\"clicks\\\"]()) ? (this.valueFromJulia[\\\"clicks\\\"]=true, this.model[\\\"clicks\\\"](val)) : undefined})\")]), WebIO.ConnectionPool(Channel{Any}(32), Set{AbstractConnection}(), Condition(Base.InvasiveLinkedList{Task}(nothing, nothing), Base.AlwaysLockedST(1))), WebIO.JSString[WebIO.JSString(\"function () {\\n    var handler = (function (ko, koPunches) {\\n    ko.punches.enableAll();\\n    ko.bindingHandlers.numericValue = {\\n        init: function(element, valueAccessor, allBindings, data, context) {\\n            var stringified = ko.observable(ko.unwrap(valueAccessor()));\\n            stringified.subscribe(function(value) {\\n                var val = parseFloat(value);\\n                if (!isNaN(val)) {\\n                    valueAccessor()(val);\\n                }\\n            });\\n            valueAccessor().subscribe(function(value) {\\n                var str = JSON.stringify(value);\\n                if ((str == \\\"0\\\") && ([\\\"-0\\\", \\\"-0.\\\"].indexOf(stringified()) >= 0))\\n                     return;\\n                 if ([\\\"null\\\", \\\"\\\"].indexOf(str) >= 0)\\n                     return;\\n                stringified(str);\\n            });\\n            ko.applyBindingsToNode(\\n                element,\\n                {\\n                    value: stringified,\\n                    valueUpdate: allBindings.get('valueUpdate'),\\n                },\\n                context,\\n            );\\n        }\\n    };\\n    var json_data = {\\\"loading\\\":WebIO.getval({\\\"name\\\":\\\"loading\\\",\\\"scope\\\":\\\"2408951161208400700\\\",\\\"id\\\":\\\"6305628947009019689\\\",\\\"type\\\":\\\"observable\\\"}),\\\"clicks\\\":WebIO.getval({\\\"name\\\":\\\"clicks\\\",\\\"scope\\\":\\\"2408951161208400700\\\",\\\"id\\\":\\\"14951073555794244577\\\",\\\"type\\\":\\\"observable\\\"})};\\n    var self = this;\\n    function AppViewModel() {\\n        for (var key in json_data) {\\n            var el = json_data[key];\\n            this[key] = Array.isArray(el) ? ko.observableArray(el) : ko.observable(el);\\n        }\\n        \\n        \\n        [this[\\\"loading\\\"].subscribe((function (val){!(this.valueFromJulia[\\\"loading\\\"]) ? (WebIO.setval({\\\"name\\\":\\\"loading\\\",\\\"scope\\\":\\\"2408951161208400700\\\",\\\"id\\\":\\\"6305628947009019689\\\",\\\"type\\\":\\\"observable\\\"},val)) : undefined; return this.valueFromJulia[\\\"loading\\\"]=false}),self),this[\\\"clicks\\\"].subscribe((function (val){!(this.valueFromJulia[\\\"clicks\\\"]) ? (WebIO.setval({\\\"name\\\":\\\"clicks\\\",\\\"scope\\\":\\\"2408951161208400700\\\",\\\"id\\\":\\\"14951073555794244577\\\",\\\"type\\\":\\\"observable\\\"},val)) : undefined; return this.valueFromJulia[\\\"clicks\\\"]=false}),self)]\\n        \\n    }\\n    self.model = new AppViewModel();\\n    self.valueFromJulia = {};\\n    for (var key in json_data) {\\n        self.valueFromJulia[key] = false;\\n    }\\n    ko.applyBindings(self.model, self.dom);\\n}\\n);\\n    (WebIO.importBlock({\\\"data\\\":[{\\\"name\\\":\\\"knockout\\\",\\\"type\\\":\\\"js\\\",\\\"url\\\":\\\"/assetserver/0fc6d61518197b1bf9b23217e9be1d2e00f2bb14-knockout.js\\\"},{\\\"name\\\":\\\"knockout_punches\\\",\\\"type\\\":\\\"js\\\",\\\"url\\\":\\\"/assetserver/24c12264eef2b01f723a21985ba5661f5564d7cf-knockout_punches.js\\\"}],\\\"type\\\":\\\"async_block\\\"})).then((imports) => handler.apply(this, imports));\\n}\\n\")])], Dict{Symbol, Any}(:className => \"field interact-widget\")))\n",
       "    (div { style=Dict{String, Measures.Length{:em, Float64}}(\"padding\" => 1.0em) }\n",
       "      Node{WebIO.DOM}(WebIO.DOM(:html, :div), Any[Scope(Node{WebIO.DOM}(WebIO.DOM(:html, :button), Any[\"Good bye!\"], Dict{Symbol, Any}(:attributes => Dict{Any, Any}(\"data-bind\" => \"click: function (){this.clicks(this.clicks()+1)}, css: {'is-loading' : loading}\"), :className => \"is-medium button is-primary\", :style => Dict{String, Any}())), Dict{String, Tuple{Observables.AbstractObservable, Union{Nothing, Bool}}}(\"loading\" => (Observable{Bool} with 1 listeners. Value:\n",
       "false, nothing), \"clicks\" => (Observable{Int64} with 1 listeners. Value:\n",
       "0, nothing)), Set{String}(), nothing, Asset[Asset(\"js\", \"knockout\", \"/Users/johnsmith/.julia/packages/Knockout/IP1uR/src/../assets/knockout.js\"), Asset(\"js\", \"knockout_punches\", \"/Users/johnsmith/.julia/packages/Knockout/IP1uR/src/../assets/knockout_punches.js\"), Asset(\"js\", nothing, \"/Users/johnsmith/.julia/packages/InteractBase/Zfu5P/src/../assets/all.js\"), Asset(\"css\", nothing, \"/Users/johnsmith/.julia/packages/InteractBase/Zfu5P/src/../assets/style.css\"), Asset(\"css\", nothing, \"/Users/johnsmith/.julia/packages/Interact/SbgIk/src/../assets/bulma_confined.min.css\")], Dict{Any, Any}(\"loading\" => Any[WebIO.JSString(\"(function (val){return (val!=this.model[\\\"loading\\\"]()) ? (this.valueFromJulia[\\\"loading\\\"]=true, this.model[\\\"loading\\\"](val)) : undefined})\")], \"clicks\" => Any[WebIO.JSString(\"(function (val){return (val!=this.model[\\\"clicks\\\"]()) ? (this.valueFromJulia[\\\"clicks\\\"]=true, this.model[\\\"clicks\\\"](val)) : undefined})\")]), WebIO.ConnectionPool(Channel{Any}(32), Set{AbstractConnection}(), Condition(Base.InvasiveLinkedList{Task}(nothing, nothing), Base.AlwaysLockedST(1))), WebIO.JSString[WebIO.JSString(\"function () {\\n    var handler = (function (ko, koPunches) {\\n    ko.punches.enableAll();\\n    ko.bindingHandlers.numericValue = {\\n        init: function(element, valueAccessor, allBindings, data, context) {\\n            var stringified = ko.observable(ko.unwrap(valueAccessor()));\\n            stringified.subscribe(function(value) {\\n                var val = parseFloat(value);\\n                if (!isNaN(val)) {\\n                    valueAccessor()(val);\\n                }\\n            });\\n            valueAccessor().subscribe(function(value) {\\n                var str = JSON.stringify(value);\\n                if ((str == \\\"0\\\") && ([\\\"-0\\\", \\\"-0.\\\"].indexOf(stringified()) >= 0))\\n                     return;\\n                 if ([\\\"null\\\", \\\"\\\"].indexOf(str) >= 0)\\n                     return;\\n                stringified(str);\\n            });\\n            ko.applyBindingsToNode(\\n                element,\\n                {\\n                    value: stringified,\\n                    valueUpdate: allBindings.get('valueUpdate'),\\n                },\\n                context,\\n            );\\n        }\\n    };\\n    var json_data = {\\\"loading\\\":WebIO.getval({\\\"name\\\":\\\"loading\\\",\\\"scope\\\":\\\"9096800762558674541\\\",\\\"id\\\":\\\"8368565976221880051\\\",\\\"type\\\":\\\"observable\\\"}),\\\"clicks\\\":WebIO.getval({\\\"name\\\":\\\"clicks\\\",\\\"scope\\\":\\\"9096800762558674541\\\",\\\"id\\\":\\\"17272362462938748303\\\",\\\"type\\\":\\\"observable\\\"})};\\n    var self = this;\\n    function AppViewModel() {\\n        for (var key in json_data) {\\n            var el = json_data[key];\\n            this[key] = Array.isArray(el) ? ko.observableArray(el) : ko.observable(el);\\n        }\\n        \\n        \\n        [this[\\\"loading\\\"].subscribe((function (val){!(this.valueFromJulia[\\\"loading\\\"]) ? (WebIO.setval({\\\"name\\\":\\\"loading\\\",\\\"scope\\\":\\\"9096800762558674541\\\",\\\"id\\\":\\\"8368565976221880051\\\",\\\"type\\\":\\\"observable\\\"},val)) : undefined; return this.valueFromJulia[\\\"loading\\\"]=false}),self),this[\\\"clicks\\\"].subscribe((function (val){!(this.valueFromJulia[\\\"clicks\\\"]) ? (WebIO.setval({\\\"name\\\":\\\"clicks\\\",\\\"scope\\\":\\\"9096800762558674541\\\",\\\"id\\\":\\\"17272362462938748303\\\",\\\"type\\\":\\\"observable\\\"},val)) : undefined; return this.valueFromJulia[\\\"clicks\\\"]=false}),self)]\\n        \\n    }\\n    self.model = new AppViewModel();\\n    self.valueFromJulia = {};\\n    for (var key in json_data) {\\n        self.valueFromJulia[key] = false;\\n    }\\n    ko.applyBindings(self.model, self.dom);\\n}\\n);\\n    (WebIO.importBlock({\\\"data\\\":[{\\\"name\\\":\\\"knockout\\\",\\\"type\\\":\\\"js\\\",\\\"url\\\":\\\"/assetserver/0fc6d61518197b1bf9b23217e9be1d2e00f2bb14-knockout.js\\\"},{\\\"name\\\":\\\"knockout_punches\\\",\\\"type\\\":\\\"js\\\",\\\"url\\\":\\\"/assetserver/24c12264eef2b01f723a21985ba5661f5564d7cf-knockout_punches.js\\\"}],\\\"type\\\":\\\"async_block\\\"})).then((imports) => handler.apply(this, imports));\\n}\\n\")])], Dict{Symbol, Any}(:className => \"field interact-widget\")))))"
      ]
     },
     "metadata": {
      "application/vnd.webio.node+json": {
       "kernelId": "1ba9d061-5817-4c1d-97d1-fd42acd369e6"
      }
     },
     "output_type": "display_data"
    }
   ],
   "source": [
    "loadbutton = filepicker()\n",
    "hellobutton = button(\"Hello!\")\n",
    "goodbyebutton = button(\"Good bye!\")\n",
    "ui = vbox( # put things one on top of the other\n",
    "    loadbutton,\n",
    "    hbox( # put things one next to the other\n",
    "        pad(1em, hellobutton), # to allow some white space around the widget\n",
    "        pad(1em, goodbyebutton),\n",
    "    )\n",
    ")\n",
    "display(ui)"
   ]
  },
  {
   "cell_type": "code",
   "execution_count": 14,
   "id": "d3c0b197",
   "metadata": {},
   "outputs": [],
   "source": [
    "using Blink\n",
    "w = Window()\n",
    "body!(w, m);"
   ]
  },
  {
   "cell_type": "code",
   "execution_count": 20,
   "id": "081ce80f",
   "metadata": {},
   "outputs": [
    {
     "name": "stderr",
     "output_type": "stream",
     "text": [
      "Unexpected end of input\n",
      " ...when parsing byte with value '0'\n",
      "Stacktrace:\n",
      "  [1] \u001b[0m\u001b[1merror\u001b[22m\u001b[0m\u001b[1m(\u001b[22m\u001b[90ms\u001b[39m::\u001b[0mString\u001b[0m\u001b[1m)\u001b[22m\n",
      "\u001b[90m    @ \u001b[39m\u001b[90mBase\u001b[39m \u001b[90m./\u001b[39m\u001b[90;4merror.jl:33\u001b[0m\n",
      "  [2] \u001b[0m\u001b[1m_error\u001b[22m\u001b[0m\u001b[1m(\u001b[22m\u001b[90mmessage\u001b[39m::\u001b[0mString, \u001b[90mps\u001b[39m::\u001b[0mJSON.Parser.StreamingParserState\u001b[90m{Sockets.TCPSocket}\u001b[39m\u001b[0m\u001b[1m)\u001b[22m\n",
      "\u001b[90m    @ \u001b[39m\u001b[35mJSON.Parser\u001b[39m \u001b[90m~/.julia/dev/JSON/src/\u001b[39m\u001b[90;4mParser.jl:148\u001b[0m\n",
      "  [3] \u001b[0m\u001b[1mbyteat\u001b[22m\u001b[0m\u001b[1m(\u001b[22m\u001b[90mps\u001b[39m::\u001b[0mJSON.Parser.StreamingParserState\u001b[90m{Sockets.TCPSocket}\u001b[39m\u001b[0m\u001b[1m)\u001b[22m\n",
      "\u001b[90m    @ \u001b[39m\u001b[35mJSON.Parser\u001b[39m \u001b[90m~/.julia/dev/JSON/src/\u001b[39m\u001b[90;4mParser.jl:57\u001b[0m\n",
      "  [4] \u001b[0m\u001b[1mcurrent\u001b[22m\n",
      "\u001b[90m    @ \u001b[39m\u001b[90m~/.julia/dev/JSON/src/\u001b[39m\u001b[90;4mParser.jl:70\u001b[0m\u001b[90m [inlined]\u001b[39m\n",
      "  [5] \u001b[0m\u001b[1mchomp_space!\u001b[22m\n",
      "\u001b[90m    @ \u001b[39m\u001b[90m~/.julia/dev/JSON/src/\u001b[39m\u001b[90;4mParser.jl:115\u001b[0m\u001b[90m [inlined]\u001b[39m\n",
      "  [6] \u001b[0m\u001b[1mparse_value\u001b[22m\u001b[0m\u001b[1m(\u001b[22m\u001b[90mpc\u001b[39m::\u001b[0mJSON.Parser.ParserContext\u001b[90m{Dict{String, Any}, Int64, true, nothing}\u001b[39m, \u001b[90mps\u001b[39m::\u001b[0mJSON.Parser.StreamingParserState\u001b[90m{Sockets.TCPSocket}\u001b[39m\u001b[0m\u001b[1m)\u001b[22m\n",
      "\u001b[90m    @ \u001b[39m\u001b[35mJSON.Parser\u001b[39m \u001b[90m~/.julia/dev/JSON/src/\u001b[39m\u001b[90;4mParser.jl:158\u001b[0m\n",
      "  [7] \u001b[0m\u001b[1mparse\u001b[22m\u001b[0m\u001b[1m(\u001b[22m\u001b[90mio\u001b[39m::\u001b[0mSockets.TCPSocket; \u001b[90mdicttype\u001b[39m::\u001b[0mType, \u001b[90minttype\u001b[39m::\u001b[0mType\u001b[90m{Int64}\u001b[39m, \u001b[90mallownan\u001b[39m::\u001b[0mBool, \u001b[90mnull\u001b[39m::\u001b[0mNothing\u001b[0m\u001b[1m)\u001b[22m\n",
      "\u001b[90m    @ \u001b[39m\u001b[35mJSON.Parser\u001b[39m \u001b[90m~/.julia/dev/JSON/src/\u001b[39m\u001b[90;4mParser.jl:491\u001b[0m\n",
      "  [8] \u001b[0m\u001b[1mparse\u001b[22m\n",
      "\u001b[90m    @ \u001b[39m\u001b[90m~/.julia/dev/JSON/src/\u001b[39m\u001b[90;4mParser.jl:489\u001b[0m\u001b[90m [inlined]\u001b[39m\n",
      "  [9] \u001b[0m\u001b[1mmacro expansion\u001b[22m\n",
      "\u001b[90m    @ \u001b[39m\u001b[90m~/.julia/packages/Lazy/9Xnd3/src/\u001b[39m\u001b[90;4mmacros.jl:268\u001b[0m\u001b[90m [inlined]\u001b[39m\n",
      " [10] \u001b[0m\u001b[1mmacro expansion\u001b[22m\n",
      "\u001b[90m    @ \u001b[39m\u001b[90m~/.julia/packages/Blink/mwJC9/src/AtomShell/\u001b[39m\u001b[90;4mprocess.jl:111\u001b[0m\u001b[90m [inlined]\u001b[39m\n",
      " [11] \u001b[0m\u001b[1m(::Blink.AtomShell.var\"#9#10\"{Electron})\u001b[22m\u001b[0m\u001b[1m(\u001b[22m\u001b[0m\u001b[1m)\u001b[22m\n",
      "\u001b[90m    @ \u001b[39m\u001b[36mBlink.AtomShell\u001b[39m \u001b[90m./\u001b[39m\u001b[90;4mtask.jl:411\u001b[0m\n"
     ]
    }
   ],
   "source": [
    "\n"
   ]
  },
  {
   "cell_type": "code",
   "execution_count": null,
   "id": "12a2a1a0",
   "metadata": {},
   "outputs": [],
   "source": []
  }
 ],
 "metadata": {
  "@webio": {
   "lastCommId": "d969e880cb594d168fcaabe7311c023b",
   "lastKernelId": "1ba9d061-5817-4c1d-97d1-fd42acd369e6"
  },
  "kernelspec": {
   "display_name": "Julia 1.6.1",
   "language": "julia",
   "name": "julia-1.6"
  },
  "language_info": {
   "file_extension": ".jl",
   "mimetype": "application/julia",
   "name": "julia",
   "version": "1.6.1"
  }
 },
 "nbformat": 4,
 "nbformat_minor": 5
}
