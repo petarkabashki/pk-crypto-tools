{
 "cells": [
  {
   "cell_type": "code",
   "execution_count": 1,
   "id": "df274168",
   "metadata": {},
   "outputs": [
    {
     "data": {
      "text/html": [
       "<script>\n",
       "// Immediately-invoked-function-expression to avoid global variables.\n",
       "(function() {\n",
       "    var warning_div = document.getElementById(\"webio-warning-5621005585966426124\");\n",
       "    var hide = function () {\n",
       "        var script = document.getElementById(\"webio-setup-5090816664603332049\");\n",
       "        var parent = script && script.parentElement;\n",
       "        var grandparent = parent && parent.parentElement;\n",
       "        if (grandparent) {\n",
       "            grandparent.style.display = \"none\";\n",
       "        }\n",
       "        warning_div.style.display = \"none\";\n",
       "    };\n",
       "    if (typeof Jupyter !== \"undefined\") {\n",
       "        console.log(\"WebIO detected Jupyter notebook environment.\");\n",
       "        // Jupyter notebook.\n",
       "        var extensions = (\n",
       "            Jupyter\n",
       "            && Jupyter.notebook.config.data\n",
       "            && Jupyter.notebook.config.data.load_extensions\n",
       "        );\n",
       "        if (extensions && extensions[\"webio-jupyter-notebook\"]) {\n",
       "            // Extension already loaded.\n",
       "            console.log(\"Jupyter WebIO nbextension detected; not loading ad-hoc.\");\n",
       "            hide();\n",
       "            return;\n",
       "        }\n",
       "    } else if (window.location.pathname.includes(\"/lab\")) {\n",
       "        // Guessing JupyterLa\n",
       "        console.log(\"Jupyter Lab detected; make sure the @webio/jupyter-lab-provider labextension is installed.\");\n",
       "        hide();\n",
       "        return;\n",
       "    }\n",
       "})();\n",
       "\n",
       "</script>\n",
       "<p\n",
       "    id=\"webio-warning-5621005585966426124\"\n",
       "    class=\"output_text output_stderr\"\n",
       "    style=\"padding: 1em; font-weight: bold;\"\n",
       ">\n",
       "    Unable to load WebIO. Please make sure WebIO works for your Jupyter client.\n",
       "    For troubleshooting, please see <a href=\"https://juliagizmos.github.io/WebIO.jl/latest/providers/ijulia/\">\n",
       "    the WebIO/IJulia documentation</a>.\n",
       "    <!-- TODO: link to installation docs. -->\n",
       "</p>\n"
      ],
      "text/plain": [
       "HTML{String}(\"<script>\\n// Immediately-invoked-function-expression to avoid global variables.\\n(function() {\\n    var warning_div = document.getElementById(\\\"webio-warning-5621005585966426124\\\");\\n    var hide = function () {\\n        var script = document.getElementById(\\\"webio-setup-5090816664603332049\\\");\\n        var parent = script && script.parentElement;\\n        var grandparent = parent && parent.parentElement;\\n        if (grandparent) {\\n            grandparent.style.display = \\\"none\\\";\\n        }\\n        warning_div.style.display = \\\"none\\\";\\n    };\\n    if (typeof Jupyter !== \\\"undefined\\\") {\\n        console.log(\\\"WebIO detected Jupyter notebook environment.\\\");\\n        // Jupyter notebook.\\n        var extensions = (\\n            Jupyter\\n            && Jupyter.notebook.config.data\\n            && Jupyter.notebook.config.data.load_extensions\\n        );\\n        if (extensions && extensions[\\\"webio-jupyter-notebook\\\"]) {\\n            // Extension already loaded.\\n            console.log(\\\"Jupyter WebIO nbextension detected; not loading ad-hoc.\\\");\\n            hide();\\n            return;\\n        }\\n    } else if (window.location.pathname.includes(\\\"/lab\\\")) {\\n        // Guessing JupyterLa\\n        console.log(\\\"Jupyter Lab detected; make sure the @webio/jupyter-lab-provider labextension is installed.\\\");\\n        hide();\\n        return;\\n    }\\n})();\\n\\n</script>\\n<p\\n    id=\\\"webio-warning-5621005585966426124\\\"\\n    class=\\\"output_text output_stderr\\\"\\n    style=\\\"padding: 1em; font-weight: bold;\\\"\\n>\\n    Unable to load WebIO. Please make sure WebIO works for your Jupyter client.\\n    For troubleshooting, please see <a href=\\\"https://juliagizmos.github.io/WebIO.jl/latest/providers/ijulia/\\\">\\n    the WebIO/IJulia documentation</a>.\\n    <!-- TODO: link to installation docs. -->\\n</p>\\n\")"
      ]
     },
     "metadata": {},
     "output_type": "display_data"
    }
   ],
   "source": [
    "using Pipe\n",
    "using DataFrames\n",
    "# using StatsPlots\n",
    "using CSV\n",
    "# using RollingFunctions\n",
    "using Query\n",
    "# using GLMakie\n",
    "\n",
    "using JSON\n",
    "using DataFrames\n",
    "using Dates\n",
    "using Colors\n",
    "# using ColorSchemes\n",
    "using Indicators\n",
    "\n",
    "import Colors\n",
    "using Plots\n",
    "using Interact\n",
    "using JuliaDB"
   ]
  },
  {
   "cell_type": "code",
   "execution_count": 2,
   "id": "e27136ce",
   "metadata": {},
   "outputs": [],
   "source": [
    "json_data_folder = \"../user_data/data/binance\"\n",
    "json_filename = \"BTC_USDT-1m.json\"\n",
    "json_filepath = \"$json_data_folder/$json_filename\"\n",
    "f = open(json_filepath, \"r\")\n",
    "json_data = JSON.parse(f)\n",
    "close(f)"
   ]
  },
  {
   "cell_type": "code",
   "execution_count": 3,
   "id": "278ff7dc",
   "metadata": {},
   "outputs": [
    {
     "data": {
      "text/plain": [
       "129177"
      ]
     },
     "execution_count": 3,
     "metadata": {},
     "output_type": "execute_result"
    }
   ],
   "source": [
    "dfa = DataFrame(unix_time = Int64[], open=Float64[], high=Float64[], low=Float64[], close=Float64[], volume=Float64[])\n",
    "for r in json_data push!(dfa, r) end\n",
    "dfa.unix_time .= dfa.unix_time ./1000\n",
    "# dfa.time .= unix2datetime.(dfa.unix_time)\n",
    "\n",
    "insertcols!(dfa, :time => unix2datetime.(dfa.unix_time))\n",
    "nrow(dfa)"
   ]
  },
  {
   "cell_type": "code",
   "execution_count": 139,
   "id": "c9b59b02",
   "metadata": {},
   "outputs": [
    {
     "data": {
      "text/plain": [
       "37441"
      ]
     },
     "execution_count": 139,
     "metadata": {},
     "output_type": "execute_result"
    }
   ],
   "source": [
    "start_date = DateTime(2021, 5, 1)\n",
    "end_date = DateTime(2021, 5, 27)\n",
    "vdf = dfa[(dfa.time .>= start_date) .& (dfa.time .<= end_date) , :]\n",
    "ut, tt, hh, ll, cc = vdf.unix_time, vdf.time, vdf.high, vdf.low, vdf.close\n",
    "# h14max = [fill(vdf[1,:high],8-1)...,rollmax(vdf.high, 8)...]\n",
    "#  length(h14max), length(vdf.close)\n",
    "# hlc = [hh ll cc]\n",
    "length(tt)"
   ]
  },
  {
   "cell_type": "code",
   "execution_count": 5,
   "id": "bbc09b4c",
   "metadata": {},
   "outputs": [
    {
     "data": {
      "text/plain": [
       "1"
      ]
     },
     "execution_count": 5,
     "metadata": {},
     "output_type": "execute_result"
    }
   ],
   "source": [
    "ar = cc\n",
    "# ema = Indicators.ema\n",
    "# ema26 = ema(ar,n=26)\n",
    "# ema50 = ema(ar,n=330)\n",
    "ema100 = ema(ar,n=100)\n",
    "# ema200 = ema(ar,n=200)\n",
    "# sma = Indicators.sma\n",
    "# sma26 = sma(ar,n=26)\n",
    "# sma50 = sma(ar,n=50)\n",
    "sma100 = sma(ar,n=100)\n",
    "# sma200 = sma(ar,n=200)\n",
    "# sma400 = sma(ar,n=400)\n",
    "# sma800 = sma(ar,n=800)\n",
    "1"
   ]
  },
  {
   "cell_type": "code",
   "execution_count": 122,
   "id": "f8309305",
   "metadata": {},
   "outputs": [],
   "source": [
    "# using FFTW\n",
    "# x = copy(cc)\n",
    "# xx = x\n",
    "# x = xx[1:2048]\n",
    "# plot(x)\n",
    "# plot(cc[ix] )\n",
    "# x\n",
    "using Wavelets"
   ]
  },
  {
   "cell_type": "code",
   "execution_count": 148,
   "id": "c69b6f6f",
   "metadata": {},
   "outputs": [
    {
     "data": {
      "application/vnd.webio.node+json": {
       "children": [
        {
         "children": [
          {
           "children": [
            {
             "children": [
              {
               "children": [
                {
                 "children": [
                  "m"
                 ],
                 "instanceArgs": {
                  "namespace": "html",
                  "tag": "label"
                 },
                 "nodeType": "DOM",
                 "props": {
                  "className": "interact ",
                  "style": {
                   "padding": "5px 10px 0px 10px"
                  }
                 },
                 "type": "node"
                }
               ],
               "instanceArgs": {
                "namespace": "html",
                "tag": "div"
               },
               "nodeType": "DOM",
               "props": {
                "className": "interact-flex-row-left"
               },
               "type": "node"
              },
              {
               "children": [
                {
                 "children": [],
                 "instanceArgs": {
                  "namespace": "html",
                  "tag": "input"
                 },
                 "nodeType": "DOM",
                 "props": {
                  "attributes": {
                   "data-bind": "numericValue: index, valueUpdate: 'input', event: {change: function (){this.changes(this.changes()+1)}}",
                   "orient": "horizontal",
                   "type": "range"
                  },
                  "className": "slider slider is-fullwidth",
                  "default": 7,
                  "max": 15,
                  "min": 1,
                  "step": 1,
                  "style": {}
                 },
                 "type": "node"
                }
               ],
               "instanceArgs": {
                "namespace": "html",
                "tag": "div"
               },
               "nodeType": "DOM",
               "props": {
                "className": "interact-flex-row-center"
               },
               "type": "node"
              },
              {
               "children": [
                {
                 "children": [],
                 "instanceArgs": {
                  "namespace": "html",
                  "tag": "p"
                 },
                 "nodeType": "DOM",
                 "props": {
                  "attributes": {
                   "data-bind": "text: formatted_val"
                  }
                 },
                 "type": "node"
                }
               ],
               "instanceArgs": {
                "namespace": "html",
                "tag": "div"
               },
               "nodeType": "DOM",
               "props": {
                "className": "interact-flex-row-right"
               },
               "type": "node"
              }
             ],
             "instanceArgs": {
              "namespace": "html",
              "tag": "div"
             },
             "nodeType": "DOM",
             "props": {
              "className": "interact-flex-row interact-widget"
             },
             "type": "node"
            }
           ],
           "instanceArgs": {
            "handlers": {
             "changes": [
              "(function (val){return (val!=this.model[\"changes\"]()) ? (this.valueFromJulia[\"changes\"]=true, this.model[\"changes\"](val)) : undefined})"
             ],
             "index": [
              "(function (val){return (val!=this.model[\"index\"]()) ? (this.valueFromJulia[\"index\"]=true, this.model[\"index\"](val)) : undefined})"
             ]
            },
            "id": "14155568388861981875",
            "imports": {
             "data": [
              {
               "name": "knockout",
               "type": "js",
               "url": "/assetserver/0fc6d61518197b1bf9b23217e9be1d2e00f2bb14-knockout.js"
              },
              {
               "name": "knockout_punches",
               "type": "js",
               "url": "/assetserver/24c12264eef2b01f723a21985ba5661f5564d7cf-knockout_punches.js"
              },
              {
               "name": null,
               "type": "js",
               "url": "/assetserver/85de428ae418ad26c1ce7e886d25374b3774afa9-all.js"
              },
              {
               "name": null,
               "type": "css",
               "url": "/assetserver/2cd8ff31326883094fe5a8ff21182264663b62be-style.css"
              },
              {
               "name": null,
               "type": "css",
               "url": "/assetserver/741bde2d4bf25f117d0ec4d43164cd1a050cf9de-bulma_confined.min.css"
              }
             ],
             "type": "async_block"
            },
            "mount_callbacks": [
             "function () {\n    var handler = (function (ko, koPunches) {\n    ko.punches.enableAll();\n    ko.bindingHandlers.numericValue = {\n        init: function(element, valueAccessor, allBindings, data, context) {\n            var stringified = ko.observable(ko.unwrap(valueAccessor()));\n            stringified.subscribe(function(value) {\n                var val = parseFloat(value);\n                if (!isNaN(val)) {\n                    valueAccessor()(val);\n                }\n            });\n            valueAccessor().subscribe(function(value) {\n                var str = JSON.stringify(value);\n                if ((str == \"0\") && ([\"-0\", \"-0.\"].indexOf(stringified()) >= 0))\n                     return;\n                 if ([\"null\", \"\"].indexOf(str) >= 0)\n                     return;\n                stringified(str);\n            });\n            ko.applyBindingsToNode(\n                element,\n                {\n                    value: stringified,\n                    valueUpdate: allBindings.get('valueUpdate'),\n                },\n                context,\n            );\n        }\n    };\n    var json_data = {\"formatted_vals\":[\"1\",\"2\",\"3\",\"4\",\"5\",\"6\",\"7\",\"8\",\"9\",\"10\",\"11\",\"12\",\"13\",\"14\",\"15\"],\"changes\":WebIO.getval({\"name\":\"changes\",\"scope\":\"14155568388861981875\",\"id\":\"8029948714039056713\",\"type\":\"observable\"}),\"index\":WebIO.getval({\"name\":\"index\",\"scope\":\"14155568388861981875\",\"id\":\"17242420901280589613\",\"type\":\"observable\"})};\n    var self = this;\n    function AppViewModel() {\n        for (var key in json_data) {\n            var el = json_data[key];\n            this[key] = Array.isArray(el) ? ko.observableArray(el) : ko.observable(el);\n        }\n        \n        [this[\"formatted_val\"]=ko.computed(    function(){\n        return this.formatted_vals()[parseInt(this.index())-(1)];\n    }\n,this)]\n        [this[\"changes\"].subscribe((function (val){!(this.valueFromJulia[\"changes\"]) ? (WebIO.setval({\"name\":\"changes\",\"scope\":\"14155568388861981875\",\"id\":\"8029948714039056713\",\"type\":\"observable\"},val)) : undefined; return this.valueFromJulia[\"changes\"]=false}),self),this[\"index\"].subscribe((function (val){!(this.valueFromJulia[\"index\"]) ? (WebIO.setval({\"name\":\"index\",\"scope\":\"14155568388861981875\",\"id\":\"17242420901280589613\",\"type\":\"observable\"},val)) : undefined; return this.valueFromJulia[\"index\"]=false}),self)]\n        \n    }\n    self.model = new AppViewModel();\n    self.valueFromJulia = {};\n    for (var key in json_data) {\n        self.valueFromJulia[key] = false;\n    }\n    ko.applyBindings(self.model, self.dom);\n}\n);\n    (WebIO.importBlock({\"data\":[{\"name\":\"knockout\",\"type\":\"js\",\"url\":\"/assetserver/0fc6d61518197b1bf9b23217e9be1d2e00f2bb14-knockout.js\"},{\"name\":\"knockout_punches\",\"type\":\"js\",\"url\":\"/assetserver/24c12264eef2b01f723a21985ba5661f5564d7cf-knockout_punches.js\"}],\"type\":\"async_block\"})).then((imports) => handler.apply(this, imports));\n}\n"
            ],
            "observables": {
             "changes": {
              "id": "8029948714039056713",
              "sync": false,
              "value": 0
             },
             "index": {
              "id": "17242420901280589613",
              "sync": true,
              "value": 8
             }
            },
            "systemjs_options": null
           },
           "nodeType": "Scope",
           "props": {},
           "type": "node"
          }
         ],
         "instanceArgs": {
          "namespace": "html",
          "tag": "div"
         },
         "nodeType": "DOM",
         "props": {
          "className": "field interact-widget"
         },
         "type": "node"
        },
        {
         "children": [
          {
           "children": [],
           "instanceArgs": {
            "id": "15009347748978192289",
            "name": "obs-node"
           },
           "nodeType": "ObservableNode",
           "props": {},
           "type": "node"
          }
         ],
         "instanceArgs": {
          "handlers": {},
          "id": "5255566945944600580",
          "imports": {
           "data": [],
           "type": "async_block"
          },
          "mount_callbacks": [],
          "observables": {
           "obs-node": {
            "id": "15009347748978192289",
            "sync": false,
            "value": {
             "children": [
              {
               "children": [],
               "instanceArgs": {
                "namespace": "html",
                "tag": "div"
               },
               "nodeType": "DOM",
               "props": {
                "setInnerHtml": "<?xml version=\"1.0\" encoding=\"utf-8\"?>\n<svg xmlns=\"http://www.w3.org/2000/svg\" xmlns:xlink=\"http://www.w3.org/1999/xlink\" width=\"600\" height=\"400\" viewBox=\"0 0 2400 1600\">\n<defs>\n  <clipPath id=\"clip6300\">\n    <rect x=\"0\" y=\"0\" width=\"2400\" height=\"1600\"/>\n  </clipPath>\n</defs>\n<path clip-path=\"url(#clip6300)\" d=\"\nM0 1600 L2400 1600 L2400 0 L0 0  Z\n  \" fill=\"#ffffff\" fill-rule=\"evenodd\" fill-opacity=\"1\"/>\n<defs>\n  <clipPath id=\"clip6301\">\n    <rect x=\"480\" y=\"0\" width=\"1681\" height=\"1600\"/>\n  </clipPath>\n</defs>\n<path clip-path=\"url(#clip6300)\" d=\"\nM113.754 1487.47 L2112.76 1487.47 L2112.76 47.2441 L113.754 47.2441  Z\n  \" fill=\"#ffffff\" fill-rule=\"evenodd\" fill-opacity=\"1\"/>\n<defs>\n  <clipPath id=\"clip6302\">\n    <rect x=\"113\" y=\"47\" width=\"2000\" height=\"1441\"/>\n  </clipPath>\n</defs>\n<polyline clip-path=\"url(#clip6302)\" style=\"stroke:#000000; stroke-width:2; stroke-opacity:0.1; fill:none\" points=\"\n  500.28,1487.47 500.28,47.2441 \n  \"/>\n<polyline clip-path=\"url(#clip6302)\" style=\"stroke:#000000; stroke-width:2; stroke-opacity:0.1; fill:none\" points=\"\n  890.71,1487.47 890.71,47.2441 \n  \"/>\n<polyline clip-path=\"url(#clip6302)\" style=\"stroke:#000000; stroke-width:2; stroke-opacity:0.1; fill:none\" points=\"\n  1281.14,1487.47 1281.14,47.2441 \n  \"/>\n<polyline clip-path=\"url(#clip6302)\" style=\"stroke:#000000; stroke-width:2; stroke-opacity:0.1; fill:none\" points=\"\n  1671.57,1487.47 1671.57,47.2441 \n  \"/>\n<polyline clip-path=\"url(#clip6302)\" style=\"stroke:#000000; stroke-width:2; stroke-opacity:0.1; fill:none\" points=\"\n  2062,1487.47 2062,47.2441 \n  \"/>\n<polyline clip-path=\"url(#clip6302)\" style=\"stroke:#000000; stroke-width:2; stroke-opacity:0.1; fill:none\" points=\"\n  113.754,1217.43 2112.76,1217.43 \n  \"/>\n<polyline clip-path=\"url(#clip6302)\" style=\"stroke:#000000; stroke-width:2; stroke-opacity:0.1; fill:none\" points=\"\n  113.754,857.374 2112.76,857.374 \n  \"/>\n<polyline clip-path=\"url(#clip6302)\" style=\"stroke:#000000; stroke-width:2; stroke-opacity:0.1; fill:none\" points=\"\n  113.754,497.316 2112.76,497.316 \n  \"/>\n<polyline clip-path=\"url(#clip6302)\" style=\"stroke:#000000; stroke-width:2; stroke-opacity:0.1; fill:none\" points=\"\n  113.754,137.259 2112.76,137.259 \n  \"/>\n<polyline clip-path=\"url(#clip6300)\" style=\"stroke:#000000; stroke-width:4; stroke-opacity:1; fill:none\" points=\"\n  113.754,1487.47 2112.76,1487.47 \n  \"/>\n<polyline clip-path=\"url(#clip6300)\" style=\"stroke:#000000; stroke-width:4; stroke-opacity:1; fill:none\" points=\"\n  113.754,1487.47 113.754,47.2441 \n  \"/>\n<polyline clip-path=\"url(#clip6300)\" style=\"stroke:#000000; stroke-width:4; stroke-opacity:1; fill:none\" points=\"\n  500.28,1487.47 500.28,1470.19 \n  \"/>\n<polyline clip-path=\"url(#clip6300)\" style=\"stroke:#000000; stroke-width:4; stroke-opacity:1; fill:none\" points=\"\n  890.71,1487.47 890.71,1470.19 \n  \"/>\n<polyline clip-path=\"url(#clip6300)\" style=\"stroke:#000000; stroke-width:4; stroke-opacity:1; fill:none\" points=\"\n  1281.14,1487.47 1281.14,1470.19 \n  \"/>\n<polyline clip-path=\"url(#clip6300)\" style=\"stroke:#000000; stroke-width:4; stroke-opacity:1; fill:none\" points=\"\n  1671.57,1487.47 1671.57,1470.19 \n  \"/>\n<polyline clip-path=\"url(#clip6300)\" style=\"stroke:#000000; stroke-width:4; stroke-opacity:1; fill:none\" points=\"\n  2062,1487.47 2062,1470.19 \n  \"/>\n<polyline clip-path=\"url(#clip6300)\" style=\"stroke:#000000; stroke-width:4; stroke-opacity:1; fill:none\" points=\"\n  113.754,1217.43 137.742,1217.43 \n  \"/>\n<polyline clip-path=\"url(#clip6300)\" style=\"stroke:#000000; stroke-width:4; stroke-opacity:1; fill:none\" points=\"\n  113.754,857.374 137.742,857.374 \n  \"/>\n<polyline clip-path=\"url(#clip6300)\" style=\"stroke:#000000; stroke-width:4; stroke-opacity:1; fill:none\" points=\"\n  113.754,497.316 137.742,497.316 \n  \"/>\n<polyline clip-path=\"url(#clip6300)\" style=\"stroke:#000000; stroke-width:4; stroke-opacity:1; fill:none\" points=\"\n  113.754,137.259 137.742,137.259 \n  \"/>\n<g clip-path=\"url(#clip6300)\">\n<text style=\"fill:#000000; fill-opacity:1; font-family:Arial,Helvetica Neue,Helvetica,sans-serif; font-size:48px; text-anchor:middle;\" transform=\"rotate(0, 500.28, 1541.47)\" x=\"500.28\" y=\"1541.47\">50</text>\n</g>\n<g clip-path=\"url(#clip6300)\">\n<text style=\"fill:#000000; fill-opacity:1; font-family:Arial,Helvetica Neue,Helvetica,sans-serif; font-size:48px; text-anchor:middle;\" transform=\"rotate(0, 890.71, 1541.47)\" x=\"890.71\" y=\"1541.47\">100</text>\n</g>\n<g clip-path=\"url(#clip6300)\">\n<text style=\"fill:#000000; fill-opacity:1; font-family:Arial,Helvetica Neue,Helvetica,sans-serif; font-size:48px; text-anchor:middle;\" transform=\"rotate(0, 1281.14, 1541.47)\" x=\"1281.14\" y=\"1541.47\">150</text>\n</g>\n<g clip-path=\"url(#clip6300)\">\n<text style=\"fill:#000000; fill-opacity:1; font-family:Arial,Helvetica Neue,Helvetica,sans-serif; font-size:48px; text-anchor:middle;\" transform=\"rotate(0, 1671.57, 1541.47)\" x=\"1671.57\" y=\"1541.47\">200</text>\n</g>\n<g clip-path=\"url(#clip6300)\">\n<text style=\"fill:#000000; fill-opacity:1; font-family:Arial,Helvetica Neue,Helvetica,sans-serif; font-size:48px; text-anchor:middle;\" transform=\"rotate(0, 2062, 1541.47)\" x=\"2062\" y=\"1541.47\">250</text>\n</g>\n<g clip-path=\"url(#clip6300)\">\n<text style=\"fill:#000000; fill-opacity:1; font-family:Arial,Helvetica Neue,Helvetica,sans-serif; font-size:48px; text-anchor:end;\" transform=\"rotate(0, 89.7545, 1234.93)\" x=\"89.7545\" y=\"1234.93\">2</text>\n</g>\n<g clip-path=\"url(#clip6300)\">\n<text style=\"fill:#000000; fill-opacity:1; font-family:Arial,Helvetica Neue,Helvetica,sans-serif; font-size:48px; text-anchor:end;\" transform=\"rotate(0, 89.7545, 874.874)\" x=\"89.7545\" y=\"874.874\">4</text>\n</g>\n<g clip-path=\"url(#clip6300)\">\n<text style=\"fill:#000000; fill-opacity:1; font-family:Arial,Helvetica Neue,Helvetica,sans-serif; font-size:48px; text-anchor:end;\" transform=\"rotate(0, 89.7545, 514.816)\" x=\"89.7545\" y=\"514.816\">6</text>\n</g>\n<g clip-path=\"url(#clip6300)\">\n<text style=\"fill:#000000; fill-opacity:1; font-family:Arial,Helvetica Neue,Helvetica,sans-serif; font-size:48px; text-anchor:end;\" transform=\"rotate(0, 89.7545, 154.759)\" x=\"89.7545\" y=\"154.759\">8</text>\n</g>\n<g clip-path=\"url(#clip6302)\">\n<image width=\"1999\" height=\"1440\" xlink:href=\"data:image/png;base64,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\n\" transform=\"translate(114, 47)\"/>\n</g>\n<defs>\n  <clipPath id=\"clip6303\">\n    <rect x=\"2160\" y=\"47\" width=\"73\" height=\"1441\"/>\n  </clipPath>\n</defs>\n<g clip-path=\"url(#clip6303)\">\n<image width=\"72\" height=\"1440\" xlink:href=\"data:image/png;base64,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\nX8iooQAAAABJRU5ErkJggg==\n\" transform=\"translate(2161, 47)\"/>\n</g>\n<g clip-path=\"url(#clip6300)\">\n<text style=\"fill:#000000; fill-opacity:1; font-family:Arial,Helvetica Neue,Helvetica,sans-serif; font-size:48px; text-anchor:start;\" transform=\"rotate(0, 2268.76, 1394.02)\" x=\"2268.76\" y=\"1394.02\">38250</text>\n</g>\n<g clip-path=\"url(#clip6300)\">\n<text style=\"fill:#000000; fill-opacity:1; font-family:Arial,Helvetica Neue,Helvetica,sans-serif; font-size:48px; text-anchor:start;\" transform=\"rotate(0, 2268.76, 1099.34)\" x=\"2268.76\" y=\"1099.34\">38500</text>\n</g>\n<g clip-path=\"url(#clip6300)\">\n<text style=\"fill:#000000; fill-opacity:1; font-family:Arial,Helvetica Neue,Helvetica,sans-serif; font-size:48px; text-anchor:start;\" transform=\"rotate(0, 2268.76, 804.65)\" x=\"2268.76\" y=\"804.65\">38750</text>\n</g>\n<g clip-path=\"url(#clip6300)\">\n<text style=\"fill:#000000; fill-opacity:1; font-family:Arial,Helvetica Neue,Helvetica,sans-serif; font-size:48px; text-anchor:start;\" transform=\"rotate(0, 2268.76, 509.963)\" x=\"2268.76\" y=\"509.963\">39000</text>\n</g>\n<g clip-path=\"url(#clip6300)\">\n<text style=\"fill:#000000; fill-opacity:1; font-family:Arial,Helvetica Neue,Helvetica,sans-serif; font-size:48px; text-anchor:start;\" transform=\"rotate(0, 2268.76, 215.276)\" x=\"2268.76\" y=\"215.276\">39250</text>\n</g>\n<polyline clip-path=\"url(#clip6300)\" style=\"stroke:#000000; stroke-width:4; stroke-opacity:1; fill:none\" points=\"\n  2232.76,1487.47 2232.76,1380.37 2256.76,1380.37 2232.76,1380.37 2232.76,1085.69 2256.76,1085.69 2232.76,1085.69 2232.76,790.999 2256.76,790.999 2232.76,790.999 \n  2232.76,496.312 2256.76,496.312 2232.76,496.312 2232.76,201.625 2256.76,201.625 2232.76,201.625 2232.76,47.2441 \n  \"/>\n</svg>\n"
               },
               "type": "node"
              }
             ],
             "instanceArgs": {
              "namespace": "html",
              "tag": "div"
             },
             "nodeType": "DOM",
             "props": {
              "className": "interact-flex-row interact-widget"
             },
             "type": "node"
            }
           }
          },
          "systemjs_options": null
         },
         "nodeType": "Scope",
         "props": {},
         "type": "node"
        }
       ],
       "instanceArgs": {
        "namespace": "html",
        "tag": "div"
       },
       "nodeType": "DOM",
       "props": {},
       "type": "node"
      },
      "text/html": [
       "<div\n",
       "    class=\"webio-mountpoint\"\n",
       "    data-webio-mountpoint=\"15868973271054830777\"\n",
       ">\n",
       "    <script>\n",
       "    if (window.require && require.defined && require.defined(\"nbextensions/webio-jupyter-notebook\")) {\n",
       "        console.log(\"Jupyter WebIO extension detected, not mounting.\");\n",
       "    } else if (window.WebIO) {\n",
       "        WebIO.mount(\n",
       "            document.querySelector('[data-webio-mountpoint=\"15868973271054830777\"]'),\n",
       "            {\"props\":{},\"nodeType\":\"DOM\",\"type\":\"node\",\"instanceArgs\":{\"namespace\":\"html\",\"tag\":\"div\"},\"children\":[{\"props\":{\"className\":\"field interact-widget\"},\"nodeType\":\"DOM\",\"type\":\"node\",\"instanceArgs\":{\"namespace\":\"html\",\"tag\":\"div\"},\"children\":[{\"props\":{},\"nodeType\":\"Scope\",\"type\":\"node\",\"instanceArgs\":{\"imports\":{\"data\":[{\"name\":\"knockout\",\"type\":\"js\",\"url\":\"\\/assetserver\\/0fc6d61518197b1bf9b23217e9be1d2e00f2bb14-knockout.js\"},{\"name\":\"knockout_punches\",\"type\":\"js\",\"url\":\"\\/assetserver\\/24c12264eef2b01f723a21985ba5661f5564d7cf-knockout_punches.js\"},{\"name\":null,\"type\":\"js\",\"url\":\"\\/assetserver\\/85de428ae418ad26c1ce7e886d25374b3774afa9-all.js\"},{\"name\":null,\"type\":\"css\",\"url\":\"\\/assetserver\\/2cd8ff31326883094fe5a8ff21182264663b62be-style.css\"},{\"name\":null,\"type\":\"css\",\"url\":\"\\/assetserver\\/741bde2d4bf25f117d0ec4d43164cd1a050cf9de-bulma_confined.min.css\"}],\"type\":\"async_block\"},\"id\":\"14155568388861981875\",\"handlers\":{\"changes\":[\"(function (val){return (val!=this.model[\\\"changes\\\"]()) ? (this.valueFromJulia[\\\"changes\\\"]=true, this.model[\\\"changes\\\"](val)) : undefined})\"],\"index\":[\"(function (val){return (val!=this.model[\\\"index\\\"]()) ? (this.valueFromJulia[\\\"index\\\"]=true, this.model[\\\"index\\\"](val)) : undefined})\"]},\"systemjs_options\":null,\"mount_callbacks\":[\"function () {\\n    var handler = (function (ko, koPunches) {\\n    ko.punches.enableAll();\\n    ko.bindingHandlers.numericValue = {\\n        init: function(element, valueAccessor, allBindings, data, context) {\\n            var stringified = ko.observable(ko.unwrap(valueAccessor()));\\n            stringified.subscribe(function(value) {\\n                var val = parseFloat(value);\\n                if (!isNaN(val)) {\\n                    valueAccessor()(val);\\n                }\\n            });\\n            valueAccessor().subscribe(function(value) {\\n                var str = JSON.stringify(value);\\n                if ((str == \\\"0\\\") && ([\\\"-0\\\", \\\"-0.\\\"].indexOf(stringified()) >= 0))\\n                     return;\\n                 if ([\\\"null\\\", \\\"\\\"].indexOf(str) >= 0)\\n                     return;\\n                stringified(str);\\n            });\\n            ko.applyBindingsToNode(\\n                element,\\n                {\\n                    value: stringified,\\n                    valueUpdate: allBindings.get('valueUpdate'),\\n                },\\n                context,\\n            );\\n        }\\n    };\\n    var json_data = {\\\"formatted_vals\\\":[\\\"1\\\",\\\"2\\\",\\\"3\\\",\\\"4\\\",\\\"5\\\",\\\"6\\\",\\\"7\\\",\\\"8\\\",\\\"9\\\",\\\"10\\\",\\\"11\\\",\\\"12\\\",\\\"13\\\",\\\"14\\\",\\\"15\\\"],\\\"changes\\\":WebIO.getval({\\\"name\\\":\\\"changes\\\",\\\"scope\\\":\\\"14155568388861981875\\\",\\\"id\\\":\\\"8029948714039056713\\\",\\\"type\\\":\\\"observable\\\"}),\\\"index\\\":WebIO.getval({\\\"name\\\":\\\"index\\\",\\\"scope\\\":\\\"14155568388861981875\\\",\\\"id\\\":\\\"17242420901280589613\\\",\\\"type\\\":\\\"observable\\\"})};\\n    var self = this;\\n    function AppViewModel() {\\n        for (var key in json_data) {\\n            var el = json_data[key];\\n            this[key] = Array.isArray(el) ? ko.observableArray(el) : ko.observable(el);\\n        }\\n        \\n        [this[\\\"formatted_val\\\"]=ko.computed(    function(){\\n        return this.formatted_vals()[parseInt(this.index())-(1)];\\n    }\\n,this)]\\n        [this[\\\"changes\\\"].subscribe((function (val){!(this.valueFromJulia[\\\"changes\\\"]) ? (WebIO.setval({\\\"name\\\":\\\"changes\\\",\\\"scope\\\":\\\"14155568388861981875\\\",\\\"id\\\":\\\"8029948714039056713\\\",\\\"type\\\":\\\"observable\\\"},val)) : undefined; return this.valueFromJulia[\\\"changes\\\"]=false}),self),this[\\\"index\\\"].subscribe((function (val){!(this.valueFromJulia[\\\"index\\\"]) ? (WebIO.setval({\\\"name\\\":\\\"index\\\",\\\"scope\\\":\\\"14155568388861981875\\\",\\\"id\\\":\\\"17242420901280589613\\\",\\\"type\\\":\\\"observable\\\"},val)) : undefined; return this.valueFromJulia[\\\"index\\\"]=false}),self)]\\n        \\n    }\\n    self.model = new AppViewModel();\\n    self.valueFromJulia = {};\\n    for (var key in json_data) {\\n        self.valueFromJulia[key] = false;\\n    }\\n    ko.applyBindings(self.model, self.dom);\\n}\\n);\\n    (WebIO.importBlock({\\\"data\\\":[{\\\"name\\\":\\\"knockout\\\",\\\"type\\\":\\\"js\\\",\\\"url\\\":\\\"\\/assetserver\\/0fc6d61518197b1bf9b23217e9be1d2e00f2bb14-knockout.js\\\"},{\\\"name\\\":\\\"knockout_punches\\\",\\\"type\\\":\\\"js\\\",\\\"url\\\":\\\"\\/assetserver\\/24c12264eef2b01f723a21985ba5661f5564d7cf-knockout_punches.js\\\"}],\\\"type\\\":\\\"async_block\\\"})).then((imports) => handler.apply(this, imports));\\n}\\n\"],\"observables\":{\"changes\":{\"sync\":false,\"id\":\"8029948714039056713\",\"value\":0},\"index\":{\"sync\":true,\"id\":\"17242420901280589613\",\"value\":8}}},\"children\":[{\"props\":{\"className\":\"interact-flex-row interact-widget\"},\"nodeType\":\"DOM\",\"type\":\"node\",\"instanceArgs\":{\"namespace\":\"html\",\"tag\":\"div\"},\"children\":[{\"props\":{\"className\":\"interact-flex-row-left\"},\"nodeType\":\"DOM\",\"type\":\"node\",\"instanceArgs\":{\"namespace\":\"html\",\"tag\":\"div\"},\"children\":[{\"props\":{\"className\":\"interact \",\"style\":{\"padding\":\"5px 10px 0px 10px\"}},\"nodeType\":\"DOM\",\"type\":\"node\",\"instanceArgs\":{\"namespace\":\"html\",\"tag\":\"label\"},\"children\":[\"m\"]}]},{\"props\":{\"className\":\"interact-flex-row-center\"},\"nodeType\":\"DOM\",\"type\":\"node\",\"instanceArgs\":{\"namespace\":\"html\",\"tag\":\"div\"},\"children\":[{\"props\":{\"max\":15,\"default\":7,\"attributes\":{\"type\":\"range\",\"data-bind\":\"numericValue: index, valueUpdate: 'input', event: {change: function (){this.changes(this.changes()+1)}}\",\"orient\":\"horizontal\"},\"min\":1,\"step\":1,\"className\":\"slider slider is-fullwidth\",\"style\":{}},\"nodeType\":\"DOM\",\"type\":\"node\",\"instanceArgs\":{\"namespace\":\"html\",\"tag\":\"input\"},\"children\":[]}]},{\"props\":{\"className\":\"interact-flex-row-right\"},\"nodeType\":\"DOM\",\"type\":\"node\",\"instanceArgs\":{\"namespace\":\"html\",\"tag\":\"div\"},\"children\":[{\"props\":{\"attributes\":{\"data-bind\":\"text: formatted_val\"}},\"nodeType\":\"DOM\",\"type\":\"node\",\"instanceArgs\":{\"namespace\":\"html\",\"tag\":\"p\"},\"children\":[]}]}]}]}]},{\"props\":{},\"nodeType\":\"Scope\",\"type\":\"node\",\"instanceArgs\":{\"imports\":{\"data\":[],\"type\":\"async_block\"},\"id\":\"13904708812912103434\",\"handlers\":{},\"systemjs_options\":null,\"mount_callbacks\":[],\"observables\":{\"obs-node\":{\"sync\":false,\"id\":\"2025183764128307320\",\"value\":{\"props\":{\"className\":\"interact-flex-row interact-widget\"},\"nodeType\":\"DOM\",\"type\":\"node\",\"instanceArgs\":{\"namespace\":\"html\",\"tag\":\"div\"},\"children\":[{\"props\":{\"setInnerHtml\":\"<?xml version=\\\"1.0\\\" encoding=\\\"utf-8\\\"?>\\n<svg xmlns=\\\"http:\\/\\/www.w3.org\\/2000\\/svg\\\" xmlns:xlink=\\\"http:\\/\\/www.w3.org\\/1999\\/xlink\\\" width=\\\"600\\\" height=\\\"400\\\" viewBox=\\\"0 0 2400 1600\\\">\\n<defs>\\n  <clipPath id=\\\"clip5900\\\">\\n    <rect x=\\\"0\\\" y=\\\"0\\\" width=\\\"2400\\\" height=\\\"1600\\\"\\/>\\n  <\\/clipPath>\\n<\\/defs>\\n<path clip-path=\\\"url(#clip5900)\\\" d=\\\"\\nM0 1600 L2400 1600 L2400 0 L0 0  Z\\n  \\\" fill=\\\"#ffffff\\\" fill-rule=\\\"evenodd\\\" fill-opacity=\\\"1\\\"\\/>\\n<defs>\\n  <clipPath id=\\\"clip5901\\\">\\n    <rect x=\\\"480\\\" y=\\\"0\\\" width=\\\"1681\\\" height=\\\"1600\\\"\\/>\\n  <\\/clipPath>\\n<\\/defs>\\n<path clip-path=\\\"url(#clip5900)\\\" d=\\\"\\nM113.754 1487.47 L2112.76 1487.47 L2112.76 47.2441 L113.754 47.2441  Z\\n  \\\" fill=\\\"#ffffff\\\" fill-rule=\\\"evenodd\\\" fill-opacity=\\\"1\\\"\\/>\\n<defs>\\n  <clipPath id=\\\"clip5902\\\">\\n    <rect x=\\\"113\\\" y=\\\"47\\\" width=\\\"2000\\\" height=\\\"1441\\\"\\/>\\n  <\\/clipPath>\\n<\\/defs>\\n<polyline clip-path=\\\"url(#clip5902)\\\" style=\\\"stroke:#000000; stroke-width:2; stroke-opacity:0.1; fill:none\\\" points=\\\"\\n  500.28,1487.47 500.28,47.2441 \\n  \\\"\\/>\\n<polyline clip-path=\\\"url(#clip5902)\\\" style=\\\"stroke:#000000; stroke-width:2; stroke-opacity:0.1; fill:none\\\" points=\\\"\\n  890.71,1487.47 890.71,47.2441 \\n  \\\"\\/>\\n<polyline clip-path=\\\"url(#clip5902)\\\" style=\\\"stroke:#000000; stroke-width:2; stroke-opacity:0.1; fill:none\\\" points=\\\"\\n  1281.14,1487.47 1281.14,47.2441 \\n  \\\"\\/>\\n<polyline clip-path=\\\"url(#clip5902)\\\" style=\\\"stroke:#000000; stroke-width:2; stroke-opacity:0.1; fill:none\\\" points=\\\"\\n  1671.57,1487.47 1671.57,47.2441 \\n  \\\"\\/>\\n<polyline clip-path=\\\"url(#clip5902)\\\" style=\\\"stroke:#000000; stroke-width:2; stroke-opacity:0.1; fill:none\\\" points=\\\"\\n  2062,1487.47 2062,47.2441 \\n  \\\"\\/>\\n<polyline clip-path=\\\"url(#clip5902)\\\" style=\\\"stroke:#000000; stroke-width:2; stroke-opacity:0.1; fill:none\\\" points=\\\"\\n  113.754,1217.43 2112.76,1217.43 \\n  \\\"\\/>\\n<polyline clip-path=\\\"url(#clip5902)\\\" style=\\\"stroke:#000000; stroke-width:2; stroke-opacity:0.1; fill:none\\\" points=\\\"\\n  113.754,857.374 2112.76,857.374 \\n  \\\"\\/>\\n<polyline clip-path=\\\"url(#clip5902)\\\" style=\\\"stroke:#000000; stroke-width:2; stroke-opacity:0.1; fill:none\\\" points=\\\"\\n  113.754,497.316 2112.76,497.316 \\n  \\\"\\/>\\n<polyline clip-path=\\\"url(#clip5902)\\\" style=\\\"stroke:#000000; stroke-width:2; stroke-opacity:0.1; fill:none\\\" points=\\\"\\n  113.754,137.259 2112.76,137.259 \\n  \\\"\\/>\\n<polyline clip-path=\\\"url(#clip5900)\\\" style=\\\"stroke:#000000; stroke-width:4; stroke-opacity:1; fill:none\\\" points=\\\"\\n  113.754,1487.47 2112.76,1487.47 \\n  \\\"\\/>\\n<polyline clip-path=\\\"url(#clip5900)\\\" style=\\\"stroke:#000000; stroke-width:4; stroke-opacity:1; fill:none\\\" points=\\\"\\n  113.754,1487.47 113.754,47.2441 \\n  \\\"\\/>\\n<polyline clip-path=\\\"url(#clip5900)\\\" style=\\\"stroke:#000000; stroke-width:4; stroke-opacity:1; fill:none\\\" points=\\\"\\n  500.28,1487.47 500.28,1470.19 \\n  \\\"\\/>\\n<polyline clip-path=\\\"url(#clip5900)\\\" style=\\\"stroke:#000000; stroke-width:4; stroke-opacity:1; fill:none\\\" points=\\\"\\n  890.71,1487.47 890.71,1470.19 \\n  \\\"\\/>\\n<polyline clip-path=\\\"url(#clip5900)\\\" style=\\\"stroke:#000000; stroke-width:4; stroke-opacity:1; fill:none\\\" points=\\\"\\n  1281.14,1487.47 1281.14,1470.19 \\n  \\\"\\/>\\n<polyline clip-path=\\\"url(#clip5900)\\\" style=\\\"stroke:#000000; stroke-width:4; stroke-opacity:1; fill:none\\\" points=\\\"\\n  1671.57,1487.47 1671.57,1470.19 \\n  \\\"\\/>\\n<polyline clip-path=\\\"url(#clip5900)\\\" style=\\\"stroke:#000000; stroke-width:4; stroke-opacity:1; fill:none\\\" points=\\\"\\n  2062,1487.47 2062,1470.19 \\n  \\\"\\/>\\n<polyline clip-path=\\\"url(#clip5900)\\\" style=\\\"stroke:#000000; stroke-width:4; stroke-opacity:1; fill:none\\\" points=\\\"\\n  113.754,1217.43 137.742,1217.43 \\n  \\\"\\/>\\n<polyline clip-path=\\\"url(#clip5900)\\\" style=\\\"stroke:#000000; stroke-width:4; stroke-opacity:1; fill:none\\\" points=\\\"\\n  113.754,857.374 137.742,857.374 \\n  \\\"\\/>\\n<polyline clip-path=\\\"url(#clip5900)\\\" style=\\\"stroke:#000000; stroke-width:4; stroke-opacity:1; fill:none\\\" points=\\\"\\n  113.754,497.316 137.742,497.316 \\n  \\\"\\/>\\n<polyline clip-path=\\\"url(#clip5900)\\\" style=\\\"stroke:#000000; stroke-width:4; stroke-opacity:1; fill:none\\\" points=\\\"\\n  113.754,137.259 137.742,137.259 \\n  \\\"\\/>\\n<g clip-path=\\\"url(#clip5900)\\\">\\n<text style=\\\"fill:#000000; fill-opacity:1; font-family:Arial,Helvetica Neue,Helvetica,sans-serif; font-size:48px; text-anchor:middle;\\\" transform=\\\"rotate(0, 500.28, 1541.47)\\\" x=\\\"500.28\\\" y=\\\"1541.47\\\">50<\\/text>\\n<\\/g>\\n<g clip-path=\\\"url(#clip5900)\\\">\\n<text style=\\\"fill:#000000; fill-opacity:1; font-family:Arial,Helvetica Neue,Helvetica,sans-serif; font-size:48px; text-anchor:middle;\\\" transform=\\\"rotate(0, 890.71, 1541.47)\\\" x=\\\"890.71\\\" y=\\\"1541.47\\\">100<\\/text>\\n<\\/g>\\n<g clip-path=\\\"url(#clip5900)\\\">\\n<text style=\\\"fill:#000000; fill-opacity:1; font-family:Arial,Helvetica Neue,Helvetica,sans-serif; font-size:48px; text-anchor:middle;\\\" transform=\\\"rotate(0, 1281.14, 1541.47)\\\" x=\\\"1281.14\\\" y=\\\"1541.47\\\">150<\\/text>\\n<\\/g>\\n<g clip-path=\\\"url(#clip5900)\\\">\\n<text style=\\\"fill:#000000; fill-opacity:1; font-family:Arial,Helvetica Neue,Helvetica,sans-serif; font-size:48px; text-anchor:middle;\\\" transform=\\\"rotate(0, 1671.57, 1541.47)\\\" x=\\\"1671.57\\\" y=\\\"1541.47\\\">200<\\/text>\\n<\\/g>\\n<g clip-path=\\\"url(#clip5900)\\\">\\n<text style=\\\"fill:#000000; fill-opacity:1; font-family:Arial,Helvetica Neue,Helvetica,sans-serif; font-size:48px; text-anchor:middle;\\\" transform=\\\"rotate(0, 2062, 1541.47)\\\" x=\\\"2062\\\" y=\\\"1541.47\\\">250<\\/text>\\n<\\/g>\\n<g clip-path=\\\"url(#clip5900)\\\">\\n<text style=\\\"fill:#000000; fill-opacity:1; font-family:Arial,Helvetica Neue,Helvetica,sans-serif; font-size:48px; text-anchor:end;\\\" transform=\\\"rotate(0, 89.7545, 1234.93)\\\" x=\\\"89.7545\\\" y=\\\"1234.93\\\">2<\\/text>\\n<\\/g>\\n<g clip-path=\\\"url(#clip5900)\\\">\\n<text style=\\\"fill:#000000; fill-opacity:1; font-family:Arial,Helvetica Neue,Helvetica,sans-serif; font-size:48px; text-anchor:end;\\\" transform=\\\"rotate(0, 89.7545, 874.874)\\\" x=\\\"89.7545\\\" y=\\\"874.874\\\">4<\\/text>\\n<\\/g>\\n<g clip-path=\\\"url(#clip5900)\\\">\\n<text style=\\\"fill:#000000; fill-opacity:1; font-family:Arial,Helvetica Neue,Helvetica,sans-serif; font-size:48px; text-anchor:end;\\\" transform=\\\"rotate(0, 89.7545, 514.816)\\\" x=\\\"89.7545\\\" y=\\\"514.816\\\">6<\\/text>\\n<\\/g>\\n<g clip-path=\\\"url(#clip5900)\\\">\\n<text style=\\\"fill:#000000; fill-opacity:1; font-family:Arial,Helvetica Neue,Helvetica,sans-serif; font-size:48px; text-anchor:end;\\\" transform=\\\"rotate(0, 89.7545, 154.759)\\\" x=\\\"89.7545\\\" y=\\\"154.759\\\">8<\\/text>\\n<\\/g>\\n<g clip-path=\\\"url(#clip5902)\\\">\\n<image width=\\\"1999\\\" height=\\\"1440\\\" xlink:href=\\\"data:image\\/png;base64,\\niVBORw0KGgoAAAANSUhEUgAAB88AAAWgCAYAAADQIAL0AAAgAElEQVR4nOzbzY4cWVqA4ZOVleUq\\nu\\/w3PW2YRgPSoNkhNnAB3AlLdtwSW3bcDAsQQswIadStHne33bbrL7OKBVxBnMURep9nf\\/xFVkac\\niIxX3h3\\/6fJpzDibWj3u\\/+vF5rWPD+dTs59Ocwd\\/un22ee3h5eep2bfv32xee7y9mJp9eH47tX53\\n9rh57eNx7jvf7eZO95m\\/3cPd3N\\/96vWn7Wu\\/+X5q9unz1dT6L9\\/9YvPa\\/bOHqdkz1\\/nZ4Tg1e\\/Za\\nmdnjHo\\/7qdm7\\/fbrdIwx7j5u39ufnnZTs8\\/2p81rZ\\/9uDxP3hTHGOFzdbV4787nHGON4f9i8dj85\\n++L6Zmr9i9\\/+YfPahz9eT81++DC3\\/tP32\\/fHp7lb2tidbf8HHiefoY4P28+3Mebu58fJZ4nr1x+n\\n1t992X5Pvb25nJo989kfH+e+8\\/PzuXvq\\/cQ5czZxrs\\/O3p\\/N7Y9Xl3PPEnf3258\\/zyafm2fv5+cT\\nz2FPj3OzP3zavrdPbs3j+mrunvh8Yv3rr3+Ymv3Dt19vXnua3GM+\\/Pxyav2\\/fv+nm9e+vtj+\\/DbG\\nGL98Pvdu4Opwv3nt11\\/NfeeniWfnV28\\/TM0ek3vU7efnm9e+\\/+Ht1OwfPm\\/fY375cu455MfPc9fK\\n84nz\\/eXVl6nZs88SM\\/eVu8nfeVcTe\\/Pli7n7wuWr7e+Sxpj7jXrz49z59nA7++w7sUe9ez81+\\/k3\\n29fvfzV3Xxm\\/\\/mZu\\/XH7e7iny+176\\/\\/+A9vfRe3+7b+nRp9+nLvOz15v\\/952s3+2n+fWz8w\\/\\/u3f\\nTM0+\\/P4\\/Nq99Osy9VxiHuXf1M+fr8ZvfTI1++Iu\\/27z2+fVfTs2+\\/d2\\/TK3fnbbvMfuPc41j5jsb\\nY4z9h4l7w\\/3k3n6+\\/Xw\\/\\/eJPpkbvHiZ74HH7M9jpxaup2Yff\\/fvmtZPpGwAAAAAAAAD+\\/xPPAQAA\\nAAAAAMgTzwEAAAAAAADIE88BAAAAAAAAyBPPAQAAAAAAAMgTzwEAAAAAAADIE88BAAAAAAAAyBPP\\nAQAAAAAAAMgTzwEAAAAAAADIE88BAAAAAAAAyBPPAQAAAAAAAMgTzwEAAAAAAADIE88BAAAAAAAA\\nyBPPAQAAAAAAAMgTzwEAAAAAAADIE88BAAAAAAAAyBPPAQAAAAAAAMgTzwEAAAAAAADIE88BAAAA\\nAAAAyBPPAQAAAAAAAMgTzwEAAAAAAADIE88BAAAAAAAAyBPPAQAAAAAAAMgTzwEAAAAAAADIE88B\\nAAAAAAAAyBPPAQAAAAAAAMgTzwEAAAAAAADIE88BAAAAAAAAyBPPAQAAAAAAAMgTzwEAAAAAAADI\\nE88BAAAAAAAAyBPPAQAAAAAAAMgTzwEAAAAAAADIE88BAAAAAAAAyBPPAQAAAAAAAMgTzwEAAAAA\\nAADIE88BAAAAAAAAyBPPAQAAAAAAAMgTzwEAAAAAAADIE88BAAAAAAAAyBPPAQAAAAAAAMgTzwEA\\nAAAAAADIE88BAAAAAAAAyBPPAQAAAAAAAMgTzwEAAAAAAADIE88BAAAAAAAAyBPPAQAAAAAAAMgT\\nzwEAAAAAAADIE88BAAAAAAAAyBPPAQAAAAAAAMgTzwEAAAAAAADIE88BAAAAAAAAyBPPAQAAAAAA\\nAMgTzwEAAAAAAADIE88BAAAAAAAAyBPPAQAAAAAAAMgTzwEAAAAAAADIE88BAAAAAAAAyBPPAQAA\\nAAAAAMgTzwEAAAAAAADIE88BAAAAAAAAyBPPAQAAAAAAAMgTzwEAAAAAAADIE88BAAAAAAAAyBPP\\nAQAAAAAAAMgTzwEAAAAAAADIE88BAAAAAAAAyBPPAQAAAAAAAMgTzwEAAAAAAADIE88BAAAAAAAA\\nyBPPAQAAAAAAAMgTzwEAAAAAAADIE88BAAAAAAAAyBPPAQAAAAAAAMgTzwEAAAAAAADIE88BAAAA\\nAAAAyBPPAQAAAAAAAMgTzwEAAAAAAADIE88BAAAAAAAAyBPPAQAAAAAAAMgTzwEAAAAAAADIE88B\\nAAAAAAAAyBPPAQAAAAAAAMgTzwEAAAAAAADIE88BAAAAAAAAyBPPAQAAAAAAAMgTzwEAAAAAAADI\\nE88BAAAAAAAAyBPPAQAAAAAAAMgTzwEAAAAAAADIE88BAAAAAAAAyBPPAQAAAAAAAMgTzwEAAAAA\\nAADIE88BAAAAAAAAyBPPAQAAAAAAAMgTzwEAAAAAAADIE88BAAAAAAAAyBPPAQAAAAAAAMgTzwEA\\nAAAAAADIE88BAAAAAAAAyBPPAQAAAAAAAMgTzwEAAAAAAADIE88BAAAAAAAAyBPPAQAAAAAAAMgT\\nzwEAAAAAAADIE88BAAAAAAAAyBPPAQAAAAAAAMgTzwEAAAAAAADIE88BAAAAAAAAyBPPAQAAAAAA\\nAMgTzwEAAAAAAADIE88BAAAAAAAAyBPPAQAAAAAAAMgTzwEAAAAAAADIE88BAAAAAAAAyBPPAQAA\\nAAAAAMgTzwEAAAAAAADIE88BAAAAAAAAyBPPAQAAAAAAAMgTzwEAAAAAAADIE88BAAAAAAAAyBPP\\nAQAAAAAAAMgTzwEAAAAAAADIE88BAAAAAAAAyBPPAQAAAAAAAMgTzwEAAAAAAADIE88BAAAAAAAA\\nyBPPAQAAAAAAAMgTzwEAAAAAAADIE88BAAAAAAAAyBPPAQAAAAAAAMgTzwEAAAAAAADIE88BAAAA\\nAAAAyBPPAQAAAAAAAMgTzwEAAAAAAADIE88BAAAAAAAAyBPPAQAAAAAAAMgTzwEAAAAAAADIE88B\\nAAAAAAAAyBPPAQAAAAAAAMgTzwEAAAAAAADIE88BAAAAAAAAyBPPAQAAAAAAAMgTzwEAAAAAAADI\\nE88BAAAAAAAAyBPPAQAAAAAAAMgTzwEAAAAAAADIE88BAAAAAAAAyBPPAQAAAAAAAMgTzwEAAAAA\\nAADIE88BAAAAAAAAyBPPAQAAAAAAAMgTzwEAAAAAAADIE88BAAAAAAAAyBPPAQAAAAAAAMgTzwEA\\nAAAAAADIE88BAAAAAAAAyBPPAQAAAAAAAMgTzwEAAAAAAADIE88BAAAAAAAAyBPPAQAAAAAAAMgT\\nzwEAAAAAAADIE88BAAAAAAAAyBPPAQAAAAAAAMgTzwEAAAAAAADIE88BAAAAAAAAyBPPAQAAAAAA\\nAMgTzwEAAAAAAADIE88BAAAAAAAAyBPPAQAAAAAAAMgTzwEAAAAAAADIE88BAAAAAAAAyBPPAQAA\\nAAAAAMgTzwEAAAAAAADIE88BAAAAAAAAyBPPAQAAAAAAAMgTzwEAAAAAAADIE88BAAAAAAAAyBPP\\nAQAAAAAAAMjb\\/fNf\\/\\/3TygM4Pq7r98en3bLZP91dLJv95tn9stmrfX\\/7bNnsZ2ePy2bv153qY4wx\\nLvenZbNfXqw73\\/\\/8zftls3eLv\\/NvP75eNvvy\\/Lhs9sp72n7hHvNw2i+bPcYYX734tGz29dWXZbPf\\nvP1p2ezvvnu3bPYYY5wWXmtPT+tmf75b9xxzWHgvH2OMbz+9XDb708O65\\/aVP9RuFu\\/trw4Py2a\\/\\nfXa7bPbK8+1wtu46f1r423yMMd5d\\/7xs9s3C7\\/z2eL5s9mnh\\/XSMMT4\\/HJbNflx4vp8v\\/M1wvls3\\ne4wxnp0vfJZZeEO\\/Pa27zm8W7jFjjHG38DfDaeF1\\/v5u3f725bj4ZdRCby7W7XFfLXzXf1h4X3mx\\n8P3fGGP89utvl81e+U7k0+3VstnXlzfLZo8xxp\\/9+g\\/LZl9crvuN+uqvfr9s9uPtumcJ\\/\\/McAAAA\\nAAAAgDzxHAAAAAAAAIA88RwAAAAAAACAPPEcAAAAAAAAgDzxHAAAAAAAAIA88RwAAAAAAACAPPEc\\nAAAAAAAAgDzxHAAAAAAAAIA88RwAAAAAAACAPPEcAAAAAAAAgDzxHAAAAAAAAIA88RwAAAAAAACA\\nPPEcAAAAAAAAgDzxHAAAAAAAAIA88RwAAAAAAACAPPEcAAAAAAAAgDzxHAAAAAAAAIA88RwAAAAA\\nAACAPPEcAAAAAAAAgDzxHAAAAAAAAIA88RwAAAAAAACAPPEcAAAAAAAAgDzxHAAAAAAAAIA88RwA\\nAAAAAACAPPEcAAAAAAAAgDzxHAAAAAAAAIA88RwAAAAAAACAPPEcAAAAAAAAgDzxHAAAAAAAAIA8\\n8RwAAAAAAACAPPEcAAAAAAAAgDzxHAAAAAAAAIA88RwAAAAAAACAPPEcAAAAAAAAgDzxHAAAAAAA\\nAIA88RwAAAAAAACAPPEcAAAAAAAAgDzxHAAAAAAAAIA88RwAAAAAAACAPPEcAAAAAAAAgDzxHAAA\\nAAAAAIA88RwAAAAAAACAPPEcAAAAAAAAgDzxHAAAAAAAAIA88RwAAAAAAACAPPEcAAAAAAAAgDzx\\nHAAAAAAAAIA88RwAAAAAAACAPPEcAAAAAAAAgDzxHAAAAAAAAIA88RwAAAAAAACAPPEcAAAAAAAA\\ngDzxHAAAAAAAAIA88RwAAAAAAACAPPEcAAAAAAAAgDzxHAAAAAAAAIA88RwAAAAAAACAPPEcAAAA\\nAAAAgDzxHAAAAAAAAIA88RwAAAAAAACAPPEcAAAAAAAAgDzxHAAAAAAAAIA88RwAAAAAAACAPPEc\\nAAAAAAAAgDzxHAAAAAAAAIA88RwAAAAAAACAPPEcAAAAAAAAgDzxHAAAAAAAAIA88RwAAAAAAACA\\nPPEcAAAAAAAAgDzxHAAAAAAAAIA88RwAAAAAAACAPPEcAAAAAAAAgDzxHAAAAAAAAIA88RwAAAAA\\nAACAPPEcAAAAAAAAgDzxHAAAAAAAAIA88RwAAAAAAACAPPEcAAAAAAAAgDzxHAAAAAAAAIA88RwA\\nAAAAAACAPPEcAAAAAAAAgDzxHAAAAAAAAIA88RwAAAAAAACAPPEcAAAAAAAAgDzxHAAAAAAAAIA8\\n8RwAAAAAAACAPPEcAAAAAAAAgDzxHAAAAAAAAIA88RwAAAAAAACAPPEcAAAAAAAAgDzxHAAAAAAA\\nAIA88RwAAAAAAACAPPEcAAAAAAAAgDzxHAAAAAAAAIA88RwAAAAAAACAPPEcAAAAAAAAgDzxHAAA\\nAAAAAIA88RwAAAAAAACAPPEcAAAAAAAAgDzxHAAAAAAAAIA88RwAAAAAAACAPPEcAAAAAAAAgDzx\\nHAAAAAAAAIA88RwAAAAAAACAPPEcAAAAAAAAgDzxHAAAAAAAAIA88RwAAAAAAACAPPEcAAAAAAAA\\ngDzxHAAAAAAAAIA88RwAAAAAAACAPPEcAAAAAAAAgDzxHAAAAAAAAIA88RwAAAAAAACAPPEcAAAA\\nAAAAgDzxHAAAAAAAAIA88RwAAAAAAACAPPEcAAAAAAAAgDzxHAAAAAAAAIA88RwAAAAAAACAPPEc\\nAAAAAAAAgDzxHAAAAAAAAIA88RwAAAAAAACAPPEcAAAAAAAAgDzxHAAAAAAAAIA88RwAAAAAAACA\\nPPEcAAAAAAAAgDzxHAAAAAAAAIA88RwAAAAAAACAPPEcAAAAAAAAgDzxHAAAAAAAAIA88RwAAAAA\\nAACAPPEcAAAAAAAAgDzxHAAAAAAAAIA88RwAAAAAAACAPPEcAAAAAAAAgDzxHAAAAAAAAIA88RwA\\nAAAAAACAPPEcAAAAAAAAgDzxHAAAAAAAAIA88RwAAAAAAACAPPEcAAAAAAAAgDzxHAAAAAAAAIA8\\n8RwAAAAAAACAPPEcAAAAAAAAgDzxHAAAAAAAAIA88RwAAAAAAACAPPEcAAAAAAAAgDzxHAAAAAAA\\nAIA88RwAAAAAAACAPPEcAAAAAAAAgDzxHAAAAAAAAIA88RwAAAAAAACAPPEcAAAAAAAAgDzxHAAA\\nAAAAAIA88RwAAAAAAACAPPEcAAAAAAAAgDzxHAAAAAAAAIA88RwAAAAAAACAPPEcAAAAAAAAgDzx\\nHAAAAAAAAIA88RwAAAAAAACAPPEcAAAAAAAAgDzxHAAAAAAAAIA88RwAAAAAAACAPPEcAAAAAAAA\\ngDzxHAAAAAAAAIA88RwAAAAAAACAPPEcAAAAAAAAgDzxHAAAAAAAAIA88RwAAAAAAACAPPEcAAAA\\nAAAAgDzxHAAAAAAAAIA88RwAAAAAAACAPPEcAAAAAAAAgDzxHAAAAAAAAIA88RwAAAAAAACAPPEc\\nAAAAAAAAgDzxHAAAAAAAAIC83T+8+8en1Qexyn63+gjWeHXIfuXjq2en1YewxOVZ83OPMcbF\\/nH1\\nISxxcdb83GN0P\\/vFvnudf7y\\/WH0IS\\/x8PF99CMuc75rPMq8v7lcfwjI30fO9ek8bY4zz6Gf\\/1fXH\\n1YewxMurm9WHsMx\\/\\/vHd6kNY4rvby9WHsEz1OeYQ3dfHGOMs+p3\\/dH9YfQjLfDnuVx\\/CEhdnzXN9\\njDFenB9XH8IS94\\/d\\/5v59uJh9SEsUb6fVx2fmiG1u7sBAAAAAAAAwP8RzwEAAAAAAADIE88BAAAA\\nAAAAyBPPAQAAAAAAAMgTzwEAAAAAAADIE88BAAAAAAAAyBPPAQAAAAAAAMgTzwEAAAAAAADIE88B\\nAAAAAAAAyBPPAQAAAAAAAMgTzwEAAAAAAADIE88BAAAAAAAAyBPPAQAAAAAAAMgTzwEAAAAAAADI\\nE88BAAAAAAAAyBPPAQAAAAAAAMgTzwEAAAAAAADIE88BAAAAAAAAyBPPAQAAAAAAAMgTzwEAAAAA\\nAADIE88BAAAAAAAAyBPPAQAAAAAAAMgTzwEAAAAAAADIE88BAAAAAAAAyBPPAQAAAAAAAMgTzwEA\\nAAAAAADIE88BAAAAAAAAyBPPAQAAAAAAAMgTzwEAAAAAAADIE88BAAAAAAAAyBPPAQAAAAAAAMgT\\nzwEAAAAAAADIE88BAAAAAAAAyBPPAQAAAAAAAMgTzwEAAAAAAADIE88BAAAAAAAAyBPPAQAAAAAA\\nAMgTzwEAAAAAAADIE88BAAAAAAAAyBPPAQAAAAAAAMgTzwEAAAAAAADIE88BAAAAAAAAyBPPAQAA\\nAAAAAMgTzwEAAAAAAADIE88BAAAAAAAAyBPPAQAAAAAAAMgTzwEAAAAAAADIE88BAAAAAAAAyBPP\\nAQAAAAAAAMgTzwEAAAAAAADIE88BAAAAAAAAyBPPAQAAAAAAAMgTzwEAAAAAAADIE88BAAAAAAAA\\nyBPPAQAAAAAAAMgTzwEAAAAAAADIE88BAAAAAAAAyBPPAQAAAAAAAMgTzwEAAAAAAADIE88BAAAA\\nAAAAyBPPAQAAAAAAAMgTzwEAAAAAAADIE88BAAAAAAAAyBPPAQAAAAAAAMgTzwEAAAAAAADIE88B\\nAAAAAAAAyBPPAQAAAAAAAMgTzwEAAAAAAADIE88BAAAAAAAAyBPPAQAAAAAAAMgTzwEAAAAAAADI\\nE88BAAAAAAAAyBPPAQAAAAAAAMgTzwEAAAAAAADIE88BAAAAAAAAyBPPAQAAAAAAAMgTzwEAAAAA\\nAADIE88BAAAAAAAAyBPPAQAAAAAAAMgTzwEAAAAAAADIE88BAAAAAAAAyBPPAQAAAAAAAMgTzwEA\\nAAAAAADIE88BAAAAAAAAyBPPAQAAAAAAAMgTzwEAAAAAAADIE88BAAAAAAAAyBPPAQAAAAAAAMgT\\nzwEAAAAAAADIE88BAAAAAAAAyBPPAQAAAAAAAMgTzwEAAAAAAADIE88BAAAAAAAAyBPPAQAAAAAA\\nAMgTzwEAAAAAAADIE88BAAAAAAAAyBPPAQAAAAAAAMgTzwEAAAAAAADIE88BAAAAAAAAyBPPAQAA\\nAAAAAMgTzwEAAAAAAADIE88BAAAAAAAAyBPPAQAAAAAAAMgTzwEAAAAAAADIE88BAAAAAAAAyBPP\\nAQAAAAAAAMgTzwEAAAAAAADIE88BAAAAAAAAyBPPAQAAAAAAAMgTzwEAAAAAAADIE88BAAAAAAAA\\nyBPPAQAAAAAAAMgTzwEAAAAAAADIE88BAAAAAAAAyBPPAQAAAAAAAMgTzwEAAAAAAADIE88BAAAA\\nAAAAyBPPAQAAAAAAAMgTzwEAAAAAAADIE88BAAAAAAAAyBPPAQAAAAAAAMgTzwEAAAAAAADIE88B\\nAAAAAAAAyBPPAQAAAAAAAMgTzwEAAAAAAADIE88BAAAAAAAAyBPPAQAAAAAAAMgTzwEAAAAAAADI\\nE88BAAAAAAAAyBPPAQAAAAAAAMgTzwEAAAAAAADIE88BAAAAAAAAyBPPAQAAAAAAAMgTzwEAAAAA\\nAADIE88BAAAAAAAAyBPPAQAAAAAAAMgTzwEAAAAAAADIE88BAAAAAAAAyBPPAQAAAAAAAMgTzwEA\\nAAAAAADIE88BAAAAAAAAyBPPAQAAAAAAAMgTzwEAAAAAAADIE88BAAAAAAAAyBPPAQAAAAAAAMgT\\nzwEAAAAAAID\\/Yd9uVpsIwzAMZ1JTUvuDdOvGtbhx7\\/nvPAsV3CmIDcE2HkTIvND7uo7ggeFjZrhn\\nIE88BwAAAAAAACBPPAcAAAAAAAAgTzwHAAAAAAAAIE88BwAAAAAAACBPPAcAAAAAAAAgTzwHAAAA\\nAAAAIE88BwAAAAAAACBPPAcAAAAAAAAgTzwHAAAAAAAAIE88BwAAAAAAACBPPAcAAAAAAAAgTzwH\\nAAAAAAAAIE88BwAAAAAAACBPPAcAAAAAAAAgTzwHAAAAAAAAIE88BwAAAAAAACBPPAcAAAAAAAAg\\nTzwHAAAAAAAAIE88BwAAAAAAACBPPAcAAAAAAAAgTzwHAAAAAAAAIE88BwAAAAAAACBPPAcAAAAA\\nAAAgTzwHAAAAAAAAIE88BwAAAAAAACBPPAcAAAAAAAAgTzwHAAAAAAAAIE88BwAAAAAAACBPPAcA\\nAAAAAAAgTzwHAAAAAAAAIE88BwAAAAAAACBPPAcAAAAAAAAgTzwHAAAAAAAAIO\\/N1z+\\/pzewssNy\\nmJ7Aym5ON9MTWNnDZj89gZXtt1fTE1jZ08vz9IRBy\\/SAEfdXt9MTWNnx9DI9gZW9291PT2BlzTta\\n295je45z3nPjnOf8fXbRa749TS9gbR8fdtMTWJE\\/zwEAAAAAAADIE88BAAAAAAAAyBPPAQAAAAAA\\nAMgTzwEAAAAAAADIE88BAAAAAAAAyBPPAQAAAAAAAMgTzwEAAAAAAADIE88BAAAAAAAAyBPPAQAA\\nAAAAAMgTzwEAAAAAAADIE88BAAAAAAAAyBPPAQAAAAAAAMgTzwEAAAAAAADIE88BAAAAAAAAyBPP\\nAQAAAAAAAMgTzwEAAAAAAADIE88BAAAAAAAAyBPPAQAAAAAAAMgTzwEAAAAAAADIE88BAAAAAAAA\\nyBPPAQAAAAAAAMgTzwEAAAAAAADIE88BAAAAAAAAyBPPAQAAAAAAAMgTzwEAAAAAAADIE88BAAAA\\nAAAAyBPPAQAAAAAAAMgTzwEAAAAAAADIE88BAAAAAAAAyBPPAQAAAAAAAMgTzwEAAAAAAADIE88B\\nAAAAAAAAyBPPAQAAAAAAAMgTzwEAAAAAAADIE88BAAAAAAAAyBPPAQAAAAAAAMgTzwEAAAAAAADI\\nE88BAAAAAAAAyBPPAQAAAAAAAMgTzwEAAAAAAADIE88BAAAAAAAAyBPPAQAAAAAAAMgTzwEAAAAA\\nAADIE88BAAAAAAAAyBPPAQAAAAAAAMgTzwEAAAAAAADIE88BAAAAAAAAyBPPAQAAAAAAAMgTzwEA\\nAAAAAADIE88BAAAAAAAAyBPPAQAAAAAAAMgTzwEAAAAAAADIE88BAAAAAAAAyBPPAQAAAAAAAMgT\\nzwEAAAAAAADIE88BAAAAAAAAyBPPAQAAAAAAAMgTzwEAAAAAAADIE88BAAAAAAAAyBPPAQAAAAAA\\nAMgTzwEAAAAAAADIE88BAAAAAAAAyBPPAQAAAAAAAMgTzwEAAAAAAADIE88BAAAAAAAAyBPPAQAA\\nAAAAAMgTzwEAAAAAAADIE88BAAAAAAAAyBPPAQAAAAAAAMgTzwEAAAAAAADIE88BAAAAAAAAyBPP\\nAQAAAAAAAMgTzwEAAAAAAADIE88BAAAAAAAAyBPPAQAAAAAAAMgTzwEAAAAAAADIE88BAAAAAAAA\\nyBPPAQAAAAAAAMgTzwEAAAAAAADIE88BAAAAAAAAyBPPAQAAAAAAAMgTzwEAAAAAAADIE88BAAAA\\nAAAAyBPPAQAAAAAAAMgTzwEAAAAAAADIE88BAAAAAAAAyBPPAQAAAAAAAMgTzwEAAAAAAADIE88B\\nAAAAAAAAyBPPAQAAAAAAAMgTzwEAAAAAAADIE88BAAAAAAAAyBPPAQAAAAAAAMgTzwEAAAAAAADI\\nE88BAAAAAAAAyBPPAQAAAAAAAMgTzwEAAAAAAADIE88BAAAAAAAAyBPPAQAAAAAAAMgTzwEAAAAA\\nAADIE88BAAAAAAAAyBPPAQAAAAAAAMgTzwEAAAAAAADIE88BAAAAAAAAyBPPAQAAAAAAAMgTzwEA\\nAAAAAADIE88BAAAAAAAAyBPPAQAAAAAAAMgTzwEAAAAAAADIE88BAAAAAAAAyBPPAQAAAAAAAMgT\\nzwEAAAAAAADIE88BAAAAAAAAyBPPAQAAAAAAAMgTzwEAAAAAAADIE88BAAAAAAAAyBPPAQAAAAAA\\nAMgTzwEAAAAAAADIE88BAAAAAAAAyBPPAQAAAAAAAMgTzwEAAAAAAADIE88BAAAAAAAAyBPPAQAA\\nAAAAAMgTzwEAAAAAAADIE88BAAAAAAAAyBPPAQAAAAAAAMgTzwEAAAAAAADIE88BAAAAAAAAyBPP\\nAQAAAAAAAMgTzwEAAAAAAADIE88BAAAAAAAAyBPPAQAAAAAAAMgTzwEAAAAAAADIE88BAAAAAAAA\\nyBPPAQAAAAAAAMgTzwEAAAAAAADIE88BAAAAAAAAyBPPAQAAAAAAAMgTzwEAAAAAAADIE88BAAAA\\nAAAAyBPPAQAAAAAAAMgTzwEAAAAAAADIE88BAAAAAAAAyBPPAQAAAAAAAMgTzwEAAAAAAADIE88B\\nAAAAAAAAyBPPAQAAAAAAAMgTzwEAAAAAABXV2r0AAB3RSURBVADIE88BAAAAAAAAyBPPAQAAAAAA\\nAMgTzwEAAAAAAADIE88BAAAAAAAAyBPPAQAAAAAAAMgTzwEAAAAAAADIE88BAAAAAAAAyBPPAQAA\\nAAAAAMgTzwEAAAAAAADIE88BAAAAAAAAyBPPAQAAAAAAAMgTzwEAAAAAAADIE88BAAAAAAAAyBPP\\nAQAAAAAAAMgTzwEAAAAAAADIE88BAAAAAAAAyBPPAQAAAAAAAMgTzwEAAAAAAADIE88BAAAAAAAA\\nyBPPAQAAAAAAAMgTzwEAAAAAAADIE88BAAAAAAAAyBPPAQAAAAAAAMgTzwEAAAAAAADIE88BAAAA\\nAAAAyBPPAQAAAAAAAMgTzwEAAAAAAADIE88BAAAAAAAAyBPPAQAAAAAAAMgTzwEAAAAAAADIE88B\\nAAAAAAAAyFse334+TY8ALuvD5tP0BODC7jb76QnAhd1td9MTgAu73vq+HV67\\/XaZngBc2M45h1fv\\nx+E4PQG4IG\\/mAAAAAAAAAOSJ5wAAAAAAAADkiecAAAAAAAAA5InnAAAAAAAAAOSJ5wAAAAAAAADk\\niecAAAAAAAAA5InnAAAAAAAAAOSJ5wAAAAAAAADkiecAAAAAAAAA5InnAAAAAAAAAOSJ5wAAAAAA\\nAADkiecAAAAAAAAA5InnAAAAAAAAAOSJ5wAAAAAAAADkiecAAAAAAAAA5InnAAAAAAAAAOSJ5wAA\\nAAAAAADkiecAAAAAAAAA5InnAAAAAAAAAOSJ5wAAAAAAAADkiecAAAAAAAAA5InnAAAAAAAAAOSJ\\n5wAAAAAAAADkiecAAAAAAAAA5InnAAAAAAAAAOSJ5wAAAAAAAADkiecAAAAAAAAA5InnAAAAAAAA\\nAOSJ5wAAAAAAAADkiecAAAAAAAAA5InnAAAAAAAAAOSJ5wAAAAAAAADkiecAAAAAAAAA5InnAAAA\\nAAAAAOSJ5wAAAAAAAADkiecAAAAAAAAA5InnAAAAAAAAAOSJ5wAAAAAAAADkiecAAAAAAAAA5Inn\\nAAAAAAAAAOSJ5wAAAAAAAADkiecAAAAAAAAA5InnAAAAAAAAAOSJ5wAAAAAAAADkiecAAAAAAAAA\\n5InnAAAAAAAAAOSJ5wAAAAAAAADkiecAAAAAAAAA5InnAAAAAAAAAOSJ5wAAAAAAAADkiecAAAAA\\nAAAA5InnAAAAAAAAAOSJ5wAAAAAAAADkiecAAAAAAAAA5InnAAAAAAAAAOSJ5wAAAAAAAADkiecA\\nAAAAAAAA5InnAAAAAAAAAOSJ5wAAAAAAAADkiecAAAAAAAAA5InnAAAAAAAAAOSJ5wAAAAAAAADk\\niecAAAAAAAAA5InnAAAAAAAAAOSJ5wAAAAAAAADkiecAAAAAAAAA5InnAAAAAAAAAOSJ5wAAAAAA\\nAADkiecAAAAAAAAA5InnAAAAAAAAAOSJ5wAAAAAAAADkiecAAAAAAAAA5InnAAAAAAAAAOSJ5wAA\\nAAAAAADkiecAAAAAAAAA5InnAAAAAAAAAOSJ5wAAAAAAAADkiecAAAAAAAAA5InnAAAAAAAAAOSJ\\n5wAAAAAAAADkiecAAAAAAAAA5InnAAAAAAAAAOSJ5wAAAAAAAADkiecAAAAAAAAA5InnAAAAAAAA\\nAOSJ5wAAAAAAAADkiecAAAAAAAAA5InnAAAAAAAAAOSJ5wAAAAAAAADkiecAAAAAAAAA5InnAAAA\\nAAAAAOSJ5wAAAAAAAADkiecAAAAAAAAA5InnAAAAAAAAAOSJ5wAAAAAAAADkiecAAAAAAAAA5Inn\\nAAAAAAAAAOSJ5wAAAAAAAADkiecAAAAAAAAA5InnAAAAAAAAAOSJ5wAAAAAAAADkiecAAAAAAAAA\\n5InnAAAAAAAAAOSJ5wAAAAAAAADkiecAAAAAAAAA5InnAAAAAAAAAOSJ5wAAAAAAAADkiecAAAAA\\nAAAA5InnAAAAAAAAAOSJ5wAAAAAAAADkiecAAAAAAAAA5InnAAAAAAAAAOSJ5wAAAAAAAADkiecA\\nAAAAAAAA5InnAAAAAAAAAOSJ5wAAAAAAAADkiecAAAAAAAAA5InnAAAAAAAAAOSJ5wAAAAAAAADk\\niecAAAAAAAAA5InnAAAAAAAAAOSJ5wAAAAAAAADkiecAAAAAAAAA5InnAAAAAAAAAOSJ5wAAAAAA\\nAADkiecAAAAAAAAA5InnAAAAAAAAAOSJ5wAAAAAAAADkiecAAAAAAAAA5InnAAAAAAAAAOSJ5wAA\\nAAAAAADkiecAAAAAAAAA5InnAAAAAAAAAOSJ5wAAAAAAAADkiecAAAAAAAAA5InnAAAAAAAAAOSJ\\n5wAAAAAAAADkiecAAAAAAAAA5InnAAAAAAAAAOSJ5wAAAAAAAADkiecAAAAAAAAA5InnAAAAAAAA\\nAOSJ5wAAAAAAAADkiecAAAAAAAAA5InnAAAAAAAAAOSJ5wAAAAAAAADkiecAAAAAAAAA5InnAAAA\\nAAAAAOSJ5wAAAAAAAADkiecAAAAAAAAA5InnAAAAAAAAAOSJ5wAAAAAAAADkiecAAAAAAAAA5Inn\\nAAAAAAAAAOSJ5wAAAAAAAADkiecAAAAAAAAA5InnAAAAAAAAAOSJ5wAAAAAAAADkiecAAAAAAAAA\\n5InnAAAAAAAAAOSJ5wAAAAAAAADkiecAAAAAAAAA5InnAAAAAAAAAOSJ5wAAAAAAAADkiecAAAAA\\nAAAA5InnAAAAAAAAAOSJ5wAAAAAAAADkiecAAAAAAAAA5InnAAAAAAAAAOSJ5wAAAAAAAADkiecA\\nAAAAAAAA5InnAAAAAAAAAOSJ5wAAAAAAAADkiecAAAAAAAAA5InnAAAAAAAAAOSJ5wAAAAAAAADk\\niecAAAAAAAAA5InnAAAAAAAAAOSJ5wAAAAAAAADkLctyfZoeAQCc5\\/3tl+kJAMCZfv37Pj0BADjT\\n0\\/Hn9AQA4Az+PAcAAAAAAAAgTzwHAAAAAAAAIE88BwAAAAAAACBPPAcAAAAAAAAgTzwHAAAAAAAA\\nIE88BwAAAAAAACBPPAcAAAAAAAAgTzwHAAAAAAAAIE88BwAAAAAAACBPPAcAAAAAAAAgTzwHAAAA\\nAAAAIE88BwAAAAAAACBPPAcAAAAAAAAgTzwHAAAAAAAAIE88BwAAAAAAACBPPAcAAAAAAAAgTzwH\\nAAAAAAAAIE88BwAAAAAAACBPPAcAAAAAAAAgTzwHAAAAAAAAIE88BwAAAAAAACBPPAcAAAAAAAAg\\nTzwHAAAAAAAAIE88BwAAAAAAACBPPAcAAAAAAAAgTzwHAAAAAAAAIE88BwAAAAAAACBPPAcAAAAA\\nAAAgTzwHAAAAAAAAIE88BwAAAAAAACBPPAcAAAAAAAAgTzwHAAAAAAAAIE88BwAAAAAAACBPPAcA\\nAAAAAAAgTzwHAAAAAAAAIE88BwAAAAAAACBPPAcAAAAAAAAgTzwHAAAAAAAAIE88BwAAAAAAACBP\\nPAcAAAAAAAAgTzwHAAAAAAAAIE88BwAAAAAAACBPPAcAAAAAAAAgTzwHAAAAAAAAIE88BwAAAAAA\\nACBPPAcAAAAAAAAgTzwHAAAAAAAAIE88BwAAAAAAACBPPAcAAAAAAAAgTzwHAAAAAAAAIE88BwAA\\nAAAAACBPPAcAAAAAAAAgTzwHAAAAAAAAIE88BwAAAAAAACBPPAcAAAAAAAAgTzwHAAAAAAAAIE88\\nBwAAAAAAACBPPAcAAAAAAAAgTzwHAAAAAAAAIE88BwAAAAAAACBPPAcAAAAAAAAgTzwHAAAAAAAA\\nIE88BwAAAAAAACBPPAcAAAAAAAAgTzwHAAAAAAAAIE88BwAAAAAAACBPPAcAAAAAAAAgTzwHAAAA\\nAAAAIE88BwAAAAAAACBPPAcAAAAAAAAgTzwHAAAAAAAAIE88BwAAAAAAACBPPAcAAAAAAAAgTzwH\\nAAAAAAAAIE88BwAAAAAAACBPPAcAAAAAAAAgTzwHAAAAAAAAIE88BwAAAAAAACBPPAcAAAAAAAAg\\nTzwHAAAAAAAAIE88BwAAAAAAACBPPAcAAAAAAAAgTzwHAAAAAAAAIE88BwAAAAAAACBPPAcAAAAA\\nAAAgTzwHAAAAAAAAIE88BwAAAAAAACBPPAcAAAAAAAAgTzwHAAAAAAAAIE88BwAAAAAAACBPPAcA\\nAAAAAAAgTzwHAAAAAAAAIE88BwAAAAAAACBPPAcAAAAAAAAgTzwHAAAAAAAAIE88BwAAAAAAACBP\\nPAcAAAAAAAAgTzwHAAAAAAAAIE88BwAAAAAAACBPPAcAAAAAAAAgTzwHAAAAAAAAIE88BwAAAAAA\\nACBPPAcAAAAAAAAgTzwHAAAAAAAAIE88BwAAAAAAACBPPAcAAAAAAAAgTzwHAAAAAAAAIE88BwAA\\nAAAAACBPPAcAAAAAAAAgTzwHAAAAAAAAIE88BwAAAAAAACBPPAcAAAAAAAAgTzwHAAAAAAAAIE88\\nBwAAAAAAACBPPAcAAAAAAAAgTzwHAAAAAAAAIE88BwAAAAAAACBPPAcAAAAAAAAgTzwHAAAAAAAA\\nIE88BwAAAAAAACBPPAcAAAAAAAAgTzwHAAAAAAAAIE88BwAAAAAAACBPPAcAAAAAAAAgTzwHAAAA\\nAAAAIE88BwAAAAAAACBPPAcAAAAAAAAgTzwHAAAAAAAAIE88BwAAAAAAACBPPAcAAAAAAAAgTzwH\\nAAAAAAAAIE88B\\/jfvh3TAAgEQBDMN0AQQYF\\/XWggNI+ML3ZGwfWbAwAAAAAAIE88BwAAAAAAACBP\\nPAcAAAAAAAAgTzwHAAAAAAAAIE88BwAAAAAAACBPPAcAAAAAAAAgTzwHAAAAAAAAIE88BwAAAAAA\\nACBPPAcAAAAAAAAgTzwHAAAAAAAAIE88BwAAAAAAACBPPAcAAAAAAAAgTzwHAAAAAAAAIE88BwAA\\nAAAAACBPPAcAAAAAAAAgTzwHAAAAAAAAIE88BwAAAAAAACBPPAcAAAAAAAAgTzwHAAAAAAAAIE88\\nBwAAAAAAACBPPAcAAAAAAAAgTzwHAAAAAAAAIE88BwAAAAAAACBPPAcAAAAAAAAgTzwHAAAAAAAA\\nIE88BwAAAAAAACBPPAcAAAAAAAAgTzwHAAAAAAAAIE88BwAAAAAAACBPPAcAAAAAAAAgTzwHAAAA\\nAAAAIE88BwAAAAAAACBPPAcAAAAAAAAgTzwHAAAAAAAAIE88BwAAAAAAACBPPAcAAAAAAAAgTzwH\\nAAAAAAAAIE88BwAAAAAAACBPPAcAAAAAAAAgTzwHAAAAAAAAIE88BwAAAAAAACBPPAcAAAAAAAAg\\nTzwHAAAAAAAAIE88BwAAAAAAACBPPAcAAAAAAAAgTzwHAAAAAAAAIE88BwAAAAAAACBPPAcAAAAA\\nAAAgbxzbNVePAAAAgLr3e1ZPAAAAgDTPcwAAAAAAAADyxHMAAAAAAAAA8sRzAAAAAAAAAPLEcwAA\\nAAAAAADyxHMAAAAAAAAA8sRzAAAAAAAAAPLEcwAAAAAAAADyxHMAAAAAAAAA8sRzAAAAAAAAAPLE\\ncwAAAAAAAADyxHMAAAAAAAAA8sRzAAAAAAAAAPLEcwAAAAAAAADyxHMAAAAAAAAA8sRzAAAAAAAA\\nAPLEcwAAAAAAAADyxHMAAAAAAAAA8sRzAAAAAAAAAPLEcwAAAAAAAADyxHMAAAAAAAAA8sRzAAAA\\nAAAAAPLEcwAAAAAAAADyxHMAAAAAAAAA8sRzAAAAAAAAAPLEcwAAAAAAAADyxHMAAAAAAAAA8sRz\\nAAAAAAAAAPLEcwAAAAAAAADyxHMAAAAAAAAA8sRzAAAAAAAAAPLEcwAAAAAAAADyxHMAAAAAAAAA\\n8sRzAAAAAAAAAPLEcwAAAAAAAADyxHMAAAAAAAAA8sRzAAAAAAAAAPLEcwAAAAAAAADyxHMAAAAA\\nAAAA8sRzAAAAAAAAAPLEcwAAAAAAAADyxHMAAAAAAAAA8sRzAAAAAAAAAPLEcwAAAAAAAADyxHMA\\nAAAAAAAA8sRzAAAAAAAAAPLEcwAAAAAAAADyxHMAAAAAAAAA8sRzAAAAAAAAAPLEcwAAAAAAAADy\\nxHMAAAAAAAAA8sRzAAAAAAAAAPLEcwAAAAAAAADyxHMAAAAAAAAA8sRzAAAAAAAAAPLEcwAAAAAA\\nAADyxHMAAAAAAAAA8sRzAAAAAAAAAPLEcwAAAAAAAADyxHMAAAAAAAAA8sRzAAAAAAAAAPLEcwAA\\nAAAAAADyxHMAAAAAAAAA8sRzAAAAAAAAAPLEcwAAAAAAAADyxHMAAAAAAAAA8sRzAAAAAAAAAPLE\\ncwAAAAAAAADyxHMAAAAAAAAA8sRzAAAAAAAAAPLEcwAAAAAAAADyxHMAAAAAAAAA8sRzAAAAAAAA\\nAPLEcwAAAAAAAADyxHMAAAAAAAAA8sRzAAAAAAAAAPLEcwAAAAAAAADyxHMAAAAAAAAA8sRzAAAA\\nAAAAAPLEcwAAAAAAAADyxHMAAAAAAAAA8sRzAAAAAAAAAPLEcwAAAAAAAADyxHMAAAAAAAAA8sRz\\nAAAAAAAAAPLEcwAAAAAAAADyxHMAAAAAAAAA8sRzAAAAAAAAAPLEcwAAAAAAAADyxHMAAAAAAAAA\\n8sRzAAAAAAAAAPLEcwAAAAAAAADyxHMAAAAAAAAA8sRzAAAAAAAAAPLEcwAAAAAAAADyxHMAAAAA\\nAAAA8sRzAAAAAAAAAPLEcwAAAAAAAADyxHMAAAAAAAAA8sRzAAAAAAAAAPLEcwAAAAAAAADyxHMA\\nAAAAAAAA8sRzAAAAAAAAAPLEcwAAAAAAAADyxHMAAAAAAAAA8sRzAAAAAAAAAPLEcwAAAAAAAADy\\nxHMAAAAAAAAA8sRzAAAAAAAAAPLEcwAAAAAAAADyxHMAAAAAAAAA8sRzAAAAAAAAAPLEcwAAAAAA\\nAADyxHMAAAAAAAAA8sRzAAAAAAAAAPLEcwAAAAAAAADyxHMAAAAAAAAA8sRzAAAAAAAAAPLEcwAA\\nAAAAAADyxHMAAAAAAAAA8sRzAAAAAAAAAPLEcwAAAAAAAADyxHMAAAAAAAAA8sRzAAAAAAAAAPLE\\ncwAAAAAAAADyxHMAAAAAAAAA8sRzAAAAAAAAAPLEcwAAAAAAAADyxHMAAAAAAAAA8sRzAAAAAAAA\\nAPLEcwAAAAAAAADyxHMAAAAAAAAA8sRzAAAAAAAAAPLEcwAAAAAAAADyxHMAAAAAAAAA8sRzAAAA\\nAAAAAPLEcwAAAAAAAADyxHMAAAAAAAAA8sRzAAAAAAAAAPLEcwAAAAAAAADyxHMAAAAAAAAA8sRz\\nAAAAAAAAAPLEcwAAAAAAAADyxHMAAAAAAAAA8sRzAAAAAAAAAPLEcwAAAAAAAADyxHMAAAAAAAAA\\n8sRzAAAAAAAAAPLEcwAAAAAAAADyxHMAAAAAAAAA8sRzAAAAAAAAAPLEcwAAAAAAAADyxHMAAAAA\\nAAAA8sRzAAAAAAAAAPLEcwAAAAAAAADyxHMAAAAAAAAA8sRzAAAAAAAAAPLEcwAAAAAAAADyxHMA\\nAAAAAAAA8sRzAAAAAAAAAPLEcwAAAAAAAADyxHMAAAAAAAAA8sRzAAAAAAAAAPLEcwAAAAAAAADy\\nxHMAAAAAAAAA8sRzAAAAAAAAAPLEcwAAAAAAAADyxHMAAAAAAAAA8sRzAAAAAAAAAPLEcwAAAAAA\\nAADyxHMAAAAAAAAA8sRzAAAAAAAAAPLEcwAAAAAAAADyxHMAAAAAAAAA8sRzAAAAAAAAAPLEcwAA\\nAAAAAADyxHMAAAAAAAAA8sRzAAAAAAAAAPLEcwAAAAAAAADyxHMAAAAAAAAA8sa533P1CAAAAAAA\\nAABYyfMcAAAAAAAAgDzxHAAAAAAAAIA88RwAAAAAAACAPPEcAAAAAAAAgDzxHAAAAAAAAIA88RwA\\nAAAAAACAPPEcAAAAAAAAgDzxHAAAAAAAAIA88RwAAAAAAACAPPEcAAAAAAAAgDzxHAAAAAAAAIA8\\n8RwAAAAAAACAPPEcAAAAAAAAgDzxHAAAAAAAAIA88RwAAAAAAACAPPEcAAAAAAAAgDzxHAAAAAAA\\nAIA88RwAAAAAAACAPPEcAAAAAAAAgDzxHAAAAAAAAIA88RwAAAAAAACAPPEcAAAAAAAAgDzxHAAA\\nAAAAAIA88RwAAAAAAACAPPEcAAAAAAAAgDzxHAAAAAAAAIA88RwAAAAAAACAPPEcAAAAAAAAgDzx\\nHAAAAAAAAIA88RwAAAAAAACAPPEcAAAAAAAAgDzxHAAAAAAAAIA88RwAAAAAAACAPPEcAAAAAAAA\\ngDzxHAAAAAAAAIA88RwAAAAAAACAPPEcAAAAAAAAgDzxHAAAAAAAAIA88RwAAAAAAACAPPEcAAAA\\nAAAAgDzxHAAAAAAAAIA88RwAAAAAAACAPPEcAAAAAAAAgDzxHAAAAAAAAIA88RwAAAAAAACAPPEc\\nAAAAAAAAgDzxHAAAAAAAAIA88RwAAAAAAACAPPEcAAAAAAAAgDzxHAAAAAAAAIA88RwAAAAAAACA\\nPPEcAAAAAAAAgDzxHAAAAAAAAIA88RwAAAAAAACAPPEcAAAAAAAAgDzxHAAAAAAAAIA88RwAAAAA\\nAACAPPEcAAAAAAAAgDzxHAAAAAAAAIA88RwAAAAAAACAPPEcAAAAAAAAgDzxHAAAAAAAAIA88RwA\\nAAAAAACAPPEcAAAAAAAAgDzxHAAAAAAAAIA88RwAAAAAAACAPPEcAAAAAAAAgDzxHAAAAAAAAIA8\\n8RwAAAAAAACAPPEcAAAAAAAAgDzxHAAAAAAAAIA88RwAAAAAAACAPPEcAAAAAAAAgDzxHAAAAAAA\\nAIA88RwAAAAAAACAPPEcAAAAAAAAgDzxHAAAAAAAAIA88RwAAAAAAACAPPEcAAAAAAAAgDzxHAAA\\nAAAAAIA88RwAAAAAAACAPPEcAAAAAAAAgDzxHAAAAAAAAIA88RwAAAAAAACAPPEcAAAAAAAAgDzx\\nHAAAAAAAAIA88RwAAAAAAACAPPEcAAAAAAAAgDzxHAAAAAAAAIA88RwAAAAAAACAPPEcAAAAAAAA\\ngDzxHAAAAAAAAIA88RwAAAAAAACAPPEcAAAAAAAAgDzxHAAAAAAAAIA88RwAAAAAAACAPPEcAAAA\\nAAAAgDzxHAAAAAAAAIA88RwAAAAAAACAPPEcAAAAAAAAgDzxHAAAAAAAAIA88RwAAAAAAACAPPEc\\nAAAAAAAAgDzxHAAAAAAAAIA88RwAAAAAAACAPPEcAAAAAAAAgDzxHAAAAAAAAIA88RwAAAAAAACA\\nPPEcAAAAAAAAgDzxHAAAAAAAAIA88RwAAAAAAACAPPEcAAAAAAAAgDzxHAAAAAAAAIA88RwAAAAA\\nAACAPPEcAAAAAAAAgDzxHAAAAAAAAIA88RwAAAAAAACAPPEcAAAAAAAAgDzxHAAAAAAAAIA88RwA\\nAAAAAACAPPEcAAAAAAAAgDzxHAAAAAAAAIA88RwAAAAAAACAPPEcAAAAAAAAgDzxHAAAAAAAAIA8\\n8RwAAAAAAACAPPEcAAAAAAAAgDzxHAAAAAAAAIA88RwAAAAAAACAPPEcAAAAAAAAgDzxHAAAAAAA\\nAIA88RwAAAAAAACAPPEcAAAAAAAAgDzxHAAAAAAAAIA88RwAAAAAAACAPPEcAAAAAAAAgDzxHAAA\\nAAAAAIA88RwAAAAAAACAPPEcAAAAAAAAgDzxHAAAAAAAAIA88RwAAAAAAACAPPEcAAAAAAAAgDzx\\nHAAAAAAAAIA88RwAAAAAAACAPPEcAAAAAAAAgDzxHAAAAAAAAIA88RwAAAAAAACAPPEcAAAAAAAA\\ngDzxHAAAAAAAAIA88RwAAAAAAACAPPEcAAAAAAAAgDzxHAAAAAAAAIA88RwAAAAAAACAPPEcAAAA\\nAAAAgDzxHAAAAAAAAIA88RwAAAAAAACAPPEcAAAAAAAAgDzxHAAAAAAAAIA88RwAAAAAAACAPPEc\\nAAAAAAAAgDzxHAAAAAAAAIA88RwAAAAAAACAPPEcAAAAAAAAgDzxHAAAAAAAAIA88RwAAAAAAACA\\nPPEcAAAAAAAAgDzxHAAAAAAAAIA88RwAAAAAAACAPPEcAAAAAAAAgDzxHAAAAAAAAIA88RwAAAAA\\nAACAPPEcAAAAAAAAgDzxHAAAAAAAAIA88RwAAAAAAACAPPEcAAAAAAAAgDzxHAAAAAAAAIA88RwA\\nAAAAAACAPPEcAAAAAAAAgDzxHAAAAAAAAIC8H4tZbOPiHEZQAAAAAElFTkSuQmCC\\n\\\" transform=\\\"translate(114, 47)\\\"\\/>\\n<\\/g>\\n<defs>\\n  <clipPath id=\\\"clip5903\\\">\\n    <rect x=\\\"2160\\\" y=\\\"47\\\" width=\\\"73\\\" height=\\\"1441\\\"\\/>\\n  <\\/clipPath>\\n<\\/defs>\\n<g clip-path=\\\"url(#clip5903)\\\">\\n<image width=\\\"72\\\" height=\\\"1440\\\" xlink:href=\\\"data:image\\/png;base64,\\niVBORw0KGgoAAAANSUhEUgAAAEgAAAWgCAYAAAD9wgUPAAAMT0lEQVR4nO3dwY3sRhAFQY5Q\\/lsh\\nL6XfLQtUeSQPERYsEg8kmpyZ\\/f17\\/r4P\\/+uvt\\/+ArxMoCBQECgKFOffft\\/+GT7OgIFAQKAgUBApz\\n3cVWFhQECgIFgcLc4yK9saAgUBAoCBQECo4awYKCQEGgIFAQKLiLBQsKAgWBgkDBRTpYUBAoCBQE\\nCgIFr32CBQWBgkBBoOCoESwoCBQECgIFgYK7WLCgIFAQKAgUBArzeGC2sqAgUBAoCBRcpIMFBYGC\\nQEGgIFCYxwOzlQUFgYJAQaAgUHAWCxYUBAoCBYGCi3SwoCBQECgIFAQK85x\\/3v4bPs2CgkBBoCBQ\\n8FYjWFAQKAgUBAoCBQ\\/MggUFgYJAQaAgUHAXCxYUBAoCBYHC\\/O6ft\\/+GT7OgIFAQKAgUBArzHHex\\njQUFgYJAQaAgUJifu9jKgoJAQaAgUHDUCBYUBAoCBYGCQGEer31WFhQECgIFgYLnQcGCgkBBoCBQ\\nECh4YBYsKAgUBAoCBYGCs1iwoCBQECgIFBw1ggUFgYJAQaAgUJjfOW\\/\\/DZ9mQUGgIFAQKAgUnMWC\\nBQWBgkBBoOAiHSwoCBQECgIFgYJ388GCgkBBoCBQmMdbjZUFBYGCQEGgIFBw1AgWFAQKAgWBgkDB\\na59gQUGgIFAQKLhIBwsKAgWBgkBBoODLLMGCgkBBoCBQECj48EKwoCBQECgIFDwwCxYUBAoCBYGC\\nQMFRI1hQECgIFAQKLtLBgoJAQaAgUBAoeDcfLCgIFAQKAgWBgtc+wYKCQEGgIFDwwCxYUBAoCBQE\\nCgIFd7FgQUGgIFAQKAgU3MWCBQWBgkBBoDDPuW\\/\\/DZ9mQUGgIFAQKAgU5rmOGhsLCgIFgYJAwfOg\\nYEFBoCBQECgIFDwwCxYUBAoCBYGCQMFZLFhQECgIFAQKLtLBgoJAQaAgUBAoeGAWLCgIFAQKAgWB\\ngrNYsKAgUBAoCBTmcY1eWVAQKAgUBAoCBXexYEFBoCBQECiMLxzuLCgIFAQKAgWBgqNGsKAgUBAo\\nCBQECu5iwYKCQEGgIFBwkQ4WFAQKAgWBgkBhHt9lWVlQECgIFAQKAoW55\\/f23\\/BpFhQECgIFgYIH\\nZsGCgkBBoCBQECjM46ixsqAgUBAoCBTmXhfpjQUFgYJAQaAgUHDUCBYUBAoCBYGCQMFdLFhQECgI\\nFAQKHpgFCwoCBYGCQEGg4KgRLCgIFAQKAgWBwjxHo406QaAgUBAoeGAWLCgIFAQKAgWBggdmwYKC\\nQEGgIFDw4ybBgoJAQaAgUBAozHM12qgTBAoCBYGCQMFZLFhQECgIFAQKLtLBgoJAQaAgUBAo+Bhw\\nUCcIFAQKAgWBgs9JBwsKAgWBgkDBx4CDBQWBgkBBoCBQmOuB2UqdIFAQKAgUPA8KFhQECgIFgYJA\\nwQOzYEFBoCBQECgIFDwwC+oEgYJAQaDggVmwoCBQECgIFAQKvpIZLCgIFAQKAgWBwly\\/YbZSJwgU\\nBAoCBe\\/mgwUFgYJAQaAgUPDALFhQECgIFAQK3s0HCwoCBYGCQEGg4GPAQZ0gUBAoCBQECs5iwYKC\\nQEGgIFDwViNYUBAoCBQECgIFR41gQUGgIFAQKAgUvPYJ6gSBgkBBoOCoESwoCBQECgIFgYLXPsGC\\ngkBBoCBQcNQIFhQECgIFgYJAwVuNoE4QKAgUBAoCBWexYEFBoCBQECi4SAcLCgIFgYJAQaDgLhYs\\nKAgUBAoCBYGCT5gFCwoCBYGCQGGOf5+1UicIFAQKAgWBggdmwYKCQEGgIFDwPChYUBAoCBQECgIF\\nR41gQUGgIFAQKAgU3MWCBQWBgkBBoOAiHSwoCBQECgIFgYK7WLCgIFAQKAgUBApz3MVWFhQECgIF\\ngYKjRrCgIFAQKAgUBAruYsGCgkBBoCBQcJEOFhQECgIFgYJAwV0sWFAQKAgUBAoCBXexYEFBoCBQ\\nECj4AFWwoCBQECgIFAQKjhrBgoJAQaAgUBAouIsFCwoCBYGCQMF\\/ZgnqBIGCQEGgIFBw1AgWFAQK\\nAgWBgnfzwYKCQEGgIFAQKDhqBAsKAgWBgkBBoOAsFiwoCBQECgIFR41gQUGgIFAQKAgU3MWCBQWB\\ngkBBoCBQ8MAsWFAQKAgUBApzHxfpjQUFgYJAQaAgUHDUCBYUBAoCBYGCtxrBgoJAQaAgUBAozLlv\\n\\/wnfZkFBoCBQECgIFJzFggUFgYJAQaDgrUawoCBQECgIFAQKc3zCbGVBQaAgUBAoCBQ8MAsWFAQK\\nAgWBggdmwYKCQEGgIFAQKDhqBAsKAgWBgkBhztt\\/wcdZUBAoCBQECgIFR41gQUGgIFAQKAgUvPYJ\\nFhQECgIFgYIfmgwWFAQKAgWBgkDBUSNYUBAoCBQECgIFv2EWLCgIFAQKAgUPzIIFBYGCQEGgIFDw\\nCbNgQUGgIFAQKPgyS7CgIFAQKAgUBAqOGsGCgkBBoCBQECg4iwULCgIFgYJAwVEjWFAQKAgUBAoC\\nBV9mCRYUBAoCBYGCQGF8l2VnQUGgIFAQKDhqBAsKAgWBgkBBoOCoESwoCBQECgIFR41gQUGgIFAQ\\nKAgUHDWCBQWBgkBBoCBQcBYLFhQECgIFgYJfAw4WFAQKAgWBgkDBzyUHCwoCBYGCQEGg4CwWLCgI\\nFAQKAoU5jhorCwoCBYGCQEGgMNdRY2VBQaAgUBAo+ABVsKAgUBAoCBQECr7MEiwoCBQECgIFgYJ3\\n88GCgkBBoCBQ8G4+WFAQKAgUBAoCBe\\/mgwUFgYJAQaAgUPCvjIMFBYGCQEGg4BNmwYKCQEGgIFAQ\\nKHhgFiwoCBQECgIFz4OCBQWBgkBBoCBQcNQIFhQECgIFgYJAweekgwUFgYJAQaDgG4fBgoJAQaAg\\nUBAo+PWXYEFBoCBQECgIFJzFggUFgYJAQaDgIh0sKAgUBAoCBYGCf2UcLCgIFAQKAgVHjWBBQaAg\\nUBAoCBS8mw8WFAQKAgWBgkDBWSxYUBAoCBQECi7SwYKCQEGgIFAQKHhgFiwoCBQECgIFgYKzWLCg\\nIFAQKAgU\\/FxysKAgUBAoCBQECn4uOVhQECgIFAQKngcFCwoCBYGCQEGg4N18sKAgUBAoCBQECs5i\\nwYKCQEGgIFCY+7hKbywoCBQECgIFgYKjRrCgIFAQKAgUBApe+wQLCgIFgYJAwVEjWFAQKAgUBAoC\\nBUeNYEFBoCBQECg4agQLCgIFgYJAQaDge\\/PBgoJAQaAgUBAozPE56ZUFBYGCQEGg4KgRLCgIFAQK\\nAgWBgqNGsKAgUBAoCBQECn70P1hQECgIFAQKcz0xW1lQECgIFAQKAgVHjWBBQaAgUBAo+DJLsKAg\\nUBAoCBQECn4uOVhQECgIFAQKAgVnsWBBQaAgUBAo+BhwsKAgUBAoCBQECh6YBQsKAgWBgkBBoOAs\\nFiwoCBQECgIFF+lgQUGgIFAQKAgU5vhK5sqCgkBBoCBQ8FYjWFAQKAgUBAoCBQ\\/MggUFgYJAQaAg\\nUHAXCxYUBAoCBYGCi3SwoCBQECgIFAQKcx8\\/NbmxoCBQECgIFAQKzmLBgoJAQaAgUJjzc9TYWFAQ\\nKAgUBAoChTkemK0sKAgUBAoCBRfpYEFBoCBQECgIFLybDxYUBAoCBYGCQGHOz7v5jQUFgYJAQaDg\\ngVmwoCBQECgIFAQK7mLBgoJAQaAgUBAoeO0TLCgIFAQKAoU5z5+3\\/4ZPs6AgUBAoCBQECh6YBQsK\\nAgWBgkBhrqPGyoKCQEGgIFAQKDhqBAsKAgWBgkBBoOAuFiwoCBQECgIFD8yCBQWBgkBBoCBQcNQI\\nFhQECgIFgYJAwVksWFAQKAgUBAq+cRgsKAgUBAoCBYHCnOsutrGgIFAQKAgUHDWCBQWBgkBBoCBQ\\nmOuosbKgIFAQKAgUBArOYsGCgkBBoCBQ8AGqYEFBoCBQECgIFLybDxYUBAoCBYGCQMEDs2BBQaAg\\nUBAoeDcfLCgIFAQKAgWBgtc+wYKCQEGgIFBw1AgWFAQKAgWBgkDBW41gQUGgIFAQKAgUnMWCBQWB\\ngkBBoOCtRrCgIFAQKAgUBAqOGsGCgkBBoCBQECh47RMsKAgUBAoChbnXA7ONBQWBgkBBoCBQcNQI\\nFhQECgIFgcI89779N3yaBQWBgkBBoCBQmMdRY2VBQaAgUBAoCBR8wixYUBAoCBQECo4awYKCQEGg\\nIFAQKHg3HywoCBQECgIFgcI8HpitLCgIFAQKAgVHjWBBQaAgUBAoCBS89gkWFAQKAgWBwn8v2\\/BP\\nX8iooQAAAABJRU5ErkJggg==\\n\\\" transform=\\\"translate(2161, 47)\\\"\\/>\\n<\\/g>\\n<g clip-path=\\\"url(#clip5900)\\\">\\n<text style=\\\"fill:#000000; fill-opacity:1; font-family:Arial,Helvetica Neue,Helvetica,sans-serif; font-size:48px; text-anchor:start;\\\" transform=\\\"rotate(0, 2268.76, 1394.02)\\\" x=\\\"2268.76\\\" y=\\\"1394.02\\\">38250<\\/text>\\n<\\/g>\\n<g clip-path=\\\"url(#clip5900)\\\">\\n<text style=\\\"fill:#000000; fill-opacity:1; font-family:Arial,Helvetica Neue,Helvetica,sans-serif; font-size:48px; text-anchor:start;\\\" transform=\\\"rotate(0, 2268.76, 1099.34)\\\" x=\\\"2268.76\\\" y=\\\"1099.34\\\">38500<\\/text>\\n<\\/g>\\n<g clip-path=\\\"url(#clip5900)\\\">\\n<text style=\\\"fill:#000000; fill-opacity:1; font-family:Arial,Helvetica Neue,Helvetica,sans-serif; font-size:48px; text-anchor:start;\\\" transform=\\\"rotate(0, 2268.76, 804.65)\\\" x=\\\"2268.76\\\" y=\\\"804.65\\\">38750<\\/text>\\n<\\/g>\\n<g clip-path=\\\"url(#clip5900)\\\">\\n<text style=\\\"fill:#000000; fill-opacity:1; font-family:Arial,Helvetica Neue,Helvetica,sans-serif; font-size:48px; text-anchor:start;\\\" transform=\\\"rotate(0, 2268.76, 509.963)\\\" x=\\\"2268.76\\\" y=\\\"509.963\\\">39000<\\/text>\\n<\\/g>\\n<g clip-path=\\\"url(#clip5900)\\\">\\n<text style=\\\"fill:#000000; fill-opacity:1; font-family:Arial,Helvetica Neue,Helvetica,sans-serif; font-size:48px; text-anchor:start;\\\" transform=\\\"rotate(0, 2268.76, 215.276)\\\" x=\\\"2268.76\\\" y=\\\"215.276\\\">39250<\\/text>\\n<\\/g>\\n<polyline clip-path=\\\"url(#clip5900)\\\" style=\\\"stroke:#000000; stroke-width:4; stroke-opacity:1; fill:none\\\" points=\\\"\\n  2232.76,1487.47 2232.76,1380.37 2256.76,1380.37 2232.76,1380.37 2232.76,1085.69 2256.76,1085.69 2232.76,1085.69 2232.76,790.999 2256.76,790.999 2232.76,790.999 \\n  2232.76,496.312 2256.76,496.312 2232.76,496.312 2232.76,201.625 2256.76,201.625 2232.76,201.625 2232.76,47.2441 \\n  \\\"\\/>\\n<\\/svg>\\n\"},\"nodeType\":\"DOM\",\"type\":\"node\",\"instanceArgs\":{\"namespace\":\"html\",\"tag\":\"div\"},\"children\":[]}]}}}},\"children\":[{\"props\":{},\"nodeType\":\"ObservableNode\",\"type\":\"node\",\"instanceArgs\":{\"id\":\"2025183764128307320\",\"name\":\"obs-node\"},\"children\":[]}]}]},\n",
       "            window,\n",
       "        );\n",
       "    } else {\n",
       "        document\n",
       "            .querySelector('[data-webio-mountpoint=\"15868973271054830777\"]')\n",
       "            .innerHTML = (\n",
       "                '<div style=\"padding: 1em; background-color: #f8d6da; border: 1px solid #f5c6cb\">' +\n",
       "                '<p><strong>WebIO not detected.</strong></p>' +\n",
       "                '<p>Please read ' +\n",
       "                '<a href=\"https://juliagizmos.github.io/WebIO.jl/latest/troubleshooting/not-detected/\" target=\"_blank\">the troubleshooting guide</a> ' +\n",
       "                'for more information on how to resolve this issue.</p>' +\n",
       "                '<p><a href=\"https://juliagizmos.github.io/WebIO.jl/latest/troubleshooting/not-detected/\" target=\"_blank\">https://juliagizmos.github.io/WebIO.jl/latest/troubleshooting/not-detected/</a></p>' +\n",
       "                '</div>'\n",
       "            );\n",
       "    }\n",
       "    </script>\n",
       "</div>\n"
      ],
      "text/plain": [
       "Node{WebIO.DOM}(WebIO.DOM(:html, :div), Any[Node{WebIO.DOM}(WebIO.DOM(:html, :div), Any[Scope(Node{WebIO.DOM}(WebIO.DOM(:html, :div), Any[Node{WebIO.DOM}(WebIO.DOM(:html, :div), Any[Node{WebIO.DOM}(WebIO.DOM(:html, :label), Any[\"m\"], Dict{Symbol, Any}(:className => \"interact \", :style => Dict{Any, Any}(:padding => \"5px 10px 0px 10px\")))], Dict{Symbol, Any}(:className => \"interact-flex-row-left\")), Node{WebIO.DOM}(WebIO.DOM(:html, :div), Any[Node{WebIO.DOM}(WebIO.DOM(:html, :input), Any[], Dict{Symbol, Any}(:max => 15, :default => 7, :attributes => Dict{Any, Any}(:type => \"range\", Symbol(\"data-bind\") => \"numericValue: index, valueUpdate: 'input', event: {change: function (){this.changes(this.changes()+1)}}\", \"orient\" => \"horizontal\"), :min => 1, :step => 1, :className => \"slider slider is-fullwidth\", :style => Dict{Any, Any}()))], Dict{Symbol, Any}(:className => \"interact-flex-row-center\")), Node{WebIO.DOM}(WebIO.DOM(:html, :div), Any[Node{WebIO.DOM}(WebIO.DOM(:html, :p), Any[], Dict{Symbol, Any}(:attributes => Dict(\"data-bind\" => \"text: formatted_val\")))], Dict{Symbol, Any}(:className => \"interact-flex-row-right\"))], Dict{Symbol, Any}(:className => \"interact-flex-row interact-widget\")), Dict{String, Tuple{Observables.AbstractObservable, Union{Nothing, Bool}}}(\"changes\" => (Observable{Int64} with 1 listeners. Value:\n",
       "0, nothing), \"index\" => (Observable{Int64} with 2 listeners. Value:\n",
       "8, nothing)), Set{String}(), nothing, Asset[Asset(\"js\", \"knockout\", \"/Users/johnsmith/.julia/packages/Knockout/IP1uR/src/../assets/knockout.js\"), Asset(\"js\", \"knockout_punches\", \"/Users/johnsmith/.julia/packages/Knockout/IP1uR/src/../assets/knockout_punches.js\"), Asset(\"js\", nothing, \"/Users/johnsmith/.julia/packages/InteractBase/Zfu5P/src/../assets/all.js\"), Asset(\"css\", nothing, \"/Users/johnsmith/.julia/packages/InteractBase/Zfu5P/src/../assets/style.css\"), Asset(\"css\", nothing, \"/Users/johnsmith/.julia/packages/Interact/SbgIk/src/../assets/bulma_confined.min.css\")], Dict{Any, Any}(\"changes\" => Any[WebIO.JSString(\"(function (val){return (val!=this.model[\\\"changes\\\"]()) ? (this.valueFromJulia[\\\"changes\\\"]=true, this.model[\\\"changes\\\"](val)) : undefined})\")], \"index\" => Any[WebIO.JSString(\"(function (val){return (val!=this.model[\\\"index\\\"]()) ? (this.valueFromJulia[\\\"index\\\"]=true, this.model[\\\"index\\\"](val)) : undefined})\")]), WebIO.ConnectionPool(Channel{Any}(32), Set{AbstractConnection}(), Condition(Base.InvasiveLinkedList{Task}(Task (runnable) @0x00000001471e2870, Task (runnable) @0x00000001471e2870), Base.AlwaysLockedST(1))), WebIO.JSString[WebIO.JSString(\"function () {\\n    var handler = (function (ko, koPunches) {\\n    ko.punches.enableAll();\\n    ko.bindingHandlers.numericValue = {\\n        init: function(element, valueAccessor, allBindings, data, context) {\\n            var stringified = ko.observable(ko.unwrap(valueAccessor()));\\n            stringified.subscribe(function(value) {\\n                var val = parseFloat(value);\\n                if (!isNaN(val)) {\\n                    valueAccessor()(val);\\n                }\\n            });\\n            valueAccessor().subscribe(function(value) {\\n                var str = JSON.stringify(value);\\n                if ((str == \\\"0\\\") && ([\\\"-0\\\", \\\"-0.\\\"].indexOf(stringified()) >= 0))\\n                     return;\\n                 if ([\\\"null\\\", \\\"\\\"].indexOf(str) >= 0)\\n                     return;\\n                stringified(str);\\n            });\\n            ko.applyBindingsToNode(\\n                element,\\n                {\\n                    value: stringified,\\n                    valueUpdate: allBindings.get('valueUpdate'),\\n                },\\n                context,\\n            );\\n        }\\n    };\\n    var json_data = {\\\"formatted_vals\\\":[\\\"1\\\",\\\"2\\\",\\\"3\\\",\\\"4\\\",\\\"5\\\",\\\"6\\\",\\\"7\\\",\\\"8\\\",\\\"9\\\",\\\"10\\\",\\\"11\\\",\\\"12\\\",\\\"13\\\",\\\"14\\\",\\\"15\\\"],\\\"changes\\\":WebIO.getval({\\\"name\\\":\\\"changes\\\",\\\"scope\\\":\\\"14155568388861981875\\\",\\\"id\\\":\\\"8029948714039056713\\\",\\\"type\\\":\\\"observable\\\"}),\\\"index\\\":WebIO.getval({\\\"name\\\":\\\"index\\\",\\\"scope\\\":\\\"14155568388861981875\\\",\\\"id\\\":\\\"17242420901280589613\\\",\\\"type\\\":\\\"observable\\\"})};\\n    var self = this;\\n    function AppViewModel() {\\n        for (var key in json_data) {\\n            var el = json_data[key];\\n            this[key] = Array.isArray(el) ? ko.observableArray(el) : ko.observable(el);\\n        }\\n        \\n        [this[\\\"formatted_val\\\"]=ko.computed(    function(){\\n        return this.formatted_vals()[parseInt(this.index())-(1)];\\n    }\\n,this)]\\n        [this[\\\"changes\\\"].subscribe((function (val){!(this.valueFromJulia[\\\"changes\\\"]) ? (WebIO.setval({\\\"name\\\":\\\"changes\\\",\\\"scope\\\":\\\"14155568388861981875\\\",\\\"id\\\":\\\"8029948714039056713\\\",\\\"type\\\":\\\"observable\\\"},val)) : undefined; return this.valueFromJulia[\\\"changes\\\"]=false}),self),this[\\\"index\\\"].subscribe((function (val){!(this.valueFromJulia[\\\"index\\\"]) ? (WebIO.setval({\\\"name\\\":\\\"index\\\",\\\"scope\\\":\\\"14155568388861981875\\\",\\\"id\\\":\\\"17242420901280589613\\\",\\\"type\\\":\\\"observable\\\"},val)) : undefined; return this.valueFromJulia[\\\"index\\\"]=false}),self)]\\n        \\n    }\\n    self.model = new AppViewModel();\\n    self.valueFromJulia = {};\\n    for (var key in json_data) {\\n        self.valueFromJulia[key] = false;\\n    }\\n    ko.applyBindings(self.model, self.dom);\\n}\\n);\\n    (WebIO.importBlock({\\\"data\\\":[{\\\"name\\\":\\\"knockout\\\",\\\"type\\\":\\\"js\\\",\\\"url\\\":\\\"/assetserver/0fc6d61518197b1bf9b23217e9be1d2e00f2bb14-knockout.js\\\"},{\\\"name\\\":\\\"knockout_punches\\\",\\\"type\\\":\\\"js\\\",\\\"url\\\":\\\"/assetserver/24c12264eef2b01f723a21985ba5661f5564d7cf-knockout_punches.js\\\"}],\\\"type\\\":\\\"async_block\\\"})).then((imports) => handler.apply(this, imports));\\n}\\n\")])], Dict{Symbol, Any}(:className => \"field interact-widget\")), Observable{Any} with 0 listeners. Value:\n",
       "Node{WebIO.DOM}(WebIO.DOM(:html, :div), Any[Plot{Plots.GRBackend() n=1}], Dict{Symbol, Any}(:className => \"interact-flex-row interact-widget\"))], Dict{Symbol, Any}())"
      ]
     },
     "execution_count": 148,
     "metadata": {
      "application/vnd.webio.node+json": {
       "kernelId": "7785d7aa-8a23-4767-8e8a-66873a3fe0e5"
      }
     },
     "output_type": "execute_result"
    }
   ],
   "source": [
    "using Wavelets\n",
    "using LinearAlgebra\n",
    "J = 14\n",
    "n = 2^J\n",
    "# ix = 1:n\n",
    "# t = ut[1]\n",
    "x = cc[length(cc)-n+1:length(cc)]\n",
    "xmaxim = maximum(x) \n",
    "\n",
    "# x = x ./ xmaxim\n",
    "\n",
    "mp = @manipulate for \n",
    "            J in slider(1:15; label=\"m\", default=7)\n",
    "#             ixs in slider(1:xmax; label=\"ixs\", default=64)\n",
    "    n = 2^J\n",
    "    x = cc[length(cc)-n+1:length(cc)]\n",
    "    \n",
    "#     ixs = xmax\n",
    "#     ixs = _ixs #Int(trunc(min(m * 2 * _ixs, xmax)))\n",
    "#     wt = wavelet(WT.haar)\n",
    "    # x = sin.(4*range(0, stop=2*pi-eps(), length=1024))\n",
    "    # x = copy(cc)/(maximum(cc) + 1)\n",
    "#     tree = bestbasistree(y[1:ixs], wt)\n",
    "#     ytb = wpt(y[1:ixs], wt, tree)\n",
    "#     xt = dwt(x[1:ixs], wt)\n",
    "    # get biggest m-term approximations\n",
    "#     m = 30\n",
    "    \n",
    "#     threshold!(ytb, BiggestTH(), m)\n",
    "#     threshold!(xt, BiggestTH(), m)\n",
    "    # compare sparse approximations in ell_2 norm\n",
    "    # norm(x - iwpt(xtb, wt, tree), 2) # best basis wpt\n",
    "    # norm(x - idwt(xt, wt), 2)        # regular dwt\n",
    "#     xidwt = idwt(xt, wt)\n",
    "#     , legend = :outertopright\n",
    "#     plot(ix, y * ymax, lw=1, size=(1200,400), xlims=(1,xmax), color=:blue)\n",
    "#     plot!(ix[1:ixs],yidwt[1:ixs] * ymax)\n",
    "#     plot!(ix[1:ixs],yidwt[1:ixs] * ymax,fillrange=yidwt[1:ixs] * ymax * 0.99, fillalpha=0.2)\n",
    "#     plot(x)\n",
    "#     dnx = denoise(x,TI=true)\n",
    "#     plot!(dnx)\n",
    "    \n",
    "#     d,l = wplotdots(xt, 0.1, n)\n",
    "#     wplotim(x::AbstractArray, L::Integer, wt::Union{DiscreteWavelet,Nothing}=nothing;\n",
    "#                 wabs::Bool=true, power::Real=0.7, pnorm::Real=1)\n",
    "\n",
    "#     A = wplotim(x)\n",
    "#     Plots.scatter(d,l)\n",
    "        A = wplotim(x)\n",
    "        heatmap(A)\n",
    "#     plot(x)\n",
    "\n",
    "end \n",
    "mp"
   ]
  },
  {
   "cell_type": "code",
   "execution_count": 170,
   "id": "056290c9",
   "metadata": {},
   "outputs": [
    {
     "data": {
      "text/plain": [
       "15-element Vector{Tuple{Int64, Int64, Float64, Float64}}:\n",
       " (1, 2, 0.03333333333333333, 0.001388888888888889)\n",
       " (2, 4, 0.06666666666666667, 0.002777777777777778)\n",
       " (3, 8, 0.13333333333333333, 0.005555555555555556)\n",
       " (4, 16, 0.26666666666666666, 0.011111111111111112)\n",
       " (5, 32, 0.5333333333333333, 0.022222222222222223)\n",
       " (6, 64, 1.0666666666666667, 0.044444444444444446)\n",
       " (7, 128, 2.1333333333333333, 0.08888888888888889)\n",
       " (8, 256, 4.266666666666667, 0.17777777777777778)\n",
       " (9, 512, 8.533333333333333, 0.35555555555555557)\n",
       " (10, 1024, 17.066666666666666, 0.7111111111111111)\n",
       " (11, 2048, 34.13333333333333, 1.4222222222222223)\n",
       " (12, 4096, 68.26666666666667, 2.8444444444444446)\n",
       " (13, 8192, 136.53333333333333, 5.688888888888889)\n",
       " (14, 16384, 273.06666666666666, 11.377777777777778)\n",
       " (15, 32768, 546.1333333333333, 22.755555555555556)"
      ]
     },
     "execution_count": 170,
     "metadata": {},
     "output_type": "execute_result"
    }
   ],
   "source": [
    " [ (i,j, j/60, j/60/24) for (i,j) in [(i, 2^i) for i in 1:15]]"
   ]
  },
  {
   "cell_type": "code",
   "execution_count": 182,
   "id": "3299ab36",
   "metadata": {},
   "outputs": [
    {
     "data": {
      "application/vnd.webio.node+json": {
       "children": [
        {
         "children": [
          {
           "children": [],
           "instanceArgs": {
            "namespace": "html",
            "tag": "div"
           },
           "nodeType": "DOM",
           "props": {
            "className": "webio-observable",
            "setInnerHtml": "<?xml version=\"1.0\" encoding=\"utf-8\"?>\n<svg xmlns=\"http://www.w3.org/2000/svg\" xmlns:xlink=\"http://www.w3.org/1999/xlink\" width=\"600\" height=\"400\" viewBox=\"0 0 2400 1600\">\n<defs>\n  <clipPath id=\"clip4700\">\n    <rect x=\"0\" y=\"0\" width=\"2400\" height=\"1600\"/>\n  </clipPath>\n</defs>\n<path clip-path=\"url(#clip4700)\" d=\"\nM0 1600 L2400 1600 L2400 0 L0 0  Z\n  \" fill=\"#ffffff\" fill-rule=\"evenodd\" fill-opacity=\"1\"/>\n<defs>\n  <clipPath id=\"clip4701\">\n    <rect x=\"480\" y=\"0\" width=\"1681\" height=\"1600\"/>\n  </clipPath>\n</defs>\n<path clip-path=\"url(#clip4700)\" d=\"\nM182.008 1487.47 L2352.76 1487.47 L2352.76 47.2441 L182.008 47.2441  Z\n  \" fill=\"#ffffff\" fill-rule=\"evenodd\" fill-opacity=\"1\"/>\n<defs>\n  <clipPath id=\"clip4702\">\n    <rect x=\"182\" y=\"47\" width=\"2172\" height=\"1441\"/>\n  </clipPath>\n</defs>\n<polyline clip-path=\"url(#clip4702)\" style=\"stroke:#000000; stroke-width:2; stroke-opacity:0.1; fill:none\" points=\"\n  448.232,1487.47 448.232,47.2441 \n  \"/>\n<polyline clip-path=\"url(#clip4702)\" style=\"stroke:#000000; stroke-width:2; stroke-opacity:0.1; fill:none\" points=\"\n  857.807,1487.47 857.807,47.2441 \n  \"/>\n<polyline clip-path=\"url(#clip4702)\" style=\"stroke:#000000; stroke-width:2; stroke-opacity:0.1; fill:none\" points=\"\n  1267.38,1487.47 1267.38,47.2441 \n  \"/>\n<polyline clip-path=\"url(#clip4702)\" style=\"stroke:#000000; stroke-width:2; stroke-opacity:0.1; fill:none\" points=\"\n  1676.96,1487.47 1676.96,47.2441 \n  \"/>\n<polyline clip-path=\"url(#clip4702)\" style=\"stroke:#000000; stroke-width:2; stroke-opacity:0.1; fill:none\" points=\"\n  2086.53,1487.47 2086.53,47.2441 \n  \"/>\n<polyline clip-path=\"url(#clip4702)\" style=\"stroke:#000000; stroke-width:2; stroke-opacity:0.1; fill:none\" points=\"\n  182.008,1446.9 2352.76,1446.9 \n  \"/>\n<polyline clip-path=\"url(#clip4702)\" style=\"stroke:#000000; stroke-width:2; stroke-opacity:0.1; fill:none\" points=\"\n  182.008,1107.07 2352.76,1107.07 \n  \"/>\n<polyline clip-path=\"url(#clip4702)\" style=\"stroke:#000000; stroke-width:2; stroke-opacity:0.1; fill:none\" points=\"\n  182.008,767.235 2352.76,767.235 \n  \"/>\n<polyline clip-path=\"url(#clip4702)\" style=\"stroke:#000000; stroke-width:2; stroke-opacity:0.1; fill:none\" points=\"\n  182.008,427.402 2352.76,427.402 \n  \"/>\n<polyline clip-path=\"url(#clip4702)\" style=\"stroke:#000000; stroke-width:2; stroke-opacity:0.1; fill:none\" points=\"\n  182.008,87.57 2352.76,87.57 \n  \"/>\n<polyline clip-path=\"url(#clip4700)\" style=\"stroke:#000000; stroke-width:4; stroke-opacity:1; fill:none\" points=\"\n  182.008,1487.47 2352.76,1487.47 \n  \"/>\n<polyline clip-path=\"url(#clip4700)\" style=\"stroke:#000000; stroke-width:4; stroke-opacity:1; fill:none\" points=\"\n  182.008,1487.47 182.008,47.2441 \n  \"/>\n<polyline clip-path=\"url(#clip4700)\" style=\"stroke:#000000; stroke-width:4; stroke-opacity:1; fill:none\" points=\"\n  448.232,1487.47 448.232,1470.19 \n  \"/>\n<polyline clip-path=\"url(#clip4700)\" style=\"stroke:#000000; stroke-width:4; stroke-opacity:1; fill:none\" points=\"\n  857.807,1487.47 857.807,1470.19 \n  \"/>\n<polyline clip-path=\"url(#clip4700)\" style=\"stroke:#000000; stroke-width:4; stroke-opacity:1; fill:none\" points=\"\n  1267.38,1487.47 1267.38,1470.19 \n  \"/>\n<polyline clip-path=\"url(#clip4700)\" style=\"stroke:#000000; stroke-width:4; stroke-opacity:1; fill:none\" points=\"\n  1676.96,1487.47 1676.96,1470.19 \n  \"/>\n<polyline clip-path=\"url(#clip4700)\" style=\"stroke:#000000; stroke-width:4; stroke-opacity:1; fill:none\" points=\"\n  2086.53,1487.47 2086.53,1470.19 \n  \"/>\n<polyline clip-path=\"url(#clip4700)\" style=\"stroke:#000000; stroke-width:4; stroke-opacity:1; fill:none\" points=\"\n  182.008,1446.9 208.057,1446.9 \n  \"/>\n<polyline clip-path=\"url(#clip4700)\" style=\"stroke:#000000; stroke-width:4; stroke-opacity:1; fill:none\" points=\"\n  182.008,1107.07 208.057,1107.07 \n  \"/>\n<polyline clip-path=\"url(#clip4700)\" style=\"stroke:#000000; stroke-width:4; stroke-opacity:1; fill:none\" points=\"\n  182.008,767.235 208.057,767.235 \n  \"/>\n<polyline clip-path=\"url(#clip4700)\" style=\"stroke:#000000; stroke-width:4; stroke-opacity:1; fill:none\" points=\"\n  182.008,427.402 208.057,427.402 \n  \"/>\n<polyline clip-path=\"url(#clip4700)\" style=\"stroke:#000000; stroke-width:4; stroke-opacity:1; fill:none\" points=\"\n  182.008,87.57 208.057,87.57 \n  \"/>\n<g clip-path=\"url(#clip4700)\">\n<text style=\"fill:#000000; fill-opacity:1; font-family:Arial,Helvetica Neue,Helvetica,sans-serif; font-size:48px; text-anchor:middle;\" transform=\"rotate(0, 448.232, 1541.47)\" x=\"448.232\" y=\"1541.47\">-4</text>\n</g>\n<g clip-path=\"url(#clip4700)\">\n<text style=\"fill:#000000; fill-opacity:1; font-family:Arial,Helvetica Neue,Helvetica,sans-serif; font-size:48px; text-anchor:middle;\" transform=\"rotate(0, 857.807, 1541.47)\" x=\"857.807\" y=\"1541.47\">-2</text>\n</g>\n<g clip-path=\"url(#clip4700)\">\n<text style=\"fill:#000000; fill-opacity:1; font-family:Arial,Helvetica Neue,Helvetica,sans-serif; font-size:48px; text-anchor:middle;\" transform=\"rotate(0, 1267.38, 1541.47)\" x=\"1267.38\" y=\"1541.47\">0</text>\n</g>\n<g clip-path=\"url(#clip4700)\">\n<text style=\"fill:#000000; fill-opacity:1; font-family:Arial,Helvetica Neue,Helvetica,sans-serif; font-size:48px; text-anchor:middle;\" transform=\"rotate(0, 1676.96, 1541.47)\" x=\"1676.96\" y=\"1541.47\">2</text>\n</g>\n<g clip-path=\"url(#clip4700)\">\n<text style=\"fill:#000000; fill-opacity:1; font-family:Arial,Helvetica Neue,Helvetica,sans-serif; font-size:48px; text-anchor:middle;\" transform=\"rotate(0, 2086.53, 1541.47)\" x=\"2086.53\" y=\"1541.47\">4</text>\n</g>\n<g clip-path=\"url(#clip4700)\">\n<text style=\"fill:#000000; fill-opacity:1; font-family:Arial,Helvetica Neue,Helvetica,sans-serif; font-size:48px; text-anchor:end;\" transform=\"rotate(0, 158.008, 1464.4)\" x=\"158.008\" y=\"1464.4\">-1.0</text>\n</g>\n<g clip-path=\"url(#clip4700)\">\n<text style=\"fill:#000000; fill-opacity:1; font-family:Arial,Helvetica Neue,Helvetica,sans-serif; font-size:48px; text-anchor:end;\" transform=\"rotate(0, 158.008, 1124.57)\" x=\"158.008\" y=\"1124.57\">-0.5</text>\n</g>\n<g clip-path=\"url(#clip4700)\">\n<text style=\"fill:#000000; fill-opacity:1; font-family:Arial,Helvetica Neue,Helvetica,sans-serif; font-size:48px; text-anchor:end;\" transform=\"rotate(0, 158.008, 784.735)\" x=\"158.008\" y=\"784.735\">0.0</text>\n</g>\n<g clip-path=\"url(#clip4700)\">\n<text style=\"fill:#000000; fill-opacity:1; font-family:Arial,Helvetica Neue,Helvetica,sans-serif; font-size:48px; text-anchor:end;\" transform=\"rotate(0, 158.008, 444.902)\" x=\"158.008\" y=\"444.902\">0.5</text>\n</g>\n<g clip-path=\"url(#clip4700)\">\n<text style=\"fill:#000000; fill-opacity:1; font-family:Arial,Helvetica Neue,Helvetica,sans-serif; font-size:48px; text-anchor:end;\" transform=\"rotate(0, 158.008, 105.07)\" x=\"158.008\" y=\"105.07\">1.0</text>\n</g>\n<polyline clip-path=\"url(#clip4702)\" style=\"stroke:#7f7f7f; stroke-width:4; stroke-opacity:1; fill:none\" points=\"\n  243.444,115.488 248.444,110.975 253.444,106.854 258.444,103.127 263.443,99.795 286.559,89.588 309.674,88.0053 332.789,95.0673 355.904,110.684 379.019,134.656 \n  402.134,166.68 425.25,206.346 448.365,253.151 476.147,318.006 503.93,391.115 531.712,471.137 559.495,556.6 606.474,709.064 653.454,864.576 704.487,1027.47 \n  755.52,1174.28 779.043,1233.98 802.567,1287.53 826.091,1334.23 849.615,1373.45 874.835,1406.61 900.055,1430.09 925.276,1443.52 950.496,1446.71 979.716,1437.55 \n  1008.94,1414.76 1038.16,1378.81 1067.38,1330.42 1093.34,1277.79 1119.31,1216.95 1145.28,1148.9 1171.24,1074.71 1216.79,933.452 1262.33,784.005 1311.98,620.382 \n  1361.63,465.35 1386.61,393.515 1411.58,327.231 1436.56,267.483 1461.53,215.158 1489.14,166.879 1516.75,129.498 1544.37,103.693 1571.98,89.9334 1598.25,88.254 \n  1624.52,97.7341 1650.79,118.218 1677.07,149.369 1704.38,192.518 1731.7,245.878 1759.02,308.501 1786.33,379.275 1832.32,513.292 1878.31,660.062 1934.46,845.787 \n  1990.61,1025.64 2017,1104.29 2043.39,1177.34 2069.78,1243.59 2096.17,1301.94 2117.31,1342.33 2138.45,1376.6 2159.59,1404.37 2180.73,1425.37 2201.87,1439.35 \n  2223.01,1446.18 2244.15,1445.78 2265.29,1438.16 2271.8,1434.37 2278.31,1429.91 2284.81,1424.78 2291.32,1418.98 \n  \"/>\n<path clip-path=\"url(#clip4700)\" d=\"\nM1989.93 251.724 L2280.76 251.724 L2280.76 130.764 L1989.93 130.764  Z\n  \" fill=\"#ffffff\" fill-rule=\"evenodd\" fill-opacity=\"1\"/>\n<polyline clip-path=\"url(#clip4700)\" style=\"stroke:#000000; stroke-width:4; stroke-opacity:1; fill:none\" points=\"\n  1989.93,251.724 2280.76,251.724 2280.76,130.764 1989.93,130.764 1989.93,251.724 \n  \"/>\n<polyline clip-path=\"url(#clip4700)\" style=\"stroke:#7f7f7f; stroke-width:4; stroke-opacity:1; fill:none\" points=\"\n  2013.93,191.244 2157.93,191.244 \n  \"/>\n<g clip-path=\"url(#clip4700)\">\n<text style=\"fill:#000000; fill-opacity:1; font-family:Arial,Helvetica Neue,Helvetica,sans-serif; font-size:48px; text-anchor:start;\" transform=\"rotate(0, 2181.93, 208.744)\" x=\"2181.93\" y=\"208.744\">y1</text>\n</g>\n</svg>\n"
           },
           "type": "node"
          }
         ],
         "instanceArgs": {
          "handlers": {
           "obs-output": [
            "function (value, scope) {\n    scope.setInnerHTML(value);\n}\n"
           ]
          },
          "id": "15904696770543240063",
          "imports": {
           "data": [],
           "type": "async_block"
          },
          "mount_callbacks": [],
          "observables": {
           "obs-output": {
            "id": "2250789391801377647",
            "sync": false,
            "value": "<?xml version=\"1.0\" encoding=\"utf-8\"?>\n<svg xmlns=\"http://www.w3.org/2000/svg\" xmlns:xlink=\"http://www.w3.org/1999/xlink\" width=\"600\" height=\"400\" viewBox=\"0 0 2400 1600\">\n<defs>\n  <clipPath id=\"clip4700\">\n    <rect x=\"0\" y=\"0\" width=\"2400\" height=\"1600\"/>\n  </clipPath>\n</defs>\n<path clip-path=\"url(#clip4700)\" d=\"\nM0 1600 L2400 1600 L2400 0 L0 0  Z\n  \" fill=\"#ffffff\" fill-rule=\"evenodd\" fill-opacity=\"1\"/>\n<defs>\n  <clipPath id=\"clip4701\">\n    <rect x=\"480\" y=\"0\" width=\"1681\" height=\"1600\"/>\n  </clipPath>\n</defs>\n<path clip-path=\"url(#clip4700)\" d=\"\nM182.008 1487.47 L2352.76 1487.47 L2352.76 47.2441 L182.008 47.2441  Z\n  \" fill=\"#ffffff\" fill-rule=\"evenodd\" fill-opacity=\"1\"/>\n<defs>\n  <clipPath id=\"clip4702\">\n    <rect x=\"182\" y=\"47\" width=\"2172\" height=\"1441\"/>\n  </clipPath>\n</defs>\n<polyline clip-path=\"url(#clip4702)\" style=\"stroke:#000000; stroke-width:2; stroke-opacity:0.1; fill:none\" points=\"\n  448.232,1487.47 448.232,47.2441 \n  \"/>\n<polyline clip-path=\"url(#clip4702)\" style=\"stroke:#000000; stroke-width:2; stroke-opacity:0.1; fill:none\" points=\"\n  857.807,1487.47 857.807,47.2441 \n  \"/>\n<polyline clip-path=\"url(#clip4702)\" style=\"stroke:#000000; stroke-width:2; stroke-opacity:0.1; fill:none\" points=\"\n  1267.38,1487.47 1267.38,47.2441 \n  \"/>\n<polyline clip-path=\"url(#clip4702)\" style=\"stroke:#000000; stroke-width:2; stroke-opacity:0.1; fill:none\" points=\"\n  1676.96,1487.47 1676.96,47.2441 \n  \"/>\n<polyline clip-path=\"url(#clip4702)\" style=\"stroke:#000000; stroke-width:2; stroke-opacity:0.1; fill:none\" points=\"\n  2086.53,1487.47 2086.53,47.2441 \n  \"/>\n<polyline clip-path=\"url(#clip4702)\" style=\"stroke:#000000; stroke-width:2; stroke-opacity:0.1; fill:none\" points=\"\n  182.008,1446.9 2352.76,1446.9 \n  \"/>\n<polyline clip-path=\"url(#clip4702)\" style=\"stroke:#000000; stroke-width:2; stroke-opacity:0.1; fill:none\" points=\"\n  182.008,1107.07 2352.76,1107.07 \n  \"/>\n<polyline clip-path=\"url(#clip4702)\" style=\"stroke:#000000; stroke-width:2; stroke-opacity:0.1; fill:none\" points=\"\n  182.008,767.235 2352.76,767.235 \n  \"/>\n<polyline clip-path=\"url(#clip4702)\" style=\"stroke:#000000; stroke-width:2; stroke-opacity:0.1; fill:none\" points=\"\n  182.008,427.402 2352.76,427.402 \n  \"/>\n<polyline clip-path=\"url(#clip4702)\" style=\"stroke:#000000; stroke-width:2; stroke-opacity:0.1; fill:none\" points=\"\n  182.008,87.57 2352.76,87.57 \n  \"/>\n<polyline clip-path=\"url(#clip4700)\" style=\"stroke:#000000; stroke-width:4; stroke-opacity:1; fill:none\" points=\"\n  182.008,1487.47 2352.76,1487.47 \n  \"/>\n<polyline clip-path=\"url(#clip4700)\" style=\"stroke:#000000; stroke-width:4; stroke-opacity:1; fill:none\" points=\"\n  182.008,1487.47 182.008,47.2441 \n  \"/>\n<polyline clip-path=\"url(#clip4700)\" style=\"stroke:#000000; stroke-width:4; stroke-opacity:1; fill:none\" points=\"\n  448.232,1487.47 448.232,1470.19 \n  \"/>\n<polyline clip-path=\"url(#clip4700)\" style=\"stroke:#000000; stroke-width:4; stroke-opacity:1; fill:none\" points=\"\n  857.807,1487.47 857.807,1470.19 \n  \"/>\n<polyline clip-path=\"url(#clip4700)\" style=\"stroke:#000000; stroke-width:4; stroke-opacity:1; fill:none\" points=\"\n  1267.38,1487.47 1267.38,1470.19 \n  \"/>\n<polyline clip-path=\"url(#clip4700)\" style=\"stroke:#000000; stroke-width:4; stroke-opacity:1; fill:none\" points=\"\n  1676.96,1487.47 1676.96,1470.19 \n  \"/>\n<polyline clip-path=\"url(#clip4700)\" style=\"stroke:#000000; stroke-width:4; stroke-opacity:1; fill:none\" points=\"\n  2086.53,1487.47 2086.53,1470.19 \n  \"/>\n<polyline clip-path=\"url(#clip4700)\" style=\"stroke:#000000; stroke-width:4; stroke-opacity:1; fill:none\" points=\"\n  182.008,1446.9 208.057,1446.9 \n  \"/>\n<polyline clip-path=\"url(#clip4700)\" style=\"stroke:#000000; stroke-width:4; stroke-opacity:1; fill:none\" points=\"\n  182.008,1107.07 208.057,1107.07 \n  \"/>\n<polyline clip-path=\"url(#clip4700)\" style=\"stroke:#000000; stroke-width:4; stroke-opacity:1; fill:none\" points=\"\n  182.008,767.235 208.057,767.235 \n  \"/>\n<polyline clip-path=\"url(#clip4700)\" style=\"stroke:#000000; stroke-width:4; stroke-opacity:1; fill:none\" points=\"\n  182.008,427.402 208.057,427.402 \n  \"/>\n<polyline clip-path=\"url(#clip4700)\" style=\"stroke:#000000; stroke-width:4; stroke-opacity:1; fill:none\" points=\"\n  182.008,87.57 208.057,87.57 \n  \"/>\n<g clip-path=\"url(#clip4700)\">\n<text style=\"fill:#000000; fill-opacity:1; font-family:Arial,Helvetica Neue,Helvetica,sans-serif; font-size:48px; text-anchor:middle;\" transform=\"rotate(0, 448.232, 1541.47)\" x=\"448.232\" y=\"1541.47\">-4</text>\n</g>\n<g clip-path=\"url(#clip4700)\">\n<text style=\"fill:#000000; fill-opacity:1; font-family:Arial,Helvetica Neue,Helvetica,sans-serif; font-size:48px; text-anchor:middle;\" transform=\"rotate(0, 857.807, 1541.47)\" x=\"857.807\" y=\"1541.47\">-2</text>\n</g>\n<g clip-path=\"url(#clip4700)\">\n<text style=\"fill:#000000; fill-opacity:1; font-family:Arial,Helvetica Neue,Helvetica,sans-serif; font-size:48px; text-anchor:middle;\" transform=\"rotate(0, 1267.38, 1541.47)\" x=\"1267.38\" y=\"1541.47\">0</text>\n</g>\n<g clip-path=\"url(#clip4700)\">\n<text style=\"fill:#000000; fill-opacity:1; font-family:Arial,Helvetica Neue,Helvetica,sans-serif; font-size:48px; text-anchor:middle;\" transform=\"rotate(0, 1676.96, 1541.47)\" x=\"1676.96\" y=\"1541.47\">2</text>\n</g>\n<g clip-path=\"url(#clip4700)\">\n<text style=\"fill:#000000; fill-opacity:1; font-family:Arial,Helvetica Neue,Helvetica,sans-serif; font-size:48px; text-anchor:middle;\" transform=\"rotate(0, 2086.53, 1541.47)\" x=\"2086.53\" y=\"1541.47\">4</text>\n</g>\n<g clip-path=\"url(#clip4700)\">\n<text style=\"fill:#000000; fill-opacity:1; font-family:Arial,Helvetica Neue,Helvetica,sans-serif; font-size:48px; text-anchor:end;\" transform=\"rotate(0, 158.008, 1464.4)\" x=\"158.008\" y=\"1464.4\">-1.0</text>\n</g>\n<g clip-path=\"url(#clip4700)\">\n<text style=\"fill:#000000; fill-opacity:1; font-family:Arial,Helvetica Neue,Helvetica,sans-serif; font-size:48px; text-anchor:end;\" transform=\"rotate(0, 158.008, 1124.57)\" x=\"158.008\" y=\"1124.57\">-0.5</text>\n</g>\n<g clip-path=\"url(#clip4700)\">\n<text style=\"fill:#000000; fill-opacity:1; font-family:Arial,Helvetica Neue,Helvetica,sans-serif; font-size:48px; text-anchor:end;\" transform=\"rotate(0, 158.008, 784.735)\" x=\"158.008\" y=\"784.735\">0.0</text>\n</g>\n<g clip-path=\"url(#clip4700)\">\n<text style=\"fill:#000000; fill-opacity:1; font-family:Arial,Helvetica Neue,Helvetica,sans-serif; font-size:48px; text-anchor:end;\" transform=\"rotate(0, 158.008, 444.902)\" x=\"158.008\" y=\"444.902\">0.5</text>\n</g>\n<g clip-path=\"url(#clip4700)\">\n<text style=\"fill:#000000; fill-opacity:1; font-family:Arial,Helvetica Neue,Helvetica,sans-serif; font-size:48px; text-anchor:end;\" transform=\"rotate(0, 158.008, 105.07)\" x=\"158.008\" y=\"105.07\">1.0</text>\n</g>\n<polyline clip-path=\"url(#clip4702)\" style=\"stroke:#7f7f7f; stroke-width:4; stroke-opacity:1; fill:none\" points=\"\n  243.444,115.488 248.444,110.975 253.444,106.854 258.444,103.127 263.443,99.795 286.559,89.588 309.674,88.0053 332.789,95.0673 355.904,110.684 379.019,134.656 \n  402.134,166.68 425.25,206.346 448.365,253.151 476.147,318.006 503.93,391.115 531.712,471.137 559.495,556.6 606.474,709.064 653.454,864.576 704.487,1027.47 \n  755.52,1174.28 779.043,1233.98 802.567,1287.53 826.091,1334.23 849.615,1373.45 874.835,1406.61 900.055,1430.09 925.276,1443.52 950.496,1446.71 979.716,1437.55 \n  1008.94,1414.76 1038.16,1378.81 1067.38,1330.42 1093.34,1277.79 1119.31,1216.95 1145.28,1148.9 1171.24,1074.71 1216.79,933.452 1262.33,784.005 1311.98,620.382 \n  1361.63,465.35 1386.61,393.515 1411.58,327.231 1436.56,267.483 1461.53,215.158 1489.14,166.879 1516.75,129.498 1544.37,103.693 1571.98,89.9334 1598.25,88.254 \n  1624.52,97.7341 1650.79,118.218 1677.07,149.369 1704.38,192.518 1731.7,245.878 1759.02,308.501 1786.33,379.275 1832.32,513.292 1878.31,660.062 1934.46,845.787 \n  1990.61,1025.64 2017,1104.29 2043.39,1177.34 2069.78,1243.59 2096.17,1301.94 2117.31,1342.33 2138.45,1376.6 2159.59,1404.37 2180.73,1425.37 2201.87,1439.35 \n  2223.01,1446.18 2244.15,1445.78 2265.29,1438.16 2271.8,1434.37 2278.31,1429.91 2284.81,1424.78 2291.32,1418.98 \n  \"/>\n<path clip-path=\"url(#clip4700)\" d=\"\nM1989.93 251.724 L2280.76 251.724 L2280.76 130.764 L1989.93 130.764  Z\n  \" fill=\"#ffffff\" fill-rule=\"evenodd\" fill-opacity=\"1\"/>\n<polyline clip-path=\"url(#clip4700)\" style=\"stroke:#000000; stroke-width:4; stroke-opacity:1; fill:none\" points=\"\n  1989.93,251.724 2280.76,251.724 2280.76,130.764 1989.93,130.764 1989.93,251.724 \n  \"/>\n<polyline clip-path=\"url(#clip4700)\" style=\"stroke:#7f7f7f; stroke-width:4; stroke-opacity:1; fill:none\" points=\"\n  2013.93,191.244 2157.93,191.244 \n  \"/>\n<g clip-path=\"url(#clip4700)\">\n<text style=\"fill:#000000; fill-opacity:1; font-family:Arial,Helvetica Neue,Helvetica,sans-serif; font-size:48px; text-anchor:start;\" transform=\"rotate(0, 2181.93, 208.744)\" x=\"2181.93\" y=\"208.744\">y1</text>\n</g>\n</svg>\n"
           }
          },
          "systemjs_options": null
         },
         "nodeType": "Scope",
         "props": {},
         "type": "node"
        },
        {
         "children": [
          {
           "children": [
            {
             "children": [
              {
               "children": [
                {
                 "children": [
                  {
                   "children": [
                    "red"
                   ],
                   "instanceArgs": {
                    "namespace": "html",
                    "tag": "label"
                   },
                   "nodeType": "DOM",
                   "props": {
                    "className": "interact ",
                    "style": {
                     "padding": "5px 10px 0px 10px"
                    }
                   },
                   "type": "node"
                  }
                 ],
                 "instanceArgs": {
                  "namespace": "html",
                  "tag": "div"
                 },
                 "nodeType": "DOM",
                 "props": {
                  "className": "interact-flex-row-left"
                 },
                 "type": "node"
                },
                {
                 "children": [
                  {
                   "children": [],
                   "instanceArgs": {
                    "namespace": "html",
                    "tag": "input"
                   },
                   "nodeType": "DOM",
                   "props": {
                    "attributes": {
                     "data-bind": "numericValue: index, valueUpdate: 'input', event: {change: function (){this.changes(this.changes()+1)}}",
                     "orient": "horizontal",
                     "type": "range"
                    },
                    "className": "slider slider is-fullwidth",
                    "max": 255,
                    "min": 0,
                    "step": 1,
                    "style": {}
                   },
                   "type": "node"
                  }
                 ],
                 "instanceArgs": {
                  "namespace": "html",
                  "tag": "div"
                 },
                 "nodeType": "DOM",
                 "props": {
                  "className": "interact-flex-row-center"
                 },
                 "type": "node"
                },
                {
                 "children": [
                  {
                   "children": [],
                   "instanceArgs": {
                    "namespace": "html",
                    "tag": "p"
                   },
                   "nodeType": "DOM",
                   "props": {
                    "attributes": {
                     "data-bind": "text: formatted_val"
                    }
                   },
                   "type": "node"
                  }
                 ],
                 "instanceArgs": {
                  "namespace": "html",
                  "tag": "div"
                 },
                 "nodeType": "DOM",
                 "props": {
                  "className": "interact-flex-row-right"
                 },
                 "type": "node"
                }
               ],
               "instanceArgs": {
                "namespace": "html",
                "tag": "div"
               },
               "nodeType": "DOM",
               "props": {
                "className": "interact-flex-row interact-widget"
               },
               "type": "node"
              }
             ],
             "instanceArgs": {
              "handlers": {
               "changes": [
                "(function (val){return (val!=this.model[\"changes\"]()) ? (this.valueFromJulia[\"changes\"]=true, this.model[\"changes\"](val)) : undefined})"
               ],
               "index": [
                "(function (val){return (val!=this.model[\"index\"]()) ? (this.valueFromJulia[\"index\"]=true, this.model[\"index\"](val)) : undefined})"
               ]
              },
              "id": "4999064785271387892",
              "imports": {
               "data": [
                {
                 "name": "knockout",
                 "type": "js",
                 "url": "/assetserver/0fc6d61518197b1bf9b23217e9be1d2e00f2bb14-knockout.js"
                },
                {
                 "name": "knockout_punches",
                 "type": "js",
                 "url": "/assetserver/24c12264eef2b01f723a21985ba5661f5564d7cf-knockout_punches.js"
                },
                {
                 "name": null,
                 "type": "js",
                 "url": "/assetserver/85de428ae418ad26c1ce7e886d25374b3774afa9-all.js"
                },
                {
                 "name": null,
                 "type": "css",
                 "url": "/assetserver/2cd8ff31326883094fe5a8ff21182264663b62be-style.css"
                },
                {
                 "name": null,
                 "type": "css",
                 "url": "/assetserver/741bde2d4bf25f117d0ec4d43164cd1a050cf9de-bulma_confined.min.css"
                }
               ],
               "type": "async_block"
              },
              "mount_callbacks": [
               "function () {\n    var handler = (function (ko, koPunches) {\n    ko.punches.enableAll();\n    ko.bindingHandlers.numericValue = {\n        init: function(element, valueAccessor, allBindings, data, context) {\n            var stringified = ko.observable(ko.unwrap(valueAccessor()));\n            stringified.subscribe(function(value) {\n                var val = parseFloat(value);\n                if (!isNaN(val)) {\n                    valueAccessor()(val);\n                }\n            });\n            valueAccessor().subscribe(function(value) {\n                var str = JSON.stringify(value);\n                if ((str == \"0\") && ([\"-0\", \"-0.\"].indexOf(stringified()) >= 0))\n                     return;\n                 if ([\"null\", \"\"].indexOf(str) >= 0)\n                     return;\n                stringified(str);\n            });\n            ko.applyBindingsToNode(\n                element,\n                {\n                    value: stringified,\n                    valueUpdate: allBindings.get('valueUpdate'),\n                },\n                context,\n            );\n        }\n    };\n    var json_data = {\"formatted_vals\":[\"0\",\"1\",\"2\",\"3\",\"4\",\"5\",\"6\",\"7\",\"8\",\"9\",\"10\",\"11\",\"12\",\"13\",\"14\",\"15\",\"16\",\"17\",\"18\",\"19\",\"20\",\"21\",\"22\",\"23\",\"24\",\"25\",\"26\",\"27\",\"28\",\"29\",\"30\",\"31\",\"32\",\"33\",\"34\",\"35\",\"36\",\"37\",\"38\",\"39\",\"40\",\"41\",\"42\",\"43\",\"44\",\"45\",\"46\",\"47\",\"48\",\"49\",\"50\",\"51\",\"52\",\"53\",\"54\",\"55\",\"56\",\"57\",\"58\",\"59\",\"60\",\"61\",\"62\",\"63\",\"64\",\"65\",\"66\",\"67\",\"68\",\"69\",\"70\",\"71\",\"72\",\"73\",\"74\",\"75\",\"76\",\"77\",\"78\",\"79\",\"80\",\"81\",\"82\",\"83\",\"84\",\"85\",\"86\",\"87\",\"88\",\"89\",\"90\",\"91\",\"92\",\"93\",\"94\",\"95\",\"96\",\"97\",\"98\",\"99\",\"100\",\"101\",\"102\",\"103\",\"104\",\"105\",\"106\",\"107\",\"108\",\"109\",\"110\",\"111\",\"112\",\"113\",\"114\",\"115\",\"116\",\"117\",\"118\",\"119\",\"120\",\"121\",\"122\",\"123\",\"124\",\"125\",\"126\",\"127\",\"128\",\"129\",\"130\",\"131\",\"132\",\"133\",\"134\",\"135\",\"136\",\"137\",\"138\",\"139\",\"140\",\"141\",\"142\",\"143\",\"144\",\"145\",\"146\",\"147\",\"148\",\"149\",\"150\",\"151\",\"152\",\"153\",\"154\",\"155\",\"156\",\"157\",\"158\",\"159\",\"160\",\"161\",\"162\",\"163\",\"164\",\"165\",\"166\",\"167\",\"168\",\"169\",\"170\",\"171\",\"172\",\"173\",\"174\",\"175\",\"176\",\"177\",\"178\",\"179\",\"180\",\"181\",\"182\",\"183\",\"184\",\"185\",\"186\",\"187\",\"188\",\"189\",\"190\",\"191\",\"192\",\"193\",\"194\",\"195\",\"196\",\"197\",\"198\",\"199\",\"200\",\"201\",\"202\",\"203\",\"204\",\"205\",\"206\",\"207\",\"208\",\"209\",\"210\",\"211\",\"212\",\"213\",\"214\",\"215\",\"216\",\"217\",\"218\",\"219\",\"220\",\"221\",\"222\",\"223\",\"224\",\"225\",\"226\",\"227\",\"228\",\"229\",\"230\",\"231\",\"232\",\"233\",\"234\",\"235\",\"236\",\"237\",\"238\",\"239\",\"240\",\"241\",\"242\",\"243\",\"244\",\"245\",\"246\",\"247\",\"248\",\"249\",\"250\",\"251\",\"252\",\"253\",\"254\",\"255\"],\"changes\":WebIO.getval({\"name\":\"changes\",\"scope\":\"4999064785271387892\",\"id\":\"3921668199743625829\",\"type\":\"observable\"}),\"index\":WebIO.getval({\"name\":\"index\",\"scope\":\"4999064785271387892\",\"id\":\"9487380291017563081\",\"type\":\"observable\"})};\n    var self = this;\n    function AppViewModel() {\n        for (var key in json_data) {\n            var el = json_data[key];\n            this[key] = Array.isArray(el) ? ko.observableArray(el) : ko.observable(el);\n        }\n        \n        [this[\"formatted_val\"]=ko.computed(    function(){\n        return this.formatted_vals()[parseInt(this.index())-(0)];\n    }\n,this)]\n        [this[\"changes\"].subscribe((function (val){!(this.valueFromJulia[\"changes\"]) ? (WebIO.setval({\"name\":\"changes\",\"scope\":\"4999064785271387892\",\"id\":\"3921668199743625829\",\"type\":\"observable\"},val)) : undefined; return this.valueFromJulia[\"changes\"]=false}),self),this[\"index\"].subscribe((function (val){!(this.valueFromJulia[\"index\"]) ? (WebIO.setval({\"name\":\"index\",\"scope\":\"4999064785271387892\",\"id\":\"9487380291017563081\",\"type\":\"observable\"},val)) : undefined; return this.valueFromJulia[\"index\"]=false}),self)]\n        \n    }\n    self.model = new AppViewModel();\n    self.valueFromJulia = {};\n    for (var key in json_data) {\n        self.valueFromJulia[key] = false;\n    }\n    ko.applyBindings(self.model, self.dom);\n}\n);\n    (WebIO.importBlock({\"data\":[{\"name\":\"knockout\",\"type\":\"js\",\"url\":\"/assetserver/0fc6d61518197b1bf9b23217e9be1d2e00f2bb14-knockout.js\"},{\"name\":\"knockout_punches\",\"type\":\"js\",\"url\":\"/assetserver/24c12264eef2b01f723a21985ba5661f5564d7cf-knockout_punches.js\"}],\"type\":\"async_block\"})).then((imports) => handler.apply(this, imports));\n}\n"
              ],
              "observables": {
               "changes": {
                "id": "3921668199743625829",
                "sync": false,
                "value": 0
               },
               "index": {
                "id": "9487380291017563081",
                "sync": true,
                "value": 127
               }
              },
              "systemjs_options": null
             },
             "nodeType": "Scope",
             "props": {},
             "type": "node"
            }
           ],
           "instanceArgs": {
            "namespace": "html",
            "tag": "div"
           },
           "nodeType": "DOM",
           "props": {
            "className": "field interact-widget"
           },
           "type": "node"
          },
          {
           "children": [
            {
             "children": [
              {
               "children": [
                {
                 "children": [
                  {
                   "children": [
                    "green"
                   ],
                   "instanceArgs": {
                    "namespace": "html",
                    "tag": "label"
                   },
                   "nodeType": "DOM",
                   "props": {
                    "className": "interact ",
                    "style": {
                     "padding": "5px 10px 0px 10px"
                    }
                   },
                   "type": "node"
                  }
                 ],
                 "instanceArgs": {
                  "namespace": "html",
                  "tag": "div"
                 },
                 "nodeType": "DOM",
                 "props": {
                  "className": "interact-flex-row-left"
                 },
                 "type": "node"
                },
                {
                 "children": [
                  {
                   "children": [],
                   "instanceArgs": {
                    "namespace": "html",
                    "tag": "input"
                   },
                   "nodeType": "DOM",
                   "props": {
                    "attributes": {
                     "data-bind": "numericValue: index, valueUpdate: 'input', event: {change: function (){this.changes(this.changes()+1)}}",
                     "orient": "horizontal",
                     "type": "range"
                    },
                    "className": "slider slider is-fullwidth",
                    "max": 255,
                    "min": 0,
                    "step": 1,
                    "style": {}
                   },
                   "type": "node"
                  }
                 ],
                 "instanceArgs": {
                  "namespace": "html",
                  "tag": "div"
                 },
                 "nodeType": "DOM",
                 "props": {
                  "className": "interact-flex-row-center"
                 },
                 "type": "node"
                },
                {
                 "children": [
                  {
                   "children": [],
                   "instanceArgs": {
                    "namespace": "html",
                    "tag": "p"
                   },
                   "nodeType": "DOM",
                   "props": {
                    "attributes": {
                     "data-bind": "text: formatted_val"
                    }
                   },
                   "type": "node"
                  }
                 ],
                 "instanceArgs": {
                  "namespace": "html",
                  "tag": "div"
                 },
                 "nodeType": "DOM",
                 "props": {
                  "className": "interact-flex-row-right"
                 },
                 "type": "node"
                }
               ],
               "instanceArgs": {
                "namespace": "html",
                "tag": "div"
               },
               "nodeType": "DOM",
               "props": {
                "className": "interact-flex-row interact-widget"
               },
               "type": "node"
              }
             ],
             "instanceArgs": {
              "handlers": {
               "changes": [
                "(function (val){return (val!=this.model[\"changes\"]()) ? (this.valueFromJulia[\"changes\"]=true, this.model[\"changes\"](val)) : undefined})"
               ],
               "index": [
                "(function (val){return (val!=this.model[\"index\"]()) ? (this.valueFromJulia[\"index\"]=true, this.model[\"index\"](val)) : undefined})"
               ]
              },
              "id": "4872108528355104066",
              "imports": {
               "data": [
                {
                 "name": "knockout",
                 "type": "js",
                 "url": "/assetserver/0fc6d61518197b1bf9b23217e9be1d2e00f2bb14-knockout.js"
                },
                {
                 "name": "knockout_punches",
                 "type": "js",
                 "url": "/assetserver/24c12264eef2b01f723a21985ba5661f5564d7cf-knockout_punches.js"
                },
                {
                 "name": null,
                 "type": "js",
                 "url": "/assetserver/85de428ae418ad26c1ce7e886d25374b3774afa9-all.js"
                },
                {
                 "name": null,
                 "type": "css",
                 "url": "/assetserver/2cd8ff31326883094fe5a8ff21182264663b62be-style.css"
                },
                {
                 "name": null,
                 "type": "css",
                 "url": "/assetserver/741bde2d4bf25f117d0ec4d43164cd1a050cf9de-bulma_confined.min.css"
                }
               ],
               "type": "async_block"
              },
              "mount_callbacks": [
               "function () {\n    var handler = (function (ko, koPunches) {\n    ko.punches.enableAll();\n    ko.bindingHandlers.numericValue = {\n        init: function(element, valueAccessor, allBindings, data, context) {\n            var stringified = ko.observable(ko.unwrap(valueAccessor()));\n            stringified.subscribe(function(value) {\n                var val = parseFloat(value);\n                if (!isNaN(val)) {\n                    valueAccessor()(val);\n                }\n            });\n            valueAccessor().subscribe(function(value) {\n                var str = JSON.stringify(value);\n                if ((str == \"0\") && ([\"-0\", \"-0.\"].indexOf(stringified()) >= 0))\n                     return;\n                 if ([\"null\", \"\"].indexOf(str) >= 0)\n                     return;\n                stringified(str);\n            });\n            ko.applyBindingsToNode(\n                element,\n                {\n                    value: stringified,\n                    valueUpdate: allBindings.get('valueUpdate'),\n                },\n                context,\n            );\n        }\n    };\n    var json_data = {\"formatted_vals\":[\"0\",\"1\",\"2\",\"3\",\"4\",\"5\",\"6\",\"7\",\"8\",\"9\",\"10\",\"11\",\"12\",\"13\",\"14\",\"15\",\"16\",\"17\",\"18\",\"19\",\"20\",\"21\",\"22\",\"23\",\"24\",\"25\",\"26\",\"27\",\"28\",\"29\",\"30\",\"31\",\"32\",\"33\",\"34\",\"35\",\"36\",\"37\",\"38\",\"39\",\"40\",\"41\",\"42\",\"43\",\"44\",\"45\",\"46\",\"47\",\"48\",\"49\",\"50\",\"51\",\"52\",\"53\",\"54\",\"55\",\"56\",\"57\",\"58\",\"59\",\"60\",\"61\",\"62\",\"63\",\"64\",\"65\",\"66\",\"67\",\"68\",\"69\",\"70\",\"71\",\"72\",\"73\",\"74\",\"75\",\"76\",\"77\",\"78\",\"79\",\"80\",\"81\",\"82\",\"83\",\"84\",\"85\",\"86\",\"87\",\"88\",\"89\",\"90\",\"91\",\"92\",\"93\",\"94\",\"95\",\"96\",\"97\",\"98\",\"99\",\"100\",\"101\",\"102\",\"103\",\"104\",\"105\",\"106\",\"107\",\"108\",\"109\",\"110\",\"111\",\"112\",\"113\",\"114\",\"115\",\"116\",\"117\",\"118\",\"119\",\"120\",\"121\",\"122\",\"123\",\"124\",\"125\",\"126\",\"127\",\"128\",\"129\",\"130\",\"131\",\"132\",\"133\",\"134\",\"135\",\"136\",\"137\",\"138\",\"139\",\"140\",\"141\",\"142\",\"143\",\"144\",\"145\",\"146\",\"147\",\"148\",\"149\",\"150\",\"151\",\"152\",\"153\",\"154\",\"155\",\"156\",\"157\",\"158\",\"159\",\"160\",\"161\",\"162\",\"163\",\"164\",\"165\",\"166\",\"167\",\"168\",\"169\",\"170\",\"171\",\"172\",\"173\",\"174\",\"175\",\"176\",\"177\",\"178\",\"179\",\"180\",\"181\",\"182\",\"183\",\"184\",\"185\",\"186\",\"187\",\"188\",\"189\",\"190\",\"191\",\"192\",\"193\",\"194\",\"195\",\"196\",\"197\",\"198\",\"199\",\"200\",\"201\",\"202\",\"203\",\"204\",\"205\",\"206\",\"207\",\"208\",\"209\",\"210\",\"211\",\"212\",\"213\",\"214\",\"215\",\"216\",\"217\",\"218\",\"219\",\"220\",\"221\",\"222\",\"223\",\"224\",\"225\",\"226\",\"227\",\"228\",\"229\",\"230\",\"231\",\"232\",\"233\",\"234\",\"235\",\"236\",\"237\",\"238\",\"239\",\"240\",\"241\",\"242\",\"243\",\"244\",\"245\",\"246\",\"247\",\"248\",\"249\",\"250\",\"251\",\"252\",\"253\",\"254\",\"255\"],\"changes\":WebIO.getval({\"name\":\"changes\",\"scope\":\"4872108528355104066\",\"id\":\"13829882730145618908\",\"type\":\"observable\"}),\"index\":WebIO.getval({\"name\":\"index\",\"scope\":\"4872108528355104066\",\"id\":\"16419090449198810923\",\"type\":\"observable\"})};\n    var self = this;\n    function AppViewModel() {\n        for (var key in json_data) {\n            var el = json_data[key];\n            this[key] = Array.isArray(el) ? ko.observableArray(el) : ko.observable(el);\n        }\n        \n        [this[\"formatted_val\"]=ko.computed(    function(){\n        return this.formatted_vals()[parseInt(this.index())-(0)];\n    }\n,this)]\n        [this[\"changes\"].subscribe((function (val){!(this.valueFromJulia[\"changes\"]) ? (WebIO.setval({\"name\":\"changes\",\"scope\":\"4872108528355104066\",\"id\":\"13829882730145618908\",\"type\":\"observable\"},val)) : undefined; return this.valueFromJulia[\"changes\"]=false}),self),this[\"index\"].subscribe((function (val){!(this.valueFromJulia[\"index\"]) ? (WebIO.setval({\"name\":\"index\",\"scope\":\"4872108528355104066\",\"id\":\"16419090449198810923\",\"type\":\"observable\"},val)) : undefined; return this.valueFromJulia[\"index\"]=false}),self)]\n        \n    }\n    self.model = new AppViewModel();\n    self.valueFromJulia = {};\n    for (var key in json_data) {\n        self.valueFromJulia[key] = false;\n    }\n    ko.applyBindings(self.model, self.dom);\n}\n);\n    (WebIO.importBlock({\"data\":[{\"name\":\"knockout\",\"type\":\"js\",\"url\":\"/assetserver/0fc6d61518197b1bf9b23217e9be1d2e00f2bb14-knockout.js\"},{\"name\":\"knockout_punches\",\"type\":\"js\",\"url\":\"/assetserver/24c12264eef2b01f723a21985ba5661f5564d7cf-knockout_punches.js\"}],\"type\":\"async_block\"})).then((imports) => handler.apply(this, imports));\n}\n"
              ],
              "observables": {
               "changes": {
                "id": "13829882730145618908",
                "sync": false,
                "value": 0
               },
               "index": {
                "id": "16419090449198810923",
                "sync": true,
                "value": 127
               }
              },
              "systemjs_options": null
             },
             "nodeType": "Scope",
             "props": {},
             "type": "node"
            }
           ],
           "instanceArgs": {
            "namespace": "html",
            "tag": "div"
           },
           "nodeType": "DOM",
           "props": {
            "className": "field interact-widget"
           },
           "type": "node"
          },
          {
           "children": [
            {
             "children": [
              {
               "children": [
                {
                 "children": [
                  {
                   "children": [
                    "blue"
                   ],
                   "instanceArgs": {
                    "namespace": "html",
                    "tag": "label"
                   },
                   "nodeType": "DOM",
                   "props": {
                    "className": "interact ",
                    "style": {
                     "padding": "5px 10px 0px 10px"
                    }
                   },
                   "type": "node"
                  }
                 ],
                 "instanceArgs": {
                  "namespace": "html",
                  "tag": "div"
                 },
                 "nodeType": "DOM",
                 "props": {
                  "className": "interact-flex-row-left"
                 },
                 "type": "node"
                },
                {
                 "children": [
                  {
                   "children": [],
                   "instanceArgs": {
                    "namespace": "html",
                    "tag": "input"
                   },
                   "nodeType": "DOM",
                   "props": {
                    "attributes": {
                     "data-bind": "numericValue: index, valueUpdate: 'input', event: {change: function (){this.changes(this.changes()+1)}}",
                     "orient": "horizontal",
                     "type": "range"
                    },
                    "className": "slider slider is-fullwidth",
                    "max": 255,
                    "min": 0,
                    "step": 1,
                    "style": {}
                   },
                   "type": "node"
                  }
                 ],
                 "instanceArgs": {
                  "namespace": "html",
                  "tag": "div"
                 },
                 "nodeType": "DOM",
                 "props": {
                  "className": "interact-flex-row-center"
                 },
                 "type": "node"
                },
                {
                 "children": [
                  {
                   "children": [],
                   "instanceArgs": {
                    "namespace": "html",
                    "tag": "p"
                   },
                   "nodeType": "DOM",
                   "props": {
                    "attributes": {
                     "data-bind": "text: formatted_val"
                    }
                   },
                   "type": "node"
                  }
                 ],
                 "instanceArgs": {
                  "namespace": "html",
                  "tag": "div"
                 },
                 "nodeType": "DOM",
                 "props": {
                  "className": "interact-flex-row-right"
                 },
                 "type": "node"
                }
               ],
               "instanceArgs": {
                "namespace": "html",
                "tag": "div"
               },
               "nodeType": "DOM",
               "props": {
                "className": "interact-flex-row interact-widget"
               },
               "type": "node"
              }
             ],
             "instanceArgs": {
              "handlers": {
               "changes": [
                "(function (val){return (val!=this.model[\"changes\"]()) ? (this.valueFromJulia[\"changes\"]=true, this.model[\"changes\"](val)) : undefined})"
               ],
               "index": [
                "(function (val){return (val!=this.model[\"index\"]()) ? (this.valueFromJulia[\"index\"]=true, this.model[\"index\"](val)) : undefined})"
               ]
              },
              "id": "10188461417524362923",
              "imports": {
               "data": [
                {
                 "name": "knockout",
                 "type": "js",
                 "url": "/assetserver/0fc6d61518197b1bf9b23217e9be1d2e00f2bb14-knockout.js"
                },
                {
                 "name": "knockout_punches",
                 "type": "js",
                 "url": "/assetserver/24c12264eef2b01f723a21985ba5661f5564d7cf-knockout_punches.js"
                },
                {
                 "name": null,
                 "type": "js",
                 "url": "/assetserver/85de428ae418ad26c1ce7e886d25374b3774afa9-all.js"
                },
                {
                 "name": null,
                 "type": "css",
                 "url": "/assetserver/2cd8ff31326883094fe5a8ff21182264663b62be-style.css"
                },
                {
                 "name": null,
                 "type": "css",
                 "url": "/assetserver/741bde2d4bf25f117d0ec4d43164cd1a050cf9de-bulma_confined.min.css"
                }
               ],
               "type": "async_block"
              },
              "mount_callbacks": [
               "function () {\n    var handler = (function (ko, koPunches) {\n    ko.punches.enableAll();\n    ko.bindingHandlers.numericValue = {\n        init: function(element, valueAccessor, allBindings, data, context) {\n            var stringified = ko.observable(ko.unwrap(valueAccessor()));\n            stringified.subscribe(function(value) {\n                var val = parseFloat(value);\n                if (!isNaN(val)) {\n                    valueAccessor()(val);\n                }\n            });\n            valueAccessor().subscribe(function(value) {\n                var str = JSON.stringify(value);\n                if ((str == \"0\") && ([\"-0\", \"-0.\"].indexOf(stringified()) >= 0))\n                     return;\n                 if ([\"null\", \"\"].indexOf(str) >= 0)\n                     return;\n                stringified(str);\n            });\n            ko.applyBindingsToNode(\n                element,\n                {\n                    value: stringified,\n                    valueUpdate: allBindings.get('valueUpdate'),\n                },\n                context,\n            );\n        }\n    };\n    var json_data = {\"formatted_vals\":[\"0\",\"1\",\"2\",\"3\",\"4\",\"5\",\"6\",\"7\",\"8\",\"9\",\"10\",\"11\",\"12\",\"13\",\"14\",\"15\",\"16\",\"17\",\"18\",\"19\",\"20\",\"21\",\"22\",\"23\",\"24\",\"25\",\"26\",\"27\",\"28\",\"29\",\"30\",\"31\",\"32\",\"33\",\"34\",\"35\",\"36\",\"37\",\"38\",\"39\",\"40\",\"41\",\"42\",\"43\",\"44\",\"45\",\"46\",\"47\",\"48\",\"49\",\"50\",\"51\",\"52\",\"53\",\"54\",\"55\",\"56\",\"57\",\"58\",\"59\",\"60\",\"61\",\"62\",\"63\",\"64\",\"65\",\"66\",\"67\",\"68\",\"69\",\"70\",\"71\",\"72\",\"73\",\"74\",\"75\",\"76\",\"77\",\"78\",\"79\",\"80\",\"81\",\"82\",\"83\",\"84\",\"85\",\"86\",\"87\",\"88\",\"89\",\"90\",\"91\",\"92\",\"93\",\"94\",\"95\",\"96\",\"97\",\"98\",\"99\",\"100\",\"101\",\"102\",\"103\",\"104\",\"105\",\"106\",\"107\",\"108\",\"109\",\"110\",\"111\",\"112\",\"113\",\"114\",\"115\",\"116\",\"117\",\"118\",\"119\",\"120\",\"121\",\"122\",\"123\",\"124\",\"125\",\"126\",\"127\",\"128\",\"129\",\"130\",\"131\",\"132\",\"133\",\"134\",\"135\",\"136\",\"137\",\"138\",\"139\",\"140\",\"141\",\"142\",\"143\",\"144\",\"145\",\"146\",\"147\",\"148\",\"149\",\"150\",\"151\",\"152\",\"153\",\"154\",\"155\",\"156\",\"157\",\"158\",\"159\",\"160\",\"161\",\"162\",\"163\",\"164\",\"165\",\"166\",\"167\",\"168\",\"169\",\"170\",\"171\",\"172\",\"173\",\"174\",\"175\",\"176\",\"177\",\"178\",\"179\",\"180\",\"181\",\"182\",\"183\",\"184\",\"185\",\"186\",\"187\",\"188\",\"189\",\"190\",\"191\",\"192\",\"193\",\"194\",\"195\",\"196\",\"197\",\"198\",\"199\",\"200\",\"201\",\"202\",\"203\",\"204\",\"205\",\"206\",\"207\",\"208\",\"209\",\"210\",\"211\",\"212\",\"213\",\"214\",\"215\",\"216\",\"217\",\"218\",\"219\",\"220\",\"221\",\"222\",\"223\",\"224\",\"225\",\"226\",\"227\",\"228\",\"229\",\"230\",\"231\",\"232\",\"233\",\"234\",\"235\",\"236\",\"237\",\"238\",\"239\",\"240\",\"241\",\"242\",\"243\",\"244\",\"245\",\"246\",\"247\",\"248\",\"249\",\"250\",\"251\",\"252\",\"253\",\"254\",\"255\"],\"changes\":WebIO.getval({\"name\":\"changes\",\"scope\":\"10188461417524362923\",\"id\":\"8743460221633634368\",\"type\":\"observable\"}),\"index\":WebIO.getval({\"name\":\"index\",\"scope\":\"10188461417524362923\",\"id\":\"12104034762360975654\",\"type\":\"observable\"})};\n    var self = this;\n    function AppViewModel() {\n        for (var key in json_data) {\n            var el = json_data[key];\n            this[key] = Array.isArray(el) ? ko.observableArray(el) : ko.observable(el);\n        }\n        \n        [this[\"formatted_val\"]=ko.computed(    function(){\n        return this.formatted_vals()[parseInt(this.index())-(0)];\n    }\n,this)]\n        [this[\"changes\"].subscribe((function (val){!(this.valueFromJulia[\"changes\"]) ? (WebIO.setval({\"name\":\"changes\",\"scope\":\"10188461417524362923\",\"id\":\"8743460221633634368\",\"type\":\"observable\"},val)) : undefined; return this.valueFromJulia[\"changes\"]=false}),self),this[\"index\"].subscribe((function (val){!(this.valueFromJulia[\"index\"]) ? (WebIO.setval({\"name\":\"index\",\"scope\":\"10188461417524362923\",\"id\":\"12104034762360975654\",\"type\":\"observable\"},val)) : undefined; return this.valueFromJulia[\"index\"]=false}),self)]\n        \n    }\n    self.model = new AppViewModel();\n    self.valueFromJulia = {};\n    for (var key in json_data) {\n        self.valueFromJulia[key] = false;\n    }\n    ko.applyBindings(self.model, self.dom);\n}\n);\n    (WebIO.importBlock({\"data\":[{\"name\":\"knockout\",\"type\":\"js\",\"url\":\"/assetserver/0fc6d61518197b1bf9b23217e9be1d2e00f2bb14-knockout.js\"},{\"name\":\"knockout_punches\",\"type\":\"js\",\"url\":\"/assetserver/24c12264eef2b01f723a21985ba5661f5564d7cf-knockout_punches.js\"}],\"type\":\"async_block\"})).then((imports) => handler.apply(this, imports));\n}\n"
              ],
              "observables": {
               "changes": {
                "id": "8743460221633634368",
                "sync": false,
                "value": 0
               },
               "index": {
                "id": "12104034762360975654",
                "sync": true,
                "value": 127
               }
              },
              "systemjs_options": null
             },
             "nodeType": "Scope",
             "props": {},
             "type": "node"
            }
           ],
           "instanceArgs": {
            "namespace": "html",
            "tag": "div"
           },
           "nodeType": "DOM",
           "props": {
            "className": "field interact-widget"
           },
           "type": "node"
          }
         ],
         "instanceArgs": {
          "namespace": "html",
          "tag": "div"
         },
         "nodeType": "DOM",
         "props": {
          "style": {
           "display": "flex",
           "flex-direction": "column"
          }
         },
         "type": "node"
        }
       ],
       "instanceArgs": {
        "namespace": "html",
        "tag": "div"
       },
       "nodeType": "DOM",
       "props": {
        "style": {
         "display": "flex",
         "flex-direction": "row"
        }
       },
       "type": "node"
      },
      "text/html": [
       "<div\n",
       "    class=\"webio-mountpoint\"\n",
       "    data-webio-mountpoint=\"6755795840268751974\"\n",
       ">\n",
       "    <script>\n",
       "    if (window.require && require.defined && require.defined(\"nbextensions/webio-jupyter-notebook\")) {\n",
       "        console.log(\"Jupyter WebIO extension detected, not mounting.\");\n",
       "    } else if (window.WebIO) {\n",
       "        WebIO.mount(\n",
       "            document.querySelector('[data-webio-mountpoint=\"6755795840268751974\"]'),\n",
       "            {\"props\":{\"style\":{\"display\":\"flex\",\"flex-direction\":\"row\"}},\"nodeType\":\"DOM\",\"type\":\"node\",\"instanceArgs\":{\"namespace\":\"html\",\"tag\":\"div\"},\"children\":[{\"props\":{},\"nodeType\":\"Scope\",\"type\":\"node\",\"instanceArgs\":{\"imports\":{\"data\":[],\"type\":\"async_block\"},\"id\":\"2011198530201331162\",\"handlers\":{\"obs-output\":[\"function (value, scope) {\\n    scope.setInnerHTML(value);\\n}\\n\"]},\"systemjs_options\":null,\"mount_callbacks\":[],\"observables\":{\"obs-output\":{\"sync\":false,\"id\":\"2762546977975507173\",\"value\":\"<?xml version=\\\"1.0\\\" encoding=\\\"utf-8\\\"?>\\n<svg xmlns=\\\"http:\\/\\/www.w3.org\\/2000\\/svg\\\" xmlns:xlink=\\\"http:\\/\\/www.w3.org\\/1999\\/xlink\\\" width=\\\"600\\\" height=\\\"400\\\" viewBox=\\\"0 0 2400 1600\\\">\\n<defs>\\n  <clipPath id=\\\"clip4300\\\">\\n    <rect x=\\\"0\\\" y=\\\"0\\\" width=\\\"2400\\\" height=\\\"1600\\\"\\/>\\n  <\\/clipPath>\\n<\\/defs>\\n<path clip-path=\\\"url(#clip4300)\\\" d=\\\"\\nM0 1600 L2400 1600 L2400 0 L0 0  Z\\n  \\\" fill=\\\"#ffffff\\\" fill-rule=\\\"evenodd\\\" fill-opacity=\\\"1\\\"\\/>\\n<defs>\\n  <clipPath id=\\\"clip4301\\\">\\n    <rect x=\\\"480\\\" y=\\\"0\\\" width=\\\"1681\\\" height=\\\"1600\\\"\\/>\\n  <\\/clipPath>\\n<\\/defs>\\n<path clip-path=\\\"url(#clip4300)\\\" d=\\\"\\nM182.008 1487.47 L2352.76 1487.47 L2352.76 47.2441 L182.008 47.2441  Z\\n  \\\" fill=\\\"#ffffff\\\" fill-rule=\\\"evenodd\\\" fill-opacity=\\\"1\\\"\\/>\\n<defs>\\n  <clipPath id=\\\"clip4302\\\">\\n    <rect x=\\\"182\\\" y=\\\"47\\\" width=\\\"2172\\\" height=\\\"1441\\\"\\/>\\n  <\\/clipPath>\\n<\\/defs>\\n<polyline clip-path=\\\"url(#clip4302)\\\" style=\\\"stroke:#000000; stroke-width:2; stroke-opacity:0.1; fill:none\\\" points=\\\"\\n  448.232,1487.47 448.232,47.2441 \\n  \\\"\\/>\\n<polyline clip-path=\\\"url(#clip4302)\\\" style=\\\"stroke:#000000; stroke-width:2; stroke-opacity:0.1; fill:none\\\" points=\\\"\\n  857.807,1487.47 857.807,47.2441 \\n  \\\"\\/>\\n<polyline clip-path=\\\"url(#clip4302)\\\" style=\\\"stroke:#000000; stroke-width:2; stroke-opacity:0.1; fill:none\\\" points=\\\"\\n  1267.38,1487.47 1267.38,47.2441 \\n  \\\"\\/>\\n<polyline clip-path=\\\"url(#clip4302)\\\" style=\\\"stroke:#000000; stroke-width:2; stroke-opacity:0.1; fill:none\\\" points=\\\"\\n  1676.96,1487.47 1676.96,47.2441 \\n  \\\"\\/>\\n<polyline clip-path=\\\"url(#clip4302)\\\" style=\\\"stroke:#000000; stroke-width:2; stroke-opacity:0.1; fill:none\\\" points=\\\"\\n  2086.53,1487.47 2086.53,47.2441 \\n  \\\"\\/>\\n<polyline clip-path=\\\"url(#clip4302)\\\" style=\\\"stroke:#000000; stroke-width:2; stroke-opacity:0.1; fill:none\\\" points=\\\"\\n  182.008,1446.9 2352.76,1446.9 \\n  \\\"\\/>\\n<polyline clip-path=\\\"url(#clip4302)\\\" style=\\\"stroke:#000000; stroke-width:2; stroke-opacity:0.1; fill:none\\\" points=\\\"\\n  182.008,1107.07 2352.76,1107.07 \\n  \\\"\\/>\\n<polyline clip-path=\\\"url(#clip4302)\\\" style=\\\"stroke:#000000; stroke-width:2; stroke-opacity:0.1; fill:none\\\" points=\\\"\\n  182.008,767.235 2352.76,767.235 \\n  \\\"\\/>\\n<polyline clip-path=\\\"url(#clip4302)\\\" style=\\\"stroke:#000000; stroke-width:2; stroke-opacity:0.1; fill:none\\\" points=\\\"\\n  182.008,427.402 2352.76,427.402 \\n  \\\"\\/>\\n<polyline clip-path=\\\"url(#clip4302)\\\" style=\\\"stroke:#000000; stroke-width:2; stroke-opacity:0.1; fill:none\\\" points=\\\"\\n  182.008,87.57 2352.76,87.57 \\n  \\\"\\/>\\n<polyline clip-path=\\\"url(#clip4300)\\\" style=\\\"stroke:#000000; stroke-width:4; stroke-opacity:1; fill:none\\\" points=\\\"\\n  182.008,1487.47 2352.76,1487.47 \\n  \\\"\\/>\\n<polyline clip-path=\\\"url(#clip4300)\\\" style=\\\"stroke:#000000; stroke-width:4; stroke-opacity:1; fill:none\\\" points=\\\"\\n  182.008,1487.47 182.008,47.2441 \\n  \\\"\\/>\\n<polyline clip-path=\\\"url(#clip4300)\\\" style=\\\"stroke:#000000; stroke-width:4; stroke-opacity:1; fill:none\\\" points=\\\"\\n  448.232,1487.47 448.232,1470.19 \\n  \\\"\\/>\\n<polyline clip-path=\\\"url(#clip4300)\\\" style=\\\"stroke:#000000; stroke-width:4; stroke-opacity:1; fill:none\\\" points=\\\"\\n  857.807,1487.47 857.807,1470.19 \\n  \\\"\\/>\\n<polyline clip-path=\\\"url(#clip4300)\\\" style=\\\"stroke:#000000; stroke-width:4; stroke-opacity:1; fill:none\\\" points=\\\"\\n  1267.38,1487.47 1267.38,1470.19 \\n  \\\"\\/>\\n<polyline clip-path=\\\"url(#clip4300)\\\" style=\\\"stroke:#000000; stroke-width:4; stroke-opacity:1; fill:none\\\" points=\\\"\\n  1676.96,1487.47 1676.96,1470.19 \\n  \\\"\\/>\\n<polyline clip-path=\\\"url(#clip4300)\\\" style=\\\"stroke:#000000; stroke-width:4; stroke-opacity:1; fill:none\\\" points=\\\"\\n  2086.53,1487.47 2086.53,1470.19 \\n  \\\"\\/>\\n<polyline clip-path=\\\"url(#clip4300)\\\" style=\\\"stroke:#000000; stroke-width:4; stroke-opacity:1; fill:none\\\" points=\\\"\\n  182.008,1446.9 208.057,1446.9 \\n  \\\"\\/>\\n<polyline clip-path=\\\"url(#clip4300)\\\" style=\\\"stroke:#000000; stroke-width:4; stroke-opacity:1; fill:none\\\" points=\\\"\\n  182.008,1107.07 208.057,1107.07 \\n  \\\"\\/>\\n<polyline clip-path=\\\"url(#clip4300)\\\" style=\\\"stroke:#000000; stroke-width:4; stroke-opacity:1; fill:none\\\" points=\\\"\\n  182.008,767.235 208.057,767.235 \\n  \\\"\\/>\\n<polyline clip-path=\\\"url(#clip4300)\\\" style=\\\"stroke:#000000; stroke-width:4; stroke-opacity:1; fill:none\\\" points=\\\"\\n  182.008,427.402 208.057,427.402 \\n  \\\"\\/>\\n<polyline clip-path=\\\"url(#clip4300)\\\" style=\\\"stroke:#000000; stroke-width:4; stroke-opacity:1; fill:none\\\" points=\\\"\\n  182.008,87.57 208.057,87.57 \\n  \\\"\\/>\\n<g clip-path=\\\"url(#clip4300)\\\">\\n<text style=\\\"fill:#000000; fill-opacity:1; font-family:Arial,Helvetica Neue,Helvetica,sans-serif; font-size:48px; text-anchor:middle;\\\" transform=\\\"rotate(0, 448.232, 1541.47)\\\" x=\\\"448.232\\\" y=\\\"1541.47\\\">-4<\\/text>\\n<\\/g>\\n<g clip-path=\\\"url(#clip4300)\\\">\\n<text style=\\\"fill:#000000; fill-opacity:1; font-family:Arial,Helvetica Neue,Helvetica,sans-serif; font-size:48px; text-anchor:middle;\\\" transform=\\\"rotate(0, 857.807, 1541.47)\\\" x=\\\"857.807\\\" y=\\\"1541.47\\\">-2<\\/text>\\n<\\/g>\\n<g clip-path=\\\"url(#clip4300)\\\">\\n<text style=\\\"fill:#000000; fill-opacity:1; font-family:Arial,Helvetica Neue,Helvetica,sans-serif; font-size:48px; text-anchor:middle;\\\" transform=\\\"rotate(0, 1267.38, 1541.47)\\\" x=\\\"1267.38\\\" y=\\\"1541.47\\\">0<\\/text>\\n<\\/g>\\n<g clip-path=\\\"url(#clip4300)\\\">\\n<text style=\\\"fill:#000000; fill-opacity:1; font-family:Arial,Helvetica Neue,Helvetica,sans-serif; font-size:48px; text-anchor:middle;\\\" transform=\\\"rotate(0, 1676.96, 1541.47)\\\" x=\\\"1676.96\\\" y=\\\"1541.47\\\">2<\\/text>\\n<\\/g>\\n<g clip-path=\\\"url(#clip4300)\\\">\\n<text style=\\\"fill:#000000; fill-opacity:1; font-family:Arial,Helvetica Neue,Helvetica,sans-serif; font-size:48px; text-anchor:middle;\\\" transform=\\\"rotate(0, 2086.53, 1541.47)\\\" x=\\\"2086.53\\\" y=\\\"1541.47\\\">4<\\/text>\\n<\\/g>\\n<g clip-path=\\\"url(#clip4300)\\\">\\n<text style=\\\"fill:#000000; fill-opacity:1; font-family:Arial,Helvetica Neue,Helvetica,sans-serif; font-size:48px; text-anchor:end;\\\" transform=\\\"rotate(0, 158.008, 1464.4)\\\" x=\\\"158.008\\\" y=\\\"1464.4\\\">-1.0<\\/text>\\n<\\/g>\\n<g clip-path=\\\"url(#clip4300)\\\">\\n<text style=\\\"fill:#000000; fill-opacity:1; font-family:Arial,Helvetica Neue,Helvetica,sans-serif; font-size:48px; text-anchor:end;\\\" transform=\\\"rotate(0, 158.008, 1124.57)\\\" x=\\\"158.008\\\" y=\\\"1124.57\\\">-0.5<\\/text>\\n<\\/g>\\n<g clip-path=\\\"url(#clip4300)\\\">\\n<text style=\\\"fill:#000000; fill-opacity:1; font-family:Arial,Helvetica Neue,Helvetica,sans-serif; font-size:48px; text-anchor:end;\\\" transform=\\\"rotate(0, 158.008, 784.735)\\\" x=\\\"158.008\\\" y=\\\"784.735\\\">0.0<\\/text>\\n<\\/g>\\n<g clip-path=\\\"url(#clip4300)\\\">\\n<text style=\\\"fill:#000000; fill-opacity:1; font-family:Arial,Helvetica Neue,Helvetica,sans-serif; font-size:48px; text-anchor:end;\\\" transform=\\\"rotate(0, 158.008, 444.902)\\\" x=\\\"158.008\\\" y=\\\"444.902\\\">0.5<\\/text>\\n<\\/g>\\n<g clip-path=\\\"url(#clip4300)\\\">\\n<text style=\\\"fill:#000000; fill-opacity:1; font-family:Arial,Helvetica Neue,Helvetica,sans-serif; font-size:48px; text-anchor:end;\\\" transform=\\\"rotate(0, 158.008, 105.07)\\\" x=\\\"158.008\\\" y=\\\"105.07\\\">1.0<\\/text>\\n<\\/g>\\n<polyline clip-path=\\\"url(#clip4302)\\\" style=\\\"stroke:#7f7f7f; stroke-width:4; stroke-opacity:1; fill:none\\\" points=\\\"\\n  243.444,115.488 248.444,110.975 253.444,106.854 258.444,103.127 263.443,99.795 286.559,89.588 309.674,88.0053 332.789,95.0673 355.904,110.684 379.019,134.656 \\n  402.134,166.68 425.25,206.346 448.365,253.151 476.147,318.006 503.93,391.115 531.712,471.137 559.495,556.6 606.474,709.064 653.454,864.576 704.487,1027.47 \\n  755.52,1174.28 779.043,1233.98 802.567,1287.53 826.091,1334.23 849.615,1373.45 874.835,1406.61 900.055,1430.09 925.276,1443.52 950.496,1446.71 979.716,1437.55 \\n  1008.94,1414.76 1038.16,1378.81 1067.38,1330.42 1093.34,1277.79 1119.31,1216.95 1145.28,1148.9 1171.24,1074.71 1216.79,933.452 1262.33,784.005 1311.98,620.382 \\n  1361.63,465.35 1386.61,393.515 1411.58,327.231 1436.56,267.483 1461.53,215.158 1489.14,166.879 1516.75,129.498 1544.37,103.693 1571.98,89.9334 1598.25,88.254 \\n  1624.52,97.7341 1650.79,118.218 1677.07,149.369 1704.38,192.518 1731.7,245.878 1759.02,308.501 1786.33,379.275 1832.32,513.292 1878.31,660.062 1934.46,845.787 \\n  1990.61,1025.64 2017,1104.29 2043.39,1177.34 2069.78,1243.59 2096.17,1301.94 2117.31,1342.33 2138.45,1376.6 2159.59,1404.37 2180.73,1425.37 2201.87,1439.35 \\n  2223.01,1446.18 2244.15,1445.78 2265.29,1438.16 2271.8,1434.37 2278.31,1429.91 2284.81,1424.78 2291.32,1418.98 \\n  \\\"\\/>\\n<path clip-path=\\\"url(#clip4300)\\\" d=\\\"\\nM1989.93 251.724 L2280.76 251.724 L2280.76 130.764 L1989.93 130.764  Z\\n  \\\" fill=\\\"#ffffff\\\" fill-rule=\\\"evenodd\\\" fill-opacity=\\\"1\\\"\\/>\\n<polyline clip-path=\\\"url(#clip4300)\\\" style=\\\"stroke:#000000; stroke-width:4; stroke-opacity:1; fill:none\\\" points=\\\"\\n  1989.93,251.724 2280.76,251.724 2280.76,130.764 1989.93,130.764 1989.93,251.724 \\n  \\\"\\/>\\n<polyline clip-path=\\\"url(#clip4300)\\\" style=\\\"stroke:#7f7f7f; stroke-width:4; stroke-opacity:1; fill:none\\\" points=\\\"\\n  2013.93,191.244 2157.93,191.244 \\n  \\\"\\/>\\n<g clip-path=\\\"url(#clip4300)\\\">\\n<text style=\\\"fill:#000000; fill-opacity:1; font-family:Arial,Helvetica Neue,Helvetica,sans-serif; font-size:48px; text-anchor:start;\\\" transform=\\\"rotate(0, 2181.93, 208.744)\\\" x=\\\"2181.93\\\" y=\\\"208.744\\\">y1<\\/text>\\n<\\/g>\\n<\\/svg>\\n\"}}},\"children\":[{\"props\":{\"className\":\"webio-observable\",\"setInnerHtml\":\"<?xml version=\\\"1.0\\\" encoding=\\\"utf-8\\\"?>\\n<svg xmlns=\\\"http:\\/\\/www.w3.org\\/2000\\/svg\\\" xmlns:xlink=\\\"http:\\/\\/www.w3.org\\/1999\\/xlink\\\" width=\\\"600\\\" height=\\\"400\\\" viewBox=\\\"0 0 2400 1600\\\">\\n<defs>\\n  <clipPath id=\\\"clip4300\\\">\\n    <rect x=\\\"0\\\" y=\\\"0\\\" width=\\\"2400\\\" height=\\\"1600\\\"\\/>\\n  <\\/clipPath>\\n<\\/defs>\\n<path clip-path=\\\"url(#clip4300)\\\" d=\\\"\\nM0 1600 L2400 1600 L2400 0 L0 0  Z\\n  \\\" fill=\\\"#ffffff\\\" fill-rule=\\\"evenodd\\\" fill-opacity=\\\"1\\\"\\/>\\n<defs>\\n  <clipPath id=\\\"clip4301\\\">\\n    <rect x=\\\"480\\\" y=\\\"0\\\" width=\\\"1681\\\" height=\\\"1600\\\"\\/>\\n  <\\/clipPath>\\n<\\/defs>\\n<path clip-path=\\\"url(#clip4300)\\\" d=\\\"\\nM182.008 1487.47 L2352.76 1487.47 L2352.76 47.2441 L182.008 47.2441  Z\\n  \\\" fill=\\\"#ffffff\\\" fill-rule=\\\"evenodd\\\" fill-opacity=\\\"1\\\"\\/>\\n<defs>\\n  <clipPath id=\\\"clip4302\\\">\\n    <rect x=\\\"182\\\" y=\\\"47\\\" width=\\\"2172\\\" height=\\\"1441\\\"\\/>\\n  <\\/clipPath>\\n<\\/defs>\\n<polyline clip-path=\\\"url(#clip4302)\\\" style=\\\"stroke:#000000; stroke-width:2; stroke-opacity:0.1; fill:none\\\" points=\\\"\\n  448.232,1487.47 448.232,47.2441 \\n  \\\"\\/>\\n<polyline clip-path=\\\"url(#clip4302)\\\" style=\\\"stroke:#000000; stroke-width:2; stroke-opacity:0.1; fill:none\\\" points=\\\"\\n  857.807,1487.47 857.807,47.2441 \\n  \\\"\\/>\\n<polyline clip-path=\\\"url(#clip4302)\\\" style=\\\"stroke:#000000; stroke-width:2; stroke-opacity:0.1; fill:none\\\" points=\\\"\\n  1267.38,1487.47 1267.38,47.2441 \\n  \\\"\\/>\\n<polyline clip-path=\\\"url(#clip4302)\\\" style=\\\"stroke:#000000; stroke-width:2; stroke-opacity:0.1; fill:none\\\" points=\\\"\\n  1676.96,1487.47 1676.96,47.2441 \\n  \\\"\\/>\\n<polyline clip-path=\\\"url(#clip4302)\\\" style=\\\"stroke:#000000; stroke-width:2; stroke-opacity:0.1; fill:none\\\" points=\\\"\\n  2086.53,1487.47 2086.53,47.2441 \\n  \\\"\\/>\\n<polyline clip-path=\\\"url(#clip4302)\\\" style=\\\"stroke:#000000; stroke-width:2; stroke-opacity:0.1; fill:none\\\" points=\\\"\\n  182.008,1446.9 2352.76,1446.9 \\n  \\\"\\/>\\n<polyline clip-path=\\\"url(#clip4302)\\\" style=\\\"stroke:#000000; stroke-width:2; stroke-opacity:0.1; fill:none\\\" points=\\\"\\n  182.008,1107.07 2352.76,1107.07 \\n  \\\"\\/>\\n<polyline clip-path=\\\"url(#clip4302)\\\" style=\\\"stroke:#000000; stroke-width:2; stroke-opacity:0.1; fill:none\\\" points=\\\"\\n  182.008,767.235 2352.76,767.235 \\n  \\\"\\/>\\n<polyline clip-path=\\\"url(#clip4302)\\\" style=\\\"stroke:#000000; stroke-width:2; stroke-opacity:0.1; fill:none\\\" points=\\\"\\n  182.008,427.402 2352.76,427.402 \\n  \\\"\\/>\\n<polyline clip-path=\\\"url(#clip4302)\\\" style=\\\"stroke:#000000; stroke-width:2; stroke-opacity:0.1; fill:none\\\" points=\\\"\\n  182.008,87.57 2352.76,87.57 \\n  \\\"\\/>\\n<polyline clip-path=\\\"url(#clip4300)\\\" style=\\\"stroke:#000000; stroke-width:4; stroke-opacity:1; fill:none\\\" points=\\\"\\n  182.008,1487.47 2352.76,1487.47 \\n  \\\"\\/>\\n<polyline clip-path=\\\"url(#clip4300)\\\" style=\\\"stroke:#000000; stroke-width:4; stroke-opacity:1; fill:none\\\" points=\\\"\\n  182.008,1487.47 182.008,47.2441 \\n  \\\"\\/>\\n<polyline clip-path=\\\"url(#clip4300)\\\" style=\\\"stroke:#000000; stroke-width:4; stroke-opacity:1; fill:none\\\" points=\\\"\\n  448.232,1487.47 448.232,1470.19 \\n  \\\"\\/>\\n<polyline clip-path=\\\"url(#clip4300)\\\" style=\\\"stroke:#000000; stroke-width:4; stroke-opacity:1; fill:none\\\" points=\\\"\\n  857.807,1487.47 857.807,1470.19 \\n  \\\"\\/>\\n<polyline clip-path=\\\"url(#clip4300)\\\" style=\\\"stroke:#000000; stroke-width:4; stroke-opacity:1; fill:none\\\" points=\\\"\\n  1267.38,1487.47 1267.38,1470.19 \\n  \\\"\\/>\\n<polyline clip-path=\\\"url(#clip4300)\\\" style=\\\"stroke:#000000; stroke-width:4; stroke-opacity:1; fill:none\\\" points=\\\"\\n  1676.96,1487.47 1676.96,1470.19 \\n  \\\"\\/>\\n<polyline clip-path=\\\"url(#clip4300)\\\" style=\\\"stroke:#000000; stroke-width:4; stroke-opacity:1; fill:none\\\" points=\\\"\\n  2086.53,1487.47 2086.53,1470.19 \\n  \\\"\\/>\\n<polyline clip-path=\\\"url(#clip4300)\\\" style=\\\"stroke:#000000; stroke-width:4; stroke-opacity:1; fill:none\\\" points=\\\"\\n  182.008,1446.9 208.057,1446.9 \\n  \\\"\\/>\\n<polyline clip-path=\\\"url(#clip4300)\\\" style=\\\"stroke:#000000; stroke-width:4; stroke-opacity:1; fill:none\\\" points=\\\"\\n  182.008,1107.07 208.057,1107.07 \\n  \\\"\\/>\\n<polyline clip-path=\\\"url(#clip4300)\\\" style=\\\"stroke:#000000; stroke-width:4; stroke-opacity:1; fill:none\\\" points=\\\"\\n  182.008,767.235 208.057,767.235 \\n  \\\"\\/>\\n<polyline clip-path=\\\"url(#clip4300)\\\" style=\\\"stroke:#000000; stroke-width:4; stroke-opacity:1; fill:none\\\" points=\\\"\\n  182.008,427.402 208.057,427.402 \\n  \\\"\\/>\\n<polyline clip-path=\\\"url(#clip4300)\\\" style=\\\"stroke:#000000; stroke-width:4; stroke-opacity:1; fill:none\\\" points=\\\"\\n  182.008,87.57 208.057,87.57 \\n  \\\"\\/>\\n<g clip-path=\\\"url(#clip4300)\\\">\\n<text style=\\\"fill:#000000; fill-opacity:1; font-family:Arial,Helvetica Neue,Helvetica,sans-serif; font-size:48px; text-anchor:middle;\\\" transform=\\\"rotate(0, 448.232, 1541.47)\\\" x=\\\"448.232\\\" y=\\\"1541.47\\\">-4<\\/text>\\n<\\/g>\\n<g clip-path=\\\"url(#clip4300)\\\">\\n<text style=\\\"fill:#000000; fill-opacity:1; font-family:Arial,Helvetica Neue,Helvetica,sans-serif; font-size:48px; text-anchor:middle;\\\" transform=\\\"rotate(0, 857.807, 1541.47)\\\" x=\\\"857.807\\\" y=\\\"1541.47\\\">-2<\\/text>\\n<\\/g>\\n<g clip-path=\\\"url(#clip4300)\\\">\\n<text style=\\\"fill:#000000; fill-opacity:1; font-family:Arial,Helvetica Neue,Helvetica,sans-serif; font-size:48px; text-anchor:middle;\\\" transform=\\\"rotate(0, 1267.38, 1541.47)\\\" x=\\\"1267.38\\\" y=\\\"1541.47\\\">0<\\/text>\\n<\\/g>\\n<g clip-path=\\\"url(#clip4300)\\\">\\n<text style=\\\"fill:#000000; fill-opacity:1; font-family:Arial,Helvetica Neue,Helvetica,sans-serif; font-size:48px; text-anchor:middle;\\\" transform=\\\"rotate(0, 1676.96, 1541.47)\\\" x=\\\"1676.96\\\" y=\\\"1541.47\\\">2<\\/text>\\n<\\/g>\\n<g clip-path=\\\"url(#clip4300)\\\">\\n<text style=\\\"fill:#000000; fill-opacity:1; font-family:Arial,Helvetica Neue,Helvetica,sans-serif; font-size:48px; text-anchor:middle;\\\" transform=\\\"rotate(0, 2086.53, 1541.47)\\\" x=\\\"2086.53\\\" y=\\\"1541.47\\\">4<\\/text>\\n<\\/g>\\n<g clip-path=\\\"url(#clip4300)\\\">\\n<text style=\\\"fill:#000000; fill-opacity:1; font-family:Arial,Helvetica Neue,Helvetica,sans-serif; font-size:48px; text-anchor:end;\\\" transform=\\\"rotate(0, 158.008, 1464.4)\\\" x=\\\"158.008\\\" y=\\\"1464.4\\\">-1.0<\\/text>\\n<\\/g>\\n<g clip-path=\\\"url(#clip4300)\\\">\\n<text style=\\\"fill:#000000; fill-opacity:1; font-family:Arial,Helvetica Neue,Helvetica,sans-serif; font-size:48px; text-anchor:end;\\\" transform=\\\"rotate(0, 158.008, 1124.57)\\\" x=\\\"158.008\\\" y=\\\"1124.57\\\">-0.5<\\/text>\\n<\\/g>\\n<g clip-path=\\\"url(#clip4300)\\\">\\n<text style=\\\"fill:#000000; fill-opacity:1; font-family:Arial,Helvetica Neue,Helvetica,sans-serif; font-size:48px; text-anchor:end;\\\" transform=\\\"rotate(0, 158.008, 784.735)\\\" x=\\\"158.008\\\" y=\\\"784.735\\\">0.0<\\/text>\\n<\\/g>\\n<g clip-path=\\\"url(#clip4300)\\\">\\n<text style=\\\"fill:#000000; fill-opacity:1; font-family:Arial,Helvetica Neue,Helvetica,sans-serif; font-size:48px; text-anchor:end;\\\" transform=\\\"rotate(0, 158.008, 444.902)\\\" x=\\\"158.008\\\" y=\\\"444.902\\\">0.5<\\/text>\\n<\\/g>\\n<g clip-path=\\\"url(#clip4300)\\\">\\n<text style=\\\"fill:#000000; fill-opacity:1; font-family:Arial,Helvetica Neue,Helvetica,sans-serif; font-size:48px; text-anchor:end;\\\" transform=\\\"rotate(0, 158.008, 105.07)\\\" x=\\\"158.008\\\" y=\\\"105.07\\\">1.0<\\/text>\\n<\\/g>\\n<polyline clip-path=\\\"url(#clip4302)\\\" style=\\\"stroke:#7f7f7f; stroke-width:4; stroke-opacity:1; fill:none\\\" points=\\\"\\n  243.444,115.488 248.444,110.975 253.444,106.854 258.444,103.127 263.443,99.795 286.559,89.588 309.674,88.0053 332.789,95.0673 355.904,110.684 379.019,134.656 \\n  402.134,166.68 425.25,206.346 448.365,253.151 476.147,318.006 503.93,391.115 531.712,471.137 559.495,556.6 606.474,709.064 653.454,864.576 704.487,1027.47 \\n  755.52,1174.28 779.043,1233.98 802.567,1287.53 826.091,1334.23 849.615,1373.45 874.835,1406.61 900.055,1430.09 925.276,1443.52 950.496,1446.71 979.716,1437.55 \\n  1008.94,1414.76 1038.16,1378.81 1067.38,1330.42 1093.34,1277.79 1119.31,1216.95 1145.28,1148.9 1171.24,1074.71 1216.79,933.452 1262.33,784.005 1311.98,620.382 \\n  1361.63,465.35 1386.61,393.515 1411.58,327.231 1436.56,267.483 1461.53,215.158 1489.14,166.879 1516.75,129.498 1544.37,103.693 1571.98,89.9334 1598.25,88.254 \\n  1624.52,97.7341 1650.79,118.218 1677.07,149.369 1704.38,192.518 1731.7,245.878 1759.02,308.501 1786.33,379.275 1832.32,513.292 1878.31,660.062 1934.46,845.787 \\n  1990.61,1025.64 2017,1104.29 2043.39,1177.34 2069.78,1243.59 2096.17,1301.94 2117.31,1342.33 2138.45,1376.6 2159.59,1404.37 2180.73,1425.37 2201.87,1439.35 \\n  2223.01,1446.18 2244.15,1445.78 2265.29,1438.16 2271.8,1434.37 2278.31,1429.91 2284.81,1424.78 2291.32,1418.98 \\n  \\\"\\/>\\n<path clip-path=\\\"url(#clip4300)\\\" d=\\\"\\nM1989.93 251.724 L2280.76 251.724 L2280.76 130.764 L1989.93 130.764  Z\\n  \\\" fill=\\\"#ffffff\\\" fill-rule=\\\"evenodd\\\" fill-opacity=\\\"1\\\"\\/>\\n<polyline clip-path=\\\"url(#clip4300)\\\" style=\\\"stroke:#000000; stroke-width:4; stroke-opacity:1; fill:none\\\" points=\\\"\\n  1989.93,251.724 2280.76,251.724 2280.76,130.764 1989.93,130.764 1989.93,251.724 \\n  \\\"\\/>\\n<polyline clip-path=\\\"url(#clip4300)\\\" style=\\\"stroke:#7f7f7f; stroke-width:4; stroke-opacity:1; fill:none\\\" points=\\\"\\n  2013.93,191.244 2157.93,191.244 \\n  \\\"\\/>\\n<g clip-path=\\\"url(#clip4300)\\\">\\n<text style=\\\"fill:#000000; fill-opacity:1; font-family:Arial,Helvetica Neue,Helvetica,sans-serif; font-size:48px; text-anchor:start;\\\" transform=\\\"rotate(0, 2181.93, 208.744)\\\" x=\\\"2181.93\\\" y=\\\"208.744\\\">y1<\\/text>\\n<\\/g>\\n<\\/svg>\\n\"},\"nodeType\":\"DOM\",\"type\":\"node\",\"instanceArgs\":{\"namespace\":\"html\",\"tag\":\"div\"},\"children\":[]}]},{\"props\":{\"style\":{\"display\":\"flex\",\"flex-direction\":\"column\"}},\"nodeType\":\"DOM\",\"type\":\"node\",\"instanceArgs\":{\"namespace\":\"html\",\"tag\":\"div\"},\"children\":[{\"props\":{\"className\":\"field interact-widget\"},\"nodeType\":\"DOM\",\"type\":\"node\",\"instanceArgs\":{\"namespace\":\"html\",\"tag\":\"div\"},\"children\":[{\"props\":{},\"nodeType\":\"Scope\",\"type\":\"node\",\"instanceArgs\":{\"imports\":{\"data\":[{\"name\":\"knockout\",\"type\":\"js\",\"url\":\"\\/assetserver\\/0fc6d61518197b1bf9b23217e9be1d2e00f2bb14-knockout.js\"},{\"name\":\"knockout_punches\",\"type\":\"js\",\"url\":\"\\/assetserver\\/24c12264eef2b01f723a21985ba5661f5564d7cf-knockout_punches.js\"},{\"name\":null,\"type\":\"js\",\"url\":\"\\/assetserver\\/85de428ae418ad26c1ce7e886d25374b3774afa9-all.js\"},{\"name\":null,\"type\":\"css\",\"url\":\"\\/assetserver\\/2cd8ff31326883094fe5a8ff21182264663b62be-style.css\"},{\"name\":null,\"type\":\"css\",\"url\":\"\\/assetserver\\/741bde2d4bf25f117d0ec4d43164cd1a050cf9de-bulma_confined.min.css\"}],\"type\":\"async_block\"},\"id\":\"4999064785271387892\",\"handlers\":{\"changes\":[\"(function (val){return (val!=this.model[\\\"changes\\\"]()) ? (this.valueFromJulia[\\\"changes\\\"]=true, this.model[\\\"changes\\\"](val)) : undefined})\"],\"index\":[\"(function (val){return (val!=this.model[\\\"index\\\"]()) ? (this.valueFromJulia[\\\"index\\\"]=true, this.model[\\\"index\\\"](val)) : undefined})\"]},\"systemjs_options\":null,\"mount_callbacks\":[\"function () {\\n    var handler = (function (ko, koPunches) {\\n    ko.punches.enableAll();\\n    ko.bindingHandlers.numericValue = {\\n        init: function(element, valueAccessor, allBindings, data, context) {\\n            var stringified = ko.observable(ko.unwrap(valueAccessor()));\\n            stringified.subscribe(function(value) {\\n                var val = parseFloat(value);\\n                if (!isNaN(val)) {\\n                    valueAccessor()(val);\\n                }\\n            });\\n            valueAccessor().subscribe(function(value) {\\n                var str = JSON.stringify(value);\\n                if ((str == \\\"0\\\") && ([\\\"-0\\\", \\\"-0.\\\"].indexOf(stringified()) >= 0))\\n                     return;\\n                 if ([\\\"null\\\", \\\"\\\"].indexOf(str) >= 0)\\n                     return;\\n                stringified(str);\\n            });\\n            ko.applyBindingsToNode(\\n                element,\\n                {\\n                    value: stringified,\\n                    valueUpdate: allBindings.get('valueUpdate'),\\n                },\\n                context,\\n            );\\n        }\\n    };\\n    var json_data = {\\\"formatted_vals\\\":[\\\"0\\\",\\\"1\\\",\\\"2\\\",\\\"3\\\",\\\"4\\\",\\\"5\\\",\\\"6\\\",\\\"7\\\",\\\"8\\\",\\\"9\\\",\\\"10\\\",\\\"11\\\",\\\"12\\\",\\\"13\\\",\\\"14\\\",\\\"15\\\",\\\"16\\\",\\\"17\\\",\\\"18\\\",\\\"19\\\",\\\"20\\\",\\\"21\\\",\\\"22\\\",\\\"23\\\",\\\"24\\\",\\\"25\\\",\\\"26\\\",\\\"27\\\",\\\"28\\\",\\\"29\\\",\\\"30\\\",\\\"31\\\",\\\"32\\\",\\\"33\\\",\\\"34\\\",\\\"35\\\",\\\"36\\\",\\\"37\\\",\\\"38\\\",\\\"39\\\",\\\"40\\\",\\\"41\\\",\\\"42\\\",\\\"43\\\",\\\"44\\\",\\\"45\\\",\\\"46\\\",\\\"47\\\",\\\"48\\\",\\\"49\\\",\\\"50\\\",\\\"51\\\",\\\"52\\\",\\\"53\\\",\\\"54\\\",\\\"55\\\",\\\"56\\\",\\\"57\\\",\\\"58\\\",\\\"59\\\",\\\"60\\\",\\\"61\\\",\\\"62\\\",\\\"63\\\",\\\"64\\\",\\\"65\\\",\\\"66\\\",\\\"67\\\",\\\"68\\\",\\\"69\\\",\\\"70\\\",\\\"71\\\",\\\"72\\\",\\\"73\\\",\\\"74\\\",\\\"75\\\",\\\"76\\\",\\\"77\\\",\\\"78\\\",\\\"79\\\",\\\"80\\\",\\\"81\\\",\\\"82\\\",\\\"83\\\",\\\"84\\\",\\\"85\\\",\\\"86\\\",\\\"87\\\",\\\"88\\\",\\\"89\\\",\\\"90\\\",\\\"91\\\",\\\"92\\\",\\\"93\\\",\\\"94\\\",\\\"95\\\",\\\"96\\\",\\\"97\\\",\\\"98\\\",\\\"99\\\",\\\"100\\\",\\\"101\\\",\\\"102\\\",\\\"103\\\",\\\"104\\\",\\\"105\\\",\\\"106\\\",\\\"107\\\",\\\"108\\\",\\\"109\\\",\\\"110\\\",\\\"111\\\",\\\"112\\\",\\\"113\\\",\\\"114\\\",\\\"115\\\",\\\"116\\\",\\\"117\\\",\\\"118\\\",\\\"119\\\",\\\"120\\\",\\\"121\\\",\\\"122\\\",\\\"123\\\",\\\"124\\\",\\\"125\\\",\\\"126\\\",\\\"127\\\",\\\"128\\\",\\\"129\\\",\\\"130\\\",\\\"131\\\",\\\"132\\\",\\\"133\\\",\\\"134\\\",\\\"135\\\",\\\"136\\\",\\\"137\\\",\\\"138\\\",\\\"139\\\",\\\"140\\\",\\\"141\\\",\\\"142\\\",\\\"143\\\",\\\"144\\\",\\\"145\\\",\\\"146\\\",\\\"147\\\",\\\"148\\\",\\\"149\\\",\\\"150\\\",\\\"151\\\",\\\"152\\\",\\\"153\\\",\\\"154\\\",\\\"155\\\",\\\"156\\\",\\\"157\\\",\\\"158\\\",\\\"159\\\",\\\"160\\\",\\\"161\\\",\\\"162\\\",\\\"163\\\",\\\"164\\\",\\\"165\\\",\\\"166\\\",\\\"167\\\",\\\"168\\\",\\\"169\\\",\\\"170\\\",\\\"171\\\",\\\"172\\\",\\\"173\\\",\\\"174\\\",\\\"175\\\",\\\"176\\\",\\\"177\\\",\\\"178\\\",\\\"179\\\",\\\"180\\\",\\\"181\\\",\\\"182\\\",\\\"183\\\",\\\"184\\\",\\\"185\\\",\\\"186\\\",\\\"187\\\",\\\"188\\\",\\\"189\\\",\\\"190\\\",\\\"191\\\",\\\"192\\\",\\\"193\\\",\\\"194\\\",\\\"195\\\",\\\"196\\\",\\\"197\\\",\\\"198\\\",\\\"199\\\",\\\"200\\\",\\\"201\\\",\\\"202\\\",\\\"203\\\",\\\"204\\\",\\\"205\\\",\\\"206\\\",\\\"207\\\",\\\"208\\\",\\\"209\\\",\\\"210\\\",\\\"211\\\",\\\"212\\\",\\\"213\\\",\\\"214\\\",\\\"215\\\",\\\"216\\\",\\\"217\\\",\\\"218\\\",\\\"219\\\",\\\"220\\\",\\\"221\\\",\\\"222\\\",\\\"223\\\",\\\"224\\\",\\\"225\\\",\\\"226\\\",\\\"227\\\",\\\"228\\\",\\\"229\\\",\\\"230\\\",\\\"231\\\",\\\"232\\\",\\\"233\\\",\\\"234\\\",\\\"235\\\",\\\"236\\\",\\\"237\\\",\\\"238\\\",\\\"239\\\",\\\"240\\\",\\\"241\\\",\\\"242\\\",\\\"243\\\",\\\"244\\\",\\\"245\\\",\\\"246\\\",\\\"247\\\",\\\"248\\\",\\\"249\\\",\\\"250\\\",\\\"251\\\",\\\"252\\\",\\\"253\\\",\\\"254\\\",\\\"255\\\"],\\\"changes\\\":WebIO.getval({\\\"name\\\":\\\"changes\\\",\\\"scope\\\":\\\"4999064785271387892\\\",\\\"id\\\":\\\"3921668199743625829\\\",\\\"type\\\":\\\"observable\\\"}),\\\"index\\\":WebIO.getval({\\\"name\\\":\\\"index\\\",\\\"scope\\\":\\\"4999064785271387892\\\",\\\"id\\\":\\\"9487380291017563081\\\",\\\"type\\\":\\\"observable\\\"})};\\n    var self = this;\\n    function AppViewModel() {\\n        for (var key in json_data) {\\n            var el = json_data[key];\\n            this[key] = Array.isArray(el) ? ko.observableArray(el) : ko.observable(el);\\n        }\\n        \\n        [this[\\\"formatted_val\\\"]=ko.computed(    function(){\\n        return this.formatted_vals()[parseInt(this.index())-(0)];\\n    }\\n,this)]\\n        [this[\\\"changes\\\"].subscribe((function (val){!(this.valueFromJulia[\\\"changes\\\"]) ? (WebIO.setval({\\\"name\\\":\\\"changes\\\",\\\"scope\\\":\\\"4999064785271387892\\\",\\\"id\\\":\\\"3921668199743625829\\\",\\\"type\\\":\\\"observable\\\"},val)) : undefined; return this.valueFromJulia[\\\"changes\\\"]=false}),self),this[\\\"index\\\"].subscribe((function (val){!(this.valueFromJulia[\\\"index\\\"]) ? (WebIO.setval({\\\"name\\\":\\\"index\\\",\\\"scope\\\":\\\"4999064785271387892\\\",\\\"id\\\":\\\"9487380291017563081\\\",\\\"type\\\":\\\"observable\\\"},val)) : undefined; return this.valueFromJulia[\\\"index\\\"]=false}),self)]\\n        \\n    }\\n    self.model = new AppViewModel();\\n    self.valueFromJulia = {};\\n    for (var key in json_data) {\\n        self.valueFromJulia[key] = false;\\n    }\\n    ko.applyBindings(self.model, self.dom);\\n}\\n);\\n    (WebIO.importBlock({\\\"data\\\":[{\\\"name\\\":\\\"knockout\\\",\\\"type\\\":\\\"js\\\",\\\"url\\\":\\\"\\/assetserver\\/0fc6d61518197b1bf9b23217e9be1d2e00f2bb14-knockout.js\\\"},{\\\"name\\\":\\\"knockout_punches\\\",\\\"type\\\":\\\"js\\\",\\\"url\\\":\\\"\\/assetserver\\/24c12264eef2b01f723a21985ba5661f5564d7cf-knockout_punches.js\\\"}],\\\"type\\\":\\\"async_block\\\"})).then((imports) => handler.apply(this, imports));\\n}\\n\"],\"observables\":{\"changes\":{\"sync\":false,\"id\":\"3921668199743625829\",\"value\":0},\"index\":{\"sync\":true,\"id\":\"9487380291017563081\",\"value\":127}}},\"children\":[{\"props\":{\"className\":\"interact-flex-row interact-widget\"},\"nodeType\":\"DOM\",\"type\":\"node\",\"instanceArgs\":{\"namespace\":\"html\",\"tag\":\"div\"},\"children\":[{\"props\":{\"className\":\"interact-flex-row-left\"},\"nodeType\":\"DOM\",\"type\":\"node\",\"instanceArgs\":{\"namespace\":\"html\",\"tag\":\"div\"},\"children\":[{\"props\":{\"className\":\"interact \",\"style\":{\"padding\":\"5px 10px 0px 10px\"}},\"nodeType\":\"DOM\",\"type\":\"node\",\"instanceArgs\":{\"namespace\":\"html\",\"tag\":\"label\"},\"children\":[\"red\"]}]},{\"props\":{\"className\":\"interact-flex-row-center\"},\"nodeType\":\"DOM\",\"type\":\"node\",\"instanceArgs\":{\"namespace\":\"html\",\"tag\":\"div\"},\"children\":[{\"props\":{\"max\":255,\"min\":0,\"attributes\":{\"type\":\"range\",\"data-bind\":\"numericValue: index, valueUpdate: 'input', event: {change: function (){this.changes(this.changes()+1)}}\",\"orient\":\"horizontal\"},\"step\":1,\"className\":\"slider slider is-fullwidth\",\"style\":{}},\"nodeType\":\"DOM\",\"type\":\"node\",\"instanceArgs\":{\"namespace\":\"html\",\"tag\":\"input\"},\"children\":[]}]},{\"props\":{\"className\":\"interact-flex-row-right\"},\"nodeType\":\"DOM\",\"type\":\"node\",\"instanceArgs\":{\"namespace\":\"html\",\"tag\":\"div\"},\"children\":[{\"props\":{\"attributes\":{\"data-bind\":\"text: formatted_val\"}},\"nodeType\":\"DOM\",\"type\":\"node\",\"instanceArgs\":{\"namespace\":\"html\",\"tag\":\"p\"},\"children\":[]}]}]}]}]},{\"props\":{\"className\":\"field interact-widget\"},\"nodeType\":\"DOM\",\"type\":\"node\",\"instanceArgs\":{\"namespace\":\"html\",\"tag\":\"div\"},\"children\":[{\"props\":{},\"nodeType\":\"Scope\",\"type\":\"node\",\"instanceArgs\":{\"imports\":{\"data\":[{\"name\":\"knockout\",\"type\":\"js\",\"url\":\"\\/assetserver\\/0fc6d61518197b1bf9b23217e9be1d2e00f2bb14-knockout.js\"},{\"name\":\"knockout_punches\",\"type\":\"js\",\"url\":\"\\/assetserver\\/24c12264eef2b01f723a21985ba5661f5564d7cf-knockout_punches.js\"},{\"name\":null,\"type\":\"js\",\"url\":\"\\/assetserver\\/85de428ae418ad26c1ce7e886d25374b3774afa9-all.js\"},{\"name\":null,\"type\":\"css\",\"url\":\"\\/assetserver\\/2cd8ff31326883094fe5a8ff21182264663b62be-style.css\"},{\"name\":null,\"type\":\"css\",\"url\":\"\\/assetserver\\/741bde2d4bf25f117d0ec4d43164cd1a050cf9de-bulma_confined.min.css\"}],\"type\":\"async_block\"},\"id\":\"4872108528355104066\",\"handlers\":{\"changes\":[\"(function (val){return (val!=this.model[\\\"changes\\\"]()) ? (this.valueFromJulia[\\\"changes\\\"]=true, this.model[\\\"changes\\\"](val)) : undefined})\"],\"index\":[\"(function (val){return (val!=this.model[\\\"index\\\"]()) ? (this.valueFromJulia[\\\"index\\\"]=true, this.model[\\\"index\\\"](val)) : undefined})\"]},\"systemjs_options\":null,\"mount_callbacks\":[\"function () {\\n    var handler = (function (ko, koPunches) {\\n    ko.punches.enableAll();\\n    ko.bindingHandlers.numericValue = {\\n        init: function(element, valueAccessor, allBindings, data, context) {\\n            var stringified = ko.observable(ko.unwrap(valueAccessor()));\\n            stringified.subscribe(function(value) {\\n                var val = parseFloat(value);\\n                if (!isNaN(val)) {\\n                    valueAccessor()(val);\\n                }\\n            });\\n            valueAccessor().subscribe(function(value) {\\n                var str = JSON.stringify(value);\\n                if ((str == \\\"0\\\") && ([\\\"-0\\\", \\\"-0.\\\"].indexOf(stringified()) >= 0))\\n                     return;\\n                 if ([\\\"null\\\", \\\"\\\"].indexOf(str) >= 0)\\n                     return;\\n                stringified(str);\\n            });\\n            ko.applyBindingsToNode(\\n                element,\\n                {\\n                    value: stringified,\\n                    valueUpdate: allBindings.get('valueUpdate'),\\n                },\\n                context,\\n            );\\n        }\\n    };\\n    var json_data = {\\\"formatted_vals\\\":[\\\"0\\\",\\\"1\\\",\\\"2\\\",\\\"3\\\",\\\"4\\\",\\\"5\\\",\\\"6\\\",\\\"7\\\",\\\"8\\\",\\\"9\\\",\\\"10\\\",\\\"11\\\",\\\"12\\\",\\\"13\\\",\\\"14\\\",\\\"15\\\",\\\"16\\\",\\\"17\\\",\\\"18\\\",\\\"19\\\",\\\"20\\\",\\\"21\\\",\\\"22\\\",\\\"23\\\",\\\"24\\\",\\\"25\\\",\\\"26\\\",\\\"27\\\",\\\"28\\\",\\\"29\\\",\\\"30\\\",\\\"31\\\",\\\"32\\\",\\\"33\\\",\\\"34\\\",\\\"35\\\",\\\"36\\\",\\\"37\\\",\\\"38\\\",\\\"39\\\",\\\"40\\\",\\\"41\\\",\\\"42\\\",\\\"43\\\",\\\"44\\\",\\\"45\\\",\\\"46\\\",\\\"47\\\",\\\"48\\\",\\\"49\\\",\\\"50\\\",\\\"51\\\",\\\"52\\\",\\\"53\\\",\\\"54\\\",\\\"55\\\",\\\"56\\\",\\\"57\\\",\\\"58\\\",\\\"59\\\",\\\"60\\\",\\\"61\\\",\\\"62\\\",\\\"63\\\",\\\"64\\\",\\\"65\\\",\\\"66\\\",\\\"67\\\",\\\"68\\\",\\\"69\\\",\\\"70\\\",\\\"71\\\",\\\"72\\\",\\\"73\\\",\\\"74\\\",\\\"75\\\",\\\"76\\\",\\\"77\\\",\\\"78\\\",\\\"79\\\",\\\"80\\\",\\\"81\\\",\\\"82\\\",\\\"83\\\",\\\"84\\\",\\\"85\\\",\\\"86\\\",\\\"87\\\",\\\"88\\\",\\\"89\\\",\\\"90\\\",\\\"91\\\",\\\"92\\\",\\\"93\\\",\\\"94\\\",\\\"95\\\",\\\"96\\\",\\\"97\\\",\\\"98\\\",\\\"99\\\",\\\"100\\\",\\\"101\\\",\\\"102\\\",\\\"103\\\",\\\"104\\\",\\\"105\\\",\\\"106\\\",\\\"107\\\",\\\"108\\\",\\\"109\\\",\\\"110\\\",\\\"111\\\",\\\"112\\\",\\\"113\\\",\\\"114\\\",\\\"115\\\",\\\"116\\\",\\\"117\\\",\\\"118\\\",\\\"119\\\",\\\"120\\\",\\\"121\\\",\\\"122\\\",\\\"123\\\",\\\"124\\\",\\\"125\\\",\\\"126\\\",\\\"127\\\",\\\"128\\\",\\\"129\\\",\\\"130\\\",\\\"131\\\",\\\"132\\\",\\\"133\\\",\\\"134\\\",\\\"135\\\",\\\"136\\\",\\\"137\\\",\\\"138\\\",\\\"139\\\",\\\"140\\\",\\\"141\\\",\\\"142\\\",\\\"143\\\",\\\"144\\\",\\\"145\\\",\\\"146\\\",\\\"147\\\",\\\"148\\\",\\\"149\\\",\\\"150\\\",\\\"151\\\",\\\"152\\\",\\\"153\\\",\\\"154\\\",\\\"155\\\",\\\"156\\\",\\\"157\\\",\\\"158\\\",\\\"159\\\",\\\"160\\\",\\\"161\\\",\\\"162\\\",\\\"163\\\",\\\"164\\\",\\\"165\\\",\\\"166\\\",\\\"167\\\",\\\"168\\\",\\\"169\\\",\\\"170\\\",\\\"171\\\",\\\"172\\\",\\\"173\\\",\\\"174\\\",\\\"175\\\",\\\"176\\\",\\\"177\\\",\\\"178\\\",\\\"179\\\",\\\"180\\\",\\\"181\\\",\\\"182\\\",\\\"183\\\",\\\"184\\\",\\\"185\\\",\\\"186\\\",\\\"187\\\",\\\"188\\\",\\\"189\\\",\\\"190\\\",\\\"191\\\",\\\"192\\\",\\\"193\\\",\\\"194\\\",\\\"195\\\",\\\"196\\\",\\\"197\\\",\\\"198\\\",\\\"199\\\",\\\"200\\\",\\\"201\\\",\\\"202\\\",\\\"203\\\",\\\"204\\\",\\\"205\\\",\\\"206\\\",\\\"207\\\",\\\"208\\\",\\\"209\\\",\\\"210\\\",\\\"211\\\",\\\"212\\\",\\\"213\\\",\\\"214\\\",\\\"215\\\",\\\"216\\\",\\\"217\\\",\\\"218\\\",\\\"219\\\",\\\"220\\\",\\\"221\\\",\\\"222\\\",\\\"223\\\",\\\"224\\\",\\\"225\\\",\\\"226\\\",\\\"227\\\",\\\"228\\\",\\\"229\\\",\\\"230\\\",\\\"231\\\",\\\"232\\\",\\\"233\\\",\\\"234\\\",\\\"235\\\",\\\"236\\\",\\\"237\\\",\\\"238\\\",\\\"239\\\",\\\"240\\\",\\\"241\\\",\\\"242\\\",\\\"243\\\",\\\"244\\\",\\\"245\\\",\\\"246\\\",\\\"247\\\",\\\"248\\\",\\\"249\\\",\\\"250\\\",\\\"251\\\",\\\"252\\\",\\\"253\\\",\\\"254\\\",\\\"255\\\"],\\\"changes\\\":WebIO.getval({\\\"name\\\":\\\"changes\\\",\\\"scope\\\":\\\"4872108528355104066\\\",\\\"id\\\":\\\"13829882730145618908\\\",\\\"type\\\":\\\"observable\\\"}),\\\"index\\\":WebIO.getval({\\\"name\\\":\\\"index\\\",\\\"scope\\\":\\\"4872108528355104066\\\",\\\"id\\\":\\\"16419090449198810923\\\",\\\"type\\\":\\\"observable\\\"})};\\n    var self = this;\\n    function AppViewModel() {\\n        for (var key in json_data) {\\n            var el = json_data[key];\\n            this[key] = Array.isArray(el) ? ko.observableArray(el) : ko.observable(el);\\n        }\\n        \\n        [this[\\\"formatted_val\\\"]=ko.computed(    function(){\\n        return this.formatted_vals()[parseInt(this.index())-(0)];\\n    }\\n,this)]\\n        [this[\\\"changes\\\"].subscribe((function (val){!(this.valueFromJulia[\\\"changes\\\"]) ? (WebIO.setval({\\\"name\\\":\\\"changes\\\",\\\"scope\\\":\\\"4872108528355104066\\\",\\\"id\\\":\\\"13829882730145618908\\\",\\\"type\\\":\\\"observable\\\"},val)) : undefined; return this.valueFromJulia[\\\"changes\\\"]=false}),self),this[\\\"index\\\"].subscribe((function (val){!(this.valueFromJulia[\\\"index\\\"]) ? (WebIO.setval({\\\"name\\\":\\\"index\\\",\\\"scope\\\":\\\"4872108528355104066\\\",\\\"id\\\":\\\"16419090449198810923\\\",\\\"type\\\":\\\"observable\\\"},val)) : undefined; return this.valueFromJulia[\\\"index\\\"]=false}),self)]\\n        \\n    }\\n    self.model = new AppViewModel();\\n    self.valueFromJulia = {};\\n    for (var key in json_data) {\\n        self.valueFromJulia[key] = false;\\n    }\\n    ko.applyBindings(self.model, self.dom);\\n}\\n);\\n    (WebIO.importBlock({\\\"data\\\":[{\\\"name\\\":\\\"knockout\\\",\\\"type\\\":\\\"js\\\",\\\"url\\\":\\\"\\/assetserver\\/0fc6d61518197b1bf9b23217e9be1d2e00f2bb14-knockout.js\\\"},{\\\"name\\\":\\\"knockout_punches\\\",\\\"type\\\":\\\"js\\\",\\\"url\\\":\\\"\\/assetserver\\/24c12264eef2b01f723a21985ba5661f5564d7cf-knockout_punches.js\\\"}],\\\"type\\\":\\\"async_block\\\"})).then((imports) => handler.apply(this, imports));\\n}\\n\"],\"observables\":{\"changes\":{\"sync\":false,\"id\":\"13829882730145618908\",\"value\":0},\"index\":{\"sync\":true,\"id\":\"16419090449198810923\",\"value\":127}}},\"children\":[{\"props\":{\"className\":\"interact-flex-row interact-widget\"},\"nodeType\":\"DOM\",\"type\":\"node\",\"instanceArgs\":{\"namespace\":\"html\",\"tag\":\"div\"},\"children\":[{\"props\":{\"className\":\"interact-flex-row-left\"},\"nodeType\":\"DOM\",\"type\":\"node\",\"instanceArgs\":{\"namespace\":\"html\",\"tag\":\"div\"},\"children\":[{\"props\":{\"className\":\"interact \",\"style\":{\"padding\":\"5px 10px 0px 10px\"}},\"nodeType\":\"DOM\",\"type\":\"node\",\"instanceArgs\":{\"namespace\":\"html\",\"tag\":\"label\"},\"children\":[\"green\"]}]},{\"props\":{\"className\":\"interact-flex-row-center\"},\"nodeType\":\"DOM\",\"type\":\"node\",\"instanceArgs\":{\"namespace\":\"html\",\"tag\":\"div\"},\"children\":[{\"props\":{\"max\":255,\"min\":0,\"attributes\":{\"type\":\"range\",\"data-bind\":\"numericValue: index, valueUpdate: 'input', event: {change: function (){this.changes(this.changes()+1)}}\",\"orient\":\"horizontal\"},\"step\":1,\"className\":\"slider slider is-fullwidth\",\"style\":{}},\"nodeType\":\"DOM\",\"type\":\"node\",\"instanceArgs\":{\"namespace\":\"html\",\"tag\":\"input\"},\"children\":[]}]},{\"props\":{\"className\":\"interact-flex-row-right\"},\"nodeType\":\"DOM\",\"type\":\"node\",\"instanceArgs\":{\"namespace\":\"html\",\"tag\":\"div\"},\"children\":[{\"props\":{\"attributes\":{\"data-bind\":\"text: formatted_val\"}},\"nodeType\":\"DOM\",\"type\":\"node\",\"instanceArgs\":{\"namespace\":\"html\",\"tag\":\"p\"},\"children\":[]}]}]}]}]},{\"props\":{\"className\":\"field interact-widget\"},\"nodeType\":\"DOM\",\"type\":\"node\",\"instanceArgs\":{\"namespace\":\"html\",\"tag\":\"div\"},\"children\":[{\"props\":{},\"nodeType\":\"Scope\",\"type\":\"node\",\"instanceArgs\":{\"imports\":{\"data\":[{\"name\":\"knockout\",\"type\":\"js\",\"url\":\"\\/assetserver\\/0fc6d61518197b1bf9b23217e9be1d2e00f2bb14-knockout.js\"},{\"name\":\"knockout_punches\",\"type\":\"js\",\"url\":\"\\/assetserver\\/24c12264eef2b01f723a21985ba5661f5564d7cf-knockout_punches.js\"},{\"name\":null,\"type\":\"js\",\"url\":\"\\/assetserver\\/85de428ae418ad26c1ce7e886d25374b3774afa9-all.js\"},{\"name\":null,\"type\":\"css\",\"url\":\"\\/assetserver\\/2cd8ff31326883094fe5a8ff21182264663b62be-style.css\"},{\"name\":null,\"type\":\"css\",\"url\":\"\\/assetserver\\/741bde2d4bf25f117d0ec4d43164cd1a050cf9de-bulma_confined.min.css\"}],\"type\":\"async_block\"},\"id\":\"10188461417524362923\",\"handlers\":{\"changes\":[\"(function (val){return (val!=this.model[\\\"changes\\\"]()) ? (this.valueFromJulia[\\\"changes\\\"]=true, this.model[\\\"changes\\\"](val)) : undefined})\"],\"index\":[\"(function (val){return (val!=this.model[\\\"index\\\"]()) ? (this.valueFromJulia[\\\"index\\\"]=true, this.model[\\\"index\\\"](val)) : undefined})\"]},\"systemjs_options\":null,\"mount_callbacks\":[\"function () {\\n    var handler = (function (ko, koPunches) {\\n    ko.punches.enableAll();\\n    ko.bindingHandlers.numericValue = {\\n        init: function(element, valueAccessor, allBindings, data, context) {\\n            var stringified = ko.observable(ko.unwrap(valueAccessor()));\\n            stringified.subscribe(function(value) {\\n                var val = parseFloat(value);\\n                if (!isNaN(val)) {\\n                    valueAccessor()(val);\\n                }\\n            });\\n            valueAccessor().subscribe(function(value) {\\n                var str = JSON.stringify(value);\\n                if ((str == \\\"0\\\") && ([\\\"-0\\\", \\\"-0.\\\"].indexOf(stringified()) >= 0))\\n                     return;\\n                 if ([\\\"null\\\", \\\"\\\"].indexOf(str) >= 0)\\n                     return;\\n                stringified(str);\\n            });\\n            ko.applyBindingsToNode(\\n                element,\\n                {\\n                    value: stringified,\\n                    valueUpdate: allBindings.get('valueUpdate'),\\n                },\\n                context,\\n            );\\n        }\\n    };\\n    var json_data = {\\\"formatted_vals\\\":[\\\"0\\\",\\\"1\\\",\\\"2\\\",\\\"3\\\",\\\"4\\\",\\\"5\\\",\\\"6\\\",\\\"7\\\",\\\"8\\\",\\\"9\\\",\\\"10\\\",\\\"11\\\",\\\"12\\\",\\\"13\\\",\\\"14\\\",\\\"15\\\",\\\"16\\\",\\\"17\\\",\\\"18\\\",\\\"19\\\",\\\"20\\\",\\\"21\\\",\\\"22\\\",\\\"23\\\",\\\"24\\\",\\\"25\\\",\\\"26\\\",\\\"27\\\",\\\"28\\\",\\\"29\\\",\\\"30\\\",\\\"31\\\",\\\"32\\\",\\\"33\\\",\\\"34\\\",\\\"35\\\",\\\"36\\\",\\\"37\\\",\\\"38\\\",\\\"39\\\",\\\"40\\\",\\\"41\\\",\\\"42\\\",\\\"43\\\",\\\"44\\\",\\\"45\\\",\\\"46\\\",\\\"47\\\",\\\"48\\\",\\\"49\\\",\\\"50\\\",\\\"51\\\",\\\"52\\\",\\\"53\\\",\\\"54\\\",\\\"55\\\",\\\"56\\\",\\\"57\\\",\\\"58\\\",\\\"59\\\",\\\"60\\\",\\\"61\\\",\\\"62\\\",\\\"63\\\",\\\"64\\\",\\\"65\\\",\\\"66\\\",\\\"67\\\",\\\"68\\\",\\\"69\\\",\\\"70\\\",\\\"71\\\",\\\"72\\\",\\\"73\\\",\\\"74\\\",\\\"75\\\",\\\"76\\\",\\\"77\\\",\\\"78\\\",\\\"79\\\",\\\"80\\\",\\\"81\\\",\\\"82\\\",\\\"83\\\",\\\"84\\\",\\\"85\\\",\\\"86\\\",\\\"87\\\",\\\"88\\\",\\\"89\\\",\\\"90\\\",\\\"91\\\",\\\"92\\\",\\\"93\\\",\\\"94\\\",\\\"95\\\",\\\"96\\\",\\\"97\\\",\\\"98\\\",\\\"99\\\",\\\"100\\\",\\\"101\\\",\\\"102\\\",\\\"103\\\",\\\"104\\\",\\\"105\\\",\\\"106\\\",\\\"107\\\",\\\"108\\\",\\\"109\\\",\\\"110\\\",\\\"111\\\",\\\"112\\\",\\\"113\\\",\\\"114\\\",\\\"115\\\",\\\"116\\\",\\\"117\\\",\\\"118\\\",\\\"119\\\",\\\"120\\\",\\\"121\\\",\\\"122\\\",\\\"123\\\",\\\"124\\\",\\\"125\\\",\\\"126\\\",\\\"127\\\",\\\"128\\\",\\\"129\\\",\\\"130\\\",\\\"131\\\",\\\"132\\\",\\\"133\\\",\\\"134\\\",\\\"135\\\",\\\"136\\\",\\\"137\\\",\\\"138\\\",\\\"139\\\",\\\"140\\\",\\\"141\\\",\\\"142\\\",\\\"143\\\",\\\"144\\\",\\\"145\\\",\\\"146\\\",\\\"147\\\",\\\"148\\\",\\\"149\\\",\\\"150\\\",\\\"151\\\",\\\"152\\\",\\\"153\\\",\\\"154\\\",\\\"155\\\",\\\"156\\\",\\\"157\\\",\\\"158\\\",\\\"159\\\",\\\"160\\\",\\\"161\\\",\\\"162\\\",\\\"163\\\",\\\"164\\\",\\\"165\\\",\\\"166\\\",\\\"167\\\",\\\"168\\\",\\\"169\\\",\\\"170\\\",\\\"171\\\",\\\"172\\\",\\\"173\\\",\\\"174\\\",\\\"175\\\",\\\"176\\\",\\\"177\\\",\\\"178\\\",\\\"179\\\",\\\"180\\\",\\\"181\\\",\\\"182\\\",\\\"183\\\",\\\"184\\\",\\\"185\\\",\\\"186\\\",\\\"187\\\",\\\"188\\\",\\\"189\\\",\\\"190\\\",\\\"191\\\",\\\"192\\\",\\\"193\\\",\\\"194\\\",\\\"195\\\",\\\"196\\\",\\\"197\\\",\\\"198\\\",\\\"199\\\",\\\"200\\\",\\\"201\\\",\\\"202\\\",\\\"203\\\",\\\"204\\\",\\\"205\\\",\\\"206\\\",\\\"207\\\",\\\"208\\\",\\\"209\\\",\\\"210\\\",\\\"211\\\",\\\"212\\\",\\\"213\\\",\\\"214\\\",\\\"215\\\",\\\"216\\\",\\\"217\\\",\\\"218\\\",\\\"219\\\",\\\"220\\\",\\\"221\\\",\\\"222\\\",\\\"223\\\",\\\"224\\\",\\\"225\\\",\\\"226\\\",\\\"227\\\",\\\"228\\\",\\\"229\\\",\\\"230\\\",\\\"231\\\",\\\"232\\\",\\\"233\\\",\\\"234\\\",\\\"235\\\",\\\"236\\\",\\\"237\\\",\\\"238\\\",\\\"239\\\",\\\"240\\\",\\\"241\\\",\\\"242\\\",\\\"243\\\",\\\"244\\\",\\\"245\\\",\\\"246\\\",\\\"247\\\",\\\"248\\\",\\\"249\\\",\\\"250\\\",\\\"251\\\",\\\"252\\\",\\\"253\\\",\\\"254\\\",\\\"255\\\"],\\\"changes\\\":WebIO.getval({\\\"name\\\":\\\"changes\\\",\\\"scope\\\":\\\"10188461417524362923\\\",\\\"id\\\":\\\"8743460221633634368\\\",\\\"type\\\":\\\"observable\\\"}),\\\"index\\\":WebIO.getval({\\\"name\\\":\\\"index\\\",\\\"scope\\\":\\\"10188461417524362923\\\",\\\"id\\\":\\\"12104034762360975654\\\",\\\"type\\\":\\\"observable\\\"})};\\n    var self = this;\\n    function AppViewModel() {\\n        for (var key in json_data) {\\n            var el = json_data[key];\\n            this[key] = Array.isArray(el) ? ko.observableArray(el) : ko.observable(el);\\n        }\\n        \\n        [this[\\\"formatted_val\\\"]=ko.computed(    function(){\\n        return this.formatted_vals()[parseInt(this.index())-(0)];\\n    }\\n,this)]\\n        [this[\\\"changes\\\"].subscribe((function (val){!(this.valueFromJulia[\\\"changes\\\"]) ? (WebIO.setval({\\\"name\\\":\\\"changes\\\",\\\"scope\\\":\\\"10188461417524362923\\\",\\\"id\\\":\\\"8743460221633634368\\\",\\\"type\\\":\\\"observable\\\"},val)) : undefined; return this.valueFromJulia[\\\"changes\\\"]=false}),self),this[\\\"index\\\"].subscribe((function (val){!(this.valueFromJulia[\\\"index\\\"]) ? (WebIO.setval({\\\"name\\\":\\\"index\\\",\\\"scope\\\":\\\"10188461417524362923\\\",\\\"id\\\":\\\"12104034762360975654\\\",\\\"type\\\":\\\"observable\\\"},val)) : undefined; return this.valueFromJulia[\\\"index\\\"]=false}),self)]\\n        \\n    }\\n    self.model = new AppViewModel();\\n    self.valueFromJulia = {};\\n    for (var key in json_data) {\\n        self.valueFromJulia[key] = false;\\n    }\\n    ko.applyBindings(self.model, self.dom);\\n}\\n);\\n    (WebIO.importBlock({\\\"data\\\":[{\\\"name\\\":\\\"knockout\\\",\\\"type\\\":\\\"js\\\",\\\"url\\\":\\\"\\/assetserver\\/0fc6d61518197b1bf9b23217e9be1d2e00f2bb14-knockout.js\\\"},{\\\"name\\\":\\\"knockout_punches\\\",\\\"type\\\":\\\"js\\\",\\\"url\\\":\\\"\\/assetserver\\/24c12264eef2b01f723a21985ba5661f5564d7cf-knockout_punches.js\\\"}],\\\"type\\\":\\\"async_block\\\"})).then((imports) => handler.apply(this, imports));\\n}\\n\"],\"observables\":{\"changes\":{\"sync\":false,\"id\":\"8743460221633634368\",\"value\":0},\"index\":{\"sync\":true,\"id\":\"12104034762360975654\",\"value\":127}}},\"children\":[{\"props\":{\"className\":\"interact-flex-row interact-widget\"},\"nodeType\":\"DOM\",\"type\":\"node\",\"instanceArgs\":{\"namespace\":\"html\",\"tag\":\"div\"},\"children\":[{\"props\":{\"className\":\"interact-flex-row-left\"},\"nodeType\":\"DOM\",\"type\":\"node\",\"instanceArgs\":{\"namespace\":\"html\",\"tag\":\"div\"},\"children\":[{\"props\":{\"className\":\"interact \",\"style\":{\"padding\":\"5px 10px 0px 10px\"}},\"nodeType\":\"DOM\",\"type\":\"node\",\"instanceArgs\":{\"namespace\":\"html\",\"tag\":\"label\"},\"children\":[\"blue\"]}]},{\"props\":{\"className\":\"interact-flex-row-center\"},\"nodeType\":\"DOM\",\"type\":\"node\",\"instanceArgs\":{\"namespace\":\"html\",\"tag\":\"div\"},\"children\":[{\"props\":{\"max\":255,\"min\":0,\"attributes\":{\"type\":\"range\",\"data-bind\":\"numericValue: index, valueUpdate: 'input', event: {change: function (){this.changes(this.changes()+1)}}\",\"orient\":\"horizontal\"},\"step\":1,\"className\":\"slider slider is-fullwidth\",\"style\":{}},\"nodeType\":\"DOM\",\"type\":\"node\",\"instanceArgs\":{\"namespace\":\"html\",\"tag\":\"input\"},\"children\":[]}]},{\"props\":{\"className\":\"interact-flex-row-right\"},\"nodeType\":\"DOM\",\"type\":\"node\",\"instanceArgs\":{\"namespace\":\"html\",\"tag\":\"div\"},\"children\":[{\"props\":{\"attributes\":{\"data-bind\":\"text: formatted_val\"}},\"nodeType\":\"DOM\",\"type\":\"node\",\"instanceArgs\":{\"namespace\":\"html\",\"tag\":\"p\"},\"children\":[]}]}]}]}]}]}]},\n",
       "            window,\n",
       "        );\n",
       "    } else {\n",
       "        document\n",
       "            .querySelector('[data-webio-mountpoint=\"6755795840268751974\"]')\n",
       "            .innerHTML = (\n",
       "                '<div style=\"padding: 1em; background-color: #f8d6da; border: 1px solid #f5c6cb\">' +\n",
       "                '<p><strong>WebIO not detected.</strong></p>' +\n",
       "                '<p>Please read ' +\n",
       "                '<a href=\"https://juliagizmos.github.io/WebIO.jl/latest/troubleshooting/not-detected/\" target=\"_blank\">the troubleshooting guide</a> ' +\n",
       "                'for more information on how to resolve this issue.</p>' +\n",
       "                '<p><a href=\"https://juliagizmos.github.io/WebIO.jl/latest/troubleshooting/not-detected/\" target=\"_blank\">https://juliagizmos.github.io/WebIO.jl/latest/troubleshooting/not-detected/</a></p>' +\n",
       "                '</div>'\n",
       "            );\n",
       "    }\n",
       "    </script>\n",
       "</div>\n"
      ],
      "text/plain": [
       "Node{WebIO.DOM}(WebIO.DOM(:html, :div), Any[Observable{Any} with 0 listeners. Value:\n",
       "Plot{Plots.GRBackend() n=1}, Node{WebIO.DOM}(WebIO.DOM(:html, :div), Any[Node{WebIO.DOM}(WebIO.DOM(:html, :div), Any[Scope(Node{WebIO.DOM}(WebIO.DOM(:html, :div), Any[Node{WebIO.DOM}(WebIO.DOM(:html, :div), Any[Node{WebIO.DOM}(WebIO.DOM(:html, :label), Any[\"red\"], Dict{Symbol, Any}(:className => \"interact \", :style => Dict{Any, Any}(:padding => \"5px 10px 0px 10px\")))], Dict{Symbol, Any}(:className => \"interact-flex-row-left\")), Node{WebIO.DOM}(WebIO.DOM(:html, :div), Any[Node{WebIO.DOM}(WebIO.DOM(:html, :input), Any[], Dict{Symbol, Any}(:max => 255, :min => 0, :attributes => Dict{Any, Any}(:type => \"range\", Symbol(\"data-bind\") => \"numericValue: index, valueUpdate: 'input', event: {change: function (){this.changes(this.changes()+1)}}\", \"orient\" => \"horizontal\"), :step => 1, :className => \"slider slider is-fullwidth\", :style => Dict{Any, Any}()))], Dict{Symbol, Any}(:className => \"interact-flex-row-center\")), Node{WebIO.DOM}(WebIO.DOM(:html, :div), Any[Node{WebIO.DOM}(WebIO.DOM(:html, :p), Any[], Dict{Symbol, Any}(:attributes => Dict(\"data-bind\" => \"text: formatted_val\")))], Dict{Symbol, Any}(:className => \"interact-flex-row-right\"))], Dict{Symbol, Any}(:className => \"interact-flex-row interact-widget\")), Dict{String, Tuple{Observables.AbstractObservable, Union{Nothing, Bool}}}(\"changes\" => (Observable{Int64} with 1 listeners. Value:\n",
       "0, nothing), \"index\" => (Observable{Int64} with 2 listeners. Value:\n",
       "127, nothing)), Set{String}(), nothing, Asset[Asset(\"js\", \"knockout\", \"/Users/johnsmith/.julia/packages/Knockout/IP1uR/src/../assets/knockout.js\"), Asset(\"js\", \"knockout_punches\", \"/Users/johnsmith/.julia/packages/Knockout/IP1uR/src/../assets/knockout_punches.js\"), Asset(\"js\", nothing, \"/Users/johnsmith/.julia/packages/InteractBase/Zfu5P/src/../assets/all.js\"), Asset(\"css\", nothing, \"/Users/johnsmith/.julia/packages/InteractBase/Zfu5P/src/../assets/style.css\"), Asset(\"css\", nothing, \"/Users/johnsmith/.julia/packages/Interact/SbgIk/src/../assets/bulma_confined.min.css\")], Dict{Any, Any}(\"changes\" => Any[WebIO.JSString(\"(function (val){return (val!=this.model[\\\"changes\\\"]()) ? (this.valueFromJulia[\\\"changes\\\"]=true, this.model[\\\"changes\\\"](val)) : undefined})\")], \"index\" => Any[WebIO.JSString(\"(function (val){return (val!=this.model[\\\"index\\\"]()) ? (this.valueFromJulia[\\\"index\\\"]=true, this.model[\\\"index\\\"](val)) : undefined})\")]), WebIO.ConnectionPool(Channel{Any}(32), Set{AbstractConnection}(), Condition(Base.InvasiveLinkedList{Task}(Task (runnable) @0x0000000111423860, Task (runnable) @0x0000000111423860), Base.AlwaysLockedST(1))), WebIO.JSString[WebIO.JSString(\"function () {\\n    var handler = (function (ko, koPunches) {\\n    ko.punches.enableAll();\\n    ko.bindingHandlers.numericValue = {\\n        init: function(element, valueAccessor, allBindings, data, context) {\\n            var stringified = ko.observable(ko.unwrap(valueAccessor()));\\n            stringified.subscribe(function(value) {\\n                var val = parseFloat(value);\\n                if (!isNaN(val)) {\\n                    valueAccessor()(val);\\n                }\\n            });\\n            valueAccessor().subscribe(function(value) {\\n                var str = JSON.stringify(value);\\n                if ((str == \\\"0\\\") && ([\\\"-0\\\", \\\"-0.\\\"].indexOf(stringified()) >= 0))\\n                     return;\\n                 if ([\\\"null\\\", \\\"\\\"].indexOf(str) >= 0)\\n                     return;\\n                stringified(str);\\n            });\\n            ko.applyBindingsToNode(\\n                element,\\n                {\\n                    value: stringified,\\n                    valueUpdate: allBindings.get('valueUpdate'),\\n                },\\n                context,\\n            );\\n        }\\n    };\\n    var json_data = {\\\"formatted_vals\\\":[\\\"0\\\",\\\"1\\\",\\\"2\\\",\\\"3\\\",\\\"4\\\",\\\"5\\\",\\\"6\\\",\\\"7\\\",\\\"8\\\",\\\"9\\\",\\\"10\\\",\\\"11\\\",\\\"12\\\",\\\"13\\\",\\\"14\\\",\\\"15\\\",\\\"16\\\",\\\"17\\\",\\\"18\\\",\\\"19\\\",\\\"20\\\",\\\"21\\\",\\\"22\\\",\\\"23\\\",\\\"24\\\",\\\"25\\\",\\\"26\\\",\\\"27\\\",\\\"28\\\",\\\"29\\\",\\\"30\\\",\\\"31\\\",\\\"32\\\",\\\"33\\\",\\\"34\\\",\\\"35\\\",\\\"36\\\",\\\"37\\\",\\\"38\\\",\\\"39\\\",\\\"40\\\",\\\"41\\\",\\\"42\\\",\\\"43\\\",\\\"44\\\",\\\"45\\\",\\\"46\\\",\\\"47\\\",\\\"48\\\",\\\"49\\\",\\\"50\\\",\\\"51\\\",\\\"52\\\",\\\"53\\\",\\\"54\\\",\\\"55\\\",\\\"56\\\",\\\"57\\\",\\\"58\\\",\\\"59\\\",\\\"60\\\",\\\"61\\\",\\\"62\\\",\\\"63\\\",\\\"64\\\",\\\"65\\\",\\\"66\\\",\\\"67\\\",\\\"68\\\",\\\"69\\\",\\\"70\\\",\\\"71\\\",\\\"72\\\",\\\"73\\\",\\\"74\\\",\\\"75\\\",\\\"76\\\",\\\"77\\\",\\\"78\\\",\\\"79\\\",\\\"80\\\",\\\"81\\\",\\\"82\\\",\\\"83\\\",\\\"84\\\",\\\"85\\\",\\\"86\\\",\\\"87\\\",\\\"88\\\",\\\"89\\\",\\\"90\\\",\\\"91\\\",\\\"92\\\",\\\"93\\\",\\\"94\\\",\\\"95\\\",\\\"96\\\",\\\"97\\\",\\\"98\\\",\\\"99\\\",\\\"100\\\",\\\"101\\\",\\\"102\\\",\\\"103\\\",\\\"104\\\",\\\"105\\\",\\\"106\\\",\\\"107\\\",\\\"108\\\",\\\"109\\\",\\\"110\\\",\\\"111\\\",\\\"112\\\",\\\"113\\\",\\\"114\\\",\\\"115\\\",\\\"116\\\",\\\"117\\\",\\\"118\\\",\\\"119\\\",\\\"120\\\",\\\"121\\\",\\\"122\\\",\\\"123\\\",\\\"124\\\",\\\"125\\\",\\\"126\\\",\\\"127\\\",\\\"128\\\",\\\"129\\\",\\\"130\\\",\\\"131\\\",\\\"132\\\",\\\"133\\\",\\\"134\\\",\\\"135\\\",\\\"136\\\",\\\"137\\\",\\\"138\\\",\\\"139\\\",\\\"140\\\",\\\"141\\\",\\\"142\\\",\\\"143\\\",\\\"144\\\",\\\"145\\\",\\\"146\\\",\\\"147\\\",\\\"148\\\",\\\"149\\\",\\\"150\\\",\\\"151\\\",\\\"152\\\",\\\"153\\\",\\\"154\\\",\\\"155\\\",\\\"156\\\",\\\"157\\\",\\\"158\\\",\\\"159\\\",\\\"160\\\",\\\"161\\\",\\\"162\\\",\\\"163\\\",\\\"164\\\",\\\"165\\\",\\\"166\\\",\\\"167\\\",\\\"168\\\",\\\"169\\\",\\\"170\\\",\\\"171\\\",\\\"172\\\",\\\"173\\\",\\\"174\\\",\\\"175\\\",\\\"176\\\",\\\"177\\\",\\\"178\\\",\\\"179\\\",\\\"180\\\",\\\"181\\\",\\\"182\\\",\\\"183\\\",\\\"184\\\",\\\"185\\\",\\\"186\\\",\\\"187\\\",\\\"188\\\",\\\"189\\\",\\\"190\\\",\\\"191\\\",\\\"192\\\",\\\"193\\\",\\\"194\\\",\\\"195\\\",\\\"196\\\",\\\"197\\\",\\\"198\\\",\\\"199\\\",\\\"200\\\",\\\"201\\\",\\\"202\\\",\\\"203\\\",\\\"204\\\",\\\"205\\\",\\\"206\\\",\\\"207\\\",\\\"208\\\",\\\"209\\\",\\\"210\\\",\\\"211\\\",\\\"212\\\",\\\"213\\\",\\\"214\\\",\\\"215\\\",\\\"216\\\",\\\"217\\\",\\\"218\\\",\\\"219\\\",\\\"220\\\",\\\"221\\\",\\\"222\\\",\\\"223\\\",\\\"224\\\",\\\"225\\\",\\\"226\\\",\\\"227\\\",\\\"228\\\",\\\"229\\\",\\\"230\\\",\\\"231\\\",\\\"232\\\",\\\"233\\\",\\\"234\\\",\\\"235\\\",\\\"236\\\",\\\"237\\\",\\\"238\\\",\\\"239\\\",\\\"240\\\",\\\"241\\\",\\\"242\\\",\\\"243\\\",\\\"244\\\",\\\"245\\\",\\\"246\\\",\\\"247\\\",\\\"248\\\",\\\"249\\\",\\\"250\\\",\\\"251\\\",\\\"252\\\",\\\"253\\\",\\\"254\\\",\\\"255\\\"],\\\"changes\\\":WebIO.getval({\\\"name\\\":\\\"changes\\\",\\\"scope\\\":\\\"4999064785271387892\\\",\\\"id\\\":\\\"3921668199743625829\\\",\\\"type\\\":\\\"observable\\\"}),\\\"index\\\":WebIO.getval({\\\"name\\\":\\\"index\\\",\\\"scope\\\":\\\"4999064785271387892\\\",\\\"id\\\":\\\"9487380291017563081\\\",\\\"type\\\":\\\"observable\\\"})};\\n    var self = this;\\n    function AppViewModel() {\\n        for (var key in json_data) {\\n            var el = json_data[key];\\n            this[key] = Array.isArray(el) ? ko.observableArray(el) : ko.observable(el);\\n        }\\n        \\n        [this[\\\"formatted_val\\\"]=ko.computed(    function(){\\n        return this.formatted_vals()[parseInt(this.index())-(0)];\\n    }\\n,this)]\\n        [this[\\\"changes\\\"].subscribe((function (val){!(this.valueFromJulia[\\\"changes\\\"]) ? (WebIO.setval({\\\"name\\\":\\\"changes\\\",\\\"scope\\\":\\\"4999064785271387892\\\",\\\"id\\\":\\\"3921668199743625829\\\",\\\"type\\\":\\\"observable\\\"},val)) : undefined; return this.valueFromJulia[\\\"changes\\\"]=false}),self),this[\\\"index\\\"].subscribe((function (val){!(this.valueFromJulia[\\\"index\\\"]) ? (WebIO.setval({\\\"name\\\":\\\"index\\\",\\\"scope\\\":\\\"4999064785271387892\\\",\\\"id\\\":\\\"9487380291017563081\\\",\\\"type\\\":\\\"observable\\\"},val)) : undefined; return this.valueFromJulia[\\\"index\\\"]=false}),self)]\\n        \\n    }\\n    self.model = new AppViewModel();\\n    self.valueFromJulia = {};\\n    for (var key in json_data) {\\n        self.valueFromJulia[key] = false;\\n    }\\n    ko.applyBindings(self.model, self.dom);\\n}\\n);\\n    (WebIO.importBlock({\\\"data\\\":[{\\\"name\\\":\\\"knockout\\\",\\\"type\\\":\\\"js\\\",\\\"url\\\":\\\"/assetserver/0fc6d61518197b1bf9b23217e9be1d2e00f2bb14-knockout.js\\\"},{\\\"name\\\":\\\"knockout_punches\\\",\\\"type\\\":\\\"js\\\",\\\"url\\\":\\\"/assetserver/24c12264eef2b01f723a21985ba5661f5564d7cf-knockout_punches.js\\\"}],\\\"type\\\":\\\"async_block\\\"})).then((imports) => handler.apply(this, imports));\\n}\\n\")])], Dict{Symbol, Any}(:className => \"field interact-widget\")), Node{WebIO.DOM}(WebIO.DOM(:html, :div), Any[Scope(Node{WebIO.DOM}(WebIO.DOM(:html, :div), Any[Node{WebIO.DOM}(WebIO.DOM(:html, :div), Any[Node{WebIO.DOM}(WebIO.DOM(:html, :label), Any[\"green\"], Dict{Symbol, Any}(:className => \"interact \", :style => Dict{Any, Any}(:padding => \"5px 10px 0px 10px\")))], Dict{Symbol, Any}(:className => \"interact-flex-row-left\")), Node{WebIO.DOM}(WebIO.DOM(:html, :div), Any[Node{WebIO.DOM}(WebIO.DOM(:html, :input), Any[], Dict{Symbol, Any}(:max => 255, :min => 0, :attributes => Dict{Any, Any}(:type => \"range\", Symbol(\"data-bind\") => \"numericValue: index, valueUpdate: 'input', event: {change: function (){this.changes(this.changes()+1)}}\", \"orient\" => \"horizontal\"), :step => 1, :className => \"slider slider is-fullwidth\", :style => Dict{Any, Any}()))], Dict{Symbol, Any}(:className => \"interact-flex-row-center\")), Node{WebIO.DOM}(WebIO.DOM(:html, :div), Any[Node{WebIO.DOM}(WebIO.DOM(:html, :p), Any[], Dict{Symbol, Any}(:attributes => Dict(\"data-bind\" => \"text: formatted_val\")))], Dict{Symbol, Any}(:className => \"interact-flex-row-right\"))], Dict{Symbol, Any}(:className => \"interact-flex-row interact-widget\")), Dict{String, Tuple{Observables.AbstractObservable, Union{Nothing, Bool}}}(\"changes\" => (Observable{Int64} with 1 listeners. Value:\n",
       "0, nothing), \"index\" => (Observable{Int64} with 2 listeners. Value:\n",
       "127, nothing)), Set{String}(), nothing, Asset[Asset(\"js\", \"knockout\", \"/Users/johnsmith/.julia/packages/Knockout/IP1uR/src/../assets/knockout.js\"), Asset(\"js\", \"knockout_punches\", \"/Users/johnsmith/.julia/packages/Knockout/IP1uR/src/../assets/knockout_punches.js\"), Asset(\"js\", nothing, \"/Users/johnsmith/.julia/packages/InteractBase/Zfu5P/src/../assets/all.js\"), Asset(\"css\", nothing, \"/Users/johnsmith/.julia/packages/InteractBase/Zfu5P/src/../assets/style.css\"), Asset(\"css\", nothing, \"/Users/johnsmith/.julia/packages/Interact/SbgIk/src/../assets/bulma_confined.min.css\")], Dict{Any, Any}(\"changes\" => Any[WebIO.JSString(\"(function (val){return (val!=this.model[\\\"changes\\\"]()) ? (this.valueFromJulia[\\\"changes\\\"]=true, this.model[\\\"changes\\\"](val)) : undefined})\")], \"index\" => Any[WebIO.JSString(\"(function (val){return (val!=this.model[\\\"index\\\"]()) ? (this.valueFromJulia[\\\"index\\\"]=true, this.model[\\\"index\\\"](val)) : undefined})\")]), WebIO.ConnectionPool(Channel{Any}(32), Set{AbstractConnection}(), Condition(Base.InvasiveLinkedList{Task}(Task (runnable) @0x0000000111423a80, Task (runnable) @0x0000000111423a80), Base.AlwaysLockedST(1))), WebIO.JSString[WebIO.JSString(\"function () {\\n    var handler = (function (ko, koPunches) {\\n    ko.punches.enableAll();\\n    ko.bindingHandlers.numericValue = {\\n        init: function(element, valueAccessor, allBindings, data, context) {\\n            var stringified = ko.observable(ko.unwrap(valueAccessor()));\\n            stringified.subscribe(function(value) {\\n                var val = parseFloat(value);\\n                if (!isNaN(val)) {\\n                    valueAccessor()(val);\\n                }\\n            });\\n            valueAccessor().subscribe(function(value) {\\n                var str = JSON.stringify(value);\\n                if ((str == \\\"0\\\") && ([\\\"-0\\\", \\\"-0.\\\"].indexOf(stringified()) >= 0))\\n                     return;\\n                 if ([\\\"null\\\", \\\"\\\"].indexOf(str) >= 0)\\n                     return;\\n                stringified(str);\\n            });\\n            ko.applyBindingsToNode(\\n                element,\\n                {\\n                    value: stringified,\\n                    valueUpdate: allBindings.get('valueUpdate'),\\n                },\\n                context,\\n            );\\n        }\\n    };\\n    var json_data = {\\\"formatted_vals\\\":[\\\"0\\\",\\\"1\\\",\\\"2\\\",\\\"3\\\",\\\"4\\\",\\\"5\\\",\\\"6\\\",\\\"7\\\",\\\"8\\\",\\\"9\\\",\\\"10\\\",\\\"11\\\",\\\"12\\\",\\\"13\\\",\\\"14\\\",\\\"15\\\",\\\"16\\\",\\\"17\\\",\\\"18\\\",\\\"19\\\",\\\"20\\\",\\\"21\\\",\\\"22\\\",\\\"23\\\",\\\"24\\\",\\\"25\\\",\\\"26\\\",\\\"27\\\",\\\"28\\\",\\\"29\\\",\\\"30\\\",\\\"31\\\",\\\"32\\\",\\\"33\\\",\\\"34\\\",\\\"35\\\",\\\"36\\\",\\\"37\\\",\\\"38\\\",\\\"39\\\",\\\"40\\\",\\\"41\\\",\\\"42\\\",\\\"43\\\",\\\"44\\\",\\\"45\\\",\\\"46\\\",\\\"47\\\",\\\"48\\\",\\\"49\\\",\\\"50\\\",\\\"51\\\",\\\"52\\\",\\\"53\\\",\\\"54\\\",\\\"55\\\",\\\"56\\\",\\\"57\\\",\\\"58\\\",\\\"59\\\",\\\"60\\\",\\\"61\\\",\\\"62\\\",\\\"63\\\",\\\"64\\\",\\\"65\\\",\\\"66\\\",\\\"67\\\",\\\"68\\\",\\\"69\\\",\\\"70\\\",\\\"71\\\",\\\"72\\\",\\\"73\\\",\\\"74\\\",\\\"75\\\",\\\"76\\\",\\\"77\\\",\\\"78\\\",\\\"79\\\",\\\"80\\\",\\\"81\\\",\\\"82\\\",\\\"83\\\",\\\"84\\\",\\\"85\\\",\\\"86\\\",\\\"87\\\",\\\"88\\\",\\\"89\\\",\\\"90\\\",\\\"91\\\",\\\"92\\\",\\\"93\\\",\\\"94\\\",\\\"95\\\",\\\"96\\\",\\\"97\\\",\\\"98\\\",\\\"99\\\",\\\"100\\\",\\\"101\\\",\\\"102\\\",\\\"103\\\",\\\"104\\\",\\\"105\\\",\\\"106\\\",\\\"107\\\",\\\"108\\\",\\\"109\\\",\\\"110\\\",\\\"111\\\",\\\"112\\\",\\\"113\\\",\\\"114\\\",\\\"115\\\",\\\"116\\\",\\\"117\\\",\\\"118\\\",\\\"119\\\",\\\"120\\\",\\\"121\\\",\\\"122\\\",\\\"123\\\",\\\"124\\\",\\\"125\\\",\\\"126\\\",\\\"127\\\",\\\"128\\\",\\\"129\\\",\\\"130\\\",\\\"131\\\",\\\"132\\\",\\\"133\\\",\\\"134\\\",\\\"135\\\",\\\"136\\\",\\\"137\\\",\\\"138\\\",\\\"139\\\",\\\"140\\\",\\\"141\\\",\\\"142\\\",\\\"143\\\",\\\"144\\\",\\\"145\\\",\\\"146\\\",\\\"147\\\",\\\"148\\\",\\\"149\\\",\\\"150\\\",\\\"151\\\",\\\"152\\\",\\\"153\\\",\\\"154\\\",\\\"155\\\",\\\"156\\\",\\\"157\\\",\\\"158\\\",\\\"159\\\",\\\"160\\\",\\\"161\\\",\\\"162\\\",\\\"163\\\",\\\"164\\\",\\\"165\\\",\\\"166\\\",\\\"167\\\",\\\"168\\\",\\\"169\\\",\\\"170\\\",\\\"171\\\",\\\"172\\\",\\\"173\\\",\\\"174\\\",\\\"175\\\",\\\"176\\\",\\\"177\\\",\\\"178\\\",\\\"179\\\",\\\"180\\\",\\\"181\\\",\\\"182\\\",\\\"183\\\",\\\"184\\\",\\\"185\\\",\\\"186\\\",\\\"187\\\",\\\"188\\\",\\\"189\\\",\\\"190\\\",\\\"191\\\",\\\"192\\\",\\\"193\\\",\\\"194\\\",\\\"195\\\",\\\"196\\\",\\\"197\\\",\\\"198\\\",\\\"199\\\",\\\"200\\\",\\\"201\\\",\\\"202\\\",\\\"203\\\",\\\"204\\\",\\\"205\\\",\\\"206\\\",\\\"207\\\",\\\"208\\\",\\\"209\\\",\\\"210\\\",\\\"211\\\",\\\"212\\\",\\\"213\\\",\\\"214\\\",\\\"215\\\",\\\"216\\\",\\\"217\\\",\\\"218\\\",\\\"219\\\",\\\"220\\\",\\\"221\\\",\\\"222\\\",\\\"223\\\",\\\"224\\\",\\\"225\\\",\\\"226\\\",\\\"227\\\",\\\"228\\\",\\\"229\\\",\\\"230\\\",\\\"231\\\",\\\"232\\\",\\\"233\\\",\\\"234\\\",\\\"235\\\",\\\"236\\\",\\\"237\\\",\\\"238\\\",\\\"239\\\",\\\"240\\\",\\\"241\\\",\\\"242\\\",\\\"243\\\",\\\"244\\\",\\\"245\\\",\\\"246\\\",\\\"247\\\",\\\"248\\\",\\\"249\\\",\\\"250\\\",\\\"251\\\",\\\"252\\\",\\\"253\\\",\\\"254\\\",\\\"255\\\"],\\\"changes\\\":WebIO.getval({\\\"name\\\":\\\"changes\\\",\\\"scope\\\":\\\"4872108528355104066\\\",\\\"id\\\":\\\"13829882730145618908\\\",\\\"type\\\":\\\"observable\\\"}),\\\"index\\\":WebIO.getval({\\\"name\\\":\\\"index\\\",\\\"scope\\\":\\\"4872108528355104066\\\",\\\"id\\\":\\\"16419090449198810923\\\",\\\"type\\\":\\\"observable\\\"})};\\n    var self = this;\\n    function AppViewModel() {\\n        for (var key in json_data) {\\n            var el = json_data[key];\\n            this[key] = Array.isArray(el) ? ko.observableArray(el) : ko.observable(el);\\n        }\\n        \\n        [this[\\\"formatted_val\\\"]=ko.computed(    function(){\\n        return this.formatted_vals()[parseInt(this.index())-(0)];\\n    }\\n,this)]\\n        [this[\\\"changes\\\"].subscribe((function (val){!(this.valueFromJulia[\\\"changes\\\"]) ? (WebIO.setval({\\\"name\\\":\\\"changes\\\",\\\"scope\\\":\\\"4872108528355104066\\\",\\\"id\\\":\\\"13829882730145618908\\\",\\\"type\\\":\\\"observable\\\"},val)) : undefined; return this.valueFromJulia[\\\"changes\\\"]=false}),self),this[\\\"index\\\"].subscribe((function (val){!(this.valueFromJulia[\\\"index\\\"]) ? (WebIO.setval({\\\"name\\\":\\\"index\\\",\\\"scope\\\":\\\"4872108528355104066\\\",\\\"id\\\":\\\"16419090449198810923\\\",\\\"type\\\":\\\"observable\\\"},val)) : undefined; return this.valueFromJulia[\\\"index\\\"]=false}),self)]\\n        \\n    }\\n    self.model = new AppViewModel();\\n    self.valueFromJulia = {};\\n    for (var key in json_data) {\\n        self.valueFromJulia[key] = false;\\n    }\\n    ko.applyBindings(self.model, self.dom);\\n}\\n);\\n    (WebIO.importBlock({\\\"data\\\":[{\\\"name\\\":\\\"knockout\\\",\\\"type\\\":\\\"js\\\",\\\"url\\\":\\\"/assetserver/0fc6d61518197b1bf9b23217e9be1d2e00f2bb14-knockout.js\\\"},{\\\"name\\\":\\\"knockout_punches\\\",\\\"type\\\":\\\"js\\\",\\\"url\\\":\\\"/assetserver/24c12264eef2b01f723a21985ba5661f5564d7cf-knockout_punches.js\\\"}],\\\"type\\\":\\\"async_block\\\"})).then((imports) => handler.apply(this, imports));\\n}\\n\")])], Dict{Symbol, Any}(:className => \"field interact-widget\")), Node{WebIO.DOM}(WebIO.DOM(:html, :div), Any[Scope(Node{WebIO.DOM}(WebIO.DOM(:html, :div), Any[Node{WebIO.DOM}(WebIO.DOM(:html, :div), Any[Node{WebIO.DOM}(WebIO.DOM(:html, :label), Any[\"blue\"], Dict{Symbol, Any}(:className => \"interact \", :style => Dict{Any, Any}(:padding => \"5px 10px 0px 10px\")))], Dict{Symbol, Any}(:className => \"interact-flex-row-left\")), Node{WebIO.DOM}(WebIO.DOM(:html, :div), Any[Node{WebIO.DOM}(WebIO.DOM(:html, :input), Any[], Dict{Symbol, Any}(:max => 255, :min => 0, :attributes => Dict{Any, Any}(:type => \"range\", Symbol(\"data-bind\") => \"numericValue: index, valueUpdate: 'input', event: {change: function (){this.changes(this.changes()+1)}}\", \"orient\" => \"horizontal\"), :step => 1, :className => \"slider slider is-fullwidth\", :style => Dict{Any, Any}()))], Dict{Symbol, Any}(:className => \"interact-flex-row-center\")), Node{WebIO.DOM}(WebIO.DOM(:html, :div), Any[Node{WebIO.DOM}(WebIO.DOM(:html, :p), Any[], Dict{Symbol, Any}(:attributes => Dict(\"data-bind\" => \"text: formatted_val\")))], Dict{Symbol, Any}(:className => \"interact-flex-row-right\"))], Dict{Symbol, Any}(:className => \"interact-flex-row interact-widget\")), Dict{String, Tuple{Observables.AbstractObservable, Union{Nothing, Bool}}}(\"changes\" => (Observable{Int64} with 1 listeners. Value:\n",
       "0, nothing), \"index\" => (Observable{Int64} with 2 listeners. Value:\n",
       "127, nothing)), Set{String}(), nothing, Asset[Asset(\"js\", \"knockout\", \"/Users/johnsmith/.julia/packages/Knockout/IP1uR/src/../assets/knockout.js\"), Asset(\"js\", \"knockout_punches\", \"/Users/johnsmith/.julia/packages/Knockout/IP1uR/src/../assets/knockout_punches.js\"), Asset(\"js\", nothing, \"/Users/johnsmith/.julia/packages/InteractBase/Zfu5P/src/../assets/all.js\"), Asset(\"css\", nothing, \"/Users/johnsmith/.julia/packages/InteractBase/Zfu5P/src/../assets/style.css\"), Asset(\"css\", nothing, \"/Users/johnsmith/.julia/packages/Interact/SbgIk/src/../assets/bulma_confined.min.css\")], Dict{Any, Any}(\"changes\" => Any[WebIO.JSString(\"(function (val){return (val!=this.model[\\\"changes\\\"]()) ? (this.valueFromJulia[\\\"changes\\\"]=true, this.model[\\\"changes\\\"](val)) : undefined})\")], \"index\" => Any[WebIO.JSString(\"(function (val){return (val!=this.model[\\\"index\\\"]()) ? (this.valueFromJulia[\\\"index\\\"]=true, this.model[\\\"index\\\"](val)) : undefined})\")]), WebIO.ConnectionPool(Channel{Any}(32), Set{AbstractConnection}(), Condition(Base.InvasiveLinkedList{Task}(Task (runnable) @0x0000000111423db0, Task (runnable) @0x0000000111423db0), Base.AlwaysLockedST(1))), WebIO.JSString[WebIO.JSString(\"function () {\\n    var handler = (function (ko, koPunches) {\\n    ko.punches.enableAll();\\n    ko.bindingHandlers.numericValue = {\\n        init: function(element, valueAccessor, allBindings, data, context) {\\n            var stringified = ko.observable(ko.unwrap(valueAccessor()));\\n            stringified.subscribe(function(value) {\\n                var val = parseFloat(value);\\n                if (!isNaN(val)) {\\n                    valueAccessor()(val);\\n                }\\n            });\\n            valueAccessor().subscribe(function(value) {\\n                var str = JSON.stringify(value);\\n                if ((str == \\\"0\\\") && ([\\\"-0\\\", \\\"-0.\\\"].indexOf(stringified()) >= 0))\\n                     return;\\n                 if ([\\\"null\\\", \\\"\\\"].indexOf(str) >= 0)\\n                     return;\\n                stringified(str);\\n            });\\n            ko.applyBindingsToNode(\\n                element,\\n                {\\n                    value: stringified,\\n                    valueUpdate: allBindings.get('valueUpdate'),\\n                },\\n                context,\\n            );\\n        }\\n    };\\n    var json_data = {\\\"formatted_vals\\\":[\\\"0\\\",\\\"1\\\",\\\"2\\\",\\\"3\\\",\\\"4\\\",\\\"5\\\",\\\"6\\\",\\\"7\\\",\\\"8\\\",\\\"9\\\",\\\"10\\\",\\\"11\\\",\\\"12\\\",\\\"13\\\",\\\"14\\\",\\\"15\\\",\\\"16\\\",\\\"17\\\",\\\"18\\\",\\\"19\\\",\\\"20\\\",\\\"21\\\",\\\"22\\\",\\\"23\\\",\\\"24\\\",\\\"25\\\",\\\"26\\\",\\\"27\\\",\\\"28\\\",\\\"29\\\",\\\"30\\\",\\\"31\\\",\\\"32\\\",\\\"33\\\",\\\"34\\\",\\\"35\\\",\\\"36\\\",\\\"37\\\",\\\"38\\\",\\\"39\\\",\\\"40\\\",\\\"41\\\",\\\"42\\\",\\\"43\\\",\\\"44\\\",\\\"45\\\",\\\"46\\\",\\\"47\\\",\\\"48\\\",\\\"49\\\",\\\"50\\\",\\\"51\\\",\\\"52\\\",\\\"53\\\",\\\"54\\\",\\\"55\\\",\\\"56\\\",\\\"57\\\",\\\"58\\\",\\\"59\\\",\\\"60\\\",\\\"61\\\",\\\"62\\\",\\\"63\\\",\\\"64\\\",\\\"65\\\",\\\"66\\\",\\\"67\\\",\\\"68\\\",\\\"69\\\",\\\"70\\\",\\\"71\\\",\\\"72\\\",\\\"73\\\",\\\"74\\\",\\\"75\\\",\\\"76\\\",\\\"77\\\",\\\"78\\\",\\\"79\\\",\\\"80\\\",\\\"81\\\",\\\"82\\\",\\\"83\\\",\\\"84\\\",\\\"85\\\",\\\"86\\\",\\\"87\\\",\\\"88\\\",\\\"89\\\",\\\"90\\\",\\\"91\\\",\\\"92\\\",\\\"93\\\",\\\"94\\\",\\\"95\\\",\\\"96\\\",\\\"97\\\",\\\"98\\\",\\\"99\\\",\\\"100\\\",\\\"101\\\",\\\"102\\\",\\\"103\\\",\\\"104\\\",\\\"105\\\",\\\"106\\\",\\\"107\\\",\\\"108\\\",\\\"109\\\",\\\"110\\\",\\\"111\\\",\\\"112\\\",\\\"113\\\",\\\"114\\\",\\\"115\\\",\\\"116\\\",\\\"117\\\",\\\"118\\\",\\\"119\\\",\\\"120\\\",\\\"121\\\",\\\"122\\\",\\\"123\\\",\\\"124\\\",\\\"125\\\",\\\"126\\\",\\\"127\\\",\\\"128\\\",\\\"129\\\",\\\"130\\\",\\\"131\\\",\\\"132\\\",\\\"133\\\",\\\"134\\\",\\\"135\\\",\\\"136\\\",\\\"137\\\",\\\"138\\\",\\\"139\\\",\\\"140\\\",\\\"141\\\",\\\"142\\\",\\\"143\\\",\\\"144\\\",\\\"145\\\",\\\"146\\\",\\\"147\\\",\\\"148\\\",\\\"149\\\",\\\"150\\\",\\\"151\\\",\\\"152\\\",\\\"153\\\",\\\"154\\\",\\\"155\\\",\\\"156\\\",\\\"157\\\",\\\"158\\\",\\\"159\\\",\\\"160\\\",\\\"161\\\",\\\"162\\\",\\\"163\\\",\\\"164\\\",\\\"165\\\",\\\"166\\\",\\\"167\\\",\\\"168\\\",\\\"169\\\",\\\"170\\\",\\\"171\\\",\\\"172\\\",\\\"173\\\",\\\"174\\\",\\\"175\\\",\\\"176\\\",\\\"177\\\",\\\"178\\\",\\\"179\\\",\\\"180\\\",\\\"181\\\",\\\"182\\\",\\\"183\\\",\\\"184\\\",\\\"185\\\",\\\"186\\\",\\\"187\\\",\\\"188\\\",\\\"189\\\",\\\"190\\\",\\\"191\\\",\\\"192\\\",\\\"193\\\",\\\"194\\\",\\\"195\\\",\\\"196\\\",\\\"197\\\",\\\"198\\\",\\\"199\\\",\\\"200\\\",\\\"201\\\",\\\"202\\\",\\\"203\\\",\\\"204\\\",\\\"205\\\",\\\"206\\\",\\\"207\\\",\\\"208\\\",\\\"209\\\",\\\"210\\\",\\\"211\\\",\\\"212\\\",\\\"213\\\",\\\"214\\\",\\\"215\\\",\\\"216\\\",\\\"217\\\",\\\"218\\\",\\\"219\\\",\\\"220\\\",\\\"221\\\",\\\"222\\\",\\\"223\\\",\\\"224\\\",\\\"225\\\",\\\"226\\\",\\\"227\\\",\\\"228\\\",\\\"229\\\",\\\"230\\\",\\\"231\\\",\\\"232\\\",\\\"233\\\",\\\"234\\\",\\\"235\\\",\\\"236\\\",\\\"237\\\",\\\"238\\\",\\\"239\\\",\\\"240\\\",\\\"241\\\",\\\"242\\\",\\\"243\\\",\\\"244\\\",\\\"245\\\",\\\"246\\\",\\\"247\\\",\\\"248\\\",\\\"249\\\",\\\"250\\\",\\\"251\\\",\\\"252\\\",\\\"253\\\",\\\"254\\\",\\\"255\\\"],\\\"changes\\\":WebIO.getval({\\\"name\\\":\\\"changes\\\",\\\"scope\\\":\\\"10188461417524362923\\\",\\\"id\\\":\\\"8743460221633634368\\\",\\\"type\\\":\\\"observable\\\"}),\\\"index\\\":WebIO.getval({\\\"name\\\":\\\"index\\\",\\\"scope\\\":\\\"10188461417524362923\\\",\\\"id\\\":\\\"12104034762360975654\\\",\\\"type\\\":\\\"observable\\\"})};\\n    var self = this;\\n    function AppViewModel() {\\n        for (var key in json_data) {\\n            var el = json_data[key];\\n            this[key] = Array.isArray(el) ? ko.observableArray(el) : ko.observable(el);\\n        }\\n        \\n        [this[\\\"formatted_val\\\"]=ko.computed(    function(){\\n        return this.formatted_vals()[parseInt(this.index())-(0)];\\n    }\\n,this)]\\n        [this[\\\"changes\\\"].subscribe((function (val){!(this.valueFromJulia[\\\"changes\\\"]) ? (WebIO.setval({\\\"name\\\":\\\"changes\\\",\\\"scope\\\":\\\"10188461417524362923\\\",\\\"id\\\":\\\"8743460221633634368\\\",\\\"type\\\":\\\"observable\\\"},val)) : undefined; return this.valueFromJulia[\\\"changes\\\"]=false}),self),this[\\\"index\\\"].subscribe((function (val){!(this.valueFromJulia[\\\"index\\\"]) ? (WebIO.setval({\\\"name\\\":\\\"index\\\",\\\"scope\\\":\\\"10188461417524362923\\\",\\\"id\\\":\\\"12104034762360975654\\\",\\\"type\\\":\\\"observable\\\"},val)) : undefined; return this.valueFromJulia[\\\"index\\\"]=false}),self)]\\n        \\n    }\\n    self.model = new AppViewModel();\\n    self.valueFromJulia = {};\\n    for (var key in json_data) {\\n        self.valueFromJulia[key] = false;\\n    }\\n    ko.applyBindings(self.model, self.dom);\\n}\\n);\\n    (WebIO.importBlock({\\\"data\\\":[{\\\"name\\\":\\\"knockout\\\",\\\"type\\\":\\\"js\\\",\\\"url\\\":\\\"/assetserver/0fc6d61518197b1bf9b23217e9be1d2e00f2bb14-knockout.js\\\"},{\\\"name\\\":\\\"knockout_punches\\\",\\\"type\\\":\\\"js\\\",\\\"url\\\":\\\"/assetserver/24c12264eef2b01f723a21985ba5661f5564d7cf-knockout_punches.js\\\"}],\\\"type\\\":\\\"async_block\\\"})).then((imports) => handler.apply(this, imports));\\n}\\n\")])], Dict{Symbol, Any}(:className => \"field interact-widget\"))], Dict{Symbol, Any}(:style => Dict(\"display\" => \"flex\", \"flex-direction\" => \"column\")))], Dict{Symbol, Any}(:style => Dict(\"display\" => \"flex\", \"flex-direction\" => \"row\")))"
      ]
     },
     "execution_count": 182,
     "metadata": {
      "application/vnd.webio.node+json": {
       "kernelId": "7785d7aa-8a23-4767-8e8a-66873a3fe0e5"
      }
     },
     "output_type": "execute_result"
    }
   ],
   "source": [
    "\n",
    "\n",
    "function mycolorpicker()\n",
    "    r = slider(0:255, label = \"red\")\n",
    "    g = slider(0:255, label = \"green\")\n",
    "    b = slider(0:255, label = \"blue\")\n",
    "    output = Interact.@map Colors.RGB(&r/255, &g/255, &b/255)\n",
    "    plt = Interact.@map plot(sin, color = &output)\n",
    "    wdg = Widget([\"r\" => r, \"g\" => g, \"b\" => b], output = output)\n",
    "    @layout! wdg hbox(plt, vbox(:r, :g, :b)) ## custom layout: by default things are stacked vertically\n",
    "end\n",
    "mycolorpicker()"
   ]
  },
  {
   "cell_type": "code",
   "execution_count": 178,
   "id": "23857b8e",
   "metadata": {},
   "outputs": [],
   "source": [
    "using Interact"
   ]
  },
  {
   "cell_type": "code",
   "execution_count": 290,
   "id": "ca08bc6a",
   "metadata": {},
   "outputs": [
    {
     "data": {
      "application/vnd.webio.node+json": {
       "children": [
        {
         "children": [
          {
           "children": [
            {
             "children": [
              {
               "children": [
                {
                 "children": [
                  "2^n periods"
                 ],
                 "instanceArgs": {
                  "namespace": "html",
                  "tag": "label"
                 },
                 "nodeType": "DOM",
                 "props": {
                  "className": "interact ",
                  "style": {
                   "padding": "5px 10px 0px 10px"
                  }
                 },
                 "type": "node"
                }
               ],
               "instanceArgs": {
                "namespace": "html",
                "tag": "div"
               },
               "nodeType": "DOM",
               "props": {
                "className": "interact-flex-row-left"
               },
               "type": "node"
              },
              {
               "children": [
                {
                 "children": [],
                 "instanceArgs": {
                  "namespace": "html",
                  "tag": "input"
                 },
                 "nodeType": "DOM",
                 "props": {
                  "attributes": {
                   "data-bind": "numericValue: index, valueUpdate: 'input', event: {change: function (){this.changes(this.changes()+1)}}",
                   "orient": "horizontal",
                   "type": "range"
                  },
                  "className": "slider slider is-fullwidth",
                  "default": 7,
                  "max": 15,
                  "min": 1,
                  "step": 1,
                  "style": {}
                 },
                 "type": "node"
                }
               ],
               "instanceArgs": {
                "namespace": "html",
                "tag": "div"
               },
               "nodeType": "DOM",
               "props": {
                "className": "interact-flex-row-center"
               },
               "type": "node"
              },
              {
               "children": [
                {
                 "children": [],
                 "instanceArgs": {
                  "namespace": "html",
                  "tag": "p"
                 },
                 "nodeType": "DOM",
                 "props": {
                  "attributes": {
                   "data-bind": "text: formatted_val"
                  }
                 },
                 "type": "node"
                }
               ],
               "instanceArgs": {
                "namespace": "html",
                "tag": "div"
               },
               "nodeType": "DOM",
               "props": {
                "className": "interact-flex-row-right"
               },
               "type": "node"
              }
             ],
             "instanceArgs": {
              "namespace": "html",
              "tag": "div"
             },
             "nodeType": "DOM",
             "props": {
              "className": "interact-flex-row interact-widget"
             },
             "type": "node"
            }
           ],
           "instanceArgs": {
            "handlers": {
             "changes": [
              "(function (val){return (val!=this.model[\"changes\"]()) ? (this.valueFromJulia[\"changes\"]=true, this.model[\"changes\"](val)) : undefined})"
             ],
             "index": [
              "(function (val){return (val!=this.model[\"index\"]()) ? (this.valueFromJulia[\"index\"]=true, this.model[\"index\"](val)) : undefined})"
             ]
            },
            "id": "2735603912467223581",
            "imports": {
             "data": [
              {
               "name": "knockout",
               "type": "js",
               "url": "/assetserver/0fc6d61518197b1bf9b23217e9be1d2e00f2bb14-knockout.js"
              },
              {
               "name": "knockout_punches",
               "type": "js",
               "url": "/assetserver/24c12264eef2b01f723a21985ba5661f5564d7cf-knockout_punches.js"
              },
              {
               "name": null,
               "type": "js",
               "url": "/assetserver/85de428ae418ad26c1ce7e886d25374b3774afa9-all.js"
              },
              {
               "name": null,
               "type": "css",
               "url": "/assetserver/2cd8ff31326883094fe5a8ff21182264663b62be-style.css"
              },
              {
               "name": null,
               "type": "css",
               "url": "/assetserver/741bde2d4bf25f117d0ec4d43164cd1a050cf9de-bulma_confined.min.css"
              }
             ],
             "type": "async_block"
            },
            "mount_callbacks": [
             "function () {\n    var handler = (function (ko, koPunches) {\n    ko.punches.enableAll();\n    ko.bindingHandlers.numericValue = {\n        init: function(element, valueAccessor, allBindings, data, context) {\n            var stringified = ko.observable(ko.unwrap(valueAccessor()));\n            stringified.subscribe(function(value) {\n                var val = parseFloat(value);\n                if (!isNaN(val)) {\n                    valueAccessor()(val);\n                }\n            });\n            valueAccessor().subscribe(function(value) {\n                var str = JSON.stringify(value);\n                if ((str == \"0\") && ([\"-0\", \"-0.\"].indexOf(stringified()) >= 0))\n                     return;\n                 if ([\"null\", \"\"].indexOf(str) >= 0)\n                     return;\n                stringified(str);\n            });\n            ko.applyBindingsToNode(\n                element,\n                {\n                    value: stringified,\n                    valueUpdate: allBindings.get('valueUpdate'),\n                },\n                context,\n            );\n        }\n    };\n    var json_data = {\"formatted_vals\":[\"1\",\"2\",\"3\",\"4\",\"5\",\"6\",\"7\",\"8\",\"9\",\"10\",\"11\",\"12\",\"13\",\"14\",\"15\"],\"changes\":WebIO.getval({\"name\":\"changes\",\"scope\":\"2735603912467223581\",\"id\":\"7858820871342273544\",\"type\":\"observable\"}),\"index\":WebIO.getval({\"name\":\"index\",\"scope\":\"2735603912467223581\",\"id\":\"2120758038821654512\",\"type\":\"observable\"})};\n    var self = this;\n    function AppViewModel() {\n        for (var key in json_data) {\n            var el = json_data[key];\n            this[key] = Array.isArray(el) ? ko.observableArray(el) : ko.observable(el);\n        }\n        \n        [this[\"formatted_val\"]=ko.computed(    function(){\n        return this.formatted_vals()[parseInt(this.index())-(1)];\n    }\n,this)]\n        [this[\"changes\"].subscribe((function (val){!(this.valueFromJulia[\"changes\"]) ? (WebIO.setval({\"name\":\"changes\",\"scope\":\"2735603912467223581\",\"id\":\"7858820871342273544\",\"type\":\"observable\"},val)) : undefined; return this.valueFromJulia[\"changes\"]=false}),self),this[\"index\"].subscribe((function (val){!(this.valueFromJulia[\"index\"]) ? (WebIO.setval({\"name\":\"index\",\"scope\":\"2735603912467223581\",\"id\":\"2120758038821654512\",\"type\":\"observable\"},val)) : undefined; return this.valueFromJulia[\"index\"]=false}),self)]\n        \n    }\n    self.model = new AppViewModel();\n    self.valueFromJulia = {};\n    for (var key in json_data) {\n        self.valueFromJulia[key] = false;\n    }\n    ko.applyBindings(self.model, self.dom);\n}\n);\n    (WebIO.importBlock({\"data\":[{\"name\":\"knockout\",\"type\":\"js\",\"url\":\"/assetserver/0fc6d61518197b1bf9b23217e9be1d2e00f2bb14-knockout.js\"},{\"name\":\"knockout_punches\",\"type\":\"js\",\"url\":\"/assetserver/24c12264eef2b01f723a21985ba5661f5564d7cf-knockout_punches.js\"}],\"type\":\"async_block\"})).then((imports) => handler.apply(this, imports));\n}\n"
            ],
            "observables": {
             "changes": {
              "id": "7858820871342273544",
              "sync": false,
              "value": 0
             },
             "index": {
              "id": "2120758038821654512",
              "sync": true,
              "value": 8
             }
            },
            "systemjs_options": null
           },
           "nodeType": "Scope",
           "props": {},
           "type": "node"
          }
         ],
         "instanceArgs": {
          "namespace": "html",
          "tag": "div"
         },
         "nodeType": "DOM",
         "props": {
          "className": "field interact-widget"
         },
         "type": "node"
        },
        {
         "children": [
          {
           "children": [],
           "instanceArgs": {
            "id": "2828703664343770920",
            "name": "obs-node"
           },
           "nodeType": "ObservableNode",
           "props": {},
           "type": "node"
          }
         ],
         "instanceArgs": {
          "handlers": {},
          "id": "10959796786480662900",
          "imports": {
           "data": [],
           "type": "async_block"
          },
          "mount_callbacks": [],
          "observables": {
           "obs-node": {
            "id": "2828703664343770920",
            "sync": false,
            "value": {
             "children": [],
             "instanceArgs": {
              "namespace": "html",
              "tag": "div"
             },
             "nodeType": "DOM",
             "props": {},
             "type": "node"
            }
           }
          },
          "systemjs_options": null
         },
         "nodeType": "Scope",
         "props": {},
         "type": "node"
        },
        {
         "children": [
          {
           "children": [
            {
             "children": [],
             "instanceArgs": {
              "id": "7864970813908857811",
              "name": "obs-node"
             },
             "nodeType": "ObservableNode",
             "props": {},
             "type": "node"
            }
           ],
           "instanceArgs": {
            "handlers": {},
            "id": "6054368533534281354",
            "imports": {
             "data": [],
             "type": "async_block"
            },
            "mount_callbacks": [],
            "observables": {
             "obs-node": {
              "id": "7864970813908857811",
              "sync": false,
              "value": {
               "children": [],
               "instanceArgs": {
                "namespace": "html",
                "tag": "div"
               },
               "nodeType": "DOM",
               "props": {},
               "type": "node"
              }
             }
            },
            "systemjs_options": null
           },
           "nodeType": "Scope",
           "props": {},
           "type": "node"
          },
          {
           "children": [
            {
             "children": [],
             "instanceArgs": {
              "id": "14975080573481158481",
              "name": "obs-node"
             },
             "nodeType": "ObservableNode",
             "props": {},
             "type": "node"
            }
           ],
           "instanceArgs": {
            "handlers": {},
            "id": "6343618964553488034",
            "imports": {
             "data": [],
             "type": "async_block"
            },
            "mount_callbacks": [],
            "observables": {
             "obs-node": {
              "id": "14975080573481158481",
              "sync": false,
              "value": {
               "children": [],
               "instanceArgs": {
                "namespace": "html",
                "tag": "div"
               },
               "nodeType": "DOM",
               "props": {},
               "type": "node"
              }
             }
            },
            "systemjs_options": null
           },
           "nodeType": "Scope",
           "props": {},
           "type": "node"
          }
         ],
         "instanceArgs": {
          "namespace": "html",
          "tag": "div"
         },
         "nodeType": "DOM",
         "props": {
          "style": {
           "display": "flex",
           "flex-direction": "row"
          }
         },
         "type": "node"
        }
       ],
       "instanceArgs": {
        "namespace": "html",
        "tag": "div"
       },
       "nodeType": "DOM",
       "props": {
        "style": {
         "display": "flex",
         "flex-direction": "column"
        }
       },
       "type": "node"
      },
      "text/html": [
       "<div\n",
       "    class=\"webio-mountpoint\"\n",
       "    data-webio-mountpoint=\"5950142503044567240\"\n",
       ">\n",
       "    <script>\n",
       "    if (window.require && require.defined && require.defined(\"nbextensions/webio-jupyter-notebook\")) {\n",
       "        console.log(\"Jupyter WebIO extension detected, not mounting.\");\n",
       "    } else if (window.WebIO) {\n",
       "        WebIO.mount(\n",
       "            document.querySelector('[data-webio-mountpoint=\"5950142503044567240\"]'),\n",
       "            {\"props\":{\"style\":{\"display\":\"flex\",\"flex-direction\":\"column\"}},\"nodeType\":\"DOM\",\"type\":\"node\",\"instanceArgs\":{\"namespace\":\"html\",\"tag\":\"div\"},\"children\":[{\"props\":{\"className\":\"field interact-widget\"},\"nodeType\":\"DOM\",\"type\":\"node\",\"instanceArgs\":{\"namespace\":\"html\",\"tag\":\"div\"},\"children\":[{\"props\":{},\"nodeType\":\"Scope\",\"type\":\"node\",\"instanceArgs\":{\"imports\":{\"data\":[{\"name\":\"knockout\",\"type\":\"js\",\"url\":\"\\/assetserver\\/0fc6d61518197b1bf9b23217e9be1d2e00f2bb14-knockout.js\"},{\"name\":\"knockout_punches\",\"type\":\"js\",\"url\":\"\\/assetserver\\/24c12264eef2b01f723a21985ba5661f5564d7cf-knockout_punches.js\"},{\"name\":null,\"type\":\"js\",\"url\":\"\\/assetserver\\/85de428ae418ad26c1ce7e886d25374b3774afa9-all.js\"},{\"name\":null,\"type\":\"css\",\"url\":\"\\/assetserver\\/2cd8ff31326883094fe5a8ff21182264663b62be-style.css\"},{\"name\":null,\"type\":\"css\",\"url\":\"\\/assetserver\\/741bde2d4bf25f117d0ec4d43164cd1a050cf9de-bulma_confined.min.css\"}],\"type\":\"async_block\"},\"id\":\"2735603912467223581\",\"handlers\":{\"changes\":[\"(function (val){return (val!=this.model[\\\"changes\\\"]()) ? (this.valueFromJulia[\\\"changes\\\"]=true, this.model[\\\"changes\\\"](val)) : undefined})\"],\"index\":[\"(function (val){return (val!=this.model[\\\"index\\\"]()) ? (this.valueFromJulia[\\\"index\\\"]=true, this.model[\\\"index\\\"](val)) : undefined})\"]},\"systemjs_options\":null,\"mount_callbacks\":[\"function () {\\n    var handler = (function (ko, koPunches) {\\n    ko.punches.enableAll();\\n    ko.bindingHandlers.numericValue = {\\n        init: function(element, valueAccessor, allBindings, data, context) {\\n            var stringified = ko.observable(ko.unwrap(valueAccessor()));\\n            stringified.subscribe(function(value) {\\n                var val = parseFloat(value);\\n                if (!isNaN(val)) {\\n                    valueAccessor()(val);\\n                }\\n            });\\n            valueAccessor().subscribe(function(value) {\\n                var str = JSON.stringify(value);\\n                if ((str == \\\"0\\\") && ([\\\"-0\\\", \\\"-0.\\\"].indexOf(stringified()) >= 0))\\n                     return;\\n                 if ([\\\"null\\\", \\\"\\\"].indexOf(str) >= 0)\\n                     return;\\n                stringified(str);\\n            });\\n            ko.applyBindingsToNode(\\n                element,\\n                {\\n                    value: stringified,\\n                    valueUpdate: allBindings.get('valueUpdate'),\\n                },\\n                context,\\n            );\\n        }\\n    };\\n    var json_data = {\\\"formatted_vals\\\":[\\\"1\\\",\\\"2\\\",\\\"3\\\",\\\"4\\\",\\\"5\\\",\\\"6\\\",\\\"7\\\",\\\"8\\\",\\\"9\\\",\\\"10\\\",\\\"11\\\",\\\"12\\\",\\\"13\\\",\\\"14\\\",\\\"15\\\"],\\\"changes\\\":WebIO.getval({\\\"name\\\":\\\"changes\\\",\\\"scope\\\":\\\"2735603912467223581\\\",\\\"id\\\":\\\"7858820871342273544\\\",\\\"type\\\":\\\"observable\\\"}),\\\"index\\\":WebIO.getval({\\\"name\\\":\\\"index\\\",\\\"scope\\\":\\\"2735603912467223581\\\",\\\"id\\\":\\\"2120758038821654512\\\",\\\"type\\\":\\\"observable\\\"})};\\n    var self = this;\\n    function AppViewModel() {\\n        for (var key in json_data) {\\n            var el = json_data[key];\\n            this[key] = Array.isArray(el) ? ko.observableArray(el) : ko.observable(el);\\n        }\\n        \\n        [this[\\\"formatted_val\\\"]=ko.computed(    function(){\\n        return this.formatted_vals()[parseInt(this.index())-(1)];\\n    }\\n,this)]\\n        [this[\\\"changes\\\"].subscribe((function (val){!(this.valueFromJulia[\\\"changes\\\"]) ? (WebIO.setval({\\\"name\\\":\\\"changes\\\",\\\"scope\\\":\\\"2735603912467223581\\\",\\\"id\\\":\\\"7858820871342273544\\\",\\\"type\\\":\\\"observable\\\"},val)) : undefined; return this.valueFromJulia[\\\"changes\\\"]=false}),self),this[\\\"index\\\"].subscribe((function (val){!(this.valueFromJulia[\\\"index\\\"]) ? (WebIO.setval({\\\"name\\\":\\\"index\\\",\\\"scope\\\":\\\"2735603912467223581\\\",\\\"id\\\":\\\"2120758038821654512\\\",\\\"type\\\":\\\"observable\\\"},val)) : undefined; return this.valueFromJulia[\\\"index\\\"]=false}),self)]\\n        \\n    }\\n    self.model = new AppViewModel();\\n    self.valueFromJulia = {};\\n    for (var key in json_data) {\\n        self.valueFromJulia[key] = false;\\n    }\\n    ko.applyBindings(self.model, self.dom);\\n}\\n);\\n    (WebIO.importBlock({\\\"data\\\":[{\\\"name\\\":\\\"knockout\\\",\\\"type\\\":\\\"js\\\",\\\"url\\\":\\\"\\/assetserver\\/0fc6d61518197b1bf9b23217e9be1d2e00f2bb14-knockout.js\\\"},{\\\"name\\\":\\\"knockout_punches\\\",\\\"type\\\":\\\"js\\\",\\\"url\\\":\\\"\\/assetserver\\/24c12264eef2b01f723a21985ba5661f5564d7cf-knockout_punches.js\\\"}],\\\"type\\\":\\\"async_block\\\"})).then((imports) => handler.apply(this, imports));\\n}\\n\"],\"observables\":{\"changes\":{\"sync\":false,\"id\":\"7858820871342273544\",\"value\":0},\"index\":{\"sync\":true,\"id\":\"2120758038821654512\",\"value\":8}}},\"children\":[{\"props\":{\"className\":\"interact-flex-row interact-widget\"},\"nodeType\":\"DOM\",\"type\":\"node\",\"instanceArgs\":{\"namespace\":\"html\",\"tag\":\"div\"},\"children\":[{\"props\":{\"className\":\"interact-flex-row-left\"},\"nodeType\":\"DOM\",\"type\":\"node\",\"instanceArgs\":{\"namespace\":\"html\",\"tag\":\"div\"},\"children\":[{\"props\":{\"className\":\"interact \",\"style\":{\"padding\":\"5px 10px 0px 10px\"}},\"nodeType\":\"DOM\",\"type\":\"node\",\"instanceArgs\":{\"namespace\":\"html\",\"tag\":\"label\"},\"children\":[\"2^n periods\"]}]},{\"props\":{\"className\":\"interact-flex-row-center\"},\"nodeType\":\"DOM\",\"type\":\"node\",\"instanceArgs\":{\"namespace\":\"html\",\"tag\":\"div\"},\"children\":[{\"props\":{\"max\":15,\"default\":7,\"attributes\":{\"type\":\"range\",\"data-bind\":\"numericValue: index, valueUpdate: 'input', event: {change: function (){this.changes(this.changes()+1)}}\",\"orient\":\"horizontal\"},\"min\":1,\"step\":1,\"className\":\"slider slider is-fullwidth\",\"style\":{}},\"nodeType\":\"DOM\",\"type\":\"node\",\"instanceArgs\":{\"namespace\":\"html\",\"tag\":\"input\"},\"children\":[]}]},{\"props\":{\"className\":\"interact-flex-row-right\"},\"nodeType\":\"DOM\",\"type\":\"node\",\"instanceArgs\":{\"namespace\":\"html\",\"tag\":\"div\"},\"children\":[{\"props\":{\"attributes\":{\"data-bind\":\"text: formatted_val\"}},\"nodeType\":\"DOM\",\"type\":\"node\",\"instanceArgs\":{\"namespace\":\"html\",\"tag\":\"p\"},\"children\":[]}]}]}]}]},{\"props\":{},\"nodeType\":\"Scope\",\"type\":\"node\",\"instanceArgs\":{\"imports\":{\"data\":[],\"type\":\"async_block\"},\"id\":\"9506560795514274786\",\"handlers\":{},\"systemjs_options\":null,\"mount_callbacks\":[],\"observables\":{\"obs-node\":{\"sync\":false,\"id\":\"9298725200431586888\",\"value\":{\"props\":{},\"nodeType\":\"DOM\",\"type\":\"node\",\"instanceArgs\":{\"namespace\":\"html\",\"tag\":\"div\"},\"children\":[]}}}},\"children\":[{\"props\":{},\"nodeType\":\"ObservableNode\",\"type\":\"node\",\"instanceArgs\":{\"id\":\"9298725200431586888\",\"name\":\"obs-node\"},\"children\":[]}]},{\"props\":{\"style\":{\"display\":\"flex\",\"flex-direction\":\"row\"}},\"nodeType\":\"DOM\",\"type\":\"node\",\"instanceArgs\":{\"namespace\":\"html\",\"tag\":\"div\"},\"children\":[{\"props\":{},\"nodeType\":\"Scope\",\"type\":\"node\",\"instanceArgs\":{\"imports\":{\"data\":[],\"type\":\"async_block\"},\"id\":\"7539078558106423171\",\"handlers\":{},\"systemjs_options\":null,\"mount_callbacks\":[],\"observables\":{\"obs-node\":{\"sync\":false,\"id\":\"15214149010317360625\",\"value\":{\"props\":{},\"nodeType\":\"DOM\",\"type\":\"node\",\"instanceArgs\":{\"namespace\":\"html\",\"tag\":\"div\"},\"children\":[]}}}},\"children\":[{\"props\":{},\"nodeType\":\"ObservableNode\",\"type\":\"node\",\"instanceArgs\":{\"id\":\"15214149010317360625\",\"name\":\"obs-node\"},\"children\":[]}]},{\"props\":{},\"nodeType\":\"Scope\",\"type\":\"node\",\"instanceArgs\":{\"imports\":{\"data\":[],\"type\":\"async_block\"},\"id\":\"2835812895456466529\",\"handlers\":{},\"systemjs_options\":null,\"mount_callbacks\":[],\"observables\":{\"obs-node\":{\"sync\":false,\"id\":\"422717832884142741\",\"value\":{\"props\":{},\"nodeType\":\"DOM\",\"type\":\"node\",\"instanceArgs\":{\"namespace\":\"html\",\"tag\":\"div\"},\"children\":[]}}}},\"children\":[{\"props\":{},\"nodeType\":\"ObservableNode\",\"type\":\"node\",\"instanceArgs\":{\"id\":\"422717832884142741\",\"name\":\"obs-node\"},\"children\":[]}]}]}]},\n",
       "            window,\n",
       "        );\n",
       "    } else {\n",
       "        document\n",
       "            .querySelector('[data-webio-mountpoint=\"5950142503044567240\"]')\n",
       "            .innerHTML = (\n",
       "                '<div style=\"padding: 1em; background-color: #f8d6da; border: 1px solid #f5c6cb\">' +\n",
       "                '<p><strong>WebIO not detected.</strong></p>' +\n",
       "                '<p>Please read ' +\n",
       "                '<a href=\"https://juliagizmos.github.io/WebIO.jl/latest/troubleshooting/not-detected/\" target=\"_blank\">the troubleshooting guide</a> ' +\n",
       "                'for more information on how to resolve this issue.</p>' +\n",
       "                '<p><a href=\"https://juliagizmos.github.io/WebIO.jl/latest/troubleshooting/not-detected/\" target=\"_blank\">https://juliagizmos.github.io/WebIO.jl/latest/troubleshooting/not-detected/</a></p>' +\n",
       "                '</div>'\n",
       "            );\n",
       "    }\n",
       "    </script>\n",
       "</div>\n"
      ],
      "text/plain": [
       "(div { style=Dict(\"display\" => \"flex\", \"flex-direction\" => \"column\") }\n",
       "  Node{WebIO.DOM}(WebIO.DOM(:html, :div), Any[Scope(Node{WebIO.DOM}(WebIO.DOM(:html, :div), Any[Node{WebIO.DOM}(WebIO.DOM(:html, :div), Any[Node{WebIO.DOM}(WebIO.DOM(:html, :label), Any[\"2^n periods\"], Dict{Symbol, Any}(:className => \"interact \", :style => Dict{Any, Any}(:padding => \"5px 10px 0px 10px\")))], Dict{Symbol, Any}(:className => \"interact-flex-row-left\")), Node{WebIO.DOM}(WebIO.DOM(:html, :div), Any[Node{WebIO.DOM}(WebIO.DOM(:html, :input), Any[], Dict{Symbol, Any}(:max => 15, :default => 7, :attributes => Dict{Any, Any}(:type => \"range\", Symbol(\"data-bind\") => \"numericValue: index, valueUpdate: 'input', event: {change: function (){this.changes(this.changes()+1)}}\", \"orient\" => \"horizontal\"), :min => 1, :step => 1, :className => \"slider slider is-fullwidth\", :style => Dict{Any, Any}()))], Dict{Symbol, Any}(:className => \"interact-flex-row-center\")), Node{WebIO.DOM}(WebIO.DOM(:html, :div), Any[Node{WebIO.DOM}(WebIO.DOM(:html, :p), Any[], Dict{Symbol, Any}(:attributes => Dict(\"data-bind\" => \"text: formatted_val\")))], Dict{Symbol, Any}(:className => \"interact-flex-row-right\"))], Dict{Symbol, Any}(:className => \"interact-flex-row interact-widget\")), Dict{String, Tuple{Observables.AbstractObservable, Union{Nothing, Bool}}}(\"changes\" => (Observable{Int64} with 1 listeners. Value:\n",
       "0, nothing), \"index\" => (Observable{Int64} with 2 listeners. Value:\n",
       "8, nothing)), Set{String}(), nothing, Asset[Asset(\"js\", \"knockout\", \"/Users/johnsmith/.julia/packages/Knockout/IP1uR/src/../assets/knockout.js\"), Asset(\"js\", \"knockout_punches\", \"/Users/johnsmith/.julia/packages/Knockout/IP1uR/src/../assets/knockout_punches.js\"), Asset(\"js\", nothing, \"/Users/johnsmith/.julia/packages/InteractBase/Zfu5P/src/../assets/all.js\"), Asset(\"css\", nothing, \"/Users/johnsmith/.julia/packages/InteractBase/Zfu5P/src/../assets/style.css\"), Asset(\"css\", nothing, \"/Users/johnsmith/.julia/packages/Interact/SbgIk/src/../assets/bulma_confined.min.css\")], Dict{Any, Any}(\"changes\" => Any[WebIO.JSString(\"(function (val){return (val!=this.model[\\\"changes\\\"]()) ? (this.valueFromJulia[\\\"changes\\\"]=true, this.model[\\\"changes\\\"](val)) : undefined})\")], \"index\" => Any[WebIO.JSString(\"(function (val){return (val!=this.model[\\\"index\\\"]()) ? (this.valueFromJulia[\\\"index\\\"]=true, this.model[\\\"index\\\"](val)) : undefined})\")]), WebIO.ConnectionPool(Channel{Any}(32), Set{AbstractConnection}(), Condition(Base.InvasiveLinkedList{Task}(Task (runnable) @0x000000015742a320, Task (runnable) @0x000000015742a320), Base.AlwaysLockedST(1))), WebIO.JSString[WebIO.JSString(\"function () {\\n    var handler = (function (ko, koPunches) {\\n    ko.punches.enableAll();\\n    ko.bindingHandlers.numericValue = {\\n        init: function(element, valueAccessor, allBindings, data, context) {\\n            var stringified = ko.observable(ko.unwrap(valueAccessor()));\\n            stringified.subscribe(function(value) {\\n                var val = parseFloat(value);\\n                if (!isNaN(val)) {\\n                    valueAccessor()(val);\\n                }\\n            });\\n            valueAccessor().subscribe(function(value) {\\n                var str = JSON.stringify(value);\\n                if ((str == \\\"0\\\") && ([\\\"-0\\\", \\\"-0.\\\"].indexOf(stringified()) >= 0))\\n                     return;\\n                 if ([\\\"null\\\", \\\"\\\"].indexOf(str) >= 0)\\n                     return;\\n                stringified(str);\\n            });\\n            ko.applyBindingsToNode(\\n                element,\\n                {\\n                    value: stringified,\\n                    valueUpdate: allBindings.get('valueUpdate'),\\n                },\\n                context,\\n            );\\n        }\\n    };\\n    var json_data = {\\\"formatted_vals\\\":[\\\"1\\\",\\\"2\\\",\\\"3\\\",\\\"4\\\",\\\"5\\\",\\\"6\\\",\\\"7\\\",\\\"8\\\",\\\"9\\\",\\\"10\\\",\\\"11\\\",\\\"12\\\",\\\"13\\\",\\\"14\\\",\\\"15\\\"],\\\"changes\\\":WebIO.getval({\\\"name\\\":\\\"changes\\\",\\\"scope\\\":\\\"2735603912467223581\\\",\\\"id\\\":\\\"7858820871342273544\\\",\\\"type\\\":\\\"observable\\\"}),\\\"index\\\":WebIO.getval({\\\"name\\\":\\\"index\\\",\\\"scope\\\":\\\"2735603912467223581\\\",\\\"id\\\":\\\"2120758038821654512\\\",\\\"type\\\":\\\"observable\\\"})};\\n    var self = this;\\n    function AppViewModel() {\\n        for (var key in json_data) {\\n            var el = json_data[key];\\n            this[key] = Array.isArray(el) ? ko.observableArray(el) : ko.observable(el);\\n        }\\n        \\n        [this[\\\"formatted_val\\\"]=ko.computed(    function(){\\n        return this.formatted_vals()[parseInt(this.index())-(1)];\\n    }\\n,this)]\\n        [this[\\\"changes\\\"].subscribe((function (val){!(this.valueFromJulia[\\\"changes\\\"]) ? (WebIO.setval({\\\"name\\\":\\\"changes\\\",\\\"scope\\\":\\\"2735603912467223581\\\",\\\"id\\\":\\\"7858820871342273544\\\",\\\"type\\\":\\\"observable\\\"},val)) : undefined; return this.valueFromJulia[\\\"changes\\\"]=false}),self),this[\\\"index\\\"].subscribe((function (val){!(this.valueFromJulia[\\\"index\\\"]) ? (WebIO.setval({\\\"name\\\":\\\"index\\\",\\\"scope\\\":\\\"2735603912467223581\\\",\\\"id\\\":\\\"2120758038821654512\\\",\\\"type\\\":\\\"observable\\\"},val)) : undefined; return this.valueFromJulia[\\\"index\\\"]=false}),self)]\\n        \\n    }\\n    self.model = new AppViewModel();\\n    self.valueFromJulia = {};\\n    for (var key in json_data) {\\n        self.valueFromJulia[key] = false;\\n    }\\n    ko.applyBindings(self.model, self.dom);\\n}\\n);\\n    (WebIO.importBlock({\\\"data\\\":[{\\\"name\\\":\\\"knockout\\\",\\\"type\\\":\\\"js\\\",\\\"url\\\":\\\"/assetserver/0fc6d61518197b1bf9b23217e9be1d2e00f2bb14-knockout.js\\\"},{\\\"name\\\":\\\"knockout_punches\\\",\\\"type\\\":\\\"js\\\",\\\"url\\\":\\\"/assetserver/24c12264eef2b01f723a21985ba5661f5564d7cf-knockout_punches.js\\\"}],\\\"type\\\":\\\"async_block\\\"})).then((imports) => handler.apply(this, imports));\\n}\\n\")])], Dict{Symbol, Any}(:className => \"field interact-widget\"))\n",
       "  Observable{Any} with 0 listeners. Value:\n",
       "Node{WebIO.DOM}(WebIO.DOM(:html, :div), Any[], Dict{Symbol, Any}())\n",
       "  (div { style=Dict(\"display\" => \"flex\", \"flex-direction\" => \"row\") }\n",
       "    Observable{Any} with 0 listeners. Value:\n",
       "Node{WebIO.DOM}(WebIO.DOM(:html, :div), Any[], Dict{Symbol, Any}())\n",
       "    Observable{Any} with 0 listeners. Value:\n",
       "Node{WebIO.DOM}(WebIO.DOM(:html, :div), Any[], Dict{Symbol, Any}())))"
      ]
     },
     "execution_count": 290,
     "metadata": {
      "application/vnd.webio.node+json": {
       "kernelId": "7785d7aa-8a23-4767-8e8a-66873a3fe0e5"
      }
     },
     "output_type": "execute_result"
    }
   ],
   "source": [
    "ar = cc\n",
    "arlen = length(ar)\n",
    "\n",
    "power_slider = slider(1:15; label=\"2^n periods\", default=7)\n",
    "start_slider_box = Observable{Any}(dom\"div\"())\n",
    "hist_box = Observable{Any}(dom\"div\"())\n",
    "window_size = Observable(1)\n",
    "window_count = Observable(1)\n",
    "start_index = Observable(1)\n",
    "plt_box = Observable{Any}(dom\"div\"())\n",
    "txtTimeRange = Observable{Any}(dom\"div\"())\n",
    "\n",
    "function make_startslider(window_count) \n",
    "    start_slider = slider(1:window_count; label=\"window#\")\n",
    "    map!(x -> window_size[]*x , start_index, start_slider)\n",
    "    dom\"div\"(start_slider)\n",
    "end\n",
    "function make_hist(start, window_size) \n",
    "    A = wplotim(ar[start:start+window_size])\n",
    "    dom\"div\"(heatmap(A))\n",
    "end\n",
    "function make_plot(start_index, window_size) \n",
    "#     A = wplotim(ar[start:start+2^w2-1])\n",
    "    dom\"div\"(plot(ar[start_index:start_index+window_size]))\n",
    "end\n",
    "\n",
    "map!(x -> 2^x-1 , window_size, power_slider)\n",
    "map!(x -> Int64(trunc(arlen/x)) , window_count, window_size)\n",
    "map!(make_startslider, start_slider_box, window_count)\n",
    "\n",
    "map!(make_hist, hist_box, start_index, window_size)\n",
    "# map!(make_plot, hist_box, start_index, window_size)\n",
    "\n",
    "map!(make_plot, plt_box, start_index, window_size)\n",
    "# map!((st,ed) -> dom\"div\"(unix2datetime(ut[winstartbox[] * (2^w2slider[])])) ,txtTimeRange,winstartbox, w2slider)\n",
    "# map!((st,ed) -> HTML(String(st)) ,\n",
    "#     txtTimeRange,winstartbox, w2slider)\n",
    "\n",
    "# map!((starti,endi) -> ar[starti:endi], plt, winstartbox, wcnt)\n",
    "\n",
    "ui = vbox(power_slider, start_slider_box, \n",
    "    hbox(hist_box,plt_box)\n",
    "    ) #, hbox(txtTimeRange) #, hbox(histbox)\n"
   ]
  },
  {
   "cell_type": "code",
   "execution_count": null,
   "id": "629b68e1",
   "metadata": {},
   "outputs": [],
   "source": []
  },
  {
   "cell_type": "code",
   "execution_count": null,
   "id": "e6a5deee",
   "metadata": {},
   "outputs": [],
   "source": []
  },
  {
   "cell_type": "code",
   "execution_count": null,
   "id": "e3aef8fe",
   "metadata": {},
   "outputs": [],
   "source": []
  }
 ],
 "metadata": {
  "@webio": {
   "lastCommId": "7b1a7daffc9640478429ee10a253ea4a",
   "lastKernelId": "7785d7aa-8a23-4767-8e8a-66873a3fe0e5"
  },
  "kernelspec": {
   "display_name": "Julia 1.6.1",
   "language": "julia",
   "name": "julia-1.6"
  },
  "language_info": {
   "file_extension": ".jl",
   "mimetype": "application/julia",
   "name": "julia",
   "version": "1.6.1"
  }
 },
 "nbformat": 4,
 "nbformat_minor": 5
}
