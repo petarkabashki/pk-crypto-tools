{
 "cells": [
  {
   "cell_type": "code",
   "execution_count": 55,
   "id": "df274168",
   "metadata": {},
   "outputs": [
    {
     "data": {
      "text/plain": [
       "calc_wavelet (generic function with 1 method)"
      ]
     },
     "execution_count": 55,
     "metadata": {},
     "output_type": "execute_result"
    }
   ],
   "source": [
    "using Pipe\n",
    "using DataFrames\n",
    "# using StatsPlots\n",
    "using CSV\n",
    "# using RollingFunctions\n",
    "using Query\n",
    "# using GLMakie\n",
    "\n",
    "using JSON\n",
    "using DataFrames\n",
    "using Dates\n",
    "using Colors\n",
    "# using ColorSchemes\n",
    "using Indicators\n",
    "\n",
    "import Colors\n",
    "using Plots\n",
    "using Interact\n",
    "using JuliaDB\n",
    "using Interact\n",
    "using Wavelets,WaveletsExt\n",
    "using LinearAlgebra\n",
    "# import Pkg; Pkg.add(\"ShiftedArrays\")\n",
    "# using ShiftedArrays\n",
    "include(\"utils.jl\")"
   ]
  },
  {
   "cell_type": "code",
   "execution_count": null,
   "id": "28649042",
   "metadata": {},
   "outputs": [],
   "source": [
    "\n"
   ]
  },
  {
   "cell_type": "code",
   "execution_count": 20,
   "id": "e27136ce",
   "metadata": {},
   "outputs": [],
   "source": [
    "json_data_folder = \"../user_data/data/binance\"\n",
    "json_filename = \"BTC_USDT-1m.json\"\n",
    "json_filepath = \"$json_data_folder/$json_filename\"\n",
    "f = open(json_filepath, \"r\")\n",
    "json_data = JSON.parse(f)\n",
    "close(f)"
   ]
  },
  {
   "cell_type": "code",
   "execution_count": 21,
   "id": "278ff7dc",
   "metadata": {},
   "outputs": [
    {
     "data": {
      "text/plain": [
       "129177"
      ]
     },
     "execution_count": 21,
     "metadata": {},
     "output_type": "execute_result"
    }
   ],
   "source": [
    "dfa = DataFrame(unix_time = Int64[], open=Float64[], high=Float64[], low=Float64[], close=Float64[], volume=Float64[])\n",
    "for r in json_data push!(dfa, r) end\n",
    "dfa.unix_time .= dfa.unix_time ./1000\n",
    "# dfa.time .= unix2datetime.(dfa.unix_time)\n",
    "\n",
    "insertcols!(dfa, :time => unix2datetime.(dfa.unix_time))\n",
    "nrow(dfa)"
   ]
  },
  {
   "cell_type": "code",
   "execution_count": 22,
   "id": "c9b59b02",
   "metadata": {},
   "outputs": [
    {
     "data": {
      "text/plain": [
       "124757"
      ]
     },
     "execution_count": 22,
     "metadata": {},
     "output_type": "execute_result"
    }
   ],
   "source": [
    "start_date = DateTime(2021, 3, 1)\n",
    "end_date = DateTime(2021, 5, 27)\n",
    "vdf = dfa[(dfa.time .>= start_date) .& (dfa.time .<= end_date) , :]\n",
    "ut, tt, hh, ll, cc = vdf.unix_time, vdf.time, vdf.high, vdf.low, vdf.close\n",
    "# h14max = [fill(vdf[1,:high],8-1)...,rollmax(vdf.high, 8)...]\n",
    "#  length(h14max), length(vdf.close)\n",
    "# hlc = [hh ll cc]\n",
    "length(tt)"
   ]
  },
  {
   "cell_type": "code",
   "execution_count": null,
   "id": "bbc09b4c",
   "metadata": {},
   "outputs": [],
   "source": []
  },
  {
   "cell_type": "code",
   "execution_count": 30,
   "id": "11232e00",
   "metadata": {},
   "outputs": [
    {
     "data": {
      "text/plain": [
       "get_wavelet (generic function with 1 method)"
      ]
     },
     "execution_count": 30,
     "metadata": {},
     "output_type": "execute_result"
    }
   ],
   "source": [
    "\n",
    "function get_wavelet(ar, (m, perc, shift))\n",
    "    fxt = calc_wavelet(ar, m)\n",
    "    \n",
    "    shifted_wave1 = (1 + perc/100) * \n",
    "        circshift(fxt , Int(trunc(m * shift)))\n",
    "\n",
    "end"
   ]
  },
  {
   "cell_type": "code",
   "execution_count": 7,
   "id": "5daeb800",
   "metadata": {},
   "outputs": [
    {
     "data": {
      "text/plain": [
       "wavelet_sliders (generic function with 1 method)"
      ]
     },
     "execution_count": 7,
     "metadata": {},
     "output_type": "execute_result"
    }
   ],
   "source": [
    "\n",
    "function wavelet_sliders()\n",
    "    \n",
    "    m_slider = slider(1:200; label=\"m\", default=50)\n",
    "    perc_slider = slider(-5.0:0.05:5.0; label=\"%\", default=0)\n",
    "    shift_slider = slider(-1:0.05:1.0; label=\"shift\", default=0)\n",
    "    \n",
    "    output = Interact.@map (&m_slider , &perc_slider, &shift_slider)\n",
    "#     output = Interact.@map circshift(get_wavelet(ar, m)*(1+ perc/100), Int(trunc(m*shift)) )\n",
    "    \n",
    "    wdg = Widget([\"m_slider\" => m_slider, \"perc_slider\" => perc_slider, \"shift_slider\" => shift_slider], output = output)\n",
    "    @layout! wdg hbox(:m_slider, :perc_slider, :shift_slider)\n",
    "end"
   ]
  },
  {
   "cell_type": "code",
   "execution_count": 32,
   "id": "d2b0ecb3",
   "metadata": {},
   "outputs": [
    {
     "ename": "LoadError",
     "evalue": "UndefVarError: wave1 not defined",
     "output_type": "error",
     "traceback": [
      "UndefVarError: wave1 not defined",
      "",
      "Stacktrace:",
      " [1] top-level scope",
      "   @ In[32]:1",
      " [2] eval",
      "   @ ./boot.jl:360 [inlined]",
      " [3] include_string(mapexpr::typeof(REPL.softscope), mod::Module, code::String, filename::String)",
      "   @ Base ./loading.jl:1094"
     ]
    }
   ],
   "source": [
    "wave1[][100]"
   ]
  },
  {
   "cell_type": "code",
   "execution_count": 146,
   "id": "f8309305",
   "metadata": {},
   "outputs": [
    {
     "ename": "LoadError",
     "evalue": "InexactError: Int64(127.5)",
     "output_type": "error",
     "traceback": [
      "InexactError: Int64(127.5)",
      "",
      "Stacktrace:",
      " [1] Int64",
      "   @ ./float.jl:723 [inlined]",
      " [2] (::var\"#1338#1339\")(2490::Int64, 2489::Vector{Float64})",
      "   @ Main ./none:0",
      " [3] map(f::Function, observable::Observable{Any}, os::Observable{Any})",
      "   @ Observables ~/.julia/packages/Observables/Yf3xU/src/Observables.jl:365",
      " [4] top-level scope",
      "   @ In[146]:36",
      " [5] eval",
      "   @ ./boot.jl:360 [inlined]",
      " [6] include_string(mapexpr::typeof(REPL.softscope), mod::Module, code::String, filename::String)",
      "   @ Base ./loading.jl:1094"
     ]
    }
   ],
   "source": [
    "\n",
    "\n",
    "# wave1 = Interact.@map get_wavelet(&par, &wave_slds_1[:m_slider]) \n",
    "\n",
    "# shifted_wave1 = Interact.@map (1 + &wave_slds_1[:perc_slider]/100) * \n",
    "#     circshift(&wave1 , Int(trunc(&wave_slds_1[:m_slider] * &wave_slds_1[:shift_slider])))\n",
    "\n",
    "\n",
    "# function draw_it_all(ar, (m, perc, shift))\n",
    "    \n",
    "#     wave_ar = get_wavelet(ar, m)\n",
    "#     plt = plot(ar, size=(1200,600), legend=nothing)\n",
    "#     plt1 = plot!(circshift(wave_ar*(1+ perc/100), Int(trunc(m*shift)) ), color=:red)\n",
    "#     dom\"div\"(plt1)\n",
    "# end\n",
    "subs=1\n",
    "ar_len = length(cc)\n",
    "wsl = window_slider(ar_len, subs=subs)\n",
    "wst = Interact.@map first(&wsl)\n",
    "wed = Interact.@map last(&wsl)\n",
    "wsz = Interact.@map &wed - &wst\n",
    "plot_box = Observable{Any}(dom\"div\"())\n",
    "rng = Interact.@map &wst: &wed\n",
    "wcc = Interact.@map cc[&rng]\n",
    "wut = Interact.@map ut[&rng]\n",
    "wtt = Interact.@map tt[&rng]\n",
    "\n",
    "wvmsl = slider(1:200; label=\"m\", default=50)\n",
    "wvmsl[] = 5\n",
    "# prcc = Interact.@map &wst > 1 ? cc[&wst - &wsz:&wst] : cc[&rng]\n",
    "# wt = wavelet(WT.haar)\n",
    "# xt = Interact.@map length(&prcc) > 0 ? dwt(&prcc, wt, &wvmsl) : []\n",
    "# xtcff = Interact.@map length(&xt) > 0 ? (&xt)[1:2^(&wvmsl-1)] : []\n",
    "# xtcff = []\n",
    "\n",
    "xt = Interact.@map dwt(&wcc, wt, Int64(&wsz/2))\n",
    "Interact.@map threshold!(&xt, BiggestTH(), &wvmsl)\n",
    "fxt = Interact.@map idwt(&xt, wt)\n",
    "\n",
    "\n",
    "# # put = Interact.@map ut[&rng]\n",
    "# # wtt = Interact.@map tt[&rng]\n",
    "\n",
    "\n",
    "function draw_it_all(wcc,fxt)    \n",
    "   \n",
    "    f1 = plot(wcc, size=(1200,500))\n",
    "#     length(xtcff) > 0 && hline!(xtcff)\n",
    "    plot!(fxt)\n",
    "#     plt = plot(f1,f2, size=(1200,500))\n",
    "    dom\"div\"(f1) \n",
    "end\n",
    "\n",
    "map!(draw_it_all, plot_box, wcc, fxt)\n",
    "ui = dom\"div\"(wvmsl,\n",
    "        plot_box,wsl\n",
    "    )\n",
    "wsl[:log2_slider][] = 9\n",
    "ui"
   ]
  },
  {
   "cell_type": "code",
   "execution_count": 139,
   "id": "8bab4dc1",
   "metadata": {},
   "outputs": [],
   "source": [
    "# dwt(prcc[], wt, &wvmsl)\n",
    "# prcc\n",
    "# Plots.hline(xt[][1:2^4])\n",
    "# xtcff[]"
   ]
  },
  {
   "cell_type": "code",
   "execution_count": 9,
   "id": "c69b6f6f",
   "metadata": {},
   "outputs": [
    {
     "ename": "LoadError",
     "evalue": "MethodError: no method matching dwt(::Vector{Float64}, ::Wavelets.WT.Haar)\n\u001b[0mClosest candidates are:\n\u001b[0m  dwt(::AbstractArray{T, N} where N, \u001b[91m::OrthoFilter\u001b[39m) where T<:Union{AbstractFloat, Complex} at /Users/johnsmith/.julia/dev/Wavelets/src/mod/Transforms.jl:114\n\u001b[0m  dwt(::AbstractArray{T, N} where N, \u001b[91m::OrthoFilter\u001b[39m, \u001b[91m::Integer\u001b[39m) where T<:Union{AbstractFloat, Complex} at /Users/johnsmith/.julia/dev/Wavelets/src/mod/Transforms.jl:114\n\u001b[0m  dwt(::AbstractArray{T, N} where N, \u001b[91m::GLS\u001b[39m) where T<:Union{AbstractFloat, Complex} at /Users/johnsmith/.julia/dev/Wavelets/src/mod/Transforms.jl:124\n\u001b[0m  ...",
     "output_type": "error",
     "traceback": [
      "MethodError: no method matching dwt(::Vector{Float64}, ::Wavelets.WT.Haar)\n\u001b[0mClosest candidates are:\n\u001b[0m  dwt(::AbstractArray{T, N} where N, \u001b[91m::OrthoFilter\u001b[39m) where T<:Union{AbstractFloat, Complex} at /Users/johnsmith/.julia/dev/Wavelets/src/mod/Transforms.jl:114\n\u001b[0m  dwt(::AbstractArray{T, N} where N, \u001b[91m::OrthoFilter\u001b[39m, \u001b[91m::Integer\u001b[39m) where T<:Union{AbstractFloat, Complex} at /Users/johnsmith/.julia/dev/Wavelets/src/mod/Transforms.jl:114\n\u001b[0m  dwt(::AbstractArray{T, N} where N, \u001b[91m::GLS\u001b[39m) where T<:Union{AbstractFloat, Complex} at /Users/johnsmith/.julia/dev/Wavelets/src/mod/Transforms.jl:124\n\u001b[0m  ...",
      "",
      "Stacktrace:",
      " [1] calc_wavelet(ar::Vector{Float64}, m::Int64, wt::Wavelets.WT.Haar)",
      "   @ Main ~/quant/pk-crypto-tools/julia-algo/utils.jl:38",
      " [2] (::var\"#28#30\"{Int64, Int64})(i::Int64)",
      "   @ Main ./none:0",
      " [3] iterate",
      "   @ ./generator.jl:47 [inlined]",
      " [4] collect",
      "   @ ./array.jl:678 [inlined]",
      " [5] (::var\"#27#29\")(s::Int64, m1::Int64)",
      "   @ Main ./In[9]:22",
      " [6] map(f::Function, observable::Widget{:slider, Int64}, os::Widget{:slider, Int64})",
      "   @ Observables ~/.julia/packages/Observables/Yf3xU/src/Observables.jl:365",
      " [7] top-level scope",
      "   @ ~/.julia/packages/Widgets/0HInz/src/manipulate.jl:25",
      " [8] eval",
      "   @ ./boot.jl:360 [inlined]",
      " [9] include_string(mapexpr::typeof(REPL.softscope), mod::Module, code::String, filename::String)",
      "   @ Base ./loading.jl:1094"
     ]
    }
   ],
   "source": [
    "ar=cc\n",
    "mp = @manipulate for \n",
    "            s in slider(1:12000; label=\"s\", default=7),\n",
    "            m1 in slider(1:100; label=\"m\", default=11)\n",
    "#             m2 in slider(1:100; label=\"m\", default=11)\n",
    "    wsize = 2^9\n",
    "    wstart = 1400 + s\n",
    "    wend = wstart+wsize-1\n",
    "    wrng = wstart:wend\n",
    "    \n",
    "    xar = ar[wrng]\n",
    "    plot(xar, size=(1200,400),legend=nothing)\n",
    "#     plot!(calc_wavelet(xar,16))\n",
    "    wave_window_size = Int(wsize/2)\n",
    "    \n",
    "#     wave1 = calc_wavelet(xar[1:wave_window_size],2)\n",
    "#     wave2 = calc_wavelet(xar[1:wave_window_size],1)\n",
    "#     plot!(wave1)\n",
    "#     plot!(wave2)\n",
    "#     plot!(wave2, fillrange=wave2*0.99, fillalpha=0.05)\n",
    "#     , fillranges=[0.995*wave1_ar,1.05*wave1_ar], fillalpha=0.01,\n",
    "    wave1_ar = [last(calc_wavelet(ar[i-wave_window_size+1:i],m1, WT.haar)) for i in wrng]\n",
    "    plot!(wave1_ar, lw=1.8)\n",
    "    \n",
    "#     wave2_ar = [last(calc_wavelet(ar[i-wave_window_size+1:i],m2, WT.haar)) for i in wrng]\n",
    "#     plot!(wave2_ar)\n",
    "    \n",
    "#     wave3_ar = [last(calc_wavelet(ar[i-Int(wave_window_size/2)+1:i],5, WT.db6)) for i in wrng]\n",
    "#     plot!(wave3_ar, fillranges=[0.995*wave1_ar,1.05*wave1_ar], fillalpha=0.01)\n",
    "    \n",
    "    vline!([Int(wsize/2)])\n",
    "    \n",
    "    \n",
    "end \n",
    "mp"
   ]
  },
  {
   "cell_type": "code",
   "execution_count": null,
   "id": "056290c9",
   "metadata": {},
   "outputs": [],
   "source": [
    " [ (i,j, j/60, j/60/24) for (i,j) in [(i, 2^i) for i in 1:15]]"
   ]
  },
  {
   "cell_type": "code",
   "execution_count": 10,
   "id": "3299ab36",
   "metadata": {},
   "outputs": [
    {
     "data": {
      "image/svg+xml": [
       "<?xml version=\"1.0\" encoding=\"utf-8\"?>\n",
       "<svg xmlns=\"http://www.w3.org/2000/svg\" xmlns:xlink=\"http://www.w3.org/1999/xlink\" width=\"1200\" height=\"400\" viewBox=\"0 0 4800 1600\">\n",
       "<defs>\n",
       "  <clipPath id=\"clip930\">\n",
       "    <rect x=\"0\" y=\"0\" width=\"4800\" height=\"1600\"/>\n",
       "  </clipPath>\n",
       "</defs>\n",
       "<path clip-path=\"url(#clip930)\" d=\"\n",
       "M0 1600 L4800 1600 L4800 0 L0 0  Z\n",
       "  \" fill=\"#ffffff\" fill-rule=\"evenodd\" fill-opacity=\"1\"/>\n",
       "<defs>\n",
       "  <clipPath id=\"clip931\">\n",
       "    <rect x=\"960\" y=\"0\" width=\"3361\" height=\"1600\"/>\n",
       "  </clipPath>\n",
       "</defs>\n",
       "<path clip-path=\"url(#clip930)\" d=\"\n",
       "M256.339 1503.73 L4752.76 1503.73 L4752.76 47.2441 L256.339 47.2441  Z\n",
       "  \" fill=\"#ffffff\" fill-rule=\"evenodd\" fill-opacity=\"1\"/>\n",
       "<defs>\n",
       "  <clipPath id=\"clip932\">\n",
       "    <rect x=\"256\" y=\"47\" width=\"4497\" height=\"1457\"/>\n",
       "  </clipPath>\n",
       "</defs>\n",
       "<polyline clip-path=\"url(#clip932)\" style=\"stroke:#000000; stroke-linecap:butt; stroke-linejoin:round; stroke-width:2; stroke-opacity:0.1; fill:none\" points=\"\n",
       "  375.294,1503.73 375.294,47.2441 \n",
       "  \"/>\n",
       "<polyline clip-path=\"url(#clip932)\" style=\"stroke:#000000; stroke-linecap:butt; stroke-linejoin:round; stroke-width:2; stroke-opacity:0.1; fill:none\" points=\"\n",
       "  1205.41,1503.73 1205.41,47.2441 \n",
       "  \"/>\n",
       "<polyline clip-path=\"url(#clip932)\" style=\"stroke:#000000; stroke-linecap:butt; stroke-linejoin:round; stroke-width:2; stroke-opacity:0.1; fill:none\" points=\"\n",
       "  2035.53,1503.73 2035.53,47.2441 \n",
       "  \"/>\n",
       "<polyline clip-path=\"url(#clip932)\" style=\"stroke:#000000; stroke-linecap:butt; stroke-linejoin:round; stroke-width:2; stroke-opacity:0.1; fill:none\" points=\"\n",
       "  2865.65,1503.73 2865.65,47.2441 \n",
       "  \"/>\n",
       "<polyline clip-path=\"url(#clip932)\" style=\"stroke:#000000; stroke-linecap:butt; stroke-linejoin:round; stroke-width:2; stroke-opacity:0.1; fill:none\" points=\"\n",
       "  3695.77,1503.73 3695.77,47.2441 \n",
       "  \"/>\n",
       "<polyline clip-path=\"url(#clip932)\" style=\"stroke:#000000; stroke-linecap:butt; stroke-linejoin:round; stroke-width:2; stroke-opacity:0.1; fill:none\" points=\"\n",
       "  4525.88,1503.73 4525.88,47.2441 \n",
       "  \"/>\n",
       "<polyline clip-path=\"url(#clip930)\" style=\"stroke:#000000; stroke-linecap:butt; stroke-linejoin:round; stroke-width:4; stroke-opacity:1; fill:none\" points=\"\n",
       "  256.339,1503.73 4752.76,1503.73 \n",
       "  \"/>\n",
       "<polyline clip-path=\"url(#clip930)\" style=\"stroke:#000000; stroke-linecap:butt; stroke-linejoin:round; stroke-width:4; stroke-opacity:1; fill:none\" points=\"\n",
       "  375.294,1503.73 375.294,1486.25 \n",
       "  \"/>\n",
       "<polyline clip-path=\"url(#clip930)\" style=\"stroke:#000000; stroke-linecap:butt; stroke-linejoin:round; stroke-width:4; stroke-opacity:1; fill:none\" points=\"\n",
       "  1205.41,1503.73 1205.41,1486.25 \n",
       "  \"/>\n",
       "<polyline clip-path=\"url(#clip930)\" style=\"stroke:#000000; stroke-linecap:butt; stroke-linejoin:round; stroke-width:4; stroke-opacity:1; fill:none\" points=\"\n",
       "  2035.53,1503.73 2035.53,1486.25 \n",
       "  \"/>\n",
       "<polyline clip-path=\"url(#clip930)\" style=\"stroke:#000000; stroke-linecap:butt; stroke-linejoin:round; stroke-width:4; stroke-opacity:1; fill:none\" points=\"\n",
       "  2865.65,1503.73 2865.65,1486.25 \n",
       "  \"/>\n",
       "<polyline clip-path=\"url(#clip930)\" style=\"stroke:#000000; stroke-linecap:butt; stroke-linejoin:round; stroke-width:4; stroke-opacity:1; fill:none\" points=\"\n",
       "  3695.77,1503.73 3695.77,1486.25 \n",
       "  \"/>\n",
       "<polyline clip-path=\"url(#clip930)\" style=\"stroke:#000000; stroke-linecap:butt; stroke-linejoin:round; stroke-width:4; stroke-opacity:1; fill:none\" points=\"\n",
       "  4525.88,1503.73 4525.88,1486.25 \n",
       "  \"/>\n",
       "<path clip-path=\"url(#clip930)\" d=\"M375.294 1552.12 Q371.683 1552.12 369.855 1555.68 Q368.049 1559.23 368.049 1566.35 Q368.049 1573.46 369.855 1577.03 Q371.683 1580.57 375.294 1580.57 Q378.929 1580.57 380.734 1577.03 Q382.563 1573.46 382.563 1566.35 Q382.563 1559.23 380.734 1555.68 Q378.929 1552.12 375.294 1552.12 M375.294 1548.41 Q381.105 1548.41 384.16 1553.02 Q387.239 1557.6 387.239 1566.35 Q387.239 1575.08 384.16 1579.69 Q381.105 1584.27 375.294 1584.27 Q369.484 1584.27 366.406 1579.69 Q363.35 1575.08 363.35 1566.35 Q363.35 1557.6 366.406 1553.02 Q369.484 1548.41 375.294 1548.41 Z\" fill=\"#000000\" fill-rule=\"evenodd\" fill-opacity=\"1\" /><path clip-path=\"url(#clip930)\" d=\"M1165.02 1579.66 L1172.66 1579.66 L1172.66 1553.3 L1164.35 1554.97 L1164.35 1550.71 L1172.61 1549.04 L1177.29 1549.04 L1177.29 1579.66 L1184.93 1579.66 L1184.93 1583.6 L1165.02 1583.6 L1165.02 1579.66 Z\" fill=\"#000000\" fill-rule=\"evenodd\" fill-opacity=\"1\" /><path clip-path=\"url(#clip930)\" d=\"M1204.37 1552.12 Q1200.76 1552.12 1198.93 1555.68 Q1197.13 1559.23 1197.13 1566.35 Q1197.13 1573.46 1198.93 1577.03 Q1200.76 1580.57 1204.37 1580.57 Q1208.01 1580.57 1209.81 1577.03 Q1211.64 1573.46 1211.64 1566.35 Q1211.64 1559.23 1209.81 1555.68 Q1208.01 1552.12 1204.37 1552.12 M1204.37 1548.41 Q1210.18 1548.41 1213.24 1553.02 Q1216.32 1557.6 1216.32 1566.35 Q1216.32 1575.08 1213.24 1579.69 Q1210.18 1584.27 1204.37 1584.27 Q1198.56 1584.27 1195.48 1579.69 Q1192.43 1575.08 1192.43 1566.35 Q1192.43 1557.6 1195.48 1553.02 Q1198.56 1548.41 1204.37 1548.41 Z\" fill=\"#000000\" fill-rule=\"evenodd\" fill-opacity=\"1\" /><path clip-path=\"url(#clip930)\" d=\"M1234.53 1552.12 Q1230.92 1552.12 1229.09 1555.68 Q1227.29 1559.23 1227.29 1566.35 Q1227.29 1573.46 1229.09 1577.03 Q1230.92 1580.57 1234.53 1580.57 Q1238.17 1580.57 1239.97 1577.03 Q1241.8 1573.46 1241.8 1566.35 Q1241.8 1559.23 1239.97 1555.68 Q1238.17 1552.12 1234.53 1552.12 M1234.53 1548.41 Q1240.34 1548.41 1243.4 1553.02 Q1246.48 1557.6 1246.48 1566.35 Q1246.48 1575.08 1243.4 1579.69 Q1240.34 1584.27 1234.53 1584.27 Q1228.72 1584.27 1225.64 1579.69 Q1222.59 1575.08 1222.59 1566.35 Q1222.59 1557.6 1225.64 1553.02 Q1228.72 1548.41 1234.53 1548.41 Z\" fill=\"#000000\" fill-rule=\"evenodd\" fill-opacity=\"1\" /><path clip-path=\"url(#clip930)\" d=\"M1999.22 1579.66 L2015.54 1579.66 L2015.54 1583.6 L1993.6 1583.6 L1993.6 1579.66 Q1996.26 1576.91 2000.84 1572.28 Q2005.45 1567.63 2006.63 1566.29 Q2008.88 1563.76 2009.76 1562.03 Q2010.66 1560.27 2010.66 1558.58 Q2010.66 1555.82 2008.71 1554.09 Q2006.79 1552.35 2003.69 1552.35 Q2001.49 1552.35 1999.04 1553.11 Q1996.61 1553.88 1993.83 1555.43 L1993.83 1550.71 Q1996.65 1549.57 1999.11 1548.99 Q2001.56 1548.41 2003.6 1548.41 Q2008.97 1548.41 2012.16 1551.1 Q2015.36 1553.79 2015.36 1558.28 Q2015.36 1560.41 2014.55 1562.33 Q2013.76 1564.22 2011.65 1566.82 Q2011.07 1567.49 2007.97 1570.71 Q2004.87 1573.9 1999.22 1579.66 Z\" fill=\"#000000\" fill-rule=\"evenodd\" fill-opacity=\"1\" /><path clip-path=\"url(#clip930)\" d=\"M2035.36 1552.12 Q2031.75 1552.12 2029.92 1555.68 Q2028.11 1559.23 2028.11 1566.35 Q2028.11 1573.46 2029.92 1577.03 Q2031.75 1580.57 2035.36 1580.57 Q2038.99 1580.57 2040.8 1577.03 Q2042.63 1573.46 2042.63 1566.35 Q2042.63 1559.23 2040.8 1555.68 Q2038.99 1552.12 2035.36 1552.12 M2035.36 1548.41 Q2041.17 1548.41 2044.22 1553.02 Q2047.3 1557.6 2047.3 1566.35 Q2047.3 1575.08 2044.22 1579.69 Q2041.17 1584.27 2035.36 1584.27 Q2029.55 1584.27 2026.47 1579.69 Q2023.41 1575.08 2023.41 1566.35 Q2023.41 1557.6 2026.47 1553.02 Q2029.55 1548.41 2035.36 1548.41 Z\" fill=\"#000000\" fill-rule=\"evenodd\" fill-opacity=\"1\" /><path clip-path=\"url(#clip930)\" d=\"M2065.52 1552.12 Q2061.91 1552.12 2060.08 1555.68 Q2058.27 1559.23 2058.27 1566.35 Q2058.27 1573.46 2060.08 1577.03 Q2061.91 1580.57 2065.52 1580.57 Q2069.15 1580.57 2070.96 1577.03 Q2072.79 1573.46 2072.79 1566.35 Q2072.79 1559.23 2070.96 1555.68 Q2069.15 1552.12 2065.52 1552.12 M2065.52 1548.41 Q2071.33 1548.41 2074.38 1553.02 Q2077.46 1557.6 2077.46 1566.35 Q2077.46 1575.08 2074.38 1579.69 Q2071.33 1584.27 2065.52 1584.27 Q2059.71 1584.27 2056.63 1579.69 Q2053.57 1575.08 2053.57 1566.35 Q2053.57 1557.6 2056.63 1553.02 Q2059.71 1548.41 2065.52 1548.41 Z\" fill=\"#000000\" fill-rule=\"evenodd\" fill-opacity=\"1\" /><path clip-path=\"url(#clip930)\" d=\"M2839.41 1564.97 Q2842.77 1565.68 2844.64 1567.95 Q2846.54 1570.22 2846.54 1573.55 Q2846.54 1578.67 2843.02 1581.47 Q2839.5 1584.27 2833.02 1584.27 Q2830.85 1584.27 2828.53 1583.83 Q2826.24 1583.41 2823.79 1582.56 L2823.79 1578.04 Q2825.73 1579.18 2828.04 1579.76 Q2830.36 1580.34 2832.88 1580.34 Q2837.28 1580.34 2839.57 1578.6 Q2841.89 1576.86 2841.89 1573.55 Q2841.89 1570.5 2839.73 1568.79 Q2837.6 1567.05 2833.79 1567.05 L2829.76 1567.05 L2829.76 1563.21 L2833.97 1563.21 Q2837.42 1563.21 2839.25 1561.84 Q2841.08 1560.45 2841.08 1557.86 Q2841.08 1555.2 2839.18 1553.79 Q2837.3 1552.35 2833.79 1552.35 Q2831.86 1552.35 2829.66 1552.77 Q2827.47 1553.18 2824.83 1554.06 L2824.83 1549.9 Q2827.49 1549.16 2829.8 1548.79 Q2832.14 1548.41 2834.2 1548.41 Q2839.53 1548.41 2842.63 1550.85 Q2845.73 1553.25 2845.73 1557.37 Q2845.73 1560.24 2844.09 1562.23 Q2842.44 1564.2 2839.41 1564.97 Z\" fill=\"#000000\" fill-rule=\"evenodd\" fill-opacity=\"1\" /><path clip-path=\"url(#clip930)\" d=\"M2865.41 1552.12 Q2861.79 1552.12 2859.97 1555.68 Q2858.16 1559.23 2858.16 1566.35 Q2858.16 1573.46 2859.97 1577.03 Q2861.79 1580.57 2865.41 1580.57 Q2869.04 1580.57 2870.85 1577.03 Q2872.67 1573.46 2872.67 1566.35 Q2872.67 1559.23 2870.85 1555.68 Q2869.04 1552.12 2865.41 1552.12 M2865.41 1548.41 Q2871.22 1548.41 2874.27 1553.02 Q2877.35 1557.6 2877.35 1566.35 Q2877.35 1575.08 2874.27 1579.69 Q2871.22 1584.27 2865.41 1584.27 Q2859.6 1584.27 2856.52 1579.69 Q2853.46 1575.08 2853.46 1566.35 Q2853.46 1557.6 2856.52 1553.02 Q2859.6 1548.41 2865.41 1548.41 Z\" fill=\"#000000\" fill-rule=\"evenodd\" fill-opacity=\"1\" /><path clip-path=\"url(#clip930)\" d=\"M2895.57 1552.12 Q2891.96 1552.12 2890.13 1555.68 Q2888.32 1559.23 2888.32 1566.35 Q2888.32 1573.46 2890.13 1577.03 Q2891.96 1580.57 2895.57 1580.57 Q2899.2 1580.57 2901.01 1577.03 Q2902.84 1573.46 2902.84 1566.35 Q2902.84 1559.23 2901.01 1555.68 Q2899.2 1552.12 2895.57 1552.12 M2895.57 1548.41 Q2901.38 1548.41 2904.43 1553.02 Q2907.51 1557.6 2907.51 1566.35 Q2907.51 1575.08 2904.43 1579.69 Q2901.38 1584.27 2895.57 1584.27 Q2889.76 1584.27 2886.68 1579.69 Q2883.62 1575.08 2883.62 1566.35 Q2883.62 1557.6 2886.68 1553.02 Q2889.76 1548.41 2895.57 1548.41 Z\" fill=\"#000000\" fill-rule=\"evenodd\" fill-opacity=\"1\" /><path clip-path=\"url(#clip930)\" d=\"M3668.86 1553.11 L3657.05 1571.56 L3668.86 1571.56 L3668.86 1553.11 M3667.63 1549.04 L3673.51 1549.04 L3673.51 1571.56 L3678.44 1571.56 L3678.44 1575.45 L3673.51 1575.45 L3673.51 1583.6 L3668.86 1583.6 L3668.86 1575.45 L3653.26 1575.45 L3653.26 1570.94 L3667.63 1549.04 Z\" fill=\"#000000\" fill-rule=\"evenodd\" fill-opacity=\"1\" /><path clip-path=\"url(#clip930)\" d=\"M3696.17 1552.12 Q3692.56 1552.12 3690.73 1555.68 Q3688.93 1559.23 3688.93 1566.35 Q3688.93 1573.46 3690.73 1577.03 Q3692.56 1580.57 3696.17 1580.57 Q3699.81 1580.57 3701.61 1577.03 Q3703.44 1573.46 3703.44 1566.35 Q3703.44 1559.23 3701.61 1555.68 Q3699.81 1552.12 3696.17 1552.12 M3696.17 1548.41 Q3701.98 1548.41 3705.04 1553.02 Q3708.12 1557.6 3708.12 1566.35 Q3708.12 1575.08 3705.04 1579.69 Q3701.98 1584.27 3696.17 1584.27 Q3690.36 1584.27 3687.28 1579.69 Q3684.23 1575.08 3684.23 1566.35 Q3684.23 1557.6 3687.28 1553.02 Q3690.36 1548.41 3696.17 1548.41 Z\" fill=\"#000000\" fill-rule=\"evenodd\" fill-opacity=\"1\" /><path clip-path=\"url(#clip930)\" d=\"M3726.33 1552.12 Q3722.72 1552.12 3720.89 1555.68 Q3719.09 1559.23 3719.09 1566.35 Q3719.09 1573.46 3720.89 1577.03 Q3722.72 1580.57 3726.33 1580.57 Q3729.97 1580.57 3731.77 1577.03 Q3733.6 1573.46 3733.6 1566.35 Q3733.6 1559.23 3731.77 1555.68 Q3729.97 1552.12 3726.33 1552.12 M3726.33 1548.41 Q3732.14 1548.41 3735.2 1553.02 Q3738.28 1557.6 3738.28 1566.35 Q3738.28 1575.08 3735.2 1579.69 Q3732.14 1584.27 3726.33 1584.27 Q3720.52 1584.27 3717.44 1579.69 Q3714.39 1575.08 3714.39 1566.35 Q3714.39 1557.6 3717.44 1553.02 Q3720.52 1548.41 3726.33 1548.41 Z\" fill=\"#000000\" fill-rule=\"evenodd\" fill-opacity=\"1\" /><path clip-path=\"url(#clip930)\" d=\"M4485.5 1549.04 L4503.86 1549.04 L4503.86 1552.98 L4489.79 1552.98 L4489.79 1561.45 Q4490.8 1561.1 4491.82 1560.94 Q4492.84 1560.75 4493.86 1560.75 Q4499.65 1560.75 4503.03 1563.92 Q4506.41 1567.1 4506.41 1572.51 Q4506.41 1578.09 4502.93 1581.19 Q4499.46 1584.27 4493.14 1584.27 Q4490.97 1584.27 4488.7 1583.9 Q4486.45 1583.53 4484.04 1582.79 L4484.04 1578.09 Q4486.13 1579.22 4488.35 1579.78 Q4490.57 1580.34 4493.05 1580.34 Q4497.05 1580.34 4499.39 1578.23 Q4501.73 1576.12 4501.73 1572.51 Q4501.73 1568.9 4499.39 1566.79 Q4497.05 1564.69 4493.05 1564.69 Q4491.17 1564.69 4489.3 1565.1 Q4487.45 1565.52 4485.5 1566.4 L4485.5 1549.04 Z\" fill=\"#000000\" fill-rule=\"evenodd\" fill-opacity=\"1\" /><path clip-path=\"url(#clip930)\" d=\"M4525.62 1552.12 Q4522.01 1552.12 4520.18 1555.68 Q4518.37 1559.23 4518.37 1566.35 Q4518.37 1573.46 4520.18 1577.03 Q4522.01 1580.57 4525.62 1580.57 Q4529.25 1580.57 4531.06 1577.03 Q4532.89 1573.46 4532.89 1566.35 Q4532.89 1559.23 4531.06 1555.68 Q4529.25 1552.12 4525.62 1552.12 M4525.62 1548.41 Q4531.43 1548.41 4534.48 1553.02 Q4537.56 1557.6 4537.56 1566.35 Q4537.56 1575.08 4534.48 1579.69 Q4531.43 1584.27 4525.62 1584.27 Q4519.81 1584.27 4516.73 1579.69 Q4513.67 1575.08 4513.67 1566.35 Q4513.67 1557.6 4516.73 1553.02 Q4519.81 1548.41 4525.62 1548.41 Z\" fill=\"#000000\" fill-rule=\"evenodd\" fill-opacity=\"1\" /><path clip-path=\"url(#clip930)\" d=\"M4555.78 1552.12 Q4552.17 1552.12 4550.34 1555.68 Q4548.53 1559.23 4548.53 1566.35 Q4548.53 1573.46 4550.34 1577.03 Q4552.17 1580.57 4555.78 1580.57 Q4559.41 1580.57 4561.22 1577.03 Q4563.05 1573.46 4563.05 1566.35 Q4563.05 1559.23 4561.22 1555.68 Q4559.41 1552.12 4555.78 1552.12 M4555.78 1548.41 Q4561.59 1548.41 4564.65 1553.02 Q4567.72 1557.6 4567.72 1566.35 Q4567.72 1575.08 4564.65 1579.69 Q4561.59 1584.27 4555.78 1584.27 Q4549.97 1584.27 4546.89 1579.69 Q4543.84 1575.08 4543.84 1566.35 Q4543.84 1557.6 4546.89 1553.02 Q4549.97 1548.41 4555.78 1548.41 Z\" fill=\"#000000\" fill-rule=\"evenodd\" fill-opacity=\"1\" /><polyline clip-path=\"url(#clip932)\" style=\"stroke:#000000; stroke-linecap:butt; stroke-linejoin:round; stroke-width:2; stroke-opacity:0.1; fill:none\" points=\"\n",
       "  256.339,1362.21 4752.76,1362.21 \n",
       "  \"/>\n",
       "<polyline clip-path=\"url(#clip932)\" style=\"stroke:#000000; stroke-linecap:butt; stroke-linejoin:round; stroke-width:2; stroke-opacity:0.1; fill:none\" points=\"\n",
       "  256.339,975.561 4752.76,975.561 \n",
       "  \"/>\n",
       "<polyline clip-path=\"url(#clip932)\" style=\"stroke:#000000; stroke-linecap:butt; stroke-linejoin:round; stroke-width:2; stroke-opacity:0.1; fill:none\" points=\"\n",
       "  256.339,588.913 4752.76,588.913 \n",
       "  \"/>\n",
       "<polyline clip-path=\"url(#clip932)\" style=\"stroke:#000000; stroke-linecap:butt; stroke-linejoin:round; stroke-width:2; stroke-opacity:0.1; fill:none\" points=\"\n",
       "  256.339,202.264 4752.76,202.264 \n",
       "  \"/>\n",
       "<polyline clip-path=\"url(#clip930)\" style=\"stroke:#000000; stroke-linecap:butt; stroke-linejoin:round; stroke-width:4; stroke-opacity:1; fill:none\" points=\"\n",
       "  256.339,1503.73 256.339,47.2441 \n",
       "  \"/>\n",
       "<polyline clip-path=\"url(#clip930)\" style=\"stroke:#000000; stroke-linecap:butt; stroke-linejoin:round; stroke-width:4; stroke-opacity:1; fill:none\" points=\"\n",
       "  256.339,1362.21 310.296,1362.21 \n",
       "  \"/>\n",
       "<polyline clip-path=\"url(#clip930)\" style=\"stroke:#000000; stroke-linecap:butt; stroke-linejoin:round; stroke-width:4; stroke-opacity:1; fill:none\" points=\"\n",
       "  256.339,975.561 310.296,975.561 \n",
       "  \"/>\n",
       "<polyline clip-path=\"url(#clip930)\" style=\"stroke:#000000; stroke-linecap:butt; stroke-linejoin:round; stroke-width:4; stroke-opacity:1; fill:none\" points=\"\n",
       "  256.339,588.913 310.296,588.913 \n",
       "  \"/>\n",
       "<polyline clip-path=\"url(#clip930)\" style=\"stroke:#000000; stroke-linecap:butt; stroke-linejoin:round; stroke-width:4; stroke-opacity:1; fill:none\" points=\"\n",
       "  256.339,202.264 310.296,202.264 \n",
       "  \"/>\n",
       "<path clip-path=\"url(#clip930)\" d=\"M54.5939 1349 L42.7884 1367.45 L54.5939 1367.45 L54.5939 1349 M53.367 1344.93 L59.2466 1344.93 L59.2466 1367.45 L64.1772 1367.45 L64.1772 1371.34 L59.2466 1371.34 L59.2466 1379.49 L54.5939 1379.49 L54.5939 1371.34 L38.9921 1371.34 L38.9921 1366.83 L53.367 1344.93 Z\" fill=\"#000000\" fill-rule=\"evenodd\" fill-opacity=\"1\" /><path clip-path=\"url(#clip930)\" d=\"M70.7281 1344.93 L92.9502 1344.93 L92.9502 1346.92 L80.4039 1379.49 L75.5197 1379.49 L87.3252 1348.87 L70.7281 1348.87 L70.7281 1344.93 Z\" fill=\"#000000\" fill-rule=\"evenodd\" fill-opacity=\"1\" /><path clip-path=\"url(#clip930)\" d=\"M112.07 1348.01 Q108.459 1348.01 106.631 1351.57 Q104.825 1355.12 104.825 1362.24 Q104.825 1369.35 106.631 1372.92 Q108.459 1376.46 112.07 1376.46 Q115.705 1376.46 117.51 1372.92 Q119.339 1369.35 119.339 1362.24 Q119.339 1355.12 117.51 1351.57 Q115.705 1348.01 112.07 1348.01 M112.07 1344.3 Q117.881 1344.3 120.936 1348.91 Q124.015 1353.49 124.015 1362.24 Q124.015 1370.97 120.936 1375.58 Q117.881 1380.16 112.07 1380.16 Q106.26 1380.16 103.182 1375.58 Q100.126 1370.97 100.126 1362.24 Q100.126 1353.49 103.182 1348.91 Q106.26 1344.3 112.07 1344.3 Z\" fill=\"#000000\" fill-rule=\"evenodd\" fill-opacity=\"1\" /><path clip-path=\"url(#clip930)\" d=\"M142.232 1348.01 Q138.621 1348.01 136.793 1351.57 Q134.987 1355.12 134.987 1362.24 Q134.987 1369.35 136.793 1372.92 Q138.621 1376.46 142.232 1376.46 Q145.867 1376.46 147.672 1372.92 Q149.501 1369.35 149.501 1362.24 Q149.501 1355.12 147.672 1351.57 Q145.867 1348.01 142.232 1348.01 M142.232 1344.3 Q148.042 1344.3 151.098 1348.91 Q154.177 1353.49 154.177 1362.24 Q154.177 1370.97 151.098 1375.58 Q148.042 1380.16 142.232 1380.16 Q136.422 1380.16 133.343 1375.58 Q130.288 1370.97 130.288 1362.24 Q130.288 1353.49 133.343 1348.91 Q136.422 1344.3 142.232 1344.3 Z\" fill=\"#000000\" fill-rule=\"evenodd\" fill-opacity=\"1\" /><path clip-path=\"url(#clip930)\" d=\"M172.394 1348.01 Q168.783 1348.01 166.954 1351.57 Q165.149 1355.12 165.149 1362.24 Q165.149 1369.35 166.954 1372.92 Q168.783 1376.46 172.394 1376.46 Q176.028 1376.46 177.834 1372.92 Q179.663 1369.35 179.663 1362.24 Q179.663 1355.12 177.834 1351.57 Q176.028 1348.01 172.394 1348.01 M172.394 1344.3 Q178.204 1344.3 181.26 1348.91 Q184.339 1353.49 184.339 1362.24 Q184.339 1370.97 181.26 1375.58 Q178.204 1380.16 172.394 1380.16 Q166.584 1380.16 163.505 1375.58 Q160.45 1370.97 160.45 1362.24 Q160.45 1353.49 163.505 1348.91 Q166.584 1344.3 172.394 1344.3 Z\" fill=\"#000000\" fill-rule=\"evenodd\" fill-opacity=\"1\" /><path clip-path=\"url(#clip930)\" d=\"M54.5939 962.355 L42.7884 980.804 L54.5939 980.804 L54.5939 962.355 M53.367 958.281 L59.2466 958.281 L59.2466 980.804 L64.1772 980.804 L64.1772 984.693 L59.2466 984.693 L59.2466 992.841 L54.5939 992.841 L54.5939 984.693 L38.9921 984.693 L38.9921 980.179 L53.367 958.281 Z\" fill=\"#000000\" fill-rule=\"evenodd\" fill-opacity=\"1\" /><path clip-path=\"url(#clip930)\" d=\"M70.7281 958.281 L92.9502 958.281 L92.9502 960.272 L80.4039 992.841 L75.5197 992.841 L87.3252 962.216 L70.7281 962.216 L70.7281 958.281 Z\" fill=\"#000000\" fill-rule=\"evenodd\" fill-opacity=\"1\" /><path clip-path=\"url(#clip930)\" d=\"M102.117 958.281 L120.473 958.281 L120.473 962.216 L106.399 962.216 L106.399 970.689 Q107.418 970.341 108.436 970.179 Q109.455 969.994 110.473 969.994 Q116.26 969.994 119.64 973.165 Q123.019 976.337 123.019 981.753 Q123.019 987.332 119.547 990.434 Q116.075 993.513 109.756 993.513 Q107.58 993.513 105.311 993.142 Q103.066 992.772 100.658 992.031 L100.658 987.332 Q102.742 988.466 104.964 989.022 Q107.186 989.577 109.663 989.577 Q113.668 989.577 116.006 987.471 Q118.344 985.364 118.344 981.753 Q118.344 978.142 116.006 976.036 Q113.668 973.929 109.663 973.929 Q107.788 973.929 105.913 974.346 Q104.061 974.763 102.117 975.642 L102.117 958.281 Z\" fill=\"#000000\" fill-rule=\"evenodd\" fill-opacity=\"1\" /><path clip-path=\"url(#clip930)\" d=\"M142.232 961.36 Q138.621 961.36 136.793 964.925 Q134.987 968.466 134.987 975.596 Q134.987 982.702 136.793 986.267 Q138.621 989.809 142.232 989.809 Q145.867 989.809 147.672 986.267 Q149.501 982.702 149.501 975.596 Q149.501 968.466 147.672 964.925 Q145.867 961.36 142.232 961.36 M142.232 957.656 Q148.042 957.656 151.098 962.263 Q154.177 966.846 154.177 975.596 Q154.177 984.323 151.098 988.929 Q148.042 993.513 142.232 993.513 Q136.422 993.513 133.343 988.929 Q130.288 984.323 130.288 975.596 Q130.288 966.846 133.343 962.263 Q136.422 957.656 142.232 957.656 Z\" fill=\"#000000\" fill-rule=\"evenodd\" fill-opacity=\"1\" /><path clip-path=\"url(#clip930)\" d=\"M172.394 961.36 Q168.783 961.36 166.954 964.925 Q165.149 968.466 165.149 975.596 Q165.149 982.702 166.954 986.267 Q168.783 989.809 172.394 989.809 Q176.028 989.809 177.834 986.267 Q179.663 982.702 179.663 975.596 Q179.663 968.466 177.834 964.925 Q176.028 961.36 172.394 961.36 M172.394 957.656 Q178.204 957.656 181.26 962.263 Q184.339 966.846 184.339 975.596 Q184.339 984.323 181.26 988.929 Q178.204 993.513 172.394 993.513 Q166.584 993.513 163.505 988.929 Q160.45 984.323 160.45 975.596 Q160.45 966.846 163.505 962.263 Q166.584 957.656 172.394 957.656 Z\" fill=\"#000000\" fill-rule=\"evenodd\" fill-opacity=\"1\" /><path clip-path=\"url(#clip930)\" d=\"M54.5939 575.707 L42.7884 594.156 L54.5939 594.156 L54.5939 575.707 M53.367 571.633 L59.2466 571.633 L59.2466 594.156 L64.1772 594.156 L64.1772 598.044 L59.2466 598.044 L59.2466 606.193 L54.5939 606.193 L54.5939 598.044 L38.9921 598.044 L38.9921 593.531 L53.367 571.633 Z\" fill=\"#000000\" fill-rule=\"evenodd\" fill-opacity=\"1\" /><path clip-path=\"url(#clip930)\" d=\"M81.9086 589.781 Q78.5752 589.781 76.654 591.563 Q74.7558 593.345 74.7558 596.47 Q74.7558 599.595 76.654 601.378 Q78.5752 603.16 81.9086 603.16 Q85.2419 603.16 87.1632 601.378 Q89.0845 599.572 89.0845 596.47 Q89.0845 593.345 87.1632 591.563 Q85.265 589.781 81.9086 589.781 M77.2327 587.79 Q74.2234 587.049 72.5336 584.989 Q70.867 582.929 70.867 579.966 Q70.867 575.822 73.8068 573.415 Q76.7697 571.008 81.9086 571.008 Q87.0706 571.008 90.0104 573.415 Q92.9502 575.822 92.9502 579.966 Q92.9502 582.929 91.2604 584.989 Q89.5937 587.049 86.6076 587.79 Q89.9872 588.577 91.8622 590.869 Q93.7604 593.16 93.7604 596.47 Q93.7604 601.493 90.6817 604.179 Q87.6261 606.864 81.9086 606.864 Q76.191 606.864 73.1123 604.179 Q70.0568 601.493 70.0568 596.47 Q70.0568 593.16 71.9549 590.869 Q73.8531 588.577 77.2327 587.79 M75.5197 580.406 Q75.5197 583.091 77.1864 584.595 Q78.8762 586.1 81.9086 586.1 Q84.9178 586.1 86.6076 584.595 Q88.3206 583.091 88.3206 580.406 Q88.3206 577.72 86.6076 576.216 Q84.9178 574.711 81.9086 574.711 Q78.8762 574.711 77.1864 576.216 Q75.5197 577.72 75.5197 580.406 Z\" fill=\"#000000\" fill-rule=\"evenodd\" fill-opacity=\"1\" /><path clip-path=\"url(#clip930)\" d=\"M112.07 574.711 Q108.459 574.711 106.631 578.276 Q104.825 581.818 104.825 588.947 Q104.825 596.054 106.631 599.618 Q108.459 603.16 112.07 603.16 Q115.705 603.16 117.51 599.618 Q119.339 596.054 119.339 588.947 Q119.339 581.818 117.51 578.276 Q115.705 574.711 112.07 574.711 M112.07 571.008 Q117.881 571.008 120.936 575.614 Q124.015 580.197 124.015 588.947 Q124.015 597.674 120.936 602.28 Q117.881 606.864 112.07 606.864 Q106.26 606.864 103.182 602.28 Q100.126 597.674 100.126 588.947 Q100.126 580.197 103.182 575.614 Q106.26 571.008 112.07 571.008 Z\" fill=\"#000000\" fill-rule=\"evenodd\" fill-opacity=\"1\" /><path clip-path=\"url(#clip930)\" d=\"M142.232 574.711 Q138.621 574.711 136.793 578.276 Q134.987 581.818 134.987 588.947 Q134.987 596.054 136.793 599.618 Q138.621 603.16 142.232 603.16 Q145.867 603.16 147.672 599.618 Q149.501 596.054 149.501 588.947 Q149.501 581.818 147.672 578.276 Q145.867 574.711 142.232 574.711 M142.232 571.008 Q148.042 571.008 151.098 575.614 Q154.177 580.197 154.177 588.947 Q154.177 597.674 151.098 602.28 Q148.042 606.864 142.232 606.864 Q136.422 606.864 133.343 602.28 Q130.288 597.674 130.288 588.947 Q130.288 580.197 133.343 575.614 Q136.422 571.008 142.232 571.008 Z\" fill=\"#000000\" fill-rule=\"evenodd\" fill-opacity=\"1\" /><path clip-path=\"url(#clip930)\" d=\"M172.394 574.711 Q168.783 574.711 166.954 578.276 Q165.149 581.818 165.149 588.947 Q165.149 596.054 166.954 599.618 Q168.783 603.16 172.394 603.16 Q176.028 603.16 177.834 599.618 Q179.663 596.054 179.663 588.947 Q179.663 581.818 177.834 578.276 Q176.028 574.711 172.394 574.711 M172.394 571.008 Q178.204 571.008 181.26 575.614 Q184.339 580.197 184.339 588.947 Q184.339 597.674 181.26 602.28 Q178.204 606.864 172.394 606.864 Q166.584 606.864 163.505 602.28 Q160.45 597.674 160.45 588.947 Q160.45 580.197 163.505 575.614 Q166.584 571.008 172.394 571.008 Z\" fill=\"#000000\" fill-rule=\"evenodd\" fill-opacity=\"1\" /><path clip-path=\"url(#clip930)\" d=\"M54.5939 189.058 L42.7884 207.507 L54.5939 207.507 L54.5939 189.058 M53.367 184.984 L59.2466 184.984 L59.2466 207.507 L64.1772 207.507 L64.1772 211.396 L59.2466 211.396 L59.2466 219.544 L54.5939 219.544 L54.5939 211.396 L38.9921 211.396 L38.9921 206.882 L53.367 184.984 Z\" fill=\"#000000\" fill-rule=\"evenodd\" fill-opacity=\"1\" /><path clip-path=\"url(#clip930)\" d=\"M81.9086 203.132 Q78.5752 203.132 76.654 204.914 Q74.7558 206.697 74.7558 209.822 Q74.7558 212.947 76.654 214.729 Q78.5752 216.511 81.9086 216.511 Q85.2419 216.511 87.1632 214.729 Q89.0845 212.923 89.0845 209.822 Q89.0845 206.697 87.1632 204.914 Q85.265 203.132 81.9086 203.132 M77.2327 201.141 Q74.2234 200.4 72.5336 198.34 Q70.867 196.28 70.867 193.317 Q70.867 189.174 73.8068 186.766 Q76.7697 184.359 81.9086 184.359 Q87.0706 184.359 90.0104 186.766 Q92.9502 189.174 92.9502 193.317 Q92.9502 196.28 91.2604 198.34 Q89.5937 200.4 86.6076 201.141 Q89.9872 201.928 91.8622 204.22 Q93.7604 206.511 93.7604 209.822 Q93.7604 214.845 90.6817 217.53 Q87.6261 220.215 81.9086 220.215 Q76.191 220.215 73.1123 217.53 Q70.0568 214.845 70.0568 209.822 Q70.0568 206.511 71.9549 204.22 Q73.8531 201.928 77.2327 201.141 M75.5197 193.757 Q75.5197 196.442 77.1864 197.947 Q78.8762 199.451 81.9086 199.451 Q84.9178 199.451 86.6076 197.947 Q88.3206 196.442 88.3206 193.757 Q88.3206 191.072 86.6076 189.567 Q84.9178 188.062 81.9086 188.062 Q78.8762 188.062 77.1864 189.567 Q75.5197 191.072 75.5197 193.757 Z\" fill=\"#000000\" fill-rule=\"evenodd\" fill-opacity=\"1\" /><path clip-path=\"url(#clip930)\" d=\"M102.117 184.984 L120.473 184.984 L120.473 188.919 L106.399 188.919 L106.399 197.391 Q107.418 197.044 108.436 196.882 Q109.455 196.697 110.473 196.697 Q116.26 196.697 119.64 199.868 Q123.019 203.039 123.019 208.456 Q123.019 214.035 119.547 217.136 Q116.075 220.215 109.756 220.215 Q107.58 220.215 105.311 219.845 Q103.066 219.474 100.658 218.734 L100.658 214.035 Q102.742 215.169 104.964 215.724 Q107.186 216.28 109.663 216.28 Q113.668 216.28 116.006 214.173 Q118.344 212.067 118.344 208.456 Q118.344 204.845 116.006 202.738 Q113.668 200.632 109.663 200.632 Q107.788 200.632 105.913 201.049 Q104.061 201.465 102.117 202.345 L102.117 184.984 Z\" fill=\"#000000\" fill-rule=\"evenodd\" fill-opacity=\"1\" /><path clip-path=\"url(#clip930)\" d=\"M142.232 188.062 Q138.621 188.062 136.793 191.627 Q134.987 195.169 134.987 202.299 Q134.987 209.405 136.793 212.97 Q138.621 216.511 142.232 216.511 Q145.867 216.511 147.672 212.97 Q149.501 209.405 149.501 202.299 Q149.501 195.169 147.672 191.627 Q145.867 188.062 142.232 188.062 M142.232 184.359 Q148.042 184.359 151.098 188.965 Q154.177 193.549 154.177 202.299 Q154.177 211.025 151.098 215.632 Q148.042 220.215 142.232 220.215 Q136.422 220.215 133.343 215.632 Q130.288 211.025 130.288 202.299 Q130.288 193.549 133.343 188.965 Q136.422 184.359 142.232 184.359 Z\" fill=\"#000000\" fill-rule=\"evenodd\" fill-opacity=\"1\" /><path clip-path=\"url(#clip930)\" d=\"M172.394 188.062 Q168.783 188.062 166.954 191.627 Q165.149 195.169 165.149 202.299 Q165.149 209.405 166.954 212.97 Q168.783 216.511 172.394 216.511 Q176.028 216.511 177.834 212.97 Q179.663 209.405 179.663 202.299 Q179.663 195.169 177.834 191.627 Q176.028 188.062 172.394 188.062 M172.394 184.359 Q178.204 184.359 181.26 188.965 Q184.339 193.549 184.339 202.299 Q184.339 211.025 181.26 215.632 Q178.204 220.215 172.394 220.215 Q166.584 220.215 163.505 215.632 Q160.45 211.025 160.45 202.299 Q160.45 193.549 163.505 188.965 Q166.584 184.359 172.394 184.359 Z\" fill=\"#000000\" fill-rule=\"evenodd\" fill-opacity=\"1\" /><polyline clip-path=\"url(#clip932)\" style=\"stroke:#009af9; stroke-linecap:butt; stroke-linejoin:round; stroke-width:4; stroke-opacity:1; fill:none\" points=\"\n",
       "  383.596,1462.51 391.897,1418.05 400.198,1393.44 408.499,1369.99 416.8,1348.03 425.102,1307.54 433.403,1372.44 441.704,1300.35 450.005,1279.23 458.306,1287.46 \n",
       "  466.607,1300.34 474.909,1327.5 483.21,1262.47 491.511,1256.47 499.812,1277.67 508.113,1275.95 516.415,1247.07 524.716,1244.17 533.017,1280.38 541.318,1316.98 \n",
       "  549.619,1299.6 557.92,1242.39 566.222,1226.56 574.523,1194.46 582.824,1121.6 591.125,1113.83 599.426,1086.73 607.728,1110.89 616.029,1094.86 624.33,1119.46 \n",
       "  632.631,1121.14 640.932,1149.44 649.233,1145.97 657.535,1155.16 665.836,1159.16 674.137,1157.84 682.438,1158.79 690.739,1168.89 699.041,1137.88 707.342,1161.42 \n",
       "  715.643,1157.29 723.944,1115.21 732.245,1082.31 740.546,1052.71 748.848,1063.05 757.149,1065.5 765.45,1052.89 773.751,1052.89 782.052,1096.99 790.353,1073.96 \n",
       "  798.655,1081.28 806.956,1042.69 815.257,1103.07 823.558,1111.48 831.859,1112.15 840.161,1056.49 848.462,1052.88 856.763,1050.01 865.064,1053.96 873.365,1049.35 \n",
       "  881.666,1054.65 889.968,1103.5 898.269,1140.71 906.57,1139.57 914.871,1124.69 923.172,1138.93 931.474,1114.17 939.775,1087.02 948.076,1125.74 956.377,1144.74 \n",
       "  964.678,1125.61 972.979,1110.56 981.281,1095.95 989.582,1097.04 997.883,1099.89 1006.18,1093.23 1014.49,1028.56 1022.79,1004.21 1031.09,975.561 1039.39,986.411 \n",
       "  1047.69,991.901 1055.99,994.306 1064.29,971.447 1072.59,895.208 1080.89,833.189 1089.2,851.254 1097.5,718.339 1105.8,767.281 1114.1,733.171 1122.4,811.769 \n",
       "  1130.7,890.684 1139,911.486 1147.3,939.518 1155.61,967.952 1163.91,908.903 1172.21,1023.03 1180.51,1097.8 1188.81,1191.69 1197.11,1153.82 1205.41,1133.89 \n",
       "  1213.71,1136.86 1222.01,1130.21 1230.32,1183.04 1238.62,1239.77 1246.92,1371.25 1255.22,1225.02 1263.52,1192.08 1271.82,1163.65 1280.12,1200.99 1288.42,1223.79 \n",
       "  1296.73,1175.35 1305.03,1099.86 1313.33,1094.64 1321.63,1079.13 1329.93,1075.62 1338.23,1049.48 1346.53,1037.51 1354.83,1087.85 1363.13,1031.66 1371.44,994.94 \n",
       "  1379.74,803.124 1388.04,887.514 1396.34,875.172 1404.64,774.102 1412.94,852.878 1421.24,791.903 1429.54,830.583 1437.85,884.428 1446.15,896.948 1454.45,942.232 \n",
       "  1462.75,927.106 1471.05,936.038 1479.35,907.612 1487.65,901.789 1495.95,856.729 1504.26,905.98 1512.56,873.471 1520.86,858.043 1529.16,866.774 1537.46,869.055 \n",
       "  1545.76,859.574 1554.06,716.244 1562.36,674.865 1570.66,613.233 1578.97,648.279 1587.27,612.73 1595.57,654.844 1603.87,692.202 1612.17,626.387 1620.47,658.471 \n",
       "  1628.77,638.86 1637.07,657.759 1645.38,667.851 1653.68,644.83 1661.98,658.347 1670.28,702.077 1678.58,720.412 1686.88,688.676 1695.18,738.259 1703.48,711.596 \n",
       "  1711.78,723.18 1720.09,725.655 1728.39,758.342 1736.69,717.852 1744.99,643.848 1753.29,670.58 1761.59,656.135 1769.89,543.914 1778.19,585.092 1786.5,548.376 \n",
       "  1794.8,508.884 1803.1,729.521 1811.4,813.045 1819.7,830.653 1828,1072.51 1836.3,1009.72 1844.6,883.214 1852.9,898.231 1861.21,944.707 1869.51,908.957 \n",
       "  1877.81,874.669 1886.11,815.396 1894.41,784.773 1902.71,730.163 1911.01,624.198 1919.31,543.126 1927.62,546.458 1935.92,471.626 1944.22,409.013 1952.52,487.51 \n",
       "  1960.82,394.034 1969.12,476.784 1977.42,580.963 1985.72,563.966 1994.02,506.858 2002.33,486.033 2010.63,504.886 2018.93,500.888 2027.23,508.861 2035.53,507.639 \n",
       "  2043.83,545.469 2052.13,516.911 2060.43,464.512 2068.74,397.181 2077.04,364.293 2085.34,409.19 2093.64,409.863 2101.94,389.757 2110.24,414.658 2118.54,445.249 \n",
       "  2126.84,406.213 2135.14,447.523 2143.45,461.334 2151.75,439.032 2160.05,427.115 2168.35,425.785 2176.65,324.685 2184.95,294.209 2193.25,228.053 2201.55,265.226 \n",
       "  2209.86,297.086 2218.16,242.189 2226.46,277.343 2234.76,199.062 2243.06,216.276 2251.36,138.49 2259.66,196.209 2267.96,165.176 2276.26,126.674 2284.57,146.903 \n",
       "  2292.87,211.373 2301.17,88.4653 2309.47,95.1466 2317.77,119.25 2326.07,145.241 2334.37,163.583 2342.67,310.897 2350.98,285.115 2359.28,333.91 2367.58,356.923 \n",
       "  2375.88,443.525 2384.18,328.512 2392.48,356.892 2400.78,349.19 2409.08,366.582 2417.38,262.929 2425.69,315.018 2433.99,305.63 2442.29,210.368 2450.59,248.476 \n",
       "  2458.89,334.382 2467.19,366.566 2475.49,421.726 2483.79,497.331 2492.1,605.198 2500.4,603.048 2508.7,553.975 2517,494.029 2525.3,606.374 2533.6,503.656 \n",
       "  2541.9,483.118 2550.2,374.176 2558.5,340.274 2566.81,279.64 2575.11,365.058 2583.41,337.328 2591.71,259.194 2600.01,232.809 2608.31,99.9179 2616.61,124.795 \n",
       "  2624.91,180.557 2633.22,184.385 2641.52,262.519 2649.82,325.945 2658.12,364.44 2666.42,311.16 2674.72,252.373 2683.02,298.292 2691.32,224.164 2699.62,173.157 \n",
       "  2707.93,211.752 2716.23,365.894 2724.53,352.678 2732.83,431.724 2741.13,475.965 2749.43,380.184 2757.73,285.602 2766.03,266.331 2774.34,347.412 2782.64,389.781 \n",
       "  2790.94,396.833 2799.24,365.793 2807.54,433.023 2815.84,538.246 2824.14,531.596 2832.44,538.416 2840.75,493.341 2849.05,488.933 2857.35,534.24 2865.65,536.777 \n",
       "  2873.95,535.06 2882.25,541.169 2890.55,534.758 2898.85,468.371 2907.15,507.894 2915.46,508.714 2923.76,595.919 2932.06,673.403 2940.36,543.551 2948.66,583.322 \n",
       "  2956.96,571.66 2965.26,544.084 2973.56,544.077 2981.87,533.761 2990.17,456.601 2998.47,420.504 3006.77,500.764 3015.07,463.352 3023.37,459.493 3031.67,570.346 \n",
       "  3039.97,691.413 3048.27,816.881 3056.58,763.747 3064.88,795.337 3073.18,789.668 3081.48,772.339 3089.78,723.861 3098.08,794.61 3106.38,894.102 3114.68,829.81 \n",
       "  3122.99,866.712 3131.29,825.828 3139.59,842.206 3147.89,898.549 3156.19,932.55 3164.49,987.354 3172.79,891.303 3181.09,889.679 3189.39,890.499 3197.7,918.77 \n",
       "  3206,941.552 3214.3,997.879 3222.6,991.135 3230.9,1067.53 3239.2,1190.22 3247.5,1143.88 3255.8,1153.24 3264.11,1188.71 3272.41,1207.57 3280.71,1314.77 \n",
       "  3289.01,1355.25 3297.31,1263.82 3305.61,1153.43 3313.91,1215.84 3322.21,1218.59 3330.51,1235.34 3338.82,1175.37 3347.12,1125.87 3355.42,1098.86 3363.72,1035.46 \n",
       "  3372.02,1044.55 3380.32,1068.53 3388.62,1063.46 3396.92,1123.31 3405.23,1109.2 3413.53,1012.01 3421.83,891.194 3430.13,971.47 3438.43,963.722 3446.73,907.704 \n",
       "  3455.03,977.069 3463.33,1090.96 3471.63,1055.9 3479.94,974.285 3488.24,980.348 3496.54,1058.71 3504.84,1001.77 3513.14,960.567 3521.44,900.381 3529.74,858.206 \n",
       "  3538.04,853.272 3546.35,849.429 3554.65,837.883 3562.95,835.857 3571.25,873.873 3579.55,856.473 3587.85,941.536 3596.15,942.565 3604.45,1068.34 3612.75,1031.06 \n",
       "  3621.06,1108.27 3629.36,1028.82 3637.66,1028.15 3645.96,961.062 3654.26,992.257 3662.56,914.981 3670.86,821.938 3679.16,805.853 3687.47,747.16 3695.77,761.327 \n",
       "  3704.07,695.055 3712.37,759.131 3720.67,799.28 3728.97,751.753 3737.27,739.706 3745.57,711.387 3753.87,638.589 3762.18,631.003 3770.48,678.36 3778.78,627.585 \n",
       "  3787.08,700.43 3795.38,617.231 3803.68,571.892 3811.98,608.964 3820.28,619.837 3828.59,670.503 3836.89,696.285 3845.19,672.46 3853.49,745.111 3861.79,689.387 \n",
       "  3870.09,657.682 3878.39,678.623 3886.69,678.383 3894.99,608.044 3903.3,565.203 3911.6,537.218 3919.9,581.868 3928.2,494.261 3936.5,457.8 3944.8,467.366 \n",
       "  3953.1,513.114 3961.4,546.884 3969.71,514.699 3978.01,543.249 3986.31,540.558 3994.61,544.123 4002.91,528.881 4011.21,451.382 4019.51,512.457 4027.81,559.96 \n",
       "  4036.12,514.668 4044.42,427.494 4052.72,427.935 4061.02,521.821 4069.32,635.457 4077.62,595.462 4085.92,553.604 4094.22,490.162 4102.52,527.443 4110.83,473.49 \n",
       "  4119.13,449.131 4127.43,495.962 4135.73,446.85 4144.03,434.253 4152.33,326.943 4160.63,323.888 4168.93,282.563 4177.24,257.779 4185.54,237.379 4193.84,216.183 \n",
       "  4202.14,214.814 4210.44,247.355 4218.74,225.053 4227.04,223.112 4235.34,272.34 4243.64,284.133 4251.95,249.93 4260.25,183.852 4268.55,171.324 4276.85,235.995 \n",
       "  4285.15,182.839 4293.45,233.002 4301.75,261.382 4310.05,428.291 4318.36,353.815 4326.66,351.131 4334.96,305.275 4343.26,262.728 4351.56,260.145 4359.86,233.745 \n",
       "  4368.16,257.841 4376.46,200.988 4384.76,237.503 4393.07,260.137 4401.37,314.562 4409.67,274.412 4417.97,268.613 4426.27,241.895 4434.57,252.304 4442.87,239.807 \n",
       "  4451.17,222.339 4459.48,253.866 4467.78,227.373 4476.08,283.591 4484.38,304.702 4492.68,360.48 4500.98,263.896 4509.28,251.113 4517.58,262.643 4525.88,234.325 \n",
       "  4534.19,219.191 4542.49,254.778 4550.79,260.686 4559.09,249.706 4567.39,284.048 4575.69,258.312 4583.99,228.076 4592.29,248.074 4600.6,258.39 4608.9,297.024 \n",
       "  4617.2,304.795 4625.5,290.265 \n",
       "  \"/>\n",
       "<polyline clip-path=\"url(#clip932)\" style=\"stroke:#e26f46; stroke-linecap:butt; stroke-linejoin:round; stroke-width:4; stroke-opacity:1; fill:none\" points=\"\n",
       "  383.596,1462.51 391.897,1418.05 400.198,1393.44 408.499,1369.99 416.8,1348.03 425.102,1307.54 433.403,1372.44 441.704,1300.35 450.005,1279.23 458.306,1287.46 \n",
       "  466.607,1300.34 474.909,1327.5 483.21,1262.47 491.511,1256.47 499.812,1277.67 508.113,1275.95 516.415,1247.07 524.716,1244.17 533.017,1280.38 541.318,1316.98 \n",
       "  549.619,1299.6 557.92,1242.39 566.222,1226.56 574.523,1194.46 582.824,1121.6 591.125,1113.83 599.426,1086.73 607.728,1110.89 616.029,1094.86 624.33,1119.46 \n",
       "  632.631,1121.14 640.932,1149.44 649.233,1145.97 657.535,1155.16 665.836,1159.16 674.137,1157.84 682.438,1158.79 690.739,1168.89 699.041,1137.88 707.342,1161.42 \n",
       "  715.643,1157.29 723.944,1115.21 732.245,1082.31 740.546,1052.71 748.848,1063.05 757.149,1065.5 765.45,1052.89 773.751,1052.89 782.052,1096.99 790.353,1073.96 \n",
       "  798.655,1081.28 806.956,1042.69 815.257,1103.07 823.558,1111.48 831.859,1112.15 840.161,1056.49 848.462,1052.88 856.763,1050.01 865.064,1053.96 873.365,1049.35 \n",
       "  881.666,1054.65 889.968,1103.5 898.269,1140.71 906.57,1139.57 914.871,1124.69 923.172,1138.93 931.474,1114.17 939.775,1087.02 948.076,1125.74 956.377,1144.74 \n",
       "  964.678,1125.61 972.979,1110.56 981.281,1095.95 989.582,1097.04 997.883,1099.89 1006.18,1093.23 1014.49,1028.56 1022.79,1004.21 1031.09,975.561 1039.39,986.411 \n",
       "  1047.69,991.901 1055.99,994.306 1064.29,971.447 1072.59,895.208 1080.89,833.189 1089.2,851.254 1097.5,718.339 1105.8,767.281 1114.1,733.171 1122.4,811.769 \n",
       "  1130.7,890.684 1139,911.486 1147.3,939.518 1155.61,967.952 1163.91,908.903 1172.21,1023.03 1180.51,1097.8 1188.81,1191.69 1197.11,1153.82 1205.41,1133.89 \n",
       "  1213.71,1136.86 1222.01,1130.21 1230.32,1183.04 1238.62,1239.77 1246.92,1371.25 1255.22,1225.02 1263.52,1192.08 1271.82,1163.65 1280.12,1200.99 1288.42,1223.79 \n",
       "  1296.73,1175.35 1305.03,1099.86 1313.33,1094.64 1321.63,1079.13 1329.93,1075.62 1338.23,1049.48 1346.53,1037.51 1354.83,1087.85 1363.13,1031.66 1371.44,994.94 \n",
       "  1379.74,803.124 1388.04,887.514 1396.34,875.172 1404.64,774.102 1412.94,852.878 1421.24,791.903 1429.54,830.583 1437.85,884.428 1446.15,896.948 1454.45,942.232 \n",
       "  1462.75,927.106 1471.05,936.038 1479.35,907.612 1487.65,901.789 1495.95,856.729 1504.26,905.98 1512.56,873.471 1520.86,858.043 1529.16,866.774 1537.46,869.055 \n",
       "  1545.76,859.574 1554.06,716.244 1562.36,674.865 1570.66,613.233 1578.97,648.279 1587.27,612.73 1595.57,654.844 1603.87,692.202 1612.17,626.387 1620.47,658.471 \n",
       "  1628.77,638.86 1637.07,657.759 1645.38,667.851 1653.68,644.83 1661.98,658.347 1670.28,702.077 1678.58,720.412 1686.88,688.676 1695.18,738.259 1703.48,711.596 \n",
       "  1711.78,723.18 1720.09,725.655 1728.39,758.342 1736.69,717.852 1744.99,643.848 1753.29,670.58 1761.59,656.135 1769.89,543.914 1778.19,585.092 1786.5,548.376 \n",
       "  1794.8,508.884 1803.1,729.521 1811.4,813.045 1819.7,830.653 1828,1072.51 1836.3,1009.72 1844.6,883.214 1852.9,898.231 1861.21,944.707 1869.51,908.957 \n",
       "  1877.81,874.669 1886.11,815.396 1894.41,784.773 1902.71,730.163 1911.01,624.198 1919.31,543.126 1927.62,546.458 1935.92,471.626 1944.22,409.013 1952.52,487.51 \n",
       "  1960.82,394.034 1969.12,476.784 1977.42,580.963 1985.72,563.966 1994.02,506.858 2002.33,486.033 2010.63,504.886 2018.93,500.888 2027.23,508.861 2035.53,507.639 \n",
       "  2043.83,545.469 2052.13,516.911 2060.43,464.512 2068.74,397.181 2077.04,364.293 2085.34,409.19 2093.64,409.863 2101.94,389.757 2110.24,414.658 2118.54,445.249 \n",
       "  2126.84,406.213 2135.14,447.523 2143.45,461.334 2151.75,439.032 2160.05,427.115 2168.35,425.785 2176.65,324.685 2184.95,294.209 2193.25,228.053 2201.55,265.226 \n",
       "  2209.86,297.086 2218.16,242.189 2226.46,277.343 2234.76,199.062 2243.06,216.276 2251.36,138.49 2259.66,196.209 2267.96,165.176 2276.26,126.674 2284.57,146.903 \n",
       "  2292.87,211.373 2301.17,88.4653 2309.47,95.1466 2317.77,119.25 2326.07,145.241 2334.37,163.583 2342.67,310.897 2350.98,285.115 2359.28,333.91 2367.58,356.923 \n",
       "  2375.88,443.525 2384.18,328.512 2392.48,356.892 2400.78,349.19 2409.08,366.582 2417.38,262.929 2425.69,315.018 2433.99,305.63 2442.29,210.368 2450.59,248.476 \n",
       "  2458.89,334.382 2467.19,366.566 2475.49,421.726 2483.79,497.331 2492.1,605.198 2500.4,603.048 2508.7,553.975 2517,494.029 2525.3,606.374 2533.6,503.656 \n",
       "  2541.9,483.118 2550.2,374.176 2558.5,340.274 2566.81,279.64 2575.11,365.058 2583.41,337.328 2591.71,259.194 2600.01,232.809 2608.31,99.9179 2616.61,124.795 \n",
       "  2624.91,180.557 2633.22,184.385 2641.52,262.519 2649.82,325.945 2658.12,364.44 2666.42,311.16 2674.72,252.373 2683.02,298.292 2691.32,224.164 2699.62,173.157 \n",
       "  2707.93,211.752 2716.23,365.894 2724.53,352.678 2732.83,431.724 2741.13,475.965 2749.43,380.184 2757.73,285.602 2766.03,266.331 2774.34,347.412 2782.64,389.781 \n",
       "  2790.94,396.833 2799.24,365.793 2807.54,433.023 2815.84,538.246 2824.14,531.596 2832.44,538.416 2840.75,493.341 2849.05,488.933 2857.35,534.24 2865.65,536.777 \n",
       "  2873.95,535.06 2882.25,541.169 2890.55,534.758 2898.85,468.371 2907.15,507.894 2915.46,508.714 2923.76,595.919 2932.06,673.403 2940.36,543.551 2948.66,583.322 \n",
       "  2956.96,571.66 2965.26,544.084 2973.56,544.077 2981.87,533.761 2990.17,456.601 2998.47,420.504 3006.77,500.764 3015.07,463.352 3023.37,459.493 3031.67,570.346 \n",
       "  3039.97,691.413 3048.27,816.881 3056.58,763.747 3064.88,795.337 3073.18,789.668 3081.48,772.339 3089.78,723.861 3098.08,794.61 3106.38,894.102 3114.68,829.81 \n",
       "  3122.99,866.712 3131.29,825.828 3139.59,842.206 3147.89,898.549 3156.19,932.55 3164.49,987.354 3172.79,891.303 3181.09,889.679 3189.39,890.499 3197.7,918.77 \n",
       "  3206,941.552 3214.3,997.879 3222.6,991.135 3230.9,1067.53 3239.2,1190.22 3247.5,1143.88 3255.8,1153.24 3264.11,1188.71 3272.41,1207.57 3280.71,1314.77 \n",
       "  3289.01,1355.25 3297.31,1263.82 3305.61,1153.43 3313.91,1215.84 3322.21,1218.59 3330.51,1235.34 3338.82,1175.37 3347.12,1125.87 3355.42,1098.86 3363.72,1035.46 \n",
       "  3372.02,1044.55 3380.32,1068.53 3388.62,1063.46 3396.92,1123.31 3405.23,1109.2 3413.53,1012.01 3421.83,891.194 3430.13,971.47 3438.43,963.722 3446.73,907.704 \n",
       "  3455.03,977.069 3463.33,1090.96 3471.63,1055.9 3479.94,974.285 3488.24,980.348 3496.54,1058.71 3504.84,1001.77 3513.14,960.567 3521.44,900.381 3529.74,858.206 \n",
       "  3538.04,853.272 3546.35,849.429 3554.65,837.883 3562.95,835.857 3571.25,873.873 3579.55,856.473 3587.85,941.536 3596.15,942.565 3604.45,1068.34 3612.75,1031.06 \n",
       "  3621.06,1108.27 3629.36,1028.82 3637.66,1028.15 3645.96,961.062 3654.26,992.257 3662.56,914.981 3670.86,821.938 3679.16,805.853 3687.47,747.16 3695.77,761.327 \n",
       "  3704.07,695.055 3712.37,759.131 3720.67,799.28 3728.97,751.753 3737.27,739.706 3745.57,711.387 3753.87,638.589 3762.18,631.003 3770.48,678.36 3778.78,627.585 \n",
       "  3787.08,700.43 3795.38,617.231 3803.68,571.892 3811.98,608.964 3820.28,619.837 3828.59,670.503 3836.89,696.285 3845.19,672.46 3853.49,745.111 3861.79,689.387 \n",
       "  3870.09,657.682 3878.39,678.623 3886.69,678.383 3894.99,608.044 3903.3,565.203 3911.6,537.218 3919.9,581.868 3928.2,494.261 3936.5,457.8 3944.8,467.366 \n",
       "  3953.1,513.114 3961.4,546.884 3969.71,514.699 3978.01,543.249 3986.31,540.558 3994.61,544.123 4002.91,528.881 4011.21,451.382 4019.51,512.457 4027.81,559.96 \n",
       "  4036.12,514.668 4044.42,427.494 4052.72,427.935 4061.02,521.821 4069.32,635.457 4077.62,595.462 4085.92,553.604 4094.22,490.162 4102.52,527.443 4110.83,473.49 \n",
       "  4119.13,449.131 4127.43,495.962 4135.73,446.85 4144.03,434.253 4152.33,326.943 4160.63,323.888 4168.93,282.563 4177.24,257.779 4185.54,237.379 4193.84,216.183 \n",
       "  4202.14,214.814 4210.44,247.355 4218.74,225.053 4227.04,223.112 4235.34,272.34 4243.64,284.133 4251.95,249.93 4260.25,183.852 4268.55,171.324 4276.85,235.995 \n",
       "  4285.15,182.839 4293.45,233.002 4301.75,261.382 4310.05,428.291 4318.36,353.815 4326.66,351.131 4334.96,305.275 4343.26,262.728 4351.56,260.145 4359.86,233.745 \n",
       "  4368.16,257.841 4376.46,200.988 4384.76,237.503 4393.07,260.137 4401.37,314.562 4409.67,274.412 4417.97,268.613 4426.27,241.895 4434.57,252.304 4442.87,239.807 \n",
       "  4451.17,222.339 4459.48,253.866 4467.78,227.373 4476.08,283.591 4484.38,304.702 4492.68,360.48 4500.98,263.896 4509.28,251.113 4517.58,262.643 4525.88,234.325 \n",
       "  4534.19,219.191 4542.49,254.778 4550.79,260.686 4559.09,249.706 4567.39,284.048 4575.69,258.312 4583.99,228.076 4592.29,248.074 4600.6,258.39 4608.9,297.024 \n",
       "  4617.2,304.795 4625.5,290.265 \n",
       "  \"/>\n",
       "</svg>\n"
      ]
     },
     "execution_count": 10,
     "metadata": {},
     "output_type": "execute_result"
    }
   ],
   "source": [
    "using WaveletsExt\n",
    "s = 5000\n",
    "# mp = @manipulate for \n",
    "#             s in slider(1:12000; label=\"s\", default=7)\n",
    "    wsize = 2^9\n",
    "    wstart = 1400 + s\n",
    "    wend = wstart+wsize-1\n",
    "    wrng = wstart:wend\n",
    "    \n",
    "    xar = ar[wrng]\n",
    "\n",
    "y = acwt(xar, wavelet(WT.haar))\n",
    "z = iacwt(y)\n",
    "#     y = wpd(xar, wavelet(WT.db4))\n",
    "\n",
    "    plot(xar, size=(1200,400),legend=nothing)  \n",
    "    plot!(z)\n",
    "#     vline!([Int(wsize/2)])\n",
    "    \n",
    "    \n",
    "# end \n",
    "# mp"
   ]
  },
  {
   "cell_type": "code",
   "execution_count": 18,
   "id": "23857b8e",
   "metadata": {},
   "outputs": [
    {
     "data": {
      "text/plain": [
       "512×10 Matrix{Float64}:\n",
       " 1.08268e6  -2001.08   327.091    …  -349.697    -403.281    -556.277\n",
       " 1.08268e6  -2026.42   246.225       -650.196    -574.62        9.07572\n",
       " 1.08268e6  -2050.93   166.086       -742.907    -184.751       0.526795\n",
       " 1.08268e6  -2074.74    86.6097      -653.873      10.4575      0.682358\n",
       " 1.08268e6  -2097.78     7.67391     -368.638      29.1812     -8.47114\n",
       " 1.08268e6  -2120.04   -70.8986   …  -161.008      10.1387     48.1858\n",
       " 1.08268e6  -2141.48  -149.199        -34.7216    -30.015     -62.6355\n",
       " 1.08268e6  -2161.98  -227.166         36.8137     -2.37375    23.3062\n",
       " 1.08268e6  -2181.58  -304.937         27.1012     44.5938     13.4209\n",
       " 1.08268e6  -2200.37  -382.455         14.128      26.0537      2.12132\n",
       " 1.08268e6  -2218.3   -459.619    …     8.63996   -28.4663      6.53013\n",
       " 1.08268e6  -2235.3   -536.504         -3.96908   -36.86      -42.1471\n",
       " 1.08268e6  -2251.33  -612.98           3.23987    13.835      26.9867\n",
       " ⋮                                ⋱                          \n",
       " 1.08268e6  -1697.06  1215.58     …    51.4632     29.3562     23.1896\n",
       " 1.08268e6  -1722.11  1150.8           24.8508      2.5475    -13.5694\n",
       " 1.08268e6  -1747.16  1084.06           2.32947    -7.7775     -7.72161\n",
       " 1.08268e6  -1772.27  1015.48          -8.14808   -11.3325     20.7218\n",
       " 1.08268e6  -1797.42   944.969         -6.08775   -26.4825    -27.4676\n",
       " 1.08268e6  -1822.5    872.85     …    82.8619     -4.96875    -2.05768\n",
       " 1.08268e6  -1847.58   799.044        229.638      34.4163     22.9668\n",
       " 1.08268e6  -1872.75   723.638        419.998      35.6837     -4.42649\n",
       " 1.08268e6  -1898.03   646.873        663.671       5.765      12.9471\n",
       " 1.08268e6  -1923.45   568.709        686.25      164.229     -14.1103\n",
       " 1.08268e6  -1949.06   489.349    …   516.747     533.664     -10.1965\n",
       " 1.08268e6  -1974.93   408.841        174.412     348.122     542.595"
      ]
     },
     "execution_count": 18,
     "metadata": {},
     "output_type": "execute_result"
    }
   ],
   "source": [
    "y"
   ]
  },
  {
   "cell_type": "code",
   "execution_count": null,
   "id": "52038616",
   "metadata": {},
   "outputs": [],
   "source": []
  },
  {
   "cell_type": "code",
   "execution_count": 12,
   "id": "a40785d3",
   "metadata": {},
   "outputs": [
    {
     "data": {
      "text/plain": [
       "512"
      ]
     },
     "execution_count": 12,
     "metadata": {},
     "output_type": "execute_result"
    }
   ],
   "source": [
    "2^9"
   ]
  },
  {
   "cell_type": "code",
   "execution_count": null,
   "id": "b3dc91ff",
   "metadata": {},
   "outputs": [],
   "source": []
  },
  {
   "cell_type": "code",
   "execution_count": null,
   "id": "26a76e4d",
   "metadata": {},
   "outputs": [],
   "source": []
  },
  {
   "cell_type": "code",
   "execution_count": 2,
   "id": "050cc3a0",
   "metadata": {},
   "outputs": [
    {
     "ename": "LoadError",
     "evalue": "UndefVarError: ar not defined",
     "output_type": "error",
     "traceback": [
      "UndefVarError: ar not defined",
      "",
      "Stacktrace:",
      " [1] top-level scope",
      "   @ In[2]:1",
      " [2] eval",
      "   @ ./boot.jl:360 [inlined]",
      " [3] include_string(mapexpr::typeof(REPL.softscope), mod::Module, code::String, filename::String)",
      "   @ Base ./loading.jl:1094"
     ]
    }
   ],
   "source": [
    "n = length(ar)\n",
    "wnd = window_slider(20000)\n",
    "rng = Observable{AbstractRange{Int64}}(1:1)\n",
    "map!(wnd -> wnd[1]*wnd[2]:(wnd[1]+1)*wnd[2]-1, rng, wnd)\n",
    "plt = Observables.@map plot(ar[&rng])\n",
    "A = Observables.@map length(&rng) > 2 ? heatmap(wplotim(ar[&rng])) : nothing\n",
    "hbox(plt,A)"
   ]
  },
  {
   "cell_type": "code",
   "execution_count": null,
   "id": "e1c7dd83",
   "metadata": {},
   "outputs": [],
   "source": [
    "length(1:3)"
   ]
  },
  {
   "cell_type": "code",
   "execution_count": null,
   "id": "6ab8eb5c",
   "metadata": {},
   "outputs": [],
   "source": []
  },
  {
   "cell_type": "code",
   "execution_count": null,
   "id": "2426928f",
   "metadata": {},
   "outputs": [],
   "source": [
    "length(ar)"
   ]
  },
  {
   "cell_type": "code",
   "execution_count": null,
   "id": "07a42dfe",
   "metadata": {},
   "outputs": [],
   "source": []
  },
  {
   "cell_type": "code",
   "execution_count": null,
   "id": "5581d3ae",
   "metadata": {},
   "outputs": [],
   "source": []
  }
 ],
 "metadata": {
  "@webio": {
   "lastCommId": "9829ddf73eff4b429a47d3a27191e03c",
   "lastKernelId": "cd223afa-0748-4ea8-94b5-5ed5ba088b5f"
  },
  "kernelspec": {
   "display_name": "Julia 1.6.1",
   "language": "julia",
   "name": "julia-1.6"
  },
  "language_info": {
   "file_extension": ".jl",
   "mimetype": "application/julia",
   "name": "julia",
   "version": "1.6.1"
  }
 },
 "nbformat": 4,
 "nbformat_minor": 5
}
