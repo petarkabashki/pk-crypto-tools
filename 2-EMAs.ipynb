{
 "cells": [
  {
   "cell_type": "code",
   "execution_count": 1,
   "id": "182cb5ac-cfff-4dca-bc8e-2b6577e596a2",
   "metadata": {},
   "outputs": [],
   "source": [
    "from __future__ import print_function\n",
    "from ipywidgets import interact, interactive, fixed, interact_manual\n",
    "# import ipywidgets as widgets\n",
    "from ipywidgets import *\n",
    "from IPython.display import display\n",
    "import IPython\n",
    "import pandas as pd\n",
    "import matplotlib.pyplot as plt\n",
    "import matplotlib.dates as mdates\n",
    "import numpy as np\n",
    "\n",
    "from datetime import datetime\n",
    "import talib\n",
    "import pandas_ta as ta\n",
    "from talib.abstract import *\n",
    "from math import *\n",
    "import vectorbt as vbt\n",
    "import json\n",
    "%matplotlib inline"
   ]
  },
  {
   "cell_type": "code",
   "execution_count": 8,
   "id": "c87d745a-e5fd-471f-8a68-c380bbca4b46",
   "metadata": {},
   "outputs": [],
   "source": [
    "df = pd.read_json(r'./freq-user-data/data/binance/BTC_USDT-1m.json')\n",
    "df.columns = ['timestamp', 'open', 'high', 'low', 'close', 'volume']\n",
    "\n",
    "df['date'] = pd.to_datetime(df['timestamp'], unit='ms', utc=False)\n",
    "# df.index = df['time']\n",
    "# df.set_index('time', drop=True, inplace=True)\n",
    "df.set_index(pd.DatetimeIndex(df[\"date\"]), inplace=True, drop=True)\n",
    "# df = df[['time', 'symbol', 'source', 'resolution', 'open', 'high', 'low', 'close', 'volume']]\n",
    "# df.to_csv (r'./data/binance/BTC_USDT-5m.csv', index = None)\n",
    "# df.set_index('time')\n"
   ]
  },
  {
   "cell_type": "code",
   "execution_count": 9,
   "id": "34267cc3-02ae-47d5-9a3a-49c1cb94249d",
   "metadata": {},
   "outputs": [
    {
     "output_type": "execute_result",
     "data": {
      "text/plain": [
       "199437"
      ]
     },
     "metadata": {},
     "execution_count": 9
    }
   ],
   "source": [
    "# pd.Timestamp('now').floor('D') + pd.Timedelta(-7, unit='D')\n",
    "\n",
    "# start_time = datetime(2021,5,1)\n",
    "\n",
    "start_time = pd.Timestamp('now') + pd.Timedelta(-20, unit='W')\n",
    "# start_time\n",
    "ddf = df.loc[df.index >= start_time].copy()\n",
    "# ddf = df.loc[df['time'] >= start_time]\n",
    "# ddf\n",
    "dlen = len(ddf.index)\n",
    "dlen"
   ]
  },
  {
   "cell_type": "code",
   "execution_count": null,
   "id": "e7246631-53a5-41d7-ae78-69b5e325f9ea",
   "metadata": {},
   "outputs": [],
   "source": []
  },
  {
   "cell_type": "code",
   "execution_count": 10,
   "id": "225a980e-71c7-4e2f-8822-d04257f8c937",
   "metadata": {},
   "outputs": [],
   "source": [
    "\n",
    "\n",
    "start_time = pd.Timestamp('now') + pd.Timedelta(-12, unit='W')\n",
    "# start_time\n",
    "ddf = df.loc[df.index >= start_time].copy()"
   ]
  },
  {
   "cell_type": "code",
   "execution_count": 11,
   "id": "6cf21683-770b-41c5-ab7b-60d066c1c897",
   "metadata": {},
   "outputs": [
    {
     "output_type": "execute_result",
     "data": {
      "text/plain": [
       "                         timestamp      open      high       low     close  \\\n",
       "date                                                                         \n",
       "2021-06-22 23:54:00  1624406040000  32402.83  32402.83  32299.99  32319.62   \n",
       "2021-06-22 23:55:00  1624406100000  32319.61  32383.94  32276.24  32364.00   \n",
       "2021-06-22 23:56:00  1624406160000  32363.88  32462.55  32363.88  32445.49   \n",
       "2021-06-22 23:57:00  1624406220000  32445.49  32463.36  32400.00  32455.48   \n",
       "2021-06-22 23:58:00  1624406280000  32455.49  32484.80  32444.69  32461.29   \n",
       "\n",
       "                         volume                date  \n",
       "date                                                 \n",
       "2021-06-22 23:54:00  239.117745 2021-06-22 23:54:00  \n",
       "2021-06-22 23:55:00  162.277453 2021-06-22 23:55:00  \n",
       "2021-06-22 23:56:00  184.730184 2021-06-22 23:56:00  \n",
       "2021-06-22 23:57:00   27.366646 2021-06-22 23:57:00  \n",
       "2021-06-22 23:58:00   19.574136 2021-06-22 23:58:00  "
      ],
      "text/html": "<div>\n<style scoped>\n    .dataframe tbody tr th:only-of-type {\n        vertical-align: middle;\n    }\n\n    .dataframe tbody tr th {\n        vertical-align: top;\n    }\n\n    .dataframe thead th {\n        text-align: right;\n    }\n</style>\n<table border=\"1\" class=\"dataframe\">\n  <thead>\n    <tr style=\"text-align: right;\">\n      <th></th>\n      <th>timestamp</th>\n      <th>open</th>\n      <th>high</th>\n      <th>low</th>\n      <th>close</th>\n      <th>volume</th>\n      <th>date</th>\n    </tr>\n    <tr>\n      <th>date</th>\n      <th></th>\n      <th></th>\n      <th></th>\n      <th></th>\n      <th></th>\n      <th></th>\n      <th></th>\n    </tr>\n  </thead>\n  <tbody>\n    <tr>\n      <th>2021-06-22 23:54:00</th>\n      <td>1624406040000</td>\n      <td>32402.83</td>\n      <td>32402.83</td>\n      <td>32299.99</td>\n      <td>32319.62</td>\n      <td>239.117745</td>\n      <td>2021-06-22 23:54:00</td>\n    </tr>\n    <tr>\n      <th>2021-06-22 23:55:00</th>\n      <td>1624406100000</td>\n      <td>32319.61</td>\n      <td>32383.94</td>\n      <td>32276.24</td>\n      <td>32364.00</td>\n      <td>162.277453</td>\n      <td>2021-06-22 23:55:00</td>\n    </tr>\n    <tr>\n      <th>2021-06-22 23:56:00</th>\n      <td>1624406160000</td>\n      <td>32363.88</td>\n      <td>32462.55</td>\n      <td>32363.88</td>\n      <td>32445.49</td>\n      <td>184.730184</td>\n      <td>2021-06-22 23:56:00</td>\n    </tr>\n    <tr>\n      <th>2021-06-22 23:57:00</th>\n      <td>1624406220000</td>\n      <td>32445.49</td>\n      <td>32463.36</td>\n      <td>32400.00</td>\n      <td>32455.48</td>\n      <td>27.366646</td>\n      <td>2021-06-22 23:57:00</td>\n    </tr>\n    <tr>\n      <th>2021-06-22 23:58:00</th>\n      <td>1624406280000</td>\n      <td>32455.49</td>\n      <td>32484.80</td>\n      <td>32444.69</td>\n      <td>32461.29</td>\n      <td>19.574136</td>\n      <td>2021-06-22 23:58:00</td>\n    </tr>\n  </tbody>\n</table>\n</div>"
     },
     "metadata": {},
     "execution_count": 11
    }
   ],
   "source": [
    "ddf.tail()"
   ]
  },
  {
   "cell_type": "code",
   "execution_count": 990,
   "id": "4c9f35a2-10c1-40bd-bc75-c8be6a92247e",
   "metadata": {},
   "outputs": [
    {
     "data": {
      "text/plain": [
       "time\n",
       "2021-03-10 02:30:00             NaN\n",
       "2021-03-10 02:31:00             NaN\n",
       "2021-03-10 02:32:00             NaN\n",
       "2021-03-10 02:33:00             NaN\n",
       "2021-03-10 02:34:00             NaN\n",
       "                           ...     \n",
       "2021-06-22 23:54:00    32347.234698\n",
       "2021-06-22 23:55:00    32346.618823\n",
       "2021-06-22 23:56:00    32349.296980\n",
       "2021-06-22 23:57:00    32352.391200\n",
       "2021-06-22 23:58:00    32355.694972\n",
       "Name: (50, close), Length: 150615, dtype: float64"
      ]
     },
     "execution_count": 990,
     "metadata": {},
     "output_type": "execute_result"
    }
   ],
   "source": []
  },
  {
   "cell_type": "code",
   "execution_count": 15,
   "id": "6e20e868-17c5-473b-964e-73bc08724344",
   "metadata": {},
   "outputs": [
    {
     "output_type": "display_data",
     "data": {
      "text/plain": "VBox(children=(HBox(children=(IntSlider(value=11, description='n2', max=17), IntSlider(value=56, description='…",
      "application/vnd.jupyter.widget-view+json": {
       "version_major": 2,
       "version_minor": 0,
       "model_id": "07f189cb701e42a8a5d165ec52494795"
      }
     },
     "metadata": {}
    },
    {
     "output_type": "display_data",
     "data": {
      "text/plain": "Output()",
      "application/vnd.jupyter.widget-view+json": {
       "version_major": 2,
       "version_minor": 0,
       "model_id": "19dfb8cde2454078abf76981d078bcdd"
      }
     },
     "metadata": {}
    }
   ],
   "source": [
    "capital = 10000\n",
    "sl_n2= IntSlider(description=\"n2\", min=0, max=floor(log(dlen, 2.0)), step=1, value=9)\n",
    "sl_w = IntSlider(description=\"w\", min=0, max=floor(dlen/pow(2,9)), step=1, value=5)\n",
    "def update_sl_w_range(*args):\n",
    "    wsize = pow(2,sl_n2.value)\n",
    "    sl_w.max = floor(dlen/wsize)*2 -1\n",
    "sl_n2.observe(update_sl_w_range, 'value')\n",
    "\n",
    "\n",
    "# slCoolOff = IntSlider(description=\"cool\", min=0, step=5, max=600, value=30)\n",
    "# slDowntrendWait = IntSlider(description=\"dnt\", min=0, max=100, value=30)\n",
    "\n",
    "slStopLoss = FloatSlider(description=\"sl\", min=0, step=0.05, max=15,value=1.92)\n",
    "slTrailingStopLoss = FloatSlider(description=\"ts\", min=0, step=0.2, max=15,value=10)\n",
    "slTakeProfit = FloatSlider(description=\"tp\", min=0, step=0.2, max=15, value=10)\n",
    "\n",
    "slMa1N = IntSlider(description=\"ma1n\", min=0, step=3, max=400, value=50)\n",
    "slMa2N = IntSlider(description=\"ma2n\", min=0, step=5, max=600, value=100)\n",
    "# slMa3N = IntSlider(description=\"ma3n\", min=0, step=20, max=800, value=150)\n",
    "\n",
    "\n",
    "# slStK = IntSlider(description=\"stk\", min=0, step=1, max=300, value=14)\n",
    "# slStD = IntSlider(description=\"std\", min=0, step=1, max=200, value=3)\n",
    "# slStSm = IntSlider(description=\"stsm\", min=0, step=1, max=200, value=2)\n",
    "# slStT = IntSlider(description=\"stst\", min=0, step=1, max=100, value=20)\n",
    "\n",
    "slMa1c = FloatSlider(description=\"ma1c\", min=-5, step=0.01, max=5, value=-0.44)\n",
    "slMa2c = FloatSlider(description=\"ma2c\", min=-5, step=0.01, max=5, value=0.02)\n",
    "slTrN = IntSlider(description=\"trn\", min=0, step=5, max=800, value=160)\n",
    "slMrN = IntSlider(description=\"mrn\", min=0, step=5, max=800, value=300)\n",
    "\n",
    "slXrr = FloatSlider(description=\"xrr\", min=1, step=0.2, max=20, value=2)\n",
    "\n",
    "ui = widgets.VBox([\n",
    "    widgets.HBox([sl_n2, sl_w, slTrN, slMrN]),\n",
    "    widgets.HBox([slMa1N, slMa2N, slMa1c, slMa2c]),\n",
    "    widgets.HBox([slTrailingStopLoss, slStopLoss, slTakeProfit, slXrr]),\n",
    "#     widgets.HBox([slStK, slStD, slStSm, slStT])\n",
    "])\n",
    "\n",
    "trades = pf = wst = wed = wsz = stock = wdf = False\n",
    "# iKama1 = Interact.@map kama(&ivdf.close, n=&slKama1N, nfast=&slKama1Fast, nslow=&slKama1Slow)\n",
    "# iKama1ChannelL = Interact.@map &iKama1 * (1-&slKama1Channel/100) \n",
    "# cool, dnt,\n",
    "idx_ddf = np.arange(len(ddf))\n",
    "# , stk, std, stsm, stt\n",
    "def printer(w2log, w, sl, ts, tp, ma1n, ma2n, ma1c, ma2c, trn, mrn, xrr):\n",
    "#     with open(f'./strat-params.json', \"w\") as f: f.write(json.dumps({\"w2log\": sl_n2.value, \"w\":sl_w.value, \"sl\":slStopLoss.value, \"ts\": slTrailingStopLoss.value, \n",
    "#            \"tp\": slTakeProfit.value, \"ma1n\": slMa1N.value, \"ma2n\": slMa2N.value, \"ma1c\": slMa1c.value, \"ma2c\": slMa2c.value,\"trn\": slTrN.value })) ;\n",
    "    \n",
    "    global wst, wed, wsz, stoch, wdf\n",
    "    wsz = floor(pow(2,w2log))\n",
    "    wst = floor(w * wsz / 2)\n",
    "    wed = floor(wst + wsz)\n",
    "   \n",
    "#     vtma1 = vbt.MA.run(ddf['open'], ma1n)\n",
    "    WMA = vtwma1 = vbt.talib('WMA')\n",
    "    vtma1 = vbt.MA.run(ddf.close, window=ma1n, ewm=True)\n",
    "    vtma2 = vbt.MA.run(ddf.close, window=ma2n, ewm=True)\n",
    "    vtmin = ddf['close'].vbt.rolling_min(mrn)\n",
    "    vtmax = ddf['close'].vbt.rolling_max(mrn)\n",
    "\n",
    "    ddf['ma1'] = ma1 = vtma1.ma\n",
    "    ddf['ma2'] = ma2 = vtma2.ma\n",
    "    ddf['rmin'] = vtmin\n",
    "    ddf['rmax'] = vtmax\n",
    "    ddf['xrr'] = (vtmax - ddf.close) / (ddf.close - vtmin)\n",
    "    \n",
    "#     ddf['ma1'] = ma1 = ddf.ta.ema(close=ddf.ta.ohlc4(), length=ma1n)\n",
    "#     ddf['ma2'] = ma2 = ddf.ta.ema(close=ddf.ta.ohlc4(), length=ma2n)\n",
    "#     ddf['ma3'] = ma3 = ddf.ta.ema(close=ddf.ta.ohlc4(), length=ma3n)\n",
    "#     ddf['ma2c'] = ma2*(1+maxc/100)\n",
    "#     STOCH = vbt.talib('Stoch')\n",
    "#     stoch = STOCH.run(ddf.high, ddf.low, ddf.close, stk, std, 0, stsm, 0)\n",
    "\n",
    "#     stoch = ddf.ta.stoch( k=stk, d=std, smooth_k=stsm,append=False); stoch.columns = ['k', 'd'];\n",
    "    ddf['ma1c'] = ma1 * (1 + ma1c/100)\n",
    "    ddf['ma2c'] = ma2 * (1 + ma2c/100)\n",
    "\n",
    "    \n",
    "    s = ( \n",
    "#         stoch.slowk_below(stt, crossover=False) &   \n",
    "#             stoch.slowd_above(stt, crossover=True) &   \n",
    "#         stoch.slowk_below(stt, crossover=False) &   \n",
    "#         stoch.slowk_above(stoch.slowd, crossover=True) &\n",
    "        (\n",
    "            (trn < 1) |\n",
    "            (                \n",
    "#                 ((ddf['ma1'] - ddf['ma2']).rolling(window=trn).min() > 0) &\n",
    "                ((ddf['ma1'] - ddf['ma2c']).rolling(window=trn).min() > 0) \n",
    "            )\n",
    "        ) &\n",
    "#         ((ma2 - ma3).rolling(window=trn).min() > 0) & \n",
    "#         (ma1 > ma2) & (ma2 > ma3) &\n",
    "        (ddf['open'] < ddf['ma2c']) &\n",
    "        (ddf.xrr > xrr)\n",
    "    )\n",
    "    tentries = ddf['entries'] = s.vbt.signals.first()\n",
    "\n",
    "    \n",
    "    wdf = ddf[max(ma1n,ma2n):].iloc[wst:wed,:]\n",
    "    \n",
    "#     wslowk = stoch.slowk[wdf.index]\n",
    "#     wslowd = stoch.slowd[wdf.index]\n",
    "\n",
    "    texits = vbt.OHLCSTEX.run(\n",
    "        tentries, \n",
    "        ddf['open'], \n",
    "        ddf['high'], \n",
    "        ddf['low'], \n",
    "        ddf['close'], \n",
    "        sl_stop=sl/100,\n",
    "        tp_stop=tp/100,\n",
    "        ts_stop=ts/100\n",
    "    #     stop_type=None, hit_price=None\n",
    "    ).exits\n",
    "\n",
    "    global pf;\n",
    "    pf = vbt.Portfolio.from_signals(ddf['close'], entries=tentries, exits=texits, direction='longonly', \n",
    "                                    init_cash=capital, fees=0.001, slippage=0.0025, freq='1m')\n",
    "\n",
    "    global trades\n",
    "    trades = pf.trades.records\n",
    "    trades['cap'] = trades['pnl'].cumsum() + capital\n",
    "    ddf_cap = pd.merge(ddf[[\"date\"]], trades[[\"exit_idx\", \"cap\"]], left_on=idx_ddf, right_index=False, \n",
    "             right_on=\"exit_idx\", how=\"left\", sort=False).fillna(method='ffill').set_index('date')\n",
    "\n",
    "    \n",
    "    with open(f'./strategy-results/{datetime.now():strat_%Y-%m-%d}.log', \"a\") as f: \n",
    "        f.write(json.dumps(dict({   \n",
    "            \"dt\": f'{datetime.now():%Y-%m-%d %HH:%MM:%SS}',\n",
    "            \"period_start\": f'{ddf.index[0]}',\n",
    "            \"period_end\": f'{ddf.index[-1]}',\n",
    "            \"params\": dict({ 'sl': sl, 'ts': ts, 'tp': tp, 'ma1n': ma1n, 'ma2n': ma2n, 'ma1c': ma1c, 'ma2c': ma2c, 'trn': trn, 'mrn': mrn, 'xrr': xrr\n",
    "#                         'std': std, 'stk': stk, 'stsm': stsm, 'stt': slStT.value\n",
    "                           }),\n",
    "            \"strategy\": \"2EMASTH\",\n",
    "            \"profit\": floor(100* (trades.iloc[-1].cap / capital - 1)) if len(trades.index) else 0. \n",
    "        })\n",
    "    )); f.write(\"\\n\");\n",
    "    \n",
    "    \n",
    "    trades_profits = trades[trades['pnl'] > 0]\n",
    "    trades_losses = trades[trades['pnl'] < 0]    \n",
    "    \n",
    "    ddf_entries =  ddf.iloc[trades['entry_idx'].values]\n",
    "    ddf_profits = ddf.iloc[trades_profits['exit_idx'].values]\n",
    "    ddf_losses = ddf.iloc[trades_losses['exit_idx'].values]\n",
    "    \n",
    "#     fig, (ax1, ax2) = plt.subplots(1, 2,figsize=(16,4), sharex='col', gridspec_kw={'width_ratios': [3,1]})\n",
    "    fig = plt.figure(constrained_layout=True,figsize=(16,5))\n",
    "    gs0 = fig.add_gridspec(1, 2, width_ratios=[3,1])\n",
    "\n",
    "    gs00 = gs0[0,0].subgridspec(2, 1, height_ratios=[4,1])\n",
    "    gs01 = gs0[0,1].subgridspec(2, 1)\n",
    "\n",
    "    ax1 = fig.add_subplot(gs00[0,0])\n",
    "    ax2 = fig.add_subplot(gs00[1,0])\n",
    "\n",
    "    ax3 = fig.add_subplot(gs01[0,0])\n",
    "    ax4 = fig.add_subplot(gs01[1,0])\n",
    "\n",
    "\n",
    "#     wma1 = wdf['ma1']; wma2 = ma2[wdf.index]; wma3 = ma3[wdf.index];\n",
    "    \n",
    "    ax1.plot(wdf['close'], lw=0.5)\n",
    "    ax1.plot(wdf['rmin'], lw=0.5)\n",
    "    ax1.plot(wdf['rmax'], lw=0.5)\n",
    "    ax1.plot(wdf['ma1'], lw=0.5)\n",
    "    ax1.plot(wdf['ma2'], lw=0.5)\n",
    "    \n",
    "    ax1.fill_between(wdf.index, wdf['ma1'], wdf['ma1c'][wdf.index], alpha=0.15)\n",
    "    ax1.fill_between(wdf.index, wdf['ma2'], wdf['ma2c'][wdf.index], alpha=0.15)\n",
    "\n",
    "    wddf_entries = ddf_entries[ddf_entries.index.isin(wdf.index)]\n",
    "    wddf_profits = ddf_profits[ddf_profits.index.isin(wdf.index)]\n",
    "    wddf_losses = ddf_losses[ddf_losses.index.isin(wdf.index)]\n",
    "    \n",
    "    wddf_trades = ddf_cap[wst:wed]\n",
    "    \n",
    "    \n",
    "    ax1.vlines(wddf_entries.index,wddf_entries['open'] * 0.97,wddf_entries['open'] * 1.02, lw=0.5, color='blue')\n",
    "    ax1.vlines(wddf_profits.index,wddf_profits['open'] *0.97,wddf_profits['open'] * 1.02, lw=0.5, color='green')\n",
    "    ax1.vlines(wddf_losses.index,wddf_losses['open'] * 0.97,wddf_losses['open'] * 1.02, lw=0.5, color='red')\n",
    "    \n",
    "    \n",
    "    ax2.plot(wdf.xrr,lw=0.5,color='green')\n",
    "\n",
    "#     ax2.plot(wslowk,lw=0.5,color='orange')\n",
    "#     ax2.plot(wslowd,lw=0.5,color='teal')\n",
    "#     ax2.axhline(y=20, color='b', linestyle='--',lw=0.5)\n",
    "#     ax2.axhline(y=80, color='b', linestyle='--',lw=0.5)\n",
    "#     ax2.vlines(wddf_entries.index,0,100, lw=0.5, color='blue')\n",
    "#     ax2.vlines(wddf_profits.index,0,100, lw=0.5, color='green')\n",
    "#     ax2.vlines(wddf_losses.index,0,100, lw=0.5, color='red')\n",
    "\n",
    "    \n",
    "    ax3.plot(ddf_cap['cap'])\n",
    "    ax4.plot(wddf_trades['cap'])\n",
    "    \n",
    "    plt.show()\n",
    "    print(pf.stats())\n",
    "    print(pf.returns_stats())\n",
    "    \n",
    "\n",
    "with open('./strat-params.json') as f: \n",
    "    js = json.loads(f.read())\n",
    "    sl_n2.value=js[\"w2log\"]; sl_w.value=js[\"w\"]; slStopLoss.value=js[\"sl\"]; slTrailingStopLoss.value=js[\"ts\"]; slTrN.value=js[\"trn\"]; slMrN.value=js['mrn'];\n",
    "    slTakeProfit.value=js[\"tp\"]; slMa1N.value=js[\"ma1n\"]; slMa2N.value=js[\"ma2n\"]; slMa1c.value=js[\"ma1c\"]; slMa2c.value=js[\"ma2c\"]; \n",
    "    slXrr.value=js['xrr'];\n",
    "\n",
    "#     slStK.value=js['stk']; slStD.value=js['std']; slStSm.value=js['stsm']; slStT.value=js['stt'];\n",
    "    \n",
    "out = widgets.interactive_output(printer, {\"w2log\":sl_n2, \"w\":sl_w, \n",
    "                                \"sl\":slStopLoss, \"ts\": slTrailingStopLoss, \"tp\": slTakeProfit, \n",
    "                                           \"ma1n\": slMa1N, \"ma2n\": slMa2N, \"ma1c\": slMa1c, \"ma2c\": slMa2c,\"trn\": slTrN, 'mrn': slMrN, 'xrr': slXrr,\n",
    "#                                            \"stk\": slStK, \"std\": slStD, \"stsm\": slStSm, 'stt': slStT\n",
    "                                          })\n",
    "    \n",
    "# interactive_plot = widgets.interactive_output(f, {'a': a, 'b': b, 'c': c})\n",
    "# interactive(printer,w2log=sl_n2, w=sl_w, cool=slCoolOff, dnt=slDowntrendWait,\n",
    "#                                 sl=slStopLoss, tgt=slTarget);\n",
    "display(ui, out)\n",
    "\n",
    "# output = interactive_plot.children[-1]\n",
    "# # output.layout.width = '1200px'\n",
    "# output.layout.height = '500px'\n",
    "# interactive_plot\n"
   ]
  },
  {
   "cell_type": "code",
   "execution_count": 995,
   "id": "98113d58-49de-4726-af9c-bce4c10dfd20",
   "metadata": {},
   "outputs": [],
   "source": [
    "with open(f'./strat-params.json', \"w\") as f: f.write(json.dumps({\"w2log\": sl_n2.value, \"w\":sl_w.value, \"sl\":slStopLoss.value, \"ts\": slTrailingStopLoss.value, \n",
    "           \"tp\": slTakeProfit.value, \"ma1n\": slMa1N.value, \"ma2n\": slMa2N.value, \"ma1c\": slMa1c.value, \"ma2c\": slMa2c.value,\"trn\": slTrN.value, 'mrn': slMrN.value,\n",
    "             'xrr': slXrr.value})) ;\n",
    "\n",
    "#     \"stk\": slStK.value, \"std\": slStD.value, \"stsm\": slStSm.value, 'stt': slStT.value,\n",
    "                    \n",
    "# with open('./strat-params.json') as f: \n",
    "#     js = json.loads(f.read())\n",
    "#     sl_n2.value=js[\"w2log\"]; sl_w.value=js[\"w\"]; slStopLoss.value=js[\"sl\"]; slTrailingStopLoss.value=js[\"ts\"]; slTrN.value=js[\"trn\"];\n",
    "#     slTakeProfit.value=js[\"tp\"]; slMa1N.value=js[\"ma1n\"]; slMa2N.value=js[\"ma2n\"]; slMa1c.value=js[\"ma1c\"]; slMa2c.value=js[\"ma2c\"]; \n",
    "#     slStK.value=js['stk']; slStD.value=js['std']; slStSm.value=js['stsm'];\n",
    "\n"
   ]
  },
  {
   "cell_type": "code",
   "execution_count": 881,
   "id": "6a5a2ed9-1d93-4066-ac76-e2d5019b3add",
   "metadata": {},
   "outputs": [
    {
     "data": {
      "text/plain": [
       "False"
      ]
     },
     "execution_count": 881,
     "metadata": {},
     "output_type": "execute_result"
    }
   ],
   "source": [
    "# help(ta.stoch)\n",
    "# floor(100* (trades.iloc[-1].cap / capital - 1)) if len(trades.index) else 0.\n",
    "wddf"
   ]
  },
  {
   "cell_type": "code",
   "execution_count": 915,
   "id": "36d72ff0-ebc0-4851-b89c-6df7ad5795fa",
   "metadata": {},
   "outputs": [
    {
     "data": {
      "text/plain": [
       "time\n",
       "2021-01-31 07:47:00             NaN\n",
       "2021-01-31 07:48:00             NaN\n",
       "2021-01-31 07:49:00             NaN\n",
       "2021-01-31 07:50:00             NaN\n",
       "2021-01-31 07:51:00             NaN\n",
       "                           ...     \n",
       "2021-06-17 00:05:00    38317.308464\n",
       "2021-06-17 00:06:00    38325.371336\n",
       "2021-06-17 00:07:00    38341.077824\n",
       "2021-06-17 00:08:00    38354.692781\n",
       "2021-06-17 00:09:00    38372.511077\n",
       "Length: 196220, dtype: float64"
      ]
     },
     "execution_count": 915,
     "metadata": {},
     "output_type": "execute_result"
    }
   ],
   "source": [
    "talib.EMA(ddf.close, 14)"
   ]
  },
  {
   "cell_type": "code",
   "execution_count": 928,
   "id": "af4b67a2-fad9-4b32-8243-732e40120b07",
   "metadata": {},
   "outputs": [
    {
     "name": "stdout",
     "output_type": "stream",
     "text": [
      "[[33622.08]\n",
      " [33630.11]\n",
      " [33610.06]\n",
      " ...\n",
      " [38443.17]\n",
      " [38443.19]\n",
      " [38488.33]]\n"
     ]
    },
    {
     "ename": "AssertionError",
     "evalue": "(1, 1) and (196220, 1) do not match",
     "output_type": "error",
     "traceback": [
      "\u001b[0;31m---------------------------------------------------------------------------\u001b[0m",
      "\u001b[0;31mAssertionError\u001b[0m                            Traceback (most recent call last)",
      "\u001b[0;32m<ipython-input-928-d6298bf267aa>\u001b[0m in \u001b[0;36m<module>\u001b[0;34m\u001b[0m\n\u001b[1;32m     11\u001b[0m \u001b[0;31m#          in_output_names=['mach, c2ma']\u001b[0m\u001b[0;34m\u001b[0m\u001b[0;34m\u001b[0m\u001b[0;34m\u001b[0m\u001b[0m\n\u001b[1;32m     12\u001b[0m                         )\n\u001b[0;32m---> 13\u001b[0;31m \u001b[0midf\u001b[0m \u001b[0;34m=\u001b[0m \u001b[0mF\u001b[0m\u001b[0;34m.\u001b[0m\u001b[0mfrom_apply_func\u001b[0m\u001b[0;34m(\u001b[0m\u001b[0mapply_ma_func\u001b[0m\u001b[0;34m)\u001b[0m\u001b[0;34m.\u001b[0m\u001b[0mrun\u001b[0m\u001b[0;34m(\u001b[0m\u001b[0mddf\u001b[0m\u001b[0;34m.\u001b[0m\u001b[0mclose\u001b[0m\u001b[0;34m,\u001b[0m \u001b[0;36m50\u001b[0m\u001b[0;34m)\u001b[0m\u001b[0;34m\u001b[0m\u001b[0;34m\u001b[0m\u001b[0m\n\u001b[0m\u001b[1;32m     14\u001b[0m \u001b[0;34m\u001b[0m\u001b[0m\n\u001b[1;32m     15\u001b[0m \u001b[0;31m# print(F.from_apply_func(apply_func)\u001b[0m\u001b[0;34m\u001b[0m\u001b[0;34m\u001b[0m\u001b[0;34m\u001b[0m\u001b[0m\n",
      "\u001b[0;32m~/opt/anaconda3/envs/py38/lib/python3.8/site-packages/vectorbt/indicators/factory.py\u001b[0m in \u001b[0;36mrun\u001b[0;34m(cls, ts, emalen, short_name, hide_params, hide_default, **kwargs)\u001b[0m\n\u001b[1;32m     11\u001b[0m \u001b[0;34m*\u001b[0m \u001b[0mAccepts\u001b[0m \u001b[0ma\u001b[0m \u001b[0mlist\u001b[0m \u001b[0mof\u001b[0m \u001b[0minput\u001b[0m \u001b[0marrays\u001b[0m \u001b[0;34m(\u001b[0m\u001b[0;32mfor\u001b[0m \u001b[0mexample\u001b[0m\u001b[0;34m,\u001b[0m \u001b[0mOHLCV\u001b[0m \u001b[0mdata\u001b[0m\u001b[0;34m)\u001b[0m\u001b[0;34m\u001b[0m\u001b[0;34m\u001b[0m\u001b[0m\n\u001b[1;32m     12\u001b[0m \u001b[0;34m*\u001b[0m \u001b[0mAccepts\u001b[0m \u001b[0ma\u001b[0m \u001b[0mlist\u001b[0m \u001b[0mof\u001b[0m \u001b[0mparameter\u001b[0m \u001b[0marrays\u001b[0m \u001b[0;34m(\u001b[0m\u001b[0;32mfor\u001b[0m \u001b[0mexample\u001b[0m\u001b[0;34m,\u001b[0m \u001b[0mwindow\u001b[0m \u001b[0msize\u001b[0m\u001b[0;34m)\u001b[0m\u001b[0;34m\u001b[0m\u001b[0;34m\u001b[0m\u001b[0m\n\u001b[0;32m---> 13\u001b[0;31m \u001b[0;34m*\u001b[0m \u001b[0mAccepts\u001b[0m \u001b[0mother\u001b[0m \u001b[0mrelevant\u001b[0m \u001b[0marguments\u001b[0m \u001b[0;32mand\u001b[0m \u001b[0mkeyword\u001b[0m \u001b[0marguments\u001b[0m\u001b[0;34m\u001b[0m\u001b[0;34m\u001b[0m\u001b[0m\n\u001b[0m\u001b[1;32m     14\u001b[0m \u001b[0;34m*\u001b[0m \u001b[0mFor\u001b[0m \u001b[0meach\u001b[0m \u001b[0mparameter\u001b[0m \u001b[0mcombination\u001b[0m\u001b[0;34m,\u001b[0m \u001b[0mperforms\u001b[0m \u001b[0mcalculation\u001b[0m \u001b[0mon\u001b[0m \u001b[0mthe\u001b[0m \u001b[0minput\u001b[0m \u001b[0marrays\u001b[0m\u001b[0;34m\u001b[0m\u001b[0;34m\u001b[0m\u001b[0m\n\u001b[1;32m     15\u001b[0m \u001b[0;34m*\u001b[0m \u001b[0mConcatenates\u001b[0m \u001b[0mresults\u001b[0m \u001b[0minto\u001b[0m \u001b[0mnew\u001b[0m \u001b[0moutput\u001b[0m \u001b[0marrays\u001b[0m \u001b[0;34m(\u001b[0m\u001b[0;32mfor\u001b[0m \u001b[0mexample\u001b[0m\u001b[0;34m,\u001b[0m \u001b[0mrolling\u001b[0m \u001b[0maverage\u001b[0m\u001b[0;34m)\u001b[0m\u001b[0;34m\u001b[0m\u001b[0;34m\u001b[0m\u001b[0m\n",
      "\u001b[0;32m~/opt/anaconda3/envs/py38/lib/python3.8/site-packages/vectorbt/indicators/factory.py\u001b[0m in \u001b[0;36m_run\u001b[0;34m(cls, *args, **kwargs)\u001b[0m\n\u001b[1;32m   2718\u001b[0m \u001b[0;34m\u001b[0m\u001b[0m\n\u001b[1;32m   2719\u001b[0m             \u001b[0;31m# Create a new instance\u001b[0m\u001b[0;34m\u001b[0m\u001b[0;34m\u001b[0m\u001b[0;34m\u001b[0m\u001b[0m\n\u001b[0;32m-> 2720\u001b[0;31m             obj = cls(\n\u001b[0m\u001b[1;32m   2721\u001b[0m                 \u001b[0mwrapper\u001b[0m\u001b[0;34m,\u001b[0m\u001b[0;34m\u001b[0m\u001b[0;34m\u001b[0m\u001b[0m\n\u001b[1;32m   2722\u001b[0m                 \u001b[0mnew_input_list\u001b[0m\u001b[0;34m,\u001b[0m\u001b[0;34m\u001b[0m\u001b[0;34m\u001b[0m\u001b[0m\n",
      "\u001b[0;32m~/opt/anaconda3/envs/py38/lib/python3.8/site-packages/vectorbt/indicators/factory.py\u001b[0m in \u001b[0;36m__init__\u001b[0;34m(self, wrapper, input_list, input_mapper, in_output_list, output_list, param_list, mapper_list, short_name, level_names)\u001b[0m\n\u001b[1;32m   2317\u001b[0m                      \u001b[0mshort_name\u001b[0m\u001b[0;34m:\u001b[0m \u001b[0mstr\u001b[0m\u001b[0;34m,\u001b[0m\u001b[0;34m\u001b[0m\u001b[0;34m\u001b[0m\u001b[0m\n\u001b[1;32m   2318\u001b[0m                      level_names: tp.Tuple[str, ...]) -> None:\n\u001b[0;32m-> 2319\u001b[0;31m             IndicatorBase.__init__(\n\u001b[0m\u001b[1;32m   2320\u001b[0m                 \u001b[0mself\u001b[0m\u001b[0;34m,\u001b[0m\u001b[0;34m\u001b[0m\u001b[0;34m\u001b[0m\u001b[0m\n\u001b[1;32m   2321\u001b[0m                 \u001b[0mwrapper\u001b[0m\u001b[0;34m,\u001b[0m\u001b[0;34m\u001b[0m\u001b[0;34m\u001b[0m\u001b[0m\n",
      "\u001b[0;32m~/opt/anaconda3/envs/py38/lib/python3.8/site-packages/vectorbt/indicators/factory.py\u001b[0m in \u001b[0;36m__init__\u001b[0;34m(self, wrapper, input_list, input_mapper, in_output_list, output_list, param_list, mapper_list, short_name, level_names)\u001b[0m\n\u001b[1;32m   2035\u001b[0m             \u001b[0mchecks\u001b[0m\u001b[0;34m.\u001b[0m\u001b[0massert_equal\u001b[0m\u001b[0;34m(\u001b[0m\u001b[0mts\u001b[0m\u001b[0;34m.\u001b[0m\u001b[0mshape\u001b[0m\u001b[0;34m[\u001b[0m\u001b[0;36m0\u001b[0m\u001b[0;34m]\u001b[0m\u001b[0;34m,\u001b[0m \u001b[0mwrapper\u001b[0m\u001b[0;34m.\u001b[0m\u001b[0mshape_2d\u001b[0m\u001b[0;34m[\u001b[0m\u001b[0;36m0\u001b[0m\u001b[0;34m]\u001b[0m\u001b[0;34m)\u001b[0m\u001b[0;34m\u001b[0m\u001b[0;34m\u001b[0m\u001b[0m\n\u001b[1;32m   2036\u001b[0m         \u001b[0;32mfor\u001b[0m \u001b[0mts\u001b[0m \u001b[0;32min\u001b[0m \u001b[0min_output_list\u001b[0m \u001b[0;34m+\u001b[0m \u001b[0moutput_list\u001b[0m\u001b[0;34m:\u001b[0m\u001b[0;34m\u001b[0m\u001b[0;34m\u001b[0m\u001b[0m\n\u001b[0;32m-> 2037\u001b[0;31m             \u001b[0mchecks\u001b[0m\u001b[0;34m.\u001b[0m\u001b[0massert_equal\u001b[0m\u001b[0;34m(\u001b[0m\u001b[0mts\u001b[0m\u001b[0;34m.\u001b[0m\u001b[0mshape\u001b[0m\u001b[0;34m,\u001b[0m \u001b[0mwrapper\u001b[0m\u001b[0;34m.\u001b[0m\u001b[0mshape_2d\u001b[0m\u001b[0;34m)\u001b[0m\u001b[0;34m\u001b[0m\u001b[0;34m\u001b[0m\u001b[0m\n\u001b[0m\u001b[1;32m   2038\u001b[0m         \u001b[0;32mfor\u001b[0m \u001b[0mparams\u001b[0m \u001b[0;32min\u001b[0m \u001b[0mparam_list\u001b[0m\u001b[0;34m:\u001b[0m\u001b[0;34m\u001b[0m\u001b[0;34m\u001b[0m\u001b[0m\n\u001b[1;32m   2039\u001b[0m             \u001b[0mchecks\u001b[0m\u001b[0;34m.\u001b[0m\u001b[0massert_len_equal\u001b[0m\u001b[0;34m(\u001b[0m\u001b[0mparam_list\u001b[0m\u001b[0;34m[\u001b[0m\u001b[0;36m0\u001b[0m\u001b[0;34m]\u001b[0m\u001b[0;34m,\u001b[0m \u001b[0mparams\u001b[0m\u001b[0;34m)\u001b[0m\u001b[0;34m\u001b[0m\u001b[0;34m\u001b[0m\u001b[0m\n",
      "\u001b[0;32m~/opt/anaconda3/envs/py38/lib/python3.8/site-packages/vectorbt/utils/checks.py\u001b[0m in \u001b[0;36massert_equal\u001b[0;34m(arg1, arg2, deep)\u001b[0m\n\u001b[1;32m    414\u001b[0m     \u001b[0;32melse\u001b[0m\u001b[0;34m:\u001b[0m\u001b[0;34m\u001b[0m\u001b[0;34m\u001b[0m\u001b[0m\n\u001b[1;32m    415\u001b[0m         \u001b[0;32mif\u001b[0m \u001b[0;32mnot\u001b[0m \u001b[0mis_equal\u001b[0m\u001b[0;34m(\u001b[0m\u001b[0marg1\u001b[0m\u001b[0;34m,\u001b[0m \u001b[0marg2\u001b[0m\u001b[0;34m)\u001b[0m\u001b[0;34m:\u001b[0m\u001b[0;34m\u001b[0m\u001b[0;34m\u001b[0m\u001b[0m\n\u001b[0;32m--> 416\u001b[0;31m             \u001b[0;32mraise\u001b[0m \u001b[0mAssertionError\u001b[0m\u001b[0;34m(\u001b[0m\u001b[0;34mf\"{arg1} and {arg2} do not match\"\u001b[0m\u001b[0;34m)\u001b[0m\u001b[0;34m\u001b[0m\u001b[0;34m\u001b[0m\u001b[0m\n\u001b[0m\u001b[1;32m    417\u001b[0m \u001b[0;34m\u001b[0m\u001b[0m\n\u001b[1;32m    418\u001b[0m \u001b[0;34m\u001b[0m\u001b[0m\n",
      "\u001b[0;31mAssertionError\u001b[0m: (1, 1) and (196220, 1) do not match"
     ]
    }
   ],
   "source": [
    ", mult, fshift\n",
    "def apply_ma_func(ts, emalen):\n",
    "    print(ts)\n",
    "    ma = talib.EMA(ts[0], emalen)\n",
    "#     ta.ema(close=ts, length=length)\n",
    "#     c2ma[:,0] = (ts.close - ma).fshift(fshift)\n",
    "#     mach[:,0] = ma * mult\n",
    "    return ma\n",
    "\n",
    "F = vbt.IndicatorFactory(input_names=['ts'], param_names=['emalen'], output_names=['out'], \n",
    "#          in_output_names=['mach, c2ma']\n",
    "                        )\n",
    "idf = F.from_apply_func(apply_ma_func).run(ddf.close, 50)\n",
    "    \n",
    "# print(F.from_apply_func(apply_func)\n",
    "#       .run(ddf.close, 50, 1.01,0).ts_out)"
   ]
  },
  {
   "cell_type": "code",
   "execution_count": 921,
   "id": "60ea076b-b8c7-402e-bfb0-dc9a16b80fe4",
   "metadata": {},
   "outputs": [
    {
     "data": {
      "text/plain": [
       "time\n",
       "2021-01-31 07:47:00             NaN\n",
       "2021-01-31 07:48:00             NaN\n",
       "2021-01-31 07:49:00             NaN\n",
       "2021-01-31 07:50:00             NaN\n",
       "2021-01-31 07:51:00             NaN\n",
       "                           ...     \n",
       "2021-06-17 00:05:00    38308.567234\n",
       "2021-06-17 00:06:00    38315.158926\n",
       "2021-06-17 00:07:00    38327.350457\n",
       "2021-06-17 00:08:00    38338.382794\n",
       "2021-06-17 00:09:00    38352.663481\n",
       "Length: 196220, dtype: float64"
      ]
     },
     "execution_count": 921,
     "metadata": {},
     "output_type": "execute_result"
    }
   ],
   "source": [
    "talib.EMA(ddf.close, 20)"
   ]
  },
  {
   "cell_type": "code",
   "execution_count": 810,
   "id": "6a651999-9226-4a9a-a121-d493083e80a6",
   "metadata": {},
   "outputs": [
    {
     "data": {
      "text/plain": [
       "time\n",
       "2021-04-11 02:39:00    False\n",
       "2021-04-11 02:40:00    False\n",
       "2021-04-11 02:41:00    False\n",
       "2021-04-11 02:42:00    False\n",
       "2021-04-11 02:43:00    False\n",
       "                       ...  \n",
       "2021-06-17 00:05:00    False\n",
       "2021-06-17 00:06:00    False\n",
       "2021-06-17 00:07:00    False\n",
       "2021-06-17 00:08:00    False\n",
       "2021-06-17 00:09:00    False\n",
       "Name: k, Length: 95897, dtype: bool"
      ]
     },
     "execution_count": 810,
     "metadata": {},
     "output_type": "execute_result"
    }
   ],
   "source": [
    "stoch.k < 20"
   ]
  },
  {
   "cell_type": "code",
   "execution_count": 938,
   "id": "8d472f32-0a2a-4b92-9dfb-9ec1dfd35611",
   "metadata": {},
   "outputs": [
    {
     "data": {
      "text/plain": [
       "time\n",
       "2021-02-02 23:20:00         NaN\n",
       "2021-02-02 23:21:00         NaN\n",
       "2021-02-02 23:22:00         NaN\n",
       "2021-02-02 23:23:00         NaN\n",
       "2021-02-02 23:24:00         NaN\n",
       "                         ...   \n",
       "2021-06-17 00:05:00    38168.87\n",
       "2021-06-17 00:06:00    38168.87\n",
       "2021-06-17 00:07:00    38168.87\n",
       "2021-06-17 00:08:00    38168.87\n",
       "2021-06-17 00:09:00    38168.87\n",
       "Name: close, Length: 192407, dtype: float64"
      ]
     },
     "execution_count": 938,
     "metadata": {},
     "output_type": "execute_result"
    }
   ],
   "source": [
    "r = ddf.close.vbt.rolling_min(200)\n",
    "r"
   ]
  },
  {
   "cell_type": "code",
   "execution_count": null,
   "id": "0d4ede9b-7246-4a3b-9c89-64b02b4b4857",
   "metadata": {},
   "outputs": [],
   "source": []
  }
 ],
 "metadata": {
  "kernelspec": {
   "display_name": "py38",
   "language": "python",
   "name": "py38"
  },
  "language_info": {
   "codemirror_mode": {
    "name": "ipython",
    "version": 3
   },
   "file_extension": ".py",
   "mimetype": "text/x-python",
   "name": "python",
   "nbconvert_exporter": "python",
   "pygments_lexer": "ipython3",
   "version": "3.8.10"
  },
  "toc-autonumbering": true,
  "toc-showcode": false,
  "toc-showmarkdowntxt": true,
  "toc-showtags": true
 },
 "nbformat": 4,
 "nbformat_minor": 5
}