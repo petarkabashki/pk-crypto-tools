{
 "cells": [
  {
   "cell_type": "code",
   "execution_count": null,
   "source": [],
   "outputs": [],
   "metadata": {}
  },
  {
   "cell_type": "code",
   "execution_count": 1,
   "source": [
    "from datetime import datetime\n",
    "from pathlib import Path\n",
    "import os.path\n",
    "    \n",
    "# pairs = ['BTCUSDT', 'ETHUSDT', 'LINKUSDT', 'LINKBTC', 'ADAUSDT', 'ADABTC', 'ATOMUSDT', 'ATOMBTC', 'ALGOUSDT', 'ALGOBTC', \n",
    "#          'AVAXUSDT', 'AVAXBTC', 'DOTUSDT', 'DOTBTC', 'ETHBTC', 'DOGEBTC', 'DOGEUSDT', 'EGLDBTC', 'EGLDUSDT', 'ENJUSDT', \n",
    "#          'ENGBTC', 'AVAXUSDT', 'AVAXBTC', 'XLMUSDT', 'XLMBTC', 'RUNEUSDT', 'RUNEBTC', 'XRPUSDT', \n",
    "#         ]\n",
    "\n",
    "coins = ['AAVE', 'ADA', 'ALGO', 'ATOM', 'AVAX', 'BNB', 'BTC', 'CEL', 'DOGE', 'DOT', 'EGLD', 'ENJ', 'ETH', 'KSM', 'LINK', 'POL', 'RUNE', 'SNX', 'SOL', 'SUSHI', 'VET', 'XLM', 'XMR', 'XRP']\n",
    "\n",
    "base_coins = ['USDT', 'BTC']\n",
    "\n",
    "coins.sort()\n",
    "pairs = [c + b for b in base_coins for c in coins if c != b]\n",
    "pairs = [p for p in pairs if p not in [\n",
    "    'BNBUSDT'\n",
    "]]\n",
    "print(pairs)\n",
    "\n",
    "# ['AAVEUSDT', 'ADAUSDT', 'ALGOUSDT', 'ATOMUSDT', 'AVAXUSDT', 'BNBUSDT', 'BTCUSDT', 'CELUSDT', 'DOGEUSDT', 'DOTUSDT', 'EGLDUSDT', 'ENJUSDT', 'ETHUSDT', 'KSMUSDT', 'LINKUSDT', 'POLUSDT', 'RUNEUSDT', 'SNXUSDT', 'SOLUSDT', 'SUSHIUSDT', 'VETUSDT', 'XLMUSDT', 'XMRUSDT', 'XRPUSDT', 'AAVEBTC', 'ADABTC', 'ALGOBTC', 'ATOMBTC', 'AVAXBTC', 'BNBBTC', 'CELBTC', 'DOGEBTC', 'DOTBTC', 'EGLDBTC', 'ENJBTC', 'ETHBTC', 'KSMBTC', 'LINKBTC', 'POLBTC', 'RUNEBTC', 'SNXBTC', 'SOLBTC', 'SUSHIBTC', 'VETBTC', 'XLMBTC', 'XMRBTC', 'XRPBTC']\n",
    "\n",
    "resolutions = [\n",
    "    '1d'#, '8h', '1w', '1M', '4h', '2h', '1h'    \n",
    "    ]\n",
    "start_date = datetime(2010, 1, 1)\n",
    "start_date_str = start_date.strftime('%Y-%m-%d')\n",
    "end_date = datetime.today()\n",
    "# end_date.strftime(\"%d %b, %Y\")\n",
    "\n",
    "# for pair in pairs:\n",
    "#     for resolution in resolutions:\n",
    "#         data_folder = 'data/{}'.format(resolution)\n",
    "#         Path(data_folder).mkdir(parents=True, exist_ok=True)\n",
    "#         csv_filename = '{}__{}__{}'.format(pair, resolution, start_date_str)\n",
    "#         print(csv_filename)\n"
   ],
   "outputs": [
    {
     "output_type": "stream",
     "name": "stdout",
     "text": [
      "['AAVEUSDT', 'ADAUSDT', 'ALGOUSDT', 'ATOMUSDT', 'AVAXUSDT', 'BTCUSDT', 'CELUSDT', 'DOGEUSDT', 'DOTUSDT', 'EGLDUSDT', 'ENJUSDT', 'ETHUSDT', 'KSMUSDT', 'LINKUSDT', 'POLUSDT', 'RUNEUSDT', 'SNXUSDT', 'SOLUSDT', 'SUSHIUSDT', 'VETUSDT', 'XLMUSDT', 'XMRUSDT', 'XRPUSDT', 'AAVEBTC', 'ADABTC', 'ALGOBTC', 'ATOMBTC', 'AVAXBTC', 'BNBBTC', 'CELBTC', 'DOGEBTC', 'DOTBTC', 'EGLDBTC', 'ENJBTC', 'ETHBTC', 'KSMBTC', 'LINKBTC', 'POLBTC', 'RUNEBTC', 'SNXBTC', 'SOLBTC', 'SUSHIBTC', 'VETBTC', 'XLMBTC', 'XMRBTC', 'XRPBTC']\n"
     ]
    }
   ],
   "metadata": {}
  },
  {
   "cell_type": "code",
   "execution_count": 2,
   "source": [
    "from datetime import datetime\n",
    "pairs=['BTCUSDT']\n",
    "resolutions=['15m']\n",
    "start_date = datetime(2021, 1, 1)\n",
    "end_date = datetime.today()\n",
    "# pairs"
   ],
   "outputs": [],
   "metadata": {}
  },
  {
   "cell_type": "code",
   "execution_count": 15,
   "source": [
    "# Downloads klines and saves them as json\n",
    "from pathlib import Path\n",
    "import os.path\n",
    "\n",
    "import config, csv\n",
    "from binance.client import Client\n",
    "import pandas as pd\n",
    "import json\n",
    "\n",
    "client = Client(config.API_KEY, config.API_SECRET)\n",
    "\n",
    "for pair in pairs:\n",
    "    for resolution in resolutions:\n",
    "        json_folder = 'data/json'\n",
    "        csv_folder = 'data/csv'\n",
    "        Path(json_folder).mkdir(parents=True, exist_ok=True)\n",
    "        Path(csv_folder).mkdir(parents=True, exist_ok=True)\n",
    "        jsonfname = '{}/{}-{}.json'.format(json_folder, pair, resolution)\n",
    "        csvfname = '{}/{}-{}.csv'.format(csv_folder, pair, resolution)\n",
    "\n",
    "#################\n",
    "        # Download json from binance\n",
    "        # with open(jsonfname, \"w\") as f:\n",
    "        #     klines = client.get_historical_klines(pair, resolution, start_date.strftime(\"%d %b, %Y\"), end_date.strftime(\"%d %b, %Y\"))\n",
    "        #     f.write(json.dumps(klines))\n",
    "        #     print(jsonfname)\n",
    "#################\n",
    "        # Convert to csv\n",
    "        df = pd.read_json(jsonfname)\n",
    "        df = df[[0,1,2,3,4,5]] \n",
    "        df.columns = ['time', 'open', 'high', 'low', 'close', 'volume']\n",
    "        # df.index = df['time']\n",
    "        times = pd.to_datetime(df['time'].values, unit='ms', utc=True)\n",
    "        df['time'] = times\n",
    "        # df\n",
    "        df.to_csv(csvfname , index = None, date_format='%Y-%m-%d %H:%M' )\n",
    "\n",
    "        print(csvfname)\n",
    "#################\n",
    "\n",
    "        \n"
   ],
   "outputs": [
    {
     "output_type": "stream",
     "name": "stdout",
     "text": [
      "data/csv/BTCUSDT-15m.csv\n"
     ]
    }
   ],
   "metadata": {}
  },
  {
   "cell_type": "code",
   "execution_count": 9,
   "source": [
    "# Downloads klines and saves the as csv\n",
    "from pathlib import Path\n",
    "import os.path\n",
    "\n",
    "import config, csv\n",
    "from binance.client import Client\n",
    "\n",
    "client = Client(config.API_KEY, config.API_SECRET)\n",
    "\n",
    "# prices = client.get_all_tickers()\n",
    "\n",
    "# for price in prices:\n",
    "#     print(price)\n",
    "\n",
    "for pair in pairs:\n",
    "    for resolution in resolutions:\n",
    "        data_folder = 'data/{}'.format(resolution)\n",
    "        Path(data_folder).mkdir(parents=True, exist_ok=True)\n",
    "        csv_filename = '{}/{}-{}__{}.csv'.format(data_folder, pair, resolution, start_date.strftime('%Y-%m-%d'))\n",
    "        \n",
    "        # print(csv_filename)\n",
    "        if not os.path.isfile(csv_filename):\n",
    "            try:\n",
    "                csvfile = open(csv_filename, 'w', newline='') \n",
    "                candlestick_writer = csv.writer(csvfile, delimiter=',')\n",
    "\n",
    "                candlesticks = client.get_historical_klines(pair, resolution, start_date.strftime(\"%d %b, %Y\"), end_date.strftime(\"%d %b, %Y\"))\n",
    "                print(csv_filename)\n",
    "\n",
    "                for candlestick in  candlesticks:\n",
    "                    # candlestick[0] = candlestick[0] / 1000\n",
    "                    candlestick_writer.writerow(candlestick)\n",
    "\n",
    "                csvfile.close()\n",
    "            except:\n",
    "              print(\"ERROR downloading {}\".format(csv_filename))\n",
    "            \n",
    "\n",
    "#candlesticks = client.get_historical_klines(\"BTCUSDT\", Client.KLINE_INTERVAL_1DAY, \"1 Jan, 2020\", \"12 Jul, 2020\")\n",
    "#candlesticks = client.get_historical_klines(\"BTCUSDT\", Client.KLINE_INTERVAL_1DAY, \"1 Jan, 2017\", \"12 Jul, 2020\")\n",
    "\n",
    "\n",
    "\n",
    "\n"
   ],
   "outputs": [
    {
     "output_type": "stream",
     "name": "stdout",
     "text": [
      "data/1h/BTCUSDT-1h__2021-01-01.csv\n",
      "data/1h/BTCUSDT-1h__2021-01-01.csv\n"
     ]
    }
   ],
   "metadata": {}
  },
  {
   "cell_type": "code",
   "execution_count": null,
   "source": [],
   "outputs": [],
   "metadata": {}
  },
  {
   "cell_type": "code",
   "execution_count": 12,
   "source": [
    "import pandas as pd\n",
    "\n",
    "df = pd.read_csv('data/binance/BTC_USDT-15m.csv')\n",
    "df['ttime'] = pd.to_datetime(df['time'])\n",
    "# ddf = df[['date', 'open', 'high', 'low', 'close']]\n",
    "# ddf.index = ddf['date']\n",
    "# ddf[ddf['date'] >= '2020-12-01'].to_csv('data/csv/BTC_USDT-1d.csv')\n",
    "\n",
    "df.index = df['time']\n",
    "# df = df[['time','open', 'high', 'low', 'close']]\n",
    "\n",
    "# df = df[df['ttime'] >= '2021-03-01'][['open', 'high', 'low', 'close']]\n",
    "# df = df[['open', 'high', 'low', 'close']]\n",
    "# df.to_csv('data/csv/BTC_USDT-15m.csv')\n",
    "# df['time'].values.strftime('%Y')\n",
    "# df.head()\n"
   ],
   "outputs": [
    {
     "output_type": "error",
     "ename": "AttributeError",
     "evalue": "'numpy.ndarray' object has no attribute 'strftime'",
     "traceback": [
      "\u001b[0;31m---------------------------------------------------------------------------\u001b[0m",
      "\u001b[0;31mAttributeError\u001b[0m                            Traceback (most recent call last)",
      "\u001b[0;32m<ipython-input-12-50f5ab494220>\u001b[0m in \u001b[0;36m<module>\u001b[0;34m\u001b[0m\n\u001b[1;32m     13\u001b[0m \u001b[0;31m# df = df[['open', 'high', 'low', 'close']]\u001b[0m\u001b[0;34m\u001b[0m\u001b[0;34m\u001b[0m\u001b[0;34m\u001b[0m\u001b[0m\n\u001b[1;32m     14\u001b[0m \u001b[0;31m# df.to_csv('data/csv/BTC_USDT-15m.csv')\u001b[0m\u001b[0;34m\u001b[0m\u001b[0;34m\u001b[0m\u001b[0;34m\u001b[0m\u001b[0m\n\u001b[0;32m---> 15\u001b[0;31m \u001b[0mdf\u001b[0m\u001b[0;34m[\u001b[0m\u001b[0;34m'time'\u001b[0m\u001b[0;34m]\u001b[0m\u001b[0;34m.\u001b[0m\u001b[0mvalues\u001b[0m\u001b[0;34m.\u001b[0m\u001b[0mstrftime\u001b[0m\u001b[0;34m(\u001b[0m\u001b[0;34m'%Y'\u001b[0m\u001b[0;34m)\u001b[0m\u001b[0;34m\u001b[0m\u001b[0;34m\u001b[0m\u001b[0m\n\u001b[0m\u001b[1;32m     16\u001b[0m \u001b[0;31m# df.head()\u001b[0m\u001b[0;34m\u001b[0m\u001b[0;34m\u001b[0m\u001b[0;34m\u001b[0m\u001b[0m\n",
      "\u001b[0;31mAttributeError\u001b[0m: 'numpy.ndarray' object has no attribute 'strftime'"
     ]
    }
   ],
   "metadata": {}
  },
  {
   "cell_type": "code",
   "execution_count": 1,
   "source": [
    "\n",
    "1.8741 * 1.002"
   ],
   "outputs": [
    {
     "output_type": "execute_result",
     "data": {
      "text/plain": [
       "1.8778482"
      ]
     },
     "metadata": {},
     "execution_count": 1
    }
   ],
   "metadata": {}
  },
  {
   "cell_type": "code",
   "execution_count": 3,
   "source": [
    "4190 * 1.002"
   ],
   "outputs": [
    {
     "output_type": "execute_result",
     "data": {
      "text/plain": [
       "4198.38"
      ]
     },
     "metadata": {},
     "execution_count": 3
    }
   ],
   "metadata": {}
  },
  {
   "cell_type": "code",
   "execution_count": null,
   "source": [],
   "outputs": [],
   "metadata": {}
  }
 ],
 "metadata": {
  "kernelspec": {
   "name": "python3",
   "display_name": "Python 3.8.10 64-bit ('py38': conda)"
  },
  "language_info": {
   "codemirror_mode": {
    "name": "ipython",
    "version": 3
   },
   "file_extension": ".py",
   "mimetype": "text/x-python",
   "name": "python",
   "nbconvert_exporter": "python",
   "pygments_lexer": "ipython3",
   "version": "3.8.10"
  },
  "interpreter": {
   "hash": "9cd1802d11fdaa8b5e14fa01355949ba763388a191b1b5d281078f6b1e7bfc37"
  }
 },
 "nbformat": 4,
 "nbformat_minor": 4
}