{
 "cells": [
  {
   "cell_type": "code",
   "execution_count": null,
   "id": "f12c1979",
   "metadata": {},
   "outputs": [],
   "source": [
    " now_time = int(time.time()) * 1000"
   ]
  },
  {
   "cell_type": "code",
   "execution_count": null,
   "id": "a399cb8d",
   "metadata": {},
   "outputs": [],
   "source": [
    " print(now_time)"
   ]
  },
  {
   "cell_type": "code",
   "execution_count": null,
   "id": "9823172f",
   "metadata": {},
   "outputs": [],
   "source": []
  }
 ],
 "metadata": {
  "kernelspec": {
   "display_name": "crypto-3.7.6",
   "language": "python",
   "name": "crypto-3.7.6"
  }
 },
 "nbformat": 4,
 "nbformat_minor": 5
}
