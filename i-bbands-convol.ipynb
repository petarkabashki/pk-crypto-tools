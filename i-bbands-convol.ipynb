{
 "cells": [
  {
   "cell_type": "code",
   "execution_count": 90,
   "source": [
    "from __future__ import print_function\n",
    "from ipywidgets import interact, interactive, fixed, interact_manual\n",
    "# import ipywidgets as widgets\n",
    "from ipywidgets import *\n",
    "from IPython.display import display\n",
    "import IPython\n",
    "import pandas as pd\n",
    "import matplotlib\n",
    "import matplotlib.pyplot as plt\n",
    "import matplotlib.dates as mdates\n",
    "import numpy as np\n",
    "\n",
    "from datetime import datetime\n",
    "import talib\n",
    "import pandas_ta as ta\n",
    "# from talib.abstract import *\n",
    "from math import *\n",
    "from collections import OrderedDict\n",
    "# import vectorbt as vbt    \n",
    "import json\n",
    "%matplotlib inline\n",
    "\n",
    "matplotlib.rcParams.update({'font.size': 7, 'lines.linewidth': 0.7, 'figure.dpi': 300})"
   ],
   "outputs": [],
   "metadata": {}
  },
  {
   "cell_type": "code",
   "execution_count": 55,
   "source": [
    "df = pd.read_json(r'./freq-user-data/data/binance/BTC_USDT-1m.json').dropna()\n",
    "df.columns = ['timestamp', 'open', 'high', 'low', 'close', 'volume']\n",
    "\n",
    "df['date'] = pd.to_datetime(df['timestamp'], unit='ms', utc=False)\n",
    "# df.index = df['time']\n",
    "# df.set_index('time', drop=True, inplace=True)\n",
    "df.set_index(pd.DatetimeIndex(df[\"date\"]), inplace=True, drop=True)\n",
    "# df = df[['time', 'symbol', 'source', 'resolution', 'open', 'high', 'low', 'close', 'volume']]\n",
    "# df.to_csv (r'./data/binance/BTC_USDT-5m.csv', index = None)\n",
    "# df.set_index('time')\n",
    "df = df.sort_index()"
   ],
   "outputs": [],
   "metadata": {}
  },
  {
   "cell_type": "code",
   "execution_count": 95,
   "source": [
    "# pd.Timestamp('now').floor('D') + pd.Timedelta(-7, unit='D')\n",
    "\n",
    "# start_time = datetime(2021,5,1)\n",
    "\n",
    "start_time = pd.Timestamp('now') + pd.Timedelta(-4, unit='W')\n",
    "# start_time\n",
    "ddf = df.loc[df.index >= start_time].copy()\n",
    "# ddf = df.loc[df['time'] >= start_time]\n",
    "# ddf\n",
    "\n",
    "ddf = ddf.resample('5Min').agg(\n",
    "    OrderedDict([\n",
    "        ('open', 'first'),\n",
    "        ('high', 'max'),\n",
    "        ('low', 'min'),\n",
    "        ('close', 'last'),\n",
    "        ('volume', 'sum'),\n",
    "    ])\n",
    ").dropna()\n",
    "\n",
    "# ema = ddf.close.ewm(span=50,min_periods=0,adjust=False,ignore_na=False).mean()\n",
    "# detrended = ddf.close - ddf.ema\n",
    "\n",
    "ddf['lret'] = ddf.close.apply(np.log).diff(1)\n",
    "ddf['cumlret'] = ddf.lret.cumsum()\n",
    "\n",
    "dlen = len(ddf.index)\n",
    "dlen"
   ],
   "outputs": [
    {
     "output_type": "execute_result",
     "data": {
      "text/plain": [
       "7972"
      ]
     },
     "metadata": {},
     "execution_count": 95
    }
   ],
   "metadata": {}
  },
  {
   "cell_type": "code",
   "execution_count": 167,
   "source": [
    "\n",
    "sl_n2= IntSlider(description=\"n2\", min=0, max=floor(log(dlen, 2.0)), step=1, value=9)\n",
    "sl_w = IntSlider(description=\"w\", min=0, max=floor(dlen/pow(2,9)), step=1, value=5)\n",
    "def update_sl_w_range(*args):\n",
    "    wsize = pow(2,sl_n2.value)\n",
    "    sl_w.max = floor(dlen/wsize)*2 -1\n",
    "sl_n2.observe(update_sl_w_range, 'value')\n",
    "\n",
    "wdg_bb_ma = widgets.IntText(value=50,description='bbma:',disabled=False)\n",
    "wdg_bb_stn = widgets.IntText(value=50,description='bbstn:',disabled=False)\n",
    "wdg_bb_std = widgets.FloatText(value=3,step=0.2,description='bbstd:',disabled=False)\n",
    "\n",
    "wdg_krn = widgets.FloatText(value=1,step=0.5,description='krn:',disabled=False)\n",
    "wdg_krpow = widgets.FloatText(value=1, step=0.05,description='krpow:',disabled=False)\n",
    "wdg_krstart = widgets.FloatText(value=1, step=1/6.,description='krstrt:',disabled=False)\n",
    "wdg_krend = widgets.FloatText(value=2, step=1/6.,description='krend:',disabled=False)\n",
    "wdg_krflip = widgets.Checkbox(value=False,description='krflip:',disabled=False)\n",
    "wdg_krflipy = widgets.Checkbox(value=False,description='krflipy:',disabled=False)\n",
    "\n",
    "# slCoolOff = IntSlider(description=\"cool\", min=0, step=5, max=600, value=30)\n",
    "# slDowntrendWait = IntSlider(description=\"dnt\", min=0, max=100, value=30)\n",
    "\n",
    "# slStopLoss = FloatSlider(description=\"sl\", min=0, step=0.05, max=15,value=1.92)\n",
    "# slTrailingStopLoss = FloatSlider(description=\"ts\", min=0, step=0.2, max=15,value=10)\n",
    "# slTakeProfit = FloatSlider(description=\"tp\", min=0, step=0.2, max=15, value=10)\n",
    "\n",
    "\n",
    "# slXrr = FloatSlider(description=\"xrr\", min=1, step=0.2, max=20, value=2)\n",
    "\n",
    "ui = widgets.VBox([\n",
    "    widgets.HBox([sl_n2, sl_w]),\n",
    "    widgets.HBox([wdg_bb_ma, wdg_bb_stn, wdg_bb_std]),\n",
    "    widgets.HBox([wdg_krn, wdg_krstart, wdg_krend, wdg_krpow, wdg_krflip, wdg_krflipy])\n",
    "    # widgets.HBox([slTrailingStopLoss, slStopLoss, slTakeProfit, slXrr]),\n",
    "#     widgets.HBox([slStK, slStD, slStSm, slStT])\n",
    "])\n",
    "\n",
    "\n",
    "wst = wed = wsz = wdf = dbbf =False\n",
    "\n",
    "def printer(w2log, w, bbma, bbstn, bbstd, krn, krstart, krend, krpow, krflip, krflipy):\n",
    "    with open(f'./strat-params.json', \"w\") as f: f.write(json.dumps({\"w2log\": sl_n2.value, \"w\":sl_w.value, \n",
    "            # \"sl\":slStopLoss.value, \"ts\": slTrailingStopLoss.value, \"tp\": slTakeProfit.value \n",
    "            'bbma': wdg_bb_ma.value, 'bbstn': wdg_bb_stn.value, 'bbstd': wdg_bb_std.value,\n",
    "            'krn': wdg_krn.value, 'krstart': wdg_krstart.value, 'krend': wdg_krend.value, 'krpow': wdg_krpow.value, \n",
    "            'krflip': wdg_krflip.value,'krflipy': wdg_krflipy.value,\n",
    "            }))\n",
    "    krnn = floor(60*krn/5)\n",
    "    krx = np.linspace(krstart, krend, krnn)\n",
    "    krxpi = np.power(krx , krpow)\n",
    "    krxpi = np.exp(krxpi)\n",
    "    kryo = np.cos(krxpi)\n",
    "    kryo = kryo - np.mean(kryo)\n",
    "    kry = kryo\n",
    "    if krflip: kry = np.flipud(kry)\n",
    "    if krflipy: kry = -(kry)\n",
    "    kry = kry * 100\n",
    "    # kry = kry - kry.mean\n",
    "\n",
    "    ddf['bb_middle'] = ddf.close.ewm(span=bbma,min_periods=0,adjust=False,ignore_na=False).mean()\n",
    "    ddf['bb_std'] = ddf.close.rolling(bbstn).std()\n",
    "    ddf['bb_std_bw'] = ddf.bb_std * bbstd\n",
    "    ddf['bb_lower'] = ddf['bb_middle'] - ddf.bb_std_bw\n",
    "\n",
    "    global wst, wed, wsz, stoch, wdf\n",
    "    wsz = floor(pow(2,w2log))\n",
    "    wst = floor(w * wsz / 2)\n",
    "    wed = floor(wst + wsz)\n",
    "    \n",
    "    # s = ( \n",
    "    #     (\n",
    "    #         (trn < 1) |\n",
    "    #         (                \n",
    "    #             ((ddf['ma1'] - ddf['ma2c']).rolling(window=trn).min() > 0) \n",
    "    #         )\n",
    "    #     ) &\n",
    "    #     (ddf['open'] < ddf['ma2c']) &\n",
    "    #     (ddf.xrr > xrr)\n",
    "    # )\n",
    "    # tentries = ddf['entries'] = s.vbt.signals.first()\n",
    "\n",
    "    \n",
    "    # wdf = ddf[max(ma1n,ma2n):].iloc[wst:wed,:]\n",
    "    wdf = ddf.iloc[wst:wed,:].copy()\n",
    "\n",
    "    wdf['krnl_conv'] = wdf.cumlret.rolling(krnn).apply(lambda v: (v * kry).sum())\n",
    "    # wbbf = dbbf.loc[wdf.index]\n",
    "    \n",
    "    # texits = vbt.OHLCSTEX.run(\n",
    "    #     tentries, \n",
    "    #     ddf['open'], \n",
    "    #     ddf['high'], \n",
    "    #     ddf['low'], \n",
    "    #     ddf['close'], \n",
    "    #     sl_stop=sl/100,\n",
    "    #     tp_stop=tp/100,\n",
    "    #     ts_stop=ts/100\n",
    "    # #     stop_type=None, hit_price=None\n",
    "    # ).exits\n",
    "\n",
    "    # global pf;\n",
    "    # pf = vbt.Portfolio.from_signals(ddf['close'], entries=tentries, exits=texits, direction='longonly', \n",
    "    #                                 init_cash=capital, fees=0.001, slippage=0.0025, freq='1m')\n",
    "\n",
    "    # global trades\n",
    "    # trades = pf.trades.records\n",
    "    # trades['cap'] = trades['pnl'].cumsum() + capital\n",
    "    # ddf_cap = pd.merge(ddf[[\"date\"]], trades[[\"exit_idx\", \"cap\"]], left_on=idx_ddf, right_index=False, \n",
    "    #          right_on=\"exit_idx\", how=\"left\", sort=False).fillna(method='ffill').set_index('date')\n",
    "\n",
    "    \n",
    "#     with open(f'./strategy-results/{datetime.now():strat_%Y-%m-%d}.log', \"a\") as f: \n",
    "#         f.write(json.dumps(dict({   \n",
    "#             \"dt\": f'{datetime.now():%Y-%m-%d %HH:%MM:%SS}',\n",
    "#             \"period_start\": f'{ddf.index[0]}',\n",
    "#             \"period_end\": f'{ddf.index[-1]}',\n",
    "#             \"params\": dict({ 'sl': sl, 'ts': ts, 'tp': tp, 'ma1n': ma1n, 'ma2n': ma2n, 'ma1c': ma1c, 'ma2c': ma2c, 'trn': trn, 'mrn': mrn, 'xrr': xrr\n",
    "# #                         'std': std, 'stk': stk, 'stsm': stsm, 'stt': slStT.value\n",
    "#                            }),\n",
    "#             \"strategy\": \"2EMASTH\",\n",
    "#             \"profit\": floor(100* (trades.iloc[-1].cap / capital - 1)) if len(trades.index) else 0. \n",
    "#         })\n",
    "#     )); f.write(\"\\n\");\n",
    "    \n",
    "    \n",
    "    # trades_profits = trades[trades['pnl'] > 0]\n",
    "    # trades_losses = trades[trades['pnl'] < 0]    \n",
    "    \n",
    "    # ddf_entries =  ddf.iloc[trades['entry_idx'].values]\n",
    "    # ddf_profits = ddf.iloc[trades_profits['exit_idx'].values]\n",
    "    # ddf_losses = ddf.iloc[trades_losses['exit_idx'].values]\n",
    "    \n",
    "    plt.close(\"all\")\n",
    "#     fig, (ax1, ax2) = plt.subplots(1, 2,figsize=(16,4), sharex='col', gridspec_kw={'width_ratios': [3,1]})\n",
    "    fig = plt.figure(constrained_layout=True,figsize=(16,5))\n",
    "    gs0 = fig.add_gridspec(1, 2, width_ratios=[3,1])\n",
    "\n",
    "    gs00 = gs0[0,0].subgridspec(3, 1, height_ratios=[3,1,1])\n",
    "    gs01 = gs0[0,1].subgridspec(4, 1)\n",
    "\n",
    "    ax001 = fig.add_subplot(gs00[0,0])\n",
    "    ax002 = fig.add_subplot(gs00[1,0], sharex=ax001)\n",
    "    ax003 = fig.add_subplot(gs00[2,0], sharex=ax001)\n",
    "\n",
    "    ax101 = fig.add_subplot(gs01[0,0])\n",
    "    ax102 = fig.add_subplot(gs01[1,0])\n",
    "    ax103 = fig.add_subplot(gs01[2,0])\n",
    "    ax104 = fig.add_subplot(gs01[3,0])\n",
    "\n",
    "\n",
    "#     wma1 = wdf['ma1']; wma2 = ma2[wdf.index]; wma3 = ma3[wdf.index];\n",
    "    \n",
    "    ax001.plot(wdf['close'])\n",
    "    ax001.plot(wdf['low'], lw=0.5)\n",
    "    ax001.plot(wdf['high'], lw=0.5)\n",
    "    ax001.plot(wdf.bb_middle)\n",
    "    # ax001.plot(wdf.ema*0.98, linestyle='dotted', lw=1)\n",
    "    ax001.plot(wdf.bb_lower)\n",
    "    # ax1.plot(wdf['rmin'], lw=0.5)\n",
    "    \n",
    "    ax001.fill_between(wdf.index, wdf.bb_middle*0.99, wdf.bb_middle*1.01, alpha=0.15)\n",
    "    # ax1.fill_between(wdf.index, wdf['ma2'], wdf['ma2c'][wdf.index], alpha=0.15)\n",
    "    ax002.plot(wdf.krnl_conv)    \n",
    "    ax002.axhline(color='b', linestyle='--')\n",
    "    # ax002.axhline(y=-1, linestyle='--')\n",
    "    # ax002.axhline(y=-2, linestyle='--')\n",
    "    # ax002.axhline(y=-4, linestyle='--')\n",
    "    # ax002.axhline(y=1, linestyle='--')\n",
    "    # ax002.axhline(y=2, linestyle='--')\n",
    "    # ax002.axhline(y=4, linestyle='--')\n",
    "    ax003.plot(wdf.bb_std)\n",
    "    ax003.axhline(color='b', linestyle='--')\n",
    "\n",
    "\n",
    "    ax102.plot(krx, kry)\n",
    "    # ax102.plot(krx, kryo)\n",
    "    ax102.axhline(color='b', linestyle='--')\n",
    "\n",
    "    # wddf_entries = ddf_entries[ddf_entries.index.isin(wdf.index)]\n",
    "    # wddf_profits = ddf_profits[ddf_profits.index.isin(wdf.index)]\n",
    "    # wddf_losses = ddf_losses[ddf_losses.index.isin(wdf.index)]\n",
    "    \n",
    "    # wddf_trades = ddf_cap[wst:wed]\n",
    "    \n",
    "    \n",
    "    # ax1.vlines(wddf_entries.index,wddf_entries['open'] * 0.97,wddf_entries['open'] * 1.02, lw=0.5, color='blue')\n",
    "    # ax1.vlines(wddf_profits.index,wddf_profits['open'] *0.97,wddf_profits['open'] * 1.02, lw=0.5, color='green')\n",
    "    # ax1.vlines(wddf_losses.index,wddf_losses['open'] * 0.97,wddf_losses['open'] * 1.02, lw=0.5, color='red')\n",
    "    \n",
    "    \n",
    "    # ax2.plot(wdf.xrr,lw=0.5,color='green')\n",
    "\n",
    "#     ax2.plot(wslowk,lw=0.5,color='orange')\n",
    "#     ax2.plot(wslowd,lw=0.5,color='teal')\n",
    "#     ax2.axhline(y=20, color='b', linestyle='--',lw=0.5)\n",
    "#     ax2.axhline(y=80, color='b', linestyle='--',lw=0.5)\n",
    "#     ax2.vlines(wddf_entries.index,0,100, lw=0.5, color='blue')\n",
    "#     ax2.vlines(wddf_profits.index,0,100, lw=0.5, color='green')\n",
    "#     ax2.vlines(wddf_losses.index,0,100, lw=0.5, color='red')\n",
    "\n",
    "    \n",
    "    # ax3.plot(ddf_cap['cap'])\n",
    "    # ax4.plot(wddf_trades['cap'])\n",
    "    \n",
    "    plt.show()\n",
    "    # print(pf.stats())\n",
    "    # print(pf.returns_stats())\n",
    "    \n",
    "\n",
    "with open('./strat-params.json') as f: \n",
    "    js = json.loads(f.read())\n",
    "    sl_n2.value=js[\"w2log\"]; sl_w.value=js[\"w\"];\n",
    "    wdg_krn.value=js[\"krn\"]; wdg_krstart.value=js['krstart'];wdg_krend.value=js[\"krend\"]; wdg_krpow.value=js['krpow'];\n",
    "    wdg_bb_ma.value = js['bbma']; wdg_bb_stn.value = js['bbstn']; wdg_bb_std.value = js['bbstd'];\n",
    "    wdg_krflip.value = js['krflip']; wdg_krflipy.value = js['krflipy']\n",
    "#     slStopLoss.value=js[\"sl\"]; slTrailingStopLoss.value=js[\"ts\"]; slTakeProfit.value=js[\"tp\"];\n",
    "    \n",
    "out = widgets.interactive_output(printer, {\"w2log\":sl_n2, \"w\":sl_w, \n",
    "    'bbma': wdg_bb_ma, 'bbstn': wdg_bb_stn, 'bbstd': wdg_bb_std,\n",
    "    'krn': wdg_krn, 'krstart': wdg_krstart, 'krend': wdg_krend, 'krpow': wdg_krpow, 'krflip': wdg_krflip, 'krflipy': wdg_krflipy\n",
    "                                # \"sl\":slStopLoss, \"ts\": slTrailingStopLoss, \"tp\": slTakeProfit, \n",
    "                                        #    \"ma1n\": slMa1N, \"ma2n\": slMa2N, \"ma1c\": slMa1c, \"ma2c\": slMa2c,\"trn\": slTrN, 'mrn': slMrN, 'xrr': slXrr,\n",
    "#                                            \"stk\": slStK, \"std\": slStD, \"stsm\": slStSm, 'stt': slStT\n",
    "                                          })\n",
    "    \n",
    "# interactive_plot = widgets.interactive_output(f, {'a': a, 'b': b, 'c': c})````\n",
    "# interactive(printer,w2log=sl_n2, w=sl_w, cool=slCoolOff, dnt=slDowntrendWait,\n",
    "#                                 sl=slStopLoss, tgt=slTarget);\n",
    "display(ui, out)\n",
    "\n",
    "# output = interactive_plot.children[-1]\n",
    "# # output.layout.width = '1200px'\n",
    "# output.layout.height = '500px'\n",
    "# interactive_plot\n"
   ],
   "outputs": [
    {
     "output_type": "display_data",
     "data": {
      "text/plain": [
       "VBox(children=(HBox(children=(IntSlider(value=8, description='n2', max=12), IntSlider(value=1, description='w'…"
      ],
      "application/vnd.jupyter.widget-view+json": {
       "version_major": 2,
       "version_minor": 0,
       "model_id": "81481896b7334f0f8f589be140f75f25"
      }
     },
     "metadata": {}
    },
    {
     "output_type": "display_data",
     "data": {
      "text/plain": [
       "Output()"
      ],
      "application/vnd.jupyter.widget-view+json": {
       "version_major": 2,
       "version_minor": 0,
       "model_id": "93f42827b27c4c448200418047066dd4"
      }
     },
     "metadata": {}
    }
   ],
   "metadata": {}
  },
  {
   "cell_type": "code",
   "execution_count": 995,
   "source": [
    "with open(f'./strat-params.json', \"w\") as f: f.write(json.dumps({\"w2log\": sl_n2.value, \"w\":sl_w.value, \"sl\":slStopLoss.value, \"ts\": slTrailingStopLoss.value, \n",
    "           \"tp\": slTakeProfit.value, \"ma1n\": slMa1N.value, \"ma2n\": slMa2N.value, \"ma1c\": slMa1c.value, \"ma2c\": slMa2c.value,\"trn\": slTrN.value, 'mrn': slMrN.value,\n",
    "             'xrr': slXrr.value})) ;\n",
    "\n",
    "#     \"stk\": slStK.value, \"std\": slStD.value, \"stsm\": slStSm.value, 'stt': slStT.value,\n",
    "                    \n",
    "# with open('./strat-params.json') as f: \n",
    "#     js = json.loads(f.read())\n",
    "#     sl_n2.value=js[\"w2log\"]; sl_w.value=js[\"w\"]; slStopLoss.value=js[\"sl\"]; slTrailingStopLoss.value=js[\"ts\"]; slTrN.value=js[\"trn\"];\n",
    "#     slTakeProfit.value=js[\"tp\"]; slMa1N.value=js[\"ma1n\"]; slMa2N.value=js[\"ma2n\"]; slMa1c.value=js[\"ma1c\"]; slMa2c.value=js[\"ma2c\"]; \n",
    "#     slStK.value=js['stk']; slStD.value=js['std']; slStSm.value=js['stsm'];\n",
    "\n"
   ],
   "outputs": [],
   "metadata": {}
  },
  {
   "cell_type": "code",
   "execution_count": 155,
   "source": [
    "\n",
    "wdg_krn = widgets.IntText(value=50,description='krn:',disabled=False)\n",
    "wdg_krpow = widgets.FloatText(value=1, step=0.05,description='krpow:',disabled=False)\n",
    "wdg_krstart = widgets.FloatText(value=0, step=1/6.,description='krstrt:',disabled=False)\n",
    "wdg_krend = widgets.FloatText(value=2, step=1/6.,description='krend:',disabled=False)\n",
    "wdg_krflip = widgets.Checkbox(value=False,description='krflip:',disabled=False)\n",
    "wdg_krflipy = widgets.Checkbox(value=False,description='krflipy:',disabled=False)\n",
    "ui = widgets.VBox([\n",
    "        widgets.HBox([wdg_krn, wdg_krstart, wdg_krend, wdg_krpow]),\n",
    "        widgets.HBox([wdg_krflip, wdg_krflipy])\n",
    "    ])\n",
    "kry = False\n",
    "def inter_plot(krn, krstart, krend, krpow, krflip, krflipy):\n",
    "    global kry\n",
    "    plt.close(\"all\")\n",
    "    krx = np.linspace(krstart, krend, krn)\n",
    "    # krxpi = (krx ** krpow) * pi\n",
    "    krxpi = np.power(krx , krpow)\n",
    "    krxpi = np.exp(krxpi)\n",
    "    kry = np.cos(krxpi)\n",
    "    if krflip: kry = np.flipud(kry)\n",
    "    if krflipy: kry = -(kry)\n",
    "    kry = kry - np.mean(kry)\n",
    "    # krnl = np.flipud(krnl) \n",
    "    fig, (ax1) = plt.subplots(1, 1,figsize=(2,0.5), sharex='col', gridspec_kw={'width_ratios': [1]})\n",
    "    ax1.plot(krx, kry)\n",
    "    ax1.plot(krx, np.flipud(kry))\n",
    "\n",
    "out = widgets.interactive_output(inter_plot, {'krn': wdg_krn, 'krstart': wdg_krstart, 'krend': wdg_krend, 'krpow': wdg_krpow,\n",
    "    'krflip': wdg_krflip, 'krflipy': wdg_krflipy})\n",
    "display(ui, out)\n"
   ],
   "outputs": [
    {
     "output_type": "display_data",
     "data": {
      "text/plain": [
       "VBox(children=(HBox(children=(IntText(value=50, description='krn:'), FloatText(value=0.0, description='krstrt:…"
      ],
      "application/vnd.jupyter.widget-view+json": {
       "version_major": 2,
       "version_minor": 0,
       "model_id": "95145ca7c83a4c98a95871a75d628039"
      }
     },
     "metadata": {}
    },
    {
     "output_type": "display_data",
     "data": {
      "text/plain": [
       "Output()"
      ],
      "application/vnd.jupyter.widget-view+json": {
       "version_major": 2,
       "version_minor": 0,
       "model_id": "8a27b53b30454649b9c1ddc7950b2f1b"
      }
     },
     "metadata": {}
    }
   ],
   "metadata": {}
  },
  {
   "cell_type": "code",
   "execution_count": 157,
   "source": [
    "floor(pi)"
   ],
   "outputs": [
    {
     "output_type": "execute_result",
     "data": {
      "text/plain": [
       "3"
      ]
     },
     "metadata": {},
     "execution_count": 157
    }
   ],
   "metadata": {}
  },
  {
   "cell_type": "code",
   "execution_count": 159,
   "source": [
    "3."
   ],
   "outputs": [
    {
     "output_type": "execute_result",
     "data": {
      "text/plain": [
       "3.0"
      ]
     },
     "metadata": {},
     "execution_count": 159
    }
   ],
   "metadata": {}
  },
  {
   "cell_type": "code",
   "execution_count": null,
   "source": [],
   "outputs": [],
   "metadata": {}
  }
 ],
 "metadata": {
  "kernelspec": {
   "display_name": "py38",
   "language": "python",
   "name": "py38"
  },
  "language_info": {
   "codemirror_mode": {
    "name": "ipython",
    "version": 3
   },
   "file_extension": ".py",
   "mimetype": "text/x-python",
   "name": "python",
   "nbconvert_exporter": "python",
   "pygments_lexer": "ipython3",
   "version": "3.8.10"
  },
  "toc-autonumbering": true,
  "toc-showcode": false,
  "toc-showmarkdowntxt": true,
  "toc-showtags": true
 },
 "nbformat": 4,
 "nbformat_minor": 5
}