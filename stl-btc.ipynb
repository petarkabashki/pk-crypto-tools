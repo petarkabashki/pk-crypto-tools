{
 "cells": [
  {
   "cell_type": "code",
   "execution_count": 2,
   "source": [
    "# from __future__ import print_function\n",
    "from ipywidgets import interact, interactive, fixed, interact_manual\n",
    "import ipywidgets as widgets\n",
    "from ipywidgets import *\n",
    "from IPython.display import display\n",
    "import IPython\n",
    "import pandas as pd\n",
    "import matplotlib\n",
    "import matplotlib.pyplot as plt\n",
    "import matplotlib.dates as mdates\n",
    "import numpy as np\n",
    "\n",
    "from datetime import datetime\n",
    "import talib\n",
    "import pandas_ta as ta\n",
    "# from talib.abstract import *\n",
    "from math import *\n",
    "from collections import OrderedDict\n",
    "# import vectorbt as vbt    \n",
    "import json\n",
    "%matplotlib inline\n",
    "# %matplotlib widget\n",
    "\n",
    "matplotlib.rcParams.update({'font.size': 7, 'lines.linewidth': 0.7, 'figure.dpi': 100})\n"
   ],
   "outputs": [],
   "metadata": {}
  },
  {
   "cell_type": "code",
   "execution_count": 3,
   "source": [
    "from statsmodels.tsa.seasonal import STL\n",
    "import matplotlib.pyplot as plt\n",
    "from datetime import datetime"
   ],
   "outputs": [],
   "metadata": {}
  },
  {
   "cell_type": "code",
   "execution_count": 4,
   "source": [
    "# from pandas.plotting import register_matplotlib_converters\n",
    "\n",
    "# from scipy import stats\n",
    "# import statsmodels.api as sm\n",
    "# from statsmodels.graphics.api import qqplot\n",
    "\n",
    "# from statsmodels.tsa.stattools import acf, pacf\n",
    "# from statsmodels.tsa.arima.model import ARIMA\n",
    "# from statsmodels.tsa.statespace.sarimax import SARIMAX\n",
    "\n",
    "from statsmodels.graphics.tsaplots import plot_acf, plot_pacf\n",
    "from statsmodels.tsa.stattools import adfuller\n",
    "# register_matplotlib_converters()\n",
    "# from time import time"
   ],
   "outputs": [],
   "metadata": {}
  },
  {
   "cell_type": "code",
   "execution_count": 5,
   "source": [
    "def perform_adf_test(series):\n",
    "    result = adfuller(series)\n",
    "    print('ADF Statistic: %f' % result[0])\n",
    "    print('p-value: %f' % result[1])"
   ],
   "outputs": [],
   "metadata": {}
  },
  {
   "cell_type": "code",
   "execution_count": 6,
   "source": [
    "df = pd.read_json(r'./freq-user-data/data/binance/BTC_USDT-1m.json').dropna()\n",
    "df.columns = ['timestamp', 'open', 'high', 'low', 'close', 'volume']\n",
    "\n",
    "df['date'] = pd.to_datetime(df['timestamp'], unit='ms', utc=False)\n",
    "# df.index = df['time']\n",
    "# df.set_index('time', drop=True, inplace=True)\n",
    "df.set_index(pd.DatetimeIndex(df[\"date\"]), inplace=True, drop=True)\n",
    "# df = df[['time', 'symbol', 'source', 'resolution', 'open', 'high', 'low', 'close', 'volume']]\n",
    "# df.to_csv (r'./data/binance/BTC_USDT-5m.csv', index = None)\n",
    "# df.set_index('time')\n",
    "df = df.sort_index()"
   ],
   "outputs": [],
   "metadata": {}
  },
  {
   "cell_type": "code",
   "execution_count": 7,
   "source": [
    "ddf = df.copy().dropna()\n",
    "dlen = len(ddf)\n",
    "ddf['ret'] = ddf.close.diff()\n",
    "ddf['pctchange'] = ddf.close.pct_change()\n",
    "ddf['lret'] = np.log(ddf.close).diff()\n",
    "ddf['lrange'] = ddf.high - ddf.low\n",
    "ddf['lower'] = ddf.close * 0.99\n",
    "ddf['upper'] = ddf.close * 1.01\n",
    "# ddf['lrange'] = np.log(ddf.range).diff()\n",
    "\n",
    "# ddf['lrange'] = ddf.range / ddf.close\n",
    "# ddf['lrange'] = (ddf.close - ddf.low) / (ddf.high - ddf.low)"
   ],
   "outputs": [],
   "metadata": {}
  },
  {
   "cell_type": "code",
   "execution_count": 8,
   "source": [
    "# ddf\n",
    "# dlen\n",
    "floor(pi)"
   ],
   "outputs": [
    {
     "output_type": "execute_result",
     "data": {
      "text/plain": [
       "3"
      ]
     },
     "metadata": {},
     "execution_count": 8
    }
   ],
   "metadata": {}
  },
  {
   "cell_type": "code",
   "execution_count": 11,
   "source": [
    "num_lags = 30\n",
    "\n",
    "sl_n2= IntSlider(description=\"n2\", min=0, max=floor(log(dlen, 2.0)), step=1, value=9)\n",
    "sl_w = IntSlider(description=\"w\", min=0, max=floor(dlen/pow(2,9)), step=1, value=5)\n",
    "def update_sl_w_range(*args):\n",
    "    wsize = pow(2,sl_n2.value)\n",
    "    sl_w.max = floor(dlen/wsize)*2 \n",
    "sl_n2.observe(update_sl_w_range, 'value')\n",
    "\n",
    "\n",
    "# wdg_lags = IntSlider(description=\"lags\", min=1, max=50, step=1, value=20)\n",
    "\n",
    "# wdg_ma = widgets.IntSlider(value=50,description='ma:',disabled=False)\n",
    "# wdg_stn = widgets.IntSlider(value=50,description='stn:',disabled=False)\n",
    "\n",
    "\n",
    "wdg_nperiod = widgets.IntSlider(value=5, min=1, max=100,description='per:',disabled=False)\n",
    "wdg_nseasonal = widgets.IntSlider(value=7, min=1, max=50, step=2, description='seas:',disabled=False)\n",
    "wdg_ntrend = widgets.IntSlider(value=7, min=1, max=800, step=20, description='trend:',disabled=False)\n",
    "wdg_nlow_pass = widgets.IntSlider(value=3, min=1, max=150, step=2, description='lpass:',disabled=False)\n",
    "\n",
    "wdg_ntrain = widgets.FloatSlider(value=0.5, min=0.1, max=1., step=0.005, description='train:',disabled=False)\n",
    "\n",
    "# wdg_llag = widgets.IntSlider(value=60, min=-800, max=800, step=10, description='llag:',disabled=False)\n",
    "# wdg_ulag = widgets.IntSlider(value=60, min=-800, max=800, step=10, description='ulag:',disabled=False)\n",
    "\n",
    "ui = widgets.VBox([\n",
    "    # widgets.HBox([wdg_lags, wdg_ma, wdg_stn]),\n",
    "    widgets.HBox([sl_n2, sl_w]),\n",
    "    widgets.HBox([wdg_nperiod, wdg_nseasonal, wdg_ntrend, wdg_nlow_pass]),\n",
    "    wdg_ntrain\n",
    "    # widgets.HBox([wdg_llag, wdg_ulag]),\n",
    "    # widgets.HBox([wdg_nlow_pass])\n",
    "])\n",
    "\n",
    "wst = wed = wsz = wdf = norser = False\n",
    "# , lags, ma, stn\n",
    "# , llag, ulag\n",
    "def printer(w2log, w, nperiod, nseasonal,ntrend, nlow_pass, ntrain):\n",
    "\n",
    "    with open(f'./strat-params-stl.json', \"w\") as f: f.write(json.dumps({k: v.value for k, v in dvals.items()})) \n",
    "\n",
    "    # ddf['lclose'] = ddf.lower.shift(llag).rolling(abs(llag)).min()\n",
    "    # ddf['uclose'] = ddf.upper.shift(ulag).rolling(abs(ulag)).max()\n",
    "    \n",
    "\n",
    "    global wst, wed, wsz, wdf, norser\n",
    "    wsz = floor(pow(2,w2log))\n",
    "    wst = floor(w * wsz / 2)\n",
    "    wed = floor(wst + wsz)\n",
    "    \n",
    "    # ddf['ma'] = ddf.close.ewm(span=ma,min_periods=0,adjust=False,ignore_na=False).mean()\n",
    "    # ddf['stdr'] = ddf.close.rolling(stn).std()\n",
    "\n",
    "    wdf = ddf.iloc[wst:wed,:].copy()\n",
    "    wlen = len(wdf)\n",
    "    wtrdf = wdf.iloc[:floor(ntrain * wlen)]\n",
    "\n",
    "    stl = STL(wtrdf.close, period=nperiod, seasonal=nseasonal, trend=ntrend, low_pass=nlow_pass)\n",
    "    result = stl.fit()\n",
    "    seasonal, trend, resid = result.seasonal, result.trend, result.resid\n",
    "\n",
    "    # wdf['dtr'] = (wdf.close - wdf.ma) / wdf.stdr\n",
    "    # wdf['dtr'] = (wdf.close - wdf.ma)/wdf.ma\n",
    "\n",
    "    # norser = wdf.dtr\n",
    "    # acf_vals = acf(norser,fft=True)\n",
    "    # pacf_vals = pacf(norser)\n",
    "\n",
    "    plt.close(\"all\")\n",
    "    fig = plt.figure(constrained_layout=True,figsize=(12,4))\n",
    "    gs0 = fig.add_gridspec(5, 1, height_ratios=[2,1,1,1,2])\n",
    "\n",
    "    # gs00 = gs0[0,0].subgridspec(3, 1, height_ratios=[3,1,1])\n",
    "\n",
    "    ax00 = fig.add_subplot(gs0[0,0])\n",
    "    ax01 = fig.add_subplot(gs0[1,0], sharex=ax00)\n",
    "    ax02 = fig.add_subplot(gs0[2,0], sharex=ax00)\n",
    "    ax03 = fig.add_subplot(gs0[3,0], sharex=ax00)\n",
    "\n",
    "\n",
    "    gs04 = gs0[4,0].subgridspec(1, 2)\n",
    "    ax401 = fig.add_subplot(gs04[0,0])\n",
    "    ax402 = fig.add_subplot(gs04[0,1])\n",
    "\n",
    "    ax00.plot(wdf['close'])\n",
    "    ax00.fill_between(wdf.index, wdf.lower, wdf.upper, alpha=0.15)\n",
    "    # ax00.plot(wdf['lclose'])\n",
    "    # ax00.plot(wdf['uclose'])\n",
    "\n",
    "    ax01.plot(trend)\n",
    "    ax02.plot(seasonal)\n",
    "    ax02.axhline()\n",
    "    ax03.plot(resid)\n",
    "    ax03.axhline()\n",
    "\n",
    "    # ax2.plot(norser)\n",
    "    # ax2.axhline()\n",
    "\n",
    "\n",
    "    # plot_pacf(resid, ax=ax402)\n",
    "    # plot_acf(resid, ax=ax401)\n",
    "\n",
    "    # ax301.bar(range(lags), acf_vals[:lags])\n",
    "    # ax301.axhline()\n",
    "    # ax301.axhline(y=-0.2, linestyle='--')\n",
    "    # ax301.axhline(y=0.2, linestyle='--')\n",
    "    # ax302.bar(range(lags), pacf_vals[:lags])\n",
    "    # ax302.axhline()\n",
    "    # ax302.axhline(y=-0.2, linestyle='--')\n",
    "    # ax302.axhline(y=0.2, linestyle='--')\n",
    "\n",
    "    # ax101 = fig.add_subplot(gs01[0,0])\n",
    "    # ax102 = fig.add_subplot(gs01[1,0])\n",
    "    # ax103 = fig.add_subplot(gs01[2,0])\n",
    "    # ax104 = fig.add_subplot(gs01[3,0])\n",
    "\n",
    "    # fig, (ax1, ax2) = plt.subplots(2, 1, sharex='col', figsize=(12,2))\n",
    "    \n",
    "\n",
    "#     wma1 = wdf['ma1']; wma2 = ma2[wdf.index]; wma3 = ma3[wdf.index];\n",
    "    \n",
    "    \n",
    "    \n",
    "    plt.show()\n",
    "    perform_adf_test(resid)\n",
    "    \n",
    "\n",
    "# with open('./strat-params-stl.json') as f: \n",
    "#     js = json.loads(f.read())\n",
    "#     sl_n2.value=js[\"w2log\"]; sl_w.value=js[\"w\"]; wdg_lags.value = js[\"lags\"]; wdg_ma.value = js[\"ma\"]; wdg_stn.value = js[\"stn\"];\n",
    "\n",
    "dvals = {\"w2log\":sl_n2, \"w\":sl_w, \n",
    "    \"nperiod\": wdg_nperiod, \"nseasonal\": wdg_nseasonal, \"ntrend\": wdg_ntrend, \"nlow_pass\": wdg_nlow_pass, \"ntrain\": wdg_ntrain,\n",
    "    # \"llag\": wdg_llag, \"ulag\": wdg_ulag\n",
    "    # \"lags\": wdg_lags, \"ma\": wdg_ma, \"stn\": wdg_stn\n",
    "    }\n",
    "\n",
    "with open('./strat-params-stl.json') as f: \n",
    "    js = json.loads(f.read());\n",
    "    for k, v in dvals.items(): \n",
    "        if k in js: v.value=js[k] ;\n",
    "\n",
    "\n",
    "out = widgets.interactive_output(printer, dvals)\n",
    "\n",
    "display(ui, out)\n"
   ],
   "outputs": [
    {
     "output_type": "display_data",
     "data": {
      "text/plain": [
       "VBox(children=(HBox(children=(IntSlider(value=11, description='n2', max=18), IntSlider(value=268, description=…"
      ],
      "application/vnd.jupyter.widget-view+json": {
       "version_major": 2,
       "version_minor": 0,
       "model_id": "e3e04bc311e34a58b8811731c9e43abd"
      }
     },
     "metadata": {}
    },
    {
     "output_type": "display_data",
     "data": {
      "text/plain": [
       "Output()"
      ],
      "application/vnd.jupyter.widget-view+json": {
       "version_major": 2,
       "version_minor": 0,
       "model_id": "1e9f2a2bb706444390e5406afcb67bb8"
      }
     },
     "metadata": {}
    }
   ],
   "metadata": {}
  },
  {
   "cell_type": "code",
   "execution_count": 21,
   "source": [
    "ntrain = floor(len(norser)/3*2)\n",
    "norser_train = norser[:ntrain]\n",
    "model = ARIMA(norser_train, order=(1,0,0))\n",
    "model_fit = model.fit()\n",
    "print(model_fit.summary())"
   ],
   "outputs": [
    {
     "output_type": "stream",
     "name": "stderr",
     "text": [
      "/Users/johnsmith/opt/anaconda3/envs/py38/lib/python3.8/site-packages/statsmodels/tsa/base/tsa_model.py:524: ValueWarning: No frequency information was provided, so inferred frequency 5T will be used.\n",
      "  warnings.warn('No frequency information was'\n",
      "/Users/johnsmith/opt/anaconda3/envs/py38/lib/python3.8/site-packages/statsmodels/tsa/base/tsa_model.py:524: ValueWarning: No frequency information was provided, so inferred frequency 5T will be used.\n",
      "  warnings.warn('No frequency information was'\n",
      "/Users/johnsmith/opt/anaconda3/envs/py38/lib/python3.8/site-packages/statsmodels/tsa/base/tsa_model.py:524: ValueWarning: No frequency information was provided, so inferred frequency 5T will be used.\n",
      "  warnings.warn('No frequency information was'\n"
     ]
    },
    {
     "output_type": "stream",
     "name": "stdout",
     "text": [
      "                               SARIMAX Results                                \n",
      "==============================================================================\n",
      "Dep. Variable:                    dtr   No. Observations:                  153\n",
      "Model:                 ARIMA(1, 0, 0)   Log Likelihood                 793.455\n",
      "Date:                Wed, 14 Jul 2021   AIC                          -1580.911\n",
      "Time:                        17:07:38   BIC                          -1571.819\n",
      "Sample:                    07-13-2021   HQIC                         -1577.218\n",
      "                         - 07-13-2021                                         \n",
      "Covariance Type:                  opg                                         \n",
      "==============================================================================\n",
      "                 coef    std err          z      P>|z|      [0.025      0.975]\n",
      "------------------------------------------------------------------------------\n",
      "const         -0.0005      0.001     -0.536      0.592      -0.002       0.001\n",
      "ar.L1          0.8713      0.036     24.042      0.000       0.800       0.942\n",
      "sigma2      1.813e-06   1.72e-07     10.556      0.000    1.48e-06    2.15e-06\n",
      "===================================================================================\n",
      "Ljung-Box (L1) (Q):                   0.99   Jarque-Bera (JB):                 8.99\n",
      "Prob(Q):                              0.32   Prob(JB):                         0.01\n",
      "Heteroskedasticity (H):               1.27   Skew:                            -0.06\n",
      "Prob(H) (two-sided):                  0.39   Kurtosis:                         4.18\n",
      "===================================================================================\n",
      "\n",
      "Warnings:\n",
      "[1] Covariance matrix calculated using the outer product of gradients (complex-step).\n"
     ]
    }
   ],
   "metadata": {}
  },
  {
   "cell_type": "code",
   "execution_count": 22,
   "source": [
    "fig = plt.figure(figsize=(9,3))\n",
    "ax = fig.add_subplot(111)\n",
    "ax = model_fit.resid.plot(ax=ax);"
   ],
   "outputs": [
    {
     "output_type": "display_data",
     "data": {
      "text/plain": [
       "<Figure size 900x300 with 1 Axes>"
      ],
      "image/png": "[encoded data removed]"
     },
     "metadata": {}
    }
   ],
   "metadata": {}
  },
  {
   "cell_type": "code",
   "execution_count": 23,
   "source": [
    "resid = model_fit.resid\n",
    "# stats.normaltest(resid)\n",
    "k2, p = stats.normaltest(resid)\n",
    "alpha = 1e-3\n",
    "print(\"p = {:g}\".format(p))\n",
    "p = 8.4713e-19\n",
    "if p < alpha:  # null hypothesis: x comes from a normal distribution\n",
    "    print(\"The null hypothesis can be rejected\")\n",
    "else:\n",
    "    print(\"The null hypothesis cannot be rejected\")\n"
   ],
   "outputs": [
    {
     "output_type": "stream",
     "name": "stdout",
     "text": [
      "p = 0.0674785\n",
      "The null hypothesis can be rejected\n"
     ]
    }
   ],
   "metadata": {}
  },
  {
   "cell_type": "code",
   "execution_count": 24,
   "source": [
    "# resid\n",
    "len(resid)"
   ],
   "outputs": [
    {
     "output_type": "execute_result",
     "data": {
      "text/plain": [
       "153"
      ]
     },
     "metadata": {},
     "execution_count": 24
    }
   ],
   "metadata": {}
  },
  {
   "cell_type": "code",
   "execution_count": 25,
   "source": [
    "fig = plt.figure(figsize=(12,3))\n",
    "ax = fig.add_subplot(111)\n",
    "fig = qqplot(resid, line='q', ax=ax, fit=True, markersize=2)"
   ],
   "outputs": [
    {
     "output_type": "stream",
     "name": "stderr",
     "text": [
      "/Users/johnsmith/opt/anaconda3/envs/py38/lib/python3.8/site-packages/statsmodels/graphics/gofplots.py:993: UserWarning: marker is redundantly defined by the 'marker' keyword argument and the fmt string \"bo\" (-> marker='o'). The keyword argument will take precedence.\n",
      "  ax.plot(x, y, fmt, **plot_style)\n"
     ]
    },
    {
     "output_type": "display_data",
     "data": {
      "text/plain": [
       "<Figure size 1200x300 with 1 Axes>"
      ],
      "image/png": "[encoded data removed]"
     },
     "metadata": {}
    }
   ],
   "metadata": {}
  },
  {
   "cell_type": "code",
   "execution_count": 26,
   "source": [
    "fig = plt.figure(figsize=(12,2))\n",
    "ax1 = fig.add_subplot(121)\n",
    "fig = sm.graphics.tsa.plot_acf(resid.values.squeeze(), lags=40, ax=ax1)\n",
    "ax2 = fig.add_subplot(122)\n",
    "fig = sm.graphics.tsa.plot_pacf(resid, lags=20, ax=ax2)"
   ],
   "outputs": [
    {
     "output_type": "display_data",
     "data": {
      "text/plain": [
       "<Figure size 1200x200 with 2 Axes>"
      ],
      "image/png": "[encoded data removed]"
     },
     "metadata": {}
    }
   ],
   "metadata": {}
  },
  {
   "cell_type": "code",
   "execution_count": 27,
   "source": [
    "prediction_info = model_fit.forecast(5)\n",
    "\n",
    "predictions = prediction_info[0]\n",
    "lower_bound = prediction_info[2][:,0]\n",
    "# upper_bound = prediction_info[2][:,1]"
   ],
   "outputs": [
    {
     "output_type": "error",
     "ename": "IndexError",
     "evalue": "invalid index to scalar variable.",
     "traceback": [
      "\u001b[0;31m---------------------------------------------------------------------------\u001b[0m",
      "\u001b[0;31mIndexError\u001b[0m                                Traceback (most recent call last)",
      "\u001b[0;32m<ipython-input-27-696c8f44449c>\u001b[0m in \u001b[0;36m<module>\u001b[0;34m\u001b[0m\n\u001b[1;32m      2\u001b[0m \u001b[0;34m\u001b[0m\u001b[0m\n\u001b[1;32m      3\u001b[0m \u001b[0mpredictions\u001b[0m \u001b[0;34m=\u001b[0m \u001b[0mprediction_info\u001b[0m\u001b[0;34m[\u001b[0m\u001b[0;36m0\u001b[0m\u001b[0;34m]\u001b[0m\u001b[0;34m\u001b[0m\u001b[0;34m\u001b[0m\u001b[0m\n\u001b[0;32m----> 4\u001b[0;31m \u001b[0mlower_bound\u001b[0m \u001b[0;34m=\u001b[0m \u001b[0mprediction_info\u001b[0m\u001b[0;34m[\u001b[0m\u001b[0;36m2\u001b[0m\u001b[0;34m]\u001b[0m\u001b[0;34m[\u001b[0m\u001b[0;34m:\u001b[0m\u001b[0;34m,\u001b[0m\u001b[0;36m0\u001b[0m\u001b[0;34m]\u001b[0m\u001b[0;34m\u001b[0m\u001b[0;34m\u001b[0m\u001b[0m\n\u001b[0m\u001b[1;32m      5\u001b[0m \u001b[0;31m# upper_bound = prediction_info[2][:,1]\u001b[0m\u001b[0;34m\u001b[0m\u001b[0;34m\u001b[0m\u001b[0;34m\u001b[0m\u001b[0m\n",
      "\u001b[0;31mIndexError\u001b[0m: invalid index to scalar variable."
     ]
    }
   ],
   "metadata": {}
  },
  {
   "cell_type": "code",
   "execution_count": 138,
   "source": [
    "prediction_info"
   ],
   "outputs": [
    {
     "output_type": "execute_result",
     "data": {
      "text/plain": [
       "2019-01-06 15:05:00    1.209967\n",
       "2019-01-06 15:10:00    0.829513\n",
       "2019-01-06 15:15:00    0.577446\n",
       "2019-01-06 15:20:00    0.410442\n",
       "2019-01-06 15:25:00    0.299795\n",
       "Freq: 5T, Name: predicted_mean, dtype: float64"
      ]
     },
     "metadata": {},
     "execution_count": 138
    }
   ],
   "metadata": {}
  },
  {
   "cell_type": "code",
   "execution_count": null,
   "source": [],
   "outputs": [],
   "metadata": {}
  }
 ],
 "metadata": {
  "orig_nbformat": 4,
  "language_info": {
   "name": "python"
  }
 },
 "nbformat": 4,
 "nbformat_minor": 2
}