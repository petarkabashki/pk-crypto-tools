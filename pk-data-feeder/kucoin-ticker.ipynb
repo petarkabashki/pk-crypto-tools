{
 "cells": [
  {
   "cell_type": "code",
   "execution_count": null,
   "metadata": {},
   "outputs": [],
   "source": [
    "import asyncio\n",
    "\n",
    "import zmq\n",
    "# publisher = zmq.socket('pub')\n",
    "\n",
    "from kucoin_futures.client import WsToken\n",
    "from kucoin_futures.ws_client import KucoinFuturesWsClient\n",
    "\n",
    "from dotmap import DotMap\n",
    "\n",
    "from threading import Thread"
   ]
  },
  {
   "cell_type": "code",
   "execution_count": null,
   "metadata": {},
   "outputs": [],
   "source": [
    "zContext = zmq.asyncio.Context()\n",
    "socket = zContext.socket(zmq.PUB)\n",
    "socket.bind(\"tcp://*:5556\")"
   ]
  },
  {
   "cell_type": "code",
   "execution_count": null,
   "metadata": {},
   "outputs": [],
   "source": [
    "symbols = ['XBTUSDTM', \"ALGOUSDtM\", 'ETHUSDTM', 'SOLUSDTM', 'DOTUSDTM', 'ADAUSDTM']\n",
    "async def run_ticker():\n",
    "    async def deal_msg(msg):\n",
    "        # msg = DotMap(msg)\n",
    "        data = msg['data']\n",
    "        s = f'TICKER kucoinfutures {data[\"symbol\"]} {data[\"price\"]}'\n",
    "        # print(s)\n",
    "        socket.send_string(s)\n",
    "        \n",
    "        \n",
    "    client = WsToken(key='', secret='', passphrase='', is_sandbox=False, url='')\n",
    "    ws_client = await KucoinFuturesWsClient.create(ticker_loop, client, deal_msg, private=False)\n",
    "    for symbol in symbols:\n",
    "        await ws_client.subscribe(f'/contractMarket/ticker:{symbol}')\n",
    "    # await ws_client.subscribe('/contractMarket/ticker:XBTUSDM')\n",
    "    # await ws_client.subscribe('/contractMarket/level3:XBTUSDM')\n",
    "\n",
    "\n",
    "    while True:\n",
    "        await asyncio.sleep(60)\n",
    "\n",
    "\n",
    "ticker_loop = asyncio.new_event_loop()\n",
    "\n",
    "def setup_loop(loop):\n",
    "    asyncio.set_event_loop(loop)\n",
    "    loop.run_forever()\n",
    "\n",
    "ticker_thread = Thread(target=setup_loop, args=(ticker_loop,))\n",
    "ticker_thread.start()\n",
    "ticker_future = asyncio.run_coroutine_threadsafe(run_ticker(), ticker_loop)  \n",
    "\n",
    "666"
   ]
  },
  {
   "cell_type": "code",
   "execution_count": null,
   "metadata": {},
   "outputs": [],
   "source": []
  }
 ],
 "metadata": {
  "interpreter": {
   "hash": "3a7c4e175efa44dd81f4fbacfe90b94f14c2cef036973cca7ce5c2420ad37c9d"
  },
  "kernelspec": {
   "display_name": "Python 3.8.10 64-bit ('py38': conda)",
   "name": "python3"
  },
  "language_info": {
   "codemirror_mode": {
    "name": "ipython",
    "version": 3
   },
   "file_extension": ".py",
   "mimetype": "text/x-python",
   "name": "python",
   "nbconvert_exporter": "python",
   "pygments_lexer": "ipython3",
   "version": "3.8.10"
  },
  "orig_nbformat": 4
 },
 "nbformat": 4,
 "nbformat_minor": 2
}
