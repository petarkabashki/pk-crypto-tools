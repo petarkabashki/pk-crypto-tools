{
 "cells": [
  {
   "cell_type": "code",
   "execution_count": null,
   "metadata": {},
   "outputs": [],
   "source": [
    "import sys\n",
    "import os\n",
    "import enum \n",
    "import asyncio\n",
    "###\n",
    "from datetime import datetime\n",
    "from math import floor, ceil, copysign\n",
    "import time\n",
    "from time import sleep\n",
    "###\n",
    "import json\n",
    "###\n",
    "import zmq\n",
    "zContext = zmq.asyncio.Context()\n",
    "###\n",
    "import logging\n",
    "logger = logging.getLogger()\n",
    "\n",
    "logger.setLevel(logging.DEBUG)\n",
    "###\n",
    "from pymongo import MongoClient\n",
    "from bson.objectid import ObjectId\n",
    "import uuid\n",
    "client = MongoClient()\n",
    "db=client.data_feeder\n",
    "###\n",
    "import ccxt\n",
    "\n",
    "from dotmap import DotMap\n",
    "\n",
    "price_ticker = {}\n",
    "trades = {}\n"
   ]
  },
  {
   "cell_type": "markdown",
   "metadata": {},
   "source": [
    "import zmq\n",
    "import zmq.asyncio\n",
    "zContext = zmq.asyncio.Context()"
   ]
  },
  {
   "cell_type": "code",
   "execution_count": null,
   "metadata": {},
   "outputs": [],
   "source": [
    "async def run_ticker():\n",
    "    socket = zContext.socket(zmq.SUB)\n",
    "    socket.connect(\"tcp://localhost:5556\")\n",
    "    socket.setsockopt_string(zmq.SUBSCRIBE, 'TICKER')\n",
    "\n",
    "    while True:\n",
    "        tickerString = await socket.recv_string()\n",
    "        # _, exchange, symbol, ticker = tickerString.split()\n",
    "        print(tickerString)\n",
    "        # ticker = json.loads(ticker)\n",
    "        # price_ticker[symbol] = ticker\n",
    "        # if symbol in trades:\n",
    "        #     for model in trades[symbol].values():\n",
    "        #         if model.state in ['LIVE', 'LONG']:\n",
    "        #             model.tick(ticker=ticker)\n",
    "\n",
    "from threading import Thread\n",
    "\n",
    "ticker_loop = asyncio.new_event_loop()\n",
    "\n",
    "def setup_loop(loop):\n",
    "    asyncio.set_event_loop(loop)\n",
    "    loop.run_forever()\n",
    "\n",
    "ticker_thread = Thread(target=setup_loop, args=(ticker_loop,))\n",
    "ticker_thread.start()\n",
    "ticker_future = asyncio.run_coroutine_threadsafe(run_ticker(), ticker_loop)  "
   ]
  },
  {
   "cell_type": "markdown",
   "metadata": {},
   "source": [
    "load_trades_from_tb()"
   ]
  },
  {
   "cell_type": "code",
   "execution_count": null,
   "metadata": {},
   "outputs": [],
   "source": [
    "def normalize_values(symbol, qty, trigger, stop, stop_limit, target):\n",
    "    return {'qty': exchange.amount_to_precision(symbol, qty), \n",
    "        'trigger': exchange.price_to_precision(symbol, trigger),\n",
    "        'stop': exchange.price_to_precision(symbol, stop),\n",
    "        'stop_limit': exchange.price_to_precision(symbol, stop_limit),\n",
    "        'target': exchange.price_to_precision(symbol, target)\n",
    "    }\n",
    "\n",
    "\n",
    "def calc_trade(exchange_name, capital, risk_perc, symbol, trigger, stop, target):\n",
    "    ntrigger = float(exchange.price_to_precision(symbol, trigger))\n",
    "    ntarget = float(exchange.price_to_precision(symbol, target))\n",
    "    nstop = float(exchange.price_to_precision(symbol, stop))\n",
    "    nstop_limit = float(exchange.price_to_precision(symbol, nstop * (1.0 + copysign(0.05, ntrigger-ntarget))))\n",
    "    ntarget = float(exchange.price_to_precision(symbol, target))\n",
    "    risk_size = capital * risk_perc\n",
    "    nrisk_size = float(exchange.cost_to_precision(symbol, risk_size))\n",
    "\n",
    "    qty = float(exchange.amount_to_precision(symbol, risk_size / (trigger - stop)))\n",
    "    size = qty * trigger\n",
    "    nsize = float(exchange.cost_to_precision(symbol, size))\n",
    "    proj_profit =float(exchange.cost_to_precision(symbol,(ntarget - ntrigger) * qty))\n",
    "    proj_loss =float(exchange.cost_to_precision(symbol,(ntrigger - nstop) * qty))\n",
    "    # profit_perc = round(proj_profit / ntrigger * 100, 2)\n",
    "    # loss_perc = round(proj_loss / ntrigger * 100, 2)\n",
    "    r2r = round(proj_profit / proj_loss, 2)\n",
    "    return {'exchange': exchange_name, 'symbol': symbol, 'size': size, 'risk_size': nrisk_size, 'qty': qty, 'r2r': r2r, \n",
    "        'proj_profit': proj_profit, 'proj_loss': proj_loss,\n",
    "        # 'profit_perc' : profit_perc, 'loss_perc' : loss_perc, \n",
    "        'trigger': ntrigger, 'stop': nstop, 'stop_limit': nstop_limit, 'target': ntarget}\n",
    "\n",
    "\n",
    "def create_trade(exchange_name, capital, risk_perc, symbol, trigger, stop, target):\n",
    "    exchange = exchanges[exchange_name]\n",
    "    market = exchange.market(symbol)\n",
    "    trade_values = calc_trade(exchange_name, capital, risk_perc, symbol, trigger, stop, target)\n",
    "    trade = TradeModel(exchange, db.trades)\n",
    "    trade.insert(data={\"state\": 'DISABLED', 'market': market['id'], **trade_values})\n",
    "    return trade\n",
    "\n",
    "def run_trade(exchange_name, capital, risk_perc, symbol, trigger, stop, target):\n",
    "    trade = create_trade(exchange_name, capital, risk_perc, symbol, trigger, stop, target)\n",
    "    trade.start()\n",
    "    watch(trade)\n",
    "    return trade\n"
   ]
  },
  {
   "cell_type": "code",
   "execution_count": null,
   "metadata": {},
   "outputs": [],
   "source": []
  }
 ],
 "metadata": {
  "interpreter": {
   "hash": "3a7c4e175efa44dd81f4fbacfe90b94f14c2cef036973cca7ce5c2420ad37c9d"
  },
  "kernelspec": {
   "display_name": "Python 3.8.10 64-bit ('py38': conda)",
   "name": "python3"
  },
  "language_info": {
   "codemirror_mode": {
    "name": "ipython",
    "version": 3
   },
   "file_extension": ".py",
   "mimetype": "text/x-python",
   "name": "python",
   "nbconvert_exporter": "python",
   "pygments_lexer": "ipython3",
   "version": "3.8.10"
  },
  "orig_nbformat": 4
 },
 "nbformat": 4,
 "nbformat_minor": 2
}
