{
 "cells": [
  {
   "cell_type": "code",
   "execution_count": 4,
   "metadata": {},
   "outputs": [],
   "source": [
    "import os\n",
    "import sys\n",
    "import ccxt\n",
    "import pandas as pd\n",
    "import csv\n",
    "from datetime import datetime\n",
    "import time\n",
    "# import pytz\n",
    "import json\n",
    "import numpy as np \n",
    "from pymongo import MongoClient\n",
    "from bson.objectid import ObjectId\n",
    "from pprint import pprint\n",
    "\n",
    "import schedule\n"
   ]
  },
  {
   "cell_type": "code",
   "execution_count": 33,
   "metadata": {},
   "outputs": [],
   "source": [
    "mongo_client = MongoClient()"
   ]
  },
  {
   "cell_type": "code",
   "execution_count": 62,
   "metadata": {},
   "outputs": [],
   "source": [
    "def retry_fetch_ohlcv(exchange_id, max_retries, symbol, timeframe, since, limit, params={}):\n",
    "    exchange = getattr(ccxt, exchange_id)({\n",
    "        'enableRateLimit': True,  # required by the Manual\n",
    "    })\n",
    "    num_retries = 0\n",
    "    try:\n",
    "        num_retries += 1\n",
    "        ohlcv = exchange.fetch_ohlcv(symbol, timeframe, since, limit, params=params)\n",
    "        # print('Fetched', len(ohlcv), symbol, 'candles from', exchange.iso8601 (ohlcv[0][0]), 'to', exchange.iso8601 (ohlcv[-1][0]))\n",
    "        return ohlcv\n",
    "    except Exception:\n",
    "        if num_retries > max_retries:\n",
    "            raise  # Exception('Failed to fetch', timeframe, symbol, 'OHLCV in', max_retries, 'attempts')\n",
    "\n",
    "\n",
    "def scrape_ohlcv(exchange_id, max_retries, symbol, timeframe, since, limit, params={}):\n",
    "    exchange = getattr(ccxt, exchange_id)({\n",
    "        'enableRateLimit': True,  # required by the Manual\n",
    "    })\n",
    "    timeframe_duration_in_seconds = exchange.parse_timeframe(timeframe)\n",
    "    timeframe_duration_in_ms = timeframe_duration_in_seconds * 1000\n",
    "    timedelta = limit * timeframe_duration_in_ms\n",
    "    now = exchange.milliseconds()\n",
    "    all_ohlcv = []\n",
    "    fetch_since = since\n",
    "    while fetch_since < now:\n",
    "        ohlcv = retry_fetch_ohlcv(exchange_id, max_retries, symbol, timeframe, fetch_since, limit, params=params)\n",
    "        fetch_since = (ohlcv[-1][0] + 1) if len(ohlcv) else (fetch_since + timedelta)\n",
    "        all_ohlcv = all_ohlcv + ohlcv\n",
    "        if len(all_ohlcv):\n",
    "            print(len(all_ohlcv), 'candles in total from', exchange.iso8601(all_ohlcv[0][0]), 'to', exchange.iso8601(all_ohlcv[-1][0]))\n",
    "        else:\n",
    "            print(len(all_ohlcv), 'candles in total from', exchange.iso8601(fetch_since))\n",
    "    return exchange.filter_by_since_limit(all_ohlcv, since, None, key=0)\n",
    "\n",
    "\n",
    "def scrape_candles_to_csv(filename, exchange_id, max_retries, symbol, timeframe, since, limit):\n",
    "    # instantiate the exchange by id\n",
    "    exchange = getattr(ccxt, exchange_id)({\n",
    "        'enableRateLimit': True,  # required by the Manual\n",
    "    })\n",
    "    # convert since from string to milliseconds integer if needed\n",
    "    if isinstance(since, str):\n",
    "        since = exchange.parse8601(since)\n",
    "    # preload all markets from the exchange\n",
    "    exchange.load_markets()\n",
    "    # fetch all candles\n",
    "    ohlcv = scrape_ohlcv(exchange, max_retries, symbol, timeframe, since, limit)\n",
    "    # save them to csv file\n",
    "    write_to_csv(filename, ohlcv)\n",
    "    print('Saved', len(ohlcv), 'candles from', exchange.iso8601(ohlcv[0][0]), 'to', exchange.iso8601(ohlcv[-1][0]), 'to', filename)\n",
    "\n",
    "\n",
    "def scrape_candles_to_db(exchange_id, symbol, timeframe, since, max_retries=3, limit=100):\n",
    "    # instantiate the exchange by id\n",
    "    exchange = getattr(ccxt, exchange_id)({\n",
    "        'enableRateLimit': True,  # required by the Manual\n",
    "    })\n",
    "    # convert since from string to milliseconds integer if needed\n",
    "    if isinstance(since, str):\n",
    "        since = exchange.parse8601(since)\n",
    "    # preload all markets from the exchange\n",
    "    exchange.load_markets()\n",
    "    # fetch all candles\n",
    "    ohlcv = scrape_ohlcv(exchange_id, max_retries, symbol, timeframe, since, limit)\n",
    "    # ohlcv = ohlcv[0:-1]\n",
    "    if len(ohlcv) > 0:\n",
    "        df = pd.DataFrame(ohlcv)\n",
    "        df.columns = ['timestamp', 'open', 'high', 'low', 'close', 'volume']\n",
    "        df['date'] = pd.to_datetime(df['timestamp'], unit='ms', utc=False)\n",
    "        df = df[['timestamp', 'date', 'open', 'high', 'low', 'close', 'volume']]\n",
    "\n",
    "        db = mongo_client[exchange_id]\n",
    "        collection = db[f'{symbol}-{timeframe}']\n",
    "        collection.delete_many({'timestamp': {'$gte': since}})\n",
    "        collection.insert_many(df.to_dict(\"records\"))\n",
    "\n",
    "    print('Saved to DB', len(ohlcv), 'candles from', exchange.iso8601(ohlcv[0][0]), 'to', exchange.iso8601(ohlcv[-1][0]))\n"
   ]
  },
  {
   "cell_type": "code",
   "execution_count": 3,
   "metadata": {},
   "outputs": [
    {
     "name": "stdout",
     "output_type": "stream",
     "text": [
      "I'm working...\n",
      "I'm working...\n"
     ]
    },
    {
     "ename": "KeyboardInterrupt",
     "evalue": "",
     "output_type": "error",
     "traceback": [
      "\u001b[0;31m---------------------------------------------------------------------------\u001b[0m",
      "\u001b[0;31mKeyboardInterrupt\u001b[0m                         Traceback (most recent call last)",
      "\u001b[0;32m<ipython-input-3-616ab7ab640e>\u001b[0m in \u001b[0;36m<module>\u001b[0;34m\u001b[0m\n\u001b[1;32m     13\u001b[0m \u001b[0;32mwhile\u001b[0m \u001b[0;32mTrue\u001b[0m\u001b[0;34m:\u001b[0m\u001b[0;34m\u001b[0m\u001b[0;34m\u001b[0m\u001b[0m\n\u001b[1;32m     14\u001b[0m     \u001b[0mschedule\u001b[0m\u001b[0;34m.\u001b[0m\u001b[0mrun_pending\u001b[0m\u001b[0;34m(\u001b[0m\u001b[0;34m)\u001b[0m\u001b[0;34m\u001b[0m\u001b[0;34m\u001b[0m\u001b[0m\n\u001b[0;32m---> 15\u001b[0;31m     \u001b[0mtime\u001b[0m\u001b[0;34m.\u001b[0m\u001b[0msleep\u001b[0m\u001b[0;34m(\u001b[0m\u001b[0;36m1\u001b[0m\u001b[0;34m)\u001b[0m\u001b[0;34m\u001b[0m\u001b[0;34m\u001b[0m\u001b[0m\n\u001b[0m",
      "\u001b[0;31mKeyboardInterrupt\u001b[0m: "
     ]
    }
   ],
   "source": [
    "\n",
    "def job():\n",
    "    print(\"I'm working...\")\n",
    "\n",
    "schedule.every(3).seconds.do(job)\n",
    "# schedule.every(10).minutes.do(job)\n",
    "# schedule.every().hour.do(job)\n",
    "# schedule.every().day.at(\"10:30\").do(job)\n",
    "# schedule.every(5).to(10).minutes.do(job)\n",
    "# schedule.every().monday.do(job)\n",
    "# schedule.every().wednesday.at(\"13:15\").do(job)\n",
    "# schedule.every().minute.at(\":17\").do(job)\n",
    "\n",
    "while True:\n",
    "    schedule.run_pending()\n",
    "    time.sleep(1)"
   ]
  },
  {
   "cell_type": "code",
   "execution_count": 90,
   "metadata": {},
   "outputs": [],
   "source": [
    "tframe2msec = {\n",
    "  '1m': 1000 * 60 * 1,\n",
    "  '5m': 1000 * 60 * 5,\n",
    "  '15m': 1000 * 60 * 15,\n",
    "  '30m': 1000 * 60 * 30,\n",
    "  '1h': 1000 * 60 * 60,\n",
    "  '8h': 1000 * 60 * 60 * 8,\n",
    "  '1d': 1000 * 60 * 60 * 24,\n",
    "}\n",
    "\n",
    "def get_now_btimestamp(timeframe):\n",
    "  delta = tframe2msec[timeframe]\n",
    "  now_stamp = int(datetime.now().timestamp() * 1000)\n",
    "  now_bstamp = divmod(now_stamp, delta)[0] * delta\n",
    "  return now_bstamp\n",
    "\n",
    "\n",
    "def get_latest_to_db(exchange_id, symbol, timeframe):\n",
    "  db = mongo_client[exchange_id]\n",
    "  collection_name = f'{symbol}-{timeframe}'\n",
    "\n",
    "  now_bstamp = get_now_btimestamp(timeframe) \n",
    "  collection = db[collection_name]\n",
    "  res = list(collection.find({'timestamp': {'$lt' : now_bstamp}}).sort([('timestamp', -1)]))\n",
    "  since = now_bstamp\n",
    "  if (len(res) == 0):\n",
    "    since = now_bstamp - 5 * delta\n",
    "  elif (now_bstamp - delta > res[0]['timestamp']):\n",
    "    since = res[0]['timestamp']\n",
    "\n",
    "  if (since < now_bstamp):\n",
    "    print('Scraping to db:', exchange_id, symbol, timeframe)\n",
    "    scrape_candles_to_db(exchange_id, symbol, timeframe, since)\n"
   ]
  },
  {
   "cell_type": "code",
   "execution_count": 92,
   "metadata": {},
   "outputs": [
    {
     "name": "stdout",
     "output_type": "stream",
     "text": [
      "Scraping to db: kucoinfutures ADAUSDTM 5m\n",
      "2 candles in total from 2022-02-02T23:50:00.000Z to 2022-02-02T23:55:00.000Z\n",
      "2 candles in total from 2022-02-02T23:50:00.000Z to 2022-02-02T23:55:00.000Z\n",
      "Saved to DB 2 candles from 2022-02-02T23:50:00.000Z to 2022-02-02T23:55:00.000Z\n"
     ]
    }
   ],
   "source": [
    "\n",
    "exchange_id = 'kucoinfutures'\n",
    "symbol = 'ADAUSDTM'\n",
    "timeframe = '5m'\n",
    "\n",
    "get_latest_to_db(exchange_id, symbol, timeframe)"
   ]
  },
  {
   "cell_type": "code",
   "execution_count": 50,
   "metadata": {},
   "outputs": [
    {
     "data": {
      "text/plain": [
       "1"
      ]
     },
     "execution_count": 50,
     "metadata": {},
     "output_type": "execute_result"
    }
   ],
   "source": []
  },
  {
   "cell_type": "code",
   "execution_count": 60,
   "metadata": {},
   "outputs": [
    {
     "data": {
      "text/plain": [
       "[1, 2, 3]"
      ]
     },
     "execution_count": 60,
     "metadata": {},
     "output_type": "execute_result"
    }
   ],
   "source": [
    "[1,2,3,4][0:-1]"
   ]
  },
  {
   "cell_type": "code",
   "execution_count": null,
   "metadata": {},
   "outputs": [],
   "source": []
  }
 ],
 "metadata": {
  "interpreter": {
   "hash": "3a7c4e175efa44dd81f4fbacfe90b94f14c2cef036973cca7ce5c2420ad37c9d"
  },
  "kernelspec": {
   "display_name": "Python 3.8.10 64-bit ('py38': conda)",
   "name": "python3"
  },
  "language_info": {
   "codemirror_mode": {
    "name": "ipython",
    "version": 3
   },
   "file_extension": ".py",
   "mimetype": "text/x-python",
   "name": "python",
   "nbconvert_exporter": "python",
   "pygments_lexer": "ipython3",
   "version": "3.8.10"
  },
  "orig_nbformat": 4
 },
 "nbformat": 4,
 "nbformat_minor": 2
}
