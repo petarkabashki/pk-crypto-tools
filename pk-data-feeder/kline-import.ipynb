{
 "cells": [
  {
   "cell_type": "code",
   "execution_count": null,
   "metadata": {},
   "outputs": [],
   "source": [
    "import os\n",
    "import ccxt\n",
    "import pandas as pd\n",
    "import csv\n",
    "from datetime import datetime\n",
    "import time\n",
    "# import pytz\n",
    "import json\n",
    "# import odo \n",
    "\n",
    "print('python', sys.version)\n",
    "print('CCXT Version:', ccxt.__version__)"
   ]
  },
  {
   "cell_type": "code",
   "execution_count": null,
   "metadata": {},
   "outputs": [],
   "source": [
    "from pymongo import MongoClient\n",
    "from bson.objectid import ObjectId\n",
    "from pprint import pprint\n",
    "\n",
    "client = MongoClient()\n",
    "db=client.data_feeder\n"
   ]
  },
  {
   "cell_type": "code",
   "execution_count": null,
   "metadata": {},
   "outputs": [],
   "source": [
    "exchanges = {}\n",
    "config = False\n",
    "with open ('config.json') as js: \n",
    "        config = json.load(js)\n",
    "\n",
    "for exkey, exconf in config['exchanges'].items():\n",
    "        if exconf['enabled'] and not exkey in exchanges:\n",
    "                excred = exconf['cred']\n",
    "                for crk, crv in excred.items():\n",
    "                        if crv[0] == \"$\" : \n",
    "                                excred[crk] = os.getenv(crv[1:])\n",
    "\n",
    "                exchanges[exkey] = getattr(ccxt, exkey) (excred)"
   ]
  },
  {
   "cell_type": "code",
   "execution_count": null,
   "metadata": {},
   "outputs": [],
   "source": [
    "# exchanges\n",
    "exchange_id = 'kucoinfutures'\n",
    "exchange = exchanges[exchange_id]\n",
    "exchange"
   ]
  },
  {
   "cell_type": "code",
   "execution_count": null,
   "metadata": {},
   "outputs": [],
   "source": [
    "def retry_fetch_ohlcv(exchange, max_retries, symbol, timeframe, since, limit):\n",
    "    num_retries = 0\n",
    "    try:\n",
    "        num_retries += 1\n",
    "        ohlcv = exchange.fetch_ohlcv(symbol, timeframe, since, limit)\n",
    "        # print('Fetched', len(ohlcv), symbol, 'candles from', exchange.iso8601 (ohlcv[0][0]), 'to', exchange.iso8601 (ohlcv[-1][0]))\n",
    "        return ohlcv\n",
    "    except Exception:\n",
    "        if num_retries > max_retries:\n",
    "            raise  # Exception('Failed to fetch', timeframe, symbol, 'OHLCV in', max_retries, 'attempts')\n",
    "\n",
    "\n",
    "def scrape_ohlcv(exchange, max_retries, symbol, timeframe, since, limit):\n",
    "    timeframe_duration_in_seconds = exchange.parse_timeframe(timeframe)\n",
    "    timeframe_duration_in_ms = timeframe_duration_in_seconds * 1000\n",
    "    timedelta = limit * timeframe_duration_in_ms\n",
    "    now = exchange.milliseconds()\n",
    "    all_ohlcv = []\n",
    "    fetch_since = since\n",
    "    while fetch_since < now:\n",
    "        ohlcv = retry_fetch_ohlcv(exchange, max_retries, symbol, timeframe, fetch_since, limit)\n",
    "        fetch_since = (ohlcv[-1][0] + 1) if len(ohlcv) else (fetch_since + timedelta)\n",
    "        all_ohlcv = all_ohlcv + ohlcv\n",
    "        if len(all_ohlcv):\n",
    "            print(len(all_ohlcv), 'candles in total from', exchange.iso8601(all_ohlcv[0][0]), 'to', exchange.iso8601(all_ohlcv[-1][0]))\n",
    "        else:\n",
    "            print(len(all_ohlcv), 'candles in total from', exchange.iso8601(fetch_since))\n",
    "    return exchange.filter_by_since_limit(all_ohlcv, since, None, key=0)\n",
    "\n",
    "\n",
    "def write_to_csv(filename, data):\n",
    "    with open(filename, mode='w') as output_file:\n",
    "        csv_writer = csv.writer(output_file, delimiter=',', quotechar='\"', quoting=csv.QUOTE_MINIMAL)\n",
    "        csv_writer.writerows(data)\n",
    "\n",
    "\n",
    "def scrape_candles_to_csv(filename, exchange_id, max_retries, symbol, timeframe, since, limit):\n",
    "    # instantiate the exchange by id\n",
    "    exchange = getattr(ccxt, exchange_id)({\n",
    "        'enableRateLimit': True,  # required by the Manual\n",
    "    })\n",
    "    # convert since from string to milliseconds integer if needed\n",
    "    if isinstance(since, str):\n",
    "        since = exchange.parse8601(since)\n",
    "    # preload all markets from the exchange\n",
    "    exchange.load_markets()\n",
    "    # fetch all candles\n",
    "    ohlcv = scrape_ohlcv(exchange, max_retries, symbol, timeframe, since, limit)\n",
    "    # save them to csv file\n",
    "    write_to_csv(filename, ohlcv)\n",
    "    print('Saved', len(ohlcv), 'candles from', exchange.iso8601(ohlcv[0][0]), 'to', exchange.iso8601(ohlcv[-1][0]), 'to', filename)\n",
    "\n",
    "\n",
    "# -----------------------------------------------------------------------------\n",
    "# Binance's BTC/USDT candles start on 2017-08-17\n",
    "# scrape_candles_to_csv('kucionfutures.csv', 'kucoinfutures', 3, 'XBTUSDTM', '1d', '2021-01-01T00:00:00Z', 100)"
   ]
  },
  {
   "cell_type": "code",
   "execution_count": null,
   "metadata": {},
   "outputs": [],
   "source": [
    "data_dir = f'./data/{exchange_id}'\n",
    "if not os.path.exists(data_dir): os.makedirs(data_dir) "
   ]
  },
  {
   "cell_type": "code",
   "execution_count": null,
   "metadata": {},
   "outputs": [],
   "source": [
    "symbol = 'ALGOUSDTM'\n",
    "timeframe = '1d'\n",
    "since = '2020-01-01T00:00:00Z'\n",
    "limit = 500\n",
    "max_retries = 3\n",
    "if isinstance(since, str): since = exchange.parse8601(since)\n",
    "\n",
    "csv_fname = f'{data_dir}/{symbol}-{timeframe}.csv'\n",
    "\n",
    "# ohlcv = scrape_ohlcv(exchange, max_retries, symbol, timeframe, since, limit)\n",
    "# write_to_csv(csv_fname, ohlcv)\n",
    "\n",
    "scrape_candles_to_csv(csv_fname, exchange_id, max_retries, symbol, timeframe, since, limit)\n",
    "\n",
    "# ohlcv\n",
    "# klines_json = exchange.fetch_ohlcv (symbol, timeframe,params={'startAt': since_date.timestamp() * 1000,'endAt': to_date.timestamp() * 1000, 'maxCount': 1000000})\n",
    "# df = pd.DataFrame(klines_json)\n",
    "# df.columns = ['timestamp', 'open', 'high', 'low', 'close', 'volume']\n",
    "# df['date'] = pd.to_datetime(df['timestamp'], unit='ms', utc=False)\n",
    "# df.set_index(pd.DatetimeIndex(df[\"date\"]), inplace=True, drop=True)\n",
    "# df"
   ]
  },
  {
   "cell_type": "code",
   "execution_count": null,
   "metadata": {},
   "outputs": [],
   "source": []
  },
  {
   "cell_type": "code",
   "execution_count": null,
   "metadata": {},
   "outputs": [],
   "source": [
    "# symbol = 'ALGOUSDTM'\n",
    "# timeframe = '15m'\n",
    "\n",
    "symbols = ['ALGOUSDTM']\n",
    "timeframes = ['5m', '15m', '1h', '8h', '1d']\n",
    "\n",
    "for symbol in symbols:\n",
    "  for timeframe in timeframes:\n",
    "    # print(timeframe, symbol)\n",
    "\n",
    "    csv_fname = f'{data_dir}/{symbol}-{timeframe}.csv'\n",
    "    # df = pd.DataFrame(ohlcv)\n",
    "    df = pd.read_csv(csv_fname)\n",
    "\n",
    "    df.columns = ['timestamp', 'open', 'high', 'low', 'close', 'volume']\n",
    "    df['date'] = pd.to_datetime(df['timestamp'], unit='ms', utc=False)\n",
    "    # df.set_index(df[\"timestamp\"], inplace=True, drop=True)\n",
    "    # df.drop(columns=['timestamp'], inplace=True)\n",
    "    df['exchange_id'] = exchange_id\n",
    "    df['symbol'] = symbol\n",
    "    df['timeframe'] = timeframe\n",
    "\n",
    "    df = df[['timestamp', 'date', 'exchange_id', 'symbol', 'timeframe', 'open', 'high', 'low', 'close', 'volume']]\n",
    "    db.klines.insert_many(df.to_dict(\"records\"))\n",
    "\n",
    "# # df.reset_index(inplace=True)\n",
    "# df"
   ]
  },
  {
   "cell_type": "code",
   "execution_count": null,
   "metadata": {},
   "outputs": [],
   "source": [
    "exchange"
   ]
  },
  {
   "cell_type": "code",
   "execution_count": null,
   "metadata": {},
   "outputs": [],
   "source": [
    "\n",
    "since = '2020-01-01T00:00:00Z'\n",
    "if isinstance(since, str): since = exchange.parse8601(since)\n",
    "since\n"
   ]
  },
  {
   "cell_type": "code",
   "execution_count": null,
   "metadata": {},
   "outputs": [],
   "source": []
  }
 ],
 "metadata": {
  "interpreter": {
   "hash": "3a7c4e175efa44dd81f4fbacfe90b94f14c2cef036973cca7ce5c2420ad37c9d"
  },
  "kernelspec": {
   "display_name": "Python 3.8.10 64-bit ('py38': conda)",
   "name": "python3"
  },
  "language_info": {
   "codemirror_mode": {
    "name": "ipython",
    "version": 3
   },
   "file_extension": ".py",
   "mimetype": "text/x-python",
   "name": "python",
   "nbconvert_exporter": "python",
   "pygments_lexer": "ipython3",
   "version": "3.8.10"
  },
  "orig_nbformat": 4
 },
 "nbformat": 4,
 "nbformat_minor": 2
}
