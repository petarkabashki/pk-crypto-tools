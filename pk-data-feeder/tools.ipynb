{
 "cells": [
  {
   "cell_type": "code",
   "execution_count": null,
   "metadata": {},
   "outputs": [],
   "source": [
    "import os\n",
    "import sys\n",
    "import ccxt\n",
    "import pandas as pd\n",
    "import csv\n",
    "from datetime import datetime\n",
    "import time\n",
    "# import pytz\n",
    "import json\n",
    "import numpy as np \n",
    "from pymongo import MongoClient\n",
    "from bson.objectid import ObjectId\n",
    "from pprint import pprint\n",
    "\n",
    "\n",
    "\n",
    "print('python', sys.version)\n",
    "print('CCXT Version:', ccxt.__version__)"
   ]
  },
  {
   "cell_type": "code",
   "execution_count": null,
   "metadata": {},
   "outputs": [],
   "source": [
    "mongo_client = MongoClient()\n",
    "\n",
    "exchanges = {}\n",
    "config = False\n",
    "with open ('config.json') as js: \n",
    "        config = json.load(js)\n",
    "\n",
    "for exkey, exconf in config['exchanges'].items():\n",
    "        if exconf['enabled'] and not exkey in exchanges:\n",
    "                excred = exconf['cred']\n",
    "                for crk, crv in excred.items():\n",
    "                        if crv[0] == \"$\" : \n",
    "                                excred[crk] = os.getenv(crv[1:])\n",
    "\n",
    "                exchanges[exkey] = getattr(ccxt, exkey) (excred)"
   ]
  },
  {
   "cell_type": "code",
   "execution_count": null,
   "metadata": {},
   "outputs": [],
   "source": [
    "exchange_id = 'kucoinfutures'\n",
    "symbol = 'XBTUSDTM'\n",
    "timeframe = '4h'\n",
    "coll_name = f'{symbol}-{timeframe}'\n",
    "collection = mongo_client[exchange_id][coll_name]\n",
    "df = pd.DataFrame(collection.find())\n",
    "df.set_index(df[\"timestamp\"], inplace=True, drop=True)\n",
    "df.drop(columns=['_id', 'timestamp', 'date'], inplace=True)\n",
    "df"
   ]
  },
  {
   "cell_type": "code",
   "execution_count": null,
   "metadata": {},
   "outputs": [],
   "source": [
    "data_dir = f'./data/{exchange_id}'\n",
    "if not os.path.exists(data_dir): os.makedirs(data_dir) \n",
    "\n",
    "csv_fname = f'{data_dir}/{symbol}-{timeframe}.csv'\n",
    "\n",
    "df.to_csv(csv_fname,header=False)\n",
    "# df.to_records()"
   ]
  },
  {
   "cell_type": "code",
   "execution_count": null,
   "metadata": {},
   "outputs": [],
   "source": [
    "# export klines from MongoDB to csv files\n",
    "for exchange_id in ['kucoinfutures']:\n",
    "  for coll_name in mongo_client[exchange_id].list_collection_names():\n",
    "    symbol,timeframe = coll_name.split('-')\n",
    "    print(f'Exporting {coll_name}...')\n",
    "    collection = mongo_client[exchange_id][coll_name]\n",
    "    df = pd.DataFrame(collection.find())\n",
    "    df.set_index(df[\"timestamp\"], inplace=True, drop=True)\n",
    "    df.drop(columns=['_id', 'timestamp', 'date'], inplace=True)\n",
    "    data_dir = f'./data/{exchange_id}'\n",
    "    if not os.path.exists(data_dir): os.makedirs(data_dir)\n",
    "    csv_fname = f'{data_dir}/{symbol}-{timeframe}.csv'\n",
    "    df.to_csv(csv_fname,header=False)\n"
   ]
  },
  {
   "cell_type": "code",
   "execution_count": null,
   "metadata": {},
   "outputs": [],
   "source": []
  }
 ],
 "metadata": {
  "interpreter": {
   "hash": "3a7c4e175efa44dd81f4fbacfe90b94f14c2cef036973cca7ce5c2420ad37c9d"
  },
  "kernelspec": {
   "display_name": "Python 3.8.10 64-bit ('py38': conda)",
   "name": "python3"
  },
  "language_info": {
   "codemirror_mode": {
    "name": "ipython",
    "version": 3
   },
   "file_extension": ".py",
   "mimetype": "text/x-python",
   "name": "python",
   "nbconvert_exporter": "python",
   "pygments_lexer": "ipython3",
   "version": "3.8.10"
  },
  "orig_nbformat": 4
 },
 "nbformat": 4,
 "nbformat_minor": 2
}
