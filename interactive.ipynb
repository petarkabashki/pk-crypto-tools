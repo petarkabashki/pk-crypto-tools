{
 "cells": [
  {
   "cell_type": "code",
   "execution_count": 30,
   "id": "182cb5ac-cfff-4dca-bc8e-2b6577e596a2",
   "metadata": {},
   "outputs": [],
   "source": [
    "from __future__ import print_function\n",
    "from ipywidgets import interact, interactive, fixed, interact_manual\n",
    "# import ipywidgets as widgets\n",
    "from ipywidgets import *\n",
    "from IPython.display import display\n",
    "import IPython\n",
    "import pandas as pd\n",
    "import matplotlib.pyplot as plt\n",
    "import matplotlib.dates as mdates\n",
    "import numpy as np\n",
    "\n",
    "from datetime import datetime\n",
    "import talib\n",
    "import pandas_ta as ta\n",
    "from talib.abstract import *\n",
    "from math import *\n",
    "%matplotlib inline"
   ]
  },
  {
   "cell_type": "code",
   "execution_count": 28,
   "id": "c87d745a-e5fd-471f-8a68-c380bbca4b46",
   "metadata": {},
   "outputs": [],
   "source": [
    "df = pd.read_json(r'./user_data/data/binance/BTC_USDT-1m.json')\n",
    "df.columns = ['timestamp', 'open', 'high', 'low', 'close', 'volume']\n",
    "\n",
    "df['time'] = pd.to_datetime(df['timestamp'], unit='ms', utc=False)\n",
    "# df.index = df['time']\n",
    "# df.set_index('time', drop=True, inplace=True)\n",
    "df.set_index(pd.DatetimeIndex(df[\"time\"]), inplace=True, drop=True)\n",
    "# df = df[['time', 'symbol', 'source', 'resolution', 'open', 'high', 'low', 'close', 'volume']]\n",
    "# df.to_csv (r'./data/binance/BTC_USDT-5m.csv', index = None)\n",
    "# df.set_index('time')\n"
   ]
  },
  {
   "cell_type": "code",
   "execution_count": 44,
   "id": "34267cc3-02ae-47d5-9a3a-49c1cb94249d",
   "metadata": {},
   "outputs": [],
   "source": [
    "# pd.Timestamp('now').floor('D') + pd.Timedelta(-7, unit='D')\n",
    "\n",
    "# start_time = pd.Timestamp('now').floor('D') + pd.Timedelta(-7, unit='D')\n",
    "\n",
    "start_time = pd.Timestamp('now') + pd.Timedelta(-1, unit='W')\n",
    "# start_time\n",
    "ddf = df.loc[df.index >= start_time].copy()\n",
    "# ddf = df.loc[df['time'] >= start_time]\n",
    "# ddf\n",
    "dlen = len(ddf.index)"
   ]
  },
  {
   "cell_type": "code",
   "execution_count": 46,
   "id": "e7246631-53a5-41d7-ae78-69b5e325f9ea",
   "metadata": {},
   "outputs": [],
   "source": []
  },
  {
   "cell_type": "code",
   "execution_count": 48,
   "id": "225a980e-71c7-4e2f-8822-d04257f8c937",
   "metadata": {},
   "outputs": [
    {
     "data": {
      "text/plain": [
       "time\n",
       "2021-06-08 02:00:00             NaN\n",
       "2021-06-08 02:01:00             NaN\n",
       "2021-06-08 02:02:00             NaN\n",
       "2021-06-08 02:03:00             NaN\n",
       "2021-06-08 02:04:00             NaN\n",
       "                           ...     \n",
       "2021-06-12 02:32:00    35862.250738\n",
       "2021-06-12 02:33:00    35861.007538\n",
       "2021-06-12 02:34:00    35859.326055\n",
       "2021-06-12 02:35:00    35858.777765\n",
       "2021-06-12 02:36:00    35857.056935\n",
       "Name: kama1, Length: 5797, dtype: float64"
      ]
     },
     "execution_count": 48,
     "metadata": {},
     "output_type": "execute_result"
    }
   ],
   "source": [
    "# ddf['abc'] = 1\n",
    "# ddf.columns\n",
    "ddf['kama1']"
   ]
  },
  {
   "cell_type": "code",
   "execution_count": 25,
   "id": "6cf21683-770b-41c5-ab7b-60d066c1c897",
   "metadata": {},
   "outputs": [
    {
     "ename": "TypeError",
     "evalue": "'(slice(None, None, None), 'close')' is an invalid key",
     "output_type": "error",
     "traceback": [
      "\u001b[0;31m---------------------------------------------------------------------------\u001b[0m",
      "\u001b[0;31mTypeError\u001b[0m                                 Traceback (most recent call last)",
      "\u001b[0;32m<ipython-input-25-d6227bd538e3>\u001b[0m in \u001b[0;36m<module>\u001b[0;34m\u001b[0m\n\u001b[0;32m----> 1\u001b[0;31m \u001b[0mkama1\u001b[0m \u001b[0;34m=\u001b[0m \u001b[0mta\u001b[0m\u001b[0;34m.\u001b[0m\u001b[0mSMA\u001b[0m\u001b[0;34m(\u001b[0m\u001b[0mddf\u001b[0m\u001b[0;34m[\u001b[0m\u001b[0;34m:\u001b[0m\u001b[0;34m,\u001b[0m \u001b[0;34m'close'\u001b[0m\u001b[0;34m]\u001b[0m\u001b[0;34m,\u001b[0m \u001b[0mtimeperiod\u001b[0m\u001b[0;34m=\u001b[0m\u001b[0;36m25\u001b[0m\u001b[0;34m)\u001b[0m\u001b[0;34m\u001b[0m\u001b[0;34m\u001b[0m\u001b[0m\n\u001b[0m",
      "\u001b[0;32m~/opt/anaconda3/envs/py38/lib/python3.8/site-packages/pandas/core/frame.py\u001b[0m in \u001b[0;36m__getitem__\u001b[0;34m(self, key)\u001b[0m\n\u001b[1;32m   3022\u001b[0m             \u001b[0;32mif\u001b[0m \u001b[0mself\u001b[0m\u001b[0;34m.\u001b[0m\u001b[0mcolumns\u001b[0m\u001b[0;34m.\u001b[0m\u001b[0mnlevels\u001b[0m \u001b[0;34m>\u001b[0m \u001b[0;36m1\u001b[0m\u001b[0;34m:\u001b[0m\u001b[0;34m\u001b[0m\u001b[0;34m\u001b[0m\u001b[0m\n\u001b[1;32m   3023\u001b[0m                 \u001b[0;32mreturn\u001b[0m \u001b[0mself\u001b[0m\u001b[0;34m.\u001b[0m\u001b[0m_getitem_multilevel\u001b[0m\u001b[0;34m(\u001b[0m\u001b[0mkey\u001b[0m\u001b[0;34m)\u001b[0m\u001b[0;34m\u001b[0m\u001b[0;34m\u001b[0m\u001b[0m\n\u001b[0;32m-> 3024\u001b[0;31m             \u001b[0mindexer\u001b[0m \u001b[0;34m=\u001b[0m \u001b[0mself\u001b[0m\u001b[0;34m.\u001b[0m\u001b[0mcolumns\u001b[0m\u001b[0;34m.\u001b[0m\u001b[0mget_loc\u001b[0m\u001b[0;34m(\u001b[0m\u001b[0mkey\u001b[0m\u001b[0;34m)\u001b[0m\u001b[0;34m\u001b[0m\u001b[0;34m\u001b[0m\u001b[0m\n\u001b[0m\u001b[1;32m   3025\u001b[0m             \u001b[0;32mif\u001b[0m \u001b[0mis_integer\u001b[0m\u001b[0;34m(\u001b[0m\u001b[0mindexer\u001b[0m\u001b[0;34m)\u001b[0m\u001b[0;34m:\u001b[0m\u001b[0;34m\u001b[0m\u001b[0;34m\u001b[0m\u001b[0m\n\u001b[1;32m   3026\u001b[0m                 \u001b[0mindexer\u001b[0m \u001b[0;34m=\u001b[0m \u001b[0;34m[\u001b[0m\u001b[0mindexer\u001b[0m\u001b[0;34m]\u001b[0m\u001b[0;34m\u001b[0m\u001b[0;34m\u001b[0m\u001b[0m\n",
      "\u001b[0;32m~/opt/anaconda3/envs/py38/lib/python3.8/site-packages/pandas/core/indexes/base.py\u001b[0m in \u001b[0;36mget_loc\u001b[0;34m(self, key, method, tolerance)\u001b[0m\n\u001b[1;32m   3078\u001b[0m             \u001b[0mcasted_key\u001b[0m \u001b[0;34m=\u001b[0m \u001b[0mself\u001b[0m\u001b[0;34m.\u001b[0m\u001b[0m_maybe_cast_indexer\u001b[0m\u001b[0;34m(\u001b[0m\u001b[0mkey\u001b[0m\u001b[0;34m)\u001b[0m\u001b[0;34m\u001b[0m\u001b[0;34m\u001b[0m\u001b[0m\n\u001b[1;32m   3079\u001b[0m             \u001b[0;32mtry\u001b[0m\u001b[0;34m:\u001b[0m\u001b[0;34m\u001b[0m\u001b[0;34m\u001b[0m\u001b[0m\n\u001b[0;32m-> 3080\u001b[0;31m                 \u001b[0;32mreturn\u001b[0m \u001b[0mself\u001b[0m\u001b[0;34m.\u001b[0m\u001b[0m_engine\u001b[0m\u001b[0;34m.\u001b[0m\u001b[0mget_loc\u001b[0m\u001b[0;34m(\u001b[0m\u001b[0mcasted_key\u001b[0m\u001b[0;34m)\u001b[0m\u001b[0;34m\u001b[0m\u001b[0;34m\u001b[0m\u001b[0m\n\u001b[0m\u001b[1;32m   3081\u001b[0m             \u001b[0;32mexcept\u001b[0m \u001b[0mKeyError\u001b[0m \u001b[0;32mas\u001b[0m \u001b[0merr\u001b[0m\u001b[0;34m:\u001b[0m\u001b[0;34m\u001b[0m\u001b[0;34m\u001b[0m\u001b[0m\n\u001b[1;32m   3082\u001b[0m                 \u001b[0;32mraise\u001b[0m \u001b[0mKeyError\u001b[0m\u001b[0;34m(\u001b[0m\u001b[0mkey\u001b[0m\u001b[0;34m)\u001b[0m \u001b[0;32mfrom\u001b[0m \u001b[0merr\u001b[0m\u001b[0;34m\u001b[0m\u001b[0;34m\u001b[0m\u001b[0m\n",
      "\u001b[0;32mpandas/_libs/index.pyx\u001b[0m in \u001b[0;36mpandas._libs.index.IndexEngine.get_loc\u001b[0;34m()\u001b[0m\n",
      "\u001b[0;32mpandas/_libs/index.pyx\u001b[0m in \u001b[0;36mpandas._libs.index.IndexEngine.get_loc\u001b[0;34m()\u001b[0m\n",
      "\u001b[0;31mTypeError\u001b[0m: '(slice(None, None, None), 'close')' is an invalid key"
     ]
    }
   ],
   "source": [
    "kama1 = ta.SMA(ddf[:, 'close'], timeperiod=25)"
   ]
  },
  {
   "cell_type": "code",
   "execution_count": 56,
   "id": "4c9f35a2-10c1-40bd-bc75-c8be6a92247e",
   "metadata": {},
   "outputs": [],
   "source": [
    "# ta.kama(close=ddf['close'], length=20, fast=4, slow=50, append=False)\n",
    "k1 = ta.kama(close=ddf['close'], append=False)\n",
    "figure()\n"
   ]
  },
  {
   "cell_type": "code",
   "execution_count": 68,
   "id": "6e20e868-17c5-473b-964e-73bc08724344",
   "metadata": {},
   "outputs": [
    {
     "data": {
      "application/vnd.jupyter.widget-view+json": {
       "model_id": "20ae70f791564e1aa758de3125dec836",
       "version_major": 2,
       "version_minor": 0
      },
      "text/plain": [
       "VBox(children=(HBox(children=(IntSlider(value=10, description='k1n', step=5), FloatSlider(value=2.0, descripti…"
      ]
     },
     "metadata": {},
     "output_type": "display_data"
    },
    {
     "data": {
      "application/vnd.jupyter.widget-view+json": {
       "model_id": "5568dd7d924f46d6b9cc802f56595c19",
       "version_major": 2,
       "version_minor": 0
      },
      "text/plain": [
       "Output()"
      ]
     },
     "metadata": {},
     "output_type": "display_data"
    }
   ],
   "source": [
    "sl_n2= IntSlider(description=\"n2\", min=0, max=floor(log(dlen, 2.0)), step=1, value=9)\n",
    "sl_w = IntSlider(description=\"w\", min=0, max=floor(dlen/pow(2,9)), step=1, value=0)\n",
    "def update_sl_w_range(*args):\n",
    "    wsize = pow(2,sl_n2.value)\n",
    "    sl_w.max = floor(dlen/wsize) -1\n",
    "sl_n2.observe(update_sl_w_range, 'value')\n",
    "\n",
    "\n",
    "slCoolOff = IntSlider(description=\"cool\", min=0, step=5, max=600, value=30)\n",
    "slDowntrendWait = IntSlider(description=\"dnt\", min=0, max=100, value=30)\n",
    "\n",
    "slStopLoss = FloatSlider(description=\"sl\", min=0, step=0.05, max=10,value=2)\n",
    "slTarget = FloatSlider(description=\"tgt\", min=0, step=0.2, max=10, value=2)\n",
    "\n",
    "slKama1N = IntSlider(description=\"k1n\", min=0, step=5, max=100, value=10)\n",
    "slKama1Fast = FloatSlider(description=\"k1f\", min=0, step=1, max=100, value=2)\n",
    "slKama1Slow = FloatSlider(description=\"k1s\", min=0, step=1, max=300, value=30)\n",
    "slKama1Channel= FloatSlider(description=\"k1c\", min=0, step=0.05, max=5, value=0)\n",
    "\n",
    "\n",
    "ui = widgets.VBox([\n",
    "#     widgets.HBox([slKama1N, slKama1Fast, slKama1Slow, slKama1Channel]),\n",
    "    widgets.HBox([slKama1N, slKama1Fast, slKama1Slow, slKama1Channel]),\n",
    "    widgets.HBox([slCoolOff, slDowntrendWait]),\n",
    "    widgets.HBox([sl_n2, sl_w, slStopLoss, slTarget]),\n",
    "])\n",
    "    \n",
    "# iKama1 = Interact.@map kama(&ivdf.close, n=&slKama1N, nfast=&slKama1Fast, nslow=&slKama1Slow)\n",
    "# iKama1ChannelL = Interact.@map &iKama1 * (1-&slKama1Channel/100) \n",
    "\n",
    "def printer(w2log, w, cool, dnt, sl, tgt, k1n, k1f, k1s, k1c):\n",
    "    wsz = floor(pow(2,w2log))\n",
    "    wst = w * wsz\n",
    "    wed = floor(wst + wsz)\n",
    "    ddf[\"k1\"] = ddf.ta.kama(length=k1n, nfast=k1f, nslow=k1s, append=False)\n",
    "   \n",
    "    ddf['k1c'] = ddf['k1'] * (1- k1c)\n",
    "    wdf = ddf.iloc[wst:wed,:]\n",
    "    \n",
    "    fig, (ax1, ax2) = plt.subplots(1, 2,figsize=(16,4))\n",
    "    \n",
    "    out1 = ax1.plot(wdf.index, wdf['close'], lw=0.5)\n",
    "    out1 = ax1.plot(wdf.index, wdf['k1'], lw=0.5)\n",
    "    \n",
    "#     my_plotter(ax1, data1, data2, {'marker': 'x'})\n",
    "#     my_plotter(ax2, data3, data4, {'marker': 'o'})\n",
    "\n",
    "#     plt.figure(0)\n",
    "#     plt.figure(figsize=(12,8))\n",
    "#     wdf.plot(use_index=True, y=\"close\", lw=0.5);\n",
    "#     plt.plot(x=ddf.index, y=k1, lw=0.5);\n",
    "    plt.show()\n",
    "    \n",
    "\n",
    "out = widgets.interactive_output(printer, {\"w2log\":sl_n2, \"w\":sl_w, \"cool\":slCoolOff, \"dnt\":slDowntrendWait,\n",
    "                                \"sl\":slStopLoss, \"tgt\":slTarget, \"k1n\": slKama1N, \"k1f\": slKama1Fast, \"k1s\": slKama1Slow, \"k1c\": slKama1Channel})\n",
    "    \n",
    "# interactive_plot = widgets.interactive_output(f, {'a': a, 'b': b, 'c': c})\n",
    "# interactive(printer,w2log=sl_n2, w=sl_w, cool=slCoolOff, dnt=slDowntrendWait,\n",
    "#                                 sl=slStopLoss, tgt=slTarget);\n",
    "display(ui, out)\n",
    "\n",
    "# output = interactive_plot.children[-1]\n",
    "# # output.layout.width = '1200px'\n",
    "# output.layout.height = '500px'\n",
    "# interactive_plot\n"
   ]
  },
  {
   "cell_type": "code",
   "execution_count": null,
   "id": "6a5a2ed9-1d93-4066-ac76-e2d5019b3add",
   "metadata": {},
   "outputs": [],
   "source": [
    "# display()"
   ]
  },
  {
   "cell_type": "code",
   "execution_count": null,
   "id": "36d72ff0-ebc0-4851-b89c-6df7ad5795fa",
   "metadata": {},
   "outputs": [],
   "source": [
    "# pow(2,12), len(ddf)"
   ]
  },
  {
   "cell_type": "code",
   "execution_count": null,
   "id": "af4b67a2-fad9-4b32-8243-732e40120b07",
   "metadata": {},
   "outputs": [],
   "source": [
    "%%javascript\n",
    "IPython.OutputArea.auto_scroll_threshold = 9999;"
   ]
  },
  {
   "cell_type": "code",
   "execution_count": 21,
   "id": "60ea076b-b8c7-402e-bfb0-dc9a16b80fe4",
   "metadata": {},
   "outputs": [
    {
     "name": "stdout",
     "output_type": "stream",
     "text": [
      "['HT_DCPERIOD', 'HT_DCPHASE', 'HT_PHASOR', 'HT_SINE', 'HT_TRENDMODE', 'ADD', 'DIV', 'MAX', 'MAXINDEX', 'MIN', 'MININDEX', 'MINMAX', 'MINMAXINDEX', 'MULT', 'SUB', 'SUM', 'ACOS', 'ASIN', 'ATAN', 'CEIL', 'COS', 'COSH', 'EXP', 'FLOOR', 'LN', 'LOG10', 'SIN', 'SINH', 'SQRT', 'TAN', 'TANH', 'ADX', 'ADXR', 'APO', 'AROON', 'AROONOSC', 'BOP', 'CCI', 'CMO', 'DX', 'MACD', 'MACDEXT', 'MACDFIX', 'MFI', 'MINUS_DI', 'MINUS_DM', 'MOM', 'PLUS_DI', 'PLUS_DM', 'PPO', 'ROC', 'ROCP', 'ROCR', 'ROCR100', 'RSI', 'STOCH', 'STOCHF', 'STOCHRSI', 'TRIX', 'ULTOSC', 'WILLR', 'BBANDS', 'DEMA', 'EMA', 'HT_TRENDLINE', 'KAMA', 'MA', 'MAMA', 'MAVP', 'MIDPOINT', 'MIDPRICE', 'SAR', 'SAREXT', 'SMA', 'T3', 'TEMA', 'TRIMA', 'WMA', 'CDL2CROWS', 'CDL3BLACKCROWS', 'CDL3INSIDE', 'CDL3LINESTRIKE', 'CDL3OUTSIDE', 'CDL3STARSINSOUTH', 'CDL3WHITESOLDIERS', 'CDLABANDONEDBABY', 'CDLADVANCEBLOCK', 'CDLBELTHOLD', 'CDLBREAKAWAY', 'CDLCLOSINGMARUBOZU', 'CDLCONCEALBABYSWALL', 'CDLCOUNTERATTACK', 'CDLDARKCLOUDCOVER', 'CDLDOJI', 'CDLDOJISTAR', 'CDLDRAGONFLYDOJI', 'CDLENGULFING', 'CDLEVENINGDOJISTAR', 'CDLEVENINGSTAR', 'CDLGAPSIDESIDEWHITE', 'CDLGRAVESTONEDOJI', 'CDLHAMMER', 'CDLHANGINGMAN', 'CDLHARAMI', 'CDLHARAMICROSS', 'CDLHIGHWAVE', 'CDLHIKKAKE', 'CDLHIKKAKEMOD', 'CDLHOMINGPIGEON', 'CDLIDENTICAL3CROWS', 'CDLINNECK', 'CDLINVERTEDHAMMER', 'CDLKICKING', 'CDLKICKINGBYLENGTH', 'CDLLADDERBOTTOM', 'CDLLONGLEGGEDDOJI', 'CDLLONGLINE', 'CDLMARUBOZU', 'CDLMATCHINGLOW', 'CDLMATHOLD', 'CDLMORNINGDOJISTAR', 'CDLMORNINGSTAR', 'CDLONNECK', 'CDLPIERCING', 'CDLRICKSHAWMAN', 'CDLRISEFALL3METHODS', 'CDLSEPARATINGLINES', 'CDLSHOOTINGSTAR', 'CDLSHORTLINE', 'CDLSPINNINGTOP', 'CDLSTALLEDPATTERN', 'CDLSTICKSANDWICH', 'CDLTAKURI', 'CDLTASUKIGAP', 'CDLTHRUSTING', 'CDLTRISTAR', 'CDLUNIQUE3RIVER', 'CDLUPSIDEGAP2CROWS', 'CDLXSIDEGAP3METHODS', 'AVGPRICE', 'MEDPRICE', 'TYPPRICE', 'WCLPRICE', 'BETA', 'CORREL', 'LINEARREG', 'LINEARREG_ANGLE', 'LINEARREG_INTERCEPT', 'LINEARREG_SLOPE', 'STDDEV', 'TSF', 'VAR', 'ATR', 'NATR', 'TRANGE', 'AD', 'ADOSC', 'OBV']\n"
     ]
    }
   ],
   "source": [
    "# list of functions\n",
    "print (ta.get_functions())\n",
    "\n",
    "# dict of functions by group\n",
    "# print talib.get_function_groups()\n"
   ]
  },
  {
   "cell_type": "code",
   "execution_count": 61,
   "id": "6a651999-9226-4a9a-a121-d493083e80a6",
   "metadata": {},
   "outputs": [
    {
     "data": {
      "image/png": "[encoded data removed]",
      "text/plain": [
       "<Figure size 750x500 with 2 Axes>"
      ]
     },
     "metadata": {},
     "output_type": "display_data"
    }
   ],
   "source": [
    "fig, (ax1, ax2) = plt.subplots(1, 2)\n",
    "k1 = ddf.ta.kama(append=False)\n",
    "out1 = ax1.plot(ddf.index, ddf['close'])\n",
    "out1 = ax1.plot(ddf.index, k1)"
   ]
  },
  {
   "cell_type": "code",
   "execution_count": null,
   "id": "8d472f32-0a2a-4b92-9dfb-9ec1dfd35611",
   "metadata": {},
   "outputs": [],
   "source": []
  }
 ],
 "metadata": {
  "kernelspec": {
   "display_name": "py38",
   "language": "python",
   "name": "py38"
  },
  "language_info": {
   "codemirror_mode": {
    "name": "ipython",
    "version": 3
   },
   "file_extension": ".py",
   "mimetype": "text/x-python",
   "name": "python",
   "nbconvert_exporter": "python",
   "pygments_lexer": "ipython3",
   "version": "3.8.10"
  },
  "toc-autonumbering": true,
  "toc-showcode": false,
  "toc-showmarkdowntxt": true,
  "toc-showtags": true
 },
 "nbformat": 4,
 "nbformat_minor": 5
}
