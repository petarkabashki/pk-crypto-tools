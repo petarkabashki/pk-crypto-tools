{
 "cells": [
  {
   "cell_type": "code",
   "execution_count": null,
   "id": "182cb5ac-cfff-4dca-bc8e-2b6577e596a2",
   "metadata": {},
   "outputs": [],
   "source": [
    "from __future__ import print_function\n",
    "from ipywidgets import interact, interactive, fixed, interact_manual\n",
    "# import ipywidgets as widgets\n",
    "from ipywidgets import *\n",
    "from IPython.display import display\n",
    "import IPython\n",
    "import pandas as pd\n",
    "import matplotlib\n",
    "# from mplfinance import candlestick_ohlc\n",
    "import mplfinance as mpf\n",
    "from mplfinance.original_flavor import candlestick_ohlc\n",
    "import matplotlib.pyplot as plt\n",
    "import matplotlib.dates as mdates\n",
    "\n",
    "\n",
    "\n",
    "import numpy as np\n",
    "\n",
    "from os.path import exists\n",
    "\n",
    "from datetime import datetime\n",
    "import talib\n",
    "import pandas_ta as ta\n",
    "# from talib.abstract import *\n",
    "from math import *\n",
    "from collections import OrderedDict\n",
    "# import vectorbt as vbt    \n",
    "import json\n",
    "%matplotlib inline\n",
    "from decimal import *\n",
    "getcontext().prec = 6\n",
    "import seaborn as sns\n",
    "\n",
    "matplotlib.rcParams.update({'font.size': 5, 'lines.linewidth': 0.5, 'figure.dpi': 300})\n"
   ]
  },
  {
   "cell_type": "code",
   "execution_count": null,
   "id": "1c1105ae",
   "metadata": {},
   "outputs": [],
   "source": [
    "def read_df_json(fname):\n",
    "  # print(fname)\n",
    "  df = pd.read_json(fname)\n",
    "  df.columns = ['timestamp', 'open', 'high', 'low', 'close', 'volume']\n",
    "\n",
    "  df['date'] = pd.to_datetime(df['timestamp'], unit='ms', utc=False)\n",
    "  df.set_index(pd.DatetimeIndex(df[\"date\"]), inplace=True, drop=True)\n",
    "  return df"
   ]
  },
  {
   "cell_type": "code",
   "execution_count": null,
   "id": "479a735f",
   "metadata": {},
   "outputs": [],
   "source": [
    "symbol = 'ALGO_USDT'\n",
    "data_folder = './freq-user-data/data/binance'\n",
    "\n",
    "# timeframes = ['15m', '1h', '4h', '1d', '1w']\n",
    "timeframes = ['1h', '1d', '1w']\n",
    "dfs = [read_df_json(f'{data_folder}/{symbol}-{timeframe}.json') for timeframe in timeframes]\n",
    "# dfs\n",
    "# df_1h = read_df_json(f'{data_folder}/{symbol}-1h.json')\n",
    "# df_15m = read_df_json(f'{data_folder}/{symbol}-15m.json')\n",
    "# df_15m"
   ]
  },
  {
   "cell_type": "code",
   "execution_count": 17,
   "id": "c87d745a-e5fd-471f-8a68-c380bbca4b46",
   "metadata": {},
   "outputs": [
    {
     "data": {
      "text/plain": [
       "['1d', '1w']"
      ]
     },
     "execution_count": 17,
     "metadata": {},
     "output_type": "execute_result"
    }
   ],
   "source": [
    "timeframes[1:]"
   ]
  },
  {
   "cell_type": "code",
   "execution_count": null,
   "id": "34267cc3-02ae-47d5-9a3a-49c1cb94249d",
   "metadata": {},
   "outputs": [],
   "source": [
    "# pd.Timestamp('now').floor('D') + pd.Timedelta(-7, unit='D')\n",
    "\n",
    "# start_time = datetime(2021,5,1)\n",
    "\n",
    "start_time = pd.Timestamp('now') + pd.Timedelta(-100, unit='W')\n",
    "# start_time\n",
    "ddf = df.loc[df.index >= start_time].copy()\n",
    "# ddf = df.loc[df['time'] >= start_time]\n",
    "# ddf\n",
    "dlen = len(ddf.index)\n",
    "dlen"
   ]
  },
  {
   "cell_type": "code",
   "execution_count": 30,
   "id": "975fd70b",
   "metadata": {},
   "outputs": [
    {
     "data": {
      "text/plain": [
       "Timestamp('2021-03-01 00:00:00')"
      ]
     },
     "execution_count": 30,
     "metadata": {},
     "output_type": "execute_result"
    }
   ],
   "source": []
  },
  {
   "cell_type": "code",
   "execution_count": 41,
   "id": "6e20e868-17c5-473b-964e-73bc08724344",
   "metadata": {},
   "outputs": [
    {
     "data": {
      "application/vnd.jupyter.widget-view+json": {
       "model_id": "7ed6cd90e9a749c98cbe723682402b4b",
       "version_major": 2,
       "version_minor": 0
      },
      "text/plain": [
       "HBox(children=(IntSlider(value=0, description='1h', max=9899), IntSlider(value=0, description='1d', max=413), …"
      ]
     },
     "metadata": {},
     "output_type": "display_data"
    },
    {
     "data": {
      "application/vnd.jupyter.widget-view+json": {
       "model_id": "614c306c9ba345c295c673aa6616faba",
       "version_major": 2,
       "version_minor": 0
      },
      "text/plain": [
       "Output()"
      ]
     },
     "metadata": {},
     "output_type": "display_data"
    }
   ],
   "source": [
    "\n",
    "# sl_n2= IntSlider(description=\"n2\", min=0, max=ceil(log(dlen, 2.0)+1), step=1, value=9)\n",
    "# sl_w = IntSlider(description=\"w\", min=0, max=ceil(dlen/pow(2,sl_n2.value-1)-1), step=1, value=1)\n",
    "tf_keys = [f'tf_{tf}' for tf in timeframes]\n",
    "bar_sliders = [IntSlider(description=timeframe, min=0, max=len(dfs[ind]), step=1, value=0) for ind, timeframe in enumerate(timeframes)]\n",
    "ui = widgets.HBox(bar_sliders)\n",
    "\n",
    "\n",
    "def on_barslider_change(change):\n",
    "    # with output2:\n",
    "    print(change)\n",
    "slider_observers = [ bar_sliders[ind].observe(on_barslider_change, names='value') for ind, tf in enumerate(timeframes)]\n",
    "\n",
    "\n",
    "current_date = pd.Timestamp(2021,3,1)\n",
    "max_bars_plotted = 100\n",
    "def printer(**kwargs):\n",
    "    global current_time\n",
    "    wdfs = [df.loc[df.date < current_date].tail(max_bars_plotted) for df in dfs]\n",
    "    plt.close(\"all\")\n",
    "    \n",
    "    with plt.rc_context():\n",
    "        kwargs = dict(warn_too_much_data=1000)\n",
    "        # fig = mpf.figure(figsize=(15,6))\n",
    "        # ax1 = fig.add_subplot(2,1,1)\n",
    "        # ax11 = ax1.twinx()\n",
    "\n",
    "        # ap2 = [ \n",
    "        #         mpf.make_addplot(wdf, **{**kwargs, **dict(volume=False, style='binance',type='candle', figsize=(15, 6))}) \n",
    "        #         for wdf in wdfs[1:]     \n",
    "        #     ]\n",
    "        for wdf in wdfs:\n",
    "            mpf.plot(wdf,**{**kwargs, **dict(volume=False, style='binance',type='candle', figsize=(15, 2))})\n",
    "    plt.show()\n",
    "    \n",
    "out = widgets.interactive_output(printer, {\n",
    "    tf_keys[ind]: bar_sliders[ind] for ind, timeframe in enumerate(timeframes)\n",
    "})\n",
    "display(ui, out)"
   ]
  },
  {
   "cell_type": "code",
   "execution_count": null,
   "id": "4d50ab76",
   "metadata": {},
   "outputs": [],
   "source": [
    "1 if len(wdf[~wdf.enter_price.isnull()]) else 0"
   ]
  },
  {
   "cell_type": "code",
   "execution_count": null,
   "id": "90fdd8f6",
   "metadata": {},
   "outputs": [],
   "source": [
    "wdf.wick_btm_perc"
   ]
  },
  {
   "cell_type": "code",
   "execution_count": null,
   "id": "d48793c8",
   "metadata": {},
   "outputs": [],
   "source": []
  }
 ],
 "metadata": {
  "interpreter": {
   "hash": "3a7c4e175efa44dd81f4fbacfe90b94f14c2cef036973cca7ce5c2420ad37c9d"
  },
  "kernelspec": {
   "display_name": "Python 3.8.10 64-bit ('py38': conda)",
   "name": "python3"
  },
  "language_info": {
   "codemirror_mode": {
    "name": "ipython",
    "version": 3
   },
   "file_extension": ".py",
   "mimetype": "text/x-python",
   "name": "python",
   "nbconvert_exporter": "python",
   "pygments_lexer": "ipython3",
   "version": "3.8.10"
  },
  "toc-autonumbering": true,
  "toc-showcode": false,
  "toc-showmarkdowntxt": true,
  "toc-showtags": true
 },
 "nbformat": 4,
 "nbformat_minor": 5
}
