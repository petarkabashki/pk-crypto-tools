{
 "metadata": {
  "language_info": {
   "codemirror_mode": {
    "name": "ipython",
    "version": 3
   },
   "file_extension": ".py",
   "mimetype": "text/x-python",
   "name": "python",
   "nbconvert_exporter": "python",
   "pygments_lexer": "ipython3",
   "version": "3.6.12"
  },
  "orig_nbformat": 2,
  "kernelspec": {
   "name": "python3612jvsc74a57bd0dddcc57d7730ebd3b2a6b014023c4275ec3d5ce7e486b489119f170724d5193d",
   "display_name": "Python 3.6.12 64-bit ('py36': conda)"
  }
 },
 "nbformat": 4,
 "nbformat_minor": 2,
 "cells": [
  {
   "cell_type": "code",
   "execution_count": 2,
   "metadata": {},
   "outputs": [
    {
     "output_type": "execute_result",
     "data": {
      "text/plain": [
       "UUID('d2a428a5-7aa2-4960-a04f-e9e75c18deb6')"
      ]
     },
     "metadata": {},
     "execution_count": 2
    }
   ],
   "source": [
    "from unicorn_binance_websocket_api.unicorn_binance_websocket_api_manager import BinanceWebSocketApiManager\n",
    "\n",
    "binance_websocket_api_manager = BinanceWebSocketApiManager(exchange=\"binance.com\")\n",
    "binance_websocket_api_manager.create_stream(['kline_1m'], ['BTCUSDT', 'ALGOBTC', 'AVAXBTC', 'EGLDBTC', 'GRAPHBTC'], output=\"UnicornFy\")"
   ]
  },
  {
   "cell_type": "code",
   "execution_count": 2,
   "metadata": {},
   "outputs": [],
   "source": [
    "import psycopg2\n",
    "import psycopg2.extras\n",
    "\n",
    "# establish connection\n",
    "conn = psycopg2.connect(dbname='trader', user='postgres', host='localhost')\n",
    "\n",
    "# cursor object allows querying of database\n",
    "# server-side cursor is created to prevent records to be downloaded until explicitly fetched\n",
    "# cursor_train = conn.cursor('train', cursor_factory=psycopg2.extras.DictCursor)\n",
    "curr = conn.cursor()\n"
   ]
  },
  {
   "cell_type": "code",
   "execution_count": 48,
   "metadata": {},
   "outputs": [],
   "source": [
    "# conn.commit()\n",
    "conn.close()"
   ]
  },
  {
   "cell_type": "code",
   "execution_count": 7,
   "metadata": {
    "tags": []
   },
   "outputs": [
    {
     "output_type": "stream",
     "name": "stdout",
     "text": [
      "---------------------\n",
      "---------------------\n",
      "---------------------\n",
      "---------------------\n"
     ]
    },
    {
     "output_type": "error",
     "ename": "KeyboardInterrupt",
     "evalue": "",
     "traceback": [
      "\u001b[0;31m---------------------------------------------------------------------------\u001b[0m",
      "\u001b[0;31mKeyboardInterrupt\u001b[0m                         Traceback (most recent call last)",
      "\u001b[0;32m<ipython-input-7-a7dd170d1471>\u001b[0m in \u001b[0;36m<module>\u001b[0;34m\u001b[0m\n\u001b[1;32m     20\u001b[0m \u001b[0;34m\u001b[0m\u001b[0m\n\u001b[1;32m     21\u001b[0m     \u001b[0;31m# conn.commit()\u001b[0m\u001b[0;34m\u001b[0m\u001b[0;34m\u001b[0m\u001b[0;34m\u001b[0m\u001b[0m\n\u001b[0;32m---> 22\u001b[0;31m         \u001b[0msleep\u001b[0m\u001b[0;34m(\u001b[0m\u001b[0;36m1\u001b[0m\u001b[0;34m)\u001b[0m\u001b[0;34m\u001b[0m\u001b[0;34m\u001b[0m\u001b[0m\n\u001b[0m",
      "\u001b[0;31mKeyboardInterrupt\u001b[0m: "
     ]
    }
   ],
   "source": [
    "\n",
    "from time import sleep\n",
    "from datetime import datetime\n",
    "\n",
    "\n",
    "while True:\n",
    "    for i in range(10):\n",
    "        x = binance_websocket_api_manager.pop_stream_data_from_stream_buffer()\n",
    "        if x: # and x['event_type'] == 'kline': # and x['symbol'] == 'BTCUSDT':\n",
    "            # kline = x['kline']\n",
    "            # kline_start = datetime.utcfromtimestamp(kline['kline_start_time']/1000)\n",
    "            # print(x['symbol'], kline_start)\n",
    "            # print(x)\n",
    "            # print(kline)\n",
    "            # print(kline['kline_start_time'])\n",
    "            # print(datetime.utcfromtimestamp(kline['kline_start_time']/1000))\n",
    "            # pars = ( kline_start , 'binance', kline['symbol'], kline['interval'], kline['open_price'], kline['high_price'], kline['low_price'], kline['close_price'], kline['base_volume'])\n",
    "            # # print(pars)\n",
    "            print('---------------------')\n",
    "    #         curr.execute(\"INSERT INTO candles (time, source, symbol, resolution, open, high, low, close, volume) VALUES (%s, %s, %s, %s, %s, %s, %s, %s, %s)\", pars)\n",
    "\n",
    "    # conn.commit()\n",
    "        sleep(1)"
   ]
  },
  {
   "cell_type": "code",
   "execution_count": 11,
   "metadata": {
    "tags": []
   },
   "outputs": [],
   "source": [
    "from pymongo import MongoClient\n",
    "from pprint import pprint\n",
    "# connect to MongoDB, change the << MONGODB URL >> to reflect your own connection string\n",
    "client = MongoClient('localhost')\n",
    "db=client.trader"
   ]
  },
  {
   "cell_type": "code",
   "execution_count": 14,
   "metadata": {},
   "outputs": [],
   "source": [
    "res = db.klines.insert_one({'name': 'test', 'symbol': 'BTCLEV'})"
   ]
  },
  {
   "cell_type": "code",
   "execution_count": 15,
   "metadata": {},
   "outputs": [
    {
     "output_type": "execute_result",
     "data": {
      "text/plain": [
       "<pymongo.results.InsertOneResult at 0x7f8ed61d0f48>"
      ]
     },
     "metadata": {},
     "execution_count": 15
    }
   ],
   "source": [
    "res\n"
   ]
  },
  {
   "cell_type": "code",
   "execution_count": 17,
   "metadata": {},
   "outputs": [
    {
     "output_type": "stream",
     "name": "stdout",
     "text": [
      "BTCUSDT 2021-05-14 01:09:00\n",
      "---------------------\n",
      "ALGOBTC 2021-05-14 01:09:00\n",
      "---------------------\n",
      "BTCUSDT 2021-05-14 01:09:00\n",
      "---------------------\n",
      "AVAXBTC 2021-05-14 01:09:00\n",
      "---------------------\n",
      "BTCUSDT 2021-05-14 01:09:00\n",
      "---------------------\n",
      "BTCUSDT 2021-05-14 01:09:00\n",
      "---------------------\n",
      "ALGOBTC 2021-05-14 01:09:00\n",
      "---------------------\n",
      "BTCUSDT 2021-05-14 01:09:00\n",
      "---------------------\n",
      "ALGOBTC 2021-05-14 01:09:00\n",
      "---------------------\n",
      "AVAXBTC 2021-05-14 01:09:00\n",
      "---------------------\n",
      "BTCUSDT 2021-05-14 01:09:00\n",
      "---------------------\n",
      "BTCUSDT 2021-05-14 01:09:00\n",
      "---------------------\n",
      "AVAXBTC 2021-05-14 01:09:00\n",
      "---------------------\n",
      "AVAXBTC 2021-05-14 01:09:00\n",
      "---------------------\n",
      "BTCUSDT 2021-05-14 01:10:00\n",
      "---------------------\n",
      "AVAXBTC 2021-05-14 01:10:00\n",
      "---------------------\n",
      "BTCUSDT 2021-05-14 01:10:00\n",
      "---------------------\n",
      "BTCUSDT 2021-05-14 01:10:00\n",
      "---------------------\n",
      "ALGOBTC 2021-05-14 01:09:00\n",
      "---------------------\n",
      "EGLDBTC 2021-05-14 01:09:00\n",
      "---------------------\n",
      "BTCUSDT 2021-05-14 01:10:00\n",
      "---------------------\n",
      "EGLDBTC 2021-05-14 01:10:00\n",
      "---------------------\n",
      "ALGOBTC 2021-05-14 01:10:00\n",
      "---------------------\n",
      "BTCUSDT 2021-05-14 01:10:00\n",
      "---------------------\n",
      "AVAXBTC 2021-05-14 01:10:00\n",
      "---------------------\n",
      "BTCUSDT 2021-05-14 01:10:00\n",
      "---------------------\n",
      "ALGOBTC 2021-05-14 01:10:00\n",
      "---------------------\n",
      "BTCUSDT 2021-05-14 01:10:00\n",
      "---------------------\n",
      "AVAXBTC 2021-05-14 01:10:00\n",
      "---------------------\n",
      "ALGOBTC 2021-05-14 01:10:00\n",
      "---------------------\n",
      "BTCUSDT 2021-05-14 01:10:00\n",
      "---------------------\n",
      "BTCUSDT 2021-05-14 01:10:00\n",
      "---------------------\n"
     ]
    },
    {
     "output_type": "error",
     "ename": "KeyboardInterrupt",
     "evalue": "",
     "traceback": [
      "\u001b[0;31m---------------------------------------------------------------------------\u001b[0m",
      "\u001b[0;31mKeyboardInterrupt\u001b[0m                         Traceback (most recent call last)",
      "\u001b[0;32m<ipython-input-17-e43ae32aa4a2>\u001b[0m in \u001b[0;36m<module>\u001b[0;34m\u001b[0m\n\u001b[1;32m     24\u001b[0m \u001b[0;34m\u001b[0m\u001b[0m\n\u001b[1;32m     25\u001b[0m     \u001b[0;31m# conn.commit()\u001b[0m\u001b[0;34m\u001b[0m\u001b[0;34m\u001b[0m\u001b[0;34m\u001b[0m\u001b[0m\n\u001b[0;32m---> 26\u001b[0;31m         \u001b[0msleep\u001b[0m\u001b[0;34m(\u001b[0m\u001b[0;36m1\u001b[0m\u001b[0;34m)\u001b[0m\u001b[0;34m\u001b[0m\u001b[0;34m\u001b[0m\u001b[0m\n\u001b[0m",
      "\u001b[0;31mKeyboardInterrupt\u001b[0m: "
     ]
    }
   ],
   "source": [
    "from time import sleep\n",
    "from datetime import datetime\n",
    "\n",
    "import copy\n",
    "# d = { ... }\n",
    "# d2 = copy.deepcopy(d)\n",
    "\n",
    "while True:\n",
    "    for i in range(10):\n",
    "        x = binance_websocket_api_manager.pop_stream_data_from_stream_buffer()\n",
    "        if x and x['event_type'] == 'kline': # and x['symbol'] == 'BTCUSDT':\n",
    "\n",
    "            kline = copy.deepcopy(x['kline'])\n",
    "            kline_start = datetime.utcfromtimestamp(kline['kline_start_time']/1000)\n",
    "            kline['time'] = kline_start\n",
    "            print(x['symbol'], kline_start)\n",
    "            result=db.klines.insert_one(kline)\n",
    "            # print(result)\n",
    "            # print(x)\n",
    "            # print(kline)\n",
    "            # print(kline['kline_start_time'])\n",
    "            # print(datetime.utcfromtimestamp(kline['kline_start_time']/1000))\n",
    "            # pars = ( kline_start , 'binance', kline['symbol'], kline['interval'], kline['open_price'], kline['high_price'], kline['low_price'], kline['close_price'], kline['base_volume'])\n",
    "            # # print(pars)\n",
    "            print('---------------------')\n",
    "    #         curr.execute(\"INSERT INTO candles (time, source, symbol, resolution, open, high, low, close, volume) VALUES (%s, %s, %s, %s, %s, %s, %s, %s, %s)\", pars)\n",
    "\n",
    "    # conn.commit()\n",
    "        sleep(1)"
   ]
  },
  {
   "cell_type": "code",
   "execution_count": null,
   "metadata": {},
   "outputs": [],
   "source": []
  }
 ]
}