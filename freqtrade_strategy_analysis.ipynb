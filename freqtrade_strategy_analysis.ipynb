{
 "cells": [
  {
   "cell_type": "markdown",
   "metadata": {},
   "source": [
    "# Strategy analysis example\n",
    "\n",
    "Debugging a strategy can be time-consuming. Freqtrade offers helper functions to visualize raw data.\n",
    "The following assumes you work with SampleStrategy, data for 5m timeframe from Binance and have downloaded them into the data directory in the default location."
   ]
  },
  {
   "cell_type": "markdown",
   "metadata": {},
   "source": [
    "## Setup"
   ]
  },
  {
   "cell_type": "code",
   "execution_count": null,
   "metadata": {},
   "outputs": [],
   "source": [
    "from pathlib import Path\n",
    "from freqtrade.configuration import Configuration\n",
    "\n",
    "# Customize these according to your needs.\n",
    "\n",
    "# Initialize empty configuration object\n",
    "config = Configuration.from_files([\"freqtrade-config.json\"])\n",
    "# Optionally, use existing configuration file\n",
    "# config = Configuration.from_files([\"config.json\"])\n",
    "\n",
    "# Define some constants\n",
    "config[\"timeframe\"] = \"1m\"\n",
    "# Name of the strategy class\n",
    "config[\"strategy\"] = \"PKStrategy\"\n",
    "# Location of the data\n",
    "data_location = Path(config['user_data_dir'], 'data', 'binance')\n",
    "# Pair to analyze - Only use one pair here\n",
    "pair = \"BTC/USDT\""
   ]
  },
  {
   "cell_type": "code",
   "execution_count": null,
   "metadata": {},
   "outputs": [],
   "source": [
    "import vectorbt as vbt\n",
    "import numpy as np\n",
    "import pandas as pd\n",
    "from datetime import datetime, timedelta\n",
    "from numba import njit\n",
    "import itertools\n",
    "import talib\n",
    "import ta"
   ]
  },
  {
   "cell_type": "code",
   "execution_count": null,
   "metadata": {},
   "outputs": [],
   "source": [
    "\n",
    "# config = Configuration.from_files([\"freqtrade-config.json\"])\n"
   ]
  },
  {
   "cell_type": "code",
   "execution_count": null,
   "metadata": {},
   "outputs": [],
   "source": [
    "# Load data using values set above\n",
    "from freqtrade.data.history import load_pair_history\n",
    "\n",
    "candles = load_pair_history(datadir=data_location,\n",
    "                            timeframe=config[\"timeframe\"],\n",
    "                            pair=pair,\n",
    "                            data_format = \"json\",\n",
    "                            # data_format = \"hdf5\",\n",
    "                            )\n",
    "\n",
    "# Confirm success\n",
    "print(\"Loaded \" + str(len(candles)) + f\" rows of data for {pair} from {data_location}\")\n",
    "candles.head()"
   ]
  },
  {
   "cell_type": "markdown",
   "metadata": {},
   "source": [
    "## Load and run strategy\n",
    "* Rerun each time the strategy file is changed"
   ]
  },
  {
   "cell_type": "code",
   "execution_count": null,
   "metadata": {},
   "outputs": [],
   "source": [
    "# Load strategy using values set above\n",
    "from freqtrade.resolvers import StrategyResolver\n",
    "strategy = StrategyResolver.load_strategy(config)\n",
    "\n",
    "# Generate buy/sell signals using strategy\n",
    "df = strategy.analyze_ticker(candles[candles.date >= pd.Timestamp('2021-04-01',).tz_localize('US/Eastern')], {'pair': pair})\n",
    "df.tail()"
   ]
  },
  {
   "cell_type": "code",
   "execution_count": null,
   "metadata": {},
   "outputs": [],
   "source": []
  },
  {
   "cell_type": "markdown",
   "metadata": {},
   "source": [
    "### Display the trade details\n",
    "\n",
    "* Note that using `data.head()` would also work, however most indicators have some \"startup\" data at the top of the dataframe.\n",
    "* Some possible problems\n",
    "    * Columns with NaN values at the end of the dataframe\n",
    "    * Columns used in `crossed*()` functions with completely different units\n",
    "* Comparison with full backtest\n",
    "    * having 200 buy signals as output for one pair from `analyze_ticker()` does not necessarily mean that 200 trades will be made during backtesting.\n",
    "    * Assuming you use only one condition such as, `df['rsi'] < 30` as buy condition, this will generate multiple \"buy\" signals for each pair in sequence (until rsi returns > 29). The bot will only buy on the first of these signals (and also only if a trade-slot (\"max_open_trades\") is still available), or on one of the middle signals, as soon as a \"slot\" becomes available.  \n"
   ]
  },
  {
   "cell_type": "code",
   "execution_count": null,
   "metadata": {},
   "outputs": [],
   "source": [
    "# Report results\n",
    "print(f\"Generated {df['buy'].sum()} buy signals\")\n",
    "data = df.set_index('date', drop=False)\n",
    "data.tail()"
   ]
  },
  {
   "cell_type": "markdown",
   "metadata": {},
   "source": [
    "## Load existing objects into a Jupyter notebook\n",
    "\n",
    "The following cells assume that you have already generated data using the cli.  \n",
    "They will allow you to drill deeper into your results, and perform analysis which otherwise would make the output very difficult to digest due to information overload."
   ]
  },
  {
   "cell_type": "code",
   "execution_count": null,
   "metadata": {},
   "outputs": [],
   "source": []
  },
  {
   "cell_type": "markdown",
   "metadata": {},
   "source": [
    "### Load backtest results to pandas dataframe\n",
    "\n",
    "Analyze a trades dataframe (also used below for plotting)"
   ]
  },
  {
   "cell_type": "code",
   "execution_count": null,
   "metadata": {},
   "outputs": [],
   "source": [
    "from freqtrade.data.btanalysis import load_backtest_data, load_backtest_stats\n",
    "\n",
    "# if backtest_dir points to a directory, it'll automatically load the last backtest file.\n",
    "backtest_dir = config[\"user_data_dir\"] / \"backtest_results\"\n",
    "# backtest_dir can also point to a specific file \n",
    "# backtest_dir = config[\"user_data_dir\"] / \"backtest_results/backtest-result-2020-07-01_20-04-22.json\""
   ]
  },
  {
   "cell_type": "code",
   "execution_count": null,
   "metadata": {},
   "outputs": [],
   "source": [
    "# You can get the full backtest statistics by using the following command.\n",
    "# This contains all information used to generate the backtest result.\n",
    "stats = load_backtest_stats(backtest_dir)\n",
    "\n",
    "strategy = 'PKStrategy'\n",
    "# All statistics are available per strategy, so if `--strategy-list` was used during backtest, this will be reflected here as well.\n",
    "# Example usages:\n",
    "print(stats['strategy'][strategy]['results_per_pair'])\n",
    "# Get pairlist used for this backtest\n",
    "print(stats['strategy'][strategy]['pairlist'])\n",
    "# Get market change (average change of all pairs from start to end of the backtest period)\n",
    "print(stats['strategy'][strategy]['market_change'])\n",
    "# Maximum drawdown ()\n",
    "print(stats['strategy'][strategy]['max_drawdown'])\n",
    "# Maximum drawdown start and end\n",
    "print(stats['strategy'][strategy]['drawdown_start'])\n",
    "print(stats['strategy'][strategy]['drawdown_end'])\n",
    "\n",
    "\n",
    "# Get strategy comparison (only relevant if multiple strategies were compared)\n",
    "print(stats['strategy_comparison'])\n"
   ]
  },
  {
   "cell_type": "code",
   "execution_count": null,
   "metadata": {},
   "outputs": [],
   "source": [
    "# Load backtested trades as dataframe\n",
    "trades = load_backtest_data(backtest_dir)\n",
    "\n",
    "# Show value-counts per pair\n",
    "trades.groupby(\"pair\")[\"sell_reason\"].value_counts()"
   ]
  },
  {
   "cell_type": "code",
   "execution_count": null,
   "metadata": {},
   "outputs": [],
   "source": [
    "trades"
   ]
  },
  {
   "cell_type": "markdown",
   "metadata": {},
   "source": [
    "### Load live trading results into a pandas dataframe\n",
    "\n",
    "In case you did already some trading and want to analyze your performance"
   ]
  },
  {
   "cell_type": "code",
   "execution_count": null,
   "metadata": {},
   "outputs": [],
   "source": [
    "from freqtrade.data.btanalysis import load_trades_from_db\n",
    "\n",
    "# Fetch trades from database\n",
    "trades = load_trades_from_db(\"sqlite:///tradesv3.sqlite\")\n",
    "\n",
    "# Display results\n",
    "trades.groupby(\"pair\")[\"sell_reason\"].value_counts()"
   ]
  },
  {
   "cell_type": "markdown",
   "metadata": {},
   "source": [
    "## Analyze the loaded trades for trade parallelism\n",
    "This can be useful to find the best `max_open_trades` parameter, when used with backtesting in conjunction with `--disable-max-market-positions`.\n",
    "\n",
    "`analyze_trade_parallelism()` returns a timeseries dataframe with an \"open_trades\" column, specifying the number of open trades for each candle."
   ]
  },
  {
   "cell_type": "code",
   "execution_count": null,
   "metadata": {},
   "outputs": [],
   "source": [
    "from freqtrade.data.btanalysis import analyze_trade_parallelism\n",
    "\n",
    "# Analyze the above\n",
    "parallel_trades = analyze_trade_parallelism(trades, '1m')\n",
    "\n",
    "parallel_trades.plot()"
   ]
  },
  {
   "cell_type": "markdown",
   "metadata": {},
   "source": [
    "## Plot results\n",
    "\n",
    "Freqtrade offers interactive plotting capabilities based on plotly."
   ]
  },
  {
   "cell_type": "code",
   "execution_count": null,
   "metadata": {},
   "outputs": [],
   "source": [
    "from freqtrade.plot.plotting import  generate_candlestick_graph\n",
    "# Limit graph period to keep plotly quick and reactive\n",
    "\n",
    "# Filter trades to one pair\n",
    "trades_red = trades.loc[trades['pair'] == pair]\n",
    "\n",
    "data_red = data['2021-06-01':'2021-06-5']\n",
    "# Generate candlestick graph\n",
    "graph = generate_candlestick_graph(pair=pair,\n",
    "                                   data=data_red,\n",
    "                                   trades=trades_red,\n",
    "                                   indicators1=['sma20', 'ema50', 'ema55'],\n",
    "                                   indicators2=['rsi', 'macd', 'macdsignal', 'macdhist']\n",
    "                                  )\n",
    "\n",
    "\n"
   ]
  },
  {
   "cell_type": "code",
   "execution_count": null,
   "metadata": {},
   "outputs": [],
   "source": [
    "# Show graph inline\n",
    "# graph.show()\n",
    "\n",
    "# Render graph in a seperate window\n",
    "graph.show(renderer=\"browser\")\n"
   ]
  },
  {
   "cell_type": "markdown",
   "metadata": {},
   "source": [
    "## Plot average profit per trade as distribution graph"
   ]
  },
  {
   "cell_type": "code",
   "execution_count": null,
   "metadata": {},
   "outputs": [],
   "source": [
    "import plotly.figure_factory as ff\n",
    "\n",
    "hist_data = [trades.profit_ratio]\n",
    "group_labels = ['profit_ratio']  # name of the dataset\n",
    "\n",
    "fig = ff.create_distplot(hist_data, group_labels,bin_size=0.01)\n",
    "fig.show()\n"
   ]
  },
  {
   "cell_type": "code",
   "execution_count": 1,
   "metadata": {},
   "outputs": [],
   "source": [
    "from __future__ import print_function\n",
    "from ipywidgets import interact, interactive, fixed, interact_manual\n",
    "# import ipywidgets as widgets\n",
    "from ipywidgets import *\n",
    "from IPython.display import display\n",
    "import IPython\n",
    "import pandas as pd\n",
    "import matplotlib.pyplot as plt\n",
    "import matplotlib.dates as mdates\n",
    "import numpy as np\n",
    "\n",
    "from datetime import datetime\n",
    "import talib\n",
    "import pandas_ta as ta\n",
    "from talib.abstract import *\n",
    "from math import *\n",
    "import vectorbt as vbt\n",
    "import json\n",
    "%matplotlib inline"
   ]
  },
  {
   "cell_type": "code",
   "execution_count": 2,
   "metadata": {},
   "outputs": [
    {
     "name": "stdout",
     "output_type": "stream",
     "text": [
      "Loaded 249118 rows of data for BTC/USDT from freq-user-data/data/binance\n"
     ]
    }
   ],
   "source": [
    "from pathlib import Path\n",
    "from freqtrade.configuration import Configuration\n",
    "\n",
    "# Customize these according to your needs.\n",
    "\n",
    "# Initialize empty configuration object\n",
    "config = Configuration.from_files([\"freqtrade-config.json\"])\n",
    "# Optionally, use existing configuration file\n",
    "# config = Configuration.from_files([\"config.json\"])\n",
    "\n",
    "# Define some constants\n",
    "config[\"timeframe\"] = \"1m\"\n",
    "# Name of the strategy class\n",
    "config[\"strategy\"] = \"PKStrategy\"\n",
    "# Location of the data\n",
    "data_location = Path(config['user_data_dir'], 'data', 'binance')\n",
    "# Pair to analyze - Only use one pair here\n",
    "pair = \"BTC/USDT\"\n",
    "##############################\n",
    "\n",
    "from freqtrade.data.history import load_pair_history\n",
    "\n",
    "candles = load_pair_history(datadir=data_location,\n",
    "                            timeframe=config[\"timeframe\"],\n",
    "                            pair=pair,\n",
    "                            data_format = \"json\",\n",
    "                            # data_format = \"hdf5\",\n",
    "                            )\n",
    "\n",
    "# Confirm success\n",
    "print(\"Loaded \" + str(len(candles)) + f\" rows of data for {pair} from {data_location}\")"
   ]
  },
  {
   "cell_type": "code",
   "execution_count": 3,
   "metadata": {},
   "outputs": [],
   "source": [
    "\n",
    "\n",
    "##############################\n",
    "# Load strategy using values set above\n",
    "from freqtrade.resolvers import StrategyResolver\n",
    "strategy = StrategyResolver.load_strategy(config)\n",
    "\n",
    "data = candles.set_index('date', drop=False)\n",
    "data = data[data.date >= pd.Timestamp('2021-06-01').tz_localize('US/Eastern')]\n",
    "# Generate buy/sell signals using strategy\n",
    "# df = strategy.analyze_ticker(data, {'pair': pair})\n",
    "# df.tail()\n",
    "# print(f\"Generated {ddf['buy'].sum()} buy signals\")\n",
    "# data = df.set_index('date', drop=False)\n",
    "# data.tail()\n"
   ]
  },
  {
   "cell_type": "markdown",
   "metadata": {},
   "source": [
    "Feel free to submit an issue or Pull Request enhancing this document if you would like to share ideas on how to best analyze the data."
   ]
  },
  {
   "cell_type": "code",
   "execution_count": 82,
   "metadata": {},
   "outputs": [
    {
     "data": {
      "application/vnd.jupyter.widget-view+json": {
       "model_id": "686bea82dd3049759fefed6a940dbc8d",
       "version_major": 2,
       "version_minor": 0
      },
      "text/plain": [
       "VBox(children=(HBox(children=(FloatSlider(value=10.0, continuous_update=False, description='ts', max=15.0, ste…"
      ]
     },
     "metadata": {},
     "output_type": "display_data"
    },
    {
     "data": {
      "application/vnd.jupyter.widget-view+json": {
       "model_id": "9e0c96dd009a46e58295939f0a26c5fd",
       "version_major": 2,
       "version_minor": 0
      },
      "text/plain": [
       "Output()"
      ]
     },
     "metadata": {},
     "output_type": "display_data"
    },
    {
     "data": {
      "application/vnd.jupyter.widget-view+json": {
       "model_id": "29dd1f533d494a47a72920f5196b9a48",
       "version_major": 2,
       "version_minor": 0
      },
      "text/plain": [
       "HBox(children=(IntSlider(value=9, description='n2', max=14), IntSlider(value=4, description='w', max=61)))"
      ]
     },
     "metadata": {},
     "output_type": "display_data"
    },
    {
     "data": {
      "application/vnd.jupyter.widget-view+json": {
       "model_id": "d923e1ce00474e3a9588c6ba87834459",
       "version_major": 2,
       "version_minor": 0
      },
      "text/plain": [
       "Output()"
      ]
     },
     "metadata": {},
     "output_type": "display_data"
    }
   ],
   "source": [
    "debug_view = widgets.Output(layout={'border': '1px solid black'})\n",
    "\n",
    "strategy = StrategyResolver.load_strategy(config)\n",
    "# ddf = df.copy()\n",
    "ddf = data.copy()\n",
    "dlen = len(ddf)\n",
    "capital = strategy.config['starting_balance']\n",
    "sl_n2= IntSlider(description=\"n2\", min=0, max=floor(log(dlen, 2.0)), step=1, value=9)\n",
    "sl_w = IntSlider(description=\"w\", min=0, max=floor(dlen/pow(2,9)), step=1, value=5)\n",
    "def update_sl_w_range(*args):\n",
    "    wsize = pow(2,sl_n2.value)\n",
    "    sl_w.max = floor(dlen/wsize)*2 -1\n",
    "sl_n2.observe(update_sl_w_range, 'value')\n",
    "\n",
    "\n",
    "# slCoolOff = IntSlider(description=\"cool\", min=0, step=5, max=600, value=30)\n",
    "# slDowntrendWait = IntSlider(description=\"dnt\", min=0, max=100, value=30)\n",
    "\n",
    "slStopLoss = FloatSlider(description=\"sl\", min=0, step=0.05, max=15,value=1.92, continuous_update=False)\n",
    "slTrailingStopLoss = FloatSlider(description=\"ts\", min=0, step=0.2, max=15,value=10, continuous_update=False)\n",
    "slTakeProfit = FloatSlider(description=\"tp\", min=0, step=0.2, max=15, value=10, continuous_update=False)\n",
    "\n",
    "# slMa1N = IntSlider(description=\"ma1n\", min=0, step=3, max=400, value=50)\n",
    "# slMa2N = IntSlider(description=\"ma2n\", min=0, step=5, max=600, value=100)\n",
    "slBBTP = IntSlider(description=\"bbtp\", min=10, step=3, max=200, value=30, continuous_update=False)\n",
    "slBBUP = FloatSlider(description=\"bbup\", min=0, step=0.05, max=5,value=2, continuous_update=False)\n",
    "slBBDN = FloatSlider(description=\"bbdn\", min=0, step=0.05, max=5,value=2, continuous_update=False)\n",
    "slBBMACH = FloatSlider(description=\"bbch\", min=0, step=0.05, max=3,value=0.5, continuous_update=False)\n",
    "\n",
    "slRSB = IntSlider(description=\"rsb\", min=10, step=1, max=200, value=14, continuous_update=False)\n",
    "\n",
    "\n",
    "# slStK = IntSlider(description=\"stk\", min=0, step=1, max=300, value=14)\n",
    "# slStD = IntSlider(description=\"std\", min=0, step=1, max=200, value=3)\n",
    "# slStSm = IntSlider(description=\"stsm\", min=0, step=1, max=200, value=2)\n",
    "# slStT = IntSlider(description=\"stst\", min=0, step=1, max=100, value=20)\n",
    "\n",
    "# slMa1c = FloatSlider(description=\"ma1c\", min=-5, step=0.01, max=5, value=-0.44)\n",
    "# slMa2c = FloatSlider(description=\"ma2c\", min=-5, step=0.01, max=5, value=0.02)\n",
    "# slTrN = IntSlider(description=\"trn\", min=0, step=5, max=800, value=160)\n",
    "# slMrN = IntSlider(description=\"mrn\", min=0, step=5, max=800, value=300)\n",
    "\n",
    "# slXrr = FloatSlider(description=\"xrr\", min=1, step=0.2, max=20, value=2)\n",
    "\n",
    "sui = widgets.VBox([\n",
    "    widgets.HBox([slTrailingStopLoss, slStopLoss, slTakeProfit]), \n",
    "    widgets.HBox([slBBTP, slBBUP, slBBDN, slBBMACH])\n",
    "])\n",
    "\n",
    "wui = widgets.HBox([sl_n2, sl_w])\n",
    "\n",
    "trades = pf = wst = wed = wsz = wdf = False\n",
    "ddf_entries = ddf_profits = ddf_losses = ddf_cap = None\n",
    "# iKama1 = Interact.@map kama(&ivdf.close, n=&slKama1N, nfast=&slKama1Fast, nslow=&slKama1Slow)\n",
    "# iKama1ChannelL = Interact.@map &iKama1 * (1-&slKama1Channel/100) \n",
    "# cool, dnt,\n",
    "idx_ddf = np.arange(dlen)\n",
    "# , stk, std, stsm, stt , ma1n, ma2n, ma1c, ma2c, trn, mrn, xrr,\n",
    "def backtest(sl, ts, tp, bbtp, bbup, bbdn, bbch):\n",
    "    global ddf, pf, trades, ddf_entries, ddf_profits, ddf_losses, ddf_cap\n",
    "    \n",
    "#     with open(f'./strat-params.json', \"w\") as f: f.write(json.dumps({\"w2log\": sl_n2.value, \"w\":sl_w.value, \"sl\":slStopLoss.value, \"ts\": slTrailingStopLoss.value, \n",
    "#            \"tp\": slTakeProfit.value, \"ma1n\": slMa1N.value, \"ma2n\": slMa2N.value, \"ma1c\": slMa1c.value, \"ma2c\": slMa2c.value,\"trn\": slTrN.value })) ;\n",
    "    \n",
    "#     ddf = strategy.analyze_ticker(data[data.date >= pd.Timestamp('2021-05-01',).tz_localize('US/Eastern')], {'pair': pair})\n",
    "    \n",
    "# Generate buy/sell signals using strategy\n",
    "\n",
    "\n",
    "    # cust_bb_ma_ch = 0.5\n",
    "    # cust_bb_timeperiod = 20\n",
    "    # cust_bb_nbdevdnh = 2.\n",
    "    strategy.stoploss = -sl/100\n",
    "    strategy.cust_tp_stop = tp\n",
    "    strategy.cust_ts_stop = ts\n",
    "    \n",
    "    strategy.cust_bb_timeperiod = bbtp\n",
    "#     strategy.cust_params['bb_nbdevup'] = bbup\n",
    "    strategy.cust_bb_nbdevdnh = bbdn\n",
    "    strategy.cust_bb_ma_ch = bbch\n",
    "#     strategy.cust_params['rsb'] = rsb\n",
    "    \n",
    "#     ddf = strategy.analyze_ticker(data, {'pair': pair})\n",
    "    ddf = strategy.populate_indicators(ddf, {'pair': pair})\n",
    "    ddf = strategy.populate_buy_trend(ddf, {'pair': pair})\n",
    "#     ddf = strategy.populate_sell_trend(ddf, {'pair': pair})\n",
    "   \n",
    "#     vtma1 = vbt.MA.run(ddf['open'], ma1n)\n",
    "\n",
    "    ddf['buy'] = ddf['buy'].astype(bool).vbt.signals.first()\n",
    "\n",
    "    ddf['sell'] = vbt.OHLCSTEX.run(\n",
    "        ddf['buy'], \n",
    "        ddf['open'], \n",
    "        ddf['high'], \n",
    "        ddf['low'], \n",
    "        ddf['close'], \n",
    "        sl_stop=sl/100,\n",
    "        tp_stop=tp/100,\n",
    "        ts_stop=ts/100,\n",
    "        stop_type=None, hit_price=None\n",
    "    ).exits\n",
    "\n",
    "    # global pf;\n",
    "    pf = vbt.Portfolio.from_signals(ddf['close'], entries=ddf['buy'], \n",
    "                                    exits=ddf.sell,\n",
    "                                    direction='longonly', init_cash=capital, fees=0.001, slippage=0.0025, freq='1m')\n",
    "\n",
    "\n",
    "    trades = pf.trades.records\n",
    "    trades['cap'] = trades['pnl'].cumsum() + capital\n",
    "    ddf_cap = pd.merge(ddf[[\"date\"]], trades[[\"exit_idx\", \"cap\"]], left_on=idx_ddf, right_index=False, \n",
    "    right_on=\"exit_idx\", how=\"left\", sort=False).fillna(method='ffill').set_index('date')\n",
    "\n",
    "    \n",
    "    with open(f'./strategy-results/{datetime.now():strat_%Y-%m-%d}.log', \"a\") as f: \n",
    "        f.write(json.dumps(dict({   \n",
    "            \"dt\": f'{datetime.now():%Y-%m-%d %HH:%MM:%SS}',\n",
    "            \"period_start\": f'{ddf.index[0]}',\n",
    "            \"period_end\": f'{ddf.index[-1]}',\n",
    "            \"params\": dict({ 'sl': sl, 'ts': ts, 'tp': tp, 'bbtp': bbtp, 'bbdn': bbdn, 'bbup': bbup, 'bbch': bbch}),\n",
    "            \"strategy\": \"2EMASTH\",\n",
    "            \"profit\": floor(100* (trades.iloc[-1].cap / capital - 1)) if len(trades.index) else 0. \n",
    "        })\n",
    "    )); f.write(\"\\n\");\n",
    "    \n",
    "    \n",
    "    trades_profits = trades[trades['pnl'] > 0]\n",
    "    trades_losses = trades[trades['pnl'] < 0]    \n",
    "    \n",
    "    ddf_entries =  ddf.iloc[trades['entry_idx'].values]\n",
    "    ddf_profits = ddf.iloc[trades_profits['exit_idx'].values]\n",
    "    ddf_losses = ddf.iloc[trades_losses['exit_idx'].values]\n",
    "    \n",
    "    \n",
    "    sl_w.value = sl_w.value + 1 if sl_w.value % 2 ==0 else sl_w.value - 1\n",
    "    \n",
    "#     display(wui, wout)\n",
    "    \n",
    "#     fig, (ax1, ax2) = plt.subplots(1, 2,figsize=(16,4), sharex='col', gridspec_kw={'width_ratios': [3,1]})\n",
    "\n",
    "    \n",
    "\n",
    "with open('./strat-params.json') as f: \n",
    "    js = json.loads(f.read())\n",
    "    slStopLoss.value=js[\"sl\"]; slTrailingStopLoss.value=js[\"ts\"]; slTakeProfit.value=js[\"tp\"];\n",
    "    slBBMACH.value=js[\"bbch\"]; slBBTP.value=js['bbtp']; slBBUP.value=js['bbup']; slBBDN.value=js['bbdn'];\n",
    "\n",
    "    print('sout done', sl, '\\n')\n",
    "    \n",
    "def showplt(w2log, w):\n",
    "    global wst, wed, wsz, wdf, ddf, ddf_entries, ddf_profits, ddf_losses, ddf_cap\n",
    "    \n",
    "    if not pf: return\n",
    "    \n",
    "    wsz = floor(pow(2,w2log))\n",
    "    wst = floor(w * wsz / 2)\n",
    "    wed = floor(wst + wsz)\n",
    "    \n",
    "    \n",
    "    wdf = ddf[200:].iloc[wst:wed,:]\n",
    "    \n",
    "    fig = plt.figure(constrained_layout=True,figsize=(16,5))\n",
    "    gs0 = fig.add_gridspec(1, 2, width_ratios=[3,1])\n",
    "\n",
    "    gs00 = gs0[0,0].subgridspec(4, 1, height_ratios=[4,1,1,1])\n",
    "    gs01 = gs0[0,1].subgridspec(2, 1)\n",
    "\n",
    "    ax1 = fig.add_subplot(gs00[0,0])\n",
    "    ax2 = fig.add_subplot(gs00[1,0])\n",
    "    ax5 = fig.add_subplot(gs00[2,0])\n",
    "\n",
    "    ax3 = fig.add_subplot(gs01[0,0])\n",
    "    ax4 = fig.add_subplot(gs01[1,0])\n",
    "\n",
    "\n",
    "#     wma1 = wdf['ma1']; wma2 = ma2[wdf.index]; wma3 = ma3[wdf.index];\n",
    "    \n",
    "    ax1.plot(wdf['close'], lw=0.5)\n",
    "    ax1.plot(wdf.bb_lowerband, lw=0.5)\n",
    "#     ax1.plot(wdf.bb_ma, lw=0.5)\n",
    "#     ax1.plot(wdf.bb_upperband, lw=0.5)\n",
    "    # ax1.plot(wdf['rmin'], lw=0.5)\n",
    "    # ax1.plot(wdf['rmax'], lw=0.5)\n",
    "    # ax1.plot(wdf['ma1'], lw=0.5)\n",
    "    # ax1.plot(wdf['ma2'], lw=0.5)\n",
    "    \n",
    "    ax1.fill_between(wdf.index, wdf.bb_ma_lowerband, wdf.bb_ma, alpha=0.15)\n",
    "    # ax1.fill_between(wdf.index, wdf['ma1'], wdf['ma1c'][wdf.index], alpha=0.15)\n",
    "    # ax1.fill_between(wdf.index, wdf['ma2'], wdf['ma2c'][wdf.index], alpha=0.15)\n",
    "\n",
    "    if ddf_entries is not None:\n",
    "        wddf_entries = ddf_entries[ddf_entries.index.isin(wdf.index)]\n",
    "        wddf_profits = ddf_profits[ddf_profits.index.isin(wdf.index)]\n",
    "        wddf_losses = ddf_losses[ddf_losses.index.isin(wdf.index)]\n",
    "\n",
    "        wddf_trades = ddf_cap[wst:wed]    \n",
    "\n",
    "        ax1.vlines(wddf_entries.index,wddf_entries['open'] * 0.97,wddf_entries['open'] * 1.02, lw=0.5, color='blue')\n",
    "        ax1.vlines(wddf_profits.index,wddf_profits['open'] *0.97,wddf_profits['open'] * 1.02, lw=0.5, color='green')\n",
    "        ax1.vlines(wddf_losses.index,wddf_losses['open'] * 0.97,wddf_losses['open'] * 1.02, lw=0.5, color='red')\n",
    "    \n",
    "#     ax2.plot(wdf.htsine, color=\"blue\")\n",
    "#     ax2.plot(wdf.htleadsine, color=\"orange\")\n",
    "    # ax2.plot(wdf.xrr,lw=0.5,color='green')\n",
    "\n",
    "#     ax2.plot(wslowk,lw=0.5,color='orange')\n",
    "#     ax2.plot(wslowd,lw=0.5,color='teal')\n",
    "#     ax2.axhline(y=20, color='b', linestyle='--',lw=0.5)\n",
    "#     ax2.axhline(y=80, color='b', linestyle='--',lw=0.5)\n",
    "\n",
    "#     ax2.vlines(wddf_entries.index,0,100, lw=0.5, color='blue')\n",
    "#     ax2.vlines(wddf_profits.index,0,100, lw=0.5, color='green')\n",
    "#     ax2.vlines(wddf_losses.index,0,100, lw=0.5, color='red')\n",
    "\n",
    "    if ddf_cap is not None:\n",
    "        ax3.plot(ddf_cap['cap'])\n",
    "        ax4.plot(wddf_trades['cap'])\n",
    "    \n",
    "#     ax5.plot(wdf['rsi'])\n",
    "    plt.show()\n",
    "    print(pf.stats())\n",
    "    print(pf.returns_stats())\n",
    "\n",
    "\n",
    "    \n",
    "sout = widgets.interactive_output(backtest, {\"sl\":slStopLoss, \"ts\": slTrailingStopLoss, \"tp\": slTakeProfit, \n",
    "#                                            \"ma1n\": slMa1N, \"ma2n\": slMa2N, \"ma1c\": slMa1c, \"ma2c\": slMa2c,\"trn\": slTrN, 'mrn': slMrN, 'xrr': slXrr,\n",
    "                                           \"bbtp\": slBBTP, \"bbup\": slBBUP, \"bbdn\": slBBDN, \"bbch\": slBBMACH,\n",
    "#                                            \"rsb\": slRSB\n",
    "                                          })\n",
    "    \n",
    "wout = widgets.interactive_output(showplt, {\"w2log\":sl_n2, \"w\":sl_w})\n",
    "\n",
    "display(sui, sout)\n",
    "display(wui, wout)\n",
    "\n",
    "@debug_view.capture(clear_output=True)\n",
    "def sout__(v):\n",
    "    print(v)\n",
    "    "
   ]
  },
  {
   "cell_type": "code",
   "execution_count": 76,
   "metadata": {},
   "outputs": [],
   "source": [
    "# sl_w.notify_change({'name': 'w', 'type': 'value'})\n",
    "# dir(sl_w)\n",
    "sl_w.value = sl_w.value + 1 if sl_w.value % 2 ==0 else sl_w.value - 1"
   ]
  },
  {
   "cell_type": "code",
   "execution_count": null,
   "metadata": {},
   "outputs": [],
   "source": []
  },
  {
   "cell_type": "code",
   "execution_count": 54,
   "metadata": {},
   "outputs": [
    {
     "data": {
      "text/plain": [
       "['_Output__counter',\n",
       " '__class__',\n",
       " '__del__',\n",
       " '__delattr__',\n",
       " '__dict__',\n",
       " '__dir__',\n",
       " '__doc__',\n",
       " '__enter__',\n",
       " '__eq__',\n",
       " '__exit__',\n",
       " '__format__',\n",
       " '__ge__',\n",
       " '__getattribute__',\n",
       " '__getstate__',\n",
       " '__gt__',\n",
       " '__hash__',\n",
       " '__init__',\n",
       " '__init_subclass__',\n",
       " '__le__',\n",
       " '__lt__',\n",
       " '__module__',\n",
       " '__ne__',\n",
       " '__new__',\n",
       " '__reduce__',\n",
       " '__reduce_ex__',\n",
       " '__repr__',\n",
       " '__setattr__',\n",
       " '__setstate__',\n",
       " '__sizeof__',\n",
       " '__str__',\n",
       " '__subclasshook__',\n",
       " '__weakref__',\n",
       " '_add_notifiers',\n",
       " '_append_stream_output',\n",
       " '_call_widget_constructed',\n",
       " '_comm_changed',\n",
       " '_compare',\n",
       " '_cross_validation_lock',\n",
       " '_default_keys',\n",
       " '_display_callbacks',\n",
       " '_dom_classes',\n",
       " '_flush',\n",
       " '_gen_repr_from_keys',\n",
       " '_get_embed_state',\n",
       " '_get_trait_default_generator',\n",
       " '_handle_custom_msg',\n",
       " '_handle_displayed',\n",
       " '_handle_msg',\n",
       " '_holding_sync',\n",
       " '_ipython_display_',\n",
       " '_is_numpy',\n",
       " '_lock_property',\n",
       " '_log_default',\n",
       " '_model_id',\n",
       " '_model_module',\n",
       " '_model_module_version',\n",
       " '_model_name',\n",
       " '_msg_callbacks',\n",
       " '_notify_observers',\n",
       " '_notify_trait',\n",
       " '_property_lock',\n",
       " '_register_validator',\n",
       " '_remove_notifiers',\n",
       " '_repr_keys',\n",
       " '_send',\n",
       " '_should_send_property',\n",
       " '_states_to_send',\n",
       " '_trait_default_generators',\n",
       " '_trait_from_json',\n",
       " '_trait_notifiers',\n",
       " '_trait_to_json',\n",
       " '_trait_validators',\n",
       " '_trait_values',\n",
       " '_view_count',\n",
       " '_view_module',\n",
       " '_view_module_version',\n",
       " '_view_name',\n",
       " '_widget_construction_callback',\n",
       " 'add_class',\n",
       " 'add_traits',\n",
       " 'append_display_data',\n",
       " 'append_stderr',\n",
       " 'append_stdout',\n",
       " 'capture',\n",
       " 'class_own_trait_events',\n",
       " 'class_own_traits',\n",
       " 'class_trait_names',\n",
       " 'class_traits',\n",
       " 'clear_output',\n",
       " 'close',\n",
       " 'close_all',\n",
       " 'comm',\n",
       " 'cross_validation_lock',\n",
       " 'get_manager_state',\n",
       " 'get_state',\n",
       " 'get_view_spec',\n",
       " 'handle_comm_opened',\n",
       " 'has_trait',\n",
       " 'hold_sync',\n",
       " 'hold_trait_notifications',\n",
       " 'keys',\n",
       " 'layout',\n",
       " 'log',\n",
       " 'model_id',\n",
       " 'msg_id',\n",
       " 'notify_change',\n",
       " 'observe',\n",
       " 'on_displayed',\n",
       " 'on_msg',\n",
       " 'on_trait_change',\n",
       " 'on_widget_constructed',\n",
       " 'open',\n",
       " 'outputs',\n",
       " 'remove_class',\n",
       " 'send',\n",
       " 'send_state',\n",
       " 'set_state',\n",
       " 'set_trait',\n",
       " 'setup_instance',\n",
       " 'trait_defaults',\n",
       " 'trait_events',\n",
       " 'trait_has_value',\n",
       " 'trait_metadata',\n",
       " 'trait_names',\n",
       " 'trait_values',\n",
       " 'traits',\n",
       " 'unobserve',\n",
       " 'unobserve_all',\n",
       " 'widget_types',\n",
       " 'widgets']"
      ]
     },
     "execution_count": 54,
     "metadata": {},
     "output_type": "execute_result"
    }
   ],
   "source": [
    "dir(wout)"
   ]
  },
  {
   "cell_type": "code",
   "execution_count": null,
   "metadata": {},
   "outputs": [],
   "source": []
  },
  {
   "cell_type": "code",
   "execution_count": null,
   "metadata": {},
   "outputs": [],
   "source": [
    "# bb = vbt.talib('BBANDS').run(ddf.close, timeperiod=2, nbdevup=2, nbdevdn=2)\n",
    "close_above_bblow = ddf.bb_lowerband > ddf.close\n",
    "sig = close_above_bblow & ~(close_above_bblow.shift(1, fill_value=False))\n",
    "sig[sig]"
   ]
  },
  {
   "cell_type": "code",
   "execution_count": null,
   "metadata": {},
   "outputs": [],
   "source": [
    "# dir(bb)\n",
    "# ddf['bb_lowerband'].vbt.above(1)\n",
    "#  above(ddf.close, crossover=True)\n",
    "len(ddf)"
   ]
  },
  {
   "cell_type": "code",
   "execution_count": null,
   "metadata": {},
   "outputs": [],
   "source": [
    "ddf.buy.vbt.signals.first()"
   ]
  },
  {
   "cell_type": "code",
   "execution_count": null,
   "metadata": {},
   "outputs": [],
   "source": []
  }
 ],
 "metadata": {
  "file_extension": ".py",
  "interpreter": {
   "hash": "9cd1802d11fdaa8b5e14fa01355949ba763388a191b1b5d281078f6b1e7bfc37"
  },
  "kernelspec": {
   "display_name": "py38",
   "language": "python",
   "name": "py38"
  },
  "language_info": {
   "codemirror_mode": {
    "name": "ipython",
    "version": 3
   },
   "file_extension": ".py",
   "mimetype": "text/x-python",
   "name": "python",
   "nbconvert_exporter": "python",
   "pygments_lexer": "ipython3",
   "version": "3.8.10"
  },
  "mimetype": "text/x-python",
  "name": "python",
  "npconvert_exporter": "python",
  "pygments_lexer": "ipython3",
  "toc": {
   "base_numbering": 1,
   "nav_menu": {},
   "number_sections": true,
   "sideBar": true,
   "skip_h1_title": false,
   "title_cell": "Table of Contents",
   "title_sidebar": "Contents",
   "toc_cell": false,
   "toc_position": {},
   "toc_section_display": true,
   "toc_window_display": false
  },
  "varInspector": {
   "cols": {
    "lenName": 16,
    "lenType": 16,
    "lenVar": 40
   },
   "kernels_config": {
    "python": {
     "delete_cmd_postfix": "",
     "delete_cmd_prefix": "del ",
     "library": "var_list.py",
     "varRefreshCmd": "print(var_dic_list())"
    },
    "r": {
     "delete_cmd_postfix": ") ",
     "delete_cmd_prefix": "rm(",
     "library": "var_list.r",
     "varRefreshCmd": "cat(var_dic_list()) "
    }
   },
   "types_to_exclude": [
    "module",
    "function",
    "builtin_function_or_method",
    "instance",
    "_Feature"
   ],
   "window_display": false
  },
  "version": 3
 },
 "nbformat": 4,
 "nbformat_minor": 4
}
