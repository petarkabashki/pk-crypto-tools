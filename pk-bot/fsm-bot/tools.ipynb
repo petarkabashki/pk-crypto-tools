{
 "cells": [
  {
   "cell_type": "code",
   "execution_count": 1,
   "metadata": {},
   "outputs": [
    {
     "data": {
      "text/plain": [
       "True"
      ]
     },
     "execution_count": 1,
     "metadata": {},
     "output_type": "execute_result"
    }
   ],
   "source": [
    "from transitions import Machine\n",
    "\n",
    "from transitions.extensions.asyncio import AsyncTimeout, AsyncMachine\n",
    "\n",
    "import enum \n",
    "import logging\n",
    "import asyncio\n",
    "\n",
    "from pymongo import MongoClient\n",
    "from bson.objectid import ObjectId\n",
    "import uuid\n",
    "from pprint import pprint\n",
    "\n",
    "from datetime import datetime\n",
    "from math import floor, ceil\n",
    "import time\n",
    "from time import sleep\n",
    "\n",
    "import sys\n",
    "import os\n",
    "\n",
    "import zmq\n",
    "import zmq.asyncio\n",
    "# from s import Context\n",
    "import json\n",
    "\n",
    "logging.basicConfig(level=logging.INFO)\n",
    "\n",
    "import ccxt\n",
    "from dotenv import load_dotenv\n",
    "load_dotenv()\n"
   ]
  },
  {
   "cell_type": "code",
   "execution_count": 2,
   "metadata": {},
   "outputs": [],
   "source": [
    "client = MongoClient()\n",
    "db=client.fsmbot\n",
    "# trades = {}\n",
    "exchange = getattr(ccxt, 'binance')({'apiKey': os.getenv('BINANCE_API_KEY'), 'secret': os.getenv('BINANCE_API_SECRET')})\n",
    "\n"
   ]
  },
  {
   "cell_type": "code",
   "execution_count": null,
   "metadata": {},
   "outputs": [],
   "source": [
    "# exchange.fetchOrderStatus('686722117', symbol='ALGOUSDT')\n",
    "exchange.fetchOpenOrders(symbol='ALGOUSDT')"
   ]
  },
  {
   "cell_type": "code",
   "execution_count": 36,
   "metadata": {},
   "outputs": [
    {
     "data": {
      "text/plain": [
       "'closed'"
      ]
     },
     "execution_count": 36,
     "metadata": {},
     "output_type": "execute_result"
    }
   ],
   "source": [
    "exchange.fetchOrderStatus('686722117', symbol='ALGOUSDT')\n",
    "# exchange.fetchOrders(symbol='ALGOUSDT')"
   ]
  },
  {
   "cell_type": "code",
   "execution_count": null,
   "metadata": {},
   "outputs": [],
   "source": [
    "# test ticker zmq publisher\n",
    "zContext = zmq.asyncio.Context()\n",
    "\n",
    "socket = zContext.socket(zmq.SUB)\n",
    "socket.connect(\"tcp://localhost:5556\")\n",
    "socket.setsockopt_string(zmq.SUBSCRIBE, 'TICKER')\n",
    "\n",
    "while True:\n",
    "    tickerString = await socket.recv_string()\n",
    "    _, symbol, ticker = tickerString.split()\n",
    "    ticker = json.loads(ticker)\n",
    "    if symbol == 'BNBUSDT':\n",
    "        print(ticker)\n"
   ]
  },
  {
   "cell_type": "code",
   "execution_count": 4,
   "metadata": {},
   "outputs": [
    {
     "name": "stdout",
     "output_type": "stream",
     "text": [
      "BOOOOM\n"
     ]
    }
   ],
   "source": [
    "try:\n",
    "    raise Exception('BOOOOM')\n",
    "except BaseException as err:\n",
    "    print(err)\n"
   ]
  },
  {
   "cell_type": "code",
   "execution_count": 5,
   "metadata": {},
   "outputs": [
    {
     "data": {
      "text/plain": [
       "2749.89"
      ]
     },
     "execution_count": 5,
     "metadata": {},
     "output_type": "execute_result"
    }
   ],
   "source": [
    "(504 - 471) * 83.33"
   ]
  },
  {
   "cell_type": "code",
   "execution_count": null,
   "metadata": {},
   "outputs": [],
   "source": []
  }
 ],
 "metadata": {
  "interpreter": {
   "hash": "f0efd89945ffcdb19dfb6b1d82577bc29320d98cd998110bbfca989effc5b488"
  },
  "kernelspec": {
   "display_name": "Python 3.8.11 64-bit ('py38': conda)",
   "name": "python3"
  },
  "language_info": {
   "codemirror_mode": {
    "name": "ipython",
    "version": 3
   },
   "file_extension": ".py",
   "mimetype": "text/x-python",
   "name": "python",
   "nbconvert_exporter": "python",
   "pygments_lexer": "ipython3",
   "version": "3.8.11"
  },
  "orig_nbformat": 4
 },
 "nbformat": 4,
 "nbformat_minor": 2
}
