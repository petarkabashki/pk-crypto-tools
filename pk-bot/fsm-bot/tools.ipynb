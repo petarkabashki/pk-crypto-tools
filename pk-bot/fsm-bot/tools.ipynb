{
 "cells": [
  {
   "cell_type": "code",
   "execution_count": 23,
   "source": [
    "from transitions import Machine\n",
    "\n",
    "from transitions.extensions.asyncio import AsyncTimeout, AsyncMachine\n",
    "\n",
    "import enum \n",
    "import logging\n",
    "import asyncio\n",
    "\n",
    "from pymongo import MongoClient\n",
    "from bson.objectid import ObjectId\n",
    "import uuid\n",
    "from pprint import pprint\n",
    "\n",
    "from datetime import datetime\n",
    "from math import floor, ceil\n",
    "import time\n",
    "from time import sleep\n",
    "\n",
    "import sys\n",
    "import os\n",
    "\n",
    "import zmq\n",
    "import zmq.asyncio\n",
    "# from s import Context\n",
    "import json\n",
    "\n",
    "logging.basicConfig(level=logging.INFO)\n",
    "\n",
    "import ccxt\n",
    "from dotenv import load_dotenv\n",
    "load_dotenv()\n"
   ],
   "outputs": [
    {
     "output_type": "execute_result",
     "data": {
      "text/plain": [
       "True"
      ]
     },
     "metadata": {},
     "execution_count": 23
    }
   ],
   "metadata": {}
  },
  {
   "cell_type": "code",
   "execution_count": 24,
   "source": [
    "client = MongoClient()\n",
    "db=client.fsmbot\n",
    "# trades = {}\n",
    "exchange = getattr(ccxt, 'binance')({'apiKey': os.getenv('BINANCE_API_KEY'), 'secret': os.getenv('BINANCE_API_SECRET')})\n",
    "\n"
   ],
   "outputs": [],
   "metadata": {}
  },
  {
   "cell_type": "code",
   "execution_count": 39,
   "source": [
    "# exchange.fetchOrderStatus('686722117', symbol='ALGOUSDT')\n",
    "exchange.fetchOpenOrders(symbol='ALGOUSDT')"
   ],
   "outputs": [
    {
     "output_type": "execute_result",
     "data": {
      "text/plain": [
       "[{'info': {'symbol': 'ALGOUSDT',\n",
       "   'orderId': '686886090',\n",
       "   'orderListId': '-1',\n",
       "   'clientOrderId': 'zenk7KI8LCXLkLdQuVBMIU',\n",
       "   'price': '1.59620000',\n",
       "   'origQty': '14.00000000',\n",
       "   'executedQty': '0.00000000',\n",
       "   'cummulativeQuoteQty': '0.00000000',\n",
       "   'status': 'NEW',\n",
       "   'timeInForce': 'GTC',\n",
       "   'type': 'STOP_LOSS_LIMIT',\n",
       "   'side': 'SELL',\n",
       "   'stopPrice': '1.77350000',\n",
       "   'icebergQty': '0.00000000',\n",
       "   'time': '1633577559238',\n",
       "   'updateTime': '1633577559238',\n",
       "   'isWorking': False,\n",
       "   'origQuoteOrderQty': '0.00000000'},\n",
       "  'id': '686886090',\n",
       "  'clientOrderId': 'zenk7KI8LCXLkLdQuVBMIU',\n",
       "  'timestamp': 1633577559238,\n",
       "  'datetime': '2021-10-07T03:32:39.238Z',\n",
       "  'lastTradeTimestamp': None,\n",
       "  'symbol': 'ALGO/USDT',\n",
       "  'type': 'stop_loss_limit',\n",
       "  'timeInForce': 'GTC',\n",
       "  'postOnly': False,\n",
       "  'side': 'sell',\n",
       "  'price': 1.5962,\n",
       "  'stopPrice': 1.7735,\n",
       "  'amount': 14.0,\n",
       "  'cost': 0.0,\n",
       "  'average': None,\n",
       "  'filled': 0.0,\n",
       "  'remaining': 14.0,\n",
       "  'status': 'open',\n",
       "  'fee': None,\n",
       "  'trades': [],\n",
       "  'fees': []}]"
      ]
     },
     "metadata": {},
     "execution_count": 39
    }
   ],
   "metadata": {}
  },
  {
   "cell_type": "code",
   "execution_count": 36,
   "source": [
    "exchange.fetchOrderStatus('686722117', symbol='ALGOUSDT')\n",
    "# exchange.fetchOrders(symbol='ALGOUSDT')"
   ],
   "outputs": [
    {
     "output_type": "execute_result",
     "data": {
      "text/plain": [
       "'closed'"
      ]
     },
     "metadata": {},
     "execution_count": 36
    }
   ],
   "metadata": {}
  },
  {
   "cell_type": "code",
   "execution_count": 8,
   "source": [
    "def buyOrder(symbol, status, qty, trigger, stop, target):\n",
    "    datecreated = datetime.now().strftime(\"%Y-%m-%dT%H:%M:%S\")\n",
    "    db.trades.insert_many([\n",
    "        {\n",
    "            \"id\": f\"{symbol}_{datecreated}\",\n",
    "            \"datecreated\" : datecreated,\n",
    "            \"state\": 'LIVE',\n",
    "            \"symbol\" : symbol,\n",
    "            \"trigger\": trigger,\n",
    "            \"stop\": stop,\n",
    "            \"target\": target,\n",
    "            \"qty\": qty\n",
    "        }\n",
    "    ]);\n",
    "\n",
    "def sellOrder(symbol, status, qty, target):\n",
    "    datecreated = datetime.now().strftime(\"%Y-%m-%dT%H:%M:%S\")\n",
    "    db.trades.insert_many([\n",
    "        {\n",
    "            \"id\": f\"{symbol}_{datecreated}\",\n",
    "            \"datecreated\" : datecreated,\n",
    "            \"state\": status,\n",
    "            \"symbol\" : symbol,\n",
    "            \"target\": target,\n",
    "            \"qty\": qty\n",
    "        }\n",
    "    ]);    "
   ],
   "outputs": [],
   "metadata": {}
  },
  {
   "cell_type": "code",
   "execution_count": 48,
   "source": [
    "status = \"new\"\n",
    "size = 15\n",
    "symbol = \"ADAUSDT\"\n",
    "buyTarget = \"2.2\"\n",
    "buyStop = \"38.00\"\n",
    "sellTarget = \"3\"\n",
    "datecreated = datetime.now().strftime(\"%Y-%m-%dT%H:%M:%S\")\n",
    "\n",
    "trades.insert_many([\n",
    "    {\n",
    "        \"id\": f\"{symbol}_{datecreated}\",\n",
    "        \"datecreated\" : datecreated,\n",
    "        \"status\": status,\n",
    "        \"symbol\" : symbol,\n",
    "        \"buyTarget\": buyTarget,\n",
    "        \"buyStop\": buyStop,\n",
    "        \"sellTarget\": sellTarget,\n",
    "        \"size\": size\n",
    "    }\n",
    "])"
   ],
   "outputs": [
    {
     "output_type": "execute_result",
     "data": {
      "text/plain": [
       "<pymongo.results.InsertManyResult at 0x7f6914bf43c0>"
      ]
     },
     "metadata": {},
     "execution_count": 48
    }
   ],
   "metadata": {}
  },
  {
   "cell_type": "code",
   "execution_count": 5,
   "source": [
    "capital = 50000.0\n",
    "risk = 0.01\n",
    "\n",
    "symbol = \"AVAXUSDT\"\n",
    "trigger = 65.35\n",
    "stop = 63.68\n",
    "target = 73.16\n",
    "# (capital * risk) = (trigger - stop) * qty\n",
    "qty = (capital * risk) / (trigger - stop)\n",
    "size = qty * trigger\n",
    "# buyOrder(symbol, \"buyat\", size, stop, target)\n",
    "qty, size"
   ],
   "outputs": [
    {
     "output_type": "execute_result",
     "data": {
      "text/plain": [
       "(299.4011976047914, 19565.868263473116)"
      ]
     },
     "metadata": {},
     "execution_count": 5
    }
   ],
   "metadata": {}
  },
  {
   "cell_type": "code",
   "execution_count": 1,
   "source": [],
   "outputs": [],
   "metadata": {}
  },
  {
   "cell_type": "code",
   "execution_count": 7,
   "source": [
    "(capital, risk) = 50000, 0.01\n",
    "symbol = 'ALGOUSDT'\n",
    "(trigger, stop, target) = 1.8930, 1.8533, 1.9837\n",
    "qty = floor( (capital * risk) / (trigger - stop) )\n",
    "size = qty * trigger\n",
    "buyOrder(symbol, \"buyat\", qty, trigger, stop, target)\n",
    "qty, size"
   ],
   "outputs": [
    {
     "output_type": "execute_result",
     "data": {
      "text/plain": [
       "(12594, 23840.442)"
      ]
     },
     "metadata": {},
     "execution_count": 7
    }
   ],
   "metadata": {}
  },
  {
   "cell_type": "code",
   "execution_count": 29,
   "source": [
    "# test ticker zmq publisher\n",
    "# zContext = zmq.asyncio.Context()\n",
    "\n",
    "socket = zContext.socket(zmq.SUB)\n",
    "socket.connect(\"tcp://localhost:5556\")\n",
    "socket.setsockopt_string(zmq.SUBSCRIBE, 'TICKER')\n",
    "\n",
    "while True:\n",
    "    tickerString = await socket.recv_string()\n",
    "    _, symbol, ticker = tickerString.split()\n",
    "    ticker = json.loads(ticker)\n",
    "    if symbol == 'BTCUSDT':\n",
    "        print(symbol)\n"
   ],
   "outputs": [
    {
     "output_type": "stream",
     "name": "stdout",
     "text": [
      "BTCUSDT\n",
      "BTCUSDT\n",
      "BTCUSDT\n",
      "BTCUSDT\n",
      "BTCUSDT\n"
     ]
    },
    {
     "output_type": "error",
     "ename": "CancelledError",
     "evalue": "",
     "traceback": [
      "\u001b[0;31m---------------------------------------------------------------------------\u001b[0m",
      "\u001b[0;31mCancelledError\u001b[0m                            Traceback (most recent call last)",
      "\u001b[0;32m/tmp/ipykernel_172853/2093437592.py\u001b[0m in \u001b[0;36m<module>\u001b[0;34m\u001b[0m\n\u001b[1;32m      7\u001b[0m \u001b[0;34m\u001b[0m\u001b[0m\n\u001b[1;32m      8\u001b[0m \u001b[0;32mwhile\u001b[0m \u001b[0;32mTrue\u001b[0m\u001b[0;34m:\u001b[0m\u001b[0;34m\u001b[0m\u001b[0;34m\u001b[0m\u001b[0m\n\u001b[0;32m----> 9\u001b[0;31m     \u001b[0mtickerString\u001b[0m \u001b[0;34m=\u001b[0m \u001b[0;32mawait\u001b[0m \u001b[0msocket\u001b[0m\u001b[0;34m.\u001b[0m\u001b[0mrecv_string\u001b[0m\u001b[0;34m(\u001b[0m\u001b[0;34m)\u001b[0m\u001b[0;34m\u001b[0m\u001b[0;34m\u001b[0m\u001b[0m\n\u001b[0m\u001b[1;32m     10\u001b[0m     \u001b[0m_\u001b[0m\u001b[0;34m,\u001b[0m \u001b[0msymbol\u001b[0m\u001b[0;34m,\u001b[0m \u001b[0mticker\u001b[0m \u001b[0;34m=\u001b[0m \u001b[0mtickerString\u001b[0m\u001b[0;34m.\u001b[0m\u001b[0msplit\u001b[0m\u001b[0;34m(\u001b[0m\u001b[0;34m)\u001b[0m\u001b[0;34m\u001b[0m\u001b[0;34m\u001b[0m\u001b[0m\n\u001b[1;32m     11\u001b[0m     \u001b[0mticker\u001b[0m \u001b[0;34m=\u001b[0m \u001b[0mjson\u001b[0m\u001b[0;34m.\u001b[0m\u001b[0mloads\u001b[0m\u001b[0;34m(\u001b[0m\u001b[0mticker\u001b[0m\u001b[0;34m)\u001b[0m\u001b[0;34m\u001b[0m\u001b[0;34m\u001b[0m\u001b[0m\n",
      "\u001b[0;31mCancelledError\u001b[0m: "
     ]
    }
   ],
   "metadata": {}
  },
  {
   "cell_type": "code",
   "execution_count": 16,
   "source": [
    "try:\n",
    "    raise Exception('BOOOOM')\n",
    "except BaseException as err:\n",
    "    print(err)\n"
   ],
   "outputs": [
    {
     "output_type": "stream",
     "name": "stdout",
     "text": [
      "BOOOOM\n"
     ]
    }
   ],
   "metadata": {}
  },
  {
   "cell_type": "code",
   "execution_count": null,
   "source": [],
   "outputs": [],
   "metadata": {}
  }
 ],
 "metadata": {
  "orig_nbformat": 4,
  "language_info": {
   "name": "python",
   "version": "3.8.11",
   "mimetype": "text/x-python",
   "codemirror_mode": {
    "name": "ipython",
    "version": 3
   },
   "pygments_lexer": "ipython3",
   "nbconvert_exporter": "python",
   "file_extension": ".py"
  },
  "kernelspec": {
   "name": "python3",
   "display_name": "Python 3.8.11 64-bit ('py38': conda)"
  },
  "interpreter": {
   "hash": "2b64b82ed447a7d153a9c78a0705e81a741fff6a0d399ac51b9f2a89a43d4916"
  }
 },
 "nbformat": 4,
 "nbformat_minor": 2
}