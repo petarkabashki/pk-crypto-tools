{
 "cells": [
  {
   "cell_type": "code",
   "execution_count": 1,
   "metadata": {},
   "outputs": [],
   "source": [
    "from transitions import Machine\n",
    "\n",
    "from transitions.extensions.asyncio import AsyncTimeout, AsyncMachine\n",
    "\n",
    "import enum \n",
    "import logging\n",
    "import asyncio\n",
    "\n",
    "from pymongo import MongoClient\n",
    "from bson.objectid import ObjectId\n",
    "import uuid\n",
    "from pprint import pprint\n",
    "\n",
    "from datetime import datetime\n",
    "from math import floor, ceil\n",
    "import time\n",
    "from time import sleep\n",
    "\n",
    "import sys\n",
    "import os\n",
    "\n",
    "import zmq\n",
    "import zmq.asyncio\n",
    "# from s import Context\n",
    "import json\n",
    "\n",
    "logging.basicConfig(level=logging.INFO)\n",
    "\n",
    "from dotenv import load_dotenv\n",
    "load_dotenv()\n",
    "\n",
    "import ccxt\n",
    "\n"
   ]
  },
  {
   "cell_type": "code",
   "execution_count": 3,
   "metadata": {},
   "outputs": [],
   "source": [
    "exchanges = {\n",
    "    'binance': getattr(ccxt, 'binance')({'apiKey': os.getenv('BINANCE_API_KEY'), 'secret': os.getenv('BINANCE_API_SECRET')}),\n",
    "    'kucoin': getattr(ccxt, 'kucoin')({'apiKey': os.getenv('KUCOIN_API_KEY'), 'secret': os.getenv('KUCOIN_API_SECRET'), 'password': os.getenv('KUCOIN_API_PASSWORD')})\n",
    "    # 'ftx': getattr(ccxt, 'ftx')({'apiKey': os.getenv('FTX_API_KEY'), 'secret': os.getenv('FTX_API_SECRET')})\n",
    "}"
   ]
  },
  {
   "cell_type": "code",
   "execution_count": 4,
   "metadata": {},
   "outputs": [
    {
     "data": {
      "text/plain": [
       "[]"
      ]
     },
     "execution_count": 4,
     "metadata": {},
     "output_type": "execute_result"
    }
   ],
   "source": [
    "exchange = exchanges['kucoin']\n",
    "exchange.fetchOpenOrders(symbol='DOT/USDT')"
   ]
  },
  {
   "cell_type": "code",
   "execution_count": 1,
   "metadata": {},
   "outputs": [
    {
     "ename": "NameError",
     "evalue": "name 'MongoClient' is not defined",
     "output_type": "error",
     "traceback": [
      "\u001b[0;31m---------------------------------------------------------------------------\u001b[0m",
      "\u001b[0;31mNameError\u001b[0m                                 Traceback (most recent call last)",
      "\u001b[0;32m/tmp/ipykernel_311452/292809675.py\u001b[0m in \u001b[0;36m<module>\u001b[0;34m\u001b[0m\n\u001b[0;32m----> 1\u001b[0;31m \u001b[0mclient\u001b[0m \u001b[0;34m=\u001b[0m \u001b[0mMongoClient\u001b[0m\u001b[0;34m(\u001b[0m\u001b[0;34m)\u001b[0m\u001b[0;34m\u001b[0m\u001b[0;34m\u001b[0m\u001b[0m\n\u001b[0m\u001b[1;32m      2\u001b[0m \u001b[0mdb\u001b[0m\u001b[0;34m=\u001b[0m\u001b[0mclient\u001b[0m\u001b[0;34m.\u001b[0m\u001b[0mfsmbot\u001b[0m\u001b[0;34m\u001b[0m\u001b[0;34m\u001b[0m\u001b[0m\n\u001b[1;32m      3\u001b[0m \u001b[0;31m# trades = {}\u001b[0m\u001b[0;34m\u001b[0m\u001b[0;34m\u001b[0m\u001b[0;34m\u001b[0m\u001b[0m\n\u001b[1;32m      4\u001b[0m \u001b[0;34m\u001b[0m\u001b[0m\n",
      "\u001b[0;31mNameError\u001b[0m: name 'MongoClient' is not defined"
     ]
    }
   ],
   "source": [
    "client = MongoClient()\n",
    "db=client.fsmbot\n",
    "# trades = {}\n",
    "\n"
   ]
  },
  {
   "cell_type": "code",
   "execution_count": null,
   "metadata": {},
   "outputs": [],
   "source": [
    "# exchange.fetchOrderStatus('686722117', symbol='ALGOUSDT')\n",
    "exchange.fetchOpenOrders(symbol='DOTUSDT')"
   ]
  },
  {
   "cell_type": "code",
   "execution_count": null,
   "metadata": {},
   "outputs": [],
   "source": [
    "# exchange.fetchOrderStatus('686722117', symbol='ALGOUSDT')\n",
    "exchange.privateDeleteOrderList({'symbol': 'ADAUSDT', 'orderListId': '50105881'})\n",
    "# exchange.fetchOrders(symbol='ALGOUSDT')"
   ]
  },
  {
   "cell_type": "code",
   "execution_count": 2,
   "metadata": {},
   "outputs": [
    {
     "name": "stdout",
     "output_type": "stream",
     "text": [
      "{'eventType': '24hrTicker', 'eventTime': 1636837455273, 'symbol': 'ADAUSDT', 'priceChange': '-0.01400000', 'priceChangePercent': '-0.679', 'weightedAvg': '2.05166421', 'prevDayClose': '2.06300000', 'curDayClose': '2.04900000', 'closeTradeQuantity': '1178.50000000', 'bestBid': '2.04800000', 'bestBidQnt': '34913.80000000', 'bestAsk': '2.04900000', 'bestAskQnt': '35645.10000000', 'open': '2.06300000', 'high': '2.08000000', 'low': '2.02100000', 'volume': '88564614.30000000', 'volumeQuote': '181704849.24120000', 'openTime': 1636751055237, 'closeTime': 1636837455237, 'firstTradeId': 316362322, 'lastTradeId': 316686750, 'totalTrades': 324429}\n",
      "{'eventType': '24hrTicker', 'eventTime': 1636837456261, 'symbol': 'ADAUSDT', 'priceChange': '-0.01400000', 'priceChangePercent': '-0.679', 'weightedAvg': '2.05166414', 'prevDayClose': '2.06200000', 'curDayClose': '2.04900000', 'closeTradeQuantity': '1178.50000000', 'bestBid': '2.04800000', 'bestBidQnt': '38349.40000000', 'bestAsk': '2.04900000', 'bestAskQnt': '44484.40000000', 'open': '2.06300000', 'high': '2.08000000', 'low': '2.02100000', 'volume': '88564109.90000000', 'volumeQuote': '181703808.80110000', 'openTime': 1636751056261, 'closeTime': 1636837456261, 'firstTradeId': 316362325, 'lastTradeId': 316686750, 'totalTrades': 324426}\n",
      "{'eventType': '24hrTicker', 'eventTime': 1636837457233, 'symbol': 'ADAUSDT', 'priceChange': '-0.01400000', 'priceChangePercent': '-0.679', 'weightedAvg': '2.05166404', 'prevDayClose': '2.06200000', 'curDayClose': '2.04900000', 'closeTradeQuantity': '4.90000000', 'bestBid': '2.04800000', 'bestBidQnt': '34369.20000000', 'bestAsk': '2.04900000', 'bestAskQnt': '44479.50000000', 'open': '2.06300000', 'high': '2.08000000', 'low': '2.02100000', 'volume': '88566614.80000000', 'volumeQuote': '181708938.84120000', 'openTime': 1636751057163, 'closeTime': 1636837457163, 'firstTradeId': 316362325, 'lastTradeId': 316686753, 'totalTrades': 324429}\n",
      "{'eventType': '24hrTicker', 'eventTime': 1636837458154, 'symbol': 'ADAUSDT', 'priceChange': '-0.01400000', 'priceChangePercent': '-0.679', 'weightedAvg': '2.05166404', 'prevDayClose': '2.06200000', 'curDayClose': '2.04900000', 'closeTradeQuantity': '72.90000000', 'bestBid': '2.04800000', 'bestBidQnt': '33601.90000000', 'bestAsk': '2.04900000', 'bestAskQnt': '44406.30000000', 'open': '2.06300000', 'high': '2.08000000', 'low': '2.02100000', 'volume': '88566682.80000000', 'volumeQuote': '181709078.17320000', 'openTime': 1636751057851, 'closeTime': 1636837457851, 'firstTradeId': 316362325, 'lastTradeId': 316686754, 'totalTrades': 324430}\n",
      "{'eventType': '24hrTicker', 'eventTime': 1636837459235, 'symbol': 'ADAUSDT', 'priceChange': '-0.01400000', 'priceChangePercent': '-0.679', 'weightedAvg': '2.05166390', 'prevDayClose': '2.06300000', 'curDayClose': '2.04800000', 'closeTradeQuantity': '2068.90000000', 'bestBid': '2.04800000', 'bestBidQnt': '30344.90000000', 'bestAsk': '2.04900000', 'bestAskQnt': '44388.70000000', 'open': '2.06200000', 'high': '2.08000000', 'low': '2.02100000', 'volume': '88568341.50000000', 'volumeQuote': '181712469.03780000', 'openTime': 1636751059234, 'closeTime': 1636837459234, 'firstTradeId': 316362330, 'lastTradeId': 316686755, 'totalTrades': 324426}\n"
     ]
    },
    {
     "ename": "CancelledError",
     "evalue": "",
     "output_type": "error",
     "traceback": [
      "\u001b[0;31m---------------------------------------------------------------------------\u001b[0m",
      "\u001b[0;31mCancelledError\u001b[0m                            Traceback (most recent call last)",
      "\u001b[0;32m/tmp/ipykernel_312068/2297684121.py\u001b[0m in \u001b[0;36m<module>\u001b[0;34m\u001b[0m\n\u001b[1;32m      7\u001b[0m \u001b[0;34m\u001b[0m\u001b[0m\n\u001b[1;32m      8\u001b[0m \u001b[0;32mwhile\u001b[0m \u001b[0;32mTrue\u001b[0m\u001b[0;34m:\u001b[0m\u001b[0;34m\u001b[0m\u001b[0;34m\u001b[0m\u001b[0m\n\u001b[0;32m----> 9\u001b[0;31m     \u001b[0mtickerString\u001b[0m \u001b[0;34m=\u001b[0m \u001b[0;32mawait\u001b[0m \u001b[0msocket\u001b[0m\u001b[0;34m.\u001b[0m\u001b[0mrecv_string\u001b[0m\u001b[0;34m(\u001b[0m\u001b[0;34m)\u001b[0m\u001b[0;34m\u001b[0m\u001b[0;34m\u001b[0m\u001b[0m\n\u001b[0m\u001b[1;32m     10\u001b[0m     \u001b[0m_\u001b[0m\u001b[0;34m,\u001b[0m \u001b[0mexchange\u001b[0m\u001b[0;34m,\u001b[0m \u001b[0msymbol\u001b[0m\u001b[0;34m,\u001b[0m \u001b[0mticker\u001b[0m \u001b[0;34m=\u001b[0m \u001b[0mtickerString\u001b[0m\u001b[0;34m.\u001b[0m\u001b[0msplit\u001b[0m\u001b[0;34m(\u001b[0m\u001b[0;34m)\u001b[0m\u001b[0;34m\u001b[0m\u001b[0;34m\u001b[0m\u001b[0m\n\u001b[1;32m     11\u001b[0m     \u001b[0mticker\u001b[0m \u001b[0;34m=\u001b[0m \u001b[0mjson\u001b[0m\u001b[0;34m.\u001b[0m\u001b[0mloads\u001b[0m\u001b[0;34m(\u001b[0m\u001b[0mticker\u001b[0m\u001b[0;34m)\u001b[0m\u001b[0;34m\u001b[0m\u001b[0;34m\u001b[0m\u001b[0m\n",
      "\u001b[0;31mCancelledError\u001b[0m: "
     ]
    }
   ],
   "source": [
    "# test ticker zmq publisher\n",
    "zContext = zmq.asyncio.Context()\n",
    "\n",
    "socket = zContext.socket(zmq.SUB)\n",
    "socket.connect(\"tcp://localhost:5556\")\n",
    "socket.setsockopt_string(zmq.SUBSCRIBE, 'TICKER')\n",
    "\n",
    "while True:\n",
    "    tickerString = await socket.recv_string()\n",
    "    _, exchange, symbol, ticker = tickerString.split()\n",
    "    ticker = json.loads(ticker)\n",
    "    if symbol == 'ADAUSDT':\n",
    "        print(ticker)\n"
   ]
  },
  {
   "cell_type": "code",
   "execution_count": null,
   "metadata": {},
   "outputs": [
    {
     "name": "stdout",
     "output_type": "stream",
     "text": [
      "BOOOOM\n"
     ]
    }
   ],
   "source": [
    "try:\n",
    "    raise Exception('BOOOOM')\n",
    "except BaseException as err:\n",
    "    print(err)\n"
   ]
  },
  {
   "cell_type": "code",
   "execution_count": null,
   "metadata": {},
   "outputs": [],
   "source": [
    "# exchange.load_markets()\n",
    "\n",
    "symbol = 'ADA/USDT'\n",
    "market = exchange.market(symbol)\n",
    "amount = 20.0\n",
    "\n",
    "exchange.fetchTicker(symbol)\n",
    "ticker = exchange.fetchTicker(symbol)\n",
    "last_price = ticker['last']\n",
    "last_price + 0.02"
   ]
  },
  {
   "cell_type": "code",
   "execution_count": null,
   "metadata": {},
   "outputs": [],
   "source": [
    "# exchange.load_markets()\n",
    "# exchange.market('ADAUSDT')\n",
    "# exchange.amount_to_precision('ADAUSDT', 1.11111111111)\n",
    "exchange.fetch_order('50102787', 'ADAUSDT')"
   ]
  },
  {
   "cell_type": "code",
   "execution_count": 15,
   "metadata": {},
   "outputs": [
    {
     "name": "stdout",
     "output_type": "stream",
     "text": [
      "{'orderListId': '50091666', 'contingencyType': 'OCO', 'listStatusType': 'EXEC_STARTED', 'listOrderStatus': 'EXECUTING', 'listClientOrderId': 'sKVIkCZf3EYIHStRnMSszf', 'transactionTime': '1635801996544', 'symbol': 'ADAUSDT', 'orders': [{'symbol': 'ADAUSDT', 'orderId': '2551057287', 'clientOrderId': '72X4IpGOgPX01McQ5v5dA3'}, {'symbol': 'ADAUSDT', 'orderId': '2551057288', 'clientOrderId': 'AuAYiymOoI51VSlYDQmCcA'}], 'orderReports': [{'symbol': 'ADAUSDT', 'orderId': '2551057287', 'orderListId': '50091666', 'clientOrderId': '72X4IpGOgPX01McQ5v5dA3', 'transactTime': '1635801996544', 'price': '1.90000000', 'origQty': '20.00000000', 'executedQty': '0.00000000', 'cummulativeQuoteQty': '0.00000000', 'status': 'NEW', 'timeInForce': 'GTC', 'type': 'STOP_LOSS_LIMIT', 'side': 'SELL', 'stopPrice': '1.92000000'}, {'symbol': 'ADAUSDT', 'orderId': '2551057288', 'orderListId': '50091666', 'clientOrderId': 'AuAYiymOoI51VSlYDQmCcA', 'transactTime': '1635801996544', 'price': '1.96000000', 'origQty': '20.00000000', 'executedQty': '0.00000000', 'cummulativeQuoteQty': '0.00000000', 'status': 'NEW', 'timeInForce': 'GTC', 'type': 'LIMIT_MAKER', 'side': 'SELL'}]}\n"
     ]
    }
   ],
   "source": [
    "\n",
    "symbol = 'ADA/USDT'\n",
    "market = exchange.market(symbol)\n",
    "amount = 20.0\n",
    "\n",
    "exchange.fetchTicker(symbol)\n",
    "ticker = exchange.fetchTicker(symbol)\n",
    "last_price = ticker['last']\n",
    "\n",
    "# price = 1.961\n",
    "# stop_price = 1.921\n",
    "# stop_limit_price = 1.901\n",
    "price = last_price + 0.02\n",
    "stop_price = last_price - 0.02\n",
    "stop_limit_price = stop_price  - 0.02\n",
    "\n",
    "response = exchange.private_post_order_oco({\n",
    "    'symbol': market['id'],\n",
    "    'side': 'SELL',  # SELL, BUY\n",
    "    'quantity': exchange.amount_to_precision(symbol, amount),\n",
    "    'price': exchange.price_to_precision(symbol, price),\n",
    "    'stopPrice': exchange.price_to_precision(symbol, stop_price),\n",
    "    'stopLimitPrice': exchange.price_to_precision(symbol, stop_limit_price),  # If provided, stopLimitTimeInForce is required\n",
    "    'stopLimitTimeInForce': 'GTC',  # GTC, FOK, IOC\n",
    "    # 'listClientOrderId': exchange.uuid(),  # A unique Id for the entire orderList\n",
    "    # 'limitClientOrderId': exchange.uuid(),  # A unique Id for the limit order\n",
    "    # 'limitIcebergQty': exchangea.amount_to_precision(symbol, limit_iceberg_quantity),\n",
    "    # 'stopClientOrderId': exchange.uuid()  # A unique Id for the stop loss/stop loss limit leg\n",
    "    # 'stopIcebergQty': exchange.amount_to_precision(symbol, stop_iceberg_quantity),\n",
    "    # 'newOrderRespType': 'ACK',  # ACK, RESULT, FULL\n",
    "})\n",
    "print(response)"
   ]
  },
  {
   "cell_type": "code",
   "execution_count": 19,
   "metadata": {},
   "outputs": [
    {
     "data": {
      "text/plain": [
       "{'info': {'orderListId': '50091666',\n",
       "  'contingencyType': 'OCO',\n",
       "  'listStatusType': 'ALL_DONE',\n",
       "  'listOrderStatus': 'ALL_DONE',\n",
       "  'listClientOrderId': 'sKVIkCZf3EYIHStRnMSszf',\n",
       "  'transactionTime': '1635802090575',\n",
       "  'symbol': 'ADAUSDT',\n",
       "  'orders': [{'symbol': 'ADAUSDT',\n",
       "    'orderId': '2551057287',\n",
       "    'clientOrderId': '72X4IpGOgPX01McQ5v5dA3'},\n",
       "   {'symbol': 'ADAUSDT',\n",
       "    'orderId': '2551057288',\n",
       "    'clientOrderId': 'AuAYiymOoI51VSlYDQmCcA'}],\n",
       "  'orderReports': [{'symbol': 'ADAUSDT',\n",
       "    'origClientOrderId': '72X4IpGOgPX01McQ5v5dA3',\n",
       "    'orderId': '2551057287',\n",
       "    'orderListId': '50091666',\n",
       "    'clientOrderId': 'zxspYdsPnh7pSc94UpFxYa',\n",
       "    'price': '1.90000000',\n",
       "    'origQty': '20.00000000',\n",
       "    'executedQty': '0.00000000',\n",
       "    'cummulativeQuoteQty': '0.00000000',\n",
       "    'status': 'CANCELED',\n",
       "    'timeInForce': 'GTC',\n",
       "    'type': 'STOP_LOSS_LIMIT',\n",
       "    'side': 'SELL',\n",
       "    'stopPrice': '1.92000000'},\n",
       "   {'symbol': 'ADAUSDT',\n",
       "    'origClientOrderId': 'AuAYiymOoI51VSlYDQmCcA',\n",
       "    'orderId': '2551057288',\n",
       "    'orderListId': '50091666',\n",
       "    'clientOrderId': 'zxspYdsPnh7pSc94UpFxYa',\n",
       "    'price': '1.96000000',\n",
       "    'origQty': '20.00000000',\n",
       "    'executedQty': '0.00000000',\n",
       "    'cummulativeQuoteQty': '0.00000000',\n",
       "    'status': 'CANCELED',\n",
       "    'timeInForce': 'GTC',\n",
       "    'type': 'LIMIT_MAKER',\n",
       "    'side': 'SELL'}]},\n",
       " 'id': None,\n",
       " 'clientOrderId': None,\n",
       " 'timestamp': None,\n",
       " 'datetime': None,\n",
       " 'lastTradeTimestamp': None,\n",
       " 'symbol': 'ADA/USDT',\n",
       " 'type': None,\n",
       " 'timeInForce': None,\n",
       " 'postOnly': False,\n",
       " 'side': None,\n",
       " 'price': None,\n",
       " 'stopPrice': None,\n",
       " 'amount': None,\n",
       " 'cost': 0,\n",
       " 'average': None,\n",
       " 'filled': 0.0,\n",
       " 'remaining': None,\n",
       " 'status': None,\n",
       " 'fee': None,\n",
       " 'trades': [],\n",
       " 'fees': []}"
      ]
     },
     "execution_count": 19,
     "metadata": {},
     "output_type": "execute_result"
    }
   ],
   "source": [
    "exchange.cancel_order('2551057287', symbol)"
   ]
  },
  {
   "cell_type": "code",
   "execution_count": 3,
   "metadata": {},
   "outputs": [
    {
     "data": {
      "text/plain": [
       "633.3333333333334"
      ]
     },
     "execution_count": 3,
     "metadata": {},
     "output_type": "execute_result"
    }
   ],
   "source": [
    "1000.0 / 15 * 9.50"
   ]
  },
  {
   "cell_type": "code",
   "execution_count": null,
   "metadata": {},
   "outputs": [],
   "source": []
  }
 ],
 "metadata": {
  "interpreter": {
   "hash": "f0efd89945ffcdb19dfb6b1d82577bc29320d98cd998110bbfca989effc5b488"
  },
  "kernelspec": {
   "display_name": "Python 3.8.11 64-bit ('py38': conda)",
   "name": "python3"
  },
  "language_info": {
   "codemirror_mode": {
    "name": "ipython",
    "version": 3
   },
   "file_extension": ".py",
   "mimetype": "text/x-python",
   "name": "python",
   "nbconvert_exporter": "python",
   "pygments_lexer": "ipython3",
   "version": "3.8.11"
  },
  "orig_nbformat": 4
 },
 "nbformat": 4,
 "nbformat_minor": 2
}
