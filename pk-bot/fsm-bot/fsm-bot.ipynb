{
 "cells": [
  {
   "cell_type": "code",
   "execution_count": 1,
   "source": [
    "import sys\n",
    "import os\n",
    "import enum \n",
    "import asyncio\n",
    "###\n",
    "from datetime import datetime\n",
    "from math import floor, ceil\n",
    "import time\n",
    "from time import sleep\n",
    "###\n",
    "import json\n",
    "###\n",
    "from dotenv import load_dotenv\n",
    "load_dotenv()\n",
    "###\n",
    "import zmq\n",
    "zContext = zmq.asyncio.Context()\n",
    "###\n",
    "import logging\n",
    "logger = logging.getLogger()\n",
    "# from zmq.log.handlers import PUBHandler\n",
    "# zmq_log_handler = PUBHandler('tcp://127.0.0.1:55356')\n",
    "# zmq_log_handler.setFormatter(logging.Formatter(fmt='{name} > {message}', style='{'))\n",
    "# zmq_log_handler.setFormatter(logging.Formatter(fmt='{name} #{lineno:>3} > {message}', style='{'), logging.DEBUG)\n",
    "# zmq_log_handler.setRootTopic('greeter')\n",
    "# logger.addHandler(zmq_log_handler)\n",
    "\n",
    "logger.setLevel(logging.DEBUG)\n",
    "###\n",
    "from pymongo import MongoClient\n",
    "from bson.objectid import ObjectId\n",
    "import uuid\n",
    "client = MongoClient()\n",
    "db=client.fsmbot\n",
    "###\n",
    "import ccxt\n",
    "exchange = getattr(ccxt, 'binance')({'apiKey': os.getenv('BINANCE_API_KEY'), 'secret': os.getenv('BINANCE_API_SECRET')})\n",
    "###\n",
    "from trade_machine import TradeModel, trades, load_trades\n",
    "\n",
    "price_ticker = {}"
   ],
   "outputs": [],
   "metadata": {}
  },
  {
   "cell_type": "markdown",
   "source": [
    "import zmq\n",
    "import zmq.asyncio\n",
    "zContext = zmq.asyncio.Context()"
   ],
   "metadata": {}
  },
  {
   "cell_type": "code",
   "execution_count": 2,
   "source": [
    "async def run_ticker():\n",
    "    socket = zContext.socket(zmq.SUB)\n",
    "    socket.connect(\"tcp://localhost:5556\")\n",
    "    socket.setsockopt_string(zmq.SUBSCRIBE, 'TICKER')\n",
    "\n",
    "    while True:\n",
    "        tickerString = await socket.recv_string()\n",
    "        _, symbol, ticker = tickerString.split()\n",
    "        ticker = json.loads(ticker)\n",
    "        price_ticker[symbol] = ticker\n",
    "        if symbol in trades:        \n",
    "            for model in trades[symbol].values():\n",
    "                if model.state in ['LIVE', 'LONG']:\n",
    "                    model.tick(ticker=ticker)\n",
    "\n",
    "from threading import Thread\n",
    "\n",
    "ticker_loop = asyncio.new_event_loop()\n",
    "\n",
    "def setup_loop(loop):\n",
    "    asyncio.set_event_loop(loop)\n",
    "    loop.run_forever()\n",
    "\n",
    "ticker_thread = Thread(target=setup_loop, args=(ticker_loop,))\n",
    "ticker_thread.start()\n",
    "ticker_future = asyncio.run_coroutine_threadsafe(run_ticker(), ticker_loop)  "
   ],
   "outputs": [],
   "metadata": {}
  },
  {
   "cell_type": "code",
   "execution_count": 8,
   "source": [
    "trade = TradeModel(exchange, db.trades)\n",
    "trade.insert(data={\"state\": 'DISABLED', \"symbol\" : 'ALGOUSDT', \"trigger\": 2, \"stop\": 1.7, \"target\": 1.91, \"qty\": 15})\n",
    "trade.start()\n",
    "trade.watch()\n",
    "# trade.movestop(data={'$set': {'stop': 1.9}})"
   ],
   "outputs": [
    {
     "output_type": "stream",
     "name": "stderr",
     "text": [
      "INFO:transitions.core:Executed callback 'insertrec'\n",
      "INFO:transitions.core:Executed callback 'machine_state_changed'\n",
      "INFO:transitions.core:Finished processing state DISABLED exit callbacks.\n",
      "INFO:transitions.core:Finished processing state LIVE enter callbacks.\n",
      "INFO:transitions.core:Executed callback 'machine_state_changed'\n",
      "INFO:transitions.core:Executed callback 'buy_on_exchange'\n",
      "INFO:transitions.core:Executed callback 'loadrec'\n",
      "INFO:transitions.core:Executed callback 'set_stop_on_exchange'\n",
      "INFO:transitions.core:Finished processing state LIVE exit callbacks.\n",
      "INFO:transitions.core:Finished processing state LONG enter callbacks.\n",
      "INFO:transitions.core:Executed callback 'machine_state_changed'\n"
     ]
    }
   ],
   "metadata": {}
  },
  {
   "cell_type": "markdown",
   "source": [
    "load_trades_from_tb()"
   ],
   "metadata": {}
  },
  {
   "cell_type": "code",
   "execution_count": 10,
   "source": [
    "trade.update(data={'$set': {\"target\": 1.89, 'state': 'LONG'}})\n",
    "# logger.setLevel(logging.INFO)\n",
    "\n",
    "                    "
   ],
   "outputs": [
    {
     "output_type": "stream",
     "name": "stderr",
     "text": [
      "INFO:transitions.core:Executed callback 'saverec'\n",
      "INFO:transitions.core:Executed callback 'loadrec'\n",
      "INFO:transitions.core:Executed callback 'machine_state_changed'\n"
     ]
    },
    {
     "output_type": "execute_result",
     "data": {
      "text/plain": [
       "True"
      ]
     },
     "metadata": {},
     "execution_count": 10
    },
    {
     "output_type": "stream",
     "name": "stderr",
     "text": [
      "INFO:transitions.core:Executed callback 'remove_stop_on_exchange'\n",
      "INFO:transitions.core:Executed callback 'sell_on_exchange'\n",
      "INFO:transitions.core:Finished processing state LONG exit callbacks.\n",
      "INFO:transitions.core:Finished processing state SOLD enter callbacks.\n",
      "INFO:transitions.core:Executed callback 'machine_state_changed'\n"
     ]
    }
   ],
   "metadata": {}
  },
  {
   "cell_type": "code",
   "execution_count": 15,
   "source": [
    "# (capital, risk) = 50000, 0.01\n",
    "# symbol, state = 'ALGOUSDT', 'DISABLED'\n",
    "# (trigger, stop, target) = 1.764, 1.706, 1.923\n",
    "# qty = (capital * risk) / (trigger - stop) \n",
    "# size = qty * trigger\n",
    "\n",
    "# # trade = createTrade(symbol, state, qty, trigger, stop, target)\n",
    "# # (tradeModel, tradeMachine) = add_trade_machine(trade)\n",
    "\n",
    "# # tradeModel.start()\n",
    "# # tradeModel\n",
    "# qty,size"
   ],
   "outputs": [],
   "metadata": {}
  },
  {
   "cell_type": "code",
   "execution_count": 16,
   "source": [
    "# (capital, risk) = 50000, 0.01\n",
    "# symbol, state = 'ALGOUSDT', 'DISABLED'\n",
    "# (trigger, stop, target) = 1.7531, 1.7715, 1.9914\n",
    "# qty = (capital * risk) / (trigger - stop) \n",
    "# size = qty * trigger\n",
    "\n",
    "# trade = createTrade(symbol, state, qty, trigger, stop, target)\n",
    "# (tradeModel, tradeMachine) = add_trade_machine(trade)\n",
    "\n",
    "# tradeModel.start()\n",
    "# tradeModel"
   ],
   "outputs": [],
   "metadata": {}
  },
  {
   "cell_type": "code",
   "execution_count": 18,
   "source": [
    "# # trades\n",
    "# for symbol, trade_chunk_arr in trades.items():\n",
    "#     for chunk in trade_chunk_arr:\n",
    "#         model = chunk['model'] \n",
    "#         machine = chunk['machine']\n",
    "#         if model.state != 'LONG':\n",
    "#             continue\n",
    "#         trade = model.trade\n",
    "#         stop_order = exchange.fetchOrder(trade['curStopResp']['id'], symbol=symbol)\n",
    "#         if exchange.fetchOrderStatus(trade['curStopResp']['id'], symbol='ALGOUSDT') == 'closed':\n",
    "#             print(trade['id'], 'closed')\n",
    "#         # print(chunk)\n",
    "#     # print(tradeChunk)\n",
    "# # tradeModel.trade"
   ],
   "outputs": [],
   "metadata": {}
  },
  {
   "cell_type": "code",
   "execution_count": null,
   "source": [],
   "outputs": [],
   "metadata": {}
  }
 ],
 "metadata": {
  "orig_nbformat": 4,
  "language_info": {
   "name": "python",
   "version": "3.8.11",
   "mimetype": "text/x-python",
   "codemirror_mode": {
    "name": "ipython",
    "version": 3
   },
   "pygments_lexer": "ipython3",
   "nbconvert_exporter": "python",
   "file_extension": ".py"
  },
  "kernelspec": {
   "name": "python3",
   "display_name": "Python 3.8.11 64-bit ('py38': conda)"
  },
  "interpreter": {
   "hash": "2b64b82ed447a7d153a9c78a0705e81a741fff6a0d399ac51b9f2a89a43d4916"
  }
 },
 "nbformat": 4,
 "nbformat_minor": 2
}