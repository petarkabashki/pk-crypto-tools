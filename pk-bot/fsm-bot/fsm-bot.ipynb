{
 "cells": [
  {
   "cell_type": "code",
   "execution_count": 1,
   "metadata": {},
   "outputs": [],
   "source": [
    "import sys\n",
    "import os\n",
    "import enum \n",
    "import asyncio\n",
    "###\n",
    "from datetime import datetime\n",
    "from math import floor, ceil\n",
    "import time\n",
    "from time import sleep\n",
    "###\n",
    "import json\n",
    "###\n",
    "from dotenv import load_dotenv\n",
    "load_dotenv()\n",
    "###\n",
    "import zmq\n",
    "zContext = zmq.asyncio.Context()\n",
    "###\n",
    "import logging\n",
    "logger = logging.getLogger()\n",
    "# from zmq.log.handlers import PUBHandler\n",
    "# zmq_log_handler = PUBHandler('tcp://127.0.0.1:55356')\n",
    "# zmq_log_handler.setFormatter(logging.Formatter(fmt='{name} > {message}', style='{'))\n",
    "# zmq_log_handler.setFormatter(logging.Formatter(fmt='{name} #{lineno:>3} > {message}', style='{'), logging.DEBUG)\n",
    "# zmq_log_handler.setRootTopic('greeter')\n",
    "# logger.addHandler(zmq_log_handler)\n",
    "\n",
    "logger.setLevel(logging.DEBUG)\n",
    "###\n",
    "from pymongo import MongoClient\n",
    "from bson.objectid import ObjectId\n",
    "import uuid\n",
    "client = MongoClient()\n",
    "db=client.fsmbot\n",
    "###\n",
    "import ccxt\n",
    "exchange = getattr(ccxt, 'binance')({'apiKey': os.getenv('BINANCE_API_KEY'), 'secret': os.getenv('BINANCE_API_SECRET')})\n",
    "###\n",
    "from trade_machine import TradeModel, trades, load_trades\n",
    "\n",
    "price_ticker = {}"
   ]
  },
  {
   "cell_type": "markdown",
   "metadata": {},
   "source": [
    "import zmq\n",
    "import zmq.asyncio\n",
    "zContext = zmq.asyncio.Context()"
   ]
  },
  {
   "cell_type": "code",
   "execution_count": 2,
   "metadata": {},
   "outputs": [],
   "source": [
    "async def run_ticker():\n",
    "    socket = zContext.socket(zmq.SUB)\n",
    "    socket.connect(\"tcp://localhost:5556\")\n",
    "    socket.setsockopt_string(zmq.SUBSCRIBE, 'TICKER')\n",
    "\n",
    "    while True:\n",
    "        tickerString = await socket.recv_string()\n",
    "        _, symbol, ticker = tickerString.split()\n",
    "        ticker = json.loads(ticker)\n",
    "        price_ticker[symbol] = ticker\n",
    "        if symbol in trades:        \n",
    "            for model in trades[symbol].values():\n",
    "                if model.state in ['LIVE', 'LONG']:\n",
    "                    model.tick(ticker=ticker)\n",
    "\n",
    "from threading import Thread\n",
    "\n",
    "ticker_loop = asyncio.new_event_loop()\n",
    "\n",
    "def setup_loop(loop):\n",
    "    asyncio.set_event_loop(loop)\n",
    "    loop.run_forever()\n",
    "\n",
    "ticker_thread = Thread(target=setup_loop, args=(ticker_loop,))\n",
    "ticker_thread.start()\n",
    "ticker_future = asyncio.run_coroutine_threadsafe(run_ticker(), ticker_loop)  "
   ]
  },
  {
   "cell_type": "code",
   "execution_count": null,
   "metadata": {},
   "outputs": [],
   "source": []
  },
  {
   "cell_type": "markdown",
   "metadata": {},
   "source": [
    "load_trades_from_tb()"
   ]
  },
  {
   "cell_type": "code",
   "execution_count": 7,
   "metadata": {},
   "outputs": [
    {
     "name": "stderr",
     "output_type": "stream",
     "text": [
      "INFO:transitions.core:Executed callback 'attachrec'\n",
      "INFO:transitions.core:Executed callback 'machine_state_changed'\n",
      "INFO:transitions.core:Executed callback 'attachrec'\n",
      "INFO:transitions.core:Executed callback 'machine_state_changed'\n"
     ]
    },
    {
     "data": {
      "text/plain": [
       "{'LUNAUSDT': {'617463b16ffd55564f8552bd': 617463b16ffd55564f8552bd LONG LUNAUSDT 480.7692307692279},\n",
       " 'EGLDUSDT': {'61748c806ffd55564f8552c0': 61748c806ffd55564f8552c0 LONG EGLDUSDT DotMap()}}"
      ]
     },
     "execution_count": 7,
     "metadata": {},
     "output_type": "execute_result"
    }
   ],
   "source": [
    "# price_ticker['ALGOUSDT']['curDayClose']\n",
    "\n",
    "logger.setLevel(logging.INFO)\n",
    "load_trades(exchange, db.trades)\n",
    "trades"
   ]
  },
  {
   "cell_type": "code",
   "execution_count": null,
   "metadata": {},
   "outputs": [],
   "source": []
  },
  {
   "cell_type": "code",
   "execution_count": 6,
   "metadata": {},
   "outputs": [
    {
     "name": "stderr",
     "output_type": "stream",
     "text": [
      "INFO:transitions.core:Executed callback 'saverec'\n",
      "INFO:transitions.core:Executed callback 'loadrec'\n",
      "INFO:transitions.core:Executed callback 'remove_stop_on_exchange'\n",
      "INFO:transitions.core:Executed callback 'set_stop_on_exchange'\n",
      "INFO:transitions.core:Finished processing state LONG exit callbacks.\n",
      "INFO:transitions.core:Finished processing state LONG enter callbacks.\n",
      "INFO:transitions.core:Executed callback 'machine_state_changed'\n"
     ]
    },
    {
     "data": {
      "text/plain": [
       "True"
      ]
     },
     "execution_count": 6,
     "metadata": {},
     "output_type": "execute_result"
    },
    {
     "name": "stderr",
     "output_type": "stream",
     "text": [
      "ERROR:root:binance Account has insufficient balance for requested action.\n",
      "INFO:transitions.core:Executed callback 'buy_on_exchange'\n",
      "INFO:transitions.core:Executed callback 'loadrec'\n",
      "INFO:transitions.core:Executed callback 'set_stop_on_exchange'\n",
      "INFO:transitions.core:Finished processing state LIVE exit callbacks.\n",
      "INFO:transitions.core:Finished processing state LONG enter callbacks.\n",
      "INFO:transitions.core:Executed callback 'machine_state_changed'\n"
     ]
    }
   ],
   "source": [
    "# ******************************************************\n",
    "# *****************  !!! LIVE !!!  *********************\n",
    "# ******************************************************\n",
    "# (capital, risk) = 500, 0.005\n",
    "symbol, state = 'EGLDUSDT', 'LONG'\n",
    "# trade = TradeModel(exchange, db.trades)\n",
    "# trade.insert(data={\"state\": state, \"symbol\" : symbol, \"stop\": 264.0, \"target\": 300.0, \"availableQty\": 83.6, 'curStopResp': {'orderId': '413774940'}})\n",
    "# trade.start()\n",
    "# trade.watch()\n",
    "\n",
    "trade = trades[symbol]['61748c806ffd55564f8552c0']\n",
    "# trade\n",
    "\n",
    "# trade.update(data={'$set' : {'state': 'LONG', 'trigger': 273.80}})\n",
    "# trade.setstop(data={'$set' : {'stop' : 265.70}})\n",
    "# trade.movestop(data={'$set' : {'stop' : 265.60}})\n",
    "\n",
    "trade.update(data={'$set' : {'state': 'LONG', 'trigger': 273.80}})\n",
    "# qty, size"
   ]
  },
  {
   "cell_type": "code",
   "execution_count": 8,
   "metadata": {},
   "outputs": [
    {
     "data": {
      "text/plain": [
       "(30864.197530864214, 58120.3703703704)"
      ]
     },
     "execution_count": 8,
     "metadata": {},
     "output_type": "execute_result"
    }
   ],
   "source": [
    "# ACTIVE\n",
    "(capital, risk) = 50000, 0.005\n",
    "symbol, state = 'ALGOUSDT', 'DISABLED'\n",
    "(trigger, stop, target) = 1.8831, 1.8750, 1.9396\n",
    "qty = (capital * risk) / (trigger - stop) \n",
    "size = qty * trigger\n",
    "# trade = TradeModel(exchange, db.trades)\n",
    "# trade.insert(data={\"state\": state, \"symbol\" : symbol, \"trigger\": trigger, \"stop\": stop, \"target\": target, \"qty\": qty})\n",
    "# trade.start()\n",
    "# trade.watch()\n",
    "\n",
    "# trade = trades[symbol]['617468356ffd55564f8552be']\n",
    "# trade\n",
    "# /trade = trade\n",
    "# trade.sell()\n",
    "# trade.movestop(data={'$set' : {'stop' : 1.873}})\n",
    "qty, size\n"
   ]
  },
  {
   "cell_type": "code",
   "execution_count": 33,
   "metadata": {},
   "outputs": [
    {
     "name": "stderr",
     "output_type": "stream",
     "text": [
      "INFO:transitions.core:Executed callback 'saverec'\n",
      "INFO:transitions.core:Executed callback 'loadrec'\n",
      "INFO:transitions.core:Executed callback 'remove_stop_on_exchange'\n",
      "INFO:transitions.core:Executed callback 'set_stop_on_exchange'\n",
      "INFO:transitions.core:Finished processing state LONG exit callbacks.\n",
      "INFO:transitions.core:Finished processing state LONG enter callbacks.\n",
      "INFO:transitions.core:Executed callback 'machine_state_changed'\n"
     ]
    },
    {
     "data": {
      "text/plain": [
       "True"
      ]
     },
     "execution_count": 33,
     "metadata": {},
     "output_type": "execute_result"
    }
   ],
   "source": [
    "# ACTIVE\n",
    "(capital, risk) = 50000, 0.01\n",
    "symbol, state = 'LUNAUSDT', 'DISABLED'\n",
    "(trigger, stop, target) = 42.34, 41.30, 45\n",
    "# qty = (capital * risk) / (trigger - stop) \n",
    "# size = qty * trigger\n",
    "# trade = TradeModel(exchange, db.trades)\n",
    "# trade.insert(data={\"state\": state, \"symbol\" : symbol, \"trigger\": trigger, \"stop\": stop, \"target\": target, \"qty\": qty})\n",
    "# trade.start()\n",
    "# trade.watch()\n",
    "\n",
    "trade = trades[symbol]['617463b16ffd55564f8552bd']\n",
    "# trade\n",
    "# /trade = trade\n",
    "# trade.sell()\n",
    "trade.movestop(data={'$set' : {'stop' : 41.87}})\n",
    "# qty, size\n",
    "\n",
    "# 437.3 * 1.002\n",
    "# ****************************************************************************************************************\n",
    "# ****************************************************************************************************************\n"
   ]
  },
  {
   "cell_type": "code",
   "execution_count": 11,
   "metadata": {},
   "outputs": [
    {
     "name": "stderr",
     "output_type": "stream",
     "text": [
      "INFO:transitions.core:Executed callback 'insertrec'\n",
      "INFO:transitions.core:Executed callback 'machine_state_changed'\n",
      "INFO:transitions.core:Finished processing state DISABLED exit callbacks.\n",
      "INFO:transitions.core:Finished processing state LIVE enter callbacks.\n",
      "INFO:transitions.core:Executed callback 'machine_state_changed'\n"
     ]
    },
    {
     "data": {
      "text/plain": [
       "(961.5384615384689, 34230.769230769496)"
      ]
     },
     "execution_count": 11,
     "metadata": {},
     "output_type": "execute_result"
    },
    {
     "name": "stderr",
     "output_type": "stream",
     "text": [
      "INFO:transitions.core:Executed callback 'buy_on_exchange'\n",
      "INFO:transitions.core:Executed callback 'loadrec'\n",
      "INFO:transitions.core:Executed callback 'set_stop_on_exchange'\n",
      "INFO:transitions.core:Finished processing state LIVE exit callbacks.\n",
      "INFO:transitions.core:Finished processing state LONG enter callbacks.\n",
      "INFO:transitions.core:Executed callback 'machine_state_changed'\n"
     ]
    }
   ],
   "source": [
    "# ACTIVE\n",
    "(capital, risk) = 50000, 0.005\n",
    "symbol, state = 'ATOMUSDT', 'DISABLED'\n",
    "(trigger, stop, target) = 35.60, 35.34, 37.13\n",
    "qty = (capital * risk) / (trigger - stop) \n",
    "size = qty * trigger\n",
    "trade = TradeModel(exchange, db.trades)\n",
    "trade.insert(data={\"state\": state, \"symbol\" : symbol, \"trigger\": trigger, \"stop\": stop, \"target\": target, \"qty\": qty})\n",
    "trade.start()\n",
    "trade.watch()\n",
    "qty, size"
   ]
  },
  {
   "cell_type": "code",
   "execution_count": 5,
   "metadata": {},
   "outputs": [
    {
     "data": {
      "text/plain": [
       "{'DOTUSDT': {'616067775fc1d120b18fb21c': 616067775fc1d120b18fb21c LONG DOTUSDT 602.4096385542181},\n",
       " 'ALGOUSDT': {'6160ad5cd6fc93a6a65debb0': 6160ad5cd6fc93a6a65debb0 LONG ALGOUSDT 11961.722488038324}}"
      ]
     },
     "execution_count": 5,
     "metadata": {},
     "output_type": "execute_result"
    }
   ],
   "source": [
    "# exchange.fetchOpenOrders('AVAXUSDT')\n",
    "load_trades(exchange, db.trades)\n",
    "trades"
   ]
  },
  {
   "cell_type": "code",
   "execution_count": 18,
   "metadata": {},
   "outputs": [],
   "source": [
    "# # trades\n",
    "# for symbol, trade_chunk_arr in trades.items():\n",
    "#     for chunk in trade_chunk_arr:\n",
    "#         model = chunk['model'] \n",
    "#         machine = chunk['machine']\n",
    "#         if model.state != 'LONG':\n",
    "#             continue\n",
    "#         trade = model.trade\n",
    "#         stop_order = exchange.fetchOrder(trade['curStopResp']['id'], symbol=symbol)\n",
    "#         if exchange.fetchOrderStatus(trade['curStopResp']['id'], symbol='ALGOUSDT') == 'closed':\n",
    "#             print(trade['id'], 'closed')\n",
    "#         # print(chunk)\n",
    "#     # print(tradeChunk)\n",
    "# # tradeModel.trade"
   ]
  },
  {
   "cell_type": "code",
   "execution_count": 21,
   "metadata": {},
   "outputs": [
    {
     "data": {
      "text/plain": [
       "('LIVE', 'BNBUSDT')"
      ]
     },
     "execution_count": 21,
     "metadata": {},
     "output_type": "execute_result"
    }
   ],
   "source": [
    "# logger.setLevel(logging.INFO)\n",
    "trade.state, trade.rec.symbol"
   ]
  },
  {
   "cell_type": "code",
   "execution_count": null,
   "metadata": {},
   "outputs": [],
   "source": []
  }
 ],
 "metadata": {
  "interpreter": {
   "hash": "f0efd89945ffcdb19dfb6b1d82577bc29320d98cd998110bbfca989effc5b488"
  },
  "kernelspec": {
   "display_name": "Python 3.8.11 64-bit ('py38': conda)",
   "name": "python3"
  },
  "language_info": {
   "codemirror_mode": {
    "name": "ipython",
    "version": 3
   },
   "file_extension": ".py",
   "mimetype": "text/x-python",
   "name": "python",
   "nbconvert_exporter": "python",
   "pygments_lexer": "ipython3",
   "version": "3.8.11"
  },
  "orig_nbformat": 4
 },
 "nbformat": 4,
 "nbformat_minor": 2
}
