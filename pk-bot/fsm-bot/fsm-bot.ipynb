{
 "cells": [
  {
   "cell_type": "code",
   "execution_count": 1,
   "metadata": {},
   "outputs": [],
   "source": [
    "import sys\n",
    "import os\n",
    "import enum \n",
    "import asyncio\n",
    "###\n",
    "from datetime import datetime\n",
    "from math import floor, ceil\n",
    "import time\n",
    "from time import sleep\n",
    "###\n",
    "import json\n",
    "###\n",
    "from dotenv import load_dotenv\n",
    "load_dotenv()\n",
    "###\n",
    "import zmq\n",
    "zContext = zmq.asyncio.Context()\n",
    "###\n",
    "import logging\n",
    "logger = logging.getLogger()\n",
    "# from zmq.log.handlers import PUBHandler\n",
    "# zmq_log_handler = PUBHandler('tcp://127.0.0.1:55356')\n",
    "# zmq_log_handler.setFormatter(logging.Formatter(fmt='{name} > {message}', style='{'))\n",
    "# zmq_log_handler.setFormatter(logging.Formatter(fmt='{name} #{lineno:>3} > {message}', style='{'), logging.DEBUG)\n",
    "# zmq_log_handler.setRootTopic('greeter')\n",
    "# logger.addHandler(zmq_log_handler)\n",
    "\n",
    "logger.setLevel(logging.DEBUG)\n",
    "###\n",
    "from pymongo import MongoClient\n",
    "from bson.objectid import ObjectId\n",
    "import uuid\n",
    "client = MongoClient()\n",
    "db=client.fsmbot\n",
    "###\n",
    "import ccxt\n",
    "exchange = getattr(ccxt, 'binance')({'apiKey': os.getenv('BINANCE_API_KEY'), 'secret': os.getenv('BINANCE_API_SECRET')})\n",
    "###\n",
    "from trade_machine import TradeModel, trades, load_trades\n",
    "\n",
    "from dotmap import DotMap\n",
    "\n",
    "price_ticker = {}"
   ]
  },
  {
   "cell_type": "markdown",
   "metadata": {},
   "source": [
    "import zmq\n",
    "import zmq.asyncio\n",
    "zContext = zmq.asyncio.Context()"
   ]
  },
  {
   "cell_type": "code",
   "execution_count": 2,
   "metadata": {},
   "outputs": [],
   "source": [
    "async def run_ticker():\n",
    "    socket = zContext.socket(zmq.SUB)\n",
    "    socket.connect(\"tcp://localhost:5556\")\n",
    "    socket.setsockopt_string(zmq.SUBSCRIBE, 'TICKER')\n",
    "\n",
    "    while True:\n",
    "        tickerString = await socket.recv_string()\n",
    "        _, symbol, ticker = tickerString.split()\n",
    "        ticker = json.loads(ticker)\n",
    "        price_ticker[symbol] = ticker\n",
    "        if symbol in trades:\n",
    "            for model in trades[symbol].values():\n",
    "                if model.state in ['LIVE', 'LONG']:\n",
    "                    model.tick(ticker=ticker)\n",
    "\n",
    "from threading import Thread\n",
    "\n",
    "ticker_loop = asyncio.new_event_loop()\n",
    "\n",
    "def setup_loop(loop):\n",
    "    asyncio.set_event_loop(loop)\n",
    "    loop.run_forever()\n",
    "\n",
    "ticker_thread = Thread(target=setup_loop, args=(ticker_loop,))\n",
    "ticker_thread.start()\n",
    "ticker_future = asyncio.run_coroutine_threadsafe(run_ticker(), ticker_loop)  "
   ]
  },
  {
   "cell_type": "code",
   "execution_count": 3,
   "metadata": {},
   "outputs": [
    {
     "name": "stderr",
     "output_type": "stream",
     "text": [
      "INFO:transitions.core:Executed callback 'attachrec'\n",
      "INFO:transitions.core:Executed callback 'machine_state_changed'\n"
     ]
    },
    {
     "data": {
      "text/plain": [
       "{'ADAUSDT': {'618085b7dacef867e5df6e7f': 618085b7dacef867e5df6e7f LONG ADA/USDT 49.9}}"
      ]
     },
     "execution_count": 3,
     "metadata": {},
     "output_type": "execute_result"
    }
   ],
   "source": [
    "logger.setLevel(logging.INFO)\n",
    "exchange.load_markets()\n",
    "trades = load_trades(exchange, db.trades)\n",
    "trades"
   ]
  },
  {
   "cell_type": "markdown",
   "metadata": {},
   "source": [
    "load_trades_from_tb()"
   ]
  },
  {
   "cell_type": "code",
   "execution_count": 4,
   "metadata": {},
   "outputs": [],
   "source": [
    "def normalize_values(symbol, qty, trigger, stop, stop_limit, target):\n",
    "    return {'qty': exchange.amount_to_precision(symbol, qty), \n",
    "        'trigger': exchange.price_to_precision(symbol, trigger),\n",
    "        'stop': exchange.price_to_precision(symbol, stop),\n",
    "        'stop_limit': exchange.price_to_precision(symbol, stop_limit),\n",
    "        'target': exchange.price_to_precision(symbol, target)\n",
    "    }\n",
    "\n",
    "\n",
    "def calc_trade(capital, risk_perc, symbol, trigger, stop, target):\n",
    "    market = exchange.market(symbol)\n",
    "    ntrigger = float(exchange.price_to_precision(symbol, trigger))\n",
    "    nstop = float(exchange.price_to_precision(symbol, stop))\n",
    "    nstop_limit = float(exchange.price_to_precision(symbol, stop * 0.95))\n",
    "    ntarget = float(exchange.price_to_precision(symbol, target))\n",
    "    risk_size = capital * risk_perc\n",
    "    nrisk_size = float(exchange.cost_to_precision(symbol, risk_size))\n",
    "\n",
    "    qty = float(exchange.amount_to_precision(symbol, risk_size / (trigger - stop)))\n",
    "    size = qty * trigger\n",
    "    nsize = float(exchange.cost_to_precision(symbol, size))\n",
    "    profit_perc = round((target - trigger) / trigger * 100, 2)\n",
    "    loss_perc = round((trigger - stop) / trigger * 100, 2)\n",
    "    r2r = round(profit_perc / loss_perc, 2)\n",
    "    return {'symbol': symbol, 'market': market['id'], 'size': size, 'risk_size': nrisk_size, 'qty': qty, 'r2r': r2r, 'profit_perc' : profit_perc, 'loss_perc' : loss_perc, \n",
    "        'trigger': ntrigger, 'stop': nstop, 'stop_limit': nstop_limit, 'target': ntarget}\n",
    "\n",
    "\n",
    "def create_trade(capital, risk_perc, symbol, trigger, stop, target):\n",
    "    trade_values = calc_trade(capital, risk_perc, symbol, trigger, stop, target)\n",
    "    trade = TradeModel(exchange, db.trades)\n",
    "    # (nqty, ntrigger, nstop, nstop_limit, ntarget) = normalize_values(symbol, qty, trigger, stop, stop_limit, target)\n",
    "    trade.insert(data={\"state\": 'DISABLED', \"symbol\" : symbol, **trade_values})\n",
    "    trade.start()\n",
    "    trade.watch()\n",
    "    return trade\n"
   ]
  },
  {
   "cell_type": "code",
   "execution_count": 5,
   "metadata": {},
   "outputs": [
    {
     "name": "stderr",
     "output_type": "stream",
     "text": [
      "INFO:transitions.core:Executed callback 'insertrec'\n",
      "INFO:transitions.core:Executed callback 'machine_state_changed'\n",
      "INFO:transitions.core:Finished processing state DISABLED exit callbacks.\n",
      "INFO:transitions.core:Finished processing state LIVE enter callbacks.\n",
      "INFO:transitions.core:Executed callback 'machine_state_changed'\n",
      "INFO:transitions.core:Executed callback 'buy_on_exchange'\n",
      "INFO:transitions.core:Executed callback 'loadrec'\n",
      "INFO:transitions.core:Executed callback 'set_oco_on_exchange'\n",
      "INFO:transitions.core:Finished processing state LIVE exit callbacks.\n",
      "INFO:transitions.core:Finished processing state LONG enter callbacks.\n",
      "INFO:transitions.core:Executed callback 'machine_state_changed'\n",
      "INFO:transitions.core:Executed callback 'set_oco_on_exchange'\n",
      "INFO:transitions.core:Finished processing state LONG exit callbacks.\n",
      "INFO:transitions.core:Finished processing state LONG_OCO enter callbacks.\n",
      "INFO:transitions.core:Executed callback 'machine_state_changed'\n"
     ]
    }
   ],
   "source": [
    "symbol = 'ADA/USDT'\n",
    "market = exchange.market(symbol)\n",
    "nsymbol = market['id']\n",
    "amount = 20.0\n",
    "\n",
    "exchange.fetchTicker(symbol)\n",
    "ticker = exchange.fetchTicker(symbol)\n",
    "last_price = ticker['last']\n",
    "# trade = create_trade(200, 0.01, symbol, last_price + 0.002, last_price - 0.002, last_price + 0.002)\n",
    "# trade\n",
    "trade = create_trade(200, 0.01, symbol, last_price + 0.02, last_price - 0.02, last_price + 0.02)"
   ]
  },
  {
   "cell_type": "code",
   "execution_count": 5,
   "metadata": {},
   "outputs": [
    {
     "name": "stderr",
     "output_type": "stream",
     "text": [
      "INFO:transitions.core:Executed callback 'set_oco_on_exchange'\n",
      "INFO:transitions.core:Finished processing state LONG exit callbacks.\n",
      "INFO:transitions.core:Finished processing state LONG_OCO enter callbacks.\n",
      "INFO:transitions.core:Executed callback 'machine_state_changed'\n"
     ]
    },
    {
     "data": {
      "text/plain": [
       "True"
      ]
     },
     "execution_count": 5,
     "metadata": {},
     "output_type": "execute_result"
    }
   ],
   "source": [
    "trade = trades['ADAUSDT']['618085b7dacef867e5df6e7f']\n",
    "# trade.tick({'eventType': '24hrTicker', 'eventTime': 1635812425874, 'symbol': 'ADAUSDT', 'priceChange': '-0.02400000', 'priceChangePercent': '-1.217', 'weightedAvg': '1.96039439', 'prevDayClose': '1.97200000', 'curDayClose': '1.94800000', 'closeTradeQuantity': '113.00000000', 'bestBid': '1.94800000', 'bestBidQnt': '19309.10000000', 'bestAsk': '1.94900000', 'bestAskQnt': '49035.80000000', 'open': '1.97200000', 'high': '2.01900000', 'low': '1.91100000', 'volume': '142367482.50000000', 'volumeQuote': '279096414.06090000', 'openTime': 1635726025874, 'closeTime': 1635812425874, 'firstTradeId': 307530389, 'lastTradeId': 307972281, 'totalTrades': 441893})\n",
    "# trade = trades[nsymbol]\n",
    "# trade = create\n",
    "# trade.removeoco(data={'$set': {'stop': 1.940}})\n",
    "trade.canceloco()\n",
    "# trade.setoco()\n",
    "# trade.removestop()"
   ]
  },
  {
   "cell_type": "code",
   "execution_count": null,
   "metadata": {},
   "outputs": [],
   "source": [
    "# # trades\n",
    "# for symbol, trade_chunk_arr in trades.items():\n",
    "#     for chunk in trade_chunk_arr:\n",
    "#         model = chunk['model'] \n",
    "#         machine = chunk['machine']\n",
    "#         if model.state != 'LONG':\n",
    "#             continue\n",
    "#         trade = model.trade\n",
    "#         stop_order = exchange.fetchOrder(trade['curStopResp']['id'], symbol=symbol)\n",
    "#         if exchange.fetchOrderStatus(trade['curStopResp']['id'], symbol='ALGOUSDT') == 'closed':\n",
    "#             print(trade['id'], 'closed')\n",
    "#         # print(chunk)\n",
    "#     # print(tradeChunk)\n",
    "# # tradeModel.trade"
   ]
  },
  {
   "cell_type": "code",
   "execution_count": 9,
   "metadata": {},
   "outputs": [
    {
     "name": "stderr",
     "output_type": "stream",
     "text": [
      "INFO:transitions.core:Executed callback 'attachrec'\n",
      "INFO:transitions.core:Executed callback 'machine_state_changed'\n"
     ]
    },
    {
     "data": {
      "text/plain": [
       "{'ADA/USDT': {'618073ce79057cc85dca385e': 618073ce79057cc85dca385e LIVE ADA/USDT 499.9}}"
      ]
     },
     "execution_count": 9,
     "metadata": {},
     "output_type": "execute_result"
    }
   ],
   "source": [
    "# logger.setLevel(logging.INFO)\n",
    "# trade.state, trade.rec.symbol\n",
    "trades = load_trades(exchange, db.trades)\n",
    "trades"
   ]
  },
  {
   "cell_type": "code",
   "execution_count": 14,
   "metadata": {},
   "outputs": [
    {
     "name": "stderr",
     "output_type": "stream",
     "text": [
      "INFO:transitions.core:Executed callback 'insertrec'\n",
      "INFO:transitions.core:Executed callback 'machine_state_changed'\n",
      "INFO:transitions.core:Finished processing state DISABLED exit callbacks.\n",
      "INFO:transitions.core:Finished processing state LIVE enter callbacks.\n",
      "INFO:transitions.core:Executed callback 'machine_state_changed'\n"
     ]
    }
   ],
   "source": []
  },
  {
   "cell_type": "code",
   "execution_count": 15,
   "metadata": {},
   "outputs": [
    {
     "ename": "KeyError",
     "evalue": "'ADAUSDT'",
     "output_type": "error",
     "traceback": [
      "\u001b[0;31m---------------------------------------------------------------------------\u001b[0m",
      "\u001b[0;31mKeyError\u001b[0m                                  Traceback (most recent call last)",
      "\u001b[0;32m/tmp/ipykernel_29824/3552505839.py\u001b[0m in \u001b[0;36m<module>\u001b[0;34m\u001b[0m\n\u001b[0;32m----> 1\u001b[0;31m \u001b[0mtrade\u001b[0m \u001b[0;34m=\u001b[0m \u001b[0mtrades\u001b[0m\u001b[0;34m[\u001b[0m\u001b[0;34m'ADAUSDT'\u001b[0m\u001b[0;34m]\u001b[0m\u001b[0;34m[\u001b[0m\u001b[0;34m'6180601e017cac0f83038874'\u001b[0m\u001b[0;34m]\u001b[0m\u001b[0;34m\u001b[0m\u001b[0;34m\u001b[0m\u001b[0m\n\u001b[0m\u001b[1;32m      2\u001b[0m \u001b[0mtrade\u001b[0m\u001b[0;34m.\u001b[0m\u001b[0mdelete\u001b[0m\u001b[0;34m(\u001b[0m\u001b[0;34m)\u001b[0m\u001b[0;34m\u001b[0m\u001b[0;34m\u001b[0m\u001b[0m\n",
      "\u001b[0;31mKeyError\u001b[0m: 'ADAUSDT'"
     ]
    }
   ],
   "source": [
    "trade = trades['ADAUSDT']['6180601e017cac0f83038874']\n",
    "trade.delete()"
   ]
  },
  {
   "cell_type": "code",
   "execution_count": 26,
   "metadata": {},
   "outputs": [
    {
     "data": {
      "text/plain": [
       "{'ADAUSDT': {'6180601e017cac0f83038874': 6180601e017cac0f83038874 LONG ADAUSDT 49.99999999999996}}"
      ]
     },
     "execution_count": 26,
     "metadata": {},
     "output_type": "execute_result"
    }
   ],
   "source": [
    "trades"
   ]
  },
  {
   "cell_type": "code",
   "execution_count": null,
   "metadata": {},
   "outputs": [],
   "source": []
  }
 ],
 "metadata": {
  "interpreter": {
   "hash": "f0efd89945ffcdb19dfb6b1d82577bc29320d98cd998110bbfca989effc5b488"
  },
  "kernelspec": {
   "display_name": "Python 3.8.11 64-bit ('py38': conda)",
   "name": "python3"
  },
  "language_info": {
   "codemirror_mode": {
    "name": "ipython",
    "version": 3
   },
   "file_extension": ".py",
   "mimetype": "text/x-python",
   "name": "python",
   "nbconvert_exporter": "python",
   "pygments_lexer": "ipython3",
   "version": "3.8.11"
  },
  "orig_nbformat": 4
 },
 "nbformat": 4,
 "nbformat_minor": 2
}
