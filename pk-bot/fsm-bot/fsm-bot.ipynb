{
 "cells": [
  {
   "cell_type": "code",
   "execution_count": 1,
   "source": [
    "from transitions import Machine\n",
    "\n",
    "from transitions.extensions.asyncio import AsyncTimeout, AsyncMachine\n",
    "\n",
    "import enum \n",
    "import logging\n",
    "import asyncio\n",
    "\n",
    "from pymongo import MongoClient\n",
    "from bson.objectid import ObjectId\n",
    "import uuid\n",
    "from pprint import pprint\n",
    "\n",
    "from datetime import datetime\n",
    "from math import floor, ceil\n",
    "import time\n",
    "from time import sleep\n",
    "\n",
    "import sys\n",
    "import os\n",
    "\n",
    "import zmq\n",
    "import zmq.asyncio\n",
    "# from s import Context\n",
    "import json\n",
    "\n",
    "logging.basicConfig(level=logging.INFO)\n",
    "\n",
    "import ccxt\n",
    "from dotenv import load_dotenv\n",
    "load_dotenv()\n"
   ],
   "outputs": [
    {
     "output_type": "execute_result",
     "data": {
      "text/plain": [
       "True"
      ]
     },
     "metadata": {},
     "execution_count": 1
    }
   ],
   "metadata": {}
  },
  {
   "cell_type": "code",
   "execution_count": 2,
   "source": [
    "client = MongoClient()\n",
    "db=client.fsmbot\n",
    "trades = {}\n",
    "\n",
    "zContext = zmq.asyncio.Context()\n"
   ],
   "outputs": [],
   "metadata": {}
  },
  {
   "cell_type": "code",
   "execution_count": 3,
   "source": [
    "exchange = getattr(ccxt, 'binance')({'apiKey': os.getenv('BINANCE_API_KEY'), 'secret': os.getenv('BINANCE_API_SECRET')})"
   ],
   "outputs": [],
   "metadata": {}
  },
  {
   "cell_type": "code",
   "execution_count": 4,
   "source": [
    "# t = db.trades.find_one({'_id': ObjectId(\"615cc81fa0d373f6b44b88b0\")})\n",
    "# t['curStopResp']"
   ],
   "outputs": [],
   "metadata": {}
  },
  {
   "cell_type": "code",
   "execution_count": 5,
   "source": [
    "# exchange.create_order('ALGO/USDT', 'market', 'buy', 15)\n",
    "# os.getenv('TEST')"
   ],
   "outputs": [],
   "metadata": {}
  },
  {
   "cell_type": "code",
   "execution_count": 6,
   "source": [
    "zContext = zmq.asyncio.Context()\n",
    "\n",
    "\n",
    "states = [\n",
    "    'ERROR',\n",
    "    'DISABLED',\n",
    "    'LIVE',\n",
    "    'LONG',\n",
    "    'STOPPED',\n",
    "    'SOLD'\n",
    "]\n",
    "transitions = [\n",
    "    { 'trigger': 'start', 'source': 'DISABLED', 'dest': 'LIVE'},\n",
    "    { 'trigger': 'disable', 'source': 'LIVE', 'dest': 'DISABLED'},\n",
    "    { 'trigger': 'tick', 'source': 'LIVE', 'dest': 'LONG', 'conditions': 'is_buy_signal', 'before' : ['buy_on_exchange', 'load_from_db', 'set_stop_on_exchange']},\n",
    "    { 'trigger': 'movestop', 'source': 'LONG', 'dest': 'LONG' ,'before': ['save_to_db', 'load_from_db', 'remove_stop_on_exchange', 'set_stop_on_exchange']},\n",
    "    { 'trigger': 'tick', 'source': 'LONG', 'dest': 'STOPPED', 'conditions': 'is_stopped'},\n",
    "    { 'trigger': 'tick', 'source': 'LONG', 'dest': 'SOLD' ,'conditions': 'is_sell_signal', 'before': ['remove_stop_on_exchange', 'sell_on_exchange']},\n",
    "    { 'trigger': 'update', 'source': '*', 'dest': None, 'before': 'save_to_db', 'after': 'load_from_db'},\n",
    "    { 'trigger': 'load', 'source': '*', 'dest': None, 'before': 'load_from_db'},\n",
    "    { 'trigger': 'save', 'source': '*', 'dest': None, 'before': 'save_to_db'}\n",
    "\n",
    "]\n",
    "\n",
    "\n",
    "class TradeModel(object):\n",
    "    def __init__(self, data):         \n",
    "        self.data = data\n",
    "        self._id = data['_id']\n",
    "        self.symbol = data['symbol']\n",
    "        self.machine = Machine(self, states=states, transitions=transitions, send_event=True, initial='DISABLED', \n",
    "            after_state_change=['machine_state_changed', 'load_from_db'], on_exception='handle_error')\n",
    "        self.machine.set_state(data['state'])\n",
    "\n",
    "        \n",
    "    def load_from_db(self, event):\n",
    "        logging.info(event.kwargs)\n",
    "        # print(f\"reloading {self._id}\")\n",
    "        self.data = db.trades.find_one({'_id': ObjectId(self._id)})\n",
    "        # print(f\"reloaded {self.data['_id']} {self.data['symbol']} {self.data['state']}\")\n",
    "        self.symbol = self.data['symbol']\n",
    "        self.state = self.data['state']\n",
    "        # print(f\"reloaded machine {self.symbol} {self.state}\")\n",
    "\n",
    "    def is_buy_signal(self, event):\n",
    "        logging.info(event.kwargs)\n",
    "        ticker = event.kwargs['ticker']\n",
    "        if float(ticker['curDayClose']) <= float(self.data['trigger']):\n",
    "            # logging.info(f'+BUY triggered for {self.symbol} / {self.data[\"_id\"]}')\n",
    "            return True\n",
    "        # logging.info(f'-BUY triggered for {self.symbol} / {self.data[\"_id\"]}')\n",
    "        return False\n",
    "\n",
    "    def is_sell_signal(self, event):\n",
    "        logging.info(event.kwargs)\n",
    "        ticker = event.kwargs['ticker']\n",
    "        if float(ticker['curDayClose']) >= float(self.data['target']):\n",
    "            # logging.info(f'+SELL triggered for {self.symbol} / {self.data[\"_id\"]}')\n",
    "            return True\n",
    "        # logging.info(f'-SELL triggered for {self.symbol} / {self.data[\"_id\"]}')\n",
    "        return False\n",
    "\n",
    "    def is_stopped(self, event):\n",
    "        logging.info(event.kwargs)\n",
    "        ticker = event.kwargs['ticker']\n",
    "        if float(ticker['curDayClose']) <= float(self.data['stop']):\n",
    "            # logging.info(f'+BUY triggered for {self.symbol} / {self.data[\"_id\"]}')\n",
    "            return True\n",
    "        # logging.info(f'-BUY triggered for {self.symbol} / {self.data[\"_id\"]}')\n",
    "        return False\n",
    "\n",
    "\n",
    "    def buy_on_exchange(self, event):\n",
    "        logging.info(event.kwargs)\n",
    "        try:\n",
    "            resp = exchange.create_order(self.symbol, 'market', 'buy', float(self.data[\"qty\"]));\n",
    "            db.trades.update_one({'_id' : self.data['_id'] }, {\n",
    "            '$set': {\n",
    "                'buyResp': resp\n",
    "            }})\n",
    "        except BaseException as err:\n",
    "            logging.error(err)\n",
    "            db.trades.update_one({'_id' : self.data['_id'] }, {\n",
    "            '$set': {\n",
    "                'state': 'ERROR',\n",
    "                'err': str(err)\n",
    "            }})\n",
    "\n",
    "    def sell_on_exchange(self, event):\n",
    "        logging.info(event.kwargs)\n",
    "        try:\n",
    "            available_qty = self.data[\"buyResp\"]['filled'] - self.data[\"buyResp\"]['fee']['cost']\n",
    "            resp = exchange.create_order(self.symbol, 'market', 'sell', available_qty)\n",
    "            db.trades.update_one({'_id' : self.data['_id'] }, {\n",
    "            '$set': {\n",
    "                'sellResp': resp\n",
    "            }})\n",
    "        except BaseException as err:\n",
    "            logging.error(err)\n",
    "            db.trades.update_one({'_id' : self.data['_id'] }, {\n",
    "            '$set': {\n",
    "                'state': 'ERROR',\n",
    "                'err': str(err)\n",
    "            }})\n",
    "\n",
    "    # def update_stop(self, event):\n",
    "    #     logging.info(event.kwargs)\n",
    "    #     try:\n",
    "    #         db.trades.update_one({'_id' : self.data['_id'] }, {\n",
    "    #             '$set': {\n",
    "    #                 'stop': event.kwargs['stop']\n",
    "    #             }})\n",
    "    #     except BaseException as err:\n",
    "    #         logging.error(err)\n",
    "    #         db.trades.update_one({'_id' : self.data['_id'] }, {\n",
    "    #         '$set': {\n",
    "    #             'state': 'ERROR',\n",
    "    #             'err': err\n",
    "    #         }})\n",
    "\n",
    "    def save_to_db(self, event):\n",
    "        logging.info(event.kwargs)\n",
    "        try:\n",
    "            db.trades.update_one({'_id' : self.data['_id'] }, event.kwargs['data'] )\n",
    "        except BaseException as err:\n",
    "            logging.error(err)\n",
    "            db.trades.update_one({'_id' : self.data['_id'] }, {\n",
    "            '$set': {\n",
    "                'state': 'ERROR',\n",
    "                'err': str(err)\n",
    "            }})\n",
    "\n",
    "    def set_stop_on_exchange(self, event):\n",
    "        logging.info(event.kwargs)\n",
    "        try:\n",
    "            available_qty = self.data[\"buyResp\"]['filled'] - self.data[\"buyResp\"]['fee']['cost']\n",
    "            resp = exchange.create_order(self.symbol, 'STOP_LOSS_LIMIT', 'sell', available_qty * 0.99, \n",
    "                0.90 * float(self.data[\"stop\"]), {'stopPrice': float(self.data[\"stop\"]),'type': 'stopLimit'})\n",
    "            db.trades.update_one({'_id' : self.data['_id'] }, {\n",
    "            '$set': {\n",
    "                'curStopResp': resp\n",
    "            }})\n",
    "        except BaseException as err:\n",
    "            logging.error(err)\n",
    "            db.trades.update_one({'_id' : self.data['_id'] }, {\n",
    "            '$set': {\n",
    "                'state': 'ERROR',\n",
    "                'err': str(err)\n",
    "            }})\n",
    "        # self.data['curStopResp'] = resp\n",
    "\n",
    "    def remove_stop_on_exchange(self, event):\n",
    "        logging.info(event.kwargs)\n",
    "        try:\n",
    "            if self.data['curStopResp']:\n",
    "                resp = exchange.cancel_order(self.data['curStopResp']['id'], symbol=self.symbol)\n",
    "                db.trades.update_one({'_id' : self.data['_id'] }, {\n",
    "                    '$set': {                        \n",
    "                        'cancelStopResp': resp\n",
    "                    }})\n",
    "        \n",
    "        except BaseException as err:\n",
    "            logging.error(err)\n",
    "            db.trades.update_one({'_id' : self.data['_id'] }, {\n",
    "            '$set': {\n",
    "                'state': 'ERROR',\n",
    "                'err': str(err)\n",
    "            }})\n",
    "      \n",
    "\n",
    "    def machine_state_changed(self, event):\n",
    "        logging.info(event.kwargs)\n",
    "        db.trades.update_one({'_id' : self.data['_id'] }, {\n",
    "        '$set': {\n",
    "            'state': 'ERROR',\n",
    "            'state': self.state\n",
    "          }})\n",
    "\n",
    "    def handle_error(self, event):\n",
    "        logging.info(event.kwargs)\n",
    "        db.trades.update_one({'_id' : self.data['_id'] }, {\n",
    "        '$set': {\n",
    "            'state': 'ERROR',\n",
    "            'error': { \n",
    "                'error': event.error,\n",
    "                'kwargs': event.kwargs \n",
    "                }\n",
    "          }})\n"
   ],
   "outputs": [],
   "metadata": {}
  },
  {
   "cell_type": "code",
   "execution_count": null,
   "source": [
    "\n"
   ],
   "outputs": [],
   "metadata": {}
  },
  {
   "cell_type": "code",
   "execution_count": null,
   "source": [],
   "outputs": [],
   "metadata": {}
  },
  {
   "cell_type": "code",
   "execution_count": 7,
   "source": [
    "def add_trade_machine(trade):\n",
    "    if not trade['symbol'] in trades: trades[trade['symbol']] = {}\n",
    "    model = TradeModel(trade)\n",
    "    trades[trade['symbol']][str(trade['_id'])] = model\n",
    "    return model\n",
    "\n",
    "def load_trades_from_db():\n",
    "    for trade in db.trades.find():\n",
    "        try:\n",
    "            add_trade_machine(trade)\n",
    "        except BaseException as err:\n",
    "            logging.error(err)\n",
    "            \n"
   ],
   "outputs": [],
   "metadata": {}
  },
  {
   "cell_type": "code",
   "execution_count": 8,
   "source": [
    "load_trades_from_db()"
   ],
   "outputs": [],
   "metadata": {}
  },
  {
   "cell_type": "code",
   "execution_count": 23,
   "source": [
    "# trades\n",
    "model = [*trades['ALGOUSDT'].values()][0]\n",
    "# model.update(data={'$set': {'curStopResp': None}})\n",
    "model.movestop(data={'$set': {'stop': 1.78}})\n",
    "# model.machine\n",
    "# model.movestop(stop= 1.6)\n",
    "# tradeModel.movestop(stop=1.7930)\n",
    "# [*trades['ALGOUSDT'].values()]\n",
    "# str(ObjectId('615e6a55022458a789d8cb84'))"
   ],
   "outputs": [
    {
     "output_type": "stream",
     "name": "stderr",
     "text": [
      "INFO:root:{'data': {'$set': {'curStopResp': None}}}\n",
      "INFO:transitions.core:Executed callback 'save_to_db'\n",
      "INFO:root:{'data': {'$set': {'curStopResp': None}}}\n",
      "INFO:transitions.core:Executed callback 'load_from_db'\n",
      "INFO:root:{'data': {'$set': {'curStopResp': None}}}\n",
      "INFO:transitions.core:Executed callback 'machine_state_changed'\n",
      "INFO:root:{'data': {'$set': {'curStopResp': None}}}\n",
      "INFO:transitions.core:Executed callback 'load_from_db'\n"
     ]
    },
    {
     "output_type": "execute_result",
     "data": {
      "text/plain": [
       "True"
      ]
     },
     "metadata": {},
     "execution_count": 23
    }
   ],
   "metadata": {}
  },
  {
   "cell_type": "markdown",
   "source": [
    "load_trades_from_tb()"
   ],
   "metadata": {}
  },
  {
   "cell_type": "code",
   "execution_count": 10,
   "source": [
    "async def run_ticker():\n",
    "    socket = zContext.socket(zmq.SUB)\n",
    "    socket.connect(\"tcp://localhost:5556\")\n",
    "    socket.setsockopt_string(zmq.SUBSCRIBE, 'TICKER')\n",
    "\n",
    "    while True:\n",
    "        tickerString = await socket.recv_string()\n",
    "        _, symbol, ticker = tickerString.split()\n",
    "        ticker = json.loads(ticker)\n",
    "        if symbol in trades:        \n",
    "            for model in trades[symbol].values():\n",
    "                if model.state in ['LIVE', 'LONG']:\n",
    "                    model.tick(ticker=ticker)\n",
    "                    "
   ],
   "outputs": [],
   "metadata": {}
  },
  {
   "cell_type": "code",
   "execution_count": null,
   "source": [],
   "outputs": [],
   "metadata": {}
  },
  {
   "cell_type": "code",
   "execution_count": 11,
   "source": [
    "# async def another_thread_coro():\n",
    "#     while True:\n",
    "#         print('another_thread_coro', datetime.now())\n",
    "#         await asyncio.sleep(1);\n",
    "\n",
    "# await another_thread_coro()"
   ],
   "outputs": [],
   "metadata": {}
  },
  {
   "cell_type": "code",
   "execution_count": 12,
   "source": [
    "from threading import Thread\n",
    "\n",
    "ticker_loop = asyncio.new_event_loop()\n",
    "\n",
    "def setup_loop(loop):\n",
    "    asyncio.set_event_loop(loop)\n",
    "    loop.run_forever()\n",
    "\n",
    "ticker_thread = Thread(target=setup_loop, args=(ticker_loop,))\n",
    "ticker_thread.start()\n",
    "ticker_future = asyncio.run_coroutine_threadsafe(run_ticker(), ticker_loop)"
   ],
   "outputs": [],
   "metadata": {}
  },
  {
   "cell_type": "code",
   "execution_count": 13,
   "source": [
    "def createTrade(symbol, state, qty, trigger, stop, target):\n",
    "    datecreated = datetime.now().strftime(\"%Y-%m-%dT%H:%M:%S\")\n",
    "    tradeRes = db.trades.insert_one({\n",
    "            \"id\": f\"{symbol}_{datecreated}\",\n",
    "            \"datecreated\" : datecreated,\n",
    "            \"state\": state,\n",
    "            \"symbol\" : symbol,\n",
    "            \"trigger\": trigger,\n",
    "            \"stop\": stop,\n",
    "            \"target\": target,\n",
    "            \"qty\": qty\n",
    "        })\n",
    "    trade = db.trades.find_one({'_id': tradeRes.inserted_id})\n",
    "    # add_trade_machine(trade)\n",
    "    return trade"
   ],
   "outputs": [],
   "metadata": {}
  },
  {
   "cell_type": "code",
   "execution_count": 14,
   "source": [
    "# (capital, risk) = 50000, 0.01\n",
    "# symbol, state = 'ALGOUSDT', 'DISABLED'\n",
    "# (trigger, stop, target) = 1.764, 1.706, 1.923\n",
    "# qty = (capital * risk) / (trigger - stop) \n",
    "# size = qty * trigger\n",
    "\n",
    "# # trade = createTrade(symbol, state, qty, trigger, stop, target)\n",
    "# # (tradeModel, tradeMachine) = add_trade_machine(trade)\n",
    "\n",
    "# # tradeModel.start()\n",
    "# # tradeModel\n",
    "# qty,size"
   ],
   "outputs": [],
   "metadata": {}
  },
  {
   "cell_type": "code",
   "execution_count": 15,
   "source": [
    "# (capital, risk) = 50000, 0.01\n",
    "# symbol, state = 'ALGOUSDT', 'DISABLED'\n",
    "# (trigger, stop, target) = 1.7531, 1.7715, 1.9914\n",
    "# qty = (capital * risk) / (trigger - stop) \n",
    "# size = qty * trigger\n",
    "\n",
    "# trade = createTrade(symbol, state, qty, trigger, stop, target)\n",
    "# (tradeModel, tradeMachine) = add_trade_machine(trade)\n",
    "\n",
    "# tradeModel.start()\n",
    "# tradeModel"
   ],
   "outputs": [],
   "metadata": {}
  },
  {
   "cell_type": "code",
   "execution_count": 16,
   "source": [
    "\n",
    "# symbol, state = 'ALGOUSDT', 'DISABLED'\n",
    "# (trigger, stop, target) = 2, 1.7735, 2.20\n",
    "# trade = createTrade(symbol, state, 15, trigger, stop, target)\n",
    "# (tradeModel, tradeMachine) = add_trade_machine(trade)\n",
    "\n",
    "# tradeModel.start()\n",
    "# tradeModel"
   ],
   "outputs": [],
   "metadata": {}
  },
  {
   "cell_type": "code",
   "execution_count": 17,
   "source": [
    "# trades = {} \n",
    "# load_trades_from_db()\n",
    "# trades"
   ],
   "outputs": [],
   "metadata": {}
  },
  {
   "cell_type": "code",
   "execution_count": 18,
   "source": [
    "# # trades\n",
    "# for symbol, trade_chunk_arr in trades.items():\n",
    "#     for chunk in trade_chunk_arr:\n",
    "#         model = chunk['model'] \n",
    "#         machine = chunk['machine']\n",
    "#         if model.state != 'LONG':\n",
    "#             continue\n",
    "#         trade = model.trade\n",
    "#         stop_order = exchange.fetchOrder(trade['curStopResp']['id'], symbol=symbol)\n",
    "#         if exchange.fetchOrderStatus(trade['curStopResp']['id'], symbol='ALGOUSDT') == 'closed':\n",
    "#             print(trade['id'], 'closed')\n",
    "#         # print(chunk)\n",
    "#     # print(tradeChunk)\n",
    "# # tradeModel.trade"
   ],
   "outputs": [],
   "metadata": {}
  },
  {
   "cell_type": "code",
   "execution_count": null,
   "source": [],
   "outputs": [],
   "metadata": {}
  },
  {
   "cell_type": "code",
   "execution_count": null,
   "source": [],
   "outputs": [],
   "metadata": {}
  }
 ],
 "metadata": {
  "orig_nbformat": 4,
  "language_info": {
   "name": "python",
   "version": "3.8.11",
   "mimetype": "text/x-python",
   "codemirror_mode": {
    "name": "ipython",
    "version": 3
   },
   "pygments_lexer": "ipython3",
   "nbconvert_exporter": "python",
   "file_extension": ".py"
  },
  "kernelspec": {
   "name": "python3",
   "display_name": "Python 3.8.11 64-bit ('py38': conda)"
  },
  "interpreter": {
   "hash": "2b64b82ed447a7d153a9c78a0705e81a741fff6a0d399ac51b9f2a89a43d4916"
  }
 },
 "nbformat": 4,
 "nbformat_minor": 2
}