{
 "cells": [
  {
   "cell_type": "code",
   "execution_count": 1,
   "source": [
    "from transitions import Machine\n",
    "\n",
    "from transitions.extensions.asyncio import AsyncTimeout, AsyncMachine\n",
    "\n",
    "import enum \n",
    "import logging\n",
    "import asyncio\n",
    "\n",
    "from pymongo import MongoClient\n",
    "from bson.objectid import ObjectId\n",
    "import uuid\n",
    "from pprint import pprint\n",
    "\n",
    "from datetime import datetime\n",
    "from math import floor, ceil\n",
    "import time\n",
    "from time import sleep\n",
    "\n",
    "import sys\n",
    "import os\n",
    "import zmq\n",
    "import zmq.asyncio\n",
    "# from s import Context\n",
    "import json\n",
    "\n",
    "logging.basicConfig(level=logging.INFO)\n",
    "\n",
    "import ccxt\n",
    "from dotenv import load_dotenv\n",
    "load_dotenv()\n"
   ],
   "outputs": [
    {
     "output_type": "execute_result",
     "data": {
      "text/plain": [
       "True"
      ]
     },
     "metadata": {},
     "execution_count": 1
    }
   ],
   "metadata": {}
  },
  {
   "cell_type": "code",
   "execution_count": 2,
   "source": [
    "client = MongoClient()\n",
    "db=client.fsmbot\n",
    "trades = {}\n",
    "\n",
    "context = zmq.asyncio.Context()\n"
   ],
   "outputs": [],
   "metadata": {}
  },
  {
   "cell_type": "code",
   "execution_count": 3,
   "source": [
    "exchange = getattr(ccxt, 'binance')({'apiKey': os.getenv('BINANCE_API_KEY'), 'secret': os.getenv('BINANCE_API_SECRET')})"
   ],
   "outputs": [],
   "metadata": {}
  },
  {
   "cell_type": "code",
   "execution_count": 4,
   "source": [
    "# t = db.trades.find_one({'_id': ObjectId(\"615cc81fa0d373f6b44b88b0\")})\n",
    "# t['curStopResp']"
   ],
   "outputs": [],
   "metadata": {}
  },
  {
   "cell_type": "code",
   "execution_count": 5,
   "source": [
    "# exchange.create_order('ALGO/USDT', 'market', 'buy', 15)\n",
    "# os.getenv('TEST')"
   ],
   "outputs": [],
   "metadata": {}
  },
  {
   "cell_type": "code",
   "execution_count": 6,
   "source": [
    "zContext = zmq.asyncio.Context()\n",
    "\n",
    "class TradeModel(object):\n",
    "    def __init__(self, trade): \n",
    "        self.trade = trade\n",
    "        self._id = trade['_id']\n",
    "        self.symbol = trade['symbol']\n",
    "        \n",
    "    def reload_from_db(self, event):\n",
    "        # print(f\"reloading {self._id}\")\n",
    "        self.trade = db.trades.find_one({'_id': ObjectId(self._id)})\n",
    "        # print(f\"reloaded {self.trade['_id']} {self.trade['symbol']} {self.trade['state']}\")\n",
    "        self.symbol = self.trade['symbol']\n",
    "        self.state = self.trade['state']\n",
    "        # print(f\"reloaded machine {self.symbol} {self.state}\")\n",
    "\n",
    "    def is_buy_signal(self, event):\n",
    "        ticker = event.kwargs['ticker']\n",
    "        if float(ticker['curDayClose']) <= float(self.trade['trigger']):\n",
    "            # logging.info(f'+BUY triggered for {self.symbol} / {self.trade[\"_id\"]}')\n",
    "            return True\n",
    "        # logging.info(f'-BUY triggered for {self.symbol} / {self.trade[\"_id\"]}')\n",
    "        return False\n",
    "\n",
    "    def is_sell_signal(self, event):\n",
    "        ticker = event.kwargs['ticker']\n",
    "        if float(ticker['curDayClose']) >= float(self.trade['target']):\n",
    "            # logging.info(f'+SELL triggered for {self.symbol} / {self.trade[\"_id\"]}')\n",
    "            return True\n",
    "        # logging.info(f'-SELL triggered for {self.symbol} / {self.trade[\"_id\"]}')\n",
    "        return False\n",
    "\n",
    "    def buy_on_exchange(self, event):\n",
    "        resp = exchange.create_order(self.symbol, 'market', 'buy', float(self.trade[\"qty\"]));\n",
    "        db.trades.update_one({'_id' : self.trade['_id'] }, {\n",
    "        '$set': {\n",
    "            'buyResp': resp\n",
    "          }})\n",
    "\n",
    "    def sell_on_exchange(self, event):\n",
    "        available_qty = self.trade[\"buyResp\"]['filled'] - self.trade[\"buyResp\"]['fee']['cost']\n",
    "        resp = exchange.create_order(self.symbol, 'market', 'sell', available_qty)\n",
    "        db.trades.update_one({'_id' : self.trade['_id'] }, {\n",
    "        '$set': {\n",
    "            'sellResp': resp\n",
    "          }})\n",
    "\n",
    "    def set_stop_on_exchange(self, event):\n",
    "        available_qty = self.trade[\"buyResp\"]['filled'] - self.trade[\"buyResp\"]['fee']['cost']\n",
    "        resp = exchange.create_order(self.symbol, 'STOP_LOSS_LIMIT', 'sell', available_qty, \n",
    "            0.90 * float(self.trade[\"stop\"]), {'stopPrice': float(self.trade[\"stop\"]),'type': 'stopLimit'})\n",
    "        db.trades.update_one({'_id' : self.trade['_id'] }, {\n",
    "        '$set': {\n",
    "            'curStopResp': resp\n",
    "          }})\n",
    "        # self.trade['curStopResp'] = resp\n",
    "\n",
    "    def remove_stop_on_exchange(self, event):\n",
    "        resp = exchange.cancel_order(self.trade['curStopResp']['id'], symbol=self.symbol)\n",
    "      \n",
    "    \n",
    "    def sellTriggered(self, event):\n",
    "        True\n",
    "\n",
    "    def machine_state_changed(self, event):\n",
    "        db.trades.update_one({'_id' : self.trade['_id'] }, {\n",
    "        '$set': {\n",
    "            'state': self.state\n",
    "          }})\n",
    "\n",
    "states = [\n",
    "    'ERROR',\n",
    "    'DISABLED',\n",
    "    'LIVE',\n",
    "    'LONG',\n",
    "    'STOPPED',\n",
    "    'SOLD'\n",
    "]\n",
    "transitions = [\n",
    "    { 'trigger': 'start', 'source': 'DISABLED', 'dest': 'LIVE'},\n",
    "    { 'trigger': 'disable', 'source': 'LIVE', 'dest': 'DISABLED'},\n",
    "    { 'trigger': 'tick', 'source': 'LIVE', 'dest': 'LONG', 'conditions': 'is_buy_signal', 'before' : ['buy_on_exchange', 'reload_from_db', 'set_stop_on_exchange']},\n",
    "    { 'trigger': 'movestop', 'source': 'LONG', 'dest': 'LONG' ,'before': ['remove_stop_on_exchange', 'set_stop_on_exchange']},\n",
    "    { 'trigger': 'stopped', 'source': 'LONG', 'dest': 'STOPPED'},\n",
    "    { 'trigger': 'tick', 'source': 'LONG', 'dest': 'SOLD' ,'conditions': 'is_sell_signal', 'before': ['remove_stop_on_exchange', 'sell_on_exchange']},\n",
    "]\n"
   ],
   "outputs": [],
   "metadata": {}
  },
  {
   "cell_type": "code",
   "execution_count": 7,
   "source": [
    "# loop = asyncio.get_running_loop()"
   ],
   "outputs": [],
   "metadata": {}
  },
  {
   "cell_type": "code",
   "execution_count": 21,
   "source": [
    "def load_trades_from_db():\n",
    "    for trade in db.trades.find():\n",
    "        if not trade['symbol'] in trades: trades[trade['symbol']] = []\n",
    "        tradeModel = TradeModel(trade)\n",
    "        tradeMachine = Machine(tradeModel, states=states, transitions=transitions, send_event=True, initial='DISABLED', \n",
    "            after_state_change=['machine_state_changed', 'reload_from_db'])\n",
    "        tradeMachine.set_state(trade['state'])\n",
    "        trades[trade['symbol']].append({'machine': tradeMachine, 'model': tradeModel})\n"
   ],
   "outputs": [],
   "metadata": {}
  },
  {
   "cell_type": "markdown",
   "source": [
    "load_trades_from_tb()"
   ],
   "metadata": {}
  },
  {
   "cell_type": "code",
   "execution_count": null,
   "source": [
    "# trades['SOLUSDT'][0]['model'].disable()\n",
    "model = trades['ALGOUSDT'][0]['model']\n",
    "# trades['ALGOUSDT'][0]['model'].tick(ticker={'curDayClose': 1})\n",
    "# loop = asyncio.get_event_loop()\n",
    "# loop.create_task(model.tick(ticker={'curDayClose': 1}))\n",
    "# asyncio.gather([model.tick(ticker={'curDayClose': 1})])\n",
    "# asyncio.get_event_loop().run_until_complete()\n",
    "\n",
    "# asyncio.run(asyncio.wait([model.tick(ticker={'curDayClose': 1})]))\n",
    "# await asyncio.wait(model.tick(ticker={'curDayClose': 1}))\n",
    "# model.tick(ticker={'curDayClose': \"1\"})\n",
    "# loop = asyncio.get_event_loop()\n",
    "# loop.run_until_complete()\n",
    "# model.start()\n",
    "# model.disable()\n",
    "model = trades['ALGOUSDT'][0]['model']\n",
    "machine = trades['ALGOUSDT'][0]['machine']\n",
    "# model.disable()\n",
    "model.reload_from_db({})\n",
    "\n",
    "model.tick(ticker = {'curDayClose': 1.8})\n",
    "# model.trade\n",
    "# # trades['ALGOUSDT'][0]['model'].state\n",
    "# trades['ALGOUSDT'][0]['model'].trade['curStopResp']['id']\n",
    "# trade = trades['ALGOUSDT'][0]['model'].trade\n",
    "# trade.tick(ticker = {'curStopResp': })\n",
    "# .start()"
   ],
   "outputs": [],
   "metadata": {}
  },
  {
   "cell_type": "code",
   "execution_count": 12,
   "source": [],
   "outputs": [],
   "metadata": {}
  },
  {
   "cell_type": "code",
   "execution_count": 20,
   "source": [
    "[[[k, t['model'].symbol, t['model'].state] for t in trades[k]] for k in trades.keys()]"
   ],
   "outputs": [
    {
     "output_type": "execute_result",
     "data": {
      "text/plain": [
       "[[['ALGOUSDT', 'ALGOUSDT', 'SOLD'], ['ALGOUSDT', 'ALGOUSDT', 'SOLD']],\n",
       " [['BTCUSDT', 'BTCUSDT', 'DISABLED'], ['BTCUSDT', 'BTCUSDT', 'DISABLED']],\n",
       " [['SOLUSDT', 'SOLUSDT', 'DISABLED'], ['SOLUSDT', 'SOLUSDT', 'DISABLED']]]"
      ]
     },
     "metadata": {},
     "execution_count": 20
    }
   ],
   "metadata": {}
  },
  {
   "cell_type": "code",
   "execution_count": 16,
   "source": [
    "# db.trades.find_one({'symbol': 'ALGOUSDT'})\n",
    "# [o['id'] for o in exchange.fetch_open_orders('ALGOUSDT')]\n",
    "# exchange.cancel_order('683898256', symbol='ALGOUSDT')\n",
    "\n",
    "trades = {}\n",
    "load_trades_from_db()"
   ],
   "outputs": [],
   "metadata": {}
  },
  {
   "cell_type": "code",
   "execution_count": 18,
   "source": [
    "\n",
    "\n",
    "# Process 5 updates\n",
    "async def run_ticker():\n",
    "    socket = context.socket(zmq.SUB)\n",
    "    socket.connect(\"tcp://localhost:5556\")\n",
    "    socket.setsockopt_string(zmq.SUBSCRIBE, 'TICKER')\n",
    "\n",
    "    while True:\n",
    "        tickerString = await socket.recv_string()\n",
    "        _, symbol, ticker = tickerString.split()\n",
    "        ticker = json.loads(ticker)\n",
    "        # print(symbol)\n",
    "        if symbol in trades:        \n",
    "            for trade in trades[symbol]:\n",
    "                model = trade['model']\n",
    "                # [tradeMachine, tradeModel] = trade\n",
    "                # print(trade['model'])\n",
    "                if model.state in ['LIVE', 'LONG']:\n",
    "                    # print(ticker)\n",
    "                    # print(symbol)\n",
    "                    model.tick(ticker=ticker)\n",
    "        # pprint(ticker)\n",
    "        # await asyncio.sleep(0.01)\n",
    "    \n",
    "await run_ticker()\n",
    "    # print('received', ticker)\n",
    "    # zipcode, temperature, relhumidity = string.split()\n",
    "    # total_temp += int(temperature)\n",
    "# loop = asyncio.get_event_loop()\n",
    "# loop.create_task(run_ticker())\n"
   ],
   "outputs": [
    {
     "output_type": "error",
     "ename": "CancelledError",
     "evalue": "",
     "traceback": [
      "\u001b[0;31m---------------------------------------------------------------------------\u001b[0m",
      "\u001b[0;31mCancelledError\u001b[0m                            Traceback (most recent call last)",
      "\u001b[0;32m/tmp/ipykernel_170134/1393000900.py\u001b[0m in \u001b[0;36m<module>\u001b[0;34m\u001b[0m\n\u001b[1;32m     22\u001b[0m         \u001b[0;31m# await asyncio.sleep(0.01)\u001b[0m\u001b[0;34m\u001b[0m\u001b[0;34m\u001b[0m\u001b[0;34m\u001b[0m\u001b[0m\n\u001b[1;32m     23\u001b[0m \u001b[0;34m\u001b[0m\u001b[0m\n\u001b[0;32m---> 24\u001b[0;31m \u001b[0;32mawait\u001b[0m \u001b[0mrun_ticker\u001b[0m\u001b[0;34m(\u001b[0m\u001b[0;34m)\u001b[0m\u001b[0;34m\u001b[0m\u001b[0;34m\u001b[0m\u001b[0m\n\u001b[0m\u001b[1;32m     25\u001b[0m     \u001b[0;31m# print('received', ticker)\u001b[0m\u001b[0;34m\u001b[0m\u001b[0;34m\u001b[0m\u001b[0;34m\u001b[0m\u001b[0m\n\u001b[1;32m     26\u001b[0m     \u001b[0;31m# zipcode, temperature, relhumidity = string.split()\u001b[0m\u001b[0;34m\u001b[0m\u001b[0;34m\u001b[0m\u001b[0;34m\u001b[0m\u001b[0m\n",
      "\u001b[0;32m/tmp/ipykernel_170134/1393000900.py\u001b[0m in \u001b[0;36mrun_ticker\u001b[0;34m()\u001b[0m\n\u001b[1;32m      6\u001b[0m \u001b[0;34m\u001b[0m\u001b[0m\n\u001b[1;32m      7\u001b[0m     \u001b[0;32mwhile\u001b[0m \u001b[0;32mTrue\u001b[0m\u001b[0;34m:\u001b[0m\u001b[0;34m\u001b[0m\u001b[0;34m\u001b[0m\u001b[0m\n\u001b[0;32m----> 8\u001b[0;31m         \u001b[0mtickerString\u001b[0m \u001b[0;34m=\u001b[0m \u001b[0;32mawait\u001b[0m \u001b[0msocket\u001b[0m\u001b[0;34m.\u001b[0m\u001b[0mrecv_string\u001b[0m\u001b[0;34m(\u001b[0m\u001b[0;34m)\u001b[0m\u001b[0;34m\u001b[0m\u001b[0;34m\u001b[0m\u001b[0m\n\u001b[0m\u001b[1;32m      9\u001b[0m         \u001b[0m_\u001b[0m\u001b[0;34m,\u001b[0m \u001b[0msymbol\u001b[0m\u001b[0;34m,\u001b[0m \u001b[0mticker\u001b[0m \u001b[0;34m=\u001b[0m \u001b[0mtickerString\u001b[0m\u001b[0;34m.\u001b[0m\u001b[0msplit\u001b[0m\u001b[0;34m(\u001b[0m\u001b[0;34m)\u001b[0m\u001b[0;34m\u001b[0m\u001b[0;34m\u001b[0m\u001b[0m\n\u001b[1;32m     10\u001b[0m         \u001b[0mticker\u001b[0m \u001b[0;34m=\u001b[0m \u001b[0mjson\u001b[0m\u001b[0;34m.\u001b[0m\u001b[0mloads\u001b[0m\u001b[0;34m(\u001b[0m\u001b[0mticker\u001b[0m\u001b[0;34m)\u001b[0m\u001b[0;34m\u001b[0m\u001b[0;34m\u001b[0m\u001b[0m\n",
      "\u001b[0;31mCancelledError\u001b[0m: "
     ]
    }
   ],
   "metadata": {}
  },
  {
   "cell_type": "code",
   "execution_count": null,
   "source": [
    "load_trades_from_db()"
   ],
   "outputs": [],
   "metadata": {}
  },
  {
   "cell_type": "code",
   "execution_count": null,
   "source": [
    "float(\"\")"
   ],
   "outputs": [],
   "metadata": {}
  },
  {
   "cell_type": "code",
   "execution_count": null,
   "source": [],
   "outputs": [],
   "metadata": {}
  }
 ],
 "metadata": {
  "orig_nbformat": 4,
  "language_info": {
   "name": "python",
   "version": "3.8.11",
   "mimetype": "text/x-python",
   "codemirror_mode": {
    "name": "ipython",
    "version": 3
   },
   "pygments_lexer": "ipython3",
   "nbconvert_exporter": "python",
   "file_extension": ".py"
  },
  "kernelspec": {
   "name": "python3",
   "display_name": "Python 3.8.11 64-bit ('py38': conda)"
  },
  "interpreter": {
   "hash": "2b64b82ed447a7d153a9c78a0705e81a741fff6a0d399ac51b9f2a89a43d4916"
  }
 },
 "nbformat": 4,
 "nbformat_minor": 2
}