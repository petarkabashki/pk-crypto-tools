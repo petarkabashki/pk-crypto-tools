{
 "cells": [
  {
   "cell_type": "code",
   "execution_count": 12,
   "metadata": {},
   "outputs": [],
   "source": [
    "import sys\n",
    "import os\n",
    "import enum \n",
    "import asyncio\n",
    "###\n",
    "from datetime import datetime\n",
    "from math import floor, ceil, copysign\n",
    "import time\n",
    "from time import sleep\n",
    "###\n",
    "import json\n",
    "###\n",
    "from dotenv import load_dotenv\n",
    "load_dotenv()\n",
    "###\n",
    "import zmq\n",
    "zContext = zmq.asyncio.Context()\n",
    "###\n",
    "import logging\n",
    "logger = logging.getLogger()\n",
    "# from zmq.log.handlers import PUBHandler\n",
    "# zmq_log_handler = PUBHandler('tcp://127.0.0.1:55356')\n",
    "# zmq_log_handler.setFormatter(logging.Formatter(fmt='{name} > {message}', style='{'))\n",
    "# zmq_log_handler.setFormatter(logging.Formatter(fmt='{name} #{lineno:>3} > {message}', style='{'), logging.DEBUG)\n",
    "# zmq_log_handler.setRootTopic('greeter')\n",
    "# logger.addHandler(zmq_log_handler)\n",
    "\n",
    "logger.setLevel(logging.DEBUG)\n",
    "###\n",
    "from pymongo import MongoClient\n",
    "from bson.objectid import ObjectId\n",
    "import uuid\n",
    "client = MongoClient()\n",
    "db=client.fsmbot\n",
    "###\n",
    "import ccxt\n",
    "exchanges = {\n",
    "    'binance': getattr(ccxt, 'binance')({'apiKey': os.getenv('BINANCE_API_KEY'), 'secret': os.getenv('BINANCE_API_SECRET')}),\n",
    "    'kucoin': getattr(ccxt, 'kucoin')({'apiKey': os.getenv('KUCOIN_API_KEY'), 'secret': os.getenv('KUCOIN_API_SECRET'), 'password': os.getenv('KUCOIN_API_PASSWORD')})\n",
    "    # 'ftx': getattr(ccxt, 'ftx')({'apiKey': os.getenv('FTX_API_KEY'), 'secret': os.getenv('FTX_API_SECRET')})\n",
    "}\n",
    "###\n",
    "from trade_machine import TradeModel\n",
    "\n",
    "from dotmap import DotMap\n",
    "\n",
    "price_ticker = {}\n",
    "trades = {}\n"
   ]
  },
  {
   "cell_type": "markdown",
   "metadata": {},
   "source": [
    "import zmq\n",
    "import zmq.asyncio\n",
    "zContext = zmq.asyncio.Context()"
   ]
  },
  {
   "cell_type": "code",
   "execution_count": null,
   "metadata": {},
   "outputs": [],
   "source": []
  },
  {
   "cell_type": "code",
   "execution_count": 2,
   "metadata": {},
   "outputs": [],
   "source": [
    "async def run_ticker():\n",
    "    socket = zContext.socket(zmq.SUB)\n",
    "    socket.connect(\"tcp://localhost:5556\")\n",
    "    socket.setsockopt_string(zmq.SUBSCRIBE, 'TICKER')\n",
    "\n",
    "    while True:\n",
    "        tickerString = await socket.recv_string()\n",
    "        _, exchange, symbol, ticker = tickerString.split()\n",
    "        ticker = json.loads(ticker)\n",
    "        price_ticker[symbol] = ticker\n",
    "        if symbol in trades:\n",
    "            for model in trades[symbol].values():\n",
    "                if model.state in ['LIVE', 'LONG']:\n",
    "                    model.tick(ticker=ticker)\n",
    "\n",
    "from threading import Thread\n",
    "\n",
    "ticker_loop = asyncio.new_event_loop()\n",
    "\n",
    "def setup_loop(loop):\n",
    "    asyncio.set_event_loop(loop)\n",
    "    loop.run_forever()\n",
    "\n",
    "ticker_thread = Thread(target=setup_loop, args=(ticker_loop,))\n",
    "ticker_thread.start()\n",
    "ticker_future = asyncio.run_coroutine_threadsafe(run_ticker(), ticker_loop)  "
   ]
  },
  {
   "cell_type": "code",
   "execution_count": 15,
   "metadata": {},
   "outputs": [],
   "source": [
    "\n",
    "def watch(self):\n",
    "    market = self.rec.market\n",
    "    if not market in trades: trades[market] = {}\n",
    "    trades[market][str(self.rec._id)] = self\n",
    "    # trades[str(self.rec._id)] = self\n",
    "\n",
    "def unwatch(self, event=None):\n",
    "    trades[self.rec.market].pop(self.rec._id, None)\n",
    "    # trades.pop(self.rec._id, None)\n",
    "\n",
    "def drop(trade):\n",
    "    unwatch(trade)\n",
    "    trade.delete()\n",
    "\n",
    "# def get_trades():\n",
    "#     return trades\n",
    "\n",
    "def load_trades(db):\n",
    "    trades.clear()\n",
    "    for trade in db.find():\n",
    "        try:\n",
    "            exchange = exchanges[trade['exchange']]\n",
    "            model = TradeModel(exchange, db)\n",
    "            model.attach(rec=trade)\n",
    "            watch(model)\n",
    "        except BaseException as err:\n",
    "            logging.error(err)\n",
    "    return trades"
   ]
  },
  {
   "cell_type": "code",
   "execution_count": 16,
   "metadata": {},
   "outputs": [
    {
     "data": {
      "text/plain": [
       "{}"
      ]
     },
     "execution_count": 16,
     "metadata": {},
     "output_type": "execute_result"
    }
   ],
   "source": [
    "logger.setLevel(logging.INFO)\n",
    "for exchange_name, exchange in exchanges.items():\n",
    "    exchange.load_markets()\n",
    "# exchange.load_markets()\n",
    "load_trades(db.trades)\n",
    "trades"
   ]
  },
  {
   "cell_type": "markdown",
   "metadata": {},
   "source": [
    "load_trades_from_tb()"
   ]
  },
  {
   "cell_type": "code",
   "execution_count": 31,
   "metadata": {},
   "outputs": [],
   "source": [
    "def normalize_values(symbol, qty, trigger, stop, stop_limit, target):\n",
    "    return {'qty': exchange.amount_to_precision(symbol, qty), \n",
    "        'trigger': exchange.price_to_precision(symbol, trigger),\n",
    "        'stop': exchange.price_to_precision(symbol, stop),\n",
    "        'stop_limit': exchange.price_to_precision(symbol, stop_limit),\n",
    "        'target': exchange.price_to_precision(symbol, target)\n",
    "    }\n",
    "\n",
    "\n",
    "def calc_trade(exchange_name, capital, risk_perc, symbol, trigger, stop, target):\n",
    "    ntrigger = float(exchange.price_to_precision(symbol, trigger))\n",
    "    ntarget = float(exchange.price_to_precision(symbol, target))\n",
    "    nstop = float(exchange.price_to_precision(symbol, stop))\n",
    "    nstop_limit = float(exchange.price_to_precision(symbol, nstop * (1.0 + copysign(0.05, ntrigger-ntarget))))\n",
    "    ntarget = float(exchange.price_to_precision(symbol, target))\n",
    "    risk_size = capital * risk_perc\n",
    "    nrisk_size = float(exchange.cost_to_precision(symbol, risk_size))\n",
    "\n",
    "    qty = float(exchange.amount_to_precision(symbol, risk_size / (trigger - stop)))\n",
    "    size = qty * trigger\n",
    "    nsize = float(exchange.cost_to_precision(symbol, size))\n",
    "    proj_profit =float(exchange.cost_to_precision(symbol,(ntarget - ntrigger) * qty))\n",
    "    proj_loss =float(exchange.cost_to_precision(symbol,(ntrigger - nstop) * qty))\n",
    "    # profit_perc = round(proj_profit / ntrigger * 100, 2)\n",
    "    # loss_perc = round(proj_loss / ntrigger * 100, 2)\n",
    "    r2r = round(proj_profit / proj_loss, 2)\n",
    "    return {'exchange': exchange_name, 'symbol': symbol, 'size': size, 'risk_size': nrisk_size, 'qty': qty, 'r2r': r2r, \n",
    "        'proj_profit': proj_profit, 'proj_loss': proj_loss,\n",
    "        # 'profit_perc' : profit_perc, 'loss_perc' : loss_perc, \n",
    "        'trigger': ntrigger, 'stop': nstop, 'stop_limit': nstop_limit, 'target': ntarget}\n",
    "\n",
    "\n",
    "def create_trade(exchange_name, capital, risk_perc, symbol, trigger, stop, target):\n",
    "    exchange = exchanges[exchange_name]\n",
    "    market = exchange.market(symbol)\n",
    "    trade_values = calc_trade(exchange_name, capital, risk_perc, symbol, trigger, stop, target)\n",
    "    trade = TradeModel(exchange, db.trades)\n",
    "    trade.insert(data={\"state\": 'DISABLED', 'market': market['id'], **trade_values})\n",
    "    return trade\n",
    "\n",
    "def run_trade(exchange_name, capital, risk_perc, symbol, trigger, stop, target):\n",
    "    trade = create_trade(exchange_name, capital, risk_perc, symbol, trigger, stop, target)\n",
    "    trade.start()\n",
    "    watch(trade)\n",
    "    return trade\n"
   ]
  },
  {
   "cell_type": "code",
   "execution_count": 108,
   "metadata": {},
   "outputs": [
    {
     "ename": "AttributeError",
     "evalue": "'kucoin' object has no attribute 'privateGetOrderList'",
     "output_type": "error",
     "traceback": [
      "\u001b[0;31m---------------------------------------------------------------------------\u001b[0m",
      "\u001b[0;31mAttributeError\u001b[0m                            Traceback (most recent call last)",
      "\u001b[0;32m/tmp/ipykernel_496720/1461254932.py\u001b[0m in \u001b[0;36m<module>\u001b[0;34m\u001b[0m\n\u001b[1;32m      1\u001b[0m \u001b[0;32mfor\u001b[0m \u001b[0mtrade\u001b[0m \u001b[0;32min\u001b[0m \u001b[0mdb\u001b[0m\u001b[0;34m.\u001b[0m\u001b[0mtrades\u001b[0m\u001b[0;34m.\u001b[0m\u001b[0mfind\u001b[0m\u001b[0;34m(\u001b[0m\u001b[0;34m{\u001b[0m\u001b[0;34m'state'\u001b[0m\u001b[0;34m:\u001b[0m \u001b[0;34m{\u001b[0m\u001b[0;34m'$in'\u001b[0m\u001b[0;34m:\u001b[0m \u001b[0;34m[\u001b[0m\u001b[0;34m'LONG'\u001b[0m\u001b[0;34m,\u001b[0m \u001b[0;34m'LONG_OCO'\u001b[0m\u001b[0;34m]\u001b[0m\u001b[0;34m}\u001b[0m\u001b[0;34m}\u001b[0m\u001b[0;34m)\u001b[0m\u001b[0;34m:\u001b[0m\u001b[0;34m\u001b[0m\u001b[0;34m\u001b[0m\u001b[0m\n\u001b[1;32m      2\u001b[0m     \u001b[0;32mif\u001b[0m \u001b[0;34m'oco'\u001b[0m \u001b[0;32min\u001b[0m \u001b[0mtrade\u001b[0m\u001b[0;34m:\u001b[0m\u001b[0;34m\u001b[0m\u001b[0;34m\u001b[0m\u001b[0m\n\u001b[0;32m----> 3\u001b[0;31m         \u001b[0morder_list\u001b[0m \u001b[0;34m=\u001b[0m \u001b[0mexchange\u001b[0m\u001b[0;34m.\u001b[0m\u001b[0mprivateGetOrderList\u001b[0m\u001b[0;34m(\u001b[0m\u001b[0;34m{\u001b[0m\u001b[0;34m'orderListId'\u001b[0m\u001b[0;34m:\u001b[0m \u001b[0mtrade\u001b[0m\u001b[0;34m[\u001b[0m\u001b[0;34m'oco'\u001b[0m\u001b[0;34m]\u001b[0m\u001b[0;34m[\u001b[0m\u001b[0;34m'orderListId'\u001b[0m\u001b[0;34m]\u001b[0m\u001b[0;34m}\u001b[0m\u001b[0;34m)\u001b[0m\u001b[0;34m\u001b[0m\u001b[0;34m\u001b[0m\u001b[0m\n\u001b[0m\u001b[1;32m      4\u001b[0m         \u001b[0;32mif\u001b[0m \u001b[0morder_list\u001b[0m\u001b[0;34m[\u001b[0m\u001b[0;34m'listOrderStatus'\u001b[0m\u001b[0;34m]\u001b[0m \u001b[0;34m==\u001b[0m \u001b[0;34m'ALL_DONE'\u001b[0m\u001b[0;34m:\u001b[0m\u001b[0;34m\u001b[0m\u001b[0;34m\u001b[0m\u001b[0m\n\u001b[1;32m      5\u001b[0m             \u001b[0;31m# trade.ocodone(data)\u001b[0m\u001b[0;34m\u001b[0m\u001b[0;34m\u001b[0m\u001b[0;34m\u001b[0m\u001b[0m\n",
      "\u001b[0;31mAttributeError\u001b[0m: 'kucoin' object has no attribute 'privateGetOrderList'"
     ]
    }
   ],
   "source": [
    "for trade in db.trades.find({'state': {'$in': ['LONG', 'LONG_OCO']}}):\n",
    "    if 'oco' in trade:\n",
    "        order_list = exchange.privateGetOrderList({'orderListId': trade['oco']['orderListId']})\n",
    "        if order_list['listOrderStatus'] == 'ALL_DONE':\n",
    "            # trade.ocodone(data)\n",
    "            db.trades.update_one({'_id' : trade['id'] }, {'$set': {'state': 'OCO_DONE'}})\n",
    "    print(trade['id'])\n",
    "\n",
    "load_trades(db.trades)\n",
    "trades"
   ]
  },
  {
   "cell_type": "code",
   "execution_count": 95,
   "metadata": {},
   "outputs": [
    {
     "data": {
      "text/plain": [
       "241963.41797249907"
      ]
     },
     "execution_count": 95,
     "metadata": {},
     "output_type": "execute_result"
    }
   ],
   "source": [
    "balances = exchanges['binance'].fetchBalance()\n",
    "tickers = exchanges['binance'].fetchTickers()\n",
    "# balances['info']['balances']\n",
    "tot = 0\n",
    "base = 'USDT'\n",
    "for b in balances['info']['balances']:\n",
    "    if float(b['free']) == 0: continue\n",
    "    if base == b[\"asset\"] :\n",
    "        tot += float(b[\"free\"])\n",
    "        continue\n",
    "    if not f'{b[\"asset\"]}/{base}' in tickers: continue\n",
    "\n",
    "    tot = tot + float(b['free']) * tickers[f'{b[\"asset\"]}/{base}']['last']\n",
    "tot\n",
    "# tickers['BTC/USDT']['last']\n",
    "# balances['info']['balances'][0]['free']\n",
    "# balances"
   ]
  },
  {
   "cell_type": "code",
   "execution_count": 32,
   "metadata": {},
   "outputs": [
    {
     "data": {
      "text/plain": [
       "{'exchange': 'binance',\n",
       " 'symbol': 'AVAX/USDT',\n",
       " 'size': 1000.0,\n",
       " 'risk_size': 100.0,\n",
       " 'qty': 10.0,\n",
       " 'r2r': 5.0,\n",
       " 'proj_profit': 500.0,\n",
       " 'proj_loss': 100.0,\n",
       " 'trigger': 100.0,\n",
       " 'stop': 90.0,\n",
       " 'stop_limit': 85.5,\n",
       " 'target': 150.0}"
      ]
     },
     "execution_count": 32,
     "metadata": {},
     "output_type": "execute_result"
    }
   ],
   "source": [
    "symbol = 'AVAX/USDT'\n",
    "exchange_name = 'binance'\n",
    "exchange = exchanges[exchange_name]\n",
    "market = exchange.market(symbol)\n",
    "nsymbol = market['id']\n",
    "\n",
    "exchange.fetchTicker(symbol)\n",
    "ticker = exchange.fetchTicker(symbol)\n",
    "last_price = ticker['last']\n",
    "\n",
    "# trigger = last_price * 1.001\n",
    "# trigger = 3.08\n",
    "calc_trade(exchange_name, 10000, 0.01, symbol, 100, 90, 150)\n",
    "\n",
    "\n",
    "# create_trade(20000, 0.01, symbol, 51.40, 50.93, 53.80)\n",
    "# trades = load_trades(exchange, db.trades)"
   ]
  },
  {
   "cell_type": "code",
   "execution_count": 19,
   "metadata": {},
   "outputs": [
    {
     "data": {
      "text/plain": [
       "{}"
      ]
     },
     "execution_count": 19,
     "metadata": {},
     "output_type": "execute_result"
    }
   ],
   "source": [
    "# trades['AVAXUSDT']['6196ee84e54bf1cda680a215'].update(data={'$set': calc_trade(exchange_name, 50000, 0.01, symbol, 98.50, 96.36, 104)})\n",
    "# trades['AVAXUSDT']['6196ee84e54bf1cda680a215'].moveoco(data={'$set': {'stop': 97.80}})\n",
    "# trades['AVAXUSDT']['6196ee84e54bf1cda680a215'].moveoco(data={'$set': {'target': 96.15}})\n",
    "# trades['AVAXUSDT']['6196ee84e54bf1cda680a215'].sell()\n",
    "# drop(list(trades['MANAUSDT'].values())[0])\n",
    "load_trades(db.trades)\n",
    "# trades\n",
    "# trades['LRCUSDT']['61946229996b6e9512698beb']\n",
    "# trade.start()\n",
    "# trade.watch()\n",
    "# trade = list(trades['DOTUSDT'].values())[0]\n",
    "# trade.tick({'eventType': '24hrTicker', 'eventTime': 1635812425874, 'symbol': 'ADAUSDT', 'priceChange': '-0.02400000', 'priceChangePercent': '-1.217', 'weightedAvg': '1.96039439', 'prevDayClose': '1.97200000', 'curDayClose': '1.94800000', 'closeTradeQuantity': '113.00000000', 'bestBid': '1.94800000', 'bestBidQnt': '19309.10000000', 'bestAsk': '1.94900000', 'bestAskQnt': '49035.80000000', 'open': '1.97200000', 'high': '2.01900000', 'low': '1.91100000', 'volume': '142367482.50000000', 'volumeQuote': '279096414.06090000', 'openTime': 1635726025874, 'closeTime': 1635812425874, 'firstTradeId': 307530389, 'lastTradeId': 307972281, 'totalTrades': 441893})\n",
    "# trade = trades[nsymbol]\n",
    "# trade = create\n",
    "# trade.removeoco(data={'$set': {'stop': 1.940}})\n",
    "# trade.state = 'LONG_OCO'\n",
    "# trade.setoco()\n",
    "# trade.canceloco()\n",
    "# trade.sell()\n",
    "# trade.moveoco(data={'$set': {'target': 268.4}})\n",
    "\n",
    "# trade.update(data={'$set': {'target': 1.1970, 'stop': 1.920}})\n",
    "# trade.removestop()\n",
    "# trade.delete()\n",
    "# db.trades.insert_one(trade.rec)\n",
    "\n",
    "# trade.delete()\n",
    "# trade.sell()\n",
    "# trade"
   ]
  },
  {
   "cell_type": "code",
   "execution_count": 12,
   "metadata": {},
   "outputs": [
    {
     "data": {
      "text/plain": [
       "{'LRCUSDT': {'619588a1ab4a19baee90c30f': 619588a1ab4a19baee90c30f LONG_OCO LRC/USDT 14705.0,\n",
       "  '61958957ab4a19baee90c310': 61958957ab4a19baee90c310 LIVE LRC/USDT 9090.0},\n",
       " 'MANAUSDT': {'6195b1153ea22c56e4f12017': 6195b1153ea22c56e4f12017 LIVE MANA/USDT 10000.0}}"
      ]
     },
     "execution_count": 12,
     "metadata": {},
     "output_type": "execute_result"
    }
   ],
   "source": [
    "trades"
   ]
  },
  {
   "cell_type": "code",
   "execution_count": 52,
   "metadata": {},
   "outputs": [
    {
     "data": {
      "text/plain": [
       "6192e08004f55635b15d12a1 LIVE KSM/USDT 83.333"
      ]
     },
     "execution_count": 52,
     "metadata": {},
     "output_type": "execute_result"
    }
   ],
   "source": [
    "trade = trades['KSMUSDT']['6192e08004f55635b15d12a1']\n",
    "# trade.start()\n",
    "# trade.watch()\n",
    "# trade = list(trades['DOTUSDT'].values())[0]\n",
    "# trade.tick({'eventType': '24hrTicker', 'eventTime': 1635812425874, 'symbol': 'ADAUSDT', 'priceChange': '-0.02400000', 'priceChangePercent': '-1.217', 'weightedAvg': '1.96039439', 'prevDayClose': '1.97200000', 'curDayClose': '1.94800000', 'closeTradeQuantity': '113.00000000', 'bestBid': '1.94800000', 'bestBidQnt': '19309.10000000', 'bestAsk': '1.94900000', 'bestAskQnt': '49035.80000000', 'open': '1.97200000', 'high': '2.01900000', 'low': '1.91100000', 'volume': '142367482.50000000', 'volumeQuote': '279096414.06090000', 'openTime': 1635726025874, 'closeTime': 1635812425874, 'firstTradeId': 307530389, 'lastTradeId': 307972281, 'totalTrades': 441893})\n",
    "# trade = trades[nsymbol]\n",
    "# trade = create\n",
    "# trade.removeoco(data={'$set': {'stop': 1.940}})\n",
    "# trade.state = 'LONG_OCO'\n",
    "# trade.setoco()\n",
    "# trade.canceloco()\n",
    "# trade.sell()\n",
    "# trade.moveoco(data={'$set': {'target': 268.4}})\n",
    "\n",
    "trade.update(data={'$set': {'exchange': 'binance',\n",
    " 'symbol': 'KSM/USDT',\n",
    " 'market': 'KSMUSDT',\n",
    " 'size': 20550.0,\n",
    " 'risk_size': 250.0,\n",
    " 'qty': 50.0,\n",
    " 'r2r': 5.79,\n",
    " 'proj_profit': 1450.0,\n",
    " 'proj_loss': 250.0,\n",
    " 'profit_perc': 7.06,\n",
    " 'loss_perc': 1.22,\n",
    " 'trigger': 411.0,\n",
    " 'stop': 406.0,\n",
    " 'stop_limit': 385.7,\n",
    " 'target': 440.0}})\n",
    "# trade.removestop()\n",
    "# trade.delete()\n",
    "# db.trades.insert_one(trade.rec)\n",
    "\n",
    "# trade.delete()\n",
    "# trade.sell()\n",
    "trade"
   ]
  },
  {
   "cell_type": "code",
   "execution_count": null,
   "metadata": {},
   "outputs": [],
   "source": [
    "# # trades\n",
    "# for symbol, trade_chunk_arr in trades.items():\n",
    "#     for chunk in trade_chunk_arr:\n",
    "#         model = chunk['model'] \n",
    "#         machine = chunk['machine']\n",
    "#         if model.state != 'LONG':\n",
    "#             continue\n",
    "#         trade = model.trade\n",
    "#         stop_order = exchange.fetchOrder(trade['curStopResp']['id'], symbol=symbol)\n",
    "#         if exchange.fetchOrderStatus(trade['curStopResp']['id'], symbol='ALGOUSDT') == 'closed':\n",
    "#             print(trade['id'], 'closed')\n",
    "#         # print(chunk)\n",
    "#     # print(tradeChunk)\n",
    "# # tradeModel.trade"
   ]
  },
  {
   "cell_type": "code",
   "execution_count": 32,
   "metadata": {},
   "outputs": [
    {
     "name": "stderr",
     "output_type": "stream",
     "text": [
      "INFO:transitions.core:Executed callback 'attachrec'\n",
      "INFO:transitions.core:Executed callback 'machine_state_changed'\n",
      "INFO:transitions.core:Executed callback 'attachrec'\n",
      "INFO:transitions.core:Executed callback 'machine_state_changed'\n",
      "INFO:transitions.core:Executed callback 'attachrec'\n",
      "INFO:transitions.core:Executed callback 'machine_state_changed'\n"
     ]
    },
    {
     "data": {
      "text/plain": [
       "{'EGLDUSDT': {'6181557435c591df74e042a8': 6181557435c591df74e042a8 LONG_OCO EGLD/USDT 46.18},\n",
       " 'DOTUSDT': {'6181abd422496ef7074963c2': 6181abd422496ef7074963c2 LONG_OCO DOT/USDT 425.53},\n",
       " 'ALGOUSDT': {'6181b49122496ef7074963c3': 6181b49122496ef7074963c3 DISABLED ALGO/USDT 8064.0}}"
      ]
     },
     "execution_count": 32,
     "metadata": {},
     "output_type": "execute_result"
    }
   ],
   "source": [
    "# logger.setLevel(logging.INFO)\n",
    "# trade.state, trade.rec.symbol\n",
    "trades = load_trades(exchange, db.trades)\n",
    "trades"
   ]
  },
  {
   "cell_type": "code",
   "execution_count": 14,
   "metadata": {},
   "outputs": [
    {
     "name": "stderr",
     "output_type": "stream",
     "text": [
      "INFO:transitions.core:Executed callback 'insertrec'\n",
      "INFO:transitions.core:Executed callback 'machine_state_changed'\n",
      "INFO:transitions.core:Finished processing state DISABLED exit callbacks.\n",
      "INFO:transitions.core:Finished processing state LIVE enter callbacks.\n",
      "INFO:transitions.core:Executed callback 'machine_state_changed'\n"
     ]
    }
   ],
   "source": []
  },
  {
   "cell_type": "code",
   "execution_count": 5,
   "metadata": {},
   "outputs": [
    {
     "ename": "KeyError",
     "evalue": "'ADAUSDT'",
     "output_type": "error",
     "traceback": [
      "\u001b[0;31m---------------------------------------------------------------------------\u001b[0m",
      "\u001b[0;31mKeyError\u001b[0m                                  Traceback (most recent call last)",
      "\u001b[0;32m/tmp/ipykernel_37847/2715165303.py\u001b[0m in \u001b[0;36m<module>\u001b[0;34m\u001b[0m\n\u001b[0;32m----> 1\u001b[0;31m \u001b[0mtrade\u001b[0m \u001b[0;34m=\u001b[0m \u001b[0mtrades\u001b[0m\u001b[0;34m[\u001b[0m\u001b[0;34m'ADAUSDT'\u001b[0m\u001b[0;34m]\u001b[0m\u001b[0;34m[\u001b[0m\u001b[0;34m'618085b7dacef867e5df6e7f'\u001b[0m\u001b[0;34m]\u001b[0m\u001b[0;34m\u001b[0m\u001b[0;34m\u001b[0m\u001b[0m\n\u001b[0m\u001b[1;32m      2\u001b[0m \u001b[0mtrade\u001b[0m\u001b[0;34m.\u001b[0m\u001b[0mdelete\u001b[0m\u001b[0;34m(\u001b[0m\u001b[0;34m)\u001b[0m\u001b[0;34m\u001b[0m\u001b[0;34m\u001b[0m\u001b[0m\n",
      "\u001b[0;31mKeyError\u001b[0m: 'ADAUSDT'"
     ]
    }
   ],
   "source": [
    "trade = trades['ADAUSDT']['618085b7dacef867e5df6e7f']\n",
    "trade.delete()"
   ]
  },
  {
   "cell_type": "code",
   "execution_count": 14,
   "metadata": {},
   "outputs": [
    {
     "name": "stderr",
     "output_type": "stream",
     "text": [
      "INFO:transitions.core:Executed callback 'attachrec'\n",
      "INFO:transitions.core:Executed callback 'machine_state_changed'\n"
     ]
    },
    {
     "data": {
      "text/plain": [
       "{'LRCUSDT': {'619588a1ab4a19baee90c30f': 619588a1ab4a19baee90c30f LONG_OCO LRC/USDT 14705.0}}"
      ]
     },
     "execution_count": 14,
     "metadata": {},
     "output_type": "execute_result"
    }
   ],
   "source": [
    "load_trades(db.trades)"
   ]
  },
  {
   "cell_type": "code",
   "execution_count": null,
   "metadata": {},
   "outputs": [],
   "source": []
  }
 ],
 "metadata": {
  "interpreter": {
   "hash": "f0efd89945ffcdb19dfb6b1d82577bc29320d98cd998110bbfca989effc5b488"
  },
  "kernelspec": {
   "display_name": "Python 3.8.11 64-bit ('py38': conda)",
   "name": "python3"
  },
  "language_info": {
   "codemirror_mode": {
    "name": "ipython",
    "version": 3
   },
   "file_extension": ".py",
   "mimetype": "text/x-python",
   "name": "python",
   "nbconvert_exporter": "python",
   "pygments_lexer": "ipython3",
   "version": "3.8.11"
  },
  "orig_nbformat": 4
 },
 "nbformat": 4,
 "nbformat_minor": 2
}
