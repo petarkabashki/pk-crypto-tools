{
 "cells": [
  {
   "cell_type": "code",
   "execution_count": 1,
   "source": [
    "from transitions import Machine\n",
    "\n",
    "from transitions.extensions.asyncio import AsyncTimeout, AsyncMachine\n",
    "\n",
    "import enum \n",
    "import logging\n",
    "import asyncio\n",
    "\n",
    "from pymongo import MongoClient\n",
    "from bson.objectid import ObjectId\n",
    "import uuid\n",
    "from pprint import pprint\n",
    "\n",
    "from datetime import datetime\n",
    "from math import floor, ceil\n",
    "import time\n",
    "from time import sleep\n",
    "\n",
    "import sys\n",
    "import os\n",
    "import zmq\n",
    "import zmq.asyncio\n",
    "# from s import Context\n",
    "import json\n",
    "\n",
    "logging.basicConfig(level=logging.INFO)\n",
    "\n",
    "import ccxt\n",
    "from dotenv import load_dotenv\n",
    "load_dotenv()\n"
   ],
   "outputs": [
    {
     "output_type": "execute_result",
     "data": {
      "text/plain": [
       "True"
      ]
     },
     "metadata": {},
     "execution_count": 1
    }
   ],
   "metadata": {}
  },
  {
   "cell_type": "code",
   "execution_count": 2,
   "source": [
    "client = MongoClient()\n",
    "db=client.fsmbot\n",
    "trades = {}\n",
    "\n",
    "context = zmq.asyncio.Context()\n"
   ],
   "outputs": [],
   "metadata": {}
  },
  {
   "cell_type": "code",
   "execution_count": 3,
   "source": [
    "exchange = getattr(ccxt, 'binance')({'apiKey': os.getenv('BINANCE_API_KEY'), 'secret': os.getenv('BINANCE_API_SECRET')})"
   ],
   "outputs": [],
   "metadata": {}
  },
  {
   "cell_type": "code",
   "execution_count": 6,
   "source": [
    "# t = db.trades.find_one({'_id': ObjectId(\"615cc81fa0d373f6b44b88b0\")})\n",
    "# t['curStopResp']"
   ],
   "outputs": [],
   "metadata": {}
  },
  {
   "cell_type": "code",
   "execution_count": 4,
   "source": [
    "# exchange.create_order('ALGO/USDT', 'market', 'buy', 15)\n",
    "# os.getenv('TEST')"
   ],
   "outputs": [],
   "metadata": {}
  },
  {
   "cell_type": "code",
   "execution_count": 9,
   "source": [
    "zContext = zmq.asyncio.Context()\n",
    "\n",
    "class TradeModel(object):\n",
    "    def __init__(self, trade): \n",
    "        self.trade = trade\n",
    "        self._id = trade['_id']\n",
    "        self.symbol = trade['symbol']\n",
    "        \n",
    "    def reload_from_db(self, event):\n",
    "        self.trade = db.trades.find_one({'_id': self._id})\n",
    "        print('reloaded', self.trade)\n",
    "        self.symbol = trade['symbol']\n",
    "\n",
    "    def is_buy_signal(self, event):\n",
    "        ticker = event.kwargs['ticker']\n",
    "        if float(ticker['curDayClose']) <= float(self.trade['trigger']):\n",
    "            # logging.info(f'+BUY triggered for {self.symbol} / {self.trade[\"_id\"]}')\n",
    "            return True\n",
    "        # logging.info(f'-BUY triggered for {self.symbol} / {self.trade[\"_id\"]}')\n",
    "        return False\n",
    "\n",
    "    def is_sell_signal(self, event):\n",
    "        ticker = event.kwargs['ticker']\n",
    "        if float(ticker['curDayClose']) >= float(self.trade['target']):\n",
    "            # logging.info(f'+SELL triggered for {self.symbol} / {self.trade[\"_id\"]}')\n",
    "            return True\n",
    "        # logging.info(f'-SELL triggered for {self.symbol} / {self.trade[\"_id\"]}')\n",
    "        return False\n",
    "\n",
    "    def buy_on_exchange(self, event):\n",
    "        resp = exchange.create_order(self.symbol, 'market', 'buy', float(self.trade[\"qty\"]));\n",
    "        db.trades.update_one({'_id' : self.trade['_id'] }, {\n",
    "        '$set': {\n",
    "            'buyResp': resp\n",
    "          }})\n",
    "\n",
    "    def sell_on_exchange(self, event):\n",
    "        resp = exchange.create_order(self.symbol, 'market', 'sell', float(self.trade[\"qty\"]));\n",
    "        db.trades.update_one({'_id' : self.trade['_id'] }, {\n",
    "        '$set': {\n",
    "            'sellResp': resp\n",
    "          }})\n",
    "\n",
    "    def set_stop_on_exchange(self, event):\n",
    "        resp = exchange.create_order(self.symbol, 'STOP_LOSS_LIMIT', 'sell', float(self.trade[\"qty\"]), \n",
    "            0.90 * float(self.trade[\"stop\"]), {'stopPrice': float(self.trade[\"stop\"]),'type': 'stopLimit'})\n",
    "        db.trades.update_one({'_id' : self.trade['_id'] }, {\n",
    "        '$set': {\n",
    "            'curStopResp': resp\n",
    "          }})\n",
    "        # self.trade['curStopResp'] = resp\n",
    "\n",
    "    def remove_stop_on_exchange(self, event):\n",
    "        resp = exchange.cancel_order(self.trade['curStopResp']['id'], symbol=self.symbol)\n",
    "      \n",
    "    \n",
    "    def sellTriggered(self, event):\n",
    "        True\n",
    "\n",
    "    def machine_state_change(self, event):\n",
    "        db.trades.update_one({'_id' : self.trade['_id'] }, {\n",
    "        '$set': {\n",
    "            'state': self.state\n",
    "          }})\n",
    "\n",
    "states = [\n",
    "    'ERROR',\n",
    "    'DISABLED',\n",
    "    'LIVE',\n",
    "    'LONG',\n",
    "    'STOPPED',\n",
    "    'SOLD'\n",
    "]\n",
    "transitions = [\n",
    "    { 'trigger': 'start', 'source': 'DISABLED', 'dest': 'LIVE'},\n",
    "    { 'trigger': 'disable', 'source': 'LIVE', 'dest': 'DISABLED'},\n",
    "    { 'trigger': 'tick', 'source': 'LIVE', 'dest': 'LONG', 'conditions': 'is_buy_signal', 'before' : ['buy_on_exchange', 'set_stop_on_exchange', 'reload_from_db']},\n",
    "    { 'trigger': 'movestop', 'source': 'LONG', 'dest': 'LONG' ,'before': ['remove_stop_on_exchange', 'set_stop_on_exchange']},\n",
    "    { 'trigger': 'stopped', 'source': 'LONG', 'dest': 'STOPPED'},\n",
    "    { 'trigger': 'tick', 'source': 'LONG', 'dest': 'SOLD' ,'conditions': 'is_sell_signal', 'before': ['remove_stop_on_exchange', 'sell_on_exchange', 'reload_from_db']},\n",
    "]\n"
   ],
   "outputs": [],
   "metadata": {}
  },
  {
   "cell_type": "code",
   "execution_count": 6,
   "source": [
    "# loop = asyncio.get_running_loop()"
   ],
   "outputs": [],
   "metadata": {}
  },
  {
   "cell_type": "code",
   "execution_count": 10,
   "source": [
    "# list(dbTrade)\n",
    "for trade in db.trades.find():\n",
    "    if not trade['symbol'] in trades: trades[trade['symbol']] = []\n",
    "    tradeModel = TradeModel(trade)\n",
    "    tradeMachine = Machine(tradeModel, states=states, transitions=transitions, send_event=True, initial='DISABLED', \n",
    "        after_state_change='machine_state_change')\n",
    "    tradeMachine.set_state(trade['state'])\n",
    "    trades[trade['symbol']].append({'machine': tradeMachine, 'model': tradeModel})\n",
    "\n",
    "# trades\n",
    "#     pass\n",
    "# dbTrades = db.trades\n",
    "# list(db.trades.find())\n",
    "\n",
    "\n"
   ],
   "outputs": [],
   "metadata": {}
  },
  {
   "cell_type": "code",
   "execution_count": 8,
   "source": [
    "# [o['id'] for o in exchange.fetch_open_orders('ALGOUSDT')]\n",
    "# exchange.cancel_order('683898256', symbol='ALGOUSDT')"
   ],
   "outputs": [],
   "metadata": {}
  },
  {
   "cell_type": "code",
   "execution_count": 9,
   "source": [
    "\n",
    "\n",
    "# Process 5 updates\n",
    "async def run_ticker():\n",
    "    socket = context.socket(zmq.SUB)\n",
    "    socket.connect(\"tcp://localhost:5556\")\n",
    "    socket.setsockopt_string(zmq.SUBSCRIBE, 'TICKER')\n",
    "\n",
    "    while True:\n",
    "        tickerString = await socket.recv_string()\n",
    "        _, symbol, ticker = tickerString.split()\n",
    "        ticker = json.loads(ticker)\n",
    "        # print(symbol)\n",
    "        if symbol in trades:        \n",
    "            for trade in trades[symbol]:\n",
    "                model = trade['model']\n",
    "                # [tradeMachine, tradeModel] = trade\n",
    "                # print(trade['model'])\n",
    "                if model.state in ['LIVE', 'LONG']:\n",
    "                    # print(ticker)\n",
    "                    # print(symbol)\n",
    "                    model.tick(ticker=ticker)\n",
    "        # pprint(ticker)\n",
    "        # await asyncio.sleep(0.01)\n",
    "    \n",
    "await run_ticker()\n",
    "    # print('received', ticker)\n",
    "    # zipcode, temperature, relhumidity = string.split()\n",
    "    # total_temp += int(temperature)\n",
    "# loop = asyncio.get_event_loop()\n",
    "# loop.create_task(run_ticker())\n"
   ],
   "outputs": [
    {
     "output_type": "stream",
     "name": "stderr",
     "text": [
      "INFO:transitions.core:Executed callback 'buy_on_exchange'\n",
      "INFO:transitions.core:Executed callback 'set_stop_on_exchange'\n",
      "INFO:transitions.core:Executed callback 'reload_from_db'\n",
      "INFO:transitions.core:Finished processing state LIVE exit callbacks.\n",
      "INFO:transitions.core:Finished processing state LONG enter callbacks.\n",
      "INFO:transitions.core:Executed callback 'machine_state_change'\n"
     ]
    },
    {
     "output_type": "stream",
     "name": "stdout",
     "text": [
      "reloaded {'_id': ObjectId('615cc81fa0d373f6b44b88b0'), 'symbol': 'ALGOUSDT', 'trigger': '2', 'stop': '1.5', 'target': '3', 'state': 'LIVE', 'exchange': 'binance', 'qty': '15', 'buyResp': {'info': {'symbol': 'ALGOUSDT', 'orderId': '683918052', 'orderListId': '-1', 'clientOrderId': 'x-R4BD3S821848d59428d87663b00555', 'transactTime': '1633500134900', 'price': '0.00000000', 'origQty': '15.00000000', 'executedQty': '15.00000000', 'cummulativeQuoteQty': '28.16700000', 'status': 'FILLED', 'timeInForce': 'GTC', 'type': 'MARKET', 'side': 'BUY', 'fills': [{'price': '1.87780000', 'qty': '15.00000000', 'commission': '0.01500000', 'commissionAsset': 'ALGO', 'tradeId': '65961683'}]}, 'id': '683918052', 'clientOrderId': 'x-R4BD3S821848d59428d87663b00555', 'timestamp': 1633500134900, 'datetime': '2021-10-06T06:02:14.900Z', 'lastTradeTimestamp': None, 'symbol': 'ALGO/USDT', 'type': 'market', 'timeInForce': 'GTC', 'postOnly': False, 'side': 'buy', 'price': 1.8778000000000001, 'stopPrice': None, 'amount': 15.0, 'cost': 28.167, 'average': 1.8778000000000001, 'filled': 15.0, 'remaining': 0.0, 'status': 'closed', 'fee': {'cost': 0.015, 'currency': 'ALGO'}, 'trades': [{'info': {'price': '1.87780000', 'qty': '15.00000000', 'commission': '0.01500000', 'commissionAsset': 'ALGO', 'tradeId': '65961683'}, 'timestamp': None, 'datetime': None, 'symbol': 'ALGO/USDT', 'id': None, 'order': None, 'type': None, 'side': None, 'takerOrMaker': None, 'price': 1.8778, 'amount': 15.0, 'cost': 28.167, 'fee': {'cost': 0.015, 'currency': 'ALGO'}}], 'fees': [{'cost': 0.015, 'currency': 'ALGO'}]}, 'curStopResp': {'info': {'symbol': 'ALGOUSDT', 'orderId': '683918059', 'orderListId': '-1', 'clientOrderId': '1zMB9WovBjYHHsYY27gOXn', 'transactTime': '1633500135146', 'price': '1.35000000', 'origQty': '15.00000000', 'executedQty': '0.00000000', 'cummulativeQuoteQty': '0.00000000', 'status': 'NEW', 'timeInForce': 'GTC', 'type': 'STOP_LOSS_LIMIT', 'side': 'SELL', 'stopPrice': '1.50000000'}, 'id': '683918059', 'clientOrderId': '1zMB9WovBjYHHsYY27gOXn', 'timestamp': 1633500135146, 'datetime': '2021-10-06T06:02:15.146Z', 'lastTradeTimestamp': None, 'symbol': 'ALGO/USDT', 'type': 'stop_loss_limit', 'timeInForce': 'GTC', 'postOnly': False, 'side': 'sell', 'price': 1.35, 'stopPrice': 1.5, 'amount': 15.0, 'cost': 0.0, 'average': None, 'filled': 0.0, 'remaining': 15.0, 'status': 'open', 'fee': None, 'trades': [], 'fees': []}}\n"
     ]
    },
    {
     "output_type": "error",
     "ename": "KeyError",
     "evalue": "'curStopResp'",
     "traceback": [
      "\u001b[0;31m---------------------------------------------------------------------------\u001b[0m",
      "\u001b[0;31mKeyError\u001b[0m                                  Traceback (most recent call last)",
      "\u001b[0;32m/tmp/ipykernel_147782/1393000900.py\u001b[0m in \u001b[0;36m<module>\u001b[0;34m\u001b[0m\n\u001b[1;32m     22\u001b[0m         \u001b[0;31m# await asyncio.sleep(0.01)\u001b[0m\u001b[0;34m\u001b[0m\u001b[0;34m\u001b[0m\u001b[0;34m\u001b[0m\u001b[0m\n\u001b[1;32m     23\u001b[0m \u001b[0;34m\u001b[0m\u001b[0m\n\u001b[0;32m---> 24\u001b[0;31m \u001b[0;32mawait\u001b[0m \u001b[0mrun_ticker\u001b[0m\u001b[0;34m(\u001b[0m\u001b[0;34m)\u001b[0m\u001b[0;34m\u001b[0m\u001b[0;34m\u001b[0m\u001b[0m\n\u001b[0m\u001b[1;32m     25\u001b[0m     \u001b[0;31m# print('received', ticker)\u001b[0m\u001b[0;34m\u001b[0m\u001b[0;34m\u001b[0m\u001b[0;34m\u001b[0m\u001b[0m\n\u001b[1;32m     26\u001b[0m     \u001b[0;31m# zipcode, temperature, relhumidity = string.split()\u001b[0m\u001b[0;34m\u001b[0m\u001b[0;34m\u001b[0m\u001b[0;34m\u001b[0m\u001b[0m\n",
      "\u001b[0;32m/tmp/ipykernel_147782/1393000900.py\u001b[0m in \u001b[0;36mrun_ticker\u001b[0;34m()\u001b[0m\n\u001b[1;32m     18\u001b[0m                     \u001b[0;31m# print(ticker)\u001b[0m\u001b[0;34m\u001b[0m\u001b[0;34m\u001b[0m\u001b[0;34m\u001b[0m\u001b[0m\n\u001b[1;32m     19\u001b[0m                     \u001b[0;31m# print(symbol)\u001b[0m\u001b[0;34m\u001b[0m\u001b[0;34m\u001b[0m\u001b[0;34m\u001b[0m\u001b[0m\n\u001b[0;32m---> 20\u001b[0;31m                     \u001b[0mmodel\u001b[0m\u001b[0;34m.\u001b[0m\u001b[0mtick\u001b[0m\u001b[0;34m(\u001b[0m\u001b[0mticker\u001b[0m\u001b[0;34m=\u001b[0m\u001b[0mticker\u001b[0m\u001b[0;34m)\u001b[0m\u001b[0;34m\u001b[0m\u001b[0;34m\u001b[0m\u001b[0m\n\u001b[0m\u001b[1;32m     21\u001b[0m         \u001b[0;31m# pprint(ticker)\u001b[0m\u001b[0;34m\u001b[0m\u001b[0;34m\u001b[0m\u001b[0;34m\u001b[0m\u001b[0m\n\u001b[1;32m     22\u001b[0m         \u001b[0;31m# await asyncio.sleep(0.01)\u001b[0m\u001b[0;34m\u001b[0m\u001b[0;34m\u001b[0m\u001b[0;34m\u001b[0m\u001b[0m\n",
      "\u001b[0;32m~/anaconda3/envs/py38/lib/python3.8/site-packages/transitions/core.py\u001b[0m in \u001b[0;36mtrigger\u001b[0;34m(self, model, *args, **kwargs)\u001b[0m\n\u001b[1;32m    399\u001b[0m         \u001b[0;31m# Machine._process should not be called somewhere else. That's why it should not be exposed\u001b[0m\u001b[0;34m\u001b[0m\u001b[0;34m\u001b[0m\u001b[0;34m\u001b[0m\u001b[0m\n\u001b[1;32m    400\u001b[0m         \u001b[0;31m# to Machine users.\u001b[0m\u001b[0;34m\u001b[0m\u001b[0;34m\u001b[0m\u001b[0;34m\u001b[0m\u001b[0m\n\u001b[0;32m--> 401\u001b[0;31m         \u001b[0;32mreturn\u001b[0m \u001b[0mself\u001b[0m\u001b[0;34m.\u001b[0m\u001b[0mmachine\u001b[0m\u001b[0;34m.\u001b[0m\u001b[0m_process\u001b[0m\u001b[0;34m(\u001b[0m\u001b[0mfunc\u001b[0m\u001b[0;34m)\u001b[0m\u001b[0;34m\u001b[0m\u001b[0;34m\u001b[0m\u001b[0m\n\u001b[0m\u001b[1;32m    402\u001b[0m \u001b[0;34m\u001b[0m\u001b[0m\n\u001b[1;32m    403\u001b[0m     \u001b[0;32mdef\u001b[0m \u001b[0m_trigger\u001b[0m\u001b[0;34m(\u001b[0m\u001b[0mself\u001b[0m\u001b[0;34m,\u001b[0m \u001b[0mmodel\u001b[0m\u001b[0;34m,\u001b[0m \u001b[0;34m*\u001b[0m\u001b[0margs\u001b[0m\u001b[0;34m,\u001b[0m \u001b[0;34m**\u001b[0m\u001b[0mkwargs\u001b[0m\u001b[0;34m)\u001b[0m\u001b[0;34m:\u001b[0m\u001b[0;34m\u001b[0m\u001b[0;34m\u001b[0m\u001b[0m\n",
      "\u001b[0;32m~/anaconda3/envs/py38/lib/python3.8/site-packages/transitions/core.py\u001b[0m in \u001b[0;36m_process\u001b[0;34m(self, trigger)\u001b[0m\n\u001b[1;32m   1186\u001b[0m             \u001b[0;32mif\u001b[0m \u001b[0;32mnot\u001b[0m \u001b[0mself\u001b[0m\u001b[0;34m.\u001b[0m\u001b[0m_transition_queue\u001b[0m\u001b[0;34m:\u001b[0m\u001b[0;34m\u001b[0m\u001b[0;34m\u001b[0m\u001b[0m\n\u001b[1;32m   1187\u001b[0m                 \u001b[0;31m# if trigger raises an Error, it has to be handled by the Machine.process caller\u001b[0m\u001b[0;34m\u001b[0m\u001b[0;34m\u001b[0m\u001b[0;34m\u001b[0m\u001b[0m\n\u001b[0;32m-> 1188\u001b[0;31m                 \u001b[0;32mreturn\u001b[0m \u001b[0mtrigger\u001b[0m\u001b[0;34m(\u001b[0m\u001b[0;34m)\u001b[0m\u001b[0;34m\u001b[0m\u001b[0;34m\u001b[0m\u001b[0m\n\u001b[0m\u001b[1;32m   1189\u001b[0m             \u001b[0;32melse\u001b[0m\u001b[0;34m:\u001b[0m\u001b[0;34m\u001b[0m\u001b[0;34m\u001b[0m\u001b[0m\n\u001b[1;32m   1190\u001b[0m                 \u001b[0;32mraise\u001b[0m \u001b[0mMachineError\u001b[0m\u001b[0;34m(\u001b[0m\u001b[0;34m\"Attempt to process events synchronously while transition queue is not empty!\"\u001b[0m\u001b[0;34m)\u001b[0m\u001b[0;34m\u001b[0m\u001b[0;34m\u001b[0m\u001b[0m\n",
      "\u001b[0;32m~/anaconda3/envs/py38/lib/python3.8/site-packages/transitions/core.py\u001b[0m in \u001b[0;36m_trigger\u001b[0;34m(self, model, *args, **kwargs)\u001b[0m\n\u001b[1;32m    424\u001b[0m                 \u001b[0;32mraise\u001b[0m \u001b[0mMachineError\u001b[0m\u001b[0;34m(\u001b[0m\u001b[0mmsg\u001b[0m\u001b[0;34m)\u001b[0m\u001b[0;34m\u001b[0m\u001b[0;34m\u001b[0m\u001b[0m\n\u001b[1;32m    425\u001b[0m         \u001b[0mevent_data\u001b[0m \u001b[0;34m=\u001b[0m \u001b[0mEventData\u001b[0m\u001b[0;34m(\u001b[0m\u001b[0mstate\u001b[0m\u001b[0;34m,\u001b[0m \u001b[0mself\u001b[0m\u001b[0;34m,\u001b[0m \u001b[0mself\u001b[0m\u001b[0;34m.\u001b[0m\u001b[0mmachine\u001b[0m\u001b[0;34m,\u001b[0m \u001b[0mmodel\u001b[0m\u001b[0;34m,\u001b[0m \u001b[0margs\u001b[0m\u001b[0;34m=\u001b[0m\u001b[0margs\u001b[0m\u001b[0;34m,\u001b[0m \u001b[0mkwargs\u001b[0m\u001b[0;34m=\u001b[0m\u001b[0mkwargs\u001b[0m\u001b[0;34m)\u001b[0m\u001b[0;34m\u001b[0m\u001b[0;34m\u001b[0m\u001b[0m\n\u001b[0;32m--> 426\u001b[0;31m         \u001b[0;32mreturn\u001b[0m \u001b[0mself\u001b[0m\u001b[0;34m.\u001b[0m\u001b[0m_process\u001b[0m\u001b[0;34m(\u001b[0m\u001b[0mevent_data\u001b[0m\u001b[0;34m)\u001b[0m\u001b[0;34m\u001b[0m\u001b[0;34m\u001b[0m\u001b[0m\n\u001b[0m\u001b[1;32m    427\u001b[0m \u001b[0;34m\u001b[0m\u001b[0m\n\u001b[1;32m    428\u001b[0m     \u001b[0;32mdef\u001b[0m \u001b[0m_process\u001b[0m\u001b[0;34m(\u001b[0m\u001b[0mself\u001b[0m\u001b[0;34m,\u001b[0m \u001b[0mevent_data\u001b[0m\u001b[0;34m)\u001b[0m\u001b[0;34m:\u001b[0m\u001b[0;34m\u001b[0m\u001b[0;34m\u001b[0m\u001b[0m\n",
      "\u001b[0;32m~/anaconda3/envs/py38/lib/python3.8/site-packages/transitions/core.py\u001b[0m in \u001b[0;36m_process\u001b[0;34m(self, event_data)\u001b[0m\n\u001b[1;32m    433\u001b[0m             \u001b[0;32mfor\u001b[0m \u001b[0mtrans\u001b[0m \u001b[0;32min\u001b[0m \u001b[0mself\u001b[0m\u001b[0;34m.\u001b[0m\u001b[0mtransitions\u001b[0m\u001b[0;34m[\u001b[0m\u001b[0mevent_data\u001b[0m\u001b[0;34m.\u001b[0m\u001b[0mstate\u001b[0m\u001b[0;34m.\u001b[0m\u001b[0mname\u001b[0m\u001b[0;34m]\u001b[0m\u001b[0;34m:\u001b[0m\u001b[0;34m\u001b[0m\u001b[0;34m\u001b[0m\u001b[0m\n\u001b[1;32m    434\u001b[0m                 \u001b[0mevent_data\u001b[0m\u001b[0;34m.\u001b[0m\u001b[0mtransition\u001b[0m \u001b[0;34m=\u001b[0m \u001b[0mtrans\u001b[0m\u001b[0;34m\u001b[0m\u001b[0;34m\u001b[0m\u001b[0m\n\u001b[0;32m--> 435\u001b[0;31m                 \u001b[0;32mif\u001b[0m \u001b[0mtrans\u001b[0m\u001b[0;34m.\u001b[0m\u001b[0mexecute\u001b[0m\u001b[0;34m(\u001b[0m\u001b[0mevent_data\u001b[0m\u001b[0;34m)\u001b[0m\u001b[0;34m:\u001b[0m\u001b[0;34m\u001b[0m\u001b[0;34m\u001b[0m\u001b[0m\n\u001b[0m\u001b[1;32m    436\u001b[0m                     \u001b[0mevent_data\u001b[0m\u001b[0;34m.\u001b[0m\u001b[0mresult\u001b[0m \u001b[0;34m=\u001b[0m \u001b[0;32mTrue\u001b[0m\u001b[0;34m\u001b[0m\u001b[0;34m\u001b[0m\u001b[0m\n\u001b[1;32m    437\u001b[0m                     \u001b[0;32mbreak\u001b[0m\u001b[0;34m\u001b[0m\u001b[0;34m\u001b[0m\u001b[0m\n",
      "\u001b[0;32m~/anaconda3/envs/py38/lib/python3.8/site-packages/transitions/core.py\u001b[0m in \u001b[0;36mexecute\u001b[0;34m(self, event_data)\u001b[0m\n\u001b[1;32m    270\u001b[0m             \u001b[0;32mreturn\u001b[0m \u001b[0;32mFalse\u001b[0m\u001b[0;34m\u001b[0m\u001b[0;34m\u001b[0m\u001b[0m\n\u001b[1;32m    271\u001b[0m \u001b[0;34m\u001b[0m\u001b[0m\n\u001b[0;32m--> 272\u001b[0;31m         \u001b[0mevent_data\u001b[0m\u001b[0;34m.\u001b[0m\u001b[0mmachine\u001b[0m\u001b[0;34m.\u001b[0m\u001b[0mcallbacks\u001b[0m\u001b[0;34m(\u001b[0m\u001b[0mitertools\u001b[0m\u001b[0;34m.\u001b[0m\u001b[0mchain\u001b[0m\u001b[0;34m(\u001b[0m\u001b[0mevent_data\u001b[0m\u001b[0;34m.\u001b[0m\u001b[0mmachine\u001b[0m\u001b[0;34m.\u001b[0m\u001b[0mbefore_state_change\u001b[0m\u001b[0;34m,\u001b[0m \u001b[0mself\u001b[0m\u001b[0;34m.\u001b[0m\u001b[0mbefore\u001b[0m\u001b[0;34m)\u001b[0m\u001b[0;34m,\u001b[0m \u001b[0mevent_data\u001b[0m\u001b[0;34m)\u001b[0m\u001b[0;34m\u001b[0m\u001b[0;34m\u001b[0m\u001b[0m\n\u001b[0m\u001b[1;32m    273\u001b[0m         \u001b[0m_LOGGER\u001b[0m\u001b[0;34m.\u001b[0m\u001b[0mdebug\u001b[0m\u001b[0;34m(\u001b[0m\u001b[0;34m\"%sExecuted callback before transition.\"\u001b[0m\u001b[0;34m,\u001b[0m \u001b[0mevent_data\u001b[0m\u001b[0;34m.\u001b[0m\u001b[0mmachine\u001b[0m\u001b[0;34m.\u001b[0m\u001b[0mname\u001b[0m\u001b[0;34m)\u001b[0m\u001b[0;34m\u001b[0m\u001b[0;34m\u001b[0m\u001b[0m\n\u001b[1;32m    274\u001b[0m \u001b[0;34m\u001b[0m\u001b[0m\n",
      "\u001b[0;32m~/anaconda3/envs/py38/lib/python3.8/site-packages/transitions/core.py\u001b[0m in \u001b[0;36mcallbacks\u001b[0;34m(self, funcs, event_data)\u001b[0m\n\u001b[1;32m   1121\u001b[0m         \u001b[0;34m\"\"\" Triggers a list of callbacks \"\"\"\u001b[0m\u001b[0;34m\u001b[0m\u001b[0;34m\u001b[0m\u001b[0m\n\u001b[1;32m   1122\u001b[0m         \u001b[0;32mfor\u001b[0m \u001b[0mfunc\u001b[0m \u001b[0;32min\u001b[0m \u001b[0mfuncs\u001b[0m\u001b[0;34m:\u001b[0m\u001b[0;34m\u001b[0m\u001b[0;34m\u001b[0m\u001b[0m\n\u001b[0;32m-> 1123\u001b[0;31m             \u001b[0mself\u001b[0m\u001b[0;34m.\u001b[0m\u001b[0mcallback\u001b[0m\u001b[0;34m(\u001b[0m\u001b[0mfunc\u001b[0m\u001b[0;34m,\u001b[0m \u001b[0mevent_data\u001b[0m\u001b[0;34m)\u001b[0m\u001b[0;34m\u001b[0m\u001b[0;34m\u001b[0m\u001b[0m\n\u001b[0m\u001b[1;32m   1124\u001b[0m             \u001b[0m_LOGGER\u001b[0m\u001b[0;34m.\u001b[0m\u001b[0minfo\u001b[0m\u001b[0;34m(\u001b[0m\u001b[0;34m\"%sExecuted callback '%s'\"\u001b[0m\u001b[0;34m,\u001b[0m \u001b[0mself\u001b[0m\u001b[0;34m.\u001b[0m\u001b[0mname\u001b[0m\u001b[0;34m,\u001b[0m \u001b[0mfunc\u001b[0m\u001b[0;34m)\u001b[0m\u001b[0;34m\u001b[0m\u001b[0;34m\u001b[0m\u001b[0m\n\u001b[1;32m   1125\u001b[0m \u001b[0;34m\u001b[0m\u001b[0m\n",
      "\u001b[0;32m~/anaconda3/envs/py38/lib/python3.8/site-packages/transitions/core.py\u001b[0m in \u001b[0;36mcallback\u001b[0;34m(self, func, event_data)\u001b[0m\n\u001b[1;32m   1140\u001b[0m         \u001b[0mfunc\u001b[0m \u001b[0;34m=\u001b[0m \u001b[0mself\u001b[0m\u001b[0;34m.\u001b[0m\u001b[0mresolve_callable\u001b[0m\u001b[0;34m(\u001b[0m\u001b[0mfunc\u001b[0m\u001b[0;34m,\u001b[0m \u001b[0mevent_data\u001b[0m\u001b[0;34m)\u001b[0m\u001b[0;34m\u001b[0m\u001b[0;34m\u001b[0m\u001b[0m\n\u001b[1;32m   1141\u001b[0m         \u001b[0;32mif\u001b[0m \u001b[0mself\u001b[0m\u001b[0;34m.\u001b[0m\u001b[0msend_event\u001b[0m\u001b[0;34m:\u001b[0m\u001b[0;34m\u001b[0m\u001b[0;34m\u001b[0m\u001b[0m\n\u001b[0;32m-> 1142\u001b[0;31m             \u001b[0mfunc\u001b[0m\u001b[0;34m(\u001b[0m\u001b[0mevent_data\u001b[0m\u001b[0;34m)\u001b[0m\u001b[0;34m\u001b[0m\u001b[0;34m\u001b[0m\u001b[0m\n\u001b[0m\u001b[1;32m   1143\u001b[0m         \u001b[0;32melse\u001b[0m\u001b[0;34m:\u001b[0m\u001b[0;34m\u001b[0m\u001b[0;34m\u001b[0m\u001b[0m\n\u001b[1;32m   1144\u001b[0m             \u001b[0mfunc\u001b[0m\u001b[0;34m(\u001b[0m\u001b[0;34m*\u001b[0m\u001b[0mevent_data\u001b[0m\u001b[0;34m.\u001b[0m\u001b[0margs\u001b[0m\u001b[0;34m,\u001b[0m \u001b[0;34m**\u001b[0m\u001b[0mevent_data\u001b[0m\u001b[0;34m.\u001b[0m\u001b[0mkwargs\u001b[0m\u001b[0;34m)\u001b[0m\u001b[0;34m\u001b[0m\u001b[0;34m\u001b[0m\u001b[0m\n",
      "\u001b[0;32m/tmp/ipykernel_147782/881941432.py\u001b[0m in \u001b[0;36mremove_stop_on_exchange\u001b[0;34m(self, event)\u001b[0m\n\u001b[1;32m     52\u001b[0m \u001b[0;34m\u001b[0m\u001b[0m\n\u001b[1;32m     53\u001b[0m     \u001b[0;32mdef\u001b[0m \u001b[0mremove_stop_on_exchange\u001b[0m\u001b[0;34m(\u001b[0m\u001b[0mself\u001b[0m\u001b[0;34m,\u001b[0m \u001b[0mevent\u001b[0m\u001b[0;34m)\u001b[0m\u001b[0;34m:\u001b[0m\u001b[0;34m\u001b[0m\u001b[0;34m\u001b[0m\u001b[0m\n\u001b[0;32m---> 54\u001b[0;31m         \u001b[0mresp\u001b[0m \u001b[0;34m=\u001b[0m \u001b[0mexchange\u001b[0m\u001b[0;34m.\u001b[0m\u001b[0mcancel_order\u001b[0m\u001b[0;34m(\u001b[0m\u001b[0mself\u001b[0m\u001b[0;34m.\u001b[0m\u001b[0mtrade\u001b[0m\u001b[0;34m[\u001b[0m\u001b[0;34m'curStopResp'\u001b[0m\u001b[0;34m]\u001b[0m\u001b[0;34m[\u001b[0m\u001b[0;34m'id'\u001b[0m\u001b[0;34m]\u001b[0m\u001b[0;34m,\u001b[0m \u001b[0msymbol\u001b[0m\u001b[0;34m=\u001b[0m\u001b[0mself\u001b[0m\u001b[0;34m.\u001b[0m\u001b[0msymbol\u001b[0m\u001b[0;34m)\u001b[0m\u001b[0;34m\u001b[0m\u001b[0;34m\u001b[0m\u001b[0m\n\u001b[0m\u001b[1;32m     55\u001b[0m \u001b[0;34m\u001b[0m\u001b[0m\n\u001b[1;32m     56\u001b[0m \u001b[0;34m\u001b[0m\u001b[0m\n",
      "\u001b[0;31mKeyError\u001b[0m: 'curStopResp'"
     ]
    }
   ],
   "metadata": {}
  },
  {
   "cell_type": "code",
   "execution_count": 12,
   "source": [
    "# trades['SOLUSDT'][0]['model'].disable()\n",
    "model = trades['ALGOUSDT'][0]['model']\n",
    "# trades['ALGOUSDT'][0]['model'].tick(ticker={'curDayClose': 1})\n",
    "# loop = asyncio.get_event_loop()\n",
    "# loop.create_task(model.tick(ticker={'curDayClose': 1}))\n",
    "# asyncio.gather([model.tick(ticker={'curDayClose': 1})])\n",
    "# asyncio.get_event_loop().run_until_complete()\n",
    "\n",
    "# asyncio.run(asyncio.wait([model.tick(ticker={'curDayClose': 1})]))\n",
    "# await asyncio.wait(model.tick(ticker={'curDayClose': 1}))\n",
    "# model.tick(ticker={'curDayClose': \"1\"})\n",
    "# loop = asyncio.get_event_loop()\n",
    "# loop.run_until_complete()\n",
    "# model.start()\n",
    "# model.disable()\n",
    "# trades['ALGOUSDT'][0]['model'].state\n",
    "# trades['ALGOUSDT'][0]['model'].trade['curStopResp']['id']\n",
    "trade = trades['ALGOUSDT'][0]['model'].trade\n",
    "# trade.tick(ticker = {'curStopResp': })\n",
    "# .start()"
   ],
   "outputs": [
    {
     "output_type": "execute_result",
     "data": {
      "text/plain": [
       "'683918059'"
      ]
     },
     "metadata": {},
     "execution_count": 12
    }
   ],
   "metadata": {}
  },
  {
   "cell_type": "code",
   "execution_count": null,
   "source": [
    "float(\"\")"
   ],
   "outputs": [],
   "metadata": {}
  },
  {
   "cell_type": "code",
   "execution_count": null,
   "source": [],
   "outputs": [],
   "metadata": {}
  }
 ],
 "metadata": {
  "orig_nbformat": 4,
  "language_info": {
   "name": "python",
   "version": "3.8.11",
   "mimetype": "text/x-python",
   "codemirror_mode": {
    "name": "ipython",
    "version": 3
   },
   "pygments_lexer": "ipython3",
   "nbconvert_exporter": "python",
   "file_extension": ".py"
  },
  "kernelspec": {
   "name": "python3",
   "display_name": "Python 3.8.11 64-bit ('py38': conda)"
  },
  "interpreter": {
   "hash": "2b64b82ed447a7d153a9c78a0705e81a741fff6a0d399ac51b9f2a89a43d4916"
  }
 },
 "nbformat": 4,
 "nbformat_minor": 2
}