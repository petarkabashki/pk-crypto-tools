{
 "cells": [
  {
   "cell_type": "code",
   "execution_count": 1,
   "metadata": {},
   "outputs": [],
   "source": [
    "import sys\n",
    "import os\n",
    "import enum \n",
    "import asyncio\n",
    "###\n",
    "from datetime import datetime\n",
    "from math import floor, ceil\n",
    "import time\n",
    "from time import sleep\n",
    "###\n",
    "import json\n",
    "###\n",
    "from dotenv import load_dotenv\n",
    "load_dotenv()\n",
    "###\n",
    "import zmq\n",
    "zContext = zmq.asyncio.Context()\n",
    "###\n",
    "import logging\n",
    "logger = logging.getLogger()\n",
    "# from zmq.log.handlers import PUBHandler\n",
    "# zmq_log_handler = PUBHandler('tcp://127.0.0.1:55356')\n",
    "# zmq_log_handler.setFormatter(logging.Formatter(fmt='{name} > {message}', style='{'))\n",
    "# zmq_log_handler.setFormatter(logging.Formatter(fmt='{name} #{lineno:>3} > {message}', style='{'), logging.DEBUG)\n",
    "# zmq_log_handler.setRootTopic('greeter')\n",
    "# logger.addHandler(zmq_log_handler)\n",
    "\n",
    "logger.setLevel(logging.DEBUG)\n",
    "###\n",
    "from pymongo import MongoClient\n",
    "from bson.objectid import ObjectId\n",
    "import uuid\n",
    "client = MongoClient()\n",
    "db=client.fsmbot\n",
    "###\n",
    "import ccxt\n",
    "exchanges = {\n",
    "    'binance': getattr(ccxt, 'binance')({'apiKey': os.getenv('BINANCE_API_KEY'), 'secret': os.getenv('BINANCE_API_SECRET')}),\n",
    "    'kucoin': getattr(ccxt, 'kucoin')({'apiKey': os.getenv('KUCOIN_API_KEY'), 'secret': os.getenv('KUCOIN_API_SECRET'), 'password': os.getenv('KUCOIN_API_PASSWORD')})\n",
    "    # 'ftx': getattr(ccxt, 'ftx')({'apiKey': os.getenv('FTX_API_KEY'), 'secret': os.getenv('FTX_API_SECRET')})\n",
    "}\n",
    "###\n",
    "from trade_machine import TradeModel\n",
    "\n",
    "from dotmap import DotMap\n",
    "\n",
    "price_ticker = {}\n",
    "trades = {}\n"
   ]
  },
  {
   "cell_type": "markdown",
   "metadata": {},
   "source": [
    "import zmq\n",
    "import zmq.asyncio\n",
    "zContext = zmq.asyncio.Context()"
   ]
  },
  {
   "cell_type": "code",
   "execution_count": 2,
   "metadata": {},
   "outputs": [
    {
     "data": {
      "text/plain": [
       "ccxt.kucoin()"
      ]
     },
     "execution_count": 2,
     "metadata": {},
     "output_type": "execute_result"
    }
   ],
   "source": []
  },
  {
   "cell_type": "code",
   "execution_count": 2,
   "metadata": {},
   "outputs": [],
   "source": [
    "async def run_ticker():\n",
    "    socket = zContext.socket(zmq.SUB)\n",
    "    socket.connect(\"tcp://localhost:5556\")\n",
    "    socket.setsockopt_string(zmq.SUBSCRIBE, 'TICKER')\n",
    "\n",
    "    while True:\n",
    "        tickerString = await socket.recv_string()\n",
    "        _, exchange, symbol, ticker = tickerString.split()\n",
    "        ticker = json.loads(ticker)\n",
    "        price_ticker[symbol] = ticker\n",
    "        if symbol in trades:\n",
    "            for model in trades[symbol].values():\n",
    "                if model.state in ['LIVE', 'LONG']:\n",
    "                    model.tick(ticker=ticker)\n",
    "\n",
    "from threading import Thread\n",
    "\n",
    "ticker_loop = asyncio.new_event_loop()\n",
    "\n",
    "def setup_loop(loop):\n",
    "    asyncio.set_event_loop(loop)\n",
    "    loop.run_forever()\n",
    "\n",
    "ticker_thread = Thread(target=setup_loop, args=(ticker_loop,))\n",
    "ticker_thread.start()\n",
    "ticker_future = asyncio.run_coroutine_threadsafe(run_ticker(), ticker_loop)  "
   ]
  },
  {
   "cell_type": "code",
   "execution_count": 10,
   "metadata": {},
   "outputs": [],
   "source": [
    "\n",
    "def watch(self):\n",
    "    market = self.rec.market\n",
    "    if not market in trades: trades[market] = {}\n",
    "    trades[market][str(self.rec._id)] = self\n",
    "    # trades[str(self.rec._id)] = self\n",
    "\n",
    "def unwatch(self, event=None):\n",
    "    trades[self.rec.market].pop(self.rec._id, None)\n",
    "    # trades.pop(self.rec._id, None)\n",
    "\n",
    "\n",
    "# def get_trades():\n",
    "#     return trades\n",
    "\n",
    "def load_trades(db):\n",
    "    trades.clear()\n",
    "    for trade in db.find():\n",
    "        try:\n",
    "            exchange = exchanges[trade['exchange']]\n",
    "            model = TradeModel(exchange, db)\n",
    "            model.attach(rec=trade)\n",
    "            watch(model)\n",
    "        except BaseException as err:\n",
    "            logging.error(err)\n",
    "    return trades"
   ]
  },
  {
   "cell_type": "code",
   "execution_count": 54,
   "metadata": {},
   "outputs": [
    {
     "name": "stderr",
     "output_type": "stream",
     "text": [
      "INFO:transitions.core:Executed callback 'attachrec'\n",
      "INFO:transitions.core:Executed callback 'machine_state_changed'\n",
      "INFO:transitions.core:Executed callback 'attachrec'\n",
      "INFO:transitions.core:Executed callback 'machine_state_changed'\n",
      "INFO:transitions.core:Executed callback 'attachrec'\n",
      "INFO:transitions.core:Executed callback 'machine_state_changed'\n"
     ]
    },
    {
     "data": {
      "text/plain": [
       "{'LUNAUSDT': {'619128603ef4ebe6574b7f00': 619128603ef4ebe6574b7f00 LONG_OCO LUNA/USDT 208.33},\n",
       " 'ALGOUSDT': {'619129943ef4ebe6574b7f01': 619129943ef4ebe6574b7f01 LONG_OCO ALGO/USDT 10040.0},\n",
       " 'THETAUSDT': {'6191327a3ef4ebe6574b7f04': 6191327a3ef4ebe6574b7f04 LONG_OCO THETA/USDT 2272.7}}"
      ]
     },
     "execution_count": 54,
     "metadata": {},
     "output_type": "execute_result"
    }
   ],
   "source": [
    "logger.setLevel(logging.INFO)\n",
    "for exchange_name, exchange in exchanges.items():\n",
    "    exchange.load_markets()\n",
    "# exchange.load_markets()\n",
    "load_trades(db.trades)\n",
    "trades"
   ]
  },
  {
   "cell_type": "markdown",
   "metadata": {},
   "source": [
    "load_trades_from_tb()"
   ]
  },
  {
   "cell_type": "code",
   "execution_count": 17,
   "metadata": {},
   "outputs": [],
   "source": [
    "def normalize_values(symbol, qty, trigger, stop, stop_limit, target):\n",
    "    return {'qty': exchange.amount_to_precision(symbol, qty), \n",
    "        'trigger': exchange.price_to_precision(symbol, trigger),\n",
    "        'stop': exchange.price_to_precision(symbol, stop),\n",
    "        'stop_limit': exchange.price_to_precision(symbol, stop_limit),\n",
    "        'target': exchange.price_to_precision(symbol, target)\n",
    "    }\n",
    "\n",
    "\n",
    "def calc_trade(exchange_name, capital, risk_perc, symbol, trigger, stop, target):\n",
    "    exchange = exchanges[exchange_name]\n",
    "    market = exchange.market(symbol)\n",
    "    ntrigger = float(exchange.price_to_precision(symbol, trigger))\n",
    "    nstop = float(exchange.price_to_precision(symbol, stop))\n",
    "    nstop_limit = float(exchange.price_to_precision(symbol, stop * 0.95))\n",
    "    ntarget = float(exchange.price_to_precision(symbol, target))\n",
    "    risk_size = capital * risk_perc\n",
    "    nrisk_size = float(exchange.cost_to_precision(symbol, risk_size))\n",
    "\n",
    "    qty = float(exchange.amount_to_precision(symbol, risk_size / (trigger - stop)))\n",
    "    size = qty * trigger\n",
    "    nsize = float(exchange.cost_to_precision(symbol, size))\n",
    "    profit_perc = round((ntarget - ntrigger) / ntrigger * 100, 2)\n",
    "    loss_perc = round((ntrigger - nstop) / ntrigger * 100, 2)\n",
    "    proj_profit =float(exchange.cost_to_precision(symbol,(ntarget - ntrigger) * qty))\n",
    "    proj_loss =float(exchange.cost_to_precision(symbol,(ntrigger - nstop) * qty))\n",
    "    r2r = round(profit_perc / loss_perc, 2)\n",
    "    return {'exchange': exchange_name, 'symbol': symbol, 'market': market['id'], 'size': size, 'risk_size': nrisk_size, 'qty': qty, 'r2r': r2r, \n",
    "        'proj_profit': proj_profit, 'proj_loss': proj_loss,\n",
    "        'profit_perc' : profit_perc, 'loss_perc' : loss_perc, \n",
    "        'trigger': ntrigger, 'stop': nstop, 'stop_limit': nstop_limit, 'target': ntarget}\n",
    "\n",
    "\n",
    "def create_trade(exchange_name, capital, risk_perc, symbol, trigger, stop, target):\n",
    "    exchange = exchanges[exchange_name]\n",
    "    trade_values = calc_trade(exchange_name, capital, risk_perc, symbol, trigger, stop, target)\n",
    "    trade = TradeModel(exchange, db.trades)\n",
    "    trade.insert(data={\"state\": 'DISABLED', \"symbol\" : symbol, **trade_values})\n",
    "    return trade\n",
    "\n",
    "def run_trade(exchange_name, capital, risk_perc, symbol, trigger, stop, target):\n",
    "    trade = create_trade(exchange_name, capital, risk_perc, symbol, trigger, stop, target)\n",
    "    trade.start()\n",
    "    watch(trade)\n",
    "    return trade\n"
   ]
  },
  {
   "cell_type": "code",
   "execution_count": 36,
   "metadata": {},
   "outputs": [
    {
     "name": "stdout",
     "output_type": "stream",
     "text": [
      "ALGO/USDT_2021-11-13T21:28:19\n",
      "ALGO/USDT_2021-11-13T21:41:03\n",
      "ALGO/USDT_2021-11-13T23:30:55\n"
     ]
    },
    {
     "name": "stderr",
     "output_type": "stream",
     "text": [
      "INFO:transitions.core:Executed callback 'attachrec'\n",
      "INFO:transitions.core:Executed callback 'machine_state_changed'\n",
      "INFO:transitions.core:Executed callback 'attachrec'\n",
      "INFO:transitions.core:Executed callback 'machine_state_changed'\n",
      "INFO:transitions.core:Executed callback 'attachrec'\n",
      "INFO:transitions.core:Executed callback 'machine_state_changed'\n",
      "INFO:transitions.core:Executed callback 'attachrec'\n",
      "INFO:transitions.core:Executed callback 'machine_state_changed'\n",
      "INFO:transitions.core:Executed callback 'attachrec'\n",
      "INFO:transitions.core:Executed callback 'machine_state_changed'\n"
     ]
    },
    {
     "name": "stdout",
     "output_type": "stream",
     "text": [
      "ALGO/USDT_2021-11-14T00:09:12\n"
     ]
    },
    {
     "data": {
      "text/plain": [
       "{'ALGOUSDT': {'61902df3c14efa88c186253d': 61902df3c14efa88c186253d LONG_OCO ALGO/USDT 781.0,\n",
       "  '619030ef3ef4ebe6574b7efd': 619030ef3ef4ebe6574b7efd LONG_OCO ALGO/USDT 502.0,\n",
       "  '61904aaf3ef4ebe6574b7efe': 61904aaf3ef4ebe6574b7efe LONG_OCO ALGO/USDT 27490.0,\n",
       "  '619053a83ef4ebe6574b7eff': 619053a83ef4ebe6574b7eff LONG_OCO ALGO/USDT 13440.0},\n",
       " 'LUNAUSDT': {'619128603ef4ebe6574b7f00': 619128603ef4ebe6574b7f00 LIVE LUNA/USDT 208.33}}"
      ]
     },
     "execution_count": 36,
     "metadata": {},
     "output_type": "execute_result"
    }
   ],
   "source": [
    "for trade in db.trades.find({'state': {'$in': ['LONG', 'LONG_OCO']}}):\n",
    "    if 'oco' in trade:\n",
    "        order_list = exchange.privateGetOrderList({'orderListId': trade['oco']['orderListId']})\n",
    "        if order_list['listOrderStatus'] == 'ALL_DONE':\n",
    "            # trade.ocodone(data)\n",
    "            db.trades.update_one({'_id' : trade['id'] }, {'$set': {'state': 'OCO_DONE'}})\n",
    "    print(trade['id'])\n",
    "\n",
    "load_trades(db.trades)\n",
    "trades"
   ]
  },
  {
   "cell_type": "code",
   "execution_count": 16,
   "metadata": {},
   "outputs": [
    {
     "data": {
      "text/plain": [
       "'Binance'"
      ]
     },
     "execution_count": 16,
     "metadata": {},
     "output_type": "execute_result"
    }
   ],
   "source": [
    "exchanges['binance'].name"
   ]
  },
  {
   "cell_type": "code",
   "execution_count": 56,
   "metadata": {},
   "outputs": [
    {
     "name": "stderr",
     "output_type": "stream",
     "text": [
      "INFO:transitions.core:Executed callback 'insertrec'\n",
      "INFO:transitions.core:Executed callback 'machine_state_changed'\n",
      "INFO:transitions.core:Finished processing state DISABLED exit callbacks.\n",
      "INFO:transitions.core:Finished processing state LIVE enter callbacks.\n",
      "INFO:transitions.core:Executed callback 'machine_state_changed'\n"
     ]
    },
    {
     "data": {
      "text/plain": [
       "6191a1fc3ef4ebe6574b7f05 LIVE LRC/USDT 4310.0"
      ]
     },
     "execution_count": 56,
     "metadata": {},
     "output_type": "execute_result"
    },
    {
     "name": "stderr",
     "output_type": "stream",
     "text": [
      "INFO:transitions.core:Executed callback 'buy_on_exchange'\n",
      "INFO:transitions.core:Executed callback 'loadrec'\n",
      "INFO:transitions.core:Executed callback 'set_oco_on_exchange'\n",
      "INFO:transitions.core:Finished processing state LIVE exit callbacks.\n",
      "INFO:transitions.core:Finished processing state LONG_OCO enter callbacks.\n",
      "INFO:transitions.core:Executed callback 'machine_state_changed'\n"
     ]
    }
   ],
   "source": [
    "symbol = 'LRC/USDT'\n",
    "exchange_name = 'binance'\n",
    "exchange = exchanges[exchange_name]\n",
    "market = exchange.market(symbol)\n",
    "nsymbol = market['id']\n",
    "\n",
    "exchange.fetchTicker(symbol)\n",
    "ticker = exchange.fetchTicker(symbol)\n",
    "last_price = ticker['last']\n",
    "\n",
    "# trigger = last_price * 1.001\n",
    "trigger = 3.08\n",
    "run_trade(exchange_name, 50000, 0.005, symbol, trigger, 3.022, 3.7235)\n",
    "\n",
    "\n",
    "# create_trade(20000, 0.01, symbol, 51.40, 50.93, 53.80)\n",
    "# trades = load_trades(exchange, db.trades)"
   ]
  },
  {
   "cell_type": "code",
   "execution_count": 53,
   "metadata": {},
   "outputs": [
    {
     "name": "stderr",
     "output_type": "stream",
     "text": [
      "INFO:transitions.core:Executed callback 'saverec'\n",
      "INFO:transitions.core:Executed callback 'loadrec'\n",
      "INFO:transitions.core:Executed callback 'cancel_oco_on_exchange'\n",
      "INFO:transitions.core:Executed callback 'set_oco_on_exchange'\n",
      "INFO:transitions.core:Finished processing state LONG_OCO exit callbacks.\n",
      "INFO:transitions.core:Finished processing state LONG_OCO enter callbacks.\n",
      "INFO:transitions.core:Executed callback 'machine_state_changed'\n"
     ]
    },
    {
     "data": {
      "text/plain": [
       "619129943ef4ebe6574b7f01 LONG_OCO ALGO/USDT 10040.0"
      ]
     },
     "execution_count": 53,
     "metadata": {},
     "output_type": "execute_result"
    }
   ],
   "source": [
    "trade = trades['ALGOUSDT']['619129943ef4ebe6574b7f01']\n",
    "# trade.start()\n",
    "# trade.watch()\n",
    "# trade = list(trades['DOTUSDT'].values())[0]\n",
    "# trade.tick({'eventType': '24hrTicker', 'eventTime': 1635812425874, 'symbol': 'ADAUSDT', 'priceChange': '-0.02400000', 'priceChangePercent': '-1.217', 'weightedAvg': '1.96039439', 'prevDayClose': '1.97200000', 'curDayClose': '1.94800000', 'closeTradeQuantity': '113.00000000', 'bestBid': '1.94800000', 'bestBidQnt': '19309.10000000', 'bestAsk': '1.94900000', 'bestAskQnt': '49035.80000000', 'open': '1.97200000', 'high': '2.01900000', 'low': '1.91100000', 'volume': '142367482.50000000', 'volumeQuote': '279096414.06090000', 'openTime': 1635726025874, 'closeTime': 1635812425874, 'firstTradeId': 307530389, 'lastTradeId': 307972281, 'totalTrades': 441893})\n",
    "# trade = trades[nsymbol]\n",
    "# trade = create\n",
    "# trade.removeoco(data={'$set': {'stop': 1.940}})\n",
    "# trade.state = 'LONG_OCO'\n",
    "# trade.setoco()\n",
    "# trade.canceloco()\n",
    "# trade.sell()\n",
    "trade.moveoco(data={'$set': {'stop': 1.9453, 'target': 2.1050}})\n",
    "\n",
    "# trade.update(data={'$set': {'target': 1.1970, 'stop': 1.920}})\n",
    "# trade.removestop()\n",
    "# trade.delete()\n",
    "# db.trades.insert_one(trade.rec)\n",
    "# trade.delete()\n",
    "trade\n"
   ]
  },
  {
   "cell_type": "code",
   "execution_count": 8,
   "metadata": {},
   "outputs": [
    {
     "data": {
      "text/plain": [
       "{}"
      ]
     },
     "execution_count": 8,
     "metadata": {},
     "output_type": "execute_result"
    }
   ],
   "source": [
    "# trades['ALGOUSDT']['61902b79c14efa88c186253c'].delete()\n",
    "# unwatch(trades['ALGOUSDT']['61902b79c14efa88c186253c'])\n",
    "# trade = trades['ALGOUSDT']['61902df3c14efa88c186253d']\n",
    "trades\n",
    "# trade.state = ''\n",
    "# trade.update(data={'$set': {'state': 'LONG_OCO', 'err': None}})\n",
    "# for t in list(trades['ADAUSDT'].values()):\n",
    "#     t.delete()\n",
    "#     pass\n",
    "# trade.update(data={'$set': {'stop': 50.93}})\n",
    "# trade.canceloco()\n",
    "# trade.moveoco(data={'$set': {'state': 'LONG'}})\n",
    "# trade.setoco()"
   ]
  },
  {
   "cell_type": "code",
   "execution_count": null,
   "metadata": {},
   "outputs": [],
   "source": [
    "# # trades\n",
    "# for symbol, trade_chunk_arr in trades.items():\n",
    "#     for chunk in trade_chunk_arr:\n",
    "#         model = chunk['model'] \n",
    "#         machine = chunk['machine']\n",
    "#         if model.state != 'LONG':\n",
    "#             continue\n",
    "#         trade = model.trade\n",
    "#         stop_order = exchange.fetchOrder(trade['curStopResp']['id'], symbol=symbol)\n",
    "#         if exchange.fetchOrderStatus(trade['curStopResp']['id'], symbol='ALGOUSDT') == 'closed':\n",
    "#             print(trade['id'], 'closed')\n",
    "#         # print(chunk)\n",
    "#     # print(tradeChunk)\n",
    "# # tradeModel.trade"
   ]
  },
  {
   "cell_type": "code",
   "execution_count": 32,
   "metadata": {},
   "outputs": [
    {
     "name": "stderr",
     "output_type": "stream",
     "text": [
      "INFO:transitions.core:Executed callback 'attachrec'\n",
      "INFO:transitions.core:Executed callback 'machine_state_changed'\n",
      "INFO:transitions.core:Executed callback 'attachrec'\n",
      "INFO:transitions.core:Executed callback 'machine_state_changed'\n",
      "INFO:transitions.core:Executed callback 'attachrec'\n",
      "INFO:transitions.core:Executed callback 'machine_state_changed'\n"
     ]
    },
    {
     "data": {
      "text/plain": [
       "{'EGLDUSDT': {'6181557435c591df74e042a8': 6181557435c591df74e042a8 LONG_OCO EGLD/USDT 46.18},\n",
       " 'DOTUSDT': {'6181abd422496ef7074963c2': 6181abd422496ef7074963c2 LONG_OCO DOT/USDT 425.53},\n",
       " 'ALGOUSDT': {'6181b49122496ef7074963c3': 6181b49122496ef7074963c3 DISABLED ALGO/USDT 8064.0}}"
      ]
     },
     "execution_count": 32,
     "metadata": {},
     "output_type": "execute_result"
    }
   ],
   "source": [
    "# logger.setLevel(logging.INFO)\n",
    "# trade.state, trade.rec.symbol\n",
    "trades = load_trades(exchange, db.trades)\n",
    "trades"
   ]
  },
  {
   "cell_type": "code",
   "execution_count": 14,
   "metadata": {},
   "outputs": [
    {
     "name": "stderr",
     "output_type": "stream",
     "text": [
      "INFO:transitions.core:Executed callback 'insertrec'\n",
      "INFO:transitions.core:Executed callback 'machine_state_changed'\n",
      "INFO:transitions.core:Finished processing state DISABLED exit callbacks.\n",
      "INFO:transitions.core:Finished processing state LIVE enter callbacks.\n",
      "INFO:transitions.core:Executed callback 'machine_state_changed'\n"
     ]
    }
   ],
   "source": []
  },
  {
   "cell_type": "code",
   "execution_count": 5,
   "metadata": {},
   "outputs": [
    {
     "ename": "KeyError",
     "evalue": "'ADAUSDT'",
     "output_type": "error",
     "traceback": [
      "\u001b[0;31m---------------------------------------------------------------------------\u001b[0m",
      "\u001b[0;31mKeyError\u001b[0m                                  Traceback (most recent call last)",
      "\u001b[0;32m/tmp/ipykernel_37847/2715165303.py\u001b[0m in \u001b[0;36m<module>\u001b[0;34m\u001b[0m\n\u001b[0;32m----> 1\u001b[0;31m \u001b[0mtrade\u001b[0m \u001b[0;34m=\u001b[0m \u001b[0mtrades\u001b[0m\u001b[0;34m[\u001b[0m\u001b[0;34m'ADAUSDT'\u001b[0m\u001b[0;34m]\u001b[0m\u001b[0;34m[\u001b[0m\u001b[0;34m'618085b7dacef867e5df6e7f'\u001b[0m\u001b[0;34m]\u001b[0m\u001b[0;34m\u001b[0m\u001b[0;34m\u001b[0m\u001b[0m\n\u001b[0m\u001b[1;32m      2\u001b[0m \u001b[0mtrade\u001b[0m\u001b[0;34m.\u001b[0m\u001b[0mdelete\u001b[0m\u001b[0;34m(\u001b[0m\u001b[0;34m)\u001b[0m\u001b[0;34m\u001b[0m\u001b[0;34m\u001b[0m\u001b[0m\n",
      "\u001b[0;31mKeyError\u001b[0m: 'ADAUSDT'"
     ]
    }
   ],
   "source": [
    "trade = trades['ADAUSDT']['618085b7dacef867e5df6e7f']\n",
    "trade.delete()"
   ]
  },
  {
   "cell_type": "code",
   "execution_count": 26,
   "metadata": {},
   "outputs": [
    {
     "data": {
      "text/plain": [
       "{'ADAUSDT': {'6180601e017cac0f83038874': 6180601e017cac0f83038874 LONG ADAUSDT 49.99999999999996}}"
      ]
     },
     "execution_count": 26,
     "metadata": {},
     "output_type": "execute_result"
    }
   ],
   "source": [
    "trades"
   ]
  },
  {
   "cell_type": "code",
   "execution_count": null,
   "metadata": {},
   "outputs": [],
   "source": []
  }
 ],
 "metadata": {
  "interpreter": {
   "hash": "f0efd89945ffcdb19dfb6b1d82577bc29320d98cd998110bbfca989effc5b488"
  },
  "kernelspec": {
   "display_name": "Python 3.8.11 64-bit ('py38': conda)",
   "name": "python3"
  },
  "language_info": {
   "codemirror_mode": {
    "name": "ipython",
    "version": 3
   },
   "file_extension": ".py",
   "mimetype": "text/x-python",
   "name": "python",
   "nbconvert_exporter": "python",
   "pygments_lexer": "ipython3",
   "version": "3.8.11"
  },
  "orig_nbformat": 4
 },
 "nbformat": 4,
 "nbformat_minor": 2
}
