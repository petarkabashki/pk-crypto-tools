{
 "cells": [
  {
   "cell_type": "code",
   "execution_count": 1,
   "source": [
    "import os\n",
    "import ccxt\n",
    "# import config\n",
    "import schedule\n",
    "import pandas as pd\n",
    "pd.set_option('display.max_rows', None)\n",
    "from datetime import datetime\n",
    "import time\n",
    "import pytz\n",
    "import json\n",
    "import numpy as np\n",
    "# import warnings\n",
    "# warnings.filterwarnings('ignore')\n",
    "import sys\n",
    "from importlib import reload  "
   ],
   "outputs": [],
   "metadata": {}
  },
  {
   "cell_type": "code",
   "execution_count": 2,
   "source": [
    "# !. ./load-creds.sh"
   ],
   "outputs": [
    {
     "output_type": "stream",
     "name": "stdout",
     "text": [
      "Error authenticating: error looking up token: Error making API request.\n",
      "\n",
      "URL: GET http://127.0.0.1:8200/v1/auth/token/lookup-self\n",
      "Code: 403. Errors:\n",
      "\n",
      "* permission denied\n"
     ]
    }
   ],
   "metadata": {}
  },
  {
   "cell_type": "code",
   "execution_count": 2,
   "source": [
    "def cancelOrders(exch, symbol):\n",
    "  exchange = exchanges[exch]\n",
    "  for order in exchange.fetch_open_orders(symbol):\n",
    "    exchange.cancel_order(order['id'], symbol=order['symbol'])"
   ],
   "outputs": [],
   "metadata": {}
  },
  {
   "cell_type": "code",
   "execution_count": 3,
   "source": [
    "def buyMarket__stoporderMarket(exchange, symbol, amount, triggerPrice, stopPrice):\n",
    "  db.xqueue.insert_one({\n",
    "    \"description\": \"pktrade\",\n",
    "    \"status\": \"new\",\n",
    "    \"q\": [\n",
    "      {\n",
    "        \"qid\": 0,\n",
    "        \"symbol\": symbol,\n",
    "        \"status\": \"new\",\n",
    "        \"trigger\": f\"ticker['ask'] < {triggerPrice}\",\n",
    "        \"exchange\": exchange,\n",
    "        \"method\": f\"exchange.create_market_buy_order('{symbol}', {amount})\"\n",
    "      },\n",
    "      {\n",
    "        \"qid\": 1,\n",
    "        \"symbol\": symbol,\n",
    "        \"status\": \"new\",\n",
    "        \"trigger\": \"'done' == qx['q'][0]['status']\",\n",
    "        \"exchange\": exchange,\n",
    "        \"method\": f\"exchange.create_order('{symbol}', 'STOP_LOSS_LIMIT', 'sell', {amount}, {stopPrice * 0.95}, {{'stopPrice': {stopPrice}}})\"\n",
    "      }\n",
    "    ]\n",
    "  })"
   ],
   "outputs": [],
   "metadata": {}
  },
  {
   "cell_type": "code",
   "execution_count": 4,
   "source": [
    "def sellMarket__priceAbove(exchange, symbol, amount, triggerPrice):\n",
    "  db.xqueue.insert_one({\n",
    "    \"description\": \"pktrade\",\n",
    "    \"status\": \"new\",\n",
    "    \"q\": [\n",
    "      {\n",
    "        \"qid\": 0,\n",
    "        \"symbol\": symbol,\n",
    "        \"status\": \"new\",\n",
    "        \"trigger\": f\"ticker['bid'] >= {triggerPrice}\",\n",
    "        \"exchange\": exchange,\n",
    "        \"method\": f\"cancelOrders('{exchange}', '{symbol}')\"\n",
    "      },\n",
    "      {\n",
    "        \"qid\": 1,\n",
    "        \"symbol\": symbol,\n",
    "        \"status\": \"new\",\n",
    "        \"trigger\": \"'done' == qx['q'][0]['status']\",\n",
    "        \"exchange\": exchange,\n",
    "        \"method\": f\"exchange.create_order('{symbol}', 'market', 'sell', {amount})\"\n",
    "      }\n",
    "    ]\n",
    "  })"
   ],
   "outputs": [],
   "metadata": {}
  },
  {
   "cell_type": "code",
   "execution_count": 5,
   "source": [
    "exchanges = {}\n",
    "config = False\n",
    "with open ('config.json') as js: \n",
    "        config = json.load(js)\n",
    "\n",
    "for exkey, exconf in config['exchanges'].items():\n",
    "        if exconf['enabled'] and not exkey in exchanges:\n",
    "                excred = exconf['cred']\n",
    "                for crk, crv in excred.items():\n",
    "                        if crv[0] == \"$\" : \n",
    "                                excred[crk] = os.getenv(crv[1:])\n",
    "\n",
    "                exchanges[exkey] = getattr(ccxt, exkey) (excred)"
   ],
   "outputs": [],
   "metadata": {}
  },
  {
   "cell_type": "code",
   "execution_count": null,
   "source": [],
   "outputs": [],
   "metadata": {}
  },
  {
   "cell_type": "code",
   "execution_count": 7,
   "source": [
    "from pymongo import MongoClient\n",
    "from bson.objectid import ObjectId\n",
    "from pprint import pprint\n",
    "\n",
    "client = MongoClient()\n",
    "db=client.pkbot\n",
    "\n",
    "tickers = {}\n",
    "\n",
    "iit = 0\n",
    "\n",
    "def run_bot():\n",
    "  # time.sleep(2)\n",
    "  global exchanges, tickers, iit\n",
    "  if (iit % 10) == 0: print(f\"{datetime.now()} Scanning for new orders ({iit})...\")\n",
    "  iit += 1\n",
    "  for csyms in db.xqueue.aggregate([    \n",
    "      {'$match':{'status': \"new\"}},\n",
    "      {'$unwind':\"$q\"},\n",
    "      {'$group':{'_id': {'exchange':\"$q.exchange\", \"symbol\": \"$q.symbol\"}}},\n",
    "      {'$group':{'_id': '$_id.exchange',\"symbols\": {'$addToSet': \"$_id.symbol\"}}},\n",
    "      # {'$match':{'_id': qo['exchange']}}\n",
    "  ]):\n",
    "    exchange_name = csyms['_id']\n",
    "    symbols = csyms['symbols']\n",
    "    tickers[exchange_name] = exchanges[exchange_name].fetchTickers(symbols)\n",
    "    # print(exchange_name, tickers[exchange_name])\n",
    "  for qx in db.xqueue.find({'status' :'new'}):\n",
    "    print(f\"{datetime.now()} Processing q/{qx['_id']}\")\n",
    "    for idxqo, qo in enumerate(qx['q']):\n",
    "      nqx = db.xqueue.find_one({'_id': qx.get('_id')})\n",
    "      print(f'{datetime.now()}   qid/{qo[\"qid\"]} status: {qo[\"status\"]}')\n",
    "      exchange_name = qo['exchange']\n",
    "      symbol = qo['symbol']\n",
    "      if qo['status'] != 'new':\n",
    "        continue\n",
    "\n",
    "      print(f'{datetime.now()}        Checking {exchange_name}: qid/{qo[\"qid\"]} {qo[\"trigger\"]}')\n",
    "      \n",
    "      exchange = exchanges[exchange_name]\n",
    "      ticker = tickers[exchange_name][symbol]\n",
    "\n",
    "      if not eval(qo['trigger'], {'ticker': ticker, 'qx' : nqx}):\n",
    "        continue\n",
    "\n",
    "      print(f'{datetime.now()}        Triggered {exchange_name}:  {qo[\"method\"]}')\n",
    "      # res = getattr(exchange, qo['method'])(*qo['margs'])\n",
    "      res = eval(qo['method'])\n",
    "      # print('RES:', res)\n",
    "      updres = db.xqueue.update_one({'_id' : qx.get('_id') }, {\n",
    "        '$set': { \n",
    "          # f\"q.{idxqo}.orderId\": res['id'],\n",
    "          f\"q.{idxqo}.status\": 'done',\n",
    "          f\"q.{idxqo}.res\": res,\n",
    "          }\n",
    "      })\n",
    "\n",
    "    if db.xqueue.find_one({'_id': qx.get('_id'), \"q.status\" : { \"$ne\": \"done\" }}) == None:\n",
    "      db.xqueue.update_one({'_id' : qx.get('_id') }, {\n",
    "          '$set': { 'status': 'done' }\n",
    "        })\n",
    "\n",
    "schedule.every(2).seconds.do(run_bot)\n",
    "while True:\n",
    "    schedule.run_pending()\n",
    "    time.sleep(1)\n",
    "# run_bot()"
   ],
   "outputs": [
    {
     "output_type": "stream",
     "name": "stdout",
     "text": [
      "2021-09-24 15:44:18.275043 Scanning for new orders (0)...\n",
      "2021-09-24 15:44:38.344871 Scanning for new orders (10)...\n",
      "2021-09-24 15:44:58.409491 Scanning for new orders (20)...\n",
      "2021-09-24 15:45:18.488822 Scanning for new orders (30)...\n"
     ]
    },
    {
     "output_type": "error",
     "ename": "KeyboardInterrupt",
     "evalue": "",
     "traceback": [
      "\u001b[0;31m---------------------------------------------------------------------------\u001b[0m",
      "\u001b[0;31mKeyboardInterrupt\u001b[0m                         Traceback (most recent call last)",
      "\u001b[0;32m<ipython-input-7-14f823612bee>\u001b[0m in \u001b[0;36m<module>\u001b[0;34m\u001b[0m\n\u001b[1;32m     63\u001b[0m \u001b[0mschedule\u001b[0m\u001b[0;34m.\u001b[0m\u001b[0mevery\u001b[0m\u001b[0;34m(\u001b[0m\u001b[0;36m2\u001b[0m\u001b[0;34m)\u001b[0m\u001b[0;34m.\u001b[0m\u001b[0mseconds\u001b[0m\u001b[0;34m.\u001b[0m\u001b[0mdo\u001b[0m\u001b[0;34m(\u001b[0m\u001b[0mrun_bot\u001b[0m\u001b[0;34m)\u001b[0m\u001b[0;34m\u001b[0m\u001b[0;34m\u001b[0m\u001b[0m\n\u001b[1;32m     64\u001b[0m \u001b[0;32mwhile\u001b[0m \u001b[0;32mTrue\u001b[0m\u001b[0;34m:\u001b[0m\u001b[0;34m\u001b[0m\u001b[0;34m\u001b[0m\u001b[0m\n\u001b[0;32m---> 65\u001b[0;31m     \u001b[0mschedule\u001b[0m\u001b[0;34m.\u001b[0m\u001b[0mrun_pending\u001b[0m\u001b[0;34m(\u001b[0m\u001b[0;34m)\u001b[0m\u001b[0;34m\u001b[0m\u001b[0;34m\u001b[0m\u001b[0m\n\u001b[0m\u001b[1;32m     66\u001b[0m     \u001b[0mtime\u001b[0m\u001b[0;34m.\u001b[0m\u001b[0msleep\u001b[0m\u001b[0;34m(\u001b[0m\u001b[0;36m1\u001b[0m\u001b[0;34m)\u001b[0m\u001b[0;34m\u001b[0m\u001b[0;34m\u001b[0m\u001b[0m\n\u001b[1;32m     67\u001b[0m \u001b[0;31m# run_bot()\u001b[0m\u001b[0;34m\u001b[0m\u001b[0;34m\u001b[0m\u001b[0;34m\u001b[0m\u001b[0m\n",
      "\u001b[0;32m~/opt/anaconda3/envs/py38/lib/python3.8/site-packages/schedule/__init__.py\u001b[0m in \u001b[0;36mrun_pending\u001b[0;34m()\u001b[0m\n\u001b[1;32m    778\u001b[0m     \u001b[0;34m:\u001b[0m\u001b[0mdata\u001b[0m\u001b[0;34m:\u001b[0m\u001b[0;31m`\u001b[0m\u001b[0mdefault\u001b[0m \u001b[0mscheduler\u001b[0m \u001b[0minstance\u001b[0m \u001b[0;34m<\u001b[0m\u001b[0mdefault_scheduler\u001b[0m\u001b[0;34m>\u001b[0m\u001b[0;31m`\u001b[0m\u001b[0;34m.\u001b[0m\u001b[0;34m\u001b[0m\u001b[0;34m\u001b[0m\u001b[0m\n\u001b[1;32m    779\u001b[0m     \"\"\"\n\u001b[0;32m--> 780\u001b[0;31m     \u001b[0mdefault_scheduler\u001b[0m\u001b[0;34m.\u001b[0m\u001b[0mrun_pending\u001b[0m\u001b[0;34m(\u001b[0m\u001b[0;34m)\u001b[0m\u001b[0;34m\u001b[0m\u001b[0;34m\u001b[0m\u001b[0m\n\u001b[0m\u001b[1;32m    781\u001b[0m \u001b[0;34m\u001b[0m\u001b[0m\n\u001b[1;32m    782\u001b[0m \u001b[0;34m\u001b[0m\u001b[0m\n",
      "\u001b[0;32m~/opt/anaconda3/envs/py38/lib/python3.8/site-packages/schedule/__init__.py\u001b[0m in \u001b[0;36mrun_pending\u001b[0;34m(self)\u001b[0m\n\u001b[1;32m     98\u001b[0m         \u001b[0mrunnable_jobs\u001b[0m \u001b[0;34m=\u001b[0m \u001b[0;34m(\u001b[0m\u001b[0mjob\u001b[0m \u001b[0;32mfor\u001b[0m \u001b[0mjob\u001b[0m \u001b[0;32min\u001b[0m \u001b[0mself\u001b[0m\u001b[0;34m.\u001b[0m\u001b[0mjobs\u001b[0m \u001b[0;32mif\u001b[0m \u001b[0mjob\u001b[0m\u001b[0;34m.\u001b[0m\u001b[0mshould_run\u001b[0m\u001b[0;34m)\u001b[0m\u001b[0;34m\u001b[0m\u001b[0;34m\u001b[0m\u001b[0m\n\u001b[1;32m     99\u001b[0m         \u001b[0;32mfor\u001b[0m \u001b[0mjob\u001b[0m \u001b[0;32min\u001b[0m \u001b[0msorted\u001b[0m\u001b[0;34m(\u001b[0m\u001b[0mrunnable_jobs\u001b[0m\u001b[0;34m)\u001b[0m\u001b[0;34m:\u001b[0m\u001b[0;34m\u001b[0m\u001b[0;34m\u001b[0m\u001b[0m\n\u001b[0;32m--> 100\u001b[0;31m             \u001b[0mself\u001b[0m\u001b[0;34m.\u001b[0m\u001b[0m_run_job\u001b[0m\u001b[0;34m(\u001b[0m\u001b[0mjob\u001b[0m\u001b[0;34m)\u001b[0m\u001b[0;34m\u001b[0m\u001b[0;34m\u001b[0m\u001b[0m\n\u001b[0m\u001b[1;32m    101\u001b[0m \u001b[0;34m\u001b[0m\u001b[0m\n\u001b[1;32m    102\u001b[0m     \u001b[0;32mdef\u001b[0m \u001b[0mrun_all\u001b[0m\u001b[0;34m(\u001b[0m\u001b[0mself\u001b[0m\u001b[0;34m,\u001b[0m \u001b[0mdelay_seconds\u001b[0m\u001b[0;34m:\u001b[0m \u001b[0mint\u001b[0m \u001b[0;34m=\u001b[0m \u001b[0;36m0\u001b[0m\u001b[0;34m)\u001b[0m \u001b[0;34m->\u001b[0m \u001b[0;32mNone\u001b[0m\u001b[0;34m:\u001b[0m\u001b[0;34m\u001b[0m\u001b[0;34m\u001b[0m\u001b[0m\n",
      "\u001b[0;32m~/opt/anaconda3/envs/py38/lib/python3.8/site-packages/schedule/__init__.py\u001b[0m in \u001b[0;36m_run_job\u001b[0;34m(self, job)\u001b[0m\n\u001b[1;32m    170\u001b[0m \u001b[0;34m\u001b[0m\u001b[0m\n\u001b[1;32m    171\u001b[0m     \u001b[0;32mdef\u001b[0m \u001b[0m_run_job\u001b[0m\u001b[0;34m(\u001b[0m\u001b[0mself\u001b[0m\u001b[0;34m,\u001b[0m \u001b[0mjob\u001b[0m\u001b[0;34m:\u001b[0m \u001b[0;34m\"Job\"\u001b[0m\u001b[0;34m)\u001b[0m \u001b[0;34m->\u001b[0m \u001b[0;32mNone\u001b[0m\u001b[0;34m:\u001b[0m\u001b[0;34m\u001b[0m\u001b[0;34m\u001b[0m\u001b[0m\n\u001b[0;32m--> 172\u001b[0;31m         \u001b[0mret\u001b[0m \u001b[0;34m=\u001b[0m \u001b[0mjob\u001b[0m\u001b[0;34m.\u001b[0m\u001b[0mrun\u001b[0m\u001b[0;34m(\u001b[0m\u001b[0;34m)\u001b[0m\u001b[0;34m\u001b[0m\u001b[0;34m\u001b[0m\u001b[0m\n\u001b[0m\u001b[1;32m    173\u001b[0m         \u001b[0;32mif\u001b[0m \u001b[0misinstance\u001b[0m\u001b[0;34m(\u001b[0m\u001b[0mret\u001b[0m\u001b[0;34m,\u001b[0m \u001b[0mCancelJob\u001b[0m\u001b[0;34m)\u001b[0m \u001b[0;32mor\u001b[0m \u001b[0mret\u001b[0m \u001b[0;32mis\u001b[0m \u001b[0mCancelJob\u001b[0m\u001b[0;34m:\u001b[0m\u001b[0;34m\u001b[0m\u001b[0;34m\u001b[0m\u001b[0m\n\u001b[1;32m    174\u001b[0m             \u001b[0mself\u001b[0m\u001b[0;34m.\u001b[0m\u001b[0mcancel_job\u001b[0m\u001b[0;34m(\u001b[0m\u001b[0mjob\u001b[0m\u001b[0;34m)\u001b[0m\u001b[0;34m\u001b[0m\u001b[0;34m\u001b[0m\u001b[0m\n",
      "\u001b[0;32m~/opt/anaconda3/envs/py38/lib/python3.8/site-packages/schedule/__init__.py\u001b[0m in \u001b[0;36mrun\u001b[0;34m(self)\u001b[0m\n\u001b[1;32m    659\u001b[0m \u001b[0;34m\u001b[0m\u001b[0m\n\u001b[1;32m    660\u001b[0m         \u001b[0mlogger\u001b[0m\u001b[0;34m.\u001b[0m\u001b[0mdebug\u001b[0m\u001b[0;34m(\u001b[0m\u001b[0;34m\"Running job %s\"\u001b[0m\u001b[0;34m,\u001b[0m \u001b[0mself\u001b[0m\u001b[0;34m)\u001b[0m\u001b[0;34m\u001b[0m\u001b[0;34m\u001b[0m\u001b[0m\n\u001b[0;32m--> 661\u001b[0;31m         \u001b[0mret\u001b[0m \u001b[0;34m=\u001b[0m \u001b[0mself\u001b[0m\u001b[0;34m.\u001b[0m\u001b[0mjob_func\u001b[0m\u001b[0;34m(\u001b[0m\u001b[0;34m)\u001b[0m\u001b[0;34m\u001b[0m\u001b[0;34m\u001b[0m\u001b[0m\n\u001b[0m\u001b[1;32m    662\u001b[0m         \u001b[0mself\u001b[0m\u001b[0;34m.\u001b[0m\u001b[0mlast_run\u001b[0m \u001b[0;34m=\u001b[0m \u001b[0mdatetime\u001b[0m\u001b[0;34m.\u001b[0m\u001b[0mdatetime\u001b[0m\u001b[0;34m.\u001b[0m\u001b[0mnow\u001b[0m\u001b[0;34m(\u001b[0m\u001b[0;34m)\u001b[0m\u001b[0;34m\u001b[0m\u001b[0;34m\u001b[0m\u001b[0m\n\u001b[1;32m    663\u001b[0m         \u001b[0mself\u001b[0m\u001b[0;34m.\u001b[0m\u001b[0m_schedule_next_run\u001b[0m\u001b[0;34m(\u001b[0m\u001b[0;34m)\u001b[0m\u001b[0;34m\u001b[0m\u001b[0;34m\u001b[0m\u001b[0m\n",
      "\u001b[0;32m<ipython-input-6-67d78dcb8f32>\u001b[0m in \u001b[0;36mrun_bot\u001b[0;34m()\u001b[0m\n\u001b[1;32m     11\u001b[0m \u001b[0;34m\u001b[0m\u001b[0m\n\u001b[1;32m     12\u001b[0m \u001b[0;32mdef\u001b[0m \u001b[0mrun_bot\u001b[0m\u001b[0;34m(\u001b[0m\u001b[0;34m)\u001b[0m\u001b[0;34m:\u001b[0m\u001b[0;34m\u001b[0m\u001b[0;34m\u001b[0m\u001b[0m\n\u001b[0;32m---> 13\u001b[0;31m   \u001b[0mtime\u001b[0m\u001b[0;34m.\u001b[0m\u001b[0msleep\u001b[0m\u001b[0;34m(\u001b[0m\u001b[0;36m2\u001b[0m\u001b[0;34m)\u001b[0m\u001b[0;34m\u001b[0m\u001b[0;34m\u001b[0m\u001b[0m\n\u001b[0m\u001b[1;32m     14\u001b[0m   \u001b[0;32mglobal\u001b[0m \u001b[0mexchanges\u001b[0m\u001b[0;34m,\u001b[0m \u001b[0mtickers\u001b[0m\u001b[0;34m,\u001b[0m \u001b[0miit\u001b[0m\u001b[0;34m\u001b[0m\u001b[0;34m\u001b[0m\u001b[0m\n\u001b[1;32m     15\u001b[0m   \u001b[0;32mif\u001b[0m \u001b[0;34m(\u001b[0m\u001b[0miit\u001b[0m \u001b[0;34m%\u001b[0m \u001b[0;36m10\u001b[0m\u001b[0;34m)\u001b[0m \u001b[0;34m==\u001b[0m \u001b[0;36m0\u001b[0m\u001b[0;34m:\u001b[0m \u001b[0mprint\u001b[0m\u001b[0;34m(\u001b[0m\u001b[0;34mf\"{datetime.now()} Scanning for new orders ({iit})...\"\u001b[0m\u001b[0;34m)\u001b[0m\u001b[0;34m\u001b[0m\u001b[0;34m\u001b[0m\u001b[0m\n",
      "\u001b[0;31mKeyboardInterrupt\u001b[0m: "
     ]
    }
   ],
   "metadata": {}
  },
  {
   "cell_type": "code",
   "execution_count": null,
   "source": [],
   "outputs": [],
   "metadata": {}
  }
 ],
 "metadata": {
  "orig_nbformat": 4,
  "language_info": {
   "name": "python",
   "version": "3.8.10",
   "mimetype": "text/x-python",
   "codemirror_mode": {
    "name": "ipython",
    "version": 3
   },
   "pygments_lexer": "ipython3",
   "nbconvert_exporter": "python",
   "file_extension": ".py"
  },
  "kernelspec": {
   "name": "python3",
   "display_name": "Python 3.8.10 64-bit ('py38': conda)"
  },
  "interpreter": {
   "hash": "9cd1802d11fdaa8b5e14fa01355949ba763388a191b1b5d281078f6b1e7bfc37"
  }
 },
 "nbformat": 4,
 "nbformat_minor": 2
}