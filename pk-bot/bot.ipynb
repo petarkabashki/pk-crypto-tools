{
 "cells": [
  {
   "cell_type": "code",
   "execution_count": 1,
   "source": [
    "import os\n",
    "import ccxt\n",
    "# import config\n",
    "import schedule\n",
    "import pandas as pd\n",
    "pd.set_option('display.max_rows', None)\n",
    "from datetime import datetime\n",
    "import time\n",
    "import pytz\n",
    "import json\n",
    "import numpy as np\n",
    "# import warnings\n",
    "# warnings.filterwarnings('ignore')\n",
    "import sys\n",
    "from importlib import reload  "
   ],
   "outputs": [],
   "metadata": {}
  },
  {
   "cell_type": "code",
   "execution_count": 2,
   "source": [
    "!. ./load-creds.sh"
   ],
   "outputs": [
    {
     "output_type": "stream",
     "name": "stdout",
     "text": [
      "Error authenticating: error looking up token: Error making API request.\n",
      "\n",
      "URL: GET http://127.0.0.1:8200/v1/auth/token/lookup-self\n",
      "Code: 403. Errors:\n",
      "\n",
      "* permission denied\n"
     ]
    }
   ],
   "metadata": {}
  },
  {
   "cell_type": "code",
   "execution_count": 6,
   "source": [
    "def cancelOrders(exch, symbol):\n",
    "  exchange = exchanges[exch]\n",
    "  for order in exchange.fetch_open_orders(symbol):\n",
    "    exchange.cancel_order(order['id'], symbol=order['symbol'])"
   ],
   "outputs": [],
   "metadata": {}
  },
  {
   "cell_type": "code",
   "execution_count": 7,
   "source": [
    "def buyMarket__stoporderMarket(exchange, symbol, amount, triggerPrice, stopPrice):\n",
    "  db.xqueue.insert_one({\n",
    "    \"description\": \"pktrade\",\n",
    "    \"status\": \"new\",\n",
    "    \"q\": [\n",
    "      {\n",
    "        \"qid\": 0,\n",
    "        \"symbol\": symbol,\n",
    "        \"status\": \"new\",\n",
    "        \"trigger\": f\"ticker['ask'] < {triggerPrice}\",\n",
    "        \"exchange\": exchange,\n",
    "        \"method\": f\"exchange.create_market_buy_order('{symbol}', {amount})\"\n",
    "      },\n",
    "      {\n",
    "        \"qid\": 1,\n",
    "        \"symbol\": symbol,\n",
    "        \"status\": \"new\",\n",
    "        \"trigger\": \"'done' == qx['q'][0]['status']\",\n",
    "        \"exchange\": exchange,\n",
    "        \"method\": f\"exchange.create_order('{symbol}', 'STOP_LOSS_LIMIT', 'sell', {amount}, {stopPrice * 0.95}, {{'stopPrice': {stopPrice}}})\"\n",
    "      }\n",
    "    ]\n",
    "  })"
   ],
   "outputs": [],
   "metadata": {}
  },
  {
   "cell_type": "code",
   "execution_count": 10,
   "source": [
    "def sellMarket__priceAbove(exchange, symbol, amount, triggerPrice):\n",
    "  db.xqueue.insert_one({\n",
    "    \"description\": \"pktrade\",\n",
    "    \"status\": \"new\",\n",
    "    \"q\": [\n",
    "      {\n",
    "        \"qid\": 0,\n",
    "        \"symbol\": symbol,\n",
    "        \"status\": \"new\",\n",
    "        \"trigger\": f\"ticker['bid'] >= {triggerPrice}\",\n",
    "        \"exchange\": exchange,\n",
    "        \"method\": f\"cancelOrders('{exchange}', '{symbol}')\"\n",
    "      },\n",
    "      {\n",
    "        \"qid\": 1,\n",
    "        \"symbol\": symbol,\n",
    "        \"status\": \"new\",\n",
    "        \"trigger\": \"'done' == qx['q'][0]['status']\",\n",
    "        \"exchange\": exchange,\n",
    "        \"method\": f\"exchange.create_order('{symbol}', 'market', 'sell', {amount})\"\n",
    "      }\n",
    "    ]\n",
    "  })"
   ],
   "outputs": [],
   "metadata": {}
  },
  {
   "cell_type": "code",
   "execution_count": 11,
   "source": [
    "exchanges = {}\n",
    "config = False\n",
    "with open ('config.json') as js: \n",
    "        config = json.load(js)\n",
    "\n",
    "for exkey, exconf in config['exchanges'].items():\n",
    "        if exconf['enabled'] and not exkey in exchanges:\n",
    "                excred = exconf['cred']\n",
    "                for crk, crv in excred.items():\n",
    "                        if crv[0] == \"$\" : \n",
    "                                excred[crk] = os.getenv(crv[1:])\n",
    "\n",
    "                exchanges[exkey] = getattr(ccxt, exkey) (excred)"
   ],
   "outputs": [],
   "metadata": {}
  },
  {
   "cell_type": "code",
   "execution_count": null,
   "source": [],
   "outputs": [],
   "metadata": {}
  },
  {
   "cell_type": "code",
   "execution_count": 14,
   "source": [
    "from pymongo import MongoClient\n",
    "from bson.objectid import ObjectId\n",
    "from pprint import pprint\n",
    "\n",
    "client = MongoClient()\n",
    "db=client.pkbot\n",
    "\n",
    "tickers = {}\n",
    "\n",
    "iit = 0\n",
    "\n",
    "def run_bot():\n",
    "  time.sleep(1)\n",
    "  global exchanges, tickers, iit\n",
    "  if (iit % 10) == 0: print(f\"Scanning for new orders ({iit})...\")\n",
    "  iit += 1\n",
    "  for csyms in db.xqueue.aggregate([    \n",
    "      {'$match':{'status': \"new\"}},\n",
    "      {'$unwind':\"$q\"},\n",
    "      {'$group':{'_id': {'exchange':\"$q.exchange\", \"symbol\": \"$q.symbol\"}}},\n",
    "      {'$group':{'_id': '$_id.exchange',\"symbols\": {'$addToSet': \"$_id.symbol\"}}},\n",
    "      # {'$match':{'_id': qo['exchange']}}\n",
    "  ]):\n",
    "    exchange_name = csyms['_id']\n",
    "    symbols = csyms['symbols']\n",
    "    tickers[exchange_name] = exchanges[exchange_name].fetchTickers(symbols)\n",
    "    # print(exchange_name, tickers[exchange_name])\n",
    "  for qx in db.xqueue.find({'status' :'new'}):\n",
    "    print(f\"Processing q/{qx['_id']}\")\n",
    "    for idxqo, qo in enumerate(qx['q']):\n",
    "      nqx = db.xqueue.find_one({'_id': qx.get('_id')})\n",
    "      print(f'   qid/{qo[\"qid\"]} status: {qo[\"status\"]}')\n",
    "      exchange_name = qo['exchange']\n",
    "      symbol = qo['symbol']\n",
    "      if qo['status'] != 'new':\n",
    "        continue\n",
    "\n",
    "      print(f'        Checking {exchange_name}: qid/{qo[\"qid\"]} {qo[\"trigger\"]}')\n",
    "      \n",
    "      exchange = exchanges[exchange_name]\n",
    "      ticker = tickers[exchange_name][symbol]\n",
    "\n",
    "      if not eval(qo['trigger'], {'ticker': ticker, 'qx' : nqx}):\n",
    "        continue\n",
    "\n",
    "      print(f'        Triggered {exchange_name}:  {qo[\"method\"]}')\n",
    "      # res = getattr(exchange, qo['method'])(*qo['margs'])\n",
    "      res = eval(qo['method'])\n",
    "      # print('RES:', res)\n",
    "      updres = db.xqueue.update_one({'_id' : qx.get('_id') }, {\n",
    "        '$set': { \n",
    "          # f\"q.{idxqo}.orderId\": res['id'],\n",
    "          f\"q.{idxqo}.status\": 'done',\n",
    "          f\"q.{idxqo}.res\": res,\n",
    "          }\n",
    "      })\n",
    "\n",
    "    if db.xqueue.find_one({'_id': qx.get('_id'), \"q.status\" : { \"$ne\": \"done\" }}) == None:\n",
    "      db.xqueue.update_one({'_id' : qx.get('_id') }, {\n",
    "          '$set': { 'status': 'done' }\n",
    "        })\n",
    "\n",
    "schedule.every(1).seconds.do(run_bot)\n",
    "while True:\n",
    "    schedule.run_pending()\n",
    "    time.sleep(0.1)\n",
    "# run_bot()"
   ],
   "outputs": [
    {
     "output_type": "stream",
     "name": "stdout",
     "text": [
      "Scanning for new orders (0)...\n",
      "Processing q/614c929262c140a93f610b0f\n",
      "   qid/0 status: new\n",
      "        Checking binance: qid/0 ticker['bid'] >= 44000\n",
      "        Triggered binance:  cancelOrders('binance', 'BTC/USDT')\n",
      "RES: None\n",
      "   qid/1 status: new\n",
      "        Checking binance: qid/1 'done' == qx['q'][0]['status']\n",
      "        Triggered binance:  exchange.create_order('BTC/USDT', 'market', 'sell', 0.001)\n",
      "RES: {'info': {'symbol': 'BTCUSDT', 'orderId': '7639492416', 'orderListId': '-1', 'clientOrderId': 'x-R4BD3S82dc23ff06c2c1de1f357aea', 'transactTime': '1632408215580', 'price': '0.00000000', 'origQty': '0.00100000', 'executedQty': '0.00100000', 'cummulativeQuoteQty': '44.14065000', 'status': 'FILLED', 'timeInForce': 'GTC', 'type': 'MARKET', 'side': 'SELL', 'fills': [{'price': '44140.65000000', 'qty': '0.00100000', 'commission': '0.04414065', 'commissionAsset': 'USDT', 'tradeId': '1065563017'}]}, 'id': '7639492416', 'clientOrderId': 'x-R4BD3S82dc23ff06c2c1de1f357aea', 'timestamp': 1632408215580, 'datetime': '2021-09-23T14:43:35.580Z', 'lastTradeTimestamp': None, 'symbol': 'BTC/USDT', 'type': 'market', 'timeInForce': 'GTC', 'postOnly': False, 'side': 'sell', 'price': 44140.65, 'stopPrice': None, 'amount': 0.001, 'cost': 44.14065, 'average': 44140.65, 'filled': 0.001, 'remaining': 0.0, 'status': 'closed', 'fee': {'cost': 0.04414065, 'currency': 'USDT'}, 'trades': [{'info': {'price': '44140.65000000', 'qty': '0.00100000', 'commission': '0.04414065', 'commissionAsset': 'USDT', 'tradeId': '1065563017'}, 'timestamp': None, 'datetime': None, 'symbol': 'BTC/USDT', 'id': None, 'order': None, 'type': None, 'side': None, 'takerOrMaker': None, 'price': 44140.65, 'amount': 0.001, 'cost': 44.14065, 'fee': {'cost': 0.04414065, 'currency': 'USDT'}}], 'fees': [{'cost': 0.04414065, 'currency': 'USDT'}]}\n",
      "Scanning for new orders (10)...\n",
      "Scanning for new orders (20)...\n",
      "Scanning for new orders (30)...\n",
      "Scanning for new orders (40)...\n",
      "Scanning for new orders (50)...\n",
      "Scanning for new orders (60)...\n",
      "Scanning for new orders (70)...\n",
      "Scanning for new orders (80)...\n",
      "Scanning for new orders (90)...\n",
      "Scanning for new orders (100)...\n",
      "Scanning for new orders (110)...\n",
      "Scanning for new orders (120)...\n",
      "Scanning for new orders (130)...\n",
      "Scanning for new orders (140)...\n",
      "Scanning for new orders (150)...\n",
      "Scanning for new orders (160)...\n",
      "Scanning for new orders (170)...\n",
      "Scanning for new orders (180)...\n",
      "Scanning for new orders (190)...\n"
     ]
    }
   ],
   "metadata": {}
  },
  {
   "cell_type": "code",
   "execution_count": 11,
   "source": [
    "6 % 2"
   ],
   "outputs": [
    {
     "output_type": "execute_result",
     "data": {
      "text/plain": [
       "0"
      ]
     },
     "metadata": {},
     "execution_count": 11
    }
   ],
   "metadata": {}
  },
  {
   "cell_type": "code",
   "execution_count": 13,
   "source": [
    "i = 1\n",
    "i += 1\n",
    "i"
   ],
   "outputs": [
    {
     "output_type": "execute_result",
     "data": {
      "text/plain": [
       "2"
      ]
     },
     "metadata": {},
     "execution_count": 13
    }
   ],
   "metadata": {}
  },
  {
   "cell_type": "code",
   "execution_count": null,
   "source": [],
   "outputs": [],
   "metadata": {}
  }
 ],
 "metadata": {
  "orig_nbformat": 4,
  "language_info": {
   "name": "python",
   "version": "3.8.10",
   "mimetype": "text/x-python",
   "codemirror_mode": {
    "name": "ipython",
    "version": 3
   },
   "pygments_lexer": "ipython3",
   "nbconvert_exporter": "python",
   "file_extension": ".py"
  },
  "kernelspec": {
   "name": "python3",
   "display_name": "Python 3.8.10 64-bit ('py38': conda)"
  },
  "interpreter": {
   "hash": "9cd1802d11fdaa8b5e14fa01355949ba763388a191b1b5d281078f6b1e7bfc37"
  }
 },
 "nbformat": 4,
 "nbformat_minor": 2
}