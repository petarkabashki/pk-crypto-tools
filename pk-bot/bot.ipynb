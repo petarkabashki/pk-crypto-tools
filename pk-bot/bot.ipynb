{
 "cells": [
  {
   "cell_type": "code",
   "execution_count": 1,
   "source": [
    "import os\n",
    "import ccxt\n",
    "# import config\n",
    "import schedule\n",
    "import pandas as pd\n",
    "pd.set_option('display.max_rows', None)\n",
    "from datetime import datetime\n",
    "import time\n",
    "import pytz\n",
    "import json\n",
    "import numpy as np\n",
    "# import warnings\n",
    "# warnings.filterwarnings('ignore')\n",
    "import sys\n",
    "sys.path.insert(1, './strategy')\n",
    "from importlib import reload  "
   ],
   "outputs": [],
   "metadata": {}
  },
  {
   "cell_type": "code",
   "execution_count": 2,
   "source": [],
   "outputs": [],
   "metadata": {}
  },
  {
   "cell_type": "code",
   "execution_count": 8,
   "source": [
    "odf = pd.read_csv ('order-data/orders.csv', index_col='id', dtype={'id': 'string', 'orderId': 'string', 'strategy': 'string'})\n",
    "ondf = odf[odf.orderId.isnull()]\n",
    "# pd.isna(odf['orderId'])\n",
    "ondf"
   ],
   "outputs": [
    {
     "output_type": "execute_result",
     "data": {
      "text/plain": [
       "                  date_entered exchange      pair       strategy  \\\n",
       "id                                                                 \n",
       "10  2021-08-19 14:45:04.560470   kucoin  DOT/USDT  BuyLevelOrder   \n",
       "11  2021-08-19 14:45:05.560470  binance  BTC/USDT  BuyLevelOrder   \n",
       "2   2021-08-19 14:45:06.560470      ftx  DOT/USDT  BuyLevelOrder   \n",
       "\n",
       "                              order_params orderId  \n",
       "id                                                  \n",
       "10   {\"trigger_price\": 25.26, \"qty\": 0.02}    <NA>  \n",
       "11  {\"trigger_price\": 40000, \"qty\": 0.001}    <NA>  \n",
       "2       {\"trigger_price\": 25, \"qty\": 0.01}    <NA>  "
      ],
      "text/html": [
       "<div>\n",
       "<style scoped>\n",
       "    .dataframe tbody tr th:only-of-type {\n",
       "        vertical-align: middle;\n",
       "    }\n",
       "\n",
       "    .dataframe tbody tr th {\n",
       "        vertical-align: top;\n",
       "    }\n",
       "\n",
       "    .dataframe thead th {\n",
       "        text-align: right;\n",
       "    }\n",
       "</style>\n",
       "<table border=\"1\" class=\"dataframe\">\n",
       "  <thead>\n",
       "    <tr style=\"text-align: right;\">\n",
       "      <th></th>\n",
       "      <th>date_entered</th>\n",
       "      <th>exchange</th>\n",
       "      <th>pair</th>\n",
       "      <th>strategy</th>\n",
       "      <th>order_params</th>\n",
       "      <th>orderId</th>\n",
       "    </tr>\n",
       "    <tr>\n",
       "      <th>id</th>\n",
       "      <th></th>\n",
       "      <th></th>\n",
       "      <th></th>\n",
       "      <th></th>\n",
       "      <th></th>\n",
       "      <th></th>\n",
       "    </tr>\n",
       "  </thead>\n",
       "  <tbody>\n",
       "    <tr>\n",
       "      <th>10</th>\n",
       "      <td>2021-08-19 14:45:04.560470</td>\n",
       "      <td>kucoin</td>\n",
       "      <td>DOT/USDT</td>\n",
       "      <td>BuyLevelOrder</td>\n",
       "      <td>{\"trigger_price\": 25.26, \"qty\": 0.02}</td>\n",
       "      <td>&lt;NA&gt;</td>\n",
       "    </tr>\n",
       "    <tr>\n",
       "      <th>11</th>\n",
       "      <td>2021-08-19 14:45:05.560470</td>\n",
       "      <td>binance</td>\n",
       "      <td>BTC/USDT</td>\n",
       "      <td>BuyLevelOrder</td>\n",
       "      <td>{\"trigger_price\": 40000, \"qty\": 0.001}</td>\n",
       "      <td>&lt;NA&gt;</td>\n",
       "    </tr>\n",
       "    <tr>\n",
       "      <th>2</th>\n",
       "      <td>2021-08-19 14:45:06.560470</td>\n",
       "      <td>ftx</td>\n",
       "      <td>DOT/USDT</td>\n",
       "      <td>BuyLevelOrder</td>\n",
       "      <td>{\"trigger_price\": 25, \"qty\": 0.01}</td>\n",
       "      <td>&lt;NA&gt;</td>\n",
       "    </tr>\n",
       "  </tbody>\n",
       "</table>\n",
       "</div>"
      ]
     },
     "metadata": {},
     "execution_count": 8
    }
   ],
   "metadata": {}
  },
  {
   "cell_type": "code",
   "execution_count": 3,
   "source": [
    "odf = pd.read_csv ('order-data/orders.csv', index_col='id', dtype={'id': 'string', 'orderId': 'string'})\n",
    "ondf = odf[odf.status=='new']\n",
    "for index, orow in ondf.iterrows():\n",
    "    module = __import__(orow.strategy)\n",
    "    reload(module)"
   ],
   "outputs": [],
   "metadata": {}
  },
  {
   "cell_type": "code",
   "execution_count": 18,
   "source": [
    "exchanges = {}\n",
    "odf = ondf = xnodf = config = False\n",
    "def run_bot():\n",
    "    global odf, ondf, xnodf\n",
    "    global exchanges\n",
    "    config = {}\n",
    "    with open ('config.json') as js: \n",
    "        config = json.load(js)\n",
    "\n",
    "    for exkey, exconf in config['exchanges'].items():\n",
    "        if exconf['enabled'] and not exkey in exchanges:\n",
    "            excred = exconf['cred']\n",
    "            for crk, crv in excred.items():\n",
    "                if crv[0] == \"$\" : \n",
    "                    excred[crk] = os.getenv(crv[1:])\n",
    "\n",
    "            exchanges[exkey] = getattr(ccxt, exkey) (excred)\n",
    "    \n",
    "    print(f'{datetime.now()} Checking for new orders...')\n",
    "    odf = pd.read_csv ('order-data/orders.csv', index_col='id', dtype={'id': 'string', 'order': 'string', 'succ_order': 'string', 'orderId': 'string'})\n",
    "    ondf = odf[odf.orderId.isnull()]\n",
    "\n",
    "    for exkey, exchange in exchanges.items():\n",
    "        xnodf = ondf[ondf.exchange == exkey]\n",
    "        symbols =  xnodf.symbol.unique()\n",
    "        tickers = exchange.fetchTickers (symbols)\n",
    "\n",
    "        for oind, orow in xnodf.iterrows():\n",
    "            ticker = tickers[orow.symbol]\n",
    "            # try:\n",
    "            orobj = eval(orow.order, {\"__builtins__\": {}}, {'ticker': ticker})\n",
    "            if orobj['trigger']:\n",
    "                # pass\n",
    "                print(f'{datetime.now()} Executing order {oind} ...')\n",
    "                \n",
    "                # print(orow.succ_order)\n",
    "                # if not pd.isnull(orow.succ_order):\n",
    "                #     print('unavailable')\n",
    "                # continue\n",
    "                order = exchange.create_order(orow.symbol, orobj['type'], orobj['side'], orobj['amount'], orobj['price'], orobj['params'])\n",
    "                if order['id']:\n",
    "                    if not pd.isnull(orow.succ_order):\n",
    "                        print(f'    Executing successive order ...')\n",
    "                        succorobj = eval(orow.succ_order, {\"__builtins__\": {}}, {'ticker': ticker, 'order': order})\n",
    "                        succorder = exchange.create_order(orow.symbol, succorobj['type'], succorobj['side'], succorobj['amount'], succorobj['price'], succorobj['params'])\n",
    "                        # print(succorder)\n",
    "                    \n",
    "                odf.loc[oind, \"orderId\"] = order['id']\n",
    "                odf.to_csv('order-data/orders.csv', index=True)\n",
    "            # except:\n",
    "            #     print(\"***ERROR***\", sys.exc_info())\n",
    "            # else:\n",
    "            #     pass\n",
    "\n",
    "                \n",
    "\n",
    "            # module = __import__(orow.strategy)\n",
    "            # order_class = getattr(module, orow.strategy)\n",
    "    #     order_params = json.loads(orow.order_params)\n",
    "    #     order_instance = order_class(exchange, orow.pair, tickers[orow.pair], order_params)\n",
    "            # order = order_instance.execute({})\n",
    "    #     if order:\n",
    "    #         odf.loc[oind, \"orderId\"] = order['id']\n",
    "    #         odf.to_csv('order-data/orders.csv', index=True)\n",
    "\n",
    "\n",
    "# schedule.every(5).seconds.do(run_bot)\n",
    "# while True:\n",
    "#     schedule.run_pending()\n",
    "#     time.sleep(1)\n",
    "# run_bot()\n"
   ],
   "outputs": [],
   "metadata": {}
  },
  {
   "cell_type": "code",
   "execution_count": 7,
   "source": [
    "xnodf"
   ],
   "outputs": [
    {
     "output_type": "execute_result",
     "data": {
      "text/plain": [
       "                  date_entered exchange    symbol       strategy  \\\n",
       "id                                                                 \n",
       "10  2021-08-19 14:45:04.560470   kucoin  DOT/USDT  BuyLevelOrder   \n",
       "\n",
       "                                                order  \\\n",
       "id                                                      \n",
       "10  {'trigger': ticker['ask'] <= 27, 'type': 'mark...   \n",
       "\n",
       "                                           succ_order orderId  \n",
       "id                                                             \n",
       "10  {'type': 'market', 'amount': order['amount'], ...    <NA>  "
      ],
      "text/html": [
       "<div>\n",
       "<style scoped>\n",
       "    .dataframe tbody tr th:only-of-type {\n",
       "        vertical-align: middle;\n",
       "    }\n",
       "\n",
       "    .dataframe tbody tr th {\n",
       "        vertical-align: top;\n",
       "    }\n",
       "\n",
       "    .dataframe thead th {\n",
       "        text-align: right;\n",
       "    }\n",
       "</style>\n",
       "<table border=\"1\" class=\"dataframe\">\n",
       "  <thead>\n",
       "    <tr style=\"text-align: right;\">\n",
       "      <th></th>\n",
       "      <th>date_entered</th>\n",
       "      <th>exchange</th>\n",
       "      <th>symbol</th>\n",
       "      <th>strategy</th>\n",
       "      <th>order</th>\n",
       "      <th>succ_order</th>\n",
       "      <th>orderId</th>\n",
       "    </tr>\n",
       "    <tr>\n",
       "      <th>id</th>\n",
       "      <th></th>\n",
       "      <th></th>\n",
       "      <th></th>\n",
       "      <th></th>\n",
       "      <th></th>\n",
       "      <th></th>\n",
       "      <th></th>\n",
       "    </tr>\n",
       "  </thead>\n",
       "  <tbody>\n",
       "    <tr>\n",
       "      <th>10</th>\n",
       "      <td>2021-08-19 14:45:04.560470</td>\n",
       "      <td>kucoin</td>\n",
       "      <td>DOT/USDT</td>\n",
       "      <td>BuyLevelOrder</td>\n",
       "      <td>{'trigger': ticker['ask'] &lt;= 27, 'type': 'mark...</td>\n",
       "      <td>{'type': 'market', 'amount': order['amount'], ...</td>\n",
       "      <td>&lt;NA&gt;</td>\n",
       "    </tr>\n",
       "  </tbody>\n",
       "</table>\n",
       "</div>"
      ]
     },
     "metadata": {},
     "execution_count": 7
    }
   ],
   "metadata": {}
  },
  {
   "cell_type": "code",
   "execution_count": 38,
   "source": [
    "orow = ondf.iloc[0]\n",
    "odf.index[odf.id == orow.id][0]"
   ],
   "outputs": [
    {
     "output_type": "execute_result",
     "data": {
      "text/plain": [
       "0"
      ]
     },
     "metadata": {},
     "execution_count": 38
    }
   ],
   "metadata": {}
  },
  {
   "cell_type": "code",
   "execution_count": 34,
   "source": [],
   "outputs": [
    {
     "output_type": "error",
     "ename": "AttributeError",
     "evalue": "'Series' object has no attribute 'id'",
     "traceback": [
      "\u001b[0;31m---------------------------------------------------------------------------\u001b[0m",
      "\u001b[0;31mAttributeError\u001b[0m                            Traceback (most recent call last)",
      "\u001b[0;32m<ipython-input-34-fbdc94993b56>\u001b[0m in \u001b[0;36m<module>\u001b[0;34m\u001b[0m\n\u001b[0;32m----> 1\u001b[0;31m \u001b[0morow\u001b[0m\u001b[0;34m.\u001b[0m\u001b[0mid\u001b[0m\u001b[0;34m\u001b[0m\u001b[0;34m\u001b[0m\u001b[0m\n\u001b[0m",
      "\u001b[0;32m~/opt/anaconda3/envs/py38/lib/python3.8/site-packages/pandas/core/generic.py\u001b[0m in \u001b[0;36m__getattr__\u001b[0;34m(self, name)\u001b[0m\n\u001b[1;32m   5476\u001b[0m         ):\n\u001b[1;32m   5477\u001b[0m             \u001b[0;32mreturn\u001b[0m \u001b[0mself\u001b[0m\u001b[0;34m[\u001b[0m\u001b[0mname\u001b[0m\u001b[0;34m]\u001b[0m\u001b[0;34m\u001b[0m\u001b[0;34m\u001b[0m\u001b[0m\n\u001b[0;32m-> 5478\u001b[0;31m         \u001b[0;32mreturn\u001b[0m \u001b[0mobject\u001b[0m\u001b[0;34m.\u001b[0m\u001b[0m__getattribute__\u001b[0m\u001b[0;34m(\u001b[0m\u001b[0mself\u001b[0m\u001b[0;34m,\u001b[0m \u001b[0mname\u001b[0m\u001b[0;34m)\u001b[0m\u001b[0;34m\u001b[0m\u001b[0;34m\u001b[0m\u001b[0m\n\u001b[0m\u001b[1;32m   5479\u001b[0m \u001b[0;34m\u001b[0m\u001b[0m\n\u001b[1;32m   5480\u001b[0m     \u001b[0;32mdef\u001b[0m \u001b[0m__setattr__\u001b[0m\u001b[0;34m(\u001b[0m\u001b[0mself\u001b[0m\u001b[0;34m,\u001b[0m \u001b[0mname\u001b[0m\u001b[0;34m:\u001b[0m \u001b[0mstr\u001b[0m\u001b[0;34m,\u001b[0m \u001b[0mvalue\u001b[0m\u001b[0;34m)\u001b[0m \u001b[0;34m->\u001b[0m \u001b[0;32mNone\u001b[0m\u001b[0;34m:\u001b[0m\u001b[0;34m\u001b[0m\u001b[0;34m\u001b[0m\u001b[0m\n",
      "\u001b[0;31mAttributeError\u001b[0m: 'Series' object has no attribute 'id'"
     ]
    }
   ],
   "metadata": {}
  },
  {
   "cell_type": "code",
   "execution_count": 8,
   "source": [
    "\n",
    "\n",
    "# orecords\n",
    "# odf"
   ],
   "outputs": [],
   "metadata": {}
  },
  {
   "cell_type": "code",
   "execution_count": 10,
   "source": [
    "from pymongo import MongoClient\n",
    "from pprint import pprint\n",
    "\n",
    "client = MongoClient()\n",
    "db=client.pkbot\n",
    "\n",
    "odf = pd.read_csv ('order-data/orders.csv', index_col='id', dtype={'id': 'string', 'order': 'string', 'succ_order': 'string', 'orderId': 'string'})\n",
    "orecords = json.loads(odf.T.to_json()).values()\n",
    "\n",
    "db.orders.insert(orecords)\n"
   ],
   "outputs": [
    {
     "output_type": "stream",
     "name": "stderr",
     "text": [
      "<ipython-input-10-879266fc0237>:10: DeprecationWarning: insert is deprecated. Use insert_one or insert_many instead.\n",
      "  db.orders.insert(orecords)\n"
     ]
    },
    {
     "output_type": "execute_result",
     "data": {
      "text/plain": [
       "[ObjectId('612047a13aea6021b8841b1a'),\n",
       " ObjectId('612047a13aea6021b8841b1b'),\n",
       " ObjectId('612047a13aea6021b8841b1c'),\n",
       " ObjectId('612047a13aea6021b8841b1d'),\n",
       " ObjectId('612047a13aea6021b8841b1e')]"
      ]
     },
     "metadata": {},
     "execution_count": 10
    }
   ],
   "metadata": {}
  },
  {
   "cell_type": "code",
   "execution_count": 11,
   "source": [
    "# df = read_mongo(db, 'myCollection')\n",
    "data = pd.DataFrame(list(db.orders.find()))\n",
    "data"
   ],
   "outputs": [
    {
     "output_type": "execute_result",
     "data": {
      "text/plain": [
       "                        _id                date_entered exchange    symbol  \\\n",
       "0  612047a13aea6021b8841b1a  2021-08-19 14:45:04.560470   kucoin  DOT/USDT   \n",
       "1  612047a13aea6021b8841b1b  2021-08-19 14:45:04.560470  binance  DOT/USDT   \n",
       "2  612047a13aea6021b8841b1c  2021-08-19 14:45:04.560470  binance  DOT/USDT   \n",
       "3  612047a13aea6021b8841b1d  2021-08-19 14:45:04.560470  binance  DOT/USDT   \n",
       "4  612047a13aea6021b8841b1e  2021-08-19 14:45:04.560470  binance  DOT/USDT   \n",
       "\n",
       "                                               order  \\\n",
       "0  {'trigger': ticker['ask'] <= 29, 'type': 'mark...   \n",
       "1  {'trigger': ticker['ask'] <= 28, 'type': 'mark...   \n",
       "2  {'trigger': True, 'type': 'STOP_LOSS_LIMIT', '...   \n",
       "3  {'trigger': ticker['ask'] <= 28, 'type': 'mark...   \n",
       "4  {'trigger': ticker['ask'] <= 28, 'type': 'mark...   \n",
       "\n",
       "                                          succ_order                   orderId  \n",
       "0  {'type': 'market', 'amount': order['amount'], ...  611fd205a701f400065045fe  \n",
       "1                                               None                1758504533  \n",
       "2                                               None                stop-limit  \n",
       "3  {'trigger': True, 'type': 'STOP_LOSS_LIMIT', '...        buy-and-stop-limit  \n",
       "4  {'trigger': True, 'type': 'STOP_LOSS_LIMIT', '...                1759893686  "
      ],
      "text/html": [
       "<div>\n",
       "<style scoped>\n",
       "    .dataframe tbody tr th:only-of-type {\n",
       "        vertical-align: middle;\n",
       "    }\n",
       "\n",
       "    .dataframe tbody tr th {\n",
       "        vertical-align: top;\n",
       "    }\n",
       "\n",
       "    .dataframe thead th {\n",
       "        text-align: right;\n",
       "    }\n",
       "</style>\n",
       "<table border=\"1\" class=\"dataframe\">\n",
       "  <thead>\n",
       "    <tr style=\"text-align: right;\">\n",
       "      <th></th>\n",
       "      <th>_id</th>\n",
       "      <th>date_entered</th>\n",
       "      <th>exchange</th>\n",
       "      <th>symbol</th>\n",
       "      <th>order</th>\n",
       "      <th>succ_order</th>\n",
       "      <th>orderId</th>\n",
       "    </tr>\n",
       "  </thead>\n",
       "  <tbody>\n",
       "    <tr>\n",
       "      <th>0</th>\n",
       "      <td>612047a13aea6021b8841b1a</td>\n",
       "      <td>2021-08-19 14:45:04.560470</td>\n",
       "      <td>kucoin</td>\n",
       "      <td>DOT/USDT</td>\n",
       "      <td>{'trigger': ticker['ask'] &lt;= 29, 'type': 'mark...</td>\n",
       "      <td>{'type': 'market', 'amount': order['amount'], ...</td>\n",
       "      <td>611fd205a701f400065045fe</td>\n",
       "    </tr>\n",
       "    <tr>\n",
       "      <th>1</th>\n",
       "      <td>612047a13aea6021b8841b1b</td>\n",
       "      <td>2021-08-19 14:45:04.560470</td>\n",
       "      <td>binance</td>\n",
       "      <td>DOT/USDT</td>\n",
       "      <td>{'trigger': ticker['ask'] &lt;= 28, 'type': 'mark...</td>\n",
       "      <td>None</td>\n",
       "      <td>1758504533</td>\n",
       "    </tr>\n",
       "    <tr>\n",
       "      <th>2</th>\n",
       "      <td>612047a13aea6021b8841b1c</td>\n",
       "      <td>2021-08-19 14:45:04.560470</td>\n",
       "      <td>binance</td>\n",
       "      <td>DOT/USDT</td>\n",
       "      <td>{'trigger': True, 'type': 'STOP_LOSS_LIMIT', '...</td>\n",
       "      <td>None</td>\n",
       "      <td>stop-limit</td>\n",
       "    </tr>\n",
       "    <tr>\n",
       "      <th>3</th>\n",
       "      <td>612047a13aea6021b8841b1d</td>\n",
       "      <td>2021-08-19 14:45:04.560470</td>\n",
       "      <td>binance</td>\n",
       "      <td>DOT/USDT</td>\n",
       "      <td>{'trigger': ticker['ask'] &lt;= 28, 'type': 'mark...</td>\n",
       "      <td>{'trigger': True, 'type': 'STOP_LOSS_LIMIT', '...</td>\n",
       "      <td>buy-and-stop-limit</td>\n",
       "    </tr>\n",
       "    <tr>\n",
       "      <th>4</th>\n",
       "      <td>612047a13aea6021b8841b1e</td>\n",
       "      <td>2021-08-19 14:45:04.560470</td>\n",
       "      <td>binance</td>\n",
       "      <td>DOT/USDT</td>\n",
       "      <td>{'trigger': ticker['ask'] &lt;= 28, 'type': 'mark...</td>\n",
       "      <td>{'trigger': True, 'type': 'STOP_LOSS_LIMIT', '...</td>\n",
       "      <td>1759893686</td>\n",
       "    </tr>\n",
       "  </tbody>\n",
       "</table>\n",
       "</div>"
      ]
     },
     "metadata": {},
     "execution_count": 11
    }
   ],
   "metadata": {}
  },
  {
   "cell_type": "code",
   "execution_count": 14,
   "source": [],
   "outputs": [
    {
     "output_type": "stream",
     "name": "stdout",
     "text": [
      "{'_id': ObjectId('6120536374e4a6e07ddd34ae'),\n",
      " 'q': [{'margs': [], 'method': '', 'mparams': []}],\n",
      " 'status': 'new'}\n"
     ]
    }
   ],
   "metadata": {}
  },
  {
   "cell_type": "code",
   "execution_count": 3,
   "source": [
    "exchanges = {}\n",
    "config = False\n",
    "with open ('config.json') as js: \n",
    "        config = json.load(js)\n",
    "\n",
    "for exkey, exconf in config['exchanges'].items():\n",
    "        if exconf['enabled'] and not exkey in exchanges:\n",
    "                excred = exconf['cred']\n",
    "                for crk, crv in excred.items():\n",
    "                        if crv[0] == \"$\" : \n",
    "                                excred[crk] = os.getenv(crv[1:])\n",
    "\n",
    "                exchanges[exkey] = getattr(ccxt, exkey) (excred)"
   ],
   "outputs": [],
   "metadata": {}
  },
  {
   "cell_type": "code",
   "execution_count": 5,
   "source": [
    "from pymongo import MongoClient\n",
    "from bson.objectid import ObjectId\n",
    "from pprint import pprint\n",
    "\n",
    "client = MongoClient()\n",
    "db=client.pkbot\n",
    "\n",
    "tickers = {}\n",
    "\n",
    "def run_bot():\n",
    "  global exchanges, tickers\n",
    "  \n",
    "  print(\"Scanning for new orders ...\")\n",
    "  for csyms in db.xqueue.aggregate([    \n",
    "      {'$match':{'status': \"new\"}},\n",
    "      {'$unwind':\"$q\"},\n",
    "      {'$group':{'_id': {'exchange':\"$q.exchange\", \"symbol\": {'$first' : \"$q.margs\"}}}},\n",
    "      {'$group':{'_id': '$_id.exchange',\"symbols\": {'$addToSet': \"$_id.symbol\"}}},\n",
    "      # {'$match':{'_id': qo['exchange']}}\n",
    "  ]):\n",
    "    exchange_name = csyms['_id']\n",
    "    symbols = csyms['symbols']\n",
    "    tickers[exchange_name] = exchanges[exchange_name].fetchTickers(symbols)\n",
    "    # print(exchange_name, tickers[exchange_name])\n",
    "  for qx in db.xqueue.find({'status' :'new'}):\n",
    "    print(f\"Processing q/{qx['_id']}\")\n",
    "    for idxqo, qo in enumerate(qx['q']):\n",
    "      nqx = db.xqueue.find_one({'_id': qx.get('_id')})\n",
    "      print(f'   qid/{qo[\"qid\"]} status: {qo[\"status\"]}')\n",
    "      exchange_name = qo['exchange']\n",
    "      symbol = qo['margs'][0]\n",
    "      \n",
    "      if qo['status'] != 'new':\n",
    "        continue\n",
    "\n",
    "      print(f'        Checking {exchange_name}: qid/{qo[\"qid\"]} {qo[\"method\"]} : {qo[\"margs\"]}')\n",
    "      \n",
    "      exchange = exchanges[exchange_name]\n",
    "      ticker = tickers[exchange_name][symbol]\n",
    "\n",
    "      if not eval(qo['trigger'], {'ticker': ticker, 'qx' : nqx}):\n",
    "        continue\n",
    "\n",
    "      print(f'        Triggered {exchange_name}:  {qo[\"method\"]} : {qo[\"margs\"]}')\n",
    "      res = getattr(exchange, qo['method'])(*qo['margs'])\n",
    "      updres = db.xqueue.update_one({'_id' : qx.get('_id') }, {\n",
    "        '$set': { \n",
    "          # f\"q.{idxqo}.orderId\": res['id'],\n",
    "          f\"q.{idxqo}.status\": 'done',\n",
    "          f\"q.{idxqo}.res\": res,\n",
    "          }\n",
    "      })\n",
    "\n",
    "    if db.xqueue.find_one({'_id': qx.get('_id'), \"q.status\" : { \"$ne\": \"done\" }}) == None:\n",
    "      db.xqueue.update_one({'_id' : qx.get('_id') }, {\n",
    "          '$set': { 'status': 'done' }\n",
    "        })\n",
    "\n",
    "\n",
    "schedule.every(5).seconds.do(run_bot)\n",
    "while True:\n",
    "    schedule.run_pending()\n",
    "    time.sleep(1)\n",
    "# run_bot()"
   ],
   "outputs": [
    {
     "output_type": "stream",
     "name": "stdout",
     "text": [
      "Scanning for new orders ...\n",
      "Scanning for new orders ...\n",
      "Scanning for new orders ...\n",
      "Scanning for new orders ...\n",
      "Scanning for new orders ...\n",
      "Scanning for new orders ...\n",
      "Scanning for new orders ...\n",
      "Scanning for new orders ...\n",
      "Scanning for new orders ...\n",
      "Scanning for new orders ...\n",
      "Scanning for new orders ...\n",
      "Scanning for new orders ...\n",
      "Scanning for new orders ...\n",
      "Scanning for new orders ...\n",
      "Scanning for new orders ...\n",
      "Processing q/6121924f74e4a6e07ddd8e7f\n",
      "   qid/1 status: new\n",
      "        Checking kucoin: qid/1 create_market_buy_order : ['DOT/USDT', 0.2]\n",
      "        Triggered kucoin:  create_market_buy_order : ['DOT/USDT', 0.2]\n",
      "   qid/1 status: new\n",
      "        Checking kucoin: qid/1 create_order : ['DOT/USDT', 'market', 'sell', '0.2', 50, {'stop': 'loss', 'stopPrice': 25}]\n",
      "        Triggered kucoin:  create_order : ['DOT/USDT', 'market', 'sell', '0.2', 50, {'stop': 'loss', 'stopPrice': 25}]\n",
      "Scanning for new orders ...\n",
      "Scanning for new orders ...\n",
      "Scanning for new orders ...\n",
      "Scanning for new orders ...\n",
      "Scanning for new orders ...\n"
     ]
    },
    {
     "output_type": "error",
     "ename": "KeyboardInterrupt",
     "evalue": "",
     "traceback": [
      "\u001b[0;31m---------------------------------------------------------------------------\u001b[0m",
      "\u001b[0;31mKeyboardInterrupt\u001b[0m                         Traceback (most recent call last)",
      "\u001b[0;32m<ipython-input-5-f09e766930ba>\u001b[0m in \u001b[0;36m<module>\u001b[0;34m\u001b[0m\n\u001b[1;32m     66\u001b[0m \u001b[0;32mwhile\u001b[0m \u001b[0;32mTrue\u001b[0m\u001b[0;34m:\u001b[0m\u001b[0;34m\u001b[0m\u001b[0;34m\u001b[0m\u001b[0m\n\u001b[1;32m     67\u001b[0m     \u001b[0mschedule\u001b[0m\u001b[0;34m.\u001b[0m\u001b[0mrun_pending\u001b[0m\u001b[0;34m(\u001b[0m\u001b[0;34m)\u001b[0m\u001b[0;34m\u001b[0m\u001b[0;34m\u001b[0m\u001b[0m\n\u001b[0;32m---> 68\u001b[0;31m     \u001b[0mtime\u001b[0m\u001b[0;34m.\u001b[0m\u001b[0msleep\u001b[0m\u001b[0;34m(\u001b[0m\u001b[0;36m1\u001b[0m\u001b[0;34m)\u001b[0m\u001b[0;34m\u001b[0m\u001b[0;34m\u001b[0m\u001b[0m\n\u001b[0m\u001b[1;32m     69\u001b[0m \u001b[0;31m# run_bot()\u001b[0m\u001b[0;34m\u001b[0m\u001b[0;34m\u001b[0m\u001b[0;34m\u001b[0m\u001b[0m\n",
      "\u001b[0;31mKeyboardInterrupt\u001b[0m: "
     ]
    }
   ],
   "metadata": {}
  },
  {
   "cell_type": "code",
   "execution_count": 33,
   "source": [
    " r = db.xqueue.aggregate([    \n",
    "      {'$match':{'_id': ObjectId(\"6121924f74e4a6e07ddd8e7f\")}},\n",
    "      {'$unwind':\"$q\"},\n",
    "      # {'$group':{'_id': {'exchange':\"$q.exchange\", \"symbol\": {'$first' : \"$q.margs\"}}}},\n",
    "      # {'$group':{'_id': '$_id.exchange',\"symbols\": {'$addToSet': \"$_id.symbol\"}}},\n",
    "    #   {'$match':{'_id': qo['exchange']}}\n",
    "      {'$group':{'_id': {'qid':\"$q.qid\", \"status\": \"$q.status\"}}},\n",
    "])\n",
    "list(r)\n"
   ],
   "outputs": [
    {
     "output_type": "execute_result",
     "data": {
      "text/plain": [
       "[{'_id': {'qid': 2, 'status': 'done'}}, {'_id': {'qid': 1, 'status': 'new'}}]"
      ]
     },
     "metadata": {},
     "execution_count": 33
    }
   ],
   "metadata": {}
  },
  {
   "cell_type": "code",
   "execution_count": 14,
   "source": [
    "r = db.xqueue.aggregate([    \n",
    "      {'$match':{'status': \"new\"}},\n",
    "      {'$unwind':\"$q\"},\n",
    "      {'$group':{'_id': {'exchange':\"$q.exchange\", \"symbol\": {'$first' : \"$q.margs\"}}}},\n",
    "      {'$group':{'_id': '$_id.exchange',\"symbols\": {'$addToSet': \"$_id.symbol\"}}},\n",
    "      # {'$match':{'_id': qo['exchange']}}\n",
    "  ])\n",
    "list(r)"
   ],
   "outputs": [
    {
     "output_type": "execute_result",
     "data": {
      "text/plain": [
       "[{'_id': 'kucoin', 'symbols': ['DOT/USDT']}]"
      ]
     },
     "metadata": {},
     "execution_count": 14
    }
   ],
   "metadata": {}
  },
  {
   "cell_type": "code",
   "execution_count": 37,
   "source": [
    "r = db.xqueue.find_one({'_id': ObjectId(\"6121924f74e4a6e07ddd8e7f\"), \"q.status\" : { \"$ne\": \"done\" }})\n",
    "# pprint(r != None)\n",
    "r"
   ],
   "outputs": [
    {
     "output_type": "execute_result",
     "data": {
      "text/plain": [
       "{'_id': ObjectId('6121924f74e4a6e07ddd8e7f'),\n",
       " 'status': 'new',\n",
       " 'q': [{'qid': 1,\n",
       "   'status': 'new',\n",
       "   'trigger': '1 == 1',\n",
       "   'exchange': 'kucoin',\n",
       "   'method': 'create_limit_buy_order',\n",
       "   'margs': ['DOT/USDT', '1', '20'],\n",
       "   'orderId': '6120854fa701f4000680476a'},\n",
       "  {'qid': 2,\n",
       "   'status': 'new',\n",
       "   'trigger': '1 == 1',\n",
       "   'exchange': 'kucoin',\n",
       "   'method': 'create_limit_sell_order',\n",
       "   'margs': ['DOT/USDT', '1', '40'],\n",
       "   'orderId': '612199d6a701f40006ca0c2e'}]}"
      ]
     },
     "metadata": {},
     "execution_count": 37
    }
   ],
   "metadata": {}
  },
  {
   "cell_type": "code",
   "execution_count": 38,
   "source": [
    "\n",
    "list(db.xqueue.find({'status' :'new'}))"
   ],
   "outputs": [
    {
     "output_type": "execute_result",
     "data": {
      "text/plain": [
       "[{'_id': ObjectId('6121924f74e4a6e07ddd8e7f'),\n",
       "  'status': 'new',\n",
       "  'q': [{'qid': 1,\n",
       "    'status': 'new',\n",
       "    'trigger': '1 == 1',\n",
       "    'exchange': 'kucoin',\n",
       "    'method': 'create_limit_buy_order',\n",
       "    'margs': ['DOT/USDT', '1', '20'],\n",
       "    'orderId': '6120854fa701f4000680476a'},\n",
       "   {'qid': 2,\n",
       "    'status': 'new',\n",
       "    'trigger': '1 == 1',\n",
       "    'exchange': 'kucoin',\n",
       "    'method': 'create_limit_sell_order',\n",
       "    'margs': ['DOT/USDT', '1', '40'],\n",
       "    'orderId': '612199d6a701f40006ca0c2e'}]}]"
      ]
     },
     "metadata": {},
     "execution_count": 38
    }
   ],
   "metadata": {}
  },
  {
   "cell_type": "code",
   "execution_count": null,
   "source": [],
   "outputs": [],
   "metadata": {}
  },
  {
   "cell_type": "code",
   "execution_count": null,
   "source": [],
   "outputs": [],
   "metadata": {}
  },
  {
   "cell_type": "code",
   "execution_count": null,
   "source": [],
   "outputs": [],
   "metadata": {}
  }
 ],
 "metadata": {
  "orig_nbformat": 4,
  "language_info": {
   "name": "python",
   "version": "3.8.10",
   "mimetype": "text/x-python",
   "codemirror_mode": {
    "name": "ipython",
    "version": 3
   },
   "pygments_lexer": "ipython3",
   "nbconvert_exporter": "python",
   "file_extension": ".py"
  },
  "kernelspec": {
   "name": "python3",
   "display_name": "Python 3.8.10 64-bit ('py38': conda)"
  },
  "interpreter": {
   "hash": "9cd1802d11fdaa8b5e14fa01355949ba763388a191b1b5d281078f6b1e7bfc37"
  }
 },
 "nbformat": 4,
 "nbformat_minor": 2
}