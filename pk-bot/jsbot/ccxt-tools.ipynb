{
 "cells": [
  {
   "cell_type": "code",
   "execution_count": 2,
   "source": [
    "import os\n",
    "import ccxt\n",
    "# import config\n",
    "import schedule\n",
    "import pandas as pd\n",
    "pd.set_option('display.max_rows', None)\n",
    "from datetime import datetime\n",
    "import time\n",
    "import pytz\n",
    "import json\n",
    "import numpy as np\n",
    "# import warnings\n",
    "# warnings.filterwarnings('ignore')\n",
    "import sys\n",
    "# sys.path.insert(1, './strategy')\n",
    "from importlib import reload  \n",
    "import pyperclip\n",
    "from math import floor\n",
    "\n",
    "from dotenv import load_dotenv\n",
    "load_dotenv()"
   ],
   "outputs": [
    {
     "output_type": "execute_result",
     "data": {
      "text/plain": [
       "True"
      ]
     },
     "metadata": {},
     "execution_count": 2
    }
   ],
   "metadata": {}
  },
  {
   "cell_type": "code",
   "execution_count": 132,
   "source": [
    "from pymongo import MongoClient\n",
    "from bson.objectid import ObjectId\n",
    "from pprint import pprint\n",
    "\n",
    "client = MongoClient()\n",
    "db=client.pkbot"
   ],
   "outputs": [],
   "metadata": {}
  },
  {
   "cell_type": "code",
   "execution_count": 2,
   "source": [
    "!. ./load-creds.sh"
   ],
   "outputs": [],
   "metadata": {}
  },
  {
   "cell_type": "code",
   "execution_count": null,
   "source": [],
   "outputs": [],
   "metadata": {}
  },
  {
   "cell_type": "code",
   "execution_count": 133,
   "source": [
    "exchanges = {}\n",
    "config = False\n",
    "with open ('config.json') as js: \n",
    "        config = json.load(js)\n",
    "\n",
    "for exkey, exconf in config['exchanges'].items():\n",
    "        if exconf['enabled'] and not exkey in exchanges:\n",
    "                excred = exconf['cred']\n",
    "                for crk, crv in excred.items():\n",
    "                        if crv[0] == \"$\" : \n",
    "                                excred[crk] = os.getenv(crv[1:])\n",
    "\n",
    "                exchanges[exkey] = getattr(ccxt, exkey) (excred)"
   ],
   "outputs": [],
   "metadata": {}
  },
  {
   "cell_type": "code",
   "execution_count": 48,
   "source": [
    "exchange = exchanges['kucoin']\n",
    "# Working samples: \n",
    "\n",
    "# exchange.create_order('BTC/USDT', 'market', 'sell', 0.001)\n",
    "# exchange.create_order('BTC/USDT', 'market', 'buy', 0.0009)\n",
    "# exchange.create_order('BTC/USDT', 'limit', 'sell', 0.0002, 100000)\n",
    "# exchange.create_order('BTC/USDT', 'limit', 'buy', 0.001, 10000)\n",
    "\n",
    "# exchange.create_order('BTC/USDT', 'limit', 'sell', 0.005, 43900, {'stopPrice': 44000,'stop': 'loss'})\n",
    "# exchange.fetch_open_orders('BTC/USDT')[0]['id']\n",
    "# pyperclip.copy(exchange.fetch_open_orders('BTC/USDT')[0]['id'])\n",
    "exchange.cancel_order('613e244b5ff2e50006a2c248')\n",
    "exchange.fetch_open_orders('BTC/USDT')"
   ],
   "outputs": [
    {
     "output_type": "execute_result",
     "data": {
      "text/plain": [
       "[]"
      ]
     },
     "metadata": {},
     "execution_count": 48
    }
   ],
   "metadata": {}
  },
  {
   "cell_type": "code",
   "execution_count": 63,
   "source": [
    "exchange = exchanges['ftx']\n",
    "# Working samples: \n",
    "\n",
    "# exchange.create_order('BTC/USDT', 'market', 'sell', 0.001)\n",
    "# exchange.create_order('BTC/USDT', 'market', 'buy', 0.0001)\n",
    "# exchange.create_order('BTC/USDT', 'limit', 'sell', 0.0002, 100000)\n",
    "# exchange.create_order('BTC/USDT', 'limit', 'buy', 0.001, 10000)\n",
    "# exchange.create_order('BTC/USDT', 'stop', 'sell', 0.0005, 43900, {'stopPrice': 44000,'stop': 'stopLimit'})\n",
    "\n",
    "# exchange.fetch_open_orders('BTC/USDT')[0]['id']\n",
    "# pyperclip.copy(exchange.fetch_open_orders('BTC/USDT')[0]['id'])\n",
    "# exchange.cancel_order('78771009096')\n",
    "# exchange.cancel_order(exchange.fetch_open_orders('BTC/USDT')[0]['id'])\n",
    "# exchange.fetch_open_orders('BTC/USDT')"
   ],
   "outputs": [],
   "metadata": {}
  },
  {
   "cell_type": "code",
   "execution_count": null,
   "source": [
    "exchange = exchanges['ftx']\n",
    "# exchange.create_order('BTC/USDT', 'market', 'sell', 0.001)\n",
    "exchange.create_order('SOL/BTC', 'market', 'buy', 0.0001)\n",
    "# exchange.create_order('BTC/USDT', 'limit', 'sell', 0.0002, 100000)\n",
    "# exchange.create_order('BTC/USDT', 'limit', 'buy', 0.001, 10000)\n",
    "# exchange.create_order('BTC/USDT', 'stop', 'sell', 0.0005, 43900, {'stopPrice': 44000,'stop': 'stopLimit'})\n",
    "\n",
    "# exchange.fetch_open_orders('BTC/USDT')[0]['id']\n",
    "# pyperclip.copy(exchange.fetch_open_orders('BTC/USDT')[0]['id'])\n",
    "# exchange.cancel_order('78771009096')\n",
    "# exchange.cancel_order(exchange.fetch_open_orders('BTC/USDT')[0]['id'])\n",
    "# exchange.fetch_open_orders('BTC/USDT')"
   ],
   "outputs": [],
   "metadata": {}
  },
  {
   "cell_type": "code",
   "execution_count": 33,
   "source": [
    "exchange = exchanges['binance']\n",
    "\n",
    "# exchange.create_order('ALGO/USDT', 'market', 'sell', 40)\n",
    "# exchange.create_order('BTC/USDT', 'market', 'buy', 0.0009)\n",
    "# exchange.create_order('BTC/USDT', 'limit', 'sell', 0.0002, 100000)\n",
    "# exchange.create_order('BTC/USDT', 'limit', 'buy', 0.001, 10000)\n",
    "# exchange.create_order('BTC/USDT', 'STOP_LOSS_LIMIT', 'sell', 0.01, 20000, {'stopPrice': 25000,'type': 'stopLimit'})\n",
    "\n",
    "# exchange.create_order('BTC/USDT', 'limit', 'sell', 0.005, 43900, {'stopPrice': 44000,'stop': 'loss'})\n",
    "# exchange.fetch_open_orders('BTC/USDT')[0]['id'] \n",
    "# pyperclip.copy(exchange.fetch_open_orders('BTC/USDT')[0]['id'])\n",
    "# exchange.cancel_order('7509903700', symbol='BTC/USDT')\n",
    "# exchange.fetch_open_orders('ALGO/USDT')\n",
    "\n",
    "exch_balances = exchange.fetch_balance ()\n",
    "exch_balances['free']\n"
   ],
   "outputs": [],
   "metadata": {}
  },
  {
   "cell_type": "code",
   "execution_count": 3,
   "source": [
    "exchange = getattr(ccxt, 'binance')({'apikey': os.getenv('BINANCE_API_KEY'), 'secret': os.getenv('BINANCE_API_SECRET')})\n"
   ],
   "outputs": [],
   "metadata": {}
  },
  {
   "cell_type": "code",
   "execution_count": 124,
   "source": [
    "# Cancel open orders\n",
    "exchange = exchanges['binance']\n",
    "\n",
    "# exchange.create_order('ALGO/USDT', 'limit', 'buy', 100, 1.5)\n",
    "\n",
    "# for order in exchange.fetch_open_orders('ALGO/USDT'):\n",
    "#   exchange.cancel_order(order['id'], symbol=order['symbol'])\n",
    "\n",
    "exchange.fetch_open_orders('BTC/USDT')"
   ],
   "outputs": [
    {
     "output_type": "execute_result",
     "data": {
      "text/plain": [
       "[]"
      ]
     },
     "metadata": {},
     "execution_count": 124
    }
   ],
   "metadata": {}
  },
  {
   "cell_type": "code",
   "execution_count": 134,
   "source": [
    "def cancelOrders(symbol):\n",
    "  for order in exchange.fetch_open_orders(symbol):\n",
    "    exchange.cancel_order(order['id'], symbol=order['symbol'])"
   ],
   "outputs": [],
   "metadata": {}
  },
  {
   "cell_type": "code",
   "execution_count": 127,
   "source": [
    "def sellMarket__priceAbove(exch, symbol, triggerPrice, amount):\n",
    "  db.xqueue.insert_one({\n",
    "    \"description\": \"sellMarket__priceAbove\",\n",
    "    \"createdTime\" : datetime.now(),\n",
    "    \"status\": \"new\",\n",
    "    \"q\": [\n",
    "      {\n",
    "        \"qid\": 0,\n",
    "        \"symbol\": symbol,\n",
    "        \"status\": \"new\",\n",
    "        \"trigger\": f\"ticker['bid'] >= {triggerPrice}\",\n",
    "        \"exchange\": exch,\n",
    "        \"method\": f\"cancelOrders('{exch}', '{symbol}')\"\n",
    "      },\n",
    "      {\n",
    "        \"qid\": 1,\n",
    "        \"symbol\": symbol,\n",
    "        \"status\": \"new\",\n",
    "        \"trigger\": \"'done' == qx['q'][0]['status']\",\n",
    "        \"exchange\": exch,\n",
    "        \"method\": f\"exchange.create_order('{symbol}', 'market', 'sell', {amount})\"\n",
    "      }\n",
    "    ]\n",
    "  })  "
   ],
   "outputs": [],
   "metadata": {}
  },
  {
   "cell_type": "code",
   "execution_count": 128,
   "source": [
    "def buyMarket__stoporderMarket(exch, symbol, triggerPrice, amount, stopPrice):\n",
    "  db.xqueue.insert_one({\n",
    "    \"description\": \"buyMarket__stoporderMarket\",\n",
    "    \"createdTime\" : datetime.now(),\n",
    "    \"status\": \"new\",\n",
    "    \"q\": [\n",
    "      {\n",
    "        \"qid\": 0,\n",
    "        \"symbol\": symbol,\n",
    "        \"status\": \"new\",\n",
    "        \"trigger\": f\"ticker['ask'] < {triggerPrice}\",\n",
    "        \"exchange\": exch,\n",
    "        \"method\": f\"exchange.create_market_buy_order('{symbol}', {amount})\"\n",
    "      },\n",
    "      {\n",
    "        \"qid\": 1,\n",
    "        \"symbol\": symbol,\n",
    "        \"status\": \"new\",\n",
    "        \"trigger\": \"'done' == qx['q'][0]['status']\",\n",
    "        \"exchange\": exch,\n",
    "        \"method\": f\"exchange.create_order('{symbol}', 'STOP_LOSS_LIMIT', 'sell', {amount * 0.998}, {stopPrice * 0.95}, {{'stopPrice': {stopPrice}}})\"\n",
    "      }\n",
    "    ]\n",
    "  })\n",
    "  "
   ],
   "outputs": [],
   "metadata": {}
  },
  {
   "cell_type": "code",
   "execution_count": 126,
   "source": [
    "free_balances = exchange.fetch_balance ()['free'] \n",
    "base_available = free_balances['USDT'] \n",
    "\n",
    "exch, symbol = 'binance', 'ALGO/USDT'\n",
    " \n",
    "triggerPrice = 1.9790\n",
    "stopPrice = 1.9688\n",
    "exitPrice = 1\n",
    "\n",
    "amount = floor(base_available / triggerPrice * 0.998)\n",
    "\n",
    "buyMarket__stoporderMarket(exch, symbol, triggerPrice, amount, stopPrice)"
   ],
   "outputs": [
    {
     "output_type": "execute_result",
     "data": {
      "text/plain": [
       "<pymongo.results.InsertOneResult at 0x7fc63d2a2140>"
      ]
     },
     "metadata": {},
     "execution_count": 126
    }
   ],
   "metadata": {}
  },
  {
   "cell_type": "code",
   "execution_count": 120,
   "source": [
    "free_balances = exchange.fetch_balance ()['free'] \n",
    "base_available = free_balances['USDT'] / 100\n",
    "\n",
    "# base_available = 100\n",
    "\n",
    "exch, symbol = 'binance', 'ALGO/USDT'\n"
   ],
   "outputs": [],
   "metadata": {}
  },
  {
   "cell_type": "code",
   "execution_count": 135,
   "source": [
    "\n",
    "exch, symbol = 'binance', 'ALGO/USDT'\n",
    " \n",
    "triggerPrice = 1.98\n",
    "stopPrice = 1.9380\n",
    "amount = floor(base_available / triggerPrice * 0.999)\n",
    "# amount"
   ],
   "outputs": [
    {
     "output_type": "execute_result",
     "data": {
      "text/plain": [
       "26614"
      ]
     },
     "metadata": {},
     "execution_count": 135
    }
   ],
   "metadata": {}
  },
  {
   "cell_type": "code",
   "execution_count": 119,
   "source": [
    "# free_balances = exchange.fetch_balance ()['free'] \n",
    "# base_available = free_balances['USDT'] / 100\n",
    "\n",
    "base_available = 100\n",
    "\n",
    "exch, symbol = 'binance', 'ALGO/USDT'\n",
    " \n",
    "triggerPrice = 1.98\n",
    "stopPrice = 1.9380\n",
    "amount = floor(base_available / triggerPrice * 0.999)\n",
    "\n",
    "# buyMarket__stoporderMarket(exch, symbol, amount, triggerPrice, stopPrice)\n",
    "\n",
    "# sellMarket__priceAbove(exch, symbol,  0.001, 44000)\n",
    "\n",
    "\n",
    "# exchange.create_order(symbol, 'market', 'sell', amount)\n",
    "# exchange.create_order(symbol, 'market', 'buy', 0.0009)\n",
    "# exchange.create_order(symbol, 'limit', 'sell', 0.0002, 100000)\n",
    "# exchange.create_order(symbol, 'limit', 'buy', 0.001, 10000)\n",
    "# exchange.create_order(symbol', 'STOP_LOSS_LIMIT', 'sell', 0.01, 20000, {'stopPrice': 25000,'type': 'stopLimit'})\n",
    "\n",
    "# exchange.create_order(symbol, 'limit', 'sell', 0.005, 43900, {'stopPrice': 44000,'stop': 'loss'})\n",
    "# exchange.fetch_open_orders(symbol)[0]['id'] \n",
    "# pyperclip.copy(exchange.fetch_open_orders(symbol)[0]['id'])\n",
    "# exchange.cancel_order('7509903700', symbol=symbol)\n",
    "# exchange.fetch_open_orders(symbol')\n",
    "\n",
    "# exch_balances = exchange.fetch_balance ()\n",
    "# exch_balances['free']\n"
   ],
   "outputs": [],
   "metadata": {}
  },
  {
   "cell_type": "code",
   "execution_count": 106,
   "source": [
    "free_balances = exchange.fetch_balance ()['free']\n",
    "base_available = free_balances['USDT'] \n",
    "base_available"
   ],
   "outputs": [
    {
     "output_type": "execute_result",
     "data": {
      "text/plain": [
       "50761.90258599"
      ]
     },
     "metadata": {},
     "execution_count": 106
    }
   ],
   "metadata": {}
  },
  {
   "cell_type": "code",
   "execution_count": 97,
   "source": [
    "floor(3.14)"
   ],
   "outputs": [
    {
     "output_type": "error",
     "ename": "NameError",
     "evalue": "name 'floor' is not defined",
     "traceback": [
      "\u001b[0;31m---------------------------------------------------------------------------\u001b[0m",
      "\u001b[0;31mNameError\u001b[0m                                 Traceback (most recent call last)",
      "\u001b[0;32m<ipython-input-97-bd27a0488a7a>\u001b[0m in \u001b[0;36m<module>\u001b[0;34m\u001b[0m\n\u001b[0;32m----> 1\u001b[0;31m \u001b[0mfloor\u001b[0m\u001b[0;34m(\u001b[0m\u001b[0;36m3.14\u001b[0m\u001b[0;34m)\u001b[0m\u001b[0;34m\u001b[0m\u001b[0;34m\u001b[0m\u001b[0m\n\u001b[0m",
      "\u001b[0;31mNameError\u001b[0m: name 'floor' is not defined"
     ]
    }
   ],
   "metadata": {}
  },
  {
   "cell_type": "code",
   "execution_count": 110,
   "source": [
    "datetime.now()"
   ],
   "outputs": [
    {
     "output_type": "error",
     "ename": "AttributeError",
     "evalue": "'datetime.datetime' object has no attribute 'to_s'",
     "traceback": [
      "\u001b[0;31m---------------------------------------------------------------------------\u001b[0m",
      "\u001b[0;31mAttributeError\u001b[0m                            Traceback (most recent call last)",
      "\u001b[0;32m<ipython-input-110-b2be9c67b74e>\u001b[0m in \u001b[0;36m<module>\u001b[0;34m\u001b[0m\n\u001b[0;32m----> 1\u001b[0;31m \u001b[0mdatetime\u001b[0m\u001b[0;34m.\u001b[0m\u001b[0mnow\u001b[0m\u001b[0;34m(\u001b[0m\u001b[0;34m)\u001b[0m\u001b[0;34m.\u001b[0m\u001b[0mto_s\u001b[0m\u001b[0;34m(\u001b[0m\u001b[0;34m)\u001b[0m\u001b[0;34m\u001b[0m\u001b[0;34m\u001b[0m\u001b[0m\n\u001b[0m",
      "\u001b[0;31mAttributeError\u001b[0m: 'datetime.datetime' object has no attribute 'to_s'"
     ]
    }
   ],
   "metadata": {}
  },
  {
   "cell_type": "code",
   "execution_count": 130,
   "source": [
    "1.765 * 0.98"
   ],
   "outputs": [
    {
     "output_type": "execute_result",
     "data": {
      "text/plain": [
       "1.7296999999999998"
      ]
     },
     "metadata": {},
     "execution_count": 130
    }
   ],
   "metadata": {}
  },
  {
   "cell_type": "code",
   "execution_count": null,
   "source": [],
   "outputs": [],
   "metadata": {}
  }
 ],
 "metadata": {
  "orig_nbformat": 4,
  "language_info": {
   "name": "python",
   "version": "3.8.11",
   "mimetype": "text/x-python",
   "codemirror_mode": {
    "name": "ipython",
    "version": 3
   },
   "pygments_lexer": "ipython3",
   "nbconvert_exporter": "python",
   "file_extension": ".py"
  },
  "kernelspec": {
   "name": "python3",
   "display_name": "Python 3.8.11 64-bit ('py38': conda)"
  },
  "interpreter": {
   "hash": "2b64b82ed447a7d153a9c78a0705e81a741fff6a0d399ac51b9f2a89a43d4916"
  }
 },
 "nbformat": 4,
 "nbformat_minor": 2
}