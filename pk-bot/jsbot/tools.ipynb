{
 "cells": [
  {
   "cell_type": "code",
   "execution_count": 12,
   "source": [
    "from pymongo import MongoClient\n",
    "from bson.objectid import ObjectId\n",
    "from pprint import pprint\n",
    "\n",
    "client = MongoClient()\n",
    "db=client.jsbot\n",
    "orders = db.orders\n",
    "from datetime import datetime\n",
    "from math import floor, ceil"
   ],
   "outputs": [],
   "metadata": {}
  },
  {
   "cell_type": "code",
   "execution_count": 30,
   "source": [
    "# orders.find_one({\"_id\": ObjectId(\"6157bd907ec7bc0d70750dc4\")})\n",
    "\n",
    "status = \"xxl\"\n",
    "size = 10000\n",
    "symbol = \"ATOMUSDT\"\n",
    "trigger = \"40.00\"\n",
    "stop = \"38.00\"\n",
    "target = \"42.00\"\n",
    "\n",
    "datecreated = datetime.now().strftime(\"%Y-%m-%dT%H:%M:%S\")\n",
    "orders.insert_many([\n",
    "    {\n",
    "        \"id\": f\"{symbol}_{datecreated}\",\n",
    "        \"datecreated\" : datecreated,\n",
    "        \"status\": status,\n",
    "        \"symbol\" : symbol,\n",
    "        \"trigger\": trigger,\n",
    "        \"stop\": stop,\n",
    "        \"target\": target,\n",
    "        \"size\": size\n",
    "    }\n",
    "])\n",
    "\n"
   ],
   "outputs": [
    {
     "output_type": "execute_result",
     "data": {
      "text/plain": [
       "<pymongo.results.InsertManyResult at 0x7f2c6433c800>"
      ]
     },
     "metadata": {},
     "execution_count": 30
    }
   ],
   "metadata": {}
  },
  {
   "cell_type": "code",
   "execution_count": 17,
   "source": [
    "def buyOrder(symbol, status, size, trigger, stop, target):\n",
    "    datecreated = datetime.now().strftime(\"%Y-%m-%dT%H:%M:%S\")\n",
    "    orders.insert_many([\n",
    "        {\n",
    "            \"id\": f\"{symbol}_{datecreated}\",\n",
    "            \"datecreated\" : datecreated,\n",
    "            \"status\": status,\n",
    "            \"action\": \"\",\n",
    "            \"symbol\" : symbol,\n",
    "            \"trigger\": trigger,\n",
    "            \"stop\": stop,\n",
    "            \"target\": target,\n",
    "            \"size\": size\n",
    "        }\n",
    "    ]);\n",
    "\n",
    "def sellOrder(symbol, status, qty, target):\n",
    "    datecreated = datetime.now().strftime(\"%Y-%m-%dT%H:%M:%S\")\n",
    "    orders.insert_many([\n",
    "        {\n",
    "            \"id\": f\"{symbol}_{datecreated}\",\n",
    "            \"datecreated\" : datecreated,\n",
    "            \"status\": status,\n",
    "            \"symbol\" : symbol,\n",
    "            \"target\": target,\n",
    "            \"qty\": qty\n",
    "        }\n",
    "    ]);    "
   ],
   "outputs": [],
   "metadata": {}
  },
  {
   "cell_type": "code",
   "execution_count": 11,
   "source": [
    "buyOrder(\"ALGOUSDT\", \"buyat\", 10000, 1.8930, 1.8780, 1.9592)"
   ],
   "outputs": [],
   "metadata": {}
  },
  {
   "cell_type": "code",
   "execution_count": 10,
   "source": [
    "buyOrder(\"ALGOUSDT\", \"buy\", 10000, 1.9395, 1.9275, 1.9680)"
   ],
   "outputs": [],
   "metadata": {}
  },
  {
   "cell_type": "code",
   "execution_count": 8,
   "source": [
    "buyOrder(\"AVAXUSDT\", \"buy\", 10000, 65.92, 65.63, 67)"
   ],
   "outputs": [],
   "metadata": {}
  },
  {
   "cell_type": "code",
   "execution_count": 48,
   "source": [
    "status = \"new\"\n",
    "size = 15\n",
    "symbol = \"ADAUSDT\"\n",
    "buyTarget = \"2.2\"\n",
    "buyStop = \"38.00\"\n",
    "sellTarget = \"3\"\n",
    "datecreated = datetime.now().strftime(\"%Y-%m-%dT%H:%M:%S\")\n",
    "\n",
    "trades.insert_many([\n",
    "    {\n",
    "        \"id\": f\"{symbol}_{datecreated}\",\n",
    "        \"datecreated\" : datecreated,\n",
    "        \"status\": status,\n",
    "        \"symbol\" : symbol,\n",
    "        \"buyTarget\": buyTarget,\n",
    "        \"buyStop\": buyStop,\n",
    "        \"sellTarget\": sellTarget,\n",
    "        \"size\": size\n",
    "    }\n",
    "])"
   ],
   "outputs": [
    {
     "output_type": "execute_result",
     "data": {
      "text/plain": [
       "<pymongo.results.InsertManyResult at 0x7f6914bf43c0>"
      ]
     },
     "metadata": {},
     "execution_count": 48
    }
   ],
   "metadata": {}
  },
  {
   "cell_type": "code",
   "execution_count": 5,
   "source": [
    "capital = 50000.0\n",
    "risk = 0.01\n",
    "\n",
    "symbol = \"AVAXUSDT\"\n",
    "trigger = 65.35\n",
    "stop = 63.68\n",
    "target = 73.16\n",
    "# (capital * risk) = (trigger - stop) * size\n",
    "qty = (capital * risk) / (trigger - stop)\n",
    "size = qty * trigger\n",
    "# buyOrder(symbol, \"buyat\", size, stop, target)\n",
    "qty, size"
   ],
   "outputs": [
    {
     "output_type": "execute_result",
     "data": {
      "text/plain": [
       "(299.4011976047914, 19565.868263473116)"
      ]
     },
     "metadata": {},
     "execution_count": 5
    }
   ],
   "metadata": {}
  },
  {
   "cell_type": "code",
   "execution_count": 1,
   "source": [
    "(capital, risk) = 50000, 0.01\n",
    "symbol = 'ALGOUSDT'\n",
    "(trigger, stop, target) = 1, 1, 1\n",
    "\n",
    "size = (capital * risk) / (trigger - stop)\n",
    "# buyOrder(symbol, \"buyat\", size, stop, target)\n",
    "size"
   ],
   "outputs": [],
   "metadata": {}
  },
  {
   "cell_type": "code",
   "execution_count": 16,
   "source": [
    "(capital, risk) = 50000, 0.01\n",
    "symbol = 'ATOMUSDT'\n",
    "(trigger, stop, target) = 37.00, 35.90, 71.24\n",
    "qty = floor( (capital * risk) / (trigger - stop) )\n",
    "size = qty * trigger\n",
    "buyOrder(symbol, \"buyat\", size, trigger, stop, target)\n",
    "qty, size"
   ],
   "outputs": [
    {
     "output_type": "execute_result",
     "data": {
      "text/plain": [
       "(454, 16798.0)"
      ]
     },
     "metadata": {},
     "execution_count": 16
    }
   ],
   "metadata": {}
  },
  {
   "cell_type": "code",
   "execution_count": 8,
   "source": [
    "(capital, risk) = 50000, 0.01\n",
    "symbol = 'SOLUSDT'\n",
    "(trigger, stop, target) = 168.36, 167.30, 172.30\n",
    "qty = (capital * risk) / (trigger - stop)\n",
    "size = qty * trigger\n",
    "# buyOrder(symbol, \"buyat\", size, stop, target)\n",
    "qty, size"
   ],
   "outputs": [
    {
     "output_type": "execute_result",
     "data": {
      "text/plain": [
       "(471.69811320754616, 79415.09433962248)"
      ]
     },
     "metadata": {},
     "execution_count": 8
    }
   ],
   "metadata": {}
  },
  {
   "cell_type": "code",
   "execution_count": 18,
   "source": [
    "symbol = 'ATOMUSDT'\n",
    "(trigger, stop, target) = 37.00, 35.90, 71.24\n",
    "size = 25 \n",
    "buyOrder(symbol, \"buyat\", size, trigger, stop, target)\n"
   ],
   "outputs": [],
   "metadata": {}
  },
  {
   "cell_type": "code",
   "execution_count": null,
   "source": [],
   "outputs": [],
   "metadata": {}
  }
 ],
 "metadata": {
  "orig_nbformat": 4,
  "language_info": {
   "name": "python",
   "version": "3.8.11",
   "mimetype": "text/x-python",
   "codemirror_mode": {
    "name": "ipython",
    "version": 3
   },
   "pygments_lexer": "ipython3",
   "nbconvert_exporter": "python",
   "file_extension": ".py"
  },
  "kernelspec": {
   "name": "python3",
   "display_name": "Python 3.8.11 64-bit ('py38': conda)"
  },
  "interpreter": {
   "hash": "2b64b82ed447a7d153a9c78a0705e81a741fff6a0d399ac51b9f2a89a43d4916"
  }
 },
 "nbformat": 4,
 "nbformat_minor": 2
}