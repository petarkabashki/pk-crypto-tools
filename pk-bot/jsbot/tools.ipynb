{
 "cells": [
  {
   "cell_type": "code",
   "execution_count": 1,
   "source": [
    "39.91 * 1.002\n"
   ],
   "outputs": [
    {
     "output_type": "execute_result",
     "data": {
      "text/plain": [
       "39.989819999999995"
      ]
     },
     "metadata": {},
     "execution_count": 1
    }
   ],
   "metadata": {}
  },
  {
   "cell_type": "code",
   "execution_count": 5,
   "source": [
    "from pymongo import MongoClient\n",
    "from bson.objectid import ObjectId\n",
    "from pprint import pprint\n",
    "\n",
    "client = MongoClient()\n",
    "db=client.jsbot\n",
    "orders = db.orders\n",
    "from datetime import datetime"
   ],
   "outputs": [],
   "metadata": {}
  },
  {
   "cell_type": "code",
   "execution_count": 30,
   "source": [
    "# orders.find_one({\"_id\": ObjectId(\"6157bd907ec7bc0d70750dc4\")})\n",
    "\n",
    "status = \"xxl\"\n",
    "size = 10000\n",
    "symbol = \"ATOMUSDT\"\n",
    "trigger = \"40.00\"\n",
    "stop = \"38.00\"\n",
    "target = \"42.00\"\n",
    "\n",
    "datecreated = datetime.now().strftime(\"%Y-%m-%dT%H:%M:%S\")\n",
    "orders.insert_many([\n",
    "    {\n",
    "        \"id\": f\"{symbol}_{datecreated}\",\n",
    "        \"datecreated\" : datecreated,\n",
    "        \"status\": status,\n",
    "        \"symbol\" : symbol,\n",
    "        \"trigger\": trigger,\n",
    "        \"stop\": stop,\n",
    "        \"target\": target,\n",
    "        \"size\": size\n",
    "    }\n",
    "])\n",
    "\n"
   ],
   "outputs": [
    {
     "output_type": "execute_result",
     "data": {
      "text/plain": [
       "<pymongo.results.InsertManyResult at 0x7f2c6433c800>"
      ]
     },
     "metadata": {},
     "execution_count": 30
    }
   ],
   "metadata": {}
  },
  {
   "cell_type": "code",
   "execution_count": 25,
   "source": [
    "def buyOrder(symbol, status, size, trigger, stop, target):\n",
    "    datecreated = datetime.now().strftime(\"%Y-%m-%dT%H:%M:%S\")\n",
    "    orders.insert_many([\n",
    "        {\n",
    "            \"id\": f\"{symbol}_{datecreated}\",\n",
    "            \"datecreated\" : datecreated,\n",
    "            \"status\": status,\n",
    "            \"symbol\" : symbol,\n",
    "            \"trigger\": trigger,\n",
    "            \"stop\": stop,\n",
    "            \"target\": target,\n",
    "            \"size\": size\n",
    "        }\n",
    "    ]);\n",
    "\n",
    "def sellOrder(symbol, status, qty, target):\n",
    "    datecreated = datetime.now().strftime(\"%Y-%m-%dT%H:%M:%S\")\n",
    "    orders.insert_many([\n",
    "        {\n",
    "            \"id\": f\"{symbol}_{datecreated}\",\n",
    "            \"datecreated\" : datecreated,\n",
    "            \"status\": status,\n",
    "            \"symbol\" : symbol,\n",
    "            \"target\": target,\n",
    "            \"qty\": qty\n",
    "        }\n",
    "    ]);    "
   ],
   "outputs": [],
   "metadata": {}
  },
  {
   "cell_type": "code",
   "execution_count": 22,
   "source": [
    " buyOrder(\"ALGOUSDT\", \"buy\", 101, 2, 1.8, 2.5)"
   ],
   "outputs": [],
   "metadata": {}
  },
  {
   "cell_type": "code",
   "execution_count": 35,
   "source": [
    " sellOrder(\"ALGOUSDT\", \"sellat\", 10, 1.99)"
   ],
   "outputs": [],
   "metadata": {}
  }
 ],
 "metadata": {
  "orig_nbformat": 4,
  "language_info": {
   "name": "python",
   "version": "3.8.11",
   "mimetype": "text/x-python",
   "codemirror_mode": {
    "name": "ipython",
    "version": 3
   },
   "pygments_lexer": "ipython3",
   "nbconvert_exporter": "python",
   "file_extension": ".py"
  },
  "kernelspec": {
   "name": "python3",
   "display_name": "Python 3.8.11 64-bit ('py38': conda)"
  },
  "interpreter": {
   "hash": "2b64b82ed447a7d153a9c78a0705e81a741fff6a0d399ac51b9f2a89a43d4916"
  }
 },
 "nbformat": 4,
 "nbformat_minor": 2
}