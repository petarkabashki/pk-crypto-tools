{
 "cells": [
  {
   "cell_type": "code",
   "execution_count": 1,
   "source": [
    "39.91 * 1.002\n"
   ],
   "outputs": [
    {
     "output_type": "execute_result",
     "data": {
      "text/plain": [
       "39.989819999999995"
      ]
     },
     "metadata": {},
     "execution_count": 1
    }
   ],
   "metadata": {}
  },
  {
   "cell_type": "code",
   "execution_count": 5,
   "source": [
    "from pymongo import MongoClient\n",
    "from bson.objectid import ObjectId\n",
    "from pprint import pprint\n",
    "\n",
    "client = MongoClient()\n",
    "db=client.jsbot\n",
    "orders = db.orders\n",
    "from datetime import datetime"
   ],
   "outputs": [],
   "metadata": {}
  },
  {
   "cell_type": "code",
   "execution_count": 30,
   "source": [
    "# orders.find_one({\"_id\": ObjectId(\"6157bd907ec7bc0d70750dc4\")})\n",
    "\n",
    "status = \"xxl\"\n",
    "size = 10000\n",
    "symbol = \"ATOMUSDT\"\n",
    "trigger = \"40.00\"\n",
    "stop = \"38.00\"\n",
    "target = \"42.00\"\n",
    "\n",
    "datecreated = datetime.now().strftime(\"%Y-%m-%dT%H:%M:%S\")\n",
    "orders.insert_many([\n",
    "    {\n",
    "        \"id\": f\"{symbol}_{datecreated}\",\n",
    "        \"datecreated\" : datecreated,\n",
    "        \"status\": status,\n",
    "        \"symbol\" : symbol,\n",
    "        \"trigger\": trigger,\n",
    "        \"stop\": stop,\n",
    "        \"target\": target,\n",
    "        \"size\": size\n",
    "    }\n",
    "])\n",
    "\n"
   ],
   "outputs": [
    {
     "output_type": "execute_result",
     "data": {
      "text/plain": [
       "<pymongo.results.InsertManyResult at 0x7f2c6433c800>"
      ]
     },
     "metadata": {},
     "execution_count": 30
    }
   ],
   "metadata": {}
  },
  {
   "cell_type": "code",
   "execution_count": 6,
   "source": [
    "def setorder(symbol, status, size, trigger, stop, target):\n",
    "    datecreated = datetime.now().strftime(\"%Y-%m-%dT%H:%M:%S\")\n",
    "    orders.insert_many([\n",
    "        {\n",
    "            \"id\": f\"{symbol}_{datecreated}\",\n",
    "            \"datecreated\" : datecreated,\n",
    "            \"status\": status,\n",
    "            \"symbol\" : symbol,\n",
    "            \"trigger\": trigger,\n",
    "            \"stop\": stop,\n",
    "            \"target\": target,\n",
    "            \"size\": size\n",
    "        }\n",
    "    ]);"
   ],
   "outputs": [],
   "metadata": {}
  },
  {
   "cell_type": "code",
   "execution_count": 14,
   "source": [
    " setorder(\"ADAMUSDT\", \"buyat\", 10000, \"2.267\", \"2.264\", \"2.279\")"
   ],
   "outputs": [],
   "metadata": {}
  },
  {
   "cell_type": "code",
   "execution_count": 15,
   "source": [
    " setorder(\"ADAMUSDT\", \"buyat\", 10000, \"2.257\", \"2.255\", \"2.280\")"
   ],
   "outputs": [],
   "metadata": {}
  },
  {
   "cell_type": "code",
   "execution_count": 46,
   "source": [
    " setorder(\"ATOMUSDT\", \"buyat\", 10000, \"36.71\", \"36.59\", \"37.10\")"
   ],
   "outputs": [],
   "metadata": {}
  },
  {
   "cell_type": "code",
   "execution_count": 8,
   "source": [
    " setorder(\"DOTUSDT\", \"buyat\", 10000, \"32.40\", \"32.37\", \"33.00\")"
   ],
   "outputs": [],
   "metadata": {}
  },
  {
   "cell_type": "code",
   "execution_count": 11,
   "source": [
    " setorder(\"ALGOUSDT\", \"buyat\", 10000, \"1.9233\", \"1.9182\", \"1.9350\")"
   ],
   "outputs": [],
   "metadata": {}
  },
  {
   "cell_type": "code",
   "execution_count": 12,
   "source": [
    " setorder(\"ALGOUSDT\", \"buyat\", 10000, \"1.9113\", \"1.9015\", \"1.9340\")"
   ],
   "outputs": [],
   "metadata": {}
  },
  {
   "cell_type": "code",
   "execution_count": 18,
   "source": [
    " setorder(\"ALGOUSDT\", \"buy\", 100, 2, 1.8, 2.5)"
   ],
   "outputs": [],
   "metadata": {}
  },
  {
   "cell_type": "code",
   "execution_count": 16,
   "source": [
    " setorder(\"BTCUSDT\", \"buyat\", 1000, \"48000\", \"47000\", \"50000\")"
   ],
   "outputs": [],
   "metadata": {}
  },
  {
   "cell_type": "code",
   "execution_count": null,
   "source": [],
   "outputs": [],
   "metadata": {}
  }
 ],
 "metadata": {
  "orig_nbformat": 4,
  "language_info": {
   "name": "python",
   "version": "3.8.11",
   "mimetype": "text/x-python",
   "codemirror_mode": {
    "name": "ipython",
    "version": 3
   },
   "pygments_lexer": "ipython3",
   "nbconvert_exporter": "python",
   "file_extension": ".py"
  },
  "kernelspec": {
   "name": "python3",
   "display_name": "Python 3.8.11 64-bit ('py38': conda)"
  },
  "interpreter": {
   "hash": "2b64b82ed447a7d153a9c78a0705e81a741fff6a0d399ac51b9f2a89a43d4916"
  }
 },
 "nbformat": 4,
 "nbformat_minor": 2
}