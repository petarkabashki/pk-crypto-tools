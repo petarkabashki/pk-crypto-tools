{
 "cells": [
  {
   "cell_type": "code",
   "execution_count": 28,
   "source": [
    "import os\n",
    "import ccxt\n",
    "# import config\n",
    "import schedule\n",
    "import pandas as pd\n",
    "pd.set_option('display.max_rows', None)\n",
    "from datetime import datetime\n",
    "import time\n",
    "import pytz\n",
    "import json\n",
    "import numpy as np\n",
    "# import warnings\n",
    "# warnings.filterwarnings('ignore')\n",
    "import sys\n",
    "# sys.path.insert(1, './strategy')\n",
    "from importlib import reload  \n",
    "import pyperclip"
   ],
   "outputs": [],
   "metadata": {}
  },
  {
   "cell_type": "code",
   "execution_count": 29,
   "source": [
    "from pymongo import MongoClient\n",
    "from bson.objectid import ObjectId\n",
    "from pprint import pprint\n",
    "\n",
    "client = MongoClient()\n",
    "db=client.pkbot"
   ],
   "outputs": [],
   "metadata": {}
  },
  {
   "cell_type": "code",
   "execution_count": 2,
   "source": [
    "!. ./load-creds.sh"
   ],
   "outputs": [],
   "metadata": {}
  },
  {
   "cell_type": "code",
   "execution_count": null,
   "source": [],
   "outputs": [],
   "metadata": {}
  },
  {
   "cell_type": "code",
   "execution_count": 30,
   "source": [
    "exchanges = {}\n",
    "config = False\n",
    "with open ('config.json') as js: \n",
    "        config = json.load(js)\n",
    "\n",
    "for exkey, exconf in config['exchanges'].items():\n",
    "        if exconf['enabled'] and not exkey in exchanges:\n",
    "                excred = exconf['cred']\n",
    "                for crk, crv in excred.items():\n",
    "                        if crv[0] == \"$\" : \n",
    "                                excred[crk] = os.getenv(crv[1:])\n",
    "\n",
    "                exchanges[exkey] = getattr(ccxt, exkey) (excred)"
   ],
   "outputs": [],
   "metadata": {}
  },
  {
   "cell_type": "code",
   "execution_count": 48,
   "source": [
    "exchange = exchanges['kucoin']\n",
    "# Working samples: \n",
    "\n",
    "# exchange.create_order('BTC/USDT', 'market', 'sell', 0.001)\n",
    "# exchange.create_order('BTC/USDT', 'market', 'buy', 0.0009)\n",
    "# exchange.create_order('BTC/USDT', 'limit', 'sell', 0.0002, 100000)\n",
    "# exchange.create_order('BTC/USDT', 'limit', 'buy', 0.001, 10000)\n",
    "\n",
    "# exchange.create_order('BTC/USDT', 'limit', 'sell', 0.005, 43900, {'stopPrice': 44000,'stop': 'loss'})\n",
    "# exchange.fetch_open_orders('BTC/USDT')[0]['id']\n",
    "# pyperclip.copy(exchange.fetch_open_orders('BTC/USDT')[0]['id'])\n",
    "exchange.cancel_order('613e244b5ff2e50006a2c248')\n",
    "exchange.fetch_open_orders('BTC/USDT')"
   ],
   "outputs": [
    {
     "output_type": "execute_result",
     "data": {
      "text/plain": [
       "[]"
      ]
     },
     "metadata": {},
     "execution_count": 48
    }
   ],
   "metadata": {}
  },
  {
   "cell_type": "code",
   "execution_count": 63,
   "source": [
    "exchange = exchanges['ftx']\n",
    "# Working samples: \n",
    "\n",
    "# exchange.create_order('BTC/USDT', 'market', 'sell', 0.001)\n",
    "# exchange.create_order('BTC/USDT', 'market', 'buy', 0.0001)\n",
    "# exchange.create_order('BTC/USDT', 'limit', 'sell', 0.0002, 100000)\n",
    "# exchange.create_order('BTC/USDT', 'limit', 'buy', 0.001, 10000)\n",
    "# exchange.create_order('BTC/USDT', 'stop', 'sell', 0.0005, 43900, {'stopPrice': 44000,'stop': 'stopLimit'})\n",
    "\n",
    "# exchange.fetch_open_orders('BTC/USDT')[0]['id']\n",
    "# pyperclip.copy(exchange.fetch_open_orders('BTC/USDT')[0]['id'])\n",
    "# exchange.cancel_order('78771009096')\n",
    "# exchange.cancel_order(exchange.fetch_open_orders('BTC/USDT')[0]['id'])\n",
    "# exchange.fetch_open_orders('BTC/USDT')"
   ],
   "outputs": [],
   "metadata": {}
  },
  {
   "cell_type": "code",
   "execution_count": null,
   "source": [
    "exchange = exchanges['ftx']\n",
    "# exchange.create_order('BTC/USDT', 'market', 'sell', 0.001)\n",
    "exchange.create_order('SOL/BTC', 'market', 'buy', 0.0001)\n",
    "# exchange.create_order('BTC/USDT', 'limit', 'sell', 0.0002, 100000)\n",
    "# exchange.create_order('BTC/USDT', 'limit', 'buy', 0.001, 10000)\n",
    "# exchange.create_order('BTC/USDT', 'stop', 'sell', 0.0005, 43900, {'stopPrice': 44000,'stop': 'stopLimit'})\n",
    "\n",
    "# exchange.fetch_open_orders('BTC/USDT')[0]['id']\n",
    "# pyperclip.copy(exchange.fetch_open_orders('BTC/USDT')[0]['id'])\n",
    "# exchange.cancel_order('78771009096')\n",
    "# exchange.cancel_order(exchange.fetch_open_orders('BTC/USDT')[0]['id'])\n",
    "# exchange.fetch_open_orders('BTC/USDT')"
   ],
   "outputs": [],
   "metadata": {}
  },
  {
   "cell_type": "code",
   "execution_count": 33,
   "source": [
    "exchange = exchanges['binance']\n",
    "\n",
    "# exchange.create_order('ALGO/USDT', 'market', 'sell', 40)\n",
    "# exchange.create_order('BTC/USDT', 'market', 'buy', 0.0009)\n",
    "# exchange.create_order('BTC/USDT', 'limit', 'sell', 0.0002, 100000)\n",
    "# exchange.create_order('BTC/USDT', 'limit', 'buy', 0.001, 10000)\n",
    "# exchange.create_order('BTC/USDT', 'STOP_LOSS_LIMIT', 'sell', 0.01, 20000, {'stopPrice': 25000,'type': 'stopLimit'})\n",
    "\n",
    "# exchange.create_order('BTC/USDT', 'limit', 'sell', 0.005, 43900, {'stopPrice': 44000,'stop': 'loss'})\n",
    "# exchange.fetch_open_orders('BTC/USDT')[0]['id'] \n",
    "# pyperclip.copy(exchange.fetch_open_orders('BTC/USDT')[0]['id'])\n",
    "# exchange.cancel_order('7509903700', symbol='BTC/USDT')\n",
    "# exchange.fetch_open_orders('ALGO/USDT')\n",
    "\n",
    "exch_balances = exchange.fetch_balance ()\n",
    "exch_balances['free']\n"
   ],
   "outputs": [],
   "metadata": {}
  },
  {
   "cell_type": "code",
   "execution_count": 57,
   "source": [
    "exchange.create_order('BTC/USDT', 'STOP_LOSS_LIMIT', 'sell', 0.01, 20000, {'stopPrice': 25000})"
   ],
   "outputs": [
    {
     "output_type": "execute_result",
     "data": {
      "text/plain": [
       "{'info': {'symbol': 'BTCUSDT',\n",
       "  'orderId': '7638978535',\n",
       "  'orderListId': '-1',\n",
       "  'clientOrderId': 'x-R4BD3S82d48dda63f7f0bc2ae9147',\n",
       "  'transactTime': '1632404773152',\n",
       "  'price': '20000.00000000',\n",
       "  'origQty': '0.01000000',\n",
       "  'executedQty': '0.00000000',\n",
       "  'cummulativeQuoteQty': '0.00000000',\n",
       "  'status': 'NEW',\n",
       "  'timeInForce': 'GTC',\n",
       "  'type': 'STOP_LOSS_LIMIT',\n",
       "  'side': 'SELL',\n",
       "  'stopPrice': '25000.00000000'},\n",
       " 'id': '7638978535',\n",
       " 'clientOrderId': 'x-R4BD3S82d48dda63f7f0bc2ae9147',\n",
       " 'timestamp': 1632404773152,\n",
       " 'datetime': '2021-09-23T13:46:13.152Z',\n",
       " 'lastTradeTimestamp': None,\n",
       " 'symbol': 'BTC/USDT',\n",
       " 'type': 'stop_loss_limit',\n",
       " 'timeInForce': 'GTC',\n",
       " 'postOnly': False,\n",
       " 'side': 'sell',\n",
       " 'price': 20000.0,\n",
       " 'stopPrice': 25000.0,\n",
       " 'amount': 0.01,\n",
       " 'cost': 0.0,\n",
       " 'average': None,\n",
       " 'filled': 0.0,\n",
       " 'remaining': 0.01,\n",
       " 'status': 'open',\n",
       " 'fee': None,\n",
       " 'trades': [],\n",
       " 'fees': []}"
      ]
     },
     "metadata": {},
     "execution_count": 57
    }
   ],
   "metadata": {}
  },
  {
   "cell_type": "code",
   "execution_count": 70,
   "source": [
    "# Cancel open orders\n",
    "exchange = exchanges['binance']\n",
    "\n",
    "# exchange.create_order('ALGO/USDT', 'limit', 'buy', 100, 1.5)\n",
    "\n",
    "# for order in exchange.fetch_open_orders('ALGO/USDT'):\n",
    "#   exchange.cancel_order(order['id'], symbol=order['symbol'])\n",
    "\n",
    "exchange.fetch_open_orders('BTC/USDT')"
   ],
   "outputs": [
    {
     "output_type": "execute_result",
     "data": {
      "text/plain": [
       "[{'info': {'symbol': 'BTCUSDT',\n",
       "   'orderId': '7639363314',\n",
       "   'orderListId': '-1',\n",
       "   'clientOrderId': 'x-R4BD3S82af0c8c024a44aa61725bd',\n",
       "   'price': '27550.00000000',\n",
       "   'origQty': '0.00100000',\n",
       "   'executedQty': '0.00000000',\n",
       "   'cummulativeQuoteQty': '0.00000000',\n",
       "   'status': 'NEW',\n",
       "   'timeInForce': 'GTC',\n",
       "   'type': 'STOP_LOSS_LIMIT',\n",
       "   'side': 'SELL',\n",
       "   'stopPrice': '29000.00000000',\n",
       "   'icebergQty': '0.00000000',\n",
       "   'time': '1632407096330',\n",
       "   'updateTime': '1632407096330',\n",
       "   'isWorking': False,\n",
       "   'origQuoteOrderQty': '0.00000000'},\n",
       "  'id': '7639363314',\n",
       "  'clientOrderId': 'x-R4BD3S82af0c8c024a44aa61725bd',\n",
       "  'timestamp': 1632407096330,\n",
       "  'datetime': '2021-09-23T14:24:56.330Z',\n",
       "  'lastTradeTimestamp': None,\n",
       "  'symbol': 'BTC/USDT',\n",
       "  'type': 'stop_loss_limit',\n",
       "  'timeInForce': 'GTC',\n",
       "  'postOnly': False,\n",
       "  'side': 'sell',\n",
       "  'price': 27550.0,\n",
       "  'stopPrice': 29000.0,\n",
       "  'amount': 0.001,\n",
       "  'cost': 0.0,\n",
       "  'average': None,\n",
       "  'filled': 0.0,\n",
       "  'remaining': 0.001,\n",
       "  'status': 'open',\n",
       "  'fee': None,\n",
       "  'trades': [],\n",
       "  'fees': []}]"
      ]
     },
     "metadata": {},
     "execution_count": 70
    }
   ],
   "metadata": {}
  },
  {
   "cell_type": "code",
   "execution_count": 15,
   "source": [
    "\n"
   ],
   "outputs": [],
   "metadata": {}
  },
  {
   "cell_type": "code",
   "execution_count": 20,
   "source": [
    "\n",
    "db.xqueue.insert_one({\n",
    "  \"description\": \"pktrade\",\n",
    "  \"status\": \"new\",\n",
    "  \"q\": [\n",
    "    {\n",
    "      \"qid\": 0,\n",
    "      \"symbol\": \"ALGO/USDT\",\n",
    "      \"status\": \"new\",\n",
    "      \"trigger\": \"ticker['ask'] < 1.87\",\n",
    "      \"exchange\": \"binance\",\n",
    "      \"method\": \"exchange.create_market_buy_order('ALGO/USDT', 50)\"\n",
    "    },\n",
    "    {\n",
    "      \"qid\": 1,\n",
    "      \"symbol\": \"ALGO/USDT\",\n",
    "      \"status\": \"new\",\n",
    "      \"trigger\": \"'done' == qx['q'][0]['status']\",\n",
    "      \"exchange\": \"binance\",\n",
    "      \"method\": \"exchange.create_order('BTC/USDT', 'STOP_LOSS_LIMIT', 'sell', 0.01, 20000, {'stopPrice': 25000})\"\n",
    "    }\n",
    "  ]\n",
    "})"
   ],
   "outputs": [
    {
     "output_type": "execute_result",
     "data": {
      "text/plain": [
       "<pymongo.results.InsertOneResult at 0x7fc63d9fccc0>"
      ]
     },
     "metadata": {},
     "execution_count": 20
    }
   ],
   "metadata": {}
  },
  {
   "cell_type": "code",
   "execution_count": 67,
   "source": [
    "def buyMarket__stoporderMarket(exchange, symbol, amount, triggerPrice, stopPrice):\n",
    "  db.xqueue.insert_one({\n",
    "    \"description\": \"pktrade\",\n",
    "    \"status\": \"new\",\n",
    "    \"q\": [\n",
    "      {\n",
    "        \"qid\": 0,\n",
    "        \"symbol\": symbol,\n",
    "        \"status\": \"new\",\n",
    "        \"trigger\": f\"ticker['ask'] < {triggerPrice}\",\n",
    "        \"exchange\": exchange,\n",
    "        \"method\": f\"exchange.create_market_buy_order('{symbol}', {amount})\"\n",
    "      },\n",
    "      {\n",
    "        \"qid\": 1,\n",
    "        \"symbol\": symbol,\n",
    "        \"status\": \"new\",\n",
    "        \"trigger\": \"'done' == qx['q'][0]['status']\",\n",
    "        \"exchange\": exchange,\n",
    "        \"method\": f\"exchange.create_order('{symbol}', 'STOP_LOSS_LIMIT', 'sell', {amount}, {stopPrice * 0.95}, {{'stopPrice': {stopPrice}}})\"\n",
    "      }\n",
    "    ]\n",
    "  })"
   ],
   "outputs": [],
   "metadata": {}
  },
  {
   "cell_type": "code",
   "execution_count": 68,
   "source": [
    "buyMarket__stoporderMarket('binance', 'BTC/USDT',  0.001, 45000, 29000)"
   ],
   "outputs": [],
   "metadata": {}
  },
  {
   "cell_type": "code",
   "execution_count": 71,
   "source": [
    "def cancelOrders(symbol):\n",
    "  for order in exchange.fetch_open_orders(symbol):\n",
    "    exchange.cancel_order(order['id'], symbol=order['symbol'])"
   ],
   "outputs": [],
   "metadata": {}
  },
  {
   "cell_type": "code",
   "execution_count": 76,
   "source": [
    "def sellMarket__priceAbove(exchange, symbol, amount, triggerPrice):\n",
    "  db.xqueue.insert_one({\n",
    "    \"description\": \"pktrade\",\n",
    "    \"status\": \"new\",\n",
    "    \"q\": [\n",
    "      {\n",
    "        \"qid\": 0,\n",
    "        \"symbol\": symbol,\n",
    "        \"status\": \"new\",\n",
    "        \"trigger\": f\"ticker['bid'] >= {triggerPrice}\",\n",
    "        \"exchange\": exchange,\n",
    "        \"method\": f\"cancelOrders('{exchange}', '{symbol}')\"\n",
    "      },\n",
    "      {\n",
    "        \"qid\": 1,\n",
    "        \"symbol\": symbol,\n",
    "        \"status\": \"new\",\n",
    "        \"trigger\": \"'done' == qx['q'][0]['status']\",\n",
    "        \"exchange\": exchange,\n",
    "        \"method\": f\"exchange.create_order('{symbol}', 'market', 'sell', {amount})\"\n",
    "      }\n",
    "    ]\n",
    "  })"
   ],
   "outputs": [],
   "metadata": {}
  },
  {
   "cell_type": "code",
   "execution_count": 78,
   "source": [
    "sellMarket__priceAbove('binance', 'BTC/USDT',  0.001, 44000)"
   ],
   "outputs": [],
   "metadata": {}
  },
  {
   "cell_type": "code",
   "execution_count": null,
   "source": [],
   "outputs": [],
   "metadata": {}
  }
 ],
 "metadata": {
  "orig_nbformat": 4,
  "language_info": {
   "name": "python",
   "version": "3.8.10",
   "mimetype": "text/x-python",
   "codemirror_mode": {
    "name": "ipython",
    "version": 3
   },
   "pygments_lexer": "ipython3",
   "nbconvert_exporter": "python",
   "file_extension": ".py"
  },
  "kernelspec": {
   "name": "python3",
   "display_name": "Python 3.8.10 64-bit ('py38': conda)"
  },
  "interpreter": {
   "hash": "9cd1802d11fdaa8b5e14fa01355949ba763388a191b1b5d281078f6b1e7bfc37"
  }
 },
 "nbformat": 4,
 "nbformat_minor": 2
}