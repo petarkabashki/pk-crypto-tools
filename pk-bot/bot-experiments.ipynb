{
 "cells": [
  {
   "cell_type": "code",
   "execution_count": 3,
   "source": [
    "import os\n",
    "import ccxt\n",
    "# import config\n",
    "import schedule\n",
    "import pandas as pd\n",
    "pd.set_option('display.max_rows', None)\n",
    "from datetime import datetime\n",
    "import time\n",
    "import pytz\n",
    "import json\n",
    "\n",
    "# import warnings\n",
    "# warnings.filterwarnings('ignore')\n",
    "import sys\n",
    "sys.path.insert(1, './strategy')\n",
    "from importlib import reload  "
   ],
   "outputs": [],
   "metadata": {}
  },
  {
   "cell_type": "code",
   "execution_count": 2,
   "source": [],
   "outputs": [],
   "metadata": {}
  },
  {
   "cell_type": "code",
   "execution_count": 8,
   "source": [
    "odf = pd.read_csv ('order-data/orders.csv', index_col='id', dtype={'id': 'string', 'orderId': 'string', 'strategy': 'string'})\n",
    "ondf = odf[odf.orderId.isnull()]\n",
    "# pd.isna(odf['orderId'])\n",
    "ondf"
   ],
   "outputs": [
    {
     "output_type": "execute_result",
     "data": {
      "text/plain": [
       "                  date_entered exchange      pair       strategy  \\\n",
       "id                                                                 \n",
       "10  2021-08-19 14:45:04.560470   kucoin  DOT/USDT  BuyLevelOrder   \n",
       "11  2021-08-19 14:45:05.560470  binance  BTC/USDT  BuyLevelOrder   \n",
       "2   2021-08-19 14:45:06.560470      ftx  DOT/USDT  BuyLevelOrder   \n",
       "\n",
       "                              order_params orderId  \n",
       "id                                                  \n",
       "10   {\"trigger_price\": 25.26, \"qty\": 0.02}    <NA>  \n",
       "11  {\"trigger_price\": 40000, \"qty\": 0.001}    <NA>  \n",
       "2       {\"trigger_price\": 25, \"qty\": 0.01}    <NA>  "
      ],
      "text/html": [
       "<div>\n",
       "<style scoped>\n",
       "    .dataframe tbody tr th:only-of-type {\n",
       "        vertical-align: middle;\n",
       "    }\n",
       "\n",
       "    .dataframe tbody tr th {\n",
       "        vertical-align: top;\n",
       "    }\n",
       "\n",
       "    .dataframe thead th {\n",
       "        text-align: right;\n",
       "    }\n",
       "</style>\n",
       "<table border=\"1\" class=\"dataframe\">\n",
       "  <thead>\n",
       "    <tr style=\"text-align: right;\">\n",
       "      <th></th>\n",
       "      <th>date_entered</th>\n",
       "      <th>exchange</th>\n",
       "      <th>pair</th>\n",
       "      <th>strategy</th>\n",
       "      <th>order_params</th>\n",
       "      <th>orderId</th>\n",
       "    </tr>\n",
       "    <tr>\n",
       "      <th>id</th>\n",
       "      <th></th>\n",
       "      <th></th>\n",
       "      <th></th>\n",
       "      <th></th>\n",
       "      <th></th>\n",
       "      <th></th>\n",
       "    </tr>\n",
       "  </thead>\n",
       "  <tbody>\n",
       "    <tr>\n",
       "      <th>10</th>\n",
       "      <td>2021-08-19 14:45:04.560470</td>\n",
       "      <td>kucoin</td>\n",
       "      <td>DOT/USDT</td>\n",
       "      <td>BuyLevelOrder</td>\n",
       "      <td>{\"trigger_price\": 25.26, \"qty\": 0.02}</td>\n",
       "      <td>&lt;NA&gt;</td>\n",
       "    </tr>\n",
       "    <tr>\n",
       "      <th>11</th>\n",
       "      <td>2021-08-19 14:45:05.560470</td>\n",
       "      <td>binance</td>\n",
       "      <td>BTC/USDT</td>\n",
       "      <td>BuyLevelOrder</td>\n",
       "      <td>{\"trigger_price\": 40000, \"qty\": 0.001}</td>\n",
       "      <td>&lt;NA&gt;</td>\n",
       "    </tr>\n",
       "    <tr>\n",
       "      <th>2</th>\n",
       "      <td>2021-08-19 14:45:06.560470</td>\n",
       "      <td>ftx</td>\n",
       "      <td>DOT/USDT</td>\n",
       "      <td>BuyLevelOrder</td>\n",
       "      <td>{\"trigger_price\": 25, \"qty\": 0.01}</td>\n",
       "      <td>&lt;NA&gt;</td>\n",
       "    </tr>\n",
       "  </tbody>\n",
       "</table>\n",
       "</div>"
      ]
     },
     "metadata": {},
     "execution_count": 8
    }
   ],
   "metadata": {}
  },
  {
   "cell_type": "code",
   "execution_count": 3,
   "source": [
    "odf = pd.read_csv ('order-data/orders.csv', index_col='id', dtype={'id': 'string', 'orderId': 'string'})\n",
    "ondf = odf[odf.status=='new']\n",
    "for index, orow in ondf.iterrows():\n",
    "    module = __import__(orow.strategy)\n",
    "    reload(module)"
   ],
   "outputs": [],
   "metadata": {}
  },
  {
   "cell_type": "code",
   "execution_count": 4,
   "source": [
    "exchanges = {}\n",
    "odf = ondf = xnodf = False\n",
    "def run_bot():\n",
    "    global odf, ondf, xnodf\n",
    "    global exchanges\n",
    "    config = {}\n",
    "    with open ('config.json') as js: \n",
    "        config = json.load(js)\n",
    "\n",
    "    for exkey, exconf in config['exchanges'].items():\n",
    "        if exconf['enabled'] and not exkey in exchanges:\n",
    "            excred = exconf['cred']\n",
    "            for crk, crv in excred.items():\n",
    "                if crv[0] == \"$\" : \n",
    "                    excred[crk] = os.getenv(crv[1:])\n",
    "\n",
    "            exchanges[exkey] = getattr(ccxt, exkey) (excred)\n",
    "    \n",
    "    print(f'{datetime.now()} Checking for new orders...')\n",
    "    odf = pd.read_csv ('order-data/orders.csv', index_col='id', dtype={'id': 'string', 'orderId': 'string'})\n",
    "    ondf = odf[odf.orderId.isnull()]\n",
    "\n",
    "    for exkey, exchange in exchanges.items():\n",
    "        xnodf = ondf[ondf.exchange == exkey]\n",
    "        symbols =  xnodf.symbol.unique()\n",
    "        tickers = exchange.fetchTickers (symbols)\n",
    "\n",
    "        for oind, orow in xnodf.iterrows():\n",
    "            ticker = tickers[orow.symbol]\n",
    "            orobj = eval(orow.order, {\"__builtins__\": {}}, {'ticker': ticker})\n",
    "            if orobj['trigger']:\n",
    "                # pass\n",
    "                print(f'{datetime.now()} Executing order {oind} ...')\n",
    "                pass\n",
    "                order = exchange.create_order(orow.symbol, orobj['type'], orobj['side'], orobj['amount'], orobj['price'], orobj['params'])\n",
    "                if order['id']:\n",
    "                    if orow.succ_order:\n",
    "                        succorobj = eval(orow.succ_order, {\"__builtins__\": {}}, {'ticker': ticker, 'order': order})\n",
    "                        succorder = exchange.create_order(orow.symbol, succorobj['type'], succorobj['side'], succorobj['amount'], succorobj['price'], succorobj['params'])\n",
    "                        # print(succorder)\n",
    "                        print(f'    Executing successive order ...')\n",
    "                    \n",
    "                odf.loc[oind, \"orderId\"] = order['id']\n",
    "                odf.to_csv('order-data/orders.csv', index=True)\n",
    "\n",
    "\n",
    "                \n",
    "\n",
    "            # module = __import__(orow.strategy)\n",
    "            # order_class = getattr(module, orow.strategy)\n",
    "    #     order_params = json.loads(orow.order_params)\n",
    "    #     order_instance = order_class(exchange, orow.pair, tickers[orow.pair], order_params)\n",
    "            # order = order_instance.execute({})\n",
    "    #     if order:\n",
    "    #         odf.loc[oind, \"orderId\"] = order['id']\n",
    "    #         odf.to_csv('order-data/orders.csv', index=True)\n",
    "\n",
    "\n",
    "# schedule.every(5).seconds.do(run_bot)\n",
    "# while True:\n",
    "#     schedule.run_pending()\n",
    "#     time.sleep(1)\n",
    "run_bot()\n"
   ],
   "outputs": [
    {
     "output_type": "stream",
     "name": "stdout",
     "text": [
      "2021-08-20 17:02:09.652225 Checking for new orders...\n",
      "2021-08-20 17:02:11.298231 Executing order 10 ...\n",
      "    Executing successive order ...\n"
     ]
    }
   ],
   "metadata": {}
  },
  {
   "cell_type": "code",
   "execution_count": 7,
   "source": [
    "xnodf"
   ],
   "outputs": [
    {
     "output_type": "execute_result",
     "data": {
      "text/plain": [
       "                  date_entered exchange    symbol       strategy  \\\n",
       "id                                                                 \n",
       "10  2021-08-19 14:45:04.560470   kucoin  DOT/USDT  BuyLevelOrder   \n",
       "\n",
       "                                                order  \\\n",
       "id                                                      \n",
       "10  {'trigger': ticker['ask'] <= 27, 'type': 'mark...   \n",
       "\n",
       "                                           succ_order orderId  \n",
       "id                                                             \n",
       "10  {'type': 'market', 'amount': order['amount'], ...    <NA>  "
      ],
      "text/html": [
       "<div>\n",
       "<style scoped>\n",
       "    .dataframe tbody tr th:only-of-type {\n",
       "        vertical-align: middle;\n",
       "    }\n",
       "\n",
       "    .dataframe tbody tr th {\n",
       "        vertical-align: top;\n",
       "    }\n",
       "\n",
       "    .dataframe thead th {\n",
       "        text-align: right;\n",
       "    }\n",
       "</style>\n",
       "<table border=\"1\" class=\"dataframe\">\n",
       "  <thead>\n",
       "    <tr style=\"text-align: right;\">\n",
       "      <th></th>\n",
       "      <th>date_entered</th>\n",
       "      <th>exchange</th>\n",
       "      <th>symbol</th>\n",
       "      <th>strategy</th>\n",
       "      <th>order</th>\n",
       "      <th>succ_order</th>\n",
       "      <th>orderId</th>\n",
       "    </tr>\n",
       "    <tr>\n",
       "      <th>id</th>\n",
       "      <th></th>\n",
       "      <th></th>\n",
       "      <th></th>\n",
       "      <th></th>\n",
       "      <th></th>\n",
       "      <th></th>\n",
       "      <th></th>\n",
       "    </tr>\n",
       "  </thead>\n",
       "  <tbody>\n",
       "    <tr>\n",
       "      <th>10</th>\n",
       "      <td>2021-08-19 14:45:04.560470</td>\n",
       "      <td>kucoin</td>\n",
       "      <td>DOT/USDT</td>\n",
       "      <td>BuyLevelOrder</td>\n",
       "      <td>{'trigger': ticker['ask'] &lt;= 27, 'type': 'mark...</td>\n",
       "      <td>{'type': 'market', 'amount': order['amount'], ...</td>\n",
       "      <td>&lt;NA&gt;</td>\n",
       "    </tr>\n",
       "  </tbody>\n",
       "</table>\n",
       "</div>"
      ]
     },
     "metadata": {},
     "execution_count": 7
    }
   ],
   "metadata": {}
  },
  {
   "cell_type": "code",
   "execution_count": 38,
   "source": [
    "orow = ondf.iloc[0]\n",
    "odf.index[odf.id == orow.id][0]"
   ],
   "outputs": [
    {
     "output_type": "execute_result",
     "data": {
      "text/plain": [
       "0"
      ]
     },
     "metadata": {},
     "execution_count": 38
    }
   ],
   "metadata": {}
  },
  {
   "cell_type": "code",
   "execution_count": 34,
   "source": [],
   "outputs": [
    {
     "output_type": "error",
     "ename": "AttributeError",
     "evalue": "'Series' object has no attribute 'id'",
     "traceback": [
      "\u001b[0;31m---------------------------------------------------------------------------\u001b[0m",
      "\u001b[0;31mAttributeError\u001b[0m                            Traceback (most recent call last)",
      "\u001b[0;32m<ipython-input-34-fbdc94993b56>\u001b[0m in \u001b[0;36m<module>\u001b[0;34m\u001b[0m\n\u001b[0;32m----> 1\u001b[0;31m \u001b[0morow\u001b[0m\u001b[0;34m.\u001b[0m\u001b[0mid\u001b[0m\u001b[0;34m\u001b[0m\u001b[0;34m\u001b[0m\u001b[0m\n\u001b[0m",
      "\u001b[0;32m~/opt/anaconda3/envs/py38/lib/python3.8/site-packages/pandas/core/generic.py\u001b[0m in \u001b[0;36m__getattr__\u001b[0;34m(self, name)\u001b[0m\n\u001b[1;32m   5476\u001b[0m         ):\n\u001b[1;32m   5477\u001b[0m             \u001b[0;32mreturn\u001b[0m \u001b[0mself\u001b[0m\u001b[0;34m[\u001b[0m\u001b[0mname\u001b[0m\u001b[0;34m]\u001b[0m\u001b[0;34m\u001b[0m\u001b[0;34m\u001b[0m\u001b[0m\n\u001b[0;32m-> 5478\u001b[0;31m         \u001b[0;32mreturn\u001b[0m \u001b[0mobject\u001b[0m\u001b[0;34m.\u001b[0m\u001b[0m__getattribute__\u001b[0m\u001b[0;34m(\u001b[0m\u001b[0mself\u001b[0m\u001b[0;34m,\u001b[0m \u001b[0mname\u001b[0m\u001b[0;34m)\u001b[0m\u001b[0;34m\u001b[0m\u001b[0;34m\u001b[0m\u001b[0m\n\u001b[0m\u001b[1;32m   5479\u001b[0m \u001b[0;34m\u001b[0m\u001b[0m\n\u001b[1;32m   5480\u001b[0m     \u001b[0;32mdef\u001b[0m \u001b[0m__setattr__\u001b[0m\u001b[0;34m(\u001b[0m\u001b[0mself\u001b[0m\u001b[0;34m,\u001b[0m \u001b[0mname\u001b[0m\u001b[0;34m:\u001b[0m \u001b[0mstr\u001b[0m\u001b[0;34m,\u001b[0m \u001b[0mvalue\u001b[0m\u001b[0;34m)\u001b[0m \u001b[0;34m->\u001b[0m \u001b[0;32mNone\u001b[0m\u001b[0;34m:\u001b[0m\u001b[0;34m\u001b[0m\u001b[0;34m\u001b[0m\u001b[0m\n",
      "\u001b[0;31mAttributeError\u001b[0m: 'Series' object has no attribute 'id'"
     ]
    }
   ],
   "metadata": {}
  },
  {
   "cell_type": "code",
   "execution_count": null,
   "source": [
    "\n",
    "\n"
   ],
   "outputs": [],
   "metadata": {}
  },
  {
   "cell_type": "code",
   "execution_count": 11,
   "source": [
    "order_instance.execute()"
   ],
   "outputs": [
    {
     "output_type": "stream",
     "name": "stdout",
     "text": [
      "order params: {'trigger_price': 25, 'qty': 0.01}\n"
     ]
    }
   ],
   "metadata": {}
  },
  {
   "cell_type": "code",
   "execution_count": 17,
   "source": [
    "ondf"
   ],
   "outputs": [
    {
     "output_type": "execute_result",
     "data": {
      "text/plain": [
       "                           exchange      pair status       strategy  \\\n",
       "date                                                                  \n",
       "2021-08-19 14:45:04.560470   KUCOIN  DOT/USDT    new  BuyLevelOrder   \n",
       "2021-08-19 14:45:04.560470   KUCOIN  BTC/USDT    new  BuyLevelOrder   \n",
       "\n",
       "                                                      order_params  \n",
       "date                                                                \n",
       "2021-08-19 14:45:04.560470      {\"trigger_price\": 25, \"qty\": 0.01}  \n",
       "2021-08-19 14:45:04.560470  {\"trigger_price\": 40000, \"qty\": 0.001}  "
      ],
      "text/html": [
       "<div>\n",
       "<style scoped>\n",
       "    .dataframe tbody tr th:only-of-type {\n",
       "        vertical-align: middle;\n",
       "    }\n",
       "\n",
       "    .dataframe tbody tr th {\n",
       "        vertical-align: top;\n",
       "    }\n",
       "\n",
       "    .dataframe thead th {\n",
       "        text-align: right;\n",
       "    }\n",
       "</style>\n",
       "<table border=\"1\" class=\"dataframe\">\n",
       "  <thead>\n",
       "    <tr style=\"text-align: right;\">\n",
       "      <th></th>\n",
       "      <th>exchange</th>\n",
       "      <th>pair</th>\n",
       "      <th>status</th>\n",
       "      <th>strategy</th>\n",
       "      <th>order_params</th>\n",
       "    </tr>\n",
       "    <tr>\n",
       "      <th>date</th>\n",
       "      <th></th>\n",
       "      <th></th>\n",
       "      <th></th>\n",
       "      <th></th>\n",
       "      <th></th>\n",
       "    </tr>\n",
       "  </thead>\n",
       "  <tbody>\n",
       "    <tr>\n",
       "      <th>2021-08-19 14:45:04.560470</th>\n",
       "      <td>KUCOIN</td>\n",
       "      <td>DOT/USDT</td>\n",
       "      <td>new</td>\n",
       "      <td>BuyLevelOrder</td>\n",
       "      <td>{\"trigger_price\": 25, \"qty\": 0.01}</td>\n",
       "    </tr>\n",
       "    <tr>\n",
       "      <th>2021-08-19 14:45:04.560470</th>\n",
       "      <td>KUCOIN</td>\n",
       "      <td>BTC/USDT</td>\n",
       "      <td>new</td>\n",
       "      <td>BuyLevelOrder</td>\n",
       "      <td>{\"trigger_price\": 40000, \"qty\": 0.001}</td>\n",
       "    </tr>\n",
       "  </tbody>\n",
       "</table>\n",
       "</div>"
      ]
     },
     "metadata": {},
     "execution_count": 17
    }
   ],
   "metadata": {}
  },
  {
   "cell_type": "code",
   "execution_count": null,
   "source": [],
   "outputs": [],
   "metadata": {}
  },
  {
   "cell_type": "code",
   "execution_count": null,
   "source": [],
   "outputs": [],
   "metadata": {}
  },
  {
   "cell_type": "code",
   "execution_count": null,
   "source": [],
   "outputs": [],
   "metadata": {}
  },
  {
   "cell_type": "code",
   "execution_count": 44,
   "source": [
    "odf"
   ],
   "outputs": [
    {
     "output_type": "execute_result",
     "data": {
      "text/plain": [
       "                           exchange      pair status  strategy params\n",
       "date                                                                 \n",
       "2021-08-19 14:45:04.560470   KUCOIN  DOT/USDT    new  BuyLevel     {}"
      ],
      "text/html": [
       "<div>\n",
       "<style scoped>\n",
       "    .dataframe tbody tr th:only-of-type {\n",
       "        vertical-align: middle;\n",
       "    }\n",
       "\n",
       "    .dataframe tbody tr th {\n",
       "        vertical-align: top;\n",
       "    }\n",
       "\n",
       "    .dataframe thead th {\n",
       "        text-align: right;\n",
       "    }\n",
       "</style>\n",
       "<table border=\"1\" class=\"dataframe\">\n",
       "  <thead>\n",
       "    <tr style=\"text-align: right;\">\n",
       "      <th></th>\n",
       "      <th>exchange</th>\n",
       "      <th>pair</th>\n",
       "      <th>status</th>\n",
       "      <th>strategy</th>\n",
       "      <th>params</th>\n",
       "    </tr>\n",
       "    <tr>\n",
       "      <th>date</th>\n",
       "      <th></th>\n",
       "      <th></th>\n",
       "      <th></th>\n",
       "      <th></th>\n",
       "      <th></th>\n",
       "    </tr>\n",
       "  </thead>\n",
       "  <tbody>\n",
       "    <tr>\n",
       "      <th>2021-08-19 14:45:04.560470</th>\n",
       "      <td>KUCOIN</td>\n",
       "      <td>DOT/USDT</td>\n",
       "      <td>new</td>\n",
       "      <td>BuyLevel</td>\n",
       "      <td>{}</td>\n",
       "    </tr>\n",
       "  </tbody>\n",
       "</table>\n",
       "</div>"
      ]
     },
     "metadata": {},
     "execution_count": 44
    }
   ],
   "metadata": {}
  },
  {
   "cell_type": "code",
   "execution_count": 20,
   "source": [
    "time.localtime()"
   ],
   "outputs": [
    {
     "output_type": "execute_result",
     "data": {
      "text/plain": [
       "time.struct_time(tm_year=2021, tm_mon=8, tm_mday=19, tm_hour=14, tm_min=42, tm_sec=3, tm_wday=3, tm_yday=231, tm_isdst=1)"
      ]
     },
     "metadata": {},
     "execution_count": 20
    }
   ],
   "metadata": {}
  },
  {
   "cell_type": "code",
   "execution_count": null,
   "source": [],
   "outputs": [],
   "metadata": {}
  }
 ],
 "metadata": {
  "orig_nbformat": 4,
  "language_info": {
   "name": "python",
   "version": "3.8.10",
   "mimetype": "text/x-python",
   "codemirror_mode": {
    "name": "ipython",
    "version": 3
   },
   "pygments_lexer": "ipython3",
   "nbconvert_exporter": "python",
   "file_extension": ".py"
  },
  "kernelspec": {
   "name": "python3",
   "display_name": "Python 3.8.10 64-bit ('py38': conda)"
  },
  "interpreter": {
   "hash": "9cd1802d11fdaa8b5e14fa01355949ba763388a191b1b5d281078f6b1e7bfc37"
  }
 },
 "nbformat": 4,
 "nbformat_minor": 2
}