{
 "cells": [
  {
   "cell_type": "code",
   "execution_count": 1,
   "source": [
    "\n",
    "import ccxt\n",
    "import config\n",
    "import schedule\n",
    "import pandas as pd\n",
    "pd.set_option('display.max_rows', None)\n",
    "from datetime import datetime\n",
    "import time\n",
    "import pytz\n",
    "import json\n",
    "\n",
    "# import warnings\n",
    "# warnings.filterwarnings('ignore')\n",
    "import sys\n",
    "sys.path.insert(1, './strategy')\n",
    "from importlib import reload  "
   ],
   "outputs": [],
   "metadata": {}
  },
  {
   "cell_type": "code",
   "execution_count": 2,
   "source": [
    "\n"
   ],
   "outputs": [],
   "metadata": {}
  },
  {
   "cell_type": "code",
   "execution_count": 5,
   "source": [],
   "outputs": [],
   "metadata": {}
  },
  {
   "cell_type": "code",
   "execution_count": 2,
   "source": [
    "exchange = ccxt.kucoin({\n",
    "    \"apiKey\": config.KUCOIN_API_KEY,\n",
    "    \"secret\": config.KUCOIN_SECRET_KEY,\n",
    "    \"password\": config.KUCOIN_API_PASSPHRASE\n",
    "})"
   ],
   "outputs": [],
   "metadata": {}
  },
  {
   "cell_type": "code",
   "execution_count": 10,
   "source": [
    "symbol = 'DOT/USDT'\n",
    "# type = 'limit'  # or 'market', other types aren't unified yet\n",
    "type = 'limit'\n",
    "side = 'sell'\n",
    "amount = 0.1  # your amount\n",
    "price = 21.99  # your price\n",
    "# overrides\n",
    "params = {\n",
    "    'stopPrice': 22.0,  # your stop price\n",
    "    # 'type': 'stop',\n",
    "    'stop': 'loss'\n",
    "}\n",
    "order = exchange.create_order(symbol, type, side, amount, price, params)\n",
    "order"
   ],
   "outputs": [
    {
     "output_type": "execute_result",
     "data": {
      "text/plain": [
       "{'id': 'vs8f2o8us67chiue003bak53',\n",
       " 'clientOrderId': '2e99abe8-103c-4a81-bbb6-80c45b8b09e1',\n",
       " 'info': {'orderId': 'vs8f2o8us67chiue003bak53'},\n",
       " 'timestamp': 1629413774968,\n",
       " 'datetime': '2021-08-19T22:56:14.968Z',\n",
       " 'lastTradeTimestamp': None,\n",
       " 'symbol': 'DOT/USDT',\n",
       " 'type': 'market',\n",
       " 'side': 'sell',\n",
       " 'price': 21.99,\n",
       " 'amount': 0.1,\n",
       " 'cost': None,\n",
       " 'average': None,\n",
       " 'filled': None,\n",
       " 'remaining': None,\n",
       " 'status': None,\n",
       " 'fee': None,\n",
       " 'trades': None}"
      ]
     },
     "metadata": {},
     "execution_count": 10
    }
   ],
   "metadata": {}
  },
  {
   "cell_type": "code",
   "execution_count": 3,
   "source": [
    "order = exchange.create_market_sell_order('DOT/USDT', 0.01)"
   ],
   "outputs": [],
   "metadata": {}
  },
  {
   "cell_type": "code",
   "execution_count": 4,
   "source": [
    "order"
   ],
   "outputs": [
    {
     "output_type": "execute_result",
     "data": {
      "text/plain": [
       "{'id': '611e84a785ce7500066a4378',\n",
       " 'clientOrderId': 'fe8178cb-22dd-4afd-895c-0024f5adda13',\n",
       " 'info': {'orderId': '611e84a785ce7500066a4378'},\n",
       " 'timestamp': 1629389991218,\n",
       " 'datetime': '2021-08-19T16:19:51.218Z',\n",
       " 'lastTradeTimestamp': None,\n",
       " 'symbol': 'DOT/USDT',\n",
       " 'type': 'market',\n",
       " 'side': 'sell',\n",
       " 'price': None,\n",
       " 'amount': 0.01,\n",
       " 'cost': None,\n",
       " 'average': None,\n",
       " 'filled': None,\n",
       " 'remaining': None,\n",
       " 'status': None,\n",
       " 'fee': None,\n",
       " 'trades': None}"
      ]
     },
     "metadata": {},
     "execution_count": 4
    }
   ],
   "metadata": {}
  },
  {
   "cell_type": "code",
   "execution_count": 41,
   "source": [
    "odf = pd.read_csv ('order-data/orders.csv', index_col='id', dtype={'id': 'string', 'orderId': 'string', 'strategy': 'string'})\n",
    "ondf = odf[odf.orderId.isnull()]\n",
    "# pd.isna(odf['orderId'])\n",
    "ondf"
   ],
   "outputs": [
    {
     "output_type": "execute_result",
     "data": {
      "text/plain": [
       "Empty DataFrame\n",
       "Columns: [date_entered, exchange, pair, strategy, order_params, orderId]\n",
       "Index: []"
      ],
      "text/html": [
       "<div>\n",
       "<style scoped>\n",
       "    .dataframe tbody tr th:only-of-type {\n",
       "        vertical-align: middle;\n",
       "    }\n",
       "\n",
       "    .dataframe tbody tr th {\n",
       "        vertical-align: top;\n",
       "    }\n",
       "\n",
       "    .dataframe thead th {\n",
       "        text-align: right;\n",
       "    }\n",
       "</style>\n",
       "<table border=\"1\" class=\"dataframe\">\n",
       "  <thead>\n",
       "    <tr style=\"text-align: right;\">\n",
       "      <th></th>\n",
       "      <th>date_entered</th>\n",
       "      <th>exchange</th>\n",
       "      <th>pair</th>\n",
       "      <th>strategy</th>\n",
       "      <th>order_params</th>\n",
       "      <th>orderId</th>\n",
       "    </tr>\n",
       "    <tr>\n",
       "      <th>id</th>\n",
       "      <th></th>\n",
       "      <th></th>\n",
       "      <th></th>\n",
       "      <th></th>\n",
       "      <th></th>\n",
       "      <th></th>\n",
       "    </tr>\n",
       "  </thead>\n",
       "  <tbody>\n",
       "  </tbody>\n",
       "</table>\n",
       "</div>"
      ]
     },
     "metadata": {},
     "execution_count": 41
    }
   ],
   "metadata": {}
  },
  {
   "cell_type": "code",
   "execution_count": 37,
   "source": [
    "odf\n"
   ],
   "outputs": [
    {
     "output_type": "execute_result",
     "data": {
      "text/plain": [
       "                  date_entered exchange      pair         status  \\\n",
       "id                                                                 \n",
       "10  2021-08-19 14:45:04.560470   KUCOIN  DOT/USDT  BuyLevelOrder   \n",
       "11  2021-08-19 14:45:05.560470   KUCOIN  BTC/USDT  BuyLevelOrder   \n",
       "2   2021-08-19 14:45:06.560470   KUCOIN  DOT/USDT  BuyLevelOrder   \n",
       "3   2021-08-19 14:45:07.560470   KUCOIN  BTC/USDT  BuyLevelOrder   \n",
       "\n",
       "                                  strategy              order_params orderId  \n",
       "id                                                                            \n",
       "10   {\"trigger_price\": 25.50, \"qty\": 0.01}  611e86cc2b17a90006105932    <NA>  \n",
       "11  {\"trigger_price\": 40000, \"qty\": 0.001}                       NaN    <NA>  \n",
       "2       {\"trigger_price\": 25, \"qty\": 0.01}                       NaN    <NA>  \n",
       "3   {\"trigger_price\": 40000, \"qty\": 0.001}                       NaN    <NA>  "
      ],
      "text/html": [
       "<div>\n",
       "<style scoped>\n",
       "    .dataframe tbody tr th:only-of-type {\n",
       "        vertical-align: middle;\n",
       "    }\n",
       "\n",
       "    .dataframe tbody tr th {\n",
       "        vertical-align: top;\n",
       "    }\n",
       "\n",
       "    .dataframe thead th {\n",
       "        text-align: right;\n",
       "    }\n",
       "</style>\n",
       "<table border=\"1\" class=\"dataframe\">\n",
       "  <thead>\n",
       "    <tr style=\"text-align: right;\">\n",
       "      <th></th>\n",
       "      <th>date_entered</th>\n",
       "      <th>exchange</th>\n",
       "      <th>pair</th>\n",
       "      <th>status</th>\n",
       "      <th>strategy</th>\n",
       "      <th>order_params</th>\n",
       "      <th>orderId</th>\n",
       "    </tr>\n",
       "    <tr>\n",
       "      <th>id</th>\n",
       "      <th></th>\n",
       "      <th></th>\n",
       "      <th></th>\n",
       "      <th></th>\n",
       "      <th></th>\n",
       "      <th></th>\n",
       "      <th></th>\n",
       "    </tr>\n",
       "  </thead>\n",
       "  <tbody>\n",
       "    <tr>\n",
       "      <th>10</th>\n",
       "      <td>2021-08-19 14:45:04.560470</td>\n",
       "      <td>KUCOIN</td>\n",
       "      <td>DOT/USDT</td>\n",
       "      <td>BuyLevelOrder</td>\n",
       "      <td>{\"trigger_price\": 25.50, \"qty\": 0.01}</td>\n",
       "      <td>611e86cc2b17a90006105932</td>\n",
       "      <td>&lt;NA&gt;</td>\n",
       "    </tr>\n",
       "    <tr>\n",
       "      <th>11</th>\n",
       "      <td>2021-08-19 14:45:05.560470</td>\n",
       "      <td>KUCOIN</td>\n",
       "      <td>BTC/USDT</td>\n",
       "      <td>BuyLevelOrder</td>\n",
       "      <td>{\"trigger_price\": 40000, \"qty\": 0.001}</td>\n",
       "      <td>NaN</td>\n",
       "      <td>&lt;NA&gt;</td>\n",
       "    </tr>\n",
       "    <tr>\n",
       "      <th>2</th>\n",
       "      <td>2021-08-19 14:45:06.560470</td>\n",
       "      <td>KUCOIN</td>\n",
       "      <td>DOT/USDT</td>\n",
       "      <td>BuyLevelOrder</td>\n",
       "      <td>{\"trigger_price\": 25, \"qty\": 0.01}</td>\n",
       "      <td>NaN</td>\n",
       "      <td>&lt;NA&gt;</td>\n",
       "    </tr>\n",
       "    <tr>\n",
       "      <th>3</th>\n",
       "      <td>2021-08-19 14:45:07.560470</td>\n",
       "      <td>KUCOIN</td>\n",
       "      <td>BTC/USDT</td>\n",
       "      <td>BuyLevelOrder</td>\n",
       "      <td>{\"trigger_price\": 40000, \"qty\": 0.001}</td>\n",
       "      <td>NaN</td>\n",
       "      <td>&lt;NA&gt;</td>\n",
       "    </tr>\n",
       "  </tbody>\n",
       "</table>\n",
       "</div>"
      ]
     },
     "metadata": {},
     "execution_count": 37
    }
   ],
   "metadata": {}
  },
  {
   "cell_type": "code",
   "execution_count": 3,
   "source": [
    "odf = pd.read_csv ('order-data/orders.csv', index_col='id', dtype={'id': 'string', 'orderId': 'string'})\n",
    "ondf = odf[odf.status=='new']\n",
    "for index, orow in ondf.iterrows():\n",
    "    module = __import__(orow.strategy)\n",
    "    reload(module)"
   ],
   "outputs": [],
   "metadata": {}
  },
  {
   "cell_type": "code",
   "execution_count": 4,
   "source": [
    "\n",
    "def run_bot():\n",
    "    print(f'{datetime.now()} Checking for new orders...')\n",
    "    odf = pd.read_csv ('order-data/orders.csv', index_col='id', dtype={'id': 'string', 'orderId': 'string'})\n",
    "    ondf = odf[odf.orderId.isnull()]\n",
    "    pairs = ondf.pair.values\n",
    "    tickers = exchange.fetchTickers (pairs)\n",
    "\n",
    "    for oind, orow in ondf.iterrows():\n",
    "        # print(\"index\", index)\n",
    "        module = __import__(orow.strategy)\n",
    "        order_class = getattr(module, orow.strategy)\n",
    "        order_params = json.loads(orow.order_params)\n",
    "        order_instance = order_class(exchange, orow.pair, tickers[orow.pair], order_params)\n",
    "        order = order_instance.execute()\n",
    "        if order:\n",
    "            odf.loc[oind, \"orderId\"] = order['id']\n",
    "            odf.to_csv('order-data/orders.csv', index=True)\n",
    "    # odf\n",
    "\n",
    "\n",
    "schedule.every(10).seconds.do(run_bot)\n",
    "\n",
    "\n",
    "while True:\n",
    "    schedule.run_pending()\n",
    "    time.sleep(1)"
   ],
   "outputs": [
    {
     "output_type": "stream",
     "name": "stdout",
     "text": [
      "2021-08-19 17:53:19.126421 Checking for new orders...\n",
      "2021-08-19 17:53:24.469401 Checking for new orders...\n",
      "2021-08-19 17:53:29.785632 Checking for new orders...\n",
      "2021-08-19 17:53:30.091620 Checking for new orders...\n",
      "2021-08-19 17:53:35.708445 Checking for new orders...\n",
      "2021-08-19 17:53:41.050638 Checking for new orders...\n",
      "2021-08-19 17:53:41.614368 Checking for new orders...\n",
      "2021-08-19 17:53:46.933644 Checking for new orders...\n",
      "2021-08-19 17:53:52.303245 Checking for new orders...\n",
      "BuyLevelOrder triggered for pair DOT/USDT with order_params {\"trigger_price\": 25.26, \"qty\": 0.02}\n",
      "2021-08-19 17:53:53.393274 Checking for new orders...\n",
      "2021-08-19 17:53:58.720870 Checking for new orders...\n",
      "2021-08-19 17:54:03.434074 Checking for new orders...\n",
      "2021-08-19 17:54:04.774204 Checking for new orders...\n",
      "2021-08-19 17:54:10.097959 Checking for new orders...\n",
      "2021-08-19 17:54:14.474295 Checking for new orders...\n",
      "2021-08-19 17:54:15.792452 Checking for new orders...\n",
      "2021-08-19 17:54:21.129264 Checking for new orders...\n",
      "2021-08-19 17:54:25.452936 Checking for new orders...\n",
      "2021-08-19 17:54:26.770149 Checking for new orders...\n",
      "2021-08-19 17:54:32.099633 Checking for new orders...\n",
      "2021-08-19 17:54:36.493718 Checking for new orders...\n",
      "2021-08-19 17:54:37.796595 Checking for new orders...\n",
      "2021-08-19 17:54:43.150775 Checking for new orders...\n",
      "2021-08-19 17:54:47.476849 Checking for new orders...\n",
      "2021-08-19 17:54:48.786560 Checking for new orders...\n",
      "2021-08-19 17:54:54.096079 Checking for new orders...\n",
      "2021-08-19 17:54:58.420931 Checking for new orders...\n",
      "2021-08-19 17:54:59.962192 Checking for new orders...\n",
      "2021-08-19 17:55:05.567987 Checking for new orders...\n",
      "2021-08-19 17:55:09.901243 Checking for new orders...\n",
      "2021-08-19 17:55:11.215939 Checking for new orders...\n",
      "2021-08-19 17:55:16.545577 Checking for new orders...\n",
      "2021-08-19 17:55:20.867883 Checking for new orders...\n",
      "2021-08-19 17:55:22.172177 Checking for new orders...\n",
      "2021-08-19 17:55:27.505647 Checking for new orders...\n",
      "2021-08-19 17:55:31.945487 Checking for new orders...\n",
      "2021-08-19 17:55:33.247801 Checking for new orders...\n",
      "2021-08-19 17:55:38.575440 Checking for new orders...\n",
      "2021-08-19 17:55:42.887333 Checking for new orders...\n",
      "2021-08-19 17:55:45.605205 Checking for new orders...\n",
      "2021-08-19 17:55:50.994289 Checking for new orders...\n",
      "2021-08-19 17:55:55.544034 Checking for new orders...\n",
      "2021-08-19 17:55:56.890428 Checking for new orders...\n",
      "2021-08-19 17:56:02.280288 Checking for new orders...\n",
      "2021-08-19 17:56:06.621937 Checking for new orders...\n",
      "2021-08-19 17:56:08.619421 Checking for new orders...\n",
      "2021-08-19 17:56:13.937715 Checking for new orders...\n",
      "2021-08-19 17:56:17.785561 Checking for new orders...\n",
      "2021-08-19 17:56:21.085098 Checking for new orders...\n",
      "2021-08-19 17:56:26.396038 Checking for new orders...\n",
      "2021-08-19 17:56:28.883734 Checking for new orders...\n",
      "2021-08-19 17:56:32.197606 Checking for new orders...\n",
      "2021-08-19 17:56:37.550470 Checking for new orders...\n",
      "2021-08-19 17:56:39.394670 Checking for new orders...\n",
      "2021-08-19 17:56:43.751093 Checking for new orders...\n",
      "2021-08-19 17:56:49.078605 Checking for new orders...\n",
      "2021-08-19 17:56:52.342721 Checking for new orders...\n",
      "2021-08-19 17:56:56.682663 Checking for new orders...\n",
      "2021-08-19 17:57:02.112473 Checking for new orders...\n",
      "2021-08-19 17:57:04.038285 Checking for new orders...\n",
      "2021-08-19 17:57:08.365914 Checking for new orders...\n",
      "2021-08-19 17:57:13.750404 Checking for new orders...\n",
      "2021-08-19 17:57:16.103841 Checking for new orders...\n",
      "2021-08-19 17:57:19.108005 Checking for new orders...\n",
      "2021-08-19 17:57:24.449591 Checking for new orders...\n",
      "2021-08-19 17:57:27.971323 Checking for new orders...\n",
      "2021-08-19 17:57:30.351387 Checking for new orders...\n",
      "2021-08-19 17:57:35.719662 Checking for new orders...\n",
      "2021-08-19 17:57:39.095884 Checking for new orders...\n",
      "2021-08-19 17:57:41.657335 Checking for new orders...\n",
      "2021-08-19 17:57:47.045412 Checking for new orders...\n",
      "2021-08-19 17:57:50.371133 Checking for new orders...\n",
      "2021-08-19 17:57:52.681777 Checking for new orders...\n",
      "2021-08-19 17:57:59.274761 Checking for new orders...\n",
      "2021-08-19 17:58:00.816052 Checking for new orders...\n",
      "2021-08-19 17:58:05.197516 Checking for new orders...\n",
      "2021-08-19 17:58:10.573383 Checking for new orders...\n",
      "2021-08-19 17:58:11.876624 Checking for new orders...\n",
      "2021-08-19 17:58:16.227373 Checking for new orders...\n",
      "2021-08-19 17:58:21.572665 Checking for new orders...\n",
      "2021-08-19 17:58:23.001434 Checking for new orders...\n",
      "2021-08-19 17:58:27.305806 Checking for new orders...\n",
      "2021-08-19 17:58:32.717095 Checking for new orders...\n",
      "2021-08-19 17:58:34.042020 Checking for new orders...\n",
      "2021-08-19 17:58:38.392512 Checking for new orders...\n",
      "2021-08-19 17:58:43.719036 Checking for new orders...\n",
      "2021-08-19 17:58:45.834462 Checking for new orders...\n",
      "2021-08-19 17:58:50.172388 Checking for new orders...\n",
      "2021-08-19 17:58:55.505095 Checking for new orders...\n",
      "2021-08-19 17:58:56.961630 Checking for new orders...\n",
      "2021-08-19 17:59:01.308589 Checking for new orders...\n",
      "2021-08-19 17:59:06.639655 Checking for new orders...\n",
      "2021-08-19 17:59:08.241024 Checking for new orders...\n",
      "2021-08-19 17:59:12.841885 Checking for new orders...\n"
     ]
    },
    {
     "output_type": "error",
     "ename": "KeyboardInterrupt",
     "evalue": "",
     "traceback": [
      "\u001b[0;31m---------------------------------------------------------------------------\u001b[0m",
      "\u001b[0;31mKeyboardInterrupt\u001b[0m                         Traceback (most recent call last)",
      "\u001b[0;32m<ipython-input-4-a4e0a72cfb3d>\u001b[0m in \u001b[0;36m<module>\u001b[0;34m\u001b[0m\n\u001b[1;32m     24\u001b[0m \u001b[0;32mwhile\u001b[0m \u001b[0;32mTrue\u001b[0m\u001b[0;34m:\u001b[0m\u001b[0;34m\u001b[0m\u001b[0;34m\u001b[0m\u001b[0m\n\u001b[1;32m     25\u001b[0m     \u001b[0mschedule\u001b[0m\u001b[0;34m.\u001b[0m\u001b[0mrun_pending\u001b[0m\u001b[0;34m(\u001b[0m\u001b[0;34m)\u001b[0m\u001b[0;34m\u001b[0m\u001b[0;34m\u001b[0m\u001b[0m\n\u001b[0;32m---> 26\u001b[0;31m     \u001b[0mtime\u001b[0m\u001b[0;34m.\u001b[0m\u001b[0msleep\u001b[0m\u001b[0;34m(\u001b[0m\u001b[0;36m1\u001b[0m\u001b[0;34m)\u001b[0m\u001b[0;34m\u001b[0m\u001b[0;34m\u001b[0m\u001b[0m\n\u001b[0m",
      "\u001b[0;31mKeyboardInterrupt\u001b[0m: "
     ]
    }
   ],
   "metadata": {}
  },
  {
   "cell_type": "code",
   "execution_count": 7,
   "source": [
    "run_bot()"
   ],
   "outputs": [
    {
     "output_type": "stream",
     "name": "stdout",
     "text": [
      "index 2021-08-19 14:45:04.560470\n",
      "index 2021-08-19 14:45:04.560470\n"
     ]
    }
   ],
   "metadata": {}
  },
  {
   "cell_type": "code",
   "execution_count": 38,
   "source": [
    "orow = ondf.iloc[0]\n",
    "odf.index[odf.id == orow.id][0]"
   ],
   "outputs": [
    {
     "output_type": "execute_result",
     "data": {
      "text/plain": [
       "0"
      ]
     },
     "metadata": {},
     "execution_count": 38
    }
   ],
   "metadata": {}
  },
  {
   "cell_type": "code",
   "execution_count": 34,
   "source": [],
   "outputs": [
    {
     "output_type": "error",
     "ename": "AttributeError",
     "evalue": "'Series' object has no attribute 'id'",
     "traceback": [
      "\u001b[0;31m---------------------------------------------------------------------------\u001b[0m",
      "\u001b[0;31mAttributeError\u001b[0m                            Traceback (most recent call last)",
      "\u001b[0;32m<ipython-input-34-fbdc94993b56>\u001b[0m in \u001b[0;36m<module>\u001b[0;34m\u001b[0m\n\u001b[0;32m----> 1\u001b[0;31m \u001b[0morow\u001b[0m\u001b[0;34m.\u001b[0m\u001b[0mid\u001b[0m\u001b[0;34m\u001b[0m\u001b[0;34m\u001b[0m\u001b[0m\n\u001b[0m",
      "\u001b[0;32m~/opt/anaconda3/envs/py38/lib/python3.8/site-packages/pandas/core/generic.py\u001b[0m in \u001b[0;36m__getattr__\u001b[0;34m(self, name)\u001b[0m\n\u001b[1;32m   5476\u001b[0m         ):\n\u001b[1;32m   5477\u001b[0m             \u001b[0;32mreturn\u001b[0m \u001b[0mself\u001b[0m\u001b[0;34m[\u001b[0m\u001b[0mname\u001b[0m\u001b[0;34m]\u001b[0m\u001b[0;34m\u001b[0m\u001b[0;34m\u001b[0m\u001b[0m\n\u001b[0;32m-> 5478\u001b[0;31m         \u001b[0;32mreturn\u001b[0m \u001b[0mobject\u001b[0m\u001b[0;34m.\u001b[0m\u001b[0m__getattribute__\u001b[0m\u001b[0;34m(\u001b[0m\u001b[0mself\u001b[0m\u001b[0;34m,\u001b[0m \u001b[0mname\u001b[0m\u001b[0;34m)\u001b[0m\u001b[0;34m\u001b[0m\u001b[0;34m\u001b[0m\u001b[0m\n\u001b[0m\u001b[1;32m   5479\u001b[0m \u001b[0;34m\u001b[0m\u001b[0m\n\u001b[1;32m   5480\u001b[0m     \u001b[0;32mdef\u001b[0m \u001b[0m__setattr__\u001b[0m\u001b[0;34m(\u001b[0m\u001b[0mself\u001b[0m\u001b[0;34m,\u001b[0m \u001b[0mname\u001b[0m\u001b[0;34m:\u001b[0m \u001b[0mstr\u001b[0m\u001b[0;34m,\u001b[0m \u001b[0mvalue\u001b[0m\u001b[0;34m)\u001b[0m \u001b[0;34m->\u001b[0m \u001b[0;32mNone\u001b[0m\u001b[0;34m:\u001b[0m\u001b[0;34m\u001b[0m\u001b[0;34m\u001b[0m\u001b[0m\n",
      "\u001b[0;31mAttributeError\u001b[0m: 'Series' object has no attribute 'id'"
     ]
    }
   ],
   "metadata": {}
  },
  {
   "cell_type": "code",
   "execution_count": null,
   "source": [
    "\n",
    "\n"
   ],
   "outputs": [],
   "metadata": {}
  },
  {
   "cell_type": "code",
   "execution_count": 11,
   "source": [
    "order_instance.execute()"
   ],
   "outputs": [
    {
     "output_type": "stream",
     "name": "stdout",
     "text": [
      "order params: {'trigger_price': 25, 'qty': 0.01}\n"
     ]
    }
   ],
   "metadata": {}
  },
  {
   "cell_type": "code",
   "execution_count": 17,
   "source": [
    "ondf"
   ],
   "outputs": [
    {
     "output_type": "execute_result",
     "data": {
      "text/plain": [
       "                           exchange      pair status       strategy  \\\n",
       "date                                                                  \n",
       "2021-08-19 14:45:04.560470   KUCOIN  DOT/USDT    new  BuyLevelOrder   \n",
       "2021-08-19 14:45:04.560470   KUCOIN  BTC/USDT    new  BuyLevelOrder   \n",
       "\n",
       "                                                      order_params  \n",
       "date                                                                \n",
       "2021-08-19 14:45:04.560470      {\"trigger_price\": 25, \"qty\": 0.01}  \n",
       "2021-08-19 14:45:04.560470  {\"trigger_price\": 40000, \"qty\": 0.001}  "
      ],
      "text/html": [
       "<div>\n",
       "<style scoped>\n",
       "    .dataframe tbody tr th:only-of-type {\n",
       "        vertical-align: middle;\n",
       "    }\n",
       "\n",
       "    .dataframe tbody tr th {\n",
       "        vertical-align: top;\n",
       "    }\n",
       "\n",
       "    .dataframe thead th {\n",
       "        text-align: right;\n",
       "    }\n",
       "</style>\n",
       "<table border=\"1\" class=\"dataframe\">\n",
       "  <thead>\n",
       "    <tr style=\"text-align: right;\">\n",
       "      <th></th>\n",
       "      <th>exchange</th>\n",
       "      <th>pair</th>\n",
       "      <th>status</th>\n",
       "      <th>strategy</th>\n",
       "      <th>order_params</th>\n",
       "    </tr>\n",
       "    <tr>\n",
       "      <th>date</th>\n",
       "      <th></th>\n",
       "      <th></th>\n",
       "      <th></th>\n",
       "      <th></th>\n",
       "      <th></th>\n",
       "    </tr>\n",
       "  </thead>\n",
       "  <tbody>\n",
       "    <tr>\n",
       "      <th>2021-08-19 14:45:04.560470</th>\n",
       "      <td>KUCOIN</td>\n",
       "      <td>DOT/USDT</td>\n",
       "      <td>new</td>\n",
       "      <td>BuyLevelOrder</td>\n",
       "      <td>{\"trigger_price\": 25, \"qty\": 0.01}</td>\n",
       "    </tr>\n",
       "    <tr>\n",
       "      <th>2021-08-19 14:45:04.560470</th>\n",
       "      <td>KUCOIN</td>\n",
       "      <td>BTC/USDT</td>\n",
       "      <td>new</td>\n",
       "      <td>BuyLevelOrder</td>\n",
       "      <td>{\"trigger_price\": 40000, \"qty\": 0.001}</td>\n",
       "    </tr>\n",
       "  </tbody>\n",
       "</table>\n",
       "</div>"
      ]
     },
     "metadata": {},
     "execution_count": 17
    }
   ],
   "metadata": {}
  },
  {
   "cell_type": "code",
   "execution_count": null,
   "source": [],
   "outputs": [],
   "metadata": {}
  },
  {
   "cell_type": "code",
   "execution_count": null,
   "source": [],
   "outputs": [],
   "metadata": {}
  },
  {
   "cell_type": "code",
   "execution_count": null,
   "source": [],
   "outputs": [],
   "metadata": {}
  },
  {
   "cell_type": "code",
   "execution_count": 44,
   "source": [
    "odf"
   ],
   "outputs": [
    {
     "output_type": "execute_result",
     "data": {
      "text/plain": [
       "                           exchange      pair status  strategy params\n",
       "date                                                                 \n",
       "2021-08-19 14:45:04.560470   KUCOIN  DOT/USDT    new  BuyLevel     {}"
      ],
      "text/html": [
       "<div>\n",
       "<style scoped>\n",
       "    .dataframe tbody tr th:only-of-type {\n",
       "        vertical-align: middle;\n",
       "    }\n",
       "\n",
       "    .dataframe tbody tr th {\n",
       "        vertical-align: top;\n",
       "    }\n",
       "\n",
       "    .dataframe thead th {\n",
       "        text-align: right;\n",
       "    }\n",
       "</style>\n",
       "<table border=\"1\" class=\"dataframe\">\n",
       "  <thead>\n",
       "    <tr style=\"text-align: right;\">\n",
       "      <th></th>\n",
       "      <th>exchange</th>\n",
       "      <th>pair</th>\n",
       "      <th>status</th>\n",
       "      <th>strategy</th>\n",
       "      <th>params</th>\n",
       "    </tr>\n",
       "    <tr>\n",
       "      <th>date</th>\n",
       "      <th></th>\n",
       "      <th></th>\n",
       "      <th></th>\n",
       "      <th></th>\n",
       "      <th></th>\n",
       "    </tr>\n",
       "  </thead>\n",
       "  <tbody>\n",
       "    <tr>\n",
       "      <th>2021-08-19 14:45:04.560470</th>\n",
       "      <td>KUCOIN</td>\n",
       "      <td>DOT/USDT</td>\n",
       "      <td>new</td>\n",
       "      <td>BuyLevel</td>\n",
       "      <td>{}</td>\n",
       "    </tr>\n",
       "  </tbody>\n",
       "</table>\n",
       "</div>"
      ]
     },
     "metadata": {},
     "execution_count": 44
    }
   ],
   "metadata": {}
  },
  {
   "cell_type": "code",
   "execution_count": 20,
   "source": [
    "time.localtime()"
   ],
   "outputs": [
    {
     "output_type": "execute_result",
     "data": {
      "text/plain": [
       "time.struct_time(tm_year=2021, tm_mon=8, tm_mday=19, tm_hour=14, tm_min=42, tm_sec=3, tm_wday=3, tm_yday=231, tm_isdst=1)"
      ]
     },
     "metadata": {},
     "execution_count": 20
    }
   ],
   "metadata": {}
  },
  {
   "cell_type": "code",
   "execution_count": null,
   "source": [],
   "outputs": [],
   "metadata": {}
  }
 ],
 "metadata": {
  "orig_nbformat": 4,
  "language_info": {
   "name": "python",
   "version": "3.8.10",
   "mimetype": "text/x-python",
   "codemirror_mode": {
    "name": "ipython",
    "version": 3
   },
   "pygments_lexer": "ipython3",
   "nbconvert_exporter": "python",
   "file_extension": ".py"
  },
  "kernelspec": {
   "name": "python3",
   "display_name": "Python 3.8.10 64-bit ('py38': conda)"
  },
  "interpreter": {
   "hash": "9cd1802d11fdaa8b5e14fa01355949ba763388a191b1b5d281078f6b1e7bfc37"
  }
 },
 "nbformat": 4,
 "nbformat_minor": 2
}