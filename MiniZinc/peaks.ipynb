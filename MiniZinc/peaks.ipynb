{
 "cells": [
  {
   "cell_type": "code",
   "execution_count": 81,
   "metadata": {},
   "outputs": [],
   "source": [
    "from __future__ import print_function\n",
    "from ipywidgets import interact, interactive, fixed, interact_manual\n",
    "# import ipywidgets as widgets\n",
    "from ipywidgets import *\n",
    "from IPython.display import display\n",
    "import IPython\n",
    "import pandas as pd\n",
    "import matplotlib\n",
    "import matplotlib.pyplot as plt\n",
    "import matplotlib.dates as mdates\n",
    "import numpy as np\n",
    "\n",
    "from datetime import datetime\n",
    "import talib\n",
    "import pandas_ta as ta\n",
    "# from talib.abstract import *\n",
    "from math import *\n",
    "from collections import OrderedDict\n",
    "# import vectorbt as vbt    \n",
    "import json\n",
    "%matplotlib inline\n",
    "from decimal import *\n",
    "getcontext().prec = 6\n",
    "import seaborn as sns\n",
    "\n",
    "matplotlib.rcParams.update({'font.size': 5, 'lines.linewidth': 0.5, 'figure.dpi': 300})\n",
    "plt.rcParams['lines.linewidth'] = 0.5 \n"
   ]
  },
  {
   "cell_type": "code",
   "execution_count": 82,
   "metadata": {},
   "outputs": [
    {
     "data": {
      "text/html": [
       "<div>\n",
       "<style scoped>\n",
       "    .dataframe tbody tr th:only-of-type {\n",
       "        vertical-align: middle;\n",
       "    }\n",
       "\n",
       "    .dataframe tbody tr th {\n",
       "        vertical-align: top;\n",
       "    }\n",
       "\n",
       "    .dataframe thead th {\n",
       "        text-align: right;\n",
       "    }\n",
       "</style>\n",
       "<table border=\"1\" class=\"dataframe\">\n",
       "  <thead>\n",
       "    <tr style=\"text-align: right;\">\n",
       "      <th></th>\n",
       "      <th>timestamp</th>\n",
       "      <th>open</th>\n",
       "      <th>high</th>\n",
       "      <th>low</th>\n",
       "      <th>close</th>\n",
       "      <th>volume</th>\n",
       "      <th>date</th>\n",
       "      <th>idate</th>\n",
       "    </tr>\n",
       "    <tr>\n",
       "      <th>date</th>\n",
       "      <th></th>\n",
       "      <th></th>\n",
       "      <th></th>\n",
       "      <th></th>\n",
       "      <th></th>\n",
       "      <th></th>\n",
       "      <th></th>\n",
       "      <th></th>\n",
       "    </tr>\n",
       "  </thead>\n",
       "  <tbody>\n",
       "    <tr>\n",
       "      <th>2021-01-01</th>\n",
       "      <td>1609459200000</td>\n",
       "      <td>28923.63</td>\n",
       "      <td>29600.00</td>\n",
       "      <td>28624.57</td>\n",
       "      <td>29331.69</td>\n",
       "      <td>54182.925011</td>\n",
       "      <td>2021-01-01</td>\n",
       "      <td>20210101</td>\n",
       "    </tr>\n",
       "    <tr>\n",
       "      <th>2021-01-02</th>\n",
       "      <td>1609545600000</td>\n",
       "      <td>29331.70</td>\n",
       "      <td>33300.00</td>\n",
       "      <td>28946.53</td>\n",
       "      <td>32178.33</td>\n",
       "      <td>129993.873362</td>\n",
       "      <td>2021-01-02</td>\n",
       "      <td>20210102</td>\n",
       "    </tr>\n",
       "    <tr>\n",
       "      <th>2021-01-03</th>\n",
       "      <td>1609632000000</td>\n",
       "      <td>32176.45</td>\n",
       "      <td>34778.11</td>\n",
       "      <td>31962.99</td>\n",
       "      <td>33000.05</td>\n",
       "      <td>120957.566750</td>\n",
       "      <td>2021-01-03</td>\n",
       "      <td>20210103</td>\n",
       "    </tr>\n",
       "    <tr>\n",
       "      <th>2021-01-04</th>\n",
       "      <td>1609718400000</td>\n",
       "      <td>33000.05</td>\n",
       "      <td>33600.00</td>\n",
       "      <td>28130.00</td>\n",
       "      <td>31988.71</td>\n",
       "      <td>140899.885690</td>\n",
       "      <td>2021-01-04</td>\n",
       "      <td>20210104</td>\n",
       "    </tr>\n",
       "    <tr>\n",
       "      <th>2021-01-05</th>\n",
       "      <td>1609804800000</td>\n",
       "      <td>31989.75</td>\n",
       "      <td>34360.00</td>\n",
       "      <td>29900.00</td>\n",
       "      <td>33949.53</td>\n",
       "      <td>116049.997038</td>\n",
       "      <td>2021-01-05</td>\n",
       "      <td>20210105</td>\n",
       "    </tr>\n",
       "    <tr>\n",
       "      <th>...</th>\n",
       "      <td>...</td>\n",
       "      <td>...</td>\n",
       "      <td>...</td>\n",
       "      <td>...</td>\n",
       "      <td>...</td>\n",
       "      <td>...</td>\n",
       "      <td>...</td>\n",
       "      <td>...</td>\n",
       "    </tr>\n",
       "    <tr>\n",
       "      <th>2023-04-17</th>\n",
       "      <td>1681689600000</td>\n",
       "      <td>30304.66</td>\n",
       "      <td>30316.06</td>\n",
       "      <td>29240.65</td>\n",
       "      <td>29430.27</td>\n",
       "      <td>56441.811270</td>\n",
       "      <td>2023-04-17</td>\n",
       "      <td>20230417</td>\n",
       "    </tr>\n",
       "    <tr>\n",
       "      <th>2023-04-18</th>\n",
       "      <td>1681776000000</td>\n",
       "      <td>29430.27</td>\n",
       "      <td>30485.00</td>\n",
       "      <td>29096.78</td>\n",
       "      <td>30380.01</td>\n",
       "      <td>62004.894340</td>\n",
       "      <td>2023-04-18</td>\n",
       "      <td>20230418</td>\n",
       "    </tr>\n",
       "    <tr>\n",
       "      <th>2023-04-19</th>\n",
       "      <td>1681862400000</td>\n",
       "      <td>30380.01</td>\n",
       "      <td>30413.53</td>\n",
       "      <td>28520.00</td>\n",
       "      <td>28797.10</td>\n",
       "      <td>86575.486560</td>\n",
       "      <td>2023-04-19</td>\n",
       "      <td>20230419</td>\n",
       "    </tr>\n",
       "    <tr>\n",
       "      <th>2023-04-20</th>\n",
       "      <td>1681948800000</td>\n",
       "      <td>28797.10</td>\n",
       "      <td>29088.30</td>\n",
       "      <td>28010.00</td>\n",
       "      <td>28243.65</td>\n",
       "      <td>76879.093720</td>\n",
       "      <td>2023-04-20</td>\n",
       "      <td>20230420</td>\n",
       "    </tr>\n",
       "    <tr>\n",
       "      <th>2023-04-21</th>\n",
       "      <td>1682035200000</td>\n",
       "      <td>28243.65</td>\n",
       "      <td>28374.02</td>\n",
       "      <td>27125.00</td>\n",
       "      <td>27262.84</td>\n",
       "      <td>77684.767900</td>\n",
       "      <td>2023-04-21</td>\n",
       "      <td>20230421</td>\n",
       "    </tr>\n",
       "  </tbody>\n",
       "</table>\n",
       "<p>841 rows × 8 columns</p>\n",
       "</div>"
      ],
      "text/plain": [
       "                timestamp      open      high       low     close  \\\n",
       "date                                                                \n",
       "2021-01-01  1609459200000  28923.63  29600.00  28624.57  29331.69   \n",
       "2021-01-02  1609545600000  29331.70  33300.00  28946.53  32178.33   \n",
       "2021-01-03  1609632000000  32176.45  34778.11  31962.99  33000.05   \n",
       "2021-01-04  1609718400000  33000.05  33600.00  28130.00  31988.71   \n",
       "2021-01-05  1609804800000  31989.75  34360.00  29900.00  33949.53   \n",
       "...                   ...       ...       ...       ...       ...   \n",
       "2023-04-17  1681689600000  30304.66  30316.06  29240.65  29430.27   \n",
       "2023-04-18  1681776000000  29430.27  30485.00  29096.78  30380.01   \n",
       "2023-04-19  1681862400000  30380.01  30413.53  28520.00  28797.10   \n",
       "2023-04-20  1681948800000  28797.10  29088.30  28010.00  28243.65   \n",
       "2023-04-21  1682035200000  28243.65  28374.02  27125.00  27262.84   \n",
       "\n",
       "                   volume       date     idate  \n",
       "date                                            \n",
       "2021-01-01   54182.925011 2021-01-01  20210101  \n",
       "2021-01-02  129993.873362 2021-01-02  20210102  \n",
       "2021-01-03  120957.566750 2021-01-03  20210103  \n",
       "2021-01-04  140899.885690 2021-01-04  20210104  \n",
       "2021-01-05  116049.997038 2021-01-05  20210105  \n",
       "...                   ...        ...       ...  \n",
       "2023-04-17   56441.811270 2023-04-17  20230417  \n",
       "2023-04-18   62004.894340 2023-04-18  20230418  \n",
       "2023-04-19   86575.486560 2023-04-19  20230419  \n",
       "2023-04-20   76879.093720 2023-04-20  20230420  \n",
       "2023-04-21   77684.767900 2023-04-21  20230421  \n",
       "\n",
       "[841 rows x 8 columns]"
      ]
     },
     "execution_count": 82,
     "metadata": {},
     "output_type": "execute_result"
    }
   ],
   "source": [
    "odf = pd.read_json(r'../freq-user-data/data/binance/BTC_USDT-1d.json').dropna()\n",
    "odf.columns = ['timestamp', 'open', 'high', 'low', 'close', 'volume']\n",
    "\n",
    "odf['date'] = pd.to_datetime(odf['timestamp'], unit='ms', utc=False)\n",
    "# df.index = df['time']\n",
    "# df.set_index('time', drop=True, inplace=True)\n",
    "odf['idate'] = odf.date.dt.strftime('%Y%m%d')\n",
    "odf.set_index(pd.DatetimeIndex(odf[\"date\"]), inplace=True, drop=True)\n",
    "# df = df[['time', 'symbol', 'source', 'resolution', 'open', 'high', 'low', 'close', 'volume']]\n",
    "# df.to_csv (r'./data/binance/BTC_USDT-5m.csv', index = None)\n",
    "# df.set_index('time')\n",
    "odf = odf.sort_index()\n",
    "odf"
   ]
  },
  {
   "cell_type": "code",
   "execution_count": 102,
   "metadata": {},
   "outputs": [
    {
     "data": {
      "text/plain": [
       "[0, 1, 2, 3, 4, 5, 6, 7, 8, 9]"
      ]
     },
     "execution_count": 102,
     "metadata": {},
     "output_type": "execute_result"
    }
   ],
   "source": [
    "list(range(10))"
   ]
  },
  {
   "cell_type": "code",
   "execution_count": null,
   "metadata": {},
   "outputs": [],
   "source": [
    "def PT(Q):\n",
    "    d = None\n",
    "    P, T, S, a, b, i, d = set(), set(), set(), 0, 0, 0, None\n",
    "    for i in range(len(Q)):\n",
    "        if d is None:\n",
    "            if Q[a] >= Q[i]:\n",
    "                d = 1 \n",
    "            elif Q[i] >= Q[b]:\n",
    "                d = -1\n",
    "            if Q[a] < Q[i]:\n",
    "                a = i\n",
    "            elif Q[i] > Q[b]:\n",
    "                b = i\n",
    "            S = {i}\n",
    "            \n",
    "        elif d == 1:\n",
    "            if Q[a] < Q[i]:\n",
    "                S,a = {i},i\n",
    "            elif Q[a] == Q[i]:\n",
    "                S.add(i)\n",
    "            elif Q[a] > Q[i]:\n",
    "                P = P | S\n",
    "                S,b,d = {i}, i, -1\n",
    "        \n",
    "        elif d == -1:\n",
    "            if Q[i] < Q[b]:\n",
    "                S,b = {i}, i\n",
    "            elif Q[i] == Q[b]:\n",
    "                S.add(i)\n",
    "            elif Q[i] >= Q[b]:\n",
    "                T = T | S\n",
    "                S,a,d = {i}, i, 1\n",
    "                  \n",
    "    return sorted(P),sorted(T)\n",
    "\n",
    "# PT(df.close)\n",
    "\n",
    "peaks, troughs = PT(df.close)\n",
    "# (list(peaks)).sort()\n",
    "df.index[peaks]\n",
    "# ax1.scatter(df.index[[peaks]], df.close[[peaks]])"
   ]
  },
  {
   "cell_type": "code",
   "execution_count": 174,
   "metadata": {},
   "outputs": [
    {
     "data": {
      "application/javascript": "\"use strict\";\n\nCodeMirror.defineMode(\"text/minizinc\", function(config) {\n\n  var isOperatorChar = /[+\\-*=<>\\/]/;\n\n  var keywords = {\"array\":true,\n  \"bool\":true,\n  \"case\":true,\n  \"constraint\":true,\n  \"diff\":true,\n  \"div\":true,\n  \"else\":true,\n  \"elseif\":true,\n  \"endif\":true,\n  \"enum\":true,\n  \"false\":true,\n  \"float\":true,\n  \"function\":true,\n  \"if\":true,\n  \"in\":true,\n  \"include\":true,\n  \"int\":true,\n  \"intersect\":true,\n  \"let\":true,\n  \"list\":true,\n  \"maximize\":true,\n  \"minimize\":true,\n  \"mod\":true,\n  \"not\":true,\n  \"of\":true,\n  \"op\":true,\n  \"output\":true,\n  \"par\":true,\n  \"predicate\":true,\n  \"record\":true,\n  \"satisfy\":true,\n  \"set\":true,\n  \"solve\":true,\n  \"string\":true,\n  \"subset\":true,\n  \"superset\":true,\n  \"symdiff\":true,\n  \"test\":true,\n  \"then\":true,\n  \"true\":true,\n  \"tuple\":true,\n  \"type\":true,\n  \"union\":true,\n  \"var\":true,\n  \"where\":true,\n  \"xor\":true};\n\n  var punc = \":;,.(){}[]\";\n\n  function tokenBase(stream, state) {\n    var ch = stream.next();\n    if (ch == '\"') {\n      state.tokenize.push(tokenString);\n      return tokenString(stream, state);\n    }\n    if (/[\\d\\.]/.test(ch)) {\n      if (ch == \".\") {\n        stream.match(/^[0-9]+([eE][\\-+]?[0-9]+)?/);\n      } else if (ch == \"0\") {\n        stream.match(/^[xX][0-9a-fA-F]+/) || stream.match(/^0[0-7]+/);\n      } else {\n        stream.match(/^[0-9]*\\.?[0-9]*([eE][\\-+]?[0-9]+)?/);\n      }\n      return \"number\";\n    }\n    if (ch == \"/\") {\n      if (stream.eat(\"*\")) {\n        state.tokenize.push(tokenComment);\n        return tokenComment(stream, state);\n      }\n    }\n    if (ch == \"%\") {\n      stream.skipToEnd();\n      return \"comment\";\n    }\n    if (isOperatorChar.test(ch)) {\n      stream.eatWhile(isOperatorChar);\n      return \"operator\";\n    }\n    if (punc.indexOf(ch) > -1) {\n      return \"punctuation\";\n    }\n    stream.eatWhile(/[\\w\\$_\\xa1-\\uffff]/);\n    var cur = stream.current();\n    if (keywords.propertyIsEnumerable(cur)) {\n      return \"keyword\";\n    }\n    return \"variable\";\n  }\n\n  function tokenComment(stream, state) {\n    var maybeEnd = false, ch;\n    while (ch = stream.next()) {\n      if (ch == \"/\" && maybeEnd) {\n        state.tokenize.pop();\n        break;\n      }\n      maybeEnd = (ch == \"*\");\n    }\n    return \"comment\";\n  }\n\n  function tokenUntilClosingParen() {\n    var depth = 0;\n    return function(stream, state, prev) {\n      var inner = tokenBase(stream, state, prev);\n      console.log(\"untilClosing\",inner,stream.current());\n      if (inner == \"punctuation\") {\n        if (stream.current() == \"(\") {\n          ++depth;\n        } else if (stream.current() == \")\") {\n          if (depth == 0) {\n            stream.backUp(1)\n            state.tokenize.pop()\n            return state.tokenize[state.tokenize.length - 1](stream, state)\n          } else {\n            --depth;\n          }\n        }\n      }\n      return inner;\n    }\n  }\n\n  function tokenString(stream, state) {\n    var escaped = false, next, end = false;\n    while ((next = stream.next()) != null) {\n      if (next=='(' && escaped) {\n        state.tokenize.push(tokenUntilClosingParen());\n        return \"string\";\n      }\n      if (next == '\"' && !escaped) {end = true; break;}\n      escaped = !escaped && next == \"\\\\\";\n    }\n    if (end || !escaped)\n      state.tokenize.pop();\n    return \"string\";\n  }\n\n  return {\n    startState: function(basecolumn) {\n      return {\n        tokenize: []\n      };\n    },\n\n    token: function(stream, state) {\n      if (stream.eatSpace()) return null;\n      var style = (state.tokenize[state.tokenize.length - 1] || tokenBase)(stream, state);\n      console.log(\"token\",style);\n      return style;\n    },\n\n    blockCommentStart: \"/*\",\n    blockCommentEnd: \"*/\",\n    lineComment: \"%\"\n  };\n});\n\nCodeMirror.defineMIME(\"text/minizinc\", \"text/minizinc\");\n\nJupyter.CodeCell.options_default.highlight_modes['magic_text/minizinc'] = {'reg':[/^%%minizinc/]} ;\n\nJupyter.notebook.get_cells().map(function(cell){\n  if (cell.cell_type == 'code'){ cell.auto_highlight(); }\n}) ;\n",
      "text/plain": [
       "<IPython.core.display.Javascript object>"
      ]
     },
     "metadata": {},
     "output_type": "display_data"
    },
    {
     "name": "stdout",
     "output_type": "stream",
     "text": [
      "MiniZinc to FlatZinc converter, version 2.7.3, build 843029586\n",
      "Copyright (C) 2014-2023 Monash University, NICTA, Data61\n"
     ]
    }
   ],
   "source": [
    "%load_ext iminizinc"
   ]
  },
  {
   "cell_type": "code",
   "execution_count": 212,
   "metadata": {},
   "outputs": [],
   "source": [
    "\n",
    "df = odf['2021-06-02':'2022-08-03']\n",
    "kl_n = len(df)\n",
    "# pktr_n = floor(len(df) / 5)\n",
    "\n",
    "pktr_n = 6\n",
    "kl_close = df.close.astype(int).tolist()"
   ]
  },
  {
   "cell_type": "code",
   "execution_count": 213,
   "metadata": {},
   "outputs": [],
   "source": [
    "%%minizinc -m bind\n",
    "\n",
    "array[int] of int: kl_close;\n",
    "\n",
    "int: kl_n;\n",
    "set of int: KLN = 1..kl_n;\n",
    "set of int: KLN0 = 0..kl_n;\n",
    "int: pktr_n;\n",
    "set of int: PKTR = 1..pktr_n;\n",
    "\n",
    "array[PKTR] of var KLN0: apktr;\n",
    "\n",
    "var PKTR: npktr;\n",
    "\n",
    "constraint apktr[npktr] = 1;\n",
    "constraint apktr[pktr_n] = kl_n;\n",
    "constraint forall(j in 1..npktr-1)(apktr[j] = 0);\n",
    "\n",
    "include \"increasing.mzn\";\n",
    "constraint increasing(apktr);\n",
    "\n",
    "constraint forall(i in npktr..pktr_n-1)(\n",
    "    let { var KLN: idn = if kl_close[apktr[i]]>kl_close[apktr[i+1]] then i+1 else i endif, \n",
    "          var KLN: iup = if idn = i then i+1 else i endif} in\n",
    "          forall(j in apktr[i]+1..apktr[i+1]-1)(kl_close[j] >= kl_close[apktr[idn]] /\\ kl_close[j] <= kl_close[apktr[iup]] )\n",
    ");\n",
    "\n",
    "constraint forall(i in npktr..pktr_n-2)(\n",
    "    kl_close[apktr[i]] >= kl_close[apktr[i+1]] /\\ kl_close[apktr[i+1]] <= kl_close[apktr[i+2]]\n",
    "    \\/ kl_close[apktr[i]] <= kl_close[apktr[i+1]] /\\ kl_close[apktr[i+1]] >= kl_close[apktr[i+2]]\n",
    "    );\n",
    "\n",
    "include \"alldifferent.mzn\";\n",
    "constraint all_different_except_0(apktr);\n",
    "\n",
    "solve maximize npktr;"
   ]
  },
  {
   "cell_type": "code",
   "execution_count": 214,
   "metadata": {},
   "outputs": [
    {
     "data": {
      "text/plain": [
       "array([  0,   1,   6,  12,  48, 159, 381, 421, 427])"
      ]
     },
     "execution_count": 214,
     "metadata": {},
     "output_type": "execute_result"
    }
   ],
   "source": [
    "apktrs = list(filter(lambda x: x > 0, apktr))\n",
    "apktrs = np.array(apktrs) - 1\n",
    "apktrs"
   ]
  },
  {
   "cell_type": "code",
   "execution_count": null,
   "metadata": {},
   "outputs": [],
   "source": []
  },
  {
   "cell_type": "code",
   "execution_count": 215,
   "metadata": {},
   "outputs": [
    {
     "data": {
      "text/plain": [
       "[<matplotlib.lines.Line2D at 0x27672179390>]"
      ]
     },
     "execution_count": 215,
     "metadata": {},
     "output_type": "execute_result"
    },
    {
     "data": {
      "text/plain": [
       "<matplotlib.collections.PathCollection at 0x2767249a210>"
      ]
     },
     "execution_count": 215,
     "metadata": {},
     "output_type": "execute_result"
    },
    {
     "data": {
      "image/png": "[encoded data removed]",
      "text/plain": [
       "<Mpf_Figure size 1700x800 with 1 Axes>"
      ]
     },
     "metadata": {},
     "output_type": "display_data"
    }
   ],
   "source": [
    "from IPython.core.interactiveshell import InteractiveShell\n",
    "InteractiveShell.ast_node_interactivity = \"all\"\n",
    "%matplotlib inline\n",
    "# plt.show()\n",
    "import mplfinance as mpf\n",
    "\n",
    "# %%capture\n",
    "fig = mpf.figure(figsize=(17,8))\n",
    "ax1 = fig.add_subplot(2,1,1)\n",
    "\n",
    "ax1.plot(df.close, lw=0.7)\n",
    "ax1.scatter(df.index[apktrs], df.close[apktrs])\n"
   ]
  },
  {
   "cell_type": "code",
   "execution_count": null,
   "metadata": {},
   "outputs": [],
   "source": []
  },
  {
   "cell_type": "code",
   "execution_count": null,
   "metadata": {},
   "outputs": [],
   "source": [
    "from scipy import signal\n",
    "\n",
    "peaks = signal.find_peaks(df.close, height=None, threshold=None, distance=7, prominence=None, width=None, wlen=None, rel_height=0.5, plateau_size=None)\n",
    "peaks[0]\n",
    "df.index[peaks[0]]"
   ]
  },
  {
   "cell_type": "code",
   "execution_count": 137,
   "metadata": {},
   "outputs": [
    {
     "data": {
      "text/plain": [
       "61"
      ]
     },
     "execution_count": 137,
     "metadata": {},
     "output_type": "execute_result"
    }
   ],
   "source": [
    "floor(len(df) / 2)"
   ]
  },
  {
   "cell_type": "code",
   "execution_count": 159,
   "metadata": {},
   "outputs": [
    {
     "data": {
      "text/plain": [
       "12"
      ]
     },
     "execution_count": 159,
     "metadata": {},
     "output_type": "execute_result"
    },
    {
     "data": {
      "text/plain": [
       "13"
      ]
     },
     "execution_count": 159,
     "metadata": {},
     "output_type": "execute_result"
    },
    {
     "data": {
      "text/plain": [
       "3008"
      ]
     },
     "execution_count": 159,
     "metadata": {},
     "output_type": "execute_result"
    },
    {
     "data": {
      "text/plain": [
       "3008"
      ]
     },
     "execution_count": 159,
     "metadata": {},
     "output_type": "execute_result"
    },
    {
     "data": {
      "text/plain": [
       "3007"
      ]
     },
     "execution_count": 159,
     "metadata": {},
     "output_type": "execute_result"
    },
    {
     "data": {
      "text/plain": [
       "3009"
      ]
     },
     "execution_count": 159,
     "metadata": {},
     "output_type": "execute_result"
    }
   ],
   "source": [
    "\n",
    "with open('klines.dzn', 'w+') as f:\n",
    "    f.write(f'kl_n = {len(df)};\\n')\n",
    "    f.write(f'pktr_n = {floor(len(df) / 5)};\\n')\n",
    "    for k in ['open', 'high', 'low', 'close']:\n",
    "        f.write(f'kl_{k} = [' + ', '.join(df[k].astype(int).astype(str)) + '];\\n')\n",
    "        f.flush()"
   ]
  }
 ],
 "metadata": {
  "kernelspec": {
   "display_name": "py311",
   "language": "python",
   "name": "python3"
  },
  "language_info": {
   "codemirror_mode": {
    "name": "ipython",
    "version": 3
   },
   "file_extension": ".py",
   "mimetype": "text/x-python",
   "name": "python",
   "nbconvert_exporter": "python",
   "pygments_lexer": "ipython3",
   "version": "3.11.0"
  },
  "orig_nbformat": 4
 },
 "nbformat": 4,
 "nbformat_minor": 2
}
