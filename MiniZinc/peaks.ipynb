{
 "cells": [
  {
   "cell_type": "code",
   "execution_count": null,
   "metadata": {},
   "outputs": [],
   "source": [
    "%load_ext iminizinc\n",
    "\n",
    "from __future__ import print_function\n",
    "from ipywidgets import interact, interactive, fixed, interact_manual\n",
    "# import ipywidgets as widgets\n",
    "from ipywidgets import *\n",
    "from IPython.display import display\n",
    "import IPython\n",
    "import pandas as pd\n",
    "import matplotlib\n",
    "import matplotlib.pyplot as plt\n",
    "import matplotlib.dates as mdates\n",
    "import numpy as np\n",
    "\n",
    "from datetime import datetime\n",
    "import talib\n",
    "import pandas_ta as ta\n",
    "# from talib.abstract import *\n",
    "from math import *\n",
    "from collections import OrderedDict\n",
    "# import vectorbt as vbt    \n",
    "import json\n",
    "from decimal import *\n",
    "getcontext().prec = 6\n",
    "import seaborn as sns\n",
    "\n",
    "import mplfinance as mpf\n",
    "\n",
    "matplotlib.rcParams.update({'font.size': 5, 'lines.linewidth': 0.5, 'figure.dpi': 300})\n",
    "plt.rcParams['lines.linewidth'] = 0.5 \n"
   ]
  },
  {
   "cell_type": "code",
   "execution_count": null,
   "metadata": {},
   "outputs": [],
   "source": [
    "odf = pd.read_json(r'../freq-user-data/data/binance/BTC_USDT-1d.json').dropna()\n",
    "odf.columns = ['timestamp', 'open', 'high', 'low', 'close', 'volume']\n",
    "\n",
    "odf['date'] = pd.to_datetime(odf['timestamp'], unit='ms', utc=False)\n",
    "# df.index = df['time']\n",
    "# df.set_index('time', drop=True, inplace=True)\n",
    "odf['idate'] = odf.date.dt.strftime('%Y%m%d')\n",
    "odf.set_index(pd.DatetimeIndex(odf[\"date\"]), inplace=True, drop=True)\n",
    "# df = df[['time', 'symbol', 'source', 'resolution', 'open', 'high', 'low', 'close', 'volume']]\n",
    "# df.to_csv (r'./data/binance/BTC_USDT-5m.csv', index = None)\n",
    "# df.set_index('time')\n",
    "odf = odf.sort_index()\n",
    "odf"
   ]
  },
  {
   "cell_type": "code",
   "execution_count": null,
   "metadata": {},
   "outputs": [],
   "source": [
    "list(range(10))"
   ]
  },
  {
   "cell_type": "code",
   "execution_count": null,
   "metadata": {},
   "outputs": [],
   "source": [
    "def PT(Q):\n",
    "    d = None\n",
    "    P, T, S, a, b, i, d = set(), set(), set(), 0, 0, 0, None\n",
    "    for i in range(len(Q)):\n",
    "        if d is None:\n",
    "            if Q[a] >= Q[i]:\n",
    "                d = 1 \n",
    "            elif Q[i] >= Q[b]:\n",
    "                d = -1\n",
    "            if Q[a] < Q[i]:\n",
    "                a = i\n",
    "            elif Q[i] > Q[b]:\n",
    "                b = i\n",
    "            S = {i}\n",
    "            \n",
    "        elif d == 1:\n",
    "            if Q[a] < Q[i]:\n",
    "                S,a = {i},i\n",
    "            elif Q[a] == Q[i]:\n",
    "                S.add(i)\n",
    "            elif Q[a] > Q[i]:\n",
    "                P = P | S\n",
    "                S,b,d = {i}, i, -1\n",
    "        \n",
    "        elif d == -1:\n",
    "            if Q[i] < Q[b]:\n",
    "                S,b = {i}, i\n",
    "            elif Q[i] == Q[b]:\n",
    "                S.add(i)\n",
    "            elif Q[i] >= Q[b]:\n",
    "                T = T | S\n",
    "                S,a,d = {i}, i, 1\n",
    "                  \n",
    "    return sorted(P),sorted(T)\n",
    "\n",
    "# PT(df.close)\n",
    "\n",
    "peaks, troughs = PT(df.close)\n",
    "# (list(peaks)).sort()\n",
    "df.index[peaks]\n",
    "# ax1.scatter(df.index[[peaks]], df.close[[peaks]])"
   ]
  },
  {
   "attachments": {},
   "cell_type": "markdown",
   "metadata": {},
   "source": [
    "### Find all the peaks and troughs"
   ]
  },
  {
   "cell_type": "code",
   "execution_count": null,
   "metadata": {},
   "outputs": [],
   "source": [
    "\n",
    "df = odf['2023-01-01':]\n",
    "kl_n = len(df)\n",
    "pktr_n = floor(len(df) / 7)\n",
    "kl_close = df.close.astype(int).tolist()"
   ]
  },
  {
   "cell_type": "code",
   "execution_count": null,
   "metadata": {},
   "outputs": [],
   "source": [
    "%%minizinc -m bind\n",
    "\n",
    "array[int] of int: kl_close;\n",
    "\n",
    "int: kl_n;\n",
    "set of int: KLN = 1..kl_n;\n",
    "set of int: KLN0 = 0..kl_n;\n",
    "int: pktr_n;\n",
    "set of int: PKTR = 1..pktr_n;\n",
    "\n",
    "array[PKTR] of var KLN0: apktr;\n",
    "\n",
    "var PKTR: npktr;\n",
    "\n",
    "constraint apktr[npktr] = 1;\n",
    "constraint apktr[pktr_n] = kl_n;\n",
    "constraint forall(j in 1..npktr-1)(apktr[j] = 0);\n",
    "\n",
    "include \"increasing.mzn\";\n",
    "constraint increasing(apktr);\n",
    "\n",
    "constraint forall(i in npktr..pktr_n-1)(\n",
    "    let { var KLN: idn = if kl_close[apktr[i]]>kl_close[apktr[i+1]] then i+1 else i endif, \n",
    "          var KLN: iup = if idn = i then i+1 else i endif} in\n",
    "          forall(j in apktr[i]+1..apktr[i+1]-1)(kl_close[j] >= kl_close[apktr[idn]] /\\ kl_close[j] <= kl_close[apktr[iup]] )\n",
    ");\n",
    "\n",
    "constraint forall(i in npktr..pktr_n-2)(\n",
    "    kl_close[apktr[i]] >= kl_close[apktr[i+1]] /\\ kl_close[apktr[i+1]] <= kl_close[apktr[i+2]]\n",
    "    \\/ kl_close[apktr[i]] <= kl_close[apktr[i+1]] /\\ kl_close[apktr[i+1]] >= kl_close[apktr[i+2]]\n",
    "    );\n",
    "\n",
    "include \"alldifferent.mzn\";\n",
    "constraint all_different_except_0(apktr);\n",
    "\n",
    "solve maximize npktr;"
   ]
  },
  {
   "cell_type": "code",
   "execution_count": null,
   "metadata": {},
   "outputs": [],
   "source": [
    "apktrs = list(filter(lambda x: x > 0, apktr))\n",
    "# apktrs = [160, 382, 422, 428]\n",
    "apktrs = np.array(apktrs) -1 \n",
    "apktrs"
   ]
  },
  {
   "cell_type": "code",
   "execution_count": null,
   "metadata": {},
   "outputs": [],
   "source": [
    "fig = mpf.figure(figsize=(17,8))\n",
    "ax1 = fig.add_subplot(2,1,1)\n",
    "\n",
    "ax1.plot(df.close, lw=0.7)\n",
    "ax1.scatter(df.index[apktrs], df.close[apktrs])\n"
   ]
  },
  {
   "attachments": {},
   "cell_type": "markdown",
   "metadata": {},
   "source": [
    "### Find last n peaks"
   ]
  },
  {
   "cell_type": "code",
   "execution_count": null,
   "metadata": {},
   "outputs": [],
   "source": [
    "df = odf['2021-06-02':'2022-08-03']\n",
    "kl_n = len(df)\n",
    "pktr_n = 4 # Last 3 peaks inc last \n",
    "kl_close = df.close.astype(int).tolist()"
   ]
  },
  {
   "cell_type": "code",
   "execution_count": null,
   "metadata": {},
   "outputs": [],
   "source": [
    "%%minizinc -m bind\n",
    "\n",
    "array[int] of int: kl_close;\n",
    "\n",
    "int: kl_n;\n",
    "set of int: KLN = 1..kl_n;\n",
    "set of int: KLN0 = 0..kl_n;\n",
    "int: pktr_n;\n",
    "set of int: PKTR = 1..pktr_n;\n",
    "\n",
    "array[PKTR] of var KLN0: apktr;\n",
    "\n",
    "var PKTR: npktr;\n",
    "\n",
    "constraint apktr[npktr] >= 1;\n",
    "constraint apktr[pktr_n] = kl_n;\n",
    "constraint forall(j in 1..npktr-1)(apktr[j] = 0);\n",
    "\n",
    "include \"increasing.mzn\";\n",
    "constraint increasing(apktr);\n",
    "\n",
    "constraint forall(i in npktr..pktr_n-1)(\n",
    "    let { var KLN: idn = if kl_close[apktr[i]]>kl_close[apktr[i+1]] then i+1 else i endif, \n",
    "          var KLN: iup = if idn = i then i+1 else i endif} in\n",
    "          forall(j in apktr[i]+1..apktr[i+1]-1)(kl_close[j] >= kl_close[apktr[idn]] /\\ kl_close[j] <= kl_close[apktr[iup]] )\n",
    ");\n",
    "\n",
    "constraint forall(i in npktr..pktr_n-2)(\n",
    "    kl_close[apktr[i]] >= kl_close[apktr[i+1]] /\\ kl_close[apktr[i+1]] <= kl_close[apktr[i+2]]\n",
    "    \\/ kl_close[apktr[i]] <= kl_close[apktr[i+1]] /\\ kl_close[apktr[i+1]] >= kl_close[apktr[i+2]]\n",
    "    );\n",
    "\n",
    "include \"alldifferent.mzn\";\n",
    "constraint all_different_except_0(apktr);\n",
    "\n",
    "solve minimize npktr;\n"
   ]
  },
  {
   "cell_type": "code",
   "execution_count": null,
   "metadata": {},
   "outputs": [],
   "source": [
    "fig = mpf.figure(figsize=(17,8))\n",
    "ax1 = fig.add_subplot(2,1,1)\n",
    "\n",
    "ax1.plot(df.close, lw=0.7)\n",
    "ax1.scatter(df.index[apktrs], df.close[apktrs])"
   ]
  },
  {
   "attachments": {},
   "cell_type": "markdown",
   "metadata": {},
   "source": [
    "### Find upword peaks"
   ]
  },
  {
   "cell_type": "code",
   "execution_count": null,
   "metadata": {},
   "outputs": [],
   "source": [
    "df = odf['2021-01-01':]\n",
    "kl_n = len(df)\n",
    "# pktr_n = 4 # Last 3 peaks inc last \n",
    "kl_signal = df.close.astype(int).tolist()\n",
    "with open('klines.dzn', 'w+') as f:\n",
    "    f.write(f'kl_n = {len(df)};\\n')\n",
    "    f.write(f'kl_signal = [' + ', '.join(df.close.astype(int).astype(str)) + '];\\n')"
   ]
  },
  {
   "cell_type": "code",
   "execution_count": 12,
   "metadata": {},
   "outputs": [],
   "source": [
    "%%mzn_model going_up \n",
    "\n",
    "array[int] of int: kl_signal;\n",
    "\n",
    "int: kl_n;\n",
    "set of int: KLN = 1..kl_n;\n",
    "set of int: KLN0 = 0..kl_n;\n",
    "int: pktr_n = 4;\n",
    "set of int: PKTR = 1..pktr_n;\n",
    "\n",
    "array[PKTR] of var KLN: apktr;\n",
    "\n",
    "predicate sig_increasing(array[KLN] of int: klsig, array[PKTR] of var KLN: apktr, int:start, int: end) =\n",
    "    forall(i in apktr[start]+1..apktr[end]-1)(klsig[i] >= klsig[apktr[start]] /\\ klsig[i] <= klsig[apktr[end]]);\n",
    "\n",
    "predicate sig_decreasing(array[KLN] of int: klsig, array[PKTR] of var KLN: apktr, int:start, int: end) =\n",
    "    forall(i in apktr[start]+1..apktr[end]-1)(klsig[i] <= klsig[apktr[start]] /\\ klsig[i] >= klsig[apktr[end]]);\n",
    "\n",
    "include \"increasing.mzn\";\n",
    "constraint increasing(apktr);\n",
    "\n",
    "constraint forall(i in 1..pktr_n div 2 )(\n",
    "        sig_decreasing(kl_signal, apktr, i*2 - 1, i*2)\n",
    "    );\n",
    "\n",
    "constraint forall(i in 1..pktr_n div 2 -1 )(\n",
    "        sig_increasing(kl_signal, apktr, i*2 , i*2 + 1)\n",
    "    );\n",
    "\n",
    "constraint forall(i in 1..pktr_n-1)(apktr[i+1]-apktr[i] > 1);\n",
    "\n",
    "include \"alldifferent.mzn\";\n",
    "constraint all_different_except_0(apktr);\n",
    "\n",
    "%constraint exists\n",
    "constraint kl_signal[apktr[2]] < kl_signal[apktr[4]];\n",
    "constraint kl_signal[apktr[3]] > kl_signal[apktr[5]];\n",
    "\n",
    "%solve minimize apktr[pktr_n-1] - apktr[1+1];\n",
    "solve satisfy;"
   ]
  },
  {
   "cell_type": "code",
   "execution_count": null,
   "metadata": {},
   "outputs": [],
   "source": [
    "apktrs = %minizinc going_up -a\n",
    "apktrs"
   ]
  },
  {
   "cell_type": "code",
   "execution_count": null,
   "metadata": {},
   "outputs": [],
   "source": [
    "\n",
    "fig = mpf.figure(figsize=(17,8))\n",
    "ax1 = fig.add_subplot(2,1,1)\n",
    "\n",
    "ax1.plot(df.close, lw=0.7)\n",
    "\n",
    "apktrs = %minizinc going_up -a\n",
    "apktra = [a['apktr'][1:-1] for a in \n",
    "    apktrs\n",
    "          ]\n",
    "# apktrsa = map(lambda apktr: np.array(apktr)-1, apktra)\n",
    "\n",
    "# for apktrs in apktrsa:\n",
    "#     ax1.scatter(df.index[apktrs], df.close[apktrs])"
   ]
  },
  {
   "attachments": {},
   "cell_type": "markdown",
   "metadata": {},
   "source": [
    "### Scipy's algo for peaks"
   ]
  },
  {
   "cell_type": "code",
   "execution_count": null,
   "metadata": {},
   "outputs": [],
   "source": [
    "from scipy import signal\n",
    "\n",
    "peaks = signal.find_peaks(df.close, height=None, threshold=None, distance=7, prominence=None, width=None, wlen=None, rel_height=0.5, plateau_size=None)\n",
    "peaks[0]\n",
    "df.index[peaks[0]]"
   ]
  },
  {
   "attachments": {},
   "cell_type": "markdown",
   "metadata": {},
   "source": [
    "### Export data to MiniZinc dzn"
   ]
  },
  {
   "cell_type": "code",
   "execution_count": null,
   "metadata": {},
   "outputs": [],
   "source": [
    "\n",
    "with open('klines.dzn', 'w+') as f:\n",
    "    f.write(f'kl_n = {len(df)};\\n')\n",
    "    f.write(f'kl_signal = [' + ', '.join(df.close.astype(int).astype(str)) + '];\\n')\n",
    "    # f.write(f'pktr_n = {floor(len(df) / 5)};\\n')\n",
    "    # for k in ['open', 'high', 'low', 'close']:\n",
    "    # for k in ['close']:\n",
    "    #     f.write(f'kl_{k} = [' + ', '.join(df[k].astype(int).astype(str)) + '];\\n')\n",
    "    #     f.flush()"
   ]
  }
 ],
 "metadata": {
  "kernelspec": {
   "display_name": "py311",
   "language": "python",
   "name": "python3"
  },
  "language_info": {
   "codemirror_mode": {
    "name": "ipython",
    "version": 3
   },
   "file_extension": ".py",
   "mimetype": "text/x-python",
   "name": "python",
   "nbconvert_exporter": "python",
   "pygments_lexer": "ipython3",
   "version": "3.11.0"
  },
  "orig_nbformat": 4
 },
 "nbformat": 4,
 "nbformat_minor": 2
}
