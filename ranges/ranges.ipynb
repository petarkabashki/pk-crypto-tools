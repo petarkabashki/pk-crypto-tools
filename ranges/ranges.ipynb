{
 "cells": [
  {
   "cell_type": "code",
   "execution_count": 1,
   "metadata": {},
   "outputs": [
    {
     "data": {
      "application/javascript": "\"use strict\";\n\nCodeMirror.defineMode(\"text/minizinc\", function(config) {\n\n  var isOperatorChar = /[+\\-*=<>\\/]/;\n\n  var keywords = {\"array\":true,\n  \"bool\":true,\n  \"case\":true,\n  \"constraint\":true,\n  \"diff\":true,\n  \"div\":true,\n  \"else\":true,\n  \"elseif\":true,\n  \"endif\":true,\n  \"enum\":true,\n  \"false\":true,\n  \"float\":true,\n  \"function\":true,\n  \"if\":true,\n  \"in\":true,\n  \"include\":true,\n  \"int\":true,\n  \"intersect\":true,\n  \"let\":true,\n  \"list\":true,\n  \"maximize\":true,\n  \"minimize\":true,\n  \"mod\":true,\n  \"not\":true,\n  \"of\":true,\n  \"op\":true,\n  \"output\":true,\n  \"par\":true,\n  \"predicate\":true,\n  \"record\":true,\n  \"satisfy\":true,\n  \"set\":true,\n  \"solve\":true,\n  \"string\":true,\n  \"subset\":true,\n  \"superset\":true,\n  \"symdiff\":true,\n  \"test\":true,\n  \"then\":true,\n  \"true\":true,\n  \"tuple\":true,\n  \"type\":true,\n  \"union\":true,\n  \"var\":true,\n  \"where\":true,\n  \"xor\":true};\n\n  var punc = \":;,.(){}[]\";\n\n  function tokenBase(stream, state) {\n    var ch = stream.next();\n    if (ch == '\"') {\n      state.tokenize.push(tokenString);\n      return tokenString(stream, state);\n    }\n    if (/[\\d\\.]/.test(ch)) {\n      if (ch == \".\") {\n        stream.match(/^[0-9]+([eE][\\-+]?[0-9]+)?/);\n      } else if (ch == \"0\") {\n        stream.match(/^[xX][0-9a-fA-F]+/) || stream.match(/^0[0-7]+/);\n      } else {\n        stream.match(/^[0-9]*\\.?[0-9]*([eE][\\-+]?[0-9]+)?/);\n      }\n      return \"number\";\n    }\n    if (ch == \"/\") {\n      if (stream.eat(\"*\")) {\n        state.tokenize.push(tokenComment);\n        return tokenComment(stream, state);\n      }\n    }\n    if (ch == \"%\") {\n      stream.skipToEnd();\n      return \"comment\";\n    }\n    if (isOperatorChar.test(ch)) {\n      stream.eatWhile(isOperatorChar);\n      return \"operator\";\n    }\n    if (punc.indexOf(ch) > -1) {\n      return \"punctuation\";\n    }\n    stream.eatWhile(/[\\w\\$_\\xa1-\\uffff]/);\n    var cur = stream.current();\n    if (keywords.propertyIsEnumerable(cur)) {\n      return \"keyword\";\n    }\n    return \"variable\";\n  }\n\n  function tokenComment(stream, state) {\n    var maybeEnd = false, ch;\n    while (ch = stream.next()) {\n      if (ch == \"/\" && maybeEnd) {\n        state.tokenize.pop();\n        break;\n      }\n      maybeEnd = (ch == \"*\");\n    }\n    return \"comment\";\n  }\n\n  function tokenUntilClosingParen() {\n    var depth = 0;\n    return function(stream, state, prev) {\n      var inner = tokenBase(stream, state, prev);\n      console.log(\"untilClosing\",inner,stream.current());\n      if (inner == \"punctuation\") {\n        if (stream.current() == \"(\") {\n          ++depth;\n        } else if (stream.current() == \")\") {\n          if (depth == 0) {\n            stream.backUp(1)\n            state.tokenize.pop()\n            return state.tokenize[state.tokenize.length - 1](stream, state)\n          } else {\n            --depth;\n          }\n        }\n      }\n      return inner;\n    }\n  }\n\n  function tokenString(stream, state) {\n    var escaped = false, next, end = false;\n    while ((next = stream.next()) != null) {\n      if (next=='(' && escaped) {\n        state.tokenize.push(tokenUntilClosingParen());\n        return \"string\";\n      }\n      if (next == '\"' && !escaped) {end = true; break;}\n      escaped = !escaped && next == \"\\\\\";\n    }\n    if (end || !escaped)\n      state.tokenize.pop();\n    return \"string\";\n  }\n\n  return {\n    startState: function(basecolumn) {\n      return {\n        tokenize: []\n      };\n    },\n\n    token: function(stream, state) {\n      if (stream.eatSpace()) return null;\n      var style = (state.tokenize[state.tokenize.length - 1] || tokenBase)(stream, state);\n      console.log(\"token\",style);\n      return style;\n    },\n\n    blockCommentStart: \"/*\",\n    blockCommentEnd: \"*/\",\n    lineComment: \"%\"\n  };\n});\n\nCodeMirror.defineMIME(\"text/minizinc\", \"text/minizinc\");\n\nJupyter.CodeCell.options_default.highlight_modes['magic_text/minizinc'] = {'reg':[/^%%minizinc/]} ;\n\nJupyter.notebook.get_cells().map(function(cell){\n  if (cell.cell_type == 'code'){ cell.auto_highlight(); }\n}) ;\n",
      "text/plain": [
       "<IPython.core.display.Javascript object>"
      ]
     },
     "metadata": {},
     "output_type": "display_data"
    },
    {
     "name": "stdout",
     "output_type": "stream",
     "text": [
      "MiniZinc to FlatZinc converter, version 2.7.5, build 891740483\n",
      "Copyright (C) 2014-2023 Monash University, NICTA, Data61\n"
     ]
    }
   ],
   "source": [
    "%load_ext iminizinc\n",
    "\n",
    "from __future__ import print_function\n",
    "from ipywidgets import interact, interactive, fixed, interact_manual\n",
    "# import ipywidgets as widgets\n",
    "from ipywidgets import *\n",
    "from IPython.display import display\n",
    "import IPython\n",
    "import pandas as pd\n",
    "import matplotlib as mpl\n",
    "import matplotlib.pyplot as plt\n",
    "import matplotlib.dates as mdates\n",
    "import numpy as np\n",
    "\n",
    "from datetime import datetime\n",
    "# import talib\n",
    "import pandas_ta as ta\n",
    "# from talib.abstract import *\n",
    "from math import *\n",
    "from collections import OrderedDict\n",
    "# import vectorbt as vbt    \n",
    "import json\n",
    "from decimal import *\n",
    "getcontext().prec = 6\n",
    "import seaborn as sns\n",
    "\n",
    "# import mplfinance as mpf\n",
    "%matplotlib inline\n",
    "\n",
    "mpl.rcParams.update({'font.size': 3, 'lines.linewidth': 0.5, 'figure.dpi': 300})\n",
    "plt.rcParams['lines.linewidth'] = 0.5 \n",
    "\n"
   ]
  },
  {
   "cell_type": "code",
   "execution_count": null,
   "metadata": {},
   "outputs": [],
   "source": []
  },
  {
   "cell_type": "code",
   "execution_count": null,
   "metadata": {},
   "outputs": [],
   "source": []
  },
  {
   "cell_type": "code",
   "execution_count": 283,
   "metadata": {},
   "outputs": [
    {
     "data": {
      "text/plain": [
       "array([[10124.98, 10221.76,  9858.54,  9609.94,  9702.27, 10059.3 ,\n",
       "         9551.96,  9590.9 ,  9825.57,  9520.16,  8739.68,  8804.36,\n",
       "         8650.  ,  8531.88,  8700.  ,  9001.4 ,  6153.9 ,  6368.68,\n",
       "         6696.19,  6772.78,  7287.55,  7276.83,  6831.28,  6803.22,\n",
       "         6699.34,  6817.77,  7027.55,  7146.77,  7097.33,  6793.29,\n",
       "         7061.54,  7480.78,  7675.58,  8727.82],\n",
       "       [10269.24, 10344.36, 10000.58,  9724.82,  9830.68, 10164.71,\n",
       "         9607.23,  9722.56,  9936.4 ,  9656.13,  8847.16,  8915.34,\n",
       "         8745.81,  8648.37,  8816.27,  9150.9 ,  6236.78,  6463.47,\n",
       "         6768.15,  6843.82,  7381.01,  7361.28,  6907.82,  6878.21,\n",
       "         6772.74,  6918.18,  7104.52,  7248.6 ,  7184.94,  6878.68,\n",
       "         7133.39,  7568.68,  7815.3 ,  8834.08]])"
      ]
     },
     "execution_count": 283,
     "metadata": {},
     "output_type": "execute_result"
    }
   ],
   "source": [
    "\n",
    "def plot_candles(wdf, ax=None, kwargs={}):\n",
    "    if ax is None:\n",
    "        fig, ax = plt.subplots(**kwargs)\n",
    "\n",
    "    up, down = wdf[wdf.close >= wdf.open], wdf[wdf.close < wdf.open]\n",
    "    col1,col2 = 'green','red'\n",
    "    width, width2 = .1, .02\n",
    "    # Plotting up prices of the stock\n",
    "    ax.bar(up.index, up.close-up.open, width, bottom=up.open, color=col1)\n",
    "    ax.bar(up.index, up.high-up.close, width2, bottom=up.close, color=col1)\n",
    "    ax.bar(up.index, up.low-up.open, width2, bottom=up.open, color=col1)\n",
    "    # Plotting down prices of the stock\n",
    "    ax.bar(down.index, down.close-down.open, width, bottom=down.open, color=col2)\n",
    "    ax.bar(down.index, down.high-down.open, width2, bottom=down.open, color=col2)\n",
    "    ax.bar(down.index, down.low-down.close, width2, bottom=down.close, color=col2)    \n",
    "    plt.xticks(rotation=30, ha='right')\n",
    "    \n",
    "def load_candles(pair, timeframe):\n",
    "    odf = pd.read_json(f'../freq-user-data/data/binance/{pair}-{timeframe}.json').dropna()\n",
    "    odf.columns = ['timestamp', 'open', 'high', 'low', 'close', 'volume']\n",
    "\n",
    "    odf['date'] = pd.to_datetime(odf['timestamp'], unit='ms', utc=False)\n",
    "    # df.index = df['time']\n",
    "    # df.set_index('time', drop=True, inplace=True)\n",
    "    odf['idate'] = odf.date.dt.strftime('%Y%m%d')\n",
    "    odf.set_index(pd.DatetimeIndex(odf[\"date\"]), inplace=True, drop=True)\n",
    "    # df = df[['time', 'symbol', 'source', 'resolution', 'open', 'high', 'low', 'close', 'volume']]\n",
    "    # df.to_csv (r'./data/binance/BTC_USDT-5m.csv', index = None)\n",
    "    # df.set_index('time')\n",
    "    odf = odf.sort_index()\n",
    "    return odf\n",
    "\n",
    "\n",
    "\n",
    "def add_indicators(wdf, hold, lag, ):\n",
    "    wdf['rfd'] = wdf.low.rolling(hold).min().shift(-hold)\n",
    "    wdf['rfu'] = wdf.high.rolling(hold).max().shift(-hold)\n",
    "    wdf['lr_fu'] = np.log(wdf.rfu / wdf.close)\n",
    "    wdf['lr_fd'] = np.log(wdf.rfd / wdf.close)\n",
    "    \n",
    "    wdf=wdf.join(wdf[['lr_fu', 'lr_fd']].apply(lambda x: x.multiply(100).round(2)).add_prefix('p'))\n",
    "    # wdf=wdf.join(wdf[['plr_fu', 'plr_fd', 'plr_wiu', 'plr_wid']].apply(lambda x: pd.qcut(x,ncuts)).add_prefix('q'))\n",
    "\n",
    "    # wdf['qmprfu'] = pd.qcut(wdf.mprfu, 10)\n",
    "    return wdf\n",
    "\n",
    "def call_mzn_spans(sdf,lag_n):\n",
    "    # \n",
    "    # bags = {f'g{key}': list(map(int, sorted(sdf[key].values.nonzero()[0] + 1))) for key in ['ba_sig', 'ba_is_beg', 'ba_is_end']}\n",
    "    bags = {f'g{key}': list(map(int, sorted(sdf[key].values.nonzero()[0] + 1))) for key in ['ba_sig', 'ba_is_beg', 'ba_is_end']}\n",
    "    model_params = {\n",
    "        'lag_n': lag_n, #'ba_sig': sdf.ba_sig.values.tolist(), 'ba_in': sdf.ba_in.values.tolist()\n",
    "         **{ key: sdf[key].values.tolist() for key in ['ba_in']},\n",
    "         **{ key: bags[key] for key in bags}\n",
    "    }\n",
    "    with open('spans.dzn.json', 'w+') as f: f.write(json.dumps(model_params, indent=2))\n",
    "\n",
    "    # print('Model params:', model_params)\n",
    "\n",
    "    # mzn_model = Model(\"./ranges.mzn\")\n",
    "    # gecode = Solver.lookup(\"gecode\")\n",
    "    # instance = Instance(gecode, mzn_model)\n",
    "\n",
    "    # for k,v in model_params.items(): instance[k] = v\n",
    "    # result = instance.solve()\n",
    "\n",
    "    # return result\n",
    "\n",
    "def make_spans(wdf, lag_n, max_rat):\n",
    "    sdf = pd.DataFrame({\n",
    "        'ba_max' : wdf.close.rolling(lag_n).max(),\n",
    "        'ba_min' : wdf.close.rolling(lag_n).min(),\n",
    "    }).fillna(method='bfill'\n",
    "    ).assign(ba_rat = lambda df:df['ba_max']/df['ba_min'] - 1\n",
    "    ).assign(ba_in=lambda x:(x['ba_rat'] <= max_rat) \n",
    "    ).assign(ba_sig=lambda x: x['ba_in'] & (~x['ba_in']).shift()\n",
    "    ).assign(ba_is_beg=lambda x:x['ba_sig'].shift(-(lag_n-1)).fillna(False)\n",
    "    ).assign(ba_lag=lambda x: x['ba_is_beg'].rolling(lag_n).max().fillna(0).astype(bool)\n",
    "    ).assign(ba_is_end=lambda x: x['ba_in'] & (~x['ba_in']).shift(-1))\n",
    "    sdf.at[sdf.index[-1] , 'ba_is_end'] = sdf.iloc[-1].ba_in\n",
    "\n",
    "\n",
    "    i_begends = np.array([sorted(sdf[key].values.nonzero()[0] + 1) for key in ['ba_is_beg', 'ba_is_end']])\n",
    "    spa_min_max = np.array([(x.min(),x.max()) for x in [wdf.iloc[r[0]:r[1]].close for r in i_begends.T]]).T\n",
    "    # ix_spans = [wdf.index[iba_begs[i]:iba_ends[i]+1] for i in range(len(iba_begs))]\n",
    "\n",
    "    sdf.to_csv('test.csv')\n",
    "    # call_mzn_spans(sdf, lag_n)\n",
    "    \n",
    "    # ba_is_beg, ba_is_end = [(map(int, sorted(sdf[key].values.nonzero()[0] + 1))) for key in ['ba_is_beg', 'ba_is_end']]\n",
    "\n",
    "    # spa_mins, spa_maxes = wdf.close.values[ba_is_beg].min(), wdf.close.values[ba_is_end].min()\n",
    "    return sdf, i_begends, spa_min_max\n",
    "\n",
    "lag_n, max_rat = 5, 0.015\n",
    "sdf, i_begends = make_spans(wdf, lag_n, max_rat)\n"
   ]
  },
  {
   "cell_type": "code",
   "execution_count": 3,
   "metadata": {},
   "outputs": [],
   "source": [
    "odf = load_candles('BTC_USDT', '4h')"
   ]
  },
  {
   "cell_type": "code",
   "execution_count": 11,
   "metadata": {},
   "outputs": [],
   "source": [
    "from minizinc import Instance, Model, Solver\n",
    "import nest_asyncio\n",
    "nest_asyncio.apply()"
   ]
  },
  {
   "cell_type": "code",
   "execution_count": null,
   "metadata": {},
   "outputs": [],
   "source": [
    "\n",
    "    # with open('all-swing_highs-result.json', 'w+') as f: f.write(json.dumps({'lha': result['lha'], 'nsn': result['nsn']}))\n",
    "\n",
    "\n",
    "    # with open('all-swing_highs-result.json') as f: result = json.loads(f.read())\n",
    "\n",
    "    # lha, nsn = resarr = [result['lha'],result['nsn']]\n",
    "    # print(f'nsn={nsn}\\nlha=\\n{lha[0]}\\n{lha[1]}')\n",
    "\n",
    "\n",
    "    # idxs = (np.array(lha) - 1).T.tolist()\n",
    "    # ##############################################################"
   ]
  },
  {
   "cell_type": "code",
   "execution_count": 174,
   "metadata": {},
   "outputs": [
    {
     "data": {
      "application/vnd.jupyter.widget-view+json": {
       "model_id": "f01ceeb424ba434585efbcdbebd614f3",
       "version_major": 2,
       "version_minor": 0
      },
      "text/plain": [
       "VBox(children=(HBox(children=(IntSlider(value=9, description='n2', max=14), IntSlider(value=1, description='w'…"
      ]
     },
     "metadata": {},
     "output_type": "display_data"
    },
    {
     "data": {
      "application/vnd.jupyter.widget-view+json": {
       "model_id": "230acf5c61164cd8b645e446e15662a6",
       "version_major": 2,
       "version_minor": 0
      },
      "text/plain": [
       "Output()"
      ]
     },
     "metadata": {},
     "output_type": "display_data"
    }
   ],
   "source": [
    "\n",
    "### Ranges\n",
    "from matplotlib import pyplot as plt\n",
    "\n",
    "strategy = 'stats-ranges'\n",
    "strategy_params_json = f'./{strategy}.json'\n",
    "\n",
    "mpl.rcParams.update({'font.size': 3, 'lines.linewidth': 0.5, 'figure.dpi': 300})\n",
    "\n",
    "dlen = len(odf)\n",
    "\n",
    "\n",
    "sl_n2= IntSlider(description=\"n2\", min=0, max=ceil(log(dlen, 2.0)+1), step=1, value=9)\n",
    "sl_w = IntSlider(description=\"w\", min=0, max=ceil(dlen/pow(2,sl_n2.value-1)-1), step=1, value=1)\n",
    "def update_sl_w_range(*args):\n",
    "    sl_w.max = ceil(dlen/pow(2,sl_n2.value-1)-1)\n",
    "sl_n2.observe(update_sl_w_range, 'value')\n",
    "\n",
    "sl_hold = IntSlider(value=7,min=1,max=50,step=1,description='Hold',continuous_update=False)\n",
    "sl_lag_n = IntSlider(value=5,min=1,max=50,step=1,description='lag_n',continuous_update=False)\n",
    "tx_max_rat = FloatText(value=0.05,min=0.01,max=0.1,step=0.001,description='max_rat',continuous_update=False)\n",
    "chk_candles = Checkbox(value=True, description='Candles', disabled=False)\n",
    "dd_dir = Dropdown(options=[('Up', 1), ('Down', -1)], value=1, description='Dir',)\n",
    "\n",
    "strategy_params = {\n",
    "    \"hold\": {'wdg': sl_hold},\n",
    "    \"candles\": {\"wdg\": chk_candles},\n",
    "    \"mdir\": {\"wdg\": dd_dir},\n",
    "    \"lag_n\": {\"wdg\": sl_lag_n},\n",
    "    \"max_rat\": {\"wdg\": tx_max_rat}\n",
    "}\n",
    "wdgts = [pv['wdg'] for pk, pv in strategy_params.items()]\n",
    "\n",
    "ui = widgets.VBox([\n",
    "    widgets.HBox([sl_n2, sl_w]),\n",
    "    widgets.VBox([widgets.HBox(wdgts[i:i+4]) for i in range(0, len(wdgts), 4)])\n",
    "])\n",
    "\n",
    "if os.path.exists(strategy_params_json):\n",
    "    with open(strategy_params_json) as f: \n",
    "        js = json.loads(f.read());\n",
    "        for k, v in strategy_params.items(): \n",
    "            if k in js: v['wdg'].value=js[k];\n",
    "\n",
    "else: print(f'File not found: {strategy_params_json}')\n",
    "\n",
    "wdf = None\n",
    "result = None\n",
    "\n",
    "def printer(\n",
    "        w2log, w, hold, candles, mdir, lag_n, max_rat\n",
    "):\n",
    "    global wdf\n",
    "    global result\n",
    "    with open(strategy_params_json, \"w\") as f: f.write(json.dumps({k: v['wdg'].value for k, v in strategy_params.items()}))\n",
    "    \n",
    "    \n",
    "    wsz = floor(pow(2,w2log))\n",
    "    wst = floor(w * wsz / 2)\n",
    "    wed = floor(wst + wsz)\n",
    "    \n",
    "    wdf = odf.iloc[wst:wed,:].copy()    \n",
    "    wlen = len(wdf)\n",
    "\n",
    "    sdf, ba_is_beg, ba_is_end = make_spans(wdf, lag_n, max_rat)\n",
    "    # spa_beg, spa_end = [wdf.index[x] for x in [ba_is_beg, ba_is_end]]\n",
    "    idx_spa_beg, idx_spa_end = wdf.index[ba_is_beg], wdf.index[ba_is_end]\n",
    "\n",
    "    print(f'N={len(wdf)}, Period: {wdf.index[-1] - wdf.index[0]}, Start: {wdf.index[0]}, End: {wdf.index[-1]}\\n')\n",
    "\n",
    "    plt.close('all')\n",
    "    fig = plt.figure(figsize=(9,3))\n",
    "\n",
    "    (ax1,ax2, ax3) = fig.subplots(3, 1, height_ratios=[3,1,1], sharex=True);\n",
    "    plot_candles(wdf, ax=ax1) if candles else ax1.plot(wdf.close, lw=0.3, c='b')\n",
    "\n",
    "out = widgets.interactive_output(printer, {\n",
    "        \"w2log\":sl_n2, \"w\":sl_w, \n",
    "        **{k : v['wdg'] for k,v in strategy_params.items()}\n",
    "    });\n",
    "x = display(ui, out);\n"
   ]
  },
  {
   "cell_type": "code",
   "execution_count": null,
   "metadata": {},
   "outputs": [],
   "source": []
  }
 ],
 "metadata": {
  "kernelspec": {
   "display_name": "py311",
   "language": "python",
   "name": "python3"
  },
  "language_info": {
   "codemirror_mode": {
    "name": "ipython",
    "version": 3
   },
   "file_extension": ".py",
   "mimetype": "text/x-python",
   "name": "python",
   "nbconvert_exporter": "python",
   "pygments_lexer": "ipython3",
   "version": "3.11.3"
  },
  "orig_nbformat": 4
 },
 "nbformat": 4,
 "nbformat_minor": 2
}
